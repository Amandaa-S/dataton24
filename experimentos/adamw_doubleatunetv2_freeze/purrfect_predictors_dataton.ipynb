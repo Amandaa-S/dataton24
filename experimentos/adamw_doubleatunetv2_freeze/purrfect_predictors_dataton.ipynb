{
  "cells": [
    {
      "cell_type": "markdown",
      "metadata": {},
      "source": [
        "## Carga modulo comun"
      ]
    },
    {
      "cell_type": "code",
      "execution_count": 1,
      "metadata": {},
      "outputs": [],
      "source": [
        "import sys\n",
        "import os\n",
        "sys.path.append(os.path.abspath('../../common'))"
      ]
    },
    {
      "cell_type": "code",
      "execution_count": 2,
      "metadata": {},
      "outputs": [],
      "source": [
        "import torch\n",
        "import torch.nn as nn\n",
        "import torch.nn.functional as F\n",
        "\n",
        "from purrfect.dataset import load_partition,save_partition, create_train_valid_loaders, RandomTransform\n",
        "\n",
        "from purrfect.training import train_model\n",
        "import torch.optim as optim\n",
        "\n",
        "from purrfect.active_learning import create_new_partition, test_model\n",
        "\n",
        "from sklearn.model_selection import train_test_split\n",
        "#from purrfect.submission import create_submission"
      ]
    },
    {
      "cell_type": "code",
      "execution_count": 3,
      "metadata": {},
      "outputs": [],
      "source": [
        "DEVICE = torch.device('cuda' if torch.cuda.is_available() else 'cpu')\n",
        "BATCH_SIZE = 32\n",
        "USE_AUTOCAST = True\n",
        "EARLY_STOPPING_PATIENCE = 5\n",
        "EARLY_STOPPING_GRACE_PERIOD = 8"
      ]
    },
    {
      "cell_type": "markdown",
      "metadata": {},
      "source": [
        "## Definición modelo"
      ]
    },
    {
      "cell_type": "code",
      "execution_count": 4,
      "metadata": {},
      "outputs": [],
      "source": [
        "class GradientMagnitude(nn.Module):\n",
        "    def __init__(self):\n",
        "        super(GradientMagnitude, self).__init__()\n",
        "        # Define Sobel filters for computing gradients in x and y directions\n",
        "        sobel_x = torch.tensor([[-1, 0, 1], [-2, 0, 2], [-1, 0, 1]], dtype=torch.float32,device=DEVICE)\n",
        "        sobel_y = torch.tensor([[-1, -2, -1], [0, 0, 0], [1, 2, 1]], dtype=torch.float32,device=DEVICE)\n",
        "        \n",
        "        # Sobel filters need to be reshaped for convolution: (out_channels, in_channels, height, width)\n",
        "        # Apply the filters across all channels by expanding them to shape (C, 1, 3, 3)\n",
        "        self.sobel_x = sobel_x.view(1, 1, 3, 3)\n",
        "        self.sobel_y = sobel_y.view(1, 1, 3, 3)\n",
        "    \n",
        "    def forward(self, x):\n",
        "        B, C, W, H = x.shape\n",
        "        \n",
        "        # Apply Sobel filters to compute gradients in x and y directions for all channels\n",
        "        grad_x = F.conv2d(x, self.sobel_x.expand(C, 1, 3, 3), groups=C, padding=1)\n",
        "        grad_y = F.conv2d(x, self.sobel_y.expand(C, 1, 3, 3), groups=C, padding=1)\n",
        "        \n",
        "        # Compute gradient magnitude: sqrt(grad_x^2 + grad_y^2)\n",
        "        grad_mag = torch.sqrt(grad_x**2 + grad_y**2)\n",
        "        \n",
        "        return grad_mag\n",
        "class ChannelAdder(nn.Module):\n",
        "    def __init__(self):\n",
        "        super(ChannelAdder, self).__init__()\n",
        "        self.grad_magnitude = GradientMagnitude()\n",
        "\n",
        "    def forward(self, x):\n",
        "        \n",
        "        # Extract the first, second, and third channels\n",
        "        e1 = x[:, 0, :, :].unsqueeze(1)  # e1 (first channel)\n",
        "        e2 = x[:, 1, :, :].unsqueeze(1)  # e2 (second channel)\n",
        "        delta = x[:, 2, :, :].unsqueeze(1)  # error (third channel)\n",
        "\n",
        "        # 1. Compute the first new channel: sqrt(first_channel^2 + second_channel^2)\n",
        "        magnitude = torch.sqrt(e1**2 + e2**2)\n",
        "\n",
        "        # 2. Compute the second new channel: 1/2 * arctan(channel2 / channel1)\n",
        "        angle = 0.5 * torch.atan(e1 / e2 )\n",
        "\n",
        "        e1_weighted = e1 / magnitude\n",
        "        e2_weighted = e2 / magnitude\n",
        "\n",
        "        cross_product = e1 * e2\n",
        "\n",
        "\n",
        "        \n",
        "\n",
        "\n",
        "        # 3. Compute Sobel gradients and Laplacians for e1 (first_channel)\n",
        "        \"\"\" grad_e1_x = F.conv2d(first_channel, self.sobel_x, padding=1)\n",
        "        grad_e1_y = F.conv2d(first_channel, self.sobel_y, padding=1)\n",
        "        grad_e1_magnitude = torch.sqrt(grad_e1_x**2 + grad_e1_y**2)\n",
        "\n",
        "        # 4. Compute Sobel gradients and Laplacians for e2 (second_channel)\n",
        "        grad_e2_x = F.conv2d(second_channel, self.sobel_x, padding=1)\n",
        "        grad_e2_y = F.conv2d(second_channel, self.sobel_y, padding=1)\n",
        "        grad_e2_magnitude = torch.sqrt(grad_e2_x**2 + grad_e2_y**2) \"\"\"\n",
        "\n",
        "        # 5. Compute weighted ellipticity channels (e1_weighted, e2_weighted)\n",
        "        #e1_weighted = first_channel / (third_channel + epsilon)\n",
        "        #e2_weighted = second_channel / (third_channel + epsilon)\n",
        "\n",
        "        # Concatenate all the channels (original and new) into the output tensor\n",
        "        output = torch.cat([\n",
        "            e1,\n",
        "            e2,\n",
        "            delta,\n",
        "            magnitude,\n",
        "            angle,\n",
        "            e1_weighted,\n",
        "            e2_weighted,\n",
        "            cross_product\n",
        "        ], dim=1)\n",
        "        output = torch.cat([output, self.grad_magnitude(output)], dim=1)\n",
        "\n",
        "        return output"
      ]
    },
    {
      "cell_type": "code",
      "execution_count": 5,
      "metadata": {},
      "outputs": [],
      "source": [
        "BN_MOMENTUM = 0.1\n",
        "def kaiming_init(module,\n",
        "                 a=0,\n",
        "                 mode='fan_out',\n",
        "                 nonlinearity='relu',\n",
        "                 bias=0,\n",
        "                 distribution='normal'):\n",
        "    assert distribution in ['uniform', 'normal']\n",
        "    if distribution == 'uniform':\n",
        "        nn.init.kaiming_uniform_(\n",
        "            module.weight, a=a, mode=mode, nonlinearity=nonlinearity)\n",
        "    else:\n",
        "        nn.init.kaiming_normal_(\n",
        "            module.weight, a=a, mode=mode, nonlinearity=nonlinearity)\n",
        "    if hasattr(module, 'bias') and module.bias is not None:\n",
        "        nn.init.constant_(module.bias, bias)\n",
        "class PA(nn.Module):\n",
        "    def __init__(self, inplanes, planes, kernel_size=1, stride=1):\n",
        "        super(PA, self).__init__()\n",
        "\n",
        "        self.inplanes = inplanes\n",
        "        self.inter_planes = planes // 2\n",
        "        self.planes = planes\n",
        "        self.kernel_size = kernel_size\n",
        "        self.stride = stride\n",
        "        self.padding = (kernel_size - 1) // 2\n",
        "        ratio = 4\n",
        "\n",
        "        self.conv_q_right = nn.Conv2d(self.inplanes, 1, kernel_size=1, stride=stride, padding=0, bias=False)\n",
        "        self.conv_v_right = nn.Conv2d(self.inplanes, self.inter_planes, kernel_size=1, stride=stride, padding=0,\n",
        "                                      bias=False)\n",
        "        # self.conv_up = nn.Conv2d(self.inter_planes, self.planes, kernel_size=1, stride=1, padding=0, bias=False)\n",
        "        self.conv_up = nn.Sequential(\n",
        "            nn.Conv2d(self.inter_planes, self.inter_planes // ratio, kernel_size=1),\n",
        "            nn.LayerNorm([self.inter_planes // ratio, 1, 1]),\n",
        "            nn.ReLU(inplace=True),\n",
        "            nn.Conv2d(self.inter_planes // ratio, self.planes, kernel_size=1)\n",
        "        )\n",
        "        self.softmax_right = nn.Softmax(dim=2)\n",
        "        self.sigmoid = nn.Sigmoid()\n",
        "\n",
        "        self.conv_q_left = nn.Conv2d(self.inplanes, self.inter_planes, kernel_size=1, stride=stride, padding=0,\n",
        "                                     bias=False)  # g\n",
        "        self.avg_pool = nn.AdaptiveAvgPool2d(1)\n",
        "        self.conv_v_left = nn.Conv2d(self.inplanes, self.inter_planes, kernel_size=1, stride=stride, padding=0,\n",
        "                                     bias=False)  # theta\n",
        "        self.softmax_left = nn.Softmax(dim=2)\n",
        "\n",
        "        self.reset_parameters()\n",
        "    def reset_parameters(self):\n",
        "        kaiming_init(self.conv_q_right, mode='fan_in')\n",
        "        kaiming_init(self.conv_v_right, mode='fan_in')\n",
        "        kaiming_init(self.conv_q_left, mode='fan_in')\n",
        "        kaiming_init(self.conv_v_left, mode='fan_in')\n",
        "\n",
        "        self.conv_q_right.inited = True\n",
        "        self.conv_v_right.inited = True\n",
        "        self.conv_q_left.inited = True\n",
        "        self.conv_v_left.inited = True\n",
        "\n",
        "    def spatial_pool_mask(self, x):\n",
        "        input_x = self.conv_v_right(x)\n",
        "\n",
        "        batch, channel, height, width = input_x.size()\n",
        "\n",
        "        # [N, IC, H*W]\n",
        "        input_x = input_x.view(batch, channel, height * width)\n",
        "\n",
        "        # [N, 1, H, W]\n",
        "        context_mask = self.conv_q_right(x)\n",
        "\n",
        "        # [N, 1, H*W]\n",
        "        context_mask = context_mask.view(batch, 1, height * width)\n",
        "\n",
        "        # [N, 1, H*W]\n",
        "        context_mask = self.softmax_right(context_mask)\n",
        "\n",
        "        # [N, IC, 1]\n",
        "        # context = torch.einsum('ndw,new->nde', input_x, context_mask)\n",
        "        context = torch.matmul(input_x, context_mask.transpose(1, 2))\n",
        "\n",
        "        # [N, IC, 1, 1]\n",
        "        context = context.unsqueeze(-1)\n",
        "\n",
        "        # [N, OC, 1, 1]\n",
        "        context = self.conv_up(context)\n",
        "\n",
        "        # [N, OC, 1, 1]\n",
        "        mask_ch = self.sigmoid(context)\n",
        "        return mask_ch\n",
        "\n",
        "    def channel_pool_mask(self, x):\n",
        "        # [N, IC, H, W]\n",
        "        g_x = self.conv_q_left(x)\n",
        "\n",
        "        batch, channel, height, width = g_x.size()\n",
        "\n",
        "        # [N, IC, 1, 1]\n",
        "        avg_x = self.avg_pool(g_x)\n",
        "\n",
        "        batch, channel, avg_x_h, avg_x_w = avg_x.size()\n",
        "\n",
        "        # [N, 1, IC]\n",
        "        avg_x = avg_x.view(batch, channel, avg_x_h * avg_x_w).permute(0, 2, 1)\n",
        "\n",
        "        # [N, IC, H*W]\n",
        "        theta_x = self.conv_v_left(x).view(batch, self.inter_planes, height * width)\n",
        "\n",
        "        # [N, IC, H*W]\n",
        "        theta_x = self.softmax_left(theta_x)\n",
        "\n",
        "        # [N, 1, H*W]\n",
        "        # context = torch.einsum('nde,new->ndw', avg_x, theta_x)\n",
        "        context = torch.matmul(avg_x, theta_x)\n",
        "\n",
        "        # [N, 1, H, W]\n",
        "        context = context.view(batch, 1, height, width)\n",
        "\n",
        "        # [N, 1, H, W]\n",
        "        mask_sp = self.sigmoid(context)\n",
        "        return mask_sp\n",
        "    def forward(self, x, y):\n",
        "        sp_mask = self.spatial_pool_mask(y)\n",
        "        ch_mask = self.channel_pool_mask(y)\n",
        "        return x * sp_mask * ch_mask\n",
        "    \n",
        "\n",
        "class PSA(nn.Module):\n",
        "    def __init__(self, inplanes, planes, kernel_size=1, stride=1):\n",
        "        super(PSA, self).__init__()\n",
        "        self.pa = PA(inplanes, planes, kernel_size, stride)\n",
        "\n",
        "    def forward(self, x):\n",
        "        return self.pa(x,x)\n",
        "\n",
        "class ConBnRelu(nn.Module):\n",
        "    def __init__(self, in_channels, out_channels, kernel_size, stride=1, padding=0, dilation=1,bias=False):\n",
        "        super(ConBnRelu, self).__init__()\n",
        "        self.conv = nn.Conv2d(in_channels, out_channels, kernel_size=kernel_size, stride=stride, padding=padding,\n",
        "                              dilation=dilation, bias=bias)\n",
        "        self.bn = nn.BatchNorm2d(out_channels, momentum=BN_MOMENTUM)\n",
        "        self.relu = nn.ReLU(inplace=True)\n",
        "    def forward(self, x):\n",
        "        out = self.conv(x)\n",
        "        out = self.bn(out)\n",
        "        out = self.relu(out)\n",
        "        return out\n",
        "class DoubleConv(nn.Module):\n",
        "    expansion = 1\n",
        "\n",
        "    def __init__(self, in_channels, out_channels, use_attention=True):\n",
        "        super(DoubleConv, self).__init__()\n",
        "        if use_attention:\n",
        "            self.seq = nn.Sequential(\n",
        "                ConBnRelu(in_channels, out_channels, kernel_size=3, stride=1, padding=1, bias=False),\n",
        "                PSA(out_channels, out_channels),\n",
        "                ConBnRelu(out_channels, out_channels, kernel_size=3, stride=1, padding=1, bias=False)\n",
        "            )\n",
        "        else:\n",
        "            self.seq = nn.Sequential(\n",
        "                ConBnRelu(in_channels, out_channels, kernel_size=3, stride=1, padding=1, bias=False),\n",
        "                ConBnRelu(out_channels, out_channels, kernel_size=3, stride=1, padding=1, bias=False)\n",
        "            )\n",
        "\n",
        "        self.rescale = nn.Conv2d(in_channels, out_channels, kernel_size=1, stride=1, padding=0, bias=False)\n",
        "\n",
        "    def forward(self, x):\n",
        "        return self.seq(x) + self.rescale(x)\n",
        "\n",
        "\n",
        "# Define the U-Net model\n",
        "class UNet(nn.Module):\n",
        "    def __init__(self, in_channels, out_channels, i_ch=16):\n",
        "        \"\"\"\n",
        "        :param in_channels: int, number of input channels\n",
        "        :param out_channels: int, number of output channels\n",
        "        :param i_ch: int, internal channels to use for the first DoubleConv\n",
        "        \"\"\"\n",
        "        super(UNet, self).__init__()\n",
        "        # Channel Adder\n",
        "        self.embedder = nn.Sequential(\n",
        "            DoubleConv(in_channels, i_ch),  # in_channelsx128x128 -> i_chx128x128\n",
        "            DoubleConv(i_ch, i_ch),  # i_chx128x128 -> i_chx128x128\n",
        "        )\n",
        "        # Encoder\n",
        "        self.encoder1 = nn.Sequential(\n",
        "            nn.AvgPool2d(2),  # i_chx128x128 -> i_chx64x64\n",
        "            DoubleConv(i_ch, i_ch * 2)  # i_chx64x64 -> (i_ch * 2)x64x64\n",
        "        )\n",
        "        self.encoder2 = nn.Sequential(\n",
        "            nn.AvgPool2d(2),  # (i_ch * 2)x64x64 -> (i_ch * 2)x32x32\n",
        "            DoubleConv(i_ch * 2, i_ch * 4)  # (i_ch * 2)x32x32 -> (i_ch * 4)x32x32\n",
        "        )\n",
        "        self.encoder3 = nn.Sequential(\n",
        "            nn.AvgPool2d(2),  # (i_ch * 4)x32x32 -> (i_ch * 4)x16x16\n",
        "            DoubleConv(i_ch * 4, i_ch * 8)  # (i_ch * 4)x16x16 -> (i_ch * 8)x16x16\n",
        "        )\n",
        "        self.encoder4 = nn.Sequential(\n",
        "            nn.AvgPool2d(2),  # (i_ch * 8)x16x16 -> (i_ch * 8)x8x8\n",
        "            DoubleConv(i_ch * 8, i_ch * 16)  # (i_ch * 8)x8x8 -> (i_ch * 16)x8x8\n",
        "        )\n",
        "\n",
        "        # Decoder\n",
        "        self.upconv4 = nn.ConvTranspose2d(i_ch * 16, i_ch * 8, kernel_size=2, stride=2)  # (i_ch * 16)x8x8 -> (i_ch * 8)x16x16\n",
        "        self.attention4 = PA(i_ch * 8, i_ch * 8)\n",
        "        self.decoder4 = DoubleConv(i_ch * 16, i_ch * 8)  # (i_ch * 16)x16x16 -> (i_ch * 8)x16x16\n",
        "\n",
        "        self.upconv3 = nn.ConvTranspose2d(i_ch * 8, i_ch * 4, kernel_size=2, stride=2)  # (i_ch * 8)x16x16 -> (i_ch * 4)x32x32\n",
        "        self.attention3 = PA(i_ch * 4, i_ch * 4)\n",
        "        self.decoder3 = DoubleConv(i_ch * 8, i_ch * 4)  # (i_ch * 8)x32x32 -> (i_ch * 4)x32x32\n",
        "\n",
        "        self.upconv2 = nn.ConvTranspose2d(i_ch * 4, i_ch * 2, kernel_size=2, stride=2)  # (i_ch * 4)x32x32 -> (i_ch * 2)x64x64\n",
        "        self.attention2 = PA(i_ch * 2, i_ch * 2)\n",
        "        self.decoder2 = DoubleConv(i_ch * 4, i_ch * 2)  # (i_ch * 4)x64x64 -> (i_ch * 2)x64x64\n",
        "\n",
        "        self.upconv1 = nn.ConvTranspose2d(i_ch * 2, i_ch, kernel_size=2, stride=2)  # (i_ch * 2)x64x64 -> i_chx128x128\n",
        "        self.attention1 = PA(i_ch, i_ch)\n",
        "        self.decoder1 = DoubleConv(i_ch * 2, i_ch)  # (i_ch * 2)x128x128 -> i_chx128x128\n",
        "\n",
        "        self.output = nn.Conv2d(i_ch, out_channels, kernel_size=1)  # i_chx128x128 -> out_channelsx128x128\n",
        "\n",
        "    def forward(self, x):\n",
        "        x = self.embedder(x)\n",
        "        # Encoder\n",
        "        e1 = self.encoder1(x)\n",
        "        e2 = self.encoder2(e1)\n",
        "        e3 = self.encoder3(e2)\n",
        "        e4 = self.encoder4(e3)\n",
        "        # Decoder with skip connections\n",
        "        d4 = self.upconv4(e4)\n",
        "        d4 = torch.cat((self.attention4(e3, d4), d4), dim=1)\n",
        "        d4 = self.decoder4(d4)\n",
        "\n",
        "        d3 = self.upconv3(d4)\n",
        "        d3 = torch.cat((self.attention3(e2, d3), d3), dim=1)\n",
        "        d3 = self.decoder3(d3)\n",
        "\n",
        "        d2 = self.upconv2(d3)\n",
        "        d2 = torch.cat((self.attention2(e1, d2), d2), dim=1)\n",
        "        d2 = self.decoder2(d2)\n",
        "\n",
        "        d1 = self.upconv1(d2)\n",
        "        d1 = torch.cat((self.attention1(x, d1), d1), dim=1)\n",
        "        d1 = self.decoder1(d1)\n",
        "\n",
        "        out = self.output(d1)\n",
        "        return out\n",
        "\n",
        "    def set_trainable_mode(self, mode):\n",
        "        \"\"\"\n",
        "        Freezes or unfreezes weights based on the mode.\n",
        "        \n",
        "        :param mode: str, one of ['full', 'last','first','none']\n",
        "        \"\"\"\n",
        "        if mode == 'full':\n",
        "            # Unfreeze all layers\n",
        "            for param in self.parameters():\n",
        "                param.requires_grad = True\n",
        "        elif mode == 'first':\n",
        "            # Freeze decoder and output, unfreeze encoder\n",
        "            self._set_requires_grad(self.embedder, True)\n",
        "            self._set_requires_grad(self.encoder1, True)\n",
        "            self._set_requires_grad(self.encoder2, True)\n",
        "            self._set_requires_grad(self.encoder3, True)\n",
        "            self._set_requires_grad(self.encoder4, True)\n",
        "            self._set_requires_grad(self.upconv4, False)\n",
        "            self._set_requires_grad(self.attention4, False)\n",
        "            self._set_requires_grad(self.decoder4, False)\n",
        "            self._set_requires_grad(self.upconv3, False)\n",
        "            self._set_requires_grad(self.attention3, False)\n",
        "            self._set_requires_grad(self.decoder3, False)\n",
        "            self._set_requires_grad(self.upconv2, False)\n",
        "            self._set_requires_grad(self.attention2, False)\n",
        "            self._set_requires_grad(self.decoder2, False)\n",
        "            self._set_requires_grad(self.upconv1, False)\n",
        "            self._set_requires_grad(self.attention1, False)\n",
        "            self._set_requires_grad(self.decoder1, False)\n",
        "            self._set_requires_grad(self.output, False)\n",
        "        elif mode == 'last':\n",
        "            # Freeze encoder, unfreeze decoder\n",
        "            self._set_requires_grad(self.embedder, False)\n",
        "            self._set_requires_grad(self.encoder1, False)\n",
        "            self._set_requires_grad(self.encoder2, False)\n",
        "            self._set_requires_grad(self.encoder3, False)\n",
        "            self._set_requires_grad(self.encoder4, False)\n",
        "            self._set_requires_grad(self.upconv4, True)\n",
        "            self._set_requires_grad(self.attention4, True)\n",
        "            self._set_requires_grad(self.decoder4, True)\n",
        "            self._set_requires_grad(self.upconv3, True)\n",
        "            self._set_requires_grad(self.attention3, True)\n",
        "            self._set_requires_grad(self.decoder3, True)\n",
        "            self._set_requires_grad(self.upconv2, True)\n",
        "            self._set_requires_grad(self.attention2, True)\n",
        "            self._set_requires_grad(self.decoder2, True)\n",
        "            self._set_requires_grad(self.upconv1, True)\n",
        "            self._set_requires_grad(self.attention1, True)\n",
        "            self._set_requires_grad(self.decoder1, True)\n",
        "            self._set_requires_grad(self.output, True)\n",
        "        elif mode == 'none':\n",
        "            # Freeze all layers\n",
        "            for param in self.parameters():\n",
        "                param.requires_grad = False\n",
        "\n",
        "    def _set_requires_grad(self, module, requires_grad):\n",
        "        \"\"\"\n",
        "        Sets the requires_grad attribute for all parameters in a module.\n",
        "\n",
        "        :param module: nn.Module\n",
        "        :param requires_grad: bool\n",
        "        \"\"\"\n",
        "        for param in module.parameters():\n",
        "            param.requires_grad = requires_grad\n",
        "\n",
        "class Magnitude(nn.Module):\n",
        "    def __init__(self, in_channels):\n",
        "        super(Magnitude, self).__init__()\n",
        "        self.conv = nn.Sequential(\n",
        "            DoubleConv(in_channels, 16, use_attention=False), # -> 16x128x128\n",
        "            nn.AvgPool2d(4), # -> 16x32x32\n",
        "            DoubleConv(16, 8, use_attention=False), # -> 8x32x32\n",
        "            nn.AvgPool2d(4), # -> 8x8x8\n",
        "            nn.Conv2d(8, 1, kernel_size=8) # -> 1x1x1\n",
        "        )\n",
        "    def forward(self, x):\n",
        "        return  self.conv(x)\n",
        "class KappaPredictor(nn.Module):\n",
        "    def __init__(self):\n",
        "        super(KappaPredictor, self).__init__()\n",
        "        total_channels = 16\n",
        "        self.channel_adder = ChannelAdder()\n",
        "        self.bn = nn.BatchNorm2d(total_channels)\n",
        "        self.unet1 = UNet(total_channels, total_channels) \n",
        "        self.attn1 = PA(total_channels, total_channels)\n",
        "        self.unet2 = UNet(2*total_channels, 1)\n",
        "    def set_trainable_mode(self, mode):\n",
        "        # Iterate over the sequential module's layers\n",
        "        if mode==\"full\":\n",
        "            for param in self.bn.parameters():\n",
        "                param.requires_grad = True \n",
        "            self.unet1.set_trainable_mode(\"full\")\n",
        "            for param in self.attn1.parameters():\n",
        "                param.requires_grad = True\n",
        "            self.unet2.set_trainable_mode(\"full\")\n",
        "            \n",
        "        elif mode==\"first\":\n",
        "            for param in self.bn.parameters():\n",
        "                param.requires_grad = True\n",
        "            self.unet1.set_trainable_mode(\"full\")\n",
        "            for param in self.attn1.parameters():\n",
        "                param.requires_grad = False\n",
        "            self.unet2.set_trainable_mode(\"none\")\n",
        "            \n",
        "        elif mode==\"last\":\n",
        "            for param in self.bn.parameters():\n",
        "                param.requires_grad = False\n",
        "            self.unet1.set_trainable_mode(\"none\")\n",
        "            for param in self.attn1.parameters():\n",
        "                param.requires_grad = True\n",
        "            self.unet2.set_trainable_mode(\"full\")\n",
        "            \n",
        "        \n",
        "    def forward(self, x):\n",
        "        x = self.channel_adder(x)\n",
        "        u1 = self.unet1(x)\n",
        "        u1 = torch.concat([self.attn1(x,u1),u1], dim=1)\n",
        "        u2 = self.unet2(u1)\n",
        "\n",
        "        return u2\n",
        "        \n",
        "        "
      ]
    },
    {
      "cell_type": "markdown",
      "metadata": {},
      "source": [
        "## Creación particion inicial"
      ]
    },
    {
      "cell_type": "code",
      "execution_count": 6,
      "metadata": {},
      "outputs": [],
      "source": [
        "def create_next_partitions(current_partition,k=1):#Creacion de particiones train y valid\n",
        "    init_partition = []\n",
        "    for i in range(k):\n",
        "        init_partition += load_partition(f\"partition_{k*current_partition+(i+1)}.json\")\n",
        "        #print(f\"partition_{k*current_partition+(i+1)}.json\")\n",
        "\n",
        "    train_partition, val_partition = train_test_split(init_partition, test_size=0.2, random_state=42)\n",
        "    save_partition(f\"partition_{current_partition+1}_train.json\",\"partitions\",train_partition)\n",
        "    save_partition(f\"partition_{current_partition+1}_val.json\",\"partitions\",val_partition)"
      ]
    },
    {
      "cell_type": "code",
      "execution_count": 7,
      "metadata": {},
      "outputs": [],
      "source": [
        "create_next_partitions(0,1)"
      ]
    },
    {
      "cell_type": "code",
      "execution_count": 8,
      "metadata": {},
      "outputs": [],
      "source": [
        "def many_partitions(start,end,model,criterion):\n",
        "    for current_partition in range(start,end):\n",
        "        if current_partition %2==1:\n",
        "            print(\"Change mode to training full\")\n",
        "            model.set_trainable_mode('full')\n",
        "        else:\n",
        "            print(\"Change mode to training last\")\n",
        "            model.set_trainable_mode('last')\n",
        "\n",
        "        train_loader, val_loader = create_train_valid_loaders(\n",
        "            f\"partition_{current_partition}_train.json\",\n",
        "            f\"partition_{current_partition}_val.json\",\n",
        "            \"partitions\",\n",
        "            batch_size=BATCH_SIZE,\n",
        "        )\n",
        "        best_model_path = os.path.join(\n",
        "            \"models\", f\"best_model_partition_{current_partition}.pth\"\n",
        "        )\n",
        "        last_checkpoint_path = os.path.join(\n",
        "            \"models\", f\"last_checkpoint_partition_{current_partition}.pth\"\n",
        "        )\n",
        "        optimizer = optim.AdamW(model.parameters())\n",
        "        train_model(\n",
        "            model,\n",
        "            train_loader,\n",
        "            val_loader,\n",
        "            best_model_path,\n",
        "            last_checkpoint_path,\n",
        "            criterion,\n",
        "            optimizer,\n",
        "            num_epochs=50,\n",
        "            device=DEVICE,\n",
        "            early_stopping_patience=EARLY_STOPPING_PATIENCE,\n",
        "            use_autocast=USE_AUTOCAST,\n",
        "            early_stopping_grace_period=EARLY_STOPPING_GRACE_PERIOD,\n",
        "        )\n",
        "        model.load_state_dict(torch.load(best_model_path,weights_only=True))\n",
        "        test_model(model,criterion,device=DEVICE,batch_size=BATCH_SIZE)\n",
        "        create_next_partitions(current_partition)\n",
        "        "
      ]
    },
    {
      "cell_type": "markdown",
      "metadata": {},
      "source": [
        "## Carga modelo"
      ]
    },
    {
      "cell_type": "code",
      "execution_count": 9,
      "metadata": {},
      "outputs": [],
      "source": [
        "#Define model\n",
        "model = KappaPredictor().to(DEVICE)\n",
        "# Define Loss\n",
        "criterion = torch.nn.L1Loss()\n",
        "transform = RandomTransform()"
      ]
    },
    {
      "cell_type": "code",
      "execution_count": 10,
      "metadata": {},
      "outputs": [
        {
          "data": {
            "text/plain": [
              "4523743"
            ]
          },
          "execution_count": 10,
          "metadata": {},
          "output_type": "execute_result"
        }
      ],
      "source": [
        "sum([p.numel() for p in model.parameters() if p.requires_grad])"
      ]
    },
    {
      "cell_type": "code",
      "execution_count": 11,
      "metadata": {},
      "outputs": [
        {
          "name": "stdout",
          "output_type": "stream",
          "text": [
            "Change mode to training full\n",
            "Epoch [1/50]\n"
          ]
        },
        {
          "name": "stderr",
          "output_type": "stream",
          "text": [
            "Train Epoch 1: 100%|██████████| 154/154 [01:04<00:00,  2.38it/s, WMAPE=10.2, DICE=0.429, DPEAKS=201, Loss=0.0406]\n",
            "Validate Epoch 1: 100%|██████████| 39/39 [00:06<00:00,  5.75it/s, WMAPE=4.68, DICE=0.257, DPEAKS=162, Loss=0.0208]\n"
          ]
        },
        {
          "name": "stdout",
          "output_type": "stream",
          "text": [
            "Saving best model\n",
            "Epoch [2/50]\n"
          ]
        },
        {
          "name": "stderr",
          "output_type": "stream",
          "text": [
            "Train Epoch 2: 100%|██████████| 154/154 [01:03<00:00,  2.43it/s, WMAPE=4.45, DICE=0.212, DPEAKS=143, Loss=0.0171]\n",
            "Validate Epoch 2: 100%|██████████| 39/39 [00:06<00:00,  5.94it/s, WMAPE=43, DICE=0.449, DPEAKS=222, Loss=0.143]\n"
          ]
        },
        {
          "name": "stdout",
          "output_type": "stream",
          "text": [
            "Epoch [3/50]\n"
          ]
        },
        {
          "name": "stderr",
          "output_type": "stream",
          "text": [
            "Train Epoch 3: 100%|██████████| 154/154 [01:03<00:00,  2.42it/s, WMAPE=3.81, DICE=0.168, DPEAKS=115, Loss=0.0131]\n",
            "Validate Epoch 3: 100%|██████████| 39/39 [00:06<00:00,  5.92it/s, WMAPE=4.9, DICE=0.153, DPEAKS=104, Loss=0.0148]\n"
          ]
        },
        {
          "name": "stdout",
          "output_type": "stream",
          "text": [
            "Saving best model\n",
            "Epoch [4/50]\n"
          ]
        },
        {
          "name": "stderr",
          "output_type": "stream",
          "text": [
            "Train Epoch 4: 100%|██████████| 154/154 [01:03<00:00,  2.43it/s, WMAPE=3.56, DICE=0.143, DPEAKS=91.2, Loss=0.0116]\n",
            "Validate Epoch 4: 100%|██████████| 39/39 [00:06<00:00,  5.77it/s, WMAPE=9.91, DICE=0.164, DPEAKS=98.4, Loss=0.0301]\n"
          ]
        },
        {
          "name": "stdout",
          "output_type": "stream",
          "text": [
            "Epoch [5/50]\n"
          ]
        },
        {
          "name": "stderr",
          "output_type": "stream",
          "text": [
            "Train Epoch 5: 100%|██████████| 154/154 [01:03<00:00,  2.43it/s, WMAPE=3.26, DICE=0.13, DPEAKS=85.3, Loss=0.0107]\n",
            "Validate Epoch 5: 100%|██████████| 39/39 [00:06<00:00,  5.96it/s, WMAPE=9.39, DICE=0.245, DPEAKS=129, Loss=0.0282]\n"
          ]
        },
        {
          "name": "stdout",
          "output_type": "stream",
          "text": [
            "Epoch [6/50]\n"
          ]
        },
        {
          "name": "stderr",
          "output_type": "stream",
          "text": [
            "Train Epoch 6: 100%|██████████| 154/154 [01:03<00:00,  2.43it/s, WMAPE=3.31, DICE=0.137, DPEAKS=87.1, Loss=0.011]\n",
            "Validate Epoch 6: 100%|██████████| 39/39 [00:06<00:00,  5.93it/s, WMAPE=2.79, DICE=0.118, DPEAKS=76.7, Loss=0.00903]\n"
          ]
        },
        {
          "name": "stdout",
          "output_type": "stream",
          "text": [
            "Saving best model\n",
            "Epoch [7/50]\n"
          ]
        },
        {
          "name": "stderr",
          "output_type": "stream",
          "text": [
            "Train Epoch 7: 100%|██████████| 154/154 [01:03<00:00,  2.42it/s, WMAPE=3.02, DICE=0.121, DPEAKS=76.1, Loss=0.00974]\n",
            "Validate Epoch 7: 100%|██████████| 39/39 [00:06<00:00,  5.79it/s, WMAPE=15, DICE=0.123, DPEAKS=90.3, Loss=0.0439]\n"
          ]
        },
        {
          "name": "stdout",
          "output_type": "stream",
          "text": [
            "Epoch [8/50]\n"
          ]
        },
        {
          "name": "stderr",
          "output_type": "stream",
          "text": [
            "Train Epoch 8: 100%|██████████| 154/154 [01:03<00:00,  2.42it/s, WMAPE=2.96, DICE=0.116, DPEAKS=72.9, Loss=0.0094]\n",
            "Validate Epoch 8: 100%|██████████| 39/39 [00:06<00:00,  5.89it/s, WMAPE=7.46, DICE=0.129, DPEAKS=85.4, Loss=0.0223]\n"
          ]
        },
        {
          "name": "stdout",
          "output_type": "stream",
          "text": [
            "Epoch [9/50]\n"
          ]
        },
        {
          "name": "stderr",
          "output_type": "stream",
          "text": [
            "Train Epoch 9: 100%|██████████| 154/154 [01:03<00:00,  2.42it/s, WMAPE=2.89, DICE=0.115, DPEAKS=73.4, Loss=0.0092]\n",
            "Validate Epoch 9: 100%|██████████| 39/39 [00:06<00:00,  5.85it/s, WMAPE=7.31, DICE=0.112, DPEAKS=75.8, Loss=0.0227]\n"
          ]
        },
        {
          "name": "stdout",
          "output_type": "stream",
          "text": [
            "Epoch [10/50]\n"
          ]
        },
        {
          "name": "stderr",
          "output_type": "stream",
          "text": [
            "Train Epoch 10: 100%|██████████| 154/154 [01:03<00:00,  2.42it/s, WMAPE=2.78, DICE=0.11, DPEAKS=70.9, Loss=0.00886]\n",
            "Validate Epoch 10: 100%|██████████| 39/39 [00:06<00:00,  5.86it/s, WMAPE=7.55, DICE=0.127, DPEAKS=93, Loss=0.0218]\n"
          ]
        },
        {
          "name": "stdout",
          "output_type": "stream",
          "text": [
            "Epoch [11/50]\n"
          ]
        },
        {
          "name": "stderr",
          "output_type": "stream",
          "text": [
            "Train Epoch 11: 100%|██████████| 154/154 [01:03<00:00,  2.42it/s, WMAPE=2.79, DICE=0.107, DPEAKS=70.3, Loss=0.00879]\n",
            "Validate Epoch 11: 100%|██████████| 39/39 [00:06<00:00,  5.88it/s, WMAPE=5.81, DICE=0.108, DPEAKS=71.4, Loss=0.0162]\n"
          ]
        },
        {
          "name": "stdout",
          "output_type": "stream",
          "text": [
            "early stopping: 5 epochs without improvement\n",
            "Training complete.\n"
          ]
        },
        {
          "name": "stderr",
          "output_type": "stream",
          "text": [
            "Validate Epoch test: 100%|██████████| 971/971 [03:29<00:00,  4.63it/s, WMAPE=2.81, DICE=0.118, DPEAKS=73.4, Loss=0.0092]\n"
          ]
        },
        {
          "name": "stdout",
          "output_type": "stream",
          "text": [
            "Change mode to training last\n",
            "Epoch [1/50]\n"
          ]
        },
        {
          "name": "stderr",
          "output_type": "stream",
          "text": [
            "Train Epoch 1: 100%|██████████| 154/154 [00:50<00:00,  3.04it/s, WMAPE=3.28, DICE=0.13, DPEAKS=80.4, Loss=0.0104]\n",
            "Validate Epoch 1: 100%|██████████| 39/39 [00:07<00:00,  5.03it/s, WMAPE=9.99, DICE=0.121, DPEAKS=86.5, Loss=0.0289]\n"
          ]
        },
        {
          "name": "stdout",
          "output_type": "stream",
          "text": [
            "Saving best model\n",
            "Epoch [2/50]\n"
          ]
        },
        {
          "name": "stderr",
          "output_type": "stream",
          "text": [
            "Train Epoch 2: 100%|██████████| 154/154 [00:45<00:00,  3.38it/s, WMAPE=3.03, DICE=0.12, DPEAKS=79.6, Loss=0.00985]\n",
            "Validate Epoch 2: 100%|██████████| 39/39 [00:06<00:00,  6.01it/s, WMAPE=7.18, DICE=0.119, DPEAKS=78.2, Loss=0.0214]\n"
          ]
        },
        {
          "name": "stdout",
          "output_type": "stream",
          "text": [
            "Saving best model\n",
            "Epoch [3/50]\n"
          ]
        },
        {
          "name": "stderr",
          "output_type": "stream",
          "text": [
            "Train Epoch 3: 100%|██████████| 154/154 [00:45<00:00,  3.38it/s, WMAPE=2.92, DICE=0.114, DPEAKS=69.5, Loss=0.0093]\n",
            "Validate Epoch 3: 100%|██████████| 39/39 [00:06<00:00,  5.92it/s, WMAPE=7.43, DICE=0.127, DPEAKS=81.8, Loss=0.0224]\n"
          ]
        },
        {
          "name": "stdout",
          "output_type": "stream",
          "text": [
            "Epoch [4/50]\n"
          ]
        },
        {
          "name": "stderr",
          "output_type": "stream",
          "text": [
            "Train Epoch 4: 100%|██████████| 154/154 [00:45<00:00,  3.36it/s, WMAPE=2.91, DICE=0.113, DPEAKS=70, Loss=0.00921]\n",
            "Validate Epoch 4: 100%|██████████| 39/39 [00:06<00:00,  5.85it/s, WMAPE=3.76, DICE=0.111, DPEAKS=61.4, Loss=0.012]\n"
          ]
        },
        {
          "name": "stdout",
          "output_type": "stream",
          "text": [
            "Saving best model\n",
            "Epoch [5/50]\n"
          ]
        },
        {
          "name": "stderr",
          "output_type": "stream",
          "text": [
            "Train Epoch 5: 100%|██████████| 154/154 [00:45<00:00,  3.35it/s, WMAPE=2.71, DICE=0.106, DPEAKS=64.3, Loss=0.00859]\n",
            "Validate Epoch 5: 100%|██████████| 39/39 [00:06<00:00,  5.94it/s, WMAPE=4.46, DICE=0.103, DPEAKS=63, Loss=0.0138]\n"
          ]
        },
        {
          "name": "stdout",
          "output_type": "stream",
          "text": [
            "Epoch [6/50]\n"
          ]
        },
        {
          "name": "stderr",
          "output_type": "stream",
          "text": [
            "Train Epoch 6: 100%|██████████| 154/154 [00:45<00:00,  3.36it/s, WMAPE=2.73, DICE=0.103, DPEAKS=59.4, Loss=0.00847]\n",
            "Validate Epoch 6: 100%|██████████| 39/39 [00:06<00:00,  5.89it/s, WMAPE=3.49, DICE=0.103, DPEAKS=57, Loss=0.00987]\n"
          ]
        },
        {
          "name": "stdout",
          "output_type": "stream",
          "text": [
            "Saving best model\n",
            "Epoch [7/50]\n"
          ]
        },
        {
          "name": "stderr",
          "output_type": "stream",
          "text": [
            "Train Epoch 7: 100%|██████████| 154/154 [00:45<00:00,  3.36it/s, WMAPE=2.68, DICE=0.101, DPEAKS=59, Loss=0.00836]\n",
            "Validate Epoch 7: 100%|██████████| 39/39 [00:06<00:00,  6.01it/s, WMAPE=4.22, DICE=0.101, DPEAKS=58.3, Loss=0.0127]\n"
          ]
        },
        {
          "name": "stdout",
          "output_type": "stream",
          "text": [
            "Epoch [8/50]\n"
          ]
        },
        {
          "name": "stderr",
          "output_type": "stream",
          "text": [
            "Train Epoch 8: 100%|██████████| 154/154 [00:45<00:00,  3.37it/s, WMAPE=2.64, DICE=0.0998, DPEAKS=58.2, Loss=0.00827]\n",
            "Validate Epoch 8: 100%|██████████| 39/39 [00:06<00:00,  5.93it/s, WMAPE=3.58, DICE=0.103, DPEAKS=60.6, Loss=0.0112]\n"
          ]
        },
        {
          "name": "stdout",
          "output_type": "stream",
          "text": [
            "Epoch [9/50]\n"
          ]
        },
        {
          "name": "stderr",
          "output_type": "stream",
          "text": [
            "Train Epoch 9: 100%|██████████| 154/154 [00:45<00:00,  3.38it/s, WMAPE=2.57, DICE=0.098, DPEAKS=56.9, Loss=0.00805]\n",
            "Validate Epoch 9: 100%|██████████| 39/39 [00:06<00:00,  5.90it/s, WMAPE=3.7, DICE=0.0974, DPEAKS=58.5, Loss=0.011]\n"
          ]
        },
        {
          "name": "stdout",
          "output_type": "stream",
          "text": [
            "Epoch [10/50]\n"
          ]
        },
        {
          "name": "stderr",
          "output_type": "stream",
          "text": [
            "Train Epoch 10: 100%|██████████| 154/154 [00:45<00:00,  3.38it/s, WMAPE=2.48, DICE=0.0968, DPEAKS=55.7, Loss=0.0078]\n",
            "Validate Epoch 10: 100%|██████████| 39/39 [00:06<00:00,  5.99it/s, WMAPE=8.47, DICE=0.173, DPEAKS=78, Loss=0.0275]\n"
          ]
        },
        {
          "name": "stdout",
          "output_type": "stream",
          "text": [
            "Epoch [11/50]\n"
          ]
        },
        {
          "name": "stderr",
          "output_type": "stream",
          "text": [
            "Train Epoch 11: 100%|██████████| 154/154 [00:45<00:00,  3.38it/s, WMAPE=3.01, DICE=0.122, DPEAKS=79, Loss=0.00967]\n",
            "Validate Epoch 11: 100%|██████████| 39/39 [00:06<00:00,  5.99it/s, WMAPE=3.33, DICE=0.105, DPEAKS=59.3, Loss=0.00994]\n"
          ]
        },
        {
          "name": "stdout",
          "output_type": "stream",
          "text": [
            "early stopping: 5 epochs without improvement\n",
            "Training complete.\n"
          ]
        },
        {
          "name": "stderr",
          "output_type": "stream",
          "text": [
            "Validate Epoch test: 100%|██████████| 971/971 [03:24<00:00,  4.75it/s, WMAPE=3.43, DICE=0.103, DPEAKS=59.5, Loss=0.00987]\n"
          ]
        },
        {
          "name": "stdout",
          "output_type": "stream",
          "text": [
            "Change mode to training full\n",
            "Epoch [1/50]\n"
          ]
        },
        {
          "name": "stderr",
          "output_type": "stream",
          "text": [
            "Train Epoch 1: 100%|██████████| 154/154 [01:07<00:00,  2.30it/s, WMAPE=2.81, DICE=0.105, DPEAKS=63.4, Loss=0.00878]\n",
            "Validate Epoch 1: 100%|██████████| 39/39 [00:07<00:00,  4.98it/s, WMAPE=5.45, DICE=0.105, DPEAKS=67.7, Loss=0.0155]\n"
          ]
        },
        {
          "name": "stdout",
          "output_type": "stream",
          "text": [
            "Saving best model\n",
            "Epoch [2/50]\n"
          ]
        },
        {
          "name": "stderr",
          "output_type": "stream",
          "text": [
            "Train Epoch 2: 100%|██████████| 154/154 [01:00<00:00,  2.55it/s, WMAPE=2.7, DICE=0.1, DPEAKS=61.8, Loss=0.00842]\n",
            "Validate Epoch 2: 100%|██████████| 39/39 [00:06<00:00,  6.23it/s, WMAPE=5.85, DICE=0.13, DPEAKS=73.5, Loss=0.0184]\n"
          ]
        },
        {
          "name": "stdout",
          "output_type": "stream",
          "text": [
            "Epoch [3/50]\n"
          ]
        },
        {
          "name": "stderr",
          "output_type": "stream",
          "text": [
            "Train Epoch 3: 100%|██████████| 154/154 [00:59<00:00,  2.60it/s, WMAPE=2.63, DICE=0.1, DPEAKS=59.1, Loss=0.00818]\n",
            "Validate Epoch 3: 100%|██████████| 39/39 [00:06<00:00,  6.34it/s, WMAPE=3.37, DICE=0.117, DPEAKS=66.2, Loss=0.011]\n"
          ]
        },
        {
          "name": "stdout",
          "output_type": "stream",
          "text": [
            "Saving best model\n",
            "Epoch [4/50]\n"
          ]
        },
        {
          "name": "stderr",
          "output_type": "stream",
          "text": [
            "Train Epoch 4: 100%|██████████| 154/154 [00:59<00:00,  2.60it/s, WMAPE=2.57, DICE=0.0963, DPEAKS=56.5, Loss=0.00794]\n",
            "Validate Epoch 4: 100%|██████████| 39/39 [00:06<00:00,  6.28it/s, WMAPE=4.02, DICE=0.0931, DPEAKS=61.3, Loss=0.0121]\n"
          ]
        },
        {
          "name": "stdout",
          "output_type": "stream",
          "text": [
            "Epoch [5/50]\n"
          ]
        },
        {
          "name": "stderr",
          "output_type": "stream",
          "text": [
            "Train Epoch 5: 100%|██████████| 154/154 [00:59<00:00,  2.59it/s, WMAPE=2.5, DICE=0.0942, DPEAKS=54.7, Loss=0.00768]\n",
            "Validate Epoch 5: 100%|██████████| 39/39 [00:06<00:00,  6.27it/s, WMAPE=4.03, DICE=0.124, DPEAKS=71.5, Loss=0.0117]\n"
          ]
        },
        {
          "name": "stdout",
          "output_type": "stream",
          "text": [
            "Epoch [6/50]\n"
          ]
        },
        {
          "name": "stderr",
          "output_type": "stream",
          "text": [
            "Train Epoch 6: 100%|██████████| 154/154 [01:00<00:00,  2.56it/s, WMAPE=2.52, DICE=0.0942, DPEAKS=55.8, Loss=0.00786]\n",
            "Validate Epoch 6: 100%|██████████| 39/39 [00:06<00:00,  6.46it/s, WMAPE=4.42, DICE=0.0933, DPEAKS=60.1, Loss=0.013]\n"
          ]
        },
        {
          "name": "stdout",
          "output_type": "stream",
          "text": [
            "Epoch [7/50]\n"
          ]
        },
        {
          "name": "stderr",
          "output_type": "stream",
          "text": [
            "Train Epoch 7: 100%|██████████| 154/154 [01:01<00:00,  2.50it/s, WMAPE=2.55, DICE=0.0976, DPEAKS=57.5, Loss=0.00796]\n",
            "Validate Epoch 7: 100%|██████████| 39/39 [00:06<00:00,  5.93it/s, WMAPE=2.44, DICE=0.0954, DPEAKS=55.5, Loss=0.00755]\n"
          ]
        },
        {
          "name": "stdout",
          "output_type": "stream",
          "text": [
            "Saving best model\n",
            "Epoch [8/50]\n"
          ]
        },
        {
          "name": "stderr",
          "output_type": "stream",
          "text": [
            "Train Epoch 8: 100%|██████████| 154/154 [01:00<00:00,  2.53it/s, WMAPE=2.49, DICE=0.0934, DPEAKS=55.5, Loss=0.00773]\n",
            "Validate Epoch 8: 100%|██████████| 39/39 [00:06<00:00,  6.14it/s, WMAPE=6.31, DICE=0.0989, DPEAKS=62.7, Loss=0.0178]\n"
          ]
        },
        {
          "name": "stdout",
          "output_type": "stream",
          "text": [
            "Epoch [9/50]\n"
          ]
        },
        {
          "name": "stderr",
          "output_type": "stream",
          "text": [
            "Train Epoch 9: 100%|██████████| 154/154 [01:01<00:00,  2.52it/s, WMAPE=2.34, DICE=0.0903, DPEAKS=52.7, Loss=0.00723]\n",
            "Validate Epoch 9: 100%|██████████| 39/39 [00:06<00:00,  6.19it/s, WMAPE=3.11, DICE=0.0921, DPEAKS=53.7, Loss=0.01]\n"
          ]
        },
        {
          "name": "stdout",
          "output_type": "stream",
          "text": [
            "Epoch [10/50]\n"
          ]
        },
        {
          "name": "stderr",
          "output_type": "stream",
          "text": [
            "Train Epoch 10: 100%|██████████| 154/154 [00:59<00:00,  2.58it/s, WMAPE=2.35, DICE=0.0905, DPEAKS=53.5, Loss=0.00733]\n",
            "Validate Epoch 10: 100%|██████████| 39/39 [00:06<00:00,  6.40it/s, WMAPE=2.73, DICE=0.091, DPEAKS=52.3, Loss=0.00815]\n"
          ]
        },
        {
          "name": "stdout",
          "output_type": "stream",
          "text": [
            "Epoch [11/50]\n"
          ]
        },
        {
          "name": "stderr",
          "output_type": "stream",
          "text": [
            "Train Epoch 11: 100%|██████████| 154/154 [01:00<00:00,  2.55it/s, WMAPE=2.28, DICE=0.0889, DPEAKS=51.3, Loss=0.00707]\n",
            "Validate Epoch 11: 100%|██████████| 39/39 [00:06<00:00,  6.31it/s, WMAPE=2.69, DICE=0.0949, DPEAKS=60.5, Loss=0.00859]\n"
          ]
        },
        {
          "name": "stdout",
          "output_type": "stream",
          "text": [
            "Epoch [12/50]\n"
          ]
        },
        {
          "name": "stderr",
          "output_type": "stream",
          "text": [
            "Train Epoch 12: 100%|██████████| 154/154 [01:00<00:00,  2.56it/s, WMAPE=2.19, DICE=0.0875, DPEAKS=50.4, Loss=0.00674]\n",
            "Validate Epoch 12: 100%|██████████| 39/39 [00:06<00:00,  6.30it/s, WMAPE=2.93, DICE=0.0892, DPEAKS=51.6, Loss=0.00858]\n"
          ]
        },
        {
          "name": "stdout",
          "output_type": "stream",
          "text": [
            "early stopping: 5 epochs without improvement\n",
            "Training complete.\n"
          ]
        },
        {
          "name": "stderr",
          "output_type": "stream",
          "text": [
            "Validate Epoch test: 100%|██████████| 971/971 [03:21<00:00,  4.81it/s, WMAPE=2.53, DICE=0.0953, DPEAKS=56.1, Loss=0.00757]\n"
          ]
        },
        {
          "name": "stdout",
          "output_type": "stream",
          "text": [
            "Change mode to training last\n",
            "Epoch [1/50]\n"
          ]
        },
        {
          "name": "stderr",
          "output_type": "stream",
          "text": [
            "Train Epoch 1: 100%|██████████| 154/154 [00:44<00:00,  3.43it/s, WMAPE=2.61, DICE=0.0945, DPEAKS=55.3, Loss=0.00797]\n",
            "Validate Epoch 1: 100%|██████████| 39/39 [00:06<00:00,  5.67it/s, WMAPE=11.1, DICE=0.1, DPEAKS=72.3, Loss=0.0319]\n"
          ]
        },
        {
          "name": "stdout",
          "output_type": "stream",
          "text": [
            "Saving best model\n",
            "Epoch [2/50]\n"
          ]
        },
        {
          "name": "stderr",
          "output_type": "stream",
          "text": [
            "Train Epoch 2: 100%|██████████| 154/154 [00:46<00:00,  3.34it/s, WMAPE=2.51, DICE=0.092, DPEAKS=52.6, Loss=0.00775]\n",
            "Validate Epoch 2: 100%|██████████| 39/39 [00:06<00:00,  6.24it/s, WMAPE=2.51, DICE=0.0949, DPEAKS=56.2, Loss=0.00745]\n"
          ]
        },
        {
          "name": "stdout",
          "output_type": "stream",
          "text": [
            "Saving best model\n",
            "Epoch [3/50]\n"
          ]
        },
        {
          "name": "stderr",
          "output_type": "stream",
          "text": [
            "Train Epoch 3: 100%|██████████| 154/154 [00:44<00:00,  3.48it/s, WMAPE=2.46, DICE=0.0903, DPEAKS=51.6, Loss=0.00756]\n",
            "Validate Epoch 3: 100%|██████████| 39/39 [00:06<00:00,  5.97it/s, WMAPE=9.42, DICE=0.0999, DPEAKS=64.5, Loss=0.0258]\n"
          ]
        },
        {
          "name": "stdout",
          "output_type": "stream",
          "text": [
            "Epoch [4/50]\n"
          ]
        },
        {
          "name": "stderr",
          "output_type": "stream",
          "text": [
            "Train Epoch 4:  71%|███████   | 109/154 [00:33<00:13,  3.26it/s, loss=0.00772]"
          ]
        },
        {
          "ename": "KeyboardInterrupt",
          "evalue": "",
          "output_type": "error",
          "traceback": [
            "\u001b[0;31m---------------------------------------------------------------------------\u001b[0m",
            "\u001b[0;31mKeyboardInterrupt\u001b[0m                         Traceback (most recent call last)",
            "Cell \u001b[0;32mIn[11], line 1\u001b[0m\n\u001b[0;32m----> 1\u001b[0m \u001b[43mmany_partitions\u001b[49m\u001b[43m(\u001b[49m\u001b[38;5;241;43m1\u001b[39;49m\u001b[43m,\u001b[49m\u001b[38;5;241;43m6\u001b[39;49m\u001b[43m,\u001b[49m\u001b[43mmodel\u001b[49m\u001b[43m,\u001b[49m\u001b[43mcriterion\u001b[49m\u001b[43m)\u001b[49m\n",
            "Cell \u001b[0;32mIn[8], line 23\u001b[0m, in \u001b[0;36mmany_partitions\u001b[0;34m(start, end, model, criterion)\u001b[0m\n\u001b[1;32m     19\u001b[0m last_checkpoint_path \u001b[38;5;241m=\u001b[39m os\u001b[38;5;241m.\u001b[39mpath\u001b[38;5;241m.\u001b[39mjoin(\n\u001b[1;32m     20\u001b[0m     \u001b[38;5;124m\"\u001b[39m\u001b[38;5;124mmodels\u001b[39m\u001b[38;5;124m\"\u001b[39m, \u001b[38;5;124mf\u001b[39m\u001b[38;5;124m\"\u001b[39m\u001b[38;5;124mlast_checkpoint_partition_\u001b[39m\u001b[38;5;132;01m{\u001b[39;00mcurrent_partition\u001b[38;5;132;01m}\u001b[39;00m\u001b[38;5;124m.pth\u001b[39m\u001b[38;5;124m\"\u001b[39m\n\u001b[1;32m     21\u001b[0m )\n\u001b[1;32m     22\u001b[0m optimizer \u001b[38;5;241m=\u001b[39m optim\u001b[38;5;241m.\u001b[39mAdamW(model\u001b[38;5;241m.\u001b[39mparameters())\n\u001b[0;32m---> 23\u001b[0m \u001b[43mtrain_model\u001b[49m\u001b[43m(\u001b[49m\n\u001b[1;32m     24\u001b[0m \u001b[43m    \u001b[49m\u001b[43mmodel\u001b[49m\u001b[43m,\u001b[49m\n\u001b[1;32m     25\u001b[0m \u001b[43m    \u001b[49m\u001b[43mtrain_loader\u001b[49m\u001b[43m,\u001b[49m\n\u001b[1;32m     26\u001b[0m \u001b[43m    \u001b[49m\u001b[43mval_loader\u001b[49m\u001b[43m,\u001b[49m\n\u001b[1;32m     27\u001b[0m \u001b[43m    \u001b[49m\u001b[43mbest_model_path\u001b[49m\u001b[43m,\u001b[49m\n\u001b[1;32m     28\u001b[0m \u001b[43m    \u001b[49m\u001b[43mlast_checkpoint_path\u001b[49m\u001b[43m,\u001b[49m\n\u001b[1;32m     29\u001b[0m \u001b[43m    \u001b[49m\u001b[43mcriterion\u001b[49m\u001b[43m,\u001b[49m\n\u001b[1;32m     30\u001b[0m \u001b[43m    \u001b[49m\u001b[43moptimizer\u001b[49m\u001b[43m,\u001b[49m\n\u001b[1;32m     31\u001b[0m \u001b[43m    \u001b[49m\u001b[43mnum_epochs\u001b[49m\u001b[38;5;241;43m=\u001b[39;49m\u001b[38;5;241;43m50\u001b[39;49m\u001b[43m,\u001b[49m\n\u001b[1;32m     32\u001b[0m \u001b[43m    \u001b[49m\u001b[43mdevice\u001b[49m\u001b[38;5;241;43m=\u001b[39;49m\u001b[43mDEVICE\u001b[49m\u001b[43m,\u001b[49m\n\u001b[1;32m     33\u001b[0m \u001b[43m    \u001b[49m\u001b[43mearly_stopping_patience\u001b[49m\u001b[38;5;241;43m=\u001b[39;49m\u001b[43mEARLY_STOPPING_PATIENCE\u001b[49m\u001b[43m,\u001b[49m\n\u001b[1;32m     34\u001b[0m \u001b[43m    \u001b[49m\u001b[43muse_autocast\u001b[49m\u001b[38;5;241;43m=\u001b[39;49m\u001b[43mUSE_AUTOCAST\u001b[49m\u001b[43m,\u001b[49m\n\u001b[1;32m     35\u001b[0m \u001b[43m    \u001b[49m\u001b[43mearly_stopping_grace_period\u001b[49m\u001b[38;5;241;43m=\u001b[39;49m\u001b[43mEARLY_STOPPING_GRACE_PERIOD\u001b[49m\u001b[43m,\u001b[49m\n\u001b[1;32m     36\u001b[0m \u001b[43m\u001b[49m\u001b[43m)\u001b[49m\n\u001b[1;32m     37\u001b[0m model\u001b[38;5;241m.\u001b[39mload_state_dict(torch\u001b[38;5;241m.\u001b[39mload(best_model_path,weights_only\u001b[38;5;241m=\u001b[39m\u001b[38;5;28;01mTrue\u001b[39;00m))\n\u001b[1;32m     38\u001b[0m test_model(model,criterion,device\u001b[38;5;241m=\u001b[39mDEVICE,batch_size\u001b[38;5;241m=\u001b[39mBATCH_SIZE)\n",
            "File \u001b[0;32m~/Documents/dataton/common/purrfect/training.py:123\u001b[0m, in \u001b[0;36mtrain_model\u001b[0;34m(model, train_loader, val_loader, best_model_path, last_checkpoint_path, criterion, optimizer, num_epochs, device, early_stopping_patience, use_autocast, early_stopping_grace_period)\u001b[0m\n\u001b[1;32m    120\u001b[0m \u001b[38;5;28mprint\u001b[39m(\u001b[38;5;124mf\u001b[39m\u001b[38;5;124m\"\u001b[39m\u001b[38;5;124mEpoch [\u001b[39m\u001b[38;5;132;01m{\u001b[39;00mepoch\u001b[38;5;132;01m}\u001b[39;00m\u001b[38;5;124m/\u001b[39m\u001b[38;5;132;01m{\u001b[39;00mnum_epochs\u001b[38;5;132;01m}\u001b[39;00m\u001b[38;5;124m]\u001b[39m\u001b[38;5;124m\"\u001b[39m)\n\u001b[1;32m    122\u001b[0m \u001b[38;5;66;03m# Train the model\u001b[39;00m\n\u001b[0;32m--> 123\u001b[0m \u001b[43mtrain_validate\u001b[49m\u001b[43m(\u001b[49m\n\u001b[1;32m    124\u001b[0m \u001b[43m    \u001b[49m\u001b[43mmodel\u001b[49m\u001b[43m,\u001b[49m\u001b[43m \u001b[49m\u001b[43mtrain_loader\u001b[49m\u001b[43m,\u001b[49m\u001b[43m \u001b[49m\u001b[43mcriterion\u001b[49m\u001b[43m,\u001b[49m\u001b[43m \u001b[49m\u001b[43moptimizer\u001b[49m\u001b[43m,\u001b[49m\u001b[43m \u001b[49m\u001b[43mepoch\u001b[49m\u001b[43m,\u001b[49m\u001b[43m \u001b[49m\u001b[43mmetric_accumulator\u001b[49m\u001b[43m,\u001b[49m\u001b[43m \u001b[49m\u001b[43mdevice\u001b[49m\u001b[43m,\u001b[49m\u001b[43m \u001b[49m\u001b[43muse_autocast\u001b[49m\n\u001b[1;32m    125\u001b[0m \u001b[43m\u001b[49m\u001b[43m)\u001b[49m\n\u001b[1;32m    127\u001b[0m \u001b[38;5;66;03m# Validate the model\u001b[39;00m\n\u001b[1;32m    128\u001b[0m validate_loss \u001b[38;5;241m=\u001b[39m train_validate(\n\u001b[1;32m    129\u001b[0m     model,\n\u001b[1;32m    130\u001b[0m     val_loader,\n\u001b[0;32m   (...)\u001b[0m\n\u001b[1;32m    135\u001b[0m     use_autocast \u001b[38;5;241m=\u001b[39m use_autocast\n\u001b[1;32m    136\u001b[0m )\n",
            "File \u001b[0;32m~/Documents/dataton/common/purrfect/training.py:39\u001b[0m, in \u001b[0;36mtrain_validate\u001b[0;34m(model, loader, criterion, optimizer, epoch, metric_accumulator, device, use_autocast)\u001b[0m\n\u001b[1;32m     36\u001b[0m \u001b[38;5;66;03m# Mixed precision forward pass\u001b[39;00m\n\u001b[1;32m     37\u001b[0m \u001b[38;5;28;01mwith\u001b[39;00m autocast(\u001b[38;5;124m\"\u001b[39m\u001b[38;5;124mcuda\u001b[39m\u001b[38;5;124m\"\u001b[39m,enabled\u001b[38;5;241m=\u001b[39muse_autocast):\n\u001b[1;32m     38\u001b[0m     \u001b[38;5;66;03m#print(inputs)\u001b[39;00m\n\u001b[0;32m---> 39\u001b[0m     outputs \u001b[38;5;241m=\u001b[39m \u001b[43mmodel\u001b[49m\u001b[43m(\u001b[49m\u001b[43minputs\u001b[49m\u001b[43m)\u001b[49m\n\u001b[1;32m     40\u001b[0m     \u001b[38;5;66;03m#print(outputs)\u001b[39;00m\n\u001b[1;32m     41\u001b[0m     loss \u001b[38;5;241m=\u001b[39m criterion(outputs, targets)\n",
            "File \u001b[0;32m~/miniconda3/envs/dataton/lib/python3.12/site-packages/torch/nn/modules/module.py:1553\u001b[0m, in \u001b[0;36mModule._wrapped_call_impl\u001b[0;34m(self, *args, **kwargs)\u001b[0m\n\u001b[1;32m   1551\u001b[0m     \u001b[38;5;28;01mreturn\u001b[39;00m \u001b[38;5;28mself\u001b[39m\u001b[38;5;241m.\u001b[39m_compiled_call_impl(\u001b[38;5;241m*\u001b[39margs, \u001b[38;5;241m*\u001b[39m\u001b[38;5;241m*\u001b[39mkwargs)  \u001b[38;5;66;03m# type: ignore[misc]\u001b[39;00m\n\u001b[1;32m   1552\u001b[0m \u001b[38;5;28;01melse\u001b[39;00m:\n\u001b[0;32m-> 1553\u001b[0m     \u001b[38;5;28;01mreturn\u001b[39;00m \u001b[38;5;28;43mself\u001b[39;49m\u001b[38;5;241;43m.\u001b[39;49m\u001b[43m_call_impl\u001b[49m\u001b[43m(\u001b[49m\u001b[38;5;241;43m*\u001b[39;49m\u001b[43margs\u001b[49m\u001b[43m,\u001b[49m\u001b[43m \u001b[49m\u001b[38;5;241;43m*\u001b[39;49m\u001b[38;5;241;43m*\u001b[39;49m\u001b[43mkwargs\u001b[49m\u001b[43m)\u001b[49m\n",
            "File \u001b[0;32m~/miniconda3/envs/dataton/lib/python3.12/site-packages/torch/nn/modules/module.py:1562\u001b[0m, in \u001b[0;36mModule._call_impl\u001b[0;34m(self, *args, **kwargs)\u001b[0m\n\u001b[1;32m   1557\u001b[0m \u001b[38;5;66;03m# If we don't have any hooks, we want to skip the rest of the logic in\u001b[39;00m\n\u001b[1;32m   1558\u001b[0m \u001b[38;5;66;03m# this function, and just call forward.\u001b[39;00m\n\u001b[1;32m   1559\u001b[0m \u001b[38;5;28;01mif\u001b[39;00m \u001b[38;5;129;01mnot\u001b[39;00m (\u001b[38;5;28mself\u001b[39m\u001b[38;5;241m.\u001b[39m_backward_hooks \u001b[38;5;129;01mor\u001b[39;00m \u001b[38;5;28mself\u001b[39m\u001b[38;5;241m.\u001b[39m_backward_pre_hooks \u001b[38;5;129;01mor\u001b[39;00m \u001b[38;5;28mself\u001b[39m\u001b[38;5;241m.\u001b[39m_forward_hooks \u001b[38;5;129;01mor\u001b[39;00m \u001b[38;5;28mself\u001b[39m\u001b[38;5;241m.\u001b[39m_forward_pre_hooks\n\u001b[1;32m   1560\u001b[0m         \u001b[38;5;129;01mor\u001b[39;00m _global_backward_pre_hooks \u001b[38;5;129;01mor\u001b[39;00m _global_backward_hooks\n\u001b[1;32m   1561\u001b[0m         \u001b[38;5;129;01mor\u001b[39;00m _global_forward_hooks \u001b[38;5;129;01mor\u001b[39;00m _global_forward_pre_hooks):\n\u001b[0;32m-> 1562\u001b[0m     \u001b[38;5;28;01mreturn\u001b[39;00m \u001b[43mforward_call\u001b[49m\u001b[43m(\u001b[49m\u001b[38;5;241;43m*\u001b[39;49m\u001b[43margs\u001b[49m\u001b[43m,\u001b[49m\u001b[43m \u001b[49m\u001b[38;5;241;43m*\u001b[39;49m\u001b[38;5;241;43m*\u001b[39;49m\u001b[43mkwargs\u001b[49m\u001b[43m)\u001b[49m\n\u001b[1;32m   1564\u001b[0m \u001b[38;5;28;01mtry\u001b[39;00m:\n\u001b[1;32m   1565\u001b[0m     result \u001b[38;5;241m=\u001b[39m \u001b[38;5;28;01mNone\u001b[39;00m\n",
            "Cell \u001b[0;32mIn[5], line 366\u001b[0m, in \u001b[0;36mKappaPredictor.forward\u001b[0;34m(self, x)\u001b[0m\n\u001b[1;32m    364\u001b[0m u1 \u001b[38;5;241m=\u001b[39m \u001b[38;5;28mself\u001b[39m\u001b[38;5;241m.\u001b[39munet1(x)\n\u001b[1;32m    365\u001b[0m u1 \u001b[38;5;241m=\u001b[39m torch\u001b[38;5;241m.\u001b[39mconcat([\u001b[38;5;28mself\u001b[39m\u001b[38;5;241m.\u001b[39mattn1(x,u1),u1], dim\u001b[38;5;241m=\u001b[39m\u001b[38;5;241m1\u001b[39m)\n\u001b[0;32m--> 366\u001b[0m u2 \u001b[38;5;241m=\u001b[39m \u001b[38;5;28;43mself\u001b[39;49m\u001b[38;5;241;43m.\u001b[39;49m\u001b[43munet2\u001b[49m\u001b[43m(\u001b[49m\u001b[43mu1\u001b[49m\u001b[43m)\u001b[49m\n\u001b[1;32m    368\u001b[0m \u001b[38;5;28;01mreturn\u001b[39;00m u2\n",
            "File \u001b[0;32m~/miniconda3/envs/dataton/lib/python3.12/site-packages/torch/nn/modules/module.py:1553\u001b[0m, in \u001b[0;36mModule._wrapped_call_impl\u001b[0;34m(self, *args, **kwargs)\u001b[0m\n\u001b[1;32m   1551\u001b[0m     \u001b[38;5;28;01mreturn\u001b[39;00m \u001b[38;5;28mself\u001b[39m\u001b[38;5;241m.\u001b[39m_compiled_call_impl(\u001b[38;5;241m*\u001b[39margs, \u001b[38;5;241m*\u001b[39m\u001b[38;5;241m*\u001b[39mkwargs)  \u001b[38;5;66;03m# type: ignore[misc]\u001b[39;00m\n\u001b[1;32m   1552\u001b[0m \u001b[38;5;28;01melse\u001b[39;00m:\n\u001b[0;32m-> 1553\u001b[0m     \u001b[38;5;28;01mreturn\u001b[39;00m \u001b[38;5;28;43mself\u001b[39;49m\u001b[38;5;241;43m.\u001b[39;49m\u001b[43m_call_impl\u001b[49m\u001b[43m(\u001b[49m\u001b[38;5;241;43m*\u001b[39;49m\u001b[43margs\u001b[49m\u001b[43m,\u001b[49m\u001b[43m \u001b[49m\u001b[38;5;241;43m*\u001b[39;49m\u001b[38;5;241;43m*\u001b[39;49m\u001b[43mkwargs\u001b[49m\u001b[43m)\u001b[49m\n",
            "File \u001b[0;32m~/miniconda3/envs/dataton/lib/python3.12/site-packages/torch/nn/modules/module.py:1562\u001b[0m, in \u001b[0;36mModule._call_impl\u001b[0;34m(self, *args, **kwargs)\u001b[0m\n\u001b[1;32m   1557\u001b[0m \u001b[38;5;66;03m# If we don't have any hooks, we want to skip the rest of the logic in\u001b[39;00m\n\u001b[1;32m   1558\u001b[0m \u001b[38;5;66;03m# this function, and just call forward.\u001b[39;00m\n\u001b[1;32m   1559\u001b[0m \u001b[38;5;28;01mif\u001b[39;00m \u001b[38;5;129;01mnot\u001b[39;00m (\u001b[38;5;28mself\u001b[39m\u001b[38;5;241m.\u001b[39m_backward_hooks \u001b[38;5;129;01mor\u001b[39;00m \u001b[38;5;28mself\u001b[39m\u001b[38;5;241m.\u001b[39m_backward_pre_hooks \u001b[38;5;129;01mor\u001b[39;00m \u001b[38;5;28mself\u001b[39m\u001b[38;5;241m.\u001b[39m_forward_hooks \u001b[38;5;129;01mor\u001b[39;00m \u001b[38;5;28mself\u001b[39m\u001b[38;5;241m.\u001b[39m_forward_pre_hooks\n\u001b[1;32m   1560\u001b[0m         \u001b[38;5;129;01mor\u001b[39;00m _global_backward_pre_hooks \u001b[38;5;129;01mor\u001b[39;00m _global_backward_hooks\n\u001b[1;32m   1561\u001b[0m         \u001b[38;5;129;01mor\u001b[39;00m _global_forward_hooks \u001b[38;5;129;01mor\u001b[39;00m _global_forward_pre_hooks):\n\u001b[0;32m-> 1562\u001b[0m     \u001b[38;5;28;01mreturn\u001b[39;00m \u001b[43mforward_call\u001b[49m\u001b[43m(\u001b[49m\u001b[38;5;241;43m*\u001b[39;49m\u001b[43margs\u001b[49m\u001b[43m,\u001b[49m\u001b[43m \u001b[49m\u001b[38;5;241;43m*\u001b[39;49m\u001b[38;5;241;43m*\u001b[39;49m\u001b[43mkwargs\u001b[49m\u001b[43m)\u001b[49m\n\u001b[1;32m   1564\u001b[0m \u001b[38;5;28;01mtry\u001b[39;00m:\n\u001b[1;32m   1565\u001b[0m     result \u001b[38;5;241m=\u001b[39m \u001b[38;5;28;01mNone\u001b[39;00m\n",
            "Cell \u001b[0;32mIn[5], line 240\u001b[0m, in \u001b[0;36mUNet.forward\u001b[0;34m(self, x)\u001b[0m\n\u001b[1;32m    238\u001b[0m d2 \u001b[38;5;241m=\u001b[39m \u001b[38;5;28mself\u001b[39m\u001b[38;5;241m.\u001b[39mupconv2(d3)\n\u001b[1;32m    239\u001b[0m d2 \u001b[38;5;241m=\u001b[39m torch\u001b[38;5;241m.\u001b[39mcat((\u001b[38;5;28mself\u001b[39m\u001b[38;5;241m.\u001b[39mattention2(e1, d2), d2), dim\u001b[38;5;241m=\u001b[39m\u001b[38;5;241m1\u001b[39m)\n\u001b[0;32m--> 240\u001b[0m d2 \u001b[38;5;241m=\u001b[39m \u001b[38;5;28;43mself\u001b[39;49m\u001b[38;5;241;43m.\u001b[39;49m\u001b[43mdecoder2\u001b[49m\u001b[43m(\u001b[49m\u001b[43md2\u001b[49m\u001b[43m)\u001b[49m\n\u001b[1;32m    242\u001b[0m d1 \u001b[38;5;241m=\u001b[39m \u001b[38;5;28mself\u001b[39m\u001b[38;5;241m.\u001b[39mupconv1(d2)\n\u001b[1;32m    243\u001b[0m d1 \u001b[38;5;241m=\u001b[39m torch\u001b[38;5;241m.\u001b[39mcat((\u001b[38;5;28mself\u001b[39m\u001b[38;5;241m.\u001b[39mattention1(x, d1), d1), dim\u001b[38;5;241m=\u001b[39m\u001b[38;5;241m1\u001b[39m)\n",
            "File \u001b[0;32m~/miniconda3/envs/dataton/lib/python3.12/site-packages/torch/nn/modules/module.py:1553\u001b[0m, in \u001b[0;36mModule._wrapped_call_impl\u001b[0;34m(self, *args, **kwargs)\u001b[0m\n\u001b[1;32m   1551\u001b[0m     \u001b[38;5;28;01mreturn\u001b[39;00m \u001b[38;5;28mself\u001b[39m\u001b[38;5;241m.\u001b[39m_compiled_call_impl(\u001b[38;5;241m*\u001b[39margs, \u001b[38;5;241m*\u001b[39m\u001b[38;5;241m*\u001b[39mkwargs)  \u001b[38;5;66;03m# type: ignore[misc]\u001b[39;00m\n\u001b[1;32m   1552\u001b[0m \u001b[38;5;28;01melse\u001b[39;00m:\n\u001b[0;32m-> 1553\u001b[0m     \u001b[38;5;28;01mreturn\u001b[39;00m \u001b[38;5;28;43mself\u001b[39;49m\u001b[38;5;241;43m.\u001b[39;49m\u001b[43m_call_impl\u001b[49m\u001b[43m(\u001b[49m\u001b[38;5;241;43m*\u001b[39;49m\u001b[43margs\u001b[49m\u001b[43m,\u001b[49m\u001b[43m \u001b[49m\u001b[38;5;241;43m*\u001b[39;49m\u001b[38;5;241;43m*\u001b[39;49m\u001b[43mkwargs\u001b[49m\u001b[43m)\u001b[49m\n",
            "File \u001b[0;32m~/miniconda3/envs/dataton/lib/python3.12/site-packages/torch/nn/modules/module.py:1562\u001b[0m, in \u001b[0;36mModule._call_impl\u001b[0;34m(self, *args, **kwargs)\u001b[0m\n\u001b[1;32m   1557\u001b[0m \u001b[38;5;66;03m# If we don't have any hooks, we want to skip the rest of the logic in\u001b[39;00m\n\u001b[1;32m   1558\u001b[0m \u001b[38;5;66;03m# this function, and just call forward.\u001b[39;00m\n\u001b[1;32m   1559\u001b[0m \u001b[38;5;28;01mif\u001b[39;00m \u001b[38;5;129;01mnot\u001b[39;00m (\u001b[38;5;28mself\u001b[39m\u001b[38;5;241m.\u001b[39m_backward_hooks \u001b[38;5;129;01mor\u001b[39;00m \u001b[38;5;28mself\u001b[39m\u001b[38;5;241m.\u001b[39m_backward_pre_hooks \u001b[38;5;129;01mor\u001b[39;00m \u001b[38;5;28mself\u001b[39m\u001b[38;5;241m.\u001b[39m_forward_hooks \u001b[38;5;129;01mor\u001b[39;00m \u001b[38;5;28mself\u001b[39m\u001b[38;5;241m.\u001b[39m_forward_pre_hooks\n\u001b[1;32m   1560\u001b[0m         \u001b[38;5;129;01mor\u001b[39;00m _global_backward_pre_hooks \u001b[38;5;129;01mor\u001b[39;00m _global_backward_hooks\n\u001b[1;32m   1561\u001b[0m         \u001b[38;5;129;01mor\u001b[39;00m _global_forward_hooks \u001b[38;5;129;01mor\u001b[39;00m _global_forward_pre_hooks):\n\u001b[0;32m-> 1562\u001b[0m     \u001b[38;5;28;01mreturn\u001b[39;00m \u001b[43mforward_call\u001b[49m\u001b[43m(\u001b[49m\u001b[38;5;241;43m*\u001b[39;49m\u001b[43margs\u001b[49m\u001b[43m,\u001b[49m\u001b[43m \u001b[49m\u001b[38;5;241;43m*\u001b[39;49m\u001b[38;5;241;43m*\u001b[39;49m\u001b[43mkwargs\u001b[49m\u001b[43m)\u001b[49m\n\u001b[1;32m   1564\u001b[0m \u001b[38;5;28;01mtry\u001b[39;00m:\n\u001b[1;32m   1565\u001b[0m     result \u001b[38;5;241m=\u001b[39m \u001b[38;5;28;01mNone\u001b[39;00m\n",
            "Cell \u001b[0;32mIn[5], line 168\u001b[0m, in \u001b[0;36mDoubleConv.forward\u001b[0;34m(self, x)\u001b[0m\n\u001b[1;32m    167\u001b[0m \u001b[38;5;28;01mdef\u001b[39;00m \u001b[38;5;21mforward\u001b[39m(\u001b[38;5;28mself\u001b[39m, x):\n\u001b[0;32m--> 168\u001b[0m     \u001b[38;5;28;01mreturn\u001b[39;00m \u001b[38;5;28;43mself\u001b[39;49m\u001b[38;5;241;43m.\u001b[39;49m\u001b[43mseq\u001b[49m\u001b[43m(\u001b[49m\u001b[43mx\u001b[49m\u001b[43m)\u001b[49m \u001b[38;5;241m+\u001b[39m \u001b[38;5;28mself\u001b[39m\u001b[38;5;241m.\u001b[39mrescale(x)\n",
            "File \u001b[0;32m~/miniconda3/envs/dataton/lib/python3.12/site-packages/torch/nn/modules/module.py:1553\u001b[0m, in \u001b[0;36mModule._wrapped_call_impl\u001b[0;34m(self, *args, **kwargs)\u001b[0m\n\u001b[1;32m   1551\u001b[0m     \u001b[38;5;28;01mreturn\u001b[39;00m \u001b[38;5;28mself\u001b[39m\u001b[38;5;241m.\u001b[39m_compiled_call_impl(\u001b[38;5;241m*\u001b[39margs, \u001b[38;5;241m*\u001b[39m\u001b[38;5;241m*\u001b[39mkwargs)  \u001b[38;5;66;03m# type: ignore[misc]\u001b[39;00m\n\u001b[1;32m   1552\u001b[0m \u001b[38;5;28;01melse\u001b[39;00m:\n\u001b[0;32m-> 1553\u001b[0m     \u001b[38;5;28;01mreturn\u001b[39;00m \u001b[38;5;28;43mself\u001b[39;49m\u001b[38;5;241;43m.\u001b[39;49m\u001b[43m_call_impl\u001b[49m\u001b[43m(\u001b[49m\u001b[38;5;241;43m*\u001b[39;49m\u001b[43margs\u001b[49m\u001b[43m,\u001b[49m\u001b[43m \u001b[49m\u001b[38;5;241;43m*\u001b[39;49m\u001b[38;5;241;43m*\u001b[39;49m\u001b[43mkwargs\u001b[49m\u001b[43m)\u001b[49m\n",
            "File \u001b[0;32m~/miniconda3/envs/dataton/lib/python3.12/site-packages/torch/nn/modules/module.py:1562\u001b[0m, in \u001b[0;36mModule._call_impl\u001b[0;34m(self, *args, **kwargs)\u001b[0m\n\u001b[1;32m   1557\u001b[0m \u001b[38;5;66;03m# If we don't have any hooks, we want to skip the rest of the logic in\u001b[39;00m\n\u001b[1;32m   1558\u001b[0m \u001b[38;5;66;03m# this function, and just call forward.\u001b[39;00m\n\u001b[1;32m   1559\u001b[0m \u001b[38;5;28;01mif\u001b[39;00m \u001b[38;5;129;01mnot\u001b[39;00m (\u001b[38;5;28mself\u001b[39m\u001b[38;5;241m.\u001b[39m_backward_hooks \u001b[38;5;129;01mor\u001b[39;00m \u001b[38;5;28mself\u001b[39m\u001b[38;5;241m.\u001b[39m_backward_pre_hooks \u001b[38;5;129;01mor\u001b[39;00m \u001b[38;5;28mself\u001b[39m\u001b[38;5;241m.\u001b[39m_forward_hooks \u001b[38;5;129;01mor\u001b[39;00m \u001b[38;5;28mself\u001b[39m\u001b[38;5;241m.\u001b[39m_forward_pre_hooks\n\u001b[1;32m   1560\u001b[0m         \u001b[38;5;129;01mor\u001b[39;00m _global_backward_pre_hooks \u001b[38;5;129;01mor\u001b[39;00m _global_backward_hooks\n\u001b[1;32m   1561\u001b[0m         \u001b[38;5;129;01mor\u001b[39;00m _global_forward_hooks \u001b[38;5;129;01mor\u001b[39;00m _global_forward_pre_hooks):\n\u001b[0;32m-> 1562\u001b[0m     \u001b[38;5;28;01mreturn\u001b[39;00m \u001b[43mforward_call\u001b[49m\u001b[43m(\u001b[49m\u001b[38;5;241;43m*\u001b[39;49m\u001b[43margs\u001b[49m\u001b[43m,\u001b[49m\u001b[43m \u001b[49m\u001b[38;5;241;43m*\u001b[39;49m\u001b[38;5;241;43m*\u001b[39;49m\u001b[43mkwargs\u001b[49m\u001b[43m)\u001b[49m\n\u001b[1;32m   1564\u001b[0m \u001b[38;5;28;01mtry\u001b[39;00m:\n\u001b[1;32m   1565\u001b[0m     result \u001b[38;5;241m=\u001b[39m \u001b[38;5;28;01mNone\u001b[39;00m\n",
            "File \u001b[0;32m~/miniconda3/envs/dataton/lib/python3.12/site-packages/torch/nn/modules/container.py:219\u001b[0m, in \u001b[0;36mSequential.forward\u001b[0;34m(self, input)\u001b[0m\n\u001b[1;32m    217\u001b[0m \u001b[38;5;28;01mdef\u001b[39;00m \u001b[38;5;21mforward\u001b[39m(\u001b[38;5;28mself\u001b[39m, \u001b[38;5;28minput\u001b[39m):\n\u001b[1;32m    218\u001b[0m     \u001b[38;5;28;01mfor\u001b[39;00m module \u001b[38;5;129;01min\u001b[39;00m \u001b[38;5;28mself\u001b[39m:\n\u001b[0;32m--> 219\u001b[0m         \u001b[38;5;28minput\u001b[39m \u001b[38;5;241m=\u001b[39m \u001b[43mmodule\u001b[49m\u001b[43m(\u001b[49m\u001b[38;5;28;43minput\u001b[39;49m\u001b[43m)\u001b[49m\n\u001b[1;32m    220\u001b[0m     \u001b[38;5;28;01mreturn\u001b[39;00m \u001b[38;5;28minput\u001b[39m\n",
            "File \u001b[0;32m~/miniconda3/envs/dataton/lib/python3.12/site-packages/torch/nn/modules/module.py:1553\u001b[0m, in \u001b[0;36mModule._wrapped_call_impl\u001b[0;34m(self, *args, **kwargs)\u001b[0m\n\u001b[1;32m   1551\u001b[0m     \u001b[38;5;28;01mreturn\u001b[39;00m \u001b[38;5;28mself\u001b[39m\u001b[38;5;241m.\u001b[39m_compiled_call_impl(\u001b[38;5;241m*\u001b[39margs, \u001b[38;5;241m*\u001b[39m\u001b[38;5;241m*\u001b[39mkwargs)  \u001b[38;5;66;03m# type: ignore[misc]\u001b[39;00m\n\u001b[1;32m   1552\u001b[0m \u001b[38;5;28;01melse\u001b[39;00m:\n\u001b[0;32m-> 1553\u001b[0m     \u001b[38;5;28;01mreturn\u001b[39;00m \u001b[38;5;28;43mself\u001b[39;49m\u001b[38;5;241;43m.\u001b[39;49m\u001b[43m_call_impl\u001b[49m\u001b[43m(\u001b[49m\u001b[38;5;241;43m*\u001b[39;49m\u001b[43margs\u001b[49m\u001b[43m,\u001b[49m\u001b[43m \u001b[49m\u001b[38;5;241;43m*\u001b[39;49m\u001b[38;5;241;43m*\u001b[39;49m\u001b[43mkwargs\u001b[49m\u001b[43m)\u001b[49m\n",
            "File \u001b[0;32m~/miniconda3/envs/dataton/lib/python3.12/site-packages/torch/nn/modules/module.py:1562\u001b[0m, in \u001b[0;36mModule._call_impl\u001b[0;34m(self, *args, **kwargs)\u001b[0m\n\u001b[1;32m   1557\u001b[0m \u001b[38;5;66;03m# If we don't have any hooks, we want to skip the rest of the logic in\u001b[39;00m\n\u001b[1;32m   1558\u001b[0m \u001b[38;5;66;03m# this function, and just call forward.\u001b[39;00m\n\u001b[1;32m   1559\u001b[0m \u001b[38;5;28;01mif\u001b[39;00m \u001b[38;5;129;01mnot\u001b[39;00m (\u001b[38;5;28mself\u001b[39m\u001b[38;5;241m.\u001b[39m_backward_hooks \u001b[38;5;129;01mor\u001b[39;00m \u001b[38;5;28mself\u001b[39m\u001b[38;5;241m.\u001b[39m_backward_pre_hooks \u001b[38;5;129;01mor\u001b[39;00m \u001b[38;5;28mself\u001b[39m\u001b[38;5;241m.\u001b[39m_forward_hooks \u001b[38;5;129;01mor\u001b[39;00m \u001b[38;5;28mself\u001b[39m\u001b[38;5;241m.\u001b[39m_forward_pre_hooks\n\u001b[1;32m   1560\u001b[0m         \u001b[38;5;129;01mor\u001b[39;00m _global_backward_pre_hooks \u001b[38;5;129;01mor\u001b[39;00m _global_backward_hooks\n\u001b[1;32m   1561\u001b[0m         \u001b[38;5;129;01mor\u001b[39;00m _global_forward_hooks \u001b[38;5;129;01mor\u001b[39;00m _global_forward_pre_hooks):\n\u001b[0;32m-> 1562\u001b[0m     \u001b[38;5;28;01mreturn\u001b[39;00m \u001b[43mforward_call\u001b[49m\u001b[43m(\u001b[49m\u001b[38;5;241;43m*\u001b[39;49m\u001b[43margs\u001b[49m\u001b[43m,\u001b[49m\u001b[43m \u001b[49m\u001b[38;5;241;43m*\u001b[39;49m\u001b[38;5;241;43m*\u001b[39;49m\u001b[43mkwargs\u001b[49m\u001b[43m)\u001b[49m\n\u001b[1;32m   1564\u001b[0m \u001b[38;5;28;01mtry\u001b[39;00m:\n\u001b[1;32m   1565\u001b[0m     result \u001b[38;5;241m=\u001b[39m \u001b[38;5;28;01mNone\u001b[39;00m\n",
            "Cell \u001b[0;32mIn[5], line 134\u001b[0m, in \u001b[0;36mPSA.forward\u001b[0;34m(self, x)\u001b[0m\n\u001b[1;32m    133\u001b[0m \u001b[38;5;28;01mdef\u001b[39;00m \u001b[38;5;21mforward\u001b[39m(\u001b[38;5;28mself\u001b[39m, x):\n\u001b[0;32m--> 134\u001b[0m     \u001b[38;5;28;01mreturn\u001b[39;00m \u001b[38;5;28;43mself\u001b[39;49m\u001b[38;5;241;43m.\u001b[39;49m\u001b[43mpa\u001b[49m\u001b[43m(\u001b[49m\u001b[43mx\u001b[49m\u001b[43m,\u001b[49m\u001b[43mx\u001b[49m\u001b[43m)\u001b[49m\n",
            "File \u001b[0;32m~/miniconda3/envs/dataton/lib/python3.12/site-packages/torch/nn/modules/module.py:1553\u001b[0m, in \u001b[0;36mModule._wrapped_call_impl\u001b[0;34m(self, *args, **kwargs)\u001b[0m\n\u001b[1;32m   1551\u001b[0m     \u001b[38;5;28;01mreturn\u001b[39;00m \u001b[38;5;28mself\u001b[39m\u001b[38;5;241m.\u001b[39m_compiled_call_impl(\u001b[38;5;241m*\u001b[39margs, \u001b[38;5;241m*\u001b[39m\u001b[38;5;241m*\u001b[39mkwargs)  \u001b[38;5;66;03m# type: ignore[misc]\u001b[39;00m\n\u001b[1;32m   1552\u001b[0m \u001b[38;5;28;01melse\u001b[39;00m:\n\u001b[0;32m-> 1553\u001b[0m     \u001b[38;5;28;01mreturn\u001b[39;00m \u001b[38;5;28;43mself\u001b[39;49m\u001b[38;5;241;43m.\u001b[39;49m\u001b[43m_call_impl\u001b[49m\u001b[43m(\u001b[49m\u001b[38;5;241;43m*\u001b[39;49m\u001b[43margs\u001b[49m\u001b[43m,\u001b[49m\u001b[43m \u001b[49m\u001b[38;5;241;43m*\u001b[39;49m\u001b[38;5;241;43m*\u001b[39;49m\u001b[43mkwargs\u001b[49m\u001b[43m)\u001b[49m\n",
            "File \u001b[0;32m~/miniconda3/envs/dataton/lib/python3.12/site-packages/torch/nn/modules/module.py:1562\u001b[0m, in \u001b[0;36mModule._call_impl\u001b[0;34m(self, *args, **kwargs)\u001b[0m\n\u001b[1;32m   1557\u001b[0m \u001b[38;5;66;03m# If we don't have any hooks, we want to skip the rest of the logic in\u001b[39;00m\n\u001b[1;32m   1558\u001b[0m \u001b[38;5;66;03m# this function, and just call forward.\u001b[39;00m\n\u001b[1;32m   1559\u001b[0m \u001b[38;5;28;01mif\u001b[39;00m \u001b[38;5;129;01mnot\u001b[39;00m (\u001b[38;5;28mself\u001b[39m\u001b[38;5;241m.\u001b[39m_backward_hooks \u001b[38;5;129;01mor\u001b[39;00m \u001b[38;5;28mself\u001b[39m\u001b[38;5;241m.\u001b[39m_backward_pre_hooks \u001b[38;5;129;01mor\u001b[39;00m \u001b[38;5;28mself\u001b[39m\u001b[38;5;241m.\u001b[39m_forward_hooks \u001b[38;5;129;01mor\u001b[39;00m \u001b[38;5;28mself\u001b[39m\u001b[38;5;241m.\u001b[39m_forward_pre_hooks\n\u001b[1;32m   1560\u001b[0m         \u001b[38;5;129;01mor\u001b[39;00m _global_backward_pre_hooks \u001b[38;5;129;01mor\u001b[39;00m _global_backward_hooks\n\u001b[1;32m   1561\u001b[0m         \u001b[38;5;129;01mor\u001b[39;00m _global_forward_hooks \u001b[38;5;129;01mor\u001b[39;00m _global_forward_pre_hooks):\n\u001b[0;32m-> 1562\u001b[0m     \u001b[38;5;28;01mreturn\u001b[39;00m \u001b[43mforward_call\u001b[49m\u001b[43m(\u001b[49m\u001b[38;5;241;43m*\u001b[39;49m\u001b[43margs\u001b[49m\u001b[43m,\u001b[49m\u001b[43m \u001b[49m\u001b[38;5;241;43m*\u001b[39;49m\u001b[38;5;241;43m*\u001b[39;49m\u001b[43mkwargs\u001b[49m\u001b[43m)\u001b[49m\n\u001b[1;32m   1564\u001b[0m \u001b[38;5;28;01mtry\u001b[39;00m:\n\u001b[1;32m   1565\u001b[0m     result \u001b[38;5;241m=\u001b[39m \u001b[38;5;28;01mNone\u001b[39;00m\n",
            "Cell \u001b[0;32mIn[5], line 123\u001b[0m, in \u001b[0;36mPA.forward\u001b[0;34m(self, x, y)\u001b[0m\n\u001b[1;32m    122\u001b[0m \u001b[38;5;28;01mdef\u001b[39;00m \u001b[38;5;21mforward\u001b[39m(\u001b[38;5;28mself\u001b[39m, x, y):\n\u001b[0;32m--> 123\u001b[0m     sp_mask \u001b[38;5;241m=\u001b[39m \u001b[38;5;28;43mself\u001b[39;49m\u001b[38;5;241;43m.\u001b[39;49m\u001b[43mspatial_pool_mask\u001b[49m\u001b[43m(\u001b[49m\u001b[43my\u001b[49m\u001b[43m)\u001b[49m\n\u001b[1;32m    124\u001b[0m     ch_mask \u001b[38;5;241m=\u001b[39m \u001b[38;5;28mself\u001b[39m\u001b[38;5;241m.\u001b[39mchannel_pool_mask(y)\n\u001b[1;32m    125\u001b[0m     \u001b[38;5;28;01mreturn\u001b[39;00m x \u001b[38;5;241m*\u001b[39m sp_mask \u001b[38;5;241m*\u001b[39m ch_mask\n",
            "Cell \u001b[0;32mIn[5], line 86\u001b[0m, in \u001b[0;36mPA.spatial_pool_mask\u001b[0;34m(self, x)\u001b[0m\n\u001b[1;32m     83\u001b[0m context \u001b[38;5;241m=\u001b[39m context\u001b[38;5;241m.\u001b[39munsqueeze(\u001b[38;5;241m-\u001b[39m\u001b[38;5;241m1\u001b[39m)\n\u001b[1;32m     85\u001b[0m \u001b[38;5;66;03m# [N, OC, 1, 1]\u001b[39;00m\n\u001b[0;32m---> 86\u001b[0m context \u001b[38;5;241m=\u001b[39m \u001b[38;5;28;43mself\u001b[39;49m\u001b[38;5;241;43m.\u001b[39;49m\u001b[43mconv_up\u001b[49m\u001b[43m(\u001b[49m\u001b[43mcontext\u001b[49m\u001b[43m)\u001b[49m\n\u001b[1;32m     88\u001b[0m \u001b[38;5;66;03m# [N, OC, 1, 1]\u001b[39;00m\n\u001b[1;32m     89\u001b[0m mask_ch \u001b[38;5;241m=\u001b[39m \u001b[38;5;28mself\u001b[39m\u001b[38;5;241m.\u001b[39msigmoid(context)\n",
            "File \u001b[0;32m~/miniconda3/envs/dataton/lib/python3.12/site-packages/torch/nn/modules/module.py:1553\u001b[0m, in \u001b[0;36mModule._wrapped_call_impl\u001b[0;34m(self, *args, **kwargs)\u001b[0m\n\u001b[1;32m   1551\u001b[0m     \u001b[38;5;28;01mreturn\u001b[39;00m \u001b[38;5;28mself\u001b[39m\u001b[38;5;241m.\u001b[39m_compiled_call_impl(\u001b[38;5;241m*\u001b[39margs, \u001b[38;5;241m*\u001b[39m\u001b[38;5;241m*\u001b[39mkwargs)  \u001b[38;5;66;03m# type: ignore[misc]\u001b[39;00m\n\u001b[1;32m   1552\u001b[0m \u001b[38;5;28;01melse\u001b[39;00m:\n\u001b[0;32m-> 1553\u001b[0m     \u001b[38;5;28;01mreturn\u001b[39;00m \u001b[38;5;28;43mself\u001b[39;49m\u001b[38;5;241;43m.\u001b[39;49m\u001b[43m_call_impl\u001b[49m\u001b[43m(\u001b[49m\u001b[38;5;241;43m*\u001b[39;49m\u001b[43margs\u001b[49m\u001b[43m,\u001b[49m\u001b[43m \u001b[49m\u001b[38;5;241;43m*\u001b[39;49m\u001b[38;5;241;43m*\u001b[39;49m\u001b[43mkwargs\u001b[49m\u001b[43m)\u001b[49m\n",
            "File \u001b[0;32m~/miniconda3/envs/dataton/lib/python3.12/site-packages/torch/nn/modules/module.py:1562\u001b[0m, in \u001b[0;36mModule._call_impl\u001b[0;34m(self, *args, **kwargs)\u001b[0m\n\u001b[1;32m   1557\u001b[0m \u001b[38;5;66;03m# If we don't have any hooks, we want to skip the rest of the logic in\u001b[39;00m\n\u001b[1;32m   1558\u001b[0m \u001b[38;5;66;03m# this function, and just call forward.\u001b[39;00m\n\u001b[1;32m   1559\u001b[0m \u001b[38;5;28;01mif\u001b[39;00m \u001b[38;5;129;01mnot\u001b[39;00m (\u001b[38;5;28mself\u001b[39m\u001b[38;5;241m.\u001b[39m_backward_hooks \u001b[38;5;129;01mor\u001b[39;00m \u001b[38;5;28mself\u001b[39m\u001b[38;5;241m.\u001b[39m_backward_pre_hooks \u001b[38;5;129;01mor\u001b[39;00m \u001b[38;5;28mself\u001b[39m\u001b[38;5;241m.\u001b[39m_forward_hooks \u001b[38;5;129;01mor\u001b[39;00m \u001b[38;5;28mself\u001b[39m\u001b[38;5;241m.\u001b[39m_forward_pre_hooks\n\u001b[1;32m   1560\u001b[0m         \u001b[38;5;129;01mor\u001b[39;00m _global_backward_pre_hooks \u001b[38;5;129;01mor\u001b[39;00m _global_backward_hooks\n\u001b[1;32m   1561\u001b[0m         \u001b[38;5;129;01mor\u001b[39;00m _global_forward_hooks \u001b[38;5;129;01mor\u001b[39;00m _global_forward_pre_hooks):\n\u001b[0;32m-> 1562\u001b[0m     \u001b[38;5;28;01mreturn\u001b[39;00m \u001b[43mforward_call\u001b[49m\u001b[43m(\u001b[49m\u001b[38;5;241;43m*\u001b[39;49m\u001b[43margs\u001b[49m\u001b[43m,\u001b[49m\u001b[43m \u001b[49m\u001b[38;5;241;43m*\u001b[39;49m\u001b[38;5;241;43m*\u001b[39;49m\u001b[43mkwargs\u001b[49m\u001b[43m)\u001b[49m\n\u001b[1;32m   1564\u001b[0m \u001b[38;5;28;01mtry\u001b[39;00m:\n\u001b[1;32m   1565\u001b[0m     result \u001b[38;5;241m=\u001b[39m \u001b[38;5;28;01mNone\u001b[39;00m\n",
            "File \u001b[0;32m~/miniconda3/envs/dataton/lib/python3.12/site-packages/torch/nn/modules/container.py:219\u001b[0m, in \u001b[0;36mSequential.forward\u001b[0;34m(self, input)\u001b[0m\n\u001b[1;32m    217\u001b[0m \u001b[38;5;28;01mdef\u001b[39;00m \u001b[38;5;21mforward\u001b[39m(\u001b[38;5;28mself\u001b[39m, \u001b[38;5;28minput\u001b[39m):\n\u001b[1;32m    218\u001b[0m     \u001b[38;5;28;01mfor\u001b[39;00m module \u001b[38;5;129;01min\u001b[39;00m \u001b[38;5;28mself\u001b[39m:\n\u001b[0;32m--> 219\u001b[0m         \u001b[38;5;28minput\u001b[39m \u001b[38;5;241m=\u001b[39m \u001b[43mmodule\u001b[49m\u001b[43m(\u001b[49m\u001b[38;5;28;43minput\u001b[39;49m\u001b[43m)\u001b[49m\n\u001b[1;32m    220\u001b[0m     \u001b[38;5;28;01mreturn\u001b[39;00m \u001b[38;5;28minput\u001b[39m\n",
            "File \u001b[0;32m~/miniconda3/envs/dataton/lib/python3.12/site-packages/torch/nn/modules/module.py:1553\u001b[0m, in \u001b[0;36mModule._wrapped_call_impl\u001b[0;34m(self, *args, **kwargs)\u001b[0m\n\u001b[1;32m   1551\u001b[0m     \u001b[38;5;28;01mreturn\u001b[39;00m \u001b[38;5;28mself\u001b[39m\u001b[38;5;241m.\u001b[39m_compiled_call_impl(\u001b[38;5;241m*\u001b[39margs, \u001b[38;5;241m*\u001b[39m\u001b[38;5;241m*\u001b[39mkwargs)  \u001b[38;5;66;03m# type: ignore[misc]\u001b[39;00m\n\u001b[1;32m   1552\u001b[0m \u001b[38;5;28;01melse\u001b[39;00m:\n\u001b[0;32m-> 1553\u001b[0m     \u001b[38;5;28;01mreturn\u001b[39;00m \u001b[38;5;28;43mself\u001b[39;49m\u001b[38;5;241;43m.\u001b[39;49m\u001b[43m_call_impl\u001b[49m\u001b[43m(\u001b[49m\u001b[38;5;241;43m*\u001b[39;49m\u001b[43margs\u001b[49m\u001b[43m,\u001b[49m\u001b[43m \u001b[49m\u001b[38;5;241;43m*\u001b[39;49m\u001b[38;5;241;43m*\u001b[39;49m\u001b[43mkwargs\u001b[49m\u001b[43m)\u001b[49m\n",
            "File \u001b[0;32m~/miniconda3/envs/dataton/lib/python3.12/site-packages/torch/nn/modules/module.py:1562\u001b[0m, in \u001b[0;36mModule._call_impl\u001b[0;34m(self, *args, **kwargs)\u001b[0m\n\u001b[1;32m   1557\u001b[0m \u001b[38;5;66;03m# If we don't have any hooks, we want to skip the rest of the logic in\u001b[39;00m\n\u001b[1;32m   1558\u001b[0m \u001b[38;5;66;03m# this function, and just call forward.\u001b[39;00m\n\u001b[1;32m   1559\u001b[0m \u001b[38;5;28;01mif\u001b[39;00m \u001b[38;5;129;01mnot\u001b[39;00m (\u001b[38;5;28mself\u001b[39m\u001b[38;5;241m.\u001b[39m_backward_hooks \u001b[38;5;129;01mor\u001b[39;00m \u001b[38;5;28mself\u001b[39m\u001b[38;5;241m.\u001b[39m_backward_pre_hooks \u001b[38;5;129;01mor\u001b[39;00m \u001b[38;5;28mself\u001b[39m\u001b[38;5;241m.\u001b[39m_forward_hooks \u001b[38;5;129;01mor\u001b[39;00m \u001b[38;5;28mself\u001b[39m\u001b[38;5;241m.\u001b[39m_forward_pre_hooks\n\u001b[1;32m   1560\u001b[0m         \u001b[38;5;129;01mor\u001b[39;00m _global_backward_pre_hooks \u001b[38;5;129;01mor\u001b[39;00m _global_backward_hooks\n\u001b[1;32m   1561\u001b[0m         \u001b[38;5;129;01mor\u001b[39;00m _global_forward_hooks \u001b[38;5;129;01mor\u001b[39;00m _global_forward_pre_hooks):\n\u001b[0;32m-> 1562\u001b[0m     \u001b[38;5;28;01mreturn\u001b[39;00m \u001b[43mforward_call\u001b[49m\u001b[43m(\u001b[49m\u001b[38;5;241;43m*\u001b[39;49m\u001b[43margs\u001b[49m\u001b[43m,\u001b[49m\u001b[43m \u001b[49m\u001b[38;5;241;43m*\u001b[39;49m\u001b[38;5;241;43m*\u001b[39;49m\u001b[43mkwargs\u001b[49m\u001b[43m)\u001b[49m\n\u001b[1;32m   1564\u001b[0m \u001b[38;5;28;01mtry\u001b[39;00m:\n\u001b[1;32m   1565\u001b[0m     result \u001b[38;5;241m=\u001b[39m \u001b[38;5;28;01mNone\u001b[39;00m\n",
            "File \u001b[0;32m~/miniconda3/envs/dataton/lib/python3.12/site-packages/torch/nn/modules/normalization.py:202\u001b[0m, in \u001b[0;36mLayerNorm.forward\u001b[0;34m(self, input)\u001b[0m\n\u001b[1;32m    201\u001b[0m \u001b[38;5;28;01mdef\u001b[39;00m \u001b[38;5;21mforward\u001b[39m(\u001b[38;5;28mself\u001b[39m, \u001b[38;5;28minput\u001b[39m: Tensor) \u001b[38;5;241m-\u001b[39m\u001b[38;5;241m>\u001b[39m Tensor:\n\u001b[0;32m--> 202\u001b[0m     \u001b[38;5;28;01mreturn\u001b[39;00m \u001b[43mF\u001b[49m\u001b[38;5;241;43m.\u001b[39;49m\u001b[43mlayer_norm\u001b[49m\u001b[43m(\u001b[49m\n\u001b[1;32m    203\u001b[0m \u001b[43m        \u001b[49m\u001b[38;5;28;43minput\u001b[39;49m\u001b[43m,\u001b[49m\u001b[43m \u001b[49m\u001b[38;5;28;43mself\u001b[39;49m\u001b[38;5;241;43m.\u001b[39;49m\u001b[43mnormalized_shape\u001b[49m\u001b[43m,\u001b[49m\u001b[43m \u001b[49m\u001b[38;5;28;43mself\u001b[39;49m\u001b[38;5;241;43m.\u001b[39;49m\u001b[43mweight\u001b[49m\u001b[43m,\u001b[49m\u001b[43m \u001b[49m\u001b[38;5;28;43mself\u001b[39;49m\u001b[38;5;241;43m.\u001b[39;49m\u001b[43mbias\u001b[49m\u001b[43m,\u001b[49m\u001b[43m \u001b[49m\u001b[38;5;28;43mself\u001b[39;49m\u001b[38;5;241;43m.\u001b[39;49m\u001b[43meps\u001b[49m\u001b[43m)\u001b[49m\n",
            "File \u001b[0;32m~/miniconda3/envs/dataton/lib/python3.12/site-packages/torch/nn/functional.py:2576\u001b[0m, in \u001b[0;36mlayer_norm\u001b[0;34m(input, normalized_shape, weight, bias, eps)\u001b[0m\n\u001b[1;32m   2572\u001b[0m \u001b[38;5;28;01mif\u001b[39;00m has_torch_function_variadic(\u001b[38;5;28minput\u001b[39m, weight, bias):\n\u001b[1;32m   2573\u001b[0m     \u001b[38;5;28;01mreturn\u001b[39;00m handle_torch_function(\n\u001b[1;32m   2574\u001b[0m         layer_norm, (\u001b[38;5;28minput\u001b[39m, weight, bias), \u001b[38;5;28minput\u001b[39m, normalized_shape, weight\u001b[38;5;241m=\u001b[39mweight, bias\u001b[38;5;241m=\u001b[39mbias, eps\u001b[38;5;241m=\u001b[39meps\n\u001b[1;32m   2575\u001b[0m     )\n\u001b[0;32m-> 2576\u001b[0m \u001b[38;5;28;01mreturn\u001b[39;00m \u001b[43mtorch\u001b[49m\u001b[38;5;241;43m.\u001b[39;49m\u001b[43mlayer_norm\u001b[49m\u001b[43m(\u001b[49m\u001b[38;5;28;43minput\u001b[39;49m\u001b[43m,\u001b[49m\u001b[43m \u001b[49m\u001b[43mnormalized_shape\u001b[49m\u001b[43m,\u001b[49m\u001b[43m \u001b[49m\u001b[43mweight\u001b[49m\u001b[43m,\u001b[49m\u001b[43m \u001b[49m\u001b[43mbias\u001b[49m\u001b[43m,\u001b[49m\u001b[43m \u001b[49m\u001b[43meps\u001b[49m\u001b[43m,\u001b[49m\u001b[43m \u001b[49m\u001b[43mtorch\u001b[49m\u001b[38;5;241;43m.\u001b[39;49m\u001b[43mbackends\u001b[49m\u001b[38;5;241;43m.\u001b[39;49m\u001b[43mcudnn\u001b[49m\u001b[38;5;241;43m.\u001b[39;49m\u001b[43menabled\u001b[49m\u001b[43m)\u001b[49m\n",
            "\u001b[0;31mKeyboardInterrupt\u001b[0m: "
          ]
        }
      ],
      "source": [
        "many_partitions(1,6,model,criterion)"
      ]
    },
    {
      "cell_type": "code",
      "execution_count": 10,
      "metadata": {
        "id": "rYf70y6AJmLe"
      },
      "outputs": [],
      "source": [
        "current_partition = 1\n",
        "best_model_path = os.path.join(\n",
        "    \"models\", f\"best_model_partition_{current_partition}.pth\"\n",
        ")"
      ]
    },
    {
      "cell_type": "code",
      "execution_count": 11,
      "metadata": {},
      "outputs": [
        {
          "name": "stdout",
          "output_type": "stream",
          "text": [
            "Epoch [1/50]\n"
          ]
        },
        {
          "name": "stderr",
          "output_type": "stream",
          "text": [
            "Train Epoch 1:   0%|          | 0/77 [00:00<?, ?it/s]"
          ]
        },
        {
          "name": "stderr",
          "output_type": "stream",
          "text": [
            "Train Epoch 1: 100%|██████████| 77/77 [00:40<00:00,  1.89it/s, WMAPE=8.58, DICE=0.531, DPEAKS=212, Loss=0.0367]\n",
            "Validate Epoch 1: 100%|██████████| 20/20 [00:05<00:00,  3.34it/s, WMAPE=5.01, DICE=0.504, DPEAKS=205, Loss=0.0255]\n"
          ]
        },
        {
          "name": "stdout",
          "output_type": "stream",
          "text": [
            "Saving best model\n",
            "Epoch [2/50]\n"
          ]
        },
        {
          "name": "stderr",
          "output_type": "stream",
          "text": [
            "Train Epoch 2: 100%|██████████| 77/77 [00:40<00:00,  1.89it/s, WMAPE=5.75, DICE=0.42, DPEAKS=172, Loss=0.0229]\n",
            "Validate Epoch 2: 100%|██████████| 20/20 [00:05<00:00,  3.59it/s, WMAPE=14.6, DICE=0.351, DPEAKS=158, Loss=0.0348]\n"
          ]
        },
        {
          "name": "stdout",
          "output_type": "stream",
          "text": [
            "Epoch [3/50]\n"
          ]
        },
        {
          "name": "stderr",
          "output_type": "stream",
          "text": [
            "Train Epoch 3: 100%|██████████| 77/77 [00:40<00:00,  1.89it/s, WMAPE=7.55, DICE=0.315, DPEAKS=141, Loss=0.0189]\n",
            "Validate Epoch 3: 100%|██████████| 20/20 [00:05<00:00,  3.52it/s, WMAPE=17.9, DICE=0.322, DPEAKS=150, Loss=0.0349]\n"
          ]
        },
        {
          "name": "stdout",
          "output_type": "stream",
          "text": [
            "Epoch [4/50]\n"
          ]
        },
        {
          "name": "stderr",
          "output_type": "stream",
          "text": [
            "Train Epoch 4: 100%|██████████| 77/77 [00:40<00:00,  1.89it/s, WMAPE=6.4, DICE=0.281, DPEAKS=133, Loss=0.0172]\n",
            "Validate Epoch 4: 100%|██████████| 20/20 [00:05<00:00,  3.55it/s, WMAPE=7.17, DICE=0.274, DPEAKS=136, Loss=0.0239]\n"
          ]
        },
        {
          "name": "stdout",
          "output_type": "stream",
          "text": [
            "Saving best model\n",
            "Epoch [5/50]\n"
          ]
        },
        {
          "name": "stderr",
          "output_type": "stream",
          "text": [
            "Train Epoch 5: 100%|██████████| 77/77 [00:41<00:00,  1.88it/s, WMAPE=5.51, DICE=0.265, DPEAKS=129, Loss=0.0164]\n",
            "Validate Epoch 5: 100%|██████████| 20/20 [00:05<00:00,  3.54it/s, WMAPE=5.32, DICE=0.284, DPEAKS=140, Loss=0.0178]\n"
          ]
        },
        {
          "name": "stdout",
          "output_type": "stream",
          "text": [
            "Saving best model\n",
            "Epoch [6/50]\n"
          ]
        },
        {
          "name": "stderr",
          "output_type": "stream",
          "text": [
            "Train Epoch 6: 100%|██████████| 77/77 [00:40<00:00,  1.88it/s, WMAPE=6.68, DICE=0.248, DPEAKS=122, Loss=0.0158]\n",
            "Validate Epoch 6: 100%|██████████| 20/20 [00:05<00:00,  3.57it/s, WMAPE=4.92, DICE=0.234, DPEAKS=123, Loss=0.015]\n"
          ]
        },
        {
          "name": "stdout",
          "output_type": "stream",
          "text": [
            "Saving best model\n",
            "Epoch [7/50]\n"
          ]
        },
        {
          "name": "stderr",
          "output_type": "stream",
          "text": [
            "Train Epoch 7: 100%|██████████| 77/77 [00:40<00:00,  1.90it/s, WMAPE=5.28, DICE=0.222, DPEAKS=113, Loss=0.0144]\n",
            "Validate Epoch 7: 100%|██████████| 20/20 [00:05<00:00,  3.56it/s, WMAPE=20.1, DICE=0.289, DPEAKS=137, Loss=0.0441]\n"
          ]
        },
        {
          "name": "stdout",
          "output_type": "stream",
          "text": [
            "Epoch [8/50]\n"
          ]
        },
        {
          "name": "stderr",
          "output_type": "stream",
          "text": [
            "Train Epoch 8: 100%|██████████| 77/77 [00:40<00:00,  1.92it/s, WMAPE=6.05, DICE=0.214, DPEAKS=110, Loss=0.0141]\n",
            "Validate Epoch 8: 100%|██████████| 20/20 [00:05<00:00,  3.53it/s, WMAPE=23.2, DICE=0.329, DPEAKS=146, Loss=0.0323]\n"
          ]
        },
        {
          "name": "stdout",
          "output_type": "stream",
          "text": [
            "Epoch [9/50]\n"
          ]
        },
        {
          "name": "stderr",
          "output_type": "stream",
          "text": [
            "Train Epoch 9: 100%|██████████| 77/77 [00:40<00:00,  1.92it/s, WMAPE=6.58, DICE=0.217, DPEAKS=112, Loss=0.0145]\n",
            "Validate Epoch 9: 100%|██████████| 20/20 [00:05<00:00,  3.51it/s, WMAPE=284, DICE=0.437, DPEAKS=224, Loss=0.58]\n"
          ]
        },
        {
          "name": "stdout",
          "output_type": "stream",
          "text": [
            "Epoch [10/50]\n"
          ]
        },
        {
          "name": "stderr",
          "output_type": "stream",
          "text": [
            "Train Epoch 10: 100%|██████████| 77/77 [00:40<00:00,  1.92it/s, WMAPE=5.07, DICE=0.21, DPEAKS=109, Loss=0.0141]\n",
            "Validate Epoch 10: 100%|██████████| 20/20 [00:05<00:00,  3.60it/s, WMAPE=6.66, DICE=0.197, DPEAKS=115, Loss=0.0133]\n"
          ]
        },
        {
          "name": "stdout",
          "output_type": "stream",
          "text": [
            "Saving best model\n",
            "Epoch [11/50]\n"
          ]
        },
        {
          "name": "stderr",
          "output_type": "stream",
          "text": [
            "Train Epoch 11: 100%|██████████| 77/77 [00:40<00:00,  1.92it/s, WMAPE=5.02, DICE=0.197, DPEAKS=102, Loss=0.0134]\n",
            "Validate Epoch 11: 100%|██████████| 20/20 [00:05<00:00,  3.57it/s, WMAPE=5.72, DICE=0.191, DPEAKS=108, Loss=0.0154]\n"
          ]
        },
        {
          "name": "stdout",
          "output_type": "stream",
          "text": [
            "Epoch [12/50]\n"
          ]
        },
        {
          "name": "stderr",
          "output_type": "stream",
          "text": [
            "Train Epoch 12: 100%|██████████| 77/77 [00:40<00:00,  1.92it/s, WMAPE=4.82, DICE=0.189, DPEAKS=95.4, Loss=0.0128]\n",
            "Validate Epoch 12: 100%|██████████| 20/20 [00:05<00:00,  3.59it/s, WMAPE=4.62, DICE=0.191, DPEAKS=102, Loss=0.0126]\n"
          ]
        },
        {
          "name": "stdout",
          "output_type": "stream",
          "text": [
            "Saving best model\n",
            "Epoch [13/50]\n"
          ]
        },
        {
          "name": "stderr",
          "output_type": "stream",
          "text": [
            "Train Epoch 13: 100%|██████████| 77/77 [00:39<00:00,  1.93it/s, WMAPE=6.08, DICE=0.192, DPEAKS=101, Loss=0.0131]\n",
            "Validate Epoch 13: 100%|██████████| 20/20 [00:05<00:00,  3.56it/s, WMAPE=11.8, DICE=0.224, DPEAKS=125, Loss=0.0318]\n"
          ]
        },
        {
          "name": "stdout",
          "output_type": "stream",
          "text": [
            "Epoch [14/50]\n"
          ]
        },
        {
          "name": "stderr",
          "output_type": "stream",
          "text": [
            "Train Epoch 14: 100%|██████████| 77/77 [00:39<00:00,  1.94it/s, WMAPE=4.7, DICE=0.189, DPEAKS=97.3, Loss=0.0127]\n",
            "Validate Epoch 14: 100%|██████████| 20/20 [00:05<00:00,  3.60it/s, WMAPE=14.3, DICE=0.188, DPEAKS=109, Loss=0.0344]\n"
          ]
        },
        {
          "name": "stdout",
          "output_type": "stream",
          "text": [
            "Epoch [15/50]\n"
          ]
        },
        {
          "name": "stderr",
          "output_type": "stream",
          "text": [
            "Train Epoch 15: 100%|██████████| 77/77 [00:39<00:00,  1.94it/s, WMAPE=4.58, DICE=0.186, DPEAKS=96.3, Loss=0.0125]\n",
            "Validate Epoch 15: 100%|██████████| 20/20 [00:05<00:00,  3.51it/s, WMAPE=5.64, DICE=0.18, DPEAKS=98.1, Loss=0.0121]\n"
          ]
        },
        {
          "name": "stdout",
          "output_type": "stream",
          "text": [
            "Saving best model\n",
            "Epoch [16/50]\n"
          ]
        },
        {
          "name": "stderr",
          "output_type": "stream",
          "text": [
            "Train Epoch 16: 100%|██████████| 77/77 [00:39<00:00,  1.93it/s, WMAPE=18.6, DICE=0.181, DPEAKS=92.4, Loss=0.0124]\n",
            "Validate Epoch 16: 100%|██████████| 20/20 [00:05<00:00,  3.64it/s, WMAPE=6.42, DICE=0.181, DPEAKS=100, Loss=0.0136]\n"
          ]
        },
        {
          "name": "stdout",
          "output_type": "stream",
          "text": [
            "Epoch [17/50]\n"
          ]
        },
        {
          "name": "stderr",
          "output_type": "stream",
          "text": [
            "Train Epoch 17: 100%|██████████| 77/77 [00:39<00:00,  1.95it/s, WMAPE=4.82, DICE=0.19, DPEAKS=98.2, Loss=0.013]\n",
            "Validate Epoch 17: 100%|██████████| 20/20 [00:05<00:00,  3.66it/s, WMAPE=12.6, DICE=0.183, DPEAKS=97.9, Loss=0.0126]\n"
          ]
        },
        {
          "name": "stdout",
          "output_type": "stream",
          "text": [
            "Epoch [18/50]\n"
          ]
        },
        {
          "name": "stderr",
          "output_type": "stream",
          "text": [
            "Train Epoch 18: 100%|██████████| 77/77 [00:39<00:00,  1.95it/s, WMAPE=4.97, DICE=0.186, DPEAKS=96.9, Loss=0.0127]\n",
            "Validate Epoch 18: 100%|██████████| 20/20 [00:05<00:00,  3.68it/s, WMAPE=5.79, DICE=0.181, DPEAKS=92.8, Loss=0.0131]\n"
          ]
        },
        {
          "name": "stdout",
          "output_type": "stream",
          "text": [
            "Epoch [19/50]\n"
          ]
        },
        {
          "name": "stderr",
          "output_type": "stream",
          "text": [
            "Train Epoch 19: 100%|██████████| 77/77 [00:39<00:00,  1.95it/s, WMAPE=5.16, DICE=0.174, DPEAKS=90.2, Loss=0.012]\n",
            "Validate Epoch 19: 100%|██████████| 20/20 [00:05<00:00,  3.55it/s, WMAPE=10.4, DICE=0.179, DPEAKS=94, Loss=0.0191]\n"
          ]
        },
        {
          "name": "stdout",
          "output_type": "stream",
          "text": [
            "Epoch [20/50]\n"
          ]
        },
        {
          "name": "stderr",
          "output_type": "stream",
          "text": [
            "Train Epoch 20: 100%|██████████| 77/77 [00:39<00:00,  1.95it/s, WMAPE=4.76, DICE=0.171, DPEAKS=88.3, Loss=0.0119]\n",
            "Validate Epoch 20: 100%|██████████| 20/20 [00:05<00:00,  3.60it/s, WMAPE=5.72, DICE=0.176, DPEAKS=98.6, Loss=0.0148]"
          ]
        },
        {
          "name": "stdout",
          "output_type": "stream",
          "text": [
            "early stopping: 5 epochs without improvement\n",
            "Training complete.\n"
          ]
        },
        {
          "name": "stderr",
          "output_type": "stream",
          "text": [
            "\n"
          ]
        }
      ],
      "source": [
        "train_loader, val_loader = create_train_valid_loaders(\n",
        "    f\"partition_{current_partition}_train.json\",\n",
        "    f\"partition_{current_partition}_val.json\",\n",
        "    \"partitions\",\n",
        "    batch_size=BATCH_SIZE,\n",
        "    transform=transform,\n",
        ")\n",
        "best_model_path = os.path.join(\n",
        "    \"models\", f\"best_model_partition_{current_partition}.pth\"\n",
        ")\n",
        "last_checkpoint_path = os.path.join(\n",
        "    \"models\", f\"last_checkpoint_partition_{current_partition}.pth\"\n",
        ")\n",
        "optimizer = optim.AdamW(model.parameters())\n",
        "train_model(\n",
        "    model,\n",
        "    train_loader,\n",
        "    val_loader,\n",
        "    best_model_path,\n",
        "    last_checkpoint_path,\n",
        "    criterion,\n",
        "    optimizer,\n",
        "    num_epochs=50,\n",
        "    device=DEVICE,\n",
        "    early_stopping_patience=EARLY_STOPPING_PATIENCE,\n",
        "    use_autocast=USE_AUTOCAST,\n",
        "    early_stopping_grace_period=EARLY_STOPPING_GRACE_PERIOD,\n",
        "    \n",
        ")"
      ]
    },
    {
      "cell_type": "code",
      "execution_count": 13,
      "metadata": {},
      "outputs": [
        {
          "name": "stderr",
          "output_type": "stream",
          "text": [
            "Validate Epoch test: 100%|██████████| 486/486 [02:38<00:00,  3.07it/s, WMAPE=5.44, DICE=0.194, DPEAKS=102, Loss=0.0185]\n"
          ]
        }
      ],
      "source": [
        "#Cargar mejor modelo de la particion actual\n",
        "model.load_state_dict(torch.load(best_model_path,weights_only=True))\n",
        "test_model(model,criterion,device=DEVICE,batch_size=BATCH_SIZE)"
      ]
    },
    {
      "cell_type": "code",
      "execution_count": 14,
      "metadata": {},
      "outputs": [],
      "source": [
        "create_next_partitions(current_partition)"
      ]
    },
    {
      "cell_type": "code",
      "execution_count": 15,
      "metadata": {},
      "outputs": [
        {
          "name": "stdout",
          "output_type": "stream",
          "text": [
            "Epoch [1/50]\n"
          ]
        },
        {
          "name": "stderr",
          "output_type": "stream",
          "text": [
            "Train Epoch 1: 100%|██████████| 77/77 [00:40<00:00,  1.90it/s, WMAPE=3.47, DICE=0.157, DPEAKS=90.4, Loss=0.0114]\n",
            "Validate Epoch 1: 100%|██████████| 20/20 [00:05<00:00,  3.48it/s, WMAPE=4.42, DICE=0.14, DPEAKS=82.8, Loss=0.013]\n"
          ]
        },
        {
          "name": "stdout",
          "output_type": "stream",
          "text": [
            "Saving best model\n",
            "Epoch [2/50]\n"
          ]
        },
        {
          "name": "stderr",
          "output_type": "stream",
          "text": [
            "Train Epoch 2: 100%|██████████| 77/77 [00:34<00:00,  2.21it/s, WMAPE=3.09, DICE=0.133, DPEAKS=78.1, Loss=0.01]\n",
            "Validate Epoch 2: 100%|██████████| 20/20 [00:04<00:00,  4.74it/s, WMAPE=3.45, DICE=0.127, DPEAKS=69.3, Loss=0.0103]\n"
          ]
        },
        {
          "name": "stdout",
          "output_type": "stream",
          "text": [
            "Saving best model\n",
            "Epoch [3/50]\n"
          ]
        },
        {
          "name": "stderr",
          "output_type": "stream",
          "text": [
            "Train Epoch 3: 100%|██████████| 77/77 [00:33<00:00,  2.33it/s, WMAPE=3.51, DICE=0.155, DPEAKS=101, Loss=0.0116]\n",
            "Validate Epoch 3: 100%|██████████| 20/20 [00:04<00:00,  4.70it/s, WMAPE=4.24, DICE=0.147, DPEAKS=97.1, Loss=0.0125]\n"
          ]
        },
        {
          "name": "stdout",
          "output_type": "stream",
          "text": [
            "Epoch [4/50]\n"
          ]
        },
        {
          "name": "stderr",
          "output_type": "stream",
          "text": [
            "Train Epoch 4: 100%|██████████| 77/77 [00:33<00:00,  2.32it/s, WMAPE=3.16, DICE=0.132, DPEAKS=84.3, Loss=0.01]\n",
            "Validate Epoch 4: 100%|██████████| 20/20 [00:04<00:00,  4.69it/s, WMAPE=3.88, DICE=0.122, DPEAKS=72.6, Loss=0.0121]\n"
          ]
        },
        {
          "name": "stdout",
          "output_type": "stream",
          "text": [
            "Epoch [5/50]\n"
          ]
        },
        {
          "name": "stderr",
          "output_type": "stream",
          "text": [
            "Train Epoch 5: 100%|██████████| 77/77 [00:33<00:00,  2.33it/s, WMAPE=2.95, DICE=0.12, DPEAKS=73.5, Loss=0.00937]\n",
            "Validate Epoch 5: 100%|██████████| 20/20 [00:04<00:00,  4.77it/s, WMAPE=7.84, DICE=0.123, DPEAKS=73.4, Loss=0.0236]\n"
          ]
        },
        {
          "name": "stdout",
          "output_type": "stream",
          "text": [
            "Epoch [6/50]\n"
          ]
        },
        {
          "name": "stderr",
          "output_type": "stream",
          "text": [
            "Train Epoch 6: 100%|██████████| 77/77 [00:32<00:00,  2.35it/s, WMAPE=2.79, DICE=0.116, DPEAKS=71.6, Loss=0.00887]\n",
            "Validate Epoch 6: 100%|██████████| 20/20 [00:04<00:00,  4.69it/s, WMAPE=3.25, DICE=0.114, DPEAKS=63.9, Loss=0.0103]\n"
          ]
        },
        {
          "name": "stdout",
          "output_type": "stream",
          "text": [
            "Saving best model\n",
            "Epoch [7/50]\n"
          ]
        },
        {
          "name": "stderr",
          "output_type": "stream",
          "text": [
            "Train Epoch 7: 100%|██████████| 77/77 [00:32<00:00,  2.36it/s, WMAPE=2.8, DICE=0.114, DPEAKS=70.9, Loss=0.00875]\n",
            "Validate Epoch 7: 100%|██████████| 20/20 [00:04<00:00,  4.73it/s, WMAPE=3.1, DICE=0.114, DPEAKS=69.5, Loss=0.00928]\n"
          ]
        },
        {
          "name": "stdout",
          "output_type": "stream",
          "text": [
            "Saving best model\n",
            "Epoch [8/50]\n"
          ]
        },
        {
          "name": "stderr",
          "output_type": "stream",
          "text": [
            "Train Epoch 8: 100%|██████████| 77/77 [00:33<00:00,  2.33it/s, WMAPE=2.73, DICE=0.111, DPEAKS=69.2, Loss=0.00843]\n",
            "Validate Epoch 8: 100%|██████████| 20/20 [00:04<00:00,  4.74it/s, WMAPE=2.62, DICE=0.114, DPEAKS=66.2, Loss=0.00909]\n"
          ]
        },
        {
          "name": "stdout",
          "output_type": "stream",
          "text": [
            "Saving best model\n",
            "Epoch [9/50]\n"
          ]
        },
        {
          "name": "stderr",
          "output_type": "stream",
          "text": [
            "Train Epoch 9: 100%|██████████| 77/77 [00:33<00:00,  2.33it/s, WMAPE=2.62, DICE=0.108, DPEAKS=66.5, Loss=0.00812]\n",
            "Validate Epoch 9: 100%|██████████| 20/20 [00:04<00:00,  4.66it/s, WMAPE=3.86, DICE=0.109, DPEAKS=65, Loss=0.0105]\n"
          ]
        },
        {
          "name": "stdout",
          "output_type": "stream",
          "text": [
            "Epoch [10/50]\n"
          ]
        },
        {
          "name": "stderr",
          "output_type": "stream",
          "text": [
            "Train Epoch 10: 100%|██████████| 77/77 [00:32<00:00,  2.36it/s, WMAPE=2.9, DICE=0.118, DPEAKS=79.2, Loss=0.00914]\n",
            "Validate Epoch 10: 100%|██████████| 20/20 [00:04<00:00,  4.74it/s, WMAPE=5.43, DICE=0.144, DPEAKS=107, Loss=0.0166]\n"
          ]
        },
        {
          "name": "stdout",
          "output_type": "stream",
          "text": [
            "Epoch [11/50]\n"
          ]
        },
        {
          "name": "stderr",
          "output_type": "stream",
          "text": [
            "Train Epoch 11: 100%|██████████| 77/77 [00:32<00:00,  2.34it/s, WMAPE=2.82, DICE=0.115, DPEAKS=74.3, Loss=0.00887]\n",
            "Validate Epoch 11: 100%|██████████| 20/20 [00:04<00:00,  4.70it/s, WMAPE=3.17, DICE=0.107, DPEAKS=65.8, Loss=0.00956]\n"
          ]
        },
        {
          "name": "stdout",
          "output_type": "stream",
          "text": [
            "Epoch [12/50]\n"
          ]
        },
        {
          "name": "stderr",
          "output_type": "stream",
          "text": [
            "Train Epoch 12: 100%|██████████| 77/77 [00:32<00:00,  2.34it/s, WMAPE=2.69, DICE=0.107, DPEAKS=67.4, Loss=0.00833]\n",
            "Validate Epoch 12: 100%|██████████| 20/20 [00:04<00:00,  4.65it/s, WMAPE=5.68, DICE=0.104, DPEAKS=57.6, Loss=0.0155]\n"
          ]
        },
        {
          "name": "stdout",
          "output_type": "stream",
          "text": [
            "Epoch [13/50]\n"
          ]
        },
        {
          "name": "stderr",
          "output_type": "stream",
          "text": [
            "Train Epoch 13: 100%|██████████| 77/77 [00:32<00:00,  2.36it/s, WMAPE=2.52, DICE=0.103, DPEAKS=63.5, Loss=0.00792]\n",
            "Validate Epoch 13: 100%|██████████| 20/20 [00:04<00:00,  4.66it/s, WMAPE=3.89, DICE=0.108, DPEAKS=63.4, Loss=0.0112]\n"
          ]
        },
        {
          "name": "stdout",
          "output_type": "stream",
          "text": [
            "early stopping: 5 epochs without improvement\n",
            "Training complete.\n"
          ]
        },
        {
          "name": "stderr",
          "output_type": "stream",
          "text": [
            "Validate Epoch test: 100%|██████████| 486/486 [02:32<00:00,  3.18it/s, WMAPE=2.61, DICE=0.114, DPEAKS=69.3, Loss=0.00908]\n"
          ]
        },
        {
          "name": "stdout",
          "output_type": "stream",
          "text": [
            "Change mode to training decoder\n",
            "Epoch [1/50]\n"
          ]
        },
        {
          "name": "stderr",
          "output_type": "stream",
          "text": [
            "Train Epoch 1: 100%|██████████| 77/77 [00:29<00:00,  2.62it/s, WMAPE=2.82, DICE=0.111, DPEAKS=70.7, Loss=0.0089]\n",
            "Validate Epoch 1: 100%|██████████| 20/20 [00:05<00:00,  3.74it/s, WMAPE=2.79, DICE=0.108, DPEAKS=71.7, Loss=0.00861]\n"
          ]
        },
        {
          "name": "stdout",
          "output_type": "stream",
          "text": [
            "Saving best model\n",
            "Epoch [2/50]\n"
          ]
        },
        {
          "name": "stderr",
          "output_type": "stream",
          "text": [
            "Train Epoch 2: 100%|██████████| 77/77 [00:24<00:00,  3.13it/s, WMAPE=2.75, DICE=0.108, DPEAKS=66.8, Loss=0.0086]\n",
            "Validate Epoch 2: 100%|██████████| 20/20 [00:04<00:00,  4.80it/s, WMAPE=2.59, DICE=0.107, DPEAKS=66.3, Loss=0.00825]\n"
          ]
        },
        {
          "name": "stdout",
          "output_type": "stream",
          "text": [
            "Saving best model\n",
            "Epoch [3/50]\n"
          ]
        },
        {
          "name": "stderr",
          "output_type": "stream",
          "text": [
            "Train Epoch 3: 100%|██████████| 77/77 [00:24<00:00,  3.13it/s, WMAPE=2.69, DICE=0.107, DPEAKS=65, Loss=0.00838]\n",
            "Validate Epoch 3: 100%|██████████| 20/20 [00:04<00:00,  4.78it/s, WMAPE=2.53, DICE=0.107, DPEAKS=67.9, Loss=0.00822]\n"
          ]
        },
        {
          "name": "stdout",
          "output_type": "stream",
          "text": [
            "Saving best model\n",
            "Epoch [4/50]\n"
          ]
        },
        {
          "name": "stderr",
          "output_type": "stream",
          "text": [
            "Train Epoch 4: 100%|██████████| 77/77 [00:24<00:00,  3.15it/s, WMAPE=2.63, DICE=0.106, DPEAKS=65.1, Loss=0.00818]\n",
            "Validate Epoch 4: 100%|██████████| 20/20 [00:04<00:00,  4.74it/s, WMAPE=2.73, DICE=0.106, DPEAKS=65.6, Loss=0.0086]\n"
          ]
        },
        {
          "name": "stdout",
          "output_type": "stream",
          "text": [
            "Epoch [5/50]\n"
          ]
        },
        {
          "name": "stderr",
          "output_type": "stream",
          "text": [
            "Train Epoch 5: 100%|██████████| 77/77 [00:24<00:00,  3.12it/s, WMAPE=2.63, DICE=0.106, DPEAKS=63.9, Loss=0.00823]\n",
            "Validate Epoch 5: 100%|██████████| 20/20 [00:04<00:00,  4.74it/s, WMAPE=2.68, DICE=0.108, DPEAKS=66.2, Loss=0.00933]\n"
          ]
        },
        {
          "name": "stdout",
          "output_type": "stream",
          "text": [
            "Epoch [6/50]\n"
          ]
        },
        {
          "name": "stderr",
          "output_type": "stream",
          "text": [
            "Train Epoch 6: 100%|██████████| 77/77 [00:24<00:00,  3.15it/s, WMAPE=2.56, DICE=0.106, DPEAKS=63.9, Loss=0.00801]\n",
            "Validate Epoch 6: 100%|██████████| 20/20 [00:04<00:00,  4.78it/s, WMAPE=2.64, DICE=0.106, DPEAKS=64.7, Loss=0.00858]\n"
          ]
        },
        {
          "name": "stdout",
          "output_type": "stream",
          "text": [
            "Epoch [7/50]\n"
          ]
        },
        {
          "name": "stderr",
          "output_type": "stream",
          "text": [
            "Train Epoch 7: 100%|██████████| 77/77 [00:24<00:00,  3.13it/s, WMAPE=2.52, DICE=0.106, DPEAKS=64.9, Loss=0.00791]\n",
            "Validate Epoch 7: 100%|██████████| 20/20 [00:04<00:00,  4.75it/s, WMAPE=2.67, DICE=0.106, DPEAKS=62.8, Loss=0.00889]\n"
          ]
        },
        {
          "name": "stdout",
          "output_type": "stream",
          "text": [
            "Epoch [8/50]\n"
          ]
        },
        {
          "name": "stderr",
          "output_type": "stream",
          "text": [
            "Train Epoch 8: 100%|██████████| 77/77 [00:24<00:00,  3.14it/s, WMAPE=2.46, DICE=0.106, DPEAKS=65.1, Loss=0.00787]\n",
            "Validate Epoch 8: 100%|██████████| 20/20 [00:04<00:00,  4.80it/s, WMAPE=2.83, DICE=0.106, DPEAKS=71.2, Loss=0.00866]\n"
          ]
        },
        {
          "name": "stdout",
          "output_type": "stream",
          "text": [
            "early stopping: 5 epochs without improvement\n",
            "Training complete.\n"
          ]
        },
        {
          "name": "stderr",
          "output_type": "stream",
          "text": [
            "Validate Epoch test: 100%|██████████| 486/486 [02:33<00:00,  3.17it/s, WMAPE=2.64, DICE=0.107, DPEAKS=64.9, Loss=0.00832]\n"
          ]
        },
        {
          "name": "stdout",
          "output_type": "stream",
          "text": [
            "Change mode to training encoder\n",
            "Epoch [1/50]\n"
          ]
        },
        {
          "name": "stderr",
          "output_type": "stream",
          "text": [
            "Train Epoch 1: 100%|██████████| 77/77 [00:34<00:00,  2.22it/s, WMAPE=2.69, DICE=0.106, DPEAKS=63.4, Loss=0.00838]\n",
            "Validate Epoch 1: 100%|██████████| 20/20 [00:05<00:00,  3.75it/s, WMAPE=3, DICE=0.11, DPEAKS=69.8, Loss=0.00884]\n"
          ]
        },
        {
          "name": "stdout",
          "output_type": "stream",
          "text": [
            "Saving best model\n",
            "Epoch [2/50]\n"
          ]
        },
        {
          "name": "stderr",
          "output_type": "stream",
          "text": [
            "Train Epoch 2: 100%|██████████| 77/77 [00:29<00:00,  2.58it/s, WMAPE=2.57, DICE=0.102, DPEAKS=61.5, Loss=0.00792]\n",
            "Validate Epoch 2: 100%|██████████| 20/20 [00:04<00:00,  4.80it/s, WMAPE=3.12, DICE=0.109, DPEAKS=69, Loss=0.00963]\n"
          ]
        },
        {
          "name": "stdout",
          "output_type": "stream",
          "text": [
            "Epoch [3/50]\n"
          ]
        },
        {
          "name": "stderr",
          "output_type": "stream",
          "text": [
            "Train Epoch 3: 100%|██████████| 77/77 [00:29<00:00,  2.58it/s, WMAPE=2.5, DICE=0.1, DPEAKS=60.3, Loss=0.00775]\n",
            "Validate Epoch 3: 100%|██████████| 20/20 [00:04<00:00,  4.78it/s, WMAPE=6.7, DICE=0.101, DPEAKS=65.5, Loss=0.0198]\n"
          ]
        },
        {
          "name": "stdout",
          "output_type": "stream",
          "text": [
            "Epoch [4/50]\n"
          ]
        },
        {
          "name": "stderr",
          "output_type": "stream",
          "text": [
            "Train Epoch 4: 100%|██████████| 77/77 [00:29<00:00,  2.57it/s, WMAPE=2.45, DICE=0.0983, DPEAKS=57.2, Loss=0.00751]\n",
            "Validate Epoch 4: 100%|██████████| 20/20 [00:04<00:00,  4.81it/s, WMAPE=2.83, DICE=0.0991, DPEAKS=59.4, Loss=0.00862]\n"
          ]
        },
        {
          "name": "stdout",
          "output_type": "stream",
          "text": [
            "Saving best model\n",
            "Epoch [5/50]\n"
          ]
        },
        {
          "name": "stderr",
          "output_type": "stream",
          "text": [
            "Train Epoch 5: 100%|██████████| 77/77 [00:29<00:00,  2.58it/s, WMAPE=2.38, DICE=0.0967, DPEAKS=57.1, Loss=0.00728]\n",
            "Validate Epoch 5: 100%|██████████| 20/20 [00:04<00:00,  4.76it/s, WMAPE=2.55, DICE=0.0969, DPEAKS=56.2, Loss=0.0079]\n"
          ]
        },
        {
          "name": "stdout",
          "output_type": "stream",
          "text": [
            "Saving best model\n",
            "Epoch [6/50]\n"
          ]
        },
        {
          "name": "stderr",
          "output_type": "stream",
          "text": [
            "Train Epoch 6: 100%|██████████| 77/77 [00:29<00:00,  2.57it/s, WMAPE=2.34, DICE=0.0959, DPEAKS=55.8, Loss=0.00719]\n",
            "Validate Epoch 6: 100%|██████████| 20/20 [00:04<00:00,  4.79it/s, WMAPE=8.99, DICE=0.103, DPEAKS=63.2, Loss=0.0254]\n"
          ]
        },
        {
          "name": "stdout",
          "output_type": "stream",
          "text": [
            "Epoch [7/50]\n"
          ]
        },
        {
          "name": "stderr",
          "output_type": "stream",
          "text": [
            "Train Epoch 7: 100%|██████████| 77/77 [00:30<00:00,  2.56it/s, WMAPE=2.28, DICE=0.0946, DPEAKS=55, Loss=0.00701]\n",
            "Validate Epoch 7: 100%|██████████| 20/20 [00:04<00:00,  4.75it/s, WMAPE=5.72, DICE=0.0951, DPEAKS=55, Loss=0.0159]\n"
          ]
        },
        {
          "name": "stdout",
          "output_type": "stream",
          "text": [
            "Epoch [8/50]\n"
          ]
        },
        {
          "name": "stderr",
          "output_type": "stream",
          "text": [
            "Train Epoch 8: 100%|██████████| 77/77 [00:30<00:00,  2.56it/s, WMAPE=2.19, DICE=0.0922, DPEAKS=53.3, Loss=0.00672]\n",
            "Validate Epoch 8: 100%|██████████| 20/20 [00:04<00:00,  4.67it/s, WMAPE=3.01, DICE=0.093, DPEAKS=55, Loss=0.00855]\n"
          ]
        },
        {
          "name": "stdout",
          "output_type": "stream",
          "text": [
            "Epoch [9/50]\n"
          ]
        },
        {
          "name": "stderr",
          "output_type": "stream",
          "text": [
            "Train Epoch 9: 100%|██████████| 77/77 [00:29<00:00,  2.57it/s, WMAPE=2.12, DICE=0.091, DPEAKS=52.6, Loss=0.0065]\n",
            "Validate Epoch 9: 100%|██████████| 20/20 [00:04<00:00,  4.78it/s, WMAPE=4.95, DICE=0.0932, DPEAKS=55.3, Loss=0.0137]\n"
          ]
        },
        {
          "name": "stdout",
          "output_type": "stream",
          "text": [
            "Epoch [10/50]\n"
          ]
        },
        {
          "name": "stderr",
          "output_type": "stream",
          "text": [
            "Train Epoch 10: 100%|██████████| 77/77 [00:29<00:00,  2.57it/s, WMAPE=2.06, DICE=0.0887, DPEAKS=50.6, Loss=0.00632]\n",
            "Validate Epoch 10: 100%|██████████| 20/20 [00:04<00:00,  4.76it/s, WMAPE=5.69, DICE=0.092, DPEAKS=60.7, Loss=0.0169]\n"
          ]
        },
        {
          "name": "stdout",
          "output_type": "stream",
          "text": [
            "early stopping: 5 epochs without improvement\n",
            "Training complete.\n"
          ]
        },
        {
          "name": "stderr",
          "output_type": "stream",
          "text": [
            "Validate Epoch test: 100%|██████████| 486/486 [02:14<00:00,  3.62it/s, WMAPE=2.51, DICE=0.0966, DPEAKS=57.4, Loss=0.00787]\n"
          ]
        },
        {
          "name": "stdout",
          "output_type": "stream",
          "text": [
            "Change mode to training decoder\n",
            "Epoch [1/50]\n"
          ]
        },
        {
          "name": "stderr",
          "output_type": "stream",
          "text": [
            "Train Epoch 1: 100%|██████████| 77/77 [00:29<00:00,  2.63it/s, WMAPE=2.57, DICE=0.0972, DPEAKS=58.2, Loss=0.0082]\n",
            "Validate Epoch 1: 100%|██████████| 20/20 [00:05<00:00,  3.77it/s, WMAPE=2.5, DICE=0.0949, DPEAKS=52.9, Loss=0.00804]\n"
          ]
        },
        {
          "name": "stdout",
          "output_type": "stream",
          "text": [
            "Saving best model\n",
            "Epoch [2/50]\n"
          ]
        },
        {
          "name": "stderr",
          "output_type": "stream",
          "text": [
            "Train Epoch 2: 100%|██████████| 77/77 [00:24<00:00,  3.14it/s, WMAPE=2.47, DICE=0.0949, DPEAKS=56.6, Loss=0.00781]\n",
            "Validate Epoch 2: 100%|██████████| 20/20 [00:04<00:00,  4.81it/s, WMAPE=2.77, DICE=0.0953, DPEAKS=55.6, Loss=0.00786]\n"
          ]
        },
        {
          "name": "stdout",
          "output_type": "stream",
          "text": [
            "Saving best model\n",
            "Epoch [3/50]\n"
          ]
        },
        {
          "name": "stderr",
          "output_type": "stream",
          "text": [
            "Train Epoch 3: 100%|██████████| 77/77 [00:24<00:00,  3.13it/s, WMAPE=2.4, DICE=0.0943, DPEAKS=55.3, Loss=0.00751]\n",
            "Validate Epoch 3: 100%|██████████| 20/20 [00:04<00:00,  4.79it/s, WMAPE=2.69, DICE=0.0946, DPEAKS=51.6, Loss=0.00773]\n"
          ]
        },
        {
          "name": "stdout",
          "output_type": "stream",
          "text": [
            "Saving best model\n",
            "Epoch [4/50]\n"
          ]
        },
        {
          "name": "stderr",
          "output_type": "stream",
          "text": [
            "Train Epoch 4: 100%|██████████| 77/77 [00:24<00:00,  3.12it/s, WMAPE=2.41, DICE=0.0943, DPEAKS=57, Loss=0.00753]\n",
            "Validate Epoch 4: 100%|██████████| 20/20 [00:04<00:00,  4.73it/s, WMAPE=2.93, DICE=0.0953, DPEAKS=50.3, Loss=0.00879]\n"
          ]
        },
        {
          "name": "stdout",
          "output_type": "stream",
          "text": [
            "Epoch [5/50]\n"
          ]
        },
        {
          "name": "stderr",
          "output_type": "stream",
          "text": [
            "Train Epoch 5: 100%|██████████| 77/77 [00:24<00:00,  3.14it/s, WMAPE=2.36, DICE=0.0941, DPEAKS=54.9, Loss=0.00746]\n",
            "Validate Epoch 5: 100%|██████████| 20/20 [00:04<00:00,  4.73it/s, WMAPE=2.51, DICE=0.0941, DPEAKS=54.7, Loss=0.00801]\n"
          ]
        },
        {
          "name": "stdout",
          "output_type": "stream",
          "text": [
            "Epoch [6/50]\n"
          ]
        },
        {
          "name": "stderr",
          "output_type": "stream",
          "text": [
            "Train Epoch 6: 100%|██████████| 77/77 [00:24<00:00,  3.15it/s, WMAPE=2.3, DICE=0.094, DPEAKS=55.2, Loss=0.00725]\n",
            "Validate Epoch 6: 100%|██████████| 20/20 [00:04<00:00,  4.74it/s, WMAPE=2.72, DICE=0.0944, DPEAKS=52.7, Loss=0.0078]\n"
          ]
        },
        {
          "name": "stdout",
          "output_type": "stream",
          "text": [
            "Epoch [7/50]\n"
          ]
        },
        {
          "name": "stderr",
          "output_type": "stream",
          "text": [
            "Train Epoch 7: 100%|██████████| 77/77 [00:24<00:00,  3.15it/s, WMAPE=2.26, DICE=0.0934, DPEAKS=55.4, Loss=0.00706]\n",
            "Validate Epoch 7: 100%|██████████| 20/20 [00:04<00:00,  4.77it/s, WMAPE=2.89, DICE=0.0926, DPEAKS=51.4, Loss=0.00826]\n"
          ]
        },
        {
          "name": "stdout",
          "output_type": "stream",
          "text": [
            "Epoch [8/50]\n"
          ]
        },
        {
          "name": "stderr",
          "output_type": "stream",
          "text": [
            "Train Epoch 8: 100%|██████████| 77/77 [00:24<00:00,  3.13it/s, WMAPE=2.17, DICE=0.0928, DPEAKS=53.7, Loss=0.00691]\n",
            "Validate Epoch 8: 100%|██████████| 20/20 [00:04<00:00,  4.76it/s, WMAPE=3.57, DICE=0.0926, DPEAKS=49.7, Loss=0.00973]\n"
          ]
        },
        {
          "name": "stdout",
          "output_type": "stream",
          "text": [
            "early stopping: 5 epochs without improvement\n",
            "Training complete.\n"
          ]
        },
        {
          "name": "stderr",
          "output_type": "stream",
          "text": [
            "Validate Epoch test: 100%|██████████| 486/486 [02:05<00:00,  3.89it/s, WMAPE=2.51, DICE=0.0943, DPEAKS=54.7, Loss=0.00765]\n"
          ]
        },
        {
          "name": "stdout",
          "output_type": "stream",
          "text": [
            "Change mode to training encoder\n",
            "Epoch [1/50]\n"
          ]
        },
        {
          "name": "stderr",
          "output_type": "stream",
          "text": [
            "Train Epoch 1: 100%|██████████| 77/77 [00:35<00:00,  2.19it/s, WMAPE=2.57, DICE=0.0972, DPEAKS=56.1, Loss=0.00796]\n",
            "Validate Epoch 1: 100%|██████████| 20/20 [00:05<00:00,  3.75it/s, WMAPE=5.25, DICE=0.0962, DPEAKS=58.3, Loss=0.0152]\n"
          ]
        },
        {
          "name": "stdout",
          "output_type": "stream",
          "text": [
            "Saving best model\n",
            "Epoch [2/50]\n"
          ]
        },
        {
          "name": "stderr",
          "output_type": "stream",
          "text": [
            "Train Epoch 2: 100%|██████████| 77/77 [00:29<00:00,  2.57it/s, WMAPE=2.44, DICE=0.0943, DPEAKS=54.4, Loss=0.00753]\n",
            "Validate Epoch 2: 100%|██████████| 20/20 [00:04<00:00,  4.75it/s, WMAPE=10.9, DICE=0.109, DPEAKS=67.8, Loss=0.0296]\n"
          ]
        },
        {
          "name": "stdout",
          "output_type": "stream",
          "text": [
            "Epoch [3/50]\n"
          ]
        },
        {
          "name": "stderr",
          "output_type": "stream",
          "text": [
            "Train Epoch 3: 100%|██████████| 77/77 [00:29<00:00,  2.57it/s, WMAPE=2.39, DICE=0.0936, DPEAKS=53.4, Loss=0.00742]\n",
            "Validate Epoch 3: 100%|██████████| 20/20 [00:04<00:00,  4.74it/s, WMAPE=9.88, DICE=0.0995, DPEAKS=64.8, Loss=0.0279]\n"
          ]
        },
        {
          "name": "stdout",
          "output_type": "stream",
          "text": [
            "Epoch [4/50]\n"
          ]
        },
        {
          "name": "stderr",
          "output_type": "stream",
          "text": [
            "Train Epoch 4: 100%|██████████| 77/77 [00:29<00:00,  2.57it/s, WMAPE=2.34, DICE=0.0927, DPEAKS=52.5, Loss=0.0073]\n",
            "Validate Epoch 4: 100%|██████████| 20/20 [00:04<00:00,  4.75it/s, WMAPE=8.9, DICE=0.0952, DPEAKS=64, Loss=0.0252]\n"
          ]
        },
        {
          "name": "stdout",
          "output_type": "stream",
          "text": [
            "Epoch [5/50]\n"
          ]
        },
        {
          "name": "stderr",
          "output_type": "stream",
          "text": [
            "Train Epoch 5: 100%|██████████| 77/77 [00:30<00:00,  2.57it/s, WMAPE=2.32, DICE=0.0929, DPEAKS=54.1, Loss=0.0072]\n",
            "Validate Epoch 5: 100%|██████████| 20/20 [00:04<00:00,  4.69it/s, WMAPE=14.4, DICE=0.118, DPEAKS=80.7, Loss=0.0408]\n"
          ]
        },
        {
          "name": "stdout",
          "output_type": "stream",
          "text": [
            "Epoch [6/50]\n"
          ]
        },
        {
          "name": "stderr",
          "output_type": "stream",
          "text": [
            "Train Epoch 6: 100%|██████████| 77/77 [00:29<00:00,  2.58it/s, WMAPE=2.3, DICE=0.0933, DPEAKS=54.1, Loss=0.00721]\n",
            "Validate Epoch 6: 100%|██████████| 20/20 [00:04<00:00,  4.77it/s, WMAPE=8.71, DICE=0.0901, DPEAKS=55.7, Loss=0.0245]\n"
          ]
        },
        {
          "name": "stdout",
          "output_type": "stream",
          "text": [
            "Epoch [7/50]\n"
          ]
        },
        {
          "name": "stderr",
          "output_type": "stream",
          "text": [
            "Train Epoch 7: 100%|██████████| 77/77 [00:30<00:00,  2.56it/s, WMAPE=2.18, DICE=0.0886, DPEAKS=51.2, Loss=0.0068]\n",
            "Validate Epoch 7: 100%|██████████| 20/20 [00:04<00:00,  4.73it/s, WMAPE=8.01, DICE=0.0953, DPEAKS=64.5, Loss=0.0227]\n"
          ]
        },
        {
          "name": "stdout",
          "output_type": "stream",
          "text": [
            "Epoch [8/50]\n"
          ]
        },
        {
          "name": "stderr",
          "output_type": "stream",
          "text": [
            "Train Epoch 8: 100%|██████████| 77/77 [00:29<00:00,  2.58it/s, WMAPE=2.11, DICE=0.087, DPEAKS=48.6, Loss=0.00659]\n",
            "Validate Epoch 8: 100%|██████████| 20/20 [00:04<00:00,  4.76it/s, WMAPE=2.56, DICE=0.0877, DPEAKS=54.7, Loss=0.00761]\n"
          ]
        },
        {
          "name": "stdout",
          "output_type": "stream",
          "text": [
            "Saving best model\n",
            "Epoch [9/50]\n"
          ]
        },
        {
          "name": "stderr",
          "output_type": "stream",
          "text": [
            "Train Epoch 9: 100%|██████████| 77/77 [00:29<00:00,  2.57it/s, WMAPE=2.06, DICE=0.0848, DPEAKS=45.9, Loss=0.0064]\n",
            "Validate Epoch 9: 100%|██████████| 20/20 [00:04<00:00,  4.67it/s, WMAPE=7.26, DICE=0.0883, DPEAKS=53.5, Loss=0.0197]\n"
          ]
        },
        {
          "name": "stdout",
          "output_type": "stream",
          "text": [
            "Epoch [10/50]\n"
          ]
        },
        {
          "name": "stderr",
          "output_type": "stream",
          "text": [
            "Train Epoch 10: 100%|██████████| 77/77 [00:29<00:00,  2.57it/s, WMAPE=1.94, DICE=0.0816, DPEAKS=43.7, Loss=0.00602]\n",
            "Validate Epoch 10: 100%|██████████| 20/20 [00:04<00:00,  4.74it/s, WMAPE=3.04, DICE=0.0827, DPEAKS=48.2, Loss=0.00824]\n"
          ]
        },
        {
          "name": "stdout",
          "output_type": "stream",
          "text": [
            "Epoch [11/50]\n"
          ]
        },
        {
          "name": "stderr",
          "output_type": "stream",
          "text": [
            "Train Epoch 11: 100%|██████████| 77/77 [00:29<00:00,  2.57it/s, WMAPE=1.91, DICE=0.0801, DPEAKS=42.3, Loss=0.00593]\n",
            "Validate Epoch 11: 100%|██████████| 20/20 [00:04<00:00,  4.82it/s, WMAPE=10.6, DICE=0.0848, DPEAKS=55.6, Loss=0.0298]\n"
          ]
        },
        {
          "name": "stdout",
          "output_type": "stream",
          "text": [
            "Epoch [12/50]\n"
          ]
        },
        {
          "name": "stderr",
          "output_type": "stream",
          "text": [
            "Train Epoch 12: 100%|██████████| 77/77 [00:29<00:00,  2.57it/s, WMAPE=1.84, DICE=0.077, DPEAKS=40.4, Loss=0.00569]\n",
            "Validate Epoch 12: 100%|██████████| 20/20 [00:04<00:00,  4.77it/s, WMAPE=3.63, DICE=0.0785, DPEAKS=46.4, Loss=0.011]\n"
          ]
        },
        {
          "name": "stdout",
          "output_type": "stream",
          "text": [
            "Epoch [13/50]\n"
          ]
        },
        {
          "name": "stderr",
          "output_type": "stream",
          "text": [
            "Train Epoch 13: 100%|██████████| 77/77 [00:30<00:00,  2.57it/s, WMAPE=1.81, DICE=0.0754, DPEAKS=39.2, Loss=0.00558]\n",
            "Validate Epoch 13: 100%|██████████| 20/20 [00:04<00:00,  4.75it/s, WMAPE=9.33, DICE=0.0829, DPEAKS=55.4, Loss=0.0261]\n"
          ]
        },
        {
          "name": "stdout",
          "output_type": "stream",
          "text": [
            "early stopping: 5 epochs without improvement\n",
            "Training complete.\n"
          ]
        },
        {
          "name": "stderr",
          "output_type": "stream",
          "text": [
            "Validate Epoch test: 100%|██████████| 486/486 [02:05<00:00,  3.88it/s, WMAPE=2.44, DICE=0.0873, DPEAKS=53.2, Loss=0.00754]\n"
          ]
        },
        {
          "name": "stdout",
          "output_type": "stream",
          "text": [
            "Change mode to training decoder\n",
            "Epoch [1/50]\n"
          ]
        },
        {
          "name": "stderr",
          "output_type": "stream",
          "text": [
            "Train Epoch 1: 100%|██████████| 77/77 [00:29<00:00,  2.63it/s, WMAPE=2.37, DICE=0.0861, DPEAKS=47.7, Loss=0.00748]\n",
            "Validate Epoch 1: 100%|██████████| 20/20 [00:05<00:00,  3.74it/s, WMAPE=2.18, DICE=0.0846, DPEAKS=49.7, Loss=0.00742]\n"
          ]
        },
        {
          "name": "stdout",
          "output_type": "stream",
          "text": [
            "Saving best model\n",
            "Epoch [2/50]\n"
          ]
        },
        {
          "name": "stderr",
          "output_type": "stream",
          "text": [
            "Train Epoch 2: 100%|██████████| 77/77 [00:24<00:00,  3.13it/s, WMAPE=2.26, DICE=0.084, DPEAKS=44.5, Loss=0.00703]\n",
            "Validate Epoch 2: 100%|██████████| 20/20 [00:04<00:00,  4.80it/s, WMAPE=2.59, DICE=0.0824, DPEAKS=45.2, Loss=0.00775]\n"
          ]
        },
        {
          "name": "stdout",
          "output_type": "stream",
          "text": [
            "Epoch [3/50]\n"
          ]
        },
        {
          "name": "stderr",
          "output_type": "stream",
          "text": [
            "Train Epoch 3: 100%|██████████| 77/77 [00:24<00:00,  3.15it/s, WMAPE=2.26, DICE=0.0843, DPEAKS=46.2, Loss=0.00705]\n",
            "Validate Epoch 3: 100%|██████████| 20/20 [00:04<00:00,  4.76it/s, WMAPE=2.56, DICE=0.0856, DPEAKS=50.4, Loss=0.00773]\n"
          ]
        },
        {
          "name": "stdout",
          "output_type": "stream",
          "text": [
            "Epoch [4/50]\n"
          ]
        },
        {
          "name": "stderr",
          "output_type": "stream",
          "text": [
            "Train Epoch 4: 100%|██████████| 77/77 [00:24<00:00,  3.13it/s, WMAPE=2.2, DICE=0.0839, DPEAKS=45.7, Loss=0.00686]\n",
            "Validate Epoch 4: 100%|██████████| 20/20 [00:04<00:00,  4.73it/s, WMAPE=2.58, DICE=0.0827, DPEAKS=46.7, Loss=0.00749]\n"
          ]
        },
        {
          "name": "stdout",
          "output_type": "stream",
          "text": [
            "Epoch [5/50]\n"
          ]
        },
        {
          "name": "stderr",
          "output_type": "stream",
          "text": [
            "Train Epoch 5: 100%|██████████| 77/77 [00:24<00:00,  3.14it/s, WMAPE=2.13, DICE=0.0832, DPEAKS=43.5, Loss=0.00671]\n",
            "Validate Epoch 5: 100%|██████████| 20/20 [00:04<00:00,  4.80it/s, WMAPE=2.22, DICE=0.0828, DPEAKS=47.2, Loss=0.00782]\n"
          ]
        },
        {
          "name": "stdout",
          "output_type": "stream",
          "text": [
            "Epoch [6/50]\n"
          ]
        },
        {
          "name": "stderr",
          "output_type": "stream",
          "text": [
            "Train Epoch 6: 100%|██████████| 77/77 [00:24<00:00,  3.12it/s, WMAPE=2.09, DICE=0.0832, DPEAKS=46.2, Loss=0.00658]\n",
            "Validate Epoch 6: 100%|██████████| 20/20 [00:04<00:00,  4.80it/s, WMAPE=2.43, DICE=0.083, DPEAKS=47.1, Loss=0.00721]\n"
          ]
        },
        {
          "name": "stdout",
          "output_type": "stream",
          "text": [
            "Saving best model\n",
            "Epoch [7/50]\n"
          ]
        },
        {
          "name": "stderr",
          "output_type": "stream",
          "text": [
            "Train Epoch 7: 100%|██████████| 77/77 [00:24<00:00,  3.14it/s, WMAPE=2.05, DICE=0.0833, DPEAKS=45.9, Loss=0.00658]\n",
            "Validate Epoch 7: 100%|██████████| 20/20 [00:04<00:00,  4.71it/s, WMAPE=2.72, DICE=0.0842, DPEAKS=57, Loss=0.00829]\n"
          ]
        },
        {
          "name": "stdout",
          "output_type": "stream",
          "text": [
            "Epoch [8/50]\n"
          ]
        },
        {
          "name": "stderr",
          "output_type": "stream",
          "text": [
            "Train Epoch 8: 100%|██████████| 77/77 [00:24<00:00,  3.12it/s, WMAPE=1.99, DICE=0.0825, DPEAKS=44.3, Loss=0.00626]\n",
            "Validate Epoch 8: 100%|██████████| 20/20 [00:04<00:00,  4.76it/s, WMAPE=2.41, DICE=0.082, DPEAKS=48.5, Loss=0.00717]\n"
          ]
        },
        {
          "name": "stdout",
          "output_type": "stream",
          "text": [
            "Saving best model\n",
            "Epoch [9/50]\n"
          ]
        },
        {
          "name": "stderr",
          "output_type": "stream",
          "text": [
            "Train Epoch 9: 100%|██████████| 77/77 [00:24<00:00,  3.15it/s, WMAPE=1.94, DICE=0.0821, DPEAKS=43.5, Loss=0.00612]\n",
            "Validate Epoch 9: 100%|██████████| 20/20 [00:04<00:00,  4.72it/s, WMAPE=2.88, DICE=0.0812, DPEAKS=46.8, Loss=0.0083]\n"
          ]
        },
        {
          "name": "stdout",
          "output_type": "stream",
          "text": [
            "Epoch [10/50]\n"
          ]
        },
        {
          "name": "stderr",
          "output_type": "stream",
          "text": [
            "Train Epoch 10: 100%|██████████| 77/77 [00:24<00:00,  3.13it/s, WMAPE=1.9, DICE=0.0817, DPEAKS=42.7, Loss=0.00599]\n",
            "Validate Epoch 10: 100%|██████████| 20/20 [00:04<00:00,  4.77it/s, WMAPE=2.41, DICE=0.0806, DPEAKS=44.1, Loss=0.00719]\n"
          ]
        },
        {
          "name": "stdout",
          "output_type": "stream",
          "text": [
            "Epoch [11/50]\n"
          ]
        },
        {
          "name": "stderr",
          "output_type": "stream",
          "text": [
            "Train Epoch 11: 100%|██████████| 77/77 [00:24<00:00,  3.14it/s, WMAPE=1.86, DICE=0.0813, DPEAKS=42.8, Loss=0.00581]\n",
            "Validate Epoch 11: 100%|██████████| 20/20 [00:04<00:00,  4.79it/s, WMAPE=2.38, DICE=0.0804, DPEAKS=47.5, Loss=0.00741]\n"
          ]
        },
        {
          "name": "stdout",
          "output_type": "stream",
          "text": [
            "Epoch [12/50]\n"
          ]
        },
        {
          "name": "stderr",
          "output_type": "stream",
          "text": [
            "Train Epoch 12: 100%|██████████| 77/77 [00:24<00:00,  3.12it/s, WMAPE=1.83, DICE=0.0812, DPEAKS=43.6, Loss=0.00572]\n",
            "Validate Epoch 12: 100%|██████████| 20/20 [00:04<00:00,  4.73it/s, WMAPE=2.25, DICE=0.0805, DPEAKS=44.5, Loss=0.00773]\n"
          ]
        },
        {
          "name": "stdout",
          "output_type": "stream",
          "text": [
            "Epoch [13/50]\n"
          ]
        },
        {
          "name": "stderr",
          "output_type": "stream",
          "text": [
            "Train Epoch 13: 100%|██████████| 77/77 [00:24<00:00,  3.11it/s, WMAPE=1.86, DICE=0.081, DPEAKS=42.9, Loss=0.00585]\n",
            "Validate Epoch 13: 100%|██████████| 20/20 [00:04<00:00,  4.78it/s, WMAPE=2.23, DICE=0.0805, DPEAKS=42.9, Loss=0.00726]\n"
          ]
        },
        {
          "name": "stdout",
          "output_type": "stream",
          "text": [
            "early stopping: 5 epochs without improvement\n",
            "Training complete.\n"
          ]
        },
        {
          "name": "stderr",
          "output_type": "stream",
          "text": [
            "Validate Epoch test: 100%|██████████| 486/486 [02:04<00:00,  3.89it/s, WMAPE=2.37, DICE=0.082, DPEAKS=48.8, Loss=0.00707]\n"
          ]
        },
        {
          "name": "stdout",
          "output_type": "stream",
          "text": [
            "Change mode to training encoder\n",
            "Epoch [1/50]\n"
          ]
        },
        {
          "name": "stderr",
          "output_type": "stream",
          "text": [
            "Train Epoch 1: 100%|██████████| 77/77 [00:34<00:00,  2.21it/s, WMAPE=2.44, DICE=0.0926, DPEAKS=60.1, Loss=0.00771]\n",
            "Validate Epoch 1: 100%|██████████| 20/20 [00:05<00:00,  3.76it/s, WMAPE=13.9, DICE=0.0966, DPEAKS=85, Loss=0.0394]\n"
          ]
        },
        {
          "name": "stdout",
          "output_type": "stream",
          "text": [
            "Saving best model\n",
            "Epoch [2/50]\n"
          ]
        },
        {
          "name": "stderr",
          "output_type": "stream",
          "text": [
            "Train Epoch 2: 100%|██████████| 77/77 [00:29<00:00,  2.57it/s, WMAPE=2.18, DICE=0.0824, DPEAKS=49.7, Loss=0.00684]\n",
            "Validate Epoch 2: 100%|██████████| 20/20 [00:04<00:00,  4.77it/s, WMAPE=10.5, DICE=0.0907, DPEAKS=56.8, Loss=0.0284]\n"
          ]
        },
        {
          "name": "stdout",
          "output_type": "stream",
          "text": [
            "Saving best model\n",
            "Epoch [3/50]\n"
          ]
        },
        {
          "name": "stderr",
          "output_type": "stream",
          "text": [
            "Train Epoch 3: 100%|██████████| 77/77 [00:29<00:00,  2.57it/s, WMAPE=2.05, DICE=0.0792, DPEAKS=44.6, Loss=0.00646]\n",
            "Validate Epoch 3: 100%|██████████| 20/20 [00:04<00:00,  4.02it/s, WMAPE=9.48, DICE=0.0836, DPEAKS=65.6, Loss=0.027]\n"
          ]
        },
        {
          "name": "stdout",
          "output_type": "stream",
          "text": [
            "Saving best model\n",
            "Epoch [4/50]\n"
          ]
        },
        {
          "name": "stderr",
          "output_type": "stream",
          "text": [
            "Train Epoch 4: 100%|██████████| 77/77 [00:31<00:00,  2.41it/s, WMAPE=2.05, DICE=0.0773, DPEAKS=44.5, Loss=0.00637]\n",
            "Validate Epoch 4: 100%|██████████| 20/20 [00:04<00:00,  4.57it/s, WMAPE=2.95, DICE=0.0772, DPEAKS=47.5, Loss=0.00907]\n"
          ]
        },
        {
          "name": "stdout",
          "output_type": "stream",
          "text": [
            "Saving best model\n",
            "Epoch [5/50]\n"
          ]
        },
        {
          "name": "stderr",
          "output_type": "stream",
          "text": [
            "Train Epoch 5: 100%|██████████| 77/77 [00:32<00:00,  2.41it/s, WMAPE=2.96, DICE=0.132, DPEAKS=83.9, Loss=0.00978]\n",
            "Validate Epoch 5: 100%|██████████| 20/20 [00:04<00:00,  4.56it/s, WMAPE=11.5, DICE=0.149, DPEAKS=88.9, Loss=0.0319]\n"
          ]
        },
        {
          "name": "stdout",
          "output_type": "stream",
          "text": [
            "Epoch [6/50]\n"
          ]
        },
        {
          "name": "stderr",
          "output_type": "stream",
          "text": [
            "Train Epoch 6: 100%|██████████| 77/77 [00:32<00:00,  2.40it/s, WMAPE=2.68, DICE=0.115, DPEAKS=77.6, Loss=0.00876]\n",
            "Validate Epoch 6: 100%|██████████| 20/20 [00:04<00:00,  4.52it/s, WMAPE=6.09, DICE=0.101, DPEAKS=69.7, Loss=0.0181]\n"
          ]
        },
        {
          "name": "stdout",
          "output_type": "stream",
          "text": [
            "Epoch [7/50]\n"
          ]
        },
        {
          "name": "stderr",
          "output_type": "stream",
          "text": [
            "Train Epoch 7: 100%|██████████| 77/77 [00:32<00:00,  2.40it/s, WMAPE=2.28, DICE=0.0935, DPEAKS=58.4, Loss=0.00727]\n",
            "Validate Epoch 7: 100%|██████████| 20/20 [00:04<00:00,  4.50it/s, WMAPE=9.89, DICE=0.0933, DPEAKS=56, Loss=0.0264]\n"
          ]
        },
        {
          "name": "stdout",
          "output_type": "stream",
          "text": [
            "Epoch [8/50]\n"
          ]
        },
        {
          "name": "stderr",
          "output_type": "stream",
          "text": [
            "Train Epoch 8: 100%|██████████| 77/77 [00:31<00:00,  2.41it/s, WMAPE=2.1, DICE=0.0837, DPEAKS=50.7, Loss=0.00667]\n",
            "Validate Epoch 8: 100%|██████████| 20/20 [00:04<00:00,  4.60it/s, WMAPE=2.98, DICE=0.082, DPEAKS=52.2, Loss=0.00837]\n"
          ]
        },
        {
          "name": "stdout",
          "output_type": "stream",
          "text": [
            "Saving best model\n",
            "Epoch [9/50]\n"
          ]
        },
        {
          "name": "stderr",
          "output_type": "stream",
          "text": [
            "Train Epoch 9: 100%|██████████| 77/77 [00:32<00:00,  2.39it/s, WMAPE=1.97, DICE=0.0797, DPEAKS=48.1, Loss=0.00623]\n",
            "Validate Epoch 9: 100%|██████████| 20/20 [00:04<00:00,  4.55it/s, WMAPE=4.77, DICE=0.0794, DPEAKS=45.3, Loss=0.0127]\n"
          ]
        },
        {
          "name": "stdout",
          "output_type": "stream",
          "text": [
            "Epoch [10/50]\n"
          ]
        },
        {
          "name": "stderr",
          "output_type": "stream",
          "text": [
            "Train Epoch 10: 100%|██████████| 77/77 [00:32<00:00,  2.39it/s, WMAPE=1.89, DICE=0.0776, DPEAKS=46.2, Loss=0.00598]\n",
            "Validate Epoch 10: 100%|██████████| 20/20 [00:04<00:00,  4.47it/s, WMAPE=7.91, DICE=0.0797, DPEAKS=48.5, Loss=0.0211]\n"
          ]
        },
        {
          "name": "stdout",
          "output_type": "stream",
          "text": [
            "Epoch [11/50]\n"
          ]
        },
        {
          "name": "stderr",
          "output_type": "stream",
          "text": [
            "Train Epoch 11: 100%|██████████| 77/77 [00:32<00:00,  2.38it/s, WMAPE=1.95, DICE=0.0786, DPEAKS=47.5, Loss=0.0061]\n",
            "Validate Epoch 11: 100%|██████████| 20/20 [00:04<00:00,  4.54it/s, WMAPE=3.46, DICE=0.0783, DPEAKS=46.1, Loss=0.00961]\n"
          ]
        },
        {
          "name": "stdout",
          "output_type": "stream",
          "text": [
            "Epoch [12/50]\n"
          ]
        },
        {
          "name": "stderr",
          "output_type": "stream",
          "text": [
            "Train Epoch 12: 100%|██████████| 77/77 [00:32<00:00,  2.39it/s, WMAPE=1.8, DICE=0.0746, DPEAKS=44.5, Loss=0.00563]\n",
            "Validate Epoch 12: 100%|██████████| 20/20 [00:04<00:00,  4.58it/s, WMAPE=2.44, DICE=0.0747, DPEAKS=46.5, Loss=0.00762]\n"
          ]
        },
        {
          "name": "stdout",
          "output_type": "stream",
          "text": [
            "Saving best model\n",
            "Epoch [13/50]\n"
          ]
        },
        {
          "name": "stderr",
          "output_type": "stream",
          "text": [
            "Train Epoch 13: 100%|██████████| 77/77 [00:32<00:00,  2.39it/s, WMAPE=1.74, DICE=0.0727, DPEAKS=43.4, Loss=0.00544]\n",
            "Validate Epoch 13: 100%|██████████| 20/20 [00:04<00:00,  4.52it/s, WMAPE=2.86, DICE=0.0738, DPEAKS=43.6, Loss=0.00808]\n"
          ]
        },
        {
          "name": "stdout",
          "output_type": "stream",
          "text": [
            "Epoch [14/50]\n"
          ]
        },
        {
          "name": "stderr",
          "output_type": "stream",
          "text": [
            "Train Epoch 14: 100%|██████████| 77/77 [00:32<00:00,  2.38it/s, WMAPE=1.69, DICE=0.0716, DPEAKS=42.8, Loss=0.00534]\n",
            "Validate Epoch 14: 100%|██████████| 20/20 [00:04<00:00,  4.53it/s, WMAPE=5.4, DICE=0.074, DPEAKS=40.3, Loss=0.0144]\n"
          ]
        },
        {
          "name": "stdout",
          "output_type": "stream",
          "text": [
            "Epoch [15/50]\n"
          ]
        },
        {
          "name": "stderr",
          "output_type": "stream",
          "text": [
            "Train Epoch 15: 100%|██████████| 77/77 [00:32<00:00,  2.39it/s, WMAPE=1.65, DICE=0.0708, DPEAKS=41.6, Loss=0.00518]\n",
            "Validate Epoch 15: 100%|██████████| 20/20 [00:04<00:00,  4.54it/s, WMAPE=4.68, DICE=0.0736, DPEAKS=43.5, Loss=0.0126]\n"
          ]
        },
        {
          "name": "stdout",
          "output_type": "stream",
          "text": [
            "Epoch [16/50]\n"
          ]
        },
        {
          "name": "stderr",
          "output_type": "stream",
          "text": [
            "Train Epoch 16: 100%|██████████| 77/77 [00:32<00:00,  2.39it/s, WMAPE=1.77, DICE=0.0736, DPEAKS=46.4, Loss=0.00556]\n",
            "Validate Epoch 16: 100%|██████████| 20/20 [00:04<00:00,  4.55it/s, WMAPE=6.31, DICE=0.0734, DPEAKS=44, Loss=0.0168]\n"
          ]
        },
        {
          "name": "stdout",
          "output_type": "stream",
          "text": [
            "Epoch [17/50]\n"
          ]
        },
        {
          "name": "stderr",
          "output_type": "stream",
          "text": [
            "Train Epoch 17: 100%|██████████| 77/77 [00:32<00:00,  2.37it/s, WMAPE=1.59, DICE=0.0688, DPEAKS=43.4, Loss=0.00499]\n",
            "Validate Epoch 17: 100%|██████████| 20/20 [00:04<00:00,  4.45it/s, WMAPE=4.44, DICE=0.069, DPEAKS=53, Loss=0.013]\n"
          ]
        },
        {
          "name": "stdout",
          "output_type": "stream",
          "text": [
            "early stopping: 5 epochs without improvement\n",
            "Training complete.\n"
          ]
        },
        {
          "name": "stderr",
          "output_type": "stream",
          "text": [
            "Validate Epoch test: 100%|██████████| 486/486 [02:13<00:00,  3.63it/s, WMAPE=2.42, DICE=0.0746, DPEAKS=43.2, Loss=0.00757]\n"
          ]
        },
        {
          "name": "stdout",
          "output_type": "stream",
          "text": [
            "Change mode to training decoder\n",
            "Epoch [1/50]\n"
          ]
        },
        {
          "name": "stderr",
          "output_type": "stream",
          "text": [
            "Train Epoch 1: 100%|██████████| 77/77 [00:31<00:00,  2.46it/s, WMAPE=2.28, DICE=0.0746, DPEAKS=41.3, Loss=0.00697]\n",
            "Validate Epoch 1: 100%|██████████| 20/20 [00:05<00:00,  3.56it/s, WMAPE=2.08, DICE=0.0727, DPEAKS=41.8, Loss=0.0073]\n"
          ]
        },
        {
          "name": "stdout",
          "output_type": "stream",
          "text": [
            "Saving best model\n",
            "Epoch [2/50]\n"
          ]
        },
        {
          "name": "stderr",
          "output_type": "stream",
          "text": [
            "Train Epoch 2: 100%|██████████| 77/77 [00:26<00:00,  2.92it/s, WMAPE=2.05, DICE=0.0723, DPEAKS=39.8, Loss=0.00632]\n",
            "Validate Epoch 2: 100%|██████████| 20/20 [00:04<00:00,  4.53it/s, WMAPE=2.04, DICE=0.072, DPEAKS=43.4, Loss=0.00632]\n"
          ]
        },
        {
          "name": "stdout",
          "output_type": "stream",
          "text": [
            "Saving best model\n",
            "Epoch [3/50]\n"
          ]
        },
        {
          "name": "stderr",
          "output_type": "stream",
          "text": [
            "Train Epoch 3: 100%|██████████| 77/77 [00:26<00:00,  2.92it/s, WMAPE=1.97, DICE=0.0717, DPEAKS=37.4, Loss=0.00603]\n",
            "Validate Epoch 3: 100%|██████████| 20/20 [00:04<00:00,  4.43it/s, WMAPE=2.12, DICE=0.0714, DPEAKS=42.4, Loss=0.00642]\n"
          ]
        },
        {
          "name": "stdout",
          "output_type": "stream",
          "text": [
            "Epoch [4/50]\n"
          ]
        },
        {
          "name": "stderr",
          "output_type": "stream",
          "text": [
            "Train Epoch 4: 100%|██████████| 77/77 [00:26<00:00,  2.92it/s, WMAPE=1.94, DICE=0.0719, DPEAKS=37.4, Loss=0.00598]\n",
            "Validate Epoch 4: 100%|██████████| 20/20 [00:04<00:00,  4.55it/s, WMAPE=2.1, DICE=0.0716, DPEAKS=42.8, Loss=0.0065]\n"
          ]
        },
        {
          "name": "stdout",
          "output_type": "stream",
          "text": [
            "Epoch [5/50]\n"
          ]
        },
        {
          "name": "stderr",
          "output_type": "stream",
          "text": [
            "Train Epoch 5: 100%|██████████| 77/77 [00:26<00:00,  2.91it/s, WMAPE=1.88, DICE=0.0718, DPEAKS=38.1, Loss=0.0058]\n",
            "Validate Epoch 5: 100%|██████████| 20/20 [00:04<00:00,  4.50it/s, WMAPE=2.27, DICE=0.0718, DPEAKS=40.2, Loss=0.00708]\n"
          ]
        },
        {
          "name": "stdout",
          "output_type": "stream",
          "text": [
            "Epoch [6/50]\n"
          ]
        },
        {
          "name": "stderr",
          "output_type": "stream",
          "text": [
            "Train Epoch 6: 100%|██████████| 77/77 [00:26<00:00,  2.92it/s, WMAPE=1.91, DICE=0.0727, DPEAKS=38.9, Loss=0.00594]\n",
            "Validate Epoch 6: 100%|██████████| 20/20 [00:04<00:00,  4.54it/s, WMAPE=2.18, DICE=0.0709, DPEAKS=41.5, Loss=0.00674]\n"
          ]
        },
        {
          "name": "stdout",
          "output_type": "stream",
          "text": [
            "Epoch [7/50]\n"
          ]
        },
        {
          "name": "stderr",
          "output_type": "stream",
          "text": [
            "Train Epoch 7: 100%|██████████| 77/77 [00:26<00:00,  2.92it/s, WMAPE=1.8, DICE=0.0716, DPEAKS=37.7, Loss=0.00564]\n",
            "Validate Epoch 7: 100%|██████████| 20/20 [00:04<00:00,  4.53it/s, WMAPE=2.11, DICE=0.0711, DPEAKS=40.4, Loss=0.00654]\n"
          ]
        },
        {
          "name": "stdout",
          "output_type": "stream",
          "text": [
            "Epoch [8/50]\n"
          ]
        },
        {
          "name": "stderr",
          "output_type": "stream",
          "text": [
            "Train Epoch 8: 100%|██████████| 77/77 [00:26<00:00,  2.90it/s, WMAPE=1.72, DICE=0.0711, DPEAKS=35.3, Loss=0.00534]\n",
            "Validate Epoch 8: 100%|██████████| 20/20 [00:04<00:00,  4.47it/s, WMAPE=2.09, DICE=0.0696, DPEAKS=38.3, Loss=0.00652]\n"
          ]
        },
        {
          "name": "stdout",
          "output_type": "stream",
          "text": [
            "Epoch [9/50]\n"
          ]
        },
        {
          "name": "stderr",
          "output_type": "stream",
          "text": [
            "Train Epoch 9: 100%|██████████| 77/77 [00:26<00:00,  2.90it/s, WMAPE=1.7, DICE=0.0703, DPEAKS=35.9, Loss=0.00528]\n",
            "Validate Epoch 9: 100%|██████████| 20/20 [00:04<00:00,  4.47it/s, WMAPE=2.29, DICE=0.0699, DPEAKS=38.9, Loss=0.00672]\n"
          ]
        },
        {
          "name": "stdout",
          "output_type": "stream",
          "text": [
            "Epoch [10/50]\n"
          ]
        },
        {
          "name": "stderr",
          "output_type": "stream",
          "text": [
            "Train Epoch 10: 100%|██████████| 77/77 [00:26<00:00,  2.92it/s, WMAPE=1.67, DICE=0.07, DPEAKS=35.6, Loss=0.00512]\n",
            "Validate Epoch 10: 100%|██████████| 20/20 [00:04<00:00,  4.42it/s, WMAPE=2.41, DICE=0.0697, DPEAKS=38.9, Loss=0.00698]\n"
          ]
        },
        {
          "name": "stdout",
          "output_type": "stream",
          "text": [
            "Epoch [11/50]\n"
          ]
        },
        {
          "name": "stderr",
          "output_type": "stream",
          "text": [
            "Train Epoch 11: 100%|██████████| 77/77 [00:26<00:00,  2.91it/s, WMAPE=1.65, DICE=0.07, DPEAKS=34.6, Loss=0.00509]\n",
            "Validate Epoch 11: 100%|██████████| 20/20 [00:04<00:00,  4.41it/s, WMAPE=2.09, DICE=0.0705, DPEAKS=38.9, Loss=0.00682]\n"
          ]
        },
        {
          "name": "stdout",
          "output_type": "stream",
          "text": [
            "Epoch [12/50]\n"
          ]
        },
        {
          "name": "stderr",
          "output_type": "stream",
          "text": [
            "Train Epoch 12: 100%|██████████| 77/77 [00:26<00:00,  2.91it/s, WMAPE=1.63, DICE=0.0698, DPEAKS=35.7, Loss=0.00501]\n",
            "Validate Epoch 12: 100%|██████████| 20/20 [00:04<00:00,  4.63it/s, WMAPE=2.51, DICE=0.0691, DPEAKS=38.1, Loss=0.00736]\n"
          ]
        },
        {
          "name": "stdout",
          "output_type": "stream",
          "text": [
            "Epoch [13/50]\n"
          ]
        },
        {
          "name": "stderr",
          "output_type": "stream",
          "text": [
            "Train Epoch 13: 100%|██████████| 77/77 [00:25<00:00,  3.02it/s, WMAPE=1.67, DICE=0.0697, DPEAKS=34.5, Loss=0.00519]\n",
            "Validate Epoch 13: 100%|██████████| 20/20 [00:04<00:00,  4.69it/s, WMAPE=2.16, DICE=0.0697, DPEAKS=38.8, Loss=0.00658]\n"
          ]
        },
        {
          "name": "stdout",
          "output_type": "stream",
          "text": [
            "Epoch [14/50]\n"
          ]
        },
        {
          "name": "stderr",
          "output_type": "stream",
          "text": [
            "Train Epoch 14: 100%|██████████| 77/77 [00:26<00:00,  2.94it/s, WMAPE=1.7, DICE=0.0702, DPEAKS=36.3, Loss=0.00528]\n",
            "Validate Epoch 14: 100%|██████████| 20/20 [00:04<00:00,  4.45it/s, WMAPE=2.37, DICE=0.0701, DPEAKS=41.2, Loss=0.00719]\n"
          ]
        },
        {
          "name": "stdout",
          "output_type": "stream",
          "text": [
            "Epoch [15/50]\n"
          ]
        },
        {
          "name": "stderr",
          "output_type": "stream",
          "text": [
            "Train Epoch 15: 100%|██████████| 77/77 [00:26<00:00,  2.90it/s, WMAPE=1.69, DICE=0.0698, DPEAKS=36.5, Loss=0.00519]\n",
            "Validate Epoch 15: 100%|██████████| 20/20 [00:04<00:00,  4.43it/s, WMAPE=2.47, DICE=0.0695, DPEAKS=40, Loss=0.00721]\n"
          ]
        },
        {
          "name": "stdout",
          "output_type": "stream",
          "text": [
            "Epoch [16/50]\n"
          ]
        },
        {
          "name": "stderr",
          "output_type": "stream",
          "text": [
            "Train Epoch 16: 100%|██████████| 77/77 [00:26<00:00,  2.91it/s, WMAPE=1.69, DICE=0.0698, DPEAKS=34.5, Loss=0.00522]\n",
            "Validate Epoch 16: 100%|██████████| 20/20 [00:04<00:00,  4.43it/s, WMAPE=2.17, DICE=0.0697, DPEAKS=38.8, Loss=0.00718]\n"
          ]
        },
        {
          "name": "stdout",
          "output_type": "stream",
          "text": [
            "Epoch [17/50]\n"
          ]
        },
        {
          "name": "stderr",
          "output_type": "stream",
          "text": [
            "Train Epoch 17: 100%|██████████| 77/77 [00:26<00:00,  2.91it/s, WMAPE=1.69, DICE=0.0699, DPEAKS=35.7, Loss=0.0052]\n",
            "Validate Epoch 17: 100%|██████████| 20/20 [00:04<00:00,  4.44it/s, WMAPE=2.2, DICE=0.0695, DPEAKS=38.4, Loss=0.00661]\n"
          ]
        },
        {
          "name": "stdout",
          "output_type": "stream",
          "text": [
            "Epoch [18/50]\n"
          ]
        },
        {
          "name": "stderr",
          "output_type": "stream",
          "text": [
            "Train Epoch 18: 100%|██████████| 77/77 [00:26<00:00,  2.89it/s, WMAPE=1.6, DICE=0.0692, DPEAKS=35.7, Loss=0.00497]\n",
            "Validate Epoch 18: 100%|██████████| 20/20 [00:04<00:00,  4.49it/s, WMAPE=2.11, DICE=0.069, DPEAKS=37.7, Loss=0.00647]\n"
          ]
        },
        {
          "name": "stdout",
          "output_type": "stream",
          "text": [
            "Epoch [19/50]\n"
          ]
        },
        {
          "name": "stderr",
          "output_type": "stream",
          "text": [
            "Train Epoch 19: 100%|██████████| 77/77 [00:26<00:00,  2.91it/s, WMAPE=1.64, DICE=0.0693, DPEAKS=35.1, Loss=0.00503]\n",
            "Validate Epoch 19: 100%|██████████| 20/20 [00:04<00:00,  4.41it/s, WMAPE=2.35, DICE=0.0716, DPEAKS=38.4, Loss=0.00679]\n"
          ]
        },
        {
          "name": "stdout",
          "output_type": "stream",
          "text": [
            "Epoch [20/50]\n"
          ]
        },
        {
          "name": "stderr",
          "output_type": "stream",
          "text": [
            "Train Epoch 20: 100%|██████████| 77/77 [00:26<00:00,  2.93it/s, WMAPE=1.72, DICE=0.0703, DPEAKS=35.4, Loss=0.00535]\n",
            "Validate Epoch 20: 100%|██████████| 20/20 [00:04<00:00,  4.48it/s, WMAPE=2.11, DICE=0.0703, DPEAKS=39.4, Loss=0.0066]\n"
          ]
        },
        {
          "name": "stdout",
          "output_type": "stream",
          "text": [
            "Epoch [21/50]\n"
          ]
        },
        {
          "name": "stderr",
          "output_type": "stream",
          "text": [
            "Train Epoch 21: 100%|██████████| 77/77 [00:26<00:00,  2.90it/s, WMAPE=1.61, DICE=0.0692, DPEAKS=34.9, Loss=0.00493]\n",
            "Validate Epoch 21: 100%|██████████| 20/20 [00:04<00:00,  4.49it/s, WMAPE=2.15, DICE=0.0688, DPEAKS=37.7, Loss=0.0065]\n"
          ]
        },
        {
          "name": "stdout",
          "output_type": "stream",
          "text": [
            "Epoch [22/50]\n"
          ]
        },
        {
          "name": "stderr",
          "output_type": "stream",
          "text": [
            "Train Epoch 22: 100%|██████████| 77/77 [00:26<00:00,  2.87it/s, WMAPE=1.6, DICE=0.0686, DPEAKS=33.8, Loss=0.00486]\n",
            "Validate Epoch 22: 100%|██████████| 20/20 [00:04<00:00,  4.47it/s, WMAPE=2.25, DICE=0.0684, DPEAKS=37.4, Loss=0.00663]\n"
          ]
        },
        {
          "name": "stdout",
          "output_type": "stream",
          "text": [
            "Epoch [23/50]\n"
          ]
        },
        {
          "name": "stderr",
          "output_type": "stream",
          "text": [
            "Train Epoch 23: 100%|██████████| 77/77 [00:26<00:00,  2.89it/s, WMAPE=1.57, DICE=0.0685, DPEAKS=33.3, Loss=0.00483]\n",
            "Validate Epoch 23: 100%|██████████| 20/20 [00:04<00:00,  4.44it/s, WMAPE=2.31, DICE=0.0699, DPEAKS=38.9, Loss=0.00719]\n"
          ]
        },
        {
          "name": "stdout",
          "output_type": "stream",
          "text": [
            "Epoch [24/50]\n"
          ]
        },
        {
          "name": "stderr",
          "output_type": "stream",
          "text": [
            "Train Epoch 24: 100%|██████████| 77/77 [00:26<00:00,  2.87it/s, WMAPE=1.69, DICE=0.0693, DPEAKS=35.4, Loss=0.00516]\n",
            "Validate Epoch 24: 100%|██████████| 20/20 [00:04<00:00,  4.47it/s, WMAPE=2.47, DICE=0.0682, DPEAKS=37.5, Loss=0.00705]\n"
          ]
        },
        {
          "name": "stdout",
          "output_type": "stream",
          "text": [
            "Epoch [25/50]\n"
          ]
        },
        {
          "name": "stderr",
          "output_type": "stream",
          "text": [
            "Train Epoch 25: 100%|██████████| 77/77 [00:26<00:00,  2.88it/s, WMAPE=1.64, DICE=0.0685, DPEAKS=34.5, Loss=0.00499]\n",
            "Validate Epoch 25: 100%|██████████| 20/20 [00:04<00:00,  4.42it/s, WMAPE=2.12, DICE=0.0681, DPEAKS=36, Loss=0.0066]\n"
          ]
        },
        {
          "name": "stdout",
          "output_type": "stream",
          "text": [
            "Epoch [26/50]\n"
          ]
        },
        {
          "name": "stderr",
          "output_type": "stream",
          "text": [
            "Train Epoch 26: 100%|██████████| 77/77 [00:26<00:00,  2.88it/s, WMAPE=1.62, DICE=0.0684, DPEAKS=33.3, Loss=0.00493]\n",
            "Validate Epoch 26: 100%|██████████| 20/20 [00:04<00:00,  4.37it/s, WMAPE=2.42, DICE=0.0681, DPEAKS=38.1, Loss=0.00723]\n"
          ]
        },
        {
          "name": "stdout",
          "output_type": "stream",
          "text": [
            "Epoch [27/50]\n"
          ]
        },
        {
          "name": "stderr",
          "output_type": "stream",
          "text": [
            "Train Epoch 27: 100%|██████████| 77/77 [00:26<00:00,  2.86it/s, WMAPE=1.58, DICE=0.0681, DPEAKS=34, Loss=0.00483]\n",
            "Validate Epoch 27: 100%|██████████| 20/20 [00:04<00:00,  4.41it/s, WMAPE=2.38, DICE=0.0682, DPEAKS=37.3, Loss=0.00691]\n"
          ]
        },
        {
          "name": "stdout",
          "output_type": "stream",
          "text": [
            "Epoch [28/50]\n"
          ]
        },
        {
          "name": "stderr",
          "output_type": "stream",
          "text": [
            "Train Epoch 28: 100%|██████████| 77/77 [00:26<00:00,  2.85it/s, WMAPE=1.61, DICE=0.0688, DPEAKS=34.6, Loss=0.00496]\n",
            "Validate Epoch 28: 100%|██████████| 20/20 [00:04<00:00,  4.41it/s, WMAPE=2.18, DICE=0.0678, DPEAKS=37.1, Loss=0.00654]\n"
          ]
        },
        {
          "name": "stdout",
          "output_type": "stream",
          "text": [
            "Epoch [29/50]\n"
          ]
        },
        {
          "name": "stderr",
          "output_type": "stream",
          "text": [
            "Train Epoch 29: 100%|██████████| 77/77 [00:27<00:00,  2.85it/s, WMAPE=1.59, DICE=0.068, DPEAKS=33.2, Loss=0.00487]\n",
            "Validate Epoch 29: 100%|██████████| 20/20 [00:04<00:00,  4.42it/s, WMAPE=2.03, DICE=0.0676, DPEAKS=37.5, Loss=0.00646]\n"
          ]
        },
        {
          "name": "stdout",
          "output_type": "stream",
          "text": [
            "Epoch [30/50]\n"
          ]
        },
        {
          "name": "stderr",
          "output_type": "stream",
          "text": [
            "Train Epoch 30: 100%|██████████| 77/77 [00:26<00:00,  2.86it/s, WMAPE=1.65, DICE=0.0685, DPEAKS=33.8, Loss=0.00508]\n",
            "Validate Epoch 30: 100%|██████████| 20/20 [00:04<00:00,  4.43it/s, WMAPE=2.11, DICE=0.0682, DPEAKS=37.2, Loss=0.00642]\n"
          ]
        },
        {
          "name": "stdout",
          "output_type": "stream",
          "text": [
            "Epoch [31/50]\n"
          ]
        },
        {
          "name": "stderr",
          "output_type": "stream",
          "text": [
            "Train Epoch 31: 100%|██████████| 77/77 [00:27<00:00,  2.83it/s, WMAPE=1.59, DICE=0.0683, DPEAKS=34.6, Loss=0.00487]\n",
            "Validate Epoch 31: 100%|██████████| 20/20 [00:04<00:00,  4.42it/s, WMAPE=2.15, DICE=0.0678, DPEAKS=36.6, Loss=0.0065]\n"
          ]
        },
        {
          "name": "stdout",
          "output_type": "stream",
          "text": [
            "Epoch [32/50]\n"
          ]
        },
        {
          "name": "stderr",
          "output_type": "stream",
          "text": [
            "Train Epoch 32: 100%|██████████| 77/77 [00:27<00:00,  2.85it/s, WMAPE=1.58, DICE=0.0679, DPEAKS=33.6, Loss=0.00477]\n",
            "Validate Epoch 32: 100%|██████████| 20/20 [00:04<00:00,  4.40it/s, WMAPE=2.24, DICE=0.0678, DPEAKS=36.9, Loss=0.00656]\n"
          ]
        },
        {
          "name": "stdout",
          "output_type": "stream",
          "text": [
            "Epoch [33/50]\n"
          ]
        },
        {
          "name": "stderr",
          "output_type": "stream",
          "text": [
            "Train Epoch 33: 100%|██████████| 77/77 [00:27<00:00,  2.83it/s, WMAPE=1.61, DICE=0.0679, DPEAKS=33.9, Loss=0.00495]\n",
            "Validate Epoch 33: 100%|██████████| 20/20 [00:04<00:00,  4.41it/s, WMAPE=2.28, DICE=0.0681, DPEAKS=38.6, Loss=0.00686]\n"
          ]
        },
        {
          "name": "stdout",
          "output_type": "stream",
          "text": [
            "Epoch [34/50]\n"
          ]
        },
        {
          "name": "stderr",
          "output_type": "stream",
          "text": [
            "Train Epoch 34: 100%|██████████| 77/77 [00:27<00:00,  2.84it/s, WMAPE=1.59, DICE=0.068, DPEAKS=34.4, Loss=0.00491]\n",
            "Validate Epoch 34: 100%|██████████| 20/20 [00:04<00:00,  4.30it/s, WMAPE=2.19, DICE=0.0678, DPEAKS=39.2, Loss=0.00664]\n"
          ]
        },
        {
          "name": "stdout",
          "output_type": "stream",
          "text": [
            "Epoch [35/50]\n"
          ]
        },
        {
          "name": "stderr",
          "output_type": "stream",
          "text": [
            "Train Epoch 35: 100%|██████████| 77/77 [00:27<00:00,  2.82it/s, WMAPE=1.62, DICE=0.068, DPEAKS=33.7, Loss=0.00496]\n",
            "Validate Epoch 35: 100%|██████████| 20/20 [00:04<00:00,  4.45it/s, WMAPE=2.08, DICE=0.0676, DPEAKS=36, Loss=0.0064]\n"
          ]
        },
        {
          "name": "stdout",
          "output_type": "stream",
          "text": [
            "Epoch [36/50]\n"
          ]
        },
        {
          "name": "stderr",
          "output_type": "stream",
          "text": [
            "Train Epoch 36: 100%|██████████| 77/77 [00:26<00:00,  2.87it/s, WMAPE=1.63, DICE=0.0682, DPEAKS=34.1, Loss=0.00506]\n",
            "Validate Epoch 36: 100%|██████████| 20/20 [00:04<00:00,  4.41it/s, WMAPE=2.3, DICE=0.0686, DPEAKS=37.1, Loss=0.00741]\n"
          ]
        },
        {
          "name": "stdout",
          "output_type": "stream",
          "text": [
            "Epoch [37/50]\n"
          ]
        },
        {
          "name": "stderr",
          "output_type": "stream",
          "text": [
            "Train Epoch 37: 100%|██████████| 77/77 [00:27<00:00,  2.84it/s, WMAPE=1.6, DICE=0.0681, DPEAKS=34, Loss=0.00498]\n",
            "Validate Epoch 37: 100%|██████████| 20/20 [00:04<00:00,  4.43it/s, WMAPE=2.35, DICE=0.0682, DPEAKS=38.5, Loss=0.00689]\n"
          ]
        },
        {
          "name": "stdout",
          "output_type": "stream",
          "text": [
            "Epoch [38/50]\n"
          ]
        },
        {
          "name": "stderr",
          "output_type": "stream",
          "text": [
            "Train Epoch 38: 100%|██████████| 77/77 [00:26<00:00,  2.89it/s, WMAPE=1.61, DICE=0.0678, DPEAKS=33, Loss=0.0049]\n",
            "Validate Epoch 38: 100%|██████████| 20/20 [00:04<00:00,  4.38it/s, WMAPE=2.09, DICE=0.0672, DPEAKS=36.2, Loss=0.00661]\n"
          ]
        },
        {
          "name": "stdout",
          "output_type": "stream",
          "text": [
            "Epoch [39/50]\n"
          ]
        },
        {
          "name": "stderr",
          "output_type": "stream",
          "text": [
            "Train Epoch 39: 100%|██████████| 77/77 [00:26<00:00,  2.86it/s, WMAPE=1.58, DICE=0.0676, DPEAKS=33.4, Loss=0.00487]\n",
            "Validate Epoch 39: 100%|██████████| 20/20 [00:04<00:00,  4.46it/s, WMAPE=2.53, DICE=0.0693, DPEAKS=40.7, Loss=0.00737]\n"
          ]
        },
        {
          "name": "stdout",
          "output_type": "stream",
          "text": [
            "Epoch [40/50]\n"
          ]
        },
        {
          "name": "stderr",
          "output_type": "stream",
          "text": [
            "Train Epoch 40: 100%|██████████| 77/77 [00:26<00:00,  2.89it/s, WMAPE=1.57, DICE=0.0676, DPEAKS=33.1, Loss=0.00476]\n",
            "Validate Epoch 40: 100%|██████████| 20/20 [00:04<00:00,  4.61it/s, WMAPE=2.31, DICE=0.0672, DPEAKS=35.2, Loss=0.00692]\n"
          ]
        },
        {
          "name": "stdout",
          "output_type": "stream",
          "text": [
            "Epoch [41/50]\n"
          ]
        },
        {
          "name": "stderr",
          "output_type": "stream",
          "text": [
            "Train Epoch 41: 100%|██████████| 77/77 [00:26<00:00,  2.96it/s, WMAPE=1.55, DICE=0.0673, DPEAKS=32.5, Loss=0.00472]\n",
            "Validate Epoch 41: 100%|██████████| 20/20 [00:04<00:00,  4.71it/s, WMAPE=2.02, DICE=0.0669, DPEAKS=35.7, Loss=0.00633]\n"
          ]
        },
        {
          "name": "stdout",
          "output_type": "stream",
          "text": [
            "Epoch [42/50]\n"
          ]
        },
        {
          "name": "stderr",
          "output_type": "stream",
          "text": [
            "Train Epoch 42: 100%|██████████| 77/77 [00:24<00:00,  3.08it/s, WMAPE=1.54, DICE=0.0671, DPEAKS=32, Loss=0.00472]\n",
            "Validate Epoch 42: 100%|██████████| 20/20 [00:04<00:00,  4.68it/s, WMAPE=2.22, DICE=0.0674, DPEAKS=35.9, Loss=0.00674]\n"
          ]
        },
        {
          "name": "stdout",
          "output_type": "stream",
          "text": [
            "Epoch [43/50]\n"
          ]
        },
        {
          "name": "stderr",
          "output_type": "stream",
          "text": [
            "Train Epoch 43: 100%|██████████| 77/77 [00:25<00:00,  3.05it/s, WMAPE=1.57, DICE=0.0675, DPEAKS=33.6, Loss=0.0048]\n",
            "Validate Epoch 43: 100%|██████████| 20/20 [00:04<00:00,  4.49it/s, WMAPE=2.15, DICE=0.067, DPEAKS=37.2, Loss=0.00654]\n"
          ]
        },
        {
          "name": "stdout",
          "output_type": "stream",
          "text": [
            "Epoch [44/50]\n"
          ]
        },
        {
          "name": "stderr",
          "output_type": "stream",
          "text": [
            "Train Epoch 44: 100%|██████████| 77/77 [00:25<00:00,  3.02it/s, WMAPE=1.54, DICE=0.0671, DPEAKS=32.6, Loss=0.0047]\n",
            "Validate Epoch 44: 100%|██████████| 20/20 [00:04<00:00,  4.44it/s, WMAPE=2.68, DICE=0.0672, DPEAKS=35.8, Loss=0.00773]\n"
          ]
        },
        {
          "name": "stdout",
          "output_type": "stream",
          "text": [
            "Epoch [45/50]\n"
          ]
        },
        {
          "name": "stderr",
          "output_type": "stream",
          "text": [
            "Train Epoch 45: 100%|██████████| 77/77 [00:26<00:00,  2.89it/s, WMAPE=1.55, DICE=0.0671, DPEAKS=34.8, Loss=0.00473]\n",
            "Validate Epoch 45: 100%|██████████| 20/20 [00:04<00:00,  4.49it/s, WMAPE=2.2, DICE=0.0667, DPEAKS=35.4, Loss=0.00664]\n"
          ]
        },
        {
          "name": "stdout",
          "output_type": "stream",
          "text": [
            "Epoch [46/50]\n"
          ]
        },
        {
          "name": "stderr",
          "output_type": "stream",
          "text": [
            "Train Epoch 46: 100%|██████████| 77/77 [00:26<00:00,  2.90it/s, WMAPE=1.57, DICE=0.0671, DPEAKS=32.7, Loss=0.00482]\n",
            "Validate Epoch 46: 100%|██████████| 20/20 [00:04<00:00,  4.47it/s, WMAPE=1.96, DICE=0.068, DPEAKS=34.8, Loss=0.00677]\n"
          ]
        },
        {
          "name": "stdout",
          "output_type": "stream",
          "text": [
            "Epoch [47/50]\n"
          ]
        },
        {
          "name": "stderr",
          "output_type": "stream",
          "text": [
            "Train Epoch 47: 100%|██████████| 77/77 [00:26<00:00,  2.88it/s, WMAPE=1.61, DICE=0.0675, DPEAKS=32.8, Loss=0.00492]\n",
            "Validate Epoch 47: 100%|██████████| 20/20 [00:04<00:00,  4.40it/s, WMAPE=2.04, DICE=0.0668, DPEAKS=35.1, Loss=0.00632]\n"
          ]
        },
        {
          "name": "stdout",
          "output_type": "stream",
          "text": [
            "Epoch [48/50]\n"
          ]
        },
        {
          "name": "stderr",
          "output_type": "stream",
          "text": [
            "Train Epoch 48: 100%|██████████| 77/77 [00:26<00:00,  2.85it/s, WMAPE=1.54, DICE=0.0667, DPEAKS=32.9, Loss=0.00464]\n",
            "Validate Epoch 48: 100%|██████████| 20/20 [00:04<00:00,  4.36it/s, WMAPE=2.07, DICE=0.0666, DPEAKS=36.4, Loss=0.00643]\n"
          ]
        },
        {
          "name": "stdout",
          "output_type": "stream",
          "text": [
            "Epoch [49/50]\n"
          ]
        },
        {
          "name": "stderr",
          "output_type": "stream",
          "text": [
            "Train Epoch 49: 100%|██████████| 77/77 [00:26<00:00,  2.86it/s, WMAPE=1.57, DICE=0.0672, DPEAKS=33.4, Loss=0.00488]\n",
            "Validate Epoch 49: 100%|██████████| 20/20 [00:04<00:00,  4.43it/s, WMAPE=2.47, DICE=0.0689, DPEAKS=39.2, Loss=0.00738]\n"
          ]
        },
        {
          "name": "stdout",
          "output_type": "stream",
          "text": [
            "Epoch [50/50]\n"
          ]
        },
        {
          "name": "stderr",
          "output_type": "stream",
          "text": [
            "Train Epoch 50: 100%|██████████| 77/77 [00:26<00:00,  2.92it/s, WMAPE=1.52, DICE=0.0673, DPEAKS=32.2, Loss=0.00462]\n",
            "Validate Epoch 50: 100%|██████████| 20/20 [00:04<00:00,  4.68it/s, WMAPE=2.04, DICE=0.0663, DPEAKS=33.6, Loss=0.00634]\n"
          ]
        },
        {
          "name": "stdout",
          "output_type": "stream",
          "text": [
            "Training complete.\n"
          ]
        },
        {
          "name": "stderr",
          "output_type": "stream",
          "text": [
            "Validate Epoch test: 100%|██████████| 486/486 [02:17<00:00,  3.55it/s, WMAPE=2.04, DICE=0.0721, DPEAKS=37.9, Loss=0.00627]"
          ]
        },
        {
          "name": "stdout",
          "output_type": "stream",
          "text": [
            "Change mode to training encoder\n"
          ]
        },
        {
          "name": "stderr",
          "output_type": "stream",
          "text": [
            "\n"
          ]
        }
      ],
      "source": [
        "many_partitions(2,10,model,criterion)"
      ]
    },
    {
      "cell_type": "code",
      "execution_count": 10,
      "metadata": {},
      "outputs": [
        {
          "data": {
            "text/plain": [
              "<All keys matched successfully>"
            ]
          },
          "execution_count": 10,
          "metadata": {},
          "output_type": "execute_result"
        }
      ],
      "source": [
        "current_partition = 9\n",
        "best_model_path = os.path.join(\n",
        "    \"models\", f\"best_model_partition_{current_partition}.pth\"\n",
        ")\n",
        "model.load_state_dict(torch.load(best_model_path,weights_only=True))"
      ]
    },
    {
      "cell_type": "code",
      "execution_count": 11,
      "metadata": {},
      "outputs": [
        {
          "name": "stdout",
          "output_type": "stream",
          "text": [
            "Change mode to training encoder\n",
            "Epoch [1/50]\n"
          ]
        },
        {
          "name": "stderr",
          "output_type": "stream",
          "text": [
            "Train Epoch 1: 100%|██████████| 77/77 [00:38<00:00,  2.03it/s, WMAPE=2.25, DICE=0.0776, DPEAKS=46.7, Loss=0.00682]\n",
            "Validate Epoch 1: 100%|██████████| 20/20 [00:05<00:00,  3.50it/s, WMAPE=2.29, DICE=0.0863, DPEAKS=60, Loss=0.00713]\n"
          ]
        },
        {
          "name": "stdout",
          "output_type": "stream",
          "text": [
            "Saving best model\n",
            "Epoch [2/50]\n"
          ]
        },
        {
          "name": "stderr",
          "output_type": "stream",
          "text": [
            "Train Epoch 2: 100%|██████████| 77/77 [00:32<00:00,  2.34it/s, WMAPE=2.29, DICE=0.0824, DPEAKS=50, Loss=0.00693]\n",
            "Validate Epoch 2: 100%|██████████| 20/20 [00:04<00:00,  4.47it/s, WMAPE=2.07, DICE=0.072, DPEAKS=41.1, Loss=0.00652]\n"
          ]
        },
        {
          "name": "stdout",
          "output_type": "stream",
          "text": [
            "Saving best model\n",
            "Epoch [3/50]\n"
          ]
        },
        {
          "name": "stderr",
          "output_type": "stream",
          "text": [
            "Train Epoch 3: 100%|██████████| 77/77 [00:32<00:00,  2.34it/s, WMAPE=2.16, DICE=0.0771, DPEAKS=47.8, Loss=0.00659]\n",
            "Validate Epoch 3: 100%|██████████| 20/20 [00:04<00:00,  4.45it/s, WMAPE=11.4, DICE=0.0884, DPEAKS=68.1, Loss=0.0337]\n"
          ]
        },
        {
          "name": "stdout",
          "output_type": "stream",
          "text": [
            "Epoch [4/50]\n"
          ]
        },
        {
          "name": "stderr",
          "output_type": "stream",
          "text": [
            "Train Epoch 4: 100%|██████████| 77/77 [00:32<00:00,  2.33it/s, WMAPE=2.03, DICE=0.0718, DPEAKS=42.7, Loss=0.0062]\n",
            "Validate Epoch 4: 100%|██████████| 20/20 [00:04<00:00,  4.48it/s, WMAPE=6.98, DICE=0.0744, DPEAKS=50.3, Loss=0.021]\n"
          ]
        },
        {
          "name": "stdout",
          "output_type": "stream",
          "text": [
            "Epoch [5/50]\n"
          ]
        },
        {
          "name": "stderr",
          "output_type": "stream",
          "text": [
            "Train Epoch 5: 100%|██████████| 77/77 [00:32<00:00,  2.37it/s, WMAPE=2.03, DICE=0.0702, DPEAKS=41.9, Loss=0.00613]\n",
            "Validate Epoch 5: 100%|██████████| 20/20 [00:04<00:00,  4.46it/s, WMAPE=2.82, DICE=0.0703, DPEAKS=37.5, Loss=0.00827]\n"
          ]
        },
        {
          "name": "stdout",
          "output_type": "stream",
          "text": [
            "Epoch [6/50]\n"
          ]
        },
        {
          "name": "stderr",
          "output_type": "stream",
          "text": [
            "Train Epoch 6: 100%|██████████| 77/77 [00:32<00:00,  2.34it/s, WMAPE=1.96, DICE=0.0691, DPEAKS=40.8, Loss=0.00597]\n",
            "Validate Epoch 6: 100%|██████████| 20/20 [00:04<00:00,  4.53it/s, WMAPE=3.89, DICE=0.0712, DPEAKS=46.2, Loss=0.0121]\n"
          ]
        },
        {
          "name": "stdout",
          "output_type": "stream",
          "text": [
            "Epoch [7/50]\n"
          ]
        },
        {
          "name": "stderr",
          "output_type": "stream",
          "text": [
            "Train Epoch 7: 100%|██████████| 77/77 [00:32<00:00,  2.36it/s, WMAPE=1.89, DICE=0.0649, DPEAKS=37, Loss=0.00571]\n",
            "Validate Epoch 7: 100%|██████████| 20/20 [00:04<00:00,  4.48it/s, WMAPE=2.11, DICE=0.0676, DPEAKS=39.4, Loss=0.00662]\n"
          ]
        },
        {
          "name": "stdout",
          "output_type": "stream",
          "text": [
            "Epoch [8/50]\n"
          ]
        },
        {
          "name": "stderr",
          "output_type": "stream",
          "text": [
            "Train Epoch 8: 100%|██████████| 77/77 [00:32<00:00,  2.36it/s, WMAPE=1.82, DICE=0.0638, DPEAKS=36.4, Loss=0.00551]\n",
            "Validate Epoch 8: 100%|██████████| 20/20 [00:04<00:00,  4.50it/s, WMAPE=5.74, DICE=0.0672, DPEAKS=44.7, Loss=0.0172]\n"
          ]
        },
        {
          "name": "stdout",
          "output_type": "stream",
          "text": [
            "early stopping: 6 epochs without improvement\n",
            "Training complete.\n"
          ]
        },
        {
          "name": "stderr",
          "output_type": "stream",
          "text": [
            "Validate Epoch test: 100%|██████████| 486/486 [02:12<00:00,  3.67it/s, WMAPE=2.12, DICE=0.0719, DPEAKS=42.8, Loss=0.00654]\n"
          ]
        },
        {
          "name": "stdout",
          "output_type": "stream",
          "text": [
            "Change mode to training decoder\n",
            "Epoch [1/50]\n"
          ]
        },
        {
          "name": "stderr",
          "output_type": "stream",
          "text": [
            "Train Epoch 1: 100%|██████████| 77/77 [00:30<00:00,  2.49it/s, WMAPE=2.2, DICE=0.0716, DPEAKS=39.4, Loss=0.00683]\n",
            "Validate Epoch 1: 100%|██████████| 20/20 [00:05<00:00,  3.55it/s, WMAPE=1.97, DICE=0.0689, DPEAKS=38.1, Loss=0.00608]\n"
          ]
        },
        {
          "name": "stdout",
          "output_type": "stream",
          "text": [
            "Saving best model\n",
            "Epoch [2/50]\n"
          ]
        },
        {
          "name": "stderr",
          "output_type": "stream",
          "text": [
            "Train Epoch 2: 100%|██████████| 77/77 [00:26<00:00,  2.93it/s, WMAPE=2.02, DICE=0.0691, DPEAKS=37.7, Loss=0.00619]\n",
            "Validate Epoch 2: 100%|██████████| 20/20 [00:04<00:00,  4.52it/s, WMAPE=1.97, DICE=0.0683, DPEAKS=36, Loss=0.0061]\n"
          ]
        },
        {
          "name": "stdout",
          "output_type": "stream",
          "text": [
            "Epoch [3/50]\n"
          ]
        },
        {
          "name": "stderr",
          "output_type": "stream",
          "text": [
            "Train Epoch 3: 100%|██████████| 77/77 [00:26<00:00,  2.94it/s, WMAPE=2.02, DICE=0.069, DPEAKS=37.4, Loss=0.00624]\n",
            "Validate Epoch 3: 100%|██████████| 20/20 [00:04<00:00,  4.59it/s, WMAPE=2.04, DICE=0.0693, DPEAKS=37, Loss=0.00681]\n"
          ]
        },
        {
          "name": "stdout",
          "output_type": "stream",
          "text": [
            "Epoch [4/50]\n"
          ]
        },
        {
          "name": "stderr",
          "output_type": "stream",
          "text": [
            "Train Epoch 4: 100%|██████████| 77/77 [00:26<00:00,  2.91it/s, WMAPE=1.99, DICE=0.0696, DPEAKS=37.4, Loss=0.00615]\n",
            "Validate Epoch 4: 100%|██████████| 20/20 [00:04<00:00,  4.58it/s, WMAPE=1.93, DICE=0.068, DPEAKS=33.9, Loss=0.00621]\n"
          ]
        },
        {
          "name": "stdout",
          "output_type": "stream",
          "text": [
            "Epoch [5/50]\n"
          ]
        },
        {
          "name": "stderr",
          "output_type": "stream",
          "text": [
            "Train Epoch 5: 100%|██████████| 77/77 [00:26<00:00,  2.92it/s, WMAPE=1.91, DICE=0.0689, DPEAKS=37.5, Loss=0.00593]\n",
            "Validate Epoch 5: 100%|██████████| 20/20 [00:04<00:00,  4.54it/s, WMAPE=2.1, DICE=0.0682, DPEAKS=35.8, Loss=0.00631]\n"
          ]
        },
        {
          "name": "stdout",
          "output_type": "stream",
          "text": [
            "Epoch [6/50]\n"
          ]
        },
        {
          "name": "stderr",
          "output_type": "stream",
          "text": [
            "Train Epoch 6: 100%|██████████| 77/77 [00:26<00:00,  2.91it/s, WMAPE=1.95, DICE=0.0704, DPEAKS=39.7, Loss=0.00616]\n",
            "Validate Epoch 6: 100%|██████████| 20/20 [00:04<00:00,  4.44it/s, WMAPE=2.45, DICE=0.0897, DPEAKS=92.8, Loss=0.00886]\n"
          ]
        },
        {
          "name": "stdout",
          "output_type": "stream",
          "text": [
            "Epoch [7/50]\n"
          ]
        },
        {
          "name": "stderr",
          "output_type": "stream",
          "text": [
            "Train Epoch 7: 100%|██████████| 77/77 [00:26<00:00,  2.90it/s, WMAPE=2.08, DICE=0.0728, DPEAKS=44.3, Loss=0.00645]\n",
            "Validate Epoch 7: 100%|██████████| 20/20 [00:04<00:00,  4.55it/s, WMAPE=2.06, DICE=0.0698, DPEAKS=37.7, Loss=0.00636]\n"
          ]
        },
        {
          "name": "stdout",
          "output_type": "stream",
          "text": [
            "Epoch [8/50]\n"
          ]
        },
        {
          "name": "stderr",
          "output_type": "stream",
          "text": [
            "Train Epoch 8: 100%|██████████| 77/77 [00:26<00:00,  2.93it/s, WMAPE=1.91, DICE=0.0696, DPEAKS=37, Loss=0.0059]\n",
            "Validate Epoch 8: 100%|██████████| 20/20 [00:04<00:00,  4.47it/s, WMAPE=2.04, DICE=0.0697, DPEAKS=37.5, Loss=0.00702]\n"
          ]
        },
        {
          "name": "stdout",
          "output_type": "stream",
          "text": [
            "early stopping: 7 epochs without improvement\n",
            "Training complete.\n"
          ]
        },
        {
          "name": "stderr",
          "output_type": "stream",
          "text": [
            "Validate Epoch test: 100%|██████████| 486/486 [02:10<00:00,  3.72it/s, WMAPE=1.98, DICE=0.0689, DPEAKS=36.5, Loss=0.00603]\n"
          ]
        }
      ],
      "source": [
        "many_partitions(10,12,model,criterion)"
      ]
    },
    {
      "cell_type": "code",
      "execution_count": 12,
      "metadata": {},
      "outputs": [
        {
          "name": "stderr",
          "output_type": "stream",
          "text": [
            "Validate Epoch test: 100%|██████████| 486/486 [02:37<00:00,  3.08it/s, WMAPE=3.41, DICE=0.144, DPEAKS=72.6, Loss=0.0109]\n"
          ]
        }
      ],
      "source": [
        "#Cargar mejor modelo de la particion actual\n",
        "model.load_state_dict(torch.load(best_model_path,weights_only=True))\n",
        "test_model(model,criterion,device=DEVICE,batch_size=BATCH_SIZE)"
      ]
    },
    {
      "cell_type": "code",
      "execution_count": 14,
      "metadata": {},
      "outputs": [
        {
          "name": "stderr",
          "output_type": "stream",
          "text": [
            "Validate Epoch test: 100%|██████████| 486/486 [02:33<00:00,  3.16it/s, WMAPE=4.7, DICE=0.263, DPEAKS=125, Loss=0.0169]\n"
          ]
        }
      ],
      "source": [
        "#Cargar mejor modelo de la particion actual\n",
        "model.load_state_dict(torch.load(best_model_path,weights_only=True))\n",
        "test_model(model,criterion,device=DEVICE,batch_size=BATCH_SIZE)"
      ]
    },
    {
      "cell_type": "code",
      "execution_count": 12,
      "metadata": {},
      "outputs": [
        {
          "name": "stderr",
          "output_type": "stream",
          "text": [
            "Validate Epoch test: 100%|██████████| 486/486 [02:33<00:00,  3.18it/s, WMAPE=3.2, DICE=0.137, DPEAKS=90, Loss=0.0106]\n"
          ]
        }
      ],
      "source": [
        "#Cargar mejor modelo de la particion actual\n",
        "model.load_state_dict(torch.load(best_model_path,weights_only=True))\n",
        "test_model(model,criterion,device=DEVICE,batch_size=BATCH_SIZE)"
      ]
    },
    {
      "cell_type": "code",
      "execution_count": 13,
      "metadata": {},
      "outputs": [
        {
          "name": "stderr",
          "output_type": "stream",
          "text": [
            "Validate Epoch test: 100%|██████████| 486/486 [02:36<00:00,  3.11it/s, WMAPE=3.1, DICE=0.118, DPEAKS=66.9, Loss=0.00923]\n"
          ]
        }
      ],
      "source": [
        "#Cargar mejor modelo de la particion actual\n",
        "model.load_state_dict(torch.load(best_model_path,weights_only=True))\n",
        "test_model(model,criterion,device=DEVICE,batch_size=BATCH_SIZE)"
      ]
    },
    {
      "cell_type": "code",
      "execution_count": 11,
      "metadata": {},
      "outputs": [],
      "source": [
        "create_next_partitions(current_partition)"
      ]
    },
    {
      "cell_type": "code",
      "execution_count": 9,
      "metadata": {},
      "outputs": [
        {
          "name": "stdout",
          "output_type": "stream",
          "text": [
            "Epoch [32/50]\n"
          ]
        },
        {
          "name": "stderr",
          "output_type": "stream",
          "text": [
            "Train Epoch 32: 100%|██████████| 77/77 [00:42<00:00,  1.80it/s, WMAPE=2.66, DICE=0.11, DPEAKS=94.9, Loss=0.00863]\n",
            "Validate Epoch 32: 100%|██████████| 20/20 [00:05<00:00,  3.85it/s, WMAPE=4.49, DICE=0.113, DPEAKS=90.2, Loss=0.0129]\n"
          ]
        },
        {
          "name": "stdout",
          "output_type": "stream",
          "text": [
            "Epoch [33/50]\n"
          ]
        },
        {
          "name": "stderr",
          "output_type": "stream",
          "text": [
            "Train Epoch 33: 100%|██████████| 77/77 [00:42<00:00,  1.82it/s, WMAPE=2.53, DICE=0.108, DPEAKS=94.4, Loss=0.00829]\n",
            "Validate Epoch 33: 100%|██████████| 20/20 [00:05<00:00,  3.97it/s, WMAPE=2.92, DICE=0.113, DPEAKS=84.9, Loss=0.0102]\n"
          ]
        },
        {
          "name": "stdout",
          "output_type": "stream",
          "text": [
            "Saving best model\n",
            "Epoch [34/50]\n"
          ]
        },
        {
          "name": "stderr",
          "output_type": "stream",
          "text": [
            "Train Epoch 34: 100%|██████████| 77/77 [00:42<00:00,  1.82it/s, WMAPE=2.79, DICE=0.107, DPEAKS=91.2, Loss=0.00893]\n",
            "Validate Epoch 34: 100%|██████████| 20/20 [00:05<00:00,  3.92it/s, WMAPE=4.37, DICE=0.115, DPEAKS=97.6, Loss=0.0123]\n"
          ]
        },
        {
          "name": "stdout",
          "output_type": "stream",
          "text": [
            "Epoch [35/50]\n"
          ]
        },
        {
          "name": "stderr",
          "output_type": "stream",
          "text": [
            "Train Epoch 35: 100%|██████████| 77/77 [00:42<00:00,  1.83it/s, WMAPE=2.58, DICE=0.108, DPEAKS=93.2, Loss=0.00849]\n",
            "Validate Epoch 35: 100%|██████████| 20/20 [00:05<00:00,  3.87it/s, WMAPE=3.29, DICE=0.11, DPEAKS=97.7, Loss=0.0102]\n"
          ]
        },
        {
          "name": "stdout",
          "output_type": "stream",
          "text": [
            "Saving best model\n",
            "Epoch [36/50]\n"
          ]
        },
        {
          "name": "stderr",
          "output_type": "stream",
          "text": [
            "Train Epoch 36: 100%|██████████| 77/77 [00:42<00:00,  1.82it/s, WMAPE=2.56, DICE=0.106, DPEAKS=91.8, Loss=0.00838]\n",
            "Validate Epoch 36: 100%|██████████| 20/20 [00:05<00:00,  3.93it/s, WMAPE=3.15, DICE=0.107, DPEAKS=94.6, Loss=0.00965]\n"
          ]
        },
        {
          "name": "stdout",
          "output_type": "stream",
          "text": [
            "Saving best model\n",
            "Epoch [37/50]\n"
          ]
        },
        {
          "name": "stderr",
          "output_type": "stream",
          "text": [
            "Train Epoch 37: 100%|██████████| 77/77 [00:42<00:00,  1.83it/s, WMAPE=2.64, DICE=0.105, DPEAKS=92.7, Loss=0.00862]\n",
            "Validate Epoch 37: 100%|██████████| 20/20 [00:05<00:00,  3.93it/s, WMAPE=3.09, DICE=0.108, DPEAKS=90.4, Loss=0.00988]\n"
          ]
        },
        {
          "name": "stdout",
          "output_type": "stream",
          "text": [
            "Epoch [38/50]\n"
          ]
        },
        {
          "name": "stderr",
          "output_type": "stream",
          "text": [
            "Train Epoch 38: 100%|██████████| 77/77 [00:42<00:00,  1.82it/s, WMAPE=2.68, DICE=0.104, DPEAKS=93.6, Loss=0.00866]\n",
            "Validate Epoch 38: 100%|██████████| 20/20 [00:05<00:00,  3.92it/s, WMAPE=3.54, DICE=0.107, DPEAKS=90, Loss=0.0107]\n"
          ]
        },
        {
          "name": "stdout",
          "output_type": "stream",
          "text": [
            "Epoch [39/50]\n"
          ]
        },
        {
          "name": "stderr",
          "output_type": "stream",
          "text": [
            "Train Epoch 39: 100%|██████████| 77/77 [00:42<00:00,  1.82it/s, WMAPE=2.5, DICE=0.103, DPEAKS=93.4, Loss=0.00812]\n",
            "Validate Epoch 39: 100%|██████████| 20/20 [00:05<00:00,  3.96it/s, WMAPE=3.09, DICE=0.111, DPEAKS=89.5, Loss=0.00982]\n"
          ]
        },
        {
          "name": "stdout",
          "output_type": "stream",
          "text": [
            "Epoch [40/50]\n"
          ]
        },
        {
          "name": "stderr",
          "output_type": "stream",
          "text": [
            "Train Epoch 40: 100%|██████████| 77/77 [00:42<00:00,  1.82it/s, WMAPE=2.77, DICE=0.104, DPEAKS=93, Loss=0.00899]\n",
            "Validate Epoch 40: 100%|██████████| 20/20 [00:05<00:00,  3.93it/s, WMAPE=3.04, DICE=0.108, DPEAKS=104, Loss=0.00962]\n"
          ]
        },
        {
          "name": "stdout",
          "output_type": "stream",
          "text": [
            "Saving best model\n",
            "Epoch [41/50]\n"
          ]
        },
        {
          "name": "stderr",
          "output_type": "stream",
          "text": [
            "Train Epoch 41: 100%|██████████| 77/77 [00:42<00:00,  1.82it/s, WMAPE=2.32, DICE=0.102, DPEAKS=93.8, Loss=0.00769]\n",
            "Validate Epoch 41: 100%|██████████| 20/20 [00:05<00:00,  3.96it/s, WMAPE=3.34, DICE=0.107, DPEAKS=84.1, Loss=0.0104]\n"
          ]
        },
        {
          "name": "stdout",
          "output_type": "stream",
          "text": [
            "Epoch [42/50]\n"
          ]
        },
        {
          "name": "stderr",
          "output_type": "stream",
          "text": [
            "Train Epoch 42: 100%|██████████| 77/77 [00:42<00:00,  1.83it/s, WMAPE=2.28, DICE=0.101, DPEAKS=90.3, Loss=0.00753]\n",
            "Validate Epoch 42: 100%|██████████| 20/20 [00:05<00:00,  3.90it/s, WMAPE=3.2, DICE=0.104, DPEAKS=87.4, Loss=0.00954]\n"
          ]
        },
        {
          "name": "stdout",
          "output_type": "stream",
          "text": [
            "Saving best model\n",
            "Epoch [43/50]\n"
          ]
        },
        {
          "name": "stderr",
          "output_type": "stream",
          "text": [
            "Train Epoch 43: 100%|██████████| 77/77 [00:42<00:00,  1.82it/s, WMAPE=2.42, DICE=0.1, DPEAKS=87.1, Loss=0.00785]\n",
            "Validate Epoch 43: 100%|██████████| 20/20 [00:05<00:00,  3.94it/s, WMAPE=3.36, DICE=0.104, DPEAKS=88.7, Loss=0.00996]\n"
          ]
        },
        {
          "name": "stdout",
          "output_type": "stream",
          "text": [
            "Epoch [44/50]\n"
          ]
        },
        {
          "name": "stderr",
          "output_type": "stream",
          "text": [
            "Train Epoch 44: 100%|██████████| 77/77 [00:42<00:00,  1.83it/s, WMAPE=2.37, DICE=0.1, DPEAKS=89.5, Loss=0.00773]\n",
            "Validate Epoch 44: 100%|██████████| 20/20 [00:05<00:00,  3.92it/s, WMAPE=3.05, DICE=0.106, DPEAKS=91.1, Loss=0.00963]\n"
          ]
        },
        {
          "name": "stdout",
          "output_type": "stream",
          "text": [
            "Epoch [45/50]\n"
          ]
        },
        {
          "name": "stderr",
          "output_type": "stream",
          "text": [
            "Train Epoch 45: 100%|██████████| 77/77 [00:41<00:00,  1.83it/s, WMAPE=2.54, DICE=0.0992, DPEAKS=86.7, Loss=0.00816]\n",
            "Validate Epoch 45: 100%|██████████| 20/20 [00:05<00:00,  3.93it/s, WMAPE=3.56, DICE=0.109, DPEAKS=89.6, Loss=0.0113]\n"
          ]
        },
        {
          "name": "stdout",
          "output_type": "stream",
          "text": [
            "Epoch [46/50]\n"
          ]
        },
        {
          "name": "stderr",
          "output_type": "stream",
          "text": [
            "Train Epoch 46: 100%|██████████| 77/77 [00:42<00:00,  1.82it/s, WMAPE=2.49, DICE=0.0992, DPEAKS=90.1, Loss=0.00808]\n",
            "Validate Epoch 46: 100%|██████████| 20/20 [00:05<00:00,  3.99it/s, WMAPE=3.05, DICE=0.102, DPEAKS=80.4, Loss=0.00941]\n"
          ]
        },
        {
          "name": "stdout",
          "output_type": "stream",
          "text": [
            "Saving best model\n",
            "Epoch [47/50]\n"
          ]
        },
        {
          "name": "stderr",
          "output_type": "stream",
          "text": [
            "Train Epoch 47: 100%|██████████| 77/77 [00:42<00:00,  1.83it/s, WMAPE=2.55, DICE=0.0977, DPEAKS=90.3, Loss=0.00826]\n",
            "Validate Epoch 47: 100%|██████████| 20/20 [00:05<00:00,  3.89it/s, WMAPE=3.76, DICE=0.102, DPEAKS=89.5, Loss=0.0122]\n"
          ]
        },
        {
          "name": "stdout",
          "output_type": "stream",
          "text": [
            "Epoch [48/50]\n"
          ]
        },
        {
          "name": "stderr",
          "output_type": "stream",
          "text": [
            "Train Epoch 48: 100%|██████████| 77/77 [00:41<00:00,  1.84it/s, WMAPE=2.62, DICE=0.0986, DPEAKS=92.5, Loss=0.00859]\n",
            "Validate Epoch 48: 100%|██████████| 20/20 [00:05<00:00,  3.97it/s, WMAPE=3.32, DICE=0.103, DPEAKS=91.4, Loss=0.00992]\n"
          ]
        },
        {
          "name": "stdout",
          "output_type": "stream",
          "text": [
            "Epoch [49/50]\n"
          ]
        },
        {
          "name": "stderr",
          "output_type": "stream",
          "text": [
            "Train Epoch 49: 100%|██████████| 77/77 [00:41<00:00,  1.84it/s, WMAPE=2.46, DICE=0.0973, DPEAKS=91.6, Loss=0.00802]\n",
            "Validate Epoch 49: 100%|██████████| 20/20 [00:05<00:00,  3.96it/s, WMAPE=2.88, DICE=0.107, DPEAKS=95.6, Loss=0.00932]\n"
          ]
        },
        {
          "name": "stdout",
          "output_type": "stream",
          "text": [
            "Saving best model\n",
            "Epoch [50/50]\n"
          ]
        },
        {
          "name": "stderr",
          "output_type": "stream",
          "text": [
            "Train Epoch 50: 100%|██████████| 77/77 [00:42<00:00,  1.83it/s, WMAPE=2.31, DICE=0.0971, DPEAKS=89.1, Loss=0.00756]\n",
            "Validate Epoch 50: 100%|██████████| 20/20 [00:05<00:00,  3.97it/s, WMAPE=3.24, DICE=0.1, DPEAKS=91.2, Loss=0.0108]\n"
          ]
        },
        {
          "name": "stdout",
          "output_type": "stream",
          "text": [
            "Training complete.\n"
          ]
        },
        {
          "name": "stderr",
          "output_type": "stream",
          "text": [
            "Validate Epoch test: 100%|██████████| 486/486 [02:35<00:00,  3.13it/s, WMAPE=2.92, DICE=0.107, DPEAKS=98, Loss=0.00946]\n"
          ]
        },
        {
          "name": "stdout",
          "output_type": "stream",
          "text": [
            "Epoch [1/50]\n"
          ]
        },
        {
          "name": "stderr",
          "output_type": "stream",
          "text": [
            "Train Epoch 1: 100%|██████████| 77/77 [00:44<00:00,  1.73it/s, WMAPE=3.5, DICE=0.107, DPEAKS=100, Loss=0.0112]\n",
            "Validate Epoch 1: 100%|██████████| 20/20 [00:06<00:00,  3.31it/s, WMAPE=3.65, DICE=0.109, DPEAKS=97.1, Loss=0.0107]\n"
          ]
        },
        {
          "name": "stdout",
          "output_type": "stream",
          "text": [
            "Saving best model\n",
            "Epoch [2/50]\n"
          ]
        },
        {
          "name": "stderr",
          "output_type": "stream",
          "text": [
            "Train Epoch 2: 100%|██████████| 77/77 [00:39<00:00,  1.95it/s, WMAPE=2.76, DICE=0.101, DPEAKS=95.7, Loss=0.00886]\n",
            "Validate Epoch 2: 100%|██████████| 20/20 [00:04<00:00,  4.14it/s, WMAPE=4.05, DICE=0.102, DPEAKS=92.6, Loss=0.0115]\n"
          ]
        },
        {
          "name": "stdout",
          "output_type": "stream",
          "text": [
            "Epoch [3/50]\n"
          ]
        },
        {
          "name": "stderr",
          "output_type": "stream",
          "text": [
            "Train Epoch 3: 100%|██████████| 77/77 [00:39<00:00,  1.95it/s, WMAPE=2.64, DICE=0.0994, DPEAKS=95.1, Loss=0.00858]\n",
            "Validate Epoch 3: 100%|██████████| 20/20 [00:04<00:00,  4.09it/s, WMAPE=3.14, DICE=0.107, DPEAKS=98.3, Loss=0.0105]\n"
          ]
        },
        {
          "name": "stdout",
          "output_type": "stream",
          "text": [
            "Saving best model\n",
            "Epoch [4/50]\n"
          ]
        },
        {
          "name": "stderr",
          "output_type": "stream",
          "text": [
            "Train Epoch 4: 100%|██████████| 77/77 [00:39<00:00,  1.96it/s, WMAPE=2.67, DICE=0.0981, DPEAKS=94.4, Loss=0.00859]\n",
            "Validate Epoch 4: 100%|██████████| 20/20 [00:04<00:00,  4.13it/s, WMAPE=3.51, DICE=0.0989, DPEAKS=89.7, Loss=0.00993]\n"
          ]
        },
        {
          "name": "stdout",
          "output_type": "stream",
          "text": [
            "Saving best model\n",
            "Epoch [5/50]\n"
          ]
        },
        {
          "name": "stderr",
          "output_type": "stream",
          "text": [
            "Train Epoch 5: 100%|██████████| 77/77 [00:39<00:00,  1.95it/s, WMAPE=2.8, DICE=0.0971, DPEAKS=92.8, Loss=0.0089]\n",
            "Validate Epoch 5: 100%|██████████| 20/20 [00:04<00:00,  4.15it/s, WMAPE=3.47, DICE=0.101, DPEAKS=97.6, Loss=0.0101]\n"
          ]
        },
        {
          "name": "stdout",
          "output_type": "stream",
          "text": [
            "Epoch [6/50]\n"
          ]
        },
        {
          "name": "stderr",
          "output_type": "stream",
          "text": [
            "Train Epoch 6: 100%|██████████| 77/77 [00:39<00:00,  1.95it/s, WMAPE=2.4, DICE=0.0971, DPEAKS=93.2, Loss=0.00785]\n",
            "Validate Epoch 6: 100%|██████████| 20/20 [00:04<00:00,  4.11it/s, WMAPE=3.12, DICE=0.103, DPEAKS=93.6, Loss=0.0106]\n"
          ]
        },
        {
          "name": "stdout",
          "output_type": "stream",
          "text": [
            "Epoch [7/50]\n"
          ]
        },
        {
          "name": "stderr",
          "output_type": "stream",
          "text": [
            "Train Epoch 7: 100%|██████████| 77/77 [00:39<00:00,  1.95it/s, WMAPE=2.39, DICE=0.0964, DPEAKS=91.7, Loss=0.00774]\n",
            "Validate Epoch 7: 100%|██████████| 20/20 [00:04<00:00,  4.12it/s, WMAPE=2.56, DICE=0.0983, DPEAKS=88.5, Loss=0.00832]\n"
          ]
        },
        {
          "name": "stdout",
          "output_type": "stream",
          "text": [
            "Saving best model\n",
            "Epoch [8/50]\n"
          ]
        },
        {
          "name": "stderr",
          "output_type": "stream",
          "text": [
            "Train Epoch 8: 100%|██████████| 77/77 [00:39<00:00,  1.95it/s, WMAPE=2.41, DICE=0.0948, DPEAKS=91.2, Loss=0.00776]\n",
            "Validate Epoch 8: 100%|██████████| 20/20 [00:04<00:00,  4.14it/s, WMAPE=2.82, DICE=0.098, DPEAKS=89.9, Loss=0.00954]\n"
          ]
        },
        {
          "name": "stdout",
          "output_type": "stream",
          "text": [
            "Epoch [9/50]\n"
          ]
        },
        {
          "name": "stderr",
          "output_type": "stream",
          "text": [
            "Train Epoch 9: 100%|██████████| 77/77 [00:39<00:00,  1.95it/s, WMAPE=2.32, DICE=0.0946, DPEAKS=89.3, Loss=0.00755]\n",
            "Validate Epoch 9: 100%|██████████| 20/20 [00:05<00:00,  3.99it/s, WMAPE=3.23, DICE=0.098, DPEAKS=85.7, Loss=0.00932]\n"
          ]
        },
        {
          "name": "stdout",
          "output_type": "stream",
          "text": [
            "Epoch [10/50]\n"
          ]
        },
        {
          "name": "stderr",
          "output_type": "stream",
          "text": [
            "Train Epoch 10: 100%|██████████| 77/77 [00:39<00:00,  1.94it/s, WMAPE=2.29, DICE=0.0936, DPEAKS=87.6, Loss=0.00737]\n",
            "Validate Epoch 10: 100%|██████████| 20/20 [00:05<00:00,  3.92it/s, WMAPE=2.82, DICE=0.0979, DPEAKS=89.6, Loss=0.00861]\n"
          ]
        },
        {
          "name": "stdout",
          "output_type": "stream",
          "text": [
            "Epoch [11/50]\n"
          ]
        },
        {
          "name": "stderr",
          "output_type": "stream",
          "text": [
            "Train Epoch 11: 100%|██████████| 77/77 [00:41<00:00,  1.84it/s, WMAPE=2.27, DICE=0.0929, DPEAKS=87, Loss=0.00734]\n",
            "Validate Epoch 11: 100%|██████████| 20/20 [00:04<00:00,  4.08it/s, WMAPE=3.95, DICE=0.099, DPEAKS=94.7, Loss=0.0126]\n"
          ]
        },
        {
          "name": "stdout",
          "output_type": "stream",
          "text": [
            "Epoch [12/50]\n"
          ]
        },
        {
          "name": "stderr",
          "output_type": "stream",
          "text": [
            "Train Epoch 12: 100%|██████████| 77/77 [00:41<00:00,  1.85it/s, WMAPE=2.25, DICE=0.0923, DPEAKS=87.1, Loss=0.00722]\n",
            "Validate Epoch 12: 100%|██████████| 20/20 [00:05<00:00,  3.84it/s, WMAPE=2.72, DICE=0.0991, DPEAKS=89.2, Loss=0.00863]\n"
          ]
        },
        {
          "name": "stdout",
          "output_type": "stream",
          "text": [
            "early stopping: 5 epochs without improvement\n",
            "Training complete.\n"
          ]
        },
        {
          "name": "stderr",
          "output_type": "stream",
          "text": [
            "Validate Epoch test: 100%|██████████| 486/486 [02:43<00:00,  2.98it/s, WMAPE=2.54, DICE=0.0979, DPEAKS=91.5, Loss=0.0082]\n"
          ]
        },
        {
          "name": "stdout",
          "output_type": "stream",
          "text": [
            "Epoch [1/50]\n"
          ]
        },
        {
          "name": "stderr",
          "output_type": "stream",
          "text": [
            "Train Epoch 1: 100%|██████████| 77/77 [00:47<00:00,  1.64it/s, WMAPE=3.48, DICE=0.105, DPEAKS=97.8, Loss=0.011]\n",
            "Validate Epoch 1: 100%|██████████| 20/20 [00:06<00:00,  3.18it/s, WMAPE=2.59, DICE=0.101, DPEAKS=104, Loss=0.0086]\n"
          ]
        },
        {
          "name": "stdout",
          "output_type": "stream",
          "text": [
            "Saving best model\n",
            "Epoch [2/50]\n"
          ]
        },
        {
          "name": "stderr",
          "output_type": "stream",
          "text": [
            "Train Epoch 2: 100%|██████████| 77/77 [00:42<00:00,  1.83it/s, WMAPE=2.59, DICE=0.0967, DPEAKS=94.8, Loss=0.00833]\n",
            "Validate Epoch 2: 100%|██████████| 20/20 [00:05<00:00,  3.91it/s, WMAPE=2.67, DICE=0.0999, DPEAKS=102, Loss=0.00871]\n"
          ]
        },
        {
          "name": "stdout",
          "output_type": "stream",
          "text": [
            "Epoch [3/50]\n"
          ]
        },
        {
          "name": "stderr",
          "output_type": "stream",
          "text": [
            "Train Epoch 3: 100%|██████████| 77/77 [00:42<00:00,  1.82it/s, WMAPE=2.47, DICE=0.0952, DPEAKS=91.7, Loss=0.00796]\n",
            "Validate Epoch 3: 100%|██████████| 20/20 [00:05<00:00,  3.89it/s, WMAPE=2.65, DICE=0.0953, DPEAKS=90.9, Loss=0.00941]\n"
          ]
        },
        {
          "name": "stdout",
          "output_type": "stream",
          "text": [
            "Epoch [4/50]\n"
          ]
        },
        {
          "name": "stderr",
          "output_type": "stream",
          "text": [
            "Train Epoch 4: 100%|██████████| 77/77 [00:42<00:00,  1.83it/s, WMAPE=2.45, DICE=0.0952, DPEAKS=90.4, Loss=0.00782]\n",
            "Validate Epoch 4: 100%|██████████| 20/20 [00:05<00:00,  3.92it/s, WMAPE=2.86, DICE=0.095, DPEAKS=91.1, Loss=0.00875]\n"
          ]
        },
        {
          "name": "stdout",
          "output_type": "stream",
          "text": [
            "Epoch [5/50]\n"
          ]
        },
        {
          "name": "stderr",
          "output_type": "stream",
          "text": [
            "Train Epoch 5: 100%|██████████| 77/77 [00:42<00:00,  1.82it/s, WMAPE=2.42, DICE=0.0933, DPEAKS=89.4, Loss=0.00775]\n",
            "Validate Epoch 5: 100%|██████████| 20/20 [00:05<00:00,  3.93it/s, WMAPE=2.67, DICE=0.0967, DPEAKS=87.1, Loss=0.00908]\n"
          ]
        },
        {
          "name": "stdout",
          "output_type": "stream",
          "text": [
            "Epoch [6/50]\n"
          ]
        },
        {
          "name": "stderr",
          "output_type": "stream",
          "text": [
            "Train Epoch 6: 100%|██████████| 77/77 [00:42<00:00,  1.83it/s, WMAPE=2.94, DICE=0.0937, DPEAKS=88.5, Loss=0.00928]\n",
            "Validate Epoch 6: 100%|██████████| 20/20 [00:05<00:00,  3.90it/s, WMAPE=2.73, DICE=0.107, DPEAKS=104, Loss=0.00923]\n"
          ]
        },
        {
          "name": "stdout",
          "output_type": "stream",
          "text": [
            "early stopping: 5 epochs without improvement\n",
            "Training complete.\n"
          ]
        },
        {
          "name": "stderr",
          "output_type": "stream",
          "text": [
            "Validate Epoch test: 100%|██████████| 486/486 [02:42<00:00,  2.99it/s, WMAPE=2.65, DICE=0.1, DPEAKS=100, Loss=0.00858]\n"
          ]
        },
        {
          "name": "stdout",
          "output_type": "stream",
          "text": [
            "Epoch [1/50]\n"
          ]
        },
        {
          "name": "stderr",
          "output_type": "stream",
          "text": [
            "Train Epoch 1: 100%|██████████| 77/77 [00:46<00:00,  1.64it/s, WMAPE=3.34, DICE=0.104, DPEAKS=99.3, Loss=0.0107]\n",
            "Validate Epoch 1: 100%|██████████| 20/20 [00:06<00:00,  3.16it/s, WMAPE=2.56, DICE=0.0989, DPEAKS=94.9, Loss=0.00841]\n"
          ]
        },
        {
          "name": "stdout",
          "output_type": "stream",
          "text": [
            "Saving best model\n",
            "Epoch [2/50]\n"
          ]
        },
        {
          "name": "stderr",
          "output_type": "stream",
          "text": [
            "Train Epoch 2: 100%|██████████| 77/77 [00:42<00:00,  1.82it/s, WMAPE=2.51, DICE=0.0958, DPEAKS=95.6, Loss=0.00817]\n",
            "Validate Epoch 2: 100%|██████████| 20/20 [00:05<00:00,  3.91it/s, WMAPE=2.5, DICE=0.0993, DPEAKS=93.7, Loss=0.00819]\n"
          ]
        },
        {
          "name": "stdout",
          "output_type": "stream",
          "text": [
            "Saving best model\n",
            "Epoch [3/50]\n"
          ]
        },
        {
          "name": "stderr",
          "output_type": "stream",
          "text": [
            "Train Epoch 3: 100%|██████████| 77/77 [00:42<00:00,  1.82it/s, WMAPE=2.37, DICE=0.0952, DPEAKS=90.8, Loss=0.00765]\n",
            "Validate Epoch 3: 100%|██████████| 20/20 [00:05<00:00,  3.89it/s, WMAPE=2.51, DICE=0.101, DPEAKS=84.2, Loss=0.00813]\n"
          ]
        },
        {
          "name": "stdout",
          "output_type": "stream",
          "text": [
            "Saving best model\n",
            "Epoch [4/50]\n"
          ]
        },
        {
          "name": "stderr",
          "output_type": "stream",
          "text": [
            "Train Epoch 4: 100%|██████████| 77/77 [00:42<00:00,  1.83it/s, WMAPE=2.38, DICE=0.0934, DPEAKS=86.8, Loss=0.00762]\n",
            "Validate Epoch 4: 100%|██████████| 20/20 [00:05<00:00,  3.90it/s, WMAPE=4.41, DICE=0.0987, DPEAKS=94.7, Loss=0.0135]\n"
          ]
        },
        {
          "name": "stdout",
          "output_type": "stream",
          "text": [
            "Epoch [5/50]\n"
          ]
        },
        {
          "name": "stderr",
          "output_type": "stream",
          "text": [
            "Train Epoch 5: 100%|██████████| 77/77 [00:42<00:00,  1.83it/s, WMAPE=2.56, DICE=0.093, DPEAKS=87, Loss=0.00804]\n",
            "Validate Epoch 5: 100%|██████████| 20/20 [00:05<00:00,  3.91it/s, WMAPE=3, DICE=0.0957, DPEAKS=85.4, Loss=0.00889]\n"
          ]
        },
        {
          "name": "stdout",
          "output_type": "stream",
          "text": [
            "Epoch [6/50]\n"
          ]
        },
        {
          "name": "stderr",
          "output_type": "stream",
          "text": [
            "Train Epoch 6: 100%|██████████| 77/77 [00:42<00:00,  1.83it/s, WMAPE=2.39, DICE=0.0926, DPEAKS=88.7, Loss=0.00762]\n",
            "Validate Epoch 6: 100%|██████████| 20/20 [00:05<00:00,  3.92it/s, WMAPE=3.4, DICE=0.0961, DPEAKS=82.9, Loss=0.00997]\n"
          ]
        },
        {
          "name": "stdout",
          "output_type": "stream",
          "text": [
            "Epoch [7/50]\n"
          ]
        },
        {
          "name": "stderr",
          "output_type": "stream",
          "text": [
            "Train Epoch 7: 100%|██████████| 77/77 [00:42<00:00,  1.83it/s, WMAPE=2.38, DICE=0.0912, DPEAKS=85.8, Loss=0.00762]\n",
            "Validate Epoch 7: 100%|██████████| 20/20 [00:05<00:00,  3.94it/s, WMAPE=3.17, DICE=0.0934, DPEAKS=86.8, Loss=0.00933]\n"
          ]
        },
        {
          "name": "stdout",
          "output_type": "stream",
          "text": [
            "Epoch [8/50]\n"
          ]
        },
        {
          "name": "stderr",
          "output_type": "stream",
          "text": [
            "Train Epoch 8: 100%|██████████| 77/77 [00:42<00:00,  1.83it/s, WMAPE=2.32, DICE=0.0904, DPEAKS=86.1, Loss=0.00743]\n",
            "Validate Epoch 8: 100%|██████████| 20/20 [00:05<00:00,  3.90it/s, WMAPE=2.74, DICE=0.0926, DPEAKS=81.8, Loss=0.0082]\n"
          ]
        },
        {
          "name": "stdout",
          "output_type": "stream",
          "text": [
            "early stopping: 5 epochs without improvement\n",
            "Training complete.\n"
          ]
        },
        {
          "name": "stderr",
          "output_type": "stream",
          "text": [
            "Validate Epoch test: 100%|██████████| 486/486 [02:42<00:00,  2.98it/s, WMAPE=2.52, DICE=0.1, DPEAKS=90.1, Loss=0.00814]\n"
          ]
        },
        {
          "name": "stdout",
          "output_type": "stream",
          "text": [
            "Epoch [1/50]\n"
          ]
        },
        {
          "name": "stderr",
          "output_type": "stream",
          "text": [
            "Train Epoch 1: 100%|██████████| 77/77 [00:46<00:00,  1.64it/s, WMAPE=3.09, DICE=0.101, DPEAKS=94.8, Loss=0.00995]\n",
            "Validate Epoch 1: 100%|██████████| 20/20 [00:06<00:00,  3.18it/s, WMAPE=2.96, DICE=0.0965, DPEAKS=95.7, Loss=0.00862]\n"
          ]
        },
        {
          "name": "stdout",
          "output_type": "stream",
          "text": [
            "Saving best model\n",
            "Epoch [2/50]\n"
          ]
        },
        {
          "name": "stderr",
          "output_type": "stream",
          "text": [
            "Train Epoch 2: 100%|██████████| 77/77 [00:41<00:00,  1.83it/s, WMAPE=2.49, DICE=0.0943, DPEAKS=89.9, Loss=0.00799]\n",
            "Validate Epoch 2: 100%|██████████| 20/20 [00:05<00:00,  3.94it/s, WMAPE=2.67, DICE=0.0964, DPEAKS=91.8, Loss=0.00807]\n"
          ]
        },
        {
          "name": "stdout",
          "output_type": "stream",
          "text": [
            "Saving best model\n",
            "Epoch [3/50]\n"
          ]
        },
        {
          "name": "stderr",
          "output_type": "stream",
          "text": [
            "Train Epoch 3: 100%|██████████| 77/77 [00:42<00:00,  1.83it/s, WMAPE=2.53, DICE=0.0933, DPEAKS=86.5, Loss=0.00812]\n",
            "Validate Epoch 3: 100%|██████████| 20/20 [00:05<00:00,  3.96it/s, WMAPE=2.67, DICE=0.102, DPEAKS=93.7, Loss=0.00835]\n"
          ]
        },
        {
          "name": "stdout",
          "output_type": "stream",
          "text": [
            "Epoch [4/50]\n"
          ]
        },
        {
          "name": "stderr",
          "output_type": "stream",
          "text": [
            "Train Epoch 4: 100%|██████████| 77/77 [00:42<00:00,  1.83it/s, WMAPE=2.28, DICE=0.092, DPEAKS=87, Loss=0.00745]\n",
            "Validate Epoch 4: 100%|██████████| 20/20 [00:05<00:00,  3.92it/s, WMAPE=2.74, DICE=0.0939, DPEAKS=88, Loss=0.00797]\n"
          ]
        },
        {
          "name": "stdout",
          "output_type": "stream",
          "text": [
            "Saving best model\n",
            "Epoch [5/50]\n"
          ]
        },
        {
          "name": "stderr",
          "output_type": "stream",
          "text": [
            "Train Epoch 5: 100%|██████████| 77/77 [00:42<00:00,  1.83it/s, WMAPE=2.33, DICE=0.0914, DPEAKS=85, Loss=0.00746]\n",
            "Validate Epoch 5: 100%|██████████| 20/20 [00:05<00:00,  3.95it/s, WMAPE=4.7, DICE=0.0965, DPEAKS=92.1, Loss=0.0136]\n"
          ]
        },
        {
          "name": "stdout",
          "output_type": "stream",
          "text": [
            "Epoch [6/50]\n"
          ]
        },
        {
          "name": "stderr",
          "output_type": "stream",
          "text": [
            "Train Epoch 6: 100%|██████████| 77/77 [00:42<00:00,  1.83it/s, WMAPE=2.41, DICE=0.091, DPEAKS=84.5, Loss=0.0077]\n",
            "Validate Epoch 6: 100%|██████████| 20/20 [00:05<00:00,  3.95it/s, WMAPE=2.8, DICE=0.0932, DPEAKS=86.4, Loss=0.00803]\n"
          ]
        },
        {
          "name": "stdout",
          "output_type": "stream",
          "text": [
            "Epoch [7/50]\n"
          ]
        },
        {
          "name": "stderr",
          "output_type": "stream",
          "text": [
            "Train Epoch 7: 100%|██████████| 77/77 [00:42<00:00,  1.83it/s, WMAPE=2.38, DICE=0.0912, DPEAKS=85.9, Loss=0.00772]\n",
            "Validate Epoch 7: 100%|██████████| 20/20 [00:05<00:00,  3.88it/s, WMAPE=3.42, DICE=0.0989, DPEAKS=88.2, Loss=0.0111]\n"
          ]
        },
        {
          "name": "stdout",
          "output_type": "stream",
          "text": [
            "Epoch [8/50]\n"
          ]
        },
        {
          "name": "stderr",
          "output_type": "stream",
          "text": [
            "Train Epoch 8: 100%|██████████| 77/77 [00:42<00:00,  1.83it/s, WMAPE=2.21, DICE=0.0905, DPEAKS=84.7, Loss=0.00721]\n",
            "Validate Epoch 8: 100%|██████████| 20/20 [00:05<00:00,  3.92it/s, WMAPE=2.43, DICE=0.0922, DPEAKS=84.8, Loss=0.00783]\n"
          ]
        },
        {
          "name": "stdout",
          "output_type": "stream",
          "text": [
            "Saving best model\n",
            "Epoch [9/50]\n"
          ]
        },
        {
          "name": "stderr",
          "output_type": "stream",
          "text": [
            "Train Epoch 9: 100%|██████████| 77/77 [00:40<00:00,  1.92it/s, WMAPE=2.2, DICE=0.0893, DPEAKS=84.6, Loss=0.00706]\n",
            "Validate Epoch 9: 100%|██████████| 20/20 [00:04<00:00,  4.12it/s, WMAPE=2.83, DICE=0.0935, DPEAKS=84.1, Loss=0.00822]\n"
          ]
        },
        {
          "name": "stdout",
          "output_type": "stream",
          "text": [
            "Epoch [10/50]\n"
          ]
        },
        {
          "name": "stderr",
          "output_type": "stream",
          "text": [
            "Train Epoch 10: 100%|██████████| 77/77 [00:39<00:00,  1.95it/s, WMAPE=2.33, DICE=0.0889, DPEAKS=84.1, Loss=0.00743]\n",
            "Validate Epoch 10: 100%|██████████| 20/20 [00:04<00:00,  4.11it/s, WMAPE=2.65, DICE=0.096, DPEAKS=86.9, Loss=0.00796]\n"
          ]
        },
        {
          "name": "stdout",
          "output_type": "stream",
          "text": [
            "Epoch [11/50]\n"
          ]
        },
        {
          "name": "stderr",
          "output_type": "stream",
          "text": [
            "Train Epoch 11: 100%|██████████| 77/77 [00:39<00:00,  1.95it/s, WMAPE=2.16, DICE=0.088, DPEAKS=81.9, Loss=0.00689]\n",
            "Validate Epoch 11: 100%|██████████| 20/20 [00:04<00:00,  4.11it/s, WMAPE=3.01, DICE=0.0947, DPEAKS=86.7, Loss=0.00952]\n"
          ]
        },
        {
          "name": "stdout",
          "output_type": "stream",
          "text": [
            "Epoch [12/50]\n"
          ]
        },
        {
          "name": "stderr",
          "output_type": "stream",
          "text": [
            "Train Epoch 12: 100%|██████████| 77/77 [00:39<00:00,  1.95it/s, WMAPE=2.13, DICE=0.0874, DPEAKS=81.9, Loss=0.00686]\n",
            "Validate Epoch 12: 100%|██████████| 20/20 [00:04<00:00,  4.11it/s, WMAPE=3.6, DICE=0.0904, DPEAKS=82.6, Loss=0.00987]\n"
          ]
        },
        {
          "name": "stdout",
          "output_type": "stream",
          "text": [
            "Epoch [13/50]\n"
          ]
        },
        {
          "name": "stderr",
          "output_type": "stream",
          "text": [
            "Train Epoch 13: 100%|██████████| 77/77 [00:39<00:00,  1.95it/s, WMAPE=2.05, DICE=0.0868, DPEAKS=80.2, Loss=0.00657]\n",
            "Validate Epoch 13: 100%|██████████| 20/20 [00:04<00:00,  4.13it/s, WMAPE=4.61, DICE=0.0973, DPEAKS=90.4, Loss=0.014]\n"
          ]
        },
        {
          "name": "stdout",
          "output_type": "stream",
          "text": [
            "early stopping: 5 epochs without improvement\n",
            "Training complete.\n"
          ]
        },
        {
          "name": "stderr",
          "output_type": "stream",
          "text": [
            "Validate Epoch test: 100%|██████████| 486/486 [02:34<00:00,  3.14it/s, WMAPE=2.3, DICE=0.0917, DPEAKS=85.6, Loss=0.00778]\n"
          ]
        },
        {
          "name": "stdout",
          "output_type": "stream",
          "text": [
            "Epoch [1/50]\n"
          ]
        },
        {
          "name": "stderr",
          "output_type": "stream",
          "text": [
            "Train Epoch 1: 100%|██████████| 77/77 [00:44<00:00,  1.74it/s, WMAPE=3.26, DICE=0.0981, DPEAKS=91.1, Loss=0.0103]\n",
            "Validate Epoch 1: 100%|██████████| 20/20 [00:06<00:00,  3.29it/s, WMAPE=2.51, DICE=0.0918, DPEAKS=96.3, Loss=0.00784]\n"
          ]
        },
        {
          "name": "stdout",
          "output_type": "stream",
          "text": [
            "Saving best model\n",
            "Epoch [2/50]\n"
          ]
        },
        {
          "name": "stderr",
          "output_type": "stream",
          "text": [
            "Train Epoch 2: 100%|██████████| 77/77 [00:39<00:00,  1.95it/s, WMAPE=2.41, DICE=0.0909, DPEAKS=90.5, Loss=0.00778]\n",
            "Validate Epoch 2: 100%|██████████| 20/20 [00:04<00:00,  4.12it/s, WMAPE=2.78, DICE=0.093, DPEAKS=90, Loss=0.00833]\n"
          ]
        },
        {
          "name": "stdout",
          "output_type": "stream",
          "text": [
            "Epoch [3/50]\n"
          ]
        },
        {
          "name": "stderr",
          "output_type": "stream",
          "text": [
            "Train Epoch 3: 100%|██████████| 77/77 [00:39<00:00,  1.95it/s, WMAPE=2.39, DICE=0.0897, DPEAKS=87.3, Loss=0.0076]\n",
            "Validate Epoch 3: 100%|██████████| 20/20 [00:04<00:00,  4.09it/s, WMAPE=2.58, DICE=0.091, DPEAKS=83.5, Loss=0.00802]\n"
          ]
        },
        {
          "name": "stdout",
          "output_type": "stream",
          "text": [
            "Epoch [4/50]\n"
          ]
        },
        {
          "name": "stderr",
          "output_type": "stream",
          "text": [
            "Train Epoch 4: 100%|██████████| 77/77 [00:39<00:00,  1.95it/s, WMAPE=2.3, DICE=0.0897, DPEAKS=85.5, Loss=0.00737]\n",
            "Validate Epoch 4: 100%|██████████| 20/20 [00:04<00:00,  4.07it/s, WMAPE=4.28, DICE=0.091, DPEAKS=91.2, Loss=0.0133]\n"
          ]
        },
        {
          "name": "stdout",
          "output_type": "stream",
          "text": [
            "Epoch [5/50]\n"
          ]
        },
        {
          "name": "stderr",
          "output_type": "stream",
          "text": [
            "Train Epoch 5: 100%|██████████| 77/77 [00:39<00:00,  1.95it/s, WMAPE=2.37, DICE=0.0897, DPEAKS=85.8, Loss=0.00762]\n",
            "Validate Epoch 5: 100%|██████████| 20/20 [00:04<00:00,  4.08it/s, WMAPE=2.35, DICE=0.0917, DPEAKS=82.9, Loss=0.00752]\n"
          ]
        },
        {
          "name": "stdout",
          "output_type": "stream",
          "text": [
            "Saving best model\n",
            "Epoch [6/50]\n"
          ]
        },
        {
          "name": "stderr",
          "output_type": "stream",
          "text": [
            "Train Epoch 6: 100%|██████████| 77/77 [00:39<00:00,  1.95it/s, WMAPE=2.16, DICE=0.0885, DPEAKS=83.1, Loss=0.007]\n",
            "Validate Epoch 6: 100%|██████████| 20/20 [00:04<00:00,  4.16it/s, WMAPE=4.14, DICE=0.092, DPEAKS=79.3, Loss=0.0117]\n"
          ]
        },
        {
          "name": "stdout",
          "output_type": "stream",
          "text": [
            "Epoch [7/50]\n"
          ]
        },
        {
          "name": "stderr",
          "output_type": "stream",
          "text": [
            "Train Epoch 7: 100%|██████████| 77/77 [00:39<00:00,  1.95it/s, WMAPE=2.22, DICE=0.0882, DPEAKS=82.8, Loss=0.00705]\n",
            "Validate Epoch 7: 100%|██████████| 20/20 [00:04<00:00,  4.14it/s, WMAPE=4.03, DICE=0.0893, DPEAKS=77.8, Loss=0.0113]\n"
          ]
        },
        {
          "name": "stdout",
          "output_type": "stream",
          "text": [
            "Epoch [8/50]\n"
          ]
        },
        {
          "name": "stderr",
          "output_type": "stream",
          "text": [
            "Train Epoch 8: 100%|██████████| 77/77 [00:39<00:00,  1.95it/s, WMAPE=2.07, DICE=0.0867, DPEAKS=82.2, Loss=0.00665]\n",
            "Validate Epoch 8: 100%|██████████| 20/20 [00:04<00:00,  4.12it/s, WMAPE=3.42, DICE=0.0914, DPEAKS=80.6, Loss=0.00967]\n"
          ]
        },
        {
          "name": "stdout",
          "output_type": "stream",
          "text": [
            "Epoch [9/50]\n"
          ]
        },
        {
          "name": "stderr",
          "output_type": "stream",
          "text": [
            "Train Epoch 9: 100%|██████████| 77/77 [00:41<00:00,  1.84it/s, WMAPE=2.19, DICE=0.0866, DPEAKS=80.4, Loss=0.00691]\n",
            "Validate Epoch 9: 100%|██████████| 20/20 [00:05<00:00,  3.97it/s, WMAPE=2.57, DICE=0.0928, DPEAKS=85.9, Loss=0.00789]\n"
          ]
        },
        {
          "name": "stdout",
          "output_type": "stream",
          "text": [
            "Epoch [10/50]\n"
          ]
        },
        {
          "name": "stderr",
          "output_type": "stream",
          "text": [
            "Train Epoch 10: 100%|██████████| 77/77 [00:41<00:00,  1.84it/s, WMAPE=2.2, DICE=0.0858, DPEAKS=80.9, Loss=0.00692]\n",
            "Validate Epoch 10: 100%|██████████| 20/20 [00:05<00:00,  3.91it/s, WMAPE=2.41, DICE=0.0898, DPEAKS=80.9, Loss=0.00784]\n"
          ]
        },
        {
          "name": "stdout",
          "output_type": "stream",
          "text": [
            "early stopping: 5 epochs without improvement\n",
            "Training complete.\n"
          ]
        },
        {
          "name": "stderr",
          "output_type": "stream",
          "text": [
            "Validate Epoch test: 100%|██████████| 486/486 [02:41<00:00,  3.01it/s, WMAPE=2.3, DICE=0.0913, DPEAKS=83.6, Loss=0.00744]\n"
          ]
        },
        {
          "name": "stdout",
          "output_type": "stream",
          "text": [
            "Epoch [1/50]\n"
          ]
        },
        {
          "name": "stderr",
          "output_type": "stream",
          "text": [
            "Train Epoch 1: 100%|██████████| 77/77 [00:46<00:00,  1.64it/s, WMAPE=2.95, DICE=0.0959, DPEAKS=89.6, Loss=0.00936]\n",
            "Validate Epoch 1: 100%|██████████| 20/20 [00:06<00:00,  3.17it/s, WMAPE=2.38, DICE=0.0924, DPEAKS=86.6, Loss=0.00796]\n"
          ]
        },
        {
          "name": "stdout",
          "output_type": "stream",
          "text": [
            "Saving best model\n",
            "Epoch [2/50]\n"
          ]
        },
        {
          "name": "stderr",
          "output_type": "stream",
          "text": [
            "Train Epoch 2: 100%|██████████| 77/77 [00:41<00:00,  1.83it/s, WMAPE=2.32, DICE=0.089, DPEAKS=86.9, Loss=0.00751]\n",
            "Validate Epoch 2: 100%|██████████| 20/20 [00:05<00:00,  3.92it/s, WMAPE=2.67, DICE=0.0897, DPEAKS=83.5, Loss=0.0086]\n"
          ]
        },
        {
          "name": "stdout",
          "output_type": "stream",
          "text": [
            "Epoch [3/50]\n"
          ]
        },
        {
          "name": "stderr",
          "output_type": "stream",
          "text": [
            "Train Epoch 3: 100%|██████████| 77/77 [00:42<00:00,  1.83it/s, WMAPE=2.29, DICE=0.0883, DPEAKS=85.2, Loss=0.00735]\n",
            "Validate Epoch 3: 100%|██████████| 20/20 [00:05<00:00,  3.94it/s, WMAPE=2.55, DICE=0.0904, DPEAKS=87.8, Loss=0.00773]\n"
          ]
        },
        {
          "name": "stdout",
          "output_type": "stream",
          "text": [
            "Saving best model\n",
            "Epoch [4/50]\n"
          ]
        },
        {
          "name": "stderr",
          "output_type": "stream",
          "text": [
            "Train Epoch 4: 100%|██████████| 77/77 [00:41<00:00,  1.84it/s, WMAPE=2.19, DICE=0.0876, DPEAKS=83.6, Loss=0.00701]\n",
            "Validate Epoch 4: 100%|██████████| 20/20 [00:05<00:00,  3.96it/s, WMAPE=2.45, DICE=0.0924, DPEAKS=83.4, Loss=0.00777]\n"
          ]
        },
        {
          "name": "stdout",
          "output_type": "stream",
          "text": [
            "Epoch [5/50]\n"
          ]
        },
        {
          "name": "stderr",
          "output_type": "stream",
          "text": [
            "Train Epoch 5: 100%|██████████| 77/77 [00:41<00:00,  1.84it/s, WMAPE=2.12, DICE=0.0876, DPEAKS=82.8, Loss=0.0068]\n",
            "Validate Epoch 5: 100%|██████████| 20/20 [00:05<00:00,  3.86it/s, WMAPE=2.52, DICE=0.0895, DPEAKS=80, Loss=0.00785]\n"
          ]
        },
        {
          "name": "stdout",
          "output_type": "stream",
          "text": [
            "Epoch [6/50]\n"
          ]
        },
        {
          "name": "stderr",
          "output_type": "stream",
          "text": [
            "Train Epoch 6: 100%|██████████| 77/77 [00:41<00:00,  1.84it/s, WMAPE=2.2, DICE=0.0869, DPEAKS=81.5, Loss=0.00702]\n",
            "Validate Epoch 6: 100%|██████████| 20/20 [00:05<00:00,  3.85it/s, WMAPE=2.38, DICE=0.089, DPEAKS=81.3, Loss=0.00813]\n"
          ]
        },
        {
          "name": "stdout",
          "output_type": "stream",
          "text": [
            "Epoch [7/50]\n"
          ]
        },
        {
          "name": "stderr",
          "output_type": "stream",
          "text": [
            "Train Epoch 7: 100%|██████████| 77/77 [00:41<00:00,  1.83it/s, WMAPE=2.19, DICE=0.0863, DPEAKS=82, Loss=0.00693]\n",
            "Validate Epoch 7: 100%|██████████| 20/20 [00:05<00:00,  3.91it/s, WMAPE=2.74, DICE=0.0933, DPEAKS=83.9, Loss=0.00922]\n"
          ]
        },
        {
          "name": "stdout",
          "output_type": "stream",
          "text": [
            "Epoch [8/50]\n"
          ]
        },
        {
          "name": "stderr",
          "output_type": "stream",
          "text": [
            "Train Epoch 8: 100%|██████████| 77/77 [00:41<00:00,  1.83it/s, WMAPE=2.26, DICE=0.0864, DPEAKS=82, Loss=0.00717]\n",
            "Validate Epoch 8: 100%|██████████| 20/20 [00:05<00:00,  3.91it/s, WMAPE=3.91, DICE=0.0881, DPEAKS=77.2, Loss=0.0114]\n"
          ]
        },
        {
          "name": "stdout",
          "output_type": "stream",
          "text": [
            "early stopping: 5 epochs without improvement\n",
            "Training complete.\n"
          ]
        },
        {
          "name": "stderr",
          "output_type": "stream",
          "text": [
            "Validate Epoch test: 100%|██████████| 486/486 [02:42<00:00,  3.00it/s, WMAPE=2.55, DICE=0.0903, DPEAKS=90.4, Loss=0.00765]\n"
          ]
        },
        {
          "name": "stdout",
          "output_type": "stream",
          "text": [
            "Epoch [1/50]\n"
          ]
        },
        {
          "name": "stderr",
          "output_type": "stream",
          "text": [
            "Train Epoch 1: 100%|██████████| 77/77 [00:46<00:00,  1.64it/s, WMAPE=2.9, DICE=0.0943, DPEAKS=88.4, Loss=0.00923]\n",
            "Validate Epoch 1: 100%|██████████| 20/20 [00:06<00:00,  3.17it/s, WMAPE=2.57, DICE=0.0921, DPEAKS=90.2, Loss=0.00808]\n"
          ]
        },
        {
          "name": "stdout",
          "output_type": "stream",
          "text": [
            "Saving best model\n",
            "Epoch [2/50]\n"
          ]
        },
        {
          "name": "stderr",
          "output_type": "stream",
          "text": [
            "Train Epoch 2: 100%|██████████| 77/77 [00:41<00:00,  1.83it/s, WMAPE=2.32, DICE=0.0889, DPEAKS=85.6, Loss=0.00761]\n",
            "Validate Epoch 2: 100%|██████████| 20/20 [00:05<00:00,  3.92it/s, WMAPE=2.46, DICE=0.0912, DPEAKS=89.1, Loss=0.00758]\n"
          ]
        },
        {
          "name": "stdout",
          "output_type": "stream",
          "text": [
            "Saving best model\n",
            "Epoch [3/50]\n"
          ]
        },
        {
          "name": "stderr",
          "output_type": "stream",
          "text": [
            "Train Epoch 3: 100%|██████████| 77/77 [00:41<00:00,  1.86it/s, WMAPE=2.16, DICE=0.0876, DPEAKS=82.2, Loss=0.007]\n",
            "Validate Epoch 3: 100%|██████████| 20/20 [00:04<00:00,  4.11it/s, WMAPE=5.17, DICE=0.0882, DPEAKS=81.3, Loss=0.0138]\n"
          ]
        },
        {
          "name": "stdout",
          "output_type": "stream",
          "text": [
            "Epoch [4/50]\n"
          ]
        },
        {
          "name": "stderr",
          "output_type": "stream",
          "text": [
            "Train Epoch 4: 100%|██████████| 77/77 [00:39<00:00,  1.95it/s, WMAPE=2.25, DICE=0.0869, DPEAKS=80.7, Loss=0.00731]\n",
            "Validate Epoch 4: 100%|██████████| 20/20 [00:04<00:00,  4.11it/s, WMAPE=3.61, DICE=0.0909, DPEAKS=83.7, Loss=0.00991]\n"
          ]
        },
        {
          "name": "stdout",
          "output_type": "stream",
          "text": [
            "Epoch [5/50]\n"
          ]
        },
        {
          "name": "stderr",
          "output_type": "stream",
          "text": [
            "Train Epoch 5: 100%|██████████| 77/77 [00:39<00:00,  1.95it/s, WMAPE=2.12, DICE=0.0865, DPEAKS=79.5, Loss=0.00687]\n",
            "Validate Epoch 5: 100%|██████████| 20/20 [00:04<00:00,  4.09it/s, WMAPE=3.9, DICE=0.0886, DPEAKS=81.3, Loss=0.0105]\n"
          ]
        },
        {
          "name": "stdout",
          "output_type": "stream",
          "text": [
            "Epoch [6/50]\n"
          ]
        },
        {
          "name": "stderr",
          "output_type": "stream",
          "text": [
            "Train Epoch 6: 100%|██████████| 77/77 [00:39<00:00,  1.95it/s, WMAPE=2.26, DICE=0.0866, DPEAKS=80.6, Loss=0.00726]\n",
            "Validate Epoch 6: 100%|██████████| 20/20 [00:04<00:00,  4.16it/s, WMAPE=2.44, DICE=0.0896, DPEAKS=81.7, Loss=0.00736]\n"
          ]
        },
        {
          "name": "stdout",
          "output_type": "stream",
          "text": [
            "Saving best model\n",
            "Epoch [7/50]\n"
          ]
        },
        {
          "name": "stderr",
          "output_type": "stream",
          "text": [
            "Train Epoch 7: 100%|██████████| 77/77 [00:39<00:00,  1.95it/s, WMAPE=2.07, DICE=0.0861, DPEAKS=79.9, Loss=0.00678]\n",
            "Validate Epoch 7: 100%|██████████| 20/20 [00:04<00:00,  4.14it/s, WMAPE=2.39, DICE=0.087, DPEAKS=83.5, Loss=0.00725]\n"
          ]
        },
        {
          "name": "stdout",
          "output_type": "stream",
          "text": [
            "Saving best model\n",
            "Epoch [8/50]\n"
          ]
        },
        {
          "name": "stderr",
          "output_type": "stream",
          "text": [
            "Train Epoch 8: 100%|██████████| 77/77 [00:39<00:00,  1.95it/s, WMAPE=2.02, DICE=0.0848, DPEAKS=78, Loss=0.00656]\n",
            "Validate Epoch 8: 100%|██████████| 20/20 [00:04<00:00,  4.11it/s, WMAPE=2.5, DICE=0.0907, DPEAKS=82.9, Loss=0.00752]\n"
          ]
        },
        {
          "name": "stdout",
          "output_type": "stream",
          "text": [
            "Epoch [9/50]\n"
          ]
        },
        {
          "name": "stderr",
          "output_type": "stream",
          "text": [
            "Train Epoch 9: 100%|██████████| 77/77 [00:39<00:00,  1.95it/s, WMAPE=1.99, DICE=0.0844, DPEAKS=77.6, Loss=0.00645]\n",
            "Validate Epoch 9: 100%|██████████| 20/20 [00:04<00:00,  4.11it/s, WMAPE=2.6, DICE=0.0873, DPEAKS=81.7, Loss=0.00746]\n"
          ]
        },
        {
          "name": "stdout",
          "output_type": "stream",
          "text": [
            "Epoch [10/50]\n"
          ]
        },
        {
          "name": "stderr",
          "output_type": "stream",
          "text": [
            "Train Epoch 10: 100%|██████████| 77/77 [00:40<00:00,  1.89it/s, WMAPE=1.96, DICE=0.084, DPEAKS=77.1, Loss=0.00637]\n",
            "Validate Epoch 10: 100%|██████████| 20/20 [00:05<00:00,  3.92it/s, WMAPE=2.5, DICE=0.094, DPEAKS=83.6, Loss=0.00791]\n"
          ]
        },
        {
          "name": "stdout",
          "output_type": "stream",
          "text": [
            "Epoch [11/50]\n"
          ]
        },
        {
          "name": "stderr",
          "output_type": "stream",
          "text": [
            "Train Epoch 11: 100%|██████████| 77/77 [00:42<00:00,  1.83it/s, WMAPE=1.95, DICE=0.084, DPEAKS=73.9, Loss=0.00635]\n",
            "Validate Epoch 11: 100%|██████████| 20/20 [00:05<00:00,  3.91it/s, WMAPE=2.66, DICE=0.0927, DPEAKS=82.4, Loss=0.0084]\n"
          ]
        },
        {
          "name": "stdout",
          "output_type": "stream",
          "text": [
            "Epoch [12/50]\n"
          ]
        },
        {
          "name": "stderr",
          "output_type": "stream",
          "text": [
            "Train Epoch 12: 100%|██████████| 77/77 [00:41<00:00,  1.84it/s, WMAPE=2.1, DICE=0.0829, DPEAKS=73.5, Loss=0.00673]\n",
            "Validate Epoch 12: 100%|██████████| 20/20 [00:05<00:00,  3.93it/s, WMAPE=4.06, DICE=0.086, DPEAKS=81.4, Loss=0.0111]\n"
          ]
        },
        {
          "name": "stdout",
          "output_type": "stream",
          "text": [
            "early stopping: 5 epochs without improvement\n",
            "Training complete.\n"
          ]
        },
        {
          "name": "stderr",
          "output_type": "stream",
          "text": [
            "Validate Epoch test: 100%|██████████| 486/486 [02:42<00:00,  2.99it/s, WMAPE=2.23, DICE=0.0864, DPEAKS=81.5, Loss=0.00713]\n"
          ]
        },
        {
          "name": "stdout",
          "output_type": "stream",
          "text": [
            "Epoch [1/50]\n"
          ]
        },
        {
          "name": "stderr",
          "output_type": "stream",
          "text": [
            "Train Epoch 1: 100%|██████████| 77/77 [00:46<00:00,  1.64it/s, WMAPE=2.84, DICE=0.0913, DPEAKS=82.2, Loss=0.00882]\n",
            "Validate Epoch 1: 100%|██████████| 20/20 [00:06<00:00,  3.18it/s, WMAPE=2.75, DICE=0.091, DPEAKS=86.3, Loss=0.00838]\n"
          ]
        },
        {
          "name": "stdout",
          "output_type": "stream",
          "text": [
            "Saving best model\n",
            "Epoch [2/50]\n"
          ]
        },
        {
          "name": "stderr",
          "output_type": "stream",
          "text": [
            "Train Epoch 2: 100%|██████████| 77/77 [00:41<00:00,  1.84it/s, WMAPE=2.35, DICE=0.0867, DPEAKS=82.7, Loss=0.00741]\n",
            "Validate Epoch 2: 100%|██████████| 20/20 [00:05<00:00,  3.98it/s, WMAPE=2.47, DICE=0.0898, DPEAKS=87.6, Loss=0.00798]\n"
          ]
        },
        {
          "name": "stdout",
          "output_type": "stream",
          "text": [
            "Saving best model\n",
            "Epoch [3/50]\n"
          ]
        },
        {
          "name": "stderr",
          "output_type": "stream",
          "text": [
            "Train Epoch 3: 100%|██████████| 77/77 [00:41<00:00,  1.84it/s, WMAPE=2.31, DICE=0.0867, DPEAKS=82.5, Loss=0.00732]\n",
            "Validate Epoch 3: 100%|██████████| 20/20 [00:05<00:00,  3.92it/s, WMAPE=2.35, DICE=0.086, DPEAKS=89.2, Loss=0.00722]\n"
          ]
        },
        {
          "name": "stdout",
          "output_type": "stream",
          "text": [
            "Saving best model\n",
            "Epoch [4/50]\n"
          ]
        },
        {
          "name": "stderr",
          "output_type": "stream",
          "text": [
            "Train Epoch 4: 100%|██████████| 77/77 [00:42<00:00,  1.83it/s, WMAPE=2.21, DICE=0.0862, DPEAKS=81.9, Loss=0.00703]\n",
            "Validate Epoch 4: 100%|██████████| 20/20 [00:05<00:00,  3.96it/s, WMAPE=3.63, DICE=0.0927, DPEAKS=85.8, Loss=0.0107]\n"
          ]
        },
        {
          "name": "stdout",
          "output_type": "stream",
          "text": [
            "Epoch [5/50]\n"
          ]
        },
        {
          "name": "stderr",
          "output_type": "stream",
          "text": [
            "Train Epoch 5: 100%|██████████| 77/77 [00:41<00:00,  1.83it/s, WMAPE=2.14, DICE=0.0852, DPEAKS=80.4, Loss=0.00674]\n",
            "Validate Epoch 5: 100%|██████████| 20/20 [00:05<00:00,  3.94it/s, WMAPE=2.6, DICE=0.0866, DPEAKS=82.7, Loss=0.00853]\n"
          ]
        },
        {
          "name": "stdout",
          "output_type": "stream",
          "text": [
            "Epoch [6/50]\n"
          ]
        },
        {
          "name": "stderr",
          "output_type": "stream",
          "text": [
            "Train Epoch 6: 100%|██████████| 77/77 [00:42<00:00,  1.83it/s, WMAPE=2.09, DICE=0.0848, DPEAKS=79.1, Loss=0.00664]\n",
            "Validate Epoch 6: 100%|██████████| 20/20 [00:05<00:00,  3.94it/s, WMAPE=2.88, DICE=0.0908, DPEAKS=85.6, Loss=0.00938]\n"
          ]
        },
        {
          "name": "stdout",
          "output_type": "stream",
          "text": [
            "Epoch [7/50]\n"
          ]
        },
        {
          "name": "stderr",
          "output_type": "stream",
          "text": [
            "Train Epoch 7: 100%|██████████| 77/77 [00:42<00:00,  1.83it/s, WMAPE=2.08, DICE=0.0838, DPEAKS=79.4, Loss=0.00656]\n",
            "Validate Epoch 7: 100%|██████████| 20/20 [00:05<00:00,  3.81it/s, WMAPE=2.76, DICE=0.0889, DPEAKS=81.9, Loss=0.00864]\n"
          ]
        },
        {
          "name": "stdout",
          "output_type": "stream",
          "text": [
            "Epoch [8/50]\n"
          ]
        },
        {
          "name": "stderr",
          "output_type": "stream",
          "text": [
            "Train Epoch 8: 100%|██████████| 77/77 [00:42<00:00,  1.83it/s, WMAPE=2.24, DICE=0.0842, DPEAKS=77.9, Loss=0.007]\n",
            "Validate Epoch 8: 100%|██████████| 20/20 [00:05<00:00,  3.94it/s, WMAPE=2.24, DICE=0.0864, DPEAKS=81, Loss=0.00716]\n"
          ]
        },
        {
          "name": "stdout",
          "output_type": "stream",
          "text": [
            "Saving best model\n",
            "Epoch [9/50]\n"
          ]
        },
        {
          "name": "stderr",
          "output_type": "stream",
          "text": [
            "Train Epoch 9: 100%|██████████| 77/77 [00:41<00:00,  1.84it/s, WMAPE=2.07, DICE=0.0836, DPEAKS=78.6, Loss=0.00653]\n",
            "Validate Epoch 9: 100%|██████████| 20/20 [00:05<00:00,  3.89it/s, WMAPE=3.02, DICE=0.0848, DPEAKS=79.6, Loss=0.00965]\n"
          ]
        },
        {
          "name": "stdout",
          "output_type": "stream",
          "text": [
            "Epoch [10/50]\n"
          ]
        },
        {
          "name": "stderr",
          "output_type": "stream",
          "text": [
            "Train Epoch 10: 100%|██████████| 77/77 [00:41<00:00,  1.83it/s, WMAPE=2.27, DICE=0.0833, DPEAKS=78.7, Loss=0.00708]\n",
            "Validate Epoch 10: 100%|██████████| 20/20 [00:05<00:00,  3.93it/s, WMAPE=2.81, DICE=0.0858, DPEAKS=75.9, Loss=0.00839]\n"
          ]
        },
        {
          "name": "stdout",
          "output_type": "stream",
          "text": [
            "Epoch [11/50]\n"
          ]
        },
        {
          "name": "stderr",
          "output_type": "stream",
          "text": [
            "Train Epoch 11: 100%|██████████| 77/77 [00:41<00:00,  1.83it/s, WMAPE=2.17, DICE=0.0831, DPEAKS=79.3, Loss=0.00686]\n",
            "Validate Epoch 11: 100%|██████████| 20/20 [00:05<00:00,  3.91it/s, WMAPE=2.36, DICE=0.0847, DPEAKS=83.4, Loss=0.00718]\n"
          ]
        },
        {
          "name": "stdout",
          "output_type": "stream",
          "text": [
            "Epoch [12/50]\n"
          ]
        },
        {
          "name": "stderr",
          "output_type": "stream",
          "text": [
            "Train Epoch 12: 100%|██████████| 77/77 [00:42<00:00,  1.83it/s, WMAPE=1.96, DICE=0.0824, DPEAKS=79.3, Loss=0.00619]\n",
            "Validate Epoch 12: 100%|██████████| 20/20 [00:05<00:00,  3.93it/s, WMAPE=4.41, DICE=0.088, DPEAKS=77.2, Loss=0.0123]\n"
          ]
        },
        {
          "name": "stdout",
          "output_type": "stream",
          "text": [
            "Epoch [13/50]\n"
          ]
        },
        {
          "name": "stderr",
          "output_type": "stream",
          "text": [
            "Train Epoch 13: 100%|██████████| 77/77 [00:42<00:00,  1.83it/s, WMAPE=2.06, DICE=0.0817, DPEAKS=77.2, Loss=0.00648]\n",
            "Validate Epoch 13: 100%|██████████| 20/20 [00:05<00:00,  3.92it/s, WMAPE=4.04, DICE=0.0879, DPEAKS=75.9, Loss=0.0115]\n"
          ]
        },
        {
          "name": "stdout",
          "output_type": "stream",
          "text": [
            "early stopping: 5 epochs without improvement\n",
            "Training complete.\n"
          ]
        },
        {
          "name": "stderr",
          "output_type": "stream",
          "text": [
            "Validate Epoch test: 100%|██████████| 486/486 [02:35<00:00,  3.12it/s, WMAPE=2.25, DICE=0.0865, DPEAKS=81.8, Loss=0.00716]\n"
          ]
        },
        {
          "name": "stdout",
          "output_type": "stream",
          "text": [
            "Epoch [1/50]\n"
          ]
        },
        {
          "name": "stderr",
          "output_type": "stream",
          "text": [
            "Train Epoch 1: 100%|██████████| 77/77 [00:44<00:00,  1.73it/s, WMAPE=2.84, DICE=0.0913, DPEAKS=82.7, Loss=0.00872]\n",
            "Validate Epoch 1: 100%|██████████| 20/20 [00:06<00:00,  3.25it/s, WMAPE=2.08, DICE=0.0859, DPEAKS=83.7, Loss=0.00695]\n"
          ]
        },
        {
          "name": "stdout",
          "output_type": "stream",
          "text": [
            "Saving best model\n",
            "Epoch [2/50]\n"
          ]
        },
        {
          "name": "stderr",
          "output_type": "stream",
          "text": [
            "Train Epoch 2: 100%|██████████| 77/77 [00:39<00:00,  1.96it/s, WMAPE=2.27, DICE=0.0857, DPEAKS=79.9, Loss=0.00714]\n",
            "Validate Epoch 2: 100%|██████████| 20/20 [00:04<00:00,  4.16it/s, WMAPE=2.32, DICE=0.085, DPEAKS=83.1, Loss=0.00779]\n"
          ]
        },
        {
          "name": "stdout",
          "output_type": "stream",
          "text": [
            "Epoch [3/50]\n"
          ]
        },
        {
          "name": "stderr",
          "output_type": "stream",
          "text": [
            "Train Epoch 3: 100%|██████████| 77/77 [00:39<00:00,  1.96it/s, WMAPE=2.2, DICE=0.0848, DPEAKS=79.5, Loss=0.00685]\n",
            "Validate Epoch 3: 100%|██████████| 20/20 [00:04<00:00,  4.09it/s, WMAPE=2.31, DICE=0.0871, DPEAKS=80.1, Loss=0.00731]\n"
          ]
        },
        {
          "name": "stdout",
          "output_type": "stream",
          "text": [
            "Epoch [4/50]\n"
          ]
        },
        {
          "name": "stderr",
          "output_type": "stream",
          "text": [
            "Train Epoch 4: 100%|██████████| 77/77 [00:39<00:00,  1.94it/s, WMAPE=2.24, DICE=0.0843, DPEAKS=78, Loss=0.00704]\n",
            "Validate Epoch 4: 100%|██████████| 20/20 [00:04<00:00,  4.10it/s, WMAPE=2.21, DICE=0.0885, DPEAKS=84.2, Loss=0.00729]\n"
          ]
        },
        {
          "name": "stdout",
          "output_type": "stream",
          "text": [
            "Epoch [5/50]\n"
          ]
        },
        {
          "name": "stderr",
          "output_type": "stream",
          "text": [
            "Train Epoch 5: 100%|██████████| 77/77 [00:39<00:00,  1.95it/s, WMAPE=2.3, DICE=0.0844, DPEAKS=78.4, Loss=0.00725]\n",
            "Validate Epoch 5: 100%|██████████| 20/20 [00:04<00:00,  4.14it/s, WMAPE=3.26, DICE=0.0877, DPEAKS=78.8, Loss=0.00971]\n"
          ]
        },
        {
          "name": "stdout",
          "output_type": "stream",
          "text": [
            "Epoch [6/50]\n"
          ]
        },
        {
          "name": "stderr",
          "output_type": "stream",
          "text": [
            "Train Epoch 6: 100%|██████████| 77/77 [00:39<00:00,  1.95it/s, WMAPE=2.2, DICE=0.0839, DPEAKS=79.1, Loss=0.00688]\n",
            "Validate Epoch 6: 100%|██████████| 20/20 [00:04<00:00,  4.14it/s, WMAPE=3.8, DICE=0.0855, DPEAKS=78.1, Loss=0.0111]\n"
          ]
        },
        {
          "name": "stdout",
          "output_type": "stream",
          "text": [
            "early stopping: 5 epochs without improvement\n",
            "Training complete.\n"
          ]
        },
        {
          "name": "stderr",
          "output_type": "stream",
          "text": [
            "Validate Epoch test: 100%|██████████| 486/486 [02:34<00:00,  3.15it/s, WMAPE=2.13, DICE=0.0854, DPEAKS=81.9, Loss=0.00697]\n"
          ]
        },
        {
          "name": "stdout",
          "output_type": "stream",
          "text": [
            "Epoch [1/50]\n"
          ]
        },
        {
          "name": "stderr",
          "output_type": "stream",
          "text": [
            "Train Epoch 1: 100%|██████████| 77/77 [00:44<00:00,  1.73it/s, WMAPE=2.68, DICE=0.0888, DPEAKS=83.4, Loss=0.00835]\n",
            "Validate Epoch 1: 100%|██████████| 20/20 [00:06<00:00,  3.15it/s, WMAPE=2.67, DICE=0.0891, DPEAKS=81.7, Loss=0.00804]\n"
          ]
        },
        {
          "name": "stdout",
          "output_type": "stream",
          "text": [
            "Saving best model\n",
            "Epoch [2/50]\n"
          ]
        },
        {
          "name": "stderr",
          "output_type": "stream",
          "text": [
            "Train Epoch 2: 100%|██████████| 77/77 [00:41<00:00,  1.84it/s, WMAPE=2.35, DICE=0.0858, DPEAKS=83.4, Loss=0.00739]\n",
            "Validate Epoch 2: 100%|██████████| 20/20 [00:05<00:00,  3.99it/s, WMAPE=2.19, DICE=0.0854, DPEAKS=77.3, Loss=0.0071]\n"
          ]
        },
        {
          "name": "stdout",
          "output_type": "stream",
          "text": [
            "Saving best model\n",
            "Epoch [3/50]\n"
          ]
        },
        {
          "name": "stderr",
          "output_type": "stream",
          "text": [
            "Train Epoch 3: 100%|██████████| 77/77 [00:41<00:00,  1.83it/s, WMAPE=2.27, DICE=0.0852, DPEAKS=81.8, Loss=0.00716]\n",
            "Validate Epoch 3: 100%|██████████| 20/20 [00:05<00:00,  3.91it/s, WMAPE=2.4, DICE=0.0862, DPEAKS=78, Loss=0.00732]\n"
          ]
        },
        {
          "name": "stdout",
          "output_type": "stream",
          "text": [
            "Epoch [4/50]\n"
          ]
        },
        {
          "name": "stderr",
          "output_type": "stream",
          "text": [
            "Train Epoch 4: 100%|██████████| 77/77 [00:42<00:00,  1.83it/s, WMAPE=2.16, DICE=0.0844, DPEAKS=81.5, Loss=0.00677]\n",
            "Validate Epoch 4: 100%|██████████| 20/20 [00:05<00:00,  3.89it/s, WMAPE=2.08, DICE=0.0858, DPEAKS=76.2, Loss=0.00707]\n"
          ]
        },
        {
          "name": "stdout",
          "output_type": "stream",
          "text": [
            "Saving best model\n",
            "Epoch [5/50]\n"
          ]
        },
        {
          "name": "stderr",
          "output_type": "stream",
          "text": [
            "Train Epoch 5: 100%|██████████| 77/77 [00:42<00:00,  1.83it/s, WMAPE=2.17, DICE=0.0843, DPEAKS=80.5, Loss=0.00688]\n",
            "Validate Epoch 5: 100%|██████████| 20/20 [00:05<00:00,  3.92it/s, WMAPE=2.34, DICE=0.0861, DPEAKS=84.6, Loss=0.00722]\n"
          ]
        },
        {
          "name": "stdout",
          "output_type": "stream",
          "text": [
            "Epoch [6/50]\n"
          ]
        },
        {
          "name": "stderr",
          "output_type": "stream",
          "text": [
            "Train Epoch 6: 100%|██████████| 77/77 [00:41<00:00,  1.84it/s, WMAPE=2.14, DICE=0.0838, DPEAKS=81.8, Loss=0.00673]\n",
            "Validate Epoch 6: 100%|██████████| 20/20 [00:05<00:00,  3.89it/s, WMAPE=2.21, DICE=0.0841, DPEAKS=78.7, Loss=0.00745]\n"
          ]
        },
        {
          "name": "stdout",
          "output_type": "stream",
          "text": [
            "Epoch [7/50]\n"
          ]
        },
        {
          "name": "stderr",
          "output_type": "stream",
          "text": [
            "Train Epoch 7: 100%|██████████| 77/77 [00:42<00:00,  1.83it/s, WMAPE=2.44, DICE=0.083, DPEAKS=79.8, Loss=0.00767]\n",
            "Validate Epoch 7: 100%|██████████| 20/20 [00:05<00:00,  3.93it/s, WMAPE=2.74, DICE=0.0839, DPEAKS=76.8, Loss=0.00824]\n"
          ]
        },
        {
          "name": "stdout",
          "output_type": "stream",
          "text": [
            "Epoch [8/50]\n"
          ]
        },
        {
          "name": "stderr",
          "output_type": "stream",
          "text": [
            "Train Epoch 8: 100%|██████████| 77/77 [00:42<00:00,  1.83it/s, WMAPE=2.05, DICE=0.0826, DPEAKS=80.6, Loss=0.00655]\n",
            "Validate Epoch 8: 100%|██████████| 20/20 [00:05<00:00,  3.94it/s, WMAPE=4.01, DICE=0.0862, DPEAKS=76.7, Loss=0.0114]\n"
          ]
        },
        {
          "name": "stdout",
          "output_type": "stream",
          "text": [
            "Epoch [9/50]\n"
          ]
        },
        {
          "name": "stderr",
          "output_type": "stream",
          "text": [
            "Train Epoch 9: 100%|██████████| 77/77 [00:41<00:00,  1.84it/s, WMAPE=2.02, DICE=0.0824, DPEAKS=80.2, Loss=0.00636]\n",
            "Validate Epoch 9: 100%|██████████| 20/20 [00:05<00:00,  3.91it/s, WMAPE=3.04, DICE=0.0859, DPEAKS=75.9, Loss=0.00887]\n"
          ]
        },
        {
          "name": "stdout",
          "output_type": "stream",
          "text": [
            "early stopping: 5 epochs without improvement\n",
            "Training complete.\n"
          ]
        },
        {
          "name": "stderr",
          "output_type": "stream",
          "text": [
            "Validate Epoch test: 100%|██████████| 486/486 [02:42<00:00,  3.00it/s, WMAPE=2.12, DICE=0.0861, DPEAKS=78, Loss=0.00711]\n"
          ]
        },
        {
          "name": "stdout",
          "output_type": "stream",
          "text": [
            "Epoch [1/50]\n"
          ]
        },
        {
          "name": "stderr",
          "output_type": "stream",
          "text": [
            "Train Epoch 1: 100%|██████████| 77/77 [00:46<00:00,  1.64it/s, WMAPE=2.85, DICE=0.0895, DPEAKS=81, Loss=0.00888]\n",
            "Validate Epoch 1: 100%|██████████| 20/20 [00:06<00:00,  3.17it/s, WMAPE=2.38, DICE=0.0904, DPEAKS=84.1, Loss=0.00732]\n"
          ]
        },
        {
          "name": "stdout",
          "output_type": "stream",
          "text": [
            "Saving best model\n",
            "Epoch [2/50]\n"
          ]
        },
        {
          "name": "stderr",
          "output_type": "stream",
          "text": [
            "Train Epoch 2: 100%|██████████| 77/77 [00:41<00:00,  1.84it/s, WMAPE=2.24, DICE=0.0841, DPEAKS=79.1, Loss=0.00712]\n",
            "Validate Epoch 2: 100%|██████████| 20/20 [00:05<00:00,  3.84it/s, WMAPE=2.37, DICE=0.09, DPEAKS=82.2, Loss=0.00729]\n"
          ]
        },
        {
          "name": "stdout",
          "output_type": "stream",
          "text": [
            "Saving best model\n",
            "Epoch [3/50]\n"
          ]
        },
        {
          "name": "stderr",
          "output_type": "stream",
          "text": [
            "Train Epoch 3: 100%|██████████| 77/77 [00:41<00:00,  1.84it/s, WMAPE=2.18, DICE=0.0835, DPEAKS=77.1, Loss=0.00689]\n",
            "Validate Epoch 3: 100%|██████████| 20/20 [00:05<00:00,  3.94it/s, WMAPE=2.61, DICE=0.0844, DPEAKS=78.2, Loss=0.00789]\n"
          ]
        },
        {
          "name": "stdout",
          "output_type": "stream",
          "text": [
            "Epoch [4/50]\n"
          ]
        },
        {
          "name": "stderr",
          "output_type": "stream",
          "text": [
            "Train Epoch 4: 100%|██████████| 77/77 [00:42<00:00,  1.83it/s, WMAPE=2.12, DICE=0.0829, DPEAKS=76.7, Loss=0.00671]\n",
            "Validate Epoch 4: 100%|██████████| 20/20 [00:05<00:00,  3.94it/s, WMAPE=2.54, DICE=0.0866, DPEAKS=78.7, Loss=0.00771]\n"
          ]
        },
        {
          "name": "stdout",
          "output_type": "stream",
          "text": [
            "Epoch [5/50]\n"
          ]
        },
        {
          "name": "stderr",
          "output_type": "stream",
          "text": [
            "Train Epoch 5: 100%|██████████| 77/77 [00:41<00:00,  1.83it/s, WMAPE=2.19, DICE=0.0824, DPEAKS=77.1, Loss=0.00695]\n",
            "Validate Epoch 5: 100%|██████████| 20/20 [00:05<00:00,  3.94it/s, WMAPE=2.62, DICE=0.0852, DPEAKS=79.1, Loss=0.00789]\n"
          ]
        },
        {
          "name": "stdout",
          "output_type": "stream",
          "text": [
            "Epoch [6/50]\n"
          ]
        },
        {
          "name": "stderr",
          "output_type": "stream",
          "text": [
            "Train Epoch 6: 100%|██████████| 77/77 [00:42<00:00,  1.83it/s, WMAPE=2.02, DICE=0.0815, DPEAKS=75.7, Loss=0.00637]\n",
            "Validate Epoch 6: 100%|██████████| 20/20 [00:05<00:00,  3.94it/s, WMAPE=2.27, DICE=0.0885, DPEAKS=80.6, Loss=0.00713]\n"
          ]
        },
        {
          "name": "stdout",
          "output_type": "stream",
          "text": [
            "Saving best model\n",
            "Epoch [7/50]\n"
          ]
        },
        {
          "name": "stderr",
          "output_type": "stream",
          "text": [
            "Train Epoch 7: 100%|██████████| 77/77 [00:42<00:00,  1.83it/s, WMAPE=2.28, DICE=0.082, DPEAKS=77.3, Loss=0.00711]\n",
            "Validate Epoch 7: 100%|██████████| 20/20 [00:05<00:00,  3.95it/s, WMAPE=2.52, DICE=0.0869, DPEAKS=81.8, Loss=0.00779]\n"
          ]
        },
        {
          "name": "stdout",
          "output_type": "stream",
          "text": [
            "Epoch [8/50]\n"
          ]
        },
        {
          "name": "stderr",
          "output_type": "stream",
          "text": [
            "Train Epoch 8: 100%|██████████| 77/77 [00:41<00:00,  1.84it/s, WMAPE=2.1, DICE=0.0813, DPEAKS=76.7, Loss=0.00661]\n",
            "Validate Epoch 8: 100%|██████████| 20/20 [00:05<00:00,  3.91it/s, WMAPE=2.83, DICE=0.0837, DPEAKS=83.8, Loss=0.00918]\n"
          ]
        },
        {
          "name": "stdout",
          "output_type": "stream",
          "text": [
            "Epoch [9/50]\n"
          ]
        },
        {
          "name": "stderr",
          "output_type": "stream",
          "text": [
            "Train Epoch 9: 100%|██████████| 77/77 [00:41<00:00,  1.84it/s, WMAPE=1.99, DICE=0.0809, DPEAKS=76, Loss=0.00631]\n",
            "Validate Epoch 9: 100%|██████████| 20/20 [00:04<00:00,  4.07it/s, WMAPE=2.54, DICE=0.0841, DPEAKS=75.8, Loss=0.00765]\n"
          ]
        },
        {
          "name": "stdout",
          "output_type": "stream",
          "text": [
            "Epoch [10/50]\n"
          ]
        },
        {
          "name": "stderr",
          "output_type": "stream",
          "text": [
            "Train Epoch 10: 100%|██████████| 77/77 [00:39<00:00,  1.95it/s, WMAPE=2.11, DICE=0.0813, DPEAKS=75.3, Loss=0.00668]\n",
            "Validate Epoch 10: 100%|██████████| 20/20 [00:04<00:00,  4.07it/s, WMAPE=2.21, DICE=0.0857, DPEAKS=73.4, Loss=0.0071]\n"
          ]
        },
        {
          "name": "stdout",
          "output_type": "stream",
          "text": [
            "Saving best model\n",
            "Epoch [11/50]\n"
          ]
        },
        {
          "name": "stderr",
          "output_type": "stream",
          "text": [
            "Train Epoch 11: 100%|██████████| 77/77 [00:39<00:00,  1.94it/s, WMAPE=1.98, DICE=0.0807, DPEAKS=74.3, Loss=0.00626]\n",
            "Validate Epoch 11: 100%|██████████| 20/20 [00:04<00:00,  4.14it/s, WMAPE=2.6, DICE=0.092, DPEAKS=85.7, Loss=0.00778]\n"
          ]
        },
        {
          "name": "stdout",
          "output_type": "stream",
          "text": [
            "Epoch [12/50]\n"
          ]
        },
        {
          "name": "stderr",
          "output_type": "stream",
          "text": [
            "Train Epoch 12: 100%|██████████| 77/77 [00:39<00:00,  1.95it/s, WMAPE=2.06, DICE=0.0806, DPEAKS=75.1, Loss=0.00645]\n",
            "Validate Epoch 12: 100%|██████████| 20/20 [00:04<00:00,  4.08it/s, WMAPE=2.08, DICE=0.0825, DPEAKS=77.6, Loss=0.0068]\n"
          ]
        },
        {
          "name": "stdout",
          "output_type": "stream",
          "text": [
            "Saving best model\n",
            "Epoch [13/50]\n"
          ]
        },
        {
          "name": "stderr",
          "output_type": "stream",
          "text": [
            "Train Epoch 13: 100%|██████████| 77/77 [00:39<00:00,  1.95it/s, WMAPE=1.93, DICE=0.079, DPEAKS=73.5, Loss=0.00613]\n",
            "Validate Epoch 13: 100%|██████████| 20/20 [00:04<00:00,  4.08it/s, WMAPE=3.32, DICE=0.0848, DPEAKS=73.3, Loss=0.00982]\n"
          ]
        },
        {
          "name": "stdout",
          "output_type": "stream",
          "text": [
            "Epoch [14/50]\n"
          ]
        },
        {
          "name": "stderr",
          "output_type": "stream",
          "text": [
            "Train Epoch 14: 100%|██████████| 77/77 [00:39<00:00,  1.95it/s, WMAPE=1.87, DICE=0.0788, DPEAKS=73, Loss=0.00598]\n",
            "Validate Epoch 14: 100%|██████████| 20/20 [00:04<00:00,  4.14it/s, WMAPE=3.84, DICE=0.082, DPEAKS=73.9, Loss=0.0108]\n"
          ]
        },
        {
          "name": "stdout",
          "output_type": "stream",
          "text": [
            "Epoch [15/50]\n"
          ]
        },
        {
          "name": "stderr",
          "output_type": "stream",
          "text": [
            "Train Epoch 15: 100%|██████████| 77/77 [00:39<00:00,  1.95it/s, WMAPE=2.12, DICE=0.0797, DPEAKS=73.7, Loss=0.0067]\n",
            "Validate Epoch 15: 100%|██████████| 20/20 [00:04<00:00,  4.10it/s, WMAPE=2.4, DICE=0.0818, DPEAKS=73.3, Loss=0.00771]\n"
          ]
        },
        {
          "name": "stdout",
          "output_type": "stream",
          "text": [
            "Epoch [16/50]\n"
          ]
        },
        {
          "name": "stderr",
          "output_type": "stream",
          "text": [
            "Train Epoch 16: 100%|██████████| 77/77 [00:39<00:00,  1.95it/s, WMAPE=2, DICE=0.0781, DPEAKS=74.3, Loss=0.00634]\n",
            "Validate Epoch 16: 100%|██████████| 20/20 [00:04<00:00,  4.06it/s, WMAPE=2.15, DICE=0.0806, DPEAKS=79.5, Loss=0.00673]\n"
          ]
        },
        {
          "name": "stdout",
          "output_type": "stream",
          "text": [
            "Saving best model\n",
            "Epoch [17/50]\n"
          ]
        },
        {
          "name": "stderr",
          "output_type": "stream",
          "text": [
            "Train Epoch 17: 100%|██████████| 77/77 [00:39<00:00,  1.95it/s, WMAPE=1.93, DICE=0.0781, DPEAKS=74.1, Loss=0.00609]\n",
            "Validate Epoch 17: 100%|██████████| 20/20 [00:04<00:00,  4.10it/s, WMAPE=2.98, DICE=0.0818, DPEAKS=74.1, Loss=0.00862]\n"
          ]
        },
        {
          "name": "stdout",
          "output_type": "stream",
          "text": [
            "Epoch [18/50]\n"
          ]
        },
        {
          "name": "stderr",
          "output_type": "stream",
          "text": [
            "Train Epoch 18: 100%|██████████| 77/77 [00:39<00:00,  1.95it/s, WMAPE=1.85, DICE=0.0778, DPEAKS=73.7, Loss=0.0059]\n",
            "Validate Epoch 18: 100%|██████████| 20/20 [00:04<00:00,  4.00it/s, WMAPE=2.34, DICE=0.0805, DPEAKS=72.7, Loss=0.00719]\n"
          ]
        },
        {
          "name": "stdout",
          "output_type": "stream",
          "text": [
            "Epoch [19/50]\n"
          ]
        },
        {
          "name": "stderr",
          "output_type": "stream",
          "text": [
            "Train Epoch 19: 100%|██████████| 77/77 [00:39<00:00,  1.95it/s, WMAPE=1.92, DICE=0.0771, DPEAKS=72, Loss=0.00606]\n",
            "Validate Epoch 19: 100%|██████████| 20/20 [00:04<00:00,  4.10it/s, WMAPE=3.44, DICE=0.0814, DPEAKS=79.9, Loss=0.011]\n"
          ]
        },
        {
          "name": "stdout",
          "output_type": "stream",
          "text": [
            "Epoch [20/50]\n"
          ]
        },
        {
          "name": "stderr",
          "output_type": "stream",
          "text": [
            "Train Epoch 20: 100%|██████████| 77/77 [00:39<00:00,  1.95it/s, WMAPE=1.81, DICE=0.0768, DPEAKS=72.5, Loss=0.00577]\n",
            "Validate Epoch 20: 100%|██████████| 20/20 [00:04<00:00,  4.13it/s, WMAPE=2.29, DICE=0.0823, DPEAKS=73.8, Loss=0.00724]\n"
          ]
        },
        {
          "name": "stdout",
          "output_type": "stream",
          "text": [
            "Epoch [21/50]\n"
          ]
        },
        {
          "name": "stderr",
          "output_type": "stream",
          "text": [
            "Train Epoch 21: 100%|██████████| 77/77 [00:39<00:00,  1.95it/s, WMAPE=1.8, DICE=0.0769, DPEAKS=70.2, Loss=0.0057]\n",
            "Validate Epoch 21: 100%|██████████| 20/20 [00:04<00:00,  4.10it/s, WMAPE=3.3, DICE=0.0835, DPEAKS=73.5, Loss=0.00939]\n"
          ]
        },
        {
          "name": "stdout",
          "output_type": "stream",
          "text": [
            "early stopping: 5 epochs without improvement\n",
            "Training complete.\n"
          ]
        },
        {
          "name": "stderr",
          "output_type": "stream",
          "text": [
            "Validate Epoch test: 100%|██████████| 486/486 [02:34<00:00,  3.14it/s, WMAPE=2.22, DICE=0.0802, DPEAKS=79, Loss=0.00677]\n"
          ]
        },
        {
          "name": "stdout",
          "output_type": "stream",
          "text": [
            "Epoch [1/50]\n"
          ]
        },
        {
          "name": "stderr",
          "output_type": "stream",
          "text": [
            "Train Epoch 1: 100%|██████████| 77/77 [00:45<00:00,  1.70it/s, WMAPE=2.58, DICE=0.0862, DPEAKS=77.8, Loss=0.00805]\n",
            "Validate Epoch 1: 100%|██████████| 20/20 [00:06<00:00,  3.20it/s, WMAPE=4.27, DICE=0.083, DPEAKS=79.7, Loss=0.0117]\n"
          ]
        },
        {
          "name": "stdout",
          "output_type": "stream",
          "text": [
            "Saving best model\n",
            "Epoch [2/50]\n"
          ]
        },
        {
          "name": "stderr",
          "output_type": "stream",
          "text": [
            "Train Epoch 2: 100%|██████████| 77/77 [00:39<00:00,  1.95it/s, WMAPE=2.24, DICE=0.0816, DPEAKS=75.7, Loss=0.00706]\n",
            "Validate Epoch 2: 100%|██████████| 20/20 [00:04<00:00,  4.08it/s, WMAPE=2.44, DICE=0.0836, DPEAKS=79.7, Loss=0.00737]\n"
          ]
        },
        {
          "name": "stdout",
          "output_type": "stream",
          "text": [
            "Saving best model\n",
            "Epoch [3/50]\n"
          ]
        },
        {
          "name": "stderr",
          "output_type": "stream",
          "text": [
            "Train Epoch 3: 100%|██████████| 77/77 [00:39<00:00,  1.95it/s, WMAPE=2.18, DICE=0.0813, DPEAKS=75.7, Loss=0.00685]\n",
            "Validate Epoch 3: 100%|██████████| 20/20 [00:04<00:00,  4.03it/s, WMAPE=2.4, DICE=0.0837, DPEAKS=84.1, Loss=0.00697]\n"
          ]
        },
        {
          "name": "stdout",
          "output_type": "stream",
          "text": [
            "Saving best model\n",
            "Epoch [4/50]\n"
          ]
        },
        {
          "name": "stderr",
          "output_type": "stream",
          "text": [
            "Train Epoch 4: 100%|██████████| 77/77 [00:39<00:00,  1.95it/s, WMAPE=2.02, DICE=0.0808, DPEAKS=73.9, Loss=0.00643]\n",
            "Validate Epoch 4: 100%|██████████| 20/20 [00:04<00:00,  4.08it/s, WMAPE=2.24, DICE=0.0826, DPEAKS=76.8, Loss=0.00673]\n"
          ]
        },
        {
          "name": "stdout",
          "output_type": "stream",
          "text": [
            "Saving best model\n",
            "Epoch [5/50]\n"
          ]
        },
        {
          "name": "stderr",
          "output_type": "stream",
          "text": [
            "Train Epoch 5: 100%|██████████| 77/77 [00:39<00:00,  1.95it/s, WMAPE=2.03, DICE=0.0799, DPEAKS=72.9, Loss=0.00644]\n",
            "Validate Epoch 5: 100%|██████████| 20/20 [00:04<00:00,  4.13it/s, WMAPE=3.06, DICE=0.0841, DPEAKS=75.3, Loss=0.00952]\n"
          ]
        },
        {
          "name": "stdout",
          "output_type": "stream",
          "text": [
            "Epoch [6/50]\n"
          ]
        },
        {
          "name": "stderr",
          "output_type": "stream",
          "text": [
            "Train Epoch 6: 100%|██████████| 77/77 [00:39<00:00,  1.95it/s, WMAPE=2.01, DICE=0.0793, DPEAKS=72, Loss=0.00637]\n",
            "Validate Epoch 6: 100%|██████████| 20/20 [00:04<00:00,  4.12it/s, WMAPE=2.38, DICE=0.0815, DPEAKS=77.9, Loss=0.00741]\n"
          ]
        },
        {
          "name": "stdout",
          "output_type": "stream",
          "text": [
            "Epoch [7/50]\n"
          ]
        },
        {
          "name": "stderr",
          "output_type": "stream",
          "text": [
            "Train Epoch 7: 100%|██████████| 77/77 [00:39<00:00,  1.94it/s, WMAPE=1.97, DICE=0.0791, DPEAKS=72, Loss=0.00624]\n",
            "Validate Epoch 7: 100%|██████████| 20/20 [00:04<00:00,  4.10it/s, WMAPE=2.3, DICE=0.084, DPEAKS=80.7, Loss=0.00737]\n"
          ]
        },
        {
          "name": "stdout",
          "output_type": "stream",
          "text": [
            "Epoch [8/50]\n"
          ]
        },
        {
          "name": "stderr",
          "output_type": "stream",
          "text": [
            "Train Epoch 8: 100%|██████████| 77/77 [00:39<00:00,  1.95it/s, WMAPE=2.16, DICE=0.0782, DPEAKS=71.5, Loss=0.00683]\n",
            "Validate Epoch 8: 100%|██████████| 20/20 [00:04<00:00,  4.11it/s, WMAPE=2.76, DICE=0.0819, DPEAKS=78.7, Loss=0.00841]\n"
          ]
        },
        {
          "name": "stdout",
          "output_type": "stream",
          "text": [
            "Epoch [9/50]\n"
          ]
        },
        {
          "name": "stderr",
          "output_type": "stream",
          "text": [
            "Train Epoch 9: 100%|██████████| 77/77 [00:39<00:00,  1.95it/s, WMAPE=2.2, DICE=0.0789, DPEAKS=72.7, Loss=0.00691]\n",
            "Validate Epoch 9: 100%|██████████| 20/20 [00:04<00:00,  4.10it/s, WMAPE=2.59, DICE=0.0837, DPEAKS=85.7, Loss=0.00838]\n"
          ]
        },
        {
          "name": "stdout",
          "output_type": "stream",
          "text": [
            "early stopping: 5 epochs without improvement\n",
            "Training complete.\n"
          ]
        },
        {
          "name": "stderr",
          "output_type": "stream",
          "text": [
            "Validate Epoch test: 100%|██████████| 486/486 [02:35<00:00,  3.14it/s, WMAPE=2.17, DICE=0.0821, DPEAKS=75, Loss=0.0067]\n"
          ]
        },
        {
          "name": "stdout",
          "output_type": "stream",
          "text": [
            "Epoch [1/50]\n"
          ]
        },
        {
          "name": "stderr",
          "output_type": "stream",
          "text": [
            "Train Epoch 1: 100%|██████████| 77/77 [00:44<00:00,  1.73it/s, WMAPE=2.49, DICE=0.0857, DPEAKS=83.5, Loss=0.00787]\n",
            "Validate Epoch 1: 100%|██████████| 20/20 [00:06<00:00,  3.16it/s, WMAPE=3.5, DICE=0.0847, DPEAKS=85.5, Loss=0.0114]\n"
          ]
        },
        {
          "name": "stdout",
          "output_type": "stream",
          "text": [
            "Saving best model\n",
            "Epoch [2/50]\n"
          ]
        },
        {
          "name": "stderr",
          "output_type": "stream",
          "text": [
            "Train Epoch 2: 100%|██████████| 77/77 [00:40<00:00,  1.90it/s, WMAPE=2.21, DICE=0.0811, DPEAKS=78.5, Loss=0.00693]\n",
            "Validate Epoch 2: 100%|██████████| 20/20 [00:04<00:00,  4.12it/s, WMAPE=2.4, DICE=0.0835, DPEAKS=79.2, Loss=0.00723]\n"
          ]
        },
        {
          "name": "stdout",
          "output_type": "stream",
          "text": [
            "Saving best model\n",
            "Epoch [3/50]\n"
          ]
        },
        {
          "name": "stderr",
          "output_type": "stream",
          "text": [
            "Train Epoch 3: 100%|██████████| 77/77 [00:40<00:00,  1.91it/s, WMAPE=2.21, DICE=0.0816, DPEAKS=77.5, Loss=0.00695]\n",
            "Validate Epoch 3: 100%|██████████| 20/20 [00:04<00:00,  4.09it/s, WMAPE=2.33, DICE=0.0815, DPEAKS=82.5, Loss=0.00703]\n"
          ]
        },
        {
          "name": "stdout",
          "output_type": "stream",
          "text": [
            "Saving best model\n",
            "Epoch [4/50]\n"
          ]
        },
        {
          "name": "stderr",
          "output_type": "stream",
          "text": [
            "Train Epoch 4: 100%|██████████| 77/77 [00:39<00:00,  1.95it/s, WMAPE=2.09, DICE=0.0801, DPEAKS=76.9, Loss=0.00647]\n",
            "Validate Epoch 4: 100%|██████████| 20/20 [00:04<00:00,  4.13it/s, WMAPE=2.33, DICE=0.0822, DPEAKS=81.8, Loss=0.00724]\n"
          ]
        },
        {
          "name": "stdout",
          "output_type": "stream",
          "text": [
            "Epoch [5/50]\n"
          ]
        },
        {
          "name": "stderr",
          "output_type": "stream",
          "text": [
            "Train Epoch 5: 100%|██████████| 77/77 [00:39<00:00,  1.95it/s, WMAPE=2.01, DICE=0.0795, DPEAKS=74.5, Loss=0.00628]\n",
            "Validate Epoch 5: 100%|██████████| 20/20 [00:04<00:00,  4.12it/s, WMAPE=2.23, DICE=0.0825, DPEAKS=79.6, Loss=0.00742]\n"
          ]
        },
        {
          "name": "stdout",
          "output_type": "stream",
          "text": [
            "Epoch [6/50]\n"
          ]
        },
        {
          "name": "stderr",
          "output_type": "stream",
          "text": [
            "Train Epoch 6: 100%|██████████| 77/77 [00:39<00:00,  1.95it/s, WMAPE=1.99, DICE=0.0792, DPEAKS=74.4, Loss=0.00627]\n",
            "Validate Epoch 6: 100%|██████████| 20/20 [00:04<00:00,  4.06it/s, WMAPE=2.38, DICE=0.0806, DPEAKS=79.6, Loss=0.00751]\n"
          ]
        },
        {
          "name": "stdout",
          "output_type": "stream",
          "text": [
            "Epoch [7/50]\n"
          ]
        },
        {
          "name": "stderr",
          "output_type": "stream",
          "text": [
            "Train Epoch 7: 100%|██████████| 77/77 [00:39<00:00,  1.95it/s, WMAPE=1.89, DICE=0.0786, DPEAKS=74.3, Loss=0.00597]\n",
            "Validate Epoch 7: 100%|██████████| 20/20 [00:04<00:00,  4.13it/s, WMAPE=2.73, DICE=0.0788, DPEAKS=77.7, Loss=0.00796]\n"
          ]
        },
        {
          "name": "stdout",
          "output_type": "stream",
          "text": [
            "Epoch [8/50]\n"
          ]
        },
        {
          "name": "stderr",
          "output_type": "stream",
          "text": [
            "Train Epoch 8: 100%|██████████| 77/77 [00:39<00:00,  1.95it/s, WMAPE=1.87, DICE=0.0779, DPEAKS=72.8, Loss=0.00588]\n",
            "Validate Epoch 8: 100%|██████████| 20/20 [00:04<00:00,  4.10it/s, WMAPE=2.38, DICE=0.0821, DPEAKS=74.2, Loss=0.00733]\n"
          ]
        },
        {
          "name": "stdout",
          "output_type": "stream",
          "text": [
            "early stopping: 5 epochs without improvement\n",
            "Training complete.\n"
          ]
        },
        {
          "name": "stderr",
          "output_type": "stream",
          "text": [
            "Validate Epoch test: 100%|██████████| 486/486 [02:34<00:00,  3.14it/s, WMAPE=2.39, DICE=0.082, DPEAKS=76.8, Loss=0.00705]\n"
          ]
        },
        {
          "name": "stdout",
          "output_type": "stream",
          "text": [
            "Epoch [1/50]\n"
          ]
        },
        {
          "name": "stderr",
          "output_type": "stream",
          "text": [
            "Train Epoch 1: 100%|██████████| 77/77 [00:44<00:00,  1.72it/s, WMAPE=2.57, DICE=0.0843, DPEAKS=79.2, Loss=0.00789]\n",
            "Validate Epoch 1: 100%|██████████| 20/20 [00:06<00:00,  3.24it/s, WMAPE=3.93, DICE=0.0853, DPEAKS=87.2, Loss=0.0117]\n"
          ]
        },
        {
          "name": "stdout",
          "output_type": "stream",
          "text": [
            "Saving best model\n",
            "Epoch [2/50]\n"
          ]
        },
        {
          "name": "stderr",
          "output_type": "stream",
          "text": [
            "Train Epoch 2:  96%|█████████▌| 74/77 [00:40<00:01,  1.79it/s, loss=0.00669]"
          ]
        },
        {
          "ename": "KeyboardInterrupt",
          "evalue": "",
          "output_type": "error",
          "traceback": [
            "\u001b[0;31m---------------------------------------------------------------------------\u001b[0m",
            "\u001b[0;31mKeyboardInterrupt\u001b[0m                         Traceback (most recent call last)",
            "Cell \u001b[0;32mIn[9], line 15\u001b[0m\n\u001b[1;32m     11\u001b[0m last_checkpoint_path \u001b[38;5;241m=\u001b[39m os\u001b[38;5;241m.\u001b[39mpath\u001b[38;5;241m.\u001b[39mjoin(\n\u001b[1;32m     12\u001b[0m     \u001b[38;5;124m\"\u001b[39m\u001b[38;5;124mmodels\u001b[39m\u001b[38;5;124m\"\u001b[39m, \u001b[38;5;124mf\u001b[39m\u001b[38;5;124m\"\u001b[39m\u001b[38;5;124mlast_checkpoint_partition_\u001b[39m\u001b[38;5;132;01m{\u001b[39;00mcurrent_partition\u001b[38;5;132;01m}\u001b[39;00m\u001b[38;5;124m.pth\u001b[39m\u001b[38;5;124m\"\u001b[39m\n\u001b[1;32m     13\u001b[0m )\n\u001b[1;32m     14\u001b[0m optimizer \u001b[38;5;241m=\u001b[39m optim\u001b[38;5;241m.\u001b[39mAdamW(model\u001b[38;5;241m.\u001b[39mparameters())\n\u001b[0;32m---> 15\u001b[0m \u001b[43mtrain_model\u001b[49m\u001b[43m(\u001b[49m\n\u001b[1;32m     16\u001b[0m \u001b[43m    \u001b[49m\u001b[43mmodel\u001b[49m\u001b[43m,\u001b[49m\n\u001b[1;32m     17\u001b[0m \u001b[43m    \u001b[49m\u001b[43mtrain_loader\u001b[49m\u001b[43m,\u001b[49m\n\u001b[1;32m     18\u001b[0m \u001b[43m    \u001b[49m\u001b[43mval_loader\u001b[49m\u001b[43m,\u001b[49m\n\u001b[1;32m     19\u001b[0m \u001b[43m    \u001b[49m\u001b[43mbest_model_path\u001b[49m\u001b[43m,\u001b[49m\n\u001b[1;32m     20\u001b[0m \u001b[43m    \u001b[49m\u001b[43mlast_checkpoint_path\u001b[49m\u001b[43m,\u001b[49m\n\u001b[1;32m     21\u001b[0m \u001b[43m    \u001b[49m\u001b[43mcriterion\u001b[49m\u001b[43m,\u001b[49m\n\u001b[1;32m     22\u001b[0m \u001b[43m    \u001b[49m\u001b[43moptimizer\u001b[49m\u001b[43m,\u001b[49m\n\u001b[1;32m     23\u001b[0m \u001b[43m    \u001b[49m\u001b[43mnum_epochs\u001b[49m\u001b[38;5;241;43m=\u001b[39;49m\u001b[38;5;241;43m50\u001b[39;49m\u001b[43m,\u001b[49m\n\u001b[1;32m     24\u001b[0m \u001b[43m    \u001b[49m\u001b[43mdevice\u001b[49m\u001b[38;5;241;43m=\u001b[39;49m\u001b[43mDEVICE\u001b[49m\u001b[43m,\u001b[49m\n\u001b[1;32m     25\u001b[0m \u001b[43m    \u001b[49m\u001b[43mearly_stopping_patience\u001b[49m\u001b[38;5;241;43m=\u001b[39;49m\u001b[38;5;241;43m5\u001b[39;49m\u001b[43m,\u001b[49m\n\u001b[1;32m     26\u001b[0m \u001b[43m\u001b[49m\u001b[43m)\u001b[49m\n\u001b[1;32m     27\u001b[0m model\u001b[38;5;241m.\u001b[39mload_state_dict(torch\u001b[38;5;241m.\u001b[39mload(best_model_path,weights_only\u001b[38;5;241m=\u001b[39m\u001b[38;5;28;01mTrue\u001b[39;00m))\n\u001b[1;32m     28\u001b[0m test_model(model,criterion,device\u001b[38;5;241m=\u001b[39mDEVICE,batch_size\u001b[38;5;241m=\u001b[39mBATCH_SIZE)\n",
            "File \u001b[0;32m~/Documents/dataton/common/purrfect/training.py:122\u001b[0m, in \u001b[0;36mtrain_model\u001b[0;34m(model, train_loader, val_loader, best_model_path, last_checkpoint_path, criterion, optimizer, num_epochs, device, early_stopping_patience, use_autocast)\u001b[0m\n\u001b[1;32m    119\u001b[0m \u001b[38;5;28mprint\u001b[39m(\u001b[38;5;124mf\u001b[39m\u001b[38;5;124m\"\u001b[39m\u001b[38;5;124mEpoch [\u001b[39m\u001b[38;5;132;01m{\u001b[39;00mepoch\u001b[38;5;132;01m}\u001b[39;00m\u001b[38;5;124m/\u001b[39m\u001b[38;5;132;01m{\u001b[39;00mnum_epochs\u001b[38;5;132;01m}\u001b[39;00m\u001b[38;5;124m]\u001b[39m\u001b[38;5;124m\"\u001b[39m)\n\u001b[1;32m    121\u001b[0m \u001b[38;5;66;03m# Train the model\u001b[39;00m\n\u001b[0;32m--> 122\u001b[0m \u001b[43mtrain_validate\u001b[49m\u001b[43m(\u001b[49m\n\u001b[1;32m    123\u001b[0m \u001b[43m    \u001b[49m\u001b[43mmodel\u001b[49m\u001b[43m,\u001b[49m\u001b[43m \u001b[49m\u001b[43mtrain_loader\u001b[49m\u001b[43m,\u001b[49m\u001b[43m \u001b[49m\u001b[43mcriterion\u001b[49m\u001b[43m,\u001b[49m\u001b[43m \u001b[49m\u001b[43moptimizer\u001b[49m\u001b[43m,\u001b[49m\u001b[43m \u001b[49m\u001b[43mepoch\u001b[49m\u001b[43m,\u001b[49m\u001b[43m \u001b[49m\u001b[43mmetric_accumulator\u001b[49m\u001b[43m,\u001b[49m\u001b[43m \u001b[49m\u001b[43mdevice\u001b[49m\u001b[43m,\u001b[49m\u001b[43m \u001b[49m\u001b[43muse_autocast\u001b[49m\n\u001b[1;32m    124\u001b[0m \u001b[43m\u001b[49m\u001b[43m)\u001b[49m\n\u001b[1;32m    126\u001b[0m \u001b[38;5;66;03m# Validate the model\u001b[39;00m\n\u001b[1;32m    127\u001b[0m validate_loss \u001b[38;5;241m=\u001b[39m train_validate(\n\u001b[1;32m    128\u001b[0m     model,\n\u001b[1;32m    129\u001b[0m     val_loader,\n\u001b[0;32m   (...)\u001b[0m\n\u001b[1;32m    134\u001b[0m     use_autocast \u001b[38;5;241m=\u001b[39m use_autocast\n\u001b[1;32m    135\u001b[0m )\n",
            "File \u001b[0;32m~/Documents/dataton/common/purrfect/training.py:45\u001b[0m, in \u001b[0;36mtrain_validate\u001b[0;34m(model, loader, criterion, optimizer, epoch, metric_accumulator, device, use_autocast)\u001b[0m\n\u001b[1;32m     41\u001b[0m     loss \u001b[38;5;241m=\u001b[39m criterion(outputs, targets)\n\u001b[1;32m     43\u001b[0m \u001b[38;5;28;01mif\u001b[39;00m metric_accumulator:\n\u001b[1;32m     44\u001b[0m     metric_accumulator\u001b[38;5;241m.\u001b[39mupdate(\n\u001b[0;32m---> 45\u001b[0m         \u001b[43mtargets\u001b[49m\u001b[38;5;241;43m.\u001b[39;49m\u001b[43msqueeze\u001b[49m\u001b[43m(\u001b[49m\u001b[38;5;241;43m1\u001b[39;49m\u001b[43m)\u001b[49m\u001b[38;5;241;43m.\u001b[39;49m\u001b[43mdetach\u001b[49m\u001b[43m(\u001b[49m\u001b[43m)\u001b[49m\u001b[38;5;241;43m.\u001b[39;49m\u001b[43mcpu\u001b[49m\u001b[43m(\u001b[49m\u001b[43m)\u001b[49m, outputs\u001b[38;5;241m.\u001b[39msqueeze(\u001b[38;5;241m1\u001b[39m)\u001b[38;5;241m.\u001b[39mdetach()\u001b[38;5;241m.\u001b[39mcpu()\n\u001b[1;32m     46\u001b[0m     )\n\u001b[1;32m     48\u001b[0m \u001b[38;5;28;01mif\u001b[39;00m optimizer:\n\u001b[1;32m     49\u001b[0m     optimizer\u001b[38;5;241m.\u001b[39mzero_grad()\n",
            "\u001b[0;31mKeyboardInterrupt\u001b[0m: "
          ]
        }
      ],
      "source": [
        "\n"
      ]
    },
    {
      "cell_type": "code",
      "execution_count": 14,
      "metadata": {},
      "outputs": [
        {
          "name": "stderr",
          "output_type": "stream",
          "text": [
            "Validate Epoch test: 100%|██████████| 971/971 [03:04<00:00,  5.28it/s, WMAPE=1.82, DICE=0.0536, DPEAKS=39, Loss=0.00555]\n"
          ]
        }
      ],
      "source": [
        "#Cargar mejor modelo de la particion actual\n",
        "model.load_state_dict(torch.load(best_model_path,weights_only=True))\n",
        "optimizer = optim.Adam(model.parameters())\n",
        "#optimizer.load_state_dict(torch.load(last_checkpoint_path,weights_only=True)[\"optimizer\"])\n",
        "test_model(model,criterion,device=DEVICE,batch_size=BATCH_SIZE)\n",
        "create_next_partitions(current_partition)"
      ]
    },
    {
      "cell_type": "code",
      "execution_count": null,
      "metadata": {},
      "outputs": [],
      "source": [
        "for current_partition in range(3,9):\n",
        "    train_loader, val_loader = create_train_valid_loaders(\n",
        "        f\"partition_{current_partition}_train.json\",\n",
        "        f\"partition_{current_partition}_val.json\",\n",
        "        \"partitions\",\n",
        "        batch_size=BATCH_SIZE,\n",
        "    )\n",
        "    best_model_path = os.path.join(\n",
        "        \"models\", f\"best_model_partition_{current_partition}.pth\"\n",
        "    )\n",
        "    last_checkpoint_path = os.path.join(\n",
        "        \"models\", f\"last_checkpoint_partition_{current_partition}.pth\"\n",
        "    )\n",
        "    train_model(\n",
        "        model,\n",
        "        train_loader,\n",
        "        val_loader,\n",
        "        best_model_path,\n",
        "        last_checkpoint_path,\n",
        "        criterion,\n",
        "        optimizer,\n",
        "        num_epochs=50,\n",
        "        device=DEVICE,\n",
        "        early_stopping_patience=3,\n",
        "    )\n",
        "    model.load_state_dict(torch.load(best_model_path,weights_only=True))\n",
        "    optimizer = optim.Adam(model.parameters())\n",
        "    optimizer.load_state_dict(torch.load(last_checkpoint_path,weights_only=True)[\"optimizer\"])\n",
        "    test_model(model,criterion,device=DEVICE,batch_size=BATCH_SIZE)\n",
        "    create_next_partitions(current_partition)"
      ]
    },
    {
      "cell_type": "code",
      "execution_count": 19,
      "metadata": {},
      "outputs": [],
      "source": [
        "current_partition=3\n",
        "best_model_path = os.path.join(\n",
        "    \"models\", f\"best_model_partition_{current_partition}.pth\"\n",
        ")\n",
        "last_checkpoint_path = os.path.join(\n",
        "    \"models\", f\"last_checkpoint_partition_{current_partition}.pth\"\n",
        ")"
      ]
    },
    {
      "cell_type": "code",
      "execution_count": 20,
      "metadata": {},
      "outputs": [
        {
          "name": "stdout",
          "output_type": "stream",
          "text": [
            "Epoch [1/50]\n"
          ]
        },
        {
          "name": "stderr",
          "output_type": "stream",
          "text": [
            "Train Epoch 1: 100%|██████████| 307/307 [02:14<00:00,  2.29it/s, WMAPE=2.29, DICE=0.0699, DPEAKS=55.9, Loss=0.00713]\n",
            "Validate Epoch 1: 100%|██████████| 77/77 [00:12<00:00,  5.96it/s, WMAPE=2.03, DICE=0.0603, DPEAKS=61.1, Loss=0.00608]\n"
          ]
        },
        {
          "name": "stdout",
          "output_type": "stream",
          "text": [
            "Saving best model\n",
            "Epoch [2/50]\n"
          ]
        },
        {
          "name": "stderr",
          "output_type": "stream",
          "text": [
            "Train Epoch 2: 100%|██████████| 307/307 [02:02<00:00,  2.50it/s, WMAPE=1.94, DICE=0.0513, DPEAKS=44, Loss=0.00605]\n",
            "Validate Epoch 2: 100%|██████████| 77/77 [00:10<00:00,  7.13it/s, WMAPE=5.36, DICE=0.0579, DPEAKS=45, Loss=0.0157]\n"
          ]
        },
        {
          "name": "stdout",
          "output_type": "stream",
          "text": [
            "Epoch [3/50]\n"
          ]
        },
        {
          "name": "stderr",
          "output_type": "stream",
          "text": [
            "Train Epoch 3: 100%|██████████| 307/307 [02:03<00:00,  2.49it/s, WMAPE=1.87, DICE=0.0494, DPEAKS=44.1, Loss=0.00577]\n",
            "Validate Epoch 3: 100%|██████████| 77/77 [00:11<00:00,  6.76it/s, WMAPE=1.72, DICE=0.0499, DPEAKS=39.2, Loss=0.00549]\n"
          ]
        },
        {
          "name": "stdout",
          "output_type": "stream",
          "text": [
            "Saving best model\n",
            "Epoch [4/50]\n"
          ]
        },
        {
          "name": "stderr",
          "output_type": "stream",
          "text": [
            "Train Epoch 4: 100%|██████████| 307/307 [02:00<00:00,  2.55it/s, WMAPE=1.83, DICE=0.0476, DPEAKS=39.6, Loss=0.00563]\n",
            "Validate Epoch 4: 100%|██████████| 77/77 [00:10<00:00,  7.16it/s, WMAPE=3.16, DICE=0.05, DPEAKS=41.1, Loss=0.00857]\n"
          ]
        },
        {
          "name": "stdout",
          "output_type": "stream",
          "text": [
            "Epoch [5/50]\n"
          ]
        },
        {
          "name": "stderr",
          "output_type": "stream",
          "text": [
            "Train Epoch 5: 100%|██████████| 307/307 [01:59<00:00,  2.58it/s, WMAPE=1.9, DICE=0.0493, DPEAKS=43, Loss=0.00583]\n",
            "Validate Epoch 5: 100%|██████████| 77/77 [00:10<00:00,  7.17it/s, WMAPE=2.04, DICE=0.0634, DPEAKS=56.6, Loss=0.00611]\n"
          ]
        },
        {
          "name": "stdout",
          "output_type": "stream",
          "text": [
            "Epoch [6/50]\n"
          ]
        },
        {
          "name": "stderr",
          "output_type": "stream",
          "text": [
            "Train Epoch 6: 100%|██████████| 307/307 [02:00<00:00,  2.54it/s, WMAPE=1.79, DICE=0.0456, DPEAKS=38.7, Loss=0.00552]\n",
            "Validate Epoch 6: 100%|██████████| 77/77 [00:10<00:00,  7.17it/s, WMAPE=2.73, DICE=0.0758, DPEAKS=71.2, Loss=0.0079]\n"
          ]
        },
        {
          "name": "stdout",
          "output_type": "stream",
          "text": [
            "early stopping: 3 epochs without improvement\n",
            "Training complete.\n"
          ]
        }
      ],
      "source": [
        "train_loader, val_loader = create_train_valid_loaders(\n",
        "    f\"partition_{current_partition}_train.json\",\n",
        "    f\"partition_{current_partition}_val.json\",\n",
        "    \"partitions\",\n",
        "    batch_size=16,\n",
        ")\n",
        "optimizer = optim.Adam(model.parameters())\n",
        "train_model(\n",
        "    model,\n",
        "    train_loader,\n",
        "    val_loader,\n",
        "    best_model_path,\n",
        "    last_checkpoint_path,\n",
        "    criterion,\n",
        "    optimizer,\n",
        "    num_epochs=50,\n",
        "    device=DEVICE,\n",
        "    early_stopping_patience=3,\n",
        ")"
      ]
    },
    {
      "cell_type": "code",
      "execution_count": 21,
      "metadata": {},
      "outputs": [
        {
          "name": "stderr",
          "output_type": "stream",
          "text": [
            "Validate Epoch test: 100%|██████████| 1941/1941 [04:54<00:00,  6.59it/s, WMAPE=1.77, DICE=0.0499, DPEAKS=38.4, Loss=0.00553]\n"
          ]
        },
        {
          "ename": "TypeError",
          "evalue": "create_next_partitions() missing 2 required positional arguments: 'model' and 'criterion'",
          "output_type": "error",
          "traceback": [
            "\u001b[0;31m---------------------------------------------------------------------------\u001b[0m",
            "\u001b[0;31mTypeError\u001b[0m                                 Traceback (most recent call last)",
            "Cell \u001b[0;32mIn[21], line 4\u001b[0m\n\u001b[1;32m      2\u001b[0m model\u001b[38;5;241m.\u001b[39mload_state_dict(torch\u001b[38;5;241m.\u001b[39mload(best_model_path,weights_only\u001b[38;5;241m=\u001b[39m\u001b[38;5;28;01mTrue\u001b[39;00m))\n\u001b[1;32m      3\u001b[0m test_model(model,criterion,device\u001b[38;5;241m=\u001b[39mDEVICE,batch_size\u001b[38;5;241m=\u001b[39m\u001b[38;5;241m16\u001b[39m)\n\u001b[0;32m----> 4\u001b[0m \u001b[43mcreate_next_partitions\u001b[49m\u001b[43m(\u001b[49m\u001b[43mcurrent_partition\u001b[49m\u001b[43m)\u001b[49m\n",
            "\u001b[0;31mTypeError\u001b[0m: create_next_partitions() missing 2 required positional arguments: 'model' and 'criterion'"
          ]
        }
      ],
      "source": [
        "#Cargar mejor modelo de la particion actual\n",
        "model.load_state_dict(torch.load(best_model_path,weights_only=True))\n",
        "test_model(model,criterion,device=DEVICE,batch_size=16)"
      ]
    },
    {
      "cell_type": "code",
      "execution_count": 23,
      "metadata": {},
      "outputs": [],
      "source": [
        "create_next_partitions(current_partition)"
      ]
    },
    {
      "cell_type": "code",
      "execution_count": 24,
      "metadata": {},
      "outputs": [],
      "source": [
        "current_partition=4"
      ]
    },
    {
      "cell_type": "code",
      "execution_count": 25,
      "metadata": {},
      "outputs": [
        {
          "name": "stdout",
          "output_type": "stream",
          "text": [
            "Epoch [1/50]\n"
          ]
        },
        {
          "name": "stderr",
          "output_type": "stream",
          "text": [
            "Train Epoch 1: 100%|██████████| 307/307 [02:14<00:00,  2.28it/s, WMAPE=1.7, DICE=0.0421, DPEAKS=32.6, Loss=0.0052]\n",
            "Validate Epoch 1: 100%|██████████| 77/77 [00:12<00:00,  6.06it/s, WMAPE=1.51, DICE=0.0393, DPEAKS=27.1, Loss=0.00439]\n"
          ]
        },
        {
          "name": "stdout",
          "output_type": "stream",
          "text": [
            "Saving best model\n",
            "Epoch [2/50]\n"
          ]
        },
        {
          "name": "stderr",
          "output_type": "stream",
          "text": [
            "Train Epoch 2: 100%|██████████| 307/307 [02:04<00:00,  2.47it/s, WMAPE=1.69, DICE=0.041, DPEAKS=32.5, Loss=0.00514]\n",
            "Validate Epoch 2: 100%|██████████| 77/77 [00:11<00:00,  6.91it/s, WMAPE=1.72, DICE=0.0389, DPEAKS=28.4, Loss=0.00493]\n"
          ]
        },
        {
          "name": "stdout",
          "output_type": "stream",
          "text": [
            "Epoch [3/50]\n"
          ]
        },
        {
          "name": "stderr",
          "output_type": "stream",
          "text": [
            "Train Epoch 3: 100%|██████████| 307/307 [02:02<00:00,  2.51it/s, WMAPE=1.67, DICE=0.0407, DPEAKS=32, Loss=0.00506]\n",
            "Validate Epoch 3: 100%|██████████| 77/77 [00:10<00:00,  7.11it/s, WMAPE=1.48, DICE=0.0388, DPEAKS=28, Loss=0.0043]\n"
          ]
        },
        {
          "name": "stdout",
          "output_type": "stream",
          "text": [
            "Saving best model\n",
            "Epoch [4/50]\n"
          ]
        },
        {
          "name": "stderr",
          "output_type": "stream",
          "text": [
            "Train Epoch 4: 100%|██████████| 307/307 [02:04<00:00,  2.46it/s, WMAPE=1.63, DICE=0.0406, DPEAKS=30.3, Loss=0.00496]\n",
            "Validate Epoch 4: 100%|██████████| 77/77 [00:11<00:00,  6.81it/s, WMAPE=1.46, DICE=0.039, DPEAKS=27.4, Loss=0.00426]\n"
          ]
        },
        {
          "name": "stdout",
          "output_type": "stream",
          "text": [
            "Saving best model\n",
            "Epoch [5/50]\n"
          ]
        },
        {
          "name": "stderr",
          "output_type": "stream",
          "text": [
            "Train Epoch 5: 100%|██████████| 307/307 [02:03<00:00,  2.48it/s, WMAPE=1.64, DICE=0.0403, DPEAKS=31.1, Loss=0.00503]\n",
            "Validate Epoch 5: 100%|██████████| 77/77 [00:11<00:00,  6.88it/s, WMAPE=1.65, DICE=0.0381, DPEAKS=26.7, Loss=0.00478]\n"
          ]
        },
        {
          "name": "stdout",
          "output_type": "stream",
          "text": [
            "Epoch [6/50]\n"
          ]
        },
        {
          "name": "stderr",
          "output_type": "stream",
          "text": [
            "Train Epoch 6: 100%|██████████| 307/307 [02:02<00:00,  2.51it/s, WMAPE=1.63, DICE=0.0404, DPEAKS=31, Loss=0.00503]\n",
            "Validate Epoch 6: 100%|██████████| 77/77 [00:11<00:00,  6.90it/s, WMAPE=1.43, DICE=0.0383, DPEAKS=27.1, Loss=0.00422]\n"
          ]
        },
        {
          "name": "stdout",
          "output_type": "stream",
          "text": [
            "Saving best model\n",
            "Epoch [7/50]\n"
          ]
        },
        {
          "name": "stderr",
          "output_type": "stream",
          "text": [
            "Train Epoch 7: 100%|██████████| 307/307 [02:05<00:00,  2.44it/s, WMAPE=1.62, DICE=0.04, DPEAKS=30.8, Loss=0.00497]\n",
            "Validate Epoch 7: 100%|██████████| 77/77 [00:11<00:00,  6.61it/s, WMAPE=1.53, DICE=0.0381, DPEAKS=27.1, Loss=0.00434]\n"
          ]
        },
        {
          "name": "stdout",
          "output_type": "stream",
          "text": [
            "Epoch [8/50]\n"
          ]
        },
        {
          "name": "stderr",
          "output_type": "stream",
          "text": [
            "Train Epoch 8: 100%|██████████| 307/307 [02:03<00:00,  2.48it/s, WMAPE=1.62, DICE=0.04, DPEAKS=30.7, Loss=0.00497]\n",
            "Validate Epoch 8: 100%|██████████| 77/77 [00:10<00:00,  7.07it/s, WMAPE=1.45, DICE=0.0379, DPEAKS=27.2, Loss=0.00424]\n"
          ]
        },
        {
          "name": "stdout",
          "output_type": "stream",
          "text": [
            "Epoch [9/50]\n"
          ]
        },
        {
          "name": "stderr",
          "output_type": "stream",
          "text": [
            "Train Epoch 9: 100%|██████████| 307/307 [02:04<00:00,  2.47it/s, WMAPE=1.61, DICE=0.0399, DPEAKS=30.7, Loss=0.00495]\n",
            "Validate Epoch 9: 100%|██████████| 77/77 [00:11<00:00,  6.50it/s, WMAPE=1.41, DICE=0.038, DPEAKS=26.9, Loss=0.00424]\n"
          ]
        },
        {
          "name": "stdout",
          "output_type": "stream",
          "text": [
            "early stopping: 3 epochs without improvement\n",
            "Training complete.\n"
          ]
        }
      ],
      "source": [
        "train_loader, val_loader = create_train_valid_loaders(\n",
        "    f\"partition_{current_partition}_train.json\",\n",
        "    f\"partition_{current_partition}_val.json\",\n",
        "    \"partitions\",\n",
        "    batch_size=16,\n",
        ")\n",
        "best_model_path = os.path.join(\n",
        "    \"models\", f\"best_model_partition_{current_partition}.pth\"\n",
        ")\n",
        "last_checkpoint_path = os.path.join(\n",
        "    \"models\", f\"last_checkpoint_partition_{current_partition}.pth\"\n",
        ")\n",
        "optimizer = optim.Adam(model.parameters(), lr=0.00001)\n",
        "train_model(\n",
        "    model,\n",
        "    train_loader,\n",
        "    val_loader,\n",
        "    best_model_path,\n",
        "    last_checkpoint_path,\n",
        "    criterion,\n",
        "    optimizer,\n",
        "    num_epochs=50,\n",
        "    device=DEVICE,\n",
        "    early_stopping_patience=3,\n",
        ")"
      ]
    },
    {
      "cell_type": "code",
      "execution_count": 26,
      "metadata": {},
      "outputs": [
        {
          "name": "stderr",
          "output_type": "stream",
          "text": [
            "Validate Epoch test: 100%|██████████| 1941/1941 [04:50<00:00,  6.68it/s, WMAPE=1.41, DICE=0.0383, DPEAKS=28.1, Loss=0.00421]\n"
          ]
        }
      ],
      "source": [
        "#Cargar mejor modelo de la particion actual\n",
        "model.load_state_dict(torch.load(best_model_path,weights_only=True))\n",
        "test_model(model,criterion,device=DEVICE,batch_size=16)\n",
        "create_next_partitions(current_partition)"
      ]
    },
    {
      "cell_type": "code",
      "execution_count": 27,
      "metadata": {},
      "outputs": [],
      "source": [
        "current_partition=5"
      ]
    },
    {
      "cell_type": "code",
      "execution_count": 10,
      "metadata": {},
      "outputs": [
        {
          "name": "stdout",
          "output_type": "stream",
          "text": [
            "Epoch [1/50]\n"
          ]
        },
        {
          "name": "stderr",
          "output_type": "stream",
          "text": [
            "Train Epoch 1: 100%|██████████| 307/307 [01:41<00:00,  3.01it/s, WMAPE=2.11, DICE=0.0473, DPEAKS=47.9, Loss=0.00575]\n",
            "Validate Epoch 1: 100%|██████████| 77/77 [00:09<00:00,  7.86it/s, WMAPE=1.87, DICE=0.0453, DPEAKS=46.4, Loss=0.00513]\n"
          ]
        },
        {
          "name": "stdout",
          "output_type": "stream",
          "text": [
            "Saving best model\n",
            "Epoch [2/50]\n"
          ]
        },
        {
          "name": "stderr",
          "output_type": "stream",
          "text": [
            "Train Epoch 2: 100%|██████████| 307/307 [01:40<00:00,  3.05it/s, WMAPE=2.07, DICE=0.0471, DPEAKS=47.3, Loss=0.00562]\n",
            "Validate Epoch 2: 100%|██████████| 77/77 [00:10<00:00,  7.59it/s, WMAPE=1.97, DICE=0.0453, DPEAKS=44, Loss=0.00521]\n"
          ]
        },
        {
          "name": "stdout",
          "output_type": "stream",
          "text": [
            "Epoch [3/50]\n"
          ]
        },
        {
          "name": "stderr",
          "output_type": "stream",
          "text": [
            "Train Epoch 3: 100%|██████████| 307/307 [01:39<00:00,  3.08it/s, WMAPE=2.07, DICE=0.0471, DPEAKS=47.2, Loss=0.00578]\n",
            "Validate Epoch 3: 100%|██████████| 77/77 [00:09<00:00,  8.01it/s, WMAPE=2.45, DICE=0.0461, DPEAKS=44, Loss=0.00671]\n"
          ]
        },
        {
          "name": "stdout",
          "output_type": "stream",
          "text": [
            "Epoch [4/50]\n"
          ]
        },
        {
          "name": "stderr",
          "output_type": "stream",
          "text": [
            "Train Epoch 4: 100%|██████████| 307/307 [01:39<00:00,  3.09it/s, WMAPE=2.09, DICE=0.047, DPEAKS=46.6, Loss=0.00569]\n",
            "Validate Epoch 4: 100%|██████████| 77/77 [00:09<00:00,  7.87it/s, WMAPE=1.92, DICE=0.0455, DPEAKS=45.8, Loss=0.00514]\n"
          ]
        },
        {
          "name": "stdout",
          "output_type": "stream",
          "text": [
            "early stopping: 3 epochs without improvement\n",
            "Training complete.\n"
          ]
        }
      ],
      "source": [
        "train_loader, val_loader = create_train_valid_loaders(\n",
        "    f\"partition_{current_partition}_train.json\",\n",
        "    f\"partition_{current_partition}_val.json\",\n",
        "    \"partitions\",\n",
        "    batch_size=16,\n",
        ")\n",
        "best_model_path = os.path.join(\n",
        "    \"models\", f\"best_model_partition_{current_partition}.pth\"\n",
        ")\n",
        "last_checkpoint_path = os.path.join(\n",
        "    \"models\", f\"last_checkpoint_partition_{current_partition}.pth\"\n",
        ")\n",
        "optimizer = optim.Adam(model.parameters(), lr=0.00001)\n",
        "train_model(\n",
        "    model,\n",
        "    train_loader,\n",
        "    val_loader,\n",
        "    best_model_path,\n",
        "    last_checkpoint_path,\n",
        "    criterion,\n",
        "    optimizer,\n",
        "    num_epochs=50,\n",
        "    device=DEVICE,\n",
        "    early_stopping_patience=3,\n",
        ")"
      ]
    },
    {
      "cell_type": "code",
      "execution_count": 11,
      "metadata": {},
      "outputs": [
        {
          "name": "stderr",
          "output_type": "stream",
          "text": [
            "Validate Epoch test: 100%|██████████| 1941/1941 [04:08<00:00,  7.82it/s, WMAPE=1.51, DICE=0.0433, DPEAKS=33, Loss=0.0046]\n",
            "Validate Epoch partition_6_train: 100%|██████████| 307/307 [00:42<00:00,  7.16it/s, WMAPE=1.53, DICE=0.0433, DPEAKS=33, Loss=0.00465]\n",
            "Validate Epoch partition_6_val: 100%|██████████| 77/77 [00:10<00:00,  7.21it/s, WMAPE=1.65, DICE=0.0436, DPEAKS=36.1, Loss=0.00477]\n"
          ]
        }
      ],
      "source": [
        "#Cargar mejor modelo de la particion actual\n",
        "model.load_state_dict(torch.load(best_model_path,weights_only=True))\n",
        "test_model(model,criterion,device=DEVICE,batch_size=16)\n",
        "create_next_partitions(current_partition,model,criterion,device=DEVICE)"
      ]
    },
    {
      "cell_type": "code",
      "execution_count": 12,
      "metadata": {},
      "outputs": [],
      "source": [
        "current_partition=6"
      ]
    },
    {
      "cell_type": "code",
      "execution_count": 13,
      "metadata": {},
      "outputs": [
        {
          "name": "stdout",
          "output_type": "stream",
          "text": [
            "Epoch [1/50]\n"
          ]
        },
        {
          "name": "stderr",
          "output_type": "stream",
          "text": [
            "Train Epoch 1: 100%|██████████| 307/307 [01:39<00:00,  3.08it/s, WMAPE=2.12, DICE=0.048, DPEAKS=50.3, Loss=0.00585]\n",
            "Validate Epoch 1: 100%|██████████| 77/77 [00:09<00:00,  8.14it/s, WMAPE=2.05, DICE=0.046, DPEAKS=52.4, Loss=0.00538]\n"
          ]
        },
        {
          "name": "stdout",
          "output_type": "stream",
          "text": [
            "Saving best model\n",
            "Epoch [2/50]\n"
          ]
        },
        {
          "name": "stderr",
          "output_type": "stream",
          "text": [
            "Train Epoch 2: 100%|██████████| 307/307 [01:38<00:00,  3.12it/s, WMAPE=2.13, DICE=0.0478, DPEAKS=49.1, Loss=0.00582]\n",
            "Validate Epoch 2: 100%|██████████| 77/77 [00:09<00:00,  8.04it/s, WMAPE=2.06, DICE=0.0462, DPEAKS=52.8, Loss=0.00534]\n"
          ]
        },
        {
          "name": "stdout",
          "output_type": "stream",
          "text": [
            "Saving best model\n",
            "Epoch [3/50]\n"
          ]
        },
        {
          "name": "stderr",
          "output_type": "stream",
          "text": [
            "Train Epoch 3: 100%|██████████| 307/307 [01:38<00:00,  3.12it/s, WMAPE=2.12, DICE=0.0478, DPEAKS=49.1, Loss=0.00574]\n",
            "Validate Epoch 3: 100%|██████████| 77/77 [00:09<00:00,  8.10it/s, WMAPE=2.07, DICE=0.0464, DPEAKS=52.6, Loss=0.00533]\n"
          ]
        },
        {
          "name": "stdout",
          "output_type": "stream",
          "text": [
            "Saving best model\n",
            "Epoch [4/50]\n"
          ]
        },
        {
          "name": "stderr",
          "output_type": "stream",
          "text": [
            "Train Epoch 4: 100%|██████████| 307/307 [01:38<00:00,  3.11it/s, WMAPE=2.15, DICE=0.0478, DPEAKS=49.6, Loss=0.00582]\n",
            "Validate Epoch 4: 100%|██████████| 77/77 [00:09<00:00,  8.02it/s, WMAPE=2.12, DICE=0.0466, DPEAKS=52.3, Loss=0.00537]\n"
          ]
        },
        {
          "name": "stdout",
          "output_type": "stream",
          "text": [
            "Epoch [5/50]\n"
          ]
        },
        {
          "name": "stderr",
          "output_type": "stream",
          "text": [
            "Train Epoch 5: 100%|██████████| 307/307 [01:38<00:00,  3.11it/s, WMAPE=2.08, DICE=0.0475, DPEAKS=49.3, Loss=0.00571]\n",
            "Validate Epoch 5: 100%|██████████| 77/77 [00:09<00:00,  8.07it/s, WMAPE=2.06, DICE=0.046, DPEAKS=52, Loss=0.00531]\n"
          ]
        },
        {
          "name": "stdout",
          "output_type": "stream",
          "text": [
            "Saving best model\n",
            "Epoch [6/50]\n"
          ]
        },
        {
          "name": "stderr",
          "output_type": "stream",
          "text": [
            "Train Epoch 6: 100%|██████████| 307/307 [01:38<00:00,  3.11it/s, WMAPE=2.12, DICE=0.0473, DPEAKS=49.6, Loss=0.00581]\n",
            "Validate Epoch 6: 100%|██████████| 77/77 [00:09<00:00,  8.08it/s, WMAPE=2.02, DICE=0.046, DPEAKS=51.6, Loss=0.00532]\n"
          ]
        },
        {
          "name": "stdout",
          "output_type": "stream",
          "text": [
            "Epoch [7/50]\n"
          ]
        },
        {
          "name": "stderr",
          "output_type": "stream",
          "text": [
            "Train Epoch 7: 100%|██████████| 307/307 [01:38<00:00,  3.11it/s, WMAPE=2.07, DICE=0.0475, DPEAKS=49.1, Loss=0.00568]\n",
            "Validate Epoch 7: 100%|██████████| 77/77 [00:09<00:00,  8.05it/s, WMAPE=2.03, DICE=0.0454, DPEAKS=51.4, Loss=0.00528]\n"
          ]
        },
        {
          "name": "stdout",
          "output_type": "stream",
          "text": [
            "Saving best model\n",
            "Epoch [8/50]\n"
          ]
        },
        {
          "name": "stderr",
          "output_type": "stream",
          "text": [
            "Train Epoch 8: 100%|██████████| 307/307 [01:38<00:00,  3.11it/s, WMAPE=2.07, DICE=0.0473, DPEAKS=49.8, Loss=0.00567]\n",
            "Validate Epoch 8: 100%|██████████| 77/77 [00:09<00:00,  8.07it/s, WMAPE=2.01, DICE=0.0452, DPEAKS=49.2, Loss=0.00527]\n"
          ]
        },
        {
          "name": "stdout",
          "output_type": "stream",
          "text": [
            "Saving best model\n",
            "Epoch [9/50]\n"
          ]
        },
        {
          "name": "stderr",
          "output_type": "stream",
          "text": [
            "Train Epoch 9: 100%|██████████| 307/307 [01:38<00:00,  3.11it/s, WMAPE=2.13, DICE=0.0473, DPEAKS=48.4, Loss=0.00579]\n",
            "Validate Epoch 9: 100%|██████████| 77/77 [00:09<00:00,  8.06it/s, WMAPE=2.05, DICE=0.0462, DPEAKS=50.6, Loss=0.00529]\n"
          ]
        },
        {
          "name": "stdout",
          "output_type": "stream",
          "text": [
            "Epoch [10/50]\n"
          ]
        },
        {
          "name": "stderr",
          "output_type": "stream",
          "text": [
            "Train Epoch 10: 100%|██████████| 307/307 [01:37<00:00,  3.14it/s, WMAPE=2.11, DICE=0.047, DPEAKS=48.1, Loss=0.00573]\n",
            "Validate Epoch 10: 100%|██████████| 77/77 [00:09<00:00,  8.08it/s, WMAPE=2.08, DICE=0.0455, DPEAKS=52.3, Loss=0.00549]\n"
          ]
        },
        {
          "name": "stdout",
          "output_type": "stream",
          "text": [
            "Epoch [11/50]\n"
          ]
        },
        {
          "name": "stderr",
          "output_type": "stream",
          "text": [
            "Train Epoch 11: 100%|██████████| 307/307 [01:37<00:00,  3.14it/s, WMAPE=2.1, DICE=0.047, DPEAKS=48.6, Loss=0.00571]\n",
            "Validate Epoch 11: 100%|██████████| 77/77 [00:09<00:00,  8.14it/s, WMAPE=1.99, DICE=0.045, DPEAKS=49.5, Loss=0.00524]\n"
          ]
        },
        {
          "name": "stdout",
          "output_type": "stream",
          "text": [
            "Saving best model\n",
            "Epoch [12/50]\n"
          ]
        },
        {
          "name": "stderr",
          "output_type": "stream",
          "text": [
            "Train Epoch 12: 100%|██████████| 307/307 [01:37<00:00,  3.14it/s, WMAPE=2.08, DICE=0.047, DPEAKS=48.2, Loss=0.00565]\n",
            "Validate Epoch 12: 100%|██████████| 77/77 [00:09<00:00,  8.12it/s, WMAPE=2.03, DICE=0.0455, DPEAKS=50.6, Loss=0.00523]\n"
          ]
        },
        {
          "name": "stdout",
          "output_type": "stream",
          "text": [
            "Saving best model\n",
            "Epoch [13/50]\n"
          ]
        },
        {
          "name": "stderr",
          "output_type": "stream",
          "text": [
            "Train Epoch 13: 100%|██████████| 307/307 [01:37<00:00,  3.14it/s, WMAPE=2.1, DICE=0.0469, DPEAKS=48.8, Loss=0.00565]\n",
            "Validate Epoch 13: 100%|██████████| 77/77 [00:09<00:00,  8.15it/s, WMAPE=2.02, DICE=0.0451, DPEAKS=49.2, Loss=0.00525]\n"
          ]
        },
        {
          "name": "stdout",
          "output_type": "stream",
          "text": [
            "Epoch [14/50]\n"
          ]
        },
        {
          "name": "stderr",
          "output_type": "stream",
          "text": [
            "Train Epoch 14: 100%|██████████| 307/307 [01:37<00:00,  3.14it/s, WMAPE=2.1, DICE=0.0467, DPEAKS=48.1, Loss=0.00572]\n",
            "Validate Epoch 14: 100%|██████████| 77/77 [00:09<00:00,  8.05it/s, WMAPE=2.14, DICE=0.0452, DPEAKS=49.8, Loss=0.00559]\n"
          ]
        },
        {
          "name": "stdout",
          "output_type": "stream",
          "text": [
            "Epoch [15/50]\n"
          ]
        },
        {
          "name": "stderr",
          "output_type": "stream",
          "text": [
            "Train Epoch 15: 100%|██████████| 307/307 [01:37<00:00,  3.14it/s, WMAPE=2.08, DICE=0.0467, DPEAKS=47.7, Loss=0.00566]\n",
            "Validate Epoch 15: 100%|██████████| 77/77 [00:09<00:00,  8.12it/s, WMAPE=2.04, DICE=0.046, DPEAKS=50.1, Loss=0.00524]\n"
          ]
        },
        {
          "name": "stdout",
          "output_type": "stream",
          "text": [
            "early stopping: 3 epochs without improvement\n",
            "Training complete.\n"
          ]
        }
      ],
      "source": [
        "train_loader, val_loader = create_train_valid_loaders(\n",
        "    f\"partition_{current_partition}_train.json\",\n",
        "    f\"partition_{current_partition}_val.json\",\n",
        "    \"partitions\",\n",
        "    batch_size=16,\n",
        ")\n",
        "best_model_path = os.path.join(\n",
        "    \"models\", f\"best_model_partition_{current_partition}.pth\"\n",
        ")\n",
        "last_checkpoint_path = os.path.join(\n",
        "    \"models\", f\"last_checkpoint_partition_{current_partition}.pth\"\n",
        ")\n",
        "optimizer = optim.Adam(model.parameters(), lr=0.00001)\n",
        "train_model(\n",
        "    model,\n",
        "    train_loader,\n",
        "    val_loader,\n",
        "    best_model_path,\n",
        "    last_checkpoint_path,\n",
        "    criterion,\n",
        "    optimizer,\n",
        "    num_epochs=50,\n",
        "    device=DEVICE,\n",
        "    early_stopping_patience=3,\n",
        ")"
      ]
    },
    {
      "cell_type": "code",
      "execution_count": 14,
      "metadata": {},
      "outputs": [
        {
          "name": "stderr",
          "output_type": "stream",
          "text": [
            "Validate Epoch test: 100%|██████████| 1941/1941 [04:00<00:00,  8.07it/s, WMAPE=1.51, DICE=0.043, DPEAKS=33.6, Loss=0.00451]\n",
            "Validate Epoch partition_7_train: 100%|██████████| 307/307 [00:42<00:00,  7.19it/s, WMAPE=1.52, DICE=0.0431, DPEAKS=34.7, Loss=0.00451]\n",
            "Validate Epoch partition_7_val: 100%|██████████| 77/77 [00:10<00:00,  7.23it/s, WMAPE=1.54, DICE=0.043, DPEAKS=33.5, Loss=0.00457]\n"
          ]
        }
      ],
      "source": [
        "#Cargar mejor modelo de la particion actual\n",
        "model.load_state_dict(torch.load(best_model_path,weights_only=True))\n",
        "test_model(model,criterion,device=DEVICE,batch_size=16)\n",
        "create_next_partitions(current_partition,model,criterion,device=DEVICE)"
      ]
    },
    {
      "cell_type": "code",
      "execution_count": null,
      "metadata": {},
      "outputs": [],
      "source": []
    }
  ],
  "metadata": {
    "accelerator": "GPU",
    "colab": {
      "gpuType": "T4",
      "provenance": []
    },
    "kernelspec": {
      "display_name": "Python 3",
      "name": "python3"
    },
    "language_info": {
      "codemirror_mode": {
        "name": "ipython",
        "version": 3
      },
      "file_extension": ".py",
      "mimetype": "text/x-python",
      "name": "python",
      "nbconvert_exporter": "python",
      "pygments_lexer": "ipython3",
      "version": "3.12.5"
    }
  },
  "nbformat": 4,
  "nbformat_minor": 0
}
