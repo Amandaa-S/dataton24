{
  "cells": [
    {
      "cell_type": "markdown",
      "metadata": {},
      "source": [
        "## Carga modulo comun"
      ]
    },
    {
      "cell_type": "code",
      "execution_count": 1,
      "metadata": {},
      "outputs": [],
      "source": [
        "import sys\n",
        "import os\n",
        "sys.path.append(os.path.abspath('../../common'))"
      ]
    },
    {
      "cell_type": "code",
      "execution_count": 2,
      "metadata": {},
      "outputs": [],
      "source": [
        "import torch\n",
        "import torch.nn as nn\n",
        "import torch.nn.functional as F\n",
        "\n",
        "from purrfect.dataset import load_partition,save_partition, create_train_valid_loaders, RandomTransform\n",
        "\n",
        "from purrfect.training import train_model\n",
        "import torch.optim as optim\n",
        "\n",
        "from purrfect.active_learning import create_new_partition, test_model\n",
        "\n",
        "from sklearn.model_selection import train_test_split\n",
        "#from purrfect.submission import create_submission"
      ]
    },
    {
      "cell_type": "code",
      "execution_count": 3,
      "metadata": {},
      "outputs": [],
      "source": [
        "DEVICE = torch.device('cuda' if torch.cuda.is_available() else 'cpu')\n",
        "BATCH_SIZE = 32*2\n",
        "USE_AUTOCAST = True"
      ]
    },
    {
      "cell_type": "markdown",
      "metadata": {},
      "source": [
        "## Definición modelo"
      ]
    },
    {
      "cell_type": "code",
      "execution_count": 4,
      "metadata": {},
      "outputs": [],
      "source": [
        "class GradientMagnitude(nn.Module):\n",
        "    def __init__(self):\n",
        "        super(GradientMagnitude, self).__init__()\n",
        "        # Define Sobel filters for computing gradients in x and y directions\n",
        "        sobel_x = torch.tensor([[-1, 0, 1], [-2, 0, 2], [-1, 0, 1]], dtype=torch.float32,device=DEVICE)\n",
        "        sobel_y = torch.tensor([[-1, -2, -1], [0, 0, 0], [1, 2, 1]], dtype=torch.float32,device=DEVICE)\n",
        "        \n",
        "        # Sobel filters need to be reshaped for convolution: (out_channels, in_channels, height, width)\n",
        "        # Apply the filters across all channels by expanding them to shape (C, 1, 3, 3)\n",
        "        self.sobel_x = sobel_x.view(1, 1, 3, 3)\n",
        "        self.sobel_y = sobel_y.view(1, 1, 3, 3)\n",
        "    \n",
        "    def forward(self, x):\n",
        "        B, C, W, H = x.shape\n",
        "        \n",
        "        # Apply Sobel filters to compute gradients in x and y directions for all channels\n",
        "        grad_x = F.conv2d(x, self.sobel_x.expand(C, 1, 3, 3), groups=C, padding=1)\n",
        "        grad_y = F.conv2d(x, self.sobel_y.expand(C, 1, 3, 3), groups=C, padding=1)\n",
        "        \n",
        "        # Compute gradient magnitude: sqrt(grad_x^2 + grad_y^2)\n",
        "        grad_mag = torch.sqrt(grad_x**2 + grad_y**2)\n",
        "        \n",
        "        return grad_mag\n",
        "class ChannelAdder(nn.Module):\n",
        "    def __init__(self):\n",
        "        super(ChannelAdder, self).__init__()\n",
        "        self.grad_magnitude = GradientMagnitude()\n",
        "\n",
        "    def forward(self, x):\n",
        "        \n",
        "        # Extract the first, second, and third channels\n",
        "        e1 = x[:, 0, :, :].unsqueeze(1)  # e1 (first channel)\n",
        "        e2 = x[:, 1, :, :].unsqueeze(1)  # e2 (second channel)\n",
        "        delta = x[:, 2, :, :].unsqueeze(1)  # error (third channel)\n",
        "\n",
        "        # 1. Compute the first new channel: sqrt(first_channel^2 + second_channel^2)\n",
        "        magnitude = torch.sqrt(e1**2 + e2**2)\n",
        "\n",
        "        # 2. Compute the second new channel: 1/2 * arctan(channel2 / channel1)\n",
        "        angle = 0.5 * torch.atan(e1 / e2 )\n",
        "\n",
        "        e1_weighted = e1 / magnitude\n",
        "        e2_weighted = e2 / magnitude\n",
        "\n",
        "        cross_product = e1 * e2\n",
        "\n",
        "\n",
        "        \n",
        "\n",
        "\n",
        "        # 3. Compute Sobel gradients and Laplacians for e1 (first_channel)\n",
        "        \"\"\" grad_e1_x = F.conv2d(first_channel, self.sobel_x, padding=1)\n",
        "        grad_e1_y = F.conv2d(first_channel, self.sobel_y, padding=1)\n",
        "        grad_e1_magnitude = torch.sqrt(grad_e1_x**2 + grad_e1_y**2)\n",
        "\n",
        "        # 4. Compute Sobel gradients and Laplacians for e2 (second_channel)\n",
        "        grad_e2_x = F.conv2d(second_channel, self.sobel_x, padding=1)\n",
        "        grad_e2_y = F.conv2d(second_channel, self.sobel_y, padding=1)\n",
        "        grad_e2_magnitude = torch.sqrt(grad_e2_x**2 + grad_e2_y**2) \"\"\"\n",
        "\n",
        "        # 5. Compute weighted ellipticity channels (e1_weighted, e2_weighted)\n",
        "        #e1_weighted = first_channel / (third_channel + epsilon)\n",
        "        #e2_weighted = second_channel / (third_channel + epsilon)\n",
        "\n",
        "        # Concatenate all the channels (original and new) into the output tensor\n",
        "        output = torch.cat([\n",
        "            e1,\n",
        "            e2,\n",
        "            delta,\n",
        "            magnitude,\n",
        "            angle,\n",
        "            e1_weighted,\n",
        "            e2_weighted,\n",
        "            cross_product\n",
        "        ], dim=1)\n",
        "        output = torch.cat([output, self.grad_magnitude(output)], dim=1)\n",
        "\n",
        "        return output"
      ]
    },
    {
      "cell_type": "code",
      "execution_count": 5,
      "metadata": {},
      "outputs": [],
      "source": [
        "BN_MOMENTUM = 0.1\n",
        "def kaiming_init(module,\n",
        "                 a=0,\n",
        "                 mode='fan_out',\n",
        "                 nonlinearity='relu',\n",
        "                 bias=0,\n",
        "                 distribution='normal'):\n",
        "    assert distribution in ['uniform', 'normal']\n",
        "    if distribution == 'uniform':\n",
        "        nn.init.kaiming_uniform_(\n",
        "            module.weight, a=a, mode=mode, nonlinearity=nonlinearity)\n",
        "    else:\n",
        "        nn.init.kaiming_normal_(\n",
        "            module.weight, a=a, mode=mode, nonlinearity=nonlinearity)\n",
        "    if hasattr(module, 'bias') and module.bias is not None:\n",
        "        nn.init.constant_(module.bias, bias)\n",
        "class PA(nn.Module):\n",
        "    def __init__(self, inplanes, planes, kernel_size=1, stride=1):\n",
        "        super(PSA_s, self).__init__()\n",
        "\n",
        "        self.inplanes = inplanes\n",
        "        self.inter_planes = planes // 2\n",
        "        self.planes = planes\n",
        "        self.kernel_size = kernel_size\n",
        "        self.stride = stride\n",
        "        self.padding = (kernel_size - 1) // 2\n",
        "        ratio = 4\n",
        "\n",
        "        self.conv_q_right = nn.Conv2d(self.inplanes, 1, kernel_size=1, stride=stride, padding=0, bias=False)\n",
        "        self.conv_v_right = nn.Conv2d(self.inplanes, self.inter_planes, kernel_size=1, stride=stride, padding=0,\n",
        "                                      bias=False)\n",
        "        # self.conv_up = nn.Conv2d(self.inter_planes, self.planes, kernel_size=1, stride=1, padding=0, bias=False)\n",
        "        self.conv_up = nn.Sequential(\n",
        "            nn.Conv2d(self.inter_planes, self.inter_planes // ratio, kernel_size=1),\n",
        "            nn.LayerNorm([self.inter_planes // ratio, 1, 1]),\n",
        "            nn.ReLU(inplace=True),\n",
        "            nn.Conv2d(self.inter_planes // ratio, self.planes, kernel_size=1)\n",
        "        )\n",
        "        self.softmax_right = nn.Softmax(dim=2)\n",
        "        self.sigmoid = nn.Sigmoid()\n",
        "\n",
        "        self.conv_q_left = nn.Conv2d(self.inplanes, self.inter_planes, kernel_size=1, stride=stride, padding=0,\n",
        "                                     bias=False)  # g\n",
        "        self.avg_pool = nn.AdaptiveAvgPool2d(1)\n",
        "        self.conv_v_left = nn.Conv2d(self.inplanes, self.inter_planes, kernel_size=1, stride=stride, padding=0,\n",
        "                                     bias=False)  # theta\n",
        "        self.softmax_left = nn.Softmax(dim=2)\n",
        "\n",
        "        self.reset_parameters()\n",
        "    def reset_parameters(self):\n",
        "        kaiming_init(self.conv_q_right, mode='fan_in')\n",
        "        kaiming_init(self.conv_v_right, mode='fan_in')\n",
        "        kaiming_init(self.conv_q_left, mode='fan_in')\n",
        "        kaiming_init(self.conv_v_left, mode='fan_in')\n",
        "\n",
        "        self.conv_q_right.inited = True\n",
        "        self.conv_v_right.inited = True\n",
        "        self.conv_q_left.inited = True\n",
        "        self.conv_v_left.inited = True\n",
        "\n",
        "    def spatial_pool_mask(self, x):\n",
        "        input_x = self.conv_v_right(x)\n",
        "\n",
        "        batch, channel, height, width = input_x.size()\n",
        "\n",
        "        # [N, IC, H*W]\n",
        "        input_x = input_x.view(batch, channel, height * width)\n",
        "\n",
        "        # [N, 1, H, W]\n",
        "        context_mask = self.conv_q_right(x)\n",
        "\n",
        "        # [N, 1, H*W]\n",
        "        context_mask = context_mask.view(batch, 1, height * width)\n",
        "\n",
        "        # [N, 1, H*W]\n",
        "        context_mask = self.softmax_right(context_mask)\n",
        "\n",
        "        # [N, IC, 1]\n",
        "        # context = torch.einsum('ndw,new->nde', input_x, context_mask)\n",
        "        context = torch.matmul(input_x, context_mask.transpose(1, 2))\n",
        "\n",
        "        # [N, IC, 1, 1]\n",
        "        context = context.unsqueeze(-1)\n",
        "\n",
        "        # [N, OC, 1, 1]\n",
        "        context = self.conv_up(context)\n",
        "\n",
        "        # [N, OC, 1, 1]\n",
        "        mask_ch = self.sigmoid(context)\n",
        "        return mask_ch\n",
        "\n",
        "    def channel_pool_mask(self, x):\n",
        "        # [N, IC, H, W]\n",
        "        g_x = self.conv_q_left(x)\n",
        "\n",
        "        batch, channel, height, width = g_x.size()\n",
        "\n",
        "        # [N, IC, 1, 1]\n",
        "        avg_x = self.avg_pool(g_x)\n",
        "\n",
        "        batch, channel, avg_x_h, avg_x_w = avg_x.size()\n",
        "\n",
        "        # [N, 1, IC]\n",
        "        avg_x = avg_x.view(batch, channel, avg_x_h * avg_x_w).permute(0, 2, 1)\n",
        "\n",
        "        # [N, IC, H*W]\n",
        "        theta_x = self.conv_v_left(x).view(batch, self.inter_planes, height * width)\n",
        "\n",
        "        # [N, IC, H*W]\n",
        "        theta_x = self.softmax_left(theta_x)\n",
        "\n",
        "        # [N, 1, H*W]\n",
        "        # context = torch.einsum('nde,new->ndw', avg_x, theta_x)\n",
        "        context = torch.matmul(avg_x, theta_x)\n",
        "\n",
        "        # [N, 1, H, W]\n",
        "        context = context.view(batch, 1, height, width)\n",
        "\n",
        "        # [N, 1, H, W]\n",
        "        mask_sp = self.sigmoid(context)\n",
        "        return mask_sp\n",
        "    def forward(self, x, y):\n",
        "        sp_mask = self.spatial_pool_mask(y)\n",
        "        ch_mask = self.channel_pool_mask(y)\n",
        "        return x * sp_mask * ch_mask\n",
        "    \n",
        "\n",
        "class PSA_s(nn.Module):\n",
        "    def __init__(self, inplanes, planes, kernel_size=1, stride=1):\n",
        "        super(PSA_s, self).__init__()\n",
        "\n",
        "        self.inplanes = inplanes\n",
        "        self.inter_planes = planes // 2\n",
        "        self.planes = planes\n",
        "        self.kernel_size = kernel_size\n",
        "        self.stride = stride\n",
        "        self.padding = (kernel_size - 1) // 2\n",
        "        ratio = 4\n",
        "\n",
        "        self.conv_q_right = nn.Conv2d(self.inplanes, 1, kernel_size=1, stride=stride, padding=0, bias=False)\n",
        "        self.conv_v_right = nn.Conv2d(self.inplanes, self.inter_planes, kernel_size=1, stride=stride, padding=0,\n",
        "                                      bias=False)\n",
        "        # self.conv_up = nn.Conv2d(self.inter_planes, self.planes, kernel_size=1, stride=1, padding=0, bias=False)\n",
        "        self.conv_up = nn.Sequential(\n",
        "            nn.Conv2d(self.inter_planes, self.inter_planes // ratio, kernel_size=1),\n",
        "            nn.LayerNorm([self.inter_planes // ratio, 1, 1]),\n",
        "            nn.ReLU(inplace=True),\n",
        "            nn.Conv2d(self.inter_planes // ratio, self.planes, kernel_size=1)\n",
        "        )\n",
        "        self.softmax_right = nn.Softmax(dim=2)\n",
        "        self.sigmoid = nn.Sigmoid()\n",
        "\n",
        "        self.conv_q_left = nn.Conv2d(self.inplanes, self.inter_planes, kernel_size=1, stride=stride, padding=0,\n",
        "                                     bias=False)  # g\n",
        "        self.avg_pool = nn.AdaptiveAvgPool2d(1)\n",
        "        self.conv_v_left = nn.Conv2d(self.inplanes, self.inter_planes, kernel_size=1, stride=stride, padding=0,\n",
        "                                     bias=False)  # theta\n",
        "        self.softmax_left = nn.Softmax(dim=2)\n",
        "\n",
        "        self.reset_parameters()\n",
        "\n",
        "    def reset_parameters(self):\n",
        "        kaiming_init(self.conv_q_right, mode='fan_in')\n",
        "        kaiming_init(self.conv_v_right, mode='fan_in')\n",
        "        kaiming_init(self.conv_q_left, mode='fan_in')\n",
        "        kaiming_init(self.conv_v_left, mode='fan_in')\n",
        "\n",
        "        self.conv_q_right.inited = True\n",
        "        self.conv_v_right.inited = True\n",
        "        self.conv_q_left.inited = True\n",
        "        self.conv_v_left.inited = True\n",
        "\n",
        "    def spatial_pool(self, x):\n",
        "        input_x = self.conv_v_right(x)\n",
        "\n",
        "        batch, channel, height, width = input_x.size()\n",
        "\n",
        "        # [N, IC, H*W]\n",
        "        input_x = input_x.view(batch, channel, height * width)\n",
        "\n",
        "        # [N, 1, H, W]\n",
        "        context_mask = self.conv_q_right(x)\n",
        "\n",
        "        # [N, 1, H*W]\n",
        "        context_mask = context_mask.view(batch, 1, height * width)\n",
        "\n",
        "        # [N, 1, H*W]\n",
        "        context_mask = self.softmax_right(context_mask)\n",
        "\n",
        "        # [N, IC, 1]\n",
        "        # context = torch.einsum('ndw,new->nde', input_x, context_mask)\n",
        "        context = torch.matmul(input_x, context_mask.transpose(1, 2))\n",
        "\n",
        "        # [N, IC, 1, 1]\n",
        "        context = context.unsqueeze(-1)\n",
        "\n",
        "        # [N, OC, 1, 1]\n",
        "        context = self.conv_up(context)\n",
        "\n",
        "        # [N, OC, 1, 1]\n",
        "        mask_ch = self.sigmoid(context)\n",
        "\n",
        "        out = x * mask_ch\n",
        "\n",
        "        return out\n",
        "\n",
        "    def channel_pool(self, x):\n",
        "        # [N, IC, H, W]\n",
        "        g_x = self.conv_q_left(x)\n",
        "\n",
        "        batch, channel, height, width = g_x.size()\n",
        "\n",
        "        # [N, IC, 1, 1]\n",
        "        avg_x = self.avg_pool(g_x)\n",
        "\n",
        "        batch, channel, avg_x_h, avg_x_w = avg_x.size()\n",
        "\n",
        "        # [N, 1, IC]\n",
        "        avg_x = avg_x.view(batch, channel, avg_x_h * avg_x_w).permute(0, 2, 1)\n",
        "\n",
        "        # [N, IC, H*W]\n",
        "        theta_x = self.conv_v_left(x).view(batch, self.inter_planes, height * width)\n",
        "\n",
        "        # [N, IC, H*W]\n",
        "        theta_x = self.softmax_left(theta_x)\n",
        "\n",
        "        # [N, 1, H*W]\n",
        "        # context = torch.einsum('nde,new->ndw', avg_x, theta_x)\n",
        "        context = torch.matmul(avg_x, theta_x)\n",
        "\n",
        "        # [N, 1, H, W]\n",
        "        context = context.view(batch, 1, height, width)\n",
        "\n",
        "        # [N, 1, H, W]\n",
        "        mask_sp = self.sigmoid(context)\n",
        "\n",
        "        out = x * mask_sp\n",
        "\n",
        "        return out\n",
        "\n",
        "    def forward(self, x):\n",
        "        # [N, C, H, W]\n",
        "        out = self.spatial_pool(x)\n",
        "\n",
        "        # [N, C, H, W]\n",
        "        out = self.channel_pool(out)\n",
        "\n",
        "        # [N, C, H, W]\n",
        "        # out = context_spatial + context_channel\n",
        "\n",
        "        return out\n",
        "\n",
        "class ConBnRelu(nn.Module):\n",
        "    def __init__(self, in_channels, out_channels, kernel_size, stride=1, padding=0, dilation=1,bias=False):\n",
        "        super(ConBnRelu, self).__init__()\n",
        "        self.conv = nn.Conv2d(in_channels, out_channels, kernel_size=kernel_size, stride=stride, padding=padding,\n",
        "                              dilation=dilation, bias=bias)\n",
        "        self.bn = nn.BatchNorm2d(out_channels, momentum=BN_MOMENTUM)\n",
        "        self.relu = nn.ReLU(inplace=True)\n",
        "    def forward(self, x):\n",
        "        out = self.conv(x)\n",
        "        out = self.bn(out)\n",
        "        out = self.relu(out)\n",
        "        return out\n",
        "class DoubleConv(nn.Module):\n",
        "    expansion = 1\n",
        "\n",
        "    def __init__(self, in_channels, out_channels, use_attention=True):\n",
        "        super(DoubleConv, self).__init__()\n",
        "        if use_attention:\n",
        "            self.seq = nn.Sequential(\n",
        "                ConBnRelu(in_channels, out_channels, kernel_size=3, stride=1, padding=1, bias=False),\n",
        "                PSA_s(out_channels, out_channels),\n",
        "                ConBnRelu(out_channels, out_channels, kernel_size=3, stride=1, padding=1, bias=False)\n",
        "            )\n",
        "        else:\n",
        "            self.seq = nn.Sequential(\n",
        "                ConBnRelu(in_channels, out_channels, kernel_size=3, stride=1, padding=1, bias=False),\n",
        "                ConBnRelu(out_channels, out_channels, kernel_size=3, stride=1, padding=1, bias=False)\n",
        "            )\n",
        "\n",
        "        self.rescale = nn.Conv2d(in_channels, out_channels, kernel_size=1, stride=1, padding=0, bias=False)\n",
        "\n",
        "    def forward(self, x):\n",
        "        return self.seq(x) + self.rescale(x)\n",
        "\n",
        "\n",
        "# Define the U-Net model\n",
        "class UNet(nn.Module):\n",
        "    def __init__(self, in_channels, out_channels):\n",
        "        super(UNet, self).__init__()\n",
        "        # Channel Adder\n",
        "        self.embedder = nn.Sequential(\n",
        "            DoubleConv(in_channels, 16), # in_channelsx128x128 -> 16x128x128\n",
        "            DoubleConv(16, 16), # 16x128x128 -> 16x128x128\n",
        "        )\n",
        "        # Encoder\n",
        "        self.encoder1 = nn.Sequential(\n",
        "            #nn.Dropout2d(0.1),\n",
        "            nn.AvgPool2d(2), # 16x128x128 -> 16x64x64\n",
        "            DoubleConv(16, 32) # in_channelsx64x64 -> 32x64x64\n",
        "        )\n",
        "        \n",
        "        self.encoder2 = nn.Sequential(\n",
        "            #nn.Dropout2d(0.1),\n",
        "            nn.AvgPool2d(2), # 32x64x64 -> 32x32x32\n",
        "            DoubleConv(32, 64) # 32x32x32 -> 64x32x32\n",
        "        )\n",
        "        \n",
        "        self.encoder3 = nn.Sequential(\n",
        "            #nn.Dropout2d(0.1),\n",
        "            nn.AvgPool2d(2), # 64x32x32 -> 64x16x16\n",
        "            DoubleConv(64, 128) # 64x16x16 -> 128x16x16\n",
        "        )\n",
        "        self.encoder4 = nn.Sequential(\n",
        "            #nn.Dropout2d(0.1),\n",
        "            nn.AvgPool2d(2), # 128x16x16 -> 128x8x8\n",
        "            DoubleConv(128, 256) # 128x8x8 -> 256x8x8\n",
        "        )\n",
        "\n",
        "        \n",
        "        self.upconv4 = nn.Sequential(\n",
        "            #nn.Dropout2d(0.1),\n",
        "            nn.ConvTranspose2d(256, 128, kernel_size=2, stride=2) # 256x8x8 -> 128x16x16\n",
        "        )\n",
        "        \n",
        "        # concat 128x16x16 + 128x16x16 -> 256x16x16\n",
        "        self.decoder4 = DoubleConv(256, 128) # 256x16x16 -> 128x16x16\n",
        "\n",
        "        self.upconv3 = nn.Sequential(\n",
        "            #nn.Dropout2d(0.2),\n",
        "            nn.ConvTranspose2d(128, 64, kernel_size=2, stride=2) # 128x16x16 -> 64x32x32\n",
        "        )\n",
        "        # concat 64x32x32 + 64x32x32 -> 128x32x32\n",
        "        self.decoder3 = DoubleConv(128, 64) # 128x32x32 -> 64x32x32\n",
        "\n",
        "        self.upconv2 = nn.Sequential(\n",
        "            #nn.Dropout2d(0.2),\n",
        "            nn.ConvTranspose2d(64, 32, kernel_size=2, stride=2) # 64x32x32 -> 32x64x64\n",
        "        )\n",
        "        # concat 32x64x64 + 32x64x64 -> 64x64x64\n",
        "        self.decoder2 = DoubleConv(64, 32) # 64x64x64 -> 32x64x64\n",
        "\n",
        "        self.upconv1 = nn.Sequential(\n",
        "            #nn.Dropout2d(0.3),\n",
        "            nn.ConvTranspose2d(32, 16, kernel_size=2, stride=2) # 32x64x64 -> 16x128x128\n",
        "        )\n",
        "        # concat 16x128x128 + 16x128x128 -> 32x128x128\n",
        "        self.decoder1 = DoubleConv(32, 16) # 32x128x128 -> 16x128x128\n",
        "\n",
        "        self.output = nn.Conv2d(16, out_channels, kernel_size=1) # 16x128x128 -> out_channelsx128x128\n",
        "\n",
        "    def forward(self, x):\n",
        "        x = self.embedder(x)\n",
        "        # Encoder\n",
        "        e1 = self.encoder1(x)\n",
        "        e2 = self.encoder2(e1)\n",
        "        e3 = self.encoder3(e2)\n",
        "        e4 = self.encoder4(e3)\n",
        "        #Decoder with skip connections\n",
        "        d4 = self.upconv4(e4)\n",
        "        d4 = torch.cat((e3, d4), dim=1)\n",
        "        d4 = self.decoder4(d4)\n",
        "\n",
        "        d3 = self.upconv3(d4)\n",
        "        d3 = torch.cat((e2, d3), dim=1)\n",
        "        d3 = self.decoder3(d3)\n",
        "\n",
        "        d2 = self.upconv2(d3)\n",
        "        d2 = torch.cat((e1, d2), dim=1)\n",
        "        d2 = self.decoder2(d2)\n",
        "\n",
        "        d1 = self.upconv1(d2)\n",
        "        d1 = torch.cat((x, d1), dim=1)\n",
        "        d1 = self.decoder1(d1)\n",
        "\n",
        "        out = self.output(d1)\n",
        "        return out\n",
        "class Magnitude(nn.Module):\n",
        "    def __init__(self, in_channels):\n",
        "        super(Magnitude, self).__init__()\n",
        "        self.conv = nn.Sequential(\n",
        "            DoubleConv(in_channels, 16, use_attention=False), # -> 16x128x128\n",
        "            nn.AvgPool2d(4), # -> 16x32x32\n",
        "            DoubleConv(16, 8, use_attention=False), # -> 8x32x32\n",
        "            nn.AvgPool2d(4), # -> 8x8x8\n",
        "            nn.Conv2d(8, 1, kernel_size=8) # -> 1x1x1\n",
        "        )\n",
        "    def forward(self, x):\n",
        "        return  self.conv(x)\n",
        "class KappaPredictor(nn.Module):\n",
        "    def __init__(self):\n",
        "        super(KappaPredictor, self).__init__()\n",
        "        total_channels = 16\n",
        "        self.channel_adder = ChannelAdder()\n",
        "        self.unet = nn.Sequential(\n",
        "            nn.BatchNorm2d(total_channels),\n",
        "            UNet(total_channels, 1)\n",
        "        )\n",
        "    def forward(self, x):\n",
        "        x = self.channel_adder(x)\n",
        "        return self.unet(x)\n",
        "        \n",
        "        "
      ]
    },
    {
      "cell_type": "markdown",
      "metadata": {},
      "source": [
        "## Creación particion inicial"
      ]
    },
    {
      "cell_type": "code",
      "execution_count": 6,
      "metadata": {},
      "outputs": [],
      "source": [
        "def create_next_partitions(current_partition,k=1):#Creacion de particiones train y valid\n",
        "    init_partition = []\n",
        "    for i in range(k):\n",
        "        init_partition += load_partition(f\"partition_{k*current_partition+(i+1)}.json\")\n",
        "        #print(f\"partition_{k*current_partition+(i+1)}.json\")\n",
        "\n",
        "    train_partition, val_partition = train_test_split(init_partition, test_size=0.2, random_state=42)\n",
        "    save_partition(f\"partition_{current_partition+1}_train.json\",\"partitions\",train_partition)\n",
        "    save_partition(f\"partition_{current_partition+1}_val.json\",\"partitions\",val_partition)"
      ]
    },
    {
      "cell_type": "code",
      "execution_count": 7,
      "metadata": {},
      "outputs": [],
      "source": [
        "create_next_partitions(0,1)"
      ]
    },
    {
      "cell_type": "markdown",
      "metadata": {},
      "source": [
        "## Carga modelo"
      ]
    },
    {
      "cell_type": "code",
      "execution_count": 10,
      "metadata": {},
      "outputs": [],
      "source": [
        "#Define model\n",
        "model = KappaPredictor().to(DEVICE)\n",
        "# Define Loss\n",
        "criterion = torch.nn.L1Loss()\n",
        "transform = RandomTransform()"
      ]
    },
    {
      "cell_type": "code",
      "execution_count": 11,
      "metadata": {},
      "outputs": [
        {
          "data": {
            "text/plain": [
              "2222955"
            ]
          },
          "execution_count": 11,
          "metadata": {},
          "output_type": "execute_result"
        }
      ],
      "source": [
        "sum([p.numel() for p in model.parameters() if p.requires_grad])"
      ]
    },
    {
      "cell_type": "code",
      "execution_count": 12,
      "metadata": {
        "id": "rYf70y6AJmLe"
      },
      "outputs": [],
      "source": [
        "current_partition = 1\n",
        "best_model_path = os.path.join(\n",
        "    \"models\", f\"best_model_partition_{current_partition}.pth\"\n",
        ")"
      ]
    },
    {
      "cell_type": "code",
      "execution_count": 13,
      "metadata": {},
      "outputs": [
        {
          "name": "stdout",
          "output_type": "stream",
          "text": [
            "Epoch [1/50]\n"
          ]
        },
        {
          "name": "stderr",
          "output_type": "stream",
          "text": [
            "Train Epoch 1:   0%|          | 0/77 [00:00<?, ?it/s]"
          ]
        },
        {
          "name": "stderr",
          "output_type": "stream",
          "text": [
            "Train Epoch 1: 100%|██████████| 77/77 [00:38<00:00,  1.98it/s, WMAPE=16.8, DICE=0.541, DPEAKS=219, Loss=0.0552]\n",
            "Validate Epoch 1: 100%|██████████| 20/20 [00:05<00:00,  3.57it/s, WMAPE=4.3, DICE=0.532, DPEAKS=217, Loss=0.0269]\n"
          ]
        },
        {
          "name": "stdout",
          "output_type": "stream",
          "text": [
            "Saving best model\n",
            "Epoch [2/50]\n"
          ]
        },
        {
          "name": "stderr",
          "output_type": "stream",
          "text": [
            "Train Epoch 2: 100%|██████████| 77/77 [00:37<00:00,  2.05it/s, WMAPE=8.36, DICE=0.49, DPEAKS=191, Loss=0.0263]\n",
            "Validate Epoch 2: 100%|██████████| 20/20 [00:05<00:00,  3.68it/s, WMAPE=6.21, DICE=0.446, DPEAKS=190, Loss=0.024]\n"
          ]
        },
        {
          "name": "stdout",
          "output_type": "stream",
          "text": [
            "Saving best model\n",
            "Epoch [3/50]\n"
          ]
        },
        {
          "name": "stderr",
          "output_type": "stream",
          "text": [
            "Train Epoch 3: 100%|██████████| 77/77 [00:37<00:00,  2.06it/s, WMAPE=7.55, DICE=0.366, DPEAKS=154, Loss=0.0217]\n",
            "Validate Epoch 3: 100%|██████████| 20/20 [00:05<00:00,  3.67it/s, WMAPE=6.12, DICE=0.36, DPEAKS=161, Loss=0.0213]\n"
          ]
        },
        {
          "name": "stdout",
          "output_type": "stream",
          "text": [
            "Saving best model\n",
            "Epoch [4/50]\n"
          ]
        },
        {
          "name": "stderr",
          "output_type": "stream",
          "text": [
            "Train Epoch 4: 100%|██████████| 77/77 [00:36<00:00,  2.10it/s, WMAPE=6.51, DICE=0.315, DPEAKS=139, Loss=0.0192]\n",
            "Validate Epoch 4: 100%|██████████| 20/20 [00:05<00:00,  3.79it/s, WMAPE=6.53, DICE=0.314, DPEAKS=149, Loss=0.0187]\n"
          ]
        },
        {
          "name": "stdout",
          "output_type": "stream",
          "text": [
            "Saving best model\n",
            "Epoch [5/50]\n"
          ]
        },
        {
          "name": "stderr",
          "output_type": "stream",
          "text": [
            "Train Epoch 5: 100%|██████████| 77/77 [00:36<00:00,  2.09it/s, WMAPE=6.24, DICE=0.291, DPEAKS=133, Loss=0.0179]\n",
            "Validate Epoch 5: 100%|██████████| 20/20 [00:05<00:00,  3.86it/s, WMAPE=7.24, DICE=0.292, DPEAKS=131, Loss=0.0173]\n"
          ]
        },
        {
          "name": "stdout",
          "output_type": "stream",
          "text": [
            "Saving best model\n",
            "Epoch [6/50]\n"
          ]
        },
        {
          "name": "stderr",
          "output_type": "stream",
          "text": [
            "Train Epoch 6: 100%|██████████| 77/77 [00:38<00:00,  2.02it/s, WMAPE=5.68, DICE=0.273, DPEAKS=126, Loss=0.0169]\n",
            "Validate Epoch 6: 100%|██████████| 20/20 [00:05<00:00,  3.65it/s, WMAPE=5.23, DICE=0.278, DPEAKS=127, Loss=0.0177]\n"
          ]
        },
        {
          "name": "stdout",
          "output_type": "stream",
          "text": [
            "Epoch [7/50]\n"
          ]
        },
        {
          "name": "stderr",
          "output_type": "stream",
          "text": [
            "Train Epoch 7: 100%|██████████| 77/77 [00:38<00:00,  2.00it/s, WMAPE=10.1, DICE=0.262, DPEAKS=121, Loss=0.0163]\n",
            "Validate Epoch 7: 100%|██████████| 20/20 [00:05<00:00,  3.70it/s, WMAPE=11.1, DICE=0.257, DPEAKS=126, Loss=0.0163]\n"
          ]
        },
        {
          "name": "stdout",
          "output_type": "stream",
          "text": [
            "Saving best model\n",
            "Epoch [8/50]\n"
          ]
        },
        {
          "name": "stderr",
          "output_type": "stream",
          "text": [
            "Train Epoch 8: 100%|██████████| 77/77 [00:38<00:00,  2.00it/s, WMAPE=6.91, DICE=0.251, DPEAKS=117, Loss=0.0158]\n",
            "Validate Epoch 8: 100%|██████████| 20/20 [00:05<00:00,  3.69it/s, WMAPE=4.6, DICE=0.25, DPEAKS=122, Loss=0.0158]\n"
          ]
        },
        {
          "name": "stdout",
          "output_type": "stream",
          "text": [
            "Saving best model\n",
            "Epoch [9/50]\n"
          ]
        },
        {
          "name": "stderr",
          "output_type": "stream",
          "text": [
            "Train Epoch 9: 100%|██████████| 77/77 [00:38<00:00,  2.01it/s, WMAPE=5.58, DICE=0.239, DPEAKS=113, Loss=0.0152]\n",
            "Validate Epoch 9: 100%|██████████| 20/20 [00:05<00:00,  3.65it/s, WMAPE=5.19, DICE=0.236, DPEAKS=118, Loss=0.0156]\n"
          ]
        },
        {
          "name": "stdout",
          "output_type": "stream",
          "text": [
            "Saving best model\n",
            "Epoch [10/50]\n"
          ]
        },
        {
          "name": "stderr",
          "output_type": "stream",
          "text": [
            "Train Epoch 10: 100%|██████████| 77/77 [00:38<00:00,  1.99it/s, WMAPE=7.64, DICE=0.233, DPEAKS=111, Loss=0.015]\n",
            "Validate Epoch 10: 100%|██████████| 20/20 [00:05<00:00,  3.59it/s, WMAPE=5.71, DICE=0.226, DPEAKS=112, Loss=0.0147]\n"
          ]
        },
        {
          "name": "stdout",
          "output_type": "stream",
          "text": [
            "Saving best model\n",
            "Epoch [11/50]\n"
          ]
        },
        {
          "name": "stderr",
          "output_type": "stream",
          "text": [
            "Train Epoch 11: 100%|██████████| 77/77 [00:38<00:00,  1.99it/s, WMAPE=5.64, DICE=0.219, DPEAKS=107, Loss=0.0141]\n",
            "Validate Epoch 11: 100%|██████████| 20/20 [00:05<00:00,  3.66it/s, WMAPE=5.82, DICE=0.217, DPEAKS=111, Loss=0.0151]\n"
          ]
        },
        {
          "name": "stdout",
          "output_type": "stream",
          "text": [
            "Epoch [12/50]\n"
          ]
        },
        {
          "name": "stderr",
          "output_type": "stream",
          "text": [
            "Train Epoch 12: 100%|██████████| 77/77 [00:36<00:00,  2.08it/s, WMAPE=5.59, DICE=0.214, DPEAKS=103, Loss=0.0141]\n",
            "Validate Epoch 12: 100%|██████████| 20/20 [00:05<00:00,  3.84it/s, WMAPE=7.51, DICE=0.211, DPEAKS=108, Loss=0.0144]\n"
          ]
        },
        {
          "name": "stdout",
          "output_type": "stream",
          "text": [
            "Saving best model\n",
            "Epoch [13/50]\n"
          ]
        },
        {
          "name": "stderr",
          "output_type": "stream",
          "text": [
            "Train Epoch 13: 100%|██████████| 77/77 [00:36<00:00,  2.11it/s, WMAPE=4.9, DICE=0.206, DPEAKS=102, Loss=0.0136]\n",
            "Validate Epoch 13: 100%|██████████| 20/20 [00:05<00:00,  3.89it/s, WMAPE=7.78, DICE=0.208, DPEAKS=111, Loss=0.0135]\n"
          ]
        },
        {
          "name": "stdout",
          "output_type": "stream",
          "text": [
            "Saving best model\n",
            "Epoch [14/50]\n"
          ]
        },
        {
          "name": "stderr",
          "output_type": "stream",
          "text": [
            "Train Epoch 14: 100%|██████████| 77/77 [00:37<00:00,  2.06it/s, WMAPE=4.93, DICE=0.203, DPEAKS=99.3, Loss=0.0136]\n",
            "Validate Epoch 14: 100%|██████████| 20/20 [00:05<00:00,  3.73it/s, WMAPE=7.07, DICE=0.208, DPEAKS=103, Loss=0.0146]\n"
          ]
        },
        {
          "name": "stdout",
          "output_type": "stream",
          "text": [
            "Epoch [15/50]\n"
          ]
        },
        {
          "name": "stderr",
          "output_type": "stream",
          "text": [
            "Train Epoch 15: 100%|██████████| 77/77 [00:38<00:00,  1.99it/s, WMAPE=5.9, DICE=0.2, DPEAKS=98.3, Loss=0.0133]\n",
            "Validate Epoch 15: 100%|██████████| 20/20 [00:05<00:00,  3.69it/s, WMAPE=5.2, DICE=0.197, DPEAKS=107, Loss=0.0128]\n"
          ]
        },
        {
          "name": "stdout",
          "output_type": "stream",
          "text": [
            "Saving best model\n",
            "Epoch [16/50]\n"
          ]
        },
        {
          "name": "stderr",
          "output_type": "stream",
          "text": [
            "Train Epoch 16: 100%|██████████| 77/77 [00:39<00:00,  1.97it/s, WMAPE=5.49, DICE=0.193, DPEAKS=96, Loss=0.0128]\n",
            "Validate Epoch 16: 100%|██████████| 20/20 [00:05<00:00,  3.62it/s, WMAPE=6.32, DICE=0.193, DPEAKS=102, Loss=0.0165]\n"
          ]
        },
        {
          "name": "stdout",
          "output_type": "stream",
          "text": [
            "Epoch [17/50]\n"
          ]
        },
        {
          "name": "stderr",
          "output_type": "stream",
          "text": [
            "Train Epoch 17: 100%|██████████| 77/77 [00:38<00:00,  1.99it/s, WMAPE=5.99, DICE=0.196, DPEAKS=96.7, Loss=0.0133]\n",
            "Validate Epoch 17: 100%|██████████| 20/20 [00:05<00:00,  3.68it/s, WMAPE=5.24, DICE=0.213, DPEAKS=121, Loss=0.014]\n"
          ]
        },
        {
          "name": "stdout",
          "output_type": "stream",
          "text": [
            "Epoch [18/50]\n"
          ]
        },
        {
          "name": "stderr",
          "output_type": "stream",
          "text": [
            "Train Epoch 18: 100%|██████████| 77/77 [00:38<00:00,  1.98it/s, WMAPE=5.16, DICE=0.197, DPEAKS=99.6, Loss=0.0134]\n",
            "Validate Epoch 18: 100%|██████████| 20/20 [00:05<00:00,  3.59it/s, WMAPE=5.6, DICE=0.193, DPEAKS=104, Loss=0.0139]\n"
          ]
        },
        {
          "name": "stdout",
          "output_type": "stream",
          "text": [
            "Epoch [19/50]\n"
          ]
        },
        {
          "name": "stderr",
          "output_type": "stream",
          "text": [
            "Train Epoch 19: 100%|██████████| 77/77 [00:38<00:00,  1.99it/s, WMAPE=5.12, DICE=0.19, DPEAKS=94.7, Loss=0.0127]\n",
            "Validate Epoch 19: 100%|██████████| 20/20 [00:05<00:00,  3.65it/s, WMAPE=4.98, DICE=0.189, DPEAKS=101, Loss=0.0134]\n"
          ]
        },
        {
          "name": "stdout",
          "output_type": "stream",
          "text": [
            "Epoch [20/50]\n"
          ]
        },
        {
          "name": "stderr",
          "output_type": "stream",
          "text": [
            "Train Epoch 20: 100%|██████████| 77/77 [00:38<00:00,  1.99it/s, WMAPE=4.83, DICE=0.19, DPEAKS=96.2, Loss=0.0127]\n",
            "Validate Epoch 20: 100%|██████████| 20/20 [00:05<00:00,  3.60it/s, WMAPE=4.06, DICE=0.183, DPEAKS=100, Loss=0.012]\n"
          ]
        },
        {
          "name": "stdout",
          "output_type": "stream",
          "text": [
            "Saving best model\n",
            "Epoch [21/50]\n"
          ]
        },
        {
          "name": "stderr",
          "output_type": "stream",
          "text": [
            "Train Epoch 21: 100%|██████████| 77/77 [00:38<00:00,  1.99it/s, WMAPE=7.28, DICE=0.184, DPEAKS=91.5, Loss=0.0124]\n",
            "Validate Epoch 21: 100%|██████████| 20/20 [00:05<00:00,  3.70it/s, WMAPE=53.5, DICE=0.187, DPEAKS=103, Loss=0.0122]\n"
          ]
        },
        {
          "name": "stdout",
          "output_type": "stream",
          "text": [
            "Epoch [22/50]\n"
          ]
        },
        {
          "name": "stderr",
          "output_type": "stream",
          "text": [
            "Train Epoch 22: 100%|██████████| 77/77 [00:37<00:00,  2.05it/s, WMAPE=8.63, DICE=0.183, DPEAKS=91.2, Loss=0.0123]\n",
            "Validate Epoch 22: 100%|██████████| 20/20 [00:05<00:00,  3.69it/s, WMAPE=5.09, DICE=0.18, DPEAKS=94.5, Loss=0.0125]\n"
          ]
        },
        {
          "name": "stdout",
          "output_type": "stream",
          "text": [
            "Epoch [23/50]\n"
          ]
        },
        {
          "name": "stderr",
          "output_type": "stream",
          "text": [
            "Train Epoch 23: 100%|██████████| 77/77 [00:37<00:00,  2.05it/s, WMAPE=5.83, DICE=0.18, DPEAKS=92.1, Loss=0.0121]\n",
            "Validate Epoch 23: 100%|██████████| 20/20 [00:05<00:00,  3.78it/s, WMAPE=5.17, DICE=0.175, DPEAKS=93, Loss=0.012]\n"
          ]
        },
        {
          "name": "stdout",
          "output_type": "stream",
          "text": [
            "Epoch [24/50]\n"
          ]
        },
        {
          "name": "stderr",
          "output_type": "stream",
          "text": [
            "Train Epoch 24: 100%|██████████| 77/77 [00:38<00:00,  2.01it/s, WMAPE=4.4, DICE=0.176, DPEAKS=88.5, Loss=0.012]\n",
            "Validate Epoch 24: 100%|██████████| 20/20 [00:05<00:00,  3.67it/s, WMAPE=9.51, DICE=0.177, DPEAKS=95.7, Loss=0.0126]\n"
          ]
        },
        {
          "name": "stdout",
          "output_type": "stream",
          "text": [
            "Epoch [25/50]\n"
          ]
        },
        {
          "name": "stderr",
          "output_type": "stream",
          "text": [
            "Train Epoch 25: 100%|██████████| 77/77 [00:38<00:00,  1.99it/s, WMAPE=7.36, DICE=0.179, DPEAKS=91.1, Loss=0.0121]\n",
            "Validate Epoch 25: 100%|██████████| 20/20 [00:05<00:00,  3.66it/s, WMAPE=9.5, DICE=0.181, DPEAKS=99.4, Loss=0.024]"
          ]
        },
        {
          "name": "stdout",
          "output_type": "stream",
          "text": [
            "early stopping: 5 epochs without improvement\n",
            "Training complete.\n"
          ]
        },
        {
          "name": "stderr",
          "output_type": "stream",
          "text": [
            "\n"
          ]
        }
      ],
      "source": [
        "train_loader, val_loader = create_train_valid_loaders(\n",
        "    f\"partition_{current_partition}_train.json\",\n",
        "    f\"partition_{current_partition}_val.json\",\n",
        "    \"partitions\",\n",
        "    batch_size=BATCH_SIZE,\n",
        "    transform=transform,\n",
        ")\n",
        "best_model_path = os.path.join(\n",
        "    \"models\", f\"best_model_partition_{current_partition}.pth\"\n",
        ")\n",
        "last_checkpoint_path = os.path.join(\n",
        "    \"models\", f\"last_checkpoint_partition_{current_partition}.pth\"\n",
        ")\n",
        "optimizer = optim.AdamW(model.parameters())\n",
        "train_model(\n",
        "    model,\n",
        "    train_loader,\n",
        "    val_loader,\n",
        "    best_model_path,\n",
        "    last_checkpoint_path,\n",
        "    criterion,\n",
        "    optimizer,\n",
        "    num_epochs=50,\n",
        "    device=DEVICE,\n",
        "    early_stopping_patience=5,\n",
        "    use_autocast=USE_AUTOCAST\n",
        ")"
      ]
    },
    {
      "cell_type": "code",
      "execution_count": 14,
      "metadata": {},
      "outputs": [
        {
          "name": "stderr",
          "output_type": "stream",
          "text": [
            "Validate Epoch test: 100%|██████████| 486/486 [02:33<00:00,  3.16it/s, WMAPE=4.7, DICE=0.263, DPEAKS=125, Loss=0.0169]\n"
          ]
        }
      ],
      "source": [
        "#Cargar mejor modelo de la particion actual\n",
        "model.load_state_dict(torch.load(best_model_path,weights_only=True))\n",
        "test_model(model,criterion,device=DEVICE,batch_size=BATCH_SIZE)"
      ]
    },
    {
      "cell_type": "code",
      "execution_count": 12,
      "metadata": {},
      "outputs": [
        {
          "name": "stderr",
          "output_type": "stream",
          "text": [
            "Validate Epoch test: 100%|██████████| 486/486 [02:33<00:00,  3.18it/s, WMAPE=3.2, DICE=0.137, DPEAKS=90, Loss=0.0106]\n"
          ]
        }
      ],
      "source": [
        "#Cargar mejor modelo de la particion actual\n",
        "model.load_state_dict(torch.load(best_model_path,weights_only=True))\n",
        "test_model(model,criterion,device=DEVICE,batch_size=BATCH_SIZE)"
      ]
    },
    {
      "cell_type": "code",
      "execution_count": 13,
      "metadata": {},
      "outputs": [
        {
          "name": "stderr",
          "output_type": "stream",
          "text": [
            "Validate Epoch test: 100%|██████████| 486/486 [02:36<00:00,  3.11it/s, WMAPE=3.1, DICE=0.118, DPEAKS=66.9, Loss=0.00923]\n"
          ]
        }
      ],
      "source": [
        "#Cargar mejor modelo de la particion actual\n",
        "model.load_state_dict(torch.load(best_model_path,weights_only=True))\n",
        "test_model(model,criterion,device=DEVICE,batch_size=BATCH_SIZE)"
      ]
    },
    {
      "cell_type": "code",
      "execution_count": 11,
      "metadata": {},
      "outputs": [],
      "source": [
        "create_next_partitions(current_partition)"
      ]
    },
    {
      "cell_type": "code",
      "execution_count": 9,
      "metadata": {},
      "outputs": [
        {
          "name": "stdout",
          "output_type": "stream",
          "text": [
            "Epoch [32/50]\n"
          ]
        },
        {
          "name": "stderr",
          "output_type": "stream",
          "text": [
            "Train Epoch 32: 100%|██████████| 77/77 [00:42<00:00,  1.80it/s, WMAPE=2.66, DICE=0.11, DPEAKS=94.9, Loss=0.00863]\n",
            "Validate Epoch 32: 100%|██████████| 20/20 [00:05<00:00,  3.85it/s, WMAPE=4.49, DICE=0.113, DPEAKS=90.2, Loss=0.0129]\n"
          ]
        },
        {
          "name": "stdout",
          "output_type": "stream",
          "text": [
            "Epoch [33/50]\n"
          ]
        },
        {
          "name": "stderr",
          "output_type": "stream",
          "text": [
            "Train Epoch 33: 100%|██████████| 77/77 [00:42<00:00,  1.82it/s, WMAPE=2.53, DICE=0.108, DPEAKS=94.4, Loss=0.00829]\n",
            "Validate Epoch 33: 100%|██████████| 20/20 [00:05<00:00,  3.97it/s, WMAPE=2.92, DICE=0.113, DPEAKS=84.9, Loss=0.0102]\n"
          ]
        },
        {
          "name": "stdout",
          "output_type": "stream",
          "text": [
            "Saving best model\n",
            "Epoch [34/50]\n"
          ]
        },
        {
          "name": "stderr",
          "output_type": "stream",
          "text": [
            "Train Epoch 34: 100%|██████████| 77/77 [00:42<00:00,  1.82it/s, WMAPE=2.79, DICE=0.107, DPEAKS=91.2, Loss=0.00893]\n",
            "Validate Epoch 34: 100%|██████████| 20/20 [00:05<00:00,  3.92it/s, WMAPE=4.37, DICE=0.115, DPEAKS=97.6, Loss=0.0123]\n"
          ]
        },
        {
          "name": "stdout",
          "output_type": "stream",
          "text": [
            "Epoch [35/50]\n"
          ]
        },
        {
          "name": "stderr",
          "output_type": "stream",
          "text": [
            "Train Epoch 35: 100%|██████████| 77/77 [00:42<00:00,  1.83it/s, WMAPE=2.58, DICE=0.108, DPEAKS=93.2, Loss=0.00849]\n",
            "Validate Epoch 35: 100%|██████████| 20/20 [00:05<00:00,  3.87it/s, WMAPE=3.29, DICE=0.11, DPEAKS=97.7, Loss=0.0102]\n"
          ]
        },
        {
          "name": "stdout",
          "output_type": "stream",
          "text": [
            "Saving best model\n",
            "Epoch [36/50]\n"
          ]
        },
        {
          "name": "stderr",
          "output_type": "stream",
          "text": [
            "Train Epoch 36: 100%|██████████| 77/77 [00:42<00:00,  1.82it/s, WMAPE=2.56, DICE=0.106, DPEAKS=91.8, Loss=0.00838]\n",
            "Validate Epoch 36: 100%|██████████| 20/20 [00:05<00:00,  3.93it/s, WMAPE=3.15, DICE=0.107, DPEAKS=94.6, Loss=0.00965]\n"
          ]
        },
        {
          "name": "stdout",
          "output_type": "stream",
          "text": [
            "Saving best model\n",
            "Epoch [37/50]\n"
          ]
        },
        {
          "name": "stderr",
          "output_type": "stream",
          "text": [
            "Train Epoch 37: 100%|██████████| 77/77 [00:42<00:00,  1.83it/s, WMAPE=2.64, DICE=0.105, DPEAKS=92.7, Loss=0.00862]\n",
            "Validate Epoch 37: 100%|██████████| 20/20 [00:05<00:00,  3.93it/s, WMAPE=3.09, DICE=0.108, DPEAKS=90.4, Loss=0.00988]\n"
          ]
        },
        {
          "name": "stdout",
          "output_type": "stream",
          "text": [
            "Epoch [38/50]\n"
          ]
        },
        {
          "name": "stderr",
          "output_type": "stream",
          "text": [
            "Train Epoch 38: 100%|██████████| 77/77 [00:42<00:00,  1.82it/s, WMAPE=2.68, DICE=0.104, DPEAKS=93.6, Loss=0.00866]\n",
            "Validate Epoch 38: 100%|██████████| 20/20 [00:05<00:00,  3.92it/s, WMAPE=3.54, DICE=0.107, DPEAKS=90, Loss=0.0107]\n"
          ]
        },
        {
          "name": "stdout",
          "output_type": "stream",
          "text": [
            "Epoch [39/50]\n"
          ]
        },
        {
          "name": "stderr",
          "output_type": "stream",
          "text": [
            "Train Epoch 39: 100%|██████████| 77/77 [00:42<00:00,  1.82it/s, WMAPE=2.5, DICE=0.103, DPEAKS=93.4, Loss=0.00812]\n",
            "Validate Epoch 39: 100%|██████████| 20/20 [00:05<00:00,  3.96it/s, WMAPE=3.09, DICE=0.111, DPEAKS=89.5, Loss=0.00982]\n"
          ]
        },
        {
          "name": "stdout",
          "output_type": "stream",
          "text": [
            "Epoch [40/50]\n"
          ]
        },
        {
          "name": "stderr",
          "output_type": "stream",
          "text": [
            "Train Epoch 40: 100%|██████████| 77/77 [00:42<00:00,  1.82it/s, WMAPE=2.77, DICE=0.104, DPEAKS=93, Loss=0.00899]\n",
            "Validate Epoch 40: 100%|██████████| 20/20 [00:05<00:00,  3.93it/s, WMAPE=3.04, DICE=0.108, DPEAKS=104, Loss=0.00962]\n"
          ]
        },
        {
          "name": "stdout",
          "output_type": "stream",
          "text": [
            "Saving best model\n",
            "Epoch [41/50]\n"
          ]
        },
        {
          "name": "stderr",
          "output_type": "stream",
          "text": [
            "Train Epoch 41: 100%|██████████| 77/77 [00:42<00:00,  1.82it/s, WMAPE=2.32, DICE=0.102, DPEAKS=93.8, Loss=0.00769]\n",
            "Validate Epoch 41: 100%|██████████| 20/20 [00:05<00:00,  3.96it/s, WMAPE=3.34, DICE=0.107, DPEAKS=84.1, Loss=0.0104]\n"
          ]
        },
        {
          "name": "stdout",
          "output_type": "stream",
          "text": [
            "Epoch [42/50]\n"
          ]
        },
        {
          "name": "stderr",
          "output_type": "stream",
          "text": [
            "Train Epoch 42: 100%|██████████| 77/77 [00:42<00:00,  1.83it/s, WMAPE=2.28, DICE=0.101, DPEAKS=90.3, Loss=0.00753]\n",
            "Validate Epoch 42: 100%|██████████| 20/20 [00:05<00:00,  3.90it/s, WMAPE=3.2, DICE=0.104, DPEAKS=87.4, Loss=0.00954]\n"
          ]
        },
        {
          "name": "stdout",
          "output_type": "stream",
          "text": [
            "Saving best model\n",
            "Epoch [43/50]\n"
          ]
        },
        {
          "name": "stderr",
          "output_type": "stream",
          "text": [
            "Train Epoch 43: 100%|██████████| 77/77 [00:42<00:00,  1.82it/s, WMAPE=2.42, DICE=0.1, DPEAKS=87.1, Loss=0.00785]\n",
            "Validate Epoch 43: 100%|██████████| 20/20 [00:05<00:00,  3.94it/s, WMAPE=3.36, DICE=0.104, DPEAKS=88.7, Loss=0.00996]\n"
          ]
        },
        {
          "name": "stdout",
          "output_type": "stream",
          "text": [
            "Epoch [44/50]\n"
          ]
        },
        {
          "name": "stderr",
          "output_type": "stream",
          "text": [
            "Train Epoch 44: 100%|██████████| 77/77 [00:42<00:00,  1.83it/s, WMAPE=2.37, DICE=0.1, DPEAKS=89.5, Loss=0.00773]\n",
            "Validate Epoch 44: 100%|██████████| 20/20 [00:05<00:00,  3.92it/s, WMAPE=3.05, DICE=0.106, DPEAKS=91.1, Loss=0.00963]\n"
          ]
        },
        {
          "name": "stdout",
          "output_type": "stream",
          "text": [
            "Epoch [45/50]\n"
          ]
        },
        {
          "name": "stderr",
          "output_type": "stream",
          "text": [
            "Train Epoch 45: 100%|██████████| 77/77 [00:41<00:00,  1.83it/s, WMAPE=2.54, DICE=0.0992, DPEAKS=86.7, Loss=0.00816]\n",
            "Validate Epoch 45: 100%|██████████| 20/20 [00:05<00:00,  3.93it/s, WMAPE=3.56, DICE=0.109, DPEAKS=89.6, Loss=0.0113]\n"
          ]
        },
        {
          "name": "stdout",
          "output_type": "stream",
          "text": [
            "Epoch [46/50]\n"
          ]
        },
        {
          "name": "stderr",
          "output_type": "stream",
          "text": [
            "Train Epoch 46: 100%|██████████| 77/77 [00:42<00:00,  1.82it/s, WMAPE=2.49, DICE=0.0992, DPEAKS=90.1, Loss=0.00808]\n",
            "Validate Epoch 46: 100%|██████████| 20/20 [00:05<00:00,  3.99it/s, WMAPE=3.05, DICE=0.102, DPEAKS=80.4, Loss=0.00941]\n"
          ]
        },
        {
          "name": "stdout",
          "output_type": "stream",
          "text": [
            "Saving best model\n",
            "Epoch [47/50]\n"
          ]
        },
        {
          "name": "stderr",
          "output_type": "stream",
          "text": [
            "Train Epoch 47: 100%|██████████| 77/77 [00:42<00:00,  1.83it/s, WMAPE=2.55, DICE=0.0977, DPEAKS=90.3, Loss=0.00826]\n",
            "Validate Epoch 47: 100%|██████████| 20/20 [00:05<00:00,  3.89it/s, WMAPE=3.76, DICE=0.102, DPEAKS=89.5, Loss=0.0122]\n"
          ]
        },
        {
          "name": "stdout",
          "output_type": "stream",
          "text": [
            "Epoch [48/50]\n"
          ]
        },
        {
          "name": "stderr",
          "output_type": "stream",
          "text": [
            "Train Epoch 48: 100%|██████████| 77/77 [00:41<00:00,  1.84it/s, WMAPE=2.62, DICE=0.0986, DPEAKS=92.5, Loss=0.00859]\n",
            "Validate Epoch 48: 100%|██████████| 20/20 [00:05<00:00,  3.97it/s, WMAPE=3.32, DICE=0.103, DPEAKS=91.4, Loss=0.00992]\n"
          ]
        },
        {
          "name": "stdout",
          "output_type": "stream",
          "text": [
            "Epoch [49/50]\n"
          ]
        },
        {
          "name": "stderr",
          "output_type": "stream",
          "text": [
            "Train Epoch 49: 100%|██████████| 77/77 [00:41<00:00,  1.84it/s, WMAPE=2.46, DICE=0.0973, DPEAKS=91.6, Loss=0.00802]\n",
            "Validate Epoch 49: 100%|██████████| 20/20 [00:05<00:00,  3.96it/s, WMAPE=2.88, DICE=0.107, DPEAKS=95.6, Loss=0.00932]\n"
          ]
        },
        {
          "name": "stdout",
          "output_type": "stream",
          "text": [
            "Saving best model\n",
            "Epoch [50/50]\n"
          ]
        },
        {
          "name": "stderr",
          "output_type": "stream",
          "text": [
            "Train Epoch 50: 100%|██████████| 77/77 [00:42<00:00,  1.83it/s, WMAPE=2.31, DICE=0.0971, DPEAKS=89.1, Loss=0.00756]\n",
            "Validate Epoch 50: 100%|██████████| 20/20 [00:05<00:00,  3.97it/s, WMAPE=3.24, DICE=0.1, DPEAKS=91.2, Loss=0.0108]\n"
          ]
        },
        {
          "name": "stdout",
          "output_type": "stream",
          "text": [
            "Training complete.\n"
          ]
        },
        {
          "name": "stderr",
          "output_type": "stream",
          "text": [
            "Validate Epoch test: 100%|██████████| 486/486 [02:35<00:00,  3.13it/s, WMAPE=2.92, DICE=0.107, DPEAKS=98, Loss=0.00946]\n"
          ]
        },
        {
          "name": "stdout",
          "output_type": "stream",
          "text": [
            "Epoch [1/50]\n"
          ]
        },
        {
          "name": "stderr",
          "output_type": "stream",
          "text": [
            "Train Epoch 1: 100%|██████████| 77/77 [00:44<00:00,  1.73it/s, WMAPE=3.5, DICE=0.107, DPEAKS=100, Loss=0.0112]\n",
            "Validate Epoch 1: 100%|██████████| 20/20 [00:06<00:00,  3.31it/s, WMAPE=3.65, DICE=0.109, DPEAKS=97.1, Loss=0.0107]\n"
          ]
        },
        {
          "name": "stdout",
          "output_type": "stream",
          "text": [
            "Saving best model\n",
            "Epoch [2/50]\n"
          ]
        },
        {
          "name": "stderr",
          "output_type": "stream",
          "text": [
            "Train Epoch 2: 100%|██████████| 77/77 [00:39<00:00,  1.95it/s, WMAPE=2.76, DICE=0.101, DPEAKS=95.7, Loss=0.00886]\n",
            "Validate Epoch 2: 100%|██████████| 20/20 [00:04<00:00,  4.14it/s, WMAPE=4.05, DICE=0.102, DPEAKS=92.6, Loss=0.0115]\n"
          ]
        },
        {
          "name": "stdout",
          "output_type": "stream",
          "text": [
            "Epoch [3/50]\n"
          ]
        },
        {
          "name": "stderr",
          "output_type": "stream",
          "text": [
            "Train Epoch 3: 100%|██████████| 77/77 [00:39<00:00,  1.95it/s, WMAPE=2.64, DICE=0.0994, DPEAKS=95.1, Loss=0.00858]\n",
            "Validate Epoch 3: 100%|██████████| 20/20 [00:04<00:00,  4.09it/s, WMAPE=3.14, DICE=0.107, DPEAKS=98.3, Loss=0.0105]\n"
          ]
        },
        {
          "name": "stdout",
          "output_type": "stream",
          "text": [
            "Saving best model\n",
            "Epoch [4/50]\n"
          ]
        },
        {
          "name": "stderr",
          "output_type": "stream",
          "text": [
            "Train Epoch 4: 100%|██████████| 77/77 [00:39<00:00,  1.96it/s, WMAPE=2.67, DICE=0.0981, DPEAKS=94.4, Loss=0.00859]\n",
            "Validate Epoch 4: 100%|██████████| 20/20 [00:04<00:00,  4.13it/s, WMAPE=3.51, DICE=0.0989, DPEAKS=89.7, Loss=0.00993]\n"
          ]
        },
        {
          "name": "stdout",
          "output_type": "stream",
          "text": [
            "Saving best model\n",
            "Epoch [5/50]\n"
          ]
        },
        {
          "name": "stderr",
          "output_type": "stream",
          "text": [
            "Train Epoch 5: 100%|██████████| 77/77 [00:39<00:00,  1.95it/s, WMAPE=2.8, DICE=0.0971, DPEAKS=92.8, Loss=0.0089]\n",
            "Validate Epoch 5: 100%|██████████| 20/20 [00:04<00:00,  4.15it/s, WMAPE=3.47, DICE=0.101, DPEAKS=97.6, Loss=0.0101]\n"
          ]
        },
        {
          "name": "stdout",
          "output_type": "stream",
          "text": [
            "Epoch [6/50]\n"
          ]
        },
        {
          "name": "stderr",
          "output_type": "stream",
          "text": [
            "Train Epoch 6: 100%|██████████| 77/77 [00:39<00:00,  1.95it/s, WMAPE=2.4, DICE=0.0971, DPEAKS=93.2, Loss=0.00785]\n",
            "Validate Epoch 6: 100%|██████████| 20/20 [00:04<00:00,  4.11it/s, WMAPE=3.12, DICE=0.103, DPEAKS=93.6, Loss=0.0106]\n"
          ]
        },
        {
          "name": "stdout",
          "output_type": "stream",
          "text": [
            "Epoch [7/50]\n"
          ]
        },
        {
          "name": "stderr",
          "output_type": "stream",
          "text": [
            "Train Epoch 7: 100%|██████████| 77/77 [00:39<00:00,  1.95it/s, WMAPE=2.39, DICE=0.0964, DPEAKS=91.7, Loss=0.00774]\n",
            "Validate Epoch 7: 100%|██████████| 20/20 [00:04<00:00,  4.12it/s, WMAPE=2.56, DICE=0.0983, DPEAKS=88.5, Loss=0.00832]\n"
          ]
        },
        {
          "name": "stdout",
          "output_type": "stream",
          "text": [
            "Saving best model\n",
            "Epoch [8/50]\n"
          ]
        },
        {
          "name": "stderr",
          "output_type": "stream",
          "text": [
            "Train Epoch 8: 100%|██████████| 77/77 [00:39<00:00,  1.95it/s, WMAPE=2.41, DICE=0.0948, DPEAKS=91.2, Loss=0.00776]\n",
            "Validate Epoch 8: 100%|██████████| 20/20 [00:04<00:00,  4.14it/s, WMAPE=2.82, DICE=0.098, DPEAKS=89.9, Loss=0.00954]\n"
          ]
        },
        {
          "name": "stdout",
          "output_type": "stream",
          "text": [
            "Epoch [9/50]\n"
          ]
        },
        {
          "name": "stderr",
          "output_type": "stream",
          "text": [
            "Train Epoch 9: 100%|██████████| 77/77 [00:39<00:00,  1.95it/s, WMAPE=2.32, DICE=0.0946, DPEAKS=89.3, Loss=0.00755]\n",
            "Validate Epoch 9: 100%|██████████| 20/20 [00:05<00:00,  3.99it/s, WMAPE=3.23, DICE=0.098, DPEAKS=85.7, Loss=0.00932]\n"
          ]
        },
        {
          "name": "stdout",
          "output_type": "stream",
          "text": [
            "Epoch [10/50]\n"
          ]
        },
        {
          "name": "stderr",
          "output_type": "stream",
          "text": [
            "Train Epoch 10: 100%|██████████| 77/77 [00:39<00:00,  1.94it/s, WMAPE=2.29, DICE=0.0936, DPEAKS=87.6, Loss=0.00737]\n",
            "Validate Epoch 10: 100%|██████████| 20/20 [00:05<00:00,  3.92it/s, WMAPE=2.82, DICE=0.0979, DPEAKS=89.6, Loss=0.00861]\n"
          ]
        },
        {
          "name": "stdout",
          "output_type": "stream",
          "text": [
            "Epoch [11/50]\n"
          ]
        },
        {
          "name": "stderr",
          "output_type": "stream",
          "text": [
            "Train Epoch 11: 100%|██████████| 77/77 [00:41<00:00,  1.84it/s, WMAPE=2.27, DICE=0.0929, DPEAKS=87, Loss=0.00734]\n",
            "Validate Epoch 11: 100%|██████████| 20/20 [00:04<00:00,  4.08it/s, WMAPE=3.95, DICE=0.099, DPEAKS=94.7, Loss=0.0126]\n"
          ]
        },
        {
          "name": "stdout",
          "output_type": "stream",
          "text": [
            "Epoch [12/50]\n"
          ]
        },
        {
          "name": "stderr",
          "output_type": "stream",
          "text": [
            "Train Epoch 12: 100%|██████████| 77/77 [00:41<00:00,  1.85it/s, WMAPE=2.25, DICE=0.0923, DPEAKS=87.1, Loss=0.00722]\n",
            "Validate Epoch 12: 100%|██████████| 20/20 [00:05<00:00,  3.84it/s, WMAPE=2.72, DICE=0.0991, DPEAKS=89.2, Loss=0.00863]\n"
          ]
        },
        {
          "name": "stdout",
          "output_type": "stream",
          "text": [
            "early stopping: 5 epochs without improvement\n",
            "Training complete.\n"
          ]
        },
        {
          "name": "stderr",
          "output_type": "stream",
          "text": [
            "Validate Epoch test: 100%|██████████| 486/486 [02:43<00:00,  2.98it/s, WMAPE=2.54, DICE=0.0979, DPEAKS=91.5, Loss=0.0082]\n"
          ]
        },
        {
          "name": "stdout",
          "output_type": "stream",
          "text": [
            "Epoch [1/50]\n"
          ]
        },
        {
          "name": "stderr",
          "output_type": "stream",
          "text": [
            "Train Epoch 1: 100%|██████████| 77/77 [00:47<00:00,  1.64it/s, WMAPE=3.48, DICE=0.105, DPEAKS=97.8, Loss=0.011]\n",
            "Validate Epoch 1: 100%|██████████| 20/20 [00:06<00:00,  3.18it/s, WMAPE=2.59, DICE=0.101, DPEAKS=104, Loss=0.0086]\n"
          ]
        },
        {
          "name": "stdout",
          "output_type": "stream",
          "text": [
            "Saving best model\n",
            "Epoch [2/50]\n"
          ]
        },
        {
          "name": "stderr",
          "output_type": "stream",
          "text": [
            "Train Epoch 2: 100%|██████████| 77/77 [00:42<00:00,  1.83it/s, WMAPE=2.59, DICE=0.0967, DPEAKS=94.8, Loss=0.00833]\n",
            "Validate Epoch 2: 100%|██████████| 20/20 [00:05<00:00,  3.91it/s, WMAPE=2.67, DICE=0.0999, DPEAKS=102, Loss=0.00871]\n"
          ]
        },
        {
          "name": "stdout",
          "output_type": "stream",
          "text": [
            "Epoch [3/50]\n"
          ]
        },
        {
          "name": "stderr",
          "output_type": "stream",
          "text": [
            "Train Epoch 3: 100%|██████████| 77/77 [00:42<00:00,  1.82it/s, WMAPE=2.47, DICE=0.0952, DPEAKS=91.7, Loss=0.00796]\n",
            "Validate Epoch 3: 100%|██████████| 20/20 [00:05<00:00,  3.89it/s, WMAPE=2.65, DICE=0.0953, DPEAKS=90.9, Loss=0.00941]\n"
          ]
        },
        {
          "name": "stdout",
          "output_type": "stream",
          "text": [
            "Epoch [4/50]\n"
          ]
        },
        {
          "name": "stderr",
          "output_type": "stream",
          "text": [
            "Train Epoch 4: 100%|██████████| 77/77 [00:42<00:00,  1.83it/s, WMAPE=2.45, DICE=0.0952, DPEAKS=90.4, Loss=0.00782]\n",
            "Validate Epoch 4: 100%|██████████| 20/20 [00:05<00:00,  3.92it/s, WMAPE=2.86, DICE=0.095, DPEAKS=91.1, Loss=0.00875]\n"
          ]
        },
        {
          "name": "stdout",
          "output_type": "stream",
          "text": [
            "Epoch [5/50]\n"
          ]
        },
        {
          "name": "stderr",
          "output_type": "stream",
          "text": [
            "Train Epoch 5: 100%|██████████| 77/77 [00:42<00:00,  1.82it/s, WMAPE=2.42, DICE=0.0933, DPEAKS=89.4, Loss=0.00775]\n",
            "Validate Epoch 5: 100%|██████████| 20/20 [00:05<00:00,  3.93it/s, WMAPE=2.67, DICE=0.0967, DPEAKS=87.1, Loss=0.00908]\n"
          ]
        },
        {
          "name": "stdout",
          "output_type": "stream",
          "text": [
            "Epoch [6/50]\n"
          ]
        },
        {
          "name": "stderr",
          "output_type": "stream",
          "text": [
            "Train Epoch 6: 100%|██████████| 77/77 [00:42<00:00,  1.83it/s, WMAPE=2.94, DICE=0.0937, DPEAKS=88.5, Loss=0.00928]\n",
            "Validate Epoch 6: 100%|██████████| 20/20 [00:05<00:00,  3.90it/s, WMAPE=2.73, DICE=0.107, DPEAKS=104, Loss=0.00923]\n"
          ]
        },
        {
          "name": "stdout",
          "output_type": "stream",
          "text": [
            "early stopping: 5 epochs without improvement\n",
            "Training complete.\n"
          ]
        },
        {
          "name": "stderr",
          "output_type": "stream",
          "text": [
            "Validate Epoch test: 100%|██████████| 486/486 [02:42<00:00,  2.99it/s, WMAPE=2.65, DICE=0.1, DPEAKS=100, Loss=0.00858]\n"
          ]
        },
        {
          "name": "stdout",
          "output_type": "stream",
          "text": [
            "Epoch [1/50]\n"
          ]
        },
        {
          "name": "stderr",
          "output_type": "stream",
          "text": [
            "Train Epoch 1: 100%|██████████| 77/77 [00:46<00:00,  1.64it/s, WMAPE=3.34, DICE=0.104, DPEAKS=99.3, Loss=0.0107]\n",
            "Validate Epoch 1: 100%|██████████| 20/20 [00:06<00:00,  3.16it/s, WMAPE=2.56, DICE=0.0989, DPEAKS=94.9, Loss=0.00841]\n"
          ]
        },
        {
          "name": "stdout",
          "output_type": "stream",
          "text": [
            "Saving best model\n",
            "Epoch [2/50]\n"
          ]
        },
        {
          "name": "stderr",
          "output_type": "stream",
          "text": [
            "Train Epoch 2: 100%|██████████| 77/77 [00:42<00:00,  1.82it/s, WMAPE=2.51, DICE=0.0958, DPEAKS=95.6, Loss=0.00817]\n",
            "Validate Epoch 2: 100%|██████████| 20/20 [00:05<00:00,  3.91it/s, WMAPE=2.5, DICE=0.0993, DPEAKS=93.7, Loss=0.00819]\n"
          ]
        },
        {
          "name": "stdout",
          "output_type": "stream",
          "text": [
            "Saving best model\n",
            "Epoch [3/50]\n"
          ]
        },
        {
          "name": "stderr",
          "output_type": "stream",
          "text": [
            "Train Epoch 3: 100%|██████████| 77/77 [00:42<00:00,  1.82it/s, WMAPE=2.37, DICE=0.0952, DPEAKS=90.8, Loss=0.00765]\n",
            "Validate Epoch 3: 100%|██████████| 20/20 [00:05<00:00,  3.89it/s, WMAPE=2.51, DICE=0.101, DPEAKS=84.2, Loss=0.00813]\n"
          ]
        },
        {
          "name": "stdout",
          "output_type": "stream",
          "text": [
            "Saving best model\n",
            "Epoch [4/50]\n"
          ]
        },
        {
          "name": "stderr",
          "output_type": "stream",
          "text": [
            "Train Epoch 4: 100%|██████████| 77/77 [00:42<00:00,  1.83it/s, WMAPE=2.38, DICE=0.0934, DPEAKS=86.8, Loss=0.00762]\n",
            "Validate Epoch 4: 100%|██████████| 20/20 [00:05<00:00,  3.90it/s, WMAPE=4.41, DICE=0.0987, DPEAKS=94.7, Loss=0.0135]\n"
          ]
        },
        {
          "name": "stdout",
          "output_type": "stream",
          "text": [
            "Epoch [5/50]\n"
          ]
        },
        {
          "name": "stderr",
          "output_type": "stream",
          "text": [
            "Train Epoch 5: 100%|██████████| 77/77 [00:42<00:00,  1.83it/s, WMAPE=2.56, DICE=0.093, DPEAKS=87, Loss=0.00804]\n",
            "Validate Epoch 5: 100%|██████████| 20/20 [00:05<00:00,  3.91it/s, WMAPE=3, DICE=0.0957, DPEAKS=85.4, Loss=0.00889]\n"
          ]
        },
        {
          "name": "stdout",
          "output_type": "stream",
          "text": [
            "Epoch [6/50]\n"
          ]
        },
        {
          "name": "stderr",
          "output_type": "stream",
          "text": [
            "Train Epoch 6: 100%|██████████| 77/77 [00:42<00:00,  1.83it/s, WMAPE=2.39, DICE=0.0926, DPEAKS=88.7, Loss=0.00762]\n",
            "Validate Epoch 6: 100%|██████████| 20/20 [00:05<00:00,  3.92it/s, WMAPE=3.4, DICE=0.0961, DPEAKS=82.9, Loss=0.00997]\n"
          ]
        },
        {
          "name": "stdout",
          "output_type": "stream",
          "text": [
            "Epoch [7/50]\n"
          ]
        },
        {
          "name": "stderr",
          "output_type": "stream",
          "text": [
            "Train Epoch 7: 100%|██████████| 77/77 [00:42<00:00,  1.83it/s, WMAPE=2.38, DICE=0.0912, DPEAKS=85.8, Loss=0.00762]\n",
            "Validate Epoch 7: 100%|██████████| 20/20 [00:05<00:00,  3.94it/s, WMAPE=3.17, DICE=0.0934, DPEAKS=86.8, Loss=0.00933]\n"
          ]
        },
        {
          "name": "stdout",
          "output_type": "stream",
          "text": [
            "Epoch [8/50]\n"
          ]
        },
        {
          "name": "stderr",
          "output_type": "stream",
          "text": [
            "Train Epoch 8: 100%|██████████| 77/77 [00:42<00:00,  1.83it/s, WMAPE=2.32, DICE=0.0904, DPEAKS=86.1, Loss=0.00743]\n",
            "Validate Epoch 8: 100%|██████████| 20/20 [00:05<00:00,  3.90it/s, WMAPE=2.74, DICE=0.0926, DPEAKS=81.8, Loss=0.0082]\n"
          ]
        },
        {
          "name": "stdout",
          "output_type": "stream",
          "text": [
            "early stopping: 5 epochs without improvement\n",
            "Training complete.\n"
          ]
        },
        {
          "name": "stderr",
          "output_type": "stream",
          "text": [
            "Validate Epoch test: 100%|██████████| 486/486 [02:42<00:00,  2.98it/s, WMAPE=2.52, DICE=0.1, DPEAKS=90.1, Loss=0.00814]\n"
          ]
        },
        {
          "name": "stdout",
          "output_type": "stream",
          "text": [
            "Epoch [1/50]\n"
          ]
        },
        {
          "name": "stderr",
          "output_type": "stream",
          "text": [
            "Train Epoch 1: 100%|██████████| 77/77 [00:46<00:00,  1.64it/s, WMAPE=3.09, DICE=0.101, DPEAKS=94.8, Loss=0.00995]\n",
            "Validate Epoch 1: 100%|██████████| 20/20 [00:06<00:00,  3.18it/s, WMAPE=2.96, DICE=0.0965, DPEAKS=95.7, Loss=0.00862]\n"
          ]
        },
        {
          "name": "stdout",
          "output_type": "stream",
          "text": [
            "Saving best model\n",
            "Epoch [2/50]\n"
          ]
        },
        {
          "name": "stderr",
          "output_type": "stream",
          "text": [
            "Train Epoch 2: 100%|██████████| 77/77 [00:41<00:00,  1.83it/s, WMAPE=2.49, DICE=0.0943, DPEAKS=89.9, Loss=0.00799]\n",
            "Validate Epoch 2: 100%|██████████| 20/20 [00:05<00:00,  3.94it/s, WMAPE=2.67, DICE=0.0964, DPEAKS=91.8, Loss=0.00807]\n"
          ]
        },
        {
          "name": "stdout",
          "output_type": "stream",
          "text": [
            "Saving best model\n",
            "Epoch [3/50]\n"
          ]
        },
        {
          "name": "stderr",
          "output_type": "stream",
          "text": [
            "Train Epoch 3: 100%|██████████| 77/77 [00:42<00:00,  1.83it/s, WMAPE=2.53, DICE=0.0933, DPEAKS=86.5, Loss=0.00812]\n",
            "Validate Epoch 3: 100%|██████████| 20/20 [00:05<00:00,  3.96it/s, WMAPE=2.67, DICE=0.102, DPEAKS=93.7, Loss=0.00835]\n"
          ]
        },
        {
          "name": "stdout",
          "output_type": "stream",
          "text": [
            "Epoch [4/50]\n"
          ]
        },
        {
          "name": "stderr",
          "output_type": "stream",
          "text": [
            "Train Epoch 4: 100%|██████████| 77/77 [00:42<00:00,  1.83it/s, WMAPE=2.28, DICE=0.092, DPEAKS=87, Loss=0.00745]\n",
            "Validate Epoch 4: 100%|██████████| 20/20 [00:05<00:00,  3.92it/s, WMAPE=2.74, DICE=0.0939, DPEAKS=88, Loss=0.00797]\n"
          ]
        },
        {
          "name": "stdout",
          "output_type": "stream",
          "text": [
            "Saving best model\n",
            "Epoch [5/50]\n"
          ]
        },
        {
          "name": "stderr",
          "output_type": "stream",
          "text": [
            "Train Epoch 5: 100%|██████████| 77/77 [00:42<00:00,  1.83it/s, WMAPE=2.33, DICE=0.0914, DPEAKS=85, Loss=0.00746]\n",
            "Validate Epoch 5: 100%|██████████| 20/20 [00:05<00:00,  3.95it/s, WMAPE=4.7, DICE=0.0965, DPEAKS=92.1, Loss=0.0136]\n"
          ]
        },
        {
          "name": "stdout",
          "output_type": "stream",
          "text": [
            "Epoch [6/50]\n"
          ]
        },
        {
          "name": "stderr",
          "output_type": "stream",
          "text": [
            "Train Epoch 6: 100%|██████████| 77/77 [00:42<00:00,  1.83it/s, WMAPE=2.41, DICE=0.091, DPEAKS=84.5, Loss=0.0077]\n",
            "Validate Epoch 6: 100%|██████████| 20/20 [00:05<00:00,  3.95it/s, WMAPE=2.8, DICE=0.0932, DPEAKS=86.4, Loss=0.00803]\n"
          ]
        },
        {
          "name": "stdout",
          "output_type": "stream",
          "text": [
            "Epoch [7/50]\n"
          ]
        },
        {
          "name": "stderr",
          "output_type": "stream",
          "text": [
            "Train Epoch 7: 100%|██████████| 77/77 [00:42<00:00,  1.83it/s, WMAPE=2.38, DICE=0.0912, DPEAKS=85.9, Loss=0.00772]\n",
            "Validate Epoch 7: 100%|██████████| 20/20 [00:05<00:00,  3.88it/s, WMAPE=3.42, DICE=0.0989, DPEAKS=88.2, Loss=0.0111]\n"
          ]
        },
        {
          "name": "stdout",
          "output_type": "stream",
          "text": [
            "Epoch [8/50]\n"
          ]
        },
        {
          "name": "stderr",
          "output_type": "stream",
          "text": [
            "Train Epoch 8: 100%|██████████| 77/77 [00:42<00:00,  1.83it/s, WMAPE=2.21, DICE=0.0905, DPEAKS=84.7, Loss=0.00721]\n",
            "Validate Epoch 8: 100%|██████████| 20/20 [00:05<00:00,  3.92it/s, WMAPE=2.43, DICE=0.0922, DPEAKS=84.8, Loss=0.00783]\n"
          ]
        },
        {
          "name": "stdout",
          "output_type": "stream",
          "text": [
            "Saving best model\n",
            "Epoch [9/50]\n"
          ]
        },
        {
          "name": "stderr",
          "output_type": "stream",
          "text": [
            "Train Epoch 9: 100%|██████████| 77/77 [00:40<00:00,  1.92it/s, WMAPE=2.2, DICE=0.0893, DPEAKS=84.6, Loss=0.00706]\n",
            "Validate Epoch 9: 100%|██████████| 20/20 [00:04<00:00,  4.12it/s, WMAPE=2.83, DICE=0.0935, DPEAKS=84.1, Loss=0.00822]\n"
          ]
        },
        {
          "name": "stdout",
          "output_type": "stream",
          "text": [
            "Epoch [10/50]\n"
          ]
        },
        {
          "name": "stderr",
          "output_type": "stream",
          "text": [
            "Train Epoch 10: 100%|██████████| 77/77 [00:39<00:00,  1.95it/s, WMAPE=2.33, DICE=0.0889, DPEAKS=84.1, Loss=0.00743]\n",
            "Validate Epoch 10: 100%|██████████| 20/20 [00:04<00:00,  4.11it/s, WMAPE=2.65, DICE=0.096, DPEAKS=86.9, Loss=0.00796]\n"
          ]
        },
        {
          "name": "stdout",
          "output_type": "stream",
          "text": [
            "Epoch [11/50]\n"
          ]
        },
        {
          "name": "stderr",
          "output_type": "stream",
          "text": [
            "Train Epoch 11: 100%|██████████| 77/77 [00:39<00:00,  1.95it/s, WMAPE=2.16, DICE=0.088, DPEAKS=81.9, Loss=0.00689]\n",
            "Validate Epoch 11: 100%|██████████| 20/20 [00:04<00:00,  4.11it/s, WMAPE=3.01, DICE=0.0947, DPEAKS=86.7, Loss=0.00952]\n"
          ]
        },
        {
          "name": "stdout",
          "output_type": "stream",
          "text": [
            "Epoch [12/50]\n"
          ]
        },
        {
          "name": "stderr",
          "output_type": "stream",
          "text": [
            "Train Epoch 12: 100%|██████████| 77/77 [00:39<00:00,  1.95it/s, WMAPE=2.13, DICE=0.0874, DPEAKS=81.9, Loss=0.00686]\n",
            "Validate Epoch 12: 100%|██████████| 20/20 [00:04<00:00,  4.11it/s, WMAPE=3.6, DICE=0.0904, DPEAKS=82.6, Loss=0.00987]\n"
          ]
        },
        {
          "name": "stdout",
          "output_type": "stream",
          "text": [
            "Epoch [13/50]\n"
          ]
        },
        {
          "name": "stderr",
          "output_type": "stream",
          "text": [
            "Train Epoch 13: 100%|██████████| 77/77 [00:39<00:00,  1.95it/s, WMAPE=2.05, DICE=0.0868, DPEAKS=80.2, Loss=0.00657]\n",
            "Validate Epoch 13: 100%|██████████| 20/20 [00:04<00:00,  4.13it/s, WMAPE=4.61, DICE=0.0973, DPEAKS=90.4, Loss=0.014]\n"
          ]
        },
        {
          "name": "stdout",
          "output_type": "stream",
          "text": [
            "early stopping: 5 epochs without improvement\n",
            "Training complete.\n"
          ]
        },
        {
          "name": "stderr",
          "output_type": "stream",
          "text": [
            "Validate Epoch test: 100%|██████████| 486/486 [02:34<00:00,  3.14it/s, WMAPE=2.3, DICE=0.0917, DPEAKS=85.6, Loss=0.00778]\n"
          ]
        },
        {
          "name": "stdout",
          "output_type": "stream",
          "text": [
            "Epoch [1/50]\n"
          ]
        },
        {
          "name": "stderr",
          "output_type": "stream",
          "text": [
            "Train Epoch 1: 100%|██████████| 77/77 [00:44<00:00,  1.74it/s, WMAPE=3.26, DICE=0.0981, DPEAKS=91.1, Loss=0.0103]\n",
            "Validate Epoch 1: 100%|██████████| 20/20 [00:06<00:00,  3.29it/s, WMAPE=2.51, DICE=0.0918, DPEAKS=96.3, Loss=0.00784]\n"
          ]
        },
        {
          "name": "stdout",
          "output_type": "stream",
          "text": [
            "Saving best model\n",
            "Epoch [2/50]\n"
          ]
        },
        {
          "name": "stderr",
          "output_type": "stream",
          "text": [
            "Train Epoch 2: 100%|██████████| 77/77 [00:39<00:00,  1.95it/s, WMAPE=2.41, DICE=0.0909, DPEAKS=90.5, Loss=0.00778]\n",
            "Validate Epoch 2: 100%|██████████| 20/20 [00:04<00:00,  4.12it/s, WMAPE=2.78, DICE=0.093, DPEAKS=90, Loss=0.00833]\n"
          ]
        },
        {
          "name": "stdout",
          "output_type": "stream",
          "text": [
            "Epoch [3/50]\n"
          ]
        },
        {
          "name": "stderr",
          "output_type": "stream",
          "text": [
            "Train Epoch 3: 100%|██████████| 77/77 [00:39<00:00,  1.95it/s, WMAPE=2.39, DICE=0.0897, DPEAKS=87.3, Loss=0.0076]\n",
            "Validate Epoch 3: 100%|██████████| 20/20 [00:04<00:00,  4.09it/s, WMAPE=2.58, DICE=0.091, DPEAKS=83.5, Loss=0.00802]\n"
          ]
        },
        {
          "name": "stdout",
          "output_type": "stream",
          "text": [
            "Epoch [4/50]\n"
          ]
        },
        {
          "name": "stderr",
          "output_type": "stream",
          "text": [
            "Train Epoch 4: 100%|██████████| 77/77 [00:39<00:00,  1.95it/s, WMAPE=2.3, DICE=0.0897, DPEAKS=85.5, Loss=0.00737]\n",
            "Validate Epoch 4: 100%|██████████| 20/20 [00:04<00:00,  4.07it/s, WMAPE=4.28, DICE=0.091, DPEAKS=91.2, Loss=0.0133]\n"
          ]
        },
        {
          "name": "stdout",
          "output_type": "stream",
          "text": [
            "Epoch [5/50]\n"
          ]
        },
        {
          "name": "stderr",
          "output_type": "stream",
          "text": [
            "Train Epoch 5: 100%|██████████| 77/77 [00:39<00:00,  1.95it/s, WMAPE=2.37, DICE=0.0897, DPEAKS=85.8, Loss=0.00762]\n",
            "Validate Epoch 5: 100%|██████████| 20/20 [00:04<00:00,  4.08it/s, WMAPE=2.35, DICE=0.0917, DPEAKS=82.9, Loss=0.00752]\n"
          ]
        },
        {
          "name": "stdout",
          "output_type": "stream",
          "text": [
            "Saving best model\n",
            "Epoch [6/50]\n"
          ]
        },
        {
          "name": "stderr",
          "output_type": "stream",
          "text": [
            "Train Epoch 6: 100%|██████████| 77/77 [00:39<00:00,  1.95it/s, WMAPE=2.16, DICE=0.0885, DPEAKS=83.1, Loss=0.007]\n",
            "Validate Epoch 6: 100%|██████████| 20/20 [00:04<00:00,  4.16it/s, WMAPE=4.14, DICE=0.092, DPEAKS=79.3, Loss=0.0117]\n"
          ]
        },
        {
          "name": "stdout",
          "output_type": "stream",
          "text": [
            "Epoch [7/50]\n"
          ]
        },
        {
          "name": "stderr",
          "output_type": "stream",
          "text": [
            "Train Epoch 7: 100%|██████████| 77/77 [00:39<00:00,  1.95it/s, WMAPE=2.22, DICE=0.0882, DPEAKS=82.8, Loss=0.00705]\n",
            "Validate Epoch 7: 100%|██████████| 20/20 [00:04<00:00,  4.14it/s, WMAPE=4.03, DICE=0.0893, DPEAKS=77.8, Loss=0.0113]\n"
          ]
        },
        {
          "name": "stdout",
          "output_type": "stream",
          "text": [
            "Epoch [8/50]\n"
          ]
        },
        {
          "name": "stderr",
          "output_type": "stream",
          "text": [
            "Train Epoch 8: 100%|██████████| 77/77 [00:39<00:00,  1.95it/s, WMAPE=2.07, DICE=0.0867, DPEAKS=82.2, Loss=0.00665]\n",
            "Validate Epoch 8: 100%|██████████| 20/20 [00:04<00:00,  4.12it/s, WMAPE=3.42, DICE=0.0914, DPEAKS=80.6, Loss=0.00967]\n"
          ]
        },
        {
          "name": "stdout",
          "output_type": "stream",
          "text": [
            "Epoch [9/50]\n"
          ]
        },
        {
          "name": "stderr",
          "output_type": "stream",
          "text": [
            "Train Epoch 9: 100%|██████████| 77/77 [00:41<00:00,  1.84it/s, WMAPE=2.19, DICE=0.0866, DPEAKS=80.4, Loss=0.00691]\n",
            "Validate Epoch 9: 100%|██████████| 20/20 [00:05<00:00,  3.97it/s, WMAPE=2.57, DICE=0.0928, DPEAKS=85.9, Loss=0.00789]\n"
          ]
        },
        {
          "name": "stdout",
          "output_type": "stream",
          "text": [
            "Epoch [10/50]\n"
          ]
        },
        {
          "name": "stderr",
          "output_type": "stream",
          "text": [
            "Train Epoch 10: 100%|██████████| 77/77 [00:41<00:00,  1.84it/s, WMAPE=2.2, DICE=0.0858, DPEAKS=80.9, Loss=0.00692]\n",
            "Validate Epoch 10: 100%|██████████| 20/20 [00:05<00:00,  3.91it/s, WMAPE=2.41, DICE=0.0898, DPEAKS=80.9, Loss=0.00784]\n"
          ]
        },
        {
          "name": "stdout",
          "output_type": "stream",
          "text": [
            "early stopping: 5 epochs without improvement\n",
            "Training complete.\n"
          ]
        },
        {
          "name": "stderr",
          "output_type": "stream",
          "text": [
            "Validate Epoch test: 100%|██████████| 486/486 [02:41<00:00,  3.01it/s, WMAPE=2.3, DICE=0.0913, DPEAKS=83.6, Loss=0.00744]\n"
          ]
        },
        {
          "name": "stdout",
          "output_type": "stream",
          "text": [
            "Epoch [1/50]\n"
          ]
        },
        {
          "name": "stderr",
          "output_type": "stream",
          "text": [
            "Train Epoch 1: 100%|██████████| 77/77 [00:46<00:00,  1.64it/s, WMAPE=2.95, DICE=0.0959, DPEAKS=89.6, Loss=0.00936]\n",
            "Validate Epoch 1: 100%|██████████| 20/20 [00:06<00:00,  3.17it/s, WMAPE=2.38, DICE=0.0924, DPEAKS=86.6, Loss=0.00796]\n"
          ]
        },
        {
          "name": "stdout",
          "output_type": "stream",
          "text": [
            "Saving best model\n",
            "Epoch [2/50]\n"
          ]
        },
        {
          "name": "stderr",
          "output_type": "stream",
          "text": [
            "Train Epoch 2: 100%|██████████| 77/77 [00:41<00:00,  1.83it/s, WMAPE=2.32, DICE=0.089, DPEAKS=86.9, Loss=0.00751]\n",
            "Validate Epoch 2: 100%|██████████| 20/20 [00:05<00:00,  3.92it/s, WMAPE=2.67, DICE=0.0897, DPEAKS=83.5, Loss=0.0086]\n"
          ]
        },
        {
          "name": "stdout",
          "output_type": "stream",
          "text": [
            "Epoch [3/50]\n"
          ]
        },
        {
          "name": "stderr",
          "output_type": "stream",
          "text": [
            "Train Epoch 3: 100%|██████████| 77/77 [00:42<00:00,  1.83it/s, WMAPE=2.29, DICE=0.0883, DPEAKS=85.2, Loss=0.00735]\n",
            "Validate Epoch 3: 100%|██████████| 20/20 [00:05<00:00,  3.94it/s, WMAPE=2.55, DICE=0.0904, DPEAKS=87.8, Loss=0.00773]\n"
          ]
        },
        {
          "name": "stdout",
          "output_type": "stream",
          "text": [
            "Saving best model\n",
            "Epoch [4/50]\n"
          ]
        },
        {
          "name": "stderr",
          "output_type": "stream",
          "text": [
            "Train Epoch 4: 100%|██████████| 77/77 [00:41<00:00,  1.84it/s, WMAPE=2.19, DICE=0.0876, DPEAKS=83.6, Loss=0.00701]\n",
            "Validate Epoch 4: 100%|██████████| 20/20 [00:05<00:00,  3.96it/s, WMAPE=2.45, DICE=0.0924, DPEAKS=83.4, Loss=0.00777]\n"
          ]
        },
        {
          "name": "stdout",
          "output_type": "stream",
          "text": [
            "Epoch [5/50]\n"
          ]
        },
        {
          "name": "stderr",
          "output_type": "stream",
          "text": [
            "Train Epoch 5: 100%|██████████| 77/77 [00:41<00:00,  1.84it/s, WMAPE=2.12, DICE=0.0876, DPEAKS=82.8, Loss=0.0068]\n",
            "Validate Epoch 5: 100%|██████████| 20/20 [00:05<00:00,  3.86it/s, WMAPE=2.52, DICE=0.0895, DPEAKS=80, Loss=0.00785]\n"
          ]
        },
        {
          "name": "stdout",
          "output_type": "stream",
          "text": [
            "Epoch [6/50]\n"
          ]
        },
        {
          "name": "stderr",
          "output_type": "stream",
          "text": [
            "Train Epoch 6: 100%|██████████| 77/77 [00:41<00:00,  1.84it/s, WMAPE=2.2, DICE=0.0869, DPEAKS=81.5, Loss=0.00702]\n",
            "Validate Epoch 6: 100%|██████████| 20/20 [00:05<00:00,  3.85it/s, WMAPE=2.38, DICE=0.089, DPEAKS=81.3, Loss=0.00813]\n"
          ]
        },
        {
          "name": "stdout",
          "output_type": "stream",
          "text": [
            "Epoch [7/50]\n"
          ]
        },
        {
          "name": "stderr",
          "output_type": "stream",
          "text": [
            "Train Epoch 7: 100%|██████████| 77/77 [00:41<00:00,  1.83it/s, WMAPE=2.19, DICE=0.0863, DPEAKS=82, Loss=0.00693]\n",
            "Validate Epoch 7: 100%|██████████| 20/20 [00:05<00:00,  3.91it/s, WMAPE=2.74, DICE=0.0933, DPEAKS=83.9, Loss=0.00922]\n"
          ]
        },
        {
          "name": "stdout",
          "output_type": "stream",
          "text": [
            "Epoch [8/50]\n"
          ]
        },
        {
          "name": "stderr",
          "output_type": "stream",
          "text": [
            "Train Epoch 8: 100%|██████████| 77/77 [00:41<00:00,  1.83it/s, WMAPE=2.26, DICE=0.0864, DPEAKS=82, Loss=0.00717]\n",
            "Validate Epoch 8: 100%|██████████| 20/20 [00:05<00:00,  3.91it/s, WMAPE=3.91, DICE=0.0881, DPEAKS=77.2, Loss=0.0114]\n"
          ]
        },
        {
          "name": "stdout",
          "output_type": "stream",
          "text": [
            "early stopping: 5 epochs without improvement\n",
            "Training complete.\n"
          ]
        },
        {
          "name": "stderr",
          "output_type": "stream",
          "text": [
            "Validate Epoch test: 100%|██████████| 486/486 [02:42<00:00,  3.00it/s, WMAPE=2.55, DICE=0.0903, DPEAKS=90.4, Loss=0.00765]\n"
          ]
        },
        {
          "name": "stdout",
          "output_type": "stream",
          "text": [
            "Epoch [1/50]\n"
          ]
        },
        {
          "name": "stderr",
          "output_type": "stream",
          "text": [
            "Train Epoch 1: 100%|██████████| 77/77 [00:46<00:00,  1.64it/s, WMAPE=2.9, DICE=0.0943, DPEAKS=88.4, Loss=0.00923]\n",
            "Validate Epoch 1: 100%|██████████| 20/20 [00:06<00:00,  3.17it/s, WMAPE=2.57, DICE=0.0921, DPEAKS=90.2, Loss=0.00808]\n"
          ]
        },
        {
          "name": "stdout",
          "output_type": "stream",
          "text": [
            "Saving best model\n",
            "Epoch [2/50]\n"
          ]
        },
        {
          "name": "stderr",
          "output_type": "stream",
          "text": [
            "Train Epoch 2: 100%|██████████| 77/77 [00:41<00:00,  1.83it/s, WMAPE=2.32, DICE=0.0889, DPEAKS=85.6, Loss=0.00761]\n",
            "Validate Epoch 2: 100%|██████████| 20/20 [00:05<00:00,  3.92it/s, WMAPE=2.46, DICE=0.0912, DPEAKS=89.1, Loss=0.00758]\n"
          ]
        },
        {
          "name": "stdout",
          "output_type": "stream",
          "text": [
            "Saving best model\n",
            "Epoch [3/50]\n"
          ]
        },
        {
          "name": "stderr",
          "output_type": "stream",
          "text": [
            "Train Epoch 3: 100%|██████████| 77/77 [00:41<00:00,  1.86it/s, WMAPE=2.16, DICE=0.0876, DPEAKS=82.2, Loss=0.007]\n",
            "Validate Epoch 3: 100%|██████████| 20/20 [00:04<00:00,  4.11it/s, WMAPE=5.17, DICE=0.0882, DPEAKS=81.3, Loss=0.0138]\n"
          ]
        },
        {
          "name": "stdout",
          "output_type": "stream",
          "text": [
            "Epoch [4/50]\n"
          ]
        },
        {
          "name": "stderr",
          "output_type": "stream",
          "text": [
            "Train Epoch 4: 100%|██████████| 77/77 [00:39<00:00,  1.95it/s, WMAPE=2.25, DICE=0.0869, DPEAKS=80.7, Loss=0.00731]\n",
            "Validate Epoch 4: 100%|██████████| 20/20 [00:04<00:00,  4.11it/s, WMAPE=3.61, DICE=0.0909, DPEAKS=83.7, Loss=0.00991]\n"
          ]
        },
        {
          "name": "stdout",
          "output_type": "stream",
          "text": [
            "Epoch [5/50]\n"
          ]
        },
        {
          "name": "stderr",
          "output_type": "stream",
          "text": [
            "Train Epoch 5: 100%|██████████| 77/77 [00:39<00:00,  1.95it/s, WMAPE=2.12, DICE=0.0865, DPEAKS=79.5, Loss=0.00687]\n",
            "Validate Epoch 5: 100%|██████████| 20/20 [00:04<00:00,  4.09it/s, WMAPE=3.9, DICE=0.0886, DPEAKS=81.3, Loss=0.0105]\n"
          ]
        },
        {
          "name": "stdout",
          "output_type": "stream",
          "text": [
            "Epoch [6/50]\n"
          ]
        },
        {
          "name": "stderr",
          "output_type": "stream",
          "text": [
            "Train Epoch 6: 100%|██████████| 77/77 [00:39<00:00,  1.95it/s, WMAPE=2.26, DICE=0.0866, DPEAKS=80.6, Loss=0.00726]\n",
            "Validate Epoch 6: 100%|██████████| 20/20 [00:04<00:00,  4.16it/s, WMAPE=2.44, DICE=0.0896, DPEAKS=81.7, Loss=0.00736]\n"
          ]
        },
        {
          "name": "stdout",
          "output_type": "stream",
          "text": [
            "Saving best model\n",
            "Epoch [7/50]\n"
          ]
        },
        {
          "name": "stderr",
          "output_type": "stream",
          "text": [
            "Train Epoch 7: 100%|██████████| 77/77 [00:39<00:00,  1.95it/s, WMAPE=2.07, DICE=0.0861, DPEAKS=79.9, Loss=0.00678]\n",
            "Validate Epoch 7: 100%|██████████| 20/20 [00:04<00:00,  4.14it/s, WMAPE=2.39, DICE=0.087, DPEAKS=83.5, Loss=0.00725]\n"
          ]
        },
        {
          "name": "stdout",
          "output_type": "stream",
          "text": [
            "Saving best model\n",
            "Epoch [8/50]\n"
          ]
        },
        {
          "name": "stderr",
          "output_type": "stream",
          "text": [
            "Train Epoch 8: 100%|██████████| 77/77 [00:39<00:00,  1.95it/s, WMAPE=2.02, DICE=0.0848, DPEAKS=78, Loss=0.00656]\n",
            "Validate Epoch 8: 100%|██████████| 20/20 [00:04<00:00,  4.11it/s, WMAPE=2.5, DICE=0.0907, DPEAKS=82.9, Loss=0.00752]\n"
          ]
        },
        {
          "name": "stdout",
          "output_type": "stream",
          "text": [
            "Epoch [9/50]\n"
          ]
        },
        {
          "name": "stderr",
          "output_type": "stream",
          "text": [
            "Train Epoch 9: 100%|██████████| 77/77 [00:39<00:00,  1.95it/s, WMAPE=1.99, DICE=0.0844, DPEAKS=77.6, Loss=0.00645]\n",
            "Validate Epoch 9: 100%|██████████| 20/20 [00:04<00:00,  4.11it/s, WMAPE=2.6, DICE=0.0873, DPEAKS=81.7, Loss=0.00746]\n"
          ]
        },
        {
          "name": "stdout",
          "output_type": "stream",
          "text": [
            "Epoch [10/50]\n"
          ]
        },
        {
          "name": "stderr",
          "output_type": "stream",
          "text": [
            "Train Epoch 10: 100%|██████████| 77/77 [00:40<00:00,  1.89it/s, WMAPE=1.96, DICE=0.084, DPEAKS=77.1, Loss=0.00637]\n",
            "Validate Epoch 10: 100%|██████████| 20/20 [00:05<00:00,  3.92it/s, WMAPE=2.5, DICE=0.094, DPEAKS=83.6, Loss=0.00791]\n"
          ]
        },
        {
          "name": "stdout",
          "output_type": "stream",
          "text": [
            "Epoch [11/50]\n"
          ]
        },
        {
          "name": "stderr",
          "output_type": "stream",
          "text": [
            "Train Epoch 11: 100%|██████████| 77/77 [00:42<00:00,  1.83it/s, WMAPE=1.95, DICE=0.084, DPEAKS=73.9, Loss=0.00635]\n",
            "Validate Epoch 11: 100%|██████████| 20/20 [00:05<00:00,  3.91it/s, WMAPE=2.66, DICE=0.0927, DPEAKS=82.4, Loss=0.0084]\n"
          ]
        },
        {
          "name": "stdout",
          "output_type": "stream",
          "text": [
            "Epoch [12/50]\n"
          ]
        },
        {
          "name": "stderr",
          "output_type": "stream",
          "text": [
            "Train Epoch 12: 100%|██████████| 77/77 [00:41<00:00,  1.84it/s, WMAPE=2.1, DICE=0.0829, DPEAKS=73.5, Loss=0.00673]\n",
            "Validate Epoch 12: 100%|██████████| 20/20 [00:05<00:00,  3.93it/s, WMAPE=4.06, DICE=0.086, DPEAKS=81.4, Loss=0.0111]\n"
          ]
        },
        {
          "name": "stdout",
          "output_type": "stream",
          "text": [
            "early stopping: 5 epochs without improvement\n",
            "Training complete.\n"
          ]
        },
        {
          "name": "stderr",
          "output_type": "stream",
          "text": [
            "Validate Epoch test: 100%|██████████| 486/486 [02:42<00:00,  2.99it/s, WMAPE=2.23, DICE=0.0864, DPEAKS=81.5, Loss=0.00713]\n"
          ]
        },
        {
          "name": "stdout",
          "output_type": "stream",
          "text": [
            "Epoch [1/50]\n"
          ]
        },
        {
          "name": "stderr",
          "output_type": "stream",
          "text": [
            "Train Epoch 1: 100%|██████████| 77/77 [00:46<00:00,  1.64it/s, WMAPE=2.84, DICE=0.0913, DPEAKS=82.2, Loss=0.00882]\n",
            "Validate Epoch 1: 100%|██████████| 20/20 [00:06<00:00,  3.18it/s, WMAPE=2.75, DICE=0.091, DPEAKS=86.3, Loss=0.00838]\n"
          ]
        },
        {
          "name": "stdout",
          "output_type": "stream",
          "text": [
            "Saving best model\n",
            "Epoch [2/50]\n"
          ]
        },
        {
          "name": "stderr",
          "output_type": "stream",
          "text": [
            "Train Epoch 2: 100%|██████████| 77/77 [00:41<00:00,  1.84it/s, WMAPE=2.35, DICE=0.0867, DPEAKS=82.7, Loss=0.00741]\n",
            "Validate Epoch 2: 100%|██████████| 20/20 [00:05<00:00,  3.98it/s, WMAPE=2.47, DICE=0.0898, DPEAKS=87.6, Loss=0.00798]\n"
          ]
        },
        {
          "name": "stdout",
          "output_type": "stream",
          "text": [
            "Saving best model\n",
            "Epoch [3/50]\n"
          ]
        },
        {
          "name": "stderr",
          "output_type": "stream",
          "text": [
            "Train Epoch 3: 100%|██████████| 77/77 [00:41<00:00,  1.84it/s, WMAPE=2.31, DICE=0.0867, DPEAKS=82.5, Loss=0.00732]\n",
            "Validate Epoch 3: 100%|██████████| 20/20 [00:05<00:00,  3.92it/s, WMAPE=2.35, DICE=0.086, DPEAKS=89.2, Loss=0.00722]\n"
          ]
        },
        {
          "name": "stdout",
          "output_type": "stream",
          "text": [
            "Saving best model\n",
            "Epoch [4/50]\n"
          ]
        },
        {
          "name": "stderr",
          "output_type": "stream",
          "text": [
            "Train Epoch 4: 100%|██████████| 77/77 [00:42<00:00,  1.83it/s, WMAPE=2.21, DICE=0.0862, DPEAKS=81.9, Loss=0.00703]\n",
            "Validate Epoch 4: 100%|██████████| 20/20 [00:05<00:00,  3.96it/s, WMAPE=3.63, DICE=0.0927, DPEAKS=85.8, Loss=0.0107]\n"
          ]
        },
        {
          "name": "stdout",
          "output_type": "stream",
          "text": [
            "Epoch [5/50]\n"
          ]
        },
        {
          "name": "stderr",
          "output_type": "stream",
          "text": [
            "Train Epoch 5: 100%|██████████| 77/77 [00:41<00:00,  1.83it/s, WMAPE=2.14, DICE=0.0852, DPEAKS=80.4, Loss=0.00674]\n",
            "Validate Epoch 5: 100%|██████████| 20/20 [00:05<00:00,  3.94it/s, WMAPE=2.6, DICE=0.0866, DPEAKS=82.7, Loss=0.00853]\n"
          ]
        },
        {
          "name": "stdout",
          "output_type": "stream",
          "text": [
            "Epoch [6/50]\n"
          ]
        },
        {
          "name": "stderr",
          "output_type": "stream",
          "text": [
            "Train Epoch 6: 100%|██████████| 77/77 [00:42<00:00,  1.83it/s, WMAPE=2.09, DICE=0.0848, DPEAKS=79.1, Loss=0.00664]\n",
            "Validate Epoch 6: 100%|██████████| 20/20 [00:05<00:00,  3.94it/s, WMAPE=2.88, DICE=0.0908, DPEAKS=85.6, Loss=0.00938]\n"
          ]
        },
        {
          "name": "stdout",
          "output_type": "stream",
          "text": [
            "Epoch [7/50]\n"
          ]
        },
        {
          "name": "stderr",
          "output_type": "stream",
          "text": [
            "Train Epoch 7: 100%|██████████| 77/77 [00:42<00:00,  1.83it/s, WMAPE=2.08, DICE=0.0838, DPEAKS=79.4, Loss=0.00656]\n",
            "Validate Epoch 7: 100%|██████████| 20/20 [00:05<00:00,  3.81it/s, WMAPE=2.76, DICE=0.0889, DPEAKS=81.9, Loss=0.00864]\n"
          ]
        },
        {
          "name": "stdout",
          "output_type": "stream",
          "text": [
            "Epoch [8/50]\n"
          ]
        },
        {
          "name": "stderr",
          "output_type": "stream",
          "text": [
            "Train Epoch 8: 100%|██████████| 77/77 [00:42<00:00,  1.83it/s, WMAPE=2.24, DICE=0.0842, DPEAKS=77.9, Loss=0.007]\n",
            "Validate Epoch 8: 100%|██████████| 20/20 [00:05<00:00,  3.94it/s, WMAPE=2.24, DICE=0.0864, DPEAKS=81, Loss=0.00716]\n"
          ]
        },
        {
          "name": "stdout",
          "output_type": "stream",
          "text": [
            "Saving best model\n",
            "Epoch [9/50]\n"
          ]
        },
        {
          "name": "stderr",
          "output_type": "stream",
          "text": [
            "Train Epoch 9: 100%|██████████| 77/77 [00:41<00:00,  1.84it/s, WMAPE=2.07, DICE=0.0836, DPEAKS=78.6, Loss=0.00653]\n",
            "Validate Epoch 9: 100%|██████████| 20/20 [00:05<00:00,  3.89it/s, WMAPE=3.02, DICE=0.0848, DPEAKS=79.6, Loss=0.00965]\n"
          ]
        },
        {
          "name": "stdout",
          "output_type": "stream",
          "text": [
            "Epoch [10/50]\n"
          ]
        },
        {
          "name": "stderr",
          "output_type": "stream",
          "text": [
            "Train Epoch 10: 100%|██████████| 77/77 [00:41<00:00,  1.83it/s, WMAPE=2.27, DICE=0.0833, DPEAKS=78.7, Loss=0.00708]\n",
            "Validate Epoch 10: 100%|██████████| 20/20 [00:05<00:00,  3.93it/s, WMAPE=2.81, DICE=0.0858, DPEAKS=75.9, Loss=0.00839]\n"
          ]
        },
        {
          "name": "stdout",
          "output_type": "stream",
          "text": [
            "Epoch [11/50]\n"
          ]
        },
        {
          "name": "stderr",
          "output_type": "stream",
          "text": [
            "Train Epoch 11: 100%|██████████| 77/77 [00:41<00:00,  1.83it/s, WMAPE=2.17, DICE=0.0831, DPEAKS=79.3, Loss=0.00686]\n",
            "Validate Epoch 11: 100%|██████████| 20/20 [00:05<00:00,  3.91it/s, WMAPE=2.36, DICE=0.0847, DPEAKS=83.4, Loss=0.00718]\n"
          ]
        },
        {
          "name": "stdout",
          "output_type": "stream",
          "text": [
            "Epoch [12/50]\n"
          ]
        },
        {
          "name": "stderr",
          "output_type": "stream",
          "text": [
            "Train Epoch 12: 100%|██████████| 77/77 [00:42<00:00,  1.83it/s, WMAPE=1.96, DICE=0.0824, DPEAKS=79.3, Loss=0.00619]\n",
            "Validate Epoch 12: 100%|██████████| 20/20 [00:05<00:00,  3.93it/s, WMAPE=4.41, DICE=0.088, DPEAKS=77.2, Loss=0.0123]\n"
          ]
        },
        {
          "name": "stdout",
          "output_type": "stream",
          "text": [
            "Epoch [13/50]\n"
          ]
        },
        {
          "name": "stderr",
          "output_type": "stream",
          "text": [
            "Train Epoch 13: 100%|██████████| 77/77 [00:42<00:00,  1.83it/s, WMAPE=2.06, DICE=0.0817, DPEAKS=77.2, Loss=0.00648]\n",
            "Validate Epoch 13: 100%|██████████| 20/20 [00:05<00:00,  3.92it/s, WMAPE=4.04, DICE=0.0879, DPEAKS=75.9, Loss=0.0115]\n"
          ]
        },
        {
          "name": "stdout",
          "output_type": "stream",
          "text": [
            "early stopping: 5 epochs without improvement\n",
            "Training complete.\n"
          ]
        },
        {
          "name": "stderr",
          "output_type": "stream",
          "text": [
            "Validate Epoch test: 100%|██████████| 486/486 [02:35<00:00,  3.12it/s, WMAPE=2.25, DICE=0.0865, DPEAKS=81.8, Loss=0.00716]\n"
          ]
        },
        {
          "name": "stdout",
          "output_type": "stream",
          "text": [
            "Epoch [1/50]\n"
          ]
        },
        {
          "name": "stderr",
          "output_type": "stream",
          "text": [
            "Train Epoch 1: 100%|██████████| 77/77 [00:44<00:00,  1.73it/s, WMAPE=2.84, DICE=0.0913, DPEAKS=82.7, Loss=0.00872]\n",
            "Validate Epoch 1: 100%|██████████| 20/20 [00:06<00:00,  3.25it/s, WMAPE=2.08, DICE=0.0859, DPEAKS=83.7, Loss=0.00695]\n"
          ]
        },
        {
          "name": "stdout",
          "output_type": "stream",
          "text": [
            "Saving best model\n",
            "Epoch [2/50]\n"
          ]
        },
        {
          "name": "stderr",
          "output_type": "stream",
          "text": [
            "Train Epoch 2: 100%|██████████| 77/77 [00:39<00:00,  1.96it/s, WMAPE=2.27, DICE=0.0857, DPEAKS=79.9, Loss=0.00714]\n",
            "Validate Epoch 2: 100%|██████████| 20/20 [00:04<00:00,  4.16it/s, WMAPE=2.32, DICE=0.085, DPEAKS=83.1, Loss=0.00779]\n"
          ]
        },
        {
          "name": "stdout",
          "output_type": "stream",
          "text": [
            "Epoch [3/50]\n"
          ]
        },
        {
          "name": "stderr",
          "output_type": "stream",
          "text": [
            "Train Epoch 3: 100%|██████████| 77/77 [00:39<00:00,  1.96it/s, WMAPE=2.2, DICE=0.0848, DPEAKS=79.5, Loss=0.00685]\n",
            "Validate Epoch 3: 100%|██████████| 20/20 [00:04<00:00,  4.09it/s, WMAPE=2.31, DICE=0.0871, DPEAKS=80.1, Loss=0.00731]\n"
          ]
        },
        {
          "name": "stdout",
          "output_type": "stream",
          "text": [
            "Epoch [4/50]\n"
          ]
        },
        {
          "name": "stderr",
          "output_type": "stream",
          "text": [
            "Train Epoch 4: 100%|██████████| 77/77 [00:39<00:00,  1.94it/s, WMAPE=2.24, DICE=0.0843, DPEAKS=78, Loss=0.00704]\n",
            "Validate Epoch 4: 100%|██████████| 20/20 [00:04<00:00,  4.10it/s, WMAPE=2.21, DICE=0.0885, DPEAKS=84.2, Loss=0.00729]\n"
          ]
        },
        {
          "name": "stdout",
          "output_type": "stream",
          "text": [
            "Epoch [5/50]\n"
          ]
        },
        {
          "name": "stderr",
          "output_type": "stream",
          "text": [
            "Train Epoch 5: 100%|██████████| 77/77 [00:39<00:00,  1.95it/s, WMAPE=2.3, DICE=0.0844, DPEAKS=78.4, Loss=0.00725]\n",
            "Validate Epoch 5: 100%|██████████| 20/20 [00:04<00:00,  4.14it/s, WMAPE=3.26, DICE=0.0877, DPEAKS=78.8, Loss=0.00971]\n"
          ]
        },
        {
          "name": "stdout",
          "output_type": "stream",
          "text": [
            "Epoch [6/50]\n"
          ]
        },
        {
          "name": "stderr",
          "output_type": "stream",
          "text": [
            "Train Epoch 6: 100%|██████████| 77/77 [00:39<00:00,  1.95it/s, WMAPE=2.2, DICE=0.0839, DPEAKS=79.1, Loss=0.00688]\n",
            "Validate Epoch 6: 100%|██████████| 20/20 [00:04<00:00,  4.14it/s, WMAPE=3.8, DICE=0.0855, DPEAKS=78.1, Loss=0.0111]\n"
          ]
        },
        {
          "name": "stdout",
          "output_type": "stream",
          "text": [
            "early stopping: 5 epochs without improvement\n",
            "Training complete.\n"
          ]
        },
        {
          "name": "stderr",
          "output_type": "stream",
          "text": [
            "Validate Epoch test: 100%|██████████| 486/486 [02:34<00:00,  3.15it/s, WMAPE=2.13, DICE=0.0854, DPEAKS=81.9, Loss=0.00697]\n"
          ]
        },
        {
          "name": "stdout",
          "output_type": "stream",
          "text": [
            "Epoch [1/50]\n"
          ]
        },
        {
          "name": "stderr",
          "output_type": "stream",
          "text": [
            "Train Epoch 1: 100%|██████████| 77/77 [00:44<00:00,  1.73it/s, WMAPE=2.68, DICE=0.0888, DPEAKS=83.4, Loss=0.00835]\n",
            "Validate Epoch 1: 100%|██████████| 20/20 [00:06<00:00,  3.15it/s, WMAPE=2.67, DICE=0.0891, DPEAKS=81.7, Loss=0.00804]\n"
          ]
        },
        {
          "name": "stdout",
          "output_type": "stream",
          "text": [
            "Saving best model\n",
            "Epoch [2/50]\n"
          ]
        },
        {
          "name": "stderr",
          "output_type": "stream",
          "text": [
            "Train Epoch 2: 100%|██████████| 77/77 [00:41<00:00,  1.84it/s, WMAPE=2.35, DICE=0.0858, DPEAKS=83.4, Loss=0.00739]\n",
            "Validate Epoch 2: 100%|██████████| 20/20 [00:05<00:00,  3.99it/s, WMAPE=2.19, DICE=0.0854, DPEAKS=77.3, Loss=0.0071]\n"
          ]
        },
        {
          "name": "stdout",
          "output_type": "stream",
          "text": [
            "Saving best model\n",
            "Epoch [3/50]\n"
          ]
        },
        {
          "name": "stderr",
          "output_type": "stream",
          "text": [
            "Train Epoch 3: 100%|██████████| 77/77 [00:41<00:00,  1.83it/s, WMAPE=2.27, DICE=0.0852, DPEAKS=81.8, Loss=0.00716]\n",
            "Validate Epoch 3: 100%|██████████| 20/20 [00:05<00:00,  3.91it/s, WMAPE=2.4, DICE=0.0862, DPEAKS=78, Loss=0.00732]\n"
          ]
        },
        {
          "name": "stdout",
          "output_type": "stream",
          "text": [
            "Epoch [4/50]\n"
          ]
        },
        {
          "name": "stderr",
          "output_type": "stream",
          "text": [
            "Train Epoch 4: 100%|██████████| 77/77 [00:42<00:00,  1.83it/s, WMAPE=2.16, DICE=0.0844, DPEAKS=81.5, Loss=0.00677]\n",
            "Validate Epoch 4: 100%|██████████| 20/20 [00:05<00:00,  3.89it/s, WMAPE=2.08, DICE=0.0858, DPEAKS=76.2, Loss=0.00707]\n"
          ]
        },
        {
          "name": "stdout",
          "output_type": "stream",
          "text": [
            "Saving best model\n",
            "Epoch [5/50]\n"
          ]
        },
        {
          "name": "stderr",
          "output_type": "stream",
          "text": [
            "Train Epoch 5: 100%|██████████| 77/77 [00:42<00:00,  1.83it/s, WMAPE=2.17, DICE=0.0843, DPEAKS=80.5, Loss=0.00688]\n",
            "Validate Epoch 5: 100%|██████████| 20/20 [00:05<00:00,  3.92it/s, WMAPE=2.34, DICE=0.0861, DPEAKS=84.6, Loss=0.00722]\n"
          ]
        },
        {
          "name": "stdout",
          "output_type": "stream",
          "text": [
            "Epoch [6/50]\n"
          ]
        },
        {
          "name": "stderr",
          "output_type": "stream",
          "text": [
            "Train Epoch 6: 100%|██████████| 77/77 [00:41<00:00,  1.84it/s, WMAPE=2.14, DICE=0.0838, DPEAKS=81.8, Loss=0.00673]\n",
            "Validate Epoch 6: 100%|██████████| 20/20 [00:05<00:00,  3.89it/s, WMAPE=2.21, DICE=0.0841, DPEAKS=78.7, Loss=0.00745]\n"
          ]
        },
        {
          "name": "stdout",
          "output_type": "stream",
          "text": [
            "Epoch [7/50]\n"
          ]
        },
        {
          "name": "stderr",
          "output_type": "stream",
          "text": [
            "Train Epoch 7: 100%|██████████| 77/77 [00:42<00:00,  1.83it/s, WMAPE=2.44, DICE=0.083, DPEAKS=79.8, Loss=0.00767]\n",
            "Validate Epoch 7: 100%|██████████| 20/20 [00:05<00:00,  3.93it/s, WMAPE=2.74, DICE=0.0839, DPEAKS=76.8, Loss=0.00824]\n"
          ]
        },
        {
          "name": "stdout",
          "output_type": "stream",
          "text": [
            "Epoch [8/50]\n"
          ]
        },
        {
          "name": "stderr",
          "output_type": "stream",
          "text": [
            "Train Epoch 8: 100%|██████████| 77/77 [00:42<00:00,  1.83it/s, WMAPE=2.05, DICE=0.0826, DPEAKS=80.6, Loss=0.00655]\n",
            "Validate Epoch 8: 100%|██████████| 20/20 [00:05<00:00,  3.94it/s, WMAPE=4.01, DICE=0.0862, DPEAKS=76.7, Loss=0.0114]\n"
          ]
        },
        {
          "name": "stdout",
          "output_type": "stream",
          "text": [
            "Epoch [9/50]\n"
          ]
        },
        {
          "name": "stderr",
          "output_type": "stream",
          "text": [
            "Train Epoch 9: 100%|██████████| 77/77 [00:41<00:00,  1.84it/s, WMAPE=2.02, DICE=0.0824, DPEAKS=80.2, Loss=0.00636]\n",
            "Validate Epoch 9: 100%|██████████| 20/20 [00:05<00:00,  3.91it/s, WMAPE=3.04, DICE=0.0859, DPEAKS=75.9, Loss=0.00887]\n"
          ]
        },
        {
          "name": "stdout",
          "output_type": "stream",
          "text": [
            "early stopping: 5 epochs without improvement\n",
            "Training complete.\n"
          ]
        },
        {
          "name": "stderr",
          "output_type": "stream",
          "text": [
            "Validate Epoch test: 100%|██████████| 486/486 [02:42<00:00,  3.00it/s, WMAPE=2.12, DICE=0.0861, DPEAKS=78, Loss=0.00711]\n"
          ]
        },
        {
          "name": "stdout",
          "output_type": "stream",
          "text": [
            "Epoch [1/50]\n"
          ]
        },
        {
          "name": "stderr",
          "output_type": "stream",
          "text": [
            "Train Epoch 1: 100%|██████████| 77/77 [00:46<00:00,  1.64it/s, WMAPE=2.85, DICE=0.0895, DPEAKS=81, Loss=0.00888]\n",
            "Validate Epoch 1: 100%|██████████| 20/20 [00:06<00:00,  3.17it/s, WMAPE=2.38, DICE=0.0904, DPEAKS=84.1, Loss=0.00732]\n"
          ]
        },
        {
          "name": "stdout",
          "output_type": "stream",
          "text": [
            "Saving best model\n",
            "Epoch [2/50]\n"
          ]
        },
        {
          "name": "stderr",
          "output_type": "stream",
          "text": [
            "Train Epoch 2: 100%|██████████| 77/77 [00:41<00:00,  1.84it/s, WMAPE=2.24, DICE=0.0841, DPEAKS=79.1, Loss=0.00712]\n",
            "Validate Epoch 2: 100%|██████████| 20/20 [00:05<00:00,  3.84it/s, WMAPE=2.37, DICE=0.09, DPEAKS=82.2, Loss=0.00729]\n"
          ]
        },
        {
          "name": "stdout",
          "output_type": "stream",
          "text": [
            "Saving best model\n",
            "Epoch [3/50]\n"
          ]
        },
        {
          "name": "stderr",
          "output_type": "stream",
          "text": [
            "Train Epoch 3: 100%|██████████| 77/77 [00:41<00:00,  1.84it/s, WMAPE=2.18, DICE=0.0835, DPEAKS=77.1, Loss=0.00689]\n",
            "Validate Epoch 3: 100%|██████████| 20/20 [00:05<00:00,  3.94it/s, WMAPE=2.61, DICE=0.0844, DPEAKS=78.2, Loss=0.00789]\n"
          ]
        },
        {
          "name": "stdout",
          "output_type": "stream",
          "text": [
            "Epoch [4/50]\n"
          ]
        },
        {
          "name": "stderr",
          "output_type": "stream",
          "text": [
            "Train Epoch 4: 100%|██████████| 77/77 [00:42<00:00,  1.83it/s, WMAPE=2.12, DICE=0.0829, DPEAKS=76.7, Loss=0.00671]\n",
            "Validate Epoch 4: 100%|██████████| 20/20 [00:05<00:00,  3.94it/s, WMAPE=2.54, DICE=0.0866, DPEAKS=78.7, Loss=0.00771]\n"
          ]
        },
        {
          "name": "stdout",
          "output_type": "stream",
          "text": [
            "Epoch [5/50]\n"
          ]
        },
        {
          "name": "stderr",
          "output_type": "stream",
          "text": [
            "Train Epoch 5: 100%|██████████| 77/77 [00:41<00:00,  1.83it/s, WMAPE=2.19, DICE=0.0824, DPEAKS=77.1, Loss=0.00695]\n",
            "Validate Epoch 5: 100%|██████████| 20/20 [00:05<00:00,  3.94it/s, WMAPE=2.62, DICE=0.0852, DPEAKS=79.1, Loss=0.00789]\n"
          ]
        },
        {
          "name": "stdout",
          "output_type": "stream",
          "text": [
            "Epoch [6/50]\n"
          ]
        },
        {
          "name": "stderr",
          "output_type": "stream",
          "text": [
            "Train Epoch 6: 100%|██████████| 77/77 [00:42<00:00,  1.83it/s, WMAPE=2.02, DICE=0.0815, DPEAKS=75.7, Loss=0.00637]\n",
            "Validate Epoch 6: 100%|██████████| 20/20 [00:05<00:00,  3.94it/s, WMAPE=2.27, DICE=0.0885, DPEAKS=80.6, Loss=0.00713]\n"
          ]
        },
        {
          "name": "stdout",
          "output_type": "stream",
          "text": [
            "Saving best model\n",
            "Epoch [7/50]\n"
          ]
        },
        {
          "name": "stderr",
          "output_type": "stream",
          "text": [
            "Train Epoch 7: 100%|██████████| 77/77 [00:42<00:00,  1.83it/s, WMAPE=2.28, DICE=0.082, DPEAKS=77.3, Loss=0.00711]\n",
            "Validate Epoch 7: 100%|██████████| 20/20 [00:05<00:00,  3.95it/s, WMAPE=2.52, DICE=0.0869, DPEAKS=81.8, Loss=0.00779]\n"
          ]
        },
        {
          "name": "stdout",
          "output_type": "stream",
          "text": [
            "Epoch [8/50]\n"
          ]
        },
        {
          "name": "stderr",
          "output_type": "stream",
          "text": [
            "Train Epoch 8: 100%|██████████| 77/77 [00:41<00:00,  1.84it/s, WMAPE=2.1, DICE=0.0813, DPEAKS=76.7, Loss=0.00661]\n",
            "Validate Epoch 8: 100%|██████████| 20/20 [00:05<00:00,  3.91it/s, WMAPE=2.83, DICE=0.0837, DPEAKS=83.8, Loss=0.00918]\n"
          ]
        },
        {
          "name": "stdout",
          "output_type": "stream",
          "text": [
            "Epoch [9/50]\n"
          ]
        },
        {
          "name": "stderr",
          "output_type": "stream",
          "text": [
            "Train Epoch 9: 100%|██████████| 77/77 [00:41<00:00,  1.84it/s, WMAPE=1.99, DICE=0.0809, DPEAKS=76, Loss=0.00631]\n",
            "Validate Epoch 9: 100%|██████████| 20/20 [00:04<00:00,  4.07it/s, WMAPE=2.54, DICE=0.0841, DPEAKS=75.8, Loss=0.00765]\n"
          ]
        },
        {
          "name": "stdout",
          "output_type": "stream",
          "text": [
            "Epoch [10/50]\n"
          ]
        },
        {
          "name": "stderr",
          "output_type": "stream",
          "text": [
            "Train Epoch 10: 100%|██████████| 77/77 [00:39<00:00,  1.95it/s, WMAPE=2.11, DICE=0.0813, DPEAKS=75.3, Loss=0.00668]\n",
            "Validate Epoch 10: 100%|██████████| 20/20 [00:04<00:00,  4.07it/s, WMAPE=2.21, DICE=0.0857, DPEAKS=73.4, Loss=0.0071]\n"
          ]
        },
        {
          "name": "stdout",
          "output_type": "stream",
          "text": [
            "Saving best model\n",
            "Epoch [11/50]\n"
          ]
        },
        {
          "name": "stderr",
          "output_type": "stream",
          "text": [
            "Train Epoch 11: 100%|██████████| 77/77 [00:39<00:00,  1.94it/s, WMAPE=1.98, DICE=0.0807, DPEAKS=74.3, Loss=0.00626]\n",
            "Validate Epoch 11: 100%|██████████| 20/20 [00:04<00:00,  4.14it/s, WMAPE=2.6, DICE=0.092, DPEAKS=85.7, Loss=0.00778]\n"
          ]
        },
        {
          "name": "stdout",
          "output_type": "stream",
          "text": [
            "Epoch [12/50]\n"
          ]
        },
        {
          "name": "stderr",
          "output_type": "stream",
          "text": [
            "Train Epoch 12: 100%|██████████| 77/77 [00:39<00:00,  1.95it/s, WMAPE=2.06, DICE=0.0806, DPEAKS=75.1, Loss=0.00645]\n",
            "Validate Epoch 12: 100%|██████████| 20/20 [00:04<00:00,  4.08it/s, WMAPE=2.08, DICE=0.0825, DPEAKS=77.6, Loss=0.0068]\n"
          ]
        },
        {
          "name": "stdout",
          "output_type": "stream",
          "text": [
            "Saving best model\n",
            "Epoch [13/50]\n"
          ]
        },
        {
          "name": "stderr",
          "output_type": "stream",
          "text": [
            "Train Epoch 13: 100%|██████████| 77/77 [00:39<00:00,  1.95it/s, WMAPE=1.93, DICE=0.079, DPEAKS=73.5, Loss=0.00613]\n",
            "Validate Epoch 13: 100%|██████████| 20/20 [00:04<00:00,  4.08it/s, WMAPE=3.32, DICE=0.0848, DPEAKS=73.3, Loss=0.00982]\n"
          ]
        },
        {
          "name": "stdout",
          "output_type": "stream",
          "text": [
            "Epoch [14/50]\n"
          ]
        },
        {
          "name": "stderr",
          "output_type": "stream",
          "text": [
            "Train Epoch 14: 100%|██████████| 77/77 [00:39<00:00,  1.95it/s, WMAPE=1.87, DICE=0.0788, DPEAKS=73, Loss=0.00598]\n",
            "Validate Epoch 14: 100%|██████████| 20/20 [00:04<00:00,  4.14it/s, WMAPE=3.84, DICE=0.082, DPEAKS=73.9, Loss=0.0108]\n"
          ]
        },
        {
          "name": "stdout",
          "output_type": "stream",
          "text": [
            "Epoch [15/50]\n"
          ]
        },
        {
          "name": "stderr",
          "output_type": "stream",
          "text": [
            "Train Epoch 15: 100%|██████████| 77/77 [00:39<00:00,  1.95it/s, WMAPE=2.12, DICE=0.0797, DPEAKS=73.7, Loss=0.0067]\n",
            "Validate Epoch 15: 100%|██████████| 20/20 [00:04<00:00,  4.10it/s, WMAPE=2.4, DICE=0.0818, DPEAKS=73.3, Loss=0.00771]\n"
          ]
        },
        {
          "name": "stdout",
          "output_type": "stream",
          "text": [
            "Epoch [16/50]\n"
          ]
        },
        {
          "name": "stderr",
          "output_type": "stream",
          "text": [
            "Train Epoch 16: 100%|██████████| 77/77 [00:39<00:00,  1.95it/s, WMAPE=2, DICE=0.0781, DPEAKS=74.3, Loss=0.00634]\n",
            "Validate Epoch 16: 100%|██████████| 20/20 [00:04<00:00,  4.06it/s, WMAPE=2.15, DICE=0.0806, DPEAKS=79.5, Loss=0.00673]\n"
          ]
        },
        {
          "name": "stdout",
          "output_type": "stream",
          "text": [
            "Saving best model\n",
            "Epoch [17/50]\n"
          ]
        },
        {
          "name": "stderr",
          "output_type": "stream",
          "text": [
            "Train Epoch 17: 100%|██████████| 77/77 [00:39<00:00,  1.95it/s, WMAPE=1.93, DICE=0.0781, DPEAKS=74.1, Loss=0.00609]\n",
            "Validate Epoch 17: 100%|██████████| 20/20 [00:04<00:00,  4.10it/s, WMAPE=2.98, DICE=0.0818, DPEAKS=74.1, Loss=0.00862]\n"
          ]
        },
        {
          "name": "stdout",
          "output_type": "stream",
          "text": [
            "Epoch [18/50]\n"
          ]
        },
        {
          "name": "stderr",
          "output_type": "stream",
          "text": [
            "Train Epoch 18: 100%|██████████| 77/77 [00:39<00:00,  1.95it/s, WMAPE=1.85, DICE=0.0778, DPEAKS=73.7, Loss=0.0059]\n",
            "Validate Epoch 18: 100%|██████████| 20/20 [00:04<00:00,  4.00it/s, WMAPE=2.34, DICE=0.0805, DPEAKS=72.7, Loss=0.00719]\n"
          ]
        },
        {
          "name": "stdout",
          "output_type": "stream",
          "text": [
            "Epoch [19/50]\n"
          ]
        },
        {
          "name": "stderr",
          "output_type": "stream",
          "text": [
            "Train Epoch 19: 100%|██████████| 77/77 [00:39<00:00,  1.95it/s, WMAPE=1.92, DICE=0.0771, DPEAKS=72, Loss=0.00606]\n",
            "Validate Epoch 19: 100%|██████████| 20/20 [00:04<00:00,  4.10it/s, WMAPE=3.44, DICE=0.0814, DPEAKS=79.9, Loss=0.011]\n"
          ]
        },
        {
          "name": "stdout",
          "output_type": "stream",
          "text": [
            "Epoch [20/50]\n"
          ]
        },
        {
          "name": "stderr",
          "output_type": "stream",
          "text": [
            "Train Epoch 20: 100%|██████████| 77/77 [00:39<00:00,  1.95it/s, WMAPE=1.81, DICE=0.0768, DPEAKS=72.5, Loss=0.00577]\n",
            "Validate Epoch 20: 100%|██████████| 20/20 [00:04<00:00,  4.13it/s, WMAPE=2.29, DICE=0.0823, DPEAKS=73.8, Loss=0.00724]\n"
          ]
        },
        {
          "name": "stdout",
          "output_type": "stream",
          "text": [
            "Epoch [21/50]\n"
          ]
        },
        {
          "name": "stderr",
          "output_type": "stream",
          "text": [
            "Train Epoch 21: 100%|██████████| 77/77 [00:39<00:00,  1.95it/s, WMAPE=1.8, DICE=0.0769, DPEAKS=70.2, Loss=0.0057]\n",
            "Validate Epoch 21: 100%|██████████| 20/20 [00:04<00:00,  4.10it/s, WMAPE=3.3, DICE=0.0835, DPEAKS=73.5, Loss=0.00939]\n"
          ]
        },
        {
          "name": "stdout",
          "output_type": "stream",
          "text": [
            "early stopping: 5 epochs without improvement\n",
            "Training complete.\n"
          ]
        },
        {
          "name": "stderr",
          "output_type": "stream",
          "text": [
            "Validate Epoch test: 100%|██████████| 486/486 [02:34<00:00,  3.14it/s, WMAPE=2.22, DICE=0.0802, DPEAKS=79, Loss=0.00677]\n"
          ]
        },
        {
          "name": "stdout",
          "output_type": "stream",
          "text": [
            "Epoch [1/50]\n"
          ]
        },
        {
          "name": "stderr",
          "output_type": "stream",
          "text": [
            "Train Epoch 1: 100%|██████████| 77/77 [00:45<00:00,  1.70it/s, WMAPE=2.58, DICE=0.0862, DPEAKS=77.8, Loss=0.00805]\n",
            "Validate Epoch 1: 100%|██████████| 20/20 [00:06<00:00,  3.20it/s, WMAPE=4.27, DICE=0.083, DPEAKS=79.7, Loss=0.0117]\n"
          ]
        },
        {
          "name": "stdout",
          "output_type": "stream",
          "text": [
            "Saving best model\n",
            "Epoch [2/50]\n"
          ]
        },
        {
          "name": "stderr",
          "output_type": "stream",
          "text": [
            "Train Epoch 2: 100%|██████████| 77/77 [00:39<00:00,  1.95it/s, WMAPE=2.24, DICE=0.0816, DPEAKS=75.7, Loss=0.00706]\n",
            "Validate Epoch 2: 100%|██████████| 20/20 [00:04<00:00,  4.08it/s, WMAPE=2.44, DICE=0.0836, DPEAKS=79.7, Loss=0.00737]\n"
          ]
        },
        {
          "name": "stdout",
          "output_type": "stream",
          "text": [
            "Saving best model\n",
            "Epoch [3/50]\n"
          ]
        },
        {
          "name": "stderr",
          "output_type": "stream",
          "text": [
            "Train Epoch 3: 100%|██████████| 77/77 [00:39<00:00,  1.95it/s, WMAPE=2.18, DICE=0.0813, DPEAKS=75.7, Loss=0.00685]\n",
            "Validate Epoch 3: 100%|██████████| 20/20 [00:04<00:00,  4.03it/s, WMAPE=2.4, DICE=0.0837, DPEAKS=84.1, Loss=0.00697]\n"
          ]
        },
        {
          "name": "stdout",
          "output_type": "stream",
          "text": [
            "Saving best model\n",
            "Epoch [4/50]\n"
          ]
        },
        {
          "name": "stderr",
          "output_type": "stream",
          "text": [
            "Train Epoch 4: 100%|██████████| 77/77 [00:39<00:00,  1.95it/s, WMAPE=2.02, DICE=0.0808, DPEAKS=73.9, Loss=0.00643]\n",
            "Validate Epoch 4: 100%|██████████| 20/20 [00:04<00:00,  4.08it/s, WMAPE=2.24, DICE=0.0826, DPEAKS=76.8, Loss=0.00673]\n"
          ]
        },
        {
          "name": "stdout",
          "output_type": "stream",
          "text": [
            "Saving best model\n",
            "Epoch [5/50]\n"
          ]
        },
        {
          "name": "stderr",
          "output_type": "stream",
          "text": [
            "Train Epoch 5: 100%|██████████| 77/77 [00:39<00:00,  1.95it/s, WMAPE=2.03, DICE=0.0799, DPEAKS=72.9, Loss=0.00644]\n",
            "Validate Epoch 5: 100%|██████████| 20/20 [00:04<00:00,  4.13it/s, WMAPE=3.06, DICE=0.0841, DPEAKS=75.3, Loss=0.00952]\n"
          ]
        },
        {
          "name": "stdout",
          "output_type": "stream",
          "text": [
            "Epoch [6/50]\n"
          ]
        },
        {
          "name": "stderr",
          "output_type": "stream",
          "text": [
            "Train Epoch 6: 100%|██████████| 77/77 [00:39<00:00,  1.95it/s, WMAPE=2.01, DICE=0.0793, DPEAKS=72, Loss=0.00637]\n",
            "Validate Epoch 6: 100%|██████████| 20/20 [00:04<00:00,  4.12it/s, WMAPE=2.38, DICE=0.0815, DPEAKS=77.9, Loss=0.00741]\n"
          ]
        },
        {
          "name": "stdout",
          "output_type": "stream",
          "text": [
            "Epoch [7/50]\n"
          ]
        },
        {
          "name": "stderr",
          "output_type": "stream",
          "text": [
            "Train Epoch 7: 100%|██████████| 77/77 [00:39<00:00,  1.94it/s, WMAPE=1.97, DICE=0.0791, DPEAKS=72, Loss=0.00624]\n",
            "Validate Epoch 7: 100%|██████████| 20/20 [00:04<00:00,  4.10it/s, WMAPE=2.3, DICE=0.084, DPEAKS=80.7, Loss=0.00737]\n"
          ]
        },
        {
          "name": "stdout",
          "output_type": "stream",
          "text": [
            "Epoch [8/50]\n"
          ]
        },
        {
          "name": "stderr",
          "output_type": "stream",
          "text": [
            "Train Epoch 8: 100%|██████████| 77/77 [00:39<00:00,  1.95it/s, WMAPE=2.16, DICE=0.0782, DPEAKS=71.5, Loss=0.00683]\n",
            "Validate Epoch 8: 100%|██████████| 20/20 [00:04<00:00,  4.11it/s, WMAPE=2.76, DICE=0.0819, DPEAKS=78.7, Loss=0.00841]\n"
          ]
        },
        {
          "name": "stdout",
          "output_type": "stream",
          "text": [
            "Epoch [9/50]\n"
          ]
        },
        {
          "name": "stderr",
          "output_type": "stream",
          "text": [
            "Train Epoch 9: 100%|██████████| 77/77 [00:39<00:00,  1.95it/s, WMAPE=2.2, DICE=0.0789, DPEAKS=72.7, Loss=0.00691]\n",
            "Validate Epoch 9: 100%|██████████| 20/20 [00:04<00:00,  4.10it/s, WMAPE=2.59, DICE=0.0837, DPEAKS=85.7, Loss=0.00838]\n"
          ]
        },
        {
          "name": "stdout",
          "output_type": "stream",
          "text": [
            "early stopping: 5 epochs without improvement\n",
            "Training complete.\n"
          ]
        },
        {
          "name": "stderr",
          "output_type": "stream",
          "text": [
            "Validate Epoch test: 100%|██████████| 486/486 [02:35<00:00,  3.14it/s, WMAPE=2.17, DICE=0.0821, DPEAKS=75, Loss=0.0067]\n"
          ]
        },
        {
          "name": "stdout",
          "output_type": "stream",
          "text": [
            "Epoch [1/50]\n"
          ]
        },
        {
          "name": "stderr",
          "output_type": "stream",
          "text": [
            "Train Epoch 1: 100%|██████████| 77/77 [00:44<00:00,  1.73it/s, WMAPE=2.49, DICE=0.0857, DPEAKS=83.5, Loss=0.00787]\n",
            "Validate Epoch 1: 100%|██████████| 20/20 [00:06<00:00,  3.16it/s, WMAPE=3.5, DICE=0.0847, DPEAKS=85.5, Loss=0.0114]\n"
          ]
        },
        {
          "name": "stdout",
          "output_type": "stream",
          "text": [
            "Saving best model\n",
            "Epoch [2/50]\n"
          ]
        },
        {
          "name": "stderr",
          "output_type": "stream",
          "text": [
            "Train Epoch 2: 100%|██████████| 77/77 [00:40<00:00,  1.90it/s, WMAPE=2.21, DICE=0.0811, DPEAKS=78.5, Loss=0.00693]\n",
            "Validate Epoch 2: 100%|██████████| 20/20 [00:04<00:00,  4.12it/s, WMAPE=2.4, DICE=0.0835, DPEAKS=79.2, Loss=0.00723]\n"
          ]
        },
        {
          "name": "stdout",
          "output_type": "stream",
          "text": [
            "Saving best model\n",
            "Epoch [3/50]\n"
          ]
        },
        {
          "name": "stderr",
          "output_type": "stream",
          "text": [
            "Train Epoch 3: 100%|██████████| 77/77 [00:40<00:00,  1.91it/s, WMAPE=2.21, DICE=0.0816, DPEAKS=77.5, Loss=0.00695]\n",
            "Validate Epoch 3: 100%|██████████| 20/20 [00:04<00:00,  4.09it/s, WMAPE=2.33, DICE=0.0815, DPEAKS=82.5, Loss=0.00703]\n"
          ]
        },
        {
          "name": "stdout",
          "output_type": "stream",
          "text": [
            "Saving best model\n",
            "Epoch [4/50]\n"
          ]
        },
        {
          "name": "stderr",
          "output_type": "stream",
          "text": [
            "Train Epoch 4: 100%|██████████| 77/77 [00:39<00:00,  1.95it/s, WMAPE=2.09, DICE=0.0801, DPEAKS=76.9, Loss=0.00647]\n",
            "Validate Epoch 4: 100%|██████████| 20/20 [00:04<00:00,  4.13it/s, WMAPE=2.33, DICE=0.0822, DPEAKS=81.8, Loss=0.00724]\n"
          ]
        },
        {
          "name": "stdout",
          "output_type": "stream",
          "text": [
            "Epoch [5/50]\n"
          ]
        },
        {
          "name": "stderr",
          "output_type": "stream",
          "text": [
            "Train Epoch 5: 100%|██████████| 77/77 [00:39<00:00,  1.95it/s, WMAPE=2.01, DICE=0.0795, DPEAKS=74.5, Loss=0.00628]\n",
            "Validate Epoch 5: 100%|██████████| 20/20 [00:04<00:00,  4.12it/s, WMAPE=2.23, DICE=0.0825, DPEAKS=79.6, Loss=0.00742]\n"
          ]
        },
        {
          "name": "stdout",
          "output_type": "stream",
          "text": [
            "Epoch [6/50]\n"
          ]
        },
        {
          "name": "stderr",
          "output_type": "stream",
          "text": [
            "Train Epoch 6: 100%|██████████| 77/77 [00:39<00:00,  1.95it/s, WMAPE=1.99, DICE=0.0792, DPEAKS=74.4, Loss=0.00627]\n",
            "Validate Epoch 6: 100%|██████████| 20/20 [00:04<00:00,  4.06it/s, WMAPE=2.38, DICE=0.0806, DPEAKS=79.6, Loss=0.00751]\n"
          ]
        },
        {
          "name": "stdout",
          "output_type": "stream",
          "text": [
            "Epoch [7/50]\n"
          ]
        },
        {
          "name": "stderr",
          "output_type": "stream",
          "text": [
            "Train Epoch 7: 100%|██████████| 77/77 [00:39<00:00,  1.95it/s, WMAPE=1.89, DICE=0.0786, DPEAKS=74.3, Loss=0.00597]\n",
            "Validate Epoch 7: 100%|██████████| 20/20 [00:04<00:00,  4.13it/s, WMAPE=2.73, DICE=0.0788, DPEAKS=77.7, Loss=0.00796]\n"
          ]
        },
        {
          "name": "stdout",
          "output_type": "stream",
          "text": [
            "Epoch [8/50]\n"
          ]
        },
        {
          "name": "stderr",
          "output_type": "stream",
          "text": [
            "Train Epoch 8: 100%|██████████| 77/77 [00:39<00:00,  1.95it/s, WMAPE=1.87, DICE=0.0779, DPEAKS=72.8, Loss=0.00588]\n",
            "Validate Epoch 8: 100%|██████████| 20/20 [00:04<00:00,  4.10it/s, WMAPE=2.38, DICE=0.0821, DPEAKS=74.2, Loss=0.00733]\n"
          ]
        },
        {
          "name": "stdout",
          "output_type": "stream",
          "text": [
            "early stopping: 5 epochs without improvement\n",
            "Training complete.\n"
          ]
        },
        {
          "name": "stderr",
          "output_type": "stream",
          "text": [
            "Validate Epoch test: 100%|██████████| 486/486 [02:34<00:00,  3.14it/s, WMAPE=2.39, DICE=0.082, DPEAKS=76.8, Loss=0.00705]\n"
          ]
        },
        {
          "name": "stdout",
          "output_type": "stream",
          "text": [
            "Epoch [1/50]\n"
          ]
        },
        {
          "name": "stderr",
          "output_type": "stream",
          "text": [
            "Train Epoch 1: 100%|██████████| 77/77 [00:44<00:00,  1.72it/s, WMAPE=2.57, DICE=0.0843, DPEAKS=79.2, Loss=0.00789]\n",
            "Validate Epoch 1: 100%|██████████| 20/20 [00:06<00:00,  3.24it/s, WMAPE=3.93, DICE=0.0853, DPEAKS=87.2, Loss=0.0117]\n"
          ]
        },
        {
          "name": "stdout",
          "output_type": "stream",
          "text": [
            "Saving best model\n",
            "Epoch [2/50]\n"
          ]
        },
        {
          "name": "stderr",
          "output_type": "stream",
          "text": [
            "Train Epoch 2:  96%|█████████▌| 74/77 [00:40<00:01,  1.79it/s, loss=0.00669]"
          ]
        },
        {
          "ename": "KeyboardInterrupt",
          "evalue": "",
          "output_type": "error",
          "traceback": [
            "\u001b[0;31m---------------------------------------------------------------------------\u001b[0m",
            "\u001b[0;31mKeyboardInterrupt\u001b[0m                         Traceback (most recent call last)",
            "Cell \u001b[0;32mIn[9], line 15\u001b[0m\n\u001b[1;32m     11\u001b[0m last_checkpoint_path \u001b[38;5;241m=\u001b[39m os\u001b[38;5;241m.\u001b[39mpath\u001b[38;5;241m.\u001b[39mjoin(\n\u001b[1;32m     12\u001b[0m     \u001b[38;5;124m\"\u001b[39m\u001b[38;5;124mmodels\u001b[39m\u001b[38;5;124m\"\u001b[39m, \u001b[38;5;124mf\u001b[39m\u001b[38;5;124m\"\u001b[39m\u001b[38;5;124mlast_checkpoint_partition_\u001b[39m\u001b[38;5;132;01m{\u001b[39;00mcurrent_partition\u001b[38;5;132;01m}\u001b[39;00m\u001b[38;5;124m.pth\u001b[39m\u001b[38;5;124m\"\u001b[39m\n\u001b[1;32m     13\u001b[0m )\n\u001b[1;32m     14\u001b[0m optimizer \u001b[38;5;241m=\u001b[39m optim\u001b[38;5;241m.\u001b[39mAdamW(model\u001b[38;5;241m.\u001b[39mparameters())\n\u001b[0;32m---> 15\u001b[0m \u001b[43mtrain_model\u001b[49m\u001b[43m(\u001b[49m\n\u001b[1;32m     16\u001b[0m \u001b[43m    \u001b[49m\u001b[43mmodel\u001b[49m\u001b[43m,\u001b[49m\n\u001b[1;32m     17\u001b[0m \u001b[43m    \u001b[49m\u001b[43mtrain_loader\u001b[49m\u001b[43m,\u001b[49m\n\u001b[1;32m     18\u001b[0m \u001b[43m    \u001b[49m\u001b[43mval_loader\u001b[49m\u001b[43m,\u001b[49m\n\u001b[1;32m     19\u001b[0m \u001b[43m    \u001b[49m\u001b[43mbest_model_path\u001b[49m\u001b[43m,\u001b[49m\n\u001b[1;32m     20\u001b[0m \u001b[43m    \u001b[49m\u001b[43mlast_checkpoint_path\u001b[49m\u001b[43m,\u001b[49m\n\u001b[1;32m     21\u001b[0m \u001b[43m    \u001b[49m\u001b[43mcriterion\u001b[49m\u001b[43m,\u001b[49m\n\u001b[1;32m     22\u001b[0m \u001b[43m    \u001b[49m\u001b[43moptimizer\u001b[49m\u001b[43m,\u001b[49m\n\u001b[1;32m     23\u001b[0m \u001b[43m    \u001b[49m\u001b[43mnum_epochs\u001b[49m\u001b[38;5;241;43m=\u001b[39;49m\u001b[38;5;241;43m50\u001b[39;49m\u001b[43m,\u001b[49m\n\u001b[1;32m     24\u001b[0m \u001b[43m    \u001b[49m\u001b[43mdevice\u001b[49m\u001b[38;5;241;43m=\u001b[39;49m\u001b[43mDEVICE\u001b[49m\u001b[43m,\u001b[49m\n\u001b[1;32m     25\u001b[0m \u001b[43m    \u001b[49m\u001b[43mearly_stopping_patience\u001b[49m\u001b[38;5;241;43m=\u001b[39;49m\u001b[38;5;241;43m5\u001b[39;49m\u001b[43m,\u001b[49m\n\u001b[1;32m     26\u001b[0m \u001b[43m\u001b[49m\u001b[43m)\u001b[49m\n\u001b[1;32m     27\u001b[0m model\u001b[38;5;241m.\u001b[39mload_state_dict(torch\u001b[38;5;241m.\u001b[39mload(best_model_path,weights_only\u001b[38;5;241m=\u001b[39m\u001b[38;5;28;01mTrue\u001b[39;00m))\n\u001b[1;32m     28\u001b[0m test_model(model,criterion,device\u001b[38;5;241m=\u001b[39mDEVICE,batch_size\u001b[38;5;241m=\u001b[39mBATCH_SIZE)\n",
            "File \u001b[0;32m~/Documents/dataton/common/purrfect/training.py:122\u001b[0m, in \u001b[0;36mtrain_model\u001b[0;34m(model, train_loader, val_loader, best_model_path, last_checkpoint_path, criterion, optimizer, num_epochs, device, early_stopping_patience, use_autocast)\u001b[0m\n\u001b[1;32m    119\u001b[0m \u001b[38;5;28mprint\u001b[39m(\u001b[38;5;124mf\u001b[39m\u001b[38;5;124m\"\u001b[39m\u001b[38;5;124mEpoch [\u001b[39m\u001b[38;5;132;01m{\u001b[39;00mepoch\u001b[38;5;132;01m}\u001b[39;00m\u001b[38;5;124m/\u001b[39m\u001b[38;5;132;01m{\u001b[39;00mnum_epochs\u001b[38;5;132;01m}\u001b[39;00m\u001b[38;5;124m]\u001b[39m\u001b[38;5;124m\"\u001b[39m)\n\u001b[1;32m    121\u001b[0m \u001b[38;5;66;03m# Train the model\u001b[39;00m\n\u001b[0;32m--> 122\u001b[0m \u001b[43mtrain_validate\u001b[49m\u001b[43m(\u001b[49m\n\u001b[1;32m    123\u001b[0m \u001b[43m    \u001b[49m\u001b[43mmodel\u001b[49m\u001b[43m,\u001b[49m\u001b[43m \u001b[49m\u001b[43mtrain_loader\u001b[49m\u001b[43m,\u001b[49m\u001b[43m \u001b[49m\u001b[43mcriterion\u001b[49m\u001b[43m,\u001b[49m\u001b[43m \u001b[49m\u001b[43moptimizer\u001b[49m\u001b[43m,\u001b[49m\u001b[43m \u001b[49m\u001b[43mepoch\u001b[49m\u001b[43m,\u001b[49m\u001b[43m \u001b[49m\u001b[43mmetric_accumulator\u001b[49m\u001b[43m,\u001b[49m\u001b[43m \u001b[49m\u001b[43mdevice\u001b[49m\u001b[43m,\u001b[49m\u001b[43m \u001b[49m\u001b[43muse_autocast\u001b[49m\n\u001b[1;32m    124\u001b[0m \u001b[43m\u001b[49m\u001b[43m)\u001b[49m\n\u001b[1;32m    126\u001b[0m \u001b[38;5;66;03m# Validate the model\u001b[39;00m\n\u001b[1;32m    127\u001b[0m validate_loss \u001b[38;5;241m=\u001b[39m train_validate(\n\u001b[1;32m    128\u001b[0m     model,\n\u001b[1;32m    129\u001b[0m     val_loader,\n\u001b[0;32m   (...)\u001b[0m\n\u001b[1;32m    134\u001b[0m     use_autocast \u001b[38;5;241m=\u001b[39m use_autocast\n\u001b[1;32m    135\u001b[0m )\n",
            "File \u001b[0;32m~/Documents/dataton/common/purrfect/training.py:45\u001b[0m, in \u001b[0;36mtrain_validate\u001b[0;34m(model, loader, criterion, optimizer, epoch, metric_accumulator, device, use_autocast)\u001b[0m\n\u001b[1;32m     41\u001b[0m     loss \u001b[38;5;241m=\u001b[39m criterion(outputs, targets)\n\u001b[1;32m     43\u001b[0m \u001b[38;5;28;01mif\u001b[39;00m metric_accumulator:\n\u001b[1;32m     44\u001b[0m     metric_accumulator\u001b[38;5;241m.\u001b[39mupdate(\n\u001b[0;32m---> 45\u001b[0m         \u001b[43mtargets\u001b[49m\u001b[38;5;241;43m.\u001b[39;49m\u001b[43msqueeze\u001b[49m\u001b[43m(\u001b[49m\u001b[38;5;241;43m1\u001b[39;49m\u001b[43m)\u001b[49m\u001b[38;5;241;43m.\u001b[39;49m\u001b[43mdetach\u001b[49m\u001b[43m(\u001b[49m\u001b[43m)\u001b[49m\u001b[38;5;241;43m.\u001b[39;49m\u001b[43mcpu\u001b[49m\u001b[43m(\u001b[49m\u001b[43m)\u001b[49m, outputs\u001b[38;5;241m.\u001b[39msqueeze(\u001b[38;5;241m1\u001b[39m)\u001b[38;5;241m.\u001b[39mdetach()\u001b[38;5;241m.\u001b[39mcpu()\n\u001b[1;32m     46\u001b[0m     )\n\u001b[1;32m     48\u001b[0m \u001b[38;5;28;01mif\u001b[39;00m optimizer:\n\u001b[1;32m     49\u001b[0m     optimizer\u001b[38;5;241m.\u001b[39mzero_grad()\n",
            "\u001b[0;31mKeyboardInterrupt\u001b[0m: "
          ]
        }
      ],
      "source": [
        "for current_partition in range(1,20):\n",
        "    train_loader, val_loader = create_train_valid_loaders(\n",
        "        f\"partition_{current_partition}_train.json\",\n",
        "        f\"partition_{current_partition}_val.json\",\n",
        "        \"partitions\",\n",
        "        batch_size=BATCH_SIZE,\n",
        "    )\n",
        "    best_model_path = os.path.join(\n",
        "        \"models\", f\"best_model_partition_{current_partition}.pth\"\n",
        "    )\n",
        "    last_checkpoint_path = os.path.join(\n",
        "        \"models\", f\"last_checkpoint_partition_{current_partition}.pth\"\n",
        "    )\n",
        "    optimizer = optim.AdamW(model.parameters())\n",
        "    train_model(\n",
        "        model,\n",
        "        train_loader,\n",
        "        val_loader,\n",
        "        best_model_path,\n",
        "        last_checkpoint_path,\n",
        "        criterion,\n",
        "        optimizer,\n",
        "        num_epochs=50,\n",
        "        device=DEVICE,\n",
        "        early_stopping_patience=5,\n",
        "    )\n",
        "    model.load_state_dict(torch.load(best_model_path,weights_only=True))\n",
        "    test_model(model,criterion,device=DEVICE,batch_size=BATCH_SIZE)\n",
        "    create_next_partitions(current_partition)\n"
      ]
    },
    {
      "cell_type": "code",
      "execution_count": 14,
      "metadata": {},
      "outputs": [
        {
          "name": "stderr",
          "output_type": "stream",
          "text": [
            "Validate Epoch test: 100%|██████████| 971/971 [03:04<00:00,  5.28it/s, WMAPE=1.82, DICE=0.0536, DPEAKS=39, Loss=0.00555]\n"
          ]
        }
      ],
      "source": [
        "#Cargar mejor modelo de la particion actual\n",
        "model.load_state_dict(torch.load(best_model_path,weights_only=True))\n",
        "optimizer = optim.Adam(model.parameters())\n",
        "#optimizer.load_state_dict(torch.load(last_checkpoint_path,weights_only=True)[\"optimizer\"])\n",
        "test_model(model,criterion,device=DEVICE,batch_size=BATCH_SIZE)\n",
        "create_next_partitions(current_partition)"
      ]
    },
    {
      "cell_type": "code",
      "execution_count": null,
      "metadata": {},
      "outputs": [],
      "source": [
        "for current_partition in range(3,9):\n",
        "    train_loader, val_loader = create_train_valid_loaders(\n",
        "        f\"partition_{current_partition}_train.json\",\n",
        "        f\"partition_{current_partition}_val.json\",\n",
        "        \"partitions\",\n",
        "        batch_size=BATCH_SIZE,\n",
        "    )\n",
        "    best_model_path = os.path.join(\n",
        "        \"models\", f\"best_model_partition_{current_partition}.pth\"\n",
        "    )\n",
        "    last_checkpoint_path = os.path.join(\n",
        "        \"models\", f\"last_checkpoint_partition_{current_partition}.pth\"\n",
        "    )\n",
        "    train_model(\n",
        "        model,\n",
        "        train_loader,\n",
        "        val_loader,\n",
        "        best_model_path,\n",
        "        last_checkpoint_path,\n",
        "        criterion,\n",
        "        optimizer,\n",
        "        num_epochs=50,\n",
        "        device=DEVICE,\n",
        "        early_stopping_patience=3,\n",
        "    )\n",
        "    model.load_state_dict(torch.load(best_model_path,weights_only=True))\n",
        "    optimizer = optim.Adam(model.parameters())\n",
        "    optimizer.load_state_dict(torch.load(last_checkpoint_path,weights_only=True)[\"optimizer\"])\n",
        "    test_model(model,criterion,device=DEVICE,batch_size=BATCH_SIZE)\n",
        "    create_next_partitions(current_partition)"
      ]
    },
    {
      "cell_type": "code",
      "execution_count": 19,
      "metadata": {},
      "outputs": [],
      "source": [
        "current_partition=3\n",
        "best_model_path = os.path.join(\n",
        "    \"models\", f\"best_model_partition_{current_partition}.pth\"\n",
        ")\n",
        "last_checkpoint_path = os.path.join(\n",
        "    \"models\", f\"last_checkpoint_partition_{current_partition}.pth\"\n",
        ")"
      ]
    },
    {
      "cell_type": "code",
      "execution_count": 20,
      "metadata": {},
      "outputs": [
        {
          "name": "stdout",
          "output_type": "stream",
          "text": [
            "Epoch [1/50]\n"
          ]
        },
        {
          "name": "stderr",
          "output_type": "stream",
          "text": [
            "Train Epoch 1: 100%|██████████| 307/307 [02:14<00:00,  2.29it/s, WMAPE=2.29, DICE=0.0699, DPEAKS=55.9, Loss=0.00713]\n",
            "Validate Epoch 1: 100%|██████████| 77/77 [00:12<00:00,  5.96it/s, WMAPE=2.03, DICE=0.0603, DPEAKS=61.1, Loss=0.00608]\n"
          ]
        },
        {
          "name": "stdout",
          "output_type": "stream",
          "text": [
            "Saving best model\n",
            "Epoch [2/50]\n"
          ]
        },
        {
          "name": "stderr",
          "output_type": "stream",
          "text": [
            "Train Epoch 2: 100%|██████████| 307/307 [02:02<00:00,  2.50it/s, WMAPE=1.94, DICE=0.0513, DPEAKS=44, Loss=0.00605]\n",
            "Validate Epoch 2: 100%|██████████| 77/77 [00:10<00:00,  7.13it/s, WMAPE=5.36, DICE=0.0579, DPEAKS=45, Loss=0.0157]\n"
          ]
        },
        {
          "name": "stdout",
          "output_type": "stream",
          "text": [
            "Epoch [3/50]\n"
          ]
        },
        {
          "name": "stderr",
          "output_type": "stream",
          "text": [
            "Train Epoch 3: 100%|██████████| 307/307 [02:03<00:00,  2.49it/s, WMAPE=1.87, DICE=0.0494, DPEAKS=44.1, Loss=0.00577]\n",
            "Validate Epoch 3: 100%|██████████| 77/77 [00:11<00:00,  6.76it/s, WMAPE=1.72, DICE=0.0499, DPEAKS=39.2, Loss=0.00549]\n"
          ]
        },
        {
          "name": "stdout",
          "output_type": "stream",
          "text": [
            "Saving best model\n",
            "Epoch [4/50]\n"
          ]
        },
        {
          "name": "stderr",
          "output_type": "stream",
          "text": [
            "Train Epoch 4: 100%|██████████| 307/307 [02:00<00:00,  2.55it/s, WMAPE=1.83, DICE=0.0476, DPEAKS=39.6, Loss=0.00563]\n",
            "Validate Epoch 4: 100%|██████████| 77/77 [00:10<00:00,  7.16it/s, WMAPE=3.16, DICE=0.05, DPEAKS=41.1, Loss=0.00857]\n"
          ]
        },
        {
          "name": "stdout",
          "output_type": "stream",
          "text": [
            "Epoch [5/50]\n"
          ]
        },
        {
          "name": "stderr",
          "output_type": "stream",
          "text": [
            "Train Epoch 5: 100%|██████████| 307/307 [01:59<00:00,  2.58it/s, WMAPE=1.9, DICE=0.0493, DPEAKS=43, Loss=0.00583]\n",
            "Validate Epoch 5: 100%|██████████| 77/77 [00:10<00:00,  7.17it/s, WMAPE=2.04, DICE=0.0634, DPEAKS=56.6, Loss=0.00611]\n"
          ]
        },
        {
          "name": "stdout",
          "output_type": "stream",
          "text": [
            "Epoch [6/50]\n"
          ]
        },
        {
          "name": "stderr",
          "output_type": "stream",
          "text": [
            "Train Epoch 6: 100%|██████████| 307/307 [02:00<00:00,  2.54it/s, WMAPE=1.79, DICE=0.0456, DPEAKS=38.7, Loss=0.00552]\n",
            "Validate Epoch 6: 100%|██████████| 77/77 [00:10<00:00,  7.17it/s, WMAPE=2.73, DICE=0.0758, DPEAKS=71.2, Loss=0.0079]\n"
          ]
        },
        {
          "name": "stdout",
          "output_type": "stream",
          "text": [
            "early stopping: 3 epochs without improvement\n",
            "Training complete.\n"
          ]
        }
      ],
      "source": [
        "train_loader, val_loader = create_train_valid_loaders(\n",
        "    f\"partition_{current_partition}_train.json\",\n",
        "    f\"partition_{current_partition}_val.json\",\n",
        "    \"partitions\",\n",
        "    batch_size=16,\n",
        ")\n",
        "optimizer = optim.Adam(model.parameters())\n",
        "train_model(\n",
        "    model,\n",
        "    train_loader,\n",
        "    val_loader,\n",
        "    best_model_path,\n",
        "    last_checkpoint_path,\n",
        "    criterion,\n",
        "    optimizer,\n",
        "    num_epochs=50,\n",
        "    device=DEVICE,\n",
        "    early_stopping_patience=3,\n",
        ")"
      ]
    },
    {
      "cell_type": "code",
      "execution_count": 21,
      "metadata": {},
      "outputs": [
        {
          "name": "stderr",
          "output_type": "stream",
          "text": [
            "Validate Epoch test: 100%|██████████| 1941/1941 [04:54<00:00,  6.59it/s, WMAPE=1.77, DICE=0.0499, DPEAKS=38.4, Loss=0.00553]\n"
          ]
        },
        {
          "ename": "TypeError",
          "evalue": "create_next_partitions() missing 2 required positional arguments: 'model' and 'criterion'",
          "output_type": "error",
          "traceback": [
            "\u001b[0;31m---------------------------------------------------------------------------\u001b[0m",
            "\u001b[0;31mTypeError\u001b[0m                                 Traceback (most recent call last)",
            "Cell \u001b[0;32mIn[21], line 4\u001b[0m\n\u001b[1;32m      2\u001b[0m model\u001b[38;5;241m.\u001b[39mload_state_dict(torch\u001b[38;5;241m.\u001b[39mload(best_model_path,weights_only\u001b[38;5;241m=\u001b[39m\u001b[38;5;28;01mTrue\u001b[39;00m))\n\u001b[1;32m      3\u001b[0m test_model(model,criterion,device\u001b[38;5;241m=\u001b[39mDEVICE,batch_size\u001b[38;5;241m=\u001b[39m\u001b[38;5;241m16\u001b[39m)\n\u001b[0;32m----> 4\u001b[0m \u001b[43mcreate_next_partitions\u001b[49m\u001b[43m(\u001b[49m\u001b[43mcurrent_partition\u001b[49m\u001b[43m)\u001b[49m\n",
            "\u001b[0;31mTypeError\u001b[0m: create_next_partitions() missing 2 required positional arguments: 'model' and 'criterion'"
          ]
        }
      ],
      "source": [
        "#Cargar mejor modelo de la particion actual\n",
        "model.load_state_dict(torch.load(best_model_path,weights_only=True))\n",
        "test_model(model,criterion,device=DEVICE,batch_size=16)"
      ]
    },
    {
      "cell_type": "code",
      "execution_count": 23,
      "metadata": {},
      "outputs": [],
      "source": [
        "create_next_partitions(current_partition)"
      ]
    },
    {
      "cell_type": "code",
      "execution_count": 24,
      "metadata": {},
      "outputs": [],
      "source": [
        "current_partition=4"
      ]
    },
    {
      "cell_type": "code",
      "execution_count": 25,
      "metadata": {},
      "outputs": [
        {
          "name": "stdout",
          "output_type": "stream",
          "text": [
            "Epoch [1/50]\n"
          ]
        },
        {
          "name": "stderr",
          "output_type": "stream",
          "text": [
            "Train Epoch 1: 100%|██████████| 307/307 [02:14<00:00,  2.28it/s, WMAPE=1.7, DICE=0.0421, DPEAKS=32.6, Loss=0.0052]\n",
            "Validate Epoch 1: 100%|██████████| 77/77 [00:12<00:00,  6.06it/s, WMAPE=1.51, DICE=0.0393, DPEAKS=27.1, Loss=0.00439]\n"
          ]
        },
        {
          "name": "stdout",
          "output_type": "stream",
          "text": [
            "Saving best model\n",
            "Epoch [2/50]\n"
          ]
        },
        {
          "name": "stderr",
          "output_type": "stream",
          "text": [
            "Train Epoch 2: 100%|██████████| 307/307 [02:04<00:00,  2.47it/s, WMAPE=1.69, DICE=0.041, DPEAKS=32.5, Loss=0.00514]\n",
            "Validate Epoch 2: 100%|██████████| 77/77 [00:11<00:00,  6.91it/s, WMAPE=1.72, DICE=0.0389, DPEAKS=28.4, Loss=0.00493]\n"
          ]
        },
        {
          "name": "stdout",
          "output_type": "stream",
          "text": [
            "Epoch [3/50]\n"
          ]
        },
        {
          "name": "stderr",
          "output_type": "stream",
          "text": [
            "Train Epoch 3: 100%|██████████| 307/307 [02:02<00:00,  2.51it/s, WMAPE=1.67, DICE=0.0407, DPEAKS=32, Loss=0.00506]\n",
            "Validate Epoch 3: 100%|██████████| 77/77 [00:10<00:00,  7.11it/s, WMAPE=1.48, DICE=0.0388, DPEAKS=28, Loss=0.0043]\n"
          ]
        },
        {
          "name": "stdout",
          "output_type": "stream",
          "text": [
            "Saving best model\n",
            "Epoch [4/50]\n"
          ]
        },
        {
          "name": "stderr",
          "output_type": "stream",
          "text": [
            "Train Epoch 4: 100%|██████████| 307/307 [02:04<00:00,  2.46it/s, WMAPE=1.63, DICE=0.0406, DPEAKS=30.3, Loss=0.00496]\n",
            "Validate Epoch 4: 100%|██████████| 77/77 [00:11<00:00,  6.81it/s, WMAPE=1.46, DICE=0.039, DPEAKS=27.4, Loss=0.00426]\n"
          ]
        },
        {
          "name": "stdout",
          "output_type": "stream",
          "text": [
            "Saving best model\n",
            "Epoch [5/50]\n"
          ]
        },
        {
          "name": "stderr",
          "output_type": "stream",
          "text": [
            "Train Epoch 5: 100%|██████████| 307/307 [02:03<00:00,  2.48it/s, WMAPE=1.64, DICE=0.0403, DPEAKS=31.1, Loss=0.00503]\n",
            "Validate Epoch 5: 100%|██████████| 77/77 [00:11<00:00,  6.88it/s, WMAPE=1.65, DICE=0.0381, DPEAKS=26.7, Loss=0.00478]\n"
          ]
        },
        {
          "name": "stdout",
          "output_type": "stream",
          "text": [
            "Epoch [6/50]\n"
          ]
        },
        {
          "name": "stderr",
          "output_type": "stream",
          "text": [
            "Train Epoch 6: 100%|██████████| 307/307 [02:02<00:00,  2.51it/s, WMAPE=1.63, DICE=0.0404, DPEAKS=31, Loss=0.00503]\n",
            "Validate Epoch 6: 100%|██████████| 77/77 [00:11<00:00,  6.90it/s, WMAPE=1.43, DICE=0.0383, DPEAKS=27.1, Loss=0.00422]\n"
          ]
        },
        {
          "name": "stdout",
          "output_type": "stream",
          "text": [
            "Saving best model\n",
            "Epoch [7/50]\n"
          ]
        },
        {
          "name": "stderr",
          "output_type": "stream",
          "text": [
            "Train Epoch 7: 100%|██████████| 307/307 [02:05<00:00,  2.44it/s, WMAPE=1.62, DICE=0.04, DPEAKS=30.8, Loss=0.00497]\n",
            "Validate Epoch 7: 100%|██████████| 77/77 [00:11<00:00,  6.61it/s, WMAPE=1.53, DICE=0.0381, DPEAKS=27.1, Loss=0.00434]\n"
          ]
        },
        {
          "name": "stdout",
          "output_type": "stream",
          "text": [
            "Epoch [8/50]\n"
          ]
        },
        {
          "name": "stderr",
          "output_type": "stream",
          "text": [
            "Train Epoch 8: 100%|██████████| 307/307 [02:03<00:00,  2.48it/s, WMAPE=1.62, DICE=0.04, DPEAKS=30.7, Loss=0.00497]\n",
            "Validate Epoch 8: 100%|██████████| 77/77 [00:10<00:00,  7.07it/s, WMAPE=1.45, DICE=0.0379, DPEAKS=27.2, Loss=0.00424]\n"
          ]
        },
        {
          "name": "stdout",
          "output_type": "stream",
          "text": [
            "Epoch [9/50]\n"
          ]
        },
        {
          "name": "stderr",
          "output_type": "stream",
          "text": [
            "Train Epoch 9: 100%|██████████| 307/307 [02:04<00:00,  2.47it/s, WMAPE=1.61, DICE=0.0399, DPEAKS=30.7, Loss=0.00495]\n",
            "Validate Epoch 9: 100%|██████████| 77/77 [00:11<00:00,  6.50it/s, WMAPE=1.41, DICE=0.038, DPEAKS=26.9, Loss=0.00424]\n"
          ]
        },
        {
          "name": "stdout",
          "output_type": "stream",
          "text": [
            "early stopping: 3 epochs without improvement\n",
            "Training complete.\n"
          ]
        }
      ],
      "source": [
        "train_loader, val_loader = create_train_valid_loaders(\n",
        "    f\"partition_{current_partition}_train.json\",\n",
        "    f\"partition_{current_partition}_val.json\",\n",
        "    \"partitions\",\n",
        "    batch_size=16,\n",
        ")\n",
        "best_model_path = os.path.join(\n",
        "    \"models\", f\"best_model_partition_{current_partition}.pth\"\n",
        ")\n",
        "last_checkpoint_path = os.path.join(\n",
        "    \"models\", f\"last_checkpoint_partition_{current_partition}.pth\"\n",
        ")\n",
        "optimizer = optim.Adam(model.parameters(), lr=0.00001)\n",
        "train_model(\n",
        "    model,\n",
        "    train_loader,\n",
        "    val_loader,\n",
        "    best_model_path,\n",
        "    last_checkpoint_path,\n",
        "    criterion,\n",
        "    optimizer,\n",
        "    num_epochs=50,\n",
        "    device=DEVICE,\n",
        "    early_stopping_patience=3,\n",
        ")"
      ]
    },
    {
      "cell_type": "code",
      "execution_count": 26,
      "metadata": {},
      "outputs": [
        {
          "name": "stderr",
          "output_type": "stream",
          "text": [
            "Validate Epoch test: 100%|██████████| 1941/1941 [04:50<00:00,  6.68it/s, WMAPE=1.41, DICE=0.0383, DPEAKS=28.1, Loss=0.00421]\n"
          ]
        }
      ],
      "source": [
        "#Cargar mejor modelo de la particion actual\n",
        "model.load_state_dict(torch.load(best_model_path,weights_only=True))\n",
        "test_model(model,criterion,device=DEVICE,batch_size=16)\n",
        "create_next_partitions(current_partition)"
      ]
    },
    {
      "cell_type": "code",
      "execution_count": 27,
      "metadata": {},
      "outputs": [],
      "source": [
        "current_partition=5"
      ]
    },
    {
      "cell_type": "code",
      "execution_count": 10,
      "metadata": {},
      "outputs": [
        {
          "name": "stdout",
          "output_type": "stream",
          "text": [
            "Epoch [1/50]\n"
          ]
        },
        {
          "name": "stderr",
          "output_type": "stream",
          "text": [
            "Train Epoch 1: 100%|██████████| 307/307 [01:41<00:00,  3.01it/s, WMAPE=2.11, DICE=0.0473, DPEAKS=47.9, Loss=0.00575]\n",
            "Validate Epoch 1: 100%|██████████| 77/77 [00:09<00:00,  7.86it/s, WMAPE=1.87, DICE=0.0453, DPEAKS=46.4, Loss=0.00513]\n"
          ]
        },
        {
          "name": "stdout",
          "output_type": "stream",
          "text": [
            "Saving best model\n",
            "Epoch [2/50]\n"
          ]
        },
        {
          "name": "stderr",
          "output_type": "stream",
          "text": [
            "Train Epoch 2: 100%|██████████| 307/307 [01:40<00:00,  3.05it/s, WMAPE=2.07, DICE=0.0471, DPEAKS=47.3, Loss=0.00562]\n",
            "Validate Epoch 2: 100%|██████████| 77/77 [00:10<00:00,  7.59it/s, WMAPE=1.97, DICE=0.0453, DPEAKS=44, Loss=0.00521]\n"
          ]
        },
        {
          "name": "stdout",
          "output_type": "stream",
          "text": [
            "Epoch [3/50]\n"
          ]
        },
        {
          "name": "stderr",
          "output_type": "stream",
          "text": [
            "Train Epoch 3: 100%|██████████| 307/307 [01:39<00:00,  3.08it/s, WMAPE=2.07, DICE=0.0471, DPEAKS=47.2, Loss=0.00578]\n",
            "Validate Epoch 3: 100%|██████████| 77/77 [00:09<00:00,  8.01it/s, WMAPE=2.45, DICE=0.0461, DPEAKS=44, Loss=0.00671]\n"
          ]
        },
        {
          "name": "stdout",
          "output_type": "stream",
          "text": [
            "Epoch [4/50]\n"
          ]
        },
        {
          "name": "stderr",
          "output_type": "stream",
          "text": [
            "Train Epoch 4: 100%|██████████| 307/307 [01:39<00:00,  3.09it/s, WMAPE=2.09, DICE=0.047, DPEAKS=46.6, Loss=0.00569]\n",
            "Validate Epoch 4: 100%|██████████| 77/77 [00:09<00:00,  7.87it/s, WMAPE=1.92, DICE=0.0455, DPEAKS=45.8, Loss=0.00514]\n"
          ]
        },
        {
          "name": "stdout",
          "output_type": "stream",
          "text": [
            "early stopping: 3 epochs without improvement\n",
            "Training complete.\n"
          ]
        }
      ],
      "source": [
        "train_loader, val_loader = create_train_valid_loaders(\n",
        "    f\"partition_{current_partition}_train.json\",\n",
        "    f\"partition_{current_partition}_val.json\",\n",
        "    \"partitions\",\n",
        "    batch_size=16,\n",
        ")\n",
        "best_model_path = os.path.join(\n",
        "    \"models\", f\"best_model_partition_{current_partition}.pth\"\n",
        ")\n",
        "last_checkpoint_path = os.path.join(\n",
        "    \"models\", f\"last_checkpoint_partition_{current_partition}.pth\"\n",
        ")\n",
        "optimizer = optim.Adam(model.parameters(), lr=0.00001)\n",
        "train_model(\n",
        "    model,\n",
        "    train_loader,\n",
        "    val_loader,\n",
        "    best_model_path,\n",
        "    last_checkpoint_path,\n",
        "    criterion,\n",
        "    optimizer,\n",
        "    num_epochs=50,\n",
        "    device=DEVICE,\n",
        "    early_stopping_patience=3,\n",
        ")"
      ]
    },
    {
      "cell_type": "code",
      "execution_count": 11,
      "metadata": {},
      "outputs": [
        {
          "name": "stderr",
          "output_type": "stream",
          "text": [
            "Validate Epoch test: 100%|██████████| 1941/1941 [04:08<00:00,  7.82it/s, WMAPE=1.51, DICE=0.0433, DPEAKS=33, Loss=0.0046]\n",
            "Validate Epoch partition_6_train: 100%|██████████| 307/307 [00:42<00:00,  7.16it/s, WMAPE=1.53, DICE=0.0433, DPEAKS=33, Loss=0.00465]\n",
            "Validate Epoch partition_6_val: 100%|██████████| 77/77 [00:10<00:00,  7.21it/s, WMAPE=1.65, DICE=0.0436, DPEAKS=36.1, Loss=0.00477]\n"
          ]
        }
      ],
      "source": [
        "#Cargar mejor modelo de la particion actual\n",
        "model.load_state_dict(torch.load(best_model_path,weights_only=True))\n",
        "test_model(model,criterion,device=DEVICE,batch_size=16)\n",
        "create_next_partitions(current_partition,model,criterion,device=DEVICE)"
      ]
    },
    {
      "cell_type": "code",
      "execution_count": 12,
      "metadata": {},
      "outputs": [],
      "source": [
        "current_partition=6"
      ]
    },
    {
      "cell_type": "code",
      "execution_count": 13,
      "metadata": {},
      "outputs": [
        {
          "name": "stdout",
          "output_type": "stream",
          "text": [
            "Epoch [1/50]\n"
          ]
        },
        {
          "name": "stderr",
          "output_type": "stream",
          "text": [
            "Train Epoch 1: 100%|██████████| 307/307 [01:39<00:00,  3.08it/s, WMAPE=2.12, DICE=0.048, DPEAKS=50.3, Loss=0.00585]\n",
            "Validate Epoch 1: 100%|██████████| 77/77 [00:09<00:00,  8.14it/s, WMAPE=2.05, DICE=0.046, DPEAKS=52.4, Loss=0.00538]\n"
          ]
        },
        {
          "name": "stdout",
          "output_type": "stream",
          "text": [
            "Saving best model\n",
            "Epoch [2/50]\n"
          ]
        },
        {
          "name": "stderr",
          "output_type": "stream",
          "text": [
            "Train Epoch 2: 100%|██████████| 307/307 [01:38<00:00,  3.12it/s, WMAPE=2.13, DICE=0.0478, DPEAKS=49.1, Loss=0.00582]\n",
            "Validate Epoch 2: 100%|██████████| 77/77 [00:09<00:00,  8.04it/s, WMAPE=2.06, DICE=0.0462, DPEAKS=52.8, Loss=0.00534]\n"
          ]
        },
        {
          "name": "stdout",
          "output_type": "stream",
          "text": [
            "Saving best model\n",
            "Epoch [3/50]\n"
          ]
        },
        {
          "name": "stderr",
          "output_type": "stream",
          "text": [
            "Train Epoch 3: 100%|██████████| 307/307 [01:38<00:00,  3.12it/s, WMAPE=2.12, DICE=0.0478, DPEAKS=49.1, Loss=0.00574]\n",
            "Validate Epoch 3: 100%|██████████| 77/77 [00:09<00:00,  8.10it/s, WMAPE=2.07, DICE=0.0464, DPEAKS=52.6, Loss=0.00533]\n"
          ]
        },
        {
          "name": "stdout",
          "output_type": "stream",
          "text": [
            "Saving best model\n",
            "Epoch [4/50]\n"
          ]
        },
        {
          "name": "stderr",
          "output_type": "stream",
          "text": [
            "Train Epoch 4: 100%|██████████| 307/307 [01:38<00:00,  3.11it/s, WMAPE=2.15, DICE=0.0478, DPEAKS=49.6, Loss=0.00582]\n",
            "Validate Epoch 4: 100%|██████████| 77/77 [00:09<00:00,  8.02it/s, WMAPE=2.12, DICE=0.0466, DPEAKS=52.3, Loss=0.00537]\n"
          ]
        },
        {
          "name": "stdout",
          "output_type": "stream",
          "text": [
            "Epoch [5/50]\n"
          ]
        },
        {
          "name": "stderr",
          "output_type": "stream",
          "text": [
            "Train Epoch 5: 100%|██████████| 307/307 [01:38<00:00,  3.11it/s, WMAPE=2.08, DICE=0.0475, DPEAKS=49.3, Loss=0.00571]\n",
            "Validate Epoch 5: 100%|██████████| 77/77 [00:09<00:00,  8.07it/s, WMAPE=2.06, DICE=0.046, DPEAKS=52, Loss=0.00531]\n"
          ]
        },
        {
          "name": "stdout",
          "output_type": "stream",
          "text": [
            "Saving best model\n",
            "Epoch [6/50]\n"
          ]
        },
        {
          "name": "stderr",
          "output_type": "stream",
          "text": [
            "Train Epoch 6: 100%|██████████| 307/307 [01:38<00:00,  3.11it/s, WMAPE=2.12, DICE=0.0473, DPEAKS=49.6, Loss=0.00581]\n",
            "Validate Epoch 6: 100%|██████████| 77/77 [00:09<00:00,  8.08it/s, WMAPE=2.02, DICE=0.046, DPEAKS=51.6, Loss=0.00532]\n"
          ]
        },
        {
          "name": "stdout",
          "output_type": "stream",
          "text": [
            "Epoch [7/50]\n"
          ]
        },
        {
          "name": "stderr",
          "output_type": "stream",
          "text": [
            "Train Epoch 7: 100%|██████████| 307/307 [01:38<00:00,  3.11it/s, WMAPE=2.07, DICE=0.0475, DPEAKS=49.1, Loss=0.00568]\n",
            "Validate Epoch 7: 100%|██████████| 77/77 [00:09<00:00,  8.05it/s, WMAPE=2.03, DICE=0.0454, DPEAKS=51.4, Loss=0.00528]\n"
          ]
        },
        {
          "name": "stdout",
          "output_type": "stream",
          "text": [
            "Saving best model\n",
            "Epoch [8/50]\n"
          ]
        },
        {
          "name": "stderr",
          "output_type": "stream",
          "text": [
            "Train Epoch 8: 100%|██████████| 307/307 [01:38<00:00,  3.11it/s, WMAPE=2.07, DICE=0.0473, DPEAKS=49.8, Loss=0.00567]\n",
            "Validate Epoch 8: 100%|██████████| 77/77 [00:09<00:00,  8.07it/s, WMAPE=2.01, DICE=0.0452, DPEAKS=49.2, Loss=0.00527]\n"
          ]
        },
        {
          "name": "stdout",
          "output_type": "stream",
          "text": [
            "Saving best model\n",
            "Epoch [9/50]\n"
          ]
        },
        {
          "name": "stderr",
          "output_type": "stream",
          "text": [
            "Train Epoch 9: 100%|██████████| 307/307 [01:38<00:00,  3.11it/s, WMAPE=2.13, DICE=0.0473, DPEAKS=48.4, Loss=0.00579]\n",
            "Validate Epoch 9: 100%|██████████| 77/77 [00:09<00:00,  8.06it/s, WMAPE=2.05, DICE=0.0462, DPEAKS=50.6, Loss=0.00529]\n"
          ]
        },
        {
          "name": "stdout",
          "output_type": "stream",
          "text": [
            "Epoch [10/50]\n"
          ]
        },
        {
          "name": "stderr",
          "output_type": "stream",
          "text": [
            "Train Epoch 10: 100%|██████████| 307/307 [01:37<00:00,  3.14it/s, WMAPE=2.11, DICE=0.047, DPEAKS=48.1, Loss=0.00573]\n",
            "Validate Epoch 10: 100%|██████████| 77/77 [00:09<00:00,  8.08it/s, WMAPE=2.08, DICE=0.0455, DPEAKS=52.3, Loss=0.00549]\n"
          ]
        },
        {
          "name": "stdout",
          "output_type": "stream",
          "text": [
            "Epoch [11/50]\n"
          ]
        },
        {
          "name": "stderr",
          "output_type": "stream",
          "text": [
            "Train Epoch 11: 100%|██████████| 307/307 [01:37<00:00,  3.14it/s, WMAPE=2.1, DICE=0.047, DPEAKS=48.6, Loss=0.00571]\n",
            "Validate Epoch 11: 100%|██████████| 77/77 [00:09<00:00,  8.14it/s, WMAPE=1.99, DICE=0.045, DPEAKS=49.5, Loss=0.00524]\n"
          ]
        },
        {
          "name": "stdout",
          "output_type": "stream",
          "text": [
            "Saving best model\n",
            "Epoch [12/50]\n"
          ]
        },
        {
          "name": "stderr",
          "output_type": "stream",
          "text": [
            "Train Epoch 12: 100%|██████████| 307/307 [01:37<00:00,  3.14it/s, WMAPE=2.08, DICE=0.047, DPEAKS=48.2, Loss=0.00565]\n",
            "Validate Epoch 12: 100%|██████████| 77/77 [00:09<00:00,  8.12it/s, WMAPE=2.03, DICE=0.0455, DPEAKS=50.6, Loss=0.00523]\n"
          ]
        },
        {
          "name": "stdout",
          "output_type": "stream",
          "text": [
            "Saving best model\n",
            "Epoch [13/50]\n"
          ]
        },
        {
          "name": "stderr",
          "output_type": "stream",
          "text": [
            "Train Epoch 13: 100%|██████████| 307/307 [01:37<00:00,  3.14it/s, WMAPE=2.1, DICE=0.0469, DPEAKS=48.8, Loss=0.00565]\n",
            "Validate Epoch 13: 100%|██████████| 77/77 [00:09<00:00,  8.15it/s, WMAPE=2.02, DICE=0.0451, DPEAKS=49.2, Loss=0.00525]\n"
          ]
        },
        {
          "name": "stdout",
          "output_type": "stream",
          "text": [
            "Epoch [14/50]\n"
          ]
        },
        {
          "name": "stderr",
          "output_type": "stream",
          "text": [
            "Train Epoch 14: 100%|██████████| 307/307 [01:37<00:00,  3.14it/s, WMAPE=2.1, DICE=0.0467, DPEAKS=48.1, Loss=0.00572]\n",
            "Validate Epoch 14: 100%|██████████| 77/77 [00:09<00:00,  8.05it/s, WMAPE=2.14, DICE=0.0452, DPEAKS=49.8, Loss=0.00559]\n"
          ]
        },
        {
          "name": "stdout",
          "output_type": "stream",
          "text": [
            "Epoch [15/50]\n"
          ]
        },
        {
          "name": "stderr",
          "output_type": "stream",
          "text": [
            "Train Epoch 15: 100%|██████████| 307/307 [01:37<00:00,  3.14it/s, WMAPE=2.08, DICE=0.0467, DPEAKS=47.7, Loss=0.00566]\n",
            "Validate Epoch 15: 100%|██████████| 77/77 [00:09<00:00,  8.12it/s, WMAPE=2.04, DICE=0.046, DPEAKS=50.1, Loss=0.00524]\n"
          ]
        },
        {
          "name": "stdout",
          "output_type": "stream",
          "text": [
            "early stopping: 3 epochs without improvement\n",
            "Training complete.\n"
          ]
        }
      ],
      "source": [
        "train_loader, val_loader = create_train_valid_loaders(\n",
        "    f\"partition_{current_partition}_train.json\",\n",
        "    f\"partition_{current_partition}_val.json\",\n",
        "    \"partitions\",\n",
        "    batch_size=16,\n",
        ")\n",
        "best_model_path = os.path.join(\n",
        "    \"models\", f\"best_model_partition_{current_partition}.pth\"\n",
        ")\n",
        "last_checkpoint_path = os.path.join(\n",
        "    \"models\", f\"last_checkpoint_partition_{current_partition}.pth\"\n",
        ")\n",
        "optimizer = optim.Adam(model.parameters(), lr=0.00001)\n",
        "train_model(\n",
        "    model,\n",
        "    train_loader,\n",
        "    val_loader,\n",
        "    best_model_path,\n",
        "    last_checkpoint_path,\n",
        "    criterion,\n",
        "    optimizer,\n",
        "    num_epochs=50,\n",
        "    device=DEVICE,\n",
        "    early_stopping_patience=3,\n",
        ")"
      ]
    },
    {
      "cell_type": "code",
      "execution_count": 14,
      "metadata": {},
      "outputs": [
        {
          "name": "stderr",
          "output_type": "stream",
          "text": [
            "Validate Epoch test: 100%|██████████| 1941/1941 [04:00<00:00,  8.07it/s, WMAPE=1.51, DICE=0.043, DPEAKS=33.6, Loss=0.00451]\n",
            "Validate Epoch partition_7_train: 100%|██████████| 307/307 [00:42<00:00,  7.19it/s, WMAPE=1.52, DICE=0.0431, DPEAKS=34.7, Loss=0.00451]\n",
            "Validate Epoch partition_7_val: 100%|██████████| 77/77 [00:10<00:00,  7.23it/s, WMAPE=1.54, DICE=0.043, DPEAKS=33.5, Loss=0.00457]\n"
          ]
        }
      ],
      "source": [
        "#Cargar mejor modelo de la particion actual\n",
        "model.load_state_dict(torch.load(best_model_path,weights_only=True))\n",
        "test_model(model,criterion,device=DEVICE,batch_size=16)\n",
        "create_next_partitions(current_partition,model,criterion,device=DEVICE)"
      ]
    },
    {
      "cell_type": "code",
      "execution_count": null,
      "metadata": {},
      "outputs": [],
      "source": []
    }
  ],
  "metadata": {
    "accelerator": "GPU",
    "colab": {
      "gpuType": "T4",
      "provenance": []
    },
    "kernelspec": {
      "display_name": "Python 3",
      "name": "python3"
    },
    "language_info": {
      "codemirror_mode": {
        "name": "ipython",
        "version": 3
      },
      "file_extension": ".py",
      "mimetype": "text/x-python",
      "name": "python",
      "nbconvert_exporter": "python",
      "pygments_lexer": "ipython3",
      "version": "3.12.5"
    }
  },
  "nbformat": 4,
  "nbformat_minor": 0
}
