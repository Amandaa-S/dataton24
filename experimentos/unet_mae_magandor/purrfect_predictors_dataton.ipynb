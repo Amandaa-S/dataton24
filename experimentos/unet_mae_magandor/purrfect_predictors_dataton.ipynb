{
  "cells": [
    {
      "cell_type": "markdown",
      "metadata": {},
      "source": [
        "## Carga modulo comun"
      ]
    },
    {
      "cell_type": "code",
      "execution_count": 1,
      "metadata": {},
      "outputs": [],
      "source": [
        "import sys\n",
        "import os\n",
        "sys.path.append(os.path.abspath('../../common'))"
      ]
    },
    {
      "cell_type": "code",
      "execution_count": 2,
      "metadata": {},
      "outputs": [],
      "source": [
        "import torch\n",
        "import torch.nn as nn\n",
        "import torch.nn.functional as F\n",
        "\n",
        "from purrfect.dataset import EPKADataset, load_partition,save_partition, create_train_valid_loaders\n",
        "from torch.utils.data import DataLoader\n",
        "\n",
        "from purrfect.training import train_model,train_validate\n",
        "import torch.optim as optim\n",
        "\n",
        "from purrfect.metrics import MetricAccumulator\n",
        "from purrfect.active_learning import create_new_partition,create_next_partitions, test_model\n",
        "\n",
        "from sklearn.model_selection import train_test_split"
      ]
    },
    {
      "cell_type": "code",
      "execution_count": 3,
      "metadata": {},
      "outputs": [],
      "source": [
        "DEVICE = torch.device('cuda' if torch.cuda.is_available() else 'cpu')"
      ]
    },
    {
      "cell_type": "markdown",
      "metadata": {},
      "source": [
        "## Definición modelo"
      ]
    },
    {
      "cell_type": "code",
      "execution_count": 5,
      "metadata": {},
      "outputs": [],
      "source": [
        "# Define the double convolution block\n",
        "class DoubleConv(nn.Module):\n",
        "    def __init__(self, in_channels, out_channels):\n",
        "        super(DoubleConv, self).__init__()\n",
        "        self.conv = nn.Sequential(\n",
        "            nn.Conv2d(in_channels, out_channels, kernel_size=3, padding=1),\n",
        "            nn.BatchNorm2d(out_channels),\n",
        "            nn.ReLU(inplace=True),\n",
        "            nn.Conv2d(out_channels, out_channels, kernel_size=3, padding=1),\n",
        "            nn.BatchNorm2d(out_channels),\n",
        "            nn.ReLU(inplace=True)\n",
        "        )\n",
        "\n",
        "    def forward(self, x):\n",
        "        return self.conv(x)\n",
        "\n",
        "class ChannelAdder(nn.Module):\n",
        "    def __init__(self):\n",
        "        super(ChannelAdder, self).__init__()\n",
        "\n",
        "    def forward(self, x):\n",
        "        # Extract the first and second channels\n",
        "        first_channel = x[:, 0, :, :]  # shape: (batch_size, height, width)\n",
        "        second_channel = x[:, 1, :, :]  # shape: (batch_size, height, width)\n",
        "\n",
        "        # Compute the first new channel: sqrt(first_channel^2 + second_channel^2)\n",
        "        new_channel1 = torch.sqrt(first_channel**2 + second_channel**2)\n",
        "\n",
        "        # Compute the second new channel: 1/2 * arctan(channel2 / channel1)\n",
        "        new_channel2 = 0.5 * torch.atan(second_channel / first_channel)\n",
        "\n",
        "        # Add the new channels to the batch (unsqueeze to maintain dimensions)\n",
        "        new_channel1 = new_channel1.unsqueeze(1)  # shape: (batch_size, 1, height, width)\n",
        "        new_channel2 = new_channel2.unsqueeze(1)  # shape: (batch_size, 1, height, width)\n",
        "\n",
        "        # Concatenate the new channels to the original input\n",
        "        output = torch.cat((x, new_channel1, new_channel2), dim=1)  # shape: (batch_size, 5, height, width)\n",
        "\n",
        "        return output\n",
        "\n",
        "# Define the U-Net model\n",
        "class UNet(nn.Module):\n",
        "    def __init__(self, in_channels, out_channels):\n",
        "        super(UNet, self).__init__()\n",
        "        # Channel Adder\n",
        "        self.channel_adder = ChannelAdder()\n",
        "        # Encoder\n",
        "        self.encoder1 = DoubleConv(in_channels+2, 64)\n",
        "        self.encoder2 = DoubleConv(64, 128)\n",
        "        self.encoder3 = DoubleConv(128, 256)\n",
        "        self.encoder4 = DoubleConv(256, 512)\n",
        "\n",
        "        # Bottleneck\n",
        "        self.bottleneck = DoubleConv(512, 1024)\n",
        "\n",
        "        # Decoder\n",
        "        self.upconv4 = nn.ConvTranspose2d(1024, 512, kernel_size=2, stride=2)\n",
        "        self.decoder4 = DoubleConv(1024, 512)\n",
        "        self.upconv3 = nn.ConvTranspose2d(512, 256, kernel_size=2, stride=2)\n",
        "        self.decoder3 = DoubleConv(512, 256)\n",
        "        self.upconv2 = nn.ConvTranspose2d(256, 128, kernel_size=2, stride=2)\n",
        "        self.decoder2 = DoubleConv(256, 128)\n",
        "        self.upconv1 = nn.ConvTranspose2d(128, 64, kernel_size=2, stride=2)\n",
        "        self.decoder1 = DoubleConv(128, 64)\n",
        "\n",
        "        # Final output layer\n",
        "        self.final_conv = nn.Conv2d(64, out_channels, kernel_size=1)\n",
        "\n",
        "    def forward(self, x):\n",
        "        # Agregar features\n",
        "        x = self.channel_adder(x)\n",
        "        \n",
        "        # Encoder\n",
        "        e1 = self.encoder1(x)\n",
        "        e2 = self.encoder2(F.max_pool2d(e1, 2))\n",
        "        e3 = self.encoder3(F.max_pool2d(e2, 2))\n",
        "        e4 = self.encoder4(F.max_pool2d(e3, 2))\n",
        "\n",
        "        # Bottleneck\n",
        "        b = self.bottleneck(F.max_pool2d(e4, 2))\n",
        "\n",
        "        # Decoder with skip connections\n",
        "        d4 = self.upconv4(b)\n",
        "        d4 = torch.cat((e4, d4), dim=1)\n",
        "        d4 = self.decoder4(d4)\n",
        "\n",
        "        d3 = self.upconv3(d4)\n",
        "        d3 = torch.cat((e3, d3), dim=1)\n",
        "        d3 = self.decoder3(d3)\n",
        "\n",
        "        d2 = self.upconv2(d3)\n",
        "        d2 = torch.cat((e2, d2), dim=1)\n",
        "        d2 = self.decoder2(d2)\n",
        "\n",
        "        d1 = self.upconv1(d2)\n",
        "        d1 = torch.cat((e1, d1), dim=1)\n",
        "        d1 = self.decoder1(d1)\n",
        "\n",
        "        # Final output\n",
        "        out = self.final_conv(d1)\n",
        "        return out"
      ]
    },
    {
      "cell_type": "markdown",
      "metadata": {},
      "source": [
        "## Creación particion inicial"
      ]
    },
    {
      "cell_type": "code",
      "execution_count": 6,
      "metadata": {},
      "outputs": [],
      "source": [
        "#Creacion de particiones train y valid\n",
        "init_partition = load_partition(\"partition_1.json\")\n",
        "train_partition, val_partition = train_test_split(init_partition, test_size=0.2, random_state=42)\n",
        "save_partition(\"partition_1_train.json\",\"partitions\",train_partition)\n",
        "save_partition(\"partition_1_val.json\",\"partitions\",val_partition)"
      ]
    },
    {
      "cell_type": "markdown",
      "metadata": {},
      "source": [
        "## Carga modelo"
      ]
    },
    {
      "cell_type": "code",
      "execution_count": 7,
      "metadata": {
        "id": "rYf70y6AJmLe"
      },
      "outputs": [],
      "source": [
        "#Define model\n",
        "model = UNet( 3, 1)\n",
        "model = model.to(DEVICE)\n",
        "# Define Loss\n",
        "criterion = torch.nn.L1Loss()\n",
        "current_partition = 1"
      ]
    },
    {
      "cell_type": "code",
      "execution_count": 8,
      "metadata": {},
      "outputs": [
        {
          "name": "stdout",
          "output_type": "stream",
          "text": [
            "Epoch [1/50]\n"
          ]
        },
        {
          "name": "stderr",
          "output_type": "stream",
          "text": [
            "Train Epoch 1: 100%|██████████| 307/307 [02:06<00:00,  2.42it/s, WMAPE=53, DICE=0.543, DPEAKS=233, Loss=0.156]\n",
            "Validate Epoch 1: 100%|██████████| 77/77 [00:11<00:00,  6.52it/s, WMAPE=11.1, DICE=0.545, DPEAKS=228, Loss=0.0415]\n"
          ]
        },
        {
          "name": "stdout",
          "output_type": "stream",
          "text": [
            "Saving best model\n",
            "Epoch [2/50]\n"
          ]
        },
        {
          "name": "stderr",
          "output_type": "stream",
          "text": [
            "Train Epoch 2: 100%|██████████| 307/307 [02:09<00:00,  2.38it/s, WMAPE=7.73, DICE=0.541, DPEAKS=227, Loss=0.0341]\n",
            "Validate Epoch 2: 100%|██████████| 77/77 [00:11<00:00,  6.51it/s, WMAPE=6.16, DICE=0.541, DPEAKS=224, Loss=0.0306]\n"
          ]
        },
        {
          "name": "stdout",
          "output_type": "stream",
          "text": [
            "Saving best model\n",
            "Epoch [3/50]\n"
          ]
        },
        {
          "name": "stderr",
          "output_type": "stream",
          "text": [
            "Train Epoch 3: 100%|██████████| 307/307 [02:08<00:00,  2.38it/s, WMAPE=5.2, DICE=0.536, DPEAKS=218, Loss=0.0291]\n",
            "Validate Epoch 3: 100%|██████████| 77/77 [00:11<00:00,  6.53it/s, WMAPE=4.6, DICE=0.537, DPEAKS=219, Loss=0.0279]\n"
          ]
        },
        {
          "name": "stdout",
          "output_type": "stream",
          "text": [
            "Saving best model\n",
            "Epoch [4/50]\n"
          ]
        },
        {
          "name": "stderr",
          "output_type": "stream",
          "text": [
            "Train Epoch 4: 100%|██████████| 307/307 [02:08<00:00,  2.38it/s, WMAPE=4.39, DICE=0.527, DPEAKS=199, Loss=0.0276]\n",
            "Validate Epoch 4: 100%|██████████| 77/77 [00:11<00:00,  6.49it/s, WMAPE=4.19, DICE=0.52, DPEAKS=190, Loss=0.0266]\n"
          ]
        },
        {
          "name": "stdout",
          "output_type": "stream",
          "text": [
            "Saving best model\n",
            "Epoch [5/50]\n"
          ]
        },
        {
          "name": "stderr",
          "output_type": "stream",
          "text": [
            "Train Epoch 5: 100%|██████████| 307/307 [02:08<00:00,  2.38it/s, WMAPE=4.92, DICE=0.423, DPEAKS=153, Loss=0.0231]\n",
            "Validate Epoch 5: 100%|██████████| 77/77 [00:11<00:00,  6.61it/s, WMAPE=5.13, DICE=0.328, DPEAKS=140, Loss=0.0203]\n"
          ]
        },
        {
          "name": "stdout",
          "output_type": "stream",
          "text": [
            "Saving best model\n",
            "Epoch [6/50]\n"
          ]
        },
        {
          "name": "stderr",
          "output_type": "stream",
          "text": [
            "Train Epoch 6: 100%|██████████| 307/307 [02:08<00:00,  2.39it/s, WMAPE=4.96, DICE=0.294, DPEAKS=131, Loss=0.0182]\n",
            "Validate Epoch 6: 100%|██████████| 77/77 [00:11<00:00,  6.61it/s, WMAPE=4.86, DICE=0.276, DPEAKS=133, Loss=0.0171]\n"
          ]
        },
        {
          "name": "stdout",
          "output_type": "stream",
          "text": [
            "Saving best model\n",
            "Epoch [7/50]\n"
          ]
        },
        {
          "name": "stderr",
          "output_type": "stream",
          "text": [
            "Train Epoch 7: 100%|██████████| 307/307 [02:06<00:00,  2.43it/s, WMAPE=4.56, DICE=0.257, DPEAKS=122, Loss=0.0161]\n",
            "Validate Epoch 7: 100%|██████████| 77/77 [00:10<00:00,  7.17it/s, WMAPE=4.66, DICE=0.259, DPEAKS=131, Loss=0.0166]\n"
          ]
        },
        {
          "name": "stdout",
          "output_type": "stream",
          "text": [
            "Saving best model\n",
            "Epoch [8/50]\n"
          ]
        },
        {
          "name": "stderr",
          "output_type": "stream",
          "text": [
            "Train Epoch 8: 100%|██████████| 307/307 [02:01<00:00,  2.54it/s, WMAPE=4.24, DICE=0.237, DPEAKS=116, Loss=0.0147]\n",
            "Validate Epoch 8: 100%|██████████| 77/77 [00:11<00:00,  6.60it/s, WMAPE=4.66, DICE=0.245, DPEAKS=128, Loss=0.0175]\n"
          ]
        },
        {
          "name": "stdout",
          "output_type": "stream",
          "text": [
            "Epoch [9/50]\n"
          ]
        },
        {
          "name": "stderr",
          "output_type": "stream",
          "text": [
            "Train Epoch 9: 100%|██████████| 307/307 [02:08<00:00,  2.39it/s, WMAPE=4.01, DICE=0.221, DPEAKS=112, Loss=0.0136]\n",
            "Validate Epoch 9: 100%|██████████| 77/77 [00:11<00:00,  6.56it/s, WMAPE=4.42, DICE=0.232, DPEAKS=122, Loss=0.0166]\n"
          ]
        },
        {
          "name": "stdout",
          "output_type": "stream",
          "text": [
            "Epoch [10/50]\n"
          ]
        },
        {
          "name": "stderr",
          "output_type": "stream",
          "text": [
            "Train Epoch 10: 100%|██████████| 307/307 [02:08<00:00,  2.39it/s, WMAPE=3.89, DICE=0.209, DPEAKS=106, Loss=0.013]\n",
            "Validate Epoch 10: 100%|██████████| 77/77 [00:11<00:00,  6.85it/s, WMAPE=4.28, DICE=0.22, DPEAKS=119, Loss=0.0146]\n"
          ]
        },
        {
          "name": "stdout",
          "output_type": "stream",
          "text": [
            "Saving best model\n",
            "Epoch [11/50]\n"
          ]
        },
        {
          "name": "stderr",
          "output_type": "stream",
          "text": [
            "Train Epoch 11: 100%|██████████| 307/307 [02:07<00:00,  2.41it/s, WMAPE=3.71, DICE=0.199, DPEAKS=103, Loss=0.0123]\n",
            "Validate Epoch 11: 100%|██████████| 77/77 [00:11<00:00,  6.80it/s, WMAPE=4.53, DICE=0.212, DPEAKS=115, Loss=0.0144]\n"
          ]
        },
        {
          "name": "stdout",
          "output_type": "stream",
          "text": [
            "Saving best model\n",
            "Epoch [12/50]\n"
          ]
        },
        {
          "name": "stderr",
          "output_type": "stream",
          "text": [
            "Train Epoch 12: 100%|██████████| 307/307 [02:09<00:00,  2.38it/s, WMAPE=3.63, DICE=0.191, DPEAKS=100, Loss=0.0119]\n",
            "Validate Epoch 12: 100%|██████████| 77/77 [00:11<00:00,  6.84it/s, WMAPE=4.15, DICE=0.208, DPEAKS=111, Loss=0.0141]\n"
          ]
        },
        {
          "name": "stdout",
          "output_type": "stream",
          "text": [
            "Saving best model\n",
            "Epoch [13/50]\n"
          ]
        },
        {
          "name": "stderr",
          "output_type": "stream",
          "text": [
            "Train Epoch 13: 100%|██████████| 307/307 [02:05<00:00,  2.44it/s, WMAPE=3.53, DICE=0.184, DPEAKS=97.9, Loss=0.0116]\n",
            "Validate Epoch 13: 100%|██████████| 77/77 [00:11<00:00,  6.52it/s, WMAPE=3.97, DICE=0.205, DPEAKS=116, Loss=0.0138]\n"
          ]
        },
        {
          "name": "stdout",
          "output_type": "stream",
          "text": [
            "Saving best model\n",
            "Epoch [14/50]\n"
          ]
        },
        {
          "name": "stderr",
          "output_type": "stream",
          "text": [
            "Train Epoch 14: 100%|██████████| 307/307 [02:10<00:00,  2.36it/s, WMAPE=3.49, DICE=0.178, DPEAKS=94, Loss=0.0113]\n",
            "Validate Epoch 14: 100%|██████████| 77/77 [00:11<00:00,  6.54it/s, WMAPE=4.02, DICE=0.198, DPEAKS=110, Loss=0.0133]\n"
          ]
        },
        {
          "name": "stdout",
          "output_type": "stream",
          "text": [
            "Saving best model\n",
            "Epoch [15/50]\n"
          ]
        },
        {
          "name": "stderr",
          "output_type": "stream",
          "text": [
            "Train Epoch 15: 100%|██████████| 307/307 [02:10<00:00,  2.36it/s, WMAPE=3.39, DICE=0.173, DPEAKS=91.9, Loss=0.011]\n",
            "Validate Epoch 15: 100%|██████████| 77/77 [00:11<00:00,  6.55it/s, WMAPE=5.71, DICE=0.199, DPEAKS=110, Loss=0.0165]\n"
          ]
        },
        {
          "name": "stdout",
          "output_type": "stream",
          "text": [
            "Epoch [16/50]\n"
          ]
        },
        {
          "name": "stderr",
          "output_type": "stream",
          "text": [
            "Train Epoch 16: 100%|██████████| 307/307 [02:08<00:00,  2.39it/s, WMAPE=3.38, DICE=0.172, DPEAKS=91.2, Loss=0.0109]\n",
            "Validate Epoch 16: 100%|██████████| 77/77 [00:11<00:00,  6.65it/s, WMAPE=3.8, DICE=0.193, DPEAKS=111, Loss=0.0132]\n"
          ]
        },
        {
          "name": "stdout",
          "output_type": "stream",
          "text": [
            "Saving best model\n",
            "Epoch [17/50]\n"
          ]
        },
        {
          "name": "stderr",
          "output_type": "stream",
          "text": [
            "Train Epoch 17: 100%|██████████| 307/307 [02:07<00:00,  2.40it/s, WMAPE=3.24, DICE=0.164, DPEAKS=87, Loss=0.0105]\n",
            "Validate Epoch 17: 100%|██████████| 77/77 [00:11<00:00,  6.73it/s, WMAPE=4.04, DICE=0.189, DPEAKS=109, Loss=0.0131]\n"
          ]
        },
        {
          "name": "stdout",
          "output_type": "stream",
          "text": [
            "Saving best model\n",
            "Epoch [18/50]\n"
          ]
        },
        {
          "name": "stderr",
          "output_type": "stream",
          "text": [
            "Train Epoch 18: 100%|██████████| 307/307 [02:10<00:00,  2.36it/s, WMAPE=3.22, DICE=0.16, DPEAKS=85.3, Loss=0.0103]\n",
            "Validate Epoch 18: 100%|██████████| 77/77 [00:11<00:00,  6.51it/s, WMAPE=4.24, DICE=0.19, DPEAKS=111, Loss=0.0137]\n"
          ]
        },
        {
          "name": "stdout",
          "output_type": "stream",
          "text": [
            "Epoch [19/50]\n"
          ]
        },
        {
          "name": "stderr",
          "output_type": "stream",
          "text": [
            "Train Epoch 19: 100%|██████████| 307/307 [02:08<00:00,  2.39it/s, WMAPE=3.17, DICE=0.157, DPEAKS=83.9, Loss=0.0101]\n",
            "Validate Epoch 19: 100%|██████████| 77/77 [00:11<00:00,  6.56it/s, WMAPE=3.82, DICE=0.191, DPEAKS=111, Loss=0.0132]\n"
          ]
        },
        {
          "name": "stdout",
          "output_type": "stream",
          "text": [
            "Epoch [20/50]\n"
          ]
        },
        {
          "name": "stderr",
          "output_type": "stream",
          "text": [
            "Train Epoch 20: 100%|██████████| 307/307 [02:09<00:00,  2.37it/s, WMAPE=3.1, DICE=0.154, DPEAKS=81.3, Loss=0.00992]\n",
            "Validate Epoch 20: 100%|██████████| 77/77 [00:11<00:00,  6.61it/s, WMAPE=4.19, DICE=0.181, DPEAKS=104, Loss=0.0129]\n"
          ]
        },
        {
          "name": "stdout",
          "output_type": "stream",
          "text": [
            "Saving best model\n",
            "Epoch [21/50]\n"
          ]
        },
        {
          "name": "stderr",
          "output_type": "stream",
          "text": [
            "Train Epoch 21: 100%|██████████| 307/307 [02:09<00:00,  2.38it/s, WMAPE=3.07, DICE=0.151, DPEAKS=79.3, Loss=0.00975]\n",
            "Validate Epoch 21: 100%|██████████| 77/77 [00:11<00:00,  6.56it/s, WMAPE=3.7, DICE=0.181, DPEAKS=104, Loss=0.0125]\n"
          ]
        },
        {
          "name": "stdout",
          "output_type": "stream",
          "text": [
            "Saving best model\n",
            "Epoch [22/50]\n"
          ]
        },
        {
          "name": "stderr",
          "output_type": "stream",
          "text": [
            "Train Epoch 22: 100%|██████████| 307/307 [02:03<00:00,  2.49it/s, WMAPE=3.03, DICE=0.148, DPEAKS=78.3, Loss=0.00963]\n",
            "Validate Epoch 22: 100%|██████████| 77/77 [00:10<00:00,  7.17it/s, WMAPE=6.02, DICE=0.198, DPEAKS=112, Loss=0.0207]\n"
          ]
        },
        {
          "name": "stdout",
          "output_type": "stream",
          "text": [
            "Epoch [23/50]\n"
          ]
        },
        {
          "name": "stderr",
          "output_type": "stream",
          "text": [
            "Train Epoch 23: 100%|██████████| 307/307 [01:58<00:00,  2.58it/s, WMAPE=3.07, DICE=0.151, DPEAKS=80.1, Loss=0.00983]\n",
            "Validate Epoch 23: 100%|██████████| 77/77 [00:10<00:00,  7.16it/s, WMAPE=3.84, DICE=0.177, DPEAKS=102, Loss=0.0123]\n"
          ]
        },
        {
          "name": "stdout",
          "output_type": "stream",
          "text": [
            "Saving best model\n",
            "Epoch [24/50]\n"
          ]
        },
        {
          "name": "stderr",
          "output_type": "stream",
          "text": [
            "Train Epoch 24: 100%|██████████| 307/307 [02:02<00:00,  2.50it/s, WMAPE=2.92, DICE=0.144, DPEAKS=74.1, Loss=0.00928]\n",
            "Validate Epoch 24: 100%|██████████| 77/77 [00:11<00:00,  6.84it/s, WMAPE=4.29, DICE=0.178, DPEAKS=102, Loss=0.0133]\n"
          ]
        },
        {
          "name": "stdout",
          "output_type": "stream",
          "text": [
            "Epoch [25/50]\n"
          ]
        },
        {
          "name": "stderr",
          "output_type": "stream",
          "text": [
            "Train Epoch 25: 100%|██████████| 307/307 [02:02<00:00,  2.51it/s, WMAPE=2.88, DICE=0.141, DPEAKS=71.5, Loss=0.00914]\n",
            "Validate Epoch 25: 100%|██████████| 77/77 [00:10<00:00,  7.04it/s, WMAPE=3.54, DICE=0.175, DPEAKS=101, Loss=0.0122]\n"
          ]
        },
        {
          "name": "stdout",
          "output_type": "stream",
          "text": [
            "Saving best model\n",
            "Epoch [26/50]\n"
          ]
        },
        {
          "name": "stderr",
          "output_type": "stream",
          "text": [
            "Train Epoch 26: 100%|██████████| 307/307 [02:00<00:00,  2.55it/s, WMAPE=2.87, DICE=0.139, DPEAKS=70.4, Loss=0.00908]\n",
            "Validate Epoch 26: 100%|██████████| 77/77 [00:10<00:00,  7.15it/s, WMAPE=3.84, DICE=0.174, DPEAKS=102, Loss=0.0123]\n"
          ]
        },
        {
          "name": "stdout",
          "output_type": "stream",
          "text": [
            "Epoch [27/50]\n"
          ]
        },
        {
          "name": "stderr",
          "output_type": "stream",
          "text": [
            "Train Epoch 27: 100%|██████████| 307/307 [02:02<00:00,  2.50it/s, WMAPE=2.87, DICE=0.137, DPEAKS=70.3, Loss=0.00902]\n",
            "Validate Epoch 27: 100%|██████████| 77/77 [00:10<00:00,  7.03it/s, WMAPE=3.64, DICE=0.174, DPEAKS=100, Loss=0.0126]\n"
          ]
        },
        {
          "name": "stdout",
          "output_type": "stream",
          "text": [
            "Epoch [28/50]\n"
          ]
        },
        {
          "name": "stderr",
          "output_type": "stream",
          "text": [
            "Train Epoch 28: 100%|██████████| 307/307 [02:02<00:00,  2.52it/s, WMAPE=2.82, DICE=0.135, DPEAKS=68.3, Loss=0.00891]\n",
            "Validate Epoch 28: 100%|██████████| 77/77 [00:11<00:00,  6.98it/s, WMAPE=4.39, DICE=0.172, DPEAKS=99.7, Loss=0.0132]\n"
          ]
        },
        {
          "name": "stdout",
          "output_type": "stream",
          "text": [
            "early stopping: 3 epochs without improvement\n",
            "Training complete.\n"
          ]
        }
      ],
      "source": [
        "train_loader, val_loader = create_train_valid_loaders(\n",
        "    f\"partition_{current_partition}_train.json\",\n",
        "    f\"partition_{current_partition}_val.json\",\n",
        "    \"partitions\",\n",
        "    batch_size=16,\n",
        ")\n",
        "best_model_path = os.path.join(\n",
        "    \"models\", f\"best_model_partition_{current_partition}.pth\"\n",
        ")\n",
        "last_checkpoint_path = os.path.join(\n",
        "    \"models\", f\"last_checkpoint_partition_{current_partition}.pth\"\n",
        ")\n",
        "optimizer = optim.Adam(model.parameters(), lr=0.00001)\n",
        "train_model(\n",
        "    model,\n",
        "    train_loader,\n",
        "    val_loader,\n",
        "    best_model_path,\n",
        "    last_checkpoint_path,\n",
        "    criterion,\n",
        "    optimizer,\n",
        "    num_epochs=50,\n",
        "    device=DEVICE,\n",
        "    early_stopping_patience=3,\n",
        ")"
      ]
    },
    {
      "cell_type": "code",
      "execution_count": 9,
      "metadata": {},
      "outputs": [
        {
          "name": "stderr",
          "output_type": "stream",
          "text": [
            "Validate Epoch test: 100%|██████████| 1941/1941 [04:37<00:00,  7.00it/s, WMAPE=3.59, DICE=0.174, DPEAKS=95.4, Loss=0.0123]\n"
          ]
        }
      ],
      "source": [
        "#Cargar mejor modelo de la particion actual\n",
        "model.load_state_dict(torch.load(best_model_path,weights_only=True))\n",
        "test_model(model,criterion,device=DEVICE,batch_size=16)"
      ]
    },
    {
      "cell_type": "code",
      "execution_count": 10,
      "metadata": {},
      "outputs": [
        {
          "name": "stderr",
          "output_type": "stream",
          "text": [
            "                                                                                                \r"
          ]
        },
        {
          "name": "stdout",
          "output_type": "stream",
          "text": [
            "Validate Epoch partition_2_train: Loss: 0.018199 WMAPE: 4.8809 DICE: 0.3005 DPEAKS: 138.5840\n"
          ]
        },
        {
          "name": "stderr",
          "output_type": "stream",
          "text": [
            "                                                                                            "
          ]
        },
        {
          "name": "stdout",
          "output_type": "stream",
          "text": [
            "Validate Epoch partition_2_val: Loss: 0.018183 WMAPE: 5.0124 DICE: 0.3010 DPEAKS: 140.9910\n"
          ]
        },
        {
          "name": "stderr",
          "output_type": "stream",
          "text": [
            "\r"
          ]
        }
      ],
      "source": [
        "create_next_partitions(current_partition,model,criterion,device=DEVICE)"
      ]
    },
    {
      "cell_type": "code",
      "execution_count": null,
      "metadata": {},
      "outputs": [],
      "source": [
        "model.load_state_dict(torch.load(best_model_path,weights_only=True))"
      ]
    },
    {
      "cell_type": "code",
      "execution_count": 10,
      "metadata": {},
      "outputs": [],
      "source": [
        "current_partition+=1"
      ]
    },
    {
      "cell_type": "code",
      "execution_count": 11,
      "metadata": {},
      "outputs": [
        {
          "name": "stdout",
          "output_type": "stream",
          "text": [
            "Epoch [1/50]\n"
          ]
        },
        {
          "name": "stderr",
          "output_type": "stream",
          "text": [
            "Train Epoch 1: 100%|██████████| 307/307 [02:08<00:00,  2.39it/s, loss=0.0176]\n"
          ]
        },
        {
          "name": "stdout",
          "output_type": "stream",
          "text": [
            "Train Epoch 1: Loss: 0.015529 WMAPE: 4.6847 DICE: 0.2651 DPEAKS: 136.9173\n"
          ]
        },
        {
          "name": "stderr",
          "output_type": "stream",
          "text": [
            "Validate Epoch 1: 100%|██████████| 77/77 [00:11<00:00,  6.63it/s, loss=0.0181]\n"
          ]
        },
        {
          "name": "stdout",
          "output_type": "stream",
          "text": [
            "Validate Epoch 1: Loss: 0.017552 WMAPE: 5.2040 DICE: 0.2944 DPEAKS: 146.7108\n",
            "Saving best model\n",
            "Epoch [2/50]\n"
          ]
        },
        {
          "name": "stderr",
          "output_type": "stream",
          "text": [
            "Train Epoch 2: 100%|██████████| 307/307 [02:01<00:00,  2.53it/s, loss=0.0157]\n"
          ]
        },
        {
          "name": "stdout",
          "output_type": "stream",
          "text": [
            "Train Epoch 2: Loss: 0.014379 WMAPE: 4.4340 DICE: 0.2504 DPEAKS: 131.3297\n"
          ]
        },
        {
          "name": "stderr",
          "output_type": "stream",
          "text": [
            "Validate Epoch 2: 100%|██████████| 77/77 [00:10<00:00,  7.09it/s, loss=0.018] \n"
          ]
        },
        {
          "name": "stdout",
          "output_type": "stream",
          "text": [
            "Validate Epoch 2: Loss: 0.017533 WMAPE: 5.0277 DICE: 0.2977 DPEAKS: 147.5147\n",
            "Saving best model\n",
            "Epoch [3/50]\n"
          ]
        },
        {
          "name": "stderr",
          "output_type": "stream",
          "text": [
            "Train Epoch 3: 100%|██████████| 307/307 [02:06<00:00,  2.42it/s, loss=0.0137]\n"
          ]
        },
        {
          "name": "stdout",
          "output_type": "stream",
          "text": [
            "Train Epoch 3: Loss: 0.013672 WMAPE: 4.3029 DICE: 0.2373 DPEAKS: 126.7015\n"
          ]
        },
        {
          "name": "stderr",
          "output_type": "stream",
          "text": [
            "Validate Epoch 3: 100%|██████████| 77/77 [00:11<00:00,  6.58it/s, loss=0.0181]\n"
          ]
        },
        {
          "name": "stdout",
          "output_type": "stream",
          "text": [
            "Validate Epoch 3: Loss: 0.017663 WMAPE: 5.4203 DICE: 0.3028 DPEAKS: 149.2116\n",
            "Epoch [4/50]\n"
          ]
        },
        {
          "name": "stderr",
          "output_type": "stream",
          "text": [
            "Train Epoch 4: 100%|██████████| 307/307 [02:09<00:00,  2.37it/s, loss=0.0155]\n"
          ]
        },
        {
          "name": "stdout",
          "output_type": "stream",
          "text": [
            "Train Epoch 4: Loss: 0.013152 WMAPE: 4.1592 DICE: 0.2262 DPEAKS: 120.5335\n"
          ]
        },
        {
          "name": "stderr",
          "output_type": "stream",
          "text": [
            "Validate Epoch 4: 100%|██████████| 77/77 [00:11<00:00,  6.57it/s, loss=0.0184]\n"
          ]
        },
        {
          "name": "stdout",
          "output_type": "stream",
          "text": [
            "Validate Epoch 4: Loss: 0.017970 WMAPE: 5.0236 DICE: 0.2989 DPEAKS: 149.1332\n",
            "Epoch [5/50]\n"
          ]
        },
        {
          "name": "stderr",
          "output_type": "stream",
          "text": [
            "Train Epoch 5: 100%|██████████| 307/307 [02:09<00:00,  2.37it/s, loss=0.0147]\n"
          ]
        },
        {
          "name": "stdout",
          "output_type": "stream",
          "text": [
            "Train Epoch 5: Loss: 0.012796 WMAPE: 4.0814 DICE: 0.2179 DPEAKS: 115.7515\n"
          ]
        },
        {
          "name": "stderr",
          "output_type": "stream",
          "text": [
            "Validate Epoch 5: 100%|██████████| 77/77 [00:11<00:00,  6.55it/s, loss=0.018] \n"
          ]
        },
        {
          "name": "stdout",
          "output_type": "stream",
          "text": [
            "Validate Epoch 5: Loss: 0.017880 WMAPE: 5.5960 DICE: 0.3031 DPEAKS: 150.3480\n",
            "early stopping: 3 epochs without improvement\n",
            "Training complete.\n"
          ]
        }
      ],
      "source": [
        "train_loader, val_loader = create_train_valid_loaders(\n",
        "    f\"partition_{current_partition}_train.json\",\n",
        "    f\"partition_{current_partition}_val.json\",\n",
        "    \"partitions\",\n",
        "    batch_size=16,\n",
        ")\n",
        "best_model_path = os.path.join(\n",
        "    \"models\", f\"best_model_partition_{current_partition}.pth\"\n",
        ")\n",
        "last_checkpoint_path = os.path.join(\n",
        "    \"models\", f\"last_checkpoint_partition_{current_partition}.pth\"\n",
        ")\n",
        "optimizer = optim.Adam(model.parameters(), lr=0.00001)\n",
        "train_model(\n",
        "    model,\n",
        "    train_loader,\n",
        "    val_loader,\n",
        "    best_model_path,\n",
        "    last_checkpoint_path,\n",
        "    criterion,\n",
        "    optimizer,\n",
        "    num_epochs=50,\n",
        "    device=DEVICE,\n",
        "    early_stopping_patience=3,\n",
        ")"
      ]
    },
    {
      "cell_type": "code",
      "execution_count": 13,
      "metadata": {},
      "outputs": [
        {
          "name": "stderr",
          "output_type": "stream",
          "text": [
            "Validate Epoch partition_3_train: 100%|██████████| 307/307 [00:50<00:00,  6.04it/s, loss=0.0179]\n"
          ]
        },
        {
          "name": "stdout",
          "output_type": "stream",
          "text": [
            "Validate Epoch partition_3_train: Loss: 0.017745 WMAPE: 4.5746 DICE: 0.2878 DPEAKS: 129.1435\n"
          ]
        },
        {
          "name": "stderr",
          "output_type": "stream",
          "text": [
            "Validate Epoch partition_3_val: 100%|██████████| 77/77 [00:12<00:00,  6.03it/s, loss=0.0198]"
          ]
        },
        {
          "name": "stdout",
          "output_type": "stream",
          "text": [
            "Validate Epoch partition_3_val: Loss: 0.017645 WMAPE: 4.5229 DICE: 0.2868 DPEAKS: 133.8457\n"
          ]
        },
        {
          "name": "stderr",
          "output_type": "stream",
          "text": [
            "\n"
          ]
        }
      ],
      "source": [
        "create_next_partitions(current_partition,model,criterion,device=DEVICE)"
      ]
    },
    {
      "cell_type": "code",
      "execution_count": 9,
      "metadata": {},
      "outputs": [],
      "source": [
        "current_partition=3\n",
        "best_model_path = os.path.join(\n",
        "    \"models\", f\"best_model_partition_{current_partition}.pth\"\n",
        ")\n",
        "last_checkpoint_path = os.path.join(\n",
        "    \"models\", f\"last_checkpoint_partition_{current_partition}.pth\"\n",
        ")"
      ]
    },
    {
      "cell_type": "code",
      "execution_count": 9,
      "metadata": {},
      "outputs": [
        {
          "name": "stdout",
          "output_type": "stream",
          "text": [
            "Epoch [3/50]\n"
          ]
        },
        {
          "name": "stderr",
          "output_type": "stream",
          "text": [
            "Train Epoch 3: 100%|██████████| 307/307 [02:08<00:00,  2.39it/s, loss=0.0164]\n",
            "Validate Epoch 3: 100%|██████████| 77/77 [00:11<00:00,  6.64it/s, loss=0.0184]\n"
          ]
        },
        {
          "name": "stdout",
          "output_type": "stream",
          "text": [
            "Epoch [4/50]\n"
          ]
        },
        {
          "name": "stderr",
          "output_type": "stream",
          "text": [
            "Train Epoch 4: 100%|██████████| 307/307 [02:08<00:00,  2.39it/s, loss=0.0158]\n",
            "Validate Epoch 4: 100%|██████████| 77/77 [00:11<00:00,  6.65it/s, loss=0.0174]\n"
          ]
        },
        {
          "name": "stdout",
          "output_type": "stream",
          "text": [
            "Epoch [5/50]\n"
          ]
        },
        {
          "name": "stderr",
          "output_type": "stream",
          "text": [
            "Train Epoch 5: 100%|██████████| 307/307 [02:08<00:00,  2.39it/s, loss=0.0157]\n",
            "Validate Epoch 5: 100%|██████████| 77/77 [00:11<00:00,  6.63it/s, loss=0.0181]\n"
          ]
        },
        {
          "name": "stdout",
          "output_type": "stream",
          "text": [
            "early stopping: 3 epochs without improvement\n",
            "Training complete.\n"
          ]
        }
      ],
      "source": [
        "train_loader, val_loader = create_train_valid_loaders(\n",
        "    f\"partition_{current_partition}_train.json\",\n",
        "    f\"partition_{current_partition}_val.json\",\n",
        "    \"partitions\",\n",
        "    batch_size=16,\n",
        ")\n",
        "optimizer = optim.Adam(model.parameters(), lr=0.00001)\n",
        "train_model(\n",
        "    model,\n",
        "    train_loader,\n",
        "    val_loader,\n",
        "    best_model_path,\n",
        "    last_checkpoint_path,\n",
        "    criterion,\n",
        "    optimizer,\n",
        "    num_epochs=50,\n",
        "    device=DEVICE,\n",
        "    early_stopping_patience=3,\n",
        ")"
      ]
    },
    {
      "cell_type": "code",
      "execution_count": 10,
      "metadata": {},
      "outputs": [
        {
          "name": "stderr",
          "output_type": "stream",
          "text": [
            "Validate Epoch test: 100%|██████████| 1941/1941 [04:54<00:00,  6.59it/s, loss=0.0175]\n",
            "Validate Epoch partition_4_train: 100%|██████████| 307/307 [00:49<00:00,  6.15it/s, loss=0.0153]\n",
            "Validate Epoch partition_4_val: 100%|██████████| 77/77 [00:12<00:00,  6.25it/s, loss=0.0168]\n"
          ]
        }
      ],
      "source": [
        "#Cargar mejor modelo de la particion actual\n",
        "model.load_state_dict(torch.load(best_model_path,weights_only=True))\n",
        "test_model(model,criterion,device=DEVICE,batch_size=16)\n",
        "create_next_partitions(current_partition,model,criterion,device=DEVICE)"
      ]
    },
    {
      "cell_type": "code",
      "execution_count": 8,
      "metadata": {},
      "outputs": [],
      "source": [
        "current_partition=4"
      ]
    },
    {
      "cell_type": "code",
      "execution_count": 9,
      "metadata": {},
      "outputs": [
        {
          "name": "stdout",
          "output_type": "stream",
          "text": [
            "Epoch [1/50]\n"
          ]
        },
        {
          "name": "stderr",
          "output_type": "stream",
          "text": [
            "Train Epoch 1: 100%|██████████| 307/307 [02:07<00:00,  2.41it/s, loss=0.0474]\n",
            "Validate Epoch 1: 100%|██████████| 77/77 [00:11<00:00,  6.47it/s, loss=0.0462]\n"
          ]
        },
        {
          "name": "stdout",
          "output_type": "stream",
          "text": [
            "Saving best model\n",
            "Epoch [2/50]\n"
          ]
        },
        {
          "name": "stderr",
          "output_type": "stream",
          "text": [
            "Train Epoch 2: 100%|██████████| 307/307 [02:03<00:00,  2.49it/s, loss=0.032] \n",
            "Validate Epoch 2: 100%|██████████| 77/77 [00:11<00:00,  7.00it/s, loss=0.0335]\n"
          ]
        },
        {
          "name": "stdout",
          "output_type": "stream",
          "text": [
            "Saving best model\n",
            "Epoch [3/50]\n"
          ]
        },
        {
          "name": "stderr",
          "output_type": "stream",
          "text": [
            "Train Epoch 3: 100%|██████████| 307/307 [02:02<00:00,  2.51it/s, loss=0.0287]\n",
            "Validate Epoch 3: 100%|██████████| 77/77 [00:11<00:00,  6.50it/s, loss=0.0297]\n"
          ]
        },
        {
          "name": "stdout",
          "output_type": "stream",
          "text": [
            "Saving best model\n",
            "Epoch [4/50]\n"
          ]
        },
        {
          "name": "stderr",
          "output_type": "stream",
          "text": [
            "Train Epoch 4: 100%|██████████| 307/307 [02:02<00:00,  2.50it/s, loss=0.0232]\n",
            "Validate Epoch 4: 100%|██████████| 77/77 [00:10<00:00,  7.19it/s, loss=0.0239]\n"
          ]
        },
        {
          "name": "stdout",
          "output_type": "stream",
          "text": [
            "Saving best model\n",
            "Epoch [5/50]\n"
          ]
        },
        {
          "name": "stderr",
          "output_type": "stream",
          "text": [
            "Train Epoch 5: 100%|██████████| 307/307 [01:58<00:00,  2.59it/s, loss=0.0244]\n",
            "Validate Epoch 5: 100%|██████████| 77/77 [00:10<00:00,  7.18it/s, loss=0.0213]\n"
          ]
        },
        {
          "name": "stdout",
          "output_type": "stream",
          "text": [
            "Saving best model\n",
            "Epoch [6/50]\n"
          ]
        },
        {
          "name": "stderr",
          "output_type": "stream",
          "text": [
            "Train Epoch 6: 100%|██████████| 307/307 [01:58<00:00,  2.59it/s, loss=0.021] \n",
            "Validate Epoch 6: 100%|██████████| 77/77 [00:10<00:00,  7.18it/s, loss=0.0199]\n"
          ]
        },
        {
          "name": "stdout",
          "output_type": "stream",
          "text": [
            "Saving best model\n",
            "Epoch [7/50]\n"
          ]
        },
        {
          "name": "stderr",
          "output_type": "stream",
          "text": [
            "Train Epoch 7: 100%|██████████| 307/307 [01:58<00:00,  2.58it/s, loss=0.0179]\n",
            "Validate Epoch 7: 100%|██████████| 77/77 [00:10<00:00,  7.15it/s, loss=0.0195]\n"
          ]
        },
        {
          "name": "stdout",
          "output_type": "stream",
          "text": [
            "Saving best model\n",
            "Epoch [8/50]\n"
          ]
        },
        {
          "name": "stderr",
          "output_type": "stream",
          "text": [
            "Train Epoch 8: 100%|██████████| 307/307 [01:58<00:00,  2.59it/s, loss=0.0173]\n",
            "Validate Epoch 8: 100%|██████████| 77/77 [00:10<00:00,  7.11it/s, loss=0.0225]\n"
          ]
        },
        {
          "name": "stdout",
          "output_type": "stream",
          "text": [
            "Epoch [9/50]\n"
          ]
        },
        {
          "name": "stderr",
          "output_type": "stream",
          "text": [
            "Train Epoch 9: 100%|██████████| 307/307 [02:05<00:00,  2.44it/s, loss=0.017] \n",
            "Validate Epoch 9: 100%|██████████| 77/77 [00:11<00:00,  6.55it/s, loss=0.0204]\n"
          ]
        },
        {
          "name": "stdout",
          "output_type": "stream",
          "text": [
            "Epoch [10/50]\n"
          ]
        },
        {
          "name": "stderr",
          "output_type": "stream",
          "text": [
            "Train Epoch 10: 100%|██████████| 307/307 [02:09<00:00,  2.36it/s, loss=0.022] \n",
            "Validate Epoch 10: 100%|██████████| 77/77 [00:11<00:00,  6.56it/s, loss=0.0185]\n"
          ]
        },
        {
          "name": "stdout",
          "output_type": "stream",
          "text": [
            "Saving best model\n",
            "Epoch [11/50]\n"
          ]
        },
        {
          "name": "stderr",
          "output_type": "stream",
          "text": [
            "Train Epoch 11: 100%|██████████| 307/307 [02:10<00:00,  2.36it/s, loss=0.0159]\n",
            "Validate Epoch 11: 100%|██████████| 77/77 [00:11<00:00,  6.53it/s, loss=0.0174]\n"
          ]
        },
        {
          "name": "stdout",
          "output_type": "stream",
          "text": [
            "Saving best model\n",
            "Epoch [12/50]\n"
          ]
        },
        {
          "name": "stderr",
          "output_type": "stream",
          "text": [
            "Train Epoch 12: 100%|██████████| 307/307 [02:10<00:00,  2.35it/s, loss=0.0169]\n",
            "Validate Epoch 12: 100%|██████████| 77/77 [00:11<00:00,  6.52it/s, loss=0.0179]\n"
          ]
        },
        {
          "name": "stdout",
          "output_type": "stream",
          "text": [
            "Saving best model\n",
            "Epoch [13/50]\n"
          ]
        },
        {
          "name": "stderr",
          "output_type": "stream",
          "text": [
            "Train Epoch 13: 100%|██████████| 307/307 [02:11<00:00,  2.34it/s, loss=0.0475]\n",
            "Validate Epoch 13: 100%|██████████| 77/77 [00:11<00:00,  6.51it/s, loss=0.0503]\n"
          ]
        },
        {
          "name": "stdout",
          "output_type": "stream",
          "text": [
            "Epoch [14/50]\n"
          ]
        },
        {
          "name": "stderr",
          "output_type": "stream",
          "text": [
            "Train Epoch 14: 100%|██████████| 307/307 [02:11<00:00,  2.33it/s, loss=0.0154]\n",
            "Validate Epoch 14: 100%|██████████| 77/77 [00:11<00:00,  6.44it/s, loss=0.0178]\n"
          ]
        },
        {
          "name": "stdout",
          "output_type": "stream",
          "text": [
            "Saving best model\n",
            "Epoch [15/50]\n"
          ]
        },
        {
          "name": "stderr",
          "output_type": "stream",
          "text": [
            "Train Epoch 15: 100%|██████████| 307/307 [02:10<00:00,  2.35it/s, loss=0.0152]\n",
            "Validate Epoch 15: 100%|██████████| 77/77 [00:10<00:00,  7.04it/s, loss=0.018] \n"
          ]
        },
        {
          "name": "stdout",
          "output_type": "stream",
          "text": [
            "Epoch [16/50]\n"
          ]
        },
        {
          "name": "stderr",
          "output_type": "stream",
          "text": [
            "Train Epoch 16: 100%|██████████| 307/307 [02:00<00:00,  2.54it/s, loss=0.0164]\n",
            "Validate Epoch 16: 100%|██████████| 77/77 [00:10<00:00,  7.06it/s, loss=0.018] \n"
          ]
        },
        {
          "name": "stdout",
          "output_type": "stream",
          "text": [
            "Epoch [17/50]\n"
          ]
        },
        {
          "name": "stderr",
          "output_type": "stream",
          "text": [
            "Train Epoch 17: 100%|██████████| 307/307 [02:00<00:00,  2.54it/s, loss=0.0139]\n",
            "Validate Epoch 17: 100%|██████████| 77/77 [00:10<00:00,  7.05it/s, loss=0.0181]\n"
          ]
        },
        {
          "name": "stdout",
          "output_type": "stream",
          "text": [
            "early stopping: 3 epochs without improvement\n",
            "Training complete.\n"
          ]
        }
      ],
      "source": [
        "train_loader, val_loader = create_train_valid_loaders(\n",
        "    f\"partition_{current_partition}_train.json\",\n",
        "    f\"partition_{current_partition}_val.json\",\n",
        "    \"partitions\",\n",
        "    batch_size=16,\n",
        ")\n",
        "best_model_path = os.path.join(\n",
        "    \"models\", f\"best_model_partition_{current_partition}.pth\"\n",
        ")\n",
        "last_checkpoint_path = os.path.join(\n",
        "    \"models\", f\"last_checkpoint_partition_{current_partition}.pth\"\n",
        ")\n",
        "optimizer = optim.Adam(model.parameters(), lr=0.00001)\n",
        "train_model(\n",
        "    model,\n",
        "    train_loader,\n",
        "    val_loader,\n",
        "    best_model_path,\n",
        "    last_checkpoint_path,\n",
        "    criterion,\n",
        "    optimizer,\n",
        "    num_epochs=50,\n",
        "    device=DEVICE,\n",
        "    early_stopping_patience=3,\n",
        ")"
      ]
    },
    {
      "cell_type": "code",
      "execution_count": 10,
      "metadata": {},
      "outputs": [
        {
          "name": "stderr",
          "output_type": "stream",
          "text": [
            "Validate Epoch test: 100%|██████████| 1941/1941 [04:53<00:00,  6.62it/s, loss=0.0201]\n",
            "Validate Epoch partition_5_train: 100%|██████████| 307/307 [00:50<00:00,  6.05it/s, loss=0.0164]\n",
            "Validate Epoch partition_5_val: 100%|██████████| 77/77 [00:12<00:00,  6.09it/s, loss=0.0192]\n"
          ]
        }
      ],
      "source": [
        "#Cargar mejor modelo de la particion actual\n",
        "model.load_state_dict(torch.load(best_model_path,weights_only=True))\n",
        "test_model(model,criterion,device=DEVICE,batch_size=16)\n",
        "create_next_partitions(current_partition,model,criterion,device=DEVICE)"
      ]
    },
    {
      "cell_type": "code",
      "execution_count": 7,
      "metadata": {},
      "outputs": [],
      "source": [
        "current_partition=5"
      ]
    },
    {
      "cell_type": "code",
      "execution_count": 8,
      "metadata": {},
      "outputs": [
        {
          "name": "stdout",
          "output_type": "stream",
          "text": [
            "Epoch [8/50]\n"
          ]
        },
        {
          "name": "stderr",
          "output_type": "stream",
          "text": [
            "Train Epoch 8: 100%|██████████| 307/307 [02:08<00:00,  2.40it/s, WMAPE=4.54, DICE=0.228, DPEAKS=124, Loss=0.013]\n",
            "Validate Epoch 8: 100%|██████████| 77/77 [00:11<00:00,  6.61it/s, WMAPE=5.91, DICE=0.289, DPEAKS=146, Loss=0.0178]\n"
          ]
        },
        {
          "name": "stdout",
          "output_type": "stream",
          "text": [
            "Epoch [9/50]\n"
          ]
        },
        {
          "name": "stderr",
          "output_type": "stream",
          "text": [
            "Train Epoch 9: 100%|██████████| 307/307 [02:07<00:00,  2.41it/s, WMAPE=4.5, DICE=0.224, DPEAKS=123, Loss=0.0128]\n",
            "Validate Epoch 9: 100%|██████████| 77/77 [00:11<00:00,  6.56it/s, WMAPE=5.66, DICE=0.289, DPEAKS=150, Loss=0.0196]\n"
          ]
        },
        {
          "name": "stdout",
          "output_type": "stream",
          "text": [
            "early stopping: 3 epochs without improvement\n",
            "Training complete.\n"
          ]
        }
      ],
      "source": [
        "train_loader, val_loader = create_train_valid_loaders(\n",
        "    f\"partition_{current_partition}_train.json\",\n",
        "    f\"partition_{current_partition}_val.json\",\n",
        "    \"partitions\",\n",
        "    batch_size=16,\n",
        ")\n",
        "best_model_path = os.path.join(\n",
        "    \"models\", f\"best_model_partition_{current_partition}.pth\"\n",
        ")\n",
        "last_checkpoint_path = os.path.join(\n",
        "    \"models\", f\"last_checkpoint_partition_{current_partition}.pth\"\n",
        ")\n",
        "optimizer = optim.Adam(model.parameters(), lr=0.00001)\n",
        "train_model(\n",
        "    model,\n",
        "    train_loader,\n",
        "    val_loader,\n",
        "    best_model_path,\n",
        "    last_checkpoint_path,\n",
        "    criterion,\n",
        "    optimizer,\n",
        "    num_epochs=50,\n",
        "    device=DEVICE,\n",
        "    early_stopping_patience=3,\n",
        ")"
      ]
    },
    {
      "cell_type": "code",
      "execution_count": 9,
      "metadata": {},
      "outputs": [
        {
          "name": "stderr",
          "output_type": "stream",
          "text": [
            "Validate Epoch test: 100%|██████████| 1941/1941 [04:56<00:00,  6.54it/s, WMAPE=4.41, DICE=0.272, DPEAKS=125, Loss=0.0174]\n",
            "Validate Epoch partition_6_train: 100%|██████████| 307/307 [00:51<00:00,  5.97it/s, WMAPE=4.37, DICE=0.271, DPEAKS=123, Loss=0.0175]\n",
            "Validate Epoch partition_6_val: 100%|██████████| 77/77 [00:12<00:00,  6.01it/s, WMAPE=4.67, DICE=0.272, DPEAKS=128, Loss=0.0176]\n"
          ]
        }
      ],
      "source": [
        "#Cargar mejor modelo de la particion actual\n",
        "model.load_state_dict(torch.load(best_model_path,weights_only=True))\n",
        "test_model(model,criterion,device=DEVICE,batch_size=16)\n",
        "create_next_partitions(current_partition,model,criterion,device=DEVICE)"
      ]
    },
    {
      "cell_type": "code",
      "execution_count": null,
      "metadata": {},
      "outputs": [],
      "source": []
    }
  ],
  "metadata": {
    "accelerator": "GPU",
    "colab": {
      "gpuType": "T4",
      "provenance": []
    },
    "kernelspec": {
      "display_name": "Python 3",
      "name": "python3"
    },
    "language_info": {
      "codemirror_mode": {
        "name": "ipython",
        "version": 3
      },
      "file_extension": ".py",
      "mimetype": "text/x-python",
      "name": "python",
      "nbconvert_exporter": "python",
      "pygments_lexer": "ipython3",
      "version": "3.12.5"
    }
  },
  "nbformat": 4,
  "nbformat_minor": 0
}
