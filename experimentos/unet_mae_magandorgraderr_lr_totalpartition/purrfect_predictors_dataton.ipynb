{
  "cells": [
    {
      "cell_type": "markdown",
      "metadata": {},
      "source": [
        "## Carga modulo comun"
      ]
    },
    {
      "cell_type": "code",
      "execution_count": 1,
      "metadata": {},
      "outputs": [],
      "source": [
        "import sys\n",
        "import os\n",
        "sys.path.append(os.path.abspath('../../common'))"
      ]
    },
    {
      "cell_type": "code",
      "execution_count": 2,
      "metadata": {},
      "outputs": [],
      "source": [
        "import torch\n",
        "import torch.nn as nn\n",
        "import torch.nn.functional as F\n",
        "\n",
        "from purrfect.dataset import EPKADataset, load_partition,save_partition, create_train_valid_loaders\n",
        "from torch.utils.data import DataLoader\n",
        "\n",
        "from purrfect.training import train_model,train_validate\n",
        "import torch.optim as optim\n",
        "\n",
        "from purrfect.metrics import MetricAccumulator\n",
        "from purrfect.active_learning import create_new_partition,create_next_partitions, test_model\n",
        "\n",
        "from sklearn.model_selection import train_test_split\n",
        "from purrfect.submission import create_submission, create_submission_v2"
      ]
    },
    {
      "cell_type": "code",
      "execution_count": 3,
      "metadata": {},
      "outputs": [],
      "source": [
        "DEVICE = torch.device('cuda' if torch.cuda.is_available() else 'cpu')\n",
        "USE_AUTOCAST =  False"
      ]
    },
    {
      "cell_type": "markdown",
      "metadata": {},
      "source": [
        "## Definición modelo"
      ]
    },
    {
      "cell_type": "code",
      "execution_count": 4,
      "metadata": {},
      "outputs": [],
      "source": [
        "# Define the double convolution block\n",
        "class DoubleConv(nn.Module):\n",
        "    def __init__(self, in_channels, out_channels):\n",
        "        super(DoubleConv, self).__init__()\n",
        "        self.conv = nn.Sequential(\n",
        "            nn.Conv2d(in_channels, out_channels, kernel_size=3, padding=1),\n",
        "            nn.BatchNorm2d(out_channels),\n",
        "            nn.ReLU(inplace=True),\n",
        "            nn.Conv2d(out_channels, out_channels, kernel_size=3, padding=1),\n",
        "            nn.BatchNorm2d(out_channels),\n",
        "            nn.ReLU(inplace=True)\n",
        "        )\n",
        "\n",
        "    def forward(self, x):\n",
        "        return self.conv(x)\n",
        "\n",
        "class ChannelAdder(nn.Module):\n",
        "    def __init__(self):\n",
        "        super(ChannelAdder, self).__init__()\n",
        "        # Define Sobel and Laplacian kernels as tensors\n",
        "        self.sobel_x = torch.tensor([[-1., 0., 1.],\n",
        "                                     [-2., 0., 2.],\n",
        "                                     [-1., 0., 1.]], dtype=torch.float32,device=DEVICE).unsqueeze(0).unsqueeze(0)\n",
        "        \n",
        "        self.sobel_y = torch.tensor([[-1., -2., -1.],\n",
        "                                     [ 0.,  0.,  0.],\n",
        "                                     [ 1.,  2.,  1.]], dtype=torch.float32,device=DEVICE).unsqueeze(0).unsqueeze(0)\n",
        "        \n",
        "        self.laplacian_kernel = torch.tensor([[0.,  1., 0.],\n",
        "                                              [1., -4., 1.],\n",
        "                                              [0.,  1., 0.]], dtype=torch.float32,device=DEVICE).unsqueeze(0).unsqueeze(0)\n",
        "\n",
        "    def forward(self, x):\n",
        "        epsilon = 1e-8\n",
        "\n",
        "        # Extract the first, second, and third channels\n",
        "        first_channel = x[:, 0, :, :].unsqueeze(1)  # e1 (first channel)\n",
        "        second_channel = x[:, 1, :, :].unsqueeze(1)  # e2 (second channel)\n",
        "        third_channel = x[:, 2, :, :].unsqueeze(1)  # error (third channel)\n",
        "\n",
        "        # 1. Compute the first new channel: sqrt(first_channel^2 + second_channel^2)\n",
        "        new_channel1 = torch.sqrt(first_channel**2 + second_channel**2)\n",
        "\n",
        "        # 2. Compute the second new channel: 1/2 * arctan(channel2 / channel1)\n",
        "        new_channel2 = 0.5 * torch.atan(second_channel / (first_channel + epsilon))\n",
        "\n",
        "        # 3. Compute Sobel gradients and Laplacians for e1 (first_channel)\n",
        "        grad_e1_x = F.conv2d(first_channel, self.sobel_x, padding=1)\n",
        "        grad_e1_y = F.conv2d(first_channel, self.sobel_y, padding=1)\n",
        "        grad_e1_magnitude = torch.sqrt(grad_e1_x**2 + grad_e1_y**2)\n",
        "        #laplacian_e1 = F.conv2d(first_channel, self.laplacian_kernel, padding=1)\n",
        "\n",
        "        # 4. Compute Sobel gradients and Laplacians for e2 (second_channel)\n",
        "        grad_e2_x = F.conv2d(second_channel, self.sobel_x, padding=1)\n",
        "        grad_e2_y = F.conv2d(second_channel, self.sobel_y, padding=1)\n",
        "        grad_e2_magnitude = torch.sqrt(grad_e2_x**2 + grad_e2_y**2)\n",
        "        #laplacian_e2 = F.conv2d(second_channel, self.laplacian_kernel, padding=1)\n",
        "\n",
        "        # 5. Compute weighted ellipticity channels (e1_weighted, e2_weighted)\n",
        "        e1_weighted = first_channel / (third_channel + epsilon)\n",
        "        e2_weighted = second_channel / (third_channel + epsilon)\n",
        "\n",
        "        # Concatenate all the channels (original and new) into the output tensor\n",
        "        output = torch.cat([\n",
        "            x,                 # Original 3 channels\n",
        "            new_channel1,      # sqrt(channel1^2 + channel2^2)\n",
        "            new_channel2,      # 1/2 * arctan(channel2 / channel1)\n",
        "            #grad_e1_x,         # Gradient X of channel1\n",
        "            #grad_e1_y,         # Gradient Y of channel1\n",
        "            #grad_e2_x,         # Gradient X of channel2\n",
        "            #grad_e2_y,         # Gradient Y of channel2\n",
        "            grad_e1_magnitude, # Gradient magnitude of channel1\n",
        "            grad_e2_magnitude, # Gradient magnitude of channel2\n",
        "            #laplacian_e1,      # Laplacian of channel1\n",
        "            #laplacian_e2,      # Laplacian of channel2\n",
        "            e1_weighted,       # e1_weighted\n",
        "            e2_weighted        # e2_weighted\n",
        "        ], dim=1)\n",
        "\n",
        "        return output\n",
        "\n",
        "# Define the U-Net model\n",
        "class UNet(nn.Module):\n",
        "    def __init__(self, in_channels, out_channels):\n",
        "        super(UNet, self).__init__()\n",
        "        # Channel Adder\n",
        "        self.channel_adder = ChannelAdder()\n",
        "        # Encoder\n",
        "        self.encoder1 = DoubleConv(in_channels+6, 64)\n",
        "        self.encoder2 = DoubleConv(64, 128)\n",
        "        self.encoder3 = DoubleConv(128, 256)\n",
        "        self.encoder4 = DoubleConv(256, 512)\n",
        "\n",
        "        # Bottleneck\n",
        "        self.bottleneck = DoubleConv(512, 1024)\n",
        "\n",
        "        # Decoder\n",
        "        self.upconv4 = nn.ConvTranspose2d(1024, 512, kernel_size=2, stride=2)\n",
        "        self.decoder4 = DoubleConv(1024, 512)\n",
        "        self.upconv3 = nn.ConvTranspose2d(512, 256, kernel_size=2, stride=2)\n",
        "        self.decoder3 = DoubleConv(512, 256)\n",
        "        self.upconv2 = nn.ConvTranspose2d(256, 128, kernel_size=2, stride=2)\n",
        "        self.decoder2 = DoubleConv(256, 128)\n",
        "        self.upconv1 = nn.ConvTranspose2d(128, 64, kernel_size=2, stride=2)\n",
        "        self.decoder1 = DoubleConv(128, 64)\n",
        "\n",
        "        # Final output layer\n",
        "        self.final_conv = nn.Conv2d(64, out_channels, kernel_size=1)\n",
        "\n",
        "    def forward(self, x):\n",
        "        # Agregar features\n",
        "        x = self.channel_adder(x)\n",
        "        \n",
        "        # Encoder\n",
        "        e1 = self.encoder1(x)\n",
        "        e2 = self.encoder2(F.max_pool2d(e1, 2))\n",
        "        e3 = self.encoder3(F.max_pool2d(e2, 2))\n",
        "        e4 = self.encoder4(F.max_pool2d(e3, 2))\n",
        "\n",
        "        # Bottleneck\n",
        "        b = self.bottleneck(F.max_pool2d(e4, 2))\n",
        "\n",
        "        # Decoder with skip connections\n",
        "        d4 = self.upconv4(b)\n",
        "        d4 = torch.cat((e4, d4), dim=1)\n",
        "        d4 = self.decoder4(d4)\n",
        "\n",
        "        d3 = self.upconv3(d4)\n",
        "        d3 = torch.cat((e3, d3), dim=1)\n",
        "        d3 = self.decoder3(d3)\n",
        "\n",
        "        d2 = self.upconv2(d3)\n",
        "        d2 = torch.cat((e2, d2), dim=1)\n",
        "        d2 = self.decoder2(d2)\n",
        "\n",
        "        d1 = self.upconv1(d2)\n",
        "        d1 = torch.cat((e1, d1), dim=1)\n",
        "        d1 = self.decoder1(d1)\n",
        "\n",
        "        # Final output\n",
        "        out = self.final_conv(d1)\n",
        "        return out"
      ]
    },
    {
      "cell_type": "markdown",
      "metadata": {},
      "source": [
        "## Creación particion inicial"
      ]
    },
    {
      "cell_type": "code",
      "execution_count": 5,
      "metadata": {},
      "outputs": [],
      "source": [
        "#Creacion de particiones train y valid\n",
        "init_partition = load_partition(\"partition_1.json\")\n",
        "train_partition, val_partition = train_test_split(init_partition, test_size=0.2, random_state=42)\n",
        "save_partition(\"partition_1_train.json\",\"partitions\",train_partition)\n",
        "save_partition(\"partition_1_val.json\",\"partitions\",val_partition)"
      ]
    },
    {
      "cell_type": "code",
      "execution_count": 6,
      "metadata": {},
      "outputs": [],
      "source": [
        "def create_next_partitions(current_partition):#Creacion de particiones train y valid\n",
        "    init_partition = load_partition(f\"partition_{current_partition+1}.json\")\n",
        "    train_partition, val_partition = train_test_split(init_partition, test_size=0.2, random_state=42)\n",
        "    save_partition(f\"partition_{current_partition+1}_train.json\",\"partitions\",train_partition)\n",
        "    save_partition(f\"partition_{current_partition+1}_val.json\",\"partitions\",val_partition)"
      ]
    },
    {
      "cell_type": "markdown",
      "metadata": {},
      "source": [
        "## Carga modelo"
      ]
    },
    {
      "cell_type": "code",
      "execution_count": 5,
      "metadata": {},
      "outputs": [],
      "source": [
        "#Define model\n",
        "model = UNet( 3, 1)\n",
        "model = model.to(DEVICE)\n",
        "# Define Loss\n",
        "criterion = torch.nn.L1Loss()"
      ]
    },
    {
      "cell_type": "code",
      "execution_count": 6,
      "metadata": {},
      "outputs": [
        {
          "data": {
            "text/plain": [
              "31046977"
            ]
          },
          "execution_count": 6,
          "metadata": {},
          "output_type": "execute_result"
        }
      ],
      "source": [
        "sum([p.numel() for p in model.parameters() if p.requires_grad])"
      ]
    },
    {
      "cell_type": "code",
      "execution_count": 10,
      "metadata": {
        "id": "rYf70y6AJmLe"
      },
      "outputs": [],
      "source": [
        "current_partition = 1\n",
        "best_model_path = os.path.join(\n",
        "    \"models\", f\"best_model_partition_{current_partition}.pth\"\n",
        ")"
      ]
    },
    {
      "cell_type": "code",
      "execution_count": 8,
      "metadata": {},
      "outputs": [
        {
          "name": "stdout",
          "output_type": "stream",
          "text": [
            "Epoch [1/50]\n"
          ]
        },
        {
          "name": "stderr",
          "output_type": "stream",
          "text": [
            "Train Epoch 1: 100%|██████████| 307/307 [02:09<00:00,  2.38it/s, WMAPE=5.39, DICE=0.24, DPEAKS=135, Loss=0.021]\n",
            "Validate Epoch 1: 100%|██████████| 77/77 [00:11<00:00,  6.53it/s, WMAPE=4.17, DICE=0.131, DPEAKS=94.6, Loss=0.013]\n"
          ]
        },
        {
          "name": "stdout",
          "output_type": "stream",
          "text": [
            "Saving best model\n",
            "Epoch [2/50]\n"
          ]
        },
        {
          "name": "stderr",
          "output_type": "stream",
          "text": [
            "Train Epoch 2: 100%|██████████| 307/307 [02:08<00:00,  2.40it/s, WMAPE=2.85, DICE=0.11, DPEAKS=86.9, Loss=0.00949]\n",
            "Validate Epoch 2: 100%|██████████| 77/77 [00:11<00:00,  6.55it/s, WMAPE=2.37, DICE=0.103, DPEAKS=87.9, Loss=0.00815]\n"
          ]
        },
        {
          "name": "stdout",
          "output_type": "stream",
          "text": [
            "Saving best model\n",
            "Epoch [3/50]\n"
          ]
        },
        {
          "name": "stderr",
          "output_type": "stream",
          "text": [
            "Train Epoch 3: 100%|██████████| 307/307 [02:09<00:00,  2.38it/s, WMAPE=2.5, DICE=0.0905, DPEAKS=75.2, Loss=0.00817]\n",
            "Validate Epoch 3: 100%|██████████| 77/77 [00:11<00:00,  6.56it/s, WMAPE=2.61, DICE=0.133, DPEAKS=83.4, Loss=0.0111]\n"
          ]
        },
        {
          "name": "stdout",
          "output_type": "stream",
          "text": [
            "Epoch [4/50]\n"
          ]
        },
        {
          "name": "stderr",
          "output_type": "stream",
          "text": [
            "Train Epoch 4: 100%|██████████| 307/307 [02:08<00:00,  2.39it/s, WMAPE=2.37, DICE=0.0851, DPEAKS=73, Loss=0.00791]\n",
            "Validate Epoch 4: 100%|██████████| 77/77 [00:11<00:00,  6.58it/s, WMAPE=1.82, DICE=0.0741, DPEAKS=61.6, Loss=0.00673]\n"
          ]
        },
        {
          "name": "stdout",
          "output_type": "stream",
          "text": [
            "Saving best model\n",
            "Epoch [5/50]\n"
          ]
        },
        {
          "name": "stderr",
          "output_type": "stream",
          "text": [
            "Train Epoch 5: 100%|██████████| 307/307 [02:08<00:00,  2.38it/s, WMAPE=2.24, DICE=0.0724, DPEAKS=61.4, Loss=0.00725]\n",
            "Validate Epoch 5: 100%|██████████| 77/77 [00:11<00:00,  6.60it/s, WMAPE=2.72, DICE=0.0708, DPEAKS=65.7, Loss=0.00828]\n"
          ]
        },
        {
          "name": "stdout",
          "output_type": "stream",
          "text": [
            "Epoch [6/50]\n"
          ]
        },
        {
          "name": "stderr",
          "output_type": "stream",
          "text": [
            "Train Epoch 6: 100%|██████████| 307/307 [02:09<00:00,  2.38it/s, WMAPE=2.28, DICE=0.0777, DPEAKS=65.6, Loss=0.00746]\n",
            "Validate Epoch 6: 100%|██████████| 77/77 [00:11<00:00,  6.57it/s, WMAPE=5.81, DICE=0.215, DPEAKS=144, Loss=0.022]\n"
          ]
        },
        {
          "name": "stdout",
          "output_type": "stream",
          "text": [
            "Epoch [7/50]\n"
          ]
        },
        {
          "name": "stderr",
          "output_type": "stream",
          "text": [
            "Train Epoch 7: 100%|██████████| 307/307 [02:07<00:00,  2.40it/s, WMAPE=2.34, DICE=0.0781, DPEAKS=67.3, Loss=0.0075]\n",
            "Validate Epoch 7: 100%|██████████| 77/77 [00:10<00:00,  7.06it/s, WMAPE=3.11, DICE=0.074, DPEAKS=61.3, Loss=0.00956]\n"
          ]
        },
        {
          "name": "stdout",
          "output_type": "stream",
          "text": [
            "early stopping: 3 epochs without improvement\n",
            "Training complete.\n"
          ]
        }
      ],
      "source": [
        "train_loader, val_loader = create_train_valid_loaders(\n",
        "    f\"partition_{current_partition}_train.json\",\n",
        "    f\"partition_{current_partition}_val.json\",\n",
        "    \"partitions\",\n",
        "    batch_size=16,\n",
        ")\n",
        "best_model_path = os.path.join(\n",
        "    \"models\", f\"best_model_partition_{current_partition}.pth\"\n",
        ")\n",
        "last_checkpoint_path = os.path.join(\n",
        "    \"models\", f\"last_checkpoint_partition_{current_partition}.pth\"\n",
        ")\n",
        "optimizer = optim.Adam(model.parameters())\n",
        "train_model(\n",
        "    model,\n",
        "    train_loader,\n",
        "    val_loader,\n",
        "    best_model_path,\n",
        "    last_checkpoint_path,\n",
        "    criterion,\n",
        "    optimizer,\n",
        "    num_epochs=50,\n",
        "    device=DEVICE,\n",
        "    early_stopping_patience=3,\n",
        ")"
      ]
    },
    {
      "cell_type": "code",
      "execution_count": 9,
      "metadata": {},
      "outputs": [
        {
          "name": "stderr",
          "output_type": "stream",
          "text": [
            "Validate Epoch test: 100%|██████████| 1941/1941 [04:42<00:00,  6.87it/s, WMAPE=1.91, DICE=0.0763, DPEAKS=59.1, Loss=0.00697]\n"
          ]
        }
      ],
      "source": [
        "#Cargar mejor modelo de la particion actual\n",
        "model.load_state_dict(torch.load(best_model_path,weights_only=True))\n",
        "test_model(model,criterion,device=DEVICE,batch_size=16)"
      ]
    },
    {
      "cell_type": "code",
      "execution_count": 13,
      "metadata": {},
      "outputs": [],
      "source": [
        "#Creacion de particiones train y valid\n",
        "init_partition = load_partition(f\"partition_{current_partition+1}.json\")\n",
        "train_partition, val_partition = train_test_split(init_partition, test_size=0.2, random_state=42)\n",
        "save_partition(f\"partition_{current_partition+1}_train.json\",\"partitions\",train_partition)\n",
        "save_partition(f\"partition_{current_partition+1}_val.json\",\"partitions\",val_partition)"
      ]
    },
    {
      "cell_type": "code",
      "execution_count": 14,
      "metadata": {},
      "outputs": [],
      "source": [
        "best_model_path = os.path.join(\n",
        "    \"models\", f\"best_model_partition_{current_partition}.pth\"\n",
        ")\n",
        "model.load_state_dict(torch.load(best_model_path,weights_only=True))\n",
        "current_partition=2"
      ]
    },
    {
      "cell_type": "code",
      "execution_count": 15,
      "metadata": {},
      "outputs": [
        {
          "name": "stdout",
          "output_type": "stream",
          "text": [
            "Epoch [1/50]\n"
          ]
        },
        {
          "name": "stderr",
          "output_type": "stream",
          "text": [
            "Train Epoch 1: 100%|██████████| 307/307 [02:09<00:00,  2.37it/s, WMAPE=2.43, DICE=0.0805, DPEAKS=69.7, Loss=0.00784]\n",
            "Validate Epoch 1: 100%|██████████| 77/77 [00:12<00:00,  6.31it/s, WMAPE=2.71, DICE=0.0984, DPEAKS=92.5, Loss=0.00977]\n"
          ]
        },
        {
          "name": "stdout",
          "output_type": "stream",
          "text": [
            "Saving best model\n",
            "Epoch [2/50]\n"
          ]
        },
        {
          "name": "stderr",
          "output_type": "stream",
          "text": [
            "Train Epoch 2: 100%|██████████| 307/307 [02:01<00:00,  2.53it/s, WMAPE=2.18, DICE=0.0672, DPEAKS=59.2, Loss=0.00687]\n",
            "Validate Epoch 2: 100%|██████████| 77/77 [00:11<00:00,  6.89it/s, WMAPE=2.54, DICE=0.0732, DPEAKS=66.3, Loss=0.00774]\n"
          ]
        },
        {
          "name": "stdout",
          "output_type": "stream",
          "text": [
            "Saving best model\n",
            "Epoch [3/50]\n"
          ]
        },
        {
          "name": "stderr",
          "output_type": "stream",
          "text": [
            "Train Epoch 3: 100%|██████████| 307/307 [02:05<00:00,  2.45it/s, WMAPE=2.18, DICE=0.0633, DPEAKS=55, Loss=0.00678]\n",
            "Validate Epoch 3: 100%|██████████| 77/77 [00:11<00:00,  6.88it/s, WMAPE=3.63, DICE=0.118, DPEAKS=91, Loss=0.0106]\n"
          ]
        },
        {
          "name": "stdout",
          "output_type": "stream",
          "text": [
            "Epoch [4/50]\n"
          ]
        },
        {
          "name": "stderr",
          "output_type": "stream",
          "text": [
            "Train Epoch 4: 100%|██████████| 307/307 [02:03<00:00,  2.48it/s, WMAPE=2.02, DICE=0.058, DPEAKS=53.9, Loss=0.00633]\n",
            "Validate Epoch 4: 100%|██████████| 77/77 [00:11<00:00,  6.79it/s, WMAPE=2.3, DICE=0.0739, DPEAKS=65.2, Loss=0.00694]\n"
          ]
        },
        {
          "name": "stdout",
          "output_type": "stream",
          "text": [
            "Saving best model\n",
            "Epoch [5/50]\n"
          ]
        },
        {
          "name": "stderr",
          "output_type": "stream",
          "text": [
            "Train Epoch 5: 100%|██████████| 307/307 [02:03<00:00,  2.48it/s, WMAPE=1.94, DICE=0.0557, DPEAKS=49.2, Loss=0.00611]\n",
            "Validate Epoch 5: 100%|██████████| 77/77 [00:11<00:00,  6.92it/s, WMAPE=2.02, DICE=0.0571, DPEAKS=48.2, Loss=0.00644]\n"
          ]
        },
        {
          "name": "stdout",
          "output_type": "stream",
          "text": [
            "Saving best model\n",
            "Epoch [6/50]\n"
          ]
        },
        {
          "name": "stderr",
          "output_type": "stream",
          "text": [
            "Train Epoch 6: 100%|██████████| 307/307 [02:04<00:00,  2.48it/s, WMAPE=1.93, DICE=0.0524, DPEAKS=45.8, Loss=0.006]\n",
            "Validate Epoch 6: 100%|██████████| 77/77 [00:10<00:00,  7.02it/s, WMAPE=1.84, DICE=0.0577, DPEAKS=48.4, Loss=0.00537]\n"
          ]
        },
        {
          "name": "stdout",
          "output_type": "stream",
          "text": [
            "Saving best model\n",
            "Epoch [7/50]\n"
          ]
        },
        {
          "name": "stderr",
          "output_type": "stream",
          "text": [
            "Train Epoch 7: 100%|██████████| 307/307 [02:01<00:00,  2.53it/s, WMAPE=1.85, DICE=0.0515, DPEAKS=43.1, Loss=0.00568]\n",
            "Validate Epoch 7: 100%|██████████| 77/77 [00:11<00:00,  6.59it/s, WMAPE=2.79, DICE=0.0562, DPEAKS=40.5, Loss=0.00743]\n"
          ]
        },
        {
          "name": "stdout",
          "output_type": "stream",
          "text": [
            "Epoch [8/50]\n"
          ]
        },
        {
          "name": "stderr",
          "output_type": "stream",
          "text": [
            "Train Epoch 8: 100%|██████████| 307/307 [02:03<00:00,  2.48it/s, WMAPE=1.8, DICE=0.0501, DPEAKS=40.7, Loss=0.00569]\n",
            "Validate Epoch 8: 100%|██████████| 77/77 [00:11<00:00,  6.86it/s, WMAPE=1.76, DICE=0.0614, DPEAKS=50, Loss=0.00581]\n"
          ]
        },
        {
          "name": "stdout",
          "output_type": "stream",
          "text": [
            "Epoch [9/50]\n"
          ]
        },
        {
          "name": "stderr",
          "output_type": "stream",
          "text": [
            "Train Epoch 9: 100%|██████████| 307/307 [02:04<00:00,  2.47it/s, WMAPE=2, DICE=0.0589, DPEAKS=53.1, Loss=0.00636]\n",
            "Validate Epoch 9: 100%|██████████| 77/77 [00:11<00:00,  6.71it/s, WMAPE=1.93, DICE=0.0635, DPEAKS=58.6, Loss=0.00591]\n"
          ]
        },
        {
          "name": "stdout",
          "output_type": "stream",
          "text": [
            "early stopping: 3 epochs without improvement\n",
            "Training complete.\n"
          ]
        }
      ],
      "source": [
        "train_loader, val_loader = create_train_valid_loaders(\n",
        "    f\"partition_{current_partition}_train.json\",\n",
        "    f\"partition_{current_partition}_val.json\",\n",
        "    \"partitions\",\n",
        "    batch_size=16,\n",
        ")\n",
        "best_model_path = os.path.join(\n",
        "    \"models\", f\"best_model_partition_{current_partition}.pth\"\n",
        ")\n",
        "last_checkpoint_path = os.path.join(\n",
        "    \"models\", f\"last_checkpoint_partition_{current_partition}.pth\"\n",
        ")\n",
        "optimizer = optim.Adam(model.parameters())\n",
        "train_model(\n",
        "    model,\n",
        "    train_loader,\n",
        "    val_loader,\n",
        "    best_model_path,\n",
        "    last_checkpoint_path,\n",
        "    criterion,\n",
        "    optimizer,\n",
        "    num_epochs=50,\n",
        "    device=DEVICE,\n",
        "    early_stopping_patience=3,\n",
        ")"
      ]
    },
    {
      "cell_type": "code",
      "execution_count": 16,
      "metadata": {},
      "outputs": [
        {
          "name": "stderr",
          "output_type": "stream",
          "text": [
            "Validate Epoch test: 100%|██████████| 1941/1941 [05:14<00:00,  6.17it/s, WMAPE=1.83, DICE=0.0582, DPEAKS=49, Loss=0.0054]\n"
          ]
        }
      ],
      "source": [
        "#Cargar mejor modelo de la particion actual\n",
        "model.load_state_dict(torch.load(best_model_path,weights_only=True))\n",
        "test_model(model,criterion,device=DEVICE,batch_size=16)"
      ]
    },
    {
      "cell_type": "code",
      "execution_count": 18,
      "metadata": {},
      "outputs": [],
      "source": [
        "create_new_partition(current_partition)"
      ]
    },
    {
      "cell_type": "code",
      "execution_count": 19,
      "metadata": {},
      "outputs": [],
      "source": [
        "current_partition=3\n",
        "best_model_path = os.path.join(\n",
        "    \"models\", f\"best_model_partition_{current_partition}.pth\"\n",
        ")\n",
        "last_checkpoint_path = os.path.join(\n",
        "    \"models\", f\"last_checkpoint_partition_{current_partition}.pth\"\n",
        ")"
      ]
    },
    {
      "cell_type": "code",
      "execution_count": 20,
      "metadata": {},
      "outputs": [
        {
          "name": "stdout",
          "output_type": "stream",
          "text": [
            "Epoch [1/50]\n"
          ]
        },
        {
          "name": "stderr",
          "output_type": "stream",
          "text": [
            "Train Epoch 1: 100%|██████████| 307/307 [02:14<00:00,  2.29it/s, WMAPE=2.29, DICE=0.0699, DPEAKS=55.9, Loss=0.00713]\n",
            "Validate Epoch 1: 100%|██████████| 77/77 [00:12<00:00,  5.96it/s, WMAPE=2.03, DICE=0.0603, DPEAKS=61.1, Loss=0.00608]\n"
          ]
        },
        {
          "name": "stdout",
          "output_type": "stream",
          "text": [
            "Saving best model\n",
            "Epoch [2/50]\n"
          ]
        },
        {
          "name": "stderr",
          "output_type": "stream",
          "text": [
            "Train Epoch 2: 100%|██████████| 307/307 [02:02<00:00,  2.50it/s, WMAPE=1.94, DICE=0.0513, DPEAKS=44, Loss=0.00605]\n",
            "Validate Epoch 2: 100%|██████████| 77/77 [00:10<00:00,  7.13it/s, WMAPE=5.36, DICE=0.0579, DPEAKS=45, Loss=0.0157]\n"
          ]
        },
        {
          "name": "stdout",
          "output_type": "stream",
          "text": [
            "Epoch [3/50]\n"
          ]
        },
        {
          "name": "stderr",
          "output_type": "stream",
          "text": [
            "Train Epoch 3: 100%|██████████| 307/307 [02:03<00:00,  2.49it/s, WMAPE=1.87, DICE=0.0494, DPEAKS=44.1, Loss=0.00577]\n",
            "Validate Epoch 3: 100%|██████████| 77/77 [00:11<00:00,  6.76it/s, WMAPE=1.72, DICE=0.0499, DPEAKS=39.2, Loss=0.00549]\n"
          ]
        },
        {
          "name": "stdout",
          "output_type": "stream",
          "text": [
            "Saving best model\n",
            "Epoch [4/50]\n"
          ]
        },
        {
          "name": "stderr",
          "output_type": "stream",
          "text": [
            "Train Epoch 4: 100%|██████████| 307/307 [02:00<00:00,  2.55it/s, WMAPE=1.83, DICE=0.0476, DPEAKS=39.6, Loss=0.00563]\n",
            "Validate Epoch 4: 100%|██████████| 77/77 [00:10<00:00,  7.16it/s, WMAPE=3.16, DICE=0.05, DPEAKS=41.1, Loss=0.00857]\n"
          ]
        },
        {
          "name": "stdout",
          "output_type": "stream",
          "text": [
            "Epoch [5/50]\n"
          ]
        },
        {
          "name": "stderr",
          "output_type": "stream",
          "text": [
            "Train Epoch 5: 100%|██████████| 307/307 [01:59<00:00,  2.58it/s, WMAPE=1.9, DICE=0.0493, DPEAKS=43, Loss=0.00583]\n",
            "Validate Epoch 5: 100%|██████████| 77/77 [00:10<00:00,  7.17it/s, WMAPE=2.04, DICE=0.0634, DPEAKS=56.6, Loss=0.00611]\n"
          ]
        },
        {
          "name": "stdout",
          "output_type": "stream",
          "text": [
            "Epoch [6/50]\n"
          ]
        },
        {
          "name": "stderr",
          "output_type": "stream",
          "text": [
            "Train Epoch 6: 100%|██████████| 307/307 [02:00<00:00,  2.54it/s, WMAPE=1.79, DICE=0.0456, DPEAKS=38.7, Loss=0.00552]\n",
            "Validate Epoch 6: 100%|██████████| 77/77 [00:10<00:00,  7.17it/s, WMAPE=2.73, DICE=0.0758, DPEAKS=71.2, Loss=0.0079]\n"
          ]
        },
        {
          "name": "stdout",
          "output_type": "stream",
          "text": [
            "early stopping: 3 epochs without improvement\n",
            "Training complete.\n"
          ]
        }
      ],
      "source": [
        "train_loader, val_loader = create_train_valid_loaders(\n",
        "    f\"partition_{current_partition}_train.json\",\n",
        "    f\"partition_{current_partition}_val.json\",\n",
        "    \"partitions\",\n",
        "    batch_size=16,\n",
        ")\n",
        "optimizer = optim.Adam(model.parameters())\n",
        "train_model(\n",
        "    model,\n",
        "    train_loader,\n",
        "    val_loader,\n",
        "    best_model_path,\n",
        "    last_checkpoint_path,\n",
        "    criterion,\n",
        "    optimizer,\n",
        "    num_epochs=50,\n",
        "    device=DEVICE,\n",
        "    early_stopping_patience=3,\n",
        ")"
      ]
    },
    {
      "cell_type": "code",
      "execution_count": 21,
      "metadata": {},
      "outputs": [
        {
          "name": "stderr",
          "output_type": "stream",
          "text": [
            "Validate Epoch test: 100%|██████████| 1941/1941 [04:54<00:00,  6.59it/s, WMAPE=1.77, DICE=0.0499, DPEAKS=38.4, Loss=0.00553]\n"
          ]
        },
        {
          "ename": "TypeError",
          "evalue": "create_next_partitions() missing 2 required positional arguments: 'model' and 'criterion'",
          "output_type": "error",
          "traceback": [
            "\u001b[0;31m---------------------------------------------------------------------------\u001b[0m",
            "\u001b[0;31mTypeError\u001b[0m                                 Traceback (most recent call last)",
            "Cell \u001b[0;32mIn[21], line 4\u001b[0m\n\u001b[1;32m      2\u001b[0m model\u001b[38;5;241m.\u001b[39mload_state_dict(torch\u001b[38;5;241m.\u001b[39mload(best_model_path,weights_only\u001b[38;5;241m=\u001b[39m\u001b[38;5;28;01mTrue\u001b[39;00m))\n\u001b[1;32m      3\u001b[0m test_model(model,criterion,device\u001b[38;5;241m=\u001b[39mDEVICE,batch_size\u001b[38;5;241m=\u001b[39m\u001b[38;5;241m16\u001b[39m)\n\u001b[0;32m----> 4\u001b[0m \u001b[43mcreate_next_partitions\u001b[49m\u001b[43m(\u001b[49m\u001b[43mcurrent_partition\u001b[49m\u001b[43m)\u001b[49m\n",
            "\u001b[0;31mTypeError\u001b[0m: create_next_partitions() missing 2 required positional arguments: 'model' and 'criterion'"
          ]
        }
      ],
      "source": [
        "#Cargar mejor modelo de la particion actual\n",
        "model.load_state_dict(torch.load(best_model_path,weights_only=True))\n",
        "test_model(model,criterion,device=DEVICE,batch_size=16)"
      ]
    },
    {
      "cell_type": "code",
      "execution_count": 23,
      "metadata": {},
      "outputs": [],
      "source": [
        "create_next_partitions(current_partition)"
      ]
    },
    {
      "cell_type": "code",
      "execution_count": 6,
      "metadata": {},
      "outputs": [
        {
          "data": {
            "text/plain": [
              "<All keys matched successfully>"
            ]
          },
          "execution_count": 6,
          "metadata": {},
          "output_type": "execute_result"
        }
      ],
      "source": [
        "current_partition=3\n",
        "best_model_path = os.path.join(\n",
        "    \"models\", f\"best_model_partition_{current_partition}.pth\"\n",
        ")\n",
        "model.load_state_dict(torch.load(best_model_path,weights_only=True))"
      ]
    },
    {
      "cell_type": "code",
      "execution_count": 7,
      "metadata": {},
      "outputs": [],
      "source": [
        "current_partition=4\n",
        "best_model_path = os.path.join(\n",
        "    \"models\", f\"best_model_partition_{current_partition}.pth\"\n",
        ")"
      ]
    },
    {
      "cell_type": "code",
      "execution_count": 9,
      "metadata": {},
      "outputs": [
        {
          "name": "stdout",
          "output_type": "stream",
          "text": [
            "Epoch [1/50]\n"
          ]
        },
        {
          "name": "stderr",
          "output_type": "stream",
          "text": [
            "Train Epoch 1: 100%|██████████| 307/307 [02:08<00:00,  2.38it/s, WMAPE=2.03, DICE=0.0547, DPEAKS=46.4, Loss=0.00636]\n",
            "Validate Epoch 1: 100%|██████████| 77/77 [00:12<00:00,  6.20it/s, WMAPE=3.52, DICE=0.0583, DPEAKS=42.3, Loss=0.00957]\n"
          ]
        },
        {
          "name": "stdout",
          "output_type": "stream",
          "text": [
            "Saving best model\n",
            "Epoch [2/50]\n"
          ]
        },
        {
          "name": "stderr",
          "output_type": "stream",
          "text": [
            "Train Epoch 2: 100%|██████████| 307/307 [02:02<00:00,  2.50it/s, WMAPE=1.91, DICE=0.0505, DPEAKS=45.6, Loss=0.00585]\n",
            "Validate Epoch 2: 100%|██████████| 77/77 [00:11<00:00,  6.98it/s, WMAPE=3.59, DICE=0.061, DPEAKS=49.4, Loss=0.0109]\n"
          ]
        },
        {
          "name": "stdout",
          "output_type": "stream",
          "text": [
            "Epoch [3/50]\n"
          ]
        },
        {
          "name": "stderr",
          "output_type": "stream",
          "text": [
            "Train Epoch 3: 100%|██████████| 307/307 [02:05<00:00,  2.45it/s, WMAPE=1.94, DICE=0.0521, DPEAKS=45.6, Loss=0.006]\n",
            "Validate Epoch 3: 100%|██████████| 77/77 [00:11<00:00,  6.52it/s, WMAPE=2.45, DICE=0.0937, DPEAKS=74.1, Loss=0.00703]\n"
          ]
        },
        {
          "name": "stdout",
          "output_type": "stream",
          "text": [
            "Saving best model\n",
            "Epoch [4/50]\n"
          ]
        },
        {
          "name": "stderr",
          "output_type": "stream",
          "text": [
            "Train Epoch 4: 100%|██████████| 307/307 [02:10<00:00,  2.35it/s, WMAPE=2.13, DICE=0.0641, DPEAKS=55.4, Loss=0.00668]\n",
            "Validate Epoch 4: 100%|██████████| 77/77 [00:11<00:00,  6.51it/s, WMAPE=2.35, DICE=0.0951, DPEAKS=79.4, Loss=0.00711]\n"
          ]
        },
        {
          "name": "stdout",
          "output_type": "stream",
          "text": [
            "Epoch [5/50]\n"
          ]
        },
        {
          "name": "stderr",
          "output_type": "stream",
          "text": [
            "Train Epoch 5: 100%|██████████| 307/307 [02:06<00:00,  2.43it/s, WMAPE=1.74, DICE=0.0461, DPEAKS=40.1, Loss=0.00544]\n",
            "Validate Epoch 5: 100%|██████████| 77/77 [00:11<00:00,  6.98it/s, WMAPE=2.84, DICE=0.0564, DPEAKS=59.1, Loss=0.00866]\n"
          ]
        },
        {
          "name": "stdout",
          "output_type": "stream",
          "text": [
            "Epoch [6/50]\n"
          ]
        },
        {
          "name": "stderr",
          "output_type": "stream",
          "text": [
            "Train Epoch 6: 100%|██████████| 307/307 [02:09<00:00,  2.38it/s, WMAPE=1.74, DICE=0.0446, DPEAKS=38.6, Loss=0.00543]\n",
            "Validate Epoch 6: 100%|██████████| 77/77 [00:11<00:00,  6.53it/s, WMAPE=1.81, DICE=0.0552, DPEAKS=61.4, Loss=0.00533]\n"
          ]
        },
        {
          "name": "stdout",
          "output_type": "stream",
          "text": [
            "Saving best model\n",
            "Epoch [7/50]\n"
          ]
        },
        {
          "name": "stderr",
          "output_type": "stream",
          "text": [
            "Train Epoch 7: 100%|██████████| 307/307 [02:08<00:00,  2.39it/s, WMAPE=1.78, DICE=0.0473, DPEAKS=42.5, Loss=0.00556]\n",
            "Validate Epoch 7: 100%|██████████| 77/77 [00:11<00:00,  6.59it/s, WMAPE=4.27, DICE=0.0499, DPEAKS=39.5, Loss=0.0116]\n"
          ]
        },
        {
          "name": "stdout",
          "output_type": "stream",
          "text": [
            "Epoch [8/50]\n"
          ]
        },
        {
          "name": "stderr",
          "output_type": "stream",
          "text": [
            "Train Epoch 8: 100%|██████████| 307/307 [02:07<00:00,  2.40it/s, WMAPE=1.69, DICE=0.0455, DPEAKS=38.7, Loss=0.00533]\n",
            "Validate Epoch 8: 100%|██████████| 77/77 [00:11<00:00,  6.63it/s, WMAPE=3.07, DICE=0.0732, DPEAKS=58.5, Loss=0.00826]\n"
          ]
        },
        {
          "name": "stdout",
          "output_type": "stream",
          "text": [
            "Epoch [9/50]\n"
          ]
        },
        {
          "name": "stderr",
          "output_type": "stream",
          "text": [
            "Train Epoch 9: 100%|██████████| 307/307 [02:07<00:00,  2.41it/s, WMAPE=1.7, DICE=0.0446, DPEAKS=37, Loss=0.00532]\n",
            "Validate Epoch 9: 100%|██████████| 77/77 [00:11<00:00,  6.63it/s, WMAPE=2.8, DICE=0.109, DPEAKS=76.4, Loss=0.00818]\n"
          ]
        },
        {
          "name": "stdout",
          "output_type": "stream",
          "text": [
            "early stopping: 3 epochs without improvement\n",
            "Training complete.\n"
          ]
        }
      ],
      "source": [
        "train_loader, val_loader = create_train_valid_loaders(\n",
        "    f\"partition_{current_partition}_train.json\",\n",
        "    f\"partition_{current_partition}_val.json\",\n",
        "    \"partitions\",\n",
        "    batch_size=16,\n",
        ")\n",
        "best_model_path = os.path.join(\n",
        "    \"models\", f\"best_model_partition_{current_partition}.pth\"\n",
        ")\n",
        "last_checkpoint_path = os.path.join(\n",
        "    \"models\", f\"last_checkpoint_partition_{current_partition}.pth\"\n",
        ")\n",
        "optimizer = optim.Adam(model.parameters())\n",
        "train_model(\n",
        "    model,\n",
        "    train_loader,\n",
        "    val_loader,\n",
        "    best_model_path,\n",
        "    last_checkpoint_path,\n",
        "    criterion,\n",
        "    optimizer,\n",
        "    num_epochs=50,\n",
        "    device=DEVICE,\n",
        "    early_stopping_patience=3,\n",
        "    use_autocast=USE_AUTOCAST\n",
        "    \n",
        ")"
      ]
    },
    {
      "cell_type": "code",
      "execution_count": 11,
      "metadata": {},
      "outputs": [
        {
          "name": "stderr",
          "output_type": "stream",
          "text": [
            "Validate Epoch test:   5%|▍         | 88/1941 [00:13<04:40,  6.62it/s, loss=0.00448]"
          ]
        },
        {
          "ename": "KeyboardInterrupt",
          "evalue": "",
          "output_type": "error",
          "traceback": [
            "\u001b[0;31m---------------------------------------------------------------------------\u001b[0m",
            "\u001b[0;31mKeyboardInterrupt\u001b[0m                         Traceback (most recent call last)",
            "Cell \u001b[0;32mIn[11], line 3\u001b[0m\n\u001b[1;32m      1\u001b[0m \u001b[38;5;66;03m#Cargar mejor modelo de la particion actual\u001b[39;00m\n\u001b[1;32m      2\u001b[0m model\u001b[38;5;241m.\u001b[39mload_state_dict(torch\u001b[38;5;241m.\u001b[39mload(best_model_path,weights_only\u001b[38;5;241m=\u001b[39m\u001b[38;5;28;01mTrue\u001b[39;00m))\n\u001b[0;32m----> 3\u001b[0m \u001b[43mtest_model\u001b[49m\u001b[43m(\u001b[49m\u001b[43mmodel\u001b[49m\u001b[43m,\u001b[49m\u001b[43mcriterion\u001b[49m\u001b[43m,\u001b[49m\u001b[43mdevice\u001b[49m\u001b[38;5;241;43m=\u001b[39;49m\u001b[43mDEVICE\u001b[49m\u001b[43m,\u001b[49m\u001b[43mbatch_size\u001b[49m\u001b[38;5;241;43m=\u001b[39;49m\u001b[38;5;241;43m16\u001b[39;49m\u001b[43m)\u001b[49m\n\u001b[1;32m      4\u001b[0m create_next_partitions(current_partition)\n",
            "File \u001b[0;32m~/Documents/dataton/common/purrfect/active_learning.py:73\u001b[0m, in \u001b[0;36mtest_model\u001b[0;34m(model, criterion, device, batch_size)\u001b[0m\n\u001b[1;32m     71\u001b[0m metric_accumulator \u001b[38;5;241m=\u001b[39m MetricAccumulator\u001b[38;5;241m.\u001b[39mcreate_default()\n\u001b[1;32m     72\u001b[0m test_loader \u001b[38;5;241m=\u001b[39m create_loader_from_partition_name(\u001b[38;5;124m\"\u001b[39m\u001b[38;5;124mpartition_test.json\u001b[39m\u001b[38;5;124m\"\u001b[39m,PARTITIONS_PATH,shuffle\u001b[38;5;241m=\u001b[39m\u001b[38;5;28;01mFalse\u001b[39;00m,batch_size\u001b[38;5;241m=\u001b[39mbatch_size)\n\u001b[0;32m---> 73\u001b[0m \u001b[43mtrain_validate\u001b[49m\u001b[43m(\u001b[49m\n\u001b[1;32m     74\u001b[0m \u001b[43m    \u001b[49m\u001b[43mmodel\u001b[49m\u001b[43m,\u001b[49m\n\u001b[1;32m     75\u001b[0m \u001b[43m    \u001b[49m\u001b[43mtest_loader\u001b[49m\u001b[43m,\u001b[49m\n\u001b[1;32m     76\u001b[0m \u001b[43m    \u001b[49m\u001b[43mcriterion\u001b[49m\u001b[43m,\u001b[49m\n\u001b[1;32m     77\u001b[0m \u001b[43m    \u001b[49m\u001b[43moptimizer\u001b[49m\u001b[38;5;241;43m=\u001b[39;49m\u001b[38;5;28;43;01mNone\u001b[39;49;00m\u001b[43m,\u001b[49m\n\u001b[1;32m     78\u001b[0m \u001b[43m    \u001b[49m\u001b[43mepoch\u001b[49m\u001b[38;5;241;43m=\u001b[39;49m\u001b[38;5;124;43m\"\u001b[39;49m\u001b[38;5;124;43mtest\u001b[39;49m\u001b[38;5;124;43m\"\u001b[39;49m\u001b[43m,\u001b[49m\n\u001b[1;32m     79\u001b[0m \u001b[43m    \u001b[49m\u001b[43mmetric_accumulator\u001b[49m\u001b[38;5;241;43m=\u001b[39;49m\u001b[43mmetric_accumulator\u001b[49m\u001b[43m,\u001b[49m\n\u001b[1;32m     80\u001b[0m \u001b[43m    \u001b[49m\u001b[43mdevice\u001b[49m\u001b[38;5;241;43m=\u001b[39;49m\u001b[43mdevice\u001b[49m\u001b[43m,\u001b[49m\n\u001b[1;32m     81\u001b[0m \u001b[43m    \u001b[49m\u001b[43muse_autocast\u001b[49m\u001b[38;5;241;43m=\u001b[39;49m\u001b[38;5;28;43;01mFalse\u001b[39;49;00m\n\u001b[1;32m     82\u001b[0m \u001b[43m\u001b[49m\u001b[43m)\u001b[49m\n",
            "File \u001b[0;32m~/Documents/dataton/common/purrfect/training.py:44\u001b[0m, in \u001b[0;36mtrain_validate\u001b[0;34m(model, loader, criterion, optimizer, epoch, metric_accumulator, device, use_autocast)\u001b[0m\n\u001b[1;32m     41\u001b[0m     loss \u001b[38;5;241m=\u001b[39m criterion(outputs, targets)\n\u001b[1;32m     43\u001b[0m \u001b[38;5;28;01mif\u001b[39;00m metric_accumulator:\n\u001b[0;32m---> 44\u001b[0m     \u001b[43mmetric_accumulator\u001b[49m\u001b[38;5;241;43m.\u001b[39;49m\u001b[43mupdate\u001b[49m\u001b[43m(\u001b[49m\n\u001b[1;32m     45\u001b[0m \u001b[43m        \u001b[49m\u001b[43mtargets\u001b[49m\u001b[38;5;241;43m.\u001b[39;49m\u001b[43msqueeze\u001b[49m\u001b[43m(\u001b[49m\u001b[38;5;241;43m1\u001b[39;49m\u001b[43m)\u001b[49m\u001b[38;5;241;43m.\u001b[39;49m\u001b[43mdetach\u001b[49m\u001b[43m(\u001b[49m\u001b[43m)\u001b[49m\u001b[38;5;241;43m.\u001b[39;49m\u001b[43mcpu\u001b[49m\u001b[43m(\u001b[49m\u001b[43m)\u001b[49m\u001b[43m,\u001b[49m\u001b[43m \u001b[49m\u001b[43moutputs\u001b[49m\u001b[38;5;241;43m.\u001b[39;49m\u001b[43msqueeze\u001b[49m\u001b[43m(\u001b[49m\u001b[38;5;241;43m1\u001b[39;49m\u001b[43m)\u001b[49m\u001b[38;5;241;43m.\u001b[39;49m\u001b[43mdetach\u001b[49m\u001b[43m(\u001b[49m\u001b[43m)\u001b[49m\u001b[38;5;241;43m.\u001b[39;49m\u001b[43mcpu\u001b[49m\u001b[43m(\u001b[49m\u001b[43m)\u001b[49m\n\u001b[1;32m     46\u001b[0m \u001b[43m    \u001b[49m\u001b[43m)\u001b[49m\n\u001b[1;32m     48\u001b[0m \u001b[38;5;28;01mif\u001b[39;00m optimizer:\n\u001b[1;32m     49\u001b[0m     optimizer\u001b[38;5;241m.\u001b[39mzero_grad()\n",
            "File \u001b[0;32m~/Documents/dataton/common/purrfect/metrics.py:78\u001b[0m, in \u001b[0;36mMetricAccumulator.update\u001b[0;34m(self, T, P)\u001b[0m\n\u001b[1;32m     76\u001b[0m \u001b[38;5;28;01mfor\u001b[39;00m metric_name, metric_fun \u001b[38;5;129;01min\u001b[39;00m \u001b[38;5;28mself\u001b[39m\u001b[38;5;241m.\u001b[39mmetrics\u001b[38;5;241m.\u001b[39mitems():\n\u001b[1;32m     77\u001b[0m     \u001b[38;5;28;01mfor\u001b[39;00m i \u001b[38;5;129;01min\u001b[39;00m \u001b[38;5;28mrange\u001b[39m(T\u001b[38;5;241m.\u001b[39mshape[\u001b[38;5;241m0\u001b[39m]):  \u001b[38;5;66;03m# assume is in batches\u001b[39;00m\n\u001b[0;32m---> 78\u001b[0m         \u001b[38;5;28mself\u001b[39m\u001b[38;5;241m.\u001b[39mvalues[metric_name]\u001b[38;5;241m.\u001b[39mappend(\u001b[43mmetric_fun\u001b[49m\u001b[43m(\u001b[49m\u001b[43mT\u001b[49m\u001b[43m[\u001b[49m\u001b[43mi\u001b[49m\u001b[43m]\u001b[49m\u001b[43m,\u001b[49m\u001b[43m \u001b[49m\u001b[43mP\u001b[49m\u001b[43m[\u001b[49m\u001b[43mi\u001b[49m\u001b[43m]\u001b[49m\u001b[43m)\u001b[49m)\n",
            "File \u001b[0;32m~/Documents/dataton/common/purrfect/metrics.py:51\u001b[0m, in \u001b[0;36mDPEAKS\u001b[0;34m(T, P, num_peaks)\u001b[0m\n\u001b[1;32m     49\u001b[0m T \u001b[38;5;241m=\u001b[39m T\u001b[38;5;241m.\u001b[39mnumpy()\n\u001b[1;32m     50\u001b[0m P \u001b[38;5;241m=\u001b[39m P\u001b[38;5;241m.\u001b[39mnumpy()\n\u001b[0;32m---> 51\u001b[0m PEAKS_T \u001b[38;5;241m=\u001b[39m \u001b[43mfind_top_k_peaks\u001b[49m\u001b[43m(\u001b[49m\u001b[43mT\u001b[49m\u001b[43m,\u001b[49m\u001b[43m \u001b[49m\u001b[43mN\u001b[49m\u001b[38;5;241;43m=\u001b[39;49m\u001b[43mnum_peaks\u001b[49m\u001b[43m)\u001b[49m\n\u001b[1;32m     52\u001b[0m PEAKS_P \u001b[38;5;241m=\u001b[39m find_top_k_peaks(P, N\u001b[38;5;241m=\u001b[39mnum_peaks)\n\u001b[1;32m     53\u001b[0m sum_DPEAKS \u001b[38;5;241m=\u001b[39m np\u001b[38;5;241m.\u001b[39msum(np\u001b[38;5;241m.\u001b[39mabs(PEAKS_T \u001b[38;5;241m-\u001b[39m PEAKS_P))\n",
            "File \u001b[0;32m~/Documents/dataton/common/purrfect/metrics.py:41\u001b[0m, in \u001b[0;36mfind_top_k_peaks\u001b[0;34m(im, sigma, N)\u001b[0m\n\u001b[1;32m     39\u001b[0m \u001b[38;5;28;01mdef\u001b[39;00m \u001b[38;5;21mfind_top_k_peaks\u001b[39m(im, sigma\u001b[38;5;241m=\u001b[39m\u001b[38;5;241m3\u001b[39m, N\u001b[38;5;241m=\u001b[39m\u001b[38;5;241m3\u001b[39m):\n\u001b[1;32m     40\u001b[0m     im \u001b[38;5;241m=\u001b[39m im\u001b[38;5;241m.\u001b[39mastype(\u001b[38;5;124m'\u001b[39m\u001b[38;5;124mfloat32\u001b[39m\u001b[38;5;124m'\u001b[39m) \n\u001b[0;32m---> 41\u001b[0m     smoothed \u001b[38;5;241m=\u001b[39m \u001b[43mgaussian_filter\u001b[49m\u001b[43m(\u001b[49m\u001b[43mim\u001b[49m\u001b[43m,\u001b[49m\u001b[43m \u001b[49m\u001b[43msigma\u001b[49m\u001b[38;5;241;43m=\u001b[39;49m\u001b[43msigma\u001b[49m\u001b[43m)\u001b[49m\n\u001b[1;32m     42\u001b[0m     coordinates \u001b[38;5;241m=\u001b[39m peak_local_max(smoothed, threshold_abs\u001b[38;5;241m=\u001b[39m\u001b[38;5;28;01mNone\u001b[39;00m, num_peaks\u001b[38;5;241m=\u001b[39mN)\n\u001b[1;32m     43\u001b[0m     \u001b[38;5;28;01mwhile\u001b[39;00m \u001b[38;5;28mlen\u001b[39m(coordinates) \u001b[38;5;241m<\u001b[39m \u001b[38;5;241m3\u001b[39m:\n",
            "File \u001b[0;32m~/miniconda3/envs/dataton/lib/python3.12/site-packages/scipy/ndimage/_filters.py:385\u001b[0m, in \u001b[0;36mgaussian_filter\u001b[0;34m(input, sigma, order, output, mode, cval, truncate, radius, axes)\u001b[0m\n\u001b[1;32m    383\u001b[0m \u001b[38;5;28;01mif\u001b[39;00m \u001b[38;5;28mlen\u001b[39m(axes) \u001b[38;5;241m>\u001b[39m \u001b[38;5;241m0\u001b[39m:\n\u001b[1;32m    384\u001b[0m     \u001b[38;5;28;01mfor\u001b[39;00m axis, sigma, order, mode, radius \u001b[38;5;129;01min\u001b[39;00m axes:\n\u001b[0;32m--> 385\u001b[0m         \u001b[43mgaussian_filter1d\u001b[49m\u001b[43m(\u001b[49m\u001b[38;5;28;43minput\u001b[39;49m\u001b[43m,\u001b[49m\u001b[43m \u001b[49m\u001b[43msigma\u001b[49m\u001b[43m,\u001b[49m\u001b[43m \u001b[49m\u001b[43maxis\u001b[49m\u001b[43m,\u001b[49m\u001b[43m \u001b[49m\u001b[43morder\u001b[49m\u001b[43m,\u001b[49m\u001b[43m \u001b[49m\u001b[43moutput\u001b[49m\u001b[43m,\u001b[49m\n\u001b[1;32m    386\u001b[0m \u001b[43m                          \u001b[49m\u001b[43mmode\u001b[49m\u001b[43m,\u001b[49m\u001b[43m \u001b[49m\u001b[43mcval\u001b[49m\u001b[43m,\u001b[49m\u001b[43m \u001b[49m\u001b[43mtruncate\u001b[49m\u001b[43m,\u001b[49m\u001b[43m \u001b[49m\u001b[43mradius\u001b[49m\u001b[38;5;241;43m=\u001b[39;49m\u001b[43mradius\u001b[49m\u001b[43m)\u001b[49m\n\u001b[1;32m    387\u001b[0m         \u001b[38;5;28minput\u001b[39m \u001b[38;5;241m=\u001b[39m output\n\u001b[1;32m    388\u001b[0m \u001b[38;5;28;01melse\u001b[39;00m:\n",
            "File \u001b[0;32m~/miniconda3/envs/dataton/lib/python3.12/site-packages/scipy/ndimage/_filters.py:283\u001b[0m, in \u001b[0;36mgaussian_filter1d\u001b[0;34m(input, sigma, axis, order, output, mode, cval, truncate, radius)\u001b[0m\n\u001b[1;32m    281\u001b[0m \u001b[38;5;66;03m# Since we are calling correlate, not convolve, revert the kernel\u001b[39;00m\n\u001b[1;32m    282\u001b[0m weights \u001b[38;5;241m=\u001b[39m _gaussian_kernel1d(sigma, order, lw)[::\u001b[38;5;241m-\u001b[39m\u001b[38;5;241m1\u001b[39m]\n\u001b[0;32m--> 283\u001b[0m \u001b[38;5;28;01mreturn\u001b[39;00m \u001b[43mcorrelate1d\u001b[49m\u001b[43m(\u001b[49m\u001b[38;5;28;43minput\u001b[39;49m\u001b[43m,\u001b[49m\u001b[43m \u001b[49m\u001b[43mweights\u001b[49m\u001b[43m,\u001b[49m\u001b[43m \u001b[49m\u001b[43maxis\u001b[49m\u001b[43m,\u001b[49m\u001b[43m \u001b[49m\u001b[43moutput\u001b[49m\u001b[43m,\u001b[49m\u001b[43m \u001b[49m\u001b[43mmode\u001b[49m\u001b[43m,\u001b[49m\u001b[43m \u001b[49m\u001b[43mcval\u001b[49m\u001b[43m,\u001b[49m\u001b[43m \u001b[49m\u001b[38;5;241;43m0\u001b[39;49m\u001b[43m)\u001b[49m\n",
            "File \u001b[0;32m~/miniconda3/envs/dataton/lib/python3.12/site-packages/scipy/ndimage/_filters.py:140\u001b[0m, in \u001b[0;36mcorrelate1d\u001b[0;34m(input, weights, axis, output, mode, cval, origin)\u001b[0m\n\u001b[1;32m    136\u001b[0m     \u001b[38;5;28;01mraise\u001b[39;00m \u001b[38;5;167;01mValueError\u001b[39;00m(\u001b[38;5;124m'\u001b[39m\u001b[38;5;124mInvalid origin; origin must satisfy \u001b[39m\u001b[38;5;124m'\u001b[39m\n\u001b[1;32m    137\u001b[0m                      \u001b[38;5;124m'\u001b[39m\u001b[38;5;124m-(len(weights) // 2) <= origin <= \u001b[39m\u001b[38;5;124m'\u001b[39m\n\u001b[1;32m    138\u001b[0m                      \u001b[38;5;124m'\u001b[39m\u001b[38;5;124m(len(weights)-1) // 2\u001b[39m\u001b[38;5;124m'\u001b[39m)\n\u001b[1;32m    139\u001b[0m mode \u001b[38;5;241m=\u001b[39m _ni_support\u001b[38;5;241m.\u001b[39m_extend_mode_to_code(mode)\n\u001b[0;32m--> 140\u001b[0m \u001b[43m_nd_image\u001b[49m\u001b[38;5;241;43m.\u001b[39;49m\u001b[43mcorrelate1d\u001b[49m\u001b[43m(\u001b[49m\u001b[38;5;28;43minput\u001b[39;49m\u001b[43m,\u001b[49m\u001b[43m \u001b[49m\u001b[43mweights\u001b[49m\u001b[43m,\u001b[49m\u001b[43m \u001b[49m\u001b[43maxis\u001b[49m\u001b[43m,\u001b[49m\u001b[43m \u001b[49m\u001b[43moutput\u001b[49m\u001b[43m,\u001b[49m\u001b[43m \u001b[49m\u001b[43mmode\u001b[49m\u001b[43m,\u001b[49m\u001b[43m \u001b[49m\u001b[43mcval\u001b[49m\u001b[43m,\u001b[49m\n\u001b[1;32m    141\u001b[0m \u001b[43m                      \u001b[49m\u001b[43morigin\u001b[49m\u001b[43m)\u001b[49m\n\u001b[1;32m    142\u001b[0m \u001b[38;5;28;01mreturn\u001b[39;00m output\n",
            "\u001b[0;31mKeyboardInterrupt\u001b[0m: "
          ]
        }
      ],
      "source": [
        "#Cargar mejor modelo de la particion actual\n",
        "model.load_state_dict(torch.load(best_model_path,weights_only=True))\n",
        "test_model(model,criterion,device=DEVICE,batch_size=16)\n",
        "create_next_partitions(current_partition)"
      ]
    },
    {
      "cell_type": "code",
      "execution_count": 13,
      "metadata": {},
      "outputs": [],
      "source": [
        "create_next_partitions(current_partition)"
      ]
    },
    {
      "cell_type": "code",
      "execution_count": 8,
      "metadata": {},
      "outputs": [],
      "source": [
        "model.load_state_dict(torch.load(best_model_path,weights_only=True))\n",
        "current_partition=5"
      ]
    },
    {
      "cell_type": "code",
      "execution_count": 9,
      "metadata": {},
      "outputs": [
        {
          "name": "stdout",
          "output_type": "stream",
          "text": [
            "Epoch [1/50]\n"
          ]
        },
        {
          "name": "stderr",
          "output_type": "stream",
          "text": [
            "Train Epoch 1: 100%|██████████| 307/307 [02:12<00:00,  2.31it/s, WMAPE=1.69, DICE=0.0402, DPEAKS=30.5, Loss=0.00514]\n",
            "Validate Epoch 1: 100%|██████████| 77/77 [00:12<00:00,  5.95it/s, WMAPE=1.55, DICE=0.0387, DPEAKS=28, Loss=0.00438]\n"
          ]
        },
        {
          "name": "stdout",
          "output_type": "stream",
          "text": [
            "Saving best model\n",
            "Epoch [2/50]\n"
          ]
        },
        {
          "name": "stderr",
          "output_type": "stream",
          "text": [
            "Train Epoch 2: 100%|██████████| 307/307 [02:09<00:00,  2.38it/s, WMAPE=1.65, DICE=0.0401, DPEAKS=30.3, Loss=0.00502]\n",
            "Validate Epoch 2: 100%|██████████| 77/77 [00:11<00:00,  6.59it/s, WMAPE=1.56, DICE=0.0381, DPEAKS=26.9, Loss=0.00435]\n"
          ]
        },
        {
          "name": "stdout",
          "output_type": "stream",
          "text": [
            "Saving best model\n",
            "Epoch [3/50]\n"
          ]
        },
        {
          "name": "stderr",
          "output_type": "stream",
          "text": [
            "Train Epoch 3: 100%|██████████| 307/307 [02:08<00:00,  2.39it/s, WMAPE=1.64, DICE=0.04, DPEAKS=31.1, Loss=0.00501]\n",
            "Validate Epoch 3: 100%|██████████| 77/77 [00:11<00:00,  6.62it/s, WMAPE=1.51, DICE=0.0384, DPEAKS=26.9, Loss=0.00428]\n"
          ]
        },
        {
          "name": "stdout",
          "output_type": "stream",
          "text": [
            "Saving best model\n",
            "Epoch [4/50]\n"
          ]
        },
        {
          "name": "stderr",
          "output_type": "stream",
          "text": [
            "Train Epoch 4: 100%|██████████| 307/307 [02:07<00:00,  2.40it/s, WMAPE=1.66, DICE=0.0397, DPEAKS=30.3, Loss=0.00511]\n",
            "Validate Epoch 4: 100%|██████████| 77/77 [00:11<00:00,  6.70it/s, WMAPE=1.51, DICE=0.0385, DPEAKS=26.9, Loss=0.00428]\n"
          ]
        },
        {
          "name": "stdout",
          "output_type": "stream",
          "text": [
            "Epoch [5/50]\n"
          ]
        },
        {
          "name": "stderr",
          "output_type": "stream",
          "text": [
            "Train Epoch 5: 100%|██████████| 307/307 [02:07<00:00,  2.41it/s, WMAPE=1.64, DICE=0.0397, DPEAKS=29.7, Loss=0.00509]\n",
            "Validate Epoch 5: 100%|██████████| 77/77 [00:11<00:00,  6.67it/s, WMAPE=1.53, DICE=0.0378, DPEAKS=27.1, Loss=0.00429]\n"
          ]
        },
        {
          "name": "stdout",
          "output_type": "stream",
          "text": [
            "Epoch [6/50]\n"
          ]
        },
        {
          "name": "stderr",
          "output_type": "stream",
          "text": [
            "Train Epoch 6: 100%|██████████| 307/307 [02:07<00:00,  2.41it/s, WMAPE=1.67, DICE=0.0396, DPEAKS=30.1, Loss=0.0051]\n",
            "Validate Epoch 6: 100%|██████████| 77/77 [00:11<00:00,  6.68it/s, WMAPE=1.5, DICE=0.0376, DPEAKS=27.1, Loss=0.00424]\n"
          ]
        },
        {
          "name": "stdout",
          "output_type": "stream",
          "text": [
            "Saving best model\n",
            "Epoch [7/50]\n"
          ]
        },
        {
          "name": "stderr",
          "output_type": "stream",
          "text": [
            "Train Epoch 7: 100%|██████████| 307/307 [02:07<00:00,  2.41it/s, WMAPE=1.63, DICE=0.0396, DPEAKS=30.1, Loss=0.00497]\n",
            "Validate Epoch 7: 100%|██████████| 77/77 [00:11<00:00,  6.70it/s, WMAPE=1.48, DICE=0.038, DPEAKS=28.4, Loss=0.00424]\n"
          ]
        },
        {
          "name": "stdout",
          "output_type": "stream",
          "text": [
            "Saving best model\n",
            "Epoch [8/50]\n"
          ]
        },
        {
          "name": "stderr",
          "output_type": "stream",
          "text": [
            "Train Epoch 8: 100%|██████████| 307/307 [02:04<00:00,  2.46it/s, WMAPE=1.6, DICE=0.0393, DPEAKS=30.5, Loss=0.00499]\n",
            "Validate Epoch 8: 100%|██████████| 77/77 [00:10<00:00,  7.20it/s, WMAPE=1.52, DICE=0.0376, DPEAKS=26.5, Loss=0.00428]\n"
          ]
        },
        {
          "name": "stdout",
          "output_type": "stream",
          "text": [
            "Epoch [9/50]\n"
          ]
        },
        {
          "name": "stderr",
          "output_type": "stream",
          "text": [
            "Train Epoch 9: 100%|██████████| 307/307 [01:56<00:00,  2.63it/s, WMAPE=1.64, DICE=0.0392, DPEAKS=28.6, Loss=0.00499]\n",
            "Validate Epoch 9: 100%|██████████| 77/77 [00:10<00:00,  7.20it/s, WMAPE=1.74, DICE=0.0372, DPEAKS=26.4, Loss=0.00494]\n"
          ]
        },
        {
          "name": "stdout",
          "output_type": "stream",
          "text": [
            "Epoch [10/50]\n"
          ]
        },
        {
          "name": "stderr",
          "output_type": "stream",
          "text": [
            "Train Epoch 10: 100%|██████████| 307/307 [01:57<00:00,  2.62it/s, WMAPE=1.61, DICE=0.0392, DPEAKS=29.2, Loss=0.00493]\n",
            "Validate Epoch 10: 100%|██████████| 77/77 [00:10<00:00,  7.19it/s, WMAPE=1.49, DICE=0.0379, DPEAKS=26.7, Loss=0.00426]\n"
          ]
        },
        {
          "name": "stdout",
          "output_type": "stream",
          "text": [
            "Epoch [11/50]\n"
          ]
        },
        {
          "name": "stderr",
          "output_type": "stream",
          "text": [
            "Train Epoch 11: 100%|██████████| 307/307 [01:56<00:00,  2.63it/s, WMAPE=1.6, DICE=0.0393, DPEAKS=29, Loss=0.00491]\n",
            "Validate Epoch 11: 100%|██████████| 77/77 [00:10<00:00,  7.12it/s, WMAPE=1.62, DICE=0.0371, DPEAKS=25.4, Loss=0.00452]\n"
          ]
        },
        {
          "name": "stdout",
          "output_type": "stream",
          "text": [
            "Epoch [12/50]\n"
          ]
        },
        {
          "name": "stderr",
          "output_type": "stream",
          "text": [
            "Train Epoch 12: 100%|██████████| 307/307 [01:56<00:00,  2.63it/s, WMAPE=1.66, DICE=0.039, DPEAKS=29.5, Loss=0.00507]\n",
            "Validate Epoch 12: 100%|██████████| 77/77 [00:10<00:00,  7.20it/s, WMAPE=1.45, DICE=0.0373, DPEAKS=26.9, Loss=0.00421]\n"
          ]
        },
        {
          "name": "stdout",
          "output_type": "stream",
          "text": [
            "Saving best model\n",
            "Epoch [13/50]\n"
          ]
        },
        {
          "name": "stderr",
          "output_type": "stream",
          "text": [
            "Train Epoch 13: 100%|██████████| 307/307 [01:56<00:00,  2.63it/s, WMAPE=1.61, DICE=0.0391, DPEAKS=30.1, Loss=0.00495]\n",
            "Validate Epoch 13: 100%|██████████| 77/77 [00:10<00:00,  7.20it/s, WMAPE=1.49, DICE=0.0376, DPEAKS=26.9, Loss=0.00426]\n"
          ]
        },
        {
          "name": "stdout",
          "output_type": "stream",
          "text": [
            "Epoch [14/50]\n"
          ]
        },
        {
          "name": "stderr",
          "output_type": "stream",
          "text": [
            "Train Epoch 14: 100%|██████████| 307/307 [01:56<00:00,  2.63it/s, WMAPE=1.58, DICE=0.039, DPEAKS=29.5, Loss=0.00485]\n",
            "Validate Epoch 14: 100%|██████████| 77/77 [00:10<00:00,  7.25it/s, WMAPE=1.45, DICE=0.037, DPEAKS=25.9, Loss=0.00419]\n"
          ]
        },
        {
          "name": "stdout",
          "output_type": "stream",
          "text": [
            "Saving best model\n",
            "Epoch [15/50]\n"
          ]
        },
        {
          "name": "stderr",
          "output_type": "stream",
          "text": [
            "Train Epoch 15: 100%|██████████| 307/307 [01:56<00:00,  2.63it/s, WMAPE=1.59, DICE=0.0389, DPEAKS=29.4, Loss=0.00486]\n",
            "Validate Epoch 15: 100%|██████████| 77/77 [00:10<00:00,  7.24it/s, WMAPE=1.46, DICE=0.0369, DPEAKS=26.1, Loss=0.00416]\n"
          ]
        },
        {
          "name": "stdout",
          "output_type": "stream",
          "text": [
            "Saving best model\n",
            "Epoch [16/50]\n"
          ]
        },
        {
          "name": "stderr",
          "output_type": "stream",
          "text": [
            "Train Epoch 16: 100%|██████████| 307/307 [01:56<00:00,  2.63it/s, WMAPE=1.6, DICE=0.0389, DPEAKS=29.1, Loss=0.00496]\n",
            "Validate Epoch 16: 100%|██████████| 77/77 [00:10<00:00,  7.23it/s, WMAPE=1.54, DICE=0.0381, DPEAKS=27.7, Loss=0.00434]\n"
          ]
        },
        {
          "name": "stdout",
          "output_type": "stream",
          "text": [
            "Epoch [17/50]\n"
          ]
        },
        {
          "name": "stderr",
          "output_type": "stream",
          "text": [
            "Train Epoch 17: 100%|██████████| 307/307 [01:56<00:00,  2.63it/s, WMAPE=1.58, DICE=0.0387, DPEAKS=29.1, Loss=0.00487]\n",
            "Validate Epoch 17: 100%|██████████| 77/77 [00:10<00:00,  7.20it/s, WMAPE=1.53, DICE=0.0375, DPEAKS=26.6, Loss=0.00439]\n"
          ]
        },
        {
          "name": "stdout",
          "output_type": "stream",
          "text": [
            "Epoch [18/50]\n"
          ]
        },
        {
          "name": "stderr",
          "output_type": "stream",
          "text": [
            "Train Epoch 18: 100%|██████████| 307/307 [01:56<00:00,  2.63it/s, WMAPE=1.57, DICE=0.0388, DPEAKS=29, Loss=0.00481]\n",
            "Validate Epoch 18: 100%|██████████| 77/77 [00:10<00:00,  7.22it/s, WMAPE=1.51, DICE=0.0376, DPEAKS=27.1, Loss=0.00425]\n"
          ]
        },
        {
          "name": "stdout",
          "output_type": "stream",
          "text": [
            "Epoch [19/50]\n"
          ]
        },
        {
          "name": "stderr",
          "output_type": "stream",
          "text": [
            "Train Epoch 19: 100%|██████████| 307/307 [01:56<00:00,  2.63it/s, WMAPE=1.65, DICE=0.0387, DPEAKS=28.8, Loss=0.00508]\n",
            "Validate Epoch 19: 100%|██████████| 77/77 [00:10<00:00,  7.20it/s, WMAPE=1.51, DICE=0.0365, DPEAKS=25.1, Loss=0.00422]\n"
          ]
        },
        {
          "name": "stdout",
          "output_type": "stream",
          "text": [
            "Epoch [20/50]\n"
          ]
        },
        {
          "name": "stderr",
          "output_type": "stream",
          "text": [
            "Train Epoch 20: 100%|██████████| 307/307 [01:56<00:00,  2.63it/s, WMAPE=1.58, DICE=0.0387, DPEAKS=28.5, Loss=0.00487]\n",
            "Validate Epoch 20: 100%|██████████| 77/77 [00:10<00:00,  7.17it/s, WMAPE=1.64, DICE=0.0369, DPEAKS=26, Loss=0.00455]\n"
          ]
        },
        {
          "name": "stdout",
          "output_type": "stream",
          "text": [
            "early stopping: 5 epochs without improvement\n",
            "Training complete.\n"
          ]
        }
      ],
      "source": [
        "train_loader, val_loader = create_train_valid_loaders(\n",
        "    f\"partition_{current_partition}_train.json\",\n",
        "    f\"partition_{current_partition}_val.json\",\n",
        "    \"partitions\",\n",
        "    batch_size=16,\n",
        ")\n",
        "best_model_path = os.path.join(\n",
        "    \"models\", f\"best_model_partition_{current_partition}.pth\"\n",
        ")\n",
        "last_checkpoint_path = os.path.join(\n",
        "    \"models\", f\"last_checkpoint_partition_{current_partition}.pth\"\n",
        ")\n",
        "optimizer = optim.Adam(model.parameters(),lr=0.00001)\n",
        "train_model(\n",
        "    model,\n",
        "    train_loader,\n",
        "    val_loader,\n",
        "    best_model_path,\n",
        "    last_checkpoint_path,\n",
        "    criterion,\n",
        "    optimizer,\n",
        "    num_epochs=50,\n",
        "    device=DEVICE,\n",
        "    early_stopping_patience=5,\n",
        "    use_autocast=USE_AUTOCAST\n",
        ")"
      ]
    },
    {
      "cell_type": "code",
      "execution_count": 10,
      "metadata": {},
      "outputs": [
        {
          "name": "stderr",
          "output_type": "stream",
          "text": [
            "Validate Epoch test: 100%|██████████| 1941/1941 [04:31<00:00,  7.16it/s, WMAPE=1.38, DICE=0.0367, DPEAKS=27.1, Loss=0.00409]\n"
          ]
        }
      ],
      "source": [
        "#Cargar mejor modelo de la particion actual\n",
        "model.load_state_dict(torch.load(best_model_path,weights_only=True))\n",
        "test_model(model,criterion,device=DEVICE,batch_size=16)\n",
        "create_next_partitions(current_partition)"
      ]
    },
    {
      "cell_type": "code",
      "execution_count": 16,
      "metadata": {},
      "outputs": [],
      "source": [
        "current_partition=5\n",
        "best_model_path = os.path.join(\n",
        "    \"models\", f\"best_model_partition_{current_partition}.pth\"\n",
        ")\n",
        "model.load_state_dict(torch.load(best_model_path,weights_only=True))\n",
        "current_partition=6"
      ]
    },
    {
      "cell_type": "code",
      "execution_count": 17,
      "metadata": {},
      "outputs": [
        {
          "name": "stdout",
          "output_type": "stream",
          "text": [
            "Epoch [1/50]\n"
          ]
        },
        {
          "name": "stderr",
          "output_type": "stream",
          "text": [
            "Train Epoch 1:   0%|          | 0/307 [00:00<?, ?it/s]"
          ]
        },
        {
          "name": "stderr",
          "output_type": "stream",
          "text": [
            "Train Epoch 1: 100%|██████████| 307/307 [02:05<00:00,  2.44it/s, WMAPE=1.62, DICE=0.0392, DPEAKS=29.2, Loss=0.00495]\n",
            "Validate Epoch 1: 100%|██████████| 77/77 [00:11<00:00,  6.75it/s, WMAPE=1.57, DICE=0.0372, DPEAKS=27.5, Loss=0.00435]\n"
          ]
        },
        {
          "name": "stdout",
          "output_type": "stream",
          "text": [
            "Saving best model\n",
            "Epoch [2/50]\n"
          ]
        },
        {
          "name": "stderr",
          "output_type": "stream",
          "text": [
            "Train Epoch 2: 100%|██████████| 307/307 [02:05<00:00,  2.44it/s, WMAPE=1.6, DICE=0.039, DPEAKS=30.2, Loss=0.00495]\n",
            "Validate Epoch 2: 100%|██████████| 77/77 [00:11<00:00,  6.79it/s, WMAPE=1.51, DICE=0.0371, DPEAKS=27.9, Loss=0.00423]\n"
          ]
        },
        {
          "name": "stdout",
          "output_type": "stream",
          "text": [
            "Saving best model\n",
            "Epoch [3/50]\n"
          ]
        },
        {
          "name": "stderr",
          "output_type": "stream",
          "text": [
            "Train Epoch 3: 100%|██████████| 307/307 [02:05<00:00,  2.44it/s, WMAPE=1.63, DICE=0.0389, DPEAKS=28.7, Loss=0.00502]\n",
            "Validate Epoch 3: 100%|██████████| 77/77 [00:11<00:00,  6.76it/s, WMAPE=1.57, DICE=0.037, DPEAKS=26.9, Loss=0.00433]\n"
          ]
        },
        {
          "name": "stdout",
          "output_type": "stream",
          "text": [
            "Epoch [4/50]\n"
          ]
        },
        {
          "name": "stderr",
          "output_type": "stream",
          "text": [
            "Train Epoch 4: 100%|██████████| 307/307 [02:05<00:00,  2.44it/s, WMAPE=1.57, DICE=0.039, DPEAKS=30.5, Loss=0.00486]\n",
            "Validate Epoch 4: 100%|██████████| 77/77 [00:11<00:00,  6.74it/s, WMAPE=1.61, DICE=0.0374, DPEAKS=28.4, Loss=0.00443]\n"
          ]
        },
        {
          "name": "stdout",
          "output_type": "stream",
          "text": [
            "Epoch [5/50]\n"
          ]
        },
        {
          "name": "stderr",
          "output_type": "stream",
          "text": [
            "Train Epoch 5: 100%|██████████| 307/307 [02:06<00:00,  2.43it/s, WMAPE=1.62, DICE=0.0387, DPEAKS=28.6, Loss=0.00495]\n",
            "Validate Epoch 5: 100%|██████████| 77/77 [00:11<00:00,  6.78it/s, WMAPE=1.79, DICE=0.0371, DPEAKS=27.6, Loss=0.00498]\n"
          ]
        },
        {
          "name": "stdout",
          "output_type": "stream",
          "text": [
            "Epoch [6/50]\n"
          ]
        },
        {
          "name": "stderr",
          "output_type": "stream",
          "text": [
            "Train Epoch 6: 100%|██████████| 307/307 [02:06<00:00,  2.43it/s, WMAPE=1.6, DICE=0.0384, DPEAKS=29.2, Loss=0.0049]\n",
            "Validate Epoch 6: 100%|██████████| 77/77 [00:11<00:00,  6.75it/s, WMAPE=1.51, DICE=0.0364, DPEAKS=26.1, Loss=0.00422]\n"
          ]
        },
        {
          "name": "stdout",
          "output_type": "stream",
          "text": [
            "Saving best model\n",
            "Epoch [7/50]\n"
          ]
        },
        {
          "name": "stderr",
          "output_type": "stream",
          "text": [
            "Train Epoch 7: 100%|██████████| 307/307 [02:05<00:00,  2.45it/s, WMAPE=1.63, DICE=0.0385, DPEAKS=28.6, Loss=0.00501]\n",
            "Validate Epoch 7: 100%|██████████| 77/77 [00:10<00:00,  7.18it/s, WMAPE=1.49, DICE=0.0369, DPEAKS=28.3, Loss=0.00421]\n"
          ]
        },
        {
          "name": "stdout",
          "output_type": "stream",
          "text": [
            "Saving best model\n",
            "Epoch [8/50]\n"
          ]
        },
        {
          "name": "stderr",
          "output_type": "stream",
          "text": [
            "Train Epoch 8: 100%|██████████| 307/307 [01:57<00:00,  2.61it/s, WMAPE=1.6, DICE=0.0386, DPEAKS=28.7, Loss=0.00493]\n",
            "Validate Epoch 8: 100%|██████████| 77/77 [00:10<00:00,  7.17it/s, WMAPE=1.6, DICE=0.0368, DPEAKS=27.5, Loss=0.00453]\n"
          ]
        },
        {
          "name": "stdout",
          "output_type": "stream",
          "text": [
            "Epoch [9/50]\n"
          ]
        },
        {
          "name": "stderr",
          "output_type": "stream",
          "text": [
            "Train Epoch 9: 100%|██████████| 307/307 [01:57<00:00,  2.61it/s, WMAPE=1.61, DICE=0.0385, DPEAKS=27.9, Loss=0.0049]\n",
            "Validate Epoch 9: 100%|██████████| 77/77 [00:10<00:00,  7.15it/s, WMAPE=1.5, DICE=0.0361, DPEAKS=26.5, Loss=0.00418]\n"
          ]
        },
        {
          "name": "stdout",
          "output_type": "stream",
          "text": [
            "Saving best model\n",
            "Epoch [10/50]\n"
          ]
        },
        {
          "name": "stderr",
          "output_type": "stream",
          "text": [
            "Train Epoch 10: 100%|██████████| 307/307 [01:57<00:00,  2.62it/s, WMAPE=1.59, DICE=0.0385, DPEAKS=29.6, Loss=0.00489]\n",
            "Validate Epoch 10: 100%|██████████| 77/77 [00:10<00:00,  7.19it/s, WMAPE=1.65, DICE=0.0364, DPEAKS=27.2, Loss=0.00461]\n"
          ]
        },
        {
          "name": "stdout",
          "output_type": "stream",
          "text": [
            "Epoch [11/50]\n"
          ]
        },
        {
          "name": "stderr",
          "output_type": "stream",
          "text": [
            "Train Epoch 11: 100%|██████████| 307/307 [01:57<00:00,  2.62it/s, WMAPE=1.63, DICE=0.0382, DPEAKS=29, Loss=0.00503]\n",
            "Validate Epoch 11: 100%|██████████| 77/77 [00:10<00:00,  7.14it/s, WMAPE=1.55, DICE=0.0368, DPEAKS=26.8, Loss=0.00435]\n"
          ]
        },
        {
          "name": "stdout",
          "output_type": "stream",
          "text": [
            "Epoch [12/50]\n"
          ]
        },
        {
          "name": "stderr",
          "output_type": "stream",
          "text": [
            "Train Epoch 12: 100%|██████████| 307/307 [01:57<00:00,  2.61it/s, WMAPE=1.63, DICE=0.0384, DPEAKS=28.9, Loss=0.00498]\n",
            "Validate Epoch 12: 100%|██████████| 77/77 [00:10<00:00,  7.19it/s, WMAPE=1.53, DICE=0.0362, DPEAKS=25.9, Loss=0.00431]\n"
          ]
        },
        {
          "name": "stdout",
          "output_type": "stream",
          "text": [
            "Epoch [13/50]\n"
          ]
        },
        {
          "name": "stderr",
          "output_type": "stream",
          "text": [
            "Train Epoch 13: 100%|██████████| 307/307 [01:57<00:00,  2.61it/s, WMAPE=1.58, DICE=0.0383, DPEAKS=28.3, Loss=0.00484]\n",
            "Validate Epoch 13: 100%|██████████| 77/77 [00:10<00:00,  7.15it/s, WMAPE=1.51, DICE=0.0365, DPEAKS=28.3, Loss=0.00421]\n"
          ]
        },
        {
          "name": "stdout",
          "output_type": "stream",
          "text": [
            "Epoch [14/50]\n"
          ]
        },
        {
          "name": "stderr",
          "output_type": "stream",
          "text": [
            "Train Epoch 14: 100%|██████████| 307/307 [01:57<00:00,  2.61it/s, WMAPE=1.6, DICE=0.0382, DPEAKS=28.3, Loss=0.00488]\n",
            "Validate Epoch 14: 100%|██████████| 77/77 [00:10<00:00,  7.18it/s, WMAPE=1.49, DICE=0.0361, DPEAKS=26.7, Loss=0.00417]\n"
          ]
        },
        {
          "name": "stdout",
          "output_type": "stream",
          "text": [
            "Saving best model\n",
            "Epoch [15/50]\n"
          ]
        },
        {
          "name": "stderr",
          "output_type": "stream",
          "text": [
            "Train Epoch 15: 100%|██████████| 307/307 [01:57<00:00,  2.61it/s, WMAPE=1.61, DICE=0.0381, DPEAKS=29.2, Loss=0.00492]\n",
            "Validate Epoch 15: 100%|██████████| 77/77 [00:10<00:00,  7.18it/s, WMAPE=1.55, DICE=0.0369, DPEAKS=29.2, Loss=0.00431]\n"
          ]
        },
        {
          "name": "stdout",
          "output_type": "stream",
          "text": [
            "Epoch [16/50]\n"
          ]
        },
        {
          "name": "stderr",
          "output_type": "stream",
          "text": [
            "Train Epoch 16: 100%|██████████| 307/307 [01:57<00:00,  2.61it/s, WMAPE=1.59, DICE=0.038, DPEAKS=27.8, Loss=0.0049]\n",
            "Validate Epoch 16: 100%|██████████| 77/77 [00:10<00:00,  7.18it/s, WMAPE=1.61, DICE=0.037, DPEAKS=30, Loss=0.00449]\n"
          ]
        },
        {
          "name": "stdout",
          "output_type": "stream",
          "text": [
            "Epoch [17/50]\n"
          ]
        },
        {
          "name": "stderr",
          "output_type": "stream",
          "text": [
            "Train Epoch 17: 100%|██████████| 307/307 [01:57<00:00,  2.62it/s, WMAPE=1.59, DICE=0.038, DPEAKS=28, Loss=0.00485]\n",
            "Validate Epoch 17: 100%|██████████| 77/77 [00:10<00:00,  7.18it/s, WMAPE=1.55, DICE=0.0359, DPEAKS=26.8, Loss=0.00444]\n"
          ]
        },
        {
          "name": "stdout",
          "output_type": "stream",
          "text": [
            "Epoch [18/50]\n"
          ]
        },
        {
          "name": "stderr",
          "output_type": "stream",
          "text": [
            "Train Epoch 18: 100%|██████████| 307/307 [01:57<00:00,  2.62it/s, WMAPE=1.6, DICE=0.0379, DPEAKS=28.4, Loss=0.0049]\n",
            "Validate Epoch 18: 100%|██████████| 77/77 [00:10<00:00,  7.19it/s, WMAPE=1.66, DICE=0.0359, DPEAKS=26.5, Loss=0.00467]\n"
          ]
        },
        {
          "name": "stdout",
          "output_type": "stream",
          "text": [
            "Epoch [19/50]\n"
          ]
        },
        {
          "name": "stderr",
          "output_type": "stream",
          "text": [
            "Train Epoch 19: 100%|██████████| 307/307 [01:57<00:00,  2.61it/s, WMAPE=1.58, DICE=0.038, DPEAKS=26.8, Loss=0.00485]\n",
            "Validate Epoch 19: 100%|██████████| 77/77 [00:10<00:00,  7.19it/s, WMAPE=1.49, DICE=0.0357, DPEAKS=26.9, Loss=0.00421]\n"
          ]
        },
        {
          "name": "stdout",
          "output_type": "stream",
          "text": [
            "early stopping: 5 epochs without improvement\n",
            "Training complete.\n"
          ]
        }
      ],
      "source": [
        "train_loader, val_loader = create_train_valid_loaders(\n",
        "    f\"partition_{current_partition}_train.json\",\n",
        "    f\"partition_{current_partition}_val.json\",\n",
        "    \"partitions\",\n",
        "    batch_size=16,\n",
        ")\n",
        "best_model_path = os.path.join(\n",
        "    \"models\", f\"best_model_partition_{current_partition}.pth\"\n",
        ")\n",
        "last_checkpoint_path = os.path.join(\n",
        "    \"models\", f\"last_checkpoint_partition_{current_partition}.pth\"\n",
        ")\n",
        "optimizer = optim.Adam(model.parameters(), lr=0.00001)\n",
        "train_model(\n",
        "    model,\n",
        "    train_loader,\n",
        "    val_loader,\n",
        "    best_model_path,\n",
        "    last_checkpoint_path,\n",
        "    criterion,\n",
        "    optimizer,\n",
        "    num_epochs=50,\n",
        "    device=DEVICE,\n",
        "    early_stopping_patience=5,\n",
        "    use_autocast=USE_AUTOCAST\n",
        ")"
      ]
    },
    {
      "cell_type": "code",
      "execution_count": 18,
      "metadata": {},
      "outputs": [
        {
          "name": "stderr",
          "output_type": "stream",
          "text": [
            "Validate Epoch test: 100%|██████████| 1941/1941 [04:44<00:00,  6.83it/s, WMAPE=1.36, DICE=0.0358, DPEAKS=26.3, Loss=0.00404]\n"
          ]
        }
      ],
      "source": [
        "#Cargar mejor modelo de la particion actual\n",
        "model.load_state_dict(torch.load(best_model_path,weights_only=True))\n",
        "test_model(model,criterion,device=DEVICE,batch_size=16)\n",
        "create_next_partitions(current_partition)"
      ]
    },
    {
      "cell_type": "code",
      "execution_count": 19,
      "metadata": {},
      "outputs": [],
      "source": [
        "current_partition=7"
      ]
    },
    {
      "cell_type": "code",
      "execution_count": 20,
      "metadata": {},
      "outputs": [
        {
          "name": "stdout",
          "output_type": "stream",
          "text": [
            "Epoch [1/50]\n"
          ]
        },
        {
          "name": "stderr",
          "output_type": "stream",
          "text": [
            "Train Epoch 1:   0%|          | 0/307 [00:00<?, ?it/s]"
          ]
        },
        {
          "name": "stderr",
          "output_type": "stream",
          "text": [
            "Train Epoch 1: 100%|██████████| 307/307 [02:03<00:00,  2.49it/s, WMAPE=1.6, DICE=0.0384, DPEAKS=29.4, Loss=0.00491]\n",
            "Validate Epoch 1: 100%|██████████| 77/77 [00:12<00:00,  6.41it/s, WMAPE=1.49, DICE=0.0368, DPEAKS=26.6, Loss=0.00443]\n"
          ]
        },
        {
          "name": "stdout",
          "output_type": "stream",
          "text": [
            "Saving best model\n",
            "Epoch [2/50]\n"
          ]
        },
        {
          "name": "stderr",
          "output_type": "stream",
          "text": [
            "Train Epoch 2: 100%|██████████| 307/307 [01:57<00:00,  2.60it/s, WMAPE=1.61, DICE=0.0384, DPEAKS=28.3, Loss=0.00495]\n",
            "Validate Epoch 2: 100%|██████████| 77/77 [00:10<00:00,  7.19it/s, WMAPE=1.39, DICE=0.0361, DPEAKS=24.3, Loss=0.00412]\n"
          ]
        },
        {
          "name": "stdout",
          "output_type": "stream",
          "text": [
            "Saving best model\n",
            "Epoch [3/50]\n"
          ]
        },
        {
          "name": "stderr",
          "output_type": "stream",
          "text": [
            "Train Epoch 3: 100%|██████████| 307/307 [01:57<00:00,  2.60it/s, WMAPE=1.61, DICE=0.0382, DPEAKS=28, Loss=0.0049]\n",
            "Validate Epoch 3: 100%|██████████| 77/77 [00:10<00:00,  7.14it/s, WMAPE=1.35, DICE=0.036, DPEAKS=24.5, Loss=0.00411]\n"
          ]
        },
        {
          "name": "stdout",
          "output_type": "stream",
          "text": [
            "Saving best model\n",
            "Epoch [4/50]\n"
          ]
        },
        {
          "name": "stderr",
          "output_type": "stream",
          "text": [
            "Train Epoch 4: 100%|██████████| 307/307 [01:57<00:00,  2.61it/s, WMAPE=1.6, DICE=0.0381, DPEAKS=29.4, Loss=0.00483]\n",
            "Validate Epoch 4: 100%|██████████| 77/77 [00:10<00:00,  7.17it/s, WMAPE=1.4, DICE=0.0358, DPEAKS=24.2, Loss=0.00414]\n"
          ]
        },
        {
          "name": "stdout",
          "output_type": "stream",
          "text": [
            "Epoch [5/50]\n"
          ]
        },
        {
          "name": "stderr",
          "output_type": "stream",
          "text": [
            "Train Epoch 5: 100%|██████████| 307/307 [01:58<00:00,  2.60it/s, WMAPE=1.62, DICE=0.0381, DPEAKS=28.3, Loss=0.00491]\n",
            "Validate Epoch 5: 100%|██████████| 77/77 [00:10<00:00,  7.07it/s, WMAPE=1.47, DICE=0.0365, DPEAKS=25.5, Loss=0.00443]\n"
          ]
        },
        {
          "name": "stdout",
          "output_type": "stream",
          "text": [
            "Epoch [6/50]\n"
          ]
        },
        {
          "name": "stderr",
          "output_type": "stream",
          "text": [
            "Train Epoch 6: 100%|██████████| 307/307 [01:57<00:00,  2.61it/s, WMAPE=1.59, DICE=0.038, DPEAKS=28.5, Loss=0.0048]\n",
            "Validate Epoch 6: 100%|██████████| 77/77 [00:10<00:00,  7.18it/s, WMAPE=1.36, DICE=0.0355, DPEAKS=23.6, Loss=0.00404]\n"
          ]
        },
        {
          "name": "stdout",
          "output_type": "stream",
          "text": [
            "Saving best model\n",
            "Epoch [7/50]\n"
          ]
        },
        {
          "name": "stderr",
          "output_type": "stream",
          "text": [
            "Train Epoch 7: 100%|██████████| 307/307 [01:57<00:00,  2.61it/s, WMAPE=1.6, DICE=0.038, DPEAKS=28.9, Loss=0.0049]\n",
            "Validate Epoch 7: 100%|██████████| 77/77 [00:10<00:00,  7.20it/s, WMAPE=1.37, DICE=0.0357, DPEAKS=23.8, Loss=0.00409]\n"
          ]
        },
        {
          "name": "stdout",
          "output_type": "stream",
          "text": [
            "Epoch [8/50]\n"
          ]
        },
        {
          "name": "stderr",
          "output_type": "stream",
          "text": [
            "Train Epoch 8: 100%|██████████| 307/307 [01:57<00:00,  2.62it/s, WMAPE=1.58, DICE=0.0379, DPEAKS=28.1, Loss=0.00482]\n",
            "Validate Epoch 8: 100%|██████████| 77/77 [00:10<00:00,  7.18it/s, WMAPE=1.51, DICE=0.0354, DPEAKS=22.7, Loss=0.00463]\n"
          ]
        },
        {
          "name": "stdout",
          "output_type": "stream",
          "text": [
            "Epoch [9/50]\n"
          ]
        },
        {
          "name": "stderr",
          "output_type": "stream",
          "text": [
            "Train Epoch 9: 100%|██████████| 307/307 [01:56<00:00,  2.63it/s, WMAPE=1.56, DICE=0.0379, DPEAKS=29.1, Loss=0.00478]\n",
            "Validate Epoch 9: 100%|██████████| 77/77 [00:10<00:00,  7.20it/s, WMAPE=1.39, DICE=0.0359, DPEAKS=25.1, Loss=0.0041]\n"
          ]
        },
        {
          "name": "stdout",
          "output_type": "stream",
          "text": [
            "Epoch [10/50]\n"
          ]
        },
        {
          "name": "stderr",
          "output_type": "stream",
          "text": [
            "Train Epoch 10: 100%|██████████| 307/307 [01:56<00:00,  2.63it/s, WMAPE=1.6, DICE=0.0379, DPEAKS=27.6, Loss=0.00484]\n",
            "Validate Epoch 10: 100%|██████████| 77/77 [00:10<00:00,  7.17it/s, WMAPE=1.47, DICE=0.0363, DPEAKS=25.7, Loss=0.0043]\n"
          ]
        },
        {
          "name": "stdout",
          "output_type": "stream",
          "text": [
            "Epoch [11/50]\n"
          ]
        },
        {
          "name": "stderr",
          "output_type": "stream",
          "text": [
            "Train Epoch 11: 100%|██████████| 307/307 [01:56<00:00,  2.63it/s, WMAPE=1.57, DICE=0.0376, DPEAKS=29.3, Loss=0.00479]\n",
            "Validate Epoch 11: 100%|██████████| 77/77 [00:10<00:00,  7.21it/s, WMAPE=1.41, DICE=0.0359, DPEAKS=23.6, Loss=0.00419]\n"
          ]
        },
        {
          "name": "stdout",
          "output_type": "stream",
          "text": [
            "early stopping: 5 epochs without improvement\n",
            "Training complete.\n"
          ]
        }
      ],
      "source": [
        "train_loader, val_loader = create_train_valid_loaders(\n",
        "    f\"partition_{current_partition}_train.json\",\n",
        "    f\"partition_{current_partition}_val.json\",\n",
        "    \"partitions\",\n",
        "    batch_size=16,\n",
        ")\n",
        "best_model_path = os.path.join(\n",
        "    \"models\", f\"best_model_partition_{current_partition}.pth\"\n",
        ")\n",
        "last_checkpoint_path = os.path.join(\n",
        "    \"models\", f\"last_checkpoint_partition_{current_partition}.pth\"\n",
        ")\n",
        "optimizer = optim.Adam(model.parameters(), lr=0.00001)\n",
        "train_model(\n",
        "    model,\n",
        "    train_loader,\n",
        "    val_loader,\n",
        "    best_model_path,\n",
        "    last_checkpoint_path,\n",
        "    criterion,\n",
        "    optimizer,\n",
        "    num_epochs=50,\n",
        "    device=DEVICE,\n",
        "    early_stopping_patience=5,\n",
        "    use_autocast=USE_AUTOCAST\n",
        ")"
      ]
    },
    {
      "cell_type": "code",
      "execution_count": 21,
      "metadata": {},
      "outputs": [
        {
          "name": "stderr",
          "output_type": "stream",
          "text": [
            "Validate Epoch test: 100%|██████████| 1941/1941 [04:32<00:00,  7.13it/s, WMAPE=1.36, DICE=0.0356, DPEAKS=26.3, Loss=0.00402]\n"
          ]
        }
      ],
      "source": [
        "#Cargar mejor modelo de la particion actual\n",
        "model.load_state_dict(torch.load(best_model_path,weights_only=True))\n",
        "test_model(model,criterion,device=DEVICE,batch_size=16)\n",
        "create_next_partitions(current_partition)"
      ]
    },
    {
      "cell_type": "code",
      "execution_count": 22,
      "metadata": {},
      "outputs": [
        {
          "name": "stdout",
          "output_type": "stream",
          "text": [
            "early stopping: 5 epochs without improvement\n",
            "Training complete.\n"
          ]
        },
        {
          "name": "stderr",
          "output_type": "stream",
          "text": [
            "Validate Epoch test: 100%|██████████| 1941/1941 [04:31<00:00,  7.14it/s, WMAPE=1.36, DICE=0.0356, DPEAKS=26.3, Loss=0.00402]\n"
          ]
        },
        {
          "name": "stdout",
          "output_type": "stream",
          "text": [
            "Epoch [1/50]\n"
          ]
        },
        {
          "name": "stderr",
          "output_type": "stream",
          "text": [
            "Train Epoch 1: 100%|██████████| 307/307 [02:02<00:00,  2.51it/s, WMAPE=1.6, DICE=0.038, DPEAKS=28.7, Loss=0.00499]\n",
            "Validate Epoch 1: 100%|██████████| 77/77 [00:11<00:00,  6.43it/s, WMAPE=1.41, DICE=0.0364, DPEAKS=27.4, Loss=0.00411]\n"
          ]
        },
        {
          "name": "stdout",
          "output_type": "stream",
          "text": [
            "Saving best model\n",
            "Epoch [2/50]\n"
          ]
        },
        {
          "name": "stderr",
          "output_type": "stream",
          "text": [
            "Train Epoch 2: 100%|██████████| 307/307 [01:56<00:00,  2.63it/s, WMAPE=1.56, DICE=0.0379, DPEAKS=28.2, Loss=0.00486]\n",
            "Validate Epoch 2: 100%|██████████| 77/77 [00:10<00:00,  7.19it/s, WMAPE=1.43, DICE=0.0365, DPEAKS=28.1, Loss=0.00429]\n"
          ]
        },
        {
          "name": "stdout",
          "output_type": "stream",
          "text": [
            "Epoch [3/50]\n"
          ]
        },
        {
          "name": "stderr",
          "output_type": "stream",
          "text": [
            "Train Epoch 3: 100%|██████████| 307/307 [01:56<00:00,  2.63it/s, WMAPE=1.56, DICE=0.0375, DPEAKS=29.2, Loss=0.00487]\n",
            "Validate Epoch 3: 100%|██████████| 77/77 [00:10<00:00,  7.18it/s, WMAPE=1.4, DICE=0.0366, DPEAKS=29.2, Loss=0.00412]\n"
          ]
        },
        {
          "name": "stdout",
          "output_type": "stream",
          "text": [
            "Epoch [4/50]\n"
          ]
        },
        {
          "name": "stderr",
          "output_type": "stream",
          "text": [
            "Train Epoch 4: 100%|██████████| 307/307 [01:56<00:00,  2.63it/s, WMAPE=1.51, DICE=0.0377, DPEAKS=28.5, Loss=0.00476]\n",
            "Validate Epoch 4: 100%|██████████| 77/77 [00:10<00:00,  7.17it/s, WMAPE=1.36, DICE=0.036, DPEAKS=26.8, Loss=0.00408]\n"
          ]
        },
        {
          "name": "stdout",
          "output_type": "stream",
          "text": [
            "Saving best model\n",
            "Epoch [5/50]\n"
          ]
        },
        {
          "name": "stderr",
          "output_type": "stream",
          "text": [
            "Train Epoch 5: 100%|██████████| 307/307 [01:56<00:00,  2.63it/s, WMAPE=1.58, DICE=0.0377, DPEAKS=29.2, Loss=0.00493]\n",
            "Validate Epoch 5: 100%|██████████| 77/77 [00:10<00:00,  7.13it/s, WMAPE=1.43, DICE=0.0363, DPEAKS=27.3, Loss=0.00412]\n"
          ]
        },
        {
          "name": "stdout",
          "output_type": "stream",
          "text": [
            "Epoch [6/50]\n"
          ]
        },
        {
          "name": "stderr",
          "output_type": "stream",
          "text": [
            "Train Epoch 6: 100%|██████████| 307/307 [01:56<00:00,  2.63it/s, WMAPE=1.53, DICE=0.0376, DPEAKS=28, Loss=0.00482]\n",
            "Validate Epoch 6: 100%|██████████| 77/77 [00:10<00:00,  7.19it/s, WMAPE=1.39, DICE=0.036, DPEAKS=27.8, Loss=0.0041]\n"
          ]
        },
        {
          "name": "stdout",
          "output_type": "stream",
          "text": [
            "Epoch [7/50]\n"
          ]
        },
        {
          "name": "stderr",
          "output_type": "stream",
          "text": [
            "Train Epoch 7: 100%|██████████| 307/307 [01:56<00:00,  2.63it/s, WMAPE=1.53, DICE=0.0375, DPEAKS=27.8, Loss=0.00483]\n",
            "Validate Epoch 7: 100%|██████████| 77/77 [00:10<00:00,  7.20it/s, WMAPE=1.36, DICE=0.0354, DPEAKS=26, Loss=0.00405]\n"
          ]
        },
        {
          "name": "stdout",
          "output_type": "stream",
          "text": [
            "Saving best model\n",
            "Epoch [8/50]\n"
          ]
        },
        {
          "name": "stderr",
          "output_type": "stream",
          "text": [
            "Train Epoch 8: 100%|██████████| 307/307 [01:56<00:00,  2.63it/s, WMAPE=1.56, DICE=0.0376, DPEAKS=28.5, Loss=0.00486]\n",
            "Validate Epoch 8: 100%|██████████| 77/77 [00:10<00:00,  7.18it/s, WMAPE=1.4, DICE=0.0361, DPEAKS=26.9, Loss=0.00409]\n"
          ]
        },
        {
          "name": "stdout",
          "output_type": "stream",
          "text": [
            "Epoch [9/50]\n"
          ]
        },
        {
          "name": "stderr",
          "output_type": "stream",
          "text": [
            "Train Epoch 9: 100%|██████████| 307/307 [01:56<00:00,  2.63it/s, WMAPE=1.53, DICE=0.0374, DPEAKS=28.6, Loss=0.00474]\n",
            "Validate Epoch 9: 100%|██████████| 77/77 [00:10<00:00,  7.19it/s, WMAPE=1.39, DICE=0.0355, DPEAKS=26.7, Loss=0.00406]\n"
          ]
        },
        {
          "name": "stdout",
          "output_type": "stream",
          "text": [
            "Epoch [10/50]\n"
          ]
        },
        {
          "name": "stderr",
          "output_type": "stream",
          "text": [
            "Train Epoch 10: 100%|██████████| 307/307 [01:57<00:00,  2.62it/s, WMAPE=1.58, DICE=0.0373, DPEAKS=29, Loss=0.00493]\n",
            "Validate Epoch 10: 100%|██████████| 77/77 [00:10<00:00,  7.19it/s, WMAPE=1.49, DICE=0.0353, DPEAKS=26.1, Loss=0.00431]\n"
          ]
        },
        {
          "name": "stdout",
          "output_type": "stream",
          "text": [
            "Epoch [11/50]\n"
          ]
        },
        {
          "name": "stderr",
          "output_type": "stream",
          "text": [
            "Train Epoch 11: 100%|██████████| 307/307 [01:56<00:00,  2.63it/s, WMAPE=1.53, DICE=0.0374, DPEAKS=28.5, Loss=0.00477]\n",
            "Validate Epoch 11: 100%|██████████| 77/77 [00:10<00:00,  7.22it/s, WMAPE=1.46, DICE=0.0353, DPEAKS=25.9, Loss=0.00427]\n"
          ]
        },
        {
          "name": "stdout",
          "output_type": "stream",
          "text": [
            "Epoch [12/50]\n"
          ]
        },
        {
          "name": "stderr",
          "output_type": "stream",
          "text": [
            "Train Epoch 12: 100%|██████████| 307/307 [01:57<00:00,  2.62it/s, WMAPE=1.54, DICE=0.0374, DPEAKS=28.1, Loss=0.00483]\n",
            "Validate Epoch 12: 100%|██████████| 77/77 [00:10<00:00,  7.21it/s, WMAPE=1.39, DICE=0.0354, DPEAKS=27, Loss=0.00413]\n"
          ]
        },
        {
          "name": "stdout",
          "output_type": "stream",
          "text": [
            "early stopping: 5 epochs without improvement\n",
            "Training complete.\n"
          ]
        },
        {
          "name": "stderr",
          "output_type": "stream",
          "text": [
            "Validate Epoch test: 100%|██████████| 1941/1941 [04:32<00:00,  7.13it/s, WMAPE=1.33, DICE=0.0352, DPEAKS=25.6, Loss=0.004]\n"
          ]
        },
        {
          "name": "stdout",
          "output_type": "stream",
          "text": [
            "Epoch [1/50]\n"
          ]
        },
        {
          "name": "stderr",
          "output_type": "stream",
          "text": [
            "Train Epoch 1: 100%|██████████| 307/307 [02:02<00:00,  2.51it/s, WMAPE=1.58, DICE=0.0374, DPEAKS=28.7, Loss=0.00479]\n",
            "Validate Epoch 1: 100%|██████████| 77/77 [00:11<00:00,  6.44it/s, WMAPE=1.36, DICE=0.0354, DPEAKS=24.6, Loss=0.00409]\n"
          ]
        },
        {
          "name": "stdout",
          "output_type": "stream",
          "text": [
            "Saving best model\n",
            "Epoch [2/50]\n"
          ]
        },
        {
          "name": "stderr",
          "output_type": "stream",
          "text": [
            "Train Epoch 2: 100%|██████████| 307/307 [01:56<00:00,  2.62it/s, WMAPE=1.57, DICE=0.0374, DPEAKS=29.1, Loss=0.00477]\n",
            "Validate Epoch 2: 100%|██████████| 77/77 [00:10<00:00,  7.24it/s, WMAPE=1.47, DICE=0.0349, DPEAKS=23.9, Loss=0.00426]\n"
          ]
        },
        {
          "name": "stdout",
          "output_type": "stream",
          "text": [
            "Epoch [3/50]\n"
          ]
        },
        {
          "name": "stderr",
          "output_type": "stream",
          "text": [
            "Train Epoch 3: 100%|██████████| 307/307 [01:57<00:00,  2.62it/s, WMAPE=1.62, DICE=0.0372, DPEAKS=29.6, Loss=0.00486]\n",
            "Validate Epoch 3: 100%|██████████| 77/77 [00:10<00:00,  7.19it/s, WMAPE=1.34, DICE=0.0352, DPEAKS=26, Loss=0.00398]\n"
          ]
        },
        {
          "name": "stdout",
          "output_type": "stream",
          "text": [
            "Saving best model\n",
            "Epoch [4/50]\n"
          ]
        },
        {
          "name": "stderr",
          "output_type": "stream",
          "text": [
            "Train Epoch 4: 100%|██████████| 307/307 [01:56<00:00,  2.63it/s, WMAPE=1.59, DICE=0.0371, DPEAKS=28.2, Loss=0.00479]\n",
            "Validate Epoch 4: 100%|██████████| 77/77 [00:10<00:00,  7.19it/s, WMAPE=1.36, DICE=0.0353, DPEAKS=25.6, Loss=0.00403]\n"
          ]
        },
        {
          "name": "stdout",
          "output_type": "stream",
          "text": [
            "Epoch [5/50]\n"
          ]
        },
        {
          "name": "stderr",
          "output_type": "stream",
          "text": [
            "Train Epoch 5: 100%|██████████| 307/307 [01:57<00:00,  2.62it/s, WMAPE=1.56, DICE=0.0371, DPEAKS=29.4, Loss=0.00472]\n",
            "Validate Epoch 5: 100%|██████████| 77/77 [00:10<00:00,  7.24it/s, WMAPE=1.4, DICE=0.0353, DPEAKS=25.4, Loss=0.0041]\n"
          ]
        },
        {
          "name": "stdout",
          "output_type": "stream",
          "text": [
            "Epoch [6/50]\n"
          ]
        },
        {
          "name": "stderr",
          "output_type": "stream",
          "text": [
            "Train Epoch 6: 100%|██████████| 307/307 [01:56<00:00,  2.63it/s, WMAPE=1.59, DICE=0.0371, DPEAKS=28.5, Loss=0.0048]\n",
            "Validate Epoch 6: 100%|██████████| 77/77 [00:10<00:00,  7.16it/s, WMAPE=1.46, DICE=0.0347, DPEAKS=24.3, Loss=0.00424]\n"
          ]
        },
        {
          "name": "stdout",
          "output_type": "stream",
          "text": [
            "Epoch [7/50]\n"
          ]
        },
        {
          "name": "stderr",
          "output_type": "stream",
          "text": [
            "Train Epoch 7: 100%|██████████| 307/307 [01:56<00:00,  2.63it/s, WMAPE=1.58, DICE=0.0368, DPEAKS=28, Loss=0.00478]\n",
            "Validate Epoch 7: 100%|██████████| 77/77 [00:10<00:00,  7.25it/s, WMAPE=1.41, DICE=0.036, DPEAKS=26.5, Loss=0.00423]\n"
          ]
        },
        {
          "name": "stdout",
          "output_type": "stream",
          "text": [
            "Epoch [8/50]\n"
          ]
        },
        {
          "name": "stderr",
          "output_type": "stream",
          "text": [
            "Train Epoch 8: 100%|██████████| 307/307 [01:56<00:00,  2.63it/s, WMAPE=1.61, DICE=0.037, DPEAKS=28.7, Loss=0.00484]\n",
            "Validate Epoch 8: 100%|██████████| 77/77 [00:10<00:00,  7.23it/s, WMAPE=1.4, DICE=0.0357, DPEAKS=25.8, Loss=0.00422]\n"
          ]
        },
        {
          "name": "stdout",
          "output_type": "stream",
          "text": [
            "early stopping: 5 epochs without improvement\n",
            "Training complete.\n"
          ]
        },
        {
          "name": "stderr",
          "output_type": "stream",
          "text": [
            "Validate Epoch test: 100%|██████████| 1941/1941 [04:32<00:00,  7.13it/s, WMAPE=1.35, DICE=0.0352, DPEAKS=26.2, Loss=0.00398]\n"
          ]
        },
        {
          "name": "stdout",
          "output_type": "stream",
          "text": [
            "Epoch [1/50]\n"
          ]
        },
        {
          "name": "stderr",
          "output_type": "stream",
          "text": [
            "Train Epoch 1: 100%|██████████| 307/307 [02:02<00:00,  2.51it/s, WMAPE=1.65, DICE=0.0371, DPEAKS=26.8, Loss=0.00494]\n",
            "Validate Epoch 1: 100%|██████████| 77/77 [00:11<00:00,  6.49it/s, WMAPE=1.33, DICE=0.035, DPEAKS=23.5, Loss=0.00399]\n"
          ]
        },
        {
          "name": "stdout",
          "output_type": "stream",
          "text": [
            "Saving best model\n",
            "Epoch [2/50]\n"
          ]
        },
        {
          "name": "stderr",
          "output_type": "stream",
          "text": [
            "Train Epoch 2: 100%|██████████| 307/307 [01:57<00:00,  2.62it/s, WMAPE=1.61, DICE=0.0372, DPEAKS=27.9, Loss=0.00484]\n",
            "Validate Epoch 2: 100%|██████████| 77/77 [00:10<00:00,  7.23it/s, WMAPE=1.36, DICE=0.0357, DPEAKS=27.8, Loss=0.00407]\n"
          ]
        },
        {
          "name": "stdout",
          "output_type": "stream",
          "text": [
            "Epoch [3/50]\n"
          ]
        },
        {
          "name": "stderr",
          "output_type": "stream",
          "text": [
            "Train Epoch 3: 100%|██████████| 307/307 [01:56<00:00,  2.63it/s, WMAPE=1.63, DICE=0.0372, DPEAKS=28.5, Loss=0.00486]\n",
            "Validate Epoch 3: 100%|██████████| 77/77 [00:10<00:00,  7.18it/s, WMAPE=1.34, DICE=0.0352, DPEAKS=25.7, Loss=0.0041]\n"
          ]
        },
        {
          "name": "stdout",
          "output_type": "stream",
          "text": [
            "Epoch [4/50]\n"
          ]
        },
        {
          "name": "stderr",
          "output_type": "stream",
          "text": [
            "Train Epoch 4: 100%|██████████| 307/307 [02:05<00:00,  2.44it/s, WMAPE=1.64, DICE=0.037, DPEAKS=28.2, Loss=0.0049]\n",
            "Validate Epoch 4: 100%|██████████| 77/77 [00:11<00:00,  6.56it/s, WMAPE=1.36, DICE=0.0354, DPEAKS=24.2, Loss=0.00405]\n"
          ]
        },
        {
          "name": "stdout",
          "output_type": "stream",
          "text": [
            "Epoch [5/50]\n"
          ]
        },
        {
          "name": "stderr",
          "output_type": "stream",
          "text": [
            "Train Epoch 5: 100%|██████████| 307/307 [02:07<00:00,  2.40it/s, WMAPE=1.64, DICE=0.0371, DPEAKS=28.4, Loss=0.00484]\n",
            "Validate Epoch 5: 100%|██████████| 77/77 [00:11<00:00,  6.44it/s, WMAPE=1.39, DICE=0.0358, DPEAKS=25, Loss=0.00412]\n"
          ]
        },
        {
          "name": "stdout",
          "output_type": "stream",
          "text": [
            "Epoch [6/50]\n"
          ]
        },
        {
          "name": "stderr",
          "output_type": "stream",
          "text": [
            "Train Epoch 6: 100%|██████████| 307/307 [02:10<00:00,  2.35it/s, WMAPE=1.63, DICE=0.0374, DPEAKS=27.7, Loss=0.00484]\n",
            "Validate Epoch 6: 100%|██████████| 77/77 [00:11<00:00,  6.45it/s, WMAPE=1.36, DICE=0.0357, DPEAKS=24.6, Loss=0.00403]\n"
          ]
        },
        {
          "name": "stdout",
          "output_type": "stream",
          "text": [
            "early stopping: 5 epochs without improvement\n",
            "Training complete.\n"
          ]
        },
        {
          "name": "stderr",
          "output_type": "stream",
          "text": [
            "Validate Epoch test: 100%|██████████| 1941/1941 [05:06<00:00,  6.34it/s, WMAPE=1.32, DICE=0.0349, DPEAKS=25.4, Loss=0.00397]\n"
          ]
        },
        {
          "name": "stdout",
          "output_type": "stream",
          "text": [
            "Epoch [1/50]\n"
          ]
        },
        {
          "name": "stderr",
          "output_type": "stream",
          "text": [
            "Train Epoch 1:  25%|██▍       | 76/307 [00:34<01:46,  2.17it/s, loss=0.00437]"
          ]
        },
        {
          "ename": "KeyboardInterrupt",
          "evalue": "",
          "output_type": "error",
          "traceback": [
            "\u001b[0;31m---------------------------------------------------------------------------\u001b[0m",
            "\u001b[0;31mKeyboardInterrupt\u001b[0m                         Traceback (most recent call last)",
            "Cell \u001b[0;32mIn[22], line 15\u001b[0m\n\u001b[1;32m     11\u001b[0m last_checkpoint_path \u001b[38;5;241m=\u001b[39m os\u001b[38;5;241m.\u001b[39mpath\u001b[38;5;241m.\u001b[39mjoin(\n\u001b[1;32m     12\u001b[0m     \u001b[38;5;124m\"\u001b[39m\u001b[38;5;124mmodels\u001b[39m\u001b[38;5;124m\"\u001b[39m, \u001b[38;5;124mf\u001b[39m\u001b[38;5;124m\"\u001b[39m\u001b[38;5;124mlast_checkpoint_partition_\u001b[39m\u001b[38;5;132;01m{\u001b[39;00mcurrent_partition\u001b[38;5;132;01m}\u001b[39;00m\u001b[38;5;124m.pth\u001b[39m\u001b[38;5;124m\"\u001b[39m\n\u001b[1;32m     13\u001b[0m )\n\u001b[1;32m     14\u001b[0m optimizer \u001b[38;5;241m=\u001b[39m optim\u001b[38;5;241m.\u001b[39mAdam(model\u001b[38;5;241m.\u001b[39mparameters(), lr\u001b[38;5;241m=\u001b[39m\u001b[38;5;241m0.00001\u001b[39m)\n\u001b[0;32m---> 15\u001b[0m \u001b[43mtrain_model\u001b[49m\u001b[43m(\u001b[49m\n\u001b[1;32m     16\u001b[0m \u001b[43m    \u001b[49m\u001b[43mmodel\u001b[49m\u001b[43m,\u001b[49m\n\u001b[1;32m     17\u001b[0m \u001b[43m    \u001b[49m\u001b[43mtrain_loader\u001b[49m\u001b[43m,\u001b[49m\n\u001b[1;32m     18\u001b[0m \u001b[43m    \u001b[49m\u001b[43mval_loader\u001b[49m\u001b[43m,\u001b[49m\n\u001b[1;32m     19\u001b[0m \u001b[43m    \u001b[49m\u001b[43mbest_model_path\u001b[49m\u001b[43m,\u001b[49m\n\u001b[1;32m     20\u001b[0m \u001b[43m    \u001b[49m\u001b[43mlast_checkpoint_path\u001b[49m\u001b[43m,\u001b[49m\n\u001b[1;32m     21\u001b[0m \u001b[43m    \u001b[49m\u001b[43mcriterion\u001b[49m\u001b[43m,\u001b[49m\n\u001b[1;32m     22\u001b[0m \u001b[43m    \u001b[49m\u001b[43moptimizer\u001b[49m\u001b[43m,\u001b[49m\n\u001b[1;32m     23\u001b[0m \u001b[43m    \u001b[49m\u001b[43mnum_epochs\u001b[49m\u001b[38;5;241;43m=\u001b[39;49m\u001b[38;5;241;43m50\u001b[39;49m\u001b[43m,\u001b[49m\n\u001b[1;32m     24\u001b[0m \u001b[43m    \u001b[49m\u001b[43mdevice\u001b[49m\u001b[38;5;241;43m=\u001b[39;49m\u001b[43mDEVICE\u001b[49m\u001b[43m,\u001b[49m\n\u001b[1;32m     25\u001b[0m \u001b[43m    \u001b[49m\u001b[43mearly_stopping_patience\u001b[49m\u001b[38;5;241;43m=\u001b[39;49m\u001b[38;5;241;43m5\u001b[39;49m\u001b[43m,\u001b[49m\n\u001b[1;32m     26\u001b[0m \u001b[43m    \u001b[49m\u001b[43muse_autocast\u001b[49m\u001b[38;5;241;43m=\u001b[39;49m\u001b[43mUSE_AUTOCAST\u001b[49m\n\u001b[1;32m     27\u001b[0m \u001b[43m\u001b[49m\u001b[43m)\u001b[49m\n\u001b[1;32m     28\u001b[0m \u001b[38;5;66;03m#Cargar mejor modelo de la particion actual\u001b[39;00m\n\u001b[1;32m     29\u001b[0m model\u001b[38;5;241m.\u001b[39mload_state_dict(torch\u001b[38;5;241m.\u001b[39mload(best_model_path,weights_only\u001b[38;5;241m=\u001b[39m\u001b[38;5;28;01mTrue\u001b[39;00m))\n",
            "File \u001b[0;32m~/Documents/dataton/common/purrfect/training.py:122\u001b[0m, in \u001b[0;36mtrain_model\u001b[0;34m(model, train_loader, val_loader, best_model_path, last_checkpoint_path, criterion, optimizer, num_epochs, device, early_stopping_patience, use_autocast)\u001b[0m\n\u001b[1;32m    119\u001b[0m \u001b[38;5;28mprint\u001b[39m(\u001b[38;5;124mf\u001b[39m\u001b[38;5;124m\"\u001b[39m\u001b[38;5;124mEpoch [\u001b[39m\u001b[38;5;132;01m{\u001b[39;00mepoch\u001b[38;5;132;01m}\u001b[39;00m\u001b[38;5;124m/\u001b[39m\u001b[38;5;132;01m{\u001b[39;00mnum_epochs\u001b[38;5;132;01m}\u001b[39;00m\u001b[38;5;124m]\u001b[39m\u001b[38;5;124m\"\u001b[39m)\n\u001b[1;32m    121\u001b[0m \u001b[38;5;66;03m# Train the model\u001b[39;00m\n\u001b[0;32m--> 122\u001b[0m \u001b[43mtrain_validate\u001b[49m\u001b[43m(\u001b[49m\n\u001b[1;32m    123\u001b[0m \u001b[43m    \u001b[49m\u001b[43mmodel\u001b[49m\u001b[43m,\u001b[49m\u001b[43m \u001b[49m\u001b[43mtrain_loader\u001b[49m\u001b[43m,\u001b[49m\u001b[43m \u001b[49m\u001b[43mcriterion\u001b[49m\u001b[43m,\u001b[49m\u001b[43m \u001b[49m\u001b[43moptimizer\u001b[49m\u001b[43m,\u001b[49m\u001b[43m \u001b[49m\u001b[43mepoch\u001b[49m\u001b[43m,\u001b[49m\u001b[43m \u001b[49m\u001b[43mmetric_accumulator\u001b[49m\u001b[43m,\u001b[49m\u001b[43m \u001b[49m\u001b[43mdevice\u001b[49m\u001b[43m,\u001b[49m\u001b[43m \u001b[49m\u001b[43muse_autocast\u001b[49m\n\u001b[1;32m    124\u001b[0m \u001b[43m\u001b[49m\u001b[43m)\u001b[49m\n\u001b[1;32m    126\u001b[0m \u001b[38;5;66;03m# Validate the model\u001b[39;00m\n\u001b[1;32m    127\u001b[0m validate_loss \u001b[38;5;241m=\u001b[39m train_validate(\n\u001b[1;32m    128\u001b[0m     model,\n\u001b[1;32m    129\u001b[0m     val_loader,\n\u001b[0;32m   (...)\u001b[0m\n\u001b[1;32m    134\u001b[0m     use_autocast \u001b[38;5;241m=\u001b[39m use_autocast\n\u001b[1;32m    135\u001b[0m )\n",
            "File \u001b[0;32m~/Documents/dataton/common/purrfect/training.py:55\u001b[0m, in \u001b[0;36mtrain_validate\u001b[0;34m(model, loader, criterion, optimizer, epoch, metric_accumulator, device, use_autocast)\u001b[0m\n\u001b[1;32m     52\u001b[0m     scaler\u001b[38;5;241m.\u001b[39mstep(optimizer)\n\u001b[1;32m     53\u001b[0m     scaler\u001b[38;5;241m.\u001b[39mupdate()\n\u001b[0;32m---> 55\u001b[0m total_loss \u001b[38;5;241m+\u001b[39m\u001b[38;5;241m=\u001b[39m \u001b[43mloss\u001b[49m\u001b[38;5;241;43m.\u001b[39;49m\u001b[43mitem\u001b[49m\u001b[43m(\u001b[49m\u001b[43m)\u001b[49m\n\u001b[1;32m     56\u001b[0m loop\u001b[38;5;241m.\u001b[39mupdate(\u001b[38;5;241m1\u001b[39m)\n\u001b[1;32m     57\u001b[0m loop\u001b[38;5;241m.\u001b[39mset_postfix(loss\u001b[38;5;241m=\u001b[39mloss\u001b[38;5;241m.\u001b[39mitem())\n",
            "\u001b[0;31mKeyboardInterrupt\u001b[0m: "
          ]
        }
      ],
      "source": [
        "for current_partition in range(7,15):\n",
        "    train_loader, val_loader = create_train_valid_loaders(\n",
        "        f\"partition_{current_partition}_train.json\",\n",
        "        f\"partition_{current_partition}_val.json\",\n",
        "        \"partitions\",\n",
        "        batch_size=16,\n",
        "    )\n",
        "    best_model_path = os.path.join(\n",
        "        \"models\", f\"best_model_partition_{current_partition}.pth\"\n",
        "    )\n",
        "    last_checkpoint_path = os.path.join(\n",
        "        \"models\", f\"last_checkpoint_partition_{current_partition}.pth\"\n",
        "    )\n",
        "    optimizer = optim.Adam(model.parameters(), lr=0.00001)\n",
        "    train_model(\n",
        "        model,\n",
        "        train_loader,\n",
        "        val_loader,\n",
        "        best_model_path,\n",
        "        last_checkpoint_path,\n",
        "        criterion,\n",
        "        optimizer,\n",
        "        num_epochs=50,\n",
        "        device=DEVICE,\n",
        "        early_stopping_patience=5,\n",
        "        use_autocast=USE_AUTOCAST\n",
        "    )\n",
        "    #Cargar mejor modelo de la particion actual\n",
        "    model.load_state_dict(torch.load(best_model_path,weights_only=True))\n",
        "    test_model(model,criterion,device=DEVICE,batch_size=16)\n",
        "    create_next_partitions(current_partition)"
      ]
    },
    {
      "cell_type": "code",
      "execution_count": 9,
      "metadata": {},
      "outputs": [
        {
          "data": {
            "text/plain": [
              "<All keys matched successfully>"
            ]
          },
          "execution_count": 9,
          "metadata": {},
          "output_type": "execute_result"
        }
      ],
      "source": [
        "current_partition=10\n",
        "best_model_path = os.path.join(\n",
        "    \"models\", f\"best_model_partition_{current_partition}.pth\"\n",
        ")\n",
        "model.load_state_dict(torch.load(best_model_path,weights_only=True))\n",
        "#create_submission(model,\"best_model_partition_10_v2\",device=DEVICE)"
      ]
    },
    {
      "cell_type": "code",
      "execution_count": 10,
      "metadata": {},
      "outputs": [
        {
          "name": "stdout",
          "output_type": "stream",
          "text": [
            "Epoch [1/50]\n"
          ]
        },
        {
          "name": "stderr",
          "output_type": "stream",
          "text": [
            "Train Epoch 1: 100%|██████████| 307/307 [02:11<00:00,  2.33it/s, WMAPE=1.63, DICE=0.0372, DPEAKS=27.8, Loss=0.00495]\n",
            "Validate Epoch 1: 100%|██████████| 77/77 [00:12<00:00,  6.08it/s, WMAPE=1.36, DICE=0.036, DPEAKS=24.8, Loss=0.00415]\n"
          ]
        },
        {
          "name": "stdout",
          "output_type": "stream",
          "text": [
            "Saving best model\n",
            "Epoch [2/50]\n"
          ]
        },
        {
          "name": "stderr",
          "output_type": "stream",
          "text": [
            "Train Epoch 2: 100%|██████████| 307/307 [02:07<00:00,  2.40it/s, WMAPE=1.59, DICE=0.0372, DPEAKS=28.1, Loss=0.00486]\n",
            "Validate Epoch 2: 100%|██████████| 77/77 [00:11<00:00,  6.61it/s, WMAPE=1.31, DICE=0.0352, DPEAKS=22.6, Loss=0.00404]\n"
          ]
        },
        {
          "name": "stdout",
          "output_type": "stream",
          "text": [
            "Saving best model\n",
            "Epoch [3/50]\n"
          ]
        },
        {
          "name": "stderr",
          "output_type": "stream",
          "text": [
            "Train Epoch 3: 100%|██████████| 307/307 [02:08<00:00,  2.39it/s, WMAPE=1.59, DICE=0.0371, DPEAKS=29.1, Loss=0.0048]\n",
            "Validate Epoch 3: 100%|██████████| 77/77 [00:11<00:00,  6.60it/s, WMAPE=1.33, DICE=0.0354, DPEAKS=24.5, Loss=0.00405]\n"
          ]
        },
        {
          "name": "stdout",
          "output_type": "stream",
          "text": [
            "Epoch [4/50]\n"
          ]
        },
        {
          "name": "stderr",
          "output_type": "stream",
          "text": [
            "Train Epoch 4: 100%|██████████| 307/307 [02:08<00:00,  2.38it/s, WMAPE=1.6, DICE=0.0373, DPEAKS=27.7, Loss=0.00486]\n",
            "Validate Epoch 4: 100%|██████████| 77/77 [00:11<00:00,  6.58it/s, WMAPE=1.33, DICE=0.0355, DPEAKS=24.4, Loss=0.00404]\n"
          ]
        },
        {
          "name": "stdout",
          "output_type": "stream",
          "text": [
            "Saving best model\n",
            "Epoch [5/50]\n"
          ]
        },
        {
          "name": "stderr",
          "output_type": "stream",
          "text": [
            "Train Epoch 5: 100%|██████████| 307/307 [02:09<00:00,  2.37it/s, WMAPE=1.58, DICE=0.0371, DPEAKS=27.9, Loss=0.00482]\n",
            "Validate Epoch 5: 100%|██████████| 77/77 [00:11<00:00,  6.56it/s, WMAPE=1.49, DICE=0.0361, DPEAKS=26.2, Loss=0.00457]\n"
          ]
        },
        {
          "name": "stdout",
          "output_type": "stream",
          "text": [
            "Epoch [6/50]\n"
          ]
        },
        {
          "name": "stderr",
          "output_type": "stream",
          "text": [
            "Train Epoch 6: 100%|██████████| 307/307 [02:04<00:00,  2.46it/s, WMAPE=1.58, DICE=0.037, DPEAKS=28, Loss=0.00481]\n",
            "Validate Epoch 6: 100%|██████████| 77/77 [00:11<00:00,  6.46it/s, WMAPE=1.33, DICE=0.0355, DPEAKS=27.1, Loss=0.00405]\n"
          ]
        },
        {
          "name": "stdout",
          "output_type": "stream",
          "text": [
            "Epoch [7/50]\n"
          ]
        },
        {
          "name": "stderr",
          "output_type": "stream",
          "text": [
            "Train Epoch 7: 100%|██████████| 307/307 [02:09<00:00,  2.36it/s, WMAPE=1.65, DICE=0.037, DPEAKS=27.7, Loss=0.00494]\n",
            "Validate Epoch 7: 100%|██████████| 77/77 [00:11<00:00,  6.53it/s, WMAPE=1.31, DICE=0.0357, DPEAKS=24.7, Loss=0.00403]\n"
          ]
        },
        {
          "name": "stdout",
          "output_type": "stream",
          "text": [
            "Saving best model\n",
            "Epoch [8/50]\n"
          ]
        },
        {
          "name": "stderr",
          "output_type": "stream",
          "text": [
            "Train Epoch 8: 100%|██████████| 307/307 [02:09<00:00,  2.36it/s, WMAPE=1.58, DICE=0.0369, DPEAKS=27.4, Loss=0.00479]\n",
            "Validate Epoch 8: 100%|██████████| 77/77 [00:11<00:00,  6.53it/s, WMAPE=1.54, DICE=0.0353, DPEAKS=24.5, Loss=0.00465]\n"
          ]
        },
        {
          "name": "stdout",
          "output_type": "stream",
          "text": [
            "Epoch [9/50]\n"
          ]
        },
        {
          "name": "stderr",
          "output_type": "stream",
          "text": [
            "Train Epoch 9: 100%|██████████| 307/307 [02:09<00:00,  2.38it/s, WMAPE=1.59, DICE=0.0371, DPEAKS=28, Loss=0.00478]\n",
            "Validate Epoch 9: 100%|██████████| 77/77 [00:11<00:00,  6.57it/s, WMAPE=1.3, DICE=0.0347, DPEAKS=23.9, Loss=0.00403]\n"
          ]
        },
        {
          "name": "stdout",
          "output_type": "stream",
          "text": [
            "Epoch [10/50]\n"
          ]
        },
        {
          "name": "stderr",
          "output_type": "stream",
          "text": [
            "Train Epoch 10: 100%|██████████| 307/307 [02:08<00:00,  2.39it/s, WMAPE=1.58, DICE=0.037, DPEAKS=27.6, Loss=0.00477]\n",
            "Validate Epoch 10: 100%|██████████| 77/77 [00:11<00:00,  6.62it/s, WMAPE=1.54, DICE=0.0353, DPEAKS=24.4, Loss=0.00453]\n"
          ]
        },
        {
          "name": "stdout",
          "output_type": "stream",
          "text": [
            "Epoch [11/50]\n"
          ]
        },
        {
          "name": "stderr",
          "output_type": "stream",
          "text": [
            "Train Epoch 11: 100%|██████████| 307/307 [02:08<00:00,  2.39it/s, WMAPE=1.57, DICE=0.0371, DPEAKS=28.4, Loss=0.00471]\n",
            "Validate Epoch 11: 100%|██████████| 77/77 [00:11<00:00,  6.55it/s, WMAPE=1.54, DICE=0.035, DPEAKS=25, Loss=0.00464]\n"
          ]
        },
        {
          "name": "stdout",
          "output_type": "stream",
          "text": [
            "Epoch [12/50]\n"
          ]
        },
        {
          "name": "stderr",
          "output_type": "stream",
          "text": [
            "Train Epoch 12: 100%|██████████| 307/307 [02:08<00:00,  2.39it/s, WMAPE=1.58, DICE=0.037, DPEAKS=28.2, Loss=0.00474]\n",
            "Validate Epoch 12: 100%|██████████| 77/77 [00:11<00:00,  6.62it/s, WMAPE=1.39, DICE=0.0358, DPEAKS=25.7, Loss=0.00419]\n"
          ]
        },
        {
          "name": "stdout",
          "output_type": "stream",
          "text": [
            "early stopping: 5 epochs without improvement\n",
            "Training complete.\n"
          ]
        },
        {
          "name": "stderr",
          "output_type": "stream",
          "text": [
            "Validate Epoch test: 100%|██████████| 1941/1941 [04:37<00:00,  6.99it/s, WMAPE=1.34, DICE=0.0354, DPEAKS=27, Loss=0.00397]\n"
          ]
        },
        {
          "name": "stdout",
          "output_type": "stream",
          "text": [
            "Epoch [1/50]\n"
          ]
        },
        {
          "name": "stderr",
          "output_type": "stream",
          "text": [
            "Train Epoch 1: 100%|██████████| 307/307 [02:03<00:00,  2.49it/s, WMAPE=1.58, DICE=0.037, DPEAKS=27.4, Loss=0.00478]\n",
            "Validate Epoch 1: 100%|██████████| 77/77 [00:12<00:00,  6.39it/s, WMAPE=1.34, DICE=0.0349, DPEAKS=30.5, Loss=0.00406]\n"
          ]
        },
        {
          "name": "stdout",
          "output_type": "stream",
          "text": [
            "Saving best model\n",
            "Epoch [2/50]\n"
          ]
        },
        {
          "name": "stderr",
          "output_type": "stream",
          "text": [
            "Train Epoch 2: 100%|██████████| 307/307 [01:57<00:00,  2.61it/s, WMAPE=1.57, DICE=0.0369, DPEAKS=28, Loss=0.00481]\n",
            "Validate Epoch 2: 100%|██████████| 77/77 [00:10<00:00,  7.17it/s, WMAPE=1.38, DICE=0.035, DPEAKS=27, Loss=0.00412]\n"
          ]
        },
        {
          "name": "stdout",
          "output_type": "stream",
          "text": [
            "Epoch [3/50]\n"
          ]
        },
        {
          "name": "stderr",
          "output_type": "stream",
          "text": [
            "Train Epoch 3: 100%|██████████| 307/307 [01:57<00:00,  2.61it/s, WMAPE=1.56, DICE=0.0368, DPEAKS=27.3, Loss=0.00478]\n",
            "Validate Epoch 3: 100%|██████████| 77/77 [00:10<00:00,  7.15it/s, WMAPE=1.29, DICE=0.0345, DPEAKS=28, Loss=0.00392]\n"
          ]
        },
        {
          "name": "stdout",
          "output_type": "stream",
          "text": [
            "Saving best model\n",
            "Epoch [4/50]\n"
          ]
        },
        {
          "name": "stderr",
          "output_type": "stream",
          "text": [
            "Train Epoch 4: 100%|██████████| 307/307 [01:57<00:00,  2.62it/s, WMAPE=1.56, DICE=0.0367, DPEAKS=26.5, Loss=0.0047]\n",
            "Validate Epoch 4: 100%|██████████| 77/77 [00:10<00:00,  7.15it/s, WMAPE=1.32, DICE=0.0344, DPEAKS=28.7, Loss=0.004]\n"
          ]
        },
        {
          "name": "stdout",
          "output_type": "stream",
          "text": [
            "Epoch [5/50]\n"
          ]
        },
        {
          "name": "stderr",
          "output_type": "stream",
          "text": [
            "Train Epoch 5: 100%|██████████| 307/307 [01:57<00:00,  2.61it/s, WMAPE=1.61, DICE=0.0367, DPEAKS=27, Loss=0.00489]\n",
            "Validate Epoch 5: 100%|██████████| 77/77 [00:10<00:00,  7.14it/s, WMAPE=1.31, DICE=0.0346, DPEAKS=29, Loss=0.00391]\n"
          ]
        },
        {
          "name": "stdout",
          "output_type": "stream",
          "text": [
            "Saving best model\n",
            "Epoch [6/50]\n"
          ]
        },
        {
          "name": "stderr",
          "output_type": "stream",
          "text": [
            "Train Epoch 6: 100%|██████████| 307/307 [01:57<00:00,  2.61it/s, WMAPE=1.58, DICE=0.0367, DPEAKS=26.6, Loss=0.00478]\n",
            "Validate Epoch 6: 100%|██████████| 77/77 [00:10<00:00,  7.15it/s, WMAPE=1.34, DICE=0.0352, DPEAKS=26.4, Loss=0.00396]\n"
          ]
        },
        {
          "name": "stdout",
          "output_type": "stream",
          "text": [
            "Epoch [7/50]\n"
          ]
        },
        {
          "name": "stderr",
          "output_type": "stream",
          "text": [
            "Train Epoch 7: 100%|██████████| 307/307 [01:57<00:00,  2.61it/s, WMAPE=1.56, DICE=0.0367, DPEAKS=26.8, Loss=0.00477]\n",
            "Validate Epoch 7: 100%|██████████| 77/77 [00:10<00:00,  7.17it/s, WMAPE=1.68, DICE=0.0345, DPEAKS=28.5, Loss=0.00483]\n"
          ]
        },
        {
          "name": "stdout",
          "output_type": "stream",
          "text": [
            "Epoch [8/50]\n"
          ]
        },
        {
          "name": "stderr",
          "output_type": "stream",
          "text": [
            "Train Epoch 8: 100%|██████████| 307/307 [01:57<00:00,  2.62it/s, WMAPE=1.6, DICE=0.0366, DPEAKS=27.1, Loss=0.00488]\n",
            "Validate Epoch 8: 100%|██████████| 77/77 [00:10<00:00,  7.16it/s, WMAPE=1.45, DICE=0.0342, DPEAKS=27.4, Loss=0.0042]\n"
          ]
        },
        {
          "name": "stdout",
          "output_type": "stream",
          "text": [
            "Epoch [9/50]\n"
          ]
        },
        {
          "name": "stderr",
          "output_type": "stream",
          "text": [
            "Train Epoch 9: 100%|██████████| 307/307 [01:57<00:00,  2.61it/s, WMAPE=1.56, DICE=0.0365, DPEAKS=27.2, Loss=0.00475]\n",
            "Validate Epoch 9: 100%|██████████| 77/77 [00:10<00:00,  7.16it/s, WMAPE=1.41, DICE=0.0344, DPEAKS=26.4, Loss=0.00411]\n"
          ]
        },
        {
          "name": "stdout",
          "output_type": "stream",
          "text": [
            "Epoch [10/50]\n"
          ]
        },
        {
          "name": "stderr",
          "output_type": "stream",
          "text": [
            "Train Epoch 10: 100%|██████████| 307/307 [01:57<00:00,  2.62it/s, WMAPE=1.59, DICE=0.0363, DPEAKS=26.7, Loss=0.00484]\n",
            "Validate Epoch 10: 100%|██████████| 77/77 [00:10<00:00,  7.18it/s, WMAPE=1.31, DICE=0.0344, DPEAKS=29.5, Loss=0.00392]\n"
          ]
        },
        {
          "name": "stdout",
          "output_type": "stream",
          "text": [
            "early stopping: 5 epochs without improvement\n",
            "Training complete.\n"
          ]
        },
        {
          "name": "stderr",
          "output_type": "stream",
          "text": [
            "Validate Epoch test: 100%|██████████| 1941/1941 [04:33<00:00,  7.11it/s, WMAPE=1.32, DICE=0.0347, DPEAKS=25.9, Loss=0.00394]\n"
          ]
        },
        {
          "name": "stdout",
          "output_type": "stream",
          "text": [
            "Epoch [1/50]\n"
          ]
        },
        {
          "name": "stderr",
          "output_type": "stream",
          "text": [
            "Train Epoch 1: 100%|██████████| 307/307 [02:02<00:00,  2.50it/s, WMAPE=1.58, DICE=0.0367, DPEAKS=27.6, Loss=0.00486]\n",
            "Validate Epoch 1: 100%|██████████| 77/77 [00:11<00:00,  6.44it/s, WMAPE=1.36, DICE=0.0344, DPEAKS=26.4, Loss=0.00399]\n"
          ]
        },
        {
          "name": "stdout",
          "output_type": "stream",
          "text": [
            "Saving best model\n",
            "Epoch [2/50]\n"
          ]
        },
        {
          "name": "stderr",
          "output_type": "stream",
          "text": [
            "Train Epoch 2: 100%|██████████| 307/307 [01:57<00:00,  2.62it/s, WMAPE=1.58, DICE=0.0366, DPEAKS=27, Loss=0.00482]\n",
            "Validate Epoch 2: 100%|██████████| 77/77 [00:10<00:00,  7.15it/s, WMAPE=1.38, DICE=0.0348, DPEAKS=26.6, Loss=0.00391]\n"
          ]
        },
        {
          "name": "stdout",
          "output_type": "stream",
          "text": [
            "Saving best model\n",
            "Epoch [3/50]\n"
          ]
        },
        {
          "name": "stderr",
          "output_type": "stream",
          "text": [
            "Train Epoch 3: 100%|██████████| 307/307 [01:57<00:00,  2.61it/s, WMAPE=1.58, DICE=0.0365, DPEAKS=27, Loss=0.00487]\n",
            "Validate Epoch 3: 100%|██████████| 77/77 [00:10<00:00,  7.16it/s, WMAPE=1.38, DICE=0.0352, DPEAKS=27.5, Loss=0.00392]\n"
          ]
        },
        {
          "name": "stdout",
          "output_type": "stream",
          "text": [
            "Epoch [4/50]\n"
          ]
        },
        {
          "name": "stderr",
          "output_type": "stream",
          "text": [
            "Train Epoch 4: 100%|██████████| 307/307 [01:57<00:00,  2.62it/s, WMAPE=1.59, DICE=0.0365, DPEAKS=27.3, Loss=0.00485]\n",
            "Validate Epoch 4: 100%|██████████| 77/77 [00:10<00:00,  7.15it/s, WMAPE=1.36, DICE=0.0349, DPEAKS=26.5, Loss=0.0039]\n"
          ]
        },
        {
          "name": "stdout",
          "output_type": "stream",
          "text": [
            "Saving best model\n",
            "Epoch [5/50]\n"
          ]
        },
        {
          "name": "stderr",
          "output_type": "stream",
          "text": [
            "Train Epoch 5: 100%|██████████| 307/307 [01:57<00:00,  2.62it/s, WMAPE=1.61, DICE=0.0366, DPEAKS=27.3, Loss=0.0049]\n",
            "Validate Epoch 5: 100%|██████████| 77/77 [00:10<00:00,  7.13it/s, WMAPE=1.39, DICE=0.0343, DPEAKS=26.2, Loss=0.00394]\n"
          ]
        },
        {
          "name": "stdout",
          "output_type": "stream",
          "text": [
            "Epoch [6/50]\n"
          ]
        },
        {
          "name": "stderr",
          "output_type": "stream",
          "text": [
            "Train Epoch 6: 100%|██████████| 307/307 [01:57<00:00,  2.61it/s, WMAPE=1.57, DICE=0.0365, DPEAKS=27.6, Loss=0.0048]\n",
            "Validate Epoch 6: 100%|██████████| 77/77 [00:10<00:00,  7.16it/s, WMAPE=1.35, DICE=0.0344, DPEAKS=26.5, Loss=0.0039]\n"
          ]
        },
        {
          "name": "stdout",
          "output_type": "stream",
          "text": [
            "Epoch [7/50]\n"
          ]
        },
        {
          "name": "stderr",
          "output_type": "stream",
          "text": [
            "Train Epoch 7: 100%|██████████| 307/307 [01:57<00:00,  2.61it/s, WMAPE=1.56, DICE=0.0365, DPEAKS=26.2, Loss=0.00474]\n",
            "Validate Epoch 7: 100%|██████████| 77/77 [00:10<00:00,  7.16it/s, WMAPE=1.38, DICE=0.0347, DPEAKS=27.9, Loss=0.00393]\n"
          ]
        },
        {
          "name": "stdout",
          "output_type": "stream",
          "text": [
            "Epoch [8/50]\n"
          ]
        },
        {
          "name": "stderr",
          "output_type": "stream",
          "text": [
            "Train Epoch 8: 100%|██████████| 307/307 [01:57<00:00,  2.62it/s, WMAPE=1.59, DICE=0.0364, DPEAKS=26.1, Loss=0.00485]\n",
            "Validate Epoch 8: 100%|██████████| 77/77 [00:10<00:00,  7.18it/s, WMAPE=1.44, DICE=0.0354, DPEAKS=28.6, Loss=0.00405]\n"
          ]
        },
        {
          "name": "stdout",
          "output_type": "stream",
          "text": [
            "Epoch [9/50]\n"
          ]
        },
        {
          "name": "stderr",
          "output_type": "stream",
          "text": [
            "Train Epoch 9: 100%|██████████| 307/307 [01:57<00:00,  2.62it/s, WMAPE=1.56, DICE=0.0364, DPEAKS=26.9, Loss=0.00476]\n",
            "Validate Epoch 9: 100%|██████████| 77/77 [00:10<00:00,  7.15it/s, WMAPE=1.56, DICE=0.0345, DPEAKS=25.6, Loss=0.00431]\n"
          ]
        },
        {
          "name": "stdout",
          "output_type": "stream",
          "text": [
            "early stopping: 5 epochs without improvement\n",
            "Training complete.\n"
          ]
        },
        {
          "name": "stderr",
          "output_type": "stream",
          "text": [
            "Validate Epoch test: 100%|██████████| 1941/1941 [04:32<00:00,  7.12it/s, WMAPE=1.33, DICE=0.0348, DPEAKS=26, Loss=0.00394]\n"
          ]
        },
        {
          "name": "stdout",
          "output_type": "stream",
          "text": [
            "Epoch [1/50]\n"
          ]
        },
        {
          "name": "stderr",
          "output_type": "stream",
          "text": [
            "Train Epoch 1: 100%|██████████| 307/307 [02:02<00:00,  2.51it/s, WMAPE=1.58, DICE=0.0367, DPEAKS=28.5, Loss=0.00478]\n",
            "Validate Epoch 1: 100%|██████████| 77/77 [00:11<00:00,  6.42it/s, WMAPE=1.34, DICE=0.0344, DPEAKS=25, Loss=0.00398]\n"
          ]
        },
        {
          "name": "stdout",
          "output_type": "stream",
          "text": [
            "Saving best model\n",
            "Epoch [2/50]\n"
          ]
        },
        {
          "name": "stderr",
          "output_type": "stream",
          "text": [
            "Train Epoch 2: 100%|██████████| 307/307 [01:57<00:00,  2.62it/s, WMAPE=1.58, DICE=0.0367, DPEAKS=28.1, Loss=0.00474]\n",
            "Validate Epoch 2: 100%|██████████| 77/77 [00:10<00:00,  7.18it/s, WMAPE=1.31, DICE=0.0341, DPEAKS=24.7, Loss=0.00401]\n"
          ]
        },
        {
          "name": "stdout",
          "output_type": "stream",
          "text": [
            "Epoch [3/50]\n"
          ]
        },
        {
          "name": "stderr",
          "output_type": "stream",
          "text": [
            "Train Epoch 3: 100%|██████████| 307/307 [01:57<00:00,  2.62it/s, WMAPE=1.62, DICE=0.0367, DPEAKS=28.4, Loss=0.00482]\n",
            "Validate Epoch 3: 100%|██████████| 77/77 [00:10<00:00,  7.16it/s, WMAPE=1.36, DICE=0.0345, DPEAKS=26.3, Loss=0.00405]\n"
          ]
        },
        {
          "name": "stdout",
          "output_type": "stream",
          "text": [
            "Epoch [4/50]\n"
          ]
        },
        {
          "name": "stderr",
          "output_type": "stream",
          "text": [
            "Train Epoch 4: 100%|██████████| 307/307 [01:57<00:00,  2.62it/s, WMAPE=1.59, DICE=0.0366, DPEAKS=28.2, Loss=0.00477]\n",
            "Validate Epoch 4: 100%|██████████| 77/77 [00:10<00:00,  7.14it/s, WMAPE=1.33, DICE=0.0341, DPEAKS=25.6, Loss=0.00397]\n"
          ]
        },
        {
          "name": "stdout",
          "output_type": "stream",
          "text": [
            "Saving best model\n",
            "Epoch [5/50]\n"
          ]
        },
        {
          "name": "stderr",
          "output_type": "stream",
          "text": [
            "Train Epoch 5: 100%|██████████| 307/307 [01:57<00:00,  2.61it/s, WMAPE=1.56, DICE=0.0366, DPEAKS=27.8, Loss=0.00471]\n",
            "Validate Epoch 5: 100%|██████████| 77/77 [00:10<00:00,  7.16it/s, WMAPE=1.47, DICE=0.0345, DPEAKS=25.8, Loss=0.00426]\n"
          ]
        },
        {
          "name": "stdout",
          "output_type": "stream",
          "text": [
            "Epoch [6/50]\n"
          ]
        },
        {
          "name": "stderr",
          "output_type": "stream",
          "text": [
            "Train Epoch 6: 100%|██████████| 307/307 [01:57<00:00,  2.62it/s, WMAPE=1.54, DICE=0.0366, DPEAKS=28.1, Loss=0.00468]\n",
            "Validate Epoch 6: 100%|██████████| 77/77 [00:10<00:00,  7.18it/s, WMAPE=1.36, DICE=0.0344, DPEAKS=24.8, Loss=0.004]\n"
          ]
        },
        {
          "name": "stdout",
          "output_type": "stream",
          "text": [
            "Epoch [7/50]\n"
          ]
        },
        {
          "name": "stderr",
          "output_type": "stream",
          "text": [
            "Train Epoch 7: 100%|██████████| 307/307 [01:57<00:00,  2.62it/s, WMAPE=1.6, DICE=0.0366, DPEAKS=28.3, Loss=0.00481]\n",
            "Validate Epoch 7: 100%|██████████| 77/77 [00:10<00:00,  7.17it/s, WMAPE=1.32, DICE=0.0341, DPEAKS=24.5, Loss=0.00394]\n"
          ]
        },
        {
          "name": "stdout",
          "output_type": "stream",
          "text": [
            "Saving best model\n",
            "Epoch [8/50]\n"
          ]
        },
        {
          "name": "stderr",
          "output_type": "stream",
          "text": [
            "Train Epoch 8: 100%|██████████| 307/307 [01:57<00:00,  2.61it/s, WMAPE=1.58, DICE=0.0366, DPEAKS=28.4, Loss=0.00474]\n",
            "Validate Epoch 8: 100%|██████████| 77/77 [00:10<00:00,  7.18it/s, WMAPE=1.38, DICE=0.0339, DPEAKS=23.6, Loss=0.00411]\n"
          ]
        },
        {
          "name": "stdout",
          "output_type": "stream",
          "text": [
            "Epoch [9/50]\n"
          ]
        },
        {
          "name": "stderr",
          "output_type": "stream",
          "text": [
            "Train Epoch 9: 100%|██████████| 307/307 [01:57<00:00,  2.62it/s, WMAPE=1.6, DICE=0.0364, DPEAKS=28.2, Loss=0.00479]\n",
            "Validate Epoch 9: 100%|██████████| 77/77 [00:10<00:00,  7.17it/s, WMAPE=1.32, DICE=0.0342, DPEAKS=25.7, Loss=0.00397]\n"
          ]
        },
        {
          "name": "stdout",
          "output_type": "stream",
          "text": [
            "Epoch [10/50]\n"
          ]
        },
        {
          "name": "stderr",
          "output_type": "stream",
          "text": [
            "Train Epoch 10: 100%|██████████| 307/307 [01:57<00:00,  2.62it/s, WMAPE=1.58, DICE=0.0365, DPEAKS=27.7, Loss=0.00475]\n",
            "Validate Epoch 10: 100%|██████████| 77/77 [00:10<00:00,  7.17it/s, WMAPE=1.46, DICE=0.0337, DPEAKS=25.1, Loss=0.00426]\n"
          ]
        },
        {
          "name": "stdout",
          "output_type": "stream",
          "text": [
            "Epoch [11/50]\n"
          ]
        },
        {
          "name": "stderr",
          "output_type": "stream",
          "text": [
            "Train Epoch 11: 100%|██████████| 307/307 [01:57<00:00,  2.62it/s, WMAPE=1.54, DICE=0.0364, DPEAKS=27, Loss=0.00465]\n",
            "Validate Epoch 11: 100%|██████████| 77/77 [00:10<00:00,  7.16it/s, WMAPE=1.67, DICE=0.0341, DPEAKS=23.7, Loss=0.00486]\n"
          ]
        },
        {
          "name": "stdout",
          "output_type": "stream",
          "text": [
            "Epoch [12/50]\n"
          ]
        },
        {
          "name": "stderr",
          "output_type": "stream",
          "text": [
            "Train Epoch 12: 100%|██████████| 307/307 [01:57<00:00,  2.61it/s, WMAPE=1.58, DICE=0.0363, DPEAKS=27, Loss=0.00474]\n",
            "Validate Epoch 12: 100%|██████████| 77/77 [00:10<00:00,  7.17it/s, WMAPE=1.39, DICE=0.035, DPEAKS=26.5, Loss=0.00414]\n"
          ]
        },
        {
          "name": "stdout",
          "output_type": "stream",
          "text": [
            "early stopping: 5 epochs without improvement\n",
            "Training complete.\n"
          ]
        },
        {
          "name": "stderr",
          "output_type": "stream",
          "text": [
            "Validate Epoch test: 100%|██████████| 1941/1941 [04:32<00:00,  7.11it/s, WMAPE=1.32, DICE=0.0344, DPEAKS=25.8, Loss=0.0039]\n"
          ]
        }
      ],
      "source": [
        "for current_partition in range(11,15):\n",
        "    train_loader, val_loader = create_train_valid_loaders(\n",
        "        f\"partition_{current_partition}_train.json\",\n",
        "        f\"partition_{current_partition}_val.json\",\n",
        "        \"partitions\",\n",
        "        batch_size=16,\n",
        "    )\n",
        "    best_model_path = os.path.join(\n",
        "        \"models\", f\"best_model_partition_{current_partition}.pth\"\n",
        "    )\n",
        "    last_checkpoint_path = os.path.join(\n",
        "        \"models\", f\"last_checkpoint_partition_{current_partition}.pth\"\n",
        "    )\n",
        "    optimizer = optim.Adam(model.parameters(), lr=0.00001)\n",
        "    train_model(\n",
        "        model,\n",
        "        train_loader,\n",
        "        val_loader,\n",
        "        best_model_path,\n",
        "        last_checkpoint_path,\n",
        "        criterion,\n",
        "        optimizer,\n",
        "        num_epochs=50,\n",
        "        device=DEVICE,\n",
        "        early_stopping_patience=5,\n",
        "        use_autocast=USE_AUTOCAST\n",
        "    )\n",
        "    #Cargar mejor modelo de la particion actual\n",
        "    model.load_state_dict(torch.load(best_model_path,weights_only=True))\n",
        "    test_model(model,criterion,device=DEVICE,batch_size=16)\n",
        "    create_next_partitions(current_partition)"
      ]
    },
    {
      "cell_type": "code",
      "execution_count": 7,
      "metadata": {},
      "outputs": [
        {
          "name": "stderr",
          "output_type": "stream",
          "text": [
            "                                                                                         \r"
          ]
        }
      ],
      "source": [
        "current_partition = 14\n",
        "best_model_path = os.path.join(\n",
        "        \"models\", f\"best_model_partition_{current_partition}.pth\"\n",
        "    )\n",
        "model.load_state_dict(torch.load(best_model_path,weights_only=True))\n",
        "create_submission(model, \"private_partition_14\", submission_path=\"submissions\", device=\"cuda\",source=\"test_private\")"
      ]
    },
    {
      "cell_type": "code",
      "execution_count": 9,
      "metadata": {},
      "outputs": [
        {
          "name": "stdout",
          "output_type": "stream",
          "text": [
            "(128, 128)\n",
            "float16\n"
          ]
        }
      ],
      "source": [
        "# open a .npy file and print the shape\n",
        "import numpy as np\n",
        "data = np.load(\"submissions/private_partition_14/purrfectpredict/00821_00001.npy\")\n",
        "print(data.shape)\n",
        "print(data.dtype)"
      ]
    },
    {
      "cell_type": "code",
      "execution_count": 10,
      "metadata": {},
      "outputs": [],
      "source": [
        "from purrfect.visualization import plot_kappa"
      ]
    },
    {
      "cell_type": "code",
      "execution_count": 11,
      "metadata": {},
      "outputs": [
        {
          "data": {
            "image/png": "[encoded data removed]",
            "text/plain": [
              "<Figure size 400x400 with 2 Axes>"
            ]
          },
          "metadata": {},
          "output_type": "display_data"
        }
      ],
      "source": [
        "data = glob.glob(\"submissions/private_partition_14/purrfectpredict/*.npy\")\n",
        "plot_kappa(data)"
      ]
    },
    {
      "cell_type": "code",
      "execution_count": null,
      "metadata": {},
      "outputs": [],
      "source": []
    }
  ],
  "metadata": {
    "accelerator": "GPU",
    "colab": {
      "gpuType": "T4",
      "provenance": []
    },
    "kernelspec": {
      "display_name": "Python 3",
      "name": "python3"
    },
    "language_info": {
      "codemirror_mode": {
        "name": "ipython",
        "version": 3
      },
      "file_extension": ".py",
      "mimetype": "text/x-python",
      "name": "python",
      "nbconvert_exporter": "python",
      "pygments_lexer": "ipython3",
      "version": "3.12.5"
    }
  },
  "nbformat": 4,
  "nbformat_minor": 0
}
