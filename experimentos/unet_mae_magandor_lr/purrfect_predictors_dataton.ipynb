{
  "cells": [
    {
      "cell_type": "markdown",
      "metadata": {},
      "source": [
        "## Carga modulo comun"
      ]
    },
    {
      "cell_type": "code",
      "execution_count": 1,
      "metadata": {},
      "outputs": [],
      "source": [
        "import sys\n",
        "import os\n",
        "sys.path.append(os.path.abspath('../../common'))"
      ]
    },
    {
      "cell_type": "code",
      "execution_count": 2,
      "metadata": {},
      "outputs": [],
      "source": [
        "import torch\n",
        "import torch.nn as nn\n",
        "import torch.nn.functional as F\n",
        "\n",
        "from purrfect.dataset import EPKADataset, load_partition,save_partition, create_train_valid_loaders\n",
        "from torch.utils.data import DataLoader\n",
        "\n",
        "from purrfect.training import train_model,train_validate\n",
        "import torch.optim as optim\n",
        "\n",
        "from purrfect.metrics import MetricAccumulator\n",
        "from purrfect.active_learning import create_new_partition,create_next_partitions, test_model\n",
        "\n",
        "from sklearn.model_selection import train_test_split\n",
        "from purrfect.submission import create_submission"
      ]
    },
    {
      "cell_type": "code",
      "execution_count": 3,
      "metadata": {},
      "outputs": [],
      "source": [
        "DEVICE = torch.device('cuda' if torch.cuda.is_available() else 'cpu')"
      ]
    },
    {
      "cell_type": "markdown",
      "metadata": {},
      "source": [
        "## Definición modelo"
      ]
    },
    {
      "cell_type": "code",
      "execution_count": 4,
      "metadata": {},
      "outputs": [],
      "source": [
        "# Define the double convolution block\n",
        "class DoubleConv(nn.Module):\n",
        "    def __init__(self, in_channels, out_channels):\n",
        "        super(DoubleConv, self).__init__()\n",
        "        self.conv = nn.Sequential(\n",
        "            nn.Conv2d(in_channels, out_channels, kernel_size=3, padding=1),\n",
        "            nn.BatchNorm2d(out_channels),\n",
        "            nn.ReLU(inplace=True),\n",
        "            nn.Conv2d(out_channels, out_channels, kernel_size=3, padding=1),\n",
        "            nn.BatchNorm2d(out_channels),\n",
        "            nn.ReLU(inplace=True)\n",
        "        )\n",
        "\n",
        "    def forward(self, x):\n",
        "        return self.conv(x)\n",
        "\n",
        "class ChannelAdder(nn.Module):\n",
        "    def __init__(self):\n",
        "        super(ChannelAdder, self).__init__()\n",
        "\n",
        "    def forward(self, x):\n",
        "        # Extract the first and second channels\n",
        "        first_channel = x[:, 0, :, :]  # shape: (batch_size, height, width)\n",
        "        second_channel = x[:, 1, :, :]  # shape: (batch_size, height, width)\n",
        "\n",
        "        # Compute the first new channel: sqrt(first_channel^2 + second_channel^2)\n",
        "        new_channel1 = torch.sqrt(first_channel**2 + second_channel**2)\n",
        "\n",
        "        # Compute the second new channel: 1/2 * arctan(channel2 / channel1)\n",
        "        new_channel2 = 0.5 * torch.atan(second_channel / first_channel)\n",
        "\n",
        "        # Add the new channels to the batch (unsqueeze to maintain dimensions)\n",
        "        new_channel1 = new_channel1.unsqueeze(1)  # shape: (batch_size, 1, height, width)\n",
        "        new_channel2 = new_channel2.unsqueeze(1)  # shape: (batch_size, 1, height, width)\n",
        "\n",
        "        # Concatenate the new channels to the original input\n",
        "        output = torch.cat((x, new_channel1, new_channel2), dim=1)  # shape: (batch_size, 5, height, width)\n",
        "\n",
        "        return output\n",
        "\n",
        "# Define the U-Net model\n",
        "class UNet(nn.Module):\n",
        "    def __init__(self, in_channels, out_channels):\n",
        "        super(UNet, self).__init__()\n",
        "        # Channel Adder\n",
        "        self.channel_adder = ChannelAdder()\n",
        "        # Encoder\n",
        "        self.encoder1 = DoubleConv(in_channels+2, 64)\n",
        "        self.encoder2 = DoubleConv(64, 128)\n",
        "        self.encoder3 = DoubleConv(128, 256)\n",
        "        self.encoder4 = DoubleConv(256, 512)\n",
        "\n",
        "        # Bottleneck\n",
        "        self.bottleneck = DoubleConv(512, 1024)\n",
        "\n",
        "        # Decoder\n",
        "        self.upconv4 = nn.ConvTranspose2d(1024, 512, kernel_size=2, stride=2)\n",
        "        self.decoder4 = DoubleConv(1024, 512)\n",
        "        self.upconv3 = nn.ConvTranspose2d(512, 256, kernel_size=2, stride=2)\n",
        "        self.decoder3 = DoubleConv(512, 256)\n",
        "        self.upconv2 = nn.ConvTranspose2d(256, 128, kernel_size=2, stride=2)\n",
        "        self.decoder2 = DoubleConv(256, 128)\n",
        "        self.upconv1 = nn.ConvTranspose2d(128, 64, kernel_size=2, stride=2)\n",
        "        self.decoder1 = DoubleConv(128, 64)\n",
        "\n",
        "        # Final output layer\n",
        "        self.final_conv = nn.Conv2d(64, out_channels, kernel_size=1)\n",
        "\n",
        "    def forward(self, x):\n",
        "        # Agregar features\n",
        "        x = self.channel_adder(x)\n",
        "        \n",
        "        # Encoder\n",
        "        e1 = self.encoder1(x)\n",
        "        e2 = self.encoder2(F.max_pool2d(e1, 2))\n",
        "        e3 = self.encoder3(F.max_pool2d(e2, 2))\n",
        "        e4 = self.encoder4(F.max_pool2d(e3, 2))\n",
        "\n",
        "        # Bottleneck\n",
        "        b = self.bottleneck(F.max_pool2d(e4, 2))\n",
        "\n",
        "        # Decoder with skip connections\n",
        "        d4 = self.upconv4(b)\n",
        "        d4 = torch.cat((e4, d4), dim=1)\n",
        "        d4 = self.decoder4(d4)\n",
        "\n",
        "        d3 = self.upconv3(d4)\n",
        "        d3 = torch.cat((e3, d3), dim=1)\n",
        "        d3 = self.decoder3(d3)\n",
        "\n",
        "        d2 = self.upconv2(d3)\n",
        "        d2 = torch.cat((e2, d2), dim=1)\n",
        "        d2 = self.decoder2(d2)\n",
        "\n",
        "        d1 = self.upconv1(d2)\n",
        "        d1 = torch.cat((e1, d1), dim=1)\n",
        "        d1 = self.decoder1(d1)\n",
        "\n",
        "        # Final output\n",
        "        out = self.final_conv(d1)\n",
        "        return out"
      ]
    },
    {
      "cell_type": "markdown",
      "metadata": {},
      "source": [
        "## Creación particion inicial"
      ]
    },
    {
      "cell_type": "code",
      "execution_count": 5,
      "metadata": {},
      "outputs": [],
      "source": [
        "#Creacion de particiones train y valid\n",
        "init_partition = load_partition(\"partition_1.json\")\n",
        "train_partition, val_partition = train_test_split(init_partition, test_size=0.2, random_state=42)\n",
        "save_partition(\"partition_1_train.json\",\"partitions\",train_partition)\n",
        "save_partition(\"partition_1_val.json\",\"partitions\",val_partition)"
      ]
    },
    {
      "cell_type": "markdown",
      "metadata": {},
      "source": [
        "## Carga modelo"
      ]
    },
    {
      "cell_type": "code",
      "execution_count": 5,
      "metadata": {},
      "outputs": [],
      "source": [
        "#Define model\n",
        "model = UNet( 3, 1)\n",
        "model = model.to(DEVICE)"
      ]
    },
    {
      "cell_type": "code",
      "execution_count": 6,
      "metadata": {
        "id": "rYf70y6AJmLe"
      },
      "outputs": [],
      "source": [
        "\n",
        "# Define Loss\n",
        "criterion = torch.nn.L1Loss()\n",
        "current_partition = 1"
      ]
    },
    {
      "cell_type": "code",
      "execution_count": 7,
      "metadata": {},
      "outputs": [
        {
          "name": "stdout",
          "output_type": "stream",
          "text": [
            "Epoch [1/50]\n"
          ]
        },
        {
          "name": "stderr",
          "output_type": "stream",
          "text": [
            "Train Epoch 1: 100%|██████████| 307/307 [02:08<00:00,  2.38it/s, WMAPE=5.79, DICE=0.419, DPEAKS=163, Loss=0.0265]\n",
            "Validate Epoch 1: 100%|██████████| 77/77 [00:11<00:00,  6.58it/s, WMAPE=4.19, DICE=0.207, DPEAKS=119, Loss=0.0151]\n"
          ]
        },
        {
          "name": "stdout",
          "output_type": "stream",
          "text": [
            "Saving best model\n",
            "Epoch [2/50]\n"
          ]
        },
        {
          "name": "stderr",
          "output_type": "stream",
          "text": [
            "Train Epoch 2: 100%|██████████| 307/307 [02:07<00:00,  2.41it/s, WMAPE=3.56, DICE=0.153, DPEAKS=88.3, Loss=0.012]\n",
            "Validate Epoch 2: 100%|██████████| 77/77 [00:11<00:00,  6.46it/s, WMAPE=5.07, DICE=0.158, DPEAKS=89.5, Loss=0.0152]\n"
          ]
        },
        {
          "name": "stdout",
          "output_type": "stream",
          "text": [
            "Epoch [3/50]\n"
          ]
        },
        {
          "name": "stderr",
          "output_type": "stream",
          "text": [
            "Train Epoch 3: 100%|██████████| 307/307 [02:10<00:00,  2.35it/s, WMAPE=2.91, DICE=0.115, DPEAKS=73.7, Loss=0.00947]\n",
            "Validate Epoch 3: 100%|██████████| 77/77 [00:11<00:00,  6.57it/s, WMAPE=2.52, DICE=0.106, DPEAKS=69.7, Loss=0.00919]\n"
          ]
        },
        {
          "name": "stdout",
          "output_type": "stream",
          "text": [
            "Saving best model\n",
            "Epoch [4/50]\n"
          ]
        },
        {
          "name": "stderr",
          "output_type": "stream",
          "text": [
            "Train Epoch 4: 100%|██████████| 307/307 [02:08<00:00,  2.38it/s, WMAPE=2.59, DICE=0.0975, DPEAKS=63.5, Loss=0.00826]\n",
            "Validate Epoch 4: 100%|██████████| 77/77 [00:11<00:00,  6.52it/s, WMAPE=4.13, DICE=0.102, DPEAKS=78.6, Loss=0.0135]\n"
          ]
        },
        {
          "name": "stdout",
          "output_type": "stream",
          "text": [
            "Epoch [5/50]\n"
          ]
        },
        {
          "name": "stderr",
          "output_type": "stream",
          "text": [
            "Train Epoch 5: 100%|██████████| 307/307 [02:10<00:00,  2.36it/s, WMAPE=2.48, DICE=0.0896, DPEAKS=62.9, Loss=0.00792]\n",
            "Validate Epoch 5: 100%|██████████| 77/77 [00:11<00:00,  6.52it/s, WMAPE=6.92, DICE=0.0954, DPEAKS=65.1, Loss=0.0182]\n"
          ]
        },
        {
          "name": "stdout",
          "output_type": "stream",
          "text": [
            "Epoch [6/50]\n"
          ]
        },
        {
          "name": "stderr",
          "output_type": "stream",
          "text": [
            "Train Epoch 6: 100%|██████████| 307/307 [02:10<00:00,  2.36it/s, WMAPE=2.32, DICE=0.0853, DPEAKS=61.1, Loss=0.00756]\n",
            "Validate Epoch 6: 100%|██████████| 77/77 [00:11<00:00,  6.53it/s, WMAPE=2.89, DICE=0.0946, DPEAKS=66, Loss=0.00844]\n"
          ]
        },
        {
          "name": "stdout",
          "output_type": "stream",
          "text": [
            "Saving best model\n",
            "Epoch [7/50]\n"
          ]
        },
        {
          "name": "stderr",
          "output_type": "stream",
          "text": [
            "Train Epoch 7: 100%|██████████| 307/307 [02:09<00:00,  2.36it/s, WMAPE=2.33, DICE=0.0826, DPEAKS=61.2, Loss=0.00756]\n",
            "Validate Epoch 7: 100%|██████████| 77/77 [00:11<00:00,  6.53it/s, WMAPE=2.89, DICE=0.0834, DPEAKS=56.2, Loss=0.00845]\n"
          ]
        },
        {
          "name": "stdout",
          "output_type": "stream",
          "text": [
            "Epoch [8/50]\n"
          ]
        },
        {
          "name": "stderr",
          "output_type": "stream",
          "text": [
            "Train Epoch 8: 100%|██████████| 307/307 [02:09<00:00,  2.37it/s, WMAPE=2.13, DICE=0.0755, DPEAKS=54.3, Loss=0.00685]\n",
            "Validate Epoch 8: 100%|██████████| 77/77 [00:11<00:00,  6.57it/s, WMAPE=2.96, DICE=0.0841, DPEAKS=61.8, Loss=0.00887]\n"
          ]
        },
        {
          "name": "stdout",
          "output_type": "stream",
          "text": [
            "Epoch [9/50]\n"
          ]
        },
        {
          "name": "stderr",
          "output_type": "stream",
          "text": [
            "Train Epoch 9: 100%|██████████| 307/307 [02:09<00:00,  2.37it/s, WMAPE=1.99, DICE=0.0702, DPEAKS=48.8, Loss=0.0064]\n",
            "Validate Epoch 9: 100%|██████████| 77/77 [00:11<00:00,  6.55it/s, WMAPE=3.21, DICE=0.0789, DPEAKS=54.3, Loss=0.00914]\n"
          ]
        },
        {
          "name": "stdout",
          "output_type": "stream",
          "text": [
            "early stopping: 3 epochs without improvement\n",
            "Training complete.\n"
          ]
        }
      ],
      "source": [
        "train_loader, val_loader = create_train_valid_loaders(\n",
        "    f\"partition_{current_partition}_train.json\",\n",
        "    f\"partition_{current_partition}_val.json\",\n",
        "    \"partitions\",\n",
        "    batch_size=16,\n",
        ")\n",
        "best_model_path = os.path.join(\n",
        "    \"models\", f\"best_model_partition_{current_partition}.pth\"\n",
        ")\n",
        "last_checkpoint_path = os.path.join(\n",
        "    \"models\", f\"last_checkpoint_partition_{current_partition}.pth\"\n",
        ")\n",
        "optimizer = optim.Adam(model.parameters())\n",
        "train_model(\n",
        "    model,\n",
        "    train_loader,\n",
        "    val_loader,\n",
        "    best_model_path,\n",
        "    last_checkpoint_path,\n",
        "    criterion,\n",
        "    optimizer,\n",
        "    num_epochs=50,\n",
        "    device=DEVICE,\n",
        "    early_stopping_patience=3,\n",
        ")"
      ]
    },
    {
      "cell_type": "code",
      "execution_count": 8,
      "metadata": {},
      "outputs": [
        {
          "name": "stderr",
          "output_type": "stream",
          "text": [
            "Validate Epoch test: 100%|██████████| 1941/1941 [04:58<00:00,  6.49it/s, WMAPE=2.96, DICE=0.0947, DPEAKS=66.4, Loss=0.00858]\n"
          ]
        }
      ],
      "source": [
        "#Cargar mejor modelo de la particion actual\n",
        "model.load_state_dict(torch.load(best_model_path,weights_only=True))\n",
        "test_model(model,criterion,device=DEVICE,batch_size=16)"
      ]
    },
    {
      "cell_type": "code",
      "execution_count": 9,
      "metadata": {},
      "outputs": [
        {
          "name": "stderr",
          "output_type": "stream",
          "text": [
            "Validate Epoch partition_2_train: 100%|██████████| 307/307 [00:47<00:00,  6.45it/s, WMAPE=2.97, DICE=0.095, DPEAKS=68.4, Loss=0.00855]\n",
            "Validate Epoch partition_2_val: 100%|██████████| 77/77 [00:11<00:00,  6.61it/s, WMAPE=2.96, DICE=0.0943, DPEAKS=65, Loss=0.00843]\n"
          ]
        }
      ],
      "source": [
        "create_next_partitions(current_partition,model,criterion,device=DEVICE)"
      ]
    },
    {
      "cell_type": "code",
      "execution_count": 10,
      "metadata": {},
      "outputs": [
        {
          "data": {
            "text/plain": [
              "<All keys matched successfully>"
            ]
          },
          "execution_count": 10,
          "metadata": {},
          "output_type": "execute_result"
        }
      ],
      "source": [
        "model.load_state_dict(torch.load(best_model_path,weights_only=True))"
      ]
    },
    {
      "cell_type": "code",
      "execution_count": 11,
      "metadata": {},
      "outputs": [],
      "source": [
        "current_partition=2"
      ]
    },
    {
      "cell_type": "code",
      "execution_count": 12,
      "metadata": {},
      "outputs": [
        {
          "name": "stdout",
          "output_type": "stream",
          "text": [
            "Epoch [1/50]\n"
          ]
        },
        {
          "name": "stderr",
          "output_type": "stream",
          "text": [
            "Train Epoch 1:   0%|          | 0/307 [00:00<?, ?it/s]"
          ]
        },
        {
          "name": "stderr",
          "output_type": "stream",
          "text": [
            "Train Epoch 1: 100%|██████████| 307/307 [02:00<00:00,  2.54it/s, WMAPE=2.49, DICE=0.0837, DPEAKS=65.6, Loss=0.0077]\n",
            "Validate Epoch 1: 100%|██████████| 77/77 [00:10<00:00,  7.03it/s, WMAPE=3.71, DICE=0.15, DPEAKS=95.2, Loss=0.0113]\n"
          ]
        },
        {
          "name": "stdout",
          "output_type": "stream",
          "text": [
            "Saving best model\n",
            "Epoch [2/50]\n"
          ]
        },
        {
          "name": "stderr",
          "output_type": "stream",
          "text": [
            "Train Epoch 2: 100%|██████████| 307/307 [02:07<00:00,  2.40it/s, WMAPE=2.61, DICE=0.0857, DPEAKS=71, Loss=0.00771]\n",
            "Validate Epoch 2: 100%|██████████| 77/77 [00:11<00:00,  6.54it/s, WMAPE=8.86, DICE=0.0876, DPEAKS=60.3, Loss=0.023]\n"
          ]
        },
        {
          "name": "stdout",
          "output_type": "stream",
          "text": [
            "Epoch [3/50]\n"
          ]
        },
        {
          "name": "stderr",
          "output_type": "stream",
          "text": [
            "Train Epoch 3: 100%|██████████| 307/307 [02:10<00:00,  2.35it/s, WMAPE=2.45, DICE=0.0774, DPEAKS=62.5, Loss=0.0072]\n",
            "Validate Epoch 3: 100%|██████████| 77/77 [00:11<00:00,  6.54it/s, WMAPE=11, DICE=0.0909, DPEAKS=82.5, Loss=0.0303]\n"
          ]
        },
        {
          "name": "stdout",
          "output_type": "stream",
          "text": [
            "Epoch [4/50]\n"
          ]
        },
        {
          "name": "stderr",
          "output_type": "stream",
          "text": [
            "Train Epoch 4: 100%|██████████| 307/307 [02:08<00:00,  2.39it/s, WMAPE=2.28, DICE=0.0725, DPEAKS=59.4, Loss=0.00671]\n",
            "Validate Epoch 4: 100%|██████████| 77/77 [00:11<00:00,  6.62it/s, WMAPE=3.02, DICE=0.12, DPEAKS=80.6, Loss=0.009]\n"
          ]
        },
        {
          "name": "stdout",
          "output_type": "stream",
          "text": [
            "Saving best model\n",
            "Epoch [5/50]\n"
          ]
        },
        {
          "name": "stderr",
          "output_type": "stream",
          "text": [
            "Train Epoch 5: 100%|██████████| 307/307 [02:11<00:00,  2.34it/s, WMAPE=2.25, DICE=0.0714, DPEAKS=54, Loss=0.00664]\n",
            "Validate Epoch 5: 100%|██████████| 77/77 [00:11<00:00,  6.48it/s, WMAPE=7.12, DICE=0.0757, DPEAKS=61.2, Loss=0.0202]\n"
          ]
        },
        {
          "name": "stdout",
          "output_type": "stream",
          "text": [
            "Epoch [6/50]\n"
          ]
        },
        {
          "name": "stderr",
          "output_type": "stream",
          "text": [
            "Train Epoch 6: 100%|██████████| 307/307 [02:11<00:00,  2.33it/s, WMAPE=1.99, DICE=0.0635, DPEAKS=49.1, Loss=0.00591]\n",
            "Validate Epoch 6: 100%|██████████| 77/77 [00:11<00:00,  6.48it/s, WMAPE=2.19, DICE=0.0642, DPEAKS=52.1, Loss=0.0064]\n"
          ]
        },
        {
          "name": "stdout",
          "output_type": "stream",
          "text": [
            "Saving best model\n",
            "Epoch [7/50]\n"
          ]
        },
        {
          "name": "stderr",
          "output_type": "stream",
          "text": [
            "Train Epoch 7: 100%|██████████| 307/307 [02:10<00:00,  2.35it/s, WMAPE=1.98, DICE=0.0622, DPEAKS=50.4, Loss=0.00586]\n",
            "Validate Epoch 7: 100%|██████████| 77/77 [00:11<00:00,  6.54it/s, WMAPE=13.7, DICE=0.116, DPEAKS=71.7, Loss=0.0358]\n"
          ]
        },
        {
          "name": "stdout",
          "output_type": "stream",
          "text": [
            "Epoch [8/50]\n"
          ]
        },
        {
          "name": "stderr",
          "output_type": "stream",
          "text": [
            "Train Epoch 8: 100%|██████████| 307/307 [02:10<00:00,  2.36it/s, WMAPE=2.22, DICE=0.0728, DPEAKS=56, Loss=0.00651]\n",
            "Validate Epoch 8: 100%|██████████| 77/77 [00:11<00:00,  6.56it/s, WMAPE=3.34, DICE=0.0832, DPEAKS=65.5, Loss=0.00917]\n"
          ]
        },
        {
          "name": "stdout",
          "output_type": "stream",
          "text": [
            "Epoch [9/50]\n"
          ]
        },
        {
          "name": "stderr",
          "output_type": "stream",
          "text": [
            "Train Epoch 9: 100%|██████████| 307/307 [02:09<00:00,  2.36it/s, WMAPE=1.9, DICE=0.0587, DPEAKS=48.3, Loss=0.00558]\n",
            "Validate Epoch 9: 100%|██████████| 77/77 [00:11<00:00,  6.55it/s, WMAPE=2.25, DICE=0.0571, DPEAKS=47.5, Loss=0.00632]\n"
          ]
        },
        {
          "name": "stdout",
          "output_type": "stream",
          "text": [
            "Saving best model\n",
            "Epoch [10/50]\n"
          ]
        },
        {
          "name": "stderr",
          "output_type": "stream",
          "text": [
            "Train Epoch 10: 100%|██████████| 307/307 [02:10<00:00,  2.36it/s, WMAPE=1.82, DICE=0.0566, DPEAKS=44.2, Loss=0.00534]\n",
            "Validate Epoch 10: 100%|██████████| 77/77 [00:11<00:00,  6.52it/s, WMAPE=2.39, DICE=0.0609, DPEAKS=55.1, Loss=0.00692]\n"
          ]
        },
        {
          "name": "stdout",
          "output_type": "stream",
          "text": [
            "Epoch [11/50]\n"
          ]
        },
        {
          "name": "stderr",
          "output_type": "stream",
          "text": [
            "Train Epoch 11: 100%|██████████| 307/307 [02:10<00:00,  2.35it/s, WMAPE=1.78, DICE=0.0544, DPEAKS=42.8, Loss=0.00518]\n",
            "Validate Epoch 11: 100%|██████████| 77/77 [00:11<00:00,  6.54it/s, WMAPE=2.72, DICE=0.0544, DPEAKS=41.4, Loss=0.00744]\n"
          ]
        },
        {
          "name": "stdout",
          "output_type": "stream",
          "text": [
            "Epoch [12/50]\n"
          ]
        },
        {
          "name": "stderr",
          "output_type": "stream",
          "text": [
            "Train Epoch 12: 100%|██████████| 307/307 [02:10<00:00,  2.35it/s, WMAPE=1.79, DICE=0.0539, DPEAKS=42.9, Loss=0.00528]\n",
            "Validate Epoch 12: 100%|██████████| 77/77 [00:11<00:00,  6.55it/s, WMAPE=3.79, DICE=0.073, DPEAKS=66.4, Loss=0.0108]\n"
          ]
        },
        {
          "name": "stdout",
          "output_type": "stream",
          "text": [
            "early stopping: 3 epochs without improvement\n",
            "Training complete.\n"
          ]
        }
      ],
      "source": [
        "train_loader, val_loader = create_train_valid_loaders(\n",
        "    f\"partition_{current_partition}_train.json\",\n",
        "    f\"partition_{current_partition}_val.json\",\n",
        "    \"partitions\",\n",
        "    batch_size=16,\n",
        ")\n",
        "best_model_path = os.path.join(\n",
        "    \"models\", f\"best_model_partition_{current_partition}.pth\"\n",
        ")\n",
        "last_checkpoint_path = os.path.join(\n",
        "    \"models\", f\"last_checkpoint_partition_{current_partition}.pth\"\n",
        ")\n",
        "optimizer = optim.Adam(model.parameters())\n",
        "train_model(\n",
        "    model,\n",
        "    train_loader,\n",
        "    val_loader,\n",
        "    best_model_path,\n",
        "    last_checkpoint_path,\n",
        "    criterion,\n",
        "    optimizer,\n",
        "    num_epochs=50,\n",
        "    device=DEVICE,\n",
        "    early_stopping_patience=3,\n",
        ")"
      ]
    },
    {
      "cell_type": "code",
      "execution_count": 13,
      "metadata": {},
      "outputs": [
        {
          "name": "stderr",
          "output_type": "stream",
          "text": [
            "Validate Epoch partition_3_train: 100%|██████████| 307/307 [00:49<00:00,  6.21it/s, WMAPE=3.61, DICE=0.0725, DPEAKS=61.9, Loss=0.011]\n",
            "Validate Epoch partition_3_val: 100%|██████████| 77/77 [00:12<00:00,  6.23it/s, WMAPE=3.59, DICE=0.0727, DPEAKS=58.2, Loss=0.0109]\n"
          ]
        }
      ],
      "source": [
        "create_next_partitions(current_partition,model,criterion,device=DEVICE)"
      ]
    },
    {
      "cell_type": "code",
      "execution_count": 14,
      "metadata": {},
      "outputs": [],
      "source": [
        "current_partition=3\n",
        "best_model_path = os.path.join(\n",
        "    \"models\", f\"best_model_partition_{current_partition}.pth\"\n",
        ")\n",
        "last_checkpoint_path = os.path.join(\n",
        "    \"models\", f\"last_checkpoint_partition_{current_partition}.pth\"\n",
        ")"
      ]
    },
    {
      "cell_type": "code",
      "execution_count": 15,
      "metadata": {},
      "outputs": [
        {
          "name": "stdout",
          "output_type": "stream",
          "text": [
            "Epoch [1/50]\n"
          ]
        },
        {
          "name": "stderr",
          "output_type": "stream",
          "text": [
            "Train Epoch 1: 100%|██████████| 307/307 [02:08<00:00,  2.38it/s, WMAPE=2.05, DICE=0.0571, DPEAKS=49.1, Loss=0.00587]\n",
            "Validate Epoch 1: 100%|██████████| 77/77 [00:11<00:00,  6.60it/s, WMAPE=2.08, DICE=0.0622, DPEAKS=54.3, Loss=0.00575]\n"
          ]
        },
        {
          "name": "stdout",
          "output_type": "stream",
          "text": [
            "Saving best model\n",
            "Epoch [2/50]\n"
          ]
        },
        {
          "name": "stderr",
          "output_type": "stream",
          "text": [
            "Train Epoch 2: 100%|██████████| 307/307 [02:08<00:00,  2.38it/s, WMAPE=2.02, DICE=0.0591, DPEAKS=51.2, Loss=0.00577]\n",
            "Validate Epoch 2: 100%|██████████| 77/77 [00:11<00:00,  6.64it/s, WMAPE=5.84, DICE=0.0619, DPEAKS=53, Loss=0.0147]\n"
          ]
        },
        {
          "name": "stdout",
          "output_type": "stream",
          "text": [
            "Epoch [3/50]\n"
          ]
        },
        {
          "name": "stderr",
          "output_type": "stream",
          "text": [
            "Train Epoch 3: 100%|██████████| 307/307 [02:08<00:00,  2.38it/s, WMAPE=1.84, DICE=0.0536, DPEAKS=44.1, Loss=0.0053]\n",
            "Validate Epoch 3: 100%|██████████| 77/77 [00:11<00:00,  6.59it/s, WMAPE=2.04, DICE=0.0609, DPEAKS=56.6, Loss=0.00597]\n"
          ]
        },
        {
          "name": "stdout",
          "output_type": "stream",
          "text": [
            "Epoch [4/50]\n"
          ]
        },
        {
          "name": "stderr",
          "output_type": "stream",
          "text": [
            "Train Epoch 4: 100%|██████████| 307/307 [02:08<00:00,  2.39it/s, WMAPE=1.8, DICE=0.0536, DPEAKS=49.5, Loss=0.00529]\n",
            "Validate Epoch 4: 100%|██████████| 77/77 [00:11<00:00,  6.59it/s, WMAPE=2.05, DICE=0.0499, DPEAKS=40.8, Loss=0.00534]\n"
          ]
        },
        {
          "name": "stdout",
          "output_type": "stream",
          "text": [
            "Saving best model\n",
            "Epoch [5/50]\n"
          ]
        },
        {
          "name": "stderr",
          "output_type": "stream",
          "text": [
            "Train Epoch 5: 100%|██████████| 307/307 [02:08<00:00,  2.39it/s, WMAPE=1.71, DICE=0.0497, DPEAKS=42.5, Loss=0.00498]\n",
            "Validate Epoch 5: 100%|██████████| 77/77 [00:11<00:00,  6.63it/s, WMAPE=3.62, DICE=0.0495, DPEAKS=43.5, Loss=0.00953]\n"
          ]
        },
        {
          "name": "stdout",
          "output_type": "stream",
          "text": [
            "Epoch [6/50]\n"
          ]
        },
        {
          "name": "stderr",
          "output_type": "stream",
          "text": [
            "Train Epoch 6: 100%|██████████| 307/307 [02:08<00:00,  2.40it/s, WMAPE=1.68, DICE=0.0493, DPEAKS=42.1, Loss=0.00488]\n",
            "Validate Epoch 6: 100%|██████████| 77/77 [00:11<00:00,  6.63it/s, WMAPE=2.08, DICE=0.0511, DPEAKS=46.3, Loss=0.0058]\n"
          ]
        },
        {
          "name": "stdout",
          "output_type": "stream",
          "text": [
            "Epoch [7/50]\n"
          ]
        },
        {
          "name": "stderr",
          "output_type": "stream",
          "text": [
            "Train Epoch 7: 100%|██████████| 307/307 [02:08<00:00,  2.39it/s, WMAPE=1.59, DICE=0.0473, DPEAKS=38.3, Loss=0.00458]\n",
            "Validate Epoch 7: 100%|██████████| 77/77 [00:11<00:00,  6.59it/s, WMAPE=2.2, DICE=0.0616, DPEAKS=55.9, Loss=0.00639]\n"
          ]
        },
        {
          "name": "stdout",
          "output_type": "stream",
          "text": [
            "early stopping: 3 epochs without improvement\n",
            "Training complete.\n"
          ]
        }
      ],
      "source": [
        "train_loader, val_loader = create_train_valid_loaders(\n",
        "    f\"partition_{current_partition}_train.json\",\n",
        "    f\"partition_{current_partition}_val.json\",\n",
        "    \"partitions\",\n",
        "    batch_size=16,\n",
        ")\n",
        "optimizer = optim.Adam(model.parameters())\n",
        "train_model(\n",
        "    model,\n",
        "    train_loader,\n",
        "    val_loader,\n",
        "    best_model_path,\n",
        "    last_checkpoint_path,\n",
        "    criterion,\n",
        "    optimizer,\n",
        "    num_epochs=50,\n",
        "    device=DEVICE,\n",
        "    early_stopping_patience=3,\n",
        ")"
      ]
    },
    {
      "cell_type": "code",
      "execution_count": 16,
      "metadata": {},
      "outputs": [
        {
          "name": "stderr",
          "output_type": "stream",
          "text": [
            "Validate Epoch test: 100%|██████████| 1941/1941 [04:56<00:00,  6.55it/s, WMAPE=1.85, DICE=0.0492, DPEAKS=34.6, Loss=0.00542]\n",
            "Validate Epoch partition_4_train: 100%|██████████| 307/307 [00:49<00:00,  6.22it/s, WMAPE=1.82, DICE=0.0491, DPEAKS=35.7, Loss=0.00536]\n",
            "Validate Epoch partition_4_val: 100%|██████████| 77/77 [00:12<00:00,  6.26it/s, WMAPE=1.87, DICE=0.0494, DPEAKS=32.6, Loss=0.00539]\n"
          ]
        }
      ],
      "source": [
        "#Cargar mejor modelo de la particion actual\n",
        "model.load_state_dict(torch.load(best_model_path,weights_only=True))\n",
        "test_model(model,criterion,device=DEVICE,batch_size=16)\n",
        "create_next_partitions(current_partition,model,criterion,device=DEVICE)"
      ]
    },
    {
      "cell_type": "code",
      "execution_count": 8,
      "metadata": {},
      "outputs": [],
      "source": [
        "current_partition=3\n",
        "best_model_path = os.path.join(\n",
        "    \"models\", f\"best_model_partition_{current_partition}.pth\"\n",
        ")\n",
        "model.load_state_dict(torch.load(best_model_path,weights_only=True))\n",
        "current_partition=4"
      ]
    },
    {
      "cell_type": "code",
      "execution_count": 9,
      "metadata": {},
      "outputs": [
        {
          "name": "stdout",
          "output_type": "stream",
          "text": [
            "Epoch [1/50]\n"
          ]
        },
        {
          "name": "stderr",
          "output_type": "stream",
          "text": [
            "Train Epoch 1: 100%|██████████| 307/307 [01:47<00:00,  2.84it/s, WMAPE=2.31, DICE=0.0638, DPEAKS=56.4, Loss=0.00658]\n",
            "Validate Epoch 1: 100%|██████████| 77/77 [00:10<00:00,  7.38it/s, WMAPE=2.36, DICE=0.0575, DPEAKS=67.1, Loss=0.0068]\n"
          ]
        },
        {
          "name": "stdout",
          "output_type": "stream",
          "text": [
            "Saving best model\n",
            "Epoch [2/50]\n"
          ]
        },
        {
          "name": "stderr",
          "output_type": "stream",
          "text": [
            "Train Epoch 2: 100%|██████████| 307/307 [01:47<00:00,  2.86it/s, WMAPE=2.06, DICE=0.0527, DPEAKS=49.5, Loss=0.00561]\n",
            "Validate Epoch 2: 100%|██████████| 77/77 [00:10<00:00,  7.48it/s, WMAPE=3.82, DICE=0.0745, DPEAKS=60.2, Loss=0.0112]\n"
          ]
        },
        {
          "name": "stdout",
          "output_type": "stream",
          "text": [
            "Epoch [3/50]\n"
          ]
        },
        {
          "name": "stderr",
          "output_type": "stream",
          "text": [
            "Train Epoch 3: 100%|██████████| 307/307 [01:47<00:00,  2.85it/s, WMAPE=2.06, DICE=0.0597, DPEAKS=58.2, Loss=0.00581]\n",
            "Validate Epoch 3: 100%|██████████| 77/77 [00:10<00:00,  7.46it/s, WMAPE=4.23, DICE=0.0547, DPEAKS=49, Loss=0.0104]\n"
          ]
        },
        {
          "name": "stdout",
          "output_type": "stream",
          "text": [
            "Epoch [4/50]\n"
          ]
        },
        {
          "name": "stderr",
          "output_type": "stream",
          "text": [
            "Train Epoch 4: 100%|██████████| 307/307 [01:47<00:00,  2.85it/s, WMAPE=1.74, DICE=0.0498, DPEAKS=46.6, Loss=0.00488]\n",
            "Validate Epoch 4: 100%|██████████| 77/77 [00:10<00:00,  7.34it/s, WMAPE=2.13, DICE=0.0549, DPEAKS=49.6, Loss=0.00602]\n"
          ]
        },
        {
          "name": "stdout",
          "output_type": "stream",
          "text": [
            "Saving best model\n",
            "Epoch [5/50]\n"
          ]
        },
        {
          "name": "stderr",
          "output_type": "stream",
          "text": [
            "Train Epoch 5: 100%|██████████| 307/307 [01:47<00:00,  2.85it/s, WMAPE=1.74, DICE=0.0494, DPEAKS=46.2, Loss=0.00503]\n",
            "Validate Epoch 5: 100%|██████████| 77/77 [00:10<00:00,  7.35it/s, WMAPE=3.38, DICE=0.0507, DPEAKS=48.8, Loss=0.00958]\n"
          ]
        },
        {
          "name": "stdout",
          "output_type": "stream",
          "text": [
            "Epoch [6/50]\n"
          ]
        },
        {
          "name": "stderr",
          "output_type": "stream",
          "text": [
            "Train Epoch 6: 100%|██████████| 307/307 [01:47<00:00,  2.85it/s, WMAPE=1.61, DICE=0.0472, DPEAKS=45.3, Loss=0.00458]\n",
            "Validate Epoch 6: 100%|██████████| 77/77 [00:10<00:00,  7.41it/s, WMAPE=2.22, DICE=0.0514, DPEAKS=45.9, Loss=0.00576]\n"
          ]
        },
        {
          "name": "stdout",
          "output_type": "stream",
          "text": [
            "Saving best model\n",
            "Epoch [7/50]\n"
          ]
        },
        {
          "name": "stderr",
          "output_type": "stream",
          "text": [
            "Train Epoch 7: 100%|██████████| 307/307 [01:47<00:00,  2.84it/s, WMAPE=1.67, DICE=0.0471, DPEAKS=43.4, Loss=0.00472]\n",
            "Validate Epoch 7: 100%|██████████| 77/77 [00:10<00:00,  7.43it/s, WMAPE=2.15, DICE=0.0594, DPEAKS=52.2, Loss=0.00588]\n"
          ]
        },
        {
          "name": "stdout",
          "output_type": "stream",
          "text": [
            "Epoch [8/50]\n"
          ]
        },
        {
          "name": "stderr",
          "output_type": "stream",
          "text": [
            "Train Epoch 8: 100%|██████████| 307/307 [01:46<00:00,  2.88it/s, WMAPE=1.64, DICE=0.0468, DPEAKS=45.1, Loss=0.00467]\n",
            "Validate Epoch 8: 100%|██████████| 77/77 [00:09<00:00,  8.06it/s, WMAPE=2.85, DICE=0.0497, DPEAKS=41.4, Loss=0.00785]\n"
          ]
        },
        {
          "name": "stdout",
          "output_type": "stream",
          "text": [
            "Epoch [9/50]\n"
          ]
        },
        {
          "name": "stderr",
          "output_type": "stream",
          "text": [
            "Train Epoch 9: 100%|██████████| 307/307 [01:38<00:00,  3.13it/s, WMAPE=1.62, DICE=0.0456, DPEAKS=42.8, Loss=0.00462]\n",
            "Validate Epoch 9: 100%|██████████| 77/77 [00:09<00:00,  8.09it/s, WMAPE=3.52, DICE=0.0483, DPEAKS=43.2, Loss=0.00928]\n"
          ]
        },
        {
          "name": "stdout",
          "output_type": "stream",
          "text": [
            "early stopping: 3 epochs without improvement\n",
            "Training complete.\n"
          ]
        }
      ],
      "source": [
        "train_loader, val_loader = create_train_valid_loaders(\n",
        "    f\"partition_{current_partition}_train.json\",\n",
        "    f\"partition_{current_partition}_val.json\",\n",
        "    \"partitions\",\n",
        "    batch_size=16,\n",
        ")\n",
        "best_model_path = os.path.join(\n",
        "    \"models\", f\"best_model_partition_{current_partition}.pth\"\n",
        ")\n",
        "last_checkpoint_path = os.path.join(\n",
        "    \"models\", f\"last_checkpoint_partition_{current_partition}.pth\"\n",
        ")\n",
        "optimizer = optim.Adam(model.parameters())\n",
        "train_model(\n",
        "    model,\n",
        "    train_loader,\n",
        "    val_loader,\n",
        "    best_model_path,\n",
        "    last_checkpoint_path,\n",
        "    criterion,\n",
        "    optimizer,\n",
        "    num_epochs=50,\n",
        "    device=DEVICE,\n",
        "    early_stopping_patience=3,\n",
        ")"
      ]
    },
    {
      "cell_type": "code",
      "execution_count": 10,
      "metadata": {},
      "outputs": [
        {
          "name": "stderr",
          "output_type": "stream",
          "text": [
            "Validate Epoch test: 100%|██████████| 1941/1941 [04:01<00:00,  8.03it/s, WMAPE=1.9, DICE=0.0498, DPEAKS=38.6, Loss=0.00551]\n",
            "Validate Epoch partition_5_train: 100%|██████████| 307/307 [00:38<00:00,  8.08it/s, WMAPE=1.9, DICE=0.0498, DPEAKS=37.5, Loss=0.00553]\n",
            "Validate Epoch partition_5_val: 100%|██████████| 77/77 [00:09<00:00,  8.13it/s, WMAPE=2.02, DICE=0.0498, DPEAKS=37.8, Loss=0.00563]\n"
          ]
        }
      ],
      "source": [
        "#Cargar mejor modelo de la particion actual\n",
        "model.load_state_dict(torch.load(best_model_path,weights_only=True))\n",
        "test_model(model,criterion,device=DEVICE,batch_size=16)\n",
        "create_next_partitions(current_partition,model,criterion,device=DEVICE)"
      ]
    }
  ],
  "metadata": {
    "accelerator": "GPU",
    "colab": {
      "gpuType": "T4",
      "provenance": []
    },
    "kernelspec": {
      "display_name": "Python 3",
      "name": "python3"
    },
    "language_info": {
      "codemirror_mode": {
        "name": "ipython",
        "version": 3
      },
      "file_extension": ".py",
      "mimetype": "text/x-python",
      "name": "python",
      "nbconvert_exporter": "python",
      "pygments_lexer": "ipython3",
      "version": "3.12.5"
    }
  },
  "nbformat": 4,
  "nbformat_minor": 0
}
