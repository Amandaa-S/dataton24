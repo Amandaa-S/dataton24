{
  "cells": [
    {
      "cell_type": "markdown",
      "metadata": {},
      "source": [
        "## Carga modulo comun"
      ]
    },
    {
      "cell_type": "code",
      "execution_count": 1,
      "metadata": {},
      "outputs": [],
      "source": [
        "import sys\n",
        "import os\n",
        "sys.path.append(os.path.abspath('../../common'))"
      ]
    },
    {
      "cell_type": "code",
      "execution_count": 2,
      "metadata": {},
      "outputs": [],
      "source": [
        "import torch\n",
        "import torch.nn as nn\n",
        "import torch.nn.functional as F\n",
        "\n",
        "from purrfect.dataset import load_partition,save_partition, create_train_valid_loaders, RandomTransform\n",
        "\n",
        "from purrfect.training import train_model\n",
        "import torch.optim as optim\n",
        "\n",
        "from purrfect.active_learning import create_new_partition, test_model\n",
        "\n",
        "from sklearn.model_selection import train_test_split\n",
        "#from purrfect.submission import create_submission"
      ]
    },
    {
      "cell_type": "code",
      "execution_count": 3,
      "metadata": {},
      "outputs": [],
      "source": [
        "DEVICE = torch.device('cuda' if torch.cuda.is_available() else 'cpu')\n",
        "BATCH_SIZE = 32\n",
        "USE_AUTOCAST = True\n",
        "EARLY_STOPPING_PATIENCE = 5\n",
        "EARLY_STOPPING_GRACE_PERIOD = 8"
      ]
    },
    {
      "cell_type": "markdown",
      "metadata": {},
      "source": [
        "## Definición modelo"
      ]
    },
    {
      "cell_type": "code",
      "execution_count": 4,
      "metadata": {},
      "outputs": [],
      "source": [
        "class GradientMagnitude(nn.Module):\n",
        "    def __init__(self):\n",
        "        super(GradientMagnitude, self).__init__()\n",
        "        # Define Sobel filters for computing gradients in x and y directions\n",
        "        sobel_x = torch.tensor([[-1, 0, 1], [-2, 0, 2], [-1, 0, 1]], dtype=torch.float32,device=DEVICE)\n",
        "        sobel_y = torch.tensor([[-1, -2, -1], [0, 0, 0], [1, 2, 1]], dtype=torch.float32,device=DEVICE)\n",
        "        \n",
        "        # Sobel filters need to be reshaped for convolution: (out_channels, in_channels, height, width)\n",
        "        # Apply the filters across all channels by expanding them to shape (C, 1, 3, 3)\n",
        "        self.sobel_x = sobel_x.view(1, 1, 3, 3)\n",
        "        self.sobel_y = sobel_y.view(1, 1, 3, 3)\n",
        "    \n",
        "    def forward(self, x):\n",
        "        B, C, W, H = x.shape\n",
        "        \n",
        "        # Apply Sobel filters to compute gradients in x and y directions for all channels\n",
        "        grad_x = F.conv2d(x, self.sobel_x.expand(C, 1, 3, 3), groups=C, padding=1)\n",
        "        grad_y = F.conv2d(x, self.sobel_y.expand(C, 1, 3, 3), groups=C, padding=1)\n",
        "        \n",
        "        # Compute gradient magnitude: sqrt(grad_x^2 + grad_y^2)\n",
        "        grad_mag = torch.sqrt(grad_x**2 + grad_y**2)\n",
        "        \n",
        "        return grad_mag\n",
        "def aggregate_similarity_cosine(tensor):\n",
        "    # tensor is of shape (B, 2, H, W)\n",
        "    B, C, H, W = tensor.shape\n",
        "    #assert C == 2, \"The channel dimension must represent 2D vectors (x, y components)\"\n",
        "\n",
        "    # Define shifts for neighboring vectors (up, down, left, right) and stack them\n",
        "    shift_up = F.pad(tensor[:, :, 1:, :], (0, 0, 0, 1))  # Shift up\n",
        "    shift_down = F.pad(tensor[:, :, :-1, :], (0, 0, 1, 0))  # Shift down\n",
        "    shift_left = F.pad(tensor[:, :, :, 1:], (0, 1, 0, 0))  # Shift left\n",
        "    shift_right = F.pad(tensor[:, :, :, :-1], (1, 0, 0, 0))  # Shift right\n",
        "\n",
        "    # Stack shifted neighbors into a single tensor of shape (B, 2, H, W, 4)\n",
        "    neighbors = torch.stack((shift_up, shift_down, shift_left, shift_right), dim=4)  # (B, 2, H, W, 4)\n",
        "    # Calculate dot product for all neighbors\n",
        "    dot_product = (tensor.unsqueeze(4) * neighbors).sum(dim=1,keepdim=True)  # (B, 1, H, W, 4)\n",
        "    # Calculate mean, max, and min along the neighbor dimension (dim=4)\n",
        "    mean_similarity = dot_product.mean(dim=4, keepdim=True)  # (B, 1, H, W, 1)\n",
        "    max_similarity = dot_product.max(dim=4, keepdim=True).values  # (B, 1, H, W, 1)\n",
        "    min_similarity = dot_product.min(dim=4, keepdim=True).values  # (B, 1, H, W, 1)\n",
        "\n",
        "    # Concatenate mean, max, and min similarities along the channel dimension\n",
        "    aggregate_similarity = torch.cat((mean_similarity, max_similarity, min_similarity), dim=1)  # (B, 3, H, W,1)\n",
        "\n",
        "    return aggregate_similarity.squeeze(-1)  # (B, 3, H, W)\n",
        "class ChannelAdder(nn.Module):\n",
        "    def __init__(self):\n",
        "        super(ChannelAdder, self).__init__()\n",
        "        self.grad_magnitude = GradientMagnitude()\n",
        "\n",
        "    def forward(self, x):\n",
        "        \n",
        "        # Extract the first two channels (e1 and e2) and the third channel (delta) directly\n",
        "        e = x[:, :2, :, :]  # Shape (B, 2, H, W)\n",
        "        delta = x[:, 2:3, :, :]  # Shape (B, 1, H, W)\n",
        "\n",
        "        # Calculate the magnitude in one step (B, 1, H, W)\n",
        "        magnitude = torch.norm(e, dim=1, keepdim=True)  # Efficient norm calculation\n",
        "\n",
        "        # Calculate the angle using atan2 to avoid division by zero and handle quadrant\n",
        "        angle = 0.5 * torch.atan2(e[:, 0, :, :], e[:, 1, :, :]).unsqueeze(1)  # (B, 1, H, W)\n",
        "\n",
        "        # Compute the weighted components e1_weighted and e2_weighted\n",
        "        e_norm = e / magnitude  # Split along channel dimension\n",
        "\n",
        "        # Compute the cross product\n",
        "        e = x[:, :2, :, :]  # Shape (B, 2, H, W)\n",
        "        cross_product = e[:, 0:1, :, :] * e[:, 1:2, :, :]  # Efficient cross-product (B, 1, H, W)\n",
        "\n",
        "        simmilarity = aggregate_similarity_cosine(e_norm)\n",
        "        # Concatenate all the channels (original and new) into the output tensor\n",
        "        output = torch.cat([\n",
        "            e,\n",
        "            magnitude,\n",
        "            angle,\n",
        "            e_norm,\n",
        "            cross_product,\n",
        "            delta,\n",
        "            simmilarity #min max and mean simmilarity\n",
        "        ], dim=1)\n",
        "        output = torch.cat([output, self.grad_magnitude(output)], dim=1)\n",
        "\n",
        "        return output"
      ]
    },
    {
      "cell_type": "code",
      "execution_count": 5,
      "metadata": {},
      "outputs": [],
      "source": [
        "BN_MOMENTUM = 0.1\n",
        "def kaiming_init(module,\n",
        "                 a=0,\n",
        "                 mode='fan_out',\n",
        "                 nonlinearity='relu',\n",
        "                 bias=0,\n",
        "                 distribution='normal'):\n",
        "    assert distribution in ['uniform', 'normal']\n",
        "    if distribution == 'uniform':\n",
        "        nn.init.kaiming_uniform_(\n",
        "            module.weight, a=a, mode=mode, nonlinearity=nonlinearity)\n",
        "    else:\n",
        "        nn.init.kaiming_normal_(\n",
        "            module.weight, a=a, mode=mode, nonlinearity=nonlinearity)\n",
        "    if hasattr(module, 'bias') and module.bias is not None:\n",
        "        nn.init.constant_(module.bias, bias)\n",
        "class PA(nn.Module):\n",
        "    def __init__(self, inplanes, planes, kernel_size=1, stride=1):\n",
        "        super(PA, self).__init__()\n",
        "\n",
        "        self.inplanes = inplanes\n",
        "        self.inter_planes = planes // 2\n",
        "        self.planes = planes\n",
        "        self.kernel_size = kernel_size\n",
        "        self.stride = stride\n",
        "        self.padding = (kernel_size - 1) // 2\n",
        "        ratio = 4\n",
        "\n",
        "        self.conv_q_right = nn.Conv2d(self.inplanes, 1, kernel_size=1, stride=stride, padding=0, bias=False)\n",
        "        self.conv_v_right = nn.Conv2d(self.inplanes, self.inter_planes, kernel_size=1, stride=stride, padding=0,\n",
        "                                      bias=False)\n",
        "        # self.conv_up = nn.Conv2d(self.inter_planes, self.planes, kernel_size=1, stride=1, padding=0, bias=False)\n",
        "        self.conv_up = nn.Sequential(\n",
        "            nn.Conv2d(self.inter_planes, self.inter_planes // ratio, kernel_size=1),\n",
        "            nn.LayerNorm([self.inter_planes // ratio, 1, 1]),\n",
        "            nn.ReLU(inplace=True),\n",
        "            nn.Conv2d(self.inter_planes // ratio, self.planes, kernel_size=1)\n",
        "        )\n",
        "        self.softmax_right = nn.Softmax(dim=2)\n",
        "        self.sigmoid = nn.Sigmoid()\n",
        "\n",
        "        self.conv_q_left = nn.Conv2d(self.inplanes, self.inter_planes, kernel_size=1, stride=stride, padding=0,\n",
        "                                     bias=False)  # g\n",
        "        self.avg_pool = nn.AdaptiveAvgPool2d(1)\n",
        "        self.conv_v_left = nn.Conv2d(self.inplanes, self.inter_planes, kernel_size=1, stride=stride, padding=0,\n",
        "                                     bias=False)  # theta\n",
        "        self.softmax_left = nn.Softmax(dim=2)\n",
        "\n",
        "        self.reset_parameters()\n",
        "    def reset_parameters(self):\n",
        "        kaiming_init(self.conv_q_right, mode='fan_in')\n",
        "        kaiming_init(self.conv_v_right, mode='fan_in')\n",
        "        kaiming_init(self.conv_q_left, mode='fan_in')\n",
        "        kaiming_init(self.conv_v_left, mode='fan_in')\n",
        "\n",
        "        self.conv_q_right.inited = True\n",
        "        self.conv_v_right.inited = True\n",
        "        self.conv_q_left.inited = True\n",
        "        self.conv_v_left.inited = True\n",
        "\n",
        "    def spatial_pool_mask(self, x):\n",
        "        input_x = self.conv_v_right(x)\n",
        "\n",
        "        batch, channel, height, width = input_x.size()\n",
        "\n",
        "        # [N, IC, H*W]\n",
        "        input_x = input_x.view(batch, channel, height * width)\n",
        "\n",
        "        # [N, 1, H, W]\n",
        "        context_mask = self.conv_q_right(x)\n",
        "\n",
        "        # [N, 1, H*W]\n",
        "        context_mask = context_mask.view(batch, 1, height * width)\n",
        "\n",
        "        # [N, 1, H*W]\n",
        "        context_mask = self.softmax_right(context_mask)\n",
        "\n",
        "        # [N, IC, 1]\n",
        "        # context = torch.einsum('ndw,new->nde', input_x, context_mask)\n",
        "        context = torch.matmul(input_x, context_mask.transpose(1, 2))\n",
        "\n",
        "        # [N, IC, 1, 1]\n",
        "        context = context.unsqueeze(-1)\n",
        "\n",
        "        # [N, OC, 1, 1]\n",
        "        context = self.conv_up(context)\n",
        "\n",
        "        # [N, OC, 1, 1]\n",
        "        mask_ch = self.sigmoid(context)\n",
        "        return mask_ch\n",
        "\n",
        "    def channel_pool_mask(self, x):\n",
        "        # [N, IC, H, W]\n",
        "        g_x = self.conv_q_left(x)\n",
        "\n",
        "        batch, channel, height, width = g_x.size()\n",
        "\n",
        "        # [N, IC, 1, 1]\n",
        "        avg_x = self.avg_pool(g_x)\n",
        "\n",
        "        batch, channel, avg_x_h, avg_x_w = avg_x.size()\n",
        "\n",
        "        # [N, 1, IC]\n",
        "        avg_x = avg_x.view(batch, channel, avg_x_h * avg_x_w).permute(0, 2, 1)\n",
        "\n",
        "        # [N, IC, H*W]\n",
        "        theta_x = self.conv_v_left(x).view(batch, self.inter_planes, height * width)\n",
        "\n",
        "        # [N, IC, H*W]\n",
        "        theta_x = self.softmax_left(theta_x)\n",
        "\n",
        "        # [N, 1, H*W]\n",
        "        # context = torch.einsum('nde,new->ndw', avg_x, theta_x)\n",
        "        context = torch.matmul(avg_x, theta_x)\n",
        "\n",
        "        # [N, 1, H, W]\n",
        "        context = context.view(batch, 1, height, width)\n",
        "\n",
        "        # [N, 1, H, W]\n",
        "        mask_sp = self.sigmoid(context)\n",
        "        return mask_sp\n",
        "    def forward(self, x, y):\n",
        "        sp_mask = self.spatial_pool_mask(y)\n",
        "        ch_mask = self.channel_pool_mask(y)\n",
        "        return x * sp_mask * ch_mask\n",
        "    \n",
        "\n",
        "class PSA(nn.Module):\n",
        "    def __init__(self, inplanes, planes, kernel_size=1, stride=1):\n",
        "        super(PSA, self).__init__()\n",
        "        self.pa = PA(inplanes, planes, kernel_size, stride)\n",
        "\n",
        "    def forward(self, x):\n",
        "        return self.pa(x,x)\n",
        "\n",
        "class ConBnRelu(nn.Module):\n",
        "    def __init__(self, in_channels, out_channels, kernel_size, stride=1, padding=0, dilation=1,bias=True):\n",
        "        super(ConBnRelu, self).__init__()\n",
        "        self.conv = nn.Conv2d(in_channels, out_channels, kernel_size=kernel_size, stride=stride, padding=padding,\n",
        "                              dilation=dilation, bias=bias)\n",
        "        self.bn = nn.BatchNorm2d(out_channels, momentum=BN_MOMENTUM)\n",
        "        self.relu = nn.ReLU(inplace=True)\n",
        "    def forward(self, x):\n",
        "        out = self.conv(x)\n",
        "        out = self.bn(out)\n",
        "        out = self.relu(out)\n",
        "        return out\n",
        "class DoubleConv(nn.Module):\n",
        "    expansion = 1\n",
        "\n",
        "    def __init__(self, in_channels, out_channels, use_attention=True):\n",
        "        super(DoubleConv, self).__init__()\n",
        "        if use_attention:\n",
        "            self.seq = nn.Sequential(\n",
        "                ConBnRelu(in_channels, out_channels, kernel_size=3, stride=1, padding=1, bias=True),\n",
        "                PSA(out_channels, out_channels),\n",
        "                ConBnRelu(out_channels, out_channels, kernel_size=3, stride=1, padding=1, bias=True)\n",
        "            )\n",
        "        else:\n",
        "            self.seq = nn.Sequential(\n",
        "                ConBnRelu(in_channels, out_channels, kernel_size=3, stride=1, padding=1, bias=True),\n",
        "                ConBnRelu(out_channels, out_channels, kernel_size=3, stride=1, padding=1, bias=True)\n",
        "            )\n",
        "\n",
        "        self.rescale = nn.Conv2d(in_channels, out_channels, kernel_size=1, stride=1, padding=0, bias=True)\n",
        "\n",
        "    def forward(self, x):\n",
        "        return self.seq(x) + self.rescale(x)\n",
        "\n",
        "\n",
        "# Define the U-Net model\n",
        "class UNet(nn.Module):\n",
        "    def __init__(self, in_channels, out_channels, i_ch=16):\n",
        "        \"\"\"\n",
        "        :param in_channels: int, number of input channels\n",
        "        :param out_channels: int, number of output channels\n",
        "        :param i_ch: int, internal channels to use for the first DoubleConv\n",
        "        \"\"\"\n",
        "        super(UNet, self).__init__()\n",
        "        # Channel Adder\n",
        "        self.embedder = nn.Sequential(\n",
        "            DoubleConv(in_channels, i_ch),  # in_channelsx128x128 -> i_chx128x128\n",
        "            DoubleConv(i_ch, i_ch),  # i_chx128x128 -> i_chx128x128\n",
        "        )\n",
        "        # Encoder\n",
        "        self.encoder1 = nn.Sequential(\n",
        "            nn.AvgPool2d(2),  # i_chx128x128 -> i_chx64x64\n",
        "            DoubleConv(i_ch, i_ch * 2)  # i_chx64x64 -> (i_ch * 2)x64x64\n",
        "        )\n",
        "        self.encoder2 = nn.Sequential(\n",
        "            nn.AvgPool2d(2),  # (i_ch * 2)x64x64 -> (i_ch * 2)x32x32\n",
        "            DoubleConv(i_ch * 2, i_ch * 4)  # (i_ch * 2)x32x32 -> (i_ch * 4)x32x32\n",
        "        )\n",
        "        self.encoder3 = nn.Sequential(\n",
        "            nn.AvgPool2d(2),  # (i_ch * 4)x32x32 -> (i_ch * 4)x16x16\n",
        "            DoubleConv(i_ch * 4, i_ch * 8)  # (i_ch * 4)x16x16 -> (i_ch * 8)x16x16\n",
        "        )\n",
        "        self.encoder4 = nn.Sequential(\n",
        "            nn.AvgPool2d(2),  # (i_ch * 8)x16x16 -> (i_ch * 8)x8x8\n",
        "            DoubleConv(i_ch * 8, i_ch * 16)  # (i_ch * 8)x8x8 -> (i_ch * 16)x8x8\n",
        "        )\n",
        "\n",
        "         # Bottleneck\n",
        "        self.bottleneck = nn.Sequential(\n",
        "            nn.Conv2d(i_ch * 16, i_ch * 16, kernel_size=8),  # (i_ch * 16)x8x8 -> (i_ch * 16)x1x1\n",
        "            nn.Flatten(),\n",
        "            nn.Linear(i_ch * 16, i_ch * 16),  # (i_ch * 16) -> (i_ch * 16)\n",
        "            nn.ReLU(inplace=True),\n",
        "            nn.Linear(i_ch * 16, i_ch * 16),  # (i_ch * 16) -> (i_ch * 16)\n",
        "            nn.ReLU(inplace=True),\n",
        "            nn.Unflatten(1, (i_ch, 4, 4)),  # Reshape back to (i_ch)x4x4\n",
        "            nn.ConvTranspose2d(i_ch, i_ch * 16, kernel_size=2, stride=2), # (i_ch)x4x4 -> (i_ch * 16)x8x8\n",
        "            nn.ReLU(inplace=True)\n",
        "        )\n",
        "\n",
        "        # Decoder\n",
        "        self.upconv4 = nn.ConvTranspose2d(i_ch * 16, i_ch * 8, kernel_size=2, stride=2)  # (i_ch * 16)x8x8 -> (i_ch * 8)x16x16\n",
        "        self.attention4 = PA(i_ch * 8, i_ch * 8)\n",
        "        self.decoder4 = DoubleConv(i_ch * 16, i_ch * 8)  # (i_ch * 16)x16x16 -> (i_ch * 8)x16x16\n",
        "\n",
        "        self.upconv3 = nn.ConvTranspose2d(i_ch * 8, i_ch * 4, kernel_size=2, stride=2)  # (i_ch * 8)x16x16 -> (i_ch * 4)x32x32\n",
        "        self.attention3 = PA(i_ch * 4, i_ch * 4)\n",
        "        self.decoder3 = DoubleConv(i_ch * 8, i_ch * 4)  # (i_ch * 8)x32x32 -> (i_ch * 4)x32x32\n",
        "\n",
        "        self.upconv2 = nn.ConvTranspose2d(i_ch * 4, i_ch * 2, kernel_size=2, stride=2)  # (i_ch * 4)x32x32 -> (i_ch * 2)x64x64\n",
        "        self.attention2 = PA(i_ch * 2, i_ch * 2)\n",
        "        self.decoder2 = DoubleConv(i_ch * 4, i_ch * 2)  # (i_ch * 4)x64x64 -> (i_ch * 2)x64x64\n",
        "\n",
        "        self.upconv1 = nn.ConvTranspose2d(i_ch * 2, i_ch, kernel_size=2, stride=2)  # (i_ch * 2)x64x64 -> i_chx128x128\n",
        "        self.attention1 = PA(i_ch, i_ch)\n",
        "        self.decoder1 = DoubleConv(i_ch * 2, i_ch)  # (i_ch * 2)x128x128 -> i_chx128x128\n",
        "\n",
        "        self.output = nn.Conv2d(i_ch, out_channels, kernel_size=1)  # i_chx128x128 -> out_channelsx128x128\n",
        "\n",
        "    def forward(self, x):\n",
        "        x = self.embedder(x)\n",
        "        # Encoder\n",
        "        e1 = self.encoder1(x)\n",
        "        e2 = self.encoder2(e1)\n",
        "        e3 = self.encoder3(e2)\n",
        "        e4 = self.encoder4(e3)\n",
        "        # Bottleneck\n",
        "        b = self.bottleneck(e4)\n",
        "        # Decoder with skip connections\n",
        "        d4 = self.upconv4(b)\n",
        "        d4 = torch.cat((self.attention4(e3, d4), d4), dim=1)\n",
        "        d4 = self.decoder4(d4)\n",
        "\n",
        "        d3 = self.upconv3(d4)\n",
        "        d3 = torch.cat((self.attention3(e2, d3), d3), dim=1)\n",
        "        d3 = self.decoder3(d3)\n",
        "\n",
        "        d2 = self.upconv2(d3)\n",
        "        d2 = torch.cat((self.attention2(e1, d2), d2), dim=1)\n",
        "        d2 = self.decoder2(d2)\n",
        "\n",
        "        d1 = self.upconv1(d2)\n",
        "        d1 = torch.cat((self.attention1(x, d1), d1), dim=1)\n",
        "        d1 = self.decoder1(d1)\n",
        "\n",
        "        out = self.output(d1)\n",
        "        return out\n",
        "\n",
        "    def set_trainable_mode(self, mode):\n",
        "        \"\"\"\n",
        "        Freezes or unfreezes weights based on the mode.\n",
        "        \n",
        "        :param mode: str, one of ['full', 'encoder', 'decoder']\n",
        "        \"\"\"\n",
        "        if mode == 'full':\n",
        "            # Unfreeze all layers\n",
        "            for param in self.parameters():\n",
        "                param.requires_grad = True\n",
        "        elif mode == 'encoder':\n",
        "            # Freeze decoder and output, unfreeze encoder\n",
        "            self._set_requires_grad(self.embedder, True)\n",
        "            self._set_requires_grad(self.encoder1, True)\n",
        "            self._set_requires_grad(self.encoder2, True)\n",
        "            self._set_requires_grad(self.encoder3, True)\n",
        "            self._set_requires_grad(self.encoder4, True)\n",
        "            self._set_requires_grad(self.bottleneck, True)\n",
        "            \n",
        "            self._set_requires_grad(self.upconv4, False)\n",
        "            self._set_requires_grad(self.attention4, False)\n",
        "            self._set_requires_grad(self.decoder4, False)\n",
        "            self._set_requires_grad(self.upconv3, False)\n",
        "            self._set_requires_grad(self.attention3, False)\n",
        "            self._set_requires_grad(self.decoder3, False)\n",
        "            self._set_requires_grad(self.upconv2, False)\n",
        "            self._set_requires_grad(self.attention2, False)\n",
        "            self._set_requires_grad(self.decoder2, False)\n",
        "            self._set_requires_grad(self.upconv1, False)\n",
        "            self._set_requires_grad(self.attention1, False)\n",
        "            self._set_requires_grad(self.decoder1, False)\n",
        "            self._set_requires_grad(self.output, False)\n",
        "        elif mode == 'decoder':\n",
        "            # Freeze encoder, unfreeze decoder\n",
        "            self._set_requires_grad(self.embedder, False)\n",
        "            self._set_requires_grad(self.encoder1, False)\n",
        "            self._set_requires_grad(self.encoder2, False)\n",
        "            self._set_requires_grad(self.encoder3, False)\n",
        "            self._set_requires_grad(self.encoder4, False)\n",
        "            self._set_requires_grad(self.bottleneck, False)\n",
        "\n",
        "            self._set_requires_grad(self.upconv4, True)\n",
        "            self._set_requires_grad(self.attention4, True)\n",
        "            self._set_requires_grad(self.decoder4, True)\n",
        "            self._set_requires_grad(self.upconv3, True)\n",
        "            self._set_requires_grad(self.attention3, True)\n",
        "            self._set_requires_grad(self.decoder3, True)\n",
        "            self._set_requires_grad(self.upconv2, True)\n",
        "            self._set_requires_grad(self.attention2, True)\n",
        "            self._set_requires_grad(self.decoder2, True)\n",
        "            self._set_requires_grad(self.upconv1, True)\n",
        "            self._set_requires_grad(self.attention1, True)\n",
        "            self._set_requires_grad(self.decoder1, True)\n",
        "            self._set_requires_grad(self.output, True)\n",
        "\n",
        "    def _set_requires_grad(self, module, requires_grad):\n",
        "        \"\"\"\n",
        "        Sets the requires_grad attribute for all parameters in a module.\n",
        "\n",
        "        :param module: nn.Module\n",
        "        :param requires_grad: bool\n",
        "        \"\"\"\n",
        "        for param in module.parameters():\n",
        "            param.requires_grad = requires_grad\n",
        "\n",
        "class Magnitude(nn.Module):\n",
        "    def __init__(self, in_channels):\n",
        "        super(Magnitude, self).__init__()\n",
        "        self.conv = nn.Sequential(\n",
        "            DoubleConv(in_channels, 16, use_attention=False), # -> 16x128x128\n",
        "            nn.AvgPool2d(4), # -> 16x32x32\n",
        "            DoubleConv(16, 8, use_attention=False), # -> 8x32x32\n",
        "            nn.AvgPool2d(4), # -> 8x8x8\n",
        "            nn.Conv2d(8, 1, kernel_size=8) # -> 1x1x1\n",
        "        )\n",
        "    def forward(self, x):\n",
        "        return  self.conv(x)\n",
        "class KappaPredictor(nn.Module):\n",
        "    def __init__(self):\n",
        "        super(KappaPredictor, self).__init__()\n",
        "        total_channels = 22\n",
        "        self.channel_adder = ChannelAdder()\n",
        "        self.bn = nn.BatchNorm2d(total_channels)\n",
        "        self.unet = UNet(total_channels, 1, i_ch=32)\n",
        "    def set_trainable_mode(self, mode):\n",
        "        # Iterate over the sequential module's layers\n",
        "        self.unet.set_trainable_mode(mode)\n",
        "        for param in self.bn.parameters():\n",
        "            param.requires_grad = mode != 'decoder'  # Unfreeze in 'full' and 'encoder' mode\n",
        "        \n",
        "    def forward(self, x):\n",
        "        x = self.channel_adder(x)\n",
        "        return self.unet(x)\n",
        "        \n",
        "        "
      ]
    },
    {
      "cell_type": "markdown",
      "metadata": {},
      "source": [
        "## Creación particion inicial"
      ]
    },
    {
      "cell_type": "code",
      "execution_count": 6,
      "metadata": {},
      "outputs": [],
      "source": [
        "def create_next_partitions(current_partition,k=1):#Creacion de particiones train y valid\n",
        "    init_partition = []\n",
        "    for i in range(k):\n",
        "        init_partition += load_partition(f\"partition_{k*current_partition+(i+1)}.json\")\n",
        "        #print(f\"partition_{k*current_partition+(i+1)}.json\")\n",
        "\n",
        "    train_partition, val_partition = train_test_split(init_partition, test_size=0.2, random_state=42)\n",
        "    save_partition(f\"partition_{current_partition+1}_train.json\",\"partitions\",train_partition)\n",
        "    save_partition(f\"partition_{current_partition+1}_val.json\",\"partitions\",val_partition)"
      ]
    },
    {
      "cell_type": "code",
      "execution_count": 7,
      "metadata": {},
      "outputs": [],
      "source": [
        "def load_best_model_so_far(model, last_saved_partition):\n",
        "    best_loss = float('inf')\n",
        "    best_partition = 0\n",
        "    for partition in range(1,last_saved_partition+1):\n",
        "        checkpoint = torch.load(f\"models/last_checkpoint_partition_{partition}.pth\",weights_only=False)\n",
        "        if checkpoint['best_loss'] < best_loss:\n",
        "            best_loss = checkpoint['best_loss']\n",
        "            best_partition = partition\n",
        "    model.load_state_dict(torch.load(f\"models/best_model_partition_{best_partition}.pth\",weights_only=True))\n",
        "    print(f\"Loaded best model from partition {best_partition} with loss {best_loss}\")\n",
        "def load_last_best_model(model, last_saved_partition):\n",
        "    #for from last_saved_partition to 1 looking if exists a best model file. if there is then load it and return\n",
        "    for partition in range(last_saved_partition,0,-1):\n",
        "        if os.path.exists(f\"models/best_model_partition_{partition}.pth\"):\n",
        "            model.load_state_dict(torch.load(f\"models/best_model_partition_{partition}.pth\",weights_only=True))\n",
        "            print(f\"Loaded best model from partition {partition}\")\n",
        "            return\n",
        "    print(f\"There is no best model saved\")"
      ]
    },
    {
      "cell_type": "code",
      "execution_count": 8,
      "metadata": {},
      "outputs": [],
      "source": [
        "create_next_partitions(0,1)"
      ]
    },
    {
      "cell_type": "code",
      "execution_count": 9,
      "metadata": {},
      "outputs": [],
      "source": [
        "def many_partitions_v2(start,end,model,criterion,transform=None,full_frecuency=2):\n",
        "    for current_partition in range(start,end):\n",
        "        if current_partition %full_frecuency==1:\n",
        "            print(f\"Partition {current_partition}: training full\")\n",
        "            model.set_trainable_mode('full')\n",
        "        else:\n",
        "            print(f\"Partition {current_partition}: training decoder\")\n",
        "            model.set_trainable_mode('decoder')\n",
        "        load_last_best_model(model,current_partition-1)\n",
        "        create_next_partitions(current_partition-1)\n",
        "        train_loader, val_loader = create_train_valid_loaders(\n",
        "            f\"partition_{current_partition}_train.json\",\n",
        "            f\"partition_{current_partition}_val.json\",\n",
        "            \"partitions\",\n",
        "            batch_size=BATCH_SIZE,\n",
        "            transform=transform,\n",
        "        )\n",
        "        best_model_path = os.path.join(\n",
        "            \"models\", f\"best_model_partition_{current_partition}.pth\"\n",
        "        )\n",
        "        last_checkpoint_path = os.path.join(\n",
        "            \"models\", f\"last_checkpoint_partition_{current_partition}.pth\"\n",
        "        )\n",
        "        optimizer = optim.AdamW(model.parameters())\n",
        "        train_model(\n",
        "            model,\n",
        "            train_loader,\n",
        "            val_loader,\n",
        "            best_model_path,\n",
        "            last_checkpoint_path,\n",
        "            criterion,\n",
        "            optimizer,\n",
        "            num_epochs=50,\n",
        "            device=DEVICE,\n",
        "            early_stopping_patience=EARLY_STOPPING_PATIENCE,\n",
        "            use_autocast=USE_AUTOCAST,\n",
        "            early_stopping_grace_period=EARLY_STOPPING_GRACE_PERIOD,\n",
        "        )\n",
        "        if os.path.exists(best_model_path):\n",
        "            model.load_state_dict(torch.load(best_model_path,weights_only=True))\n",
        "            test_model(model,criterion,device=DEVICE,batch_size=BATCH_SIZE,experiment_name=f\"adamw_atunet_freeze__{current_partition}\")\n",
        "        else:\n",
        "            print(\"No best model found in partition\",current_partition)\n",
        "        "
      ]
    },
    {
      "cell_type": "markdown",
      "metadata": {},
      "source": [
        "## Carga modelo"
      ]
    },
    {
      "cell_type": "code",
      "execution_count": 10,
      "metadata": {},
      "outputs": [],
      "source": [
        "#Define model\n",
        "model = KappaPredictor().to(DEVICE)\n",
        "# Define Loss\n",
        "criterion = torch.nn.L1Loss()\n",
        "transform = RandomTransform()"
      ]
    },
    {
      "cell_type": "code",
      "execution_count": 11,
      "metadata": {},
      "outputs": [
        {
          "data": {
            "text/plain": [
              "26400053"
            ]
          },
          "execution_count": 11,
          "metadata": {},
          "output_type": "execute_result"
        }
      ],
      "source": [
        "sum([p.numel() for p in model.parameters() if p.requires_grad])"
      ]
    },
    {
      "cell_type": "code",
      "execution_count": 18,
      "metadata": {},
      "outputs": [
        {
          "name": "stdout",
          "output_type": "stream",
          "text": [
            "Partition 1: training full\n",
            "There is no best model saved\n",
            "Epoch [1/50]\n"
          ]
        },
        {
          "name": "stderr",
          "output_type": "stream",
          "text": [
            "Train Epoch 1: 100%|██████████| 154/154 [01:06<00:00,  2.31it/s, WMAPE=9.83, DICE=0.481, DPEAKS=196, Loss=0.0308]\n",
            "Validate Epoch 1: 100%|██████████| 39/39 [00:07<00:00,  5.52it/s, WMAPE=7.65, DICE=0.432, DPEAKS=201, Loss=0.0402]\n"
          ]
        },
        {
          "name": "stdout",
          "output_type": "stream",
          "text": [
            "Saving best model\n",
            "Epoch [2/50]\n"
          ]
        },
        {
          "name": "stderr",
          "output_type": "stream",
          "text": [
            "Train Epoch 2: 100%|██████████| 154/154 [01:04<00:00,  2.39it/s, WMAPE=6.31, DICE=0.319, DPEAKS=147, Loss=0.0193]\n",
            "Validate Epoch 2: 100%|██████████| 39/39 [00:06<00:00,  6.11it/s, WMAPE=9.37, DICE=0.599, DPEAKS=190, Loss=0.0501]\n"
          ]
        },
        {
          "name": "stdout",
          "output_type": "stream",
          "text": [
            "Epoch [3/50]\n"
          ]
        },
        {
          "name": "stderr",
          "output_type": "stream",
          "text": [
            "Train Epoch 3: 100%|██████████| 154/154 [01:03<00:00,  2.41it/s, WMAPE=7.5, DICE=0.287, DPEAKS=136, Loss=0.0178]\n",
            "Validate Epoch 3: 100%|██████████| 39/39 [00:06<00:00,  6.10it/s, WMAPE=6.99, DICE=0.382, DPEAKS=183, Loss=0.0322]\n"
          ]
        },
        {
          "name": "stdout",
          "output_type": "stream",
          "text": [
            "Saving best model\n",
            "Epoch [4/50]\n"
          ]
        },
        {
          "name": "stderr",
          "output_type": "stream",
          "text": [
            "Train Epoch 4: 100%|██████████| 154/154 [01:04<00:00,  2.38it/s, WMAPE=6.72, DICE=0.258, DPEAKS=125, Loss=0.0163]\n",
            "Validate Epoch 4: 100%|██████████| 39/39 [00:06<00:00,  5.74it/s, WMAPE=11.3, DICE=0.431, DPEAKS=184, Loss=0.0469]\n"
          ]
        },
        {
          "name": "stdout",
          "output_type": "stream",
          "text": [
            "Epoch [5/50]\n"
          ]
        },
        {
          "name": "stderr",
          "output_type": "stream",
          "text": [
            "Train Epoch 5: 100%|██████████| 154/154 [01:05<00:00,  2.35it/s, WMAPE=7.84, DICE=0.235, DPEAKS=115, Loss=0.0151]\n",
            "Validate Epoch 5: 100%|██████████| 39/39 [00:06<00:00,  5.88it/s, WMAPE=6.79, DICE=0.331, DPEAKS=146, Loss=0.0246]\n"
          ]
        },
        {
          "name": "stdout",
          "output_type": "stream",
          "text": [
            "Saving best model\n",
            "Epoch [6/50]\n"
          ]
        },
        {
          "name": "stderr",
          "output_type": "stream",
          "text": [
            "Train Epoch 6: 100%|██████████| 154/154 [01:04<00:00,  2.37it/s, WMAPE=8.17, DICE=0.217, DPEAKS=110, Loss=0.0144]\n",
            "Validate Epoch 6: 100%|██████████| 39/39 [00:06<00:00,  6.06it/s, WMAPE=8.64, DICE=0.302, DPEAKS=215, Loss=0.0283]\n"
          ]
        },
        {
          "name": "stdout",
          "output_type": "stream",
          "text": [
            "Epoch [7/50]\n"
          ]
        },
        {
          "name": "stderr",
          "output_type": "stream",
          "text": [
            "Train Epoch 7: 100%|██████████| 154/154 [01:06<00:00,  2.33it/s, WMAPE=4.78, DICE=0.211, DPEAKS=108, Loss=0.0141]\n",
            "Validate Epoch 7: 100%|██████████| 39/39 [00:06<00:00,  6.03it/s, WMAPE=8.8, DICE=0.307, DPEAKS=147, Loss=0.0298]\n"
          ]
        },
        {
          "name": "stdout",
          "output_type": "stream",
          "text": [
            "Epoch [8/50]\n"
          ]
        },
        {
          "name": "stderr",
          "output_type": "stream",
          "text": [
            "Train Epoch 8: 100%|██████████| 154/154 [01:05<00:00,  2.36it/s, WMAPE=5.12, DICE=0.203, DPEAKS=104, Loss=0.0137]\n",
            "Validate Epoch 8: 100%|██████████| 39/39 [00:06<00:00,  5.80it/s, WMAPE=7.61, DICE=0.217, DPEAKS=115, Loss=0.0278]\n"
          ]
        },
        {
          "name": "stdout",
          "output_type": "stream",
          "text": [
            "Epoch [9/50]\n"
          ]
        },
        {
          "name": "stderr",
          "output_type": "stream",
          "text": [
            "Train Epoch 9: 100%|██████████| 154/154 [01:06<00:00,  2.31it/s, WMAPE=5.53, DICE=0.18, DPEAKS=93.1, Loss=0.0124]\n",
            "Validate Epoch 9: 100%|██████████| 39/39 [00:06<00:00,  5.79it/s, WMAPE=4.39, DICE=0.178, DPEAKS=107, Loss=0.0141]\n"
          ]
        },
        {
          "name": "stdout",
          "output_type": "stream",
          "text": [
            "Saving best model\n",
            "Epoch [10/50]\n"
          ]
        },
        {
          "name": "stderr",
          "output_type": "stream",
          "text": [
            "Train Epoch 10: 100%|██████████| 154/154 [01:05<00:00,  2.35it/s, WMAPE=6.4, DICE=0.185, DPEAKS=96.2, Loss=0.0128]\n",
            "Validate Epoch 10: 100%|██████████| 39/39 [00:06<00:00,  6.01it/s, WMAPE=15.3, DICE=0.371, DPEAKS=128, Loss=0.0565]\n"
          ]
        },
        {
          "name": "stdout",
          "output_type": "stream",
          "text": [
            "Epoch [11/50]\n"
          ]
        },
        {
          "name": "stderr",
          "output_type": "stream",
          "text": [
            "Train Epoch 11: 100%|██████████| 154/154 [01:04<00:00,  2.37it/s, WMAPE=6.45, DICE=0.178, DPEAKS=95.6, Loss=0.0124]\n",
            "Validate Epoch 11: 100%|██████████| 39/39 [00:06<00:00,  5.61it/s, WMAPE=5.11, DICE=0.168, DPEAKS=95.3, Loss=0.0148]\n"
          ]
        },
        {
          "name": "stdout",
          "output_type": "stream",
          "text": [
            "Epoch [12/50]\n"
          ]
        },
        {
          "name": "stderr",
          "output_type": "stream",
          "text": [
            "Train Epoch 12: 100%|██████████| 154/154 [01:08<00:00,  2.25it/s, WMAPE=5.21, DICE=0.177, DPEAKS=93.7, Loss=0.0123]\n",
            "Validate Epoch 12: 100%|██████████| 39/39 [00:06<00:00,  6.00it/s, WMAPE=5.97, DICE=0.272, DPEAKS=131, Loss=0.0224]\n"
          ]
        },
        {
          "name": "stdout",
          "output_type": "stream",
          "text": [
            "Epoch [13/50]\n"
          ]
        },
        {
          "name": "stderr",
          "output_type": "stream",
          "text": [
            "Train Epoch 13: 100%|██████████| 154/154 [01:07<00:00,  2.29it/s, WMAPE=5.91, DICE=0.17, DPEAKS=87.6, Loss=0.012]\n",
            "Validate Epoch 13: 100%|██████████| 39/39 [00:06<00:00,  5.65it/s, WMAPE=5.75, DICE=0.17, DPEAKS=98.3, Loss=0.0189]\n"
          ]
        },
        {
          "name": "stdout",
          "output_type": "stream",
          "text": [
            "Epoch [14/50]\n"
          ]
        },
        {
          "name": "stderr",
          "output_type": "stream",
          "text": [
            "Train Epoch 14: 100%|██████████| 154/154 [01:08<00:00,  2.25it/s, WMAPE=4.69, DICE=0.17, DPEAKS=89.3, Loss=0.0119]\n",
            "Validate Epoch 14: 100%|██████████| 39/39 [00:06<00:00,  5.68it/s, WMAPE=18.5, DICE=0.372, DPEAKS=148, Loss=0.0587]\n"
          ]
        },
        {
          "name": "stdout",
          "output_type": "stream",
          "text": [
            "early stopping: 5 epochs without improvement\n",
            "Training complete.\n"
          ]
        },
        {
          "name": "stderr",
          "output_type": "stream",
          "text": [
            "Validate Epoch test: 100%|██████████| 971/971 [04:19<00:00,  3.74it/s, WMAPE=4.46, DICE=0.178, DPEAKS=104, Loss=0.0143]\n"
          ]
        },
        {
          "name": "stdout",
          "output_type": "stream",
          "text": [
            "Partition 2: training decoder\n",
            "Loaded best model from partition 1\n",
            "Epoch [1/50]\n"
          ]
        },
        {
          "name": "stderr",
          "output_type": "stream",
          "text": [
            "Train Epoch 1: 100%|██████████| 154/154 [00:53<00:00,  2.86it/s, WMAPE=5.36, DICE=0.178, DPEAKS=93.3, Loss=0.0124]\n",
            "Validate Epoch 1: 100%|██████████| 39/39 [00:08<00:00,  4.79it/s, WMAPE=4.86, DICE=0.175, DPEAKS=90.8, Loss=0.0148]\n"
          ]
        },
        {
          "name": "stdout",
          "output_type": "stream",
          "text": [
            "Saving best model\n",
            "Epoch [2/50]\n"
          ]
        },
        {
          "name": "stderr",
          "output_type": "stream",
          "text": [
            "Train Epoch 2: 100%|██████████| 154/154 [00:48<00:00,  3.20it/s, WMAPE=6.62, DICE=0.174, DPEAKS=90.8, Loss=0.012]\n",
            "Validate Epoch 2: 100%|██████████| 39/39 [00:06<00:00,  5.73it/s, WMAPE=5.22, DICE=0.18, DPEAKS=94.2, Loss=0.0172]\n"
          ]
        },
        {
          "name": "stdout",
          "output_type": "stream",
          "text": [
            "Epoch [3/50]\n"
          ]
        },
        {
          "name": "stderr",
          "output_type": "stream",
          "text": [
            "Train Epoch 3: 100%|██████████| 154/154 [00:47<00:00,  3.22it/s, WMAPE=5.35, DICE=0.176, DPEAKS=94, Loss=0.0122]\n",
            "Validate Epoch 3: 100%|██████████| 39/39 [00:06<00:00,  5.69it/s, WMAPE=4, DICE=0.168, DPEAKS=91.1, Loss=0.0134]\n"
          ]
        },
        {
          "name": "stdout",
          "output_type": "stream",
          "text": [
            "Saving best model\n",
            "Epoch [4/50]\n"
          ]
        },
        {
          "name": "stderr",
          "output_type": "stream",
          "text": [
            "Train Epoch 4: 100%|██████████| 154/154 [00:47<00:00,  3.22it/s, WMAPE=5.68, DICE=0.171, DPEAKS=89.8, Loss=0.0117]\n",
            "Validate Epoch 4: 100%|██████████| 39/39 [00:06<00:00,  5.62it/s, WMAPE=3.88, DICE=0.17, DPEAKS=90.8, Loss=0.013]\n"
          ]
        },
        {
          "name": "stdout",
          "output_type": "stream",
          "text": [
            "Saving best model\n",
            "Epoch [5/50]\n"
          ]
        },
        {
          "name": "stderr",
          "output_type": "stream",
          "text": [
            "Train Epoch 5: 100%|██████████| 154/154 [00:48<00:00,  3.20it/s, WMAPE=4.99, DICE=0.17, DPEAKS=88.2, Loss=0.0118]\n",
            "Validate Epoch 5: 100%|██████████| 39/39 [00:06<00:00,  5.72it/s, WMAPE=4, DICE=0.176, DPEAKS=86.6, Loss=0.0164]\n"
          ]
        },
        {
          "name": "stdout",
          "output_type": "stream",
          "text": [
            "Epoch [6/50]\n"
          ]
        },
        {
          "name": "stderr",
          "output_type": "stream",
          "text": [
            "Train Epoch 6: 100%|██████████| 154/154 [00:48<00:00,  3.20it/s, WMAPE=6.91, DICE=0.172, DPEAKS=91.6, Loss=0.0119]\n",
            "Validate Epoch 6: 100%|██████████| 39/39 [00:06<00:00,  5.72it/s, WMAPE=4.25, DICE=0.167, DPEAKS=92.9, Loss=0.014]\n"
          ]
        },
        {
          "name": "stdout",
          "output_type": "stream",
          "text": [
            "Epoch [7/50]\n"
          ]
        },
        {
          "name": "stderr",
          "output_type": "stream",
          "text": [
            "Train Epoch 7: 100%|██████████| 154/154 [00:47<00:00,  3.22it/s, WMAPE=8.13, DICE=0.169, DPEAKS=89.3, Loss=0.0116]\n",
            "Validate Epoch 7: 100%|██████████| 39/39 [00:06<00:00,  5.76it/s, WMAPE=3.88, DICE=0.187, DPEAKS=187, Loss=0.0149]\n"
          ]
        },
        {
          "name": "stdout",
          "output_type": "stream",
          "text": [
            "Epoch [8/50]\n"
          ]
        },
        {
          "name": "stderr",
          "output_type": "stream",
          "text": [
            "Train Epoch 8: 100%|██████████| 154/154 [00:47<00:00,  3.22it/s, WMAPE=5.83, DICE=0.168, DPEAKS=86.8, Loss=0.0116]\n",
            "Validate Epoch 8: 100%|██████████| 39/39 [00:06<00:00,  5.68it/s, WMAPE=3.84, DICE=0.172, DPEAKS=175, Loss=0.0136]\n"
          ]
        },
        {
          "name": "stdout",
          "output_type": "stream",
          "text": [
            "Epoch [9/50]\n"
          ]
        },
        {
          "name": "stderr",
          "output_type": "stream",
          "text": [
            "Train Epoch 9: 100%|██████████| 154/154 [00:47<00:00,  3.22it/s, WMAPE=5.3, DICE=0.167, DPEAKS=86.5, Loss=0.0115]\n",
            "Validate Epoch 9: 100%|██████████| 39/39 [00:06<00:00,  5.71it/s, WMAPE=4.02, DICE=0.157, DPEAKS=98.7, Loss=0.0132]\n"
          ]
        },
        {
          "name": "stdout",
          "output_type": "stream",
          "text": [
            "early stopping: 5 epochs without improvement\n",
            "Training complete.\n"
          ]
        },
        {
          "name": "stderr",
          "output_type": "stream",
          "text": [
            "Validate Epoch test: 100%|██████████| 971/971 [03:29<00:00,  4.63it/s, WMAPE=3.82, DICE=0.17, DPEAKS=88.1, Loss=0.013]\n"
          ]
        },
        {
          "name": "stdout",
          "output_type": "stream",
          "text": [
            "Partition 3: training full\n",
            "Loaded best model from partition 2\n",
            "Epoch [1/50]\n"
          ]
        },
        {
          "name": "stderr",
          "output_type": "stream",
          "text": [
            "Train Epoch 1: 100%|██████████| 154/154 [01:08<00:00,  2.26it/s, WMAPE=6.25, DICE=0.176, DPEAKS=95.1, Loss=0.0123]\n",
            "Validate Epoch 1: 100%|██████████| 39/39 [00:07<00:00,  5.11it/s, WMAPE=5.36, DICE=0.162, DPEAKS=94.6, Loss=0.0171]\n"
          ]
        },
        {
          "name": "stdout",
          "output_type": "stream",
          "text": [
            "Saving best model\n",
            "Epoch [2/50]\n"
          ]
        },
        {
          "name": "stderr",
          "output_type": "stream",
          "text": [
            "Train Epoch 2: 100%|██████████| 154/154 [01:02<00:00,  2.48it/s, WMAPE=4.87, DICE=0.168, DPEAKS=90.1, Loss=0.012]\n",
            "Validate Epoch 2: 100%|██████████| 39/39 [00:06<00:00,  6.05it/s, WMAPE=14.2, DICE=0.159, DPEAKS=92.9, Loss=0.0425]\n"
          ]
        },
        {
          "name": "stdout",
          "output_type": "stream",
          "text": [
            "Epoch [3/50]\n"
          ]
        },
        {
          "name": "stderr",
          "output_type": "stream",
          "text": [
            "Train Epoch 3: 100%|██████████| 154/154 [01:02<00:00,  2.48it/s, WMAPE=9.9, DICE=0.177, DPEAKS=91.5, Loss=0.0122]\n",
            "Validate Epoch 3: 100%|██████████| 39/39 [00:06<00:00,  5.95it/s, WMAPE=3.37, DICE=0.149, DPEAKS=77.8, Loss=0.0115]\n"
          ]
        },
        {
          "name": "stdout",
          "output_type": "stream",
          "text": [
            "Saving best model\n",
            "Epoch [4/50]\n"
          ]
        },
        {
          "name": "stderr",
          "output_type": "stream",
          "text": [
            "Train Epoch 4: 100%|██████████| 154/154 [01:02<00:00,  2.48it/s, WMAPE=4.43, DICE=0.161, DPEAKS=84.9, Loss=0.0115]\n",
            "Validate Epoch 4: 100%|██████████| 39/39 [00:06<00:00,  6.13it/s, WMAPE=7.18, DICE=0.157, DPEAKS=96.7, Loss=0.0205]\n"
          ]
        },
        {
          "name": "stdout",
          "output_type": "stream",
          "text": [
            "Epoch [5/50]\n"
          ]
        },
        {
          "name": "stderr",
          "output_type": "stream",
          "text": [
            "Train Epoch 5: 100%|██████████| 154/154 [01:02<00:00,  2.48it/s, WMAPE=4.28, DICE=0.168, DPEAKS=92.2, Loss=0.0117]\n",
            "Validate Epoch 5: 100%|██████████| 39/39 [00:06<00:00,  6.10it/s, WMAPE=6.54, DICE=0.143, DPEAKS=86.3, Loss=0.0208]\n"
          ]
        },
        {
          "name": "stdout",
          "output_type": "stream",
          "text": [
            "Epoch [6/50]\n"
          ]
        },
        {
          "name": "stderr",
          "output_type": "stream",
          "text": [
            "Train Epoch 6: 100%|██████████| 154/154 [01:02<00:00,  2.48it/s, WMAPE=4.56, DICE=0.155, DPEAKS=81.6, Loss=0.011]\n",
            "Validate Epoch 6: 100%|██████████| 39/39 [00:06<00:00,  6.11it/s, WMAPE=3.56, DICE=0.14, DPEAKS=75.7, Loss=0.011]\n"
          ]
        },
        {
          "name": "stdout",
          "output_type": "stream",
          "text": [
            "Saving best model\n",
            "Epoch [7/50]\n"
          ]
        },
        {
          "name": "stderr",
          "output_type": "stream",
          "text": [
            "Train Epoch 7: 100%|██████████| 154/154 [01:02<00:00,  2.47it/s, WMAPE=5.07, DICE=0.151, DPEAKS=81.6, Loss=0.0108]\n",
            "Validate Epoch 7: 100%|██████████| 39/39 [00:06<00:00,  5.95it/s, WMAPE=7.72, DICE=0.137, DPEAKS=73.5, Loss=0.0225]\n"
          ]
        },
        {
          "name": "stdout",
          "output_type": "stream",
          "text": [
            "Epoch [8/50]\n"
          ]
        },
        {
          "name": "stderr",
          "output_type": "stream",
          "text": [
            "Train Epoch 8: 100%|██████████| 154/154 [01:02<00:00,  2.47it/s, WMAPE=5.24, DICE=0.147, DPEAKS=75.5, Loss=0.0107]\n",
            "Validate Epoch 8: 100%|██████████| 39/39 [00:06<00:00,  6.03it/s, WMAPE=4.49, DICE=0.135, DPEAKS=85.2, Loss=0.0145]\n"
          ]
        },
        {
          "name": "stdout",
          "output_type": "stream",
          "text": [
            "Epoch [9/50]\n"
          ]
        },
        {
          "name": "stderr",
          "output_type": "stream",
          "text": [
            "Train Epoch 9: 100%|██████████| 154/154 [01:02<00:00,  2.47it/s, WMAPE=4.52, DICE=0.149, DPEAKS=78.7, Loss=0.0109]\n",
            "Validate Epoch 9: 100%|██████████| 39/39 [00:06<00:00,  6.14it/s, WMAPE=3.49, DICE=0.129, DPEAKS=79.1, Loss=0.012]\n"
          ]
        },
        {
          "name": "stdout",
          "output_type": "stream",
          "text": [
            "Epoch [10/50]\n"
          ]
        },
        {
          "name": "stderr",
          "output_type": "stream",
          "text": [
            "Train Epoch 10: 100%|██████████| 154/154 [01:02<00:00,  2.48it/s, WMAPE=4.81, DICE=0.141, DPEAKS=73.7, Loss=0.0104]\n",
            "Validate Epoch 10: 100%|██████████| 39/39 [00:06<00:00,  6.14it/s, WMAPE=3.11, DICE=0.127, DPEAKS=68.5, Loss=0.0102]\n"
          ]
        },
        {
          "name": "stdout",
          "output_type": "stream",
          "text": [
            "Saving best model\n",
            "Epoch [11/50]\n"
          ]
        },
        {
          "name": "stderr",
          "output_type": "stream",
          "text": [
            "Train Epoch 11: 100%|██████████| 154/154 [01:02<00:00,  2.48it/s, WMAPE=3.92, DICE=0.137, DPEAKS=72, Loss=0.00999]\n",
            "Validate Epoch 11: 100%|██████████| 39/39 [00:06<00:00,  6.11it/s, WMAPE=4.08, DICE=0.122, DPEAKS=67.4, Loss=0.0127]\n"
          ]
        },
        {
          "name": "stdout",
          "output_type": "stream",
          "text": [
            "Epoch [12/50]\n"
          ]
        },
        {
          "name": "stderr",
          "output_type": "stream",
          "text": [
            "Train Epoch 12: 100%|██████████| 154/154 [01:02<00:00,  2.47it/s, WMAPE=4.43, DICE=0.134, DPEAKS=69.9, Loss=0.00986]\n",
            "Validate Epoch 12: 100%|██████████| 39/39 [00:06<00:00,  6.11it/s, WMAPE=2.9, DICE=0.116, DPEAKS=66.7, Loss=0.00933]\n"
          ]
        },
        {
          "name": "stdout",
          "output_type": "stream",
          "text": [
            "Saving best model\n",
            "Epoch [13/50]\n"
          ]
        },
        {
          "name": "stderr",
          "output_type": "stream",
          "text": [
            "Train Epoch 13: 100%|██████████| 154/154 [01:02<00:00,  2.47it/s, WMAPE=3.98, DICE=0.134, DPEAKS=70.4, Loss=0.00991]\n",
            "Validate Epoch 13: 100%|██████████| 39/39 [00:06<00:00,  6.12it/s, WMAPE=3.3, DICE=0.123, DPEAKS=99.9, Loss=0.0106]\n"
          ]
        },
        {
          "name": "stdout",
          "output_type": "stream",
          "text": [
            "Epoch [14/50]\n"
          ]
        },
        {
          "name": "stderr",
          "output_type": "stream",
          "text": [
            "Train Epoch 14: 100%|██████████| 154/154 [01:02<00:00,  2.47it/s, WMAPE=4.12, DICE=0.132, DPEAKS=70, Loss=0.00986]\n",
            "Validate Epoch 14: 100%|██████████| 39/39 [00:06<00:00,  6.09it/s, WMAPE=3.69, DICE=0.116, DPEAKS=68.9, Loss=0.0123]\n"
          ]
        },
        {
          "name": "stdout",
          "output_type": "stream",
          "text": [
            "Epoch [15/50]\n"
          ]
        },
        {
          "name": "stderr",
          "output_type": "stream",
          "text": [
            "Train Epoch 15: 100%|██████████| 154/154 [01:02<00:00,  2.47it/s, WMAPE=4.35, DICE=0.128, DPEAKS=68.9, Loss=0.00957]\n",
            "Validate Epoch 15: 100%|██████████| 39/39 [00:06<00:00,  6.03it/s, WMAPE=2.85, DICE=0.111, DPEAKS=61.5, Loss=0.00892]\n"
          ]
        },
        {
          "name": "stdout",
          "output_type": "stream",
          "text": [
            "Saving best model\n",
            "Epoch [16/50]\n"
          ]
        },
        {
          "name": "stderr",
          "output_type": "stream",
          "text": [
            "Train Epoch 16: 100%|██████████| 154/154 [01:02<00:00,  2.47it/s, WMAPE=4.76, DICE=0.125, DPEAKS=68.4, Loss=0.00949]\n",
            "Validate Epoch 16: 100%|██████████| 39/39 [00:06<00:00,  6.04it/s, WMAPE=3.52, DICE=0.107, DPEAKS=62.2, Loss=0.0117]\n"
          ]
        },
        {
          "name": "stdout",
          "output_type": "stream",
          "text": [
            "Epoch [17/50]\n"
          ]
        },
        {
          "name": "stderr",
          "output_type": "stream",
          "text": [
            "Train Epoch 17: 100%|██████████| 154/154 [01:02<00:00,  2.47it/s, WMAPE=3.99, DICE=0.122, DPEAKS=66.2, Loss=0.00922]\n",
            "Validate Epoch 17: 100%|██████████| 39/39 [00:06<00:00,  6.15it/s, WMAPE=5.52, DICE=0.107, DPEAKS=61.5, Loss=0.0167]\n"
          ]
        },
        {
          "name": "stdout",
          "output_type": "stream",
          "text": [
            "Epoch [18/50]\n"
          ]
        },
        {
          "name": "stderr",
          "output_type": "stream",
          "text": [
            "Train Epoch 18: 100%|██████████| 154/154 [01:02<00:00,  2.48it/s, WMAPE=3.71, DICE=0.121, DPEAKS=65.4, Loss=0.00918]\n",
            "Validate Epoch 18: 100%|██████████| 39/39 [00:06<00:00,  6.11it/s, WMAPE=3.47, DICE=0.109, DPEAKS=62.8, Loss=0.0112]\n"
          ]
        },
        {
          "name": "stdout",
          "output_type": "stream",
          "text": [
            "Epoch [19/50]\n"
          ]
        },
        {
          "name": "stderr",
          "output_type": "stream",
          "text": [
            "Train Epoch 19: 100%|██████████| 154/154 [01:01<00:00,  2.48it/s, WMAPE=4.01, DICE=0.117, DPEAKS=63.6, Loss=0.00898]\n",
            "Validate Epoch 19: 100%|██████████| 39/39 [00:06<00:00,  5.98it/s, WMAPE=2.63, DICE=0.103, DPEAKS=62.3, Loss=0.00881]\n"
          ]
        },
        {
          "name": "stdout",
          "output_type": "stream",
          "text": [
            "Saving best model\n",
            "Epoch [20/50]\n"
          ]
        },
        {
          "name": "stderr",
          "output_type": "stream",
          "text": [
            "Train Epoch 20: 100%|██████████| 154/154 [01:02<00:00,  2.47it/s, WMAPE=3.72, DICE=0.114, DPEAKS=62.9, Loss=0.00872]\n",
            "Validate Epoch 20: 100%|██████████| 39/39 [00:06<00:00,  6.16it/s, WMAPE=9.35, DICE=0.0995, DPEAKS=53.8, Loss=0.0286]\n"
          ]
        },
        {
          "name": "stdout",
          "output_type": "stream",
          "text": [
            "Epoch [21/50]\n"
          ]
        },
        {
          "name": "stderr",
          "output_type": "stream",
          "text": [
            "Train Epoch 21: 100%|██████████| 154/154 [01:02<00:00,  2.48it/s, WMAPE=5.5, DICE=0.113, DPEAKS=62.2, Loss=0.00867]\n",
            "Validate Epoch 21: 100%|██████████| 39/39 [00:06<00:00,  6.12it/s, WMAPE=5.65, DICE=0.106, DPEAKS=64.9, Loss=0.0166]\n"
          ]
        },
        {
          "name": "stdout",
          "output_type": "stream",
          "text": [
            "Epoch [22/50]\n"
          ]
        },
        {
          "name": "stderr",
          "output_type": "stream",
          "text": [
            "Train Epoch 22: 100%|██████████| 154/154 [01:02<00:00,  2.47it/s, WMAPE=3.78, DICE=0.11, DPEAKS=59.9, Loss=0.00864]\n",
            "Validate Epoch 22: 100%|██████████| 39/39 [00:06<00:00,  6.08it/s, WMAPE=2.53, DICE=0.0963, DPEAKS=53.1, Loss=0.0083]\n"
          ]
        },
        {
          "name": "stdout",
          "output_type": "stream",
          "text": [
            "Saving best model\n",
            "Epoch [23/50]\n"
          ]
        },
        {
          "name": "stderr",
          "output_type": "stream",
          "text": [
            "Train Epoch 23: 100%|██████████| 154/154 [01:02<00:00,  2.48it/s, WMAPE=3.51, DICE=0.108, DPEAKS=57.6, Loss=0.00847]\n",
            "Validate Epoch 23: 100%|██████████| 39/39 [00:06<00:00,  6.09it/s, WMAPE=2.67, DICE=0.0971, DPEAKS=55.5, Loss=0.00863]\n"
          ]
        },
        {
          "name": "stdout",
          "output_type": "stream",
          "text": [
            "Epoch [24/50]\n"
          ]
        },
        {
          "name": "stderr",
          "output_type": "stream",
          "text": [
            "Train Epoch 24: 100%|██████████| 154/154 [01:02<00:00,  2.48it/s, WMAPE=3.57, DICE=0.105, DPEAKS=57.1, Loss=0.00818]\n",
            "Validate Epoch 24: 100%|██████████| 39/39 [00:06<00:00,  5.96it/s, WMAPE=2.13, DICE=0.091, DPEAKS=47.8, Loss=0.0078]\n"
          ]
        },
        {
          "name": "stdout",
          "output_type": "stream",
          "text": [
            "Saving best model\n",
            "Epoch [25/50]\n"
          ]
        },
        {
          "name": "stderr",
          "output_type": "stream",
          "text": [
            "Train Epoch 25: 100%|██████████| 154/154 [01:02<00:00,  2.47it/s, WMAPE=3.34, DICE=0.103, DPEAKS=55.5, Loss=0.00815]\n",
            "Validate Epoch 25: 100%|██████████| 39/39 [00:06<00:00,  6.08it/s, WMAPE=4.51, DICE=0.0934, DPEAKS=54.3, Loss=0.0131]\n"
          ]
        },
        {
          "name": "stdout",
          "output_type": "stream",
          "text": [
            "Epoch [26/50]\n"
          ]
        },
        {
          "name": "stderr",
          "output_type": "stream",
          "text": [
            "Train Epoch 26: 100%|██████████| 154/154 [01:02<00:00,  2.47it/s, WMAPE=6.09, DICE=0.108, DPEAKS=61, Loss=0.00852]\n",
            "Validate Epoch 26: 100%|██████████| 39/39 [00:06<00:00,  6.11it/s, WMAPE=2.93, DICE=0.104, DPEAKS=58.9, Loss=0.009]\n"
          ]
        },
        {
          "name": "stdout",
          "output_type": "stream",
          "text": [
            "Epoch [27/50]\n"
          ]
        },
        {
          "name": "stderr",
          "output_type": "stream",
          "text": [
            "Train Epoch 27: 100%|██████████| 154/154 [01:02<00:00,  2.48it/s, WMAPE=3.28, DICE=0.108, DPEAKS=59.7, Loss=0.0085]\n",
            "Validate Epoch 27: 100%|██████████| 39/39 [00:06<00:00,  6.10it/s, WMAPE=4.16, DICE=0.0982, DPEAKS=60.4, Loss=0.0117]\n"
          ]
        },
        {
          "name": "stdout",
          "output_type": "stream",
          "text": [
            "Epoch [28/50]\n"
          ]
        },
        {
          "name": "stderr",
          "output_type": "stream",
          "text": [
            "Train Epoch 28: 100%|██████████| 154/154 [01:01<00:00,  2.48it/s, WMAPE=nan, DICE=nan, DPEAKS=66.9, Loss=nan]\n",
            "Validate Epoch 28: 100%|██████████| 39/39 [00:06<00:00,  6.48it/s, WMAPE=nan, DICE=nan, DPEAKS=381, Loss=nan]\n"
          ]
        },
        {
          "name": "stdout",
          "output_type": "stream",
          "text": [
            "Epoch [29/50]\n"
          ]
        },
        {
          "name": "stderr",
          "output_type": "stream",
          "text": [
            "Train Epoch 29: 100%|██████████| 154/154 [00:58<00:00,  2.62it/s, WMAPE=3.58, DICE=0.12, DPEAKS=70, Loss=0.00899]\n",
            "Validate Epoch 29: 100%|██████████| 39/39 [00:06<00:00,  6.38it/s, WMAPE=nan, DICE=nan, DPEAKS=381, Loss=nan]\n"
          ]
        },
        {
          "name": "stdout",
          "output_type": "stream",
          "text": [
            "early stopping: 5 epochs without improvement\n",
            "Training complete.\n"
          ]
        },
        {
          "name": "stderr",
          "output_type": "stream",
          "text": [
            "Validate Epoch test: 100%|██████████| 971/971 [03:27<00:00,  4.67it/s, WMAPE=2.2, DICE=0.0909, DPEAKS=49.1, Loss=0.0078]\n"
          ]
        },
        {
          "name": "stdout",
          "output_type": "stream",
          "text": [
            "Partition 4: training decoder\n",
            "Loaded best model from partition 3\n",
            "Epoch [1/50]\n"
          ]
        },
        {
          "name": "stderr",
          "output_type": "stream",
          "text": [
            "Train Epoch 1: 100%|██████████| 154/154 [00:51<00:00,  2.97it/s, WMAPE=3.17, DICE=0.102, DPEAKS=52.8, Loss=0.00809]\n",
            "Validate Epoch 1: 100%|██████████| 39/39 [00:07<00:00,  5.09it/s, WMAPE=2.28, DICE=0.0896, DPEAKS=59.1, Loss=0.00796]\n"
          ]
        },
        {
          "name": "stdout",
          "output_type": "stream",
          "text": [
            "Saving best model\n",
            "Epoch [2/50]\n"
          ]
        },
        {
          "name": "stderr",
          "output_type": "stream",
          "text": [
            "Train Epoch 2: 100%|██████████| 154/154 [00:44<00:00,  3.44it/s, WMAPE=4.3, DICE=0.103, DPEAKS=53.8, Loss=0.00817]\n",
            "Validate Epoch 2: 100%|██████████| 39/39 [00:06<00:00,  6.13it/s, WMAPE=2.41, DICE=0.0884, DPEAKS=48.4, Loss=0.00743]\n"
          ]
        },
        {
          "name": "stdout",
          "output_type": "stream",
          "text": [
            "Saving best model\n",
            "Epoch [3/50]\n"
          ]
        },
        {
          "name": "stderr",
          "output_type": "stream",
          "text": [
            "Train Epoch 3: 100%|██████████| 154/154 [00:44<00:00,  3.43it/s, WMAPE=3.43, DICE=0.101, DPEAKS=51.8, Loss=0.00808]\n",
            "Validate Epoch 3: 100%|██████████| 39/39 [00:06<00:00,  6.13it/s, WMAPE=2.29, DICE=0.0884, DPEAKS=49.1, Loss=0.00733]\n"
          ]
        },
        {
          "name": "stdout",
          "output_type": "stream",
          "text": [
            "Saving best model\n",
            "Epoch [4/50]\n"
          ]
        },
        {
          "name": "stderr",
          "output_type": "stream",
          "text": [
            "Train Epoch 4: 100%|██████████| 154/154 [00:44<00:00,  3.43it/s, WMAPE=3.1, DICE=0.101, DPEAKS=53.6, Loss=0.00803]\n",
            "Validate Epoch 4: 100%|██████████| 39/39 [00:06<00:00,  6.11it/s, WMAPE=2.7, DICE=0.0873, DPEAKS=46, Loss=0.00872]\n"
          ]
        },
        {
          "name": "stdout",
          "output_type": "stream",
          "text": [
            "Epoch [5/50]\n"
          ]
        },
        {
          "name": "stderr",
          "output_type": "stream",
          "text": [
            "Train Epoch 5: 100%|██████████| 154/154 [00:44<00:00,  3.43it/s, WMAPE=4.23, DICE=0.101, DPEAKS=52.9, Loss=0.00799]\n",
            "Validate Epoch 5: 100%|██████████| 39/39 [00:06<00:00,  6.10it/s, WMAPE=2.27, DICE=0.0878, DPEAKS=43.7, Loss=0.00746]\n"
          ]
        },
        {
          "name": "stdout",
          "output_type": "stream",
          "text": [
            "Epoch [6/50]\n"
          ]
        },
        {
          "name": "stderr",
          "output_type": "stream",
          "text": [
            "Train Epoch 6: 100%|██████████| 154/154 [00:44<00:00,  3.43it/s, WMAPE=3.71, DICE=0.101, DPEAKS=51.8, Loss=0.00797]\n",
            "Validate Epoch 6: 100%|██████████| 39/39 [00:06<00:00,  6.10it/s, WMAPE=2.67, DICE=0.088, DPEAKS=44.5, Loss=0.00804]\n"
          ]
        },
        {
          "name": "stdout",
          "output_type": "stream",
          "text": [
            "Epoch [7/50]\n"
          ]
        },
        {
          "name": "stderr",
          "output_type": "stream",
          "text": [
            "Train Epoch 7: 100%|██████████| 154/154 [00:45<00:00,  3.42it/s, WMAPE=3.57, DICE=0.101, DPEAKS=51.6, Loss=0.00805]\n",
            "Validate Epoch 7: 100%|██████████| 39/39 [00:06<00:00,  6.08it/s, WMAPE=2.44, DICE=0.0877, DPEAKS=44.2, Loss=0.00744]\n"
          ]
        },
        {
          "name": "stdout",
          "output_type": "stream",
          "text": [
            "Epoch [8/50]\n"
          ]
        },
        {
          "name": "stderr",
          "output_type": "stream",
          "text": [
            "Train Epoch 8: 100%|██████████| 154/154 [00:44<00:00,  3.44it/s, WMAPE=3.33, DICE=0.1, DPEAKS=52.2, Loss=0.00793]\n",
            "Validate Epoch 8: 100%|██████████| 39/39 [00:06<00:00,  6.08it/s, WMAPE=2.34, DICE=0.087, DPEAKS=43.7, Loss=0.00745]\n"
          ]
        },
        {
          "name": "stdout",
          "output_type": "stream",
          "text": [
            "early stopping: 5 epochs without improvement\n",
            "Training complete.\n"
          ]
        },
        {
          "name": "stderr",
          "output_type": "stream",
          "text": [
            "Validate Epoch test: 100%|██████████| 971/971 [03:28<00:00,  4.65it/s, WMAPE=2.34, DICE=0.0879, DPEAKS=46.3, Loss=0.00738]\n"
          ]
        },
        {
          "name": "stdout",
          "output_type": "stream",
          "text": [
            "Partition 5: training full\n",
            "Loaded best model from partition 4\n",
            "Epoch [1/50]\n"
          ]
        },
        {
          "name": "stderr",
          "output_type": "stream",
          "text": [
            "Train Epoch 1: 100%|██████████| 154/154 [01:08<00:00,  2.25it/s, WMAPE=3.31, DICE=0.104, DPEAKS=57.5, Loss=0.00824]\n",
            "Validate Epoch 1: 100%|██████████| 39/39 [00:07<00:00,  5.08it/s, WMAPE=3.15, DICE=0.0922, DPEAKS=48.6, Loss=0.00976]\n"
          ]
        },
        {
          "name": "stdout",
          "output_type": "stream",
          "text": [
            "Saving best model\n",
            "Epoch [2/50]\n"
          ]
        },
        {
          "name": "stderr",
          "output_type": "stream",
          "text": [
            "Train Epoch 2: 100%|██████████| 154/154 [01:02<00:00,  2.47it/s, WMAPE=3.76, DICE=0.102, DPEAKS=55.4, Loss=0.00802]\n",
            "Validate Epoch 2: 100%|██████████| 39/39 [00:06<00:00,  6.05it/s, WMAPE=2.72, DICE=0.0887, DPEAKS=48.1, Loss=0.0083]\n"
          ]
        },
        {
          "name": "stdout",
          "output_type": "stream",
          "text": [
            "Saving best model\n",
            "Epoch [3/50]\n"
          ]
        },
        {
          "name": "stderr",
          "output_type": "stream",
          "text": [
            "Train Epoch 3: 100%|██████████| 154/154 [01:02<00:00,  2.47it/s, WMAPE=3.28, DICE=0.099, DPEAKS=55.1, Loss=0.00799]\n",
            "Validate Epoch 3: 100%|██████████| 39/39 [00:06<00:00,  6.14it/s, WMAPE=2.65, DICE=0.093, DPEAKS=44.6, Loss=0.00892]\n"
          ]
        },
        {
          "name": "stdout",
          "output_type": "stream",
          "text": [
            "Epoch [4/50]\n"
          ]
        },
        {
          "name": "stderr",
          "output_type": "stream",
          "text": [
            "Train Epoch 4: 100%|██████████| 154/154 [01:01<00:00,  2.48it/s, WMAPE=8.24, DICE=0.1, DPEAKS=56.5, Loss=0.00822]\n",
            "Validate Epoch 4: 100%|██████████| 39/39 [00:06<00:00,  6.11it/s, WMAPE=4.98, DICE=0.0872, DPEAKS=44.9, Loss=0.0149]\n"
          ]
        },
        {
          "name": "stdout",
          "output_type": "stream",
          "text": [
            "Epoch [5/50]\n"
          ]
        },
        {
          "name": "stderr",
          "output_type": "stream",
          "text": [
            "Train Epoch 5: 100%|██████████| 154/154 [01:02<00:00,  2.48it/s, WMAPE=3.54, DICE=0.0967, DPEAKS=52.2, Loss=0.00777]\n",
            "Validate Epoch 5: 100%|██████████| 39/39 [00:06<00:00,  6.12it/s, WMAPE=3.2, DICE=0.0843, DPEAKS=40.7, Loss=0.0096]\n"
          ]
        },
        {
          "name": "stdout",
          "output_type": "stream",
          "text": [
            "Epoch [6/50]\n"
          ]
        },
        {
          "name": "stderr",
          "output_type": "stream",
          "text": [
            "Train Epoch 6: 100%|██████████| 154/154 [01:02<00:00,  2.47it/s, WMAPE=4.68, DICE=0.0955, DPEAKS=52.4, Loss=0.00769]\n",
            "Validate Epoch 6: 100%|██████████| 39/39 [00:06<00:00,  6.07it/s, WMAPE=2.47, DICE=0.0853, DPEAKS=46.7, Loss=0.00775]\n"
          ]
        },
        {
          "name": "stdout",
          "output_type": "stream",
          "text": [
            "Saving best model\n",
            "Epoch [7/50]\n"
          ]
        },
        {
          "name": "stderr",
          "output_type": "stream",
          "text": [
            "Train Epoch 7: 100%|██████████| 154/154 [01:02<00:00,  2.48it/s, WMAPE=3.2, DICE=0.0957, DPEAKS=52.8, Loss=0.0077]\n",
            "Validate Epoch 7: 100%|██████████| 39/39 [00:06<00:00,  6.03it/s, WMAPE=2.98, DICE=0.0845, DPEAKS=44.2, Loss=0.00865]\n"
          ]
        },
        {
          "name": "stdout",
          "output_type": "stream",
          "text": [
            "Epoch [8/50]\n"
          ]
        },
        {
          "name": "stderr",
          "output_type": "stream",
          "text": [
            "Train Epoch 8: 100%|██████████| 154/154 [01:02<00:00,  2.48it/s, WMAPE=3.08, DICE=0.095, DPEAKS=51.9, Loss=0.00779]\n",
            "Validate Epoch 8: 100%|██████████| 39/39 [00:06<00:00,  6.07it/s, WMAPE=2.78, DICE=0.0923, DPEAKS=50.6, Loss=0.00878]\n"
          ]
        },
        {
          "name": "stdout",
          "output_type": "stream",
          "text": [
            "Epoch [9/50]\n"
          ]
        },
        {
          "name": "stderr",
          "output_type": "stream",
          "text": [
            "Train Epoch 9: 100%|██████████| 154/154 [01:02<00:00,  2.47it/s, WMAPE=3.12, DICE=0.093, DPEAKS=51.7, Loss=0.00751]\n",
            "Validate Epoch 9: 100%|██████████| 39/39 [00:06<00:00,  6.11it/s, WMAPE=2.6, DICE=0.0829, DPEAKS=42.7, Loss=0.0083]\n"
          ]
        },
        {
          "name": "stdout",
          "output_type": "stream",
          "text": [
            "Epoch [10/50]\n"
          ]
        },
        {
          "name": "stderr",
          "output_type": "stream",
          "text": [
            "Train Epoch 10: 100%|██████████| 154/154 [01:02<00:00,  2.47it/s, WMAPE=2.94, DICE=0.0914, DPEAKS=50.1, Loss=0.00739]\n",
            "Validate Epoch 10: 100%|██████████| 39/39 [00:06<00:00,  6.12it/s, WMAPE=2.73, DICE=0.0822, DPEAKS=49.9, Loss=0.0088]\n"
          ]
        },
        {
          "name": "stdout",
          "output_type": "stream",
          "text": [
            "Epoch [11/50]\n"
          ]
        },
        {
          "name": "stderr",
          "output_type": "stream",
          "text": [
            "Train Epoch 11: 100%|██████████| 154/154 [01:02<00:00,  2.48it/s, WMAPE=4.89, DICE=0.0928, DPEAKS=50.8, Loss=0.00757]\n",
            "Validate Epoch 11: 100%|██████████| 39/39 [00:06<00:00,  6.14it/s, WMAPE=5.09, DICE=0.0913, DPEAKS=51.4, Loss=0.0137]\n"
          ]
        },
        {
          "name": "stdout",
          "output_type": "stream",
          "text": [
            "early stopping: 5 epochs without improvement\n",
            "Training complete.\n"
          ]
        },
        {
          "name": "stderr",
          "output_type": "stream",
          "text": [
            "Validate Epoch test: 100%|██████████| 971/971 [03:27<00:00,  4.67it/s, WMAPE=2.34, DICE=0.085, DPEAKS=49.4, Loss=0.00759]\n"
          ]
        },
        {
          "name": "stdout",
          "output_type": "stream",
          "text": [
            "Partition 6: training decoder\n",
            "Loaded best model from partition 5\n",
            "Epoch [1/50]\n"
          ]
        },
        {
          "name": "stderr",
          "output_type": "stream",
          "text": [
            "Train Epoch 1: 100%|██████████| 154/154 [00:51<00:00,  2.98it/s, WMAPE=8.44, DICE=0.0928, DPEAKS=49.1, Loss=0.00763]\n",
            "Validate Epoch 1: 100%|██████████| 39/39 [00:07<00:00,  4.98it/s, WMAPE=2.47, DICE=0.0805, DPEAKS=41.8, Loss=0.0074]\n"
          ]
        },
        {
          "name": "stdout",
          "output_type": "stream",
          "text": [
            "Saving best model\n",
            "Epoch [2/50]\n"
          ]
        },
        {
          "name": "stderr",
          "output_type": "stream",
          "text": [
            "Train Epoch 2: 100%|██████████| 154/154 [00:44<00:00,  3.43it/s, WMAPE=3.59, DICE=0.0923, DPEAKS=46.5, Loss=0.00766]\n",
            "Validate Epoch 2: 100%|██████████| 39/39 [00:06<00:00,  6.01it/s, WMAPE=2.44, DICE=0.0817, DPEAKS=42.3, Loss=0.0073]\n"
          ]
        },
        {
          "name": "stdout",
          "output_type": "stream",
          "text": [
            "Saving best model\n",
            "Epoch [3/50]\n"
          ]
        },
        {
          "name": "stderr",
          "output_type": "stream",
          "text": [
            "Train Epoch 3: 100%|██████████| 154/154 [00:44<00:00,  3.45it/s, WMAPE=3.5, DICE=0.0927, DPEAKS=47.4, Loss=0.00775]\n",
            "Validate Epoch 3: 100%|██████████| 39/39 [00:06<00:00,  6.14it/s, WMAPE=2.45, DICE=0.0805, DPEAKS=43.1, Loss=0.00734]\n"
          ]
        },
        {
          "name": "stdout",
          "output_type": "stream",
          "text": [
            "Epoch [4/50]\n"
          ]
        },
        {
          "name": "stderr",
          "output_type": "stream",
          "text": [
            "Train Epoch 4: 100%|██████████| 154/154 [00:44<00:00,  3.44it/s, WMAPE=3.17, DICE=0.0915, DPEAKS=46.5, Loss=0.00752]\n",
            "Validate Epoch 4: 100%|██████████| 39/39 [00:06<00:00,  6.16it/s, WMAPE=2.51, DICE=0.0803, DPEAKS=43.2, Loss=0.00713]\n"
          ]
        },
        {
          "name": "stdout",
          "output_type": "stream",
          "text": [
            "Saving best model\n",
            "Epoch [5/50]\n"
          ]
        },
        {
          "name": "stderr",
          "output_type": "stream",
          "text": [
            "Train Epoch 5: 100%|██████████| 154/154 [00:44<00:00,  3.44it/s, WMAPE=3.14, DICE=0.091, DPEAKS=46.7, Loss=0.00747]\n",
            "Validate Epoch 5: 100%|██████████| 39/39 [00:06<00:00,  6.00it/s, WMAPE=2.28, DICE=0.0797, DPEAKS=43.4, Loss=0.0078]\n"
          ]
        },
        {
          "name": "stdout",
          "output_type": "stream",
          "text": [
            "Epoch [6/50]\n"
          ]
        },
        {
          "name": "stderr",
          "output_type": "stream",
          "text": [
            "Train Epoch 6: 100%|██████████| 154/154 [00:44<00:00,  3.44it/s, WMAPE=3.84, DICE=0.0913, DPEAKS=47.1, Loss=0.0075]\n",
            "Validate Epoch 6: 100%|██████████| 39/39 [00:06<00:00,  6.16it/s, WMAPE=2.5, DICE=0.0799, DPEAKS=40.5, Loss=0.00716]\n"
          ]
        },
        {
          "name": "stdout",
          "output_type": "stream",
          "text": [
            "Epoch [7/50]\n"
          ]
        },
        {
          "name": "stderr",
          "output_type": "stream",
          "text": [
            "Train Epoch 7: 100%|██████████| 154/154 [00:44<00:00,  3.43it/s, WMAPE=3.04, DICE=0.0909, DPEAKS=45.4, Loss=0.00745]\n",
            "Validate Epoch 7: 100%|██████████| 39/39 [00:06<00:00,  6.15it/s, WMAPE=2.43, DICE=0.0792, DPEAKS=42.6, Loss=0.00707]\n"
          ]
        },
        {
          "name": "stdout",
          "output_type": "stream",
          "text": [
            "Saving best model\n",
            "Epoch [8/50]\n"
          ]
        },
        {
          "name": "stderr",
          "output_type": "stream",
          "text": [
            "Train Epoch 8: 100%|██████████| 154/154 [00:44<00:00,  3.46it/s, WMAPE=3.23, DICE=0.0909, DPEAKS=46.8, Loss=0.00745]\n",
            "Validate Epoch 8: 100%|██████████| 39/39 [00:06<00:00,  6.13it/s, WMAPE=2.25, DICE=0.0794, DPEAKS=42.8, Loss=0.00691]\n"
          ]
        },
        {
          "name": "stdout",
          "output_type": "stream",
          "text": [
            "Saving best model\n",
            "Epoch [9/50]\n"
          ]
        },
        {
          "name": "stderr",
          "output_type": "stream",
          "text": [
            "Train Epoch 9: 100%|██████████| 154/154 [00:44<00:00,  3.45it/s, WMAPE=2.91, DICE=0.0908, DPEAKS=46.3, Loss=0.00748]\n",
            "Validate Epoch 9: 100%|██████████| 39/39 [00:06<00:00,  6.02it/s, WMAPE=2.36, DICE=0.0793, DPEAKS=43.1, Loss=0.00692]\n"
          ]
        },
        {
          "name": "stdout",
          "output_type": "stream",
          "text": [
            "Epoch [10/50]\n"
          ]
        },
        {
          "name": "stderr",
          "output_type": "stream",
          "text": [
            "Train Epoch 10: 100%|██████████| 154/154 [00:45<00:00,  3.41it/s, WMAPE=3.73, DICE=0.0906, DPEAKS=47.1, Loss=0.00733]\n",
            "Validate Epoch 10: 100%|██████████| 39/39 [00:06<00:00,  6.13it/s, WMAPE=2.3, DICE=0.0788, DPEAKS=40.4, Loss=0.00694]\n"
          ]
        },
        {
          "name": "stdout",
          "output_type": "stream",
          "text": [
            "Epoch [11/50]\n"
          ]
        },
        {
          "name": "stderr",
          "output_type": "stream",
          "text": [
            "Train Epoch 11: 100%|██████████| 154/154 [00:44<00:00,  3.44it/s, WMAPE=3.57, DICE=0.0902, DPEAKS=45.2, Loss=0.00733]\n",
            "Validate Epoch 11: 100%|██████████| 39/39 [00:06<00:00,  5.97it/s, WMAPE=2.46, DICE=0.0801, DPEAKS=42.7, Loss=0.00742]\n"
          ]
        },
        {
          "name": "stdout",
          "output_type": "stream",
          "text": [
            "Epoch [12/50]\n"
          ]
        },
        {
          "name": "stderr",
          "output_type": "stream",
          "text": [
            "Train Epoch 12: 100%|██████████| 154/154 [00:44<00:00,  3.46it/s, WMAPE=3.04, DICE=0.0905, DPEAKS=47.4, Loss=0.00744]\n",
            "Validate Epoch 12: 100%|██████████| 39/39 [00:06<00:00,  6.11it/s, WMAPE=2.26, DICE=0.0804, DPEAKS=44.1, Loss=0.00725]\n"
          ]
        },
        {
          "name": "stdout",
          "output_type": "stream",
          "text": [
            "Epoch [13/50]\n"
          ]
        },
        {
          "name": "stderr",
          "output_type": "stream",
          "text": [
            "Train Epoch 13: 100%|██████████| 154/154 [00:44<00:00,  3.45it/s, WMAPE=3.38, DICE=0.091, DPEAKS=46.6, Loss=0.00752]\n",
            "Validate Epoch 13: 100%|██████████| 39/39 [00:06<00:00,  6.07it/s, WMAPE=2.36, DICE=0.0792, DPEAKS=43.7, Loss=0.00713]\n"
          ]
        },
        {
          "name": "stdout",
          "output_type": "stream",
          "text": [
            "early stopping: 5 epochs without improvement\n",
            "Training complete.\n"
          ]
        },
        {
          "name": "stderr",
          "output_type": "stream",
          "text": [
            "Validate Epoch test: 100%|██████████| 971/971 [03:27<00:00,  4.68it/s, WMAPE=2.14, DICE=0.0792, DPEAKS=40.5, Loss=0.00673]\n"
          ]
        },
        {
          "name": "stdout",
          "output_type": "stream",
          "text": [
            "Partition 7: training full\n",
            "Loaded best model from partition 6\n",
            "Epoch [1/50]\n"
          ]
        },
        {
          "name": "stderr",
          "output_type": "stream",
          "text": [
            "Train Epoch 1: 100%|██████████| 154/154 [01:08<00:00,  2.26it/s, WMAPE=3.82, DICE=0.0951, DPEAKS=52.8, Loss=0.00787]\n",
            "Validate Epoch 1: 100%|██████████| 39/39 [00:07<00:00,  5.14it/s, WMAPE=5.14, DICE=0.0808, DPEAKS=43.1, Loss=0.0153]\n"
          ]
        },
        {
          "name": "stdout",
          "output_type": "stream",
          "text": [
            "Saving best model\n",
            "Epoch [2/50]\n"
          ]
        },
        {
          "name": "stderr",
          "output_type": "stream",
          "text": [
            "Train Epoch 2: 100%|██████████| 154/154 [01:02<00:00,  2.48it/s, WMAPE=3.82, DICE=0.0933, DPEAKS=51, Loss=0.00751]\n",
            "Validate Epoch 2: 100%|██████████| 39/39 [00:06<00:00,  6.15it/s, WMAPE=8.88, DICE=0.119, DPEAKS=70, Loss=0.0246]\n"
          ]
        },
        {
          "name": "stdout",
          "output_type": "stream",
          "text": [
            "Epoch [3/50]\n"
          ]
        },
        {
          "name": "stderr",
          "output_type": "stream",
          "text": [
            "Train Epoch 3: 100%|██████████| 154/154 [01:02<00:00,  2.48it/s, WMAPE=3.26, DICE=0.0959, DPEAKS=53, Loss=0.0078]\n",
            "Validate Epoch 3: 100%|██████████| 39/39 [00:06<00:00,  6.03it/s, WMAPE=2.56, DICE=0.0859, DPEAKS=53.4, Loss=0.00775]\n"
          ]
        },
        {
          "name": "stdout",
          "output_type": "stream",
          "text": [
            "Saving best model\n",
            "Epoch [4/50]\n"
          ]
        },
        {
          "name": "stderr",
          "output_type": "stream",
          "text": [
            "Train Epoch 4: 100%|██████████| 154/154 [01:02<00:00,  2.47it/s, WMAPE=2.97, DICE=0.0923, DPEAKS=50.7, Loss=0.00758]\n",
            "Validate Epoch 4: 100%|██████████| 39/39 [00:06<00:00,  6.01it/s, WMAPE=5.61, DICE=0.0894, DPEAKS=56.2, Loss=0.0154]\n"
          ]
        },
        {
          "name": "stdout",
          "output_type": "stream",
          "text": [
            "Epoch [5/50]\n"
          ]
        },
        {
          "name": "stderr",
          "output_type": "stream",
          "text": [
            "Train Epoch 5: 100%|██████████| 154/154 [01:01<00:00,  2.49it/s, WMAPE=3.12, DICE=0.0921, DPEAKS=51, Loss=0.00758]\n",
            "Validate Epoch 5: 100%|██████████| 39/39 [00:06<00:00,  5.98it/s, WMAPE=2.47, DICE=0.0877, DPEAKS=56.4, Loss=0.00778]\n"
          ]
        },
        {
          "name": "stdout",
          "output_type": "stream",
          "text": [
            "Epoch [6/50]\n"
          ]
        },
        {
          "name": "stderr",
          "output_type": "stream",
          "text": [
            "Train Epoch 6: 100%|██████████| 154/154 [01:06<00:00,  2.33it/s, WMAPE=2.95, DICE=0.0907, DPEAKS=47.9, Loss=0.00737]\n",
            "Validate Epoch 6: 100%|██████████| 39/39 [00:06<00:00,  5.69it/s, WMAPE=3.69, DICE=0.0788, DPEAKS=46.9, Loss=0.0111]\n"
          ]
        },
        {
          "name": "stdout",
          "output_type": "stream",
          "text": [
            "Epoch [7/50]\n"
          ]
        },
        {
          "name": "stderr",
          "output_type": "stream",
          "text": [
            "Train Epoch 7: 100%|██████████| 154/154 [01:07<00:00,  2.30it/s, WMAPE=3.48, DICE=0.0889, DPEAKS=49.3, Loss=0.00734]\n",
            "Validate Epoch 7: 100%|██████████| 39/39 [00:06<00:00,  5.66it/s, WMAPE=4.05, DICE=0.0857, DPEAKS=53.9, Loss=0.0114]\n"
          ]
        },
        {
          "name": "stdout",
          "output_type": "stream",
          "text": [
            "Epoch [8/50]\n"
          ]
        },
        {
          "name": "stderr",
          "output_type": "stream",
          "text": [
            "Train Epoch 8: 100%|██████████| 154/154 [01:07<00:00,  2.30it/s, WMAPE=3.98, DICE=0.0883, DPEAKS=48, Loss=0.00721]\n",
            "Validate Epoch 8: 100%|██████████| 39/39 [00:06<00:00,  5.60it/s, WMAPE=2.37, DICE=0.081, DPEAKS=53.3, Loss=0.00731]\n"
          ]
        },
        {
          "name": "stdout",
          "output_type": "stream",
          "text": [
            "Saving best model\n",
            "Epoch [9/50]\n"
          ]
        },
        {
          "name": "stderr",
          "output_type": "stream",
          "text": [
            "Train Epoch 9: 100%|██████████| 154/154 [01:07<00:00,  2.29it/s, WMAPE=3.88, DICE=0.089, DPEAKS=49.5, Loss=0.00724]\n",
            "Validate Epoch 9: 100%|██████████| 39/39 [00:06<00:00,  5.72it/s, WMAPE=3.86, DICE=0.0787, DPEAKS=48, Loss=0.0116]\n"
          ]
        },
        {
          "name": "stdout",
          "output_type": "stream",
          "text": [
            "Epoch [10/50]\n"
          ]
        },
        {
          "name": "stderr",
          "output_type": "stream",
          "text": [
            "Train Epoch 10: 100%|██████████| 154/154 [01:07<00:00,  2.29it/s, WMAPE=4.33, DICE=0.0883, DPEAKS=48.7, Loss=0.00735]\n",
            "Validate Epoch 10: 100%|██████████| 39/39 [00:06<00:00,  5.70it/s, WMAPE=5.91, DICE=0.0843, DPEAKS=46.8, Loss=0.0165]\n"
          ]
        },
        {
          "name": "stdout",
          "output_type": "stream",
          "text": [
            "Epoch [11/50]\n"
          ]
        },
        {
          "name": "stderr",
          "output_type": "stream",
          "text": [
            "Train Epoch 11: 100%|██████████| 154/154 [01:06<00:00,  2.31it/s, WMAPE=4.05, DICE=0.0895, DPEAKS=47.9, Loss=0.00736]\n",
            "Validate Epoch 11: 100%|██████████| 39/39 [00:06<00:00,  5.68it/s, WMAPE=2.91, DICE=0.0755, DPEAKS=39.7, Loss=0.00863]\n"
          ]
        },
        {
          "name": "stdout",
          "output_type": "stream",
          "text": [
            "Epoch [12/50]\n"
          ]
        },
        {
          "name": "stderr",
          "output_type": "stream",
          "text": [
            "Train Epoch 12: 100%|██████████| 154/154 [01:06<00:00,  2.33it/s, WMAPE=2.88, DICE=0.0867, DPEAKS=45.7, Loss=0.00733]\n",
            "Validate Epoch 12: 100%|██████████| 39/39 [00:06<00:00,  5.91it/s, WMAPE=2.4, DICE=0.084, DPEAKS=47.6, Loss=0.00742]\n"
          ]
        },
        {
          "name": "stdout",
          "output_type": "stream",
          "text": [
            "Epoch [13/50]\n"
          ]
        },
        {
          "name": "stderr",
          "output_type": "stream",
          "text": [
            "Train Epoch 13: 100%|██████████| 154/154 [01:04<00:00,  2.39it/s, WMAPE=5.32, DICE=0.0867, DPEAKS=48, Loss=0.00733]\n",
            "Validate Epoch 13: 100%|██████████| 39/39 [00:06<00:00,  5.76it/s, WMAPE=2.62, DICE=0.0716, DPEAKS=36.1, Loss=0.00753]\n"
          ]
        },
        {
          "name": "stdout",
          "output_type": "stream",
          "text": [
            "early stopping: 5 epochs without improvement\n",
            "Training complete.\n"
          ]
        },
        {
          "name": "stderr",
          "output_type": "stream",
          "text": [
            "Validate Epoch test: 100%|██████████| 971/971 [03:35<00:00,  4.51it/s, WMAPE=2.34, DICE=0.0811, DPEAKS=52.6, Loss=0.00726]\n"
          ]
        },
        {
          "name": "stdout",
          "output_type": "stream",
          "text": [
            "Partition 8: training decoder\n",
            "Loaded best model from partition 7\n",
            "Epoch [1/50]\n"
          ]
        },
        {
          "name": "stderr",
          "output_type": "stream",
          "text": [
            "Train Epoch 1: 100%|██████████| 154/154 [00:53<00:00,  2.88it/s, WMAPE=3.76, DICE=0.086, DPEAKS=46.5, Loss=0.00732]\n",
            "Validate Epoch 1: 100%|██████████| 39/39 [00:07<00:00,  4.92it/s, WMAPE=2.24, DICE=0.0761, DPEAKS=41.8, Loss=0.007]\n"
          ]
        },
        {
          "name": "stdout",
          "output_type": "stream",
          "text": [
            "Saving best model\n",
            "Epoch [2/50]\n"
          ]
        },
        {
          "name": "stderr",
          "output_type": "stream",
          "text": [
            "Train Epoch 2: 100%|██████████| 154/154 [00:46<00:00,  3.30it/s, WMAPE=3.76, DICE=0.0854, DPEAKS=44.7, Loss=0.00713]\n",
            "Validate Epoch 2: 100%|██████████| 39/39 [00:06<00:00,  5.94it/s, WMAPE=2.41, DICE=0.0771, DPEAKS=42.7, Loss=0.00699]\n"
          ]
        },
        {
          "name": "stdout",
          "output_type": "stream",
          "text": [
            "Saving best model\n",
            "Epoch [3/50]\n"
          ]
        },
        {
          "name": "stderr",
          "output_type": "stream",
          "text": [
            "Train Epoch 3: 100%|██████████| 154/154 [00:44<00:00,  3.43it/s, WMAPE=3.13, DICE=0.0853, DPEAKS=44.3, Loss=0.0071]\n",
            "Validate Epoch 3: 100%|██████████| 39/39 [00:06<00:00,  5.90it/s, WMAPE=2.29, DICE=0.0748, DPEAKS=40.3, Loss=0.00689]\n"
          ]
        },
        {
          "name": "stdout",
          "output_type": "stream",
          "text": [
            "Saving best model\n",
            "Epoch [4/50]\n"
          ]
        },
        {
          "name": "stderr",
          "output_type": "stream",
          "text": [
            "Train Epoch 4: 100%|██████████| 154/154 [00:46<00:00,  3.33it/s, WMAPE=3.16, DICE=0.0849, DPEAKS=44.1, Loss=0.00707]\n",
            "Validate Epoch 4: 100%|██████████| 39/39 [00:06<00:00,  6.16it/s, WMAPE=2.25, DICE=0.0747, DPEAKS=40.8, Loss=0.00667]\n"
          ]
        },
        {
          "name": "stdout",
          "output_type": "stream",
          "text": [
            "Saving best model\n",
            "Epoch [5/50]\n"
          ]
        },
        {
          "name": "stderr",
          "output_type": "stream",
          "text": [
            "Train Epoch 5: 100%|██████████| 154/154 [00:47<00:00,  3.27it/s, WMAPE=3.31, DICE=0.0846, DPEAKS=43.8, Loss=0.00706]\n",
            "Validate Epoch 5: 100%|██████████| 39/39 [00:06<00:00,  5.69it/s, WMAPE=2.35, DICE=0.0749, DPEAKS=43, Loss=0.00727]\n"
          ]
        },
        {
          "name": "stdout",
          "output_type": "stream",
          "text": [
            "Epoch [6/50]\n"
          ]
        },
        {
          "name": "stderr",
          "output_type": "stream",
          "text": [
            "Train Epoch 6: 100%|██████████| 154/154 [00:48<00:00,  3.20it/s, WMAPE=3.4, DICE=0.0849, DPEAKS=44.4, Loss=0.00719]\n",
            "Validate Epoch 6: 100%|██████████| 39/39 [00:06<00:00,  5.71it/s, WMAPE=2.47, DICE=0.0764, DPEAKS=41, Loss=0.00696]\n"
          ]
        },
        {
          "name": "stdout",
          "output_type": "stream",
          "text": [
            "Epoch [7/50]\n"
          ]
        },
        {
          "name": "stderr",
          "output_type": "stream",
          "text": [
            "Train Epoch 7: 100%|██████████| 154/154 [00:48<00:00,  3.19it/s, WMAPE=3.64, DICE=0.0849, DPEAKS=43.8, Loss=0.00717]\n",
            "Validate Epoch 7: 100%|██████████| 39/39 [00:06<00:00,  5.61it/s, WMAPE=2.4, DICE=0.0752, DPEAKS=39.4, Loss=0.00683]\n"
          ]
        },
        {
          "name": "stdout",
          "output_type": "stream",
          "text": [
            "Epoch [8/50]\n"
          ]
        },
        {
          "name": "stderr",
          "output_type": "stream",
          "text": [
            "Train Epoch 8: 100%|██████████| 154/154 [00:48<00:00,  3.20it/s, WMAPE=2.88, DICE=0.0845, DPEAKS=44.5, Loss=0.0071]\n",
            "Validate Epoch 8: 100%|██████████| 39/39 [00:06<00:00,  5.68it/s, WMAPE=2.37, DICE=0.0745, DPEAKS=40.2, Loss=0.00687]\n"
          ]
        },
        {
          "name": "stdout",
          "output_type": "stream",
          "text": [
            "Epoch [9/50]\n"
          ]
        },
        {
          "name": "stderr",
          "output_type": "stream",
          "text": [
            "Train Epoch 9: 100%|██████████| 154/154 [00:48<00:00,  3.20it/s, WMAPE=3.02, DICE=0.0847, DPEAKS=43.7, Loss=0.00721]\n",
            "Validate Epoch 9: 100%|██████████| 39/39 [00:06<00:00,  5.67it/s, WMAPE=2.66, DICE=0.0766, DPEAKS=71.2, Loss=0.00768]\n"
          ]
        },
        {
          "name": "stdout",
          "output_type": "stream",
          "text": [
            "early stopping: 5 epochs without improvement\n",
            "Training complete.\n"
          ]
        },
        {
          "name": "stderr",
          "output_type": "stream",
          "text": [
            "Validate Epoch test: 100%|██████████| 971/971 [03:41<00:00,  4.39it/s, WMAPE=2.16, DICE=0.0746, DPEAKS=38.9, Loss=0.00658]\n"
          ]
        },
        {
          "name": "stdout",
          "output_type": "stream",
          "text": [
            "Partition 9: training full\n",
            "Loaded best model from partition 8\n",
            "Epoch [1/50]\n"
          ]
        },
        {
          "name": "stderr",
          "output_type": "stream",
          "text": [
            "Train Epoch 1: 100%|██████████| 154/154 [01:12<00:00,  2.11it/s, WMAPE=3.59, DICE=0.0879, DPEAKS=47, Loss=0.00738]\n",
            "Validate Epoch 1: 100%|██████████| 39/39 [00:08<00:00,  4.84it/s, WMAPE=6.16, DICE=0.0806, DPEAKS=46.4, Loss=0.0176]\n"
          ]
        },
        {
          "name": "stdout",
          "output_type": "stream",
          "text": [
            "Saving best model\n",
            "Epoch [2/50]\n"
          ]
        },
        {
          "name": "stderr",
          "output_type": "stream",
          "text": [
            "Train Epoch 2: 100%|██████████| 154/154 [01:07<00:00,  2.30it/s, WMAPE=3.8, DICE=0.0865, DPEAKS=45.9, Loss=0.00725]\n",
            "Validate Epoch 2: 100%|██████████| 39/39 [00:06<00:00,  5.71it/s, WMAPE=4.92, DICE=0.0792, DPEAKS=45.7, Loss=0.0142]\n"
          ]
        },
        {
          "name": "stdout",
          "output_type": "stream",
          "text": [
            "Saving best model\n",
            "Epoch [3/50]\n"
          ]
        },
        {
          "name": "stderr",
          "output_type": "stream",
          "text": [
            "Train Epoch 3: 100%|██████████| 154/154 [01:06<00:00,  2.31it/s, WMAPE=5.77, DICE=0.0874, DPEAKS=47.2, Loss=0.00728]\n",
            "Validate Epoch 3: 100%|██████████| 39/39 [00:06<00:00,  5.71it/s, WMAPE=2.26, DICE=0.0792, DPEAKS=53.8, Loss=0.00728]\n"
          ]
        },
        {
          "name": "stdout",
          "output_type": "stream",
          "text": [
            "Saving best model\n",
            "Epoch [4/50]\n"
          ]
        },
        {
          "name": "stderr",
          "output_type": "stream",
          "text": [
            "Train Epoch 4: 100%|██████████| 154/154 [01:06<00:00,  2.30it/s, WMAPE=3.09, DICE=0.085, DPEAKS=46.5, Loss=0.00705]\n",
            "Validate Epoch 4: 100%|██████████| 39/39 [00:06<00:00,  5.76it/s, WMAPE=2.75, DICE=0.0748, DPEAKS=42.5, Loss=0.00845]\n"
          ]
        },
        {
          "name": "stdout",
          "output_type": "stream",
          "text": [
            "Epoch [5/50]\n"
          ]
        },
        {
          "name": "stderr",
          "output_type": "stream",
          "text": [
            "Train Epoch 5: 100%|██████████| 154/154 [01:06<00:00,  2.30it/s, WMAPE=9.68, DICE=0.0852, DPEAKS=45.1, Loss=0.00707]\n",
            "Validate Epoch 5: 100%|██████████| 39/39 [00:06<00:00,  5.73it/s, WMAPE=2.18, DICE=0.0709, DPEAKS=44.6, Loss=0.00713]\n"
          ]
        },
        {
          "name": "stdout",
          "output_type": "stream",
          "text": [
            "Saving best model\n",
            "Epoch [6/50]\n"
          ]
        },
        {
          "name": "stderr",
          "output_type": "stream",
          "text": [
            "Train Epoch 6: 100%|██████████| 154/154 [01:06<00:00,  2.31it/s, WMAPE=4.45, DICE=0.0847, DPEAKS=46.7, Loss=0.00703]\n",
            "Validate Epoch 6: 100%|██████████| 39/39 [00:06<00:00,  5.73it/s, WMAPE=3.64, DICE=0.0778, DPEAKS=46.4, Loss=0.0111]\n"
          ]
        },
        {
          "name": "stdout",
          "output_type": "stream",
          "text": [
            "Epoch [7/50]\n"
          ]
        },
        {
          "name": "stderr",
          "output_type": "stream",
          "text": [
            "Train Epoch 7: 100%|██████████| 154/154 [01:06<00:00,  2.31it/s, WMAPE=2.76, DICE=0.0847, DPEAKS=46, Loss=0.00705]\n",
            "Validate Epoch 7: 100%|██████████| 39/39 [00:06<00:00,  5.65it/s, WMAPE=9.42, DICE=0.0794, DPEAKS=45.3, Loss=0.0279]\n"
          ]
        },
        {
          "name": "stdout",
          "output_type": "stream",
          "text": [
            "Epoch [8/50]\n"
          ]
        },
        {
          "name": "stderr",
          "output_type": "stream",
          "text": [
            "Train Epoch 8: 100%|██████████| 154/154 [01:06<00:00,  2.31it/s, WMAPE=3.99, DICE=0.0836, DPEAKS=44.6, Loss=0.00704]\n",
            "Validate Epoch 8: 100%|██████████| 39/39 [00:06<00:00,  5.92it/s, WMAPE=2.33, DICE=0.0728, DPEAKS=41.4, Loss=0.00719]\n"
          ]
        },
        {
          "name": "stdout",
          "output_type": "stream",
          "text": [
            "Epoch [9/50]\n"
          ]
        },
        {
          "name": "stderr",
          "output_type": "stream",
          "text": [
            "Train Epoch 9: 100%|██████████| 154/154 [01:02<00:00,  2.48it/s, WMAPE=3.44, DICE=0.0829, DPEAKS=43.7, Loss=0.00696]\n",
            "Validate Epoch 9: 100%|██████████| 39/39 [00:06<00:00,  6.17it/s, WMAPE=1.98, DICE=0.0753, DPEAKS=46.2, Loss=0.00644]\n"
          ]
        },
        {
          "name": "stdout",
          "output_type": "stream",
          "text": [
            "Saving best model\n",
            "Epoch [10/50]\n"
          ]
        },
        {
          "name": "stderr",
          "output_type": "stream",
          "text": [
            "Train Epoch 10: 100%|██████████| 154/154 [01:02<00:00,  2.48it/s, WMAPE=3.48, DICE=0.0867, DPEAKS=49.9, Loss=0.00715]\n",
            "Validate Epoch 10: 100%|██████████| 39/39 [00:06<00:00,  6.14it/s, WMAPE=2.1, DICE=0.0721, DPEAKS=46.8, Loss=0.00661]\n"
          ]
        },
        {
          "name": "stdout",
          "output_type": "stream",
          "text": [
            "Epoch [11/50]\n"
          ]
        },
        {
          "name": "stderr",
          "output_type": "stream",
          "text": [
            "Train Epoch 11: 100%|██████████| 154/154 [01:02<00:00,  2.48it/s, WMAPE=8.35, DICE=0.0834, DPEAKS=45.9, Loss=0.00693]\n",
            "Validate Epoch 11: 100%|██████████| 39/39 [00:06<00:00,  6.02it/s, WMAPE=2.46, DICE=0.0703, DPEAKS=41.3, Loss=0.00778]\n"
          ]
        },
        {
          "name": "stdout",
          "output_type": "stream",
          "text": [
            "Epoch [12/50]\n"
          ]
        },
        {
          "name": "stderr",
          "output_type": "stream",
          "text": [
            "Train Epoch 12: 100%|██████████| 154/154 [01:02<00:00,  2.48it/s, WMAPE=2.68, DICE=0.0818, DPEAKS=44.7, Loss=0.00695]\n",
            "Validate Epoch 12: 100%|██████████| 39/39 [00:06<00:00,  6.05it/s, WMAPE=2.05, DICE=0.0723, DPEAKS=38.6, Loss=0.00631]\n"
          ]
        },
        {
          "name": "stdout",
          "output_type": "stream",
          "text": [
            "Saving best model\n",
            "Epoch [13/50]\n"
          ]
        },
        {
          "name": "stderr",
          "output_type": "stream",
          "text": [
            "Train Epoch 13: 100%|██████████| 154/154 [01:02<00:00,  2.48it/s, WMAPE=3.41, DICE=0.0811, DPEAKS=44.1, Loss=0.00678]\n",
            "Validate Epoch 13: 100%|██████████| 39/39 [00:06<00:00,  6.04it/s, WMAPE=6.55, DICE=0.0719, DPEAKS=41.5, Loss=0.0198]\n"
          ]
        },
        {
          "name": "stdout",
          "output_type": "stream",
          "text": [
            "Epoch [14/50]\n"
          ]
        },
        {
          "name": "stderr",
          "output_type": "stream",
          "text": [
            "Train Epoch 14: 100%|██████████| 154/154 [01:01<00:00,  2.49it/s, WMAPE=2.71, DICE=0.0814, DPEAKS=45.1, Loss=0.00678]\n",
            "Validate Epoch 14: 100%|██████████| 39/39 [00:06<00:00,  6.12it/s, WMAPE=4.16, DICE=0.0813, DPEAKS=52.2, Loss=0.0121]\n"
          ]
        },
        {
          "name": "stdout",
          "output_type": "stream",
          "text": [
            "Epoch [15/50]\n"
          ]
        },
        {
          "name": "stderr",
          "output_type": "stream",
          "text": [
            "Train Epoch 15: 100%|██████████| 154/154 [01:02<00:00,  2.48it/s, WMAPE=2.96, DICE=0.0814, DPEAKS=45, Loss=0.00677]\n",
            "Validate Epoch 15: 100%|██████████| 39/39 [00:06<00:00,  6.13it/s, WMAPE=2.8, DICE=0.0657, DPEAKS=41.1, Loss=0.00844]\n"
          ]
        },
        {
          "name": "stdout",
          "output_type": "stream",
          "text": [
            "Epoch [16/50]\n"
          ]
        },
        {
          "name": "stderr",
          "output_type": "stream",
          "text": [
            "Train Epoch 16: 100%|██████████| 154/154 [01:02<00:00,  2.48it/s, WMAPE=2.82, DICE=0.0795, DPEAKS=42.4, Loss=0.00668]\n",
            "Validate Epoch 16: 100%|██████████| 39/39 [00:06<00:00,  6.20it/s, WMAPE=2.17, DICE=0.0723, DPEAKS=39.7, Loss=0.00643]\n"
          ]
        },
        {
          "name": "stdout",
          "output_type": "stream",
          "text": [
            "Epoch [17/50]\n"
          ]
        },
        {
          "name": "stderr",
          "output_type": "stream",
          "text": [
            "Train Epoch 17: 100%|██████████| 154/154 [01:02<00:00,  2.48it/s, WMAPE=2.9, DICE=0.08, DPEAKS=42.5, Loss=0.00672]\n",
            "Validate Epoch 17: 100%|██████████| 39/39 [00:06<00:00,  6.17it/s, WMAPE=2.05, DICE=0.0743, DPEAKS=46.5, Loss=0.00643]\n"
          ]
        },
        {
          "name": "stdout",
          "output_type": "stream",
          "text": [
            "early stopping: 5 epochs without improvement\n",
            "Training complete.\n"
          ]
        },
        {
          "name": "stderr",
          "output_type": "stream",
          "text": [
            "Validate Epoch test: 100%|██████████| 971/971 [03:27<00:00,  4.68it/s, WMAPE=2.07, DICE=0.0726, DPEAKS=39.9, Loss=0.00632]\n"
          ]
        }
      ],
      "source": [
        "many_partitions_v2(1,10,model,criterion,transform=transform)"
      ]
    },
    {
      "cell_type": "code",
      "execution_count": 19,
      "metadata": {},
      "outputs": [
        {
          "name": "stdout",
          "output_type": "stream",
          "text": [
            "Partition 10: training decoder\n",
            "Loaded best model from partition 9\n",
            "Epoch [1/50]\n"
          ]
        },
        {
          "name": "stderr",
          "output_type": "stream",
          "text": [
            "Train Epoch 1: 100%|██████████| 154/154 [00:51<00:00,  2.97it/s, WMAPE=2.92, DICE=0.081, DPEAKS=44.3, Loss=0.00692]\n",
            "Validate Epoch 1: 100%|██████████| 39/39 [00:07<00:00,  5.14it/s, WMAPE=1.95, DICE=0.0711, DPEAKS=38.8, Loss=0.00626]\n"
          ]
        },
        {
          "name": "stdout",
          "output_type": "stream",
          "text": [
            "Saving best model\n",
            "Epoch [2/50]\n"
          ]
        },
        {
          "name": "stderr",
          "output_type": "stream",
          "text": [
            "Train Epoch 2: 100%|██████████| 154/154 [00:45<00:00,  3.40it/s, WMAPE=2.85, DICE=0.0805, DPEAKS=43.5, Loss=0.00695]\n",
            "Validate Epoch 2: 100%|██████████| 39/39 [00:06<00:00,  6.09it/s, WMAPE=2.04, DICE=0.0709, DPEAKS=38.9, Loss=0.00648]\n"
          ]
        },
        {
          "name": "stdout",
          "output_type": "stream",
          "text": [
            "Epoch [3/50]\n"
          ]
        },
        {
          "name": "stderr",
          "output_type": "stream",
          "text": [
            "Train Epoch 3: 100%|██████████| 154/154 [00:45<00:00,  3.35it/s, WMAPE=3.04, DICE=0.0799, DPEAKS=42.9, Loss=0.00682]\n",
            "Validate Epoch 3: 100%|██████████| 39/39 [00:06<00:00,  6.08it/s, WMAPE=1.92, DICE=0.0701, DPEAKS=35.9, Loss=0.00633]\n"
          ]
        },
        {
          "name": "stdout",
          "output_type": "stream",
          "text": [
            "Epoch [4/50]\n"
          ]
        },
        {
          "name": "stderr",
          "output_type": "stream",
          "text": [
            "Train Epoch 4: 100%|██████████| 154/154 [00:45<00:00,  3.37it/s, WMAPE=2.68, DICE=0.0796, DPEAKS=42.6, Loss=0.0069]\n",
            "Validate Epoch 4: 100%|██████████| 39/39 [00:06<00:00,  5.98it/s, WMAPE=2.19, DICE=0.0703, DPEAKS=37.5, Loss=0.00682]\n"
          ]
        },
        {
          "name": "stdout",
          "output_type": "stream",
          "text": [
            "Epoch [5/50]\n"
          ]
        },
        {
          "name": "stderr",
          "output_type": "stream",
          "text": [
            "Train Epoch 5: 100%|██████████| 154/154 [00:46<00:00,  3.31it/s, WMAPE=3.36, DICE=0.0794, DPEAKS=42.1, Loss=0.00679]\n",
            "Validate Epoch 5: 100%|██████████| 39/39 [00:06<00:00,  5.74it/s, WMAPE=2.09, DICE=0.0703, DPEAKS=38, Loss=0.00647]\n"
          ]
        },
        {
          "name": "stdout",
          "output_type": "stream",
          "text": [
            "Epoch [6/50]\n"
          ]
        },
        {
          "name": "stderr",
          "output_type": "stream",
          "text": [
            "Train Epoch 6: 100%|██████████| 154/154 [00:47<00:00,  3.21it/s, WMAPE=2.95, DICE=0.0799, DPEAKS=41.6, Loss=0.00696]\n",
            "Validate Epoch 6: 100%|██████████| 39/39 [00:06<00:00,  5.68it/s, WMAPE=2.17, DICE=0.0691, DPEAKS=36.4, Loss=0.00687]\n"
          ]
        },
        {
          "name": "stdout",
          "output_type": "stream",
          "text": [
            "Epoch [7/50]\n"
          ]
        },
        {
          "name": "stderr",
          "output_type": "stream",
          "text": [
            "Train Epoch 7: 100%|██████████| 154/154 [00:47<00:00,  3.23it/s, WMAPE=3.08, DICE=0.0796, DPEAKS=41.9, Loss=0.0068]\n",
            "Validate Epoch 7: 100%|██████████| 39/39 [00:06<00:00,  5.69it/s, WMAPE=2.33, DICE=0.0692, DPEAKS=38.2, Loss=0.00724]\n"
          ]
        },
        {
          "name": "stdout",
          "output_type": "stream",
          "text": [
            "Epoch [8/50]\n"
          ]
        },
        {
          "name": "stderr",
          "output_type": "stream",
          "text": [
            "Train Epoch 8: 100%|██████████| 154/154 [00:47<00:00,  3.21it/s, WMAPE=3.03, DICE=0.0791, DPEAKS=40.6, Loss=0.00666]\n",
            "Validate Epoch 8: 100%|██████████| 39/39 [00:06<00:00,  5.72it/s, WMAPE=1.9, DICE=0.0697, DPEAKS=40.7, Loss=0.00629]\n"
          ]
        },
        {
          "name": "stdout",
          "output_type": "stream",
          "text": [
            "early stopping: 7 epochs without improvement\n",
            "Training complete.\n"
          ]
        },
        {
          "name": "stderr",
          "output_type": "stream",
          "text": [
            "Validate Epoch test: 100%|██████████| 971/971 [03:41<00:00,  4.38it/s, WMAPE=2.03, DICE=0.0706, DPEAKS=38.1, Loss=0.00625]\n"
          ]
        },
        {
          "name": "stdout",
          "output_type": "stream",
          "text": [
            "Partition 11: training full\n",
            "Loaded best model from partition 10\n",
            "Epoch [1/50]\n"
          ]
        },
        {
          "name": "stderr",
          "output_type": "stream",
          "text": [
            "Train Epoch 1: 100%|██████████| 154/154 [01:13<00:00,  2.09it/s, WMAPE=3.66, DICE=0.0826, DPEAKS=47.5, Loss=0.00716]\n",
            "Validate Epoch 1: 100%|██████████| 39/39 [00:08<00:00,  4.79it/s, WMAPE=3.29, DICE=0.0787, DPEAKS=50.4, Loss=0.0109]\n"
          ]
        },
        {
          "name": "stdout",
          "output_type": "stream",
          "text": [
            "Saving best model\n",
            "Epoch [2/50]\n"
          ]
        },
        {
          "name": "stderr",
          "output_type": "stream",
          "text": [
            "Train Epoch 2: 100%|██████████| 154/154 [01:07<00:00,  2.29it/s, WMAPE=4.02, DICE=0.0814, DPEAKS=45.5, Loss=0.00704]\n",
            "Validate Epoch 2: 100%|██████████| 39/39 [00:06<00:00,  5.68it/s, WMAPE=3.27, DICE=0.0724, DPEAKS=41.5, Loss=0.0103]\n"
          ]
        },
        {
          "name": "stdout",
          "output_type": "stream",
          "text": [
            "Saving best model\n",
            "Epoch [3/50]\n"
          ]
        },
        {
          "name": "stderr",
          "output_type": "stream",
          "text": [
            "Train Epoch 3: 100%|██████████| 154/154 [01:07<00:00,  2.29it/s, WMAPE=2.83, DICE=0.0808, DPEAKS=45.7, Loss=0.00709]\n",
            "Validate Epoch 3: 100%|██████████| 39/39 [00:06<00:00,  5.58it/s, WMAPE=1.95, DICE=0.0661, DPEAKS=35.9, Loss=0.00666]\n"
          ]
        },
        {
          "name": "stdout",
          "output_type": "stream",
          "text": [
            "Saving best model\n",
            "Epoch [4/50]\n"
          ]
        },
        {
          "name": "stderr",
          "output_type": "stream",
          "text": [
            "Train Epoch 4: 100%|██████████| 154/154 [01:07<00:00,  2.29it/s, WMAPE=3.45, DICE=0.0818, DPEAKS=44.5, Loss=0.007]\n",
            "Validate Epoch 4: 100%|██████████| 39/39 [00:06<00:00,  5.70it/s, WMAPE=3.59, DICE=0.0738, DPEAKS=41.8, Loss=0.0105]\n"
          ]
        },
        {
          "name": "stdout",
          "output_type": "stream",
          "text": [
            "Epoch [5/50]\n"
          ]
        },
        {
          "name": "stderr",
          "output_type": "stream",
          "text": [
            "Train Epoch 5: 100%|██████████| 154/154 [01:07<00:00,  2.29it/s, WMAPE=5.8, DICE=0.0805, DPEAKS=44.2, Loss=0.00701]\n",
            "Validate Epoch 5: 100%|██████████| 39/39 [00:06<00:00,  5.65it/s, WMAPE=2.42, DICE=0.0696, DPEAKS=38.3, Loss=0.00739]\n"
          ]
        },
        {
          "name": "stdout",
          "output_type": "stream",
          "text": [
            "Epoch [6/50]\n"
          ]
        },
        {
          "name": "stderr",
          "output_type": "stream",
          "text": [
            "Train Epoch 6: 100%|██████████| 154/154 [01:07<00:00,  2.29it/s, WMAPE=3.19, DICE=0.0788, DPEAKS=42.2, Loss=0.00688]\n",
            "Validate Epoch 6: 100%|██████████| 39/39 [00:06<00:00,  5.73it/s, WMAPE=4.38, DICE=0.0781, DPEAKS=43.6, Loss=0.0125]\n"
          ]
        },
        {
          "name": "stdout",
          "output_type": "stream",
          "text": [
            "Epoch [7/50]\n"
          ]
        },
        {
          "name": "stderr",
          "output_type": "stream",
          "text": [
            "Train Epoch 7: 100%|██████████| 154/154 [01:06<00:00,  2.30it/s, WMAPE=3.37, DICE=0.0843, DPEAKS=47.6, Loss=0.00716]\n",
            "Validate Epoch 7: 100%|██████████| 39/39 [00:06<00:00,  6.13it/s, WMAPE=2.85, DICE=0.0755, DPEAKS=42.1, Loss=0.00839]\n"
          ]
        },
        {
          "name": "stdout",
          "output_type": "stream",
          "text": [
            "Epoch [8/50]\n"
          ]
        },
        {
          "name": "stderr",
          "output_type": "stream",
          "text": [
            "Train Epoch 8: 100%|██████████| 154/154 [01:02<00:00,  2.47it/s, WMAPE=2.7, DICE=0.0796, DPEAKS=45.5, Loss=0.00693]\n",
            "Validate Epoch 8: 100%|██████████| 39/39 [00:06<00:00,  5.98it/s, WMAPE=2.38, DICE=0.0696, DPEAKS=45.7, Loss=0.00767]\n"
          ]
        },
        {
          "name": "stdout",
          "output_type": "stream",
          "text": [
            "early stopping: 5 epochs without improvement\n",
            "Training complete.\n"
          ]
        },
        {
          "name": "stderr",
          "output_type": "stream",
          "text": [
            "Validate Epoch test: 100%|██████████| 971/971 [03:28<00:00,  4.66it/s, WMAPE=1.98, DICE=0.0662, DPEAKS=36.7, Loss=0.0067]\n"
          ]
        },
        {
          "name": "stdout",
          "output_type": "stream",
          "text": [
            "Partition 12: training decoder\n",
            "Loaded best model from partition 11\n",
            "Epoch [1/50]\n"
          ]
        },
        {
          "name": "stderr",
          "output_type": "stream",
          "text": [
            "Train Epoch 1: 100%|██████████| 154/154 [00:51<00:00,  2.97it/s, WMAPE=4.52, DICE=0.0779, DPEAKS=41.9, Loss=0.00676]\n",
            "Validate Epoch 1: 100%|██████████| 39/39 [00:07<00:00,  5.01it/s, WMAPE=1.93, DICE=0.0644, DPEAKS=35.4, Loss=0.006]\n"
          ]
        },
        {
          "name": "stdout",
          "output_type": "stream",
          "text": [
            "Saving best model\n",
            "Epoch [2/50]\n"
          ]
        },
        {
          "name": "stderr",
          "output_type": "stream",
          "text": [
            "Train Epoch 2: 100%|██████████| 154/154 [00:44<00:00,  3.44it/s, WMAPE=3.23, DICE=0.0777, DPEAKS=41.3, Loss=0.00671]\n",
            "Validate Epoch 2: 100%|██████████| 39/39 [00:06<00:00,  6.13it/s, WMAPE=1.85, DICE=0.063, DPEAKS=32, Loss=0.00591]\n"
          ]
        },
        {
          "name": "stdout",
          "output_type": "stream",
          "text": [
            "Saving best model\n",
            "Epoch [3/50]\n"
          ]
        },
        {
          "name": "stderr",
          "output_type": "stream",
          "text": [
            "Train Epoch 3: 100%|██████████| 154/154 [00:44<00:00,  3.44it/s, WMAPE=3.63, DICE=0.0769, DPEAKS=38.4, Loss=0.00653]\n",
            "Validate Epoch 3: 100%|██████████| 39/39 [00:06<00:00,  6.08it/s, WMAPE=1.86, DICE=0.0623, DPEAKS=30.7, Loss=0.00588]\n"
          ]
        },
        {
          "name": "stdout",
          "output_type": "stream",
          "text": [
            "Saving best model\n",
            "Epoch [4/50]\n"
          ]
        },
        {
          "name": "stderr",
          "output_type": "stream",
          "text": [
            "Train Epoch 4: 100%|██████████| 154/154 [00:44<00:00,  3.43it/s, WMAPE=3.24, DICE=0.0768, DPEAKS=40.7, Loss=0.00662]\n",
            "Validate Epoch 4: 100%|██████████| 39/39 [00:06<00:00,  5.98it/s, WMAPE=1.96, DICE=0.0628, DPEAKS=30.5, Loss=0.00586]\n"
          ]
        },
        {
          "name": "stdout",
          "output_type": "stream",
          "text": [
            "Saving best model\n",
            "Epoch [5/50]\n"
          ]
        },
        {
          "name": "stderr",
          "output_type": "stream",
          "text": [
            "Train Epoch 5: 100%|██████████| 154/154 [00:44<00:00,  3.43it/s, WMAPE=3.08, DICE=0.0774, DPEAKS=40.2, Loss=0.00671]\n",
            "Validate Epoch 5: 100%|██████████| 39/39 [00:06<00:00,  6.18it/s, WMAPE=1.78, DICE=0.0635, DPEAKS=31.3, Loss=0.00599]\n"
          ]
        },
        {
          "name": "stdout",
          "output_type": "stream",
          "text": [
            "Epoch [6/50]\n"
          ]
        },
        {
          "name": "stderr",
          "output_type": "stream",
          "text": [
            "Train Epoch 6: 100%|██████████| 154/154 [00:44<00:00,  3.44it/s, WMAPE=3.39, DICE=0.077, DPEAKS=40.2, Loss=0.00662]\n",
            "Validate Epoch 6: 100%|██████████| 39/39 [00:06<00:00,  6.08it/s, WMAPE=1.95, DICE=0.0626, DPEAKS=32.6, Loss=0.00584]\n"
          ]
        },
        {
          "name": "stdout",
          "output_type": "stream",
          "text": [
            "Saving best model\n",
            "Epoch [7/50]\n"
          ]
        },
        {
          "name": "stderr",
          "output_type": "stream",
          "text": [
            "Train Epoch 7: 100%|██████████| 154/154 [00:44<00:00,  3.44it/s, WMAPE=2.8, DICE=0.0767, DPEAKS=38.6, Loss=0.00679]\n",
            "Validate Epoch 7: 100%|██████████| 39/39 [00:06<00:00,  6.15it/s, WMAPE=2.14, DICE=0.063, DPEAKS=35.4, Loss=0.00643]\n"
          ]
        },
        {
          "name": "stdout",
          "output_type": "stream",
          "text": [
            "Epoch [8/50]\n"
          ]
        },
        {
          "name": "stderr",
          "output_type": "stream",
          "text": [
            "Train Epoch 8: 100%|██████████| 154/154 [00:44<00:00,  3.44it/s, WMAPE=2.63, DICE=0.0766, DPEAKS=39.8, Loss=0.00646]\n",
            "Validate Epoch 8: 100%|██████████| 39/39 [00:06<00:00,  6.00it/s, WMAPE=1.87, DICE=0.0623, DPEAKS=30.2, Loss=0.00585]\n"
          ]
        },
        {
          "name": "stdout",
          "output_type": "stream",
          "text": [
            "Epoch [9/50]\n"
          ]
        },
        {
          "name": "stderr",
          "output_type": "stream",
          "text": [
            "Train Epoch 9: 100%|██████████| 154/154 [00:44<00:00,  3.45it/s, WMAPE=3.51, DICE=0.0764, DPEAKS=38.7, Loss=0.00657]\n",
            "Validate Epoch 9: 100%|██████████| 39/39 [00:06<00:00,  6.02it/s, WMAPE=2.06, DICE=0.0621, DPEAKS=31, Loss=0.00648]\n"
          ]
        },
        {
          "name": "stdout",
          "output_type": "stream",
          "text": [
            "Epoch [10/50]\n"
          ]
        },
        {
          "name": "stderr",
          "output_type": "stream",
          "text": [
            "Train Epoch 10: 100%|██████████| 154/154 [00:44<00:00,  3.44it/s, WMAPE=2.45, DICE=0.0765, DPEAKS=38.6, Loss=0.00653]\n",
            "Validate Epoch 10: 100%|██████████| 39/39 [00:06<00:00,  5.97it/s, WMAPE=1.99, DICE=0.0627, DPEAKS=36.6, Loss=0.00622]\n"
          ]
        },
        {
          "name": "stdout",
          "output_type": "stream",
          "text": [
            "Epoch [11/50]\n"
          ]
        },
        {
          "name": "stderr",
          "output_type": "stream",
          "text": [
            "Train Epoch 11: 100%|██████████| 154/154 [00:44<00:00,  3.44it/s, WMAPE=3.89, DICE=0.0764, DPEAKS=39.2, Loss=0.00648]\n",
            "Validate Epoch 11: 100%|██████████| 39/39 [00:06<00:00,  6.04it/s, WMAPE=2.23, DICE=0.0627, DPEAKS=33, Loss=0.00671]\n"
          ]
        },
        {
          "name": "stdout",
          "output_type": "stream",
          "text": [
            "early stopping: 5 epochs without improvement\n",
            "Training complete.\n"
          ]
        },
        {
          "name": "stderr",
          "output_type": "stream",
          "text": [
            "Validate Epoch test: 100%|██████████| 971/971 [03:27<00:00,  4.67it/s, WMAPE=1.95, DICE=0.0625, DPEAKS=33.4, Loss=0.00584]\n"
          ]
        },
        {
          "name": "stdout",
          "output_type": "stream",
          "text": [
            "Partition 13: training full\n",
            "Loaded best model from partition 12\n",
            "Epoch [1/50]\n"
          ]
        },
        {
          "name": "stderr",
          "output_type": "stream",
          "text": [
            "Train Epoch 1: 100%|██████████| 154/154 [01:09<00:00,  2.22it/s, WMAPE=3.01, DICE=0.0815, DPEAKS=45.1, Loss=0.00715]\n",
            "Validate Epoch 1: 100%|██████████| 39/39 [00:07<00:00,  5.03it/s, WMAPE=3.46, DICE=0.0717, DPEAKS=44, Loss=0.0099]\n"
          ]
        },
        {
          "name": "stdout",
          "output_type": "stream",
          "text": [
            "Saving best model\n",
            "Epoch [2/50]\n"
          ]
        },
        {
          "name": "stderr",
          "output_type": "stream",
          "text": [
            "Train Epoch 2: 100%|██████████| 154/154 [01:02<00:00,  2.48it/s, WMAPE=2.91, DICE=0.0797, DPEAKS=43.5, Loss=0.00688]\n",
            "Validate Epoch 2: 100%|██████████| 39/39 [00:06<00:00,  6.10it/s, WMAPE=2.03, DICE=0.0659, DPEAKS=38, Loss=0.00632]\n"
          ]
        },
        {
          "name": "stdout",
          "output_type": "stream",
          "text": [
            "Saving best model\n",
            "Epoch [3/50]\n"
          ]
        },
        {
          "name": "stderr",
          "output_type": "stream",
          "text": [
            "Train Epoch 3: 100%|██████████| 154/154 [01:02<00:00,  2.48it/s, WMAPE=2.72, DICE=0.0791, DPEAKS=42.6, Loss=0.00686]\n",
            "Validate Epoch 3: 100%|██████████| 39/39 [00:06<00:00,  6.06it/s, WMAPE=2.59, DICE=0.067, DPEAKS=37.5, Loss=0.00786]\n"
          ]
        },
        {
          "name": "stdout",
          "output_type": "stream",
          "text": [
            "Epoch [4/50]\n"
          ]
        },
        {
          "name": "stderr",
          "output_type": "stream",
          "text": [
            "Train Epoch 4: 100%|██████████| 154/154 [01:02<00:00,  2.48it/s, WMAPE=2.66, DICE=0.079, DPEAKS=41.5, Loss=0.00679]\n",
            "Validate Epoch 4: 100%|██████████| 39/39 [00:06<00:00,  6.07it/s, WMAPE=4.37, DICE=0.0787, DPEAKS=58.3, Loss=0.0133]\n"
          ]
        },
        {
          "name": "stdout",
          "output_type": "stream",
          "text": [
            "Epoch [5/50]\n"
          ]
        },
        {
          "name": "stderr",
          "output_type": "stream",
          "text": [
            "Train Epoch 5: 100%|██████████| 154/154 [01:02<00:00,  2.48it/s, WMAPE=2.89, DICE=0.0824, DPEAKS=47.3, Loss=0.00694]\n",
            "Validate Epoch 5: 100%|██████████| 39/39 [00:06<00:00,  6.13it/s, WMAPE=2.15, DICE=0.0664, DPEAKS=36.7, Loss=0.00632]\n"
          ]
        },
        {
          "name": "stdout",
          "output_type": "stream",
          "text": [
            "Saving best model\n",
            "Epoch [6/50]\n"
          ]
        },
        {
          "name": "stderr",
          "output_type": "stream",
          "text": [
            "Train Epoch 6: 100%|██████████| 154/154 [01:02<00:00,  2.47it/s, WMAPE=2.68, DICE=0.0785, DPEAKS=43.8, Loss=0.00669]\n",
            "Validate Epoch 6: 100%|██████████| 39/39 [00:06<00:00,  6.13it/s, WMAPE=2.53, DICE=0.0731, DPEAKS=40.6, Loss=0.00725]\n"
          ]
        },
        {
          "name": "stdout",
          "output_type": "stream",
          "text": [
            "Epoch [7/50]\n"
          ]
        },
        {
          "name": "stderr",
          "output_type": "stream",
          "text": [
            "Train Epoch 7: 100%|██████████| 154/154 [01:02<00:00,  2.48it/s, WMAPE=11, DICE=0.0788, DPEAKS=44.8, Loss=0.00679]\n",
            "Validate Epoch 7: 100%|██████████| 39/39 [00:06<00:00,  6.14it/s, WMAPE=2.58, DICE=0.07, DPEAKS=37.9, Loss=0.00791]\n"
          ]
        },
        {
          "name": "stdout",
          "output_type": "stream",
          "text": [
            "Epoch [8/50]\n"
          ]
        },
        {
          "name": "stderr",
          "output_type": "stream",
          "text": [
            "Train Epoch 8: 100%|██████████| 154/154 [01:02<00:00,  2.47it/s, WMAPE=2.83, DICE=0.0771, DPEAKS=39.6, Loss=0.00665]\n",
            "Validate Epoch 8: 100%|██████████| 39/39 [00:06<00:00,  6.16it/s, WMAPE=2.43, DICE=0.0637, DPEAKS=35.5, Loss=0.00727]\n"
          ]
        },
        {
          "name": "stdout",
          "output_type": "stream",
          "text": [
            "Epoch [9/50]\n"
          ]
        },
        {
          "name": "stderr",
          "output_type": "stream",
          "text": [
            "Train Epoch 9: 100%|██████████| 154/154 [01:01<00:00,  2.49it/s, WMAPE=2.45, DICE=0.0775, DPEAKS=42, Loss=0.00667]\n",
            "Validate Epoch 9: 100%|██████████| 39/39 [00:06<00:00,  6.02it/s, WMAPE=3.87, DICE=0.0676, DPEAKS=34, Loss=0.0112]\n"
          ]
        },
        {
          "name": "stdout",
          "output_type": "stream",
          "text": [
            "Epoch [10/50]\n"
          ]
        },
        {
          "name": "stderr",
          "output_type": "stream",
          "text": [
            "Train Epoch 10: 100%|██████████| 154/154 [01:02<00:00,  2.48it/s, WMAPE=3.59, DICE=0.0777, DPEAKS=42.9, Loss=0.00668]\n",
            "Validate Epoch 10: 100%|██████████| 39/39 [00:06<00:00,  6.16it/s, WMAPE=1.9, DICE=0.0642, DPEAKS=35.2, Loss=0.00592]\n"
          ]
        },
        {
          "name": "stdout",
          "output_type": "stream",
          "text": [
            "Saving best model\n",
            "Epoch [11/50]\n"
          ]
        },
        {
          "name": "stderr",
          "output_type": "stream",
          "text": [
            "Train Epoch 11: 100%|██████████| 154/154 [01:02<00:00,  2.48it/s, WMAPE=2.78, DICE=0.0766, DPEAKS=42.3, Loss=0.00661]\n",
            "Validate Epoch 11: 100%|██████████| 39/39 [00:06<00:00,  6.13it/s, WMAPE=2.11, DICE=0.0661, DPEAKS=41.9, Loss=0.00622]\n"
          ]
        },
        {
          "name": "stdout",
          "output_type": "stream",
          "text": [
            "Epoch [12/50]\n"
          ]
        },
        {
          "name": "stderr",
          "output_type": "stream",
          "text": [
            "Train Epoch 12: 100%|██████████| 154/154 [01:02<00:00,  2.48it/s, WMAPE=2.97, DICE=0.0781, DPEAKS=41.8, Loss=0.00663]\n",
            "Validate Epoch 12: 100%|██████████| 39/39 [00:06<00:00,  6.15it/s, WMAPE=3.8, DICE=0.0631, DPEAKS=32.4, Loss=0.0117]\n"
          ]
        },
        {
          "name": "stdout",
          "output_type": "stream",
          "text": [
            "Epoch [13/50]\n"
          ]
        },
        {
          "name": "stderr",
          "output_type": "stream",
          "text": [
            "Train Epoch 13: 100%|██████████| 154/154 [01:02<00:00,  2.48it/s, WMAPE=2.84, DICE=0.0781, DPEAKS=43.9, Loss=0.00681]\n",
            "Validate Epoch 13: 100%|██████████| 39/39 [00:06<00:00,  6.03it/s, WMAPE=4.53, DICE=0.0744, DPEAKS=44.1, Loss=0.0127]\n"
          ]
        },
        {
          "name": "stdout",
          "output_type": "stream",
          "text": [
            "Epoch [14/50]\n"
          ]
        },
        {
          "name": "stderr",
          "output_type": "stream",
          "text": [
            "Train Epoch 14: 100%|██████████| 154/154 [01:02<00:00,  2.48it/s, WMAPE=3.12, DICE=0.0772, DPEAKS=45.8, Loss=0.00674]\n",
            "Validate Epoch 14: 100%|██████████| 39/39 [00:06<00:00,  6.09it/s, WMAPE=2.06, DICE=0.0645, DPEAKS=35.3, Loss=0.00608]\n"
          ]
        },
        {
          "name": "stdout",
          "output_type": "stream",
          "text": [
            "Epoch [15/50]\n"
          ]
        },
        {
          "name": "stderr",
          "output_type": "stream",
          "text": [
            "Train Epoch 15: 100%|██████████| 154/154 [01:02<00:00,  2.48it/s, WMAPE=2.83, DICE=0.0774, DPEAKS=41.9, Loss=0.00674]\n",
            "Validate Epoch 15: 100%|██████████| 39/39 [00:06<00:00,  6.03it/s, WMAPE=5.14, DICE=0.0681, DPEAKS=44.1, Loss=0.0151]\n"
          ]
        },
        {
          "name": "stdout",
          "output_type": "stream",
          "text": [
            "early stopping: 5 epochs without improvement\n",
            "Training complete.\n"
          ]
        },
        {
          "name": "stderr",
          "output_type": "stream",
          "text": [
            "Validate Epoch test: 100%|██████████| 971/971 [03:28<00:00,  4.67it/s, WMAPE=1.89, DICE=0.0643, DPEAKS=35.7, Loss=0.00598]\n"
          ]
        },
        {
          "name": "stdout",
          "output_type": "stream",
          "text": [
            "Partition 14: training decoder\n",
            "Loaded best model from partition 13\n",
            "Epoch [1/50]\n"
          ]
        },
        {
          "name": "stderr",
          "output_type": "stream",
          "text": [
            "Train Epoch 1: 100%|██████████| 154/154 [00:51<00:00,  2.98it/s, WMAPE=3.73, DICE=0.0753, DPEAKS=42.4, Loss=0.00659]\n",
            "Validate Epoch 1: 100%|██████████| 39/39 [00:07<00:00,  4.98it/s, WMAPE=2.03, DICE=0.0616, DPEAKS=32.7, Loss=0.00605]\n"
          ]
        },
        {
          "name": "stdout",
          "output_type": "stream",
          "text": [
            "Saving best model\n",
            "Epoch [2/50]\n"
          ]
        },
        {
          "name": "stderr",
          "output_type": "stream",
          "text": [
            "Train Epoch 2: 100%|██████████| 154/154 [00:44<00:00,  3.44it/s, WMAPE=2.74, DICE=0.075, DPEAKS=38.2, Loss=0.00659]\n",
            "Validate Epoch 2: 100%|██████████| 39/39 [00:06<00:00,  6.12it/s, WMAPE=2.03, DICE=0.0624, DPEAKS=37, Loss=0.006]\n"
          ]
        },
        {
          "name": "stdout",
          "output_type": "stream",
          "text": [
            "Saving best model\n",
            "Epoch [3/50]\n"
          ]
        },
        {
          "name": "stderr",
          "output_type": "stream",
          "text": [
            "Train Epoch 3: 100%|██████████| 154/154 [00:44<00:00,  3.45it/s, WMAPE=2.84, DICE=0.0746, DPEAKS=40.4, Loss=0.00655]\n",
            "Validate Epoch 3: 100%|██████████| 39/39 [00:06<00:00,  6.12it/s, WMAPE=1.89, DICE=0.061, DPEAKS=31, Loss=0.0057]\n"
          ]
        },
        {
          "name": "stdout",
          "output_type": "stream",
          "text": [
            "Saving best model\n",
            "Epoch [4/50]\n"
          ]
        },
        {
          "name": "stderr",
          "output_type": "stream",
          "text": [
            "Train Epoch 4: 100%|██████████| 154/154 [00:44<00:00,  3.45it/s, WMAPE=2.86, DICE=0.0746, DPEAKS=39.9, Loss=0.00655]\n",
            "Validate Epoch 4: 100%|██████████| 39/39 [00:06<00:00,  6.14it/s, WMAPE=1.86, DICE=0.06, DPEAKS=29.5, Loss=0.00572]\n"
          ]
        },
        {
          "name": "stdout",
          "output_type": "stream",
          "text": [
            "Epoch [5/50]\n"
          ]
        },
        {
          "name": "stderr",
          "output_type": "stream",
          "text": [
            "Train Epoch 5: 100%|██████████| 154/154 [00:44<00:00,  3.43it/s, WMAPE=2.82, DICE=0.0743, DPEAKS=37.9, Loss=0.00645]\n",
            "Validate Epoch 5: 100%|██████████| 39/39 [00:06<00:00,  6.12it/s, WMAPE=1.85, DICE=0.0609, DPEAKS=38.5, Loss=0.00579]\n"
          ]
        },
        {
          "name": "stdout",
          "output_type": "stream",
          "text": [
            "Epoch [6/50]\n"
          ]
        },
        {
          "name": "stderr",
          "output_type": "stream",
          "text": [
            "Train Epoch 6: 100%|██████████| 154/154 [00:44<00:00,  3.44it/s, WMAPE=3.3, DICE=0.0745, DPEAKS=39.9, Loss=0.00647]\n",
            "Validate Epoch 6: 100%|██████████| 39/39 [00:06<00:00,  6.17it/s, WMAPE=2.01, DICE=0.0607, DPEAKS=33.3, Loss=0.00601]\n"
          ]
        },
        {
          "name": "stdout",
          "output_type": "stream",
          "text": [
            "Epoch [7/50]\n"
          ]
        },
        {
          "name": "stderr",
          "output_type": "stream",
          "text": [
            "Train Epoch 7: 100%|██████████| 154/154 [00:44<00:00,  3.45it/s, WMAPE=3.03, DICE=0.0744, DPEAKS=39.9, Loss=0.00648]\n",
            "Validate Epoch 7: 100%|██████████| 39/39 [00:06<00:00,  6.05it/s, WMAPE=1.95, DICE=0.0604, DPEAKS=31.3, Loss=0.00585]\n"
          ]
        },
        {
          "name": "stdout",
          "output_type": "stream",
          "text": [
            "Epoch [8/50]\n"
          ]
        },
        {
          "name": "stderr",
          "output_type": "stream",
          "text": [
            "Train Epoch 8: 100%|██████████| 154/154 [00:44<00:00,  3.43it/s, WMAPE=3.37, DICE=0.0745, DPEAKS=37.8, Loss=0.00654]\n",
            "Validate Epoch 8: 100%|██████████| 39/39 [00:06<00:00,  6.05it/s, WMAPE=2.02, DICE=0.062, DPEAKS=34, Loss=0.00597]\n"
          ]
        },
        {
          "name": "stdout",
          "output_type": "stream",
          "text": [
            "early stopping: 5 epochs without improvement\n",
            "Training complete.\n"
          ]
        },
        {
          "name": "stderr",
          "output_type": "stream",
          "text": [
            "Validate Epoch test: 100%|██████████| 971/971 [03:28<00:00,  4.66it/s, WMAPE=1.88, DICE=0.0612, DPEAKS=30.9, Loss=0.00566]\n"
          ]
        },
        {
          "name": "stdout",
          "output_type": "stream",
          "text": [
            "Partition 15: training full\n",
            "Loaded best model from partition 14\n",
            "Epoch [1/50]\n"
          ]
        },
        {
          "name": "stderr",
          "output_type": "stream",
          "text": [
            "Train Epoch 1: 100%|██████████| 154/154 [01:09<00:00,  2.22it/s, WMAPE=3.25, DICE=0.078, DPEAKS=45.4, Loss=0.00693]\n",
            "Validate Epoch 1: 100%|██████████| 39/39 [00:07<00:00,  5.04it/s, WMAPE=2.41, DICE=0.0652, DPEAKS=38.4, Loss=0.0071]\n"
          ]
        },
        {
          "name": "stdout",
          "output_type": "stream",
          "text": [
            "Saving best model\n",
            "Epoch [2/50]\n"
          ]
        },
        {
          "name": "stderr",
          "output_type": "stream",
          "text": [
            "Train Epoch 2: 100%|██████████| 154/154 [01:01<00:00,  2.49it/s, WMAPE=2.66, DICE=0.0766, DPEAKS=42.7, Loss=0.0068]\n",
            "Validate Epoch 2: 100%|██████████| 39/39 [00:06<00:00,  6.12it/s, WMAPE=5.02, DICE=0.0797, DPEAKS=59, Loss=0.0137]\n"
          ]
        },
        {
          "name": "stdout",
          "output_type": "stream",
          "text": [
            "Epoch [3/50]\n"
          ]
        },
        {
          "name": "stderr",
          "output_type": "stream",
          "text": [
            "Train Epoch 3: 100%|██████████| 154/154 [01:02<00:00,  2.47it/s, WMAPE=3.72, DICE=0.0821, DPEAKS=44.7, Loss=0.00699]\n",
            "Validate Epoch 3: 100%|██████████| 39/39 [00:06<00:00,  6.07it/s, WMAPE=1.88, DICE=0.0632, DPEAKS=30.7, Loss=0.00612]\n"
          ]
        },
        {
          "name": "stdout",
          "output_type": "stream",
          "text": [
            "Saving best model\n",
            "Epoch [4/50]\n"
          ]
        },
        {
          "name": "stderr",
          "output_type": "stream",
          "text": [
            "Train Epoch 4: 100%|██████████| 154/154 [01:02<00:00,  2.47it/s, WMAPE=3.05, DICE=0.0757, DPEAKS=43.7, Loss=0.00662]\n",
            "Validate Epoch 4: 100%|██████████| 39/39 [00:06<00:00,  6.15it/s, WMAPE=2.66, DICE=0.067, DPEAKS=39.6, Loss=0.00764]\n"
          ]
        },
        {
          "name": "stdout",
          "output_type": "stream",
          "text": [
            "Epoch [5/50]\n"
          ]
        },
        {
          "name": "stderr",
          "output_type": "stream",
          "text": [
            "Train Epoch 5: 100%|██████████| 154/154 [01:02<00:00,  2.48it/s, WMAPE=2.74, DICE=0.076, DPEAKS=43.8, Loss=0.00671]\n",
            "Validate Epoch 5: 100%|██████████| 39/39 [00:06<00:00,  6.14it/s, WMAPE=2.24, DICE=0.061, DPEAKS=28.8, Loss=0.00641]\n"
          ]
        },
        {
          "name": "stdout",
          "output_type": "stream",
          "text": [
            "Epoch [6/50]\n"
          ]
        },
        {
          "name": "stderr",
          "output_type": "stream",
          "text": [
            "Train Epoch 6: 100%|██████████| 154/154 [01:02<00:00,  2.48it/s, WMAPE=2.64, DICE=0.0751, DPEAKS=44.1, Loss=0.00668]\n",
            "Validate Epoch 6: 100%|██████████| 39/39 [00:06<00:00,  6.10it/s, WMAPE=2.35, DICE=0.0745, DPEAKS=45.5, Loss=0.0072]\n"
          ]
        },
        {
          "name": "stdout",
          "output_type": "stream",
          "text": [
            "Epoch [7/50]\n"
          ]
        },
        {
          "name": "stderr",
          "output_type": "stream",
          "text": [
            "Train Epoch 7: 100%|██████████| 154/154 [01:02<00:00,  2.48it/s, WMAPE=2.88, DICE=0.076, DPEAKS=44.8, Loss=0.00659]\n",
            "Validate Epoch 7: 100%|██████████| 39/39 [00:06<00:00,  6.10it/s, WMAPE=2.28, DICE=0.0618, DPEAKS=34.4, Loss=0.00712]\n"
          ]
        },
        {
          "name": "stdout",
          "output_type": "stream",
          "text": [
            "Epoch [8/50]\n"
          ]
        },
        {
          "name": "stderr",
          "output_type": "stream",
          "text": [
            "Train Epoch 8: 100%|██████████| 154/154 [01:02<00:00,  2.48it/s, WMAPE=2.97, DICE=0.0764, DPEAKS=42.5, Loss=0.00668]\n",
            "Validate Epoch 8: 100%|██████████| 39/39 [00:06<00:00,  6.09it/s, WMAPE=11.2, DICE=0.105, DPEAKS=70.1, Loss=0.0317]\n"
          ]
        },
        {
          "name": "stdout",
          "output_type": "stream",
          "text": [
            "early stopping: 5 epochs without improvement\n",
            "Training complete.\n"
          ]
        },
        {
          "name": "stderr",
          "output_type": "stream",
          "text": [
            "Validate Epoch test: 100%|██████████| 971/971 [03:27<00:00,  4.67it/s, WMAPE=1.89, DICE=0.0631, DPEAKS=34.1, Loss=0.00614]\n"
          ]
        },
        {
          "name": "stdout",
          "output_type": "stream",
          "text": [
            "Partition 16: training decoder\n",
            "Loaded best model from partition 15\n",
            "Epoch [1/50]\n"
          ]
        },
        {
          "name": "stderr",
          "output_type": "stream",
          "text": [
            "Train Epoch 1: 100%|██████████| 154/154 [00:51<00:00,  2.98it/s, WMAPE=2.96, DICE=0.0748, DPEAKS=40.5, Loss=0.00664]\n",
            "Validate Epoch 1: 100%|██████████| 39/39 [00:07<00:00,  5.03it/s, WMAPE=1.78, DICE=0.0615, DPEAKS=37, Loss=0.00586]\n"
          ]
        },
        {
          "name": "stdout",
          "output_type": "stream",
          "text": [
            "Saving best model\n",
            "Epoch [2/50]\n"
          ]
        },
        {
          "name": "stderr",
          "output_type": "stream",
          "text": [
            "Train Epoch 2: 100%|██████████| 154/154 [00:44<00:00,  3.44it/s, WMAPE=2.77, DICE=0.0743, DPEAKS=40.7, Loss=0.00665]\n",
            "Validate Epoch 2: 100%|██████████| 39/39 [00:06<00:00,  6.07it/s, WMAPE=1.92, DICE=0.0604, DPEAKS=33, Loss=0.00605]\n"
          ]
        },
        {
          "name": "stdout",
          "output_type": "stream",
          "text": [
            "Epoch [3/50]\n"
          ]
        },
        {
          "name": "stderr",
          "output_type": "stream",
          "text": [
            "Train Epoch 3: 100%|██████████| 154/154 [00:44<00:00,  3.45it/s, WMAPE=3.09, DICE=0.074, DPEAKS=39.4, Loss=0.00669]\n",
            "Validate Epoch 3: 100%|██████████| 39/39 [00:06<00:00,  6.13it/s, WMAPE=2.12, DICE=0.0612, DPEAKS=34, Loss=0.0068]\n"
          ]
        },
        {
          "name": "stdout",
          "output_type": "stream",
          "text": [
            "Epoch [4/50]\n"
          ]
        },
        {
          "name": "stderr",
          "output_type": "stream",
          "text": [
            "Train Epoch 4: 100%|██████████| 154/154 [00:44<00:00,  3.44it/s, WMAPE=3.22, DICE=0.0738, DPEAKS=38.1, Loss=0.00661]\n",
            "Validate Epoch 4: 100%|██████████| 39/39 [00:06<00:00,  6.12it/s, WMAPE=1.79, DICE=0.0596, DPEAKS=29.7, Loss=0.00574]\n"
          ]
        },
        {
          "name": "stdout",
          "output_type": "stream",
          "text": [
            "Saving best model\n",
            "Epoch [5/50]\n"
          ]
        },
        {
          "name": "stderr",
          "output_type": "stream",
          "text": [
            "Train Epoch 5: 100%|██████████| 154/154 [00:44<00:00,  3.43it/s, WMAPE=2.53, DICE=0.0737, DPEAKS=39.6, Loss=0.00654]\n",
            "Validate Epoch 5: 100%|██████████| 39/39 [00:06<00:00,  6.08it/s, WMAPE=1.79, DICE=0.0595, DPEAKS=29.1, Loss=0.00562]\n"
          ]
        },
        {
          "name": "stdout",
          "output_type": "stream",
          "text": [
            "Saving best model\n",
            "Epoch [6/50]\n"
          ]
        },
        {
          "name": "stderr",
          "output_type": "stream",
          "text": [
            "Train Epoch 6: 100%|██████████| 154/154 [00:44<00:00,  3.44it/s, WMAPE=4.68, DICE=0.0739, DPEAKS=40, Loss=0.00659]\n",
            "Validate Epoch 6: 100%|██████████| 39/39 [00:06<00:00,  6.12it/s, WMAPE=1.82, DICE=0.0598, DPEAKS=30, Loss=0.00581]\n"
          ]
        },
        {
          "name": "stdout",
          "output_type": "stream",
          "text": [
            "Epoch [7/50]\n"
          ]
        },
        {
          "name": "stderr",
          "output_type": "stream",
          "text": [
            "Train Epoch 7: 100%|██████████| 154/154 [00:44<00:00,  3.43it/s, WMAPE=2.79, DICE=0.0745, DPEAKS=41.1, Loss=0.00662]\n",
            "Validate Epoch 7: 100%|██████████| 39/39 [00:06<00:00,  5.99it/s, WMAPE=1.75, DICE=0.0599, DPEAKS=31.7, Loss=0.00561]\n"
          ]
        },
        {
          "name": "stdout",
          "output_type": "stream",
          "text": [
            "Saving best model\n",
            "Epoch [8/50]\n"
          ]
        },
        {
          "name": "stderr",
          "output_type": "stream",
          "text": [
            "Train Epoch 8: 100%|██████████| 154/154 [00:44<00:00,  3.44it/s, WMAPE=2.89, DICE=0.0738, DPEAKS=40, Loss=0.00654]\n",
            "Validate Epoch 8: 100%|██████████| 39/39 [00:06<00:00,  6.03it/s, WMAPE=1.69, DICE=0.0589, DPEAKS=30.9, Loss=0.00555]\n"
          ]
        },
        {
          "name": "stdout",
          "output_type": "stream",
          "text": [
            "Saving best model\n",
            "Epoch [9/50]\n"
          ]
        },
        {
          "name": "stderr",
          "output_type": "stream",
          "text": [
            "Train Epoch 9: 100%|██████████| 154/154 [00:44<00:00,  3.43it/s, WMAPE=2.71, DICE=0.074, DPEAKS=39.4, Loss=0.00663]\n",
            "Validate Epoch 9: 100%|██████████| 39/39 [00:06<00:00,  6.10it/s, WMAPE=1.83, DICE=0.0599, DPEAKS=33.7, Loss=0.00589]\n"
          ]
        },
        {
          "name": "stdout",
          "output_type": "stream",
          "text": [
            "Epoch [10/50]\n"
          ]
        },
        {
          "name": "stderr",
          "output_type": "stream",
          "text": [
            "Train Epoch 10: 100%|██████████| 154/154 [00:45<00:00,  3.41it/s, WMAPE=3.24, DICE=0.0738, DPEAKS=41.5, Loss=0.00662]\n",
            "Validate Epoch 10: 100%|██████████| 39/39 [00:06<00:00,  6.13it/s, WMAPE=1.73, DICE=0.0593, DPEAKS=32.3, Loss=0.00557]\n"
          ]
        },
        {
          "name": "stdout",
          "output_type": "stream",
          "text": [
            "Epoch [11/50]\n"
          ]
        },
        {
          "name": "stderr",
          "output_type": "stream",
          "text": [
            "Train Epoch 11: 100%|██████████| 154/154 [00:44<00:00,  3.44it/s, WMAPE=2.5, DICE=0.0738, DPEAKS=39.6, Loss=0.00649]\n",
            "Validate Epoch 11: 100%|██████████| 39/39 [00:06<00:00,  6.15it/s, WMAPE=1.75, DICE=0.0589, DPEAKS=29.6, Loss=0.00551]\n"
          ]
        },
        {
          "name": "stdout",
          "output_type": "stream",
          "text": [
            "Saving best model\n",
            "Epoch [12/50]\n"
          ]
        },
        {
          "name": "stderr",
          "output_type": "stream",
          "text": [
            "Train Epoch 12: 100%|██████████| 154/154 [00:44<00:00,  3.44it/s, WMAPE=2.88, DICE=0.0736, DPEAKS=39, Loss=0.00654]\n",
            "Validate Epoch 12: 100%|██████████| 39/39 [00:06<00:00,  6.08it/s, WMAPE=1.9, DICE=0.0598, DPEAKS=31.5, Loss=0.00587]\n"
          ]
        },
        {
          "name": "stdout",
          "output_type": "stream",
          "text": [
            "Epoch [13/50]\n"
          ]
        },
        {
          "name": "stderr",
          "output_type": "stream",
          "text": [
            "Train Epoch 13: 100%|██████████| 154/154 [00:44<00:00,  3.44it/s, WMAPE=2.6, DICE=0.0735, DPEAKS=38.3, Loss=0.00643]\n",
            "Validate Epoch 13: 100%|██████████| 39/39 [00:06<00:00,  6.14it/s, WMAPE=1.85, DICE=0.059, DPEAKS=31.7, Loss=0.00596]\n"
          ]
        },
        {
          "name": "stdout",
          "output_type": "stream",
          "text": [
            "Epoch [14/50]\n"
          ]
        },
        {
          "name": "stderr",
          "output_type": "stream",
          "text": [
            "Train Epoch 14: 100%|██████████| 154/154 [00:44<00:00,  3.43it/s, WMAPE=2.91, DICE=0.0734, DPEAKS=40.5, Loss=0.00663]\n",
            "Validate Epoch 14: 100%|██████████| 39/39 [00:06<00:00,  6.08it/s, WMAPE=1.83, DICE=0.0596, DPEAKS=32.3, Loss=0.0057]\n"
          ]
        },
        {
          "name": "stdout",
          "output_type": "stream",
          "text": [
            "Epoch [15/50]\n"
          ]
        },
        {
          "name": "stderr",
          "output_type": "stream",
          "text": [
            "Train Epoch 15: 100%|██████████| 154/154 [00:44<00:00,  3.45it/s, WMAPE=2.91, DICE=0.0733, DPEAKS=37.8, Loss=0.00652]\n",
            "Validate Epoch 15: 100%|██████████| 39/39 [00:06<00:00,  6.09it/s, WMAPE=1.74, DICE=0.0592, DPEAKS=30, Loss=0.00564]\n"
          ]
        },
        {
          "name": "stdout",
          "output_type": "stream",
          "text": [
            "Epoch [16/50]\n"
          ]
        },
        {
          "name": "stderr",
          "output_type": "stream",
          "text": [
            "Train Epoch 16: 100%|██████████| 154/154 [00:44<00:00,  3.43it/s, WMAPE=3.02, DICE=0.0731, DPEAKS=38.7, Loss=0.00634]\n",
            "Validate Epoch 16: 100%|██████████| 39/39 [00:06<00:00,  5.96it/s, WMAPE=1.89, DICE=0.0587, DPEAKS=29.7, Loss=0.00571]\n"
          ]
        },
        {
          "name": "stdout",
          "output_type": "stream",
          "text": [
            "early stopping: 5 epochs without improvement\n",
            "Training complete.\n"
          ]
        },
        {
          "name": "stderr",
          "output_type": "stream",
          "text": [
            "Validate Epoch test: 100%|██████████| 971/971 [03:28<00:00,  4.66it/s, WMAPE=1.83, DICE=0.0591, DPEAKS=29.9, Loss=0.00555]\n"
          ]
        },
        {
          "name": "stdout",
          "output_type": "stream",
          "text": [
            "Partition 17: training full\n",
            "Loaded best model from partition 16\n",
            "Epoch [1/50]\n"
          ]
        },
        {
          "name": "stderr",
          "output_type": "stream",
          "text": [
            "Train Epoch 1: 100%|██████████| 154/154 [01:08<00:00,  2.25it/s, WMAPE=3.75, DICE=0.0778, DPEAKS=42.2, Loss=0.00682]\n",
            "Validate Epoch 1: 100%|██████████| 39/39 [00:07<00:00,  5.12it/s, WMAPE=2.18, DICE=0.0703, DPEAKS=40.8, Loss=0.00706]\n"
          ]
        },
        {
          "name": "stdout",
          "output_type": "stream",
          "text": [
            "Saving best model\n",
            "Epoch [2/50]\n"
          ]
        },
        {
          "name": "stderr",
          "output_type": "stream",
          "text": [
            "Train Epoch 2: 100%|██████████| 154/154 [01:02<00:00,  2.48it/s, WMAPE=2.82, DICE=0.0765, DPEAKS=42.5, Loss=0.00671]\n",
            "Validate Epoch 2: 100%|██████████| 39/39 [00:06<00:00,  6.11it/s, WMAPE=3.06, DICE=0.0678, DPEAKS=37.3, Loss=0.00859]\n"
          ]
        },
        {
          "name": "stdout",
          "output_type": "stream",
          "text": [
            "Epoch [3/50]\n"
          ]
        },
        {
          "name": "stderr",
          "output_type": "stream",
          "text": [
            "Train Epoch 3: 100%|██████████| 154/154 [01:02<00:00,  2.48it/s, WMAPE=3.92, DICE=0.0774, DPEAKS=45.6, Loss=0.00678]\n",
            "Validate Epoch 3: 100%|██████████| 39/39 [00:06<00:00,  6.14it/s, WMAPE=2.51, DICE=0.0615, DPEAKS=31.6, Loss=0.00722]\n"
          ]
        },
        {
          "name": "stdout",
          "output_type": "stream",
          "text": [
            "Epoch [4/50]\n"
          ]
        },
        {
          "name": "stderr",
          "output_type": "stream",
          "text": [
            "Train Epoch 4: 100%|██████████| 154/154 [01:02<00:00,  2.47it/s, WMAPE=2.61, DICE=0.076, DPEAKS=43, Loss=0.00661]\n",
            "Validate Epoch 4: 100%|██████████| 39/39 [00:06<00:00,  6.13it/s, WMAPE=2.86, DICE=0.0611, DPEAKS=33.5, Loss=0.00877]\n"
          ]
        },
        {
          "name": "stdout",
          "output_type": "stream",
          "text": [
            "Epoch [5/50]\n"
          ]
        },
        {
          "name": "stderr",
          "output_type": "stream",
          "text": [
            "Train Epoch 5: 100%|██████████| 154/154 [01:06<00:00,  2.32it/s, WMAPE=3.17, DICE=0.0751, DPEAKS=41.5, Loss=0.0066]\n",
            "Validate Epoch 5: 100%|██████████| 39/39 [00:06<00:00,  5.66it/s, WMAPE=2.07, DICE=0.0658, DPEAKS=41.2, Loss=0.00644]\n"
          ]
        },
        {
          "name": "stdout",
          "output_type": "stream",
          "text": [
            "Saving best model\n",
            "Epoch [6/50]\n"
          ]
        },
        {
          "name": "stderr",
          "output_type": "stream",
          "text": [
            "Train Epoch 6: 100%|██████████| 154/154 [01:07<00:00,  2.30it/s, WMAPE=2.73, DICE=0.0765, DPEAKS=43.7, Loss=0.00662]\n",
            "Validate Epoch 6: 100%|██████████| 39/39 [00:06<00:00,  5.67it/s, WMAPE=5.58, DICE=0.0663, DPEAKS=37.3, Loss=0.0159]\n"
          ]
        },
        {
          "name": "stdout",
          "output_type": "stream",
          "text": [
            "Epoch [7/50]\n"
          ]
        },
        {
          "name": "stderr",
          "output_type": "stream",
          "text": [
            "Train Epoch 7: 100%|██████████| 154/154 [01:07<00:00,  2.29it/s, WMAPE=2.67, DICE=0.0755, DPEAKS=40.5, Loss=0.00653]\n",
            "Validate Epoch 7: 100%|██████████| 39/39 [00:06<00:00,  5.66it/s, WMAPE=1.85, DICE=0.063, DPEAKS=34.2, Loss=0.0058]\n"
          ]
        },
        {
          "name": "stdout",
          "output_type": "stream",
          "text": [
            "Saving best model\n",
            "Epoch [8/50]\n"
          ]
        },
        {
          "name": "stderr",
          "output_type": "stream",
          "text": [
            "Train Epoch 8: 100%|██████████| 154/154 [01:07<00:00,  2.28it/s, WMAPE=2.88, DICE=0.0745, DPEAKS=39.9, Loss=0.00644]\n",
            "Validate Epoch 8: 100%|██████████| 39/39 [00:07<00:00,  5.56it/s, WMAPE=1.94, DICE=0.0623, DPEAKS=36.1, Loss=0.00585]\n"
          ]
        },
        {
          "name": "stdout",
          "output_type": "stream",
          "text": [
            "Epoch [9/50]\n"
          ]
        },
        {
          "name": "stderr",
          "output_type": "stream",
          "text": [
            "Train Epoch 9: 100%|██████████| 154/154 [01:07<00:00,  2.27it/s, WMAPE=3.23, DICE=0.0753, DPEAKS=41.1, Loss=0.0065]\n",
            "Validate Epoch 9: 100%|██████████| 39/39 [00:06<00:00,  5.57it/s, WMAPE=2.39, DICE=0.0624, DPEAKS=35.3, Loss=0.00781]\n"
          ]
        },
        {
          "name": "stdout",
          "output_type": "stream",
          "text": [
            "Epoch [10/50]\n"
          ]
        },
        {
          "name": "stderr",
          "output_type": "stream",
          "text": [
            "Train Epoch 10: 100%|██████████| 154/154 [01:06<00:00,  2.33it/s, WMAPE=3.24, DICE=0.0739, DPEAKS=41.2, Loss=0.00647]\n",
            "Validate Epoch 10: 100%|██████████| 39/39 [00:06<00:00,  6.11it/s, WMAPE=5.19, DICE=0.0726, DPEAKS=39.3, Loss=0.0161]\n"
          ]
        },
        {
          "name": "stdout",
          "output_type": "stream",
          "text": [
            "Epoch [11/50]\n"
          ]
        },
        {
          "name": "stderr",
          "output_type": "stream",
          "text": [
            "Train Epoch 11: 100%|██████████| 154/154 [01:03<00:00,  2.41it/s, WMAPE=2.91, DICE=0.0778, DPEAKS=44.4, Loss=0.00671]\n",
            "Validate Epoch 11: 100%|██████████| 39/39 [00:06<00:00,  5.65it/s, WMAPE=2.36, DICE=0.0654, DPEAKS=37.1, Loss=0.00775]\n"
          ]
        },
        {
          "name": "stdout",
          "output_type": "stream",
          "text": [
            "Epoch [12/50]\n"
          ]
        },
        {
          "name": "stderr",
          "output_type": "stream",
          "text": [
            "Train Epoch 12: 100%|██████████| 154/154 [01:05<00:00,  2.37it/s, WMAPE=3.4, DICE=0.0751, DPEAKS=42.4, Loss=0.00661]\n",
            "Validate Epoch 12: 100%|██████████| 39/39 [00:06<00:00,  5.62it/s, WMAPE=1.83, DICE=0.0623, DPEAKS=30.2, Loss=0.00609]\n"
          ]
        },
        {
          "name": "stdout",
          "output_type": "stream",
          "text": [
            "early stopping: 5 epochs without improvement\n",
            "Training complete.\n"
          ]
        },
        {
          "name": "stderr",
          "output_type": "stream",
          "text": [
            "Validate Epoch test: 100%|██████████| 971/971 [03:42<00:00,  4.37it/s, WMAPE=1.86, DICE=0.0627, DPEAKS=38, Loss=0.00583]\n"
          ]
        },
        {
          "name": "stdout",
          "output_type": "stream",
          "text": [
            "Partition 18: training decoder\n",
            "Loaded best model from partition 17\n",
            "Epoch [1/50]\n"
          ]
        },
        {
          "name": "stderr",
          "output_type": "stream",
          "text": [
            "Train Epoch 1: 100%|██████████| 154/154 [00:54<00:00,  2.82it/s, WMAPE=5.19, DICE=0.0723, DPEAKS=39.7, Loss=0.00652]\n",
            "Validate Epoch 1: 100%|██████████| 39/39 [00:07<00:00,  4.90it/s, WMAPE=2.04, DICE=0.0598, DPEAKS=37.2, Loss=0.00642]\n"
          ]
        },
        {
          "name": "stdout",
          "output_type": "stream",
          "text": [
            "Saving best model\n",
            "Epoch [2/50]\n"
          ]
        },
        {
          "name": "stderr",
          "output_type": "stream",
          "text": [
            "Train Epoch 2: 100%|██████████| 154/154 [00:47<00:00,  3.28it/s, WMAPE=3.15, DICE=0.0719, DPEAKS=38.3, Loss=0.00645]\n",
            "Validate Epoch 2: 100%|██████████| 39/39 [00:06<00:00,  5.97it/s, WMAPE=1.84, DICE=0.059, DPEAKS=38.9, Loss=0.00562]\n"
          ]
        },
        {
          "name": "stdout",
          "output_type": "stream",
          "text": [
            "Saving best model\n",
            "Epoch [3/50]\n"
          ]
        },
        {
          "name": "stderr",
          "output_type": "stream",
          "text": [
            "Train Epoch 3: 100%|██████████| 154/154 [00:45<00:00,  3.36it/s, WMAPE=2.99, DICE=0.0717, DPEAKS=39.8, Loss=0.00649]\n",
            "Validate Epoch 3: 100%|██████████| 39/39 [00:06<00:00,  5.90it/s, WMAPE=1.79, DICE=0.0585, DPEAKS=35.1, Loss=0.00568]\n"
          ]
        },
        {
          "name": "stdout",
          "output_type": "stream",
          "text": [
            "Epoch [4/50]\n"
          ]
        },
        {
          "name": "stderr",
          "output_type": "stream",
          "text": [
            "Train Epoch 4: 100%|██████████| 154/154 [00:45<00:00,  3.37it/s, WMAPE=2.72, DICE=0.0731, DPEAKS=40.1, Loss=0.0065]\n",
            "Validate Epoch 4: 100%|██████████| 39/39 [00:06<00:00,  6.03it/s, WMAPE=1.93, DICE=0.0585, DPEAKS=36, Loss=0.0057]\n"
          ]
        },
        {
          "name": "stdout",
          "output_type": "stream",
          "text": [
            "Epoch [5/50]\n"
          ]
        },
        {
          "name": "stderr",
          "output_type": "stream",
          "text": [
            "Train Epoch 5: 100%|██████████| 154/154 [00:45<00:00,  3.36it/s, WMAPE=4.35, DICE=0.0716, DPEAKS=38.2, Loss=0.00636]\n",
            "Validate Epoch 5: 100%|██████████| 39/39 [00:06<00:00,  5.65it/s, WMAPE=1.86, DICE=0.059, DPEAKS=43, Loss=0.00584]\n"
          ]
        },
        {
          "name": "stdout",
          "output_type": "stream",
          "text": [
            "Epoch [6/50]\n"
          ]
        },
        {
          "name": "stderr",
          "output_type": "stream",
          "text": [
            "Train Epoch 6: 100%|██████████| 154/154 [00:46<00:00,  3.32it/s, WMAPE=3.02, DICE=0.0718, DPEAKS=38.9, Loss=0.00635]\n",
            "Validate Epoch 6: 100%|██████████| 39/39 [00:06<00:00,  6.04it/s, WMAPE=1.85, DICE=0.0584, DPEAKS=40.5, Loss=0.00562]\n"
          ]
        },
        {
          "name": "stdout",
          "output_type": "stream",
          "text": [
            "Epoch [7/50]\n"
          ]
        },
        {
          "name": "stderr",
          "output_type": "stream",
          "text": [
            "Train Epoch 7: 100%|██████████| 154/154 [00:45<00:00,  3.38it/s, WMAPE=2.56, DICE=0.0714, DPEAKS=39.2, Loss=0.00625]\n",
            "Validate Epoch 7: 100%|██████████| 39/39 [00:06<00:00,  5.99it/s, WMAPE=1.79, DICE=0.058, DPEAKS=34.8, Loss=0.00544]\n"
          ]
        },
        {
          "name": "stdout",
          "output_type": "stream",
          "text": [
            "Saving best model\n",
            "Epoch [8/50]\n"
          ]
        },
        {
          "name": "stderr",
          "output_type": "stream",
          "text": [
            "Train Epoch 8: 100%|██████████| 154/154 [00:45<00:00,  3.36it/s, WMAPE=2.82, DICE=0.0712, DPEAKS=38.6, Loss=0.00625]\n",
            "Validate Epoch 8: 100%|██████████| 39/39 [00:06<00:00,  5.84it/s, WMAPE=1.76, DICE=0.058, DPEAKS=38.5, Loss=0.00563]\n"
          ]
        },
        {
          "name": "stdout",
          "output_type": "stream",
          "text": [
            "Epoch [9/50]\n"
          ]
        },
        {
          "name": "stderr",
          "output_type": "stream",
          "text": [
            "Train Epoch 9: 100%|██████████| 154/154 [00:46<00:00,  3.34it/s, WMAPE=2.75, DICE=0.072, DPEAKS=38.2, Loss=0.0063]\n",
            "Validate Epoch 9: 100%|██████████| 39/39 [00:06<00:00,  5.63it/s, WMAPE=1.85, DICE=0.0584, DPEAKS=34.1, Loss=0.00553]\n"
          ]
        },
        {
          "name": "stdout",
          "output_type": "stream",
          "text": [
            "Epoch [10/50]\n"
          ]
        },
        {
          "name": "stderr",
          "output_type": "stream",
          "text": [
            "Train Epoch 10: 100%|██████████| 154/154 [00:46<00:00,  3.29it/s, WMAPE=3.43, DICE=0.0715, DPEAKS=39, Loss=0.0063]\n",
            "Validate Epoch 10: 100%|██████████| 39/39 [00:06<00:00,  5.91it/s, WMAPE=2.22, DICE=0.0593, DPEAKS=35.3, Loss=0.00651]\n"
          ]
        },
        {
          "name": "stdout",
          "output_type": "stream",
          "text": [
            "Epoch [11/50]\n"
          ]
        },
        {
          "name": "stderr",
          "output_type": "stream",
          "text": [
            "Train Epoch 11: 100%|██████████| 154/154 [00:46<00:00,  3.28it/s, WMAPE=4.26, DICE=0.0715, DPEAKS=39, Loss=0.00634]\n",
            "Validate Epoch 11: 100%|██████████| 39/39 [00:06<00:00,  5.58it/s, WMAPE=1.81, DICE=0.0585, DPEAKS=38.8, Loss=0.0055]\n"
          ]
        },
        {
          "name": "stdout",
          "output_type": "stream",
          "text": [
            "Epoch [12/50]\n"
          ]
        },
        {
          "name": "stderr",
          "output_type": "stream",
          "text": [
            "Train Epoch 12: 100%|██████████| 154/154 [00:45<00:00,  3.35it/s, WMAPE=3.3, DICE=0.0714, DPEAKS=38.6, Loss=0.00624]\n",
            "Validate Epoch 12: 100%|██████████| 39/39 [00:06<00:00,  6.07it/s, WMAPE=1.87, DICE=0.0573, DPEAKS=31.9, Loss=0.00566]\n"
          ]
        },
        {
          "name": "stdout",
          "output_type": "stream",
          "text": [
            "early stopping: 5 epochs without improvement\n",
            "Training complete.\n"
          ]
        },
        {
          "name": "stderr",
          "output_type": "stream",
          "text": [
            "Validate Epoch test: 100%|██████████| 971/971 [03:44<00:00,  4.33it/s, WMAPE=1.76, DICE=0.058, DPEAKS=31.3, Loss=0.00538]\n"
          ]
        },
        {
          "name": "stdout",
          "output_type": "stream",
          "text": [
            "Partition 19: training full\n",
            "Loaded best model from partition 18\n",
            "Epoch [1/50]\n"
          ]
        },
        {
          "name": "stderr",
          "output_type": "stream",
          "text": [
            "Train Epoch 1: 100%|██████████| 154/154 [01:13<00:00,  2.11it/s, WMAPE=3.18, DICE=0.0748, DPEAKS=40.3, Loss=0.00658]\n",
            "Validate Epoch 1: 100%|██████████| 39/39 [00:07<00:00,  5.05it/s, WMAPE=2.17, DICE=0.0597, DPEAKS=31.7, Loss=0.00687]\n"
          ]
        },
        {
          "name": "stdout",
          "output_type": "stream",
          "text": [
            "Saving best model\n",
            "Epoch [2/50]\n"
          ]
        },
        {
          "name": "stderr",
          "output_type": "stream",
          "text": [
            "Train Epoch 2: 100%|██████████| 154/154 [01:06<00:00,  2.33it/s, WMAPE=3.23, DICE=0.0751, DPEAKS=40.7, Loss=0.0066]\n",
            "Validate Epoch 2: 100%|██████████| 39/39 [00:06<00:00,  5.84it/s, WMAPE=2.53, DICE=0.0647, DPEAKS=36.4, Loss=0.00832]\n"
          ]
        },
        {
          "name": "stdout",
          "output_type": "stream",
          "text": [
            "Epoch [3/50]\n"
          ]
        },
        {
          "name": "stderr",
          "output_type": "stream",
          "text": [
            "Train Epoch 3: 100%|██████████| 154/154 [01:06<00:00,  2.33it/s, WMAPE=2.67, DICE=0.0741, DPEAKS=40.7, Loss=0.00646]\n",
            "Validate Epoch 3: 100%|██████████| 39/39 [00:06<00:00,  5.62it/s, WMAPE=1.95, DICE=0.066, DPEAKS=34.8, Loss=0.00634]\n"
          ]
        },
        {
          "name": "stdout",
          "output_type": "stream",
          "text": [
            "Saving best model\n",
            "Epoch [4/50]\n"
          ]
        },
        {
          "name": "stderr",
          "output_type": "stream",
          "text": [
            "Train Epoch 4: 100%|██████████| 154/154 [01:05<00:00,  2.36it/s, WMAPE=3.05, DICE=0.0731, DPEAKS=37.3, Loss=0.00638]\n",
            "Validate Epoch 4: 100%|██████████| 39/39 [00:06<00:00,  5.61it/s, WMAPE=4.12, DICE=0.0606, DPEAKS=30.4, Loss=0.0129]\n"
          ]
        },
        {
          "name": "stdout",
          "output_type": "stream",
          "text": [
            "Epoch [5/50]\n"
          ]
        },
        {
          "name": "stderr",
          "output_type": "stream",
          "text": [
            "Train Epoch 5: 100%|██████████| 154/154 [01:08<00:00,  2.26it/s, WMAPE=3.03, DICE=0.0736, DPEAKS=39.9, Loss=0.00644]\n",
            "Validate Epoch 5: 100%|██████████| 39/39 [00:06<00:00,  5.63it/s, WMAPE=1.81, DICE=0.0586, DPEAKS=29.7, Loss=0.00589]\n"
          ]
        },
        {
          "name": "stdout",
          "output_type": "stream",
          "text": [
            "Saving best model\n",
            "Epoch [6/50]\n"
          ]
        },
        {
          "name": "stderr",
          "output_type": "stream",
          "text": [
            "Train Epoch 6: 100%|██████████| 154/154 [01:06<00:00,  2.31it/s, WMAPE=3.96, DICE=0.0745, DPEAKS=40.6, Loss=0.00647]\n",
            "Validate Epoch 6: 100%|██████████| 39/39 [00:07<00:00,  5.57it/s, WMAPE=2.66, DICE=0.0635, DPEAKS=33.6, Loss=0.00834]\n"
          ]
        },
        {
          "name": "stdout",
          "output_type": "stream",
          "text": [
            "Epoch [7/50]\n"
          ]
        },
        {
          "name": "stderr",
          "output_type": "stream",
          "text": [
            "Train Epoch 7: 100%|██████████| 154/154 [01:07<00:00,  2.30it/s, WMAPE=2.6, DICE=0.074, DPEAKS=40.1, Loss=0.00639]\n",
            "Validate Epoch 7: 100%|██████████| 39/39 [00:07<00:00,  5.56it/s, WMAPE=2.04, DICE=0.0685, DPEAKS=38.1, Loss=0.00625]\n"
          ]
        },
        {
          "name": "stdout",
          "output_type": "stream",
          "text": [
            "Epoch [8/50]\n"
          ]
        },
        {
          "name": "stderr",
          "output_type": "stream",
          "text": [
            "Train Epoch 8: 100%|██████████| 154/154 [01:08<00:00,  2.24it/s, WMAPE=3.15, DICE=0.0748, DPEAKS=39.4, Loss=0.00653]\n",
            "Validate Epoch 8: 100%|██████████| 39/39 [00:06<00:00,  5.57it/s, WMAPE=2.02, DICE=0.0659, DPEAKS=46.2, Loss=0.0066]\n"
          ]
        },
        {
          "name": "stdout",
          "output_type": "stream",
          "text": [
            "Epoch [9/50]\n"
          ]
        },
        {
          "name": "stderr",
          "output_type": "stream",
          "text": [
            "Train Epoch 9: 100%|██████████| 154/154 [01:05<00:00,  2.36it/s, WMAPE=2.69, DICE=0.0754, DPEAKS=40.6, Loss=0.00654]\n",
            "Validate Epoch 9: 100%|██████████| 39/39 [00:06<00:00,  6.00it/s, WMAPE=2.33, DICE=0.0594, DPEAKS=35.3, Loss=0.00691]\n"
          ]
        },
        {
          "name": "stdout",
          "output_type": "stream",
          "text": [
            "Epoch [10/50]\n"
          ]
        },
        {
          "name": "stderr",
          "output_type": "stream",
          "text": [
            "Train Epoch 10: 100%|██████████| 154/154 [01:03<00:00,  2.42it/s, WMAPE=2.44, DICE=0.0734, DPEAKS=40, Loss=0.00636]\n",
            "Validate Epoch 10: 100%|██████████| 39/39 [00:06<00:00,  5.58it/s, WMAPE=1.94, DICE=0.06, DPEAKS=33.9, Loss=0.00593]\n"
          ]
        },
        {
          "name": "stdout",
          "output_type": "stream",
          "text": [
            "early stopping: 5 epochs without improvement\n",
            "Training complete.\n"
          ]
        },
        {
          "name": "stderr",
          "output_type": "stream",
          "text": [
            "Validate Epoch test: 100%|██████████| 971/971 [03:45<00:00,  4.31it/s, WMAPE=1.89, DICE=0.0583, DPEAKS=32.2, Loss=0.00592]\n"
          ]
        },
        {
          "name": "stdout",
          "output_type": "stream",
          "text": [
            "Partition 20: training decoder\n",
            "Loaded best model from partition 19\n",
            "Epoch [1/50]\n"
          ]
        },
        {
          "name": "stderr",
          "output_type": "stream",
          "text": [
            "Train Epoch 1: 100%|██████████| 154/154 [00:56<00:00,  2.73it/s, WMAPE=2.4, DICE=0.0715, DPEAKS=38.2, Loss=0.00638]\n",
            "Validate Epoch 1: 100%|██████████| 39/39 [00:08<00:00,  4.80it/s, WMAPE=1.8, DICE=0.0573, DPEAKS=35.7, Loss=0.00551]\n"
          ]
        },
        {
          "name": "stdout",
          "output_type": "stream",
          "text": [
            "Saving best model\n",
            "Epoch [2/50]\n"
          ]
        },
        {
          "name": "stderr",
          "output_type": "stream",
          "text": [
            "Train Epoch 2: 100%|██████████| 154/154 [00:48<00:00,  3.18it/s, WMAPE=3.11, DICE=0.0714, DPEAKS=38.7, Loss=0.00634]\n",
            "Validate Epoch 2: 100%|██████████| 39/39 [00:07<00:00,  5.55it/s, WMAPE=1.84, DICE=0.0565, DPEAKS=37.4, Loss=0.00574]\n"
          ]
        },
        {
          "name": "stdout",
          "output_type": "stream",
          "text": [
            "Epoch [3/50]\n"
          ]
        },
        {
          "name": "stderr",
          "output_type": "stream",
          "text": [
            "Train Epoch 3: 100%|██████████| 154/154 [00:47<00:00,  3.22it/s, WMAPE=4.2, DICE=0.0712, DPEAKS=37.6, Loss=0.0063]\n",
            "Validate Epoch 3: 100%|██████████| 39/39 [00:06<00:00,  5.60it/s, WMAPE=1.87, DICE=0.0571, DPEAKS=30.6, Loss=0.00559]\n"
          ]
        },
        {
          "name": "stdout",
          "output_type": "stream",
          "text": [
            "Epoch [4/50]\n"
          ]
        },
        {
          "name": "stderr",
          "output_type": "stream",
          "text": [
            "Train Epoch 4: 100%|██████████| 154/154 [00:49<00:00,  3.14it/s, WMAPE=3.34, DICE=0.0711, DPEAKS=37.9, Loss=0.00627]\n",
            "Validate Epoch 4: 100%|██████████| 39/39 [00:06<00:00,  5.61it/s, WMAPE=1.68, DICE=0.0576, DPEAKS=34, Loss=0.00542]\n"
          ]
        },
        {
          "name": "stdout",
          "output_type": "stream",
          "text": [
            "Saving best model\n",
            "Epoch [5/50]\n"
          ]
        },
        {
          "name": "stderr",
          "output_type": "stream",
          "text": [
            "Train Epoch 5: 100%|██████████| 154/154 [00:49<00:00,  3.14it/s, WMAPE=2.74, DICE=0.071, DPEAKS=37, Loss=0.0062]\n",
            "Validate Epoch 5: 100%|██████████| 39/39 [00:06<00:00,  5.57it/s, WMAPE=1.72, DICE=0.0574, DPEAKS=31.9, Loss=0.00539]\n"
          ]
        },
        {
          "name": "stdout",
          "output_type": "stream",
          "text": [
            "Saving best model\n",
            "Epoch [6/50]\n"
          ]
        },
        {
          "name": "stderr",
          "output_type": "stream",
          "text": [
            "Train Epoch 6: 100%|██████████| 154/154 [00:49<00:00,  3.13it/s, WMAPE=2.52, DICE=0.0711, DPEAKS=37.8, Loss=0.00621]\n",
            "Validate Epoch 6: 100%|██████████| 39/39 [00:07<00:00,  5.56it/s, WMAPE=1.8, DICE=0.0582, DPEAKS=34.8, Loss=0.00541]\n"
          ]
        },
        {
          "name": "stdout",
          "output_type": "stream",
          "text": [
            "Epoch [7/50]\n"
          ]
        },
        {
          "name": "stderr",
          "output_type": "stream",
          "text": [
            "Train Epoch 7: 100%|██████████| 154/154 [00:49<00:00,  3.13it/s, WMAPE=2.86, DICE=0.071, DPEAKS=37.1, Loss=0.00621]\n",
            "Validate Epoch 7: 100%|██████████| 39/39 [00:07<00:00,  5.54it/s, WMAPE=1.7, DICE=0.0568, DPEAKS=30.1, Loss=0.00542]\n"
          ]
        },
        {
          "name": "stdout",
          "output_type": "stream",
          "text": [
            "Epoch [8/50]\n"
          ]
        },
        {
          "name": "stderr",
          "output_type": "stream",
          "text": [
            "Train Epoch 8: 100%|██████████| 154/154 [00:49<00:00,  3.14it/s, WMAPE=8.75, DICE=0.0727, DPEAKS=38.1, Loss=0.0064]\n",
            "Validate Epoch 8: 100%|██████████| 39/39 [00:06<00:00,  5.62it/s, WMAPE=1.75, DICE=0.0572, DPEAKS=29.8, Loss=0.00556]\n"
          ]
        },
        {
          "name": "stdout",
          "output_type": "stream",
          "text": [
            "Epoch [9/50]\n"
          ]
        },
        {
          "name": "stderr",
          "output_type": "stream",
          "text": [
            "Train Epoch 9: 100%|██████████| 154/154 [00:49<00:00,  3.14it/s, WMAPE=2.58, DICE=0.0712, DPEAKS=37.4, Loss=0.00617]\n",
            "Validate Epoch 9: 100%|██████████| 39/39 [00:07<00:00,  5.56it/s, WMAPE=1.67, DICE=0.0567, DPEAKS=27.1, Loss=0.00522]\n"
          ]
        },
        {
          "name": "stdout",
          "output_type": "stream",
          "text": [
            "Saving best model\n",
            "Epoch [10/50]\n"
          ]
        },
        {
          "name": "stderr",
          "output_type": "stream",
          "text": [
            "Train Epoch 10: 100%|██████████| 154/154 [00:49<00:00,  3.13it/s, WMAPE=3.26, DICE=0.0713, DPEAKS=37.4, Loss=0.00623]\n",
            "Validate Epoch 10: 100%|██████████| 39/39 [00:07<00:00,  5.57it/s, WMAPE=1.8, DICE=0.0576, DPEAKS=29, Loss=0.00538]\n"
          ]
        },
        {
          "name": "stdout",
          "output_type": "stream",
          "text": [
            "Epoch [11/50]\n"
          ]
        },
        {
          "name": "stderr",
          "output_type": "stream",
          "text": [
            "Train Epoch 11: 100%|██████████| 154/154 [00:47<00:00,  3.21it/s, WMAPE=3.06, DICE=0.0709, DPEAKS=37.2, Loss=0.00619]\n",
            "Validate Epoch 11: 100%|██████████| 39/39 [00:06<00:00,  5.70it/s, WMAPE=1.79, DICE=0.0571, DPEAKS=31.3, Loss=0.00544]\n"
          ]
        },
        {
          "name": "stdout",
          "output_type": "stream",
          "text": [
            "Epoch [12/50]\n"
          ]
        },
        {
          "name": "stderr",
          "output_type": "stream",
          "text": [
            "Train Epoch 12: 100%|██████████| 154/154 [00:45<00:00,  3.40it/s, WMAPE=2.94, DICE=0.0712, DPEAKS=37.6, Loss=0.0063]\n",
            "Validate Epoch 12: 100%|██████████| 39/39 [00:06<00:00,  5.95it/s, WMAPE=1.81, DICE=0.057, DPEAKS=31.1, Loss=0.00547]\n"
          ]
        },
        {
          "name": "stdout",
          "output_type": "stream",
          "text": [
            "Epoch [13/50]\n"
          ]
        },
        {
          "name": "stderr",
          "output_type": "stream",
          "text": [
            "Train Epoch 13: 100%|██████████| 154/154 [00:45<00:00,  3.39it/s, WMAPE=2.63, DICE=0.0715, DPEAKS=37.3, Loss=0.00616]\n",
            "Validate Epoch 13: 100%|██████████| 39/39 [00:06<00:00,  6.07it/s, WMAPE=1.73, DICE=0.0564, DPEAKS=31.4, Loss=0.00529]\n"
          ]
        },
        {
          "name": "stdout",
          "output_type": "stream",
          "text": [
            "Epoch [14/50]\n"
          ]
        },
        {
          "name": "stderr",
          "output_type": "stream",
          "text": [
            "Train Epoch 14: 100%|██████████| 154/154 [00:45<00:00,  3.39it/s, WMAPE=2.67, DICE=0.0711, DPEAKS=38, Loss=0.00617]\n",
            "Validate Epoch 14: 100%|██████████| 39/39 [00:06<00:00,  5.95it/s, WMAPE=1.76, DICE=0.0563, DPEAKS=29.5, Loss=0.0054]\n"
          ]
        },
        {
          "name": "stdout",
          "output_type": "stream",
          "text": [
            "early stopping: 5 epochs without improvement\n",
            "Training complete.\n"
          ]
        },
        {
          "name": "stderr",
          "output_type": "stream",
          "text": [
            "Validate Epoch test: 100%|██████████| 971/971 [03:44<00:00,  4.33it/s, WMAPE=1.72, DICE=0.0567, DPEAKS=28.5, Loss=0.00523]\n"
          ]
        },
        {
          "name": "stdout",
          "output_type": "stream",
          "text": [
            "Partition 21: training full\n",
            "Loaded best model from partition 20\n",
            "Epoch [1/50]\n"
          ]
        },
        {
          "name": "stderr",
          "output_type": "stream",
          "text": [
            "Train Epoch 1: 100%|██████████| 154/154 [01:14<00:00,  2.08it/s, WMAPE=3.04, DICE=0.075, DPEAKS=40.2, Loss=0.0066]\n",
            "Validate Epoch 1: 100%|██████████| 39/39 [00:08<00:00,  4.80it/s, WMAPE=2.68, DICE=0.0662, DPEAKS=36.3, Loss=0.0083]\n"
          ]
        },
        {
          "name": "stdout",
          "output_type": "stream",
          "text": [
            "Saving best model\n",
            "Epoch [2/50]\n"
          ]
        },
        {
          "name": "stderr",
          "output_type": "stream",
          "text": [
            "Train Epoch 2: 100%|██████████| 154/154 [01:07<00:00,  2.27it/s, WMAPE=2.91, DICE=0.0751, DPEAKS=40.5, Loss=0.00661]\n",
            "Validate Epoch 2: 100%|██████████| 39/39 [00:07<00:00,  5.54it/s, WMAPE=3.74, DICE=0.0651, DPEAKS=40.1, Loss=0.0116]\n"
          ]
        },
        {
          "name": "stdout",
          "output_type": "stream",
          "text": [
            "Epoch [3/50]\n"
          ]
        },
        {
          "name": "stderr",
          "output_type": "stream",
          "text": [
            "Train Epoch 3: 100%|██████████| 154/154 [01:08<00:00,  2.25it/s, WMAPE=3.01, DICE=0.0751, DPEAKS=39.1, Loss=0.00649]\n",
            "Validate Epoch 3: 100%|██████████| 39/39 [00:07<00:00,  5.50it/s, WMAPE=3.35, DICE=0.0676, DPEAKS=41.2, Loss=0.00988]\n"
          ]
        },
        {
          "name": "stdout",
          "output_type": "stream",
          "text": [
            "Epoch [4/50]\n"
          ]
        },
        {
          "name": "stderr",
          "output_type": "stream",
          "text": [
            "Train Epoch 4: 100%|██████████| 154/154 [01:08<00:00,  2.24it/s, WMAPE=3.84, DICE=0.0776, DPEAKS=43.5, Loss=0.00666]\n",
            "Validate Epoch 4: 100%|██████████| 39/39 [00:06<00:00,  5.64it/s, WMAPE=2.55, DICE=0.059, DPEAKS=33.1, Loss=0.00742]\n"
          ]
        },
        {
          "name": "stdout",
          "output_type": "stream",
          "text": [
            "Saving best model\n",
            "Epoch [5/50]\n"
          ]
        },
        {
          "name": "stderr",
          "output_type": "stream",
          "text": [
            "Train Epoch 5:  21%|██        | 32/154 [00:14<00:54,  2.24it/s, loss=0.00658]"
          ]
        },
        {
          "ename": "KeyboardInterrupt",
          "evalue": "",
          "output_type": "error",
          "traceback": [
            "\u001b[0;31m---------------------------------------------------------------------------\u001b[0m",
            "\u001b[0;31mKeyboardInterrupt\u001b[0m                         Traceback (most recent call last)",
            "Cell \u001b[0;32mIn[19], line 1\u001b[0m\n\u001b[0;32m----> 1\u001b[0m \u001b[43mmany_partitions_v2\u001b[49m\u001b[43m(\u001b[49m\u001b[38;5;241;43m10\u001b[39;49m\u001b[43m,\u001b[49m\u001b[38;5;241;43m30\u001b[39;49m\u001b[43m,\u001b[49m\u001b[43mmodel\u001b[49m\u001b[43m,\u001b[49m\u001b[43mcriterion\u001b[49m\u001b[43m,\u001b[49m\u001b[43mtransform\u001b[49m\u001b[38;5;241;43m=\u001b[39;49m\u001b[43mtransform\u001b[49m\u001b[43m)\u001b[49m\n",
            "Cell \u001b[0;32mIn[15], line 25\u001b[0m, in \u001b[0;36mmany_partitions_v2\u001b[0;34m(start, end, model, criterion, transform)\u001b[0m\n\u001b[1;32m     21\u001b[0m last_checkpoint_path \u001b[38;5;241m=\u001b[39m os\u001b[38;5;241m.\u001b[39mpath\u001b[38;5;241m.\u001b[39mjoin(\n\u001b[1;32m     22\u001b[0m     \u001b[38;5;124m\"\u001b[39m\u001b[38;5;124mmodels\u001b[39m\u001b[38;5;124m\"\u001b[39m, \u001b[38;5;124mf\u001b[39m\u001b[38;5;124m\"\u001b[39m\u001b[38;5;124mlast_checkpoint_partition_\u001b[39m\u001b[38;5;132;01m{\u001b[39;00mcurrent_partition\u001b[38;5;132;01m}\u001b[39;00m\u001b[38;5;124m.pth\u001b[39m\u001b[38;5;124m\"\u001b[39m\n\u001b[1;32m     23\u001b[0m )\n\u001b[1;32m     24\u001b[0m optimizer \u001b[38;5;241m=\u001b[39m optim\u001b[38;5;241m.\u001b[39mAdamW(model\u001b[38;5;241m.\u001b[39mparameters())\n\u001b[0;32m---> 25\u001b[0m \u001b[43mtrain_model\u001b[49m\u001b[43m(\u001b[49m\n\u001b[1;32m     26\u001b[0m \u001b[43m    \u001b[49m\u001b[43mmodel\u001b[49m\u001b[43m,\u001b[49m\n\u001b[1;32m     27\u001b[0m \u001b[43m    \u001b[49m\u001b[43mtrain_loader\u001b[49m\u001b[43m,\u001b[49m\n\u001b[1;32m     28\u001b[0m \u001b[43m    \u001b[49m\u001b[43mval_loader\u001b[49m\u001b[43m,\u001b[49m\n\u001b[1;32m     29\u001b[0m \u001b[43m    \u001b[49m\u001b[43mbest_model_path\u001b[49m\u001b[43m,\u001b[49m\n\u001b[1;32m     30\u001b[0m \u001b[43m    \u001b[49m\u001b[43mlast_checkpoint_path\u001b[49m\u001b[43m,\u001b[49m\n\u001b[1;32m     31\u001b[0m \u001b[43m    \u001b[49m\u001b[43mcriterion\u001b[49m\u001b[43m,\u001b[49m\n\u001b[1;32m     32\u001b[0m \u001b[43m    \u001b[49m\u001b[43moptimizer\u001b[49m\u001b[43m,\u001b[49m\n\u001b[1;32m     33\u001b[0m \u001b[43m    \u001b[49m\u001b[43mnum_epochs\u001b[49m\u001b[38;5;241;43m=\u001b[39;49m\u001b[38;5;241;43m50\u001b[39;49m\u001b[43m,\u001b[49m\n\u001b[1;32m     34\u001b[0m \u001b[43m    \u001b[49m\u001b[43mdevice\u001b[49m\u001b[38;5;241;43m=\u001b[39;49m\u001b[43mDEVICE\u001b[49m\u001b[43m,\u001b[49m\n\u001b[1;32m     35\u001b[0m \u001b[43m    \u001b[49m\u001b[43mearly_stopping_patience\u001b[49m\u001b[38;5;241;43m=\u001b[39;49m\u001b[43mEARLY_STOPPING_PATIENCE\u001b[49m\u001b[43m,\u001b[49m\n\u001b[1;32m     36\u001b[0m \u001b[43m    \u001b[49m\u001b[43muse_autocast\u001b[49m\u001b[38;5;241;43m=\u001b[39;49m\u001b[43mUSE_AUTOCAST\u001b[49m\u001b[43m,\u001b[49m\n\u001b[1;32m     37\u001b[0m \u001b[43m    \u001b[49m\u001b[43mearly_stopping_grace_period\u001b[49m\u001b[38;5;241;43m=\u001b[39;49m\u001b[43mEARLY_STOPPING_GRACE_PERIOD\u001b[49m\u001b[43m,\u001b[49m\n\u001b[1;32m     38\u001b[0m \u001b[43m\u001b[49m\u001b[43m)\u001b[49m\n\u001b[1;32m     39\u001b[0m \u001b[38;5;28;01mif\u001b[39;00m os\u001b[38;5;241m.\u001b[39mpath\u001b[38;5;241m.\u001b[39mexists(best_model_path):\n\u001b[1;32m     40\u001b[0m     model\u001b[38;5;241m.\u001b[39mload_state_dict(torch\u001b[38;5;241m.\u001b[39mload(best_model_path,weights_only\u001b[38;5;241m=\u001b[39m\u001b[38;5;28;01mTrue\u001b[39;00m))\n",
            "File \u001b[0;32m~/Documents/dataton/common/purrfect/training.py:123\u001b[0m, in \u001b[0;36mtrain_model\u001b[0;34m(model, train_loader, val_loader, best_model_path, last_checkpoint_path, criterion, optimizer, num_epochs, device, early_stopping_patience, use_autocast, early_stopping_grace_period)\u001b[0m\n\u001b[1;32m    120\u001b[0m \u001b[38;5;28mprint\u001b[39m(\u001b[38;5;124mf\u001b[39m\u001b[38;5;124m\"\u001b[39m\u001b[38;5;124mEpoch [\u001b[39m\u001b[38;5;132;01m{\u001b[39;00mepoch\u001b[38;5;132;01m}\u001b[39;00m\u001b[38;5;124m/\u001b[39m\u001b[38;5;132;01m{\u001b[39;00mnum_epochs\u001b[38;5;132;01m}\u001b[39;00m\u001b[38;5;124m]\u001b[39m\u001b[38;5;124m\"\u001b[39m)\n\u001b[1;32m    122\u001b[0m \u001b[38;5;66;03m# Train the model\u001b[39;00m\n\u001b[0;32m--> 123\u001b[0m \u001b[43mtrain_validate\u001b[49m\u001b[43m(\u001b[49m\n\u001b[1;32m    124\u001b[0m \u001b[43m    \u001b[49m\u001b[43mmodel\u001b[49m\u001b[43m,\u001b[49m\u001b[43m \u001b[49m\u001b[43mtrain_loader\u001b[49m\u001b[43m,\u001b[49m\u001b[43m \u001b[49m\u001b[43mcriterion\u001b[49m\u001b[43m,\u001b[49m\u001b[43m \u001b[49m\u001b[43moptimizer\u001b[49m\u001b[43m,\u001b[49m\u001b[43m \u001b[49m\u001b[43mepoch\u001b[49m\u001b[43m,\u001b[49m\u001b[43m \u001b[49m\u001b[43mmetric_accumulator\u001b[49m\u001b[43m,\u001b[49m\u001b[43m \u001b[49m\u001b[43mdevice\u001b[49m\u001b[43m,\u001b[49m\u001b[43m \u001b[49m\u001b[43muse_autocast\u001b[49m\n\u001b[1;32m    125\u001b[0m \u001b[43m\u001b[49m\u001b[43m)\u001b[49m\n\u001b[1;32m    127\u001b[0m \u001b[38;5;66;03m# Validate the model\u001b[39;00m\n\u001b[1;32m    128\u001b[0m validate_loss \u001b[38;5;241m=\u001b[39m train_validate(\n\u001b[1;32m    129\u001b[0m     model,\n\u001b[1;32m    130\u001b[0m     val_loader,\n\u001b[0;32m   (...)\u001b[0m\n\u001b[1;32m    135\u001b[0m     use_autocast \u001b[38;5;241m=\u001b[39m use_autocast\n\u001b[1;32m    136\u001b[0m )\n",
            "File \u001b[0;32m~/Documents/dataton/common/purrfect/training.py:33\u001b[0m, in \u001b[0;36mtrain_validate\u001b[0;34m(model, loader, criterion, optimizer, epoch, metric_accumulator, device, use_autocast)\u001b[0m\n\u001b[1;32m     30\u001b[0m loop \u001b[38;5;241m=\u001b[39m tqdm(\u001b[38;5;28menumerate\u001b[39m(loader), desc\u001b[38;5;241m=\u001b[39m\u001b[38;5;124mf\u001b[39m\u001b[38;5;124m\"\u001b[39m\u001b[38;5;132;01m{\u001b[39;00mmode\u001b[38;5;132;01m}\u001b[39;00m\u001b[38;5;124m Epoch \u001b[39m\u001b[38;5;132;01m{\u001b[39;00mepoch\u001b[38;5;132;01m}\u001b[39;00m\u001b[38;5;124m\"\u001b[39m, leave\u001b[38;5;241m=\u001b[39m\u001b[38;5;28;01mTrue\u001b[39;00m, total\u001b[38;5;241m=\u001b[39m\u001b[38;5;28mlen\u001b[39m(loader))\n\u001b[1;32m     32\u001b[0m \u001b[38;5;28;01mwith\u001b[39;00m torch\u001b[38;5;241m.\u001b[39mset_grad_enabled(optimizer \u001b[38;5;129;01mis\u001b[39;00m \u001b[38;5;129;01mnot\u001b[39;00m \u001b[38;5;28;01mNone\u001b[39;00m):\n\u001b[0;32m---> 33\u001b[0m \u001b[43m    \u001b[49m\u001b[38;5;28;43;01mfor\u001b[39;49;00m\u001b[43m \u001b[49m\u001b[43minputs\u001b[49m\u001b[43m,\u001b[49m\u001b[43m \u001b[49m\u001b[43mtargets\u001b[49m\u001b[43m \u001b[49m\u001b[38;5;129;43;01min\u001b[39;49;00m\u001b[43m \u001b[49m\u001b[43mloader\u001b[49m\u001b[43m:\u001b[49m\n\u001b[1;32m     34\u001b[0m \u001b[43m        \u001b[49m\u001b[43minputs\u001b[49m\u001b[43m,\u001b[49m\u001b[43m \u001b[49m\u001b[43mtargets\u001b[49m\u001b[43m \u001b[49m\u001b[38;5;241;43m=\u001b[39;49m\u001b[43m \u001b[49m\u001b[43minputs\u001b[49m\u001b[38;5;241;43m.\u001b[39;49m\u001b[43mto\u001b[49m\u001b[43m(\u001b[49m\u001b[43mdevice\u001b[49m\u001b[43m)\u001b[49m\u001b[43m,\u001b[49m\u001b[43m \u001b[49m\u001b[43mtargets\u001b[49m\u001b[38;5;241;43m.\u001b[39;49m\u001b[43mto\u001b[49m\u001b[43m(\u001b[49m\u001b[43mdevice\u001b[49m\u001b[43m)\u001b[49m\n\u001b[1;32m     36\u001b[0m \u001b[43m        \u001b[49m\u001b[38;5;66;43;03m# Mixed precision forward pass\u001b[39;49;00m\n",
            "File \u001b[0;32m~/miniconda3/envs/dataton/lib/python3.12/site-packages/torch/utils/data/dataloader.py:630\u001b[0m, in \u001b[0;36m_BaseDataLoaderIter.__next__\u001b[0;34m(self)\u001b[0m\n\u001b[1;32m    627\u001b[0m \u001b[38;5;28;01mif\u001b[39;00m \u001b[38;5;28mself\u001b[39m\u001b[38;5;241m.\u001b[39m_sampler_iter \u001b[38;5;129;01mis\u001b[39;00m \u001b[38;5;28;01mNone\u001b[39;00m:\n\u001b[1;32m    628\u001b[0m     \u001b[38;5;66;03m# TODO(https://github.com/pytorch/pytorch/issues/76750)\u001b[39;00m\n\u001b[1;32m    629\u001b[0m     \u001b[38;5;28mself\u001b[39m\u001b[38;5;241m.\u001b[39m_reset()  \u001b[38;5;66;03m# type: ignore[call-arg]\u001b[39;00m\n\u001b[0;32m--> 630\u001b[0m data \u001b[38;5;241m=\u001b[39m \u001b[38;5;28;43mself\u001b[39;49m\u001b[38;5;241;43m.\u001b[39;49m\u001b[43m_next_data\u001b[49m\u001b[43m(\u001b[49m\u001b[43m)\u001b[49m\n\u001b[1;32m    631\u001b[0m \u001b[38;5;28mself\u001b[39m\u001b[38;5;241m.\u001b[39m_num_yielded \u001b[38;5;241m+\u001b[39m\u001b[38;5;241m=\u001b[39m \u001b[38;5;241m1\u001b[39m\n\u001b[1;32m    632\u001b[0m \u001b[38;5;28;01mif\u001b[39;00m \u001b[38;5;28mself\u001b[39m\u001b[38;5;241m.\u001b[39m_dataset_kind \u001b[38;5;241m==\u001b[39m _DatasetKind\u001b[38;5;241m.\u001b[39mIterable \u001b[38;5;129;01mand\u001b[39;00m \\\n\u001b[1;32m    633\u001b[0m         \u001b[38;5;28mself\u001b[39m\u001b[38;5;241m.\u001b[39m_IterableDataset_len_called \u001b[38;5;129;01mis\u001b[39;00m \u001b[38;5;129;01mnot\u001b[39;00m \u001b[38;5;28;01mNone\u001b[39;00m \u001b[38;5;129;01mand\u001b[39;00m \\\n\u001b[1;32m    634\u001b[0m         \u001b[38;5;28mself\u001b[39m\u001b[38;5;241m.\u001b[39m_num_yielded \u001b[38;5;241m>\u001b[39m \u001b[38;5;28mself\u001b[39m\u001b[38;5;241m.\u001b[39m_IterableDataset_len_called:\n",
            "File \u001b[0;32m~/miniconda3/envs/dataton/lib/python3.12/site-packages/torch/utils/data/dataloader.py:673\u001b[0m, in \u001b[0;36m_SingleProcessDataLoaderIter._next_data\u001b[0;34m(self)\u001b[0m\n\u001b[1;32m    671\u001b[0m \u001b[38;5;28;01mdef\u001b[39;00m \u001b[38;5;21m_next_data\u001b[39m(\u001b[38;5;28mself\u001b[39m):\n\u001b[1;32m    672\u001b[0m     index \u001b[38;5;241m=\u001b[39m \u001b[38;5;28mself\u001b[39m\u001b[38;5;241m.\u001b[39m_next_index()  \u001b[38;5;66;03m# may raise StopIteration\u001b[39;00m\n\u001b[0;32m--> 673\u001b[0m     data \u001b[38;5;241m=\u001b[39m \u001b[38;5;28;43mself\u001b[39;49m\u001b[38;5;241;43m.\u001b[39;49m\u001b[43m_dataset_fetcher\u001b[49m\u001b[38;5;241;43m.\u001b[39;49m\u001b[43mfetch\u001b[49m\u001b[43m(\u001b[49m\u001b[43mindex\u001b[49m\u001b[43m)\u001b[49m  \u001b[38;5;66;03m# may raise StopIteration\u001b[39;00m\n\u001b[1;32m    674\u001b[0m     \u001b[38;5;28;01mif\u001b[39;00m \u001b[38;5;28mself\u001b[39m\u001b[38;5;241m.\u001b[39m_pin_memory:\n\u001b[1;32m    675\u001b[0m         data \u001b[38;5;241m=\u001b[39m _utils\u001b[38;5;241m.\u001b[39mpin_memory\u001b[38;5;241m.\u001b[39mpin_memory(data, \u001b[38;5;28mself\u001b[39m\u001b[38;5;241m.\u001b[39m_pin_memory_device)\n",
            "File \u001b[0;32m~/miniconda3/envs/dataton/lib/python3.12/site-packages/torch/utils/data/_utils/fetch.py:52\u001b[0m, in \u001b[0;36m_MapDatasetFetcher.fetch\u001b[0;34m(self, possibly_batched_index)\u001b[0m\n\u001b[1;32m     50\u001b[0m         data \u001b[38;5;241m=\u001b[39m \u001b[38;5;28mself\u001b[39m\u001b[38;5;241m.\u001b[39mdataset\u001b[38;5;241m.\u001b[39m__getitems__(possibly_batched_index)\n\u001b[1;32m     51\u001b[0m     \u001b[38;5;28;01melse\u001b[39;00m:\n\u001b[0;32m---> 52\u001b[0m         data \u001b[38;5;241m=\u001b[39m [\u001b[38;5;28;43mself\u001b[39;49m\u001b[38;5;241;43m.\u001b[39;49m\u001b[43mdataset\u001b[49m\u001b[43m[\u001b[49m\u001b[43midx\u001b[49m\u001b[43m]\u001b[49m \u001b[38;5;28;01mfor\u001b[39;00m idx \u001b[38;5;129;01min\u001b[39;00m possibly_batched_index]\n\u001b[1;32m     53\u001b[0m \u001b[38;5;28;01melse\u001b[39;00m:\n\u001b[1;32m     54\u001b[0m     data \u001b[38;5;241m=\u001b[39m \u001b[38;5;28mself\u001b[39m\u001b[38;5;241m.\u001b[39mdataset[possibly_batched_index]\n",
            "File \u001b[0;32m~/Documents/dataton/common/purrfect/dataset.py:76\u001b[0m, in \u001b[0;36mEPKADataset.__getitem__\u001b[0;34m(self, idx)\u001b[0m\n\u001b[1;32m     74\u001b[0m EP_pth, KA_pth \u001b[38;5;241m=\u001b[39m \u001b[38;5;28mself\u001b[39m\u001b[38;5;241m.\u001b[39mdata_pairs[idx]\n\u001b[1;32m     75\u001b[0m EP \u001b[38;5;241m=\u001b[39m np\u001b[38;5;241m.\u001b[39mload(EP_pth)  \u001b[38;5;66;03m# Input\u001b[39;00m\n\u001b[0;32m---> 76\u001b[0m KA \u001b[38;5;241m=\u001b[39m \u001b[43mnp\u001b[49m\u001b[38;5;241;43m.\u001b[39;49m\u001b[43mload\u001b[49m\u001b[43m(\u001b[49m\u001b[43mKA_pth\u001b[49m\u001b[43m)\u001b[49m  \u001b[38;5;66;03m# Target\u001b[39;00m\n\u001b[1;32m     78\u001b[0m \u001b[38;5;66;03m# Convert numpy arrays to PyTorch tensors\u001b[39;00m\n\u001b[1;32m     79\u001b[0m EP \u001b[38;5;241m=\u001b[39m torch\u001b[38;5;241m.\u001b[39mfrom_numpy(EP)\u001b[38;5;241m.\u001b[39mfloat()  \u001b[38;5;66;03m# Convert to float tensor\u001b[39;00m\n",
            "File \u001b[0;32m~/miniconda3/envs/dataton/lib/python3.12/site-packages/numpy/lib/_npyio_impl.py:488\u001b[0m, in \u001b[0;36mload\u001b[0;34m(file, mmap_mode, allow_pickle, fix_imports, encoding, max_header_size)\u001b[0m\n\u001b[1;32m    485\u001b[0m         \u001b[38;5;28;01mreturn\u001b[39;00m \u001b[38;5;28mformat\u001b[39m\u001b[38;5;241m.\u001b[39mopen_memmap(file, mode\u001b[38;5;241m=\u001b[39mmmap_mode,\n\u001b[1;32m    486\u001b[0m                                   max_header_size\u001b[38;5;241m=\u001b[39mmax_header_size)\n\u001b[1;32m    487\u001b[0m     \u001b[38;5;28;01melse\u001b[39;00m:\n\u001b[0;32m--> 488\u001b[0m         \u001b[38;5;28;01mreturn\u001b[39;00m \u001b[38;5;28;43mformat\u001b[39;49m\u001b[38;5;241;43m.\u001b[39;49m\u001b[43mread_array\u001b[49m\u001b[43m(\u001b[49m\u001b[43mfid\u001b[49m\u001b[43m,\u001b[49m\u001b[43m \u001b[49m\u001b[43mallow_pickle\u001b[49m\u001b[38;5;241;43m=\u001b[39;49m\u001b[43mallow_pickle\u001b[49m\u001b[43m,\u001b[49m\n\u001b[1;32m    489\u001b[0m \u001b[43m                                 \u001b[49m\u001b[43mpickle_kwargs\u001b[49m\u001b[38;5;241;43m=\u001b[39;49m\u001b[43mpickle_kwargs\u001b[49m\u001b[43m,\u001b[49m\n\u001b[1;32m    490\u001b[0m \u001b[43m                                 \u001b[49m\u001b[43mmax_header_size\u001b[49m\u001b[38;5;241;43m=\u001b[39;49m\u001b[43mmax_header_size\u001b[49m\u001b[43m)\u001b[49m\n\u001b[1;32m    491\u001b[0m \u001b[38;5;28;01melse\u001b[39;00m:\n\u001b[1;32m    492\u001b[0m     \u001b[38;5;66;03m# Try a pickle\u001b[39;00m\n\u001b[1;32m    493\u001b[0m     \u001b[38;5;28;01mif\u001b[39;00m \u001b[38;5;129;01mnot\u001b[39;00m allow_pickle:\n",
            "File \u001b[0;32m~/miniconda3/envs/dataton/lib/python3.12/site-packages/numpy/lib/format.py:836\u001b[0m, in \u001b[0;36mread_array\u001b[0;34m(fp, allow_pickle, pickle_kwargs, max_header_size)\u001b[0m\n\u001b[1;32m    833\u001b[0m \u001b[38;5;28;01melse\u001b[39;00m:\n\u001b[1;32m    834\u001b[0m     \u001b[38;5;28;01mif\u001b[39;00m isfileobj(fp):\n\u001b[1;32m    835\u001b[0m         \u001b[38;5;66;03m# We can use the fast fromfile() function.\u001b[39;00m\n\u001b[0;32m--> 836\u001b[0m         array \u001b[38;5;241m=\u001b[39m \u001b[43mnumpy\u001b[49m\u001b[38;5;241;43m.\u001b[39;49m\u001b[43mfromfile\u001b[49m\u001b[43m(\u001b[49m\u001b[43mfp\u001b[49m\u001b[43m,\u001b[49m\u001b[43m \u001b[49m\u001b[43mdtype\u001b[49m\u001b[38;5;241;43m=\u001b[39;49m\u001b[43mdtype\u001b[49m\u001b[43m,\u001b[49m\u001b[43m \u001b[49m\u001b[43mcount\u001b[49m\u001b[38;5;241;43m=\u001b[39;49m\u001b[43mcount\u001b[49m\u001b[43m)\u001b[49m\n\u001b[1;32m    837\u001b[0m     \u001b[38;5;28;01melse\u001b[39;00m:\n\u001b[1;32m    838\u001b[0m         \u001b[38;5;66;03m# This is not a real file. We have to read it the\u001b[39;00m\n\u001b[1;32m    839\u001b[0m         \u001b[38;5;66;03m# memory-intensive way.\u001b[39;00m\n\u001b[0;32m   (...)\u001b[0m\n\u001b[1;32m    847\u001b[0m         \u001b[38;5;66;03m# not correctly instantiate zero-width string dtypes; see\u001b[39;00m\n\u001b[1;32m    848\u001b[0m         \u001b[38;5;66;03m# https://github.com/numpy/numpy/pull/6430\u001b[39;00m\n\u001b[1;32m    849\u001b[0m         array \u001b[38;5;241m=\u001b[39m numpy\u001b[38;5;241m.\u001b[39mndarray(count, dtype\u001b[38;5;241m=\u001b[39mdtype)\n",
            "\u001b[0;31mKeyboardInterrupt\u001b[0m: "
          ]
        }
      ],
      "source": [
        "many_partitions_v2(10,30,model,criterion,transform=transform)"
      ]
    },
    {
      "cell_type": "code",
      "execution_count": 12,
      "metadata": {},
      "outputs": [
        {
          "name": "stdout",
          "output_type": "stream",
          "text": [
            "Partition 21: training decoder\n",
            "Loaded best model from partition 20\n",
            "Epoch [1/50]\n"
          ]
        },
        {
          "name": "stderr",
          "output_type": "stream",
          "text": [
            "Train Epoch 1: 100%|██████████| 154/154 [00:48<00:00,  3.15it/s, WMAPE=3.06, DICE=0.0717, DPEAKS=38.7, Loss=0.00635]\n",
            "Validate Epoch 1: 100%|██████████| 39/39 [00:06<00:00,  5.61it/s, WMAPE=1.84, DICE=0.0571, DPEAKS=32.3, Loss=0.00553]\n"
          ]
        },
        {
          "name": "stdout",
          "output_type": "stream",
          "text": [
            "Saving best model\n",
            "Epoch [2/50]\n"
          ]
        },
        {
          "name": "stderr",
          "output_type": "stream",
          "text": [
            "Train Epoch 2: 100%|██████████| 154/154 [00:48<00:00,  3.14it/s, WMAPE=2.63, DICE=0.0713, DPEAKS=37.2, Loss=0.00625]\n",
            "Validate Epoch 2: 100%|██████████| 39/39 [00:06<00:00,  5.63it/s, WMAPE=1.75, DICE=0.0565, DPEAKS=30, Loss=0.00529]\n"
          ]
        },
        {
          "name": "stdout",
          "output_type": "stream",
          "text": [
            "Saving best model\n",
            "Epoch [3/50]\n"
          ]
        },
        {
          "name": "stderr",
          "output_type": "stream",
          "text": [
            "Train Epoch 3: 100%|██████████| 154/154 [00:48<00:00,  3.20it/s, WMAPE=2.91, DICE=0.0715, DPEAKS=37.4, Loss=0.00635]\n",
            "Validate Epoch 3: 100%|██████████| 39/39 [00:07<00:00,  5.55it/s, WMAPE=1.79, DICE=0.0568, DPEAKS=28.8, Loss=0.00536]\n"
          ]
        },
        {
          "name": "stdout",
          "output_type": "stream",
          "text": [
            "Epoch [4/50]\n"
          ]
        },
        {
          "name": "stderr",
          "output_type": "stream",
          "text": [
            "Train Epoch 4: 100%|██████████| 154/154 [00:48<00:00,  3.20it/s, WMAPE=2.57, DICE=0.0712, DPEAKS=37.8, Loss=0.00643]\n",
            "Validate Epoch 4: 100%|██████████| 39/39 [00:06<00:00,  5.67it/s, WMAPE=1.69, DICE=0.0569, DPEAKS=27.3, Loss=0.00523]\n"
          ]
        },
        {
          "name": "stdout",
          "output_type": "stream",
          "text": [
            "Saving best model\n",
            "Epoch [5/50]\n"
          ]
        },
        {
          "name": "stderr",
          "output_type": "stream",
          "text": [
            "Train Epoch 5: 100%|██████████| 154/154 [00:48<00:00,  3.20it/s, WMAPE=2.96, DICE=0.074, DPEAKS=41.4, Loss=0.00648]\n",
            "Validate Epoch 5: 100%|██████████| 39/39 [00:06<00:00,  5.71it/s, WMAPE=1.67, DICE=0.0577, DPEAKS=29.9, Loss=0.0053]\n"
          ]
        },
        {
          "name": "stdout",
          "output_type": "stream",
          "text": [
            "Epoch [6/50]\n"
          ]
        },
        {
          "name": "stderr",
          "output_type": "stream",
          "text": [
            "Train Epoch 6: 100%|██████████| 154/154 [00:48<00:00,  3.21it/s, WMAPE=3.23, DICE=0.0719, DPEAKS=38.2, Loss=0.00634]\n",
            "Validate Epoch 6: 100%|██████████| 39/39 [00:06<00:00,  5.67it/s, WMAPE=1.66, DICE=0.0571, DPEAKS=30.5, Loss=0.00524]\n"
          ]
        },
        {
          "name": "stdout",
          "output_type": "stream",
          "text": [
            "Epoch [7/50]\n"
          ]
        },
        {
          "name": "stderr",
          "output_type": "stream",
          "text": [
            "Train Epoch 7: 100%|██████████| 154/154 [00:47<00:00,  3.22it/s, WMAPE=2.74, DICE=0.0713, DPEAKS=37.1, Loss=0.00625]\n",
            "Validate Epoch 7: 100%|██████████| 39/39 [00:06<00:00,  5.66it/s, WMAPE=1.69, DICE=0.0565, DPEAKS=29.4, Loss=0.00527]\n"
          ]
        },
        {
          "name": "stdout",
          "output_type": "stream",
          "text": [
            "Epoch [8/50]\n"
          ]
        },
        {
          "name": "stderr",
          "output_type": "stream",
          "text": [
            "Train Epoch 8: 100%|██████████| 154/154 [00:47<00:00,  3.21it/s, WMAPE=3.69, DICE=0.0712, DPEAKS=37.8, Loss=0.00623]\n",
            "Validate Epoch 8: 100%|██████████| 39/39 [00:06<00:00,  5.62it/s, WMAPE=2.22, DICE=0.0564, DPEAKS=29.7, Loss=0.00632]\n"
          ]
        },
        {
          "name": "stdout",
          "output_type": "stream",
          "text": [
            "Epoch [9/50]\n"
          ]
        },
        {
          "name": "stderr",
          "output_type": "stream",
          "text": [
            "Train Epoch 9: 100%|██████████| 154/154 [00:47<00:00,  3.22it/s, WMAPE=2.96, DICE=0.071, DPEAKS=37.6, Loss=0.00633]\n",
            "Validate Epoch 9: 100%|██████████| 39/39 [00:06<00:00,  5.72it/s, WMAPE=1.74, DICE=0.0571, DPEAKS=32.7, Loss=0.00526]\n"
          ]
        },
        {
          "name": "stdout",
          "output_type": "stream",
          "text": [
            "early stopping: 5 epochs without improvement\n",
            "Training complete.\n"
          ]
        },
        {
          "name": "stderr",
          "output_type": "stream",
          "text": [
            "Validate Epoch test: 100%|██████████| 971/971 [03:42<00:00,  4.37it/s, WMAPE=1.69, DICE=0.057, DPEAKS=29.9, Loss=0.00528]\n"
          ]
        },
        {
          "name": "stdout",
          "output_type": "stream",
          "text": [
            "Partition 22: training decoder\n",
            "Loaded best model from partition 21\n",
            "Epoch [1/50]\n"
          ]
        },
        {
          "name": "stderr",
          "output_type": "stream",
          "text": [
            "Train Epoch 1: 100%|██████████| 154/154 [00:54<00:00,  2.81it/s, WMAPE=2.59, DICE=0.0714, DPEAKS=38.4, Loss=0.00632]\n",
            "Validate Epoch 1: 100%|██████████| 39/39 [00:08<00:00,  4.81it/s, WMAPE=1.8, DICE=0.0581, DPEAKS=32.1, Loss=0.00541]\n"
          ]
        },
        {
          "name": "stdout",
          "output_type": "stream",
          "text": [
            "Saving best model\n",
            "Epoch [2/50]\n"
          ]
        },
        {
          "name": "stderr",
          "output_type": "stream",
          "text": [
            "Train Epoch 2: 100%|██████████| 154/154 [00:48<00:00,  3.19it/s, WMAPE=2.74, DICE=0.0713, DPEAKS=36.1, Loss=0.00627]\n",
            "Validate Epoch 2: 100%|██████████| 39/39 [00:06<00:00,  5.63it/s, WMAPE=1.95, DICE=0.0571, DPEAKS=29.7, Loss=0.00594]\n"
          ]
        },
        {
          "name": "stdout",
          "output_type": "stream",
          "text": [
            "Epoch [3/50]\n"
          ]
        },
        {
          "name": "stderr",
          "output_type": "stream",
          "text": [
            "Train Epoch 3: 100%|██████████| 154/154 [00:48<00:00,  3.20it/s, WMAPE=2.75, DICE=0.0711, DPEAKS=37.4, Loss=0.00624]\n",
            "Validate Epoch 3: 100%|██████████| 39/39 [00:06<00:00,  5.72it/s, WMAPE=1.75, DICE=0.0564, DPEAKS=27.6, Loss=0.0054]\n"
          ]
        },
        {
          "name": "stdout",
          "output_type": "stream",
          "text": [
            "Saving best model\n",
            "Epoch [4/50]\n"
          ]
        },
        {
          "name": "stderr",
          "output_type": "stream",
          "text": [
            "Train Epoch 4: 100%|██████████| 154/154 [00:46<00:00,  3.35it/s, WMAPE=2.76, DICE=0.0709, DPEAKS=36.7, Loss=0.0063]\n",
            "Validate Epoch 4: 100%|██████████| 39/39 [00:06<00:00,  6.07it/s, WMAPE=1.77, DICE=0.0568, DPEAKS=27.4, Loss=0.00535]\n"
          ]
        },
        {
          "name": "stdout",
          "output_type": "stream",
          "text": [
            "Saving best model\n",
            "Epoch [5/50]\n"
          ]
        },
        {
          "name": "stderr",
          "output_type": "stream",
          "text": [
            "Train Epoch 5: 100%|██████████| 154/154 [00:45<00:00,  3.41it/s, WMAPE=2.75, DICE=0.0725, DPEAKS=39.7, Loss=0.00638]\n",
            "Validate Epoch 5: 100%|██████████| 39/39 [00:06<00:00,  6.05it/s, WMAPE=1.96, DICE=0.0575, DPEAKS=30.8, Loss=0.00614]\n"
          ]
        },
        {
          "name": "stdout",
          "output_type": "stream",
          "text": [
            "Epoch [6/50]\n"
          ]
        },
        {
          "name": "stderr",
          "output_type": "stream",
          "text": [
            "Train Epoch 6: 100%|██████████| 154/154 [00:45<00:00,  3.40it/s, WMAPE=4.66, DICE=0.0714, DPEAKS=37.7, Loss=0.00625]\n",
            "Validate Epoch 6: 100%|██████████| 39/39 [00:06<00:00,  6.07it/s, WMAPE=1.72, DICE=0.0566, DPEAKS=30.1, Loss=0.00536]\n"
          ]
        },
        {
          "name": "stdout",
          "output_type": "stream",
          "text": [
            "Epoch [7/50]\n"
          ]
        },
        {
          "name": "stderr",
          "output_type": "stream",
          "text": [
            "Train Epoch 7: 100%|██████████| 154/154 [00:45<00:00,  3.42it/s, WMAPE=3.13, DICE=0.0712, DPEAKS=38.7, Loss=0.00633]\n",
            "Validate Epoch 7: 100%|██████████| 39/39 [00:06<00:00,  6.10it/s, WMAPE=1.87, DICE=0.057, DPEAKS=29.5, Loss=0.00549]\n"
          ]
        },
        {
          "name": "stdout",
          "output_type": "stream",
          "text": [
            "Epoch [8/50]\n"
          ]
        },
        {
          "name": "stderr",
          "output_type": "stream",
          "text": [
            "Train Epoch 8: 100%|██████████| 154/154 [00:45<00:00,  3.42it/s, WMAPE=2.66, DICE=0.071, DPEAKS=36.6, Loss=0.00624]\n",
            "Validate Epoch 8: 100%|██████████| 39/39 [00:06<00:00,  6.06it/s, WMAPE=2.06, DICE=0.0571, DPEAKS=29, Loss=0.00598]\n"
          ]
        },
        {
          "name": "stdout",
          "output_type": "stream",
          "text": [
            "Epoch [9/50]\n"
          ]
        },
        {
          "name": "stderr",
          "output_type": "stream",
          "text": [
            "Train Epoch 9: 100%|██████████| 154/154 [00:45<00:00,  3.41it/s, WMAPE=3.04, DICE=0.071, DPEAKS=37.2, Loss=0.00619]\n",
            "Validate Epoch 9: 100%|██████████| 39/39 [00:06<00:00,  6.02it/s, WMAPE=1.93, DICE=0.0578, DPEAKS=31.3, Loss=0.00617]\n"
          ]
        },
        {
          "name": "stdout",
          "output_type": "stream",
          "text": [
            "early stopping: 5 epochs without improvement\n",
            "Training complete.\n"
          ]
        },
        {
          "name": "stderr",
          "output_type": "stream",
          "text": [
            "Validate Epoch test: 100%|██████████| 971/971 [03:29<00:00,  4.63it/s, WMAPE=1.74, DICE=0.0567, DPEAKS=29.6, Loss=0.00524]\n"
          ]
        },
        {
          "name": "stdout",
          "output_type": "stream",
          "text": [
            "Partition 23: training decoder\n",
            "Loaded best model from partition 22\n",
            "Epoch [1/50]\n"
          ]
        },
        {
          "name": "stderr",
          "output_type": "stream",
          "text": [
            "Train Epoch 1: 100%|██████████| 154/154 [00:51<00:00,  3.00it/s, WMAPE=8.73, DICE=0.0711, DPEAKS=37.8, Loss=0.0063]\n",
            "Validate Epoch 1: 100%|██████████| 39/39 [00:07<00:00,  5.09it/s, WMAPE=1.66, DICE=0.0564, DPEAKS=30.4, Loss=0.00528]\n"
          ]
        },
        {
          "name": "stdout",
          "output_type": "stream",
          "text": [
            "Saving best model\n",
            "Epoch [2/50]\n"
          ]
        },
        {
          "name": "stderr",
          "output_type": "stream",
          "text": [
            "Train Epoch 2: 100%|██████████| 154/154 [00:45<00:00,  3.38it/s, WMAPE=2.69, DICE=0.0712, DPEAKS=35.9, Loss=0.00632]\n",
            "Validate Epoch 2: 100%|██████████| 39/39 [00:06<00:00,  5.64it/s, WMAPE=2.11, DICE=0.0568, DPEAKS=30.6, Loss=0.00603]\n"
          ]
        },
        {
          "name": "stdout",
          "output_type": "stream",
          "text": [
            "Epoch [3/50]\n"
          ]
        },
        {
          "name": "stderr",
          "output_type": "stream",
          "text": [
            "Train Epoch 3: 100%|██████████| 154/154 [00:48<00:00,  3.21it/s, WMAPE=123, DICE=0.071, DPEAKS=38.6, Loss=0.0063]\n",
            "Validate Epoch 3: 100%|██████████| 39/39 [00:06<00:00,  5.67it/s, WMAPE=1.96, DICE=0.0566, DPEAKS=31.4, Loss=0.006]\n"
          ]
        },
        {
          "name": "stdout",
          "output_type": "stream",
          "text": [
            "Epoch [4/50]\n"
          ]
        },
        {
          "name": "stderr",
          "output_type": "stream",
          "text": [
            "Train Epoch 4: 100%|██████████| 154/154 [00:47<00:00,  3.23it/s, WMAPE=2.64, DICE=0.0711, DPEAKS=38.3, Loss=0.00634]\n",
            "Validate Epoch 4: 100%|██████████| 39/39 [00:06<00:00,  5.61it/s, WMAPE=1.75, DICE=0.0573, DPEAKS=30.7, Loss=0.00519]\n"
          ]
        },
        {
          "name": "stdout",
          "output_type": "stream",
          "text": [
            "Saving best model\n",
            "Epoch [5/50]\n"
          ]
        },
        {
          "name": "stderr",
          "output_type": "stream",
          "text": [
            "Train Epoch 5: 100%|██████████| 154/154 [00:48<00:00,  3.19it/s, WMAPE=2.76, DICE=0.071, DPEAKS=36.9, Loss=0.00629]\n",
            "Validate Epoch 5: 100%|██████████| 39/39 [00:06<00:00,  5.71it/s, WMAPE=1.81, DICE=0.0567, DPEAKS=31.5, Loss=0.00564]\n"
          ]
        },
        {
          "name": "stdout",
          "output_type": "stream",
          "text": [
            "Epoch [6/50]\n"
          ]
        },
        {
          "name": "stderr",
          "output_type": "stream",
          "text": [
            "Train Epoch 6: 100%|██████████| 154/154 [00:48<00:00,  3.21it/s, WMAPE=2.72, DICE=0.0709, DPEAKS=37, Loss=0.00616]\n",
            "Validate Epoch 6: 100%|██████████| 39/39 [00:06<00:00,  5.67it/s, WMAPE=1.69, DICE=0.0565, DPEAKS=31.2, Loss=0.00561]\n"
          ]
        },
        {
          "name": "stdout",
          "output_type": "stream",
          "text": [
            "Epoch [7/50]\n"
          ]
        },
        {
          "name": "stderr",
          "output_type": "stream",
          "text": [
            "Train Epoch 7: 100%|██████████| 154/154 [00:47<00:00,  3.22it/s, WMAPE=3.72, DICE=0.0708, DPEAKS=37.1, Loss=0.00622]\n",
            "Validate Epoch 7: 100%|██████████| 39/39 [00:06<00:00,  5.62it/s, WMAPE=1.7, DICE=0.0564, DPEAKS=31.5, Loss=0.0052]\n"
          ]
        },
        {
          "name": "stdout",
          "output_type": "stream",
          "text": [
            "Epoch [8/50]\n"
          ]
        },
        {
          "name": "stderr",
          "output_type": "stream",
          "text": [
            "Train Epoch 8: 100%|██████████| 154/154 [00:47<00:00,  3.22it/s, WMAPE=2.55, DICE=0.071, DPEAKS=37.7, Loss=0.0063]\n",
            "Validate Epoch 8: 100%|██████████| 39/39 [00:06<00:00,  5.64it/s, WMAPE=1.83, DICE=0.0572, DPEAKS=32.9, Loss=0.00535]\n"
          ]
        },
        {
          "name": "stdout",
          "output_type": "stream",
          "text": [
            "Epoch [9/50]\n"
          ]
        },
        {
          "name": "stderr",
          "output_type": "stream",
          "text": [
            "Train Epoch 9: 100%|██████████| 154/154 [00:48<00:00,  3.20it/s, WMAPE=2.72, DICE=0.0711, DPEAKS=36.3, Loss=0.0062]\n",
            "Validate Epoch 9: 100%|██████████| 39/39 [00:06<00:00,  5.59it/s, WMAPE=1.68, DICE=0.0566, DPEAKS=31, Loss=0.00517]\n"
          ]
        },
        {
          "name": "stdout",
          "output_type": "stream",
          "text": [
            "Saving best model\n",
            "Epoch [10/50]\n"
          ]
        },
        {
          "name": "stderr",
          "output_type": "stream",
          "text": [
            "Train Epoch 10: 100%|██████████| 154/154 [00:48<00:00,  3.20it/s, WMAPE=3.32, DICE=0.0711, DPEAKS=36.9, Loss=0.0062]\n",
            "Validate Epoch 10: 100%|██████████| 39/39 [00:06<00:00,  5.73it/s, WMAPE=1.68, DICE=0.057, DPEAKS=30.1, Loss=0.00527]\n"
          ]
        },
        {
          "name": "stdout",
          "output_type": "stream",
          "text": [
            "Epoch [11/50]\n"
          ]
        },
        {
          "name": "stderr",
          "output_type": "stream",
          "text": [
            "Train Epoch 11: 100%|██████████| 154/154 [00:47<00:00,  3.21it/s, WMAPE=2.53, DICE=0.0709, DPEAKS=38.2, Loss=0.00619]\n",
            "Validate Epoch 11: 100%|██████████| 39/39 [00:06<00:00,  5.61it/s, WMAPE=1.71, DICE=0.0565, DPEAKS=34.9, Loss=0.00539]\n"
          ]
        },
        {
          "name": "stdout",
          "output_type": "stream",
          "text": [
            "Epoch [12/50]\n"
          ]
        },
        {
          "name": "stderr",
          "output_type": "stream",
          "text": [
            "Train Epoch 12: 100%|██████████| 154/154 [00:47<00:00,  3.21it/s, WMAPE=2.47, DICE=0.0709, DPEAKS=35.9, Loss=0.00617]\n",
            "Validate Epoch 12: 100%|██████████| 39/39 [00:06<00:00,  5.75it/s, WMAPE=1.74, DICE=0.0569, DPEAKS=32.6, Loss=0.00526]\n"
          ]
        },
        {
          "name": "stdout",
          "output_type": "stream",
          "text": [
            "Epoch [13/50]\n"
          ]
        },
        {
          "name": "stderr",
          "output_type": "stream",
          "text": [
            "Train Epoch 13: 100%|██████████| 154/154 [00:48<00:00,  3.20it/s, WMAPE=2.94, DICE=0.0712, DPEAKS=37.7, Loss=0.00628]\n",
            "Validate Epoch 13: 100%|██████████| 39/39 [00:06<00:00,  5.65it/s, WMAPE=1.84, DICE=0.0572, DPEAKS=31.4, Loss=0.00538]\n"
          ]
        },
        {
          "name": "stdout",
          "output_type": "stream",
          "text": [
            "Epoch [14/50]\n"
          ]
        },
        {
          "name": "stderr",
          "output_type": "stream",
          "text": [
            "Train Epoch 14: 100%|██████████| 154/154 [00:47<00:00,  3.21it/s, WMAPE=2.37, DICE=0.0708, DPEAKS=37.1, Loss=0.00615]\n",
            "Validate Epoch 14: 100%|██████████| 39/39 [00:06<00:00,  5.61it/s, WMAPE=1.75, DICE=0.0568, DPEAKS=29.9, Loss=0.00526]\n"
          ]
        },
        {
          "name": "stdout",
          "output_type": "stream",
          "text": [
            "early stopping: 5 epochs without improvement\n",
            "Training complete.\n"
          ]
        },
        {
          "name": "stderr",
          "output_type": "stream",
          "text": [
            "Validate Epoch test: 100%|██████████| 971/971 [03:41<00:00,  4.39it/s, WMAPE=1.67, DICE=0.0565, DPEAKS=29.7, Loss=0.00522]\n"
          ]
        },
        {
          "name": "stdout",
          "output_type": "stream",
          "text": [
            "Partition 24: training decoder\n",
            "Loaded best model from partition 23\n",
            "Epoch [1/50]\n"
          ]
        },
        {
          "name": "stderr",
          "output_type": "stream",
          "text": [
            "Train Epoch 1: 100%|██████████| 154/154 [00:52<00:00,  2.91it/s, WMAPE=3.66, DICE=0.0712, DPEAKS=37.4, Loss=0.00629]\n",
            "Validate Epoch 1: 100%|██████████| 39/39 [00:07<00:00,  5.03it/s, WMAPE=1.66, DICE=0.0562, DPEAKS=32.3, Loss=0.00507]\n"
          ]
        },
        {
          "name": "stdout",
          "output_type": "stream",
          "text": [
            "Saving best model\n",
            "Epoch [2/50]\n"
          ]
        },
        {
          "name": "stderr",
          "output_type": "stream",
          "text": [
            "Train Epoch 2: 100%|██████████| 154/154 [00:45<00:00,  3.41it/s, WMAPE=2.96, DICE=0.0709, DPEAKS=37.7, Loss=0.00631]\n",
            "Validate Epoch 2: 100%|██████████| 39/39 [00:06<00:00,  6.08it/s, WMAPE=1.84, DICE=0.0571, DPEAKS=31.4, Loss=0.00535]\n"
          ]
        },
        {
          "name": "stdout",
          "output_type": "stream",
          "text": [
            "Epoch [3/50]\n"
          ]
        },
        {
          "name": "stderr",
          "output_type": "stream",
          "text": [
            "Train Epoch 3: 100%|██████████| 154/154 [00:45<00:00,  3.42it/s, WMAPE=2.8, DICE=0.0712, DPEAKS=37.4, Loss=0.00638]\n",
            "Validate Epoch 3: 100%|██████████| 39/39 [00:06<00:00,  6.03it/s, WMAPE=1.97, DICE=0.0565, DPEAKS=32.4, Loss=0.00602]\n"
          ]
        },
        {
          "name": "stdout",
          "output_type": "stream",
          "text": [
            "Epoch [4/50]\n"
          ]
        },
        {
          "name": "stderr",
          "output_type": "stream",
          "text": [
            "Train Epoch 4: 100%|██████████| 154/154 [00:45<00:00,  3.40it/s, WMAPE=2.91, DICE=0.071, DPEAKS=39, Loss=0.00623]\n",
            "Validate Epoch 4: 100%|██████████| 39/39 [00:06<00:00,  6.02it/s, WMAPE=1.74, DICE=0.0566, DPEAKS=33.1, Loss=0.00533]\n"
          ]
        },
        {
          "name": "stdout",
          "output_type": "stream",
          "text": [
            "Epoch [5/50]\n"
          ]
        },
        {
          "name": "stderr",
          "output_type": "stream",
          "text": [
            "Train Epoch 5: 100%|██████████| 154/154 [00:44<00:00,  3.43it/s, WMAPE=2.57, DICE=0.0713, DPEAKS=37.6, Loss=0.00633]\n",
            "Validate Epoch 5: 100%|██████████| 39/39 [00:06<00:00,  6.08it/s, WMAPE=1.72, DICE=0.057, DPEAKS=33.3, Loss=0.00531]\n"
          ]
        },
        {
          "name": "stdout",
          "output_type": "stream",
          "text": [
            "Epoch [6/50]\n"
          ]
        },
        {
          "name": "stderr",
          "output_type": "stream",
          "text": [
            "Train Epoch 6: 100%|██████████| 154/154 [00:44<00:00,  3.43it/s, WMAPE=2.49, DICE=0.0711, DPEAKS=37.1, Loss=0.0062]\n",
            "Validate Epoch 6: 100%|██████████| 39/39 [00:06<00:00,  6.11it/s, WMAPE=1.77, DICE=0.0565, DPEAKS=32.9, Loss=0.00541]\n"
          ]
        },
        {
          "name": "stdout",
          "output_type": "stream",
          "text": [
            "Epoch [7/50]\n"
          ]
        },
        {
          "name": "stderr",
          "output_type": "stream",
          "text": [
            "Train Epoch 7: 100%|██████████| 154/154 [00:44<00:00,  3.42it/s, WMAPE=2.45, DICE=0.0714, DPEAKS=37.3, Loss=0.0062]\n",
            "Validate Epoch 7: 100%|██████████| 39/39 [00:06<00:00,  5.91it/s, WMAPE=2.02, DICE=0.0563, DPEAKS=31.7, Loss=0.00586]\n"
          ]
        },
        {
          "name": "stdout",
          "output_type": "stream",
          "text": [
            "Epoch [8/50]\n"
          ]
        },
        {
          "name": "stderr",
          "output_type": "stream",
          "text": [
            "Train Epoch 8: 100%|██████████| 154/154 [00:45<00:00,  3.41it/s, WMAPE=2.85, DICE=0.071, DPEAKS=36.7, Loss=0.0063]\n",
            "Validate Epoch 8: 100%|██████████| 39/39 [00:06<00:00,  6.11it/s, WMAPE=2.14, DICE=0.0569, DPEAKS=37.5, Loss=0.00632]\n"
          ]
        },
        {
          "name": "stdout",
          "output_type": "stream",
          "text": [
            "early stopping: 7 epochs without improvement\n",
            "Training complete.\n"
          ]
        },
        {
          "name": "stderr",
          "output_type": "stream",
          "text": [
            "Validate Epoch test: 100%|██████████| 971/971 [03:29<00:00,  4.63it/s, WMAPE=1.68, DICE=0.0561, DPEAKS=28.7, Loss=0.00519]\n"
          ]
        },
        {
          "name": "stdout",
          "output_type": "stream",
          "text": [
            "Partition 25: training decoder\n",
            "Loaded best model from partition 24\n",
            "Epoch [1/50]\n"
          ]
        },
        {
          "name": "stderr",
          "output_type": "stream",
          "text": [
            "Train Epoch 1: 100%|██████████| 154/154 [00:51<00:00,  3.01it/s, WMAPE=2.75, DICE=0.071, DPEAKS=36.7, Loss=0.00623]\n",
            "Validate Epoch 1: 100%|██████████| 39/39 [00:07<00:00,  5.04it/s, WMAPE=1.62, DICE=0.056, DPEAKS=27.8, Loss=0.00516]\n"
          ]
        },
        {
          "name": "stdout",
          "output_type": "stream",
          "text": [
            "Saving best model\n",
            "Epoch [2/50]\n"
          ]
        },
        {
          "name": "stderr",
          "output_type": "stream",
          "text": [
            "Train Epoch 2: 100%|██████████| 154/154 [00:45<00:00,  3.42it/s, WMAPE=2.4, DICE=0.071, DPEAKS=38.9, Loss=0.00618]\n",
            "Validate Epoch 2: 100%|██████████| 39/39 [00:06<00:00,  6.08it/s, WMAPE=1.64, DICE=0.0567, DPEAKS=33.4, Loss=0.00526]\n"
          ]
        },
        {
          "name": "stdout",
          "output_type": "stream",
          "text": [
            "Epoch [3/50]\n"
          ]
        },
        {
          "name": "stderr",
          "output_type": "stream",
          "text": [
            "Train Epoch 3: 100%|██████████| 154/154 [00:45<00:00,  3.41it/s, WMAPE=5.07, DICE=0.0712, DPEAKS=36.5, Loss=0.00626]\n",
            "Validate Epoch 3: 100%|██████████| 39/39 [00:06<00:00,  6.12it/s, WMAPE=1.82, DICE=0.0572, DPEAKS=31.7, Loss=0.00542]\n"
          ]
        },
        {
          "name": "stdout",
          "output_type": "stream",
          "text": [
            "Epoch [4/50]\n"
          ]
        },
        {
          "name": "stderr",
          "output_type": "stream",
          "text": [
            "Train Epoch 4: 100%|██████████| 154/154 [00:45<00:00,  3.41it/s, WMAPE=2.87, DICE=0.0708, DPEAKS=38.1, Loss=0.00637]\n",
            "Validate Epoch 4: 100%|██████████| 39/39 [00:06<00:00,  5.97it/s, WMAPE=1.62, DICE=0.0583, DPEAKS=34.2, Loss=0.00533]\n"
          ]
        },
        {
          "name": "stdout",
          "output_type": "stream",
          "text": [
            "Epoch [5/50]\n"
          ]
        },
        {
          "name": "stderr",
          "output_type": "stream",
          "text": [
            "Train Epoch 5: 100%|██████████| 154/154 [00:45<00:00,  3.42it/s, WMAPE=3.17, DICE=0.0735, DPEAKS=40.1, Loss=0.00637]\n",
            "Validate Epoch 5: 100%|██████████| 39/39 [00:06<00:00,  6.09it/s, WMAPE=1.73, DICE=0.0572, DPEAKS=33.2, Loss=0.00542]\n"
          ]
        },
        {
          "name": "stdout",
          "output_type": "stream",
          "text": [
            "Epoch [6/50]\n"
          ]
        },
        {
          "name": "stderr",
          "output_type": "stream",
          "text": [
            "Train Epoch 6: 100%|██████████| 154/154 [00:44<00:00,  3.43it/s, WMAPE=2.47, DICE=0.0714, DPEAKS=40, Loss=0.00615]\n",
            "Validate Epoch 6: 100%|██████████| 39/39 [00:06<00:00,  6.07it/s, WMAPE=1.77, DICE=0.0571, DPEAKS=33.1, Loss=0.0058]\n"
          ]
        },
        {
          "name": "stdout",
          "output_type": "stream",
          "text": [
            "Epoch [7/50]\n"
          ]
        },
        {
          "name": "stderr",
          "output_type": "stream",
          "text": [
            "Train Epoch 7: 100%|██████████| 154/154 [00:45<00:00,  3.41it/s, WMAPE=3.79, DICE=0.0711, DPEAKS=37, Loss=0.0062]\n",
            "Validate Epoch 7: 100%|██████████| 39/39 [00:06<00:00,  6.02it/s, WMAPE=1.66, DICE=0.0574, DPEAKS=32.9, Loss=0.00525]\n"
          ]
        },
        {
          "name": "stdout",
          "output_type": "stream",
          "text": [
            "Epoch [8/50]\n"
          ]
        },
        {
          "name": "stderr",
          "output_type": "stream",
          "text": [
            "Train Epoch 8: 100%|██████████| 154/154 [00:45<00:00,  3.42it/s, WMAPE=3.15, DICE=0.0711, DPEAKS=37.6, Loss=0.00621]\n",
            "Validate Epoch 8: 100%|██████████| 39/39 [00:06<00:00,  6.08it/s, WMAPE=2.09, DICE=0.0572, DPEAKS=32.6, Loss=0.0063]\n"
          ]
        },
        {
          "name": "stdout",
          "output_type": "stream",
          "text": [
            "early stopping: 7 epochs without improvement\n",
            "Training complete.\n"
          ]
        },
        {
          "name": "stderr",
          "output_type": "stream",
          "text": [
            "Validate Epoch test: 100%|██████████| 971/971 [03:32<00:00,  4.57it/s, WMAPE=1.66, DICE=0.0558, DPEAKS=28.9, Loss=0.00512]\n"
          ]
        },
        {
          "name": "stdout",
          "output_type": "stream",
          "text": [
            "Partition 26: training decoder\n",
            "Loaded best model from partition 25\n",
            "Epoch [1/50]\n"
          ]
        },
        {
          "name": "stderr",
          "output_type": "stream",
          "text": [
            "Train Epoch 1: 100%|██████████| 154/154 [00:51<00:00,  2.98it/s, WMAPE=2.88, DICE=0.0709, DPEAKS=38.1, Loss=0.00618]\n",
            "Validate Epoch 1: 100%|██████████| 39/39 [00:07<00:00,  5.08it/s, WMAPE=1.74, DICE=0.0565, DPEAKS=30.2, Loss=0.00545]\n"
          ]
        },
        {
          "name": "stdout",
          "output_type": "stream",
          "text": [
            "Saving best model\n",
            "Epoch [2/50]\n"
          ]
        },
        {
          "name": "stderr",
          "output_type": "stream",
          "text": [
            "Train Epoch 2: 100%|██████████| 154/154 [00:44<00:00,  3.43it/s, WMAPE=3.29, DICE=0.0708, DPEAKS=36.9, Loss=0.00616]\n",
            "Validate Epoch 2: 100%|██████████| 39/39 [00:06<00:00,  6.10it/s, WMAPE=1.69, DICE=0.0567, DPEAKS=27.5, Loss=0.00518]\n"
          ]
        },
        {
          "name": "stdout",
          "output_type": "stream",
          "text": [
            "Saving best model\n",
            "Epoch [3/50]\n"
          ]
        },
        {
          "name": "stderr",
          "output_type": "stream",
          "text": [
            "Train Epoch 3: 100%|██████████| 154/154 [00:45<00:00,  3.41it/s, WMAPE=2.53, DICE=0.0708, DPEAKS=35.7, Loss=0.00611]\n",
            "Validate Epoch 3: 100%|██████████| 39/39 [00:06<00:00,  6.10it/s, WMAPE=1.66, DICE=0.057, DPEAKS=29.2, Loss=0.00528]\n"
          ]
        },
        {
          "name": "stdout",
          "output_type": "stream",
          "text": [
            "Epoch [4/50]\n"
          ]
        },
        {
          "name": "stderr",
          "output_type": "stream",
          "text": [
            "Train Epoch 4: 100%|██████████| 154/154 [00:44<00:00,  3.44it/s, WMAPE=2.45, DICE=0.0707, DPEAKS=36.5, Loss=0.00615]\n",
            "Validate Epoch 4: 100%|██████████| 39/39 [00:06<00:00,  6.09it/s, WMAPE=1.76, DICE=0.0575, DPEAKS=26.5, Loss=0.00539]\n"
          ]
        },
        {
          "name": "stdout",
          "output_type": "stream",
          "text": [
            "Epoch [5/50]\n"
          ]
        },
        {
          "name": "stderr",
          "output_type": "stream",
          "text": [
            "Train Epoch 5: 100%|██████████| 154/154 [00:45<00:00,  3.42it/s, WMAPE=3.66, DICE=0.0707, DPEAKS=37.5, Loss=0.00617]\n",
            "Validate Epoch 5: 100%|██████████| 39/39 [00:06<00:00,  6.12it/s, WMAPE=1.66, DICE=0.057, DPEAKS=28.2, Loss=0.00515]\n"
          ]
        },
        {
          "name": "stdout",
          "output_type": "stream",
          "text": [
            "Saving best model\n",
            "Epoch [6/50]\n"
          ]
        },
        {
          "name": "stderr",
          "output_type": "stream",
          "text": [
            "Train Epoch 6: 100%|██████████| 154/154 [00:44<00:00,  3.42it/s, WMAPE=2.77, DICE=0.0708, DPEAKS=36.5, Loss=0.00619]\n",
            "Validate Epoch 6: 100%|██████████| 39/39 [00:06<00:00,  6.08it/s, WMAPE=1.86, DICE=0.0584, DPEAKS=29.7, Loss=0.00572]\n"
          ]
        },
        {
          "name": "stdout",
          "output_type": "stream",
          "text": [
            "Epoch [7/50]\n"
          ]
        },
        {
          "name": "stderr",
          "output_type": "stream",
          "text": [
            "Train Epoch 7: 100%|██████████| 154/154 [00:45<00:00,  3.41it/s, WMAPE=2.71, DICE=0.0709, DPEAKS=37.1, Loss=0.00616]\n",
            "Validate Epoch 7: 100%|██████████| 39/39 [00:06<00:00,  6.11it/s, WMAPE=1.68, DICE=0.0569, DPEAKS=26.3, Loss=0.00514]\n"
          ]
        },
        {
          "name": "stdout",
          "output_type": "stream",
          "text": [
            "Saving best model\n",
            "Epoch [8/50]\n"
          ]
        },
        {
          "name": "stderr",
          "output_type": "stream",
          "text": [
            "Train Epoch 8: 100%|██████████| 154/154 [00:45<00:00,  3.42it/s, WMAPE=3.04, DICE=0.0705, DPEAKS=35.1, Loss=0.00613]\n",
            "Validate Epoch 8: 100%|██████████| 39/39 [00:06<00:00,  6.07it/s, WMAPE=1.62, DICE=0.0569, DPEAKS=27.9, Loss=0.0051]\n"
          ]
        },
        {
          "name": "stdout",
          "output_type": "stream",
          "text": [
            "Saving best model\n",
            "Epoch [9/50]\n"
          ]
        },
        {
          "name": "stderr",
          "output_type": "stream",
          "text": [
            "Train Epoch 9: 100%|██████████| 154/154 [00:44<00:00,  3.43it/s, WMAPE=2.89, DICE=0.0706, DPEAKS=33.9, Loss=0.00613]\n",
            "Validate Epoch 9: 100%|██████████| 39/39 [00:06<00:00,  6.04it/s, WMAPE=2, DICE=0.0573, DPEAKS=29.7, Loss=0.00594]\n"
          ]
        },
        {
          "name": "stdout",
          "output_type": "stream",
          "text": [
            "Epoch [10/50]\n"
          ]
        },
        {
          "name": "stderr",
          "output_type": "stream",
          "text": [
            "Train Epoch 10: 100%|██████████| 154/154 [00:45<00:00,  3.42it/s, WMAPE=3.06, DICE=0.071, DPEAKS=37.1, Loss=0.00619]\n",
            "Validate Epoch 10: 100%|██████████| 39/39 [00:06<00:00,  6.08it/s, WMAPE=1.58, DICE=0.0569, DPEAKS=27.6, Loss=0.00527]\n"
          ]
        },
        {
          "name": "stdout",
          "output_type": "stream",
          "text": [
            "Epoch [11/50]\n"
          ]
        },
        {
          "name": "stderr",
          "output_type": "stream",
          "text": [
            "Train Epoch 11: 100%|██████████| 154/154 [00:45<00:00,  3.41it/s, WMAPE=3.03, DICE=0.0719, DPEAKS=37.8, Loss=0.0063]\n",
            "Validate Epoch 11: 100%|██████████| 39/39 [00:06<00:00,  6.13it/s, WMAPE=1.78, DICE=0.0568, DPEAKS=28.3, Loss=0.00541]\n"
          ]
        },
        {
          "name": "stdout",
          "output_type": "stream",
          "text": [
            "Epoch [12/50]\n"
          ]
        },
        {
          "name": "stderr",
          "output_type": "stream",
          "text": [
            "Train Epoch 12: 100%|██████████| 154/154 [00:44<00:00,  3.42it/s, WMAPE=2.81, DICE=0.071, DPEAKS=36.6, Loss=0.00615]\n",
            "Validate Epoch 12: 100%|██████████| 39/39 [00:06<00:00,  6.00it/s, WMAPE=1.76, DICE=0.0573, DPEAKS=29.8, Loss=0.0053]\n"
          ]
        },
        {
          "name": "stdout",
          "output_type": "stream",
          "text": [
            "Epoch [13/50]\n"
          ]
        },
        {
          "name": "stderr",
          "output_type": "stream",
          "text": [
            "Train Epoch 13: 100%|██████████| 154/154 [00:45<00:00,  3.41it/s, WMAPE=2.82, DICE=0.0715, DPEAKS=39.1, Loss=0.00611]\n",
            "Validate Epoch 13: 100%|██████████| 39/39 [00:06<00:00,  6.00it/s, WMAPE=1.66, DICE=0.0564, DPEAKS=27.6, Loss=0.00519]\n"
          ]
        },
        {
          "name": "stdout",
          "output_type": "stream",
          "text": [
            "early stopping: 5 epochs without improvement\n",
            "Training complete.\n"
          ]
        },
        {
          "name": "stderr",
          "output_type": "stream",
          "text": [
            "Validate Epoch test: 100%|██████████| 971/971 [03:42<00:00,  4.36it/s, WMAPE=1.65, DICE=0.0567, DPEAKS=29.8, Loss=0.00516]\n"
          ]
        },
        {
          "name": "stdout",
          "output_type": "stream",
          "text": [
            "Partition 27: training decoder\n",
            "Loaded best model from partition 26\n",
            "Epoch [1/50]\n"
          ]
        },
        {
          "name": "stderr",
          "output_type": "stream",
          "text": [
            "Train Epoch 1: 100%|██████████| 154/154 [00:55<00:00,  2.79it/s, WMAPE=2.57, DICE=0.0711, DPEAKS=37.3, Loss=0.00635]\n",
            "Validate Epoch 1: 100%|██████████| 39/39 [00:08<00:00,  4.77it/s, WMAPE=1.75, DICE=0.0573, DPEAKS=26.7, Loss=0.00551]\n"
          ]
        },
        {
          "name": "stdout",
          "output_type": "stream",
          "text": [
            "Saving best model\n",
            "Epoch [2/50]\n"
          ]
        },
        {
          "name": "stderr",
          "output_type": "stream",
          "text": [
            "Train Epoch 2: 100%|██████████| 154/154 [00:46<00:00,  3.35it/s, WMAPE=2.97, DICE=0.0706, DPEAKS=36.5, Loss=0.00623]\n",
            "Validate Epoch 2: 100%|██████████| 39/39 [00:06<00:00,  5.82it/s, WMAPE=1.72, DICE=0.0564, DPEAKS=24.7, Loss=0.00527]\n"
          ]
        },
        {
          "name": "stdout",
          "output_type": "stream",
          "text": [
            "Saving best model\n",
            "Epoch [3/50]\n"
          ]
        },
        {
          "name": "stderr",
          "output_type": "stream",
          "text": [
            "Train Epoch 3: 100%|██████████| 154/154 [00:45<00:00,  3.37it/s, WMAPE=2.91, DICE=0.0708, DPEAKS=35.5, Loss=0.00618]\n",
            "Validate Epoch 3: 100%|██████████| 39/39 [00:06<00:00,  6.03it/s, WMAPE=1.83, DICE=0.0564, DPEAKS=27.7, Loss=0.00537]\n"
          ]
        },
        {
          "name": "stdout",
          "output_type": "stream",
          "text": [
            "Epoch [4/50]\n"
          ]
        },
        {
          "name": "stderr",
          "output_type": "stream",
          "text": [
            "Train Epoch 4: 100%|██████████| 154/154 [00:45<00:00,  3.42it/s, WMAPE=2.92, DICE=0.0711, DPEAKS=38.7, Loss=0.00623]\n",
            "Validate Epoch 4: 100%|██████████| 39/39 [00:06<00:00,  6.06it/s, WMAPE=2.27, DICE=0.0568, DPEAKS=25.2, Loss=0.00719]\n"
          ]
        },
        {
          "name": "stdout",
          "output_type": "stream",
          "text": [
            "Epoch [5/50]\n"
          ]
        },
        {
          "name": "stderr",
          "output_type": "stream",
          "text": [
            "Train Epoch 5: 100%|██████████| 154/154 [00:45<00:00,  3.40it/s, WMAPE=2.51, DICE=0.0707, DPEAKS=35.9, Loss=0.00613]\n",
            "Validate Epoch 5: 100%|██████████| 39/39 [00:06<00:00,  5.84it/s, WMAPE=1.75, DICE=0.0562, DPEAKS=27.4, Loss=0.0053]\n"
          ]
        },
        {
          "name": "stdout",
          "output_type": "stream",
          "text": [
            "Epoch [6/50]\n"
          ]
        },
        {
          "name": "stderr",
          "output_type": "stream",
          "text": [
            "Train Epoch 6: 100%|██████████| 154/154 [00:45<00:00,  3.42it/s, WMAPE=2.59, DICE=0.0707, DPEAKS=36.7, Loss=0.00622]\n",
            "Validate Epoch 6: 100%|██████████| 39/39 [00:06<00:00,  6.00it/s, WMAPE=1.67, DICE=0.0561, DPEAKS=25.3, Loss=0.00521]\n"
          ]
        },
        {
          "name": "stdout",
          "output_type": "stream",
          "text": [
            "Saving best model\n",
            "Epoch [7/50]\n"
          ]
        },
        {
          "name": "stderr",
          "output_type": "stream",
          "text": [
            "Train Epoch 7: 100%|██████████| 154/154 [00:45<00:00,  3.40it/s, WMAPE=2.97, DICE=0.0708, DPEAKS=34.2, Loss=0.00617]\n",
            "Validate Epoch 7: 100%|██████████| 39/39 [00:06<00:00,  6.14it/s, WMAPE=1.69, DICE=0.056, DPEAKS=26.2, Loss=0.00522]\n"
          ]
        },
        {
          "name": "stdout",
          "output_type": "stream",
          "text": [
            "Epoch [8/50]\n"
          ]
        },
        {
          "name": "stderr",
          "output_type": "stream",
          "text": [
            "Train Epoch 8: 100%|██████████| 154/154 [00:45<00:00,  3.42it/s, WMAPE=2.61, DICE=0.0709, DPEAKS=36.7, Loss=0.00614]\n",
            "Validate Epoch 8: 100%|██████████| 39/39 [00:06<00:00,  6.01it/s, WMAPE=1.76, DICE=0.0562, DPEAKS=25.3, Loss=0.00539]\n"
          ]
        },
        {
          "name": "stdout",
          "output_type": "stream",
          "text": [
            "Epoch [9/50]\n"
          ]
        },
        {
          "name": "stderr",
          "output_type": "stream",
          "text": [
            "Train Epoch 9: 100%|██████████| 154/154 [00:47<00:00,  3.22it/s, WMAPE=3.54, DICE=0.0707, DPEAKS=35.7, Loss=0.0062]\n",
            "Validate Epoch 9: 100%|██████████| 39/39 [00:06<00:00,  5.61it/s, WMAPE=1.75, DICE=0.0569, DPEAKS=28.2, Loss=0.00522]\n"
          ]
        },
        {
          "name": "stdout",
          "output_type": "stream",
          "text": [
            "Epoch [10/50]\n"
          ]
        },
        {
          "name": "stderr",
          "output_type": "stream",
          "text": [
            "Train Epoch 10: 100%|██████████| 154/154 [00:55<00:00,  2.80it/s, WMAPE=2.49, DICE=0.0709, DPEAKS=36.6, Loss=0.00621]\n",
            "Validate Epoch 10: 100%|██████████| 39/39 [00:10<00:00,  3.65it/s, WMAPE=1.91, DICE=0.0568, DPEAKS=26.1, Loss=0.00562]\n"
          ]
        },
        {
          "name": "stdout",
          "output_type": "stream",
          "text": [
            "Epoch [11/50]\n"
          ]
        },
        {
          "name": "stderr",
          "output_type": "stream",
          "text": [
            "Train Epoch 11: 100%|██████████| 154/154 [00:48<00:00,  3.14it/s, WMAPE=2.92, DICE=0.0706, DPEAKS=37.1, Loss=0.00616]\n",
            "Validate Epoch 11: 100%|██████████| 39/39 [00:06<00:00,  5.93it/s, WMAPE=1.73, DICE=0.0565, DPEAKS=25.5, Loss=0.0054]\n"
          ]
        },
        {
          "name": "stdout",
          "output_type": "stream",
          "text": [
            "early stopping: 5 epochs without improvement\n",
            "Training complete.\n"
          ]
        },
        {
          "name": "stderr",
          "output_type": "stream",
          "text": [
            "Validate Epoch test: 100%|██████████| 971/971 [03:32<00:00,  4.57it/s, WMAPE=1.62, DICE=0.0559, DPEAKS=28.6, Loss=0.00512]\n"
          ]
        },
        {
          "name": "stdout",
          "output_type": "stream",
          "text": [
            "Partition 28: training decoder\n",
            "Loaded best model from partition 27\n",
            "Epoch [1/50]\n"
          ]
        },
        {
          "name": "stderr",
          "output_type": "stream",
          "text": [
            "Train Epoch 1: 100%|██████████| 154/154 [00:53<00:00,  2.89it/s, WMAPE=2.94, DICE=0.0706, DPEAKS=35.6, Loss=0.00617]\n",
            "Validate Epoch 1: 100%|██████████| 39/39 [00:07<00:00,  5.02it/s, WMAPE=1.77, DICE=0.0563, DPEAKS=29.6, Loss=0.00514]\n"
          ]
        },
        {
          "name": "stdout",
          "output_type": "stream",
          "text": [
            "Saving best model\n",
            "Epoch [2/50]\n"
          ]
        },
        {
          "name": "stderr",
          "output_type": "stream",
          "text": [
            "Train Epoch 2: 100%|██████████| 154/154 [00:45<00:00,  3.35it/s, WMAPE=2.59, DICE=0.071, DPEAKS=38.4, Loss=0.00623]\n",
            "Validate Epoch 2: 100%|██████████| 39/39 [00:06<00:00,  5.88it/s, WMAPE=1.77, DICE=0.0567, DPEAKS=30.5, Loss=0.00514]\n"
          ]
        },
        {
          "name": "stdout",
          "output_type": "stream",
          "text": [
            "Saving best model\n",
            "Epoch [3/50]\n"
          ]
        },
        {
          "name": "stderr",
          "output_type": "stream",
          "text": [
            "Train Epoch 3: 100%|██████████| 154/154 [00:47<00:00,  3.26it/s, WMAPE=2.73, DICE=0.0708, DPEAKS=35.4, Loss=0.00626]\n",
            "Validate Epoch 3: 100%|██████████| 39/39 [00:07<00:00,  5.56it/s, WMAPE=1.85, DICE=0.0569, DPEAKS=30, Loss=0.00532]\n"
          ]
        },
        {
          "name": "stdout",
          "output_type": "stream",
          "text": [
            "Epoch [4/50]\n"
          ]
        },
        {
          "name": "stderr",
          "output_type": "stream",
          "text": [
            "Train Epoch 4: 100%|██████████| 154/154 [00:46<00:00,  3.32it/s, WMAPE=3.27, DICE=0.071, DPEAKS=37.3, Loss=0.00616]\n",
            "Validate Epoch 4: 100%|██████████| 39/39 [00:06<00:00,  5.93it/s, WMAPE=1.86, DICE=0.0567, DPEAKS=29.4, Loss=0.00533]\n"
          ]
        },
        {
          "name": "stdout",
          "output_type": "stream",
          "text": [
            "Epoch [5/50]\n"
          ]
        },
        {
          "name": "stderr",
          "output_type": "stream",
          "text": [
            "Train Epoch 5: 100%|██████████| 154/154 [00:45<00:00,  3.35it/s, WMAPE=2.9, DICE=0.0713, DPEAKS=39.5, Loss=0.00627]\n",
            "Validate Epoch 5: 100%|██████████| 39/39 [00:06<00:00,  5.99it/s, WMAPE=1.78, DICE=0.0567, DPEAKS=30.7, Loss=0.00524]\n"
          ]
        },
        {
          "name": "stdout",
          "output_type": "stream",
          "text": [
            "Epoch [6/50]\n"
          ]
        },
        {
          "name": "stderr",
          "output_type": "stream",
          "text": [
            "Train Epoch 6: 100%|██████████| 154/154 [00:46<00:00,  3.29it/s, WMAPE=2.87, DICE=0.0709, DPEAKS=38.9, Loss=0.00625]\n",
            "Validate Epoch 6: 100%|██████████| 39/39 [00:06<00:00,  5.91it/s, WMAPE=1.88, DICE=0.056, DPEAKS=26.1, Loss=0.00559]\n"
          ]
        },
        {
          "name": "stdout",
          "output_type": "stream",
          "text": [
            "Epoch [7/50]\n"
          ]
        },
        {
          "name": "stderr",
          "output_type": "stream",
          "text": [
            "Train Epoch 7: 100%|██████████| 154/154 [00:45<00:00,  3.36it/s, WMAPE=3.94, DICE=0.0706, DPEAKS=38.5, Loss=0.00608]\n",
            "Validate Epoch 7: 100%|██████████| 39/39 [00:06<00:00,  5.79it/s, WMAPE=1.78, DICE=0.0565, DPEAKS=31.1, Loss=0.00513]\n"
          ]
        },
        {
          "name": "stdout",
          "output_type": "stream",
          "text": [
            "Saving best model\n",
            "Epoch [8/50]\n"
          ]
        },
        {
          "name": "stderr",
          "output_type": "stream",
          "text": [
            "Train Epoch 8: 100%|██████████| 154/154 [00:48<00:00,  3.15it/s, WMAPE=3.58, DICE=0.0708, DPEAKS=39.7, Loss=0.00624]\n",
            "Validate Epoch 8: 100%|██████████| 39/39 [00:06<00:00,  5.63it/s, WMAPE=1.82, DICE=0.0567, DPEAKS=28, Loss=0.00527]\n"
          ]
        },
        {
          "name": "stdout",
          "output_type": "stream",
          "text": [
            "Epoch [9/50]\n"
          ]
        },
        {
          "name": "stderr",
          "output_type": "stream",
          "text": [
            "Train Epoch 9: 100%|██████████| 154/154 [00:48<00:00,  3.17it/s, WMAPE=3.23, DICE=0.0716, DPEAKS=40.1, Loss=0.00629]\n",
            "Validate Epoch 9: 100%|██████████| 39/39 [00:06<00:00,  5.60it/s, WMAPE=1.78, DICE=0.0565, DPEAKS=34.2, Loss=0.00552]\n"
          ]
        },
        {
          "name": "stdout",
          "output_type": "stream",
          "text": [
            "Epoch [10/50]\n"
          ]
        },
        {
          "name": "stderr",
          "output_type": "stream",
          "text": [
            "Train Epoch 10: 100%|██████████| 154/154 [00:48<00:00,  3.19it/s, WMAPE=2.54, DICE=0.071, DPEAKS=39.3, Loss=0.00634]\n",
            "Validate Epoch 10: 100%|██████████| 39/39 [00:06<00:00,  5.88it/s, WMAPE=1.94, DICE=0.0566, DPEAKS=28, Loss=0.00549]\n"
          ]
        },
        {
          "name": "stdout",
          "output_type": "stream",
          "text": [
            "Epoch [11/50]\n"
          ]
        },
        {
          "name": "stderr",
          "output_type": "stream",
          "text": [
            "Train Epoch 11: 100%|██████████| 154/154 [00:47<00:00,  3.27it/s, WMAPE=2.55, DICE=0.0706, DPEAKS=38.4, Loss=0.0062]\n",
            "Validate Epoch 11: 100%|██████████| 39/39 [00:06<00:00,  5.89it/s, WMAPE=1.78, DICE=0.0563, DPEAKS=32, Loss=0.00523]\n"
          ]
        },
        {
          "name": "stdout",
          "output_type": "stream",
          "text": [
            "Epoch [12/50]\n"
          ]
        },
        {
          "name": "stderr",
          "output_type": "stream",
          "text": [
            "Train Epoch 12: 100%|██████████| 154/154 [00:46<00:00,  3.29it/s, WMAPE=2.73, DICE=0.0705, DPEAKS=39.4, Loss=0.00611]\n",
            "Validate Epoch 12: 100%|██████████| 39/39 [00:06<00:00,  5.92it/s, WMAPE=1.84, DICE=0.0566, DPEAKS=29.7, Loss=0.0054]\n"
          ]
        },
        {
          "name": "stdout",
          "output_type": "stream",
          "text": [
            "early stopping: 5 epochs without improvement\n",
            "Training complete.\n"
          ]
        },
        {
          "name": "stderr",
          "output_type": "stream",
          "text": [
            "Validate Epoch test: 100%|██████████| 971/971 [03:38<00:00,  4.44it/s, WMAPE=1.67, DICE=0.0563, DPEAKS=31.4, Loss=0.00507]\n"
          ]
        },
        {
          "name": "stdout",
          "output_type": "stream",
          "text": [
            "Partition 29: training decoder\n",
            "Loaded best model from partition 28\n",
            "Epoch [1/50]\n"
          ]
        },
        {
          "name": "stderr",
          "output_type": "stream",
          "text": [
            "Train Epoch 1: 100%|██████████| 154/154 [00:55<00:00,  2.77it/s, WMAPE=2.43, DICE=0.0707, DPEAKS=37.3, Loss=0.00617]\n",
            "Validate Epoch 1: 100%|██████████| 39/39 [00:08<00:00,  4.71it/s, WMAPE=1.81, DICE=0.0563, DPEAKS=35.2, Loss=0.00557]\n"
          ]
        },
        {
          "name": "stdout",
          "output_type": "stream",
          "text": [
            "Saving best model\n",
            "Epoch [2/50]\n"
          ]
        },
        {
          "name": "stderr",
          "output_type": "stream",
          "text": [
            "Train Epoch 2: 100%|██████████| 154/154 [00:48<00:00,  3.15it/s, WMAPE=2.72, DICE=0.071, DPEAKS=38.2, Loss=0.00634]\n",
            "Validate Epoch 2: 100%|██████████| 39/39 [00:06<00:00,  5.57it/s, WMAPE=1.96, DICE=0.0566, DPEAKS=35.7, Loss=0.00621]\n"
          ]
        },
        {
          "name": "stdout",
          "output_type": "stream",
          "text": [
            "Epoch [3/50]\n"
          ]
        },
        {
          "name": "stderr",
          "output_type": "stream",
          "text": [
            "Train Epoch 3: 100%|██████████| 154/154 [00:48<00:00,  3.15it/s, WMAPE=8.4, DICE=0.0706, DPEAKS=36.8, Loss=0.00637]\n",
            "Validate Epoch 3: 100%|██████████| 39/39 [00:06<00:00,  5.61it/s, WMAPE=1.7, DICE=0.0562, DPEAKS=36, Loss=0.00509]\n"
          ]
        },
        {
          "name": "stdout",
          "output_type": "stream",
          "text": [
            "Saving best model\n",
            "Epoch [4/50]\n"
          ]
        },
        {
          "name": "stderr",
          "output_type": "stream",
          "text": [
            "Train Epoch 4: 100%|██████████| 154/154 [00:48<00:00,  3.15it/s, WMAPE=2.78, DICE=0.0707, DPEAKS=36.9, Loss=0.00622]\n",
            "Validate Epoch 4: 100%|██████████| 39/39 [00:07<00:00,  5.53it/s, WMAPE=1.7, DICE=0.0564, DPEAKS=31.6, Loss=0.00505]\n"
          ]
        },
        {
          "name": "stdout",
          "output_type": "stream",
          "text": [
            "Saving best model\n",
            "Epoch [5/50]\n"
          ]
        },
        {
          "name": "stderr",
          "output_type": "stream",
          "text": [
            "Train Epoch 5: 100%|██████████| 154/154 [00:48<00:00,  3.16it/s, WMAPE=2.86, DICE=0.0704, DPEAKS=37.8, Loss=0.00617]\n",
            "Validate Epoch 5: 100%|██████████| 39/39 [00:06<00:00,  5.61it/s, WMAPE=1.78, DICE=0.0563, DPEAKS=32.3, Loss=0.00522]\n"
          ]
        },
        {
          "name": "stdout",
          "output_type": "stream",
          "text": [
            "Epoch [6/50]\n"
          ]
        },
        {
          "name": "stderr",
          "output_type": "stream",
          "text": [
            "Train Epoch 6: 100%|██████████| 154/154 [00:48<00:00,  3.19it/s, WMAPE=4.95, DICE=0.0702, DPEAKS=37.7, Loss=0.00623]\n",
            "Validate Epoch 6: 100%|██████████| 39/39 [00:06<00:00,  5.74it/s, WMAPE=1.8, DICE=0.0564, DPEAKS=35.4, Loss=0.00541]\n"
          ]
        },
        {
          "name": "stdout",
          "output_type": "stream",
          "text": [
            "Epoch [7/50]\n"
          ]
        },
        {
          "name": "stderr",
          "output_type": "stream",
          "text": [
            "Train Epoch 7: 100%|██████████| 154/154 [00:48<00:00,  3.20it/s, WMAPE=3.42, DICE=0.0704, DPEAKS=38.3, Loss=0.00618]\n",
            "Validate Epoch 7: 100%|██████████| 39/39 [00:07<00:00,  5.54it/s, WMAPE=1.68, DICE=0.056, DPEAKS=31.9, Loss=0.00515]\n"
          ]
        },
        {
          "name": "stdout",
          "output_type": "stream",
          "text": [
            "Epoch [8/50]\n"
          ]
        },
        {
          "name": "stderr",
          "output_type": "stream",
          "text": [
            "Train Epoch 8: 100%|██████████| 154/154 [00:49<00:00,  3.12it/s, WMAPE=2.5, DICE=0.0705, DPEAKS=38.4, Loss=0.00619]\n",
            "Validate Epoch 8: 100%|██████████| 39/39 [00:07<00:00,  5.49it/s, WMAPE=1.73, DICE=0.0559, DPEAKS=36.6, Loss=0.00523]\n"
          ]
        },
        {
          "name": "stdout",
          "output_type": "stream",
          "text": [
            "Epoch [9/50]\n"
          ]
        },
        {
          "name": "stderr",
          "output_type": "stream",
          "text": [
            "Train Epoch 9: 100%|██████████| 154/154 [00:48<00:00,  3.19it/s, WMAPE=2.84, DICE=0.0706, DPEAKS=37, Loss=0.00619]\n",
            "Validate Epoch 9: 100%|██████████| 39/39 [00:06<00:00,  5.65it/s, WMAPE=2.12, DICE=0.0569, DPEAKS=33.4, Loss=0.00599]\n"
          ]
        },
        {
          "name": "stdout",
          "output_type": "stream",
          "text": [
            "early stopping: 5 epochs without improvement\n",
            "Training complete.\n"
          ]
        },
        {
          "name": "stderr",
          "output_type": "stream",
          "text": [
            "Validate Epoch test: 100%|██████████| 971/971 [03:43<00:00,  4.35it/s, WMAPE=1.66, DICE=0.0563, DPEAKS=28.4, Loss=0.00505]\n"
          ]
        },
        {
          "name": "stdout",
          "output_type": "stream",
          "text": [
            "Partition 30: training decoder\n",
            "Loaded best model from partition 29\n",
            "Epoch [1/50]\n"
          ]
        },
        {
          "name": "stderr",
          "output_type": "stream",
          "text": [
            "Train Epoch 1: 100%|██████████| 154/154 [00:56<00:00,  2.72it/s, WMAPE=2.53, DICE=0.0708, DPEAKS=37.1, Loss=0.00616]\n",
            "Validate Epoch 1: 100%|██████████| 39/39 [00:08<00:00,  4.54it/s, WMAPE=1.64, DICE=0.0565, DPEAKS=29.6, Loss=0.00503]\n"
          ]
        },
        {
          "name": "stdout",
          "output_type": "stream",
          "text": [
            "Saving best model\n",
            "Epoch [2/50]\n"
          ]
        },
        {
          "name": "stderr",
          "output_type": "stream",
          "text": [
            "Train Epoch 2: 100%|██████████| 154/154 [00:49<00:00,  3.10it/s, WMAPE=2.69, DICE=0.0709, DPEAKS=36.5, Loss=0.00622]\n",
            "Validate Epoch 2: 100%|██████████| 39/39 [00:06<00:00,  5.62it/s, WMAPE=1.71, DICE=0.0561, DPEAKS=30.2, Loss=0.00509]\n"
          ]
        },
        {
          "name": "stdout",
          "output_type": "stream",
          "text": [
            "Epoch [3/50]\n"
          ]
        },
        {
          "name": "stderr",
          "output_type": "stream",
          "text": [
            "Train Epoch 3: 100%|██████████| 154/154 [00:48<00:00,  3.17it/s, WMAPE=2.7, DICE=0.0707, DPEAKS=37.5, Loss=0.00621]\n",
            "Validate Epoch 3: 100%|██████████| 39/39 [00:07<00:00,  5.47it/s, WMAPE=1.67, DICE=0.0563, DPEAKS=27.6, Loss=0.00509]\n"
          ]
        },
        {
          "name": "stdout",
          "output_type": "stream",
          "text": [
            "Epoch [4/50]\n"
          ]
        },
        {
          "name": "stderr",
          "output_type": "stream",
          "text": [
            "Train Epoch 4: 100%|██████████| 154/154 [00:48<00:00,  3.18it/s, WMAPE=4.6, DICE=0.0706, DPEAKS=38.3, Loss=0.00607]\n",
            "Validate Epoch 4: 100%|██████████| 39/39 [00:06<00:00,  5.66it/s, WMAPE=1.69, DICE=0.0563, DPEAKS=29.2, Loss=0.00505]\n"
          ]
        },
        {
          "name": "stdout",
          "output_type": "stream",
          "text": [
            "Epoch [5/50]\n"
          ]
        },
        {
          "name": "stderr",
          "output_type": "stream",
          "text": [
            "Train Epoch 5: 100%|██████████| 154/154 [00:48<00:00,  3.18it/s, WMAPE=3.72, DICE=0.0707, DPEAKS=36.3, Loss=0.00612]\n",
            "Validate Epoch 5: 100%|██████████| 39/39 [00:06<00:00,  5.71it/s, WMAPE=1.98, DICE=0.0567, DPEAKS=28.8, Loss=0.00565]\n"
          ]
        },
        {
          "name": "stdout",
          "output_type": "stream",
          "text": [
            "Epoch [6/50]\n"
          ]
        },
        {
          "name": "stderr",
          "output_type": "stream",
          "text": [
            "Train Epoch 6: 100%|██████████| 154/154 [00:48<00:00,  3.18it/s, WMAPE=3.27, DICE=0.0707, DPEAKS=37.3, Loss=0.00614]\n",
            "Validate Epoch 6: 100%|██████████| 39/39 [00:06<00:00,  5.65it/s, WMAPE=1.76, DICE=0.0559, DPEAKS=30.2, Loss=0.0056]\n"
          ]
        },
        {
          "name": "stdout",
          "output_type": "stream",
          "text": [
            "Epoch [7/50]\n"
          ]
        },
        {
          "name": "stderr",
          "output_type": "stream",
          "text": [
            "Train Epoch 7: 100%|██████████| 154/154 [00:48<00:00,  3.17it/s, WMAPE=2.98, DICE=0.0708, DPEAKS=36.7, Loss=0.00618]\n",
            "Validate Epoch 7: 100%|██████████| 39/39 [00:06<00:00,  5.58it/s, WMAPE=1.66, DICE=0.0571, DPEAKS=36.3, Loss=0.00507]\n"
          ]
        },
        {
          "name": "stdout",
          "output_type": "stream",
          "text": [
            "Epoch [8/50]\n"
          ]
        },
        {
          "name": "stderr",
          "output_type": "stream",
          "text": [
            "Train Epoch 8: 100%|██████████| 154/154 [00:48<00:00,  3.19it/s, WMAPE=2.38, DICE=0.0709, DPEAKS=36.9, Loss=0.00612]\n",
            "Validate Epoch 8: 100%|██████████| 39/39 [00:06<00:00,  5.59it/s, WMAPE=1.87, DICE=0.0563, DPEAKS=30.2, Loss=0.0055]\n"
          ]
        },
        {
          "name": "stdout",
          "output_type": "stream",
          "text": [
            "early stopping: 7 epochs without improvement\n",
            "Training complete.\n"
          ]
        },
        {
          "name": "stderr",
          "output_type": "stream",
          "text": [
            "Validate Epoch test: 100%|██████████| 971/971 [03:42<00:00,  4.36it/s, WMAPE=1.65, DICE=0.0564, DPEAKS=30.4, Loss=0.00509]\n"
          ]
        }
      ],
      "source": [
        "many_partitions_v2(21,31,model,criterion,transform=transform,full_frecuency=99)"
      ]
    },
    {
      "cell_type": "code",
      "execution_count": 13,
      "metadata": {},
      "outputs": [
        {
          "name": "stdout",
          "output_type": "stream",
          "text": [
            "Partition 31: training decoder\n",
            "Loaded best model from partition 30\n",
            "Epoch [1/50]\n"
          ]
        },
        {
          "name": "stderr",
          "output_type": "stream",
          "text": [
            "Train Epoch 1: 100%|██████████| 154/154 [00:54<00:00,  2.80it/s, WMAPE=2.64, DICE=0.0707, DPEAKS=38, Loss=0.00625]\n",
            "Validate Epoch 1: 100%|██████████| 39/39 [00:08<00:00,  4.80it/s, WMAPE=1.72, DICE=0.0569, DPEAKS=27.7, Loss=0.0052]\n"
          ]
        },
        {
          "name": "stdout",
          "output_type": "stream",
          "text": [
            "Saving best model\n",
            "Epoch [2/50]\n"
          ]
        },
        {
          "name": "stderr",
          "output_type": "stream",
          "text": [
            "Train Epoch 2: 100%|██████████| 154/154 [00:48<00:00,  3.20it/s, WMAPE=2.86, DICE=0.0706, DPEAKS=38.3, Loss=0.00621]\n",
            "Validate Epoch 2: 100%|██████████| 39/39 [00:06<00:00,  5.69it/s, WMAPE=1.64, DICE=0.0563, DPEAKS=30.2, Loss=0.00495]\n"
          ]
        },
        {
          "name": "stdout",
          "output_type": "stream",
          "text": [
            "Saving best model\n",
            "Epoch [3/50]\n"
          ]
        },
        {
          "name": "stderr",
          "output_type": "stream",
          "text": [
            "Train Epoch 3: 100%|██████████| 154/154 [00:48<00:00,  3.19it/s, WMAPE=3.23, DICE=0.0708, DPEAKS=38.3, Loss=0.00623]\n",
            "Validate Epoch 3: 100%|██████████| 39/39 [00:06<00:00,  5.65it/s, WMAPE=1.67, DICE=0.056, DPEAKS=26.2, Loss=0.00494]\n"
          ]
        },
        {
          "name": "stdout",
          "output_type": "stream",
          "text": [
            "Saving best model\n",
            "Epoch [4/50]\n"
          ]
        },
        {
          "name": "stderr",
          "output_type": "stream",
          "text": [
            "Train Epoch 4: 100%|██████████| 154/154 [00:48<00:00,  3.20it/s, WMAPE=3.86, DICE=0.0707, DPEAKS=37.4, Loss=0.00623]\n",
            "Validate Epoch 4: 100%|██████████| 39/39 [00:06<00:00,  5.68it/s, WMAPE=1.59, DICE=0.0566, DPEAKS=29.2, Loss=0.0054]\n"
          ]
        },
        {
          "name": "stdout",
          "output_type": "stream",
          "text": [
            "Epoch [5/50]\n"
          ]
        },
        {
          "name": "stderr",
          "output_type": "stream",
          "text": [
            "Train Epoch 5: 100%|██████████| 154/154 [00:48<00:00,  3.19it/s, WMAPE=2.82, DICE=0.0708, DPEAKS=37.5, Loss=0.00624]\n",
            "Validate Epoch 5: 100%|██████████| 39/39 [00:06<00:00,  5.73it/s, WMAPE=1.58, DICE=0.0563, DPEAKS=24.6, Loss=0.00489]\n"
          ]
        },
        {
          "name": "stdout",
          "output_type": "stream",
          "text": [
            "Saving best model\n",
            "Epoch [6/50]\n"
          ]
        },
        {
          "name": "stderr",
          "output_type": "stream",
          "text": [
            "Train Epoch 6: 100%|██████████| 154/154 [00:47<00:00,  3.26it/s, WMAPE=2.47, DICE=0.0707, DPEAKS=38, Loss=0.00615]\n",
            "Validate Epoch 6: 100%|██████████| 39/39 [00:06<00:00,  6.12it/s, WMAPE=1.74, DICE=0.0564, DPEAKS=28.8, Loss=0.00523]\n"
          ]
        },
        {
          "name": "stdout",
          "output_type": "stream",
          "text": [
            "Epoch [7/50]\n"
          ]
        },
        {
          "name": "stderr",
          "output_type": "stream",
          "text": [
            "Train Epoch 7: 100%|██████████| 154/154 [00:45<00:00,  3.40it/s, WMAPE=2.65, DICE=0.0706, DPEAKS=38.3, Loss=0.0062]\n",
            "Validate Epoch 7: 100%|██████████| 39/39 [00:06<00:00,  6.02it/s, WMAPE=1.58, DICE=0.0558, DPEAKS=26.9, Loss=0.00485]\n"
          ]
        },
        {
          "name": "stdout",
          "output_type": "stream",
          "text": [
            "Saving best model\n",
            "Epoch [8/50]\n"
          ]
        },
        {
          "name": "stderr",
          "output_type": "stream",
          "text": [
            "Train Epoch 8: 100%|██████████| 154/154 [00:45<00:00,  3.42it/s, WMAPE=3.01, DICE=0.071, DPEAKS=40, Loss=0.00614]\n",
            "Validate Epoch 8: 100%|██████████| 39/39 [00:06<00:00,  6.01it/s, WMAPE=1.78, DICE=0.0572, DPEAKS=30.9, Loss=0.00556]\n"
          ]
        },
        {
          "name": "stdout",
          "output_type": "stream",
          "text": [
            "Epoch [9/50]\n"
          ]
        },
        {
          "name": "stderr",
          "output_type": "stream",
          "text": [
            "Train Epoch 9: 100%|██████████| 154/154 [00:45<00:00,  3.41it/s, WMAPE=2.73, DICE=0.071, DPEAKS=38.2, Loss=0.00619]\n",
            "Validate Epoch 9: 100%|██████████| 39/39 [00:06<00:00,  6.00it/s, WMAPE=1.59, DICE=0.0563, DPEAKS=26.5, Loss=0.00524]\n"
          ]
        },
        {
          "name": "stdout",
          "output_type": "stream",
          "text": [
            "Epoch [10/50]\n"
          ]
        },
        {
          "name": "stderr",
          "output_type": "stream",
          "text": [
            "Train Epoch 10: 100%|██████████| 154/154 [00:44<00:00,  3.43it/s, WMAPE=3.14, DICE=0.0708, DPEAKS=36.7, Loss=0.00608]\n",
            "Validate Epoch 10: 100%|██████████| 39/39 [00:06<00:00,  6.03it/s, WMAPE=1.67, DICE=0.0569, DPEAKS=26.8, Loss=0.00543]\n"
          ]
        },
        {
          "name": "stdout",
          "output_type": "stream",
          "text": [
            "Epoch [11/50]\n"
          ]
        },
        {
          "name": "stderr",
          "output_type": "stream",
          "text": [
            "Train Epoch 11: 100%|██████████| 154/154 [00:45<00:00,  3.42it/s, WMAPE=2.57, DICE=0.0707, DPEAKS=38.3, Loss=0.00614]\n",
            "Validate Epoch 11: 100%|██████████| 39/39 [00:06<00:00,  6.09it/s, WMAPE=1.84, DICE=0.0571, DPEAKS=28.5, Loss=0.00548]\n"
          ]
        },
        {
          "name": "stdout",
          "output_type": "stream",
          "text": [
            "Epoch [12/50]\n"
          ]
        },
        {
          "name": "stderr",
          "output_type": "stream",
          "text": [
            "Train Epoch 12: 100%|██████████| 154/154 [00:44<00:00,  3.43it/s, WMAPE=2.93, DICE=0.0708, DPEAKS=38.5, Loss=0.00618]\n",
            "Validate Epoch 12: 100%|██████████| 39/39 [00:06<00:00,  6.00it/s, WMAPE=2.03, DICE=0.0571, DPEAKS=27.9, Loss=0.00588]\n"
          ]
        },
        {
          "name": "stdout",
          "output_type": "stream",
          "text": [
            "early stopping: 5 epochs without improvement\n",
            "Training complete.\n"
          ]
        },
        {
          "name": "stderr",
          "output_type": "stream",
          "text": [
            "Validate Epoch test: 100%|██████████| 971/971 [03:28<00:00,  4.66it/s, WMAPE=1.65, DICE=0.0557, DPEAKS=28.5, Loss=0.00502]\n"
          ]
        },
        {
          "name": "stdout",
          "output_type": "stream",
          "text": [
            "Partition 32: training decoder\n",
            "Loaded best model from partition 31\n",
            "Epoch [1/50]\n"
          ]
        },
        {
          "name": "stderr",
          "output_type": "stream",
          "text": [
            "Train Epoch 1: 100%|██████████| 154/154 [00:50<00:00,  3.03it/s, WMAPE=2.61, DICE=0.0705, DPEAKS=37.3, Loss=0.00616]\n",
            "Validate Epoch 1: 100%|██████████| 39/39 [00:07<00:00,  5.09it/s, WMAPE=1.74, DICE=0.0558, DPEAKS=28.2, Loss=0.00555]\n"
          ]
        },
        {
          "name": "stdout",
          "output_type": "stream",
          "text": [
            "Saving best model\n",
            "Epoch [2/50]\n"
          ]
        },
        {
          "name": "stderr",
          "output_type": "stream",
          "text": [
            "Train Epoch 2: 100%|██████████| 154/154 [00:44<00:00,  3.43it/s, WMAPE=2.62, DICE=0.0704, DPEAKS=39.1, Loss=0.00621]\n",
            "Validate Epoch 2: 100%|██████████| 39/39 [00:06<00:00,  6.11it/s, WMAPE=1.65, DICE=0.0567, DPEAKS=32.4, Loss=0.00507]\n"
          ]
        },
        {
          "name": "stdout",
          "output_type": "stream",
          "text": [
            "Saving best model\n",
            "Epoch [3/50]\n"
          ]
        },
        {
          "name": "stderr",
          "output_type": "stream",
          "text": [
            "Train Epoch 3: 100%|██████████| 154/154 [00:44<00:00,  3.43it/s, WMAPE=2.61, DICE=0.0705, DPEAKS=37.5, Loss=0.00608]\n",
            "Validate Epoch 3: 100%|██████████| 39/39 [00:06<00:00,  5.97it/s, WMAPE=1.84, DICE=0.0565, DPEAKS=30.7, Loss=0.00588]\n"
          ]
        },
        {
          "name": "stdout",
          "output_type": "stream",
          "text": [
            "Epoch [4/50]\n"
          ]
        },
        {
          "name": "stderr",
          "output_type": "stream",
          "text": [
            "Train Epoch 4: 100%|██████████| 154/154 [00:45<00:00,  3.42it/s, WMAPE=2.6, DICE=0.0705, DPEAKS=36.1, Loss=0.00614]\n",
            "Validate Epoch 4: 100%|██████████| 39/39 [00:06<00:00,  6.11it/s, WMAPE=2.02, DICE=0.057, DPEAKS=30.2, Loss=0.00581]\n"
          ]
        },
        {
          "name": "stdout",
          "output_type": "stream",
          "text": [
            "Epoch [5/50]\n"
          ]
        },
        {
          "name": "stderr",
          "output_type": "stream",
          "text": [
            "Train Epoch 5: 100%|██████████| 154/154 [00:44<00:00,  3.44it/s, WMAPE=2.78, DICE=0.0705, DPEAKS=38.9, Loss=0.00617]\n",
            "Validate Epoch 5: 100%|██████████| 39/39 [00:06<00:00,  6.11it/s, WMAPE=1.56, DICE=0.0559, DPEAKS=33.4, Loss=0.00529]\n"
          ]
        },
        {
          "name": "stdout",
          "output_type": "stream",
          "text": [
            "Epoch [6/50]\n"
          ]
        },
        {
          "name": "stderr",
          "output_type": "stream",
          "text": [
            "Train Epoch 6: 100%|██████████| 154/154 [00:44<00:00,  3.44it/s, WMAPE=3.02, DICE=0.0708, DPEAKS=39.9, Loss=0.00631]\n",
            "Validate Epoch 6: 100%|██████████| 39/39 [00:06<00:00,  6.03it/s, WMAPE=1.68, DICE=0.0559, DPEAKS=32, Loss=0.00542]\n"
          ]
        },
        {
          "name": "stdout",
          "output_type": "stream",
          "text": [
            "Epoch [7/50]\n"
          ]
        },
        {
          "name": "stderr",
          "output_type": "stream",
          "text": [
            "Train Epoch 7: 100%|██████████| 154/154 [00:44<00:00,  3.43it/s, WMAPE=2.39, DICE=0.0703, DPEAKS=36.9, Loss=0.00606]\n",
            "Validate Epoch 7: 100%|██████████| 39/39 [00:06<00:00,  6.10it/s, WMAPE=1.65, DICE=0.0556, DPEAKS=28.9, Loss=0.00505]\n"
          ]
        },
        {
          "name": "stdout",
          "output_type": "stream",
          "text": [
            "Saving best model\n",
            "Epoch [8/50]\n"
          ]
        },
        {
          "name": "stderr",
          "output_type": "stream",
          "text": [
            "Train Epoch 8: 100%|██████████| 154/154 [00:44<00:00,  3.43it/s, WMAPE=2.51, DICE=0.0705, DPEAKS=38.8, Loss=0.00616]\n",
            "Validate Epoch 8: 100%|██████████| 39/39 [00:06<00:00,  6.04it/s, WMAPE=1.62, DICE=0.0559, DPEAKS=29.2, Loss=0.00513]\n"
          ]
        },
        {
          "name": "stdout",
          "output_type": "stream",
          "text": [
            "Epoch [9/50]\n"
          ]
        },
        {
          "name": "stderr",
          "output_type": "stream",
          "text": [
            "Train Epoch 9: 100%|██████████| 154/154 [00:44<00:00,  3.43it/s, WMAPE=2.71, DICE=0.0704, DPEAKS=39.1, Loss=0.00608]\n",
            "Validate Epoch 9: 100%|██████████| 39/39 [00:06<00:00,  6.08it/s, WMAPE=1.68, DICE=0.0562, DPEAKS=35.6, Loss=0.00514]\n"
          ]
        },
        {
          "name": "stdout",
          "output_type": "stream",
          "text": [
            "Epoch [10/50]\n"
          ]
        },
        {
          "name": "stderr",
          "output_type": "stream",
          "text": [
            "Train Epoch 10: 100%|██████████| 154/154 [00:44<00:00,  3.43it/s, WMAPE=2.72, DICE=0.0706, DPEAKS=39.6, Loss=0.00614]\n",
            "Validate Epoch 10: 100%|██████████| 39/39 [00:06<00:00,  5.99it/s, WMAPE=1.75, DICE=0.056, DPEAKS=28.1, Loss=0.00535]\n"
          ]
        },
        {
          "name": "stdout",
          "output_type": "stream",
          "text": [
            "Epoch [11/50]\n"
          ]
        },
        {
          "name": "stderr",
          "output_type": "stream",
          "text": [
            "Train Epoch 11: 100%|██████████| 154/154 [00:44<00:00,  3.43it/s, WMAPE=3.38, DICE=0.0705, DPEAKS=38.5, Loss=0.00616]\n",
            "Validate Epoch 11: 100%|██████████| 39/39 [00:06<00:00,  6.12it/s, WMAPE=1.71, DICE=0.0562, DPEAKS=32.7, Loss=0.00521]\n"
          ]
        },
        {
          "name": "stdout",
          "output_type": "stream",
          "text": [
            "Epoch [12/50]\n"
          ]
        },
        {
          "name": "stderr",
          "output_type": "stream",
          "text": [
            "Train Epoch 12: 100%|██████████| 154/154 [00:44<00:00,  3.43it/s, WMAPE=2.56, DICE=0.0705, DPEAKS=39.6, Loss=0.0061]\n",
            "Validate Epoch 12: 100%|██████████| 39/39 [00:06<00:00,  6.12it/s, WMAPE=1.62, DICE=0.0556, DPEAKS=30.4, Loss=0.00507]\n"
          ]
        },
        {
          "name": "stdout",
          "output_type": "stream",
          "text": [
            "early stopping: 5 epochs without improvement\n",
            "Training complete.\n"
          ]
        },
        {
          "name": "stderr",
          "output_type": "stream",
          "text": [
            "Validate Epoch test: 100%|██████████| 971/971 [03:28<00:00,  4.65it/s, WMAPE=1.68, DICE=0.0558, DPEAKS=29.5, Loss=0.00504]\n"
          ]
        },
        {
          "name": "stdout",
          "output_type": "stream",
          "text": [
            "Partition 33: training decoder\n",
            "Loaded best model from partition 32\n",
            "Epoch [1/50]\n"
          ]
        },
        {
          "name": "stderr",
          "output_type": "stream",
          "text": [
            "Train Epoch 1: 100%|██████████| 154/154 [00:50<00:00,  3.03it/s, WMAPE=3.05, DICE=0.0707, DPEAKS=36.8, Loss=0.0063]\n",
            "Validate Epoch 1: 100%|██████████| 39/39 [00:07<00:00,  5.01it/s, WMAPE=1.89, DICE=0.0566, DPEAKS=31.1, Loss=0.00563]\n"
          ]
        },
        {
          "name": "stdout",
          "output_type": "stream",
          "text": [
            "Saving best model\n",
            "Epoch [2/50]\n"
          ]
        },
        {
          "name": "stderr",
          "output_type": "stream",
          "text": [
            "Train Epoch 2: 100%|██████████| 154/154 [00:44<00:00,  3.43it/s, WMAPE=3.16, DICE=0.0705, DPEAKS=36.1, Loss=0.00606]\n",
            "Validate Epoch 2: 100%|██████████| 39/39 [00:06<00:00,  6.10it/s, WMAPE=1.66, DICE=0.056, DPEAKS=27.5, Loss=0.00505]\n"
          ]
        },
        {
          "name": "stdout",
          "output_type": "stream",
          "text": [
            "Saving best model\n",
            "Epoch [3/50]\n"
          ]
        },
        {
          "name": "stderr",
          "output_type": "stream",
          "text": [
            "Train Epoch 3: 100%|██████████| 154/154 [00:44<00:00,  3.44it/s, WMAPE=2.81, DICE=0.0704, DPEAKS=35.9, Loss=0.00627]\n",
            "Validate Epoch 3: 100%|██████████| 39/39 [00:06<00:00,  6.04it/s, WMAPE=1.64, DICE=0.0559, DPEAKS=30.2, Loss=0.00523]\n"
          ]
        },
        {
          "name": "stdout",
          "output_type": "stream",
          "text": [
            "Epoch [4/50]\n"
          ]
        },
        {
          "name": "stderr",
          "output_type": "stream",
          "text": [
            "Train Epoch 4: 100%|██████████| 154/154 [00:44<00:00,  3.43it/s, WMAPE=2.35, DICE=0.0704, DPEAKS=35.7, Loss=0.00618]\n",
            "Validate Epoch 4: 100%|██████████| 39/39 [00:06<00:00,  6.08it/s, WMAPE=1.64, DICE=0.0565, DPEAKS=29, Loss=0.00507]\n"
          ]
        },
        {
          "name": "stdout",
          "output_type": "stream",
          "text": [
            "Epoch [5/50]\n"
          ]
        },
        {
          "name": "stderr",
          "output_type": "stream",
          "text": [
            "Train Epoch 5: 100%|██████████| 154/154 [00:44<00:00,  3.43it/s, WMAPE=2.33, DICE=0.0712, DPEAKS=37, Loss=0.00617]\n",
            "Validate Epoch 5: 100%|██████████| 39/39 [00:06<00:00,  6.01it/s, WMAPE=1.84, DICE=0.0566, DPEAKS=29.3, Loss=0.00539]\n"
          ]
        },
        {
          "name": "stdout",
          "output_type": "stream",
          "text": [
            "Epoch [6/50]\n"
          ]
        },
        {
          "name": "stderr",
          "output_type": "stream",
          "text": [
            "Train Epoch 6: 100%|██████████| 154/154 [00:44<00:00,  3.42it/s, WMAPE=3.1, DICE=0.0706, DPEAKS=36.8, Loss=0.00621]\n",
            "Validate Epoch 6: 100%|██████████| 39/39 [00:06<00:00,  6.11it/s, WMAPE=1.62, DICE=0.0558, DPEAKS=28, Loss=0.00504]\n"
          ]
        },
        {
          "name": "stdout",
          "output_type": "stream",
          "text": [
            "Saving best model\n",
            "Epoch [7/50]\n"
          ]
        },
        {
          "name": "stderr",
          "output_type": "stream",
          "text": [
            "Train Epoch 7: 100%|██████████| 154/154 [00:44<00:00,  3.43it/s, WMAPE=2.68, DICE=0.0704, DPEAKS=36.1, Loss=0.00616]\n",
            "Validate Epoch 7: 100%|██████████| 39/39 [00:06<00:00,  6.12it/s, WMAPE=1.74, DICE=0.0563, DPEAKS=30.2, Loss=0.00529]\n"
          ]
        },
        {
          "name": "stdout",
          "output_type": "stream",
          "text": [
            "Epoch [8/50]\n"
          ]
        },
        {
          "name": "stderr",
          "output_type": "stream",
          "text": [
            "Train Epoch 8: 100%|██████████| 154/154 [00:45<00:00,  3.42it/s, WMAPE=2.53, DICE=0.0705, DPEAKS=38.1, Loss=0.00618]\n",
            "Validate Epoch 8: 100%|██████████| 39/39 [00:06<00:00,  6.07it/s, WMAPE=1.66, DICE=0.0561, DPEAKS=28.6, Loss=0.00527]\n"
          ]
        },
        {
          "name": "stdout",
          "output_type": "stream",
          "text": [
            "Epoch [9/50]\n"
          ]
        },
        {
          "name": "stderr",
          "output_type": "stream",
          "text": [
            "Train Epoch 9: 100%|██████████| 154/154 [00:44<00:00,  3.43it/s, WMAPE=2.37, DICE=0.0704, DPEAKS=39, Loss=0.00616]\n",
            "Validate Epoch 9: 100%|██████████| 39/39 [00:06<00:00,  5.97it/s, WMAPE=1.71, DICE=0.0559, DPEAKS=28.1, Loss=0.00537]\n"
          ]
        },
        {
          "name": "stdout",
          "output_type": "stream",
          "text": [
            "Epoch [10/50]\n"
          ]
        },
        {
          "name": "stderr",
          "output_type": "stream",
          "text": [
            "Train Epoch 10: 100%|██████████| 154/154 [00:44<00:00,  3.43it/s, WMAPE=2.36, DICE=0.0706, DPEAKS=36.5, Loss=0.00608]\n",
            "Validate Epoch 10: 100%|██████████| 39/39 [00:06<00:00,  6.06it/s, WMAPE=1.79, DICE=0.0565, DPEAKS=29.1, Loss=0.00531]\n"
          ]
        },
        {
          "name": "stdout",
          "output_type": "stream",
          "text": [
            "Epoch [11/50]\n"
          ]
        },
        {
          "name": "stderr",
          "output_type": "stream",
          "text": [
            "Train Epoch 11: 100%|██████████| 154/154 [00:44<00:00,  3.45it/s, WMAPE=2.56, DICE=0.0704, DPEAKS=35, Loss=0.00603]\n",
            "Validate Epoch 11: 100%|██████████| 39/39 [00:06<00:00,  6.08it/s, WMAPE=1.69, DICE=0.0564, DPEAKS=30.7, Loss=0.00526]\n"
          ]
        },
        {
          "name": "stdout",
          "output_type": "stream",
          "text": [
            "early stopping: 5 epochs without improvement\n",
            "Training complete.\n"
          ]
        },
        {
          "name": "stderr",
          "output_type": "stream",
          "text": [
            "Validate Epoch test: 100%|██████████| 971/971 [03:27<00:00,  4.67it/s, WMAPE=1.67, DICE=0.0557, DPEAKS=29, Loss=0.00509]\n"
          ]
        },
        {
          "name": "stdout",
          "output_type": "stream",
          "text": [
            "Partition 34: training decoder\n",
            "Loaded best model from partition 33\n",
            "Epoch [1/50]\n"
          ]
        },
        {
          "name": "stderr",
          "output_type": "stream",
          "text": [
            "Train Epoch 1: 100%|██████████| 154/154 [00:51<00:00,  3.01it/s, WMAPE=2.69, DICE=0.0705, DPEAKS=34, Loss=0.00619]\n",
            "Validate Epoch 1: 100%|██████████| 39/39 [00:07<00:00,  5.07it/s, WMAPE=2.3, DICE=0.0558, DPEAKS=30.1, Loss=0.00656]\n"
          ]
        },
        {
          "name": "stdout",
          "output_type": "stream",
          "text": [
            "Saving best model\n",
            "Epoch [2/50]\n"
          ]
        },
        {
          "name": "stderr",
          "output_type": "stream",
          "text": [
            "Train Epoch 2: 100%|██████████| 154/154 [00:44<00:00,  3.44it/s, WMAPE=2.81, DICE=0.0705, DPEAKS=36, Loss=0.00619]\n",
            "Validate Epoch 2: 100%|██████████| 39/39 [00:06<00:00,  6.15it/s, WMAPE=1.82, DICE=0.0562, DPEAKS=31, Loss=0.00526]\n"
          ]
        },
        {
          "name": "stdout",
          "output_type": "stream",
          "text": [
            "Saving best model\n",
            "Epoch [3/50]\n"
          ]
        },
        {
          "name": "stderr",
          "output_type": "stream",
          "text": [
            "Train Epoch 3: 100%|██████████| 154/154 [00:44<00:00,  3.45it/s, WMAPE=2.87, DICE=0.0705, DPEAKS=36.4, Loss=0.00616]\n",
            "Validate Epoch 3: 100%|██████████| 39/39 [00:06<00:00,  6.05it/s, WMAPE=1.64, DICE=0.0561, DPEAKS=28.9, Loss=0.00516]\n"
          ]
        },
        {
          "name": "stdout",
          "output_type": "stream",
          "text": [
            "Saving best model\n",
            "Epoch [4/50]\n"
          ]
        },
        {
          "name": "stderr",
          "output_type": "stream",
          "text": [
            "Train Epoch 4: 100%|██████████| 154/154 [00:45<00:00,  3.42it/s, WMAPE=3.05, DICE=0.0707, DPEAKS=34.7, Loss=0.00609]\n",
            "Validate Epoch 4: 100%|██████████| 39/39 [00:06<00:00,  6.10it/s, WMAPE=1.71, DICE=0.0572, DPEAKS=30, Loss=0.00509]\n"
          ]
        },
        {
          "name": "stdout",
          "output_type": "stream",
          "text": [
            "Saving best model\n",
            "Epoch [5/50]\n"
          ]
        },
        {
          "name": "stderr",
          "output_type": "stream",
          "text": [
            "Train Epoch 5: 100%|██████████| 154/154 [00:45<00:00,  3.41it/s, WMAPE=2.81, DICE=0.0712, DPEAKS=38.4, Loss=0.00629]\n",
            "Validate Epoch 5: 100%|██████████| 39/39 [00:06<00:00,  6.00it/s, WMAPE=1.74, DICE=0.0557, DPEAKS=31.2, Loss=0.00527]\n"
          ]
        },
        {
          "name": "stdout",
          "output_type": "stream",
          "text": [
            "Epoch [6/50]\n"
          ]
        },
        {
          "name": "stderr",
          "output_type": "stream",
          "text": [
            "Train Epoch 6: 100%|██████████| 154/154 [00:44<00:00,  3.45it/s, WMAPE=4.84, DICE=0.0705, DPEAKS=36.2, Loss=0.00614]\n",
            "Validate Epoch 6: 100%|██████████| 39/39 [00:06<00:00,  6.09it/s, WMAPE=1.67, DICE=0.0558, DPEAKS=29.1, Loss=0.00526]\n"
          ]
        },
        {
          "name": "stdout",
          "output_type": "stream",
          "text": [
            "Epoch [7/50]\n"
          ]
        },
        {
          "name": "stderr",
          "output_type": "stream",
          "text": [
            "Train Epoch 7: 100%|██████████| 154/154 [00:45<00:00,  3.42it/s, WMAPE=3.1, DICE=0.0709, DPEAKS=36.5, Loss=0.00624]\n",
            "Validate Epoch 7: 100%|██████████| 39/39 [00:06<00:00,  5.96it/s, WMAPE=1.81, DICE=0.0565, DPEAKS=29.3, Loss=0.00535]\n"
          ]
        },
        {
          "name": "stdout",
          "output_type": "stream",
          "text": [
            "Epoch [8/50]\n"
          ]
        },
        {
          "name": "stderr",
          "output_type": "stream",
          "text": [
            "Train Epoch 8: 100%|██████████| 154/154 [00:44<00:00,  3.44it/s, WMAPE=2.89, DICE=0.0705, DPEAKS=35.1, Loss=0.00606]\n",
            "Validate Epoch 8: 100%|██████████| 39/39 [00:06<00:00,  6.11it/s, WMAPE=1.91, DICE=0.0562, DPEAKS=30.2, Loss=0.00557]\n"
          ]
        },
        {
          "name": "stdout",
          "output_type": "stream",
          "text": [
            "Epoch [9/50]\n"
          ]
        },
        {
          "name": "stderr",
          "output_type": "stream",
          "text": [
            "Train Epoch 9: 100%|██████████| 154/154 [00:44<00:00,  3.44it/s, WMAPE=3.47, DICE=0.0707, DPEAKS=33.9, Loss=0.00613]\n",
            "Validate Epoch 9: 100%|██████████| 39/39 [00:06<00:00,  6.07it/s, WMAPE=1.9, DICE=0.0563, DPEAKS=30.4, Loss=0.0055]\n"
          ]
        },
        {
          "name": "stdout",
          "output_type": "stream",
          "text": [
            "early stopping: 5 epochs without improvement\n",
            "Training complete.\n"
          ]
        },
        {
          "name": "stderr",
          "output_type": "stream",
          "text": [
            "Validate Epoch test: 100%|██████████| 971/971 [03:28<00:00,  4.67it/s, WMAPE=1.72, DICE=0.0572, DPEAKS=29.5, Loss=0.0051]\n"
          ]
        },
        {
          "name": "stdout",
          "output_type": "stream",
          "text": [
            "Partition 35: training decoder\n",
            "Loaded best model from partition 34\n",
            "Epoch [1/50]\n"
          ]
        },
        {
          "name": "stderr",
          "output_type": "stream",
          "text": [
            "Train Epoch 1: 100%|██████████| 154/154 [00:51<00:00,  2.97it/s, WMAPE=2.55, DICE=0.0707, DPEAKS=35.8, Loss=0.00607]\n",
            "Validate Epoch 1: 100%|██████████| 39/39 [00:07<00:00,  5.10it/s, WMAPE=1.66, DICE=0.0556, DPEAKS=29.4, Loss=0.00511]\n"
          ]
        },
        {
          "name": "stdout",
          "output_type": "stream",
          "text": [
            "Saving best model\n",
            "Epoch [2/50]\n"
          ]
        },
        {
          "name": "stderr",
          "output_type": "stream",
          "text": [
            "Train Epoch 2: 100%|██████████| 154/154 [00:44<00:00,  3.44it/s, WMAPE=2.54, DICE=0.0703, DPEAKS=37.1, Loss=0.00598]\n",
            "Validate Epoch 2: 100%|██████████| 39/39 [00:06<00:00,  6.03it/s, WMAPE=1.64, DICE=0.0553, DPEAKS=29, Loss=0.00503]\n"
          ]
        },
        {
          "name": "stdout",
          "output_type": "stream",
          "text": [
            "Saving best model\n",
            "Epoch [3/50]\n"
          ]
        },
        {
          "name": "stderr",
          "output_type": "stream",
          "text": [
            "Train Epoch 3: 100%|██████████| 154/154 [00:44<00:00,  3.43it/s, WMAPE=2.9, DICE=0.0706, DPEAKS=37.7, Loss=0.00608]\n",
            "Validate Epoch 3: 100%|██████████| 39/39 [00:06<00:00,  6.01it/s, WMAPE=1.82, DICE=0.0559, DPEAKS=29.3, Loss=0.00545]\n"
          ]
        },
        {
          "name": "stdout",
          "output_type": "stream",
          "text": [
            "Epoch [4/50]\n"
          ]
        },
        {
          "name": "stderr",
          "output_type": "stream",
          "text": [
            "Train Epoch 4: 100%|██████████| 154/154 [00:44<00:00,  3.43it/s, WMAPE=2.72, DICE=0.0707, DPEAKS=37.6, Loss=0.00616]\n",
            "Validate Epoch 4: 100%|██████████| 39/39 [00:06<00:00,  6.06it/s, WMAPE=1.75, DICE=0.0557, DPEAKS=29.5, Loss=0.00539]\n"
          ]
        },
        {
          "name": "stdout",
          "output_type": "stream",
          "text": [
            "Epoch [5/50]\n"
          ]
        },
        {
          "name": "stderr",
          "output_type": "stream",
          "text": [
            "Train Epoch 5: 100%|██████████| 154/154 [00:45<00:00,  3.42it/s, WMAPE=3.56, DICE=0.0706, DPEAKS=35.3, Loss=0.00612]\n",
            "Validate Epoch 5: 100%|██████████| 39/39 [00:06<00:00,  6.02it/s, WMAPE=1.69, DICE=0.056, DPEAKS=30.8, Loss=0.00511]\n"
          ]
        },
        {
          "name": "stdout",
          "output_type": "stream",
          "text": [
            "Epoch [6/50]\n"
          ]
        },
        {
          "name": "stderr",
          "output_type": "stream",
          "text": [
            "Train Epoch 6: 100%|██████████| 154/154 [00:45<00:00,  3.42it/s, WMAPE=2.8, DICE=0.0707, DPEAKS=35.5, Loss=0.00611]\n",
            "Validate Epoch 6: 100%|██████████| 39/39 [00:06<00:00,  6.06it/s, WMAPE=1.82, DICE=0.0556, DPEAKS=28.2, Loss=0.00584]\n"
          ]
        },
        {
          "name": "stdout",
          "output_type": "stream",
          "text": [
            "Epoch [7/50]\n"
          ]
        },
        {
          "name": "stderr",
          "output_type": "stream",
          "text": [
            "Train Epoch 7: 100%|██████████| 154/154 [00:44<00:00,  3.44it/s, WMAPE=3.18, DICE=0.0704, DPEAKS=36.3, Loss=0.00609]\n",
            "Validate Epoch 7: 100%|██████████| 39/39 [00:06<00:00,  6.10it/s, WMAPE=2.02, DICE=0.0558, DPEAKS=30.1, Loss=0.00646]\n"
          ]
        },
        {
          "name": "stdout",
          "output_type": "stream",
          "text": [
            "Epoch [8/50]\n"
          ]
        },
        {
          "name": "stderr",
          "output_type": "stream",
          "text": [
            "Train Epoch 8: 100%|██████████| 154/154 [00:44<00:00,  3.44it/s, WMAPE=3.54, DICE=0.0704, DPEAKS=36.2, Loss=0.00608]\n",
            "Validate Epoch 8: 100%|██████████| 39/39 [00:06<00:00,  6.05it/s, WMAPE=1.75, DICE=0.056, DPEAKS=27.9, Loss=0.00518]\n"
          ]
        },
        {
          "name": "stdout",
          "output_type": "stream",
          "text": [
            "early stopping: 6 epochs without improvement\n",
            "Training complete.\n"
          ]
        },
        {
          "name": "stderr",
          "output_type": "stream",
          "text": [
            "Validate Epoch test: 100%|██████████| 971/971 [03:28<00:00,  4.66it/s, WMAPE=1.63, DICE=0.0555, DPEAKS=28.6, Loss=0.00496]\n"
          ]
        },
        {
          "name": "stdout",
          "output_type": "stream",
          "text": [
            "Partition 36: training decoder\n",
            "Loaded best model from partition 35\n",
            "Epoch [1/50]\n"
          ]
        },
        {
          "name": "stderr",
          "output_type": "stream",
          "text": [
            "Train Epoch 1: 100%|██████████| 154/154 [00:50<00:00,  3.03it/s, WMAPE=2.81, DICE=0.0706, DPEAKS=35.9, Loss=0.00624]\n",
            "Validate Epoch 1: 100%|██████████| 39/39 [00:07<00:00,  4.99it/s, WMAPE=1.66, DICE=0.0561, DPEAKS=31.3, Loss=0.00501]\n"
          ]
        },
        {
          "name": "stdout",
          "output_type": "stream",
          "text": [
            "Saving best model\n",
            "Epoch [2/50]\n"
          ]
        },
        {
          "name": "stderr",
          "output_type": "stream",
          "text": [
            "Train Epoch 2: 100%|██████████| 154/154 [00:44<00:00,  3.44it/s, WMAPE=3.07, DICE=0.0706, DPEAKS=37, Loss=0.00614]\n",
            "Validate Epoch 2: 100%|██████████| 39/39 [00:06<00:00,  6.06it/s, WMAPE=1.67, DICE=0.0563, DPEAKS=31.3, Loss=0.0053]\n"
          ]
        },
        {
          "name": "stdout",
          "output_type": "stream",
          "text": [
            "Epoch [3/50]\n"
          ]
        },
        {
          "name": "stderr",
          "output_type": "stream",
          "text": [
            "Train Epoch 3: 100%|██████████| 154/154 [00:44<00:00,  3.44it/s, WMAPE=2.61, DICE=0.0705, DPEAKS=34.6, Loss=0.0061]\n",
            "Validate Epoch 3: 100%|██████████| 39/39 [00:06<00:00,  6.06it/s, WMAPE=1.8, DICE=0.0558, DPEAKS=30.6, Loss=0.0052]\n"
          ]
        },
        {
          "name": "stdout",
          "output_type": "stream",
          "text": [
            "Epoch [4/50]\n"
          ]
        },
        {
          "name": "stderr",
          "output_type": "stream",
          "text": [
            "Train Epoch 4: 100%|██████████| 154/154 [00:45<00:00,  3.42it/s, WMAPE=2.39, DICE=0.0703, DPEAKS=34.7, Loss=0.00611]\n",
            "Validate Epoch 4: 100%|██████████| 39/39 [00:06<00:00,  6.06it/s, WMAPE=1.75, DICE=0.0562, DPEAKS=30.6, Loss=0.00529]\n"
          ]
        },
        {
          "name": "stdout",
          "output_type": "stream",
          "text": [
            "Epoch [5/50]\n"
          ]
        },
        {
          "name": "stderr",
          "output_type": "stream",
          "text": [
            "Train Epoch 5: 100%|██████████| 154/154 [00:44<00:00,  3.44it/s, WMAPE=2.75, DICE=0.0705, DPEAKS=37, Loss=0.00616]\n",
            "Validate Epoch 5: 100%|██████████| 39/39 [00:06<00:00,  6.12it/s, WMAPE=1.68, DICE=0.0562, DPEAKS=29.7, Loss=0.00506]\n"
          ]
        },
        {
          "name": "stdout",
          "output_type": "stream",
          "text": [
            "Epoch [6/50]\n"
          ]
        },
        {
          "name": "stderr",
          "output_type": "stream",
          "text": [
            "Train Epoch 6: 100%|██████████| 154/154 [00:44<00:00,  3.43it/s, WMAPE=2.63, DICE=0.0705, DPEAKS=35, Loss=0.00612]\n",
            "Validate Epoch 6: 100%|██████████| 39/39 [00:06<00:00,  6.07it/s, WMAPE=1.65, DICE=0.056, DPEAKS=32, Loss=0.00505]\n"
          ]
        },
        {
          "name": "stdout",
          "output_type": "stream",
          "text": [
            "Epoch [7/50]\n"
          ]
        },
        {
          "name": "stderr",
          "output_type": "stream",
          "text": [
            "Train Epoch 7: 100%|██████████| 154/154 [00:45<00:00,  3.41it/s, WMAPE=2.52, DICE=0.0703, DPEAKS=36.5, Loss=0.00606]\n",
            "Validate Epoch 7: 100%|██████████| 39/39 [00:06<00:00,  6.07it/s, WMAPE=2.15, DICE=0.0563, DPEAKS=32.4, Loss=0.00617]\n"
          ]
        },
        {
          "name": "stdout",
          "output_type": "stream",
          "text": [
            "Epoch [8/50]\n"
          ]
        },
        {
          "name": "stderr",
          "output_type": "stream",
          "text": [
            "Train Epoch 8: 100%|██████████| 154/154 [00:44<00:00,  3.43it/s, WMAPE=3.04, DICE=0.0707, DPEAKS=37.6, Loss=0.00616]\n",
            "Validate Epoch 8: 100%|██████████| 39/39 [00:06<00:00,  6.07it/s, WMAPE=1.89, DICE=0.0579, DPEAKS=34, Loss=0.00555]\n"
          ]
        },
        {
          "name": "stdout",
          "output_type": "stream",
          "text": [
            "early stopping: 7 epochs without improvement\n",
            "Training complete.\n"
          ]
        },
        {
          "name": "stderr",
          "output_type": "stream",
          "text": [
            "Validate Epoch test: 100%|██████████| 971/971 [03:28<00:00,  4.66it/s, WMAPE=1.64, DICE=0.056, DPEAKS=30.1, Loss=0.00498]\n"
          ]
        },
        {
          "name": "stdout",
          "output_type": "stream",
          "text": [
            "Partition 37: training decoder\n",
            "Loaded best model from partition 36\n",
            "Epoch [1/50]\n"
          ]
        },
        {
          "name": "stderr",
          "output_type": "stream",
          "text": [
            "Train Epoch 1: 100%|██████████| 154/154 [00:51<00:00,  3.02it/s, WMAPE=2.7, DICE=0.0704, DPEAKS=36.9, Loss=0.00619]\n",
            "Validate Epoch 1: 100%|██████████| 39/39 [00:07<00:00,  4.99it/s, WMAPE=1.7, DICE=0.0555, DPEAKS=22.4, Loss=0.00502]\n"
          ]
        },
        {
          "name": "stdout",
          "output_type": "stream",
          "text": [
            "Saving best model\n",
            "Epoch [2/50]\n"
          ]
        },
        {
          "name": "stderr",
          "output_type": "stream",
          "text": [
            "Train Epoch 2: 100%|██████████| 154/154 [00:44<00:00,  3.43it/s, WMAPE=2.54, DICE=0.0705, DPEAKS=36.2, Loss=0.00607]\n",
            "Validate Epoch 2: 100%|██████████| 39/39 [00:06<00:00,  6.05it/s, WMAPE=1.79, DICE=0.0561, DPEAKS=27.2, Loss=0.0053]\n"
          ]
        },
        {
          "name": "stdout",
          "output_type": "stream",
          "text": [
            "Epoch [3/50]\n"
          ]
        },
        {
          "name": "stderr",
          "output_type": "stream",
          "text": [
            "Train Epoch 3: 100%|██████████| 154/154 [00:44<00:00,  3.44it/s, WMAPE=2.75, DICE=0.0708, DPEAKS=36.4, Loss=0.00622]\n",
            "Validate Epoch 3: 100%|██████████| 39/39 [00:06<00:00,  6.05it/s, WMAPE=1.64, DICE=0.056, DPEAKS=29.7, Loss=0.00507]\n"
          ]
        },
        {
          "name": "stdout",
          "output_type": "stream",
          "text": [
            "Epoch [4/50]\n"
          ]
        },
        {
          "name": "stderr",
          "output_type": "stream",
          "text": [
            "Train Epoch 4: 100%|██████████| 154/154 [00:44<00:00,  3.43it/s, WMAPE=2.81, DICE=0.0708, DPEAKS=38.1, Loss=0.00621]\n",
            "Validate Epoch 4: 100%|██████████| 39/39 [00:06<00:00,  6.11it/s, WMAPE=1.73, DICE=0.0566, DPEAKS=27.2, Loss=0.00504]\n"
          ]
        },
        {
          "name": "stdout",
          "output_type": "stream",
          "text": [
            "Epoch [5/50]\n"
          ]
        },
        {
          "name": "stderr",
          "output_type": "stream",
          "text": [
            "Train Epoch 5: 100%|██████████| 154/154 [00:45<00:00,  3.41it/s, WMAPE=2.88, DICE=0.0705, DPEAKS=37, Loss=0.00618]\n",
            "Validate Epoch 5: 100%|██████████| 39/39 [00:06<00:00,  6.06it/s, WMAPE=1.75, DICE=0.0563, DPEAKS=26.3, Loss=0.00506]\n"
          ]
        },
        {
          "name": "stdout",
          "output_type": "stream",
          "text": [
            "Epoch [6/50]\n"
          ]
        },
        {
          "name": "stderr",
          "output_type": "stream",
          "text": [
            "Train Epoch 6: 100%|██████████| 154/154 [00:44<00:00,  3.44it/s, WMAPE=2.81, DICE=0.0706, DPEAKS=37, Loss=0.00617]\n",
            "Validate Epoch 6: 100%|██████████| 39/39 [00:06<00:00,  6.11it/s, WMAPE=1.94, DICE=0.0563, DPEAKS=25.3, Loss=0.0056]\n"
          ]
        },
        {
          "name": "stdout",
          "output_type": "stream",
          "text": [
            "Epoch [7/50]\n"
          ]
        },
        {
          "name": "stderr",
          "output_type": "stream",
          "text": [
            "Train Epoch 7: 100%|██████████| 154/154 [00:44<00:00,  3.44it/s, WMAPE=2.89, DICE=0.0705, DPEAKS=36.5, Loss=0.00616]\n",
            "Validate Epoch 7: 100%|██████████| 39/39 [00:06<00:00,  6.05it/s, WMAPE=1.69, DICE=0.0555, DPEAKS=24.3, Loss=0.00495]\n"
          ]
        },
        {
          "name": "stdout",
          "output_type": "stream",
          "text": [
            "Saving best model\n",
            "Epoch [8/50]\n"
          ]
        },
        {
          "name": "stderr",
          "output_type": "stream",
          "text": [
            "Train Epoch 8: 100%|██████████| 154/154 [00:44<00:00,  3.44it/s, WMAPE=3.99, DICE=0.0704, DPEAKS=36.3, Loss=0.0062]\n",
            "Validate Epoch 8: 100%|██████████| 39/39 [00:06<00:00,  6.08it/s, WMAPE=1.81, DICE=0.0561, DPEAKS=25.6, Loss=0.00516]\n"
          ]
        },
        {
          "name": "stdout",
          "output_type": "stream",
          "text": [
            "Epoch [9/50]\n"
          ]
        },
        {
          "name": "stderr",
          "output_type": "stream",
          "text": [
            "Train Epoch 9: 100%|██████████| 154/154 [00:44<00:00,  3.43it/s, WMAPE=2.87, DICE=0.0707, DPEAKS=36.6, Loss=0.00607]\n",
            "Validate Epoch 9: 100%|██████████| 39/39 [00:06<00:00,  6.00it/s, WMAPE=1.68, DICE=0.0566, DPEAKS=28.1, Loss=0.00537]\n"
          ]
        },
        {
          "name": "stdout",
          "output_type": "stream",
          "text": [
            "Epoch [10/50]\n"
          ]
        },
        {
          "name": "stderr",
          "output_type": "stream",
          "text": [
            "Train Epoch 10: 100%|██████████| 154/154 [00:45<00:00,  3.42it/s, WMAPE=2.72, DICE=0.071, DPEAKS=36.9, Loss=0.00624]\n",
            "Validate Epoch 10: 100%|██████████| 39/39 [00:06<00:00,  6.08it/s, WMAPE=1.99, DICE=0.0562, DPEAKS=26.5, Loss=0.00561]\n"
          ]
        },
        {
          "name": "stdout",
          "output_type": "stream",
          "text": [
            "Epoch [11/50]\n"
          ]
        },
        {
          "name": "stderr",
          "output_type": "stream",
          "text": [
            "Train Epoch 11: 100%|██████████| 154/154 [00:44<00:00,  3.43it/s, WMAPE=2.71, DICE=0.0706, DPEAKS=37.3, Loss=0.00614]\n",
            "Validate Epoch 11: 100%|██████████| 39/39 [00:06<00:00,  6.08it/s, WMAPE=1.71, DICE=0.0563, DPEAKS=25.3, Loss=0.00503]\n"
          ]
        },
        {
          "name": "stdout",
          "output_type": "stream",
          "text": [
            "Epoch [12/50]\n"
          ]
        },
        {
          "name": "stderr",
          "output_type": "stream",
          "text": [
            "Train Epoch 12: 100%|██████████| 154/154 [00:44<00:00,  3.42it/s, WMAPE=3.05, DICE=0.071, DPEAKS=36.5, Loss=0.00624]\n",
            "Validate Epoch 12: 100%|██████████| 39/39 [00:06<00:00,  6.06it/s, WMAPE=1.74, DICE=0.0565, DPEAKS=27.5, Loss=0.0054]\n"
          ]
        },
        {
          "name": "stdout",
          "output_type": "stream",
          "text": [
            "early stopping: 5 epochs without improvement\n",
            "Training complete.\n"
          ]
        },
        {
          "name": "stderr",
          "output_type": "stream",
          "text": [
            "Validate Epoch test: 100%|██████████| 971/971 [03:28<00:00,  4.66it/s, WMAPE=1.62, DICE=0.0555, DPEAKS=28.5, Loss=0.00495]\n"
          ]
        },
        {
          "name": "stdout",
          "output_type": "stream",
          "text": [
            "Partition 38: training decoder\n",
            "Loaded best model from partition 37\n",
            "Epoch [1/50]\n"
          ]
        },
        {
          "name": "stderr",
          "output_type": "stream",
          "text": [
            "Train Epoch 1: 100%|██████████| 154/154 [00:51<00:00,  3.02it/s, WMAPE=2.59, DICE=0.0707, DPEAKS=36.1, Loss=0.00618]\n",
            "Validate Epoch 1: 100%|██████████| 39/39 [00:07<00:00,  5.10it/s, WMAPE=2.22, DICE=0.056, DPEAKS=25, Loss=0.00662]\n"
          ]
        },
        {
          "name": "stdout",
          "output_type": "stream",
          "text": [
            "Saving best model\n",
            "Epoch [2/50]\n"
          ]
        },
        {
          "name": "stderr",
          "output_type": "stream",
          "text": [
            "Train Epoch 2: 100%|██████████| 154/154 [00:44<00:00,  3.43it/s, WMAPE=2.49, DICE=0.0706, DPEAKS=36.7, Loss=0.00623]\n",
            "Validate Epoch 2: 100%|██████████| 39/39 [00:06<00:00,  6.12it/s, WMAPE=1.91, DICE=0.0576, DPEAKS=27, Loss=0.00573]\n"
          ]
        },
        {
          "name": "stdout",
          "output_type": "stream",
          "text": [
            "Saving best model\n",
            "Epoch [3/50]\n"
          ]
        },
        {
          "name": "stderr",
          "output_type": "stream",
          "text": [
            "Train Epoch 3: 100%|██████████| 154/154 [00:44<00:00,  3.43it/s, WMAPE=2.59, DICE=0.0705, DPEAKS=35.5, Loss=0.00612]\n",
            "Validate Epoch 3: 100%|██████████| 39/39 [00:06<00:00,  6.02it/s, WMAPE=1.91, DICE=0.0559, DPEAKS=25.5, Loss=0.00568]\n"
          ]
        },
        {
          "name": "stdout",
          "output_type": "stream",
          "text": [
            "Saving best model\n",
            "Epoch [4/50]\n"
          ]
        },
        {
          "name": "stderr",
          "output_type": "stream",
          "text": [
            "Train Epoch 4: 100%|██████████| 154/154 [00:45<00:00,  3.42it/s, WMAPE=15.9, DICE=0.0705, DPEAKS=36.4, Loss=0.00619]\n",
            "Validate Epoch 4: 100%|██████████| 39/39 [00:06<00:00,  6.11it/s, WMAPE=1.72, DICE=0.0555, DPEAKS=27.2, Loss=0.00564]\n"
          ]
        },
        {
          "name": "stdout",
          "output_type": "stream",
          "text": [
            "Saving best model\n",
            "Epoch [5/50]\n"
          ]
        },
        {
          "name": "stderr",
          "output_type": "stream",
          "text": [
            "Train Epoch 5: 100%|██████████| 154/154 [00:45<00:00,  3.42it/s, WMAPE=2.81, DICE=0.0707, DPEAKS=38.1, Loss=0.0062]\n",
            "Validate Epoch 5: 100%|██████████| 39/39 [00:06<00:00,  6.01it/s, WMAPE=2.2, DICE=0.0563, DPEAKS=30.1, Loss=0.00654]\n"
          ]
        },
        {
          "name": "stdout",
          "output_type": "stream",
          "text": [
            "Epoch [6/50]\n"
          ]
        },
        {
          "name": "stderr",
          "output_type": "stream",
          "text": [
            "Train Epoch 6: 100%|██████████| 154/154 [00:44<00:00,  3.42it/s, WMAPE=2.81, DICE=0.071, DPEAKS=39.1, Loss=0.00614]\n",
            "Validate Epoch 6: 100%|██████████| 39/39 [00:06<00:00,  5.97it/s, WMAPE=1.63, DICE=0.056, DPEAKS=28.6, Loss=0.00518]\n"
          ]
        },
        {
          "name": "stdout",
          "output_type": "stream",
          "text": [
            "Saving best model\n",
            "Epoch [7/50]\n"
          ]
        },
        {
          "name": "stderr",
          "output_type": "stream",
          "text": [
            "Train Epoch 7: 100%|██████████| 154/154 [00:45<00:00,  3.42it/s, WMAPE=2.78, DICE=0.0706, DPEAKS=36.3, Loss=0.00613]\n",
            "Validate Epoch 7: 100%|██████████| 39/39 [00:06<00:00,  6.12it/s, WMAPE=1.77, DICE=0.0559, DPEAKS=29.1, Loss=0.00549]\n"
          ]
        },
        {
          "name": "stdout",
          "output_type": "stream",
          "text": [
            "Epoch [8/50]\n"
          ]
        },
        {
          "name": "stderr",
          "output_type": "stream",
          "text": [
            "Train Epoch 8: 100%|██████████| 154/154 [00:44<00:00,  3.43it/s, WMAPE=3.88, DICE=0.0706, DPEAKS=39.1, Loss=0.00617]\n",
            "Validate Epoch 8: 100%|██████████| 39/39 [00:06<00:00,  6.03it/s, WMAPE=1.5, DICE=0.0554, DPEAKS=26.5, Loss=0.00525]\n"
          ]
        },
        {
          "name": "stdout",
          "output_type": "stream",
          "text": [
            "Epoch [9/50]\n"
          ]
        },
        {
          "name": "stderr",
          "output_type": "stream",
          "text": [
            "Train Epoch 9: 100%|██████████| 154/154 [00:45<00:00,  3.42it/s, WMAPE=3.08, DICE=0.0705, DPEAKS=37, Loss=0.00605]\n",
            "Validate Epoch 9: 100%|██████████| 39/39 [00:06<00:00,  6.10it/s, WMAPE=1.78, DICE=0.0554, DPEAKS=28.7, Loss=0.00557]\n"
          ]
        },
        {
          "name": "stdout",
          "output_type": "stream",
          "text": [
            "Epoch [10/50]\n"
          ]
        },
        {
          "name": "stderr",
          "output_type": "stream",
          "text": [
            "Train Epoch 10: 100%|██████████| 154/154 [00:44<00:00,  3.43it/s, WMAPE=4.34, DICE=0.0705, DPEAKS=35.5, Loss=0.00602]\n",
            "Validate Epoch 10: 100%|██████████| 39/39 [00:06<00:00,  6.12it/s, WMAPE=1.6, DICE=0.0561, DPEAKS=28.3, Loss=0.00512]\n"
          ]
        },
        {
          "name": "stdout",
          "output_type": "stream",
          "text": [
            "Saving best model\n",
            "Epoch [11/50]\n"
          ]
        },
        {
          "name": "stderr",
          "output_type": "stream",
          "text": [
            "Train Epoch 11: 100%|██████████| 154/154 [00:44<00:00,  3.43it/s, WMAPE=2.87, DICE=0.0707, DPEAKS=37.7, Loss=0.0061]\n",
            "Validate Epoch 11: 100%|██████████| 39/39 [00:06<00:00,  6.01it/s, WMAPE=1.71, DICE=0.0564, DPEAKS=28.7, Loss=0.00512]\n"
          ]
        },
        {
          "name": "stdout",
          "output_type": "stream",
          "text": [
            "Epoch [12/50]\n"
          ]
        },
        {
          "name": "stderr",
          "output_type": "stream",
          "text": [
            "Train Epoch 12: 100%|██████████| 154/154 [00:45<00:00,  3.42it/s, WMAPE=3.23, DICE=0.0711, DPEAKS=38.1, Loss=0.00625]\n",
            "Validate Epoch 12: 100%|██████████| 39/39 [00:06<00:00,  6.09it/s, WMAPE=1.68, DICE=0.0566, DPEAKS=29, Loss=0.00544]\n"
          ]
        },
        {
          "name": "stdout",
          "output_type": "stream",
          "text": [
            "Epoch [13/50]\n"
          ]
        },
        {
          "name": "stderr",
          "output_type": "stream",
          "text": [
            "Train Epoch 13: 100%|██████████| 154/154 [00:45<00:00,  3.42it/s, WMAPE=2.92, DICE=0.0706, DPEAKS=35.2, Loss=0.00604]\n",
            "Validate Epoch 13: 100%|██████████| 39/39 [00:06<00:00,  6.01it/s, WMAPE=1.62, DICE=0.0561, DPEAKS=27.1, Loss=0.00511]\n"
          ]
        },
        {
          "name": "stdout",
          "output_type": "stream",
          "text": [
            "Saving best model\n",
            "Epoch [14/50]\n"
          ]
        },
        {
          "name": "stderr",
          "output_type": "stream",
          "text": [
            "Train Epoch 14: 100%|██████████| 154/154 [00:45<00:00,  3.42it/s, WMAPE=2.81, DICE=0.0707, DPEAKS=36.1, Loss=0.00618]\n",
            "Validate Epoch 14: 100%|██████████| 39/39 [00:06<00:00,  6.03it/s, WMAPE=1.71, DICE=0.0559, DPEAKS=26, Loss=0.00515]\n"
          ]
        },
        {
          "name": "stdout",
          "output_type": "stream",
          "text": [
            "Epoch [15/50]\n"
          ]
        },
        {
          "name": "stderr",
          "output_type": "stream",
          "text": [
            "Train Epoch 15: 100%|██████████| 154/154 [00:44<00:00,  3.43it/s, WMAPE=2.71, DICE=0.0706, DPEAKS=37.1, Loss=0.00616]\n",
            "Validate Epoch 15: 100%|██████████| 39/39 [00:06<00:00,  6.06it/s, WMAPE=1.63, DICE=0.0557, DPEAKS=26.1, Loss=0.00508]\n"
          ]
        },
        {
          "name": "stdout",
          "output_type": "stream",
          "text": [
            "Saving best model\n",
            "Epoch [16/50]\n"
          ]
        },
        {
          "name": "stderr",
          "output_type": "stream",
          "text": [
            "Train Epoch 16: 100%|██████████| 154/154 [00:44<00:00,  3.43it/s, WMAPE=2.75, DICE=0.0704, DPEAKS=36.1, Loss=0.00611]\n",
            "Validate Epoch 16: 100%|██████████| 39/39 [00:06<00:00,  6.04it/s, WMAPE=1.74, DICE=0.0565, DPEAKS=27.5, Loss=0.00523]\n"
          ]
        },
        {
          "name": "stdout",
          "output_type": "stream",
          "text": [
            "Epoch [17/50]\n"
          ]
        },
        {
          "name": "stderr",
          "output_type": "stream",
          "text": [
            "Train Epoch 17: 100%|██████████| 154/154 [00:44<00:00,  3.43it/s, WMAPE=2.83, DICE=0.0708, DPEAKS=37.9, Loss=0.00608]\n",
            "Validate Epoch 17: 100%|██████████| 39/39 [00:06<00:00,  6.12it/s, WMAPE=1.63, DICE=0.056, DPEAKS=27.2, Loss=0.00499]\n"
          ]
        },
        {
          "name": "stdout",
          "output_type": "stream",
          "text": [
            "Saving best model\n",
            "Epoch [18/50]\n"
          ]
        },
        {
          "name": "stderr",
          "output_type": "stream",
          "text": [
            "Train Epoch 18: 100%|██████████| 154/154 [00:44<00:00,  3.43it/s, WMAPE=2.49, DICE=0.0708, DPEAKS=38.3, Loss=0.00613]\n",
            "Validate Epoch 18: 100%|██████████| 39/39 [00:06<00:00,  6.08it/s, WMAPE=1.72, DICE=0.0554, DPEAKS=25.2, Loss=0.0052]\n"
          ]
        },
        {
          "name": "stdout",
          "output_type": "stream",
          "text": [
            "Epoch [19/50]\n"
          ]
        },
        {
          "name": "stderr",
          "output_type": "stream",
          "text": [
            "Train Epoch 19: 100%|██████████| 154/154 [00:44<00:00,  3.45it/s, WMAPE=2.43, DICE=0.0705, DPEAKS=36.8, Loss=0.00597]\n",
            "Validate Epoch 19: 100%|██████████| 39/39 [00:06<00:00,  5.97it/s, WMAPE=1.77, DICE=0.0554, DPEAKS=25.2, Loss=0.0054]\n"
          ]
        },
        {
          "name": "stdout",
          "output_type": "stream",
          "text": [
            "Epoch [20/50]\n"
          ]
        },
        {
          "name": "stderr",
          "output_type": "stream",
          "text": [
            "Train Epoch 20: 100%|██████████| 154/154 [00:45<00:00,  3.42it/s, WMAPE=2.62, DICE=0.0706, DPEAKS=37.7, Loss=0.00613]\n",
            "Validate Epoch 20: 100%|██████████| 39/39 [00:06<00:00,  6.09it/s, WMAPE=1.6, DICE=0.0561, DPEAKS=28, Loss=0.00495]\n"
          ]
        },
        {
          "name": "stdout",
          "output_type": "stream",
          "text": [
            "Saving best model\n",
            "Epoch [21/50]\n"
          ]
        },
        {
          "name": "stderr",
          "output_type": "stream",
          "text": [
            "Train Epoch 21: 100%|██████████| 154/154 [00:44<00:00,  3.42it/s, WMAPE=2.87, DICE=0.0708, DPEAKS=36.4, Loss=0.00607]\n",
            "Validate Epoch 21: 100%|██████████| 39/39 [00:06<00:00,  6.10it/s, WMAPE=1.66, DICE=0.0559, DPEAKS=25.3, Loss=0.00511]\n"
          ]
        },
        {
          "name": "stdout",
          "output_type": "stream",
          "text": [
            "Epoch [22/50]\n"
          ]
        },
        {
          "name": "stderr",
          "output_type": "stream",
          "text": [
            "Train Epoch 22: 100%|██████████| 154/154 [00:45<00:00,  3.42it/s, WMAPE=2.54, DICE=0.0706, DPEAKS=36.4, Loss=0.00604]\n",
            "Validate Epoch 22: 100%|██████████| 39/39 [00:06<00:00,  6.12it/s, WMAPE=1.71, DICE=0.0558, DPEAKS=25.8, Loss=0.00522]\n"
          ]
        },
        {
          "name": "stdout",
          "output_type": "stream",
          "text": [
            "Epoch [23/50]\n"
          ]
        },
        {
          "name": "stderr",
          "output_type": "stream",
          "text": [
            "Train Epoch 23: 100%|██████████| 154/154 [00:45<00:00,  3.41it/s, WMAPE=2.5, DICE=0.0706, DPEAKS=36.8, Loss=0.00597]\n",
            "Validate Epoch 23: 100%|██████████| 39/39 [00:06<00:00,  6.02it/s, WMAPE=1.87, DICE=0.0556, DPEAKS=26.8, Loss=0.00577]\n"
          ]
        },
        {
          "name": "stdout",
          "output_type": "stream",
          "text": [
            "Epoch [24/50]\n"
          ]
        },
        {
          "name": "stderr",
          "output_type": "stream",
          "text": [
            "Train Epoch 24: 100%|██████████| 154/154 [00:45<00:00,  3.41it/s, WMAPE=2.36, DICE=0.0707, DPEAKS=36.9, Loss=0.00602]\n",
            "Validate Epoch 24: 100%|██████████| 39/39 [00:06<00:00,  6.10it/s, WMAPE=1.64, DICE=0.0563, DPEAKS=25.6, Loss=0.00511]\n"
          ]
        },
        {
          "name": "stdout",
          "output_type": "stream",
          "text": [
            "Epoch [25/50]\n"
          ]
        },
        {
          "name": "stderr",
          "output_type": "stream",
          "text": [
            "Train Epoch 25: 100%|██████████| 154/154 [00:44<00:00,  3.43it/s, WMAPE=2.74, DICE=0.0706, DPEAKS=37.1, Loss=0.00603]\n",
            "Validate Epoch 25: 100%|██████████| 39/39 [00:06<00:00,  6.10it/s, WMAPE=1.87, DICE=0.0562, DPEAKS=26.5, Loss=0.00549]\n"
          ]
        },
        {
          "name": "stdout",
          "output_type": "stream",
          "text": [
            "early stopping: 5 epochs without improvement\n",
            "Training complete.\n"
          ]
        },
        {
          "name": "stderr",
          "output_type": "stream",
          "text": [
            "Validate Epoch test: 100%|██████████| 971/971 [03:28<00:00,  4.65it/s, WMAPE=1.66, DICE=0.0563, DPEAKS=29.6, Loss=0.00498]\n"
          ]
        },
        {
          "name": "stdout",
          "output_type": "stream",
          "text": [
            "Partition 39: training decoder\n",
            "Loaded best model from partition 38\n",
            "Epoch [1/50]\n"
          ]
        },
        {
          "name": "stderr",
          "output_type": "stream",
          "text": [
            "Train Epoch 1: 100%|██████████| 154/154 [00:51<00:00,  3.02it/s, WMAPE=2.65, DICE=0.0703, DPEAKS=36.9, Loss=0.00615]\n",
            "Validate Epoch 1: 100%|██████████| 39/39 [00:07<00:00,  5.04it/s, WMAPE=1.6, DICE=0.056, DPEAKS=28.5, Loss=0.005]\n"
          ]
        },
        {
          "name": "stdout",
          "output_type": "stream",
          "text": [
            "Saving best model\n",
            "Epoch [2/50]\n"
          ]
        },
        {
          "name": "stderr",
          "output_type": "stream",
          "text": [
            "Train Epoch 2: 100%|██████████| 154/154 [00:44<00:00,  3.43it/s, WMAPE=3.1, DICE=0.0703, DPEAKS=36.8, Loss=0.00614]\n",
            "Validate Epoch 2: 100%|██████████| 39/39 [00:06<00:00,  6.04it/s, WMAPE=1.66, DICE=0.0557, DPEAKS=28.1, Loss=0.00525]\n"
          ]
        },
        {
          "name": "stdout",
          "output_type": "stream",
          "text": [
            "Epoch [3/50]\n"
          ]
        },
        {
          "name": "stderr",
          "output_type": "stream",
          "text": [
            "Train Epoch 3: 100%|██████████| 154/154 [00:44<00:00,  3.42it/s, WMAPE=2.5, DICE=0.0701, DPEAKS=36.2, Loss=0.00607]\n",
            "Validate Epoch 3: 100%|██████████| 39/39 [00:06<00:00,  6.11it/s, WMAPE=1.67, DICE=0.0561, DPEAKS=29.5, Loss=0.00532]\n"
          ]
        },
        {
          "name": "stdout",
          "output_type": "stream",
          "text": [
            "Epoch [4/50]\n"
          ]
        },
        {
          "name": "stderr",
          "output_type": "stream",
          "text": [
            "Train Epoch 4: 100%|██████████| 154/154 [00:44<00:00,  3.44it/s, WMAPE=3.63, DICE=0.0704, DPEAKS=35.9, Loss=0.00617]\n",
            "Validate Epoch 4: 100%|██████████| 39/39 [00:06<00:00,  6.07it/s, WMAPE=1.72, DICE=0.0558, DPEAKS=30.1, Loss=0.00571]\n"
          ]
        },
        {
          "name": "stdout",
          "output_type": "stream",
          "text": [
            "Epoch [5/50]\n"
          ]
        },
        {
          "name": "stderr",
          "output_type": "stream",
          "text": [
            "Train Epoch 5: 100%|██████████| 154/154 [00:45<00:00,  3.42it/s, WMAPE=2.54, DICE=0.0701, DPEAKS=36.8, Loss=0.00616]\n",
            "Validate Epoch 5: 100%|██████████| 39/39 [00:06<00:00,  5.98it/s, WMAPE=1.66, DICE=0.056, DPEAKS=28.7, Loss=0.00524]\n"
          ]
        },
        {
          "name": "stdout",
          "output_type": "stream",
          "text": [
            "Epoch [6/50]\n"
          ]
        },
        {
          "name": "stderr",
          "output_type": "stream",
          "text": [
            "Train Epoch 6: 100%|██████████| 154/154 [00:45<00:00,  3.42it/s, WMAPE=2.49, DICE=0.0701, DPEAKS=36.3, Loss=0.00611]\n",
            "Validate Epoch 6: 100%|██████████| 39/39 [00:06<00:00,  6.05it/s, WMAPE=1.87, DICE=0.0558, DPEAKS=30.6, Loss=0.0056]\n"
          ]
        },
        {
          "name": "stdout",
          "output_type": "stream",
          "text": [
            "Epoch [7/50]\n"
          ]
        },
        {
          "name": "stderr",
          "output_type": "stream",
          "text": [
            "Train Epoch 7: 100%|██████████| 154/154 [00:45<00:00,  3.41it/s, WMAPE=3.01, DICE=0.07, DPEAKS=36.5, Loss=0.00615]\n",
            "Validate Epoch 7: 100%|██████████| 39/39 [00:06<00:00,  6.15it/s, WMAPE=1.99, DICE=0.0559, DPEAKS=30.1, Loss=0.00596]\n"
          ]
        },
        {
          "name": "stdout",
          "output_type": "stream",
          "text": [
            "Epoch [8/50]\n"
          ]
        },
        {
          "name": "stderr",
          "output_type": "stream",
          "text": [
            "Train Epoch 8: 100%|██████████| 154/154 [00:44<00:00,  3.44it/s, WMAPE=2.57, DICE=0.0704, DPEAKS=35.5, Loss=0.00615]\n",
            "Validate Epoch 8: 100%|██████████| 39/39 [00:06<00:00,  6.07it/s, WMAPE=1.67, DICE=0.0563, DPEAKS=29.6, Loss=0.00508]\n"
          ]
        },
        {
          "name": "stdout",
          "output_type": "stream",
          "text": [
            "early stopping: 7 epochs without improvement\n",
            "Training complete.\n"
          ]
        },
        {
          "name": "stderr",
          "output_type": "stream",
          "text": [
            "Validate Epoch test: 100%|██████████| 971/971 [03:29<00:00,  4.64it/s, WMAPE=1.64, DICE=0.056, DPEAKS=27.7, Loss=0.00494]\n"
          ]
        },
        {
          "name": "stdout",
          "output_type": "stream",
          "text": [
            "Partition 40: training decoder\n",
            "Loaded best model from partition 39\n",
            "Epoch [1/50]\n"
          ]
        },
        {
          "name": "stderr",
          "output_type": "stream",
          "text": [
            "Train Epoch 1: 100%|██████████| 154/154 [00:51<00:00,  2.96it/s, WMAPE=2.5, DICE=0.0706, DPEAKS=38, Loss=0.00611]\n",
            "Validate Epoch 1: 100%|██████████| 39/39 [00:07<00:00,  4.98it/s, WMAPE=1.96, DICE=0.0562, DPEAKS=31.5, Loss=0.00568]\n"
          ]
        },
        {
          "name": "stdout",
          "output_type": "stream",
          "text": [
            "Saving best model\n",
            "Epoch [2/50]\n"
          ]
        },
        {
          "name": "stderr",
          "output_type": "stream",
          "text": [
            "Train Epoch 2: 100%|██████████| 154/154 [00:45<00:00,  3.42it/s, WMAPE=2.83, DICE=0.0704, DPEAKS=37.4, Loss=0.0061]\n",
            "Validate Epoch 2: 100%|██████████| 39/39 [00:06<00:00,  6.14it/s, WMAPE=1.75, DICE=0.0561, DPEAKS=29.7, Loss=0.00518]\n"
          ]
        },
        {
          "name": "stdout",
          "output_type": "stream",
          "text": [
            "Saving best model\n",
            "Epoch [3/50]\n"
          ]
        },
        {
          "name": "stderr",
          "output_type": "stream",
          "text": [
            "Train Epoch 3: 100%|██████████| 154/154 [00:44<00:00,  3.43it/s, WMAPE=2.9, DICE=0.0702, DPEAKS=38.5, Loss=0.00613]\n",
            "Validate Epoch 3: 100%|██████████| 39/39 [00:06<00:00,  6.00it/s, WMAPE=1.72, DICE=0.0558, DPEAKS=29.6, Loss=0.00514]\n"
          ]
        },
        {
          "name": "stdout",
          "output_type": "stream",
          "text": [
            "Saving best model\n",
            "Epoch [4/50]\n"
          ]
        },
        {
          "name": "stderr",
          "output_type": "stream",
          "text": [
            "Train Epoch 4: 100%|██████████| 154/154 [00:44<00:00,  3.43it/s, WMAPE=2.63, DICE=0.0702, DPEAKS=36, Loss=0.00609]\n",
            "Validate Epoch 4: 100%|██████████| 39/39 [00:06<00:00,  6.09it/s, WMAPE=1.83, DICE=0.0566, DPEAKS=31.6, Loss=0.0059]\n"
          ]
        },
        {
          "name": "stdout",
          "output_type": "stream",
          "text": [
            "Epoch [5/50]\n"
          ]
        },
        {
          "name": "stderr",
          "output_type": "stream",
          "text": [
            "Train Epoch 5: 100%|██████████| 154/154 [00:45<00:00,  3.40it/s, WMAPE=5.37, DICE=0.0703, DPEAKS=37.4, Loss=0.00618]\n",
            "Validate Epoch 5: 100%|██████████| 39/39 [00:06<00:00,  6.09it/s, WMAPE=2.02, DICE=0.0559, DPEAKS=30.4, Loss=0.00583]\n"
          ]
        },
        {
          "name": "stdout",
          "output_type": "stream",
          "text": [
            "Epoch [6/50]\n"
          ]
        },
        {
          "name": "stderr",
          "output_type": "stream",
          "text": [
            "Train Epoch 6: 100%|██████████| 154/154 [00:45<00:00,  3.42it/s, WMAPE=2.43, DICE=0.0703, DPEAKS=36.2, Loss=0.00613]\n",
            "Validate Epoch 6: 100%|██████████| 39/39 [00:06<00:00,  5.98it/s, WMAPE=1.73, DICE=0.0567, DPEAKS=33, Loss=0.00525]\n"
          ]
        },
        {
          "name": "stdout",
          "output_type": "stream",
          "text": [
            "Epoch [7/50]\n"
          ]
        },
        {
          "name": "stderr",
          "output_type": "stream",
          "text": [
            "Train Epoch 7: 100%|██████████| 154/154 [00:44<00:00,  3.44it/s, WMAPE=3.41, DICE=0.0703, DPEAKS=36.1, Loss=0.00604]\n",
            "Validate Epoch 7: 100%|██████████| 39/39 [00:06<00:00,  6.07it/s, WMAPE=1.65, DICE=0.0558, DPEAKS=28.4, Loss=0.00509]\n"
          ]
        },
        {
          "name": "stdout",
          "output_type": "stream",
          "text": [
            "Saving best model\n",
            "Epoch [8/50]\n"
          ]
        },
        {
          "name": "stderr",
          "output_type": "stream",
          "text": [
            "Train Epoch 8: 100%|██████████| 154/154 [00:44<00:00,  3.42it/s, WMAPE=2.7, DICE=0.0701, DPEAKS=34.9, Loss=0.0061]\n",
            "Validate Epoch 8: 100%|██████████| 39/39 [00:06<00:00,  6.12it/s, WMAPE=1.63, DICE=0.0558, DPEAKS=29.3, Loss=0.00506]\n"
          ]
        },
        {
          "name": "stdout",
          "output_type": "stream",
          "text": [
            "Saving best model\n",
            "Epoch [9/50]\n"
          ]
        },
        {
          "name": "stderr",
          "output_type": "stream",
          "text": [
            "Train Epoch 9: 100%|██████████| 154/154 [00:44<00:00,  3.43it/s, WMAPE=3.15, DICE=0.0702, DPEAKS=36.1, Loss=0.0061]\n",
            "Validate Epoch 9: 100%|██████████| 39/39 [00:06<00:00,  6.07it/s, WMAPE=1.76, DICE=0.0555, DPEAKS=29, Loss=0.00523]\n"
          ]
        },
        {
          "name": "stdout",
          "output_type": "stream",
          "text": [
            "Epoch [10/50]\n"
          ]
        },
        {
          "name": "stderr",
          "output_type": "stream",
          "text": [
            "Train Epoch 10: 100%|██████████| 154/154 [00:45<00:00,  3.41it/s, WMAPE=2.73, DICE=0.0702, DPEAKS=36.5, Loss=0.00615]\n",
            "Validate Epoch 10: 100%|██████████| 39/39 [00:06<00:00,  6.06it/s, WMAPE=2.6, DICE=0.0563, DPEAKS=27.9, Loss=0.00751]\n"
          ]
        },
        {
          "name": "stdout",
          "output_type": "stream",
          "text": [
            "Epoch [11/50]\n"
          ]
        },
        {
          "name": "stderr",
          "output_type": "stream",
          "text": [
            "Train Epoch 11: 100%|██████████| 154/154 [00:44<00:00,  3.42it/s, WMAPE=2.66, DICE=0.0709, DPEAKS=38.6, Loss=0.00612]\n",
            "Validate Epoch 11: 100%|██████████| 39/39 [00:06<00:00,  6.04it/s, WMAPE=1.64, DICE=0.056, DPEAKS=32.6, Loss=0.00515]\n"
          ]
        },
        {
          "name": "stdout",
          "output_type": "stream",
          "text": [
            "Epoch [12/50]\n"
          ]
        },
        {
          "name": "stderr",
          "output_type": "stream",
          "text": [
            "Train Epoch 12: 100%|██████████| 154/154 [00:44<00:00,  3.43it/s, WMAPE=2.69, DICE=0.0706, DPEAKS=36.9, Loss=0.00618]\n",
            "Validate Epoch 12: 100%|██████████| 39/39 [00:06<00:00,  6.07it/s, WMAPE=1.64, DICE=0.0557, DPEAKS=30.4, Loss=0.00513]\n"
          ]
        },
        {
          "name": "stdout",
          "output_type": "stream",
          "text": [
            "Epoch [13/50]\n"
          ]
        },
        {
          "name": "stderr",
          "output_type": "stream",
          "text": [
            "Train Epoch 13: 100%|██████████| 154/154 [00:45<00:00,  3.42it/s, WMAPE=3.06, DICE=0.0703, DPEAKS=36.5, Loss=0.00606]\n",
            "Validate Epoch 13: 100%|██████████| 39/39 [00:06<00:00,  6.05it/s, WMAPE=1.61, DICE=0.056, DPEAKS=30.3, Loss=0.00512]\n"
          ]
        },
        {
          "name": "stdout",
          "output_type": "stream",
          "text": [
            "early stopping: 5 epochs without improvement\n",
            "Training complete.\n"
          ]
        },
        {
          "name": "stderr",
          "output_type": "stream",
          "text": [
            "Validate Epoch test: 100%|██████████| 971/971 [03:28<00:00,  4.66it/s, WMAPE=1.6, DICE=0.0559, DPEAKS=28.8, Loss=0.00491]\n"
          ]
        },
        {
          "name": "stdout",
          "output_type": "stream",
          "text": [
            "Partition 41: training decoder\n",
            "Loaded best model from partition 40\n",
            "Epoch [1/50]\n"
          ]
        },
        {
          "name": "stderr",
          "output_type": "stream",
          "text": [
            "Train Epoch 1: 100%|██████████| 154/154 [00:51<00:00,  2.98it/s, WMAPE=2.48, DICE=0.0704, DPEAKS=38, Loss=0.00614]\n",
            "Validate Epoch 1: 100%|██████████| 39/39 [00:07<00:00,  5.11it/s, WMAPE=1.77, DICE=0.0558, DPEAKS=27.1, Loss=0.00527]\n"
          ]
        },
        {
          "name": "stdout",
          "output_type": "stream",
          "text": [
            "Saving best model\n",
            "Epoch [2/50]\n"
          ]
        },
        {
          "name": "stderr",
          "output_type": "stream",
          "text": [
            "Train Epoch 2: 100%|██████████| 154/154 [00:45<00:00,  3.39it/s, WMAPE=2.69, DICE=0.0705, DPEAKS=35.7, Loss=0.00616]\n",
            "Validate Epoch 2: 100%|██████████| 39/39 [00:06<00:00,  6.09it/s, WMAPE=1.62, DICE=0.0553, DPEAKS=28.1, Loss=0.00493]\n"
          ]
        },
        {
          "name": "stdout",
          "output_type": "stream",
          "text": [
            "Saving best model\n",
            "Epoch [3/50]\n"
          ]
        },
        {
          "name": "stderr",
          "output_type": "stream",
          "text": [
            "Train Epoch 3: 100%|██████████| 154/154 [00:44<00:00,  3.43it/s, WMAPE=2.72, DICE=0.0704, DPEAKS=38.9, Loss=0.00616]\n",
            "Validate Epoch 3: 100%|██████████| 39/39 [00:06<00:00,  6.07it/s, WMAPE=1.67, DICE=0.0561, DPEAKS=31.7, Loss=0.00517]\n"
          ]
        },
        {
          "name": "stdout",
          "output_type": "stream",
          "text": [
            "Epoch [4/50]\n"
          ]
        },
        {
          "name": "stderr",
          "output_type": "stream",
          "text": [
            "Train Epoch 4: 100%|██████████| 154/154 [00:44<00:00,  3.42it/s, WMAPE=2.51, DICE=0.0703, DPEAKS=37, Loss=0.00606]\n",
            "Validate Epoch 4: 100%|██████████| 39/39 [00:06<00:00,  5.98it/s, WMAPE=1.82, DICE=0.0557, DPEAKS=29.6, Loss=0.00539]\n"
          ]
        },
        {
          "name": "stdout",
          "output_type": "stream",
          "text": [
            "Epoch [5/50]\n"
          ]
        },
        {
          "name": "stderr",
          "output_type": "stream",
          "text": [
            "Train Epoch 5: 100%|██████████| 154/154 [00:45<00:00,  3.42it/s, WMAPE=2.57, DICE=0.0703, DPEAKS=37.5, Loss=0.00609]\n",
            "Validate Epoch 5: 100%|██████████| 39/39 [00:06<00:00,  6.07it/s, WMAPE=1.63, DICE=0.0559, DPEAKS=27.8, Loss=0.00497]\n"
          ]
        },
        {
          "name": "stdout",
          "output_type": "stream",
          "text": [
            "Epoch [6/50]\n"
          ]
        },
        {
          "name": "stderr",
          "output_type": "stream",
          "text": [
            "Train Epoch 6: 100%|██████████| 154/154 [00:45<00:00,  3.42it/s, WMAPE=2.78, DICE=0.0704, DPEAKS=36.1, Loss=0.00619]\n",
            "Validate Epoch 6: 100%|██████████| 39/39 [00:06<00:00,  6.01it/s, WMAPE=1.57, DICE=0.0554, DPEAKS=29.1, Loss=0.00487]\n"
          ]
        },
        {
          "name": "stdout",
          "output_type": "stream",
          "text": [
            "Saving best model\n",
            "Epoch [7/50]\n"
          ]
        },
        {
          "name": "stderr",
          "output_type": "stream",
          "text": [
            "Train Epoch 7: 100%|██████████| 154/154 [00:44<00:00,  3.43it/s, WMAPE=2.58, DICE=0.0703, DPEAKS=36.5, Loss=0.00614]\n",
            "Validate Epoch 7: 100%|██████████| 39/39 [00:06<00:00,  6.04it/s, WMAPE=2.04, DICE=0.0563, DPEAKS=28.8, Loss=0.00586]\n"
          ]
        },
        {
          "name": "stdout",
          "output_type": "stream",
          "text": [
            "Epoch [8/50]\n"
          ]
        },
        {
          "name": "stderr",
          "output_type": "stream",
          "text": [
            "Train Epoch 8: 100%|██████████| 154/154 [00:44<00:00,  3.43it/s, WMAPE=2.54, DICE=0.0701, DPEAKS=37.3, Loss=0.00617]\n",
            "Validate Epoch 8: 100%|██████████| 39/39 [00:06<00:00,  6.11it/s, WMAPE=1.68, DICE=0.0561, DPEAKS=30.2, Loss=0.00493]\n"
          ]
        },
        {
          "name": "stdout",
          "output_type": "stream",
          "text": [
            "Epoch [9/50]\n"
          ]
        },
        {
          "name": "stderr",
          "output_type": "stream",
          "text": [
            "Train Epoch 9: 100%|██████████| 154/154 [00:44<00:00,  3.43it/s, WMAPE=3.78, DICE=0.0703, DPEAKS=36.3, Loss=0.00616]\n",
            "Validate Epoch 9: 100%|██████████| 39/39 [00:06<00:00,  6.03it/s, WMAPE=1.56, DICE=0.0559, DPEAKS=28, Loss=0.00497]\n"
          ]
        },
        {
          "name": "stdout",
          "output_type": "stream",
          "text": [
            "Epoch [10/50]\n"
          ]
        },
        {
          "name": "stderr",
          "output_type": "stream",
          "text": [
            "Train Epoch 10: 100%|██████████| 154/154 [00:45<00:00,  3.42it/s, WMAPE=2.41, DICE=0.0704, DPEAKS=36.1, Loss=0.00601]\n",
            "Validate Epoch 10: 100%|██████████| 39/39 [00:06<00:00,  5.96it/s, WMAPE=1.71, DICE=0.0556, DPEAKS=29.9, Loss=0.00523]\n"
          ]
        },
        {
          "name": "stdout",
          "output_type": "stream",
          "text": [
            "Epoch [11/50]\n"
          ]
        },
        {
          "name": "stderr",
          "output_type": "stream",
          "text": [
            "Train Epoch 11: 100%|██████████| 154/154 [00:45<00:00,  3.42it/s, WMAPE=2.68, DICE=0.0704, DPEAKS=37, Loss=0.00609]\n",
            "Validate Epoch 11: 100%|██████████| 39/39 [00:06<00:00,  6.10it/s, WMAPE=1.61, DICE=0.056, DPEAKS=28.6, Loss=0.00494]\n"
          ]
        },
        {
          "name": "stdout",
          "output_type": "stream",
          "text": [
            "early stopping: 5 epochs without improvement\n",
            "Training complete.\n"
          ]
        },
        {
          "name": "stderr",
          "output_type": "stream",
          "text": [
            "Validate Epoch test: 100%|██████████| 971/971 [03:28<00:00,  4.65it/s, WMAPE=1.6, DICE=0.0554, DPEAKS=28.1, Loss=0.0049]\n"
          ]
        },
        {
          "name": "stdout",
          "output_type": "stream",
          "text": [
            "Partition 42: training decoder\n",
            "Loaded best model from partition 41\n",
            "Epoch [1/50]\n"
          ]
        },
        {
          "name": "stderr",
          "output_type": "stream",
          "text": [
            "Train Epoch 1: 100%|██████████| 154/154 [00:52<00:00,  2.96it/s, WMAPE=2.38, DICE=0.0702, DPEAKS=36.8, Loss=0.00602]\n",
            "Validate Epoch 1: 100%|██████████| 39/39 [00:07<00:00,  5.07it/s, WMAPE=1.61, DICE=0.0559, DPEAKS=30.1, Loss=0.00497]\n"
          ]
        },
        {
          "name": "stdout",
          "output_type": "stream",
          "text": [
            "Saving best model\n",
            "Epoch [2/50]\n"
          ]
        },
        {
          "name": "stderr",
          "output_type": "stream",
          "text": [
            "Train Epoch 2: 100%|██████████| 154/154 [00:44<00:00,  3.44it/s, WMAPE=2.88, DICE=0.0703, DPEAKS=37.4, Loss=0.00608]\n",
            "Validate Epoch 2: 100%|██████████| 39/39 [00:06<00:00,  6.05it/s, WMAPE=1.68, DICE=0.0558, DPEAKS=28.4, Loss=0.00496]\n"
          ]
        },
        {
          "name": "stdout",
          "output_type": "stream",
          "text": [
            "Saving best model\n",
            "Epoch [3/50]\n"
          ]
        },
        {
          "name": "stderr",
          "output_type": "stream",
          "text": [
            "Train Epoch 3: 100%|██████████| 154/154 [00:45<00:00,  3.40it/s, WMAPE=2.81, DICE=0.0705, DPEAKS=38, Loss=0.0061]\n",
            "Validate Epoch 3: 100%|██████████| 39/39 [00:06<00:00,  6.09it/s, WMAPE=1.92, DICE=0.0563, DPEAKS=30.6, Loss=0.00544]\n"
          ]
        },
        {
          "name": "stdout",
          "output_type": "stream",
          "text": [
            "Epoch [4/50]\n"
          ]
        },
        {
          "name": "stderr",
          "output_type": "stream",
          "text": [
            "Train Epoch 4: 100%|██████████| 154/154 [00:45<00:00,  3.41it/s, WMAPE=2.62, DICE=0.0701, DPEAKS=36.5, Loss=0.00618]\n",
            "Validate Epoch 4: 100%|██████████| 39/39 [00:06<00:00,  5.99it/s, WMAPE=1.73, DICE=0.0564, DPEAKS=32.7, Loss=0.00534]\n"
          ]
        },
        {
          "name": "stdout",
          "output_type": "stream",
          "text": [
            "Epoch [5/50]\n"
          ]
        },
        {
          "name": "stderr",
          "output_type": "stream",
          "text": [
            "Train Epoch 5: 100%|██████████| 154/154 [00:45<00:00,  3.41it/s, WMAPE=2.49, DICE=0.0703, DPEAKS=37.7, Loss=0.00602]\n",
            "Validate Epoch 5: 100%|██████████| 39/39 [00:06<00:00,  6.11it/s, WMAPE=1.72, DICE=0.0561, DPEAKS=33, Loss=0.0051]\n"
          ]
        },
        {
          "name": "stdout",
          "output_type": "stream",
          "text": [
            "Epoch [6/50]\n"
          ]
        },
        {
          "name": "stderr",
          "output_type": "stream",
          "text": [
            "Train Epoch 6: 100%|██████████| 154/154 [00:44<00:00,  3.44it/s, WMAPE=2.72, DICE=0.0703, DPEAKS=36.2, Loss=0.00601]\n",
            "Validate Epoch 6: 100%|██████████| 39/39 [00:06<00:00,  5.96it/s, WMAPE=1.76, DICE=0.0563, DPEAKS=31.9, Loss=0.00521]\n"
          ]
        },
        {
          "name": "stdout",
          "output_type": "stream",
          "text": [
            "Epoch [7/50]\n"
          ]
        },
        {
          "name": "stderr",
          "output_type": "stream",
          "text": [
            "Train Epoch 7: 100%|██████████| 154/154 [00:44<00:00,  3.43it/s, WMAPE=2.76, DICE=0.0709, DPEAKS=38.1, Loss=0.0061]\n",
            "Validate Epoch 7: 100%|██████████| 39/39 [00:06<00:00,  5.97it/s, WMAPE=1.8, DICE=0.0557, DPEAKS=29.5, Loss=0.00518]\n"
          ]
        },
        {
          "name": "stdout",
          "output_type": "stream",
          "text": [
            "Epoch [8/50]\n"
          ]
        },
        {
          "name": "stderr",
          "output_type": "stream",
          "text": [
            "Train Epoch 8: 100%|██████████| 154/154 [00:45<00:00,  3.42it/s, WMAPE=2.54, DICE=0.0702, DPEAKS=36.4, Loss=0.00592]\n",
            "Validate Epoch 8: 100%|██████████| 39/39 [00:06<00:00,  6.02it/s, WMAPE=1.82, DICE=0.0561, DPEAKS=28, Loss=0.00526]\n"
          ]
        },
        {
          "name": "stdout",
          "output_type": "stream",
          "text": [
            "early stopping: 6 epochs without improvement\n",
            "Training complete.\n"
          ]
        },
        {
          "name": "stderr",
          "output_type": "stream",
          "text": [
            "Validate Epoch test: 100%|██████████| 971/971 [03:28<00:00,  4.65it/s, WMAPE=1.66, DICE=0.0556, DPEAKS=28.8, Loss=0.00498]\n"
          ]
        },
        {
          "name": "stdout",
          "output_type": "stream",
          "text": [
            "Partition 43: training decoder\n",
            "Loaded best model from partition 42\n",
            "Epoch [1/50]\n"
          ]
        },
        {
          "name": "stderr",
          "output_type": "stream",
          "text": [
            "Train Epoch 1: 100%|██████████| 154/154 [00:51<00:00,  2.97it/s, WMAPE=3.92, DICE=0.0704, DPEAKS=37.6, Loss=0.00612]\n",
            "Validate Epoch 1: 100%|██████████| 39/39 [00:07<00:00,  5.06it/s, WMAPE=1.73, DICE=0.0556, DPEAKS=29.7, Loss=0.00506]\n"
          ]
        },
        {
          "name": "stdout",
          "output_type": "stream",
          "text": [
            "Saving best model\n",
            "Epoch [2/50]\n"
          ]
        },
        {
          "name": "stderr",
          "output_type": "stream",
          "text": [
            "Train Epoch 2: 100%|██████████| 154/154 [00:45<00:00,  3.41it/s, WMAPE=2.71, DICE=0.0701, DPEAKS=37.4, Loss=0.00619]\n",
            "Validate Epoch 2: 100%|██████████| 39/39 [00:06<00:00,  5.96it/s, WMAPE=1.61, DICE=0.056, DPEAKS=30.8, Loss=0.00512]\n"
          ]
        },
        {
          "name": "stdout",
          "output_type": "stream",
          "text": [
            "Epoch [3/50]\n"
          ]
        },
        {
          "name": "stderr",
          "output_type": "stream",
          "text": [
            "Train Epoch 3: 100%|██████████| 154/154 [00:44<00:00,  3.43it/s, WMAPE=4.36, DICE=0.0702, DPEAKS=37.6, Loss=0.00607]\n",
            "Validate Epoch 3: 100%|██████████| 39/39 [00:06<00:00,  6.00it/s, WMAPE=1.72, DICE=0.0559, DPEAKS=30.4, Loss=0.00524]\n"
          ]
        },
        {
          "name": "stdout",
          "output_type": "stream",
          "text": [
            "Epoch [4/50]\n"
          ]
        },
        {
          "name": "stderr",
          "output_type": "stream",
          "text": [
            "Train Epoch 4: 100%|██████████| 154/154 [00:45<00:00,  3.41it/s, WMAPE=2.83, DICE=0.0703, DPEAKS=37.2, Loss=0.00614]\n",
            "Validate Epoch 4: 100%|██████████| 39/39 [00:06<00:00,  6.12it/s, WMAPE=1.69, DICE=0.056, DPEAKS=31, Loss=0.00501]\n"
          ]
        },
        {
          "name": "stdout",
          "output_type": "stream",
          "text": [
            "Saving best model\n",
            "Epoch [5/50]\n"
          ]
        },
        {
          "name": "stderr",
          "output_type": "stream",
          "text": [
            "Train Epoch 5: 100%|██████████| 154/154 [00:45<00:00,  3.41it/s, WMAPE=2.83, DICE=0.0703, DPEAKS=36, Loss=0.00613]\n",
            "Validate Epoch 5: 100%|██████████| 39/39 [00:06<00:00,  6.08it/s, WMAPE=2.04, DICE=0.0562, DPEAKS=28.3, Loss=0.00578]\n"
          ]
        },
        {
          "name": "stdout",
          "output_type": "stream",
          "text": [
            "Epoch [6/50]\n"
          ]
        },
        {
          "name": "stderr",
          "output_type": "stream",
          "text": [
            "Train Epoch 6: 100%|██████████| 154/154 [00:45<00:00,  3.40it/s, WMAPE=4.91, DICE=0.0701, DPEAKS=37.1, Loss=0.00604]\n",
            "Validate Epoch 6: 100%|██████████| 39/39 [00:06<00:00,  6.07it/s, WMAPE=1.71, DICE=0.0558, DPEAKS=29.9, Loss=0.00517]\n"
          ]
        },
        {
          "name": "stdout",
          "output_type": "stream",
          "text": [
            "Epoch [7/50]\n"
          ]
        },
        {
          "name": "stderr",
          "output_type": "stream",
          "text": [
            "Train Epoch 7: 100%|██████████| 154/154 [00:44<00:00,  3.43it/s, WMAPE=2.81, DICE=0.0708, DPEAKS=38.3, Loss=0.00616]\n",
            "Validate Epoch 7: 100%|██████████| 39/39 [00:06<00:00,  6.06it/s, WMAPE=1.77, DICE=0.0556, DPEAKS=30.7, Loss=0.00519]\n"
          ]
        },
        {
          "name": "stdout",
          "output_type": "stream",
          "text": [
            "Epoch [8/50]\n"
          ]
        },
        {
          "name": "stderr",
          "output_type": "stream",
          "text": [
            "Train Epoch 8: 100%|██████████| 154/154 [00:45<00:00,  3.40it/s, WMAPE=3.9, DICE=0.0705, DPEAKS=37.6, Loss=0.00615]\n",
            "Validate Epoch 8: 100%|██████████| 39/39 [00:06<00:00,  6.07it/s, WMAPE=1.78, DICE=0.056, DPEAKS=30.9, Loss=0.00516]\n"
          ]
        },
        {
          "name": "stdout",
          "output_type": "stream",
          "text": [
            "Epoch [9/50]\n"
          ]
        },
        {
          "name": "stderr",
          "output_type": "stream",
          "text": [
            "Train Epoch 9: 100%|██████████| 154/154 [00:44<00:00,  3.42it/s, WMAPE=2.91, DICE=0.0703, DPEAKS=37.7, Loss=0.00605]\n",
            "Validate Epoch 9: 100%|██████████| 39/39 [00:06<00:00,  6.04it/s, WMAPE=1.81, DICE=0.0569, DPEAKS=29.9, Loss=0.00577]\n"
          ]
        },
        {
          "name": "stdout",
          "output_type": "stream",
          "text": [
            "early stopping: 5 epochs without improvement\n",
            "Training complete.\n"
          ]
        },
        {
          "name": "stderr",
          "output_type": "stream",
          "text": [
            "Validate Epoch test: 100%|██████████| 971/971 [03:28<00:00,  4.65it/s, WMAPE=1.66, DICE=0.0559, DPEAKS=28.6, Loss=0.00493]\n"
          ]
        },
        {
          "name": "stdout",
          "output_type": "stream",
          "text": [
            "Partition 44: training decoder\n",
            "Loaded best model from partition 43\n",
            "Epoch [1/50]\n"
          ]
        },
        {
          "name": "stderr",
          "output_type": "stream",
          "text": [
            "Train Epoch 1: 100%|██████████| 154/154 [00:51<00:00,  2.96it/s, WMAPE=2.47, DICE=0.0703, DPEAKS=37.7, Loss=0.0061]\n",
            "Validate Epoch 1: 100%|██████████| 39/39 [00:07<00:00,  5.08it/s, WMAPE=1.63, DICE=0.0562, DPEAKS=27.2, Loss=0.00517]\n"
          ]
        },
        {
          "name": "stdout",
          "output_type": "stream",
          "text": [
            "Saving best model\n",
            "Epoch [2/50]\n"
          ]
        },
        {
          "name": "stderr",
          "output_type": "stream",
          "text": [
            "Train Epoch 2: 100%|██████████| 154/154 [00:45<00:00,  3.41it/s, WMAPE=2.6, DICE=0.0704, DPEAKS=37.3, Loss=0.00622]\n",
            "Validate Epoch 2: 100%|██████████| 39/39 [00:06<00:00,  6.07it/s, WMAPE=1.68, DICE=0.0557, DPEAKS=28.9, Loss=0.0052]\n"
          ]
        },
        {
          "name": "stdout",
          "output_type": "stream",
          "text": [
            "Epoch [3/50]\n"
          ]
        },
        {
          "name": "stderr",
          "output_type": "stream",
          "text": [
            "Train Epoch 3: 100%|██████████| 154/154 [00:45<00:00,  3.41it/s, WMAPE=2.98, DICE=0.0704, DPEAKS=37.7, Loss=0.00609]\n",
            "Validate Epoch 3: 100%|██████████| 39/39 [00:06<00:00,  6.03it/s, WMAPE=1.73, DICE=0.0564, DPEAKS=27.3, Loss=0.00524]\n"
          ]
        },
        {
          "name": "stdout",
          "output_type": "stream",
          "text": [
            "Epoch [4/50]\n"
          ]
        },
        {
          "name": "stderr",
          "output_type": "stream",
          "text": [
            "Train Epoch 4: 100%|██████████| 154/154 [00:45<00:00,  3.42it/s, WMAPE=2.55, DICE=0.0702, DPEAKS=37.3, Loss=0.00609]\n",
            "Validate Epoch 4: 100%|██████████| 39/39 [00:06<00:00,  5.95it/s, WMAPE=1.62, DICE=0.0554, DPEAKS=27.3, Loss=0.00517]\n"
          ]
        },
        {
          "name": "stdout",
          "output_type": "stream",
          "text": [
            "Saving best model\n",
            "Epoch [5/50]\n"
          ]
        },
        {
          "name": "stderr",
          "output_type": "stream",
          "text": [
            "Train Epoch 5: 100%|██████████| 154/154 [00:45<00:00,  3.41it/s, WMAPE=4.2, DICE=0.0702, DPEAKS=37.7, Loss=0.00607]\n",
            "Validate Epoch 5: 100%|██████████| 39/39 [00:06<00:00,  6.05it/s, WMAPE=1.59, DICE=0.0563, DPEAKS=27.6, Loss=0.0052]\n"
          ]
        },
        {
          "name": "stdout",
          "output_type": "stream",
          "text": [
            "Epoch [6/50]\n"
          ]
        },
        {
          "name": "stderr",
          "output_type": "stream",
          "text": [
            "Train Epoch 6: 100%|██████████| 154/154 [00:44<00:00,  3.43it/s, WMAPE=2.5, DICE=0.0706, DPEAKS=35.9, Loss=0.00605]\n",
            "Validate Epoch 6: 100%|██████████| 39/39 [00:06<00:00,  6.00it/s, WMAPE=1.6, DICE=0.0558, DPEAKS=26.8, Loss=0.00496]\n"
          ]
        },
        {
          "name": "stdout",
          "output_type": "stream",
          "text": [
            "Saving best model\n",
            "Epoch [7/50]\n"
          ]
        },
        {
          "name": "stderr",
          "output_type": "stream",
          "text": [
            "Train Epoch 7: 100%|██████████| 154/154 [00:45<00:00,  3.40it/s, WMAPE=2.7, DICE=0.0703, DPEAKS=37.8, Loss=0.00605]\n",
            "Validate Epoch 7: 100%|██████████| 39/39 [00:06<00:00,  6.03it/s, WMAPE=1.65, DICE=0.0558, DPEAKS=25.3, Loss=0.00513]\n"
          ]
        },
        {
          "name": "stdout",
          "output_type": "stream",
          "text": [
            "Epoch [8/50]\n"
          ]
        },
        {
          "name": "stderr",
          "output_type": "stream",
          "text": [
            "Train Epoch 8: 100%|██████████| 154/154 [00:44<00:00,  3.43it/s, WMAPE=2.52, DICE=0.0703, DPEAKS=35.2, Loss=0.00605]\n",
            "Validate Epoch 8: 100%|██████████| 39/39 [00:06<00:00,  6.02it/s, WMAPE=1.76, DICE=0.0557, DPEAKS=27.9, Loss=0.00558]\n"
          ]
        },
        {
          "name": "stdout",
          "output_type": "stream",
          "text": [
            "Epoch [9/50]\n"
          ]
        },
        {
          "name": "stderr",
          "output_type": "stream",
          "text": [
            "Train Epoch 9: 100%|██████████| 154/154 [00:45<00:00,  3.41it/s, WMAPE=2.54, DICE=0.0706, DPEAKS=37.3, Loss=0.00595]\n",
            "Validate Epoch 9: 100%|██████████| 39/39 [00:06<00:00,  6.07it/s, WMAPE=1.61, DICE=0.0557, DPEAKS=26.4, Loss=0.00496]\n"
          ]
        },
        {
          "name": "stdout",
          "output_type": "stream",
          "text": [
            "Epoch [10/50]\n"
          ]
        },
        {
          "name": "stderr",
          "output_type": "stream",
          "text": [
            "Train Epoch 10: 100%|██████████| 154/154 [00:45<00:00,  3.42it/s, WMAPE=3.08, DICE=0.0703, DPEAKS=35.8, Loss=0.00597]\n",
            "Validate Epoch 10: 100%|██████████| 39/39 [00:06<00:00,  6.06it/s, WMAPE=2.01, DICE=0.0557, DPEAKS=26.4, Loss=0.00604]\n"
          ]
        },
        {
          "name": "stdout",
          "output_type": "stream",
          "text": [
            "Epoch [11/50]\n"
          ]
        },
        {
          "name": "stderr",
          "output_type": "stream",
          "text": [
            "Train Epoch 11: 100%|██████████| 154/154 [00:45<00:00,  3.40it/s, WMAPE=2.53, DICE=0.0706, DPEAKS=37.4, Loss=0.00608]\n",
            "Validate Epoch 11: 100%|██████████| 39/39 [00:06<00:00,  6.01it/s, WMAPE=2.05, DICE=0.0567, DPEAKS=30, Loss=0.00676]\n"
          ]
        },
        {
          "name": "stdout",
          "output_type": "stream",
          "text": [
            "early stopping: 5 epochs without improvement\n",
            "Training complete.\n"
          ]
        },
        {
          "name": "stderr",
          "output_type": "stream",
          "text": [
            "Validate Epoch test: 100%|██████████| 971/971 [03:28<00:00,  4.66it/s, WMAPE=1.63, DICE=0.0557, DPEAKS=28.6, Loss=0.00493]\n"
          ]
        },
        {
          "name": "stdout",
          "output_type": "stream",
          "text": [
            "Partition 45: training decoder\n",
            "Loaded best model from partition 44\n",
            "Epoch [1/50]\n"
          ]
        },
        {
          "name": "stderr",
          "output_type": "stream",
          "text": [
            "Train Epoch 1: 100%|██████████| 154/154 [00:51<00:00,  2.99it/s, WMAPE=2.86, DICE=0.0703, DPEAKS=36.2, Loss=0.00618]\n",
            "Validate Epoch 1: 100%|██████████| 39/39 [00:07<00:00,  5.05it/s, WMAPE=2.31, DICE=0.0566, DPEAKS=30.5, Loss=0.0062]\n"
          ]
        },
        {
          "name": "stdout",
          "output_type": "stream",
          "text": [
            "Saving best model\n",
            "Epoch [2/50]\n"
          ]
        },
        {
          "name": "stderr",
          "output_type": "stream",
          "text": [
            "Train Epoch 2: 100%|██████████| 154/154 [00:45<00:00,  3.41it/s, WMAPE=3.28, DICE=0.0703, DPEAKS=37.2, Loss=0.00612]\n",
            "Validate Epoch 2: 100%|██████████| 39/39 [00:06<00:00,  6.08it/s, WMAPE=1.9, DICE=0.0558, DPEAKS=29.7, Loss=0.00538]\n"
          ]
        },
        {
          "name": "stdout",
          "output_type": "stream",
          "text": [
            "Saving best model\n",
            "Epoch [3/50]\n"
          ]
        },
        {
          "name": "stderr",
          "output_type": "stream",
          "text": [
            "Train Epoch 3: 100%|██████████| 154/154 [00:45<00:00,  3.41it/s, WMAPE=2.43, DICE=0.0702, DPEAKS=35.6, Loss=0.0061]\n",
            "Validate Epoch 3: 100%|██████████| 39/39 [00:06<00:00,  6.08it/s, WMAPE=1.71, DICE=0.0564, DPEAKS=30.7, Loss=0.00514]\n"
          ]
        },
        {
          "name": "stdout",
          "output_type": "stream",
          "text": [
            "Saving best model\n",
            "Epoch [4/50]\n"
          ]
        },
        {
          "name": "stderr",
          "output_type": "stream",
          "text": [
            "Train Epoch 4: 100%|██████████| 154/154 [00:45<00:00,  3.42it/s, WMAPE=2.98, DICE=0.0704, DPEAKS=36.5, Loss=0.00613]\n",
            "Validate Epoch 4: 100%|██████████| 39/39 [00:06<00:00,  5.98it/s, WMAPE=1.81, DICE=0.0561, DPEAKS=29.1, Loss=0.00541]\n"
          ]
        },
        {
          "name": "stdout",
          "output_type": "stream",
          "text": [
            "Epoch [5/50]\n"
          ]
        },
        {
          "name": "stderr",
          "output_type": "stream",
          "text": [
            "Train Epoch 5: 100%|██████████| 154/154 [00:45<00:00,  3.41it/s, WMAPE=2.42, DICE=0.0703, DPEAKS=35, Loss=0.00603]\n",
            "Validate Epoch 5: 100%|██████████| 39/39 [00:06<00:00,  5.92it/s, WMAPE=1.81, DICE=0.0558, DPEAKS=28.6, Loss=0.00531]\n"
          ]
        },
        {
          "name": "stdout",
          "output_type": "stream",
          "text": [
            "Epoch [6/50]\n"
          ]
        },
        {
          "name": "stderr",
          "output_type": "stream",
          "text": [
            "Train Epoch 6: 100%|██████████| 154/154 [00:45<00:00,  3.41it/s, WMAPE=2.38, DICE=0.0702, DPEAKS=35.9, Loss=0.0061]\n",
            "Validate Epoch 6: 100%|██████████| 39/39 [00:06<00:00,  5.98it/s, WMAPE=1.68, DICE=0.0561, DPEAKS=28.4, Loss=0.00496]\n"
          ]
        },
        {
          "name": "stdout",
          "output_type": "stream",
          "text": [
            "Saving best model\n",
            "Epoch [7/50]\n"
          ]
        },
        {
          "name": "stderr",
          "output_type": "stream",
          "text": [
            "Train Epoch 7: 100%|██████████| 154/154 [00:45<00:00,  3.40it/s, WMAPE=2.58, DICE=0.0705, DPEAKS=36.4, Loss=0.00612]\n",
            "Validate Epoch 7: 100%|██████████| 39/39 [00:06<00:00,  6.03it/s, WMAPE=2.02, DICE=0.0561, DPEAKS=28.3, Loss=0.0059]\n"
          ]
        },
        {
          "name": "stdout",
          "output_type": "stream",
          "text": [
            "Epoch [8/50]\n"
          ]
        },
        {
          "name": "stderr",
          "output_type": "stream",
          "text": [
            "Train Epoch 8: 100%|██████████| 154/154 [00:45<00:00,  3.41it/s, WMAPE=2.6, DICE=0.0706, DPEAKS=35.2, Loss=0.00616]\n",
            "Validate Epoch 8: 100%|██████████| 39/39 [00:06<00:00,  6.08it/s, WMAPE=1.7, DICE=0.0563, DPEAKS=29.3, Loss=0.005]\n"
          ]
        },
        {
          "name": "stdout",
          "output_type": "stream",
          "text": [
            "Epoch [9/50]\n"
          ]
        },
        {
          "name": "stderr",
          "output_type": "stream",
          "text": [
            "Train Epoch 9: 100%|██████████| 154/154 [00:44<00:00,  3.42it/s, WMAPE=2.59, DICE=0.0707, DPEAKS=36.8, Loss=0.00615]\n",
            "Validate Epoch 9: 100%|██████████| 39/39 [00:06<00:00,  6.11it/s, WMAPE=1.69, DICE=0.0561, DPEAKS=28.3, Loss=0.00495]\n"
          ]
        },
        {
          "name": "stdout",
          "output_type": "stream",
          "text": [
            "Saving best model\n",
            "Epoch [10/50]\n"
          ]
        },
        {
          "name": "stderr",
          "output_type": "stream",
          "text": [
            "Train Epoch 10: 100%|██████████| 154/154 [00:45<00:00,  3.40it/s, WMAPE=3.47, DICE=0.0703, DPEAKS=36.9, Loss=0.00609]\n",
            "Validate Epoch 10: 100%|██████████| 39/39 [00:06<00:00,  6.08it/s, WMAPE=1.75, DICE=0.0564, DPEAKS=31.8, Loss=0.00504]\n"
          ]
        },
        {
          "name": "stdout",
          "output_type": "stream",
          "text": [
            "Epoch [11/50]\n"
          ]
        },
        {
          "name": "stderr",
          "output_type": "stream",
          "text": [
            "Train Epoch 11: 100%|██████████| 154/154 [00:44<00:00,  3.43it/s, WMAPE=3.22, DICE=0.0701, DPEAKS=36.4, Loss=0.0061]\n",
            "Validate Epoch 11: 100%|██████████| 39/39 [00:06<00:00,  6.03it/s, WMAPE=1.7, DICE=0.0558, DPEAKS=28.6, Loss=0.0051]\n"
          ]
        },
        {
          "name": "stdout",
          "output_type": "stream",
          "text": [
            "Epoch [12/50]\n"
          ]
        },
        {
          "name": "stderr",
          "output_type": "stream",
          "text": [
            "Train Epoch 12: 100%|██████████| 154/154 [00:45<00:00,  3.41it/s, WMAPE=2.83, DICE=0.0704, DPEAKS=36.5, Loss=0.00606]\n",
            "Validate Epoch 12: 100%|██████████| 39/39 [00:06<00:00,  6.07it/s, WMAPE=2.21, DICE=0.0564, DPEAKS=27.9, Loss=0.00617]\n"
          ]
        },
        {
          "name": "stdout",
          "output_type": "stream",
          "text": [
            "Epoch [13/50]\n"
          ]
        },
        {
          "name": "stderr",
          "output_type": "stream",
          "text": [
            "Train Epoch 13: 100%|██████████| 154/154 [00:44<00:00,  3.43it/s, WMAPE=2.6, DICE=0.0706, DPEAKS=37.2, Loss=0.00613]\n",
            "Validate Epoch 13: 100%|██████████| 39/39 [00:06<00:00,  6.05it/s, WMAPE=1.73, DICE=0.0555, DPEAKS=29.4, Loss=0.00504]\n"
          ]
        },
        {
          "name": "stdout",
          "output_type": "stream",
          "text": [
            "Epoch [14/50]\n"
          ]
        },
        {
          "name": "stderr",
          "output_type": "stream",
          "text": [
            "Train Epoch 14: 100%|██████████| 154/154 [00:45<00:00,  3.40it/s, WMAPE=3.66, DICE=0.0703, DPEAKS=37.5, Loss=0.00609]\n",
            "Validate Epoch 14: 100%|██████████| 39/39 [00:06<00:00,  6.03it/s, WMAPE=1.78, DICE=0.0564, DPEAKS=30.1, Loss=0.00551]\n"
          ]
        },
        {
          "name": "stdout",
          "output_type": "stream",
          "text": [
            "early stopping: 5 epochs without improvement\n",
            "Training complete.\n"
          ]
        },
        {
          "name": "stderr",
          "output_type": "stream",
          "text": [
            "Validate Epoch test: 100%|██████████| 971/971 [03:29<00:00,  4.64it/s, WMAPE=1.62, DICE=0.056, DPEAKS=28.8, Loss=0.00494]\n"
          ]
        },
        {
          "name": "stdout",
          "output_type": "stream",
          "text": [
            "Partition 46: training decoder\n",
            "Loaded best model from partition 45\n",
            "Epoch [1/50]\n"
          ]
        },
        {
          "name": "stderr",
          "output_type": "stream",
          "text": [
            "Train Epoch 1: 100%|██████████| 154/154 [00:52<00:00,  2.96it/s, WMAPE=2.52, DICE=0.0703, DPEAKS=36.7, Loss=0.00614]\n",
            "Validate Epoch 1: 100%|██████████| 39/39 [00:07<00:00,  5.03it/s, WMAPE=1.79, DICE=0.0559, DPEAKS=26.2, Loss=0.00515]\n"
          ]
        },
        {
          "name": "stdout",
          "output_type": "stream",
          "text": [
            "Saving best model\n",
            "Epoch [2/50]\n"
          ]
        },
        {
          "name": "stderr",
          "output_type": "stream",
          "text": [
            "Train Epoch 2: 100%|██████████| 154/154 [00:45<00:00,  3.42it/s, WMAPE=3.27, DICE=0.0704, DPEAKS=35.7, Loss=0.00612]\n",
            "Validate Epoch 2: 100%|██████████| 39/39 [00:06<00:00,  6.05it/s, WMAPE=1.66, DICE=0.0562, DPEAKS=27.5, Loss=0.00492]\n"
          ]
        },
        {
          "name": "stdout",
          "output_type": "stream",
          "text": [
            "Saving best model\n",
            "Epoch [3/50]\n"
          ]
        },
        {
          "name": "stderr",
          "output_type": "stream",
          "text": [
            "Train Epoch 3: 100%|██████████| 154/154 [00:45<00:00,  3.41it/s, WMAPE=2.64, DICE=0.0707, DPEAKS=36.9, Loss=0.00606]\n",
            "Validate Epoch 3: 100%|██████████| 39/39 [00:06<00:00,  6.03it/s, WMAPE=1.9, DICE=0.0563, DPEAKS=28.7, Loss=0.0055]\n"
          ]
        },
        {
          "name": "stdout",
          "output_type": "stream",
          "text": [
            "Epoch [4/50]\n"
          ]
        },
        {
          "name": "stderr",
          "output_type": "stream",
          "text": [
            "Train Epoch 4: 100%|██████████| 154/154 [00:45<00:00,  3.42it/s, WMAPE=2.61, DICE=0.0702, DPEAKS=37, Loss=0.00607]\n",
            "Validate Epoch 4: 100%|██████████| 39/39 [00:06<00:00,  6.11it/s, WMAPE=2.02, DICE=0.0565, DPEAKS=27.7, Loss=0.00566]\n"
          ]
        },
        {
          "name": "stdout",
          "output_type": "stream",
          "text": [
            "Epoch [5/50]\n"
          ]
        },
        {
          "name": "stderr",
          "output_type": "stream",
          "text": [
            "Train Epoch 5: 100%|██████████| 154/154 [00:45<00:00,  3.41it/s, WMAPE=2.44, DICE=0.0705, DPEAKS=35.7, Loss=0.00609]\n",
            "Validate Epoch 5: 100%|██████████| 39/39 [00:06<00:00,  6.03it/s, WMAPE=1.76, DICE=0.0559, DPEAKS=27.3, Loss=0.00509]\n"
          ]
        },
        {
          "name": "stdout",
          "output_type": "stream",
          "text": [
            "Epoch [6/50]\n"
          ]
        },
        {
          "name": "stderr",
          "output_type": "stream",
          "text": [
            "Train Epoch 6: 100%|██████████| 154/154 [00:45<00:00,  3.42it/s, WMAPE=2.5, DICE=0.0706, DPEAKS=37.8, Loss=0.00608]\n",
            "Validate Epoch 6: 100%|██████████| 39/39 [00:06<00:00,  6.06it/s, WMAPE=1.66, DICE=0.0561, DPEAKS=27.5, Loss=0.00508]\n"
          ]
        },
        {
          "name": "stdout",
          "output_type": "stream",
          "text": [
            "Epoch [7/50]\n"
          ]
        },
        {
          "name": "stderr",
          "output_type": "stream",
          "text": [
            "Train Epoch 7: 100%|██████████| 154/154 [00:45<00:00,  3.41it/s, WMAPE=2.72, DICE=0.0705, DPEAKS=35.4, Loss=0.00607]\n",
            "Validate Epoch 7: 100%|██████████| 39/39 [00:06<00:00,  6.04it/s, WMAPE=1.69, DICE=0.0558, DPEAKS=27.2, Loss=0.00507]\n"
          ]
        },
        {
          "name": "stdout",
          "output_type": "stream",
          "text": [
            "Epoch [8/50]\n"
          ]
        },
        {
          "name": "stderr",
          "output_type": "stream",
          "text": [
            "Train Epoch 8: 100%|██████████| 154/154 [00:45<00:00,  3.40it/s, WMAPE=4.49, DICE=0.0705, DPEAKS=36.9, Loss=0.00596]\n",
            "Validate Epoch 8: 100%|██████████| 39/39 [00:06<00:00,  6.07it/s, WMAPE=1.7, DICE=0.0559, DPEAKS=26.4, Loss=0.00499]\n"
          ]
        },
        {
          "name": "stdout",
          "output_type": "stream",
          "text": [
            "early stopping: 6 epochs without improvement\n",
            "Training complete.\n"
          ]
        },
        {
          "name": "stderr",
          "output_type": "stream",
          "text": [
            "Validate Epoch test: 100%|██████████| 971/971 [03:29<00:00,  4.63it/s, WMAPE=1.65, DICE=0.056, DPEAKS=29.1, Loss=0.00488]\n"
          ]
        },
        {
          "name": "stdout",
          "output_type": "stream",
          "text": [
            "Partition 47: training decoder\n",
            "Loaded best model from partition 46\n",
            "Epoch [1/50]\n"
          ]
        },
        {
          "name": "stderr",
          "output_type": "stream",
          "text": [
            "Train Epoch 1: 100%|██████████| 154/154 [00:51<00:00,  3.01it/s, WMAPE=3.05, DICE=0.0703, DPEAKS=36.2, Loss=0.0061]\n",
            "Validate Epoch 1: 100%|██████████| 39/39 [00:07<00:00,  5.04it/s, WMAPE=2.12, DICE=0.0557, DPEAKS=31.6, Loss=0.00593]\n"
          ]
        },
        {
          "name": "stdout",
          "output_type": "stream",
          "text": [
            "Saving best model\n",
            "Epoch [2/50]\n"
          ]
        },
        {
          "name": "stderr",
          "output_type": "stream",
          "text": [
            "Train Epoch 2: 100%|██████████| 154/154 [00:44<00:00,  3.44it/s, WMAPE=2.56, DICE=0.07, DPEAKS=37.8, Loss=0.00601]\n",
            "Validate Epoch 2: 100%|██████████| 39/39 [00:06<00:00,  6.01it/s, WMAPE=1.67, DICE=0.0558, DPEAKS=28.9, Loss=0.00505]\n"
          ]
        },
        {
          "name": "stdout",
          "output_type": "stream",
          "text": [
            "Saving best model\n",
            "Epoch [3/50]\n"
          ]
        },
        {
          "name": "stderr",
          "output_type": "stream",
          "text": [
            "Train Epoch 3: 100%|██████████| 154/154 [00:45<00:00,  3.40it/s, WMAPE=2.43, DICE=0.0702, DPEAKS=38, Loss=0.00608]\n",
            "Validate Epoch 3: 100%|██████████| 39/39 [00:06<00:00,  6.08it/s, WMAPE=1.67, DICE=0.056, DPEAKS=31.3, Loss=0.00508]\n"
          ]
        },
        {
          "name": "stdout",
          "output_type": "stream",
          "text": [
            "Epoch [4/50]\n"
          ]
        },
        {
          "name": "stderr",
          "output_type": "stream",
          "text": [
            "Train Epoch 4: 100%|██████████| 154/154 [00:45<00:00,  3.41it/s, WMAPE=2.6, DICE=0.0703, DPEAKS=37.3, Loss=0.00605]\n",
            "Validate Epoch 4: 100%|██████████| 39/39 [00:06<00:00,  6.05it/s, WMAPE=1.88, DICE=0.0564, DPEAKS=28, Loss=0.00527]\n"
          ]
        },
        {
          "name": "stdout",
          "output_type": "stream",
          "text": [
            "Epoch [5/50]\n"
          ]
        },
        {
          "name": "stderr",
          "output_type": "stream",
          "text": [
            "Train Epoch 5: 100%|██████████| 154/154 [00:45<00:00,  3.41it/s, WMAPE=3.01, DICE=0.0701, DPEAKS=36.7, Loss=0.00606]\n",
            "Validate Epoch 5: 100%|██████████| 39/39 [00:06<00:00,  5.99it/s, WMAPE=1.67, DICE=0.0565, DPEAKS=30.1, Loss=0.00509]\n"
          ]
        },
        {
          "name": "stdout",
          "output_type": "stream",
          "text": [
            "Epoch [6/50]\n"
          ]
        },
        {
          "name": "stderr",
          "output_type": "stream",
          "text": [
            "Train Epoch 6: 100%|██████████| 154/154 [00:45<00:00,  3.42it/s, WMAPE=4.04, DICE=0.0708, DPEAKS=38.7, Loss=0.00607]\n",
            "Validate Epoch 6: 100%|██████████| 39/39 [00:06<00:00,  6.01it/s, WMAPE=1.6, DICE=0.0558, DPEAKS=30.9, Loss=0.00512]\n"
          ]
        },
        {
          "name": "stdout",
          "output_type": "stream",
          "text": [
            "Epoch [7/50]\n"
          ]
        },
        {
          "name": "stderr",
          "output_type": "stream",
          "text": [
            "Train Epoch 7: 100%|██████████| 154/154 [00:45<00:00,  3.41it/s, WMAPE=3.05, DICE=0.0702, DPEAKS=37.6, Loss=0.00599]\n",
            "Validate Epoch 7: 100%|██████████| 39/39 [00:06<00:00,  6.15it/s, WMAPE=1.66, DICE=0.0561, DPEAKS=28.8, Loss=0.00488]\n"
          ]
        },
        {
          "name": "stdout",
          "output_type": "stream",
          "text": [
            "Saving best model\n",
            "Epoch [8/50]\n"
          ]
        },
        {
          "name": "stderr",
          "output_type": "stream",
          "text": [
            "Train Epoch 8: 100%|██████████| 154/154 [00:44<00:00,  3.42it/s, WMAPE=2.35, DICE=0.0701, DPEAKS=37.5, Loss=0.00588]\n",
            "Validate Epoch 8: 100%|██████████| 39/39 [00:06<00:00,  6.06it/s, WMAPE=1.62, DICE=0.0555, DPEAKS=29.4, Loss=0.00481]\n"
          ]
        },
        {
          "name": "stdout",
          "output_type": "stream",
          "text": [
            "Saving best model\n",
            "Epoch [9/50]\n"
          ]
        },
        {
          "name": "stderr",
          "output_type": "stream",
          "text": [
            "Train Epoch 9: 100%|██████████| 154/154 [00:45<00:00,  3.41it/s, WMAPE=3.52, DICE=0.0706, DPEAKS=36.8, Loss=0.00602]\n",
            "Validate Epoch 9: 100%|██████████| 39/39 [00:06<00:00,  6.00it/s, WMAPE=1.62, DICE=0.0556, DPEAKS=28.4, Loss=0.00496]\n"
          ]
        },
        {
          "name": "stdout",
          "output_type": "stream",
          "text": [
            "Epoch [10/50]\n"
          ]
        },
        {
          "name": "stderr",
          "output_type": "stream",
          "text": [
            "Train Epoch 10: 100%|██████████| 154/154 [00:45<00:00,  3.42it/s, WMAPE=3.17, DICE=0.0702, DPEAKS=37.4, Loss=0.00604]\n",
            "Validate Epoch 10: 100%|██████████| 39/39 [00:06<00:00,  6.04it/s, WMAPE=1.58, DICE=0.056, DPEAKS=28.6, Loss=0.00487]\n"
          ]
        },
        {
          "name": "stdout",
          "output_type": "stream",
          "text": [
            "Epoch [11/50]\n"
          ]
        },
        {
          "name": "stderr",
          "output_type": "stream",
          "text": [
            "Train Epoch 11: 100%|██████████| 154/154 [00:45<00:00,  3.41it/s, WMAPE=2.49, DICE=0.0703, DPEAKS=37.8, Loss=0.00607]\n",
            "Validate Epoch 11: 100%|██████████| 39/39 [00:06<00:00,  6.02it/s, WMAPE=1.84, DICE=0.0566, DPEAKS=30.8, Loss=0.00571]\n"
          ]
        },
        {
          "name": "stdout",
          "output_type": "stream",
          "text": [
            "Epoch [12/50]\n"
          ]
        },
        {
          "name": "stderr",
          "output_type": "stream",
          "text": [
            "Train Epoch 12: 100%|██████████| 154/154 [00:45<00:00,  3.40it/s, WMAPE=2.56, DICE=0.0705, DPEAKS=37.9, Loss=0.00604]\n",
            "Validate Epoch 12: 100%|██████████| 39/39 [00:06<00:00,  5.96it/s, WMAPE=1.64, DICE=0.0562, DPEAKS=29.4, Loss=0.00484]\n"
          ]
        },
        {
          "name": "stdout",
          "output_type": "stream",
          "text": [
            "Epoch [13/50]\n"
          ]
        },
        {
          "name": "stderr",
          "output_type": "stream",
          "text": [
            "Train Epoch 13: 100%|██████████| 154/154 [00:44<00:00,  3.42it/s, WMAPE=2.99, DICE=0.0702, DPEAKS=36.8, Loss=0.00595]\n",
            "Validate Epoch 13: 100%|██████████| 39/39 [00:06<00:00,  6.02it/s, WMAPE=1.67, DICE=0.0555, DPEAKS=30.5, Loss=0.00477]\n"
          ]
        },
        {
          "name": "stdout",
          "output_type": "stream",
          "text": [
            "Saving best model\n",
            "Epoch [14/50]\n"
          ]
        },
        {
          "name": "stderr",
          "output_type": "stream",
          "text": [
            "Train Epoch 14: 100%|██████████| 154/154 [00:44<00:00,  3.43it/s, WMAPE=2.36, DICE=0.0702, DPEAKS=37.8, Loss=0.00595]\n",
            "Validate Epoch 14: 100%|██████████| 39/39 [00:06<00:00,  6.02it/s, WMAPE=1.53, DICE=0.0555, DPEAKS=29, Loss=0.00508]\n"
          ]
        },
        {
          "name": "stdout",
          "output_type": "stream",
          "text": [
            "Epoch [15/50]\n"
          ]
        },
        {
          "name": "stderr",
          "output_type": "stream",
          "text": [
            "Train Epoch 15: 100%|██████████| 154/154 [00:45<00:00,  3.40it/s, WMAPE=3.06, DICE=0.0703, DPEAKS=38.3, Loss=0.00601]\n",
            "Validate Epoch 15: 100%|██████████| 39/39 [00:06<00:00,  6.11it/s, WMAPE=1.6, DICE=0.0559, DPEAKS=27.4, Loss=0.00488]\n"
          ]
        },
        {
          "name": "stdout",
          "output_type": "stream",
          "text": [
            "Epoch [16/50]\n"
          ]
        },
        {
          "name": "stderr",
          "output_type": "stream",
          "text": [
            "Train Epoch 16: 100%|██████████| 154/154 [00:45<00:00,  3.42it/s, WMAPE=3.3, DICE=0.0702, DPEAKS=37.2, Loss=0.006]\n",
            "Validate Epoch 16: 100%|██████████| 39/39 [00:06<00:00,  6.04it/s, WMAPE=2.13, DICE=0.0564, DPEAKS=29, Loss=0.00597]\n"
          ]
        },
        {
          "name": "stdout",
          "output_type": "stream",
          "text": [
            "Epoch [17/50]\n"
          ]
        },
        {
          "name": "stderr",
          "output_type": "stream",
          "text": [
            "Train Epoch 17: 100%|██████████| 154/154 [00:44<00:00,  3.43it/s, WMAPE=6.44, DICE=0.0702, DPEAKS=39.7, Loss=0.0059]\n",
            "Validate Epoch 17: 100%|██████████| 39/39 [00:06<00:00,  6.00it/s, WMAPE=1.61, DICE=0.0558, DPEAKS=30.2, Loss=0.00496]\n"
          ]
        },
        {
          "name": "stdout",
          "output_type": "stream",
          "text": [
            "Epoch [18/50]\n"
          ]
        },
        {
          "name": "stderr",
          "output_type": "stream",
          "text": [
            "Train Epoch 18: 100%|██████████| 154/154 [00:45<00:00,  3.41it/s, WMAPE=2.53, DICE=0.0704, DPEAKS=37.4, Loss=0.00602]\n",
            "Validate Epoch 18: 100%|██████████| 39/39 [00:06<00:00,  6.06it/s, WMAPE=2.85, DICE=0.0564, DPEAKS=30.2, Loss=0.00776]\n"
          ]
        },
        {
          "name": "stdout",
          "output_type": "stream",
          "text": [
            "early stopping: 5 epochs without improvement\n",
            "Training complete.\n"
          ]
        },
        {
          "name": "stderr",
          "output_type": "stream",
          "text": [
            "Validate Epoch test: 100%|██████████| 971/971 [03:29<00:00,  4.63it/s, WMAPE=1.69, DICE=0.0554, DPEAKS=28.7, Loss=0.00492]\n"
          ]
        },
        {
          "name": "stdout",
          "output_type": "stream",
          "text": [
            "Partition 48: training decoder\n",
            "Loaded best model from partition 47\n",
            "Epoch [1/50]\n"
          ]
        },
        {
          "name": "stderr",
          "output_type": "stream",
          "text": [
            "Train Epoch 1: 100%|██████████| 154/154 [00:51<00:00,  3.01it/s, WMAPE=3.22, DICE=0.0704, DPEAKS=37.2, Loss=0.00606]\n",
            "Validate Epoch 1: 100%|██████████| 39/39 [00:07<00:00,  5.08it/s, WMAPE=1.88, DICE=0.056, DPEAKS=26.4, Loss=0.00516]\n"
          ]
        },
        {
          "name": "stdout",
          "output_type": "stream",
          "text": [
            "Saving best model\n",
            "Epoch [2/50]\n"
          ]
        },
        {
          "name": "stderr",
          "output_type": "stream",
          "text": [
            "Train Epoch 2: 100%|██████████| 154/154 [00:45<00:00,  3.41it/s, WMAPE=3.22, DICE=0.0703, DPEAKS=35.7, Loss=0.00598]\n",
            "Validate Epoch 2: 100%|██████████| 39/39 [00:06<00:00,  6.04it/s, WMAPE=2.09, DICE=0.0558, DPEAKS=28.6, Loss=0.00568]\n"
          ]
        },
        {
          "name": "stdout",
          "output_type": "stream",
          "text": [
            "Epoch [3/50]\n"
          ]
        },
        {
          "name": "stderr",
          "output_type": "stream",
          "text": [
            "Train Epoch 3: 100%|██████████| 154/154 [00:45<00:00,  3.40it/s, WMAPE=3.18, DICE=0.0705, DPEAKS=36.7, Loss=0.00613]\n",
            "Validate Epoch 3: 100%|██████████| 39/39 [00:06<00:00,  6.04it/s, WMAPE=1.74, DICE=0.0579, DPEAKS=29.2, Loss=0.00506]\n"
          ]
        },
        {
          "name": "stdout",
          "output_type": "stream",
          "text": [
            "Saving best model\n",
            "Epoch [4/50]\n"
          ]
        },
        {
          "name": "stderr",
          "output_type": "stream",
          "text": [
            "Train Epoch 4: 100%|██████████| 154/154 [00:45<00:00,  3.41it/s, WMAPE=2.75, DICE=0.0706, DPEAKS=37.9, Loss=0.00604]\n",
            "Validate Epoch 4: 100%|██████████| 39/39 [00:06<00:00,  5.94it/s, WMAPE=1.67, DICE=0.0557, DPEAKS=25.7, Loss=0.00489]\n"
          ]
        },
        {
          "name": "stdout",
          "output_type": "stream",
          "text": [
            "Saving best model\n",
            "Epoch [5/50]\n"
          ]
        },
        {
          "name": "stderr",
          "output_type": "stream",
          "text": [
            "Train Epoch 5: 100%|██████████| 154/154 [00:45<00:00,  3.42it/s, WMAPE=2.6, DICE=0.0703, DPEAKS=35.7, Loss=0.00598]\n",
            "Validate Epoch 5: 100%|██████████| 39/39 [00:06<00:00,  5.88it/s, WMAPE=1.67, DICE=0.0557, DPEAKS=26.1, Loss=0.00491]\n"
          ]
        },
        {
          "name": "stdout",
          "output_type": "stream",
          "text": [
            "Epoch [6/50]\n"
          ]
        },
        {
          "name": "stderr",
          "output_type": "stream",
          "text": [
            "Train Epoch 6: 100%|██████████| 154/154 [00:45<00:00,  3.41it/s, WMAPE=2.52, DICE=0.0701, DPEAKS=36.6, Loss=0.00602]\n",
            "Validate Epoch 6: 100%|██████████| 39/39 [00:06<00:00,  6.09it/s, WMAPE=1.73, DICE=0.0563, DPEAKS=26.2, Loss=0.00506]\n"
          ]
        },
        {
          "name": "stdout",
          "output_type": "stream",
          "text": [
            "Epoch [7/50]\n"
          ]
        },
        {
          "name": "stderr",
          "output_type": "stream",
          "text": [
            "Train Epoch 7: 100%|██████████| 154/154 [00:45<00:00,  3.41it/s, WMAPE=2.57, DICE=0.0703, DPEAKS=37, Loss=0.006]\n",
            "Validate Epoch 7: 100%|██████████| 39/39 [00:06<00:00,  5.99it/s, WMAPE=1.7, DICE=0.0554, DPEAKS=24.7, Loss=0.00498]\n"
          ]
        },
        {
          "name": "stdout",
          "output_type": "stream",
          "text": [
            "Epoch [8/50]\n"
          ]
        },
        {
          "name": "stderr",
          "output_type": "stream",
          "text": [
            "Train Epoch 8: 100%|██████████| 154/154 [00:45<00:00,  3.40it/s, WMAPE=2.57, DICE=0.0706, DPEAKS=36.2, Loss=0.00611]\n",
            "Validate Epoch 8: 100%|██████████| 39/39 [00:06<00:00,  6.06it/s, WMAPE=1.82, DICE=0.0562, DPEAKS=25.3, Loss=0.00522]\n"
          ]
        },
        {
          "name": "stdout",
          "output_type": "stream",
          "text": [
            "Epoch [9/50]\n"
          ]
        },
        {
          "name": "stderr",
          "output_type": "stream",
          "text": [
            "Train Epoch 9: 100%|██████████| 154/154 [00:45<00:00,  3.41it/s, WMAPE=2.47, DICE=0.0702, DPEAKS=35.6, Loss=0.00607]\n",
            "Validate Epoch 9: 100%|██████████| 39/39 [00:06<00:00,  6.11it/s, WMAPE=1.79, DICE=0.0565, DPEAKS=28.2, Loss=0.00558]\n"
          ]
        },
        {
          "name": "stdout",
          "output_type": "stream",
          "text": [
            "early stopping: 5 epochs without improvement\n",
            "Training complete.\n"
          ]
        },
        {
          "name": "stderr",
          "output_type": "stream",
          "text": [
            "Validate Epoch test: 100%|██████████| 971/971 [03:28<00:00,  4.65it/s, WMAPE=1.62, DICE=0.0555, DPEAKS=28.3, Loss=0.00488]\n"
          ]
        },
        {
          "name": "stdout",
          "output_type": "stream",
          "text": [
            "Partition 49: training decoder\n",
            "Loaded best model from partition 48\n",
            "Epoch [1/50]\n"
          ]
        },
        {
          "name": "stderr",
          "output_type": "stream",
          "text": [
            "Train Epoch 1: 100%|██████████| 154/154 [00:51<00:00,  3.01it/s, WMAPE=2.55, DICE=0.0704, DPEAKS=34.7, Loss=0.00607]\n",
            "Validate Epoch 1: 100%|██████████| 39/39 [00:07<00:00,  5.07it/s, WMAPE=1.72, DICE=0.0563, DPEAKS=28, Loss=0.00516]\n"
          ]
        },
        {
          "name": "stdout",
          "output_type": "stream",
          "text": [
            "Saving best model\n",
            "Epoch [2/50]\n"
          ]
        },
        {
          "name": "stderr",
          "output_type": "stream",
          "text": [
            "Train Epoch 2: 100%|██████████| 154/154 [00:45<00:00,  3.39it/s, WMAPE=2.63, DICE=0.07, DPEAKS=36.5, Loss=0.00614]\n",
            "Validate Epoch 2: 100%|██████████| 39/39 [00:06<00:00,  6.05it/s, WMAPE=1.79, DICE=0.0561, DPEAKS=31.5, Loss=0.00536]\n"
          ]
        },
        {
          "name": "stdout",
          "output_type": "stream",
          "text": [
            "Epoch [3/50]\n"
          ]
        },
        {
          "name": "stderr",
          "output_type": "stream",
          "text": [
            "Train Epoch 3: 100%|██████████| 154/154 [00:45<00:00,  3.40it/s, WMAPE=2.6, DICE=0.0702, DPEAKS=35.1, Loss=0.00605]\n",
            "Validate Epoch 3: 100%|██████████| 39/39 [00:06<00:00,  6.12it/s, WMAPE=1.56, DICE=0.0555, DPEAKS=29, Loss=0.00527]\n"
          ]
        },
        {
          "name": "stdout",
          "output_type": "stream",
          "text": [
            "Epoch [4/50]\n"
          ]
        },
        {
          "name": "stderr",
          "output_type": "stream",
          "text": [
            "Train Epoch 4: 100%|██████████| 154/154 [00:45<00:00,  3.39it/s, WMAPE=2.31, DICE=0.07, DPEAKS=36.6, Loss=0.00596]\n",
            "Validate Epoch 4: 100%|██████████| 39/39 [00:06<00:00,  5.98it/s, WMAPE=1.51, DICE=0.0555, DPEAKS=28.9, Loss=0.00484]\n"
          ]
        },
        {
          "name": "stdout",
          "output_type": "stream",
          "text": [
            "Saving best model\n",
            "Epoch [5/50]\n"
          ]
        },
        {
          "name": "stderr",
          "output_type": "stream",
          "text": [
            "Train Epoch 5: 100%|██████████| 154/154 [00:45<00:00,  3.41it/s, WMAPE=4.32, DICE=0.07, DPEAKS=34.8, Loss=0.00608]\n",
            "Validate Epoch 5: 100%|██████████| 39/39 [00:06<00:00,  5.86it/s, WMAPE=1.63, DICE=0.0565, DPEAKS=29.4, Loss=0.00501]\n"
          ]
        },
        {
          "name": "stdout",
          "output_type": "stream",
          "text": [
            "Epoch [6/50]\n"
          ]
        },
        {
          "name": "stderr",
          "output_type": "stream",
          "text": [
            "Train Epoch 6: 100%|██████████| 154/154 [00:45<00:00,  3.42it/s, WMAPE=3.16, DICE=0.07, DPEAKS=35.4, Loss=0.00597]\n",
            "Validate Epoch 6: 100%|██████████| 39/39 [00:06<00:00,  6.05it/s, WMAPE=1.49, DICE=0.0555, DPEAKS=27.5, Loss=0.00479]\n"
          ]
        },
        {
          "name": "stdout",
          "output_type": "stream",
          "text": [
            "Saving best model\n",
            "Epoch [7/50]\n"
          ]
        },
        {
          "name": "stderr",
          "output_type": "stream",
          "text": [
            "Train Epoch 7: 100%|██████████| 154/154 [00:45<00:00,  3.40it/s, WMAPE=2.77, DICE=0.0702, DPEAKS=35.4, Loss=0.00597]\n",
            "Validate Epoch 7: 100%|██████████| 39/39 [00:06<00:00,  6.08it/s, WMAPE=1.68, DICE=0.0561, DPEAKS=29.8, Loss=0.00506]\n"
          ]
        },
        {
          "name": "stdout",
          "output_type": "stream",
          "text": [
            "Epoch [8/50]\n"
          ]
        },
        {
          "name": "stderr",
          "output_type": "stream",
          "text": [
            "Train Epoch 8: 100%|██████████| 154/154 [00:45<00:00,  3.41it/s, WMAPE=3.38, DICE=0.0702, DPEAKS=35.6, Loss=0.00602]\n",
            "Validate Epoch 8: 100%|██████████| 39/39 [00:06<00:00,  6.09it/s, WMAPE=1.52, DICE=0.056, DPEAKS=30.7, Loss=0.00496]\n"
          ]
        },
        {
          "name": "stdout",
          "output_type": "stream",
          "text": [
            "Epoch [9/50]\n"
          ]
        },
        {
          "name": "stderr",
          "output_type": "stream",
          "text": [
            "Train Epoch 9: 100%|██████████| 154/154 [00:44<00:00,  3.43it/s, WMAPE=2.6, DICE=0.0704, DPEAKS=37.4, Loss=0.00596]\n",
            "Validate Epoch 9: 100%|██████████| 39/39 [00:06<00:00,  6.08it/s, WMAPE=1.59, DICE=0.057, DPEAKS=31.1, Loss=0.0052]\n"
          ]
        },
        {
          "name": "stdout",
          "output_type": "stream",
          "text": [
            "Epoch [10/50]\n"
          ]
        },
        {
          "name": "stderr",
          "output_type": "stream",
          "text": [
            "Train Epoch 10: 100%|██████████| 154/154 [00:45<00:00,  3.42it/s, WMAPE=2.66, DICE=0.0706, DPEAKS=37.7, Loss=0.00604]\n",
            "Validate Epoch 10: 100%|██████████| 39/39 [00:06<00:00,  6.06it/s, WMAPE=1.65, DICE=0.056, DPEAKS=30.7, Loss=0.00516]\n"
          ]
        },
        {
          "name": "stdout",
          "output_type": "stream",
          "text": [
            "Epoch [11/50]\n"
          ]
        },
        {
          "name": "stderr",
          "output_type": "stream",
          "text": [
            "Train Epoch 11: 100%|██████████| 154/154 [00:44<00:00,  3.42it/s, WMAPE=2.61, DICE=0.0703, DPEAKS=36, Loss=0.00603]\n",
            "Validate Epoch 11: 100%|██████████| 39/39 [00:06<00:00,  6.06it/s, WMAPE=1.6, DICE=0.0557, DPEAKS=32.3, Loss=0.00503]\n"
          ]
        },
        {
          "name": "stdout",
          "output_type": "stream",
          "text": [
            "early stopping: 5 epochs without improvement\n",
            "Training complete.\n"
          ]
        },
        {
          "name": "stderr",
          "output_type": "stream",
          "text": [
            "Validate Epoch test: 100%|██████████| 971/971 [03:29<00:00,  4.64it/s, WMAPE=1.58, DICE=0.0554, DPEAKS=27.8, Loss=0.00485]\n"
          ]
        },
        {
          "name": "stdout",
          "output_type": "stream",
          "text": [
            "Partition 50: training decoder\n",
            "Loaded best model from partition 49\n",
            "Epoch [1/50]\n"
          ]
        },
        {
          "name": "stderr",
          "output_type": "stream",
          "text": [
            "Train Epoch 1: 100%|██████████| 154/154 [00:51<00:00,  3.01it/s, WMAPE=2.55, DICE=0.0705, DPEAKS=38.3, Loss=0.00612]\n",
            "Validate Epoch 1: 100%|██████████| 39/39 [00:07<00:00,  5.04it/s, WMAPE=1.65, DICE=0.056, DPEAKS=27.4, Loss=0.00507]\n"
          ]
        },
        {
          "name": "stdout",
          "output_type": "stream",
          "text": [
            "Saving best model\n",
            "Epoch [2/50]\n"
          ]
        },
        {
          "name": "stderr",
          "output_type": "stream",
          "text": [
            "Train Epoch 2: 100%|██████████| 154/154 [00:45<00:00,  3.40it/s, WMAPE=2.52, DICE=0.0702, DPEAKS=38.2, Loss=0.00604]\n",
            "Validate Epoch 2: 100%|██████████| 39/39 [00:06<00:00,  6.01it/s, WMAPE=1.9, DICE=0.0554, DPEAKS=27.8, Loss=0.00561]\n"
          ]
        },
        {
          "name": "stdout",
          "output_type": "stream",
          "text": [
            "Epoch [3/50]\n"
          ]
        },
        {
          "name": "stderr",
          "output_type": "stream",
          "text": [
            "Train Epoch 3: 100%|██████████| 154/154 [00:45<00:00,  3.41it/s, WMAPE=2.85, DICE=0.0704, DPEAKS=38, Loss=0.00608]\n",
            "Validate Epoch 3: 100%|██████████| 39/39 [00:06<00:00,  6.03it/s, WMAPE=1.76, DICE=0.0559, DPEAKS=28.2, Loss=0.00509]\n"
          ]
        },
        {
          "name": "stdout",
          "output_type": "stream",
          "text": [
            "Epoch [4/50]\n"
          ]
        },
        {
          "name": "stderr",
          "output_type": "stream",
          "text": [
            "Train Epoch 4: 100%|██████████| 154/154 [00:44<00:00,  3.42it/s, WMAPE=3.31, DICE=0.0703, DPEAKS=38.1, Loss=0.00607]\n",
            "Validate Epoch 4: 100%|██████████| 39/39 [00:06<00:00,  6.00it/s, WMAPE=1.62, DICE=0.0554, DPEAKS=27.8, Loss=0.00504]\n"
          ]
        },
        {
          "name": "stdout",
          "output_type": "stream",
          "text": [
            "Saving best model\n",
            "Epoch [5/50]\n"
          ]
        },
        {
          "name": "stderr",
          "output_type": "stream",
          "text": [
            "Train Epoch 5: 100%|██████████| 154/154 [00:44<00:00,  3.43it/s, WMAPE=2.52, DICE=0.0702, DPEAKS=37.5, Loss=0.00604]\n",
            "Validate Epoch 5: 100%|██████████| 39/39 [00:06<00:00,  5.97it/s, WMAPE=1.66, DICE=0.0555, DPEAKS=26.7, Loss=0.00505]\n"
          ]
        },
        {
          "name": "stdout",
          "output_type": "stream",
          "text": [
            "Epoch [6/50]\n"
          ]
        },
        {
          "name": "stderr",
          "output_type": "stream",
          "text": [
            "Train Epoch 6: 100%|██████████| 154/154 [00:45<00:00,  3.40it/s, WMAPE=2.6, DICE=0.0703, DPEAKS=38.2, Loss=0.00599]\n",
            "Validate Epoch 6: 100%|██████████| 39/39 [00:06<00:00,  5.97it/s, WMAPE=1.63, DICE=0.0556, DPEAKS=27.2, Loss=0.00492]\n"
          ]
        },
        {
          "name": "stdout",
          "output_type": "stream",
          "text": [
            "Saving best model\n",
            "Epoch [7/50]\n"
          ]
        },
        {
          "name": "stderr",
          "output_type": "stream",
          "text": [
            "Train Epoch 7: 100%|██████████| 154/154 [00:44<00:00,  3.44it/s, WMAPE=2.41, DICE=0.0706, DPEAKS=36.7, Loss=0.00608]\n",
            "Validate Epoch 7: 100%|██████████| 39/39 [00:06<00:00,  6.05it/s, WMAPE=1.77, DICE=0.0555, DPEAKS=27.2, Loss=0.00525]\n"
          ]
        },
        {
          "name": "stdout",
          "output_type": "stream",
          "text": [
            "Epoch [8/50]\n"
          ]
        },
        {
          "name": "stderr",
          "output_type": "stream",
          "text": [
            "Train Epoch 8: 100%|██████████| 154/154 [00:45<00:00,  3.41it/s, WMAPE=3.21, DICE=0.0701, DPEAKS=37.4, Loss=0.00603]\n",
            "Validate Epoch 8: 100%|██████████| 39/39 [00:06<00:00,  6.06it/s, WMAPE=1.68, DICE=0.0555, DPEAKS=30, Loss=0.00545]\n"
          ]
        },
        {
          "name": "stdout",
          "output_type": "stream",
          "text": [
            "Epoch [9/50]\n"
          ]
        },
        {
          "name": "stderr",
          "output_type": "stream",
          "text": [
            "Train Epoch 9: 100%|██████████| 154/154 [00:44<00:00,  3.42it/s, WMAPE=2.58, DICE=0.0704, DPEAKS=37.5, Loss=0.00595]\n",
            "Validate Epoch 9: 100%|██████████| 39/39 [00:06<00:00,  6.12it/s, WMAPE=2.59, DICE=0.0561, DPEAKS=29.3, Loss=0.0074]\n"
          ]
        },
        {
          "name": "stdout",
          "output_type": "stream",
          "text": [
            "Epoch [10/50]\n"
          ]
        },
        {
          "name": "stderr",
          "output_type": "stream",
          "text": [
            "Train Epoch 10: 100%|██████████| 154/154 [00:45<00:00,  3.40it/s, WMAPE=2.87, DICE=0.0703, DPEAKS=37.3, Loss=0.00602]\n",
            "Validate Epoch 10: 100%|██████████| 39/39 [00:06<00:00,  6.10it/s, WMAPE=1.69, DICE=0.0555, DPEAKS=30.3, Loss=0.00503]\n"
          ]
        },
        {
          "name": "stdout",
          "output_type": "stream",
          "text": [
            "Epoch [11/50]\n"
          ]
        },
        {
          "name": "stderr",
          "output_type": "stream",
          "text": [
            "Train Epoch 11: 100%|██████████| 154/154 [00:45<00:00,  3.40it/s, WMAPE=2.64, DICE=0.0702, DPEAKS=36.7, Loss=0.00595]\n",
            "Validate Epoch 11: 100%|██████████| 39/39 [00:06<00:00,  6.04it/s, WMAPE=1.72, DICE=0.0559, DPEAKS=25.9, Loss=0.00506]\n"
          ]
        },
        {
          "name": "stdout",
          "output_type": "stream",
          "text": [
            "early stopping: 5 epochs without improvement\n",
            "Training complete.\n"
          ]
        },
        {
          "name": "stderr",
          "output_type": "stream",
          "text": [
            "Validate Epoch test: 100%|██████████| 971/971 [03:29<00:00,  4.64it/s, WMAPE=1.63, DICE=0.0556, DPEAKS=29.2, Loss=0.00487]\n"
          ]
        }
      ],
      "source": [
        "many_partitions_v2(31,51,model,criterion,transform=transform,full_frecuency=99)"
      ]
    },
    {
      "cell_type": "code",
      "execution_count": 14,
      "metadata": {},
      "outputs": [
        {
          "name": "stdout",
          "output_type": "stream",
          "text": [
            "Partition 51: training decoder\n",
            "Loaded best model from partition 50\n",
            "Epoch [1/50]\n"
          ]
        },
        {
          "name": "stderr",
          "output_type": "stream",
          "text": [
            "Train Epoch 1: 100%|██████████| 154/154 [00:51<00:00,  2.99it/s, WMAPE=2.57, DICE=0.0703, DPEAKS=38.2, Loss=0.00605]\n",
            "Validate Epoch 1: 100%|██████████| 39/39 [00:07<00:00,  5.06it/s, WMAPE=1.65, DICE=0.0552, DPEAKS=28.5, Loss=0.005]\n"
          ]
        },
        {
          "name": "stdout",
          "output_type": "stream",
          "text": [
            "Saving best model\n",
            "Epoch [2/50]\n"
          ]
        },
        {
          "name": "stderr",
          "output_type": "stream",
          "text": [
            "Train Epoch 2: 100%|██████████| 154/154 [00:45<00:00,  3.40it/s, WMAPE=2.8, DICE=0.0703, DPEAKS=36.6, Loss=0.00602]\n",
            "Validate Epoch 2: 100%|██████████| 39/39 [00:06<00:00,  6.05it/s, WMAPE=1.69, DICE=0.0557, DPEAKS=28.1, Loss=0.00527]\n"
          ]
        },
        {
          "name": "stdout",
          "output_type": "stream",
          "text": [
            "Epoch [3/50]\n"
          ]
        },
        {
          "name": "stderr",
          "output_type": "stream",
          "text": [
            "Train Epoch 3: 100%|██████████| 154/154 [00:44<00:00,  3.43it/s, WMAPE=3.2, DICE=0.0706, DPEAKS=38.5, Loss=0.00613]\n",
            "Validate Epoch 3: 100%|██████████| 39/39 [00:06<00:00,  5.98it/s, WMAPE=1.62, DICE=0.0555, DPEAKS=28.4, Loss=0.00521]\n"
          ]
        },
        {
          "name": "stdout",
          "output_type": "stream",
          "text": [
            "Epoch [4/50]\n"
          ]
        },
        {
          "name": "stderr",
          "output_type": "stream",
          "text": [
            "Train Epoch 4: 100%|██████████| 154/154 [00:45<00:00,  3.39it/s, WMAPE=5.73, DICE=0.0701, DPEAKS=37.3, Loss=0.00599]\n",
            "Validate Epoch 4: 100%|██████████| 39/39 [00:06<00:00,  6.05it/s, WMAPE=1.54, DICE=0.0558, DPEAKS=28.9, Loss=0.00497]\n"
          ]
        },
        {
          "name": "stdout",
          "output_type": "stream",
          "text": [
            "Saving best model\n",
            "Epoch [5/50]\n"
          ]
        },
        {
          "name": "stderr",
          "output_type": "stream",
          "text": [
            "Train Epoch 5: 100%|██████████| 154/154 [00:45<00:00,  3.40it/s, WMAPE=2.67, DICE=0.07, DPEAKS=37.6, Loss=0.00597]\n",
            "Validate Epoch 5: 100%|██████████| 39/39 [00:06<00:00,  5.97it/s, WMAPE=1.59, DICE=0.0555, DPEAKS=28.3, Loss=0.00491]\n"
          ]
        },
        {
          "name": "stdout",
          "output_type": "stream",
          "text": [
            "Saving best model\n",
            "Epoch [6/50]\n"
          ]
        },
        {
          "name": "stderr",
          "output_type": "stream",
          "text": [
            "Train Epoch 6: 100%|██████████| 154/154 [00:45<00:00,  3.41it/s, WMAPE=2.46, DICE=0.0706, DPEAKS=37.8, Loss=0.00608]\n",
            "Validate Epoch 6: 100%|██████████| 39/39 [00:06<00:00,  6.10it/s, WMAPE=2.22, DICE=0.0563, DPEAKS=27.7, Loss=0.00634]\n"
          ]
        },
        {
          "name": "stdout",
          "output_type": "stream",
          "text": [
            "Epoch [7/50]\n"
          ]
        },
        {
          "name": "stderr",
          "output_type": "stream",
          "text": [
            "Train Epoch 7: 100%|██████████| 154/154 [00:45<00:00,  3.39it/s, WMAPE=2.57, DICE=0.07, DPEAKS=38.6, Loss=0.00598]\n",
            "Validate Epoch 7: 100%|██████████| 39/39 [00:06<00:00,  6.10it/s, WMAPE=1.62, DICE=0.0562, DPEAKS=29.1, Loss=0.00501]\n"
          ]
        },
        {
          "name": "stdout",
          "output_type": "stream",
          "text": [
            "Epoch [8/50]\n"
          ]
        },
        {
          "name": "stderr",
          "output_type": "stream",
          "text": [
            "Train Epoch 8: 100%|██████████| 154/154 [00:45<00:00,  3.41it/s, WMAPE=2.91, DICE=0.0702, DPEAKS=35.5, Loss=0.00596]\n",
            "Validate Epoch 8: 100%|██████████| 39/39 [00:06<00:00,  6.08it/s, WMAPE=1.61, DICE=0.056, DPEAKS=29.1, Loss=0.00492]\n"
          ]
        },
        {
          "name": "stdout",
          "output_type": "stream",
          "text": [
            "Epoch [9/50]\n"
          ]
        },
        {
          "name": "stderr",
          "output_type": "stream",
          "text": [
            "Train Epoch 9: 100%|██████████| 154/154 [00:45<00:00,  3.39it/s, WMAPE=5.15, DICE=0.0705, DPEAKS=37.7, Loss=0.00608]\n",
            "Validate Epoch 9: 100%|██████████| 39/39 [00:06<00:00,  5.97it/s, WMAPE=1.74, DICE=0.0566, DPEAKS=29.1, Loss=0.00553]\n"
          ]
        },
        {
          "name": "stdout",
          "output_type": "stream",
          "text": [
            "Epoch [10/50]\n"
          ]
        },
        {
          "name": "stderr",
          "output_type": "stream",
          "text": [
            "Train Epoch 10: 100%|██████████| 154/154 [00:45<00:00,  3.42it/s, WMAPE=4.54, DICE=0.0704, DPEAKS=37.5, Loss=0.00592]\n",
            "Validate Epoch 10: 100%|██████████| 39/39 [00:06<00:00,  6.04it/s, WMAPE=1.65, DICE=0.0558, DPEAKS=27.5, Loss=0.00492]\n"
          ]
        },
        {
          "name": "stdout",
          "output_type": "stream",
          "text": [
            "early stopping: 5 epochs without improvement\n",
            "Training complete.\n"
          ]
        },
        {
          "name": "stderr",
          "output_type": "stream",
          "text": [
            "Validate Epoch test: 100%|██████████| 971/971 [03:29<00:00,  4.64it/s, WMAPE=1.63, DICE=0.0554, DPEAKS=28.4, Loss=0.0049]\n"
          ]
        },
        {
          "name": "stdout",
          "output_type": "stream",
          "text": [
            "Partition 52: training decoder\n",
            "Loaded best model from partition 51\n",
            "Epoch [1/50]\n"
          ]
        },
        {
          "name": "stderr",
          "output_type": "stream",
          "text": [
            "Train Epoch 1: 100%|██████████| 154/154 [00:51<00:00,  2.99it/s, WMAPE=2.63, DICE=0.0704, DPEAKS=36.9, Loss=0.00615]\n",
            "Validate Epoch 1: 100%|██████████| 39/39 [00:07<00:00,  5.09it/s, WMAPE=1.66, DICE=0.0563, DPEAKS=31.1, Loss=0.00502]\n"
          ]
        },
        {
          "name": "stdout",
          "output_type": "stream",
          "text": [
            "Saving best model\n",
            "Epoch [2/50]\n"
          ]
        },
        {
          "name": "stderr",
          "output_type": "stream",
          "text": [
            "Train Epoch 2: 100%|██████████| 154/154 [00:45<00:00,  3.41it/s, WMAPE=2.61, DICE=0.07, DPEAKS=37.5, Loss=0.00604]\n",
            "Validate Epoch 2: 100%|██████████| 39/39 [00:06<00:00,  6.03it/s, WMAPE=1.63, DICE=0.0553, DPEAKS=28, Loss=0.005]\n"
          ]
        },
        {
          "name": "stdout",
          "output_type": "stream",
          "text": [
            "Saving best model\n",
            "Epoch [3/50]\n"
          ]
        },
        {
          "name": "stderr",
          "output_type": "stream",
          "text": [
            "Train Epoch 3: 100%|██████████| 154/154 [00:45<00:00,  3.42it/s, WMAPE=3.34, DICE=0.0705, DPEAKS=36.2, Loss=0.00613]\n",
            "Validate Epoch 3: 100%|██████████| 39/39 [00:06<00:00,  5.99it/s, WMAPE=2.05, DICE=0.0556, DPEAKS=29.4, Loss=0.00632]\n"
          ]
        },
        {
          "name": "stdout",
          "output_type": "stream",
          "text": [
            "Epoch [4/50]\n"
          ]
        },
        {
          "name": "stderr",
          "output_type": "stream",
          "text": [
            "Train Epoch 4: 100%|██████████| 154/154 [00:45<00:00,  3.41it/s, WMAPE=2.6, DICE=0.0703, DPEAKS=37.9, Loss=0.00598]\n",
            "Validate Epoch 4: 100%|██████████| 39/39 [00:06<00:00,  6.10it/s, WMAPE=1.68, DICE=0.0562, DPEAKS=30.1, Loss=0.00538]\n"
          ]
        },
        {
          "name": "stdout",
          "output_type": "stream",
          "text": [
            "Epoch [5/50]\n"
          ]
        },
        {
          "name": "stderr",
          "output_type": "stream",
          "text": [
            "Train Epoch 5: 100%|██████████| 154/154 [00:45<00:00,  3.41it/s, WMAPE=2.39, DICE=0.0705, DPEAKS=35.9, Loss=0.00598]\n",
            "Validate Epoch 5: 100%|██████████| 39/39 [00:06<00:00,  6.07it/s, WMAPE=1.78, DICE=0.056, DPEAKS=28.8, Loss=0.00555]\n"
          ]
        },
        {
          "name": "stdout",
          "output_type": "stream",
          "text": [
            "Epoch [6/50]\n"
          ]
        },
        {
          "name": "stderr",
          "output_type": "stream",
          "text": [
            "Train Epoch 6: 100%|██████████| 154/154 [00:45<00:00,  3.41it/s, WMAPE=4.11, DICE=0.0703, DPEAKS=37.3, Loss=0.00605]\n",
            "Validate Epoch 6: 100%|██████████| 39/39 [00:06<00:00,  5.98it/s, WMAPE=2.07, DICE=0.0562, DPEAKS=29.1, Loss=0.00574]\n"
          ]
        },
        {
          "name": "stdout",
          "output_type": "stream",
          "text": [
            "Epoch [7/50]\n"
          ]
        },
        {
          "name": "stderr",
          "output_type": "stream",
          "text": [
            "Train Epoch 7: 100%|██████████| 154/154 [00:45<00:00,  3.42it/s, WMAPE=2.44, DICE=0.0701, DPEAKS=36.9, Loss=0.00596]\n",
            "Validate Epoch 7: 100%|██████████| 39/39 [00:06<00:00,  6.03it/s, WMAPE=1.89, DICE=0.0562, DPEAKS=27.2, Loss=0.00614]\n"
          ]
        },
        {
          "name": "stdout",
          "output_type": "stream",
          "text": [
            "Epoch [8/50]\n"
          ]
        },
        {
          "name": "stderr",
          "output_type": "stream",
          "text": [
            "Train Epoch 8: 100%|██████████| 154/154 [00:45<00:00,  3.41it/s, WMAPE=3.67, DICE=0.0702, DPEAKS=35.6, Loss=0.00606]\n",
            "Validate Epoch 8: 100%|██████████| 39/39 [00:06<00:00,  6.14it/s, WMAPE=1.72, DICE=0.0565, DPEAKS=27.9, Loss=0.00527]\n"
          ]
        },
        {
          "name": "stdout",
          "output_type": "stream",
          "text": [
            "early stopping: 6 epochs without improvement\n",
            "Training complete.\n"
          ]
        },
        {
          "name": "stderr",
          "output_type": "stream",
          "text": [
            "Validate Epoch test: 100%|██████████| 971/971 [03:29<00:00,  4.64it/s, WMAPE=1.64, DICE=0.0552, DPEAKS=28.5, Loss=0.00494]\n"
          ]
        },
        {
          "name": "stdout",
          "output_type": "stream",
          "text": [
            "Partition 53: training decoder\n",
            "Loaded best model from partition 52\n",
            "Epoch [1/50]\n"
          ]
        },
        {
          "name": "stderr",
          "output_type": "stream",
          "text": [
            "Train Epoch 1: 100%|██████████| 154/154 [00:51<00:00,  2.99it/s, WMAPE=2.54, DICE=0.0701, DPEAKS=37.4, Loss=0.00595]\n",
            "Validate Epoch 1: 100%|██████████| 39/39 [00:07<00:00,  5.07it/s, WMAPE=2.05, DICE=0.0557, DPEAKS=29.2, Loss=0.00578]\n"
          ]
        },
        {
          "name": "stdout",
          "output_type": "stream",
          "text": [
            "Saving best model\n",
            "Epoch [2/50]\n"
          ]
        },
        {
          "name": "stderr",
          "output_type": "stream",
          "text": [
            "Train Epoch 2: 100%|██████████| 154/154 [00:45<00:00,  3.39it/s, WMAPE=3.36, DICE=0.0704, DPEAKS=36.7, Loss=0.00597]\n",
            "Validate Epoch 2: 100%|██████████| 39/39 [00:06<00:00,  6.04it/s, WMAPE=1.79, DICE=0.0567, DPEAKS=28.9, Loss=0.00566]\n"
          ]
        },
        {
          "name": "stdout",
          "output_type": "stream",
          "text": [
            "Saving best model\n",
            "Epoch [3/50]\n"
          ]
        },
        {
          "name": "stderr",
          "output_type": "stream",
          "text": [
            "Train Epoch 3: 100%|██████████| 154/154 [00:45<00:00,  3.40it/s, WMAPE=2.54, DICE=0.0704, DPEAKS=36.4, Loss=0.00597]\n",
            "Validate Epoch 3: 100%|██████████| 39/39 [00:06<00:00,  6.08it/s, WMAPE=1.67, DICE=0.0553, DPEAKS=27.1, Loss=0.00509]\n"
          ]
        },
        {
          "name": "stdout",
          "output_type": "stream",
          "text": [
            "Saving best model\n",
            "Epoch [4/50]\n"
          ]
        },
        {
          "name": "stderr",
          "output_type": "stream",
          "text": [
            "Train Epoch 4: 100%|██████████| 154/154 [00:45<00:00,  3.41it/s, WMAPE=2.5, DICE=0.0701, DPEAKS=35.7, Loss=0.00605]\n",
            "Validate Epoch 4: 100%|██████████| 39/39 [00:06<00:00,  6.03it/s, WMAPE=1.94, DICE=0.0558, DPEAKS=29.2, Loss=0.00537]\n"
          ]
        },
        {
          "name": "stdout",
          "output_type": "stream",
          "text": [
            "Epoch [5/50]\n"
          ]
        },
        {
          "name": "stderr",
          "output_type": "stream",
          "text": [
            "Train Epoch 5: 100%|██████████| 154/154 [00:45<00:00,  3.41it/s, WMAPE=2.54, DICE=0.07, DPEAKS=34.9, Loss=0.00594]\n",
            "Validate Epoch 5: 100%|██████████| 39/39 [00:06<00:00,  6.05it/s, WMAPE=1.69, DICE=0.0567, DPEAKS=30.6, Loss=0.00495]\n"
          ]
        },
        {
          "name": "stdout",
          "output_type": "stream",
          "text": [
            "Saving best model\n",
            "Epoch [6/50]\n"
          ]
        },
        {
          "name": "stderr",
          "output_type": "stream",
          "text": [
            "Train Epoch 6: 100%|██████████| 154/154 [00:45<00:00,  3.39it/s, WMAPE=4.66, DICE=0.0703, DPEAKS=37.1, Loss=0.00596]\n",
            "Validate Epoch 6: 100%|██████████| 39/39 [00:06<00:00,  6.01it/s, WMAPE=1.65, DICE=0.0557, DPEAKS=27.6, Loss=0.00487]\n"
          ]
        },
        {
          "name": "stdout",
          "output_type": "stream",
          "text": [
            "Saving best model\n",
            "Epoch [7/50]\n"
          ]
        },
        {
          "name": "stderr",
          "output_type": "stream",
          "text": [
            "Train Epoch 7: 100%|██████████| 154/154 [00:45<00:00,  3.40it/s, WMAPE=2.59, DICE=0.0705, DPEAKS=37.5, Loss=0.00597]\n",
            "Validate Epoch 7: 100%|██████████| 39/39 [00:06<00:00,  6.07it/s, WMAPE=1.79, DICE=0.0558, DPEAKS=30.4, Loss=0.0052]\n"
          ]
        },
        {
          "name": "stdout",
          "output_type": "stream",
          "text": [
            "Epoch [8/50]\n"
          ]
        },
        {
          "name": "stderr",
          "output_type": "stream",
          "text": [
            "Train Epoch 8: 100%|██████████| 154/154 [00:44<00:00,  3.43it/s, WMAPE=2.54, DICE=0.0706, DPEAKS=36, Loss=0.00598]\n",
            "Validate Epoch 8: 100%|██████████| 39/39 [00:06<00:00,  6.09it/s, WMAPE=1.84, DICE=0.056, DPEAKS=27.7, Loss=0.00532]\n"
          ]
        },
        {
          "name": "stdout",
          "output_type": "stream",
          "text": [
            "Epoch [9/50]\n"
          ]
        },
        {
          "name": "stderr",
          "output_type": "stream",
          "text": [
            "Train Epoch 9: 100%|██████████| 154/154 [00:45<00:00,  3.41it/s, WMAPE=2.48, DICE=0.0705, DPEAKS=36.3, Loss=0.00597]\n",
            "Validate Epoch 9: 100%|██████████| 39/39 [00:06<00:00,  6.08it/s, WMAPE=1.64, DICE=0.0555, DPEAKS=28.5, Loss=0.00497]\n"
          ]
        },
        {
          "name": "stdout",
          "output_type": "stream",
          "text": [
            "Epoch [10/50]\n"
          ]
        },
        {
          "name": "stderr",
          "output_type": "stream",
          "text": [
            "Train Epoch 10: 100%|██████████| 154/154 [00:45<00:00,  3.40it/s, WMAPE=2.45, DICE=0.0703, DPEAKS=37.4, Loss=0.0059]\n",
            "Validate Epoch 10: 100%|██████████| 39/39 [00:06<00:00,  6.01it/s, WMAPE=1.66, DICE=0.0561, DPEAKS=28.5, Loss=0.00494]\n"
          ]
        },
        {
          "name": "stdout",
          "output_type": "stream",
          "text": [
            "Epoch [11/50]\n"
          ]
        },
        {
          "name": "stderr",
          "output_type": "stream",
          "text": [
            "Train Epoch 11: 100%|██████████| 154/154 [00:45<00:00,  3.40it/s, WMAPE=2.78, DICE=0.0703, DPEAKS=35.9, Loss=0.00594]\n",
            "Validate Epoch 11: 100%|██████████| 39/39 [00:06<00:00,  6.02it/s, WMAPE=1.72, DICE=0.0553, DPEAKS=24.9, Loss=0.00487]\n"
          ]
        },
        {
          "name": "stdout",
          "output_type": "stream",
          "text": [
            "early stopping: 5 epochs without improvement\n",
            "Training complete.\n"
          ]
        },
        {
          "name": "stderr",
          "output_type": "stream",
          "text": [
            "Validate Epoch test: 100%|██████████| 971/971 [03:29<00:00,  4.64it/s, WMAPE=1.64, DICE=0.0556, DPEAKS=28.3, Loss=0.00492]\n"
          ]
        },
        {
          "name": "stdout",
          "output_type": "stream",
          "text": [
            "Partition 54: training decoder\n",
            "Loaded best model from partition 53\n",
            "Epoch [1/50]\n"
          ]
        },
        {
          "name": "stderr",
          "output_type": "stream",
          "text": [
            "Train Epoch 1: 100%|██████████| 154/154 [00:51<00:00,  2.99it/s, WMAPE=2.6, DICE=0.0703, DPEAKS=35.8, Loss=0.00606]\n",
            "Validate Epoch 1: 100%|██████████| 39/39 [00:07<00:00,  5.08it/s, WMAPE=1.74, DICE=0.0557, DPEAKS=26.5, Loss=0.00498]\n"
          ]
        },
        {
          "name": "stdout",
          "output_type": "stream",
          "text": [
            "Saving best model\n",
            "Epoch [2/50]\n"
          ]
        },
        {
          "name": "stderr",
          "output_type": "stream",
          "text": [
            "Train Epoch 2: 100%|██████████| 154/154 [00:45<00:00,  3.40it/s, WMAPE=2.88, DICE=0.0704, DPEAKS=36.6, Loss=0.00614]\n",
            "Validate Epoch 2: 100%|██████████| 39/39 [00:06<00:00,  5.97it/s, WMAPE=1.77, DICE=0.0562, DPEAKS=28.5, Loss=0.0052]\n"
          ]
        },
        {
          "name": "stdout",
          "output_type": "stream",
          "text": [
            "Epoch [3/50]\n"
          ]
        },
        {
          "name": "stderr",
          "output_type": "stream",
          "text": [
            "Train Epoch 3: 100%|██████████| 154/154 [00:45<00:00,  3.41it/s, WMAPE=3.23, DICE=0.07, DPEAKS=36.1, Loss=0.00597]\n",
            "Validate Epoch 3: 100%|██████████| 39/39 [00:06<00:00,  6.05it/s, WMAPE=1.75, DICE=0.0559, DPEAKS=28.3, Loss=0.00496]\n"
          ]
        },
        {
          "name": "stdout",
          "output_type": "stream",
          "text": [
            "Saving best model\n",
            "Epoch [4/50]\n"
          ]
        },
        {
          "name": "stderr",
          "output_type": "stream",
          "text": [
            "Train Epoch 4: 100%|██████████| 154/154 [00:44<00:00,  3.43it/s, WMAPE=2.49, DICE=0.0701, DPEAKS=38.7, Loss=0.00607]\n",
            "Validate Epoch 4: 100%|██████████| 39/39 [00:06<00:00,  6.09it/s, WMAPE=1.72, DICE=0.0553, DPEAKS=29, Loss=0.00496]\n"
          ]
        },
        {
          "name": "stdout",
          "output_type": "stream",
          "text": [
            "Saving best model\n",
            "Epoch [5/50]\n"
          ]
        },
        {
          "name": "stderr",
          "output_type": "stream",
          "text": [
            "Train Epoch 5: 100%|██████████| 154/154 [00:45<00:00,  3.42it/s, WMAPE=2.53, DICE=0.0699, DPEAKS=37.8, Loss=0.00605]\n",
            "Validate Epoch 5: 100%|██████████| 39/39 [00:06<00:00,  6.09it/s, WMAPE=1.9, DICE=0.0551, DPEAKS=27.9, Loss=0.0052]\n"
          ]
        },
        {
          "name": "stdout",
          "output_type": "stream",
          "text": [
            "Epoch [6/50]\n"
          ]
        },
        {
          "name": "stderr",
          "output_type": "stream",
          "text": [
            "Train Epoch 6: 100%|██████████| 154/154 [00:45<00:00,  3.40it/s, WMAPE=3.23, DICE=0.0703, DPEAKS=38.3, Loss=0.00604]\n",
            "Validate Epoch 6: 100%|██████████| 39/39 [00:06<00:00,  6.04it/s, WMAPE=1.81, DICE=0.0556, DPEAKS=26.6, Loss=0.00518]\n"
          ]
        },
        {
          "name": "stdout",
          "output_type": "stream",
          "text": [
            "Epoch [7/50]\n"
          ]
        },
        {
          "name": "stderr",
          "output_type": "stream",
          "text": [
            "Train Epoch 7: 100%|██████████| 154/154 [00:44<00:00,  3.43it/s, WMAPE=2.89, DICE=0.0701, DPEAKS=37.4, Loss=0.00607]\n",
            "Validate Epoch 7: 100%|██████████| 39/39 [00:06<00:00,  6.01it/s, WMAPE=1.67, DICE=0.056, DPEAKS=25.5, Loss=0.00503]\n"
          ]
        },
        {
          "name": "stdout",
          "output_type": "stream",
          "text": [
            "Epoch [8/50]\n"
          ]
        },
        {
          "name": "stderr",
          "output_type": "stream",
          "text": [
            "Train Epoch 8: 100%|██████████| 154/154 [00:44<00:00,  3.43it/s, WMAPE=2.43, DICE=0.0701, DPEAKS=37, Loss=0.00605]\n",
            "Validate Epoch 8: 100%|██████████| 39/39 [00:06<00:00,  6.08it/s, WMAPE=1.81, DICE=0.0554, DPEAKS=27.6, Loss=0.00513]\n"
          ]
        },
        {
          "name": "stdout",
          "output_type": "stream",
          "text": [
            "Epoch [9/50]\n"
          ]
        },
        {
          "name": "stderr",
          "output_type": "stream",
          "text": [
            "Train Epoch 9: 100%|██████████| 154/154 [00:45<00:00,  3.41it/s, WMAPE=3.79, DICE=0.0698, DPEAKS=35.5, Loss=0.00601]\n",
            "Validate Epoch 9: 100%|██████████| 39/39 [00:06<00:00,  6.08it/s, WMAPE=1.76, DICE=0.0559, DPEAKS=25.9, Loss=0.00504]\n"
          ]
        },
        {
          "name": "stdout",
          "output_type": "stream",
          "text": [
            "early stopping: 5 epochs without improvement\n",
            "Training complete.\n"
          ]
        },
        {
          "name": "stderr",
          "output_type": "stream",
          "text": [
            "Validate Epoch test: 100%|██████████| 971/971 [03:29<00:00,  4.64it/s, WMAPE=1.6, DICE=0.0552, DPEAKS=28, Loss=0.00488]\n"
          ]
        },
        {
          "name": "stdout",
          "output_type": "stream",
          "text": [
            "Partition 55: training decoder\n",
            "Loaded best model from partition 54\n",
            "Epoch [1/50]\n"
          ]
        },
        {
          "name": "stderr",
          "output_type": "stream",
          "text": [
            "Train Epoch 1: 100%|██████████| 154/154 [00:51<00:00,  2.98it/s, WMAPE=2.6, DICE=0.0703, DPEAKS=36.8, Loss=0.00603]\n",
            "Validate Epoch 1: 100%|██████████| 39/39 [00:07<00:00,  4.95it/s, WMAPE=1.52, DICE=0.0558, DPEAKS=30, Loss=0.00485]\n"
          ]
        },
        {
          "name": "stdout",
          "output_type": "stream",
          "text": [
            "Saving best model\n",
            "Epoch [2/50]\n"
          ]
        },
        {
          "name": "stderr",
          "output_type": "stream",
          "text": [
            "Train Epoch 2: 100%|██████████| 154/154 [00:44<00:00,  3.43it/s, WMAPE=3.9, DICE=0.0701, DPEAKS=38.5, Loss=0.0061]\n",
            "Validate Epoch 2: 100%|██████████| 39/39 [00:06<00:00,  6.12it/s, WMAPE=1.58, DICE=0.0556, DPEAKS=33, Loss=0.00487]\n"
          ]
        },
        {
          "name": "stdout",
          "output_type": "stream",
          "text": [
            "Epoch [3/50]\n"
          ]
        },
        {
          "name": "stderr",
          "output_type": "stream",
          "text": [
            "Train Epoch 3: 100%|██████████| 154/154 [00:44<00:00,  3.44it/s, WMAPE=2.78, DICE=0.0703, DPEAKS=38, Loss=0.00611]\n",
            "Validate Epoch 3: 100%|██████████| 39/39 [00:06<00:00,  6.04it/s, WMAPE=1.58, DICE=0.0557, DPEAKS=31.5, Loss=0.00483]\n"
          ]
        },
        {
          "name": "stdout",
          "output_type": "stream",
          "text": [
            "Saving best model\n",
            "Epoch [4/50]\n"
          ]
        },
        {
          "name": "stderr",
          "output_type": "stream",
          "text": [
            "Train Epoch 4: 100%|██████████| 154/154 [00:44<00:00,  3.43it/s, WMAPE=2.76, DICE=0.07, DPEAKS=36.8, Loss=0.00598]\n",
            "Validate Epoch 4: 100%|██████████| 39/39 [00:06<00:00,  6.02it/s, WMAPE=1.62, DICE=0.0555, DPEAKS=29.5, Loss=0.00506]\n"
          ]
        },
        {
          "name": "stdout",
          "output_type": "stream",
          "text": [
            "Epoch [5/50]\n"
          ]
        },
        {
          "name": "stderr",
          "output_type": "stream",
          "text": [
            "Train Epoch 5: 100%|██████████| 154/154 [00:45<00:00,  3.38it/s, WMAPE=2.96, DICE=0.07, DPEAKS=35.8, Loss=0.00594]\n",
            "Validate Epoch 5: 100%|██████████| 39/39 [00:06<00:00,  6.02it/s, WMAPE=1.69, DICE=0.0558, DPEAKS=28.9, Loss=0.00545]\n"
          ]
        },
        {
          "name": "stdout",
          "output_type": "stream",
          "text": [
            "Epoch [6/50]\n"
          ]
        },
        {
          "name": "stderr",
          "output_type": "stream",
          "text": [
            "Train Epoch 6: 100%|██████████| 154/154 [00:45<00:00,  3.38it/s, WMAPE=2.84, DICE=0.0701, DPEAKS=36.7, Loss=0.00603]\n",
            "Validate Epoch 6: 100%|██████████| 39/39 [00:06<00:00,  6.05it/s, WMAPE=1.51, DICE=0.055, DPEAKS=28.8, Loss=0.00477]\n"
          ]
        },
        {
          "name": "stdout",
          "output_type": "stream",
          "text": [
            "Saving best model\n",
            "Epoch [7/50]\n"
          ]
        },
        {
          "name": "stderr",
          "output_type": "stream",
          "text": [
            "Train Epoch 7: 100%|██████████| 154/154 [00:45<00:00,  3.40it/s, WMAPE=2.68, DICE=0.0703, DPEAKS=36.1, Loss=0.00601]\n",
            "Validate Epoch 7: 100%|██████████| 39/39 [00:06<00:00,  6.04it/s, WMAPE=1.68, DICE=0.056, DPEAKS=29.1, Loss=0.00509]\n"
          ]
        },
        {
          "name": "stdout",
          "output_type": "stream",
          "text": [
            "Epoch [8/50]\n"
          ]
        },
        {
          "name": "stderr",
          "output_type": "stream",
          "text": [
            "Train Epoch 8: 100%|██████████| 154/154 [00:45<00:00,  3.41it/s, WMAPE=2.52, DICE=0.0703, DPEAKS=38.8, Loss=0.00599]\n",
            "Validate Epoch 8: 100%|██████████| 39/39 [00:06<00:00,  6.01it/s, WMAPE=1.75, DICE=0.0562, DPEAKS=29.5, Loss=0.00525]\n"
          ]
        },
        {
          "name": "stdout",
          "output_type": "stream",
          "text": [
            "Epoch [9/50]\n"
          ]
        },
        {
          "name": "stderr",
          "output_type": "stream",
          "text": [
            "Train Epoch 9: 100%|██████████| 154/154 [00:45<00:00,  3.41it/s, WMAPE=2.67, DICE=0.0703, DPEAKS=38.1, Loss=0.00596]\n",
            "Validate Epoch 9: 100%|██████████| 39/39 [00:06<00:00,  6.07it/s, WMAPE=1.57, DICE=0.0552, DPEAKS=30.2, Loss=0.00488]\n"
          ]
        },
        {
          "name": "stdout",
          "output_type": "stream",
          "text": [
            "Epoch [10/50]\n"
          ]
        },
        {
          "name": "stderr",
          "output_type": "stream",
          "text": [
            "Train Epoch 10: 100%|██████████| 154/154 [00:45<00:00,  3.41it/s, WMAPE=2.48, DICE=0.0701, DPEAKS=37.2, Loss=0.006]\n",
            "Validate Epoch 10: 100%|██████████| 39/39 [00:06<00:00,  6.07it/s, WMAPE=1.61, DICE=0.0562, DPEAKS=28.9, Loss=0.00503]\n"
          ]
        },
        {
          "name": "stdout",
          "output_type": "stream",
          "text": [
            "Epoch [11/50]\n"
          ]
        },
        {
          "name": "stderr",
          "output_type": "stream",
          "text": [
            "Train Epoch 11: 100%|██████████| 154/154 [00:45<00:00,  3.41it/s, WMAPE=3.55, DICE=0.0703, DPEAKS=37.4, Loss=0.00594]\n",
            "Validate Epoch 11: 100%|██████████| 39/39 [00:06<00:00,  6.09it/s, WMAPE=1.66, DICE=0.0557, DPEAKS=30.5, Loss=0.00531]\n"
          ]
        },
        {
          "name": "stdout",
          "output_type": "stream",
          "text": [
            "early stopping: 5 epochs without improvement\n",
            "Training complete.\n"
          ]
        },
        {
          "name": "stderr",
          "output_type": "stream",
          "text": [
            "Validate Epoch test: 100%|██████████| 971/971 [03:29<00:00,  4.64it/s, WMAPE=1.58, DICE=0.0547, DPEAKS=28.1, Loss=0.00485]\n"
          ]
        },
        {
          "name": "stdout",
          "output_type": "stream",
          "text": [
            "Partition 56: training decoder\n",
            "Loaded best model from partition 55\n",
            "Epoch [1/50]\n"
          ]
        },
        {
          "name": "stderr",
          "output_type": "stream",
          "text": [
            "Train Epoch 1: 100%|██████████| 154/154 [00:52<00:00,  2.95it/s, WMAPE=2.51, DICE=0.0701, DPEAKS=37.5, Loss=0.00603]\n",
            "Validate Epoch 1: 100%|██████████| 39/39 [00:07<00:00,  5.05it/s, WMAPE=1.6, DICE=0.0555, DPEAKS=30.1, Loss=0.00522]\n"
          ]
        },
        {
          "name": "stdout",
          "output_type": "stream",
          "text": [
            "Saving best model\n",
            "Epoch [2/50]\n"
          ]
        },
        {
          "name": "stderr",
          "output_type": "stream",
          "text": [
            "Train Epoch 2: 100%|██████████| 154/154 [00:45<00:00,  3.40it/s, WMAPE=3.64, DICE=0.0702, DPEAKS=37.3, Loss=0.00628]\n",
            "Validate Epoch 2: 100%|██████████| 39/39 [00:06<00:00,  6.10it/s, WMAPE=1.8, DICE=0.0564, DPEAKS=30.6, Loss=0.00518]\n"
          ]
        },
        {
          "name": "stdout",
          "output_type": "stream",
          "text": [
            "Saving best model\n",
            "Epoch [3/50]\n"
          ]
        },
        {
          "name": "stderr",
          "output_type": "stream",
          "text": [
            "Train Epoch 3: 100%|██████████| 154/154 [00:45<00:00,  3.42it/s, WMAPE=2.71, DICE=0.0702, DPEAKS=37.8, Loss=0.0062]\n",
            "Validate Epoch 3: 100%|██████████| 39/39 [00:06<00:00,  6.06it/s, WMAPE=1.68, DICE=0.0555, DPEAKS=29.1, Loss=0.00512]\n"
          ]
        },
        {
          "name": "stdout",
          "output_type": "stream",
          "text": [
            "Saving best model\n",
            "Epoch [4/50]\n"
          ]
        },
        {
          "name": "stderr",
          "output_type": "stream",
          "text": [
            "Train Epoch 4: 100%|██████████| 154/154 [00:45<00:00,  3.40it/s, WMAPE=3, DICE=0.0702, DPEAKS=37.8, Loss=0.00611]\n",
            "Validate Epoch 4: 100%|██████████| 39/39 [00:06<00:00,  6.07it/s, WMAPE=1.76, DICE=0.0554, DPEAKS=31.3, Loss=0.00505]\n"
          ]
        },
        {
          "name": "stdout",
          "output_type": "stream",
          "text": [
            "Saving best model\n",
            "Epoch [5/50]\n"
          ]
        },
        {
          "name": "stderr",
          "output_type": "stream",
          "text": [
            "Train Epoch 5: 100%|██████████| 154/154 [00:45<00:00,  3.42it/s, WMAPE=2.47, DICE=0.0702, DPEAKS=37.7, Loss=0.00604]\n",
            "Validate Epoch 5: 100%|██████████| 39/39 [00:06<00:00,  6.07it/s, WMAPE=2.05, DICE=0.0554, DPEAKS=30.4, Loss=0.00573]\n"
          ]
        },
        {
          "name": "stdout",
          "output_type": "stream",
          "text": [
            "Epoch [6/50]\n"
          ]
        },
        {
          "name": "stderr",
          "output_type": "stream",
          "text": [
            "Train Epoch 6: 100%|██████████| 154/154 [00:45<00:00,  3.41it/s, WMAPE=2.98, DICE=0.07, DPEAKS=37.1, Loss=0.00614]\n",
            "Validate Epoch 6: 100%|██████████| 39/39 [00:06<00:00,  5.89it/s, WMAPE=1.69, DICE=0.0554, DPEAKS=31.8, Loss=0.005]\n"
          ]
        },
        {
          "name": "stdout",
          "output_type": "stream",
          "text": [
            "Saving best model\n",
            "Epoch [7/50]\n"
          ]
        },
        {
          "name": "stderr",
          "output_type": "stream",
          "text": [
            "Train Epoch 7: 100%|██████████| 154/154 [00:45<00:00,  3.42it/s, WMAPE=4.06, DICE=0.0701, DPEAKS=37.5, Loss=0.00605]\n",
            "Validate Epoch 7: 100%|██████████| 39/39 [00:06<00:00,  6.06it/s, WMAPE=1.74, DICE=0.0557, DPEAKS=32.2, Loss=0.00517]\n"
          ]
        },
        {
          "name": "stdout",
          "output_type": "stream",
          "text": [
            "Epoch [8/50]\n"
          ]
        },
        {
          "name": "stderr",
          "output_type": "stream",
          "text": [
            "Train Epoch 8: 100%|██████████| 154/154 [00:45<00:00,  3.42it/s, WMAPE=2.71, DICE=0.0699, DPEAKS=36.7, Loss=0.00597]\n",
            "Validate Epoch 8: 100%|██████████| 39/39 [00:06<00:00,  6.07it/s, WMAPE=1.66, DICE=0.0546, DPEAKS=28.6, Loss=0.00501]\n"
          ]
        },
        {
          "name": "stdout",
          "output_type": "stream",
          "text": [
            "Epoch [9/50]\n"
          ]
        },
        {
          "name": "stderr",
          "output_type": "stream",
          "text": [
            "Train Epoch 9: 100%|██████████| 154/154 [00:45<00:00,  3.42it/s, WMAPE=2.44, DICE=0.0701, DPEAKS=37.1, Loss=0.00607]\n",
            "Validate Epoch 9: 100%|██████████| 39/39 [00:06<00:00,  6.02it/s, WMAPE=2.13, DICE=0.0548, DPEAKS=27.3, Loss=0.0059]\n"
          ]
        },
        {
          "name": "stdout",
          "output_type": "stream",
          "text": [
            "Epoch [10/50]\n"
          ]
        },
        {
          "name": "stderr",
          "output_type": "stream",
          "text": [
            "Train Epoch 10: 100%|██████████| 154/154 [00:45<00:00,  3.40it/s, WMAPE=13.3, DICE=0.0703, DPEAKS=37.7, Loss=0.00604]\n",
            "Validate Epoch 10: 100%|██████████| 39/39 [00:06<00:00,  6.07it/s, WMAPE=2.27, DICE=0.055, DPEAKS=29.5, Loss=0.00644]\n"
          ]
        },
        {
          "name": "stdout",
          "output_type": "stream",
          "text": [
            "Epoch [11/50]\n"
          ]
        },
        {
          "name": "stderr",
          "output_type": "stream",
          "text": [
            "Train Epoch 11: 100%|██████████| 154/154 [00:45<00:00,  3.40it/s, WMAPE=2.22, DICE=0.0702, DPEAKS=36.8, Loss=0.00602]\n",
            "Validate Epoch 11: 100%|██████████| 39/39 [00:06<00:00,  6.06it/s, WMAPE=1.65, DICE=0.0556, DPEAKS=26.5, Loss=0.00502]\n"
          ]
        },
        {
          "name": "stdout",
          "output_type": "stream",
          "text": [
            "early stopping: 5 epochs without improvement\n",
            "Training complete.\n"
          ]
        },
        {
          "name": "stderr",
          "output_type": "stream",
          "text": [
            "Validate Epoch test: 100%|██████████| 971/971 [03:29<00:00,  4.63it/s, WMAPE=1.61, DICE=0.0557, DPEAKS=29.5, Loss=0.00493]\n"
          ]
        },
        {
          "name": "stdout",
          "output_type": "stream",
          "text": [
            "Partition 57: training decoder\n",
            "Loaded best model from partition 56\n",
            "Epoch [1/50]\n"
          ]
        },
        {
          "name": "stderr",
          "output_type": "stream",
          "text": [
            "Train Epoch 1: 100%|██████████| 154/154 [00:52<00:00,  2.96it/s, WMAPE=2.5, DICE=0.0701, DPEAKS=39, Loss=0.00609]\n",
            "Validate Epoch 1: 100%|██████████| 39/39 [00:07<00:00,  4.99it/s, WMAPE=1.71, DICE=0.0558, DPEAKS=29.6, Loss=0.00495]\n"
          ]
        },
        {
          "name": "stdout",
          "output_type": "stream",
          "text": [
            "Saving best model\n",
            "Epoch [2/50]\n"
          ]
        },
        {
          "name": "stderr",
          "output_type": "stream",
          "text": [
            "Train Epoch 2: 100%|██████████| 154/154 [00:45<00:00,  3.39it/s, WMAPE=2.79, DICE=0.0704, DPEAKS=37.8, Loss=0.00613]\n",
            "Validate Epoch 2: 100%|██████████| 39/39 [00:06<00:00,  5.98it/s, WMAPE=1.76, DICE=0.0558, DPEAKS=29.1, Loss=0.00518]\n"
          ]
        },
        {
          "name": "stdout",
          "output_type": "stream",
          "text": [
            "Epoch [3/50]\n"
          ]
        },
        {
          "name": "stderr",
          "output_type": "stream",
          "text": [
            "Train Epoch 3: 100%|██████████| 154/154 [00:45<00:00,  3.40it/s, WMAPE=2.69, DICE=0.0704, DPEAKS=38.5, Loss=0.00612]\n",
            "Validate Epoch 3: 100%|██████████| 39/39 [00:06<00:00,  6.01it/s, WMAPE=1.76, DICE=0.0558, DPEAKS=30, Loss=0.00556]\n"
          ]
        },
        {
          "name": "stdout",
          "output_type": "stream",
          "text": [
            "Epoch [4/50]\n"
          ]
        },
        {
          "name": "stderr",
          "output_type": "stream",
          "text": [
            "Train Epoch 4: 100%|██████████| 154/154 [00:45<00:00,  3.40it/s, WMAPE=3.28, DICE=0.0703, DPEAKS=37.6, Loss=0.00608]\n",
            "Validate Epoch 4: 100%|██████████| 39/39 [00:06<00:00,  6.02it/s, WMAPE=1.95, DICE=0.0573, DPEAKS=31.2, Loss=0.00619]\n"
          ]
        },
        {
          "name": "stdout",
          "output_type": "stream",
          "text": [
            "Epoch [5/50]\n"
          ]
        },
        {
          "name": "stderr",
          "output_type": "stream",
          "text": [
            "Train Epoch 5: 100%|██████████| 154/154 [00:45<00:00,  3.40it/s, WMAPE=2.59, DICE=0.0705, DPEAKS=37, Loss=0.0061]\n",
            "Validate Epoch 5: 100%|██████████| 39/39 [00:06<00:00,  6.13it/s, WMAPE=1.69, DICE=0.0558, DPEAKS=28.5, Loss=0.00499]\n"
          ]
        },
        {
          "name": "stdout",
          "output_type": "stream",
          "text": [
            "Epoch [6/50]\n"
          ]
        },
        {
          "name": "stderr",
          "output_type": "stream",
          "text": [
            "Train Epoch 6: 100%|██████████| 154/154 [00:45<00:00,  3.41it/s, WMAPE=2.55, DICE=0.0702, DPEAKS=36.9, Loss=0.00602]\n",
            "Validate Epoch 6: 100%|██████████| 39/39 [00:06<00:00,  6.00it/s, WMAPE=1.7, DICE=0.0557, DPEAKS=28.8, Loss=0.00503]\n"
          ]
        },
        {
          "name": "stdout",
          "output_type": "stream",
          "text": [
            "Epoch [7/50]\n"
          ]
        },
        {
          "name": "stderr",
          "output_type": "stream",
          "text": [
            "Train Epoch 7: 100%|██████████| 154/154 [00:45<00:00,  3.41it/s, WMAPE=3.57, DICE=0.0702, DPEAKS=36.8, Loss=0.00613]\n",
            "Validate Epoch 7: 100%|██████████| 39/39 [00:06<00:00,  6.03it/s, WMAPE=1.81, DICE=0.0558, DPEAKS=29.7, Loss=0.00514]\n"
          ]
        },
        {
          "name": "stdout",
          "output_type": "stream",
          "text": [
            "Epoch [8/50]\n"
          ]
        },
        {
          "name": "stderr",
          "output_type": "stream",
          "text": [
            "Train Epoch 8: 100%|██████████| 154/154 [00:45<00:00,  3.42it/s, WMAPE=3.03, DICE=0.0699, DPEAKS=35.5, Loss=0.00601]\n",
            "Validate Epoch 8: 100%|██████████| 39/39 [00:06<00:00,  6.09it/s, WMAPE=1.68, DICE=0.0561, DPEAKS=29, Loss=0.005]\n"
          ]
        },
        {
          "name": "stdout",
          "output_type": "stream",
          "text": [
            "early stopping: 7 epochs without improvement\n",
            "Training complete.\n"
          ]
        },
        {
          "name": "stderr",
          "output_type": "stream",
          "text": [
            "Validate Epoch test: 100%|██████████| 971/971 [03:29<00:00,  4.64it/s, WMAPE=1.66, DICE=0.0557, DPEAKS=29.1, Loss=0.00495]\n"
          ]
        },
        {
          "name": "stdout",
          "output_type": "stream",
          "text": [
            "Partition 58: training decoder\n",
            "Loaded best model from partition 57\n",
            "Epoch [1/50]\n"
          ]
        },
        {
          "name": "stderr",
          "output_type": "stream",
          "text": [
            "Train Epoch 1: 100%|██████████| 154/154 [00:52<00:00,  2.95it/s, WMAPE=2.41, DICE=0.0702, DPEAKS=38.2, Loss=0.006]\n",
            "Validate Epoch 1: 100%|██████████| 39/39 [00:07<00:00,  5.04it/s, WMAPE=1.67, DICE=0.055, DPEAKS=27.9, Loss=0.00507]\n"
          ]
        },
        {
          "name": "stdout",
          "output_type": "stream",
          "text": [
            "Saving best model\n",
            "Epoch [2/50]\n"
          ]
        },
        {
          "name": "stderr",
          "output_type": "stream",
          "text": [
            "Train Epoch 2: 100%|██████████| 154/154 [00:45<00:00,  3.41it/s, WMAPE=5.4, DICE=0.0701, DPEAKS=36.4, Loss=0.00599]\n",
            "Validate Epoch 2: 100%|██████████| 39/39 [00:06<00:00,  5.88it/s, WMAPE=1.57, DICE=0.0556, DPEAKS=28.9, Loss=0.0051]\n"
          ]
        },
        {
          "name": "stdout",
          "output_type": "stream",
          "text": [
            "Epoch [3/50]\n"
          ]
        },
        {
          "name": "stderr",
          "output_type": "stream",
          "text": [
            "Train Epoch 3: 100%|██████████| 154/154 [00:45<00:00,  3.39it/s, WMAPE=2.61, DICE=0.0701, DPEAKS=37.8, Loss=0.00609]\n",
            "Validate Epoch 3: 100%|██████████| 39/39 [00:06<00:00,  6.06it/s, WMAPE=1.64, DICE=0.0557, DPEAKS=28.9, Loss=0.005]\n"
          ]
        },
        {
          "name": "stdout",
          "output_type": "stream",
          "text": [
            "Saving best model\n",
            "Epoch [4/50]\n"
          ]
        },
        {
          "name": "stderr",
          "output_type": "stream",
          "text": [
            "Train Epoch 4: 100%|██████████| 154/154 [00:44<00:00,  3.42it/s, WMAPE=2.53, DICE=0.0703, DPEAKS=37.5, Loss=0.0061]\n",
            "Validate Epoch 4: 100%|██████████| 39/39 [00:06<00:00,  6.10it/s, WMAPE=1.75, DICE=0.0553, DPEAKS=31.4, Loss=0.00521]\n"
          ]
        },
        {
          "name": "stdout",
          "output_type": "stream",
          "text": [
            "Epoch [5/50]\n"
          ]
        },
        {
          "name": "stderr",
          "output_type": "stream",
          "text": [
            "Train Epoch 5: 100%|██████████| 154/154 [00:45<00:00,  3.42it/s, WMAPE=2.71, DICE=0.0701, DPEAKS=37.4, Loss=0.00595]\n",
            "Validate Epoch 5: 100%|██████████| 39/39 [00:06<00:00,  6.05it/s, WMAPE=1.71, DICE=0.0561, DPEAKS=28, Loss=0.00546]\n"
          ]
        },
        {
          "name": "stdout",
          "output_type": "stream",
          "text": [
            "Epoch [6/50]\n"
          ]
        },
        {
          "name": "stderr",
          "output_type": "stream",
          "text": [
            "Train Epoch 6: 100%|██████████| 154/154 [00:45<00:00,  3.41it/s, WMAPE=2.64, DICE=0.0702, DPEAKS=37.9, Loss=0.00608]\n",
            "Validate Epoch 6: 100%|██████████| 39/39 [00:06<00:00,  6.03it/s, WMAPE=1.74, DICE=0.0553, DPEAKS=30.5, Loss=0.00526]\n"
          ]
        },
        {
          "name": "stdout",
          "output_type": "stream",
          "text": [
            "Epoch [7/50]\n"
          ]
        },
        {
          "name": "stderr",
          "output_type": "stream",
          "text": [
            "Train Epoch 7: 100%|██████████| 154/154 [00:45<00:00,  3.40it/s, WMAPE=2.52, DICE=0.0701, DPEAKS=38.1, Loss=0.00605]\n",
            "Validate Epoch 7: 100%|██████████| 39/39 [00:06<00:00,  6.07it/s, WMAPE=1.67, DICE=0.055, DPEAKS=29.9, Loss=0.00505]\n"
          ]
        },
        {
          "name": "stdout",
          "output_type": "stream",
          "text": [
            "Epoch [8/50]\n"
          ]
        },
        {
          "name": "stderr",
          "output_type": "stream",
          "text": [
            "Train Epoch 8: 100%|██████████| 154/154 [00:44<00:00,  3.42it/s, WMAPE=2.79, DICE=0.0701, DPEAKS=36.6, Loss=0.00606]\n",
            "Validate Epoch 8: 100%|██████████| 39/39 [00:06<00:00,  6.04it/s, WMAPE=1.66, DICE=0.0551, DPEAKS=29.3, Loss=0.00502]\n"
          ]
        },
        {
          "name": "stdout",
          "output_type": "stream",
          "text": [
            "early stopping: 5 epochs without improvement\n",
            "Training complete.\n"
          ]
        },
        {
          "name": "stderr",
          "output_type": "stream",
          "text": [
            "Validate Epoch test: 100%|██████████| 971/971 [03:28<00:00,  4.65it/s, WMAPE=1.61, DICE=0.0557, DPEAKS=29.4, Loss=0.00487]\n"
          ]
        },
        {
          "name": "stdout",
          "output_type": "stream",
          "text": [
            "Partition 59: training decoder\n",
            "Loaded best model from partition 58\n",
            "Epoch [1/50]\n"
          ]
        },
        {
          "name": "stderr",
          "output_type": "stream",
          "text": [
            "Train Epoch 1: 100%|██████████| 154/154 [00:52<00:00,  2.95it/s, WMAPE=2.91, DICE=0.0703, DPEAKS=37, Loss=0.00608]\n",
            "Validate Epoch 1: 100%|██████████| 39/39 [00:07<00:00,  5.03it/s, WMAPE=2.01, DICE=0.0557, DPEAKS=29.5, Loss=0.00581]\n"
          ]
        },
        {
          "name": "stdout",
          "output_type": "stream",
          "text": [
            "Saving best model\n",
            "Epoch [2/50]\n"
          ]
        },
        {
          "name": "stderr",
          "output_type": "stream",
          "text": [
            "Train Epoch 2: 100%|██████████| 154/154 [00:45<00:00,  3.40it/s, WMAPE=2.32, DICE=0.07, DPEAKS=37.3, Loss=0.00606]\n",
            "Validate Epoch 2: 100%|██████████| 39/39 [00:06<00:00,  6.07it/s, WMAPE=1.83, DICE=0.0556, DPEAKS=26.9, Loss=0.00534]\n"
          ]
        },
        {
          "name": "stdout",
          "output_type": "stream",
          "text": [
            "Saving best model\n",
            "Epoch [3/50]\n"
          ]
        },
        {
          "name": "stderr",
          "output_type": "stream",
          "text": [
            "Train Epoch 3: 100%|██████████| 154/154 [00:45<00:00,  3.40it/s, WMAPE=2.35, DICE=0.0703, DPEAKS=36.2, Loss=0.00611]\n",
            "Validate Epoch 3: 100%|██████████| 39/39 [00:06<00:00,  5.97it/s, WMAPE=1.5, DICE=0.056, DPEAKS=29.4, Loss=0.00507]\n"
          ]
        },
        {
          "name": "stdout",
          "output_type": "stream",
          "text": [
            "Saving best model\n",
            "Epoch [4/50]\n"
          ]
        },
        {
          "name": "stderr",
          "output_type": "stream",
          "text": [
            "Train Epoch 4: 100%|██████████| 154/154 [00:45<00:00,  3.39it/s, WMAPE=2.52, DICE=0.0704, DPEAKS=35.3, Loss=0.00606]\n",
            "Validate Epoch 4: 100%|██████████| 39/39 [00:06<00:00,  5.99it/s, WMAPE=1.59, DICE=0.0549, DPEAKS=25.9, Loss=0.00487]\n"
          ]
        },
        {
          "name": "stdout",
          "output_type": "stream",
          "text": [
            "Saving best model\n",
            "Epoch [5/50]\n"
          ]
        },
        {
          "name": "stderr",
          "output_type": "stream",
          "text": [
            "Train Epoch 5: 100%|██████████| 154/154 [00:45<00:00,  3.42it/s, WMAPE=3.29, DICE=0.07, DPEAKS=35.8, Loss=0.00611]\n",
            "Validate Epoch 5: 100%|██████████| 39/39 [00:06<00:00,  6.02it/s, WMAPE=1.59, DICE=0.0557, DPEAKS=30, Loss=0.00496]\n"
          ]
        },
        {
          "name": "stdout",
          "output_type": "stream",
          "text": [
            "Epoch [6/50]\n"
          ]
        },
        {
          "name": "stderr",
          "output_type": "stream",
          "text": [
            "Train Epoch 6: 100%|██████████| 154/154 [00:44<00:00,  3.43it/s, WMAPE=2.78, DICE=0.0702, DPEAKS=35.9, Loss=0.00611]\n",
            "Validate Epoch 6: 100%|██████████| 39/39 [00:06<00:00,  6.07it/s, WMAPE=1.9, DICE=0.0552, DPEAKS=25.5, Loss=0.00595]\n"
          ]
        },
        {
          "name": "stdout",
          "output_type": "stream",
          "text": [
            "Epoch [7/50]\n"
          ]
        },
        {
          "name": "stderr",
          "output_type": "stream",
          "text": [
            "Train Epoch 7: 100%|██████████| 154/154 [00:45<00:00,  3.40it/s, WMAPE=2.66, DICE=0.0703, DPEAKS=35.1, Loss=0.00593]\n",
            "Validate Epoch 7: 100%|██████████| 39/39 [00:06<00:00,  6.01it/s, WMAPE=1.78, DICE=0.0553, DPEAKS=27.2, Loss=0.00521]\n"
          ]
        },
        {
          "name": "stdout",
          "output_type": "stream",
          "text": [
            "Epoch [8/50]\n"
          ]
        },
        {
          "name": "stderr",
          "output_type": "stream",
          "text": [
            "Train Epoch 8: 100%|██████████| 154/154 [00:45<00:00,  3.41it/s, WMAPE=2.64, DICE=0.0704, DPEAKS=37.9, Loss=0.00601]\n",
            "Validate Epoch 8: 100%|██████████| 39/39 [00:06<00:00,  6.05it/s, WMAPE=1.62, DICE=0.0556, DPEAKS=26.4, Loss=0.00489]\n"
          ]
        },
        {
          "name": "stdout",
          "output_type": "stream",
          "text": [
            "Epoch [9/50]\n"
          ]
        },
        {
          "name": "stderr",
          "output_type": "stream",
          "text": [
            "Train Epoch 9: 100%|██████████| 154/154 [00:45<00:00,  3.41it/s, WMAPE=4.85, DICE=0.0701, DPEAKS=34.3, Loss=0.00606]\n",
            "Validate Epoch 9: 100%|██████████| 39/39 [00:06<00:00,  6.05it/s, WMAPE=1.63, DICE=0.0556, DPEAKS=28.9, Loss=0.00527]\n"
          ]
        },
        {
          "name": "stdout",
          "output_type": "stream",
          "text": [
            "early stopping: 5 epochs without improvement\n",
            "Training complete.\n"
          ]
        },
        {
          "name": "stderr",
          "output_type": "stream",
          "text": [
            "Validate Epoch test: 100%|██████████| 971/971 [03:28<00:00,  4.66it/s, WMAPE=1.64, DICE=0.055, DPEAKS=28.1, Loss=0.00491]\n"
          ]
        },
        {
          "name": "stdout",
          "output_type": "stream",
          "text": [
            "Partition 60: training decoder\n",
            "Loaded best model from partition 59\n",
            "Epoch [1/50]\n"
          ]
        },
        {
          "name": "stderr",
          "output_type": "stream",
          "text": [
            "Train Epoch 1: 100%|██████████| 154/154 [00:52<00:00,  2.94it/s, WMAPE=2.6, DICE=0.0702, DPEAKS=36.5, Loss=0.00609]\n",
            "Validate Epoch 1: 100%|██████████| 39/39 [00:07<00:00,  5.03it/s, WMAPE=1.87, DICE=0.0554, DPEAKS=26.1, Loss=0.00543]\n"
          ]
        },
        {
          "name": "stdout",
          "output_type": "stream",
          "text": [
            "Saving best model\n",
            "Epoch [2/50]\n"
          ]
        },
        {
          "name": "stderr",
          "output_type": "stream",
          "text": [
            "Train Epoch 2: 100%|██████████| 154/154 [00:45<00:00,  3.42it/s, WMAPE=3.04, DICE=0.0702, DPEAKS=36.2, Loss=0.00604]\n",
            "Validate Epoch 2: 100%|██████████| 39/39 [00:06<00:00,  6.00it/s, WMAPE=1.53, DICE=0.0555, DPEAKS=28.7, Loss=0.00489]\n"
          ]
        },
        {
          "name": "stdout",
          "output_type": "stream",
          "text": [
            "Saving best model\n",
            "Epoch [3/50]\n"
          ]
        },
        {
          "name": "stderr",
          "output_type": "stream",
          "text": [
            "Train Epoch 3: 100%|██████████| 154/154 [00:45<00:00,  3.40it/s, WMAPE=3.52, DICE=0.0702, DPEAKS=37, Loss=0.00603]\n",
            "Validate Epoch 3: 100%|██████████| 39/39 [00:06<00:00,  5.99it/s, WMAPE=1.57, DICE=0.0554, DPEAKS=28.5, Loss=0.0048]\n"
          ]
        },
        {
          "name": "stdout",
          "output_type": "stream",
          "text": [
            "Saving best model\n",
            "Epoch [4/50]\n"
          ]
        },
        {
          "name": "stderr",
          "output_type": "stream",
          "text": [
            "Train Epoch 4: 100%|██████████| 154/154 [00:45<00:00,  3.40it/s, WMAPE=2.46, DICE=0.0706, DPEAKS=37.5, Loss=0.00607]\n",
            "Validate Epoch 4: 100%|██████████| 39/39 [00:06<00:00,  6.04it/s, WMAPE=1.71, DICE=0.0553, DPEAKS=29, Loss=0.00521]\n"
          ]
        },
        {
          "name": "stdout",
          "output_type": "stream",
          "text": [
            "Epoch [5/50]\n"
          ]
        },
        {
          "name": "stderr",
          "output_type": "stream",
          "text": [
            "Train Epoch 5: 100%|██████████| 154/154 [00:44<00:00,  3.42it/s, WMAPE=2.56, DICE=0.0699, DPEAKS=36.8, Loss=0.006]\n",
            "Validate Epoch 5: 100%|██████████| 39/39 [00:06<00:00,  6.05it/s, WMAPE=1.59, DICE=0.0557, DPEAKS=29, Loss=0.00487]\n"
          ]
        },
        {
          "name": "stdout",
          "output_type": "stream",
          "text": [
            "Epoch [6/50]\n"
          ]
        },
        {
          "name": "stderr",
          "output_type": "stream",
          "text": [
            "Train Epoch 6: 100%|██████████| 154/154 [00:45<00:00,  3.41it/s, WMAPE=2.75, DICE=0.0702, DPEAKS=37.2, Loss=0.00599]\n",
            "Validate Epoch 6: 100%|██████████| 39/39 [00:06<00:00,  6.03it/s, WMAPE=1.87, DICE=0.0554, DPEAKS=26.6, Loss=0.00545]\n"
          ]
        },
        {
          "name": "stdout",
          "output_type": "stream",
          "text": [
            "Epoch [7/50]\n"
          ]
        },
        {
          "name": "stderr",
          "output_type": "stream",
          "text": [
            "Train Epoch 7: 100%|██████████| 154/154 [00:45<00:00,  3.40it/s, WMAPE=2.73, DICE=0.0698, DPEAKS=36.5, Loss=0.00595]\n",
            "Validate Epoch 7: 100%|██████████| 39/39 [00:06<00:00,  6.12it/s, WMAPE=1.63, DICE=0.055, DPEAKS=28, Loss=0.00491]\n"
          ]
        },
        {
          "name": "stdout",
          "output_type": "stream",
          "text": [
            "Epoch [8/50]\n"
          ]
        },
        {
          "name": "stderr",
          "output_type": "stream",
          "text": [
            "Train Epoch 8: 100%|██████████| 154/154 [00:45<00:00,  3.41it/s, WMAPE=2.53, DICE=0.0702, DPEAKS=37.1, Loss=0.00597]\n",
            "Validate Epoch 8: 100%|██████████| 39/39 [00:06<00:00,  6.07it/s, WMAPE=1.66, DICE=0.0554, DPEAKS=27.7, Loss=0.00513]\n"
          ]
        },
        {
          "name": "stdout",
          "output_type": "stream",
          "text": [
            "early stopping: 5 epochs without improvement\n",
            "Training complete.\n"
          ]
        },
        {
          "name": "stderr",
          "output_type": "stream",
          "text": [
            "Validate Epoch test: 100%|██████████| 971/971 [03:28<00:00,  4.65it/s, WMAPE=1.63, DICE=0.0555, DPEAKS=29.6, Loss=0.00486]\n"
          ]
        },
        {
          "name": "stdout",
          "output_type": "stream",
          "text": [
            "Partition 61: training decoder\n",
            "Loaded best model from partition 60\n",
            "Epoch [1/50]\n"
          ]
        },
        {
          "name": "stderr",
          "output_type": "stream",
          "text": [
            "Train Epoch 1: 100%|██████████| 154/154 [00:52<00:00,  2.96it/s, WMAPE=2.87, DICE=0.0701, DPEAKS=37.6, Loss=0.00605]\n",
            "Validate Epoch 1: 100%|██████████| 39/39 [00:07<00:00,  5.01it/s, WMAPE=1.66, DICE=0.0553, DPEAKS=31.5, Loss=0.00533]\n"
          ]
        },
        {
          "name": "stdout",
          "output_type": "stream",
          "text": [
            "Saving best model\n",
            "Epoch [2/50]\n"
          ]
        },
        {
          "name": "stderr",
          "output_type": "stream",
          "text": [
            "Train Epoch 2: 100%|██████████| 154/154 [00:45<00:00,  3.38it/s, WMAPE=2.63, DICE=0.07, DPEAKS=37.4, Loss=0.00602]\n",
            "Validate Epoch 2: 100%|██████████| 39/39 [00:06<00:00,  6.08it/s, WMAPE=1.75, DICE=0.0549, DPEAKS=27.9, Loss=0.00513]\n"
          ]
        },
        {
          "name": "stdout",
          "output_type": "stream",
          "text": [
            "Saving best model\n",
            "Epoch [3/50]\n"
          ]
        },
        {
          "name": "stderr",
          "output_type": "stream",
          "text": [
            "Train Epoch 3: 100%|██████████| 154/154 [00:44<00:00,  3.42it/s, WMAPE=2.47, DICE=0.07, DPEAKS=36.8, Loss=0.00601]\n",
            "Validate Epoch 3: 100%|██████████| 39/39 [00:06<00:00,  6.07it/s, WMAPE=1.76, DICE=0.0556, DPEAKS=28.5, Loss=0.0051]\n"
          ]
        },
        {
          "name": "stdout",
          "output_type": "stream",
          "text": [
            "Saving best model\n",
            "Epoch [4/50]\n"
          ]
        },
        {
          "name": "stderr",
          "output_type": "stream",
          "text": [
            "Train Epoch 4: 100%|██████████| 154/154 [00:45<00:00,  3.41it/s, WMAPE=2.5, DICE=0.07, DPEAKS=35.6, Loss=0.00593]\n",
            "Validate Epoch 4: 100%|██████████| 39/39 [00:06<00:00,  6.00it/s, WMAPE=1.83, DICE=0.0554, DPEAKS=26.9, Loss=0.00521]\n"
          ]
        },
        {
          "name": "stdout",
          "output_type": "stream",
          "text": [
            "Epoch [5/50]\n"
          ]
        },
        {
          "name": "stderr",
          "output_type": "stream",
          "text": [
            "Train Epoch 5: 100%|██████████| 154/154 [00:45<00:00,  3.42it/s, WMAPE=3.12, DICE=0.0701, DPEAKS=35.3, Loss=0.006]\n",
            "Validate Epoch 5: 100%|██████████| 39/39 [00:06<00:00,  6.04it/s, WMAPE=1.73, DICE=0.0554, DPEAKS=28.1, Loss=0.00503]\n"
          ]
        },
        {
          "name": "stdout",
          "output_type": "stream",
          "text": [
            "Saving best model\n",
            "Epoch [6/50]\n"
          ]
        },
        {
          "name": "stderr",
          "output_type": "stream",
          "text": [
            "Train Epoch 6: 100%|██████████| 154/154 [00:45<00:00,  3.42it/s, WMAPE=7.25, DICE=0.0699, DPEAKS=36.4, Loss=0.00587]\n",
            "Validate Epoch 6: 100%|██████████| 39/39 [00:06<00:00,  6.02it/s, WMAPE=1.95, DICE=0.0553, DPEAKS=29.1, Loss=0.00553]\n"
          ]
        },
        {
          "name": "stdout",
          "output_type": "stream",
          "text": [
            "Epoch [7/50]\n"
          ]
        },
        {
          "name": "stderr",
          "output_type": "stream",
          "text": [
            "Train Epoch 7: 100%|██████████| 154/154 [00:45<00:00,  3.41it/s, WMAPE=3.47, DICE=0.0701, DPEAKS=36.5, Loss=0.006]\n",
            "Validate Epoch 7: 100%|██████████| 39/39 [00:06<00:00,  6.07it/s, WMAPE=1.68, DICE=0.0548, DPEAKS=29.7, Loss=0.00499]\n"
          ]
        },
        {
          "name": "stdout",
          "output_type": "stream",
          "text": [
            "Saving best model\n",
            "Epoch [8/50]\n"
          ]
        },
        {
          "name": "stderr",
          "output_type": "stream",
          "text": [
            "Train Epoch 8: 100%|██████████| 154/154 [00:45<00:00,  3.40it/s, WMAPE=2.53, DICE=0.0702, DPEAKS=37.5, Loss=0.00601]\n",
            "Validate Epoch 8: 100%|██████████| 39/39 [00:06<00:00,  6.11it/s, WMAPE=1.66, DICE=0.055, DPEAKS=26.2, Loss=0.00497]\n"
          ]
        },
        {
          "name": "stdout",
          "output_type": "stream",
          "text": [
            "Saving best model\n",
            "Epoch [9/50]\n"
          ]
        },
        {
          "name": "stderr",
          "output_type": "stream",
          "text": [
            "Train Epoch 9: 100%|██████████| 154/154 [00:44<00:00,  3.43it/s, WMAPE=2.6, DICE=0.0697, DPEAKS=37.5, Loss=0.00589]\n",
            "Validate Epoch 9: 100%|██████████| 39/39 [00:06<00:00,  6.11it/s, WMAPE=2.14, DICE=0.0552, DPEAKS=30.4, Loss=0.00633]\n"
          ]
        },
        {
          "name": "stdout",
          "output_type": "stream",
          "text": [
            "Epoch [10/50]\n"
          ]
        },
        {
          "name": "stderr",
          "output_type": "stream",
          "text": [
            "Train Epoch 10: 100%|██████████| 154/154 [00:45<00:00,  3.42it/s, WMAPE=2.77, DICE=0.0701, DPEAKS=37.4, Loss=0.006]\n",
            "Validate Epoch 10: 100%|██████████| 39/39 [00:06<00:00,  6.08it/s, WMAPE=1.62, DICE=0.0558, DPEAKS=31, Loss=0.00505]\n"
          ]
        },
        {
          "name": "stdout",
          "output_type": "stream",
          "text": [
            "Epoch [11/50]\n"
          ]
        },
        {
          "name": "stderr",
          "output_type": "stream",
          "text": [
            "Train Epoch 11: 100%|██████████| 154/154 [00:45<00:00,  3.41it/s, WMAPE=3.68, DICE=0.0701, DPEAKS=36.8, Loss=0.00593]\n",
            "Validate Epoch 11: 100%|██████████| 39/39 [00:06<00:00,  6.09it/s, WMAPE=1.75, DICE=0.0548, DPEAKS=30, Loss=0.00509]\n"
          ]
        },
        {
          "name": "stdout",
          "output_type": "stream",
          "text": [
            "Epoch [12/50]\n"
          ]
        },
        {
          "name": "stderr",
          "output_type": "stream",
          "text": [
            "Train Epoch 12: 100%|██████████| 154/154 [00:45<00:00,  3.39it/s, WMAPE=2.74, DICE=0.07, DPEAKS=35.1, Loss=0.00592]\n",
            "Validate Epoch 12: 100%|██████████| 39/39 [00:06<00:00,  6.09it/s, WMAPE=2.05, DICE=0.055, DPEAKS=29.7, Loss=0.00607]\n"
          ]
        },
        {
          "name": "stdout",
          "output_type": "stream",
          "text": [
            "Epoch [13/50]\n"
          ]
        },
        {
          "name": "stderr",
          "output_type": "stream",
          "text": [
            "Train Epoch 13: 100%|██████████| 154/154 [00:45<00:00,  3.41it/s, WMAPE=2.55, DICE=0.07, DPEAKS=37.5, Loss=0.00601]\n",
            "Validate Epoch 13: 100%|██████████| 39/39 [00:06<00:00,  6.06it/s, WMAPE=1.67, DICE=0.0553, DPEAKS=27.7, Loss=0.00538]\n"
          ]
        },
        {
          "name": "stdout",
          "output_type": "stream",
          "text": [
            "early stopping: 5 epochs without improvement\n",
            "Training complete.\n"
          ]
        },
        {
          "name": "stderr",
          "output_type": "stream",
          "text": [
            "Validate Epoch test: 100%|██████████| 971/971 [03:29<00:00,  4.63it/s, WMAPE=1.58, DICE=0.0551, DPEAKS=27.9, Loss=0.00483]\n"
          ]
        },
        {
          "name": "stdout",
          "output_type": "stream",
          "text": [
            "Partition 62: training decoder\n",
            "Loaded best model from partition 61\n",
            "Epoch [1/50]\n"
          ]
        },
        {
          "name": "stderr",
          "output_type": "stream",
          "text": [
            "Train Epoch 1: 100%|██████████| 154/154 [00:52<00:00,  2.95it/s, WMAPE=2.75, DICE=0.0698, DPEAKS=35.5, Loss=0.00598]\n",
            "Validate Epoch 1: 100%|██████████| 39/39 [00:07<00:00,  5.05it/s, WMAPE=1.62, DICE=0.0554, DPEAKS=27.6, Loss=0.00504]\n"
          ]
        },
        {
          "name": "stdout",
          "output_type": "stream",
          "text": [
            "Saving best model\n",
            "Epoch [2/50]\n"
          ]
        },
        {
          "name": "stderr",
          "output_type": "stream",
          "text": [
            "Train Epoch 2: 100%|██████████| 154/154 [00:45<00:00,  3.41it/s, WMAPE=2.55, DICE=0.0703, DPEAKS=37.1, Loss=0.00607]\n",
            "Validate Epoch 2: 100%|██████████| 39/39 [00:06<00:00,  6.05it/s, WMAPE=1.54, DICE=0.0556, DPEAKS=25.8, Loss=0.00498]\n"
          ]
        },
        {
          "name": "stdout",
          "output_type": "stream",
          "text": [
            "Saving best model\n",
            "Epoch [3/50]\n"
          ]
        },
        {
          "name": "stderr",
          "output_type": "stream",
          "text": [
            "Train Epoch 3: 100%|██████████| 154/154 [00:45<00:00,  3.41it/s, WMAPE=3.14, DICE=0.0699, DPEAKS=36.1, Loss=0.00597]\n",
            "Validate Epoch 3: 100%|██████████| 39/39 [00:06<00:00,  6.08it/s, WMAPE=1.83, DICE=0.0555, DPEAKS=28.9, Loss=0.00554]\n"
          ]
        },
        {
          "name": "stdout",
          "output_type": "stream",
          "text": [
            "Epoch [4/50]\n"
          ]
        },
        {
          "name": "stderr",
          "output_type": "stream",
          "text": [
            "Train Epoch 4: 100%|██████████| 154/154 [00:45<00:00,  3.41it/s, WMAPE=2.38, DICE=0.0701, DPEAKS=35.8, Loss=0.00603]\n",
            "Validate Epoch 4: 100%|██████████| 39/39 [00:06<00:00,  5.97it/s, WMAPE=1.59, DICE=0.0555, DPEAKS=27.2, Loss=0.00495]\n"
          ]
        },
        {
          "name": "stdout",
          "output_type": "stream",
          "text": [
            "Saving best model\n",
            "Epoch [5/50]\n"
          ]
        },
        {
          "name": "stderr",
          "output_type": "stream",
          "text": [
            "Train Epoch 5: 100%|██████████| 154/154 [00:45<00:00,  3.41it/s, WMAPE=2.48, DICE=0.0697, DPEAKS=34.7, Loss=0.00605]\n",
            "Validate Epoch 5: 100%|██████████| 39/39 [00:06<00:00,  6.02it/s, WMAPE=1.76, DICE=0.056, DPEAKS=27.9, Loss=0.00505]\n"
          ]
        },
        {
          "name": "stdout",
          "output_type": "stream",
          "text": [
            "Epoch [6/50]\n"
          ]
        },
        {
          "name": "stderr",
          "output_type": "stream",
          "text": [
            "Train Epoch 6: 100%|██████████| 154/154 [00:45<00:00,  3.40it/s, WMAPE=2.62, DICE=0.0701, DPEAKS=37.2, Loss=0.00596]\n",
            "Validate Epoch 6: 100%|██████████| 39/39 [00:06<00:00,  6.00it/s, WMAPE=1.58, DICE=0.0556, DPEAKS=27.5, Loss=0.00485]\n"
          ]
        },
        {
          "name": "stdout",
          "output_type": "stream",
          "text": [
            "Saving best model\n",
            "Epoch [7/50]\n"
          ]
        },
        {
          "name": "stderr",
          "output_type": "stream",
          "text": [
            "Train Epoch 7: 100%|██████████| 154/154 [00:45<00:00,  3.40it/s, WMAPE=2.63, DICE=0.0701, DPEAKS=36, Loss=0.00596]\n",
            "Validate Epoch 7: 100%|██████████| 39/39 [00:06<00:00,  5.97it/s, WMAPE=1.71, DICE=0.0553, DPEAKS=26.2, Loss=0.00496]\n"
          ]
        },
        {
          "name": "stdout",
          "output_type": "stream",
          "text": [
            "Epoch [8/50]\n"
          ]
        },
        {
          "name": "stderr",
          "output_type": "stream",
          "text": [
            "Train Epoch 8: 100%|██████████| 154/154 [00:45<00:00,  3.42it/s, WMAPE=2.95, DICE=0.07, DPEAKS=35.4, Loss=0.00588]\n",
            "Validate Epoch 8: 100%|██████████| 39/39 [00:06<00:00,  5.99it/s, WMAPE=1.55, DICE=0.0556, DPEAKS=28.2, Loss=0.0048]\n"
          ]
        },
        {
          "name": "stdout",
          "output_type": "stream",
          "text": [
            "Saving best model\n",
            "Epoch [9/50]\n"
          ]
        },
        {
          "name": "stderr",
          "output_type": "stream",
          "text": [
            "Train Epoch 9: 100%|██████████| 154/154 [00:45<00:00,  3.42it/s, WMAPE=3.34, DICE=0.0703, DPEAKS=36.4, Loss=0.00601]\n",
            "Validate Epoch 9: 100%|██████████| 39/39 [00:06<00:00,  6.07it/s, WMAPE=1.67, DICE=0.0558, DPEAKS=28.1, Loss=0.00486]\n"
          ]
        },
        {
          "name": "stdout",
          "output_type": "stream",
          "text": [
            "Epoch [10/50]\n"
          ]
        },
        {
          "name": "stderr",
          "output_type": "stream",
          "text": [
            "Train Epoch 10: 100%|██████████| 154/154 [00:45<00:00,  3.39it/s, WMAPE=2.46, DICE=0.0702, DPEAKS=34.7, Loss=0.0059]\n",
            "Validate Epoch 10: 100%|██████████| 39/39 [00:06<00:00,  5.99it/s, WMAPE=1.62, DICE=0.0559, DPEAKS=26.1, Loss=0.00481]\n"
          ]
        },
        {
          "name": "stdout",
          "output_type": "stream",
          "text": [
            "Epoch [11/50]\n"
          ]
        },
        {
          "name": "stderr",
          "output_type": "stream",
          "text": [
            "Train Epoch 11: 100%|██████████| 154/154 [00:45<00:00,  3.40it/s, WMAPE=2.72, DICE=0.0703, DPEAKS=37, Loss=0.00605]\n",
            "Validate Epoch 11: 100%|██████████| 39/39 [00:06<00:00,  6.00it/s, WMAPE=1.56, DICE=0.056, DPEAKS=26.6, Loss=0.00499]\n"
          ]
        },
        {
          "name": "stdout",
          "output_type": "stream",
          "text": [
            "Epoch [12/50]\n"
          ]
        },
        {
          "name": "stderr",
          "output_type": "stream",
          "text": [
            "Train Epoch 12: 100%|██████████| 154/154 [00:45<00:00,  3.42it/s, WMAPE=2.47, DICE=0.0701, DPEAKS=36.1, Loss=0.00589]\n",
            "Validate Epoch 12: 100%|██████████| 39/39 [00:06<00:00,  6.09it/s, WMAPE=1.64, DICE=0.0557, DPEAKS=33.4, Loss=0.00492]\n"
          ]
        },
        {
          "name": "stdout",
          "output_type": "stream",
          "text": [
            "Epoch [13/50]\n"
          ]
        },
        {
          "name": "stderr",
          "output_type": "stream",
          "text": [
            "Train Epoch 13: 100%|██████████| 154/154 [00:45<00:00,  3.41it/s, WMAPE=2.52, DICE=0.0699, DPEAKS=37.4, Loss=0.00593]\n",
            "Validate Epoch 13: 100%|██████████| 39/39 [00:06<00:00,  6.01it/s, WMAPE=1.76, DICE=0.0561, DPEAKS=30.5, Loss=0.00558]\n"
          ]
        },
        {
          "name": "stdout",
          "output_type": "stream",
          "text": [
            "early stopping: 5 epochs without improvement\n",
            "Training complete.\n"
          ]
        },
        {
          "name": "stderr",
          "output_type": "stream",
          "text": [
            "Validate Epoch test: 100%|██████████| 971/971 [03:28<00:00,  4.65it/s, WMAPE=1.54, DICE=0.0555, DPEAKS=28.5, Loss=0.00483]\n"
          ]
        },
        {
          "name": "stdout",
          "output_type": "stream",
          "text": [
            "Partition 63: training decoder\n",
            "Loaded best model from partition 62\n",
            "Epoch [1/50]\n"
          ]
        },
        {
          "name": "stderr",
          "output_type": "stream",
          "text": [
            "Train Epoch 1: 100%|██████████| 154/154 [00:52<00:00,  2.95it/s, WMAPE=2.53, DICE=0.0702, DPEAKS=36.2, Loss=0.00607]\n",
            "Validate Epoch 1: 100%|██████████| 39/39 [00:07<00:00,  5.03it/s, WMAPE=1.76, DICE=0.0554, DPEAKS=28.8, Loss=0.00536]\n"
          ]
        },
        {
          "name": "stdout",
          "output_type": "stream",
          "text": [
            "Saving best model\n",
            "Epoch [2/50]\n"
          ]
        },
        {
          "name": "stderr",
          "output_type": "stream",
          "text": [
            "Train Epoch 2: 100%|██████████| 154/154 [00:45<00:00,  3.39it/s, WMAPE=2.92, DICE=0.07, DPEAKS=37.5, Loss=0.00605]\n",
            "Validate Epoch 2: 100%|██████████| 39/39 [00:06<00:00,  6.06it/s, WMAPE=1.75, DICE=0.0554, DPEAKS=27.8, Loss=0.00505]\n"
          ]
        },
        {
          "name": "stdout",
          "output_type": "stream",
          "text": [
            "Saving best model\n",
            "Epoch [3/50]\n"
          ]
        },
        {
          "name": "stderr",
          "output_type": "stream",
          "text": [
            "Train Epoch 3: 100%|██████████| 154/154 [00:45<00:00,  3.42it/s, WMAPE=2.45, DICE=0.0699, DPEAKS=36.8, Loss=0.00595]\n",
            "Validate Epoch 3: 100%|██████████| 39/39 [00:06<00:00,  6.03it/s, WMAPE=1.72, DICE=0.0554, DPEAKS=28.7, Loss=0.00548]\n"
          ]
        },
        {
          "name": "stdout",
          "output_type": "stream",
          "text": [
            "Epoch [4/50]\n"
          ]
        },
        {
          "name": "stderr",
          "output_type": "stream",
          "text": [
            "Train Epoch 4: 100%|██████████| 154/154 [00:45<00:00,  3.42it/s, WMAPE=2.41, DICE=0.07, DPEAKS=37.2, Loss=0.00594]\n",
            "Validate Epoch 4: 100%|██████████| 39/39 [00:06<00:00,  6.09it/s, WMAPE=1.62, DICE=0.0555, DPEAKS=30.6, Loss=0.00508]\n"
          ]
        },
        {
          "name": "stdout",
          "output_type": "stream",
          "text": [
            "Epoch [5/50]\n"
          ]
        },
        {
          "name": "stderr",
          "output_type": "stream",
          "text": [
            "Train Epoch 5: 100%|██████████| 154/154 [00:45<00:00,  3.40it/s, WMAPE=3.39, DICE=0.0699, DPEAKS=35.8, Loss=0.00592]\n",
            "Validate Epoch 5: 100%|██████████| 39/39 [00:06<00:00,  6.13it/s, WMAPE=1.73, DICE=0.0551, DPEAKS=29.9, Loss=0.00512]\n"
          ]
        },
        {
          "name": "stdout",
          "output_type": "stream",
          "text": [
            "Epoch [6/50]\n"
          ]
        },
        {
          "name": "stderr",
          "output_type": "stream",
          "text": [
            "Train Epoch 6: 100%|██████████| 154/154 [00:45<00:00,  3.40it/s, WMAPE=2.82, DICE=0.0698, DPEAKS=37.4, Loss=0.006]\n",
            "Validate Epoch 6: 100%|██████████| 39/39 [00:06<00:00,  6.03it/s, WMAPE=1.51, DICE=0.0558, DPEAKS=34.6, Loss=0.00509]\n"
          ]
        },
        {
          "name": "stdout",
          "output_type": "stream",
          "text": [
            "Epoch [7/50]\n"
          ]
        },
        {
          "name": "stderr",
          "output_type": "stream",
          "text": [
            "Train Epoch 7: 100%|██████████| 154/154 [00:45<00:00,  3.41it/s, WMAPE=2.71, DICE=0.07, DPEAKS=37, Loss=0.00598]\n",
            "Validate Epoch 7: 100%|██████████| 39/39 [00:06<00:00,  5.99it/s, WMAPE=1.46, DICE=0.0553, DPEAKS=30.1, Loss=0.00518]\n"
          ]
        },
        {
          "name": "stdout",
          "output_type": "stream",
          "text": [
            "Epoch [8/50]\n"
          ]
        },
        {
          "name": "stderr",
          "output_type": "stream",
          "text": [
            "Train Epoch 8: 100%|██████████| 154/154 [00:44<00:00,  3.43it/s, WMAPE=3.21, DICE=0.0703, DPEAKS=35.9, Loss=0.00597]\n",
            "Validate Epoch 8: 100%|██████████| 39/39 [00:06<00:00,  6.06it/s, WMAPE=1.6, DICE=0.0554, DPEAKS=28.3, Loss=0.00479]\n"
          ]
        },
        {
          "name": "stdout",
          "output_type": "stream",
          "text": [
            "Saving best model\n",
            "Epoch [9/50]\n"
          ]
        },
        {
          "name": "stderr",
          "output_type": "stream",
          "text": [
            "Train Epoch 9: 100%|██████████| 154/154 [00:45<00:00,  3.40it/s, WMAPE=2.82, DICE=0.0701, DPEAKS=36.8, Loss=0.00602]\n",
            "Validate Epoch 9: 100%|██████████| 39/39 [00:06<00:00,  6.02it/s, WMAPE=1.69, DICE=0.0556, DPEAKS=28, Loss=0.00506]\n"
          ]
        },
        {
          "name": "stdout",
          "output_type": "stream",
          "text": [
            "Epoch [10/50]\n"
          ]
        },
        {
          "name": "stderr",
          "output_type": "stream",
          "text": [
            "Train Epoch 10: 100%|██████████| 154/154 [00:45<00:00,  3.41it/s, WMAPE=2.67, DICE=0.0701, DPEAKS=38.2, Loss=0.00598]\n",
            "Validate Epoch 10: 100%|██████████| 39/39 [00:06<00:00,  6.12it/s, WMAPE=1.8, DICE=0.0553, DPEAKS=29.8, Loss=0.00537]\n"
          ]
        },
        {
          "name": "stdout",
          "output_type": "stream",
          "text": [
            "Epoch [11/50]\n"
          ]
        },
        {
          "name": "stderr",
          "output_type": "stream",
          "text": [
            "Train Epoch 11: 100%|██████████| 154/154 [00:45<00:00,  3.42it/s, WMAPE=2.59, DICE=0.07, DPEAKS=36.7, Loss=0.00592]\n",
            "Validate Epoch 11: 100%|██████████| 39/39 [00:06<00:00,  6.07it/s, WMAPE=1.62, DICE=0.0549, DPEAKS=29.2, Loss=0.0048]\n"
          ]
        },
        {
          "name": "stdout",
          "output_type": "stream",
          "text": [
            "Epoch [12/50]\n"
          ]
        },
        {
          "name": "stderr",
          "output_type": "stream",
          "text": [
            "Train Epoch 12: 100%|██████████| 154/154 [00:45<00:00,  3.39it/s, WMAPE=2.63, DICE=0.0701, DPEAKS=36.3, Loss=0.00593]\n",
            "Validate Epoch 12: 100%|██████████| 39/39 [00:06<00:00,  6.04it/s, WMAPE=1.76, DICE=0.0555, DPEAKS=32.8, Loss=0.00571]\n"
          ]
        },
        {
          "name": "stdout",
          "output_type": "stream",
          "text": [
            "Epoch [13/50]\n"
          ]
        },
        {
          "name": "stderr",
          "output_type": "stream",
          "text": [
            "Train Epoch 13: 100%|██████████| 154/154 [00:45<00:00,  3.40it/s, WMAPE=3.54, DICE=0.07, DPEAKS=36.7, Loss=0.00591]\n",
            "Validate Epoch 13: 100%|██████████| 39/39 [00:06<00:00,  6.04it/s, WMAPE=1.63, DICE=0.0571, DPEAKS=28, Loss=0.00488]\n"
          ]
        },
        {
          "name": "stdout",
          "output_type": "stream",
          "text": [
            "early stopping: 5 epochs without improvement\n",
            "Training complete.\n"
          ]
        },
        {
          "name": "stderr",
          "output_type": "stream",
          "text": [
            "Validate Epoch test: 100%|██████████| 971/971 [03:29<00:00,  4.64it/s, WMAPE=1.61, DICE=0.0553, DPEAKS=28.3, Loss=0.00482]\n"
          ]
        },
        {
          "name": "stdout",
          "output_type": "stream",
          "text": [
            "Partition 64: training decoder\n",
            "Loaded best model from partition 63\n",
            "Epoch [1/50]\n"
          ]
        },
        {
          "name": "stderr",
          "output_type": "stream",
          "text": [
            "Train Epoch 1: 100%|██████████| 154/154 [00:52<00:00,  2.94it/s, WMAPE=3.37, DICE=0.0703, DPEAKS=38, Loss=0.00598]\n",
            "Validate Epoch 1: 100%|██████████| 39/39 [00:07<00:00,  5.02it/s, WMAPE=1.82, DICE=0.0553, DPEAKS=25.8, Loss=0.00533]\n"
          ]
        },
        {
          "name": "stdout",
          "output_type": "stream",
          "text": [
            "Saving best model\n",
            "Epoch [2/50]\n"
          ]
        },
        {
          "name": "stderr",
          "output_type": "stream",
          "text": [
            "Train Epoch 2: 100%|██████████| 154/154 [00:45<00:00,  3.42it/s, WMAPE=2.69, DICE=0.0705, DPEAKS=37.5, Loss=0.00605]\n",
            "Validate Epoch 2: 100%|██████████| 39/39 [00:06<00:00,  5.99it/s, WMAPE=1.81, DICE=0.055, DPEAKS=27.3, Loss=0.00562]\n"
          ]
        },
        {
          "name": "stdout",
          "output_type": "stream",
          "text": [
            "Epoch [3/50]\n"
          ]
        },
        {
          "name": "stderr",
          "output_type": "stream",
          "text": [
            "Train Epoch 3: 100%|██████████| 154/154 [00:45<00:00,  3.40it/s, WMAPE=3.11, DICE=0.07, DPEAKS=36.8, Loss=0.00595]\n",
            "Validate Epoch 3: 100%|██████████| 39/39 [00:06<00:00,  6.01it/s, WMAPE=2.17, DICE=0.0558, DPEAKS=26, Loss=0.00611]\n"
          ]
        },
        {
          "name": "stdout",
          "output_type": "stream",
          "text": [
            "Epoch [4/50]\n"
          ]
        },
        {
          "name": "stderr",
          "output_type": "stream",
          "text": [
            "Train Epoch 4: 100%|██████████| 154/154 [00:44<00:00,  3.42it/s, WMAPE=2.61, DICE=0.0699, DPEAKS=38.4, Loss=0.0059]\n",
            "Validate Epoch 4: 100%|██████████| 39/39 [00:06<00:00,  6.04it/s, WMAPE=1.67, DICE=0.0552, DPEAKS=26.4, Loss=0.00514]\n"
          ]
        },
        {
          "name": "stdout",
          "output_type": "stream",
          "text": [
            "Saving best model\n",
            "Epoch [5/50]\n"
          ]
        },
        {
          "name": "stderr",
          "output_type": "stream",
          "text": [
            "Train Epoch 5: 100%|██████████| 154/154 [00:45<00:00,  3.41it/s, WMAPE=4.05, DICE=0.07, DPEAKS=35.2, Loss=0.00591]\n",
            "Validate Epoch 5: 100%|██████████| 39/39 [00:06<00:00,  6.01it/s, WMAPE=1.78, DICE=0.0552, DPEAKS=27.4, Loss=0.00532]\n"
          ]
        },
        {
          "name": "stdout",
          "output_type": "stream",
          "text": [
            "Epoch [6/50]\n"
          ]
        },
        {
          "name": "stderr",
          "output_type": "stream",
          "text": [
            "Train Epoch 6: 100%|██████████| 154/154 [00:45<00:00,  3.41it/s, WMAPE=2.53, DICE=0.07, DPEAKS=37.5, Loss=0.00589]\n",
            "Validate Epoch 6: 100%|██████████| 39/39 [00:06<00:00,  6.05it/s, WMAPE=1.78, DICE=0.0551, DPEAKS=24.8, Loss=0.00526]\n"
          ]
        },
        {
          "name": "stdout",
          "output_type": "stream",
          "text": [
            "Epoch [7/50]\n"
          ]
        },
        {
          "name": "stderr",
          "output_type": "stream",
          "text": [
            "Train Epoch 7: 100%|██████████| 154/154 [00:45<00:00,  3.42it/s, WMAPE=2.7, DICE=0.07, DPEAKS=37.8, Loss=0.00586]\n",
            "Validate Epoch 7: 100%|██████████| 39/39 [00:06<00:00,  6.00it/s, WMAPE=1.61, DICE=0.0552, DPEAKS=26.8, Loss=0.0049]\n"
          ]
        },
        {
          "name": "stdout",
          "output_type": "stream",
          "text": [
            "Saving best model\n",
            "Epoch [8/50]\n"
          ]
        },
        {
          "name": "stderr",
          "output_type": "stream",
          "text": [
            "Train Epoch 8: 100%|██████████| 154/154 [00:45<00:00,  3.41it/s, WMAPE=2.84, DICE=0.0701, DPEAKS=38, Loss=0.00596]\n",
            "Validate Epoch 8: 100%|██████████| 39/39 [00:06<00:00,  6.06it/s, WMAPE=1.67, DICE=0.0556, DPEAKS=24.9, Loss=0.00494]\n"
          ]
        },
        {
          "name": "stdout",
          "output_type": "stream",
          "text": [
            "Epoch [9/50]\n"
          ]
        },
        {
          "name": "stderr",
          "output_type": "stream",
          "text": [
            "Train Epoch 9: 100%|██████████| 154/154 [00:45<00:00,  3.40it/s, WMAPE=2.74, DICE=0.0702, DPEAKS=37.6, Loss=0.00598]\n",
            "Validate Epoch 9: 100%|██████████| 39/39 [00:06<00:00,  6.01it/s, WMAPE=1.66, DICE=0.0573, DPEAKS=28.2, Loss=0.00541]\n"
          ]
        },
        {
          "name": "stdout",
          "output_type": "stream",
          "text": [
            "Epoch [10/50]\n"
          ]
        },
        {
          "name": "stderr",
          "output_type": "stream",
          "text": [
            "Train Epoch 10: 100%|██████████| 154/154 [00:44<00:00,  3.42it/s, WMAPE=2.72, DICE=0.0704, DPEAKS=37, Loss=0.00597]\n",
            "Validate Epoch 10: 100%|██████████| 39/39 [00:06<00:00,  6.05it/s, WMAPE=2.45, DICE=0.0554, DPEAKS=25.8, Loss=0.00705]\n"
          ]
        },
        {
          "name": "stdout",
          "output_type": "stream",
          "text": [
            "Epoch [11/50]\n"
          ]
        },
        {
          "name": "stderr",
          "output_type": "stream",
          "text": [
            "Train Epoch 11: 100%|██████████| 154/154 [00:45<00:00,  3.42it/s, WMAPE=2.64, DICE=0.0701, DPEAKS=36.9, Loss=0.00595]\n",
            "Validate Epoch 11: 100%|██████████| 39/39 [00:06<00:00,  6.02it/s, WMAPE=1.65, DICE=0.0557, DPEAKS=25.7, Loss=0.00496]\n"
          ]
        },
        {
          "name": "stdout",
          "output_type": "stream",
          "text": [
            "Epoch [12/50]\n"
          ]
        },
        {
          "name": "stderr",
          "output_type": "stream",
          "text": [
            "Train Epoch 12: 100%|██████████| 154/154 [00:45<00:00,  3.41it/s, WMAPE=2.67, DICE=0.0699, DPEAKS=37.3, Loss=0.00591]\n",
            "Validate Epoch 12: 100%|██████████| 39/39 [00:06<00:00,  5.97it/s, WMAPE=1.8, DICE=0.0557, DPEAKS=26.1, Loss=0.00529]\n"
          ]
        },
        {
          "name": "stdout",
          "output_type": "stream",
          "text": [
            "early stopping: 5 epochs without improvement\n",
            "Training complete.\n"
          ]
        },
        {
          "name": "stderr",
          "output_type": "stream",
          "text": [
            "Validate Epoch test: 100%|██████████| 971/971 [03:29<00:00,  4.63it/s, WMAPE=1.61, DICE=0.0551, DPEAKS=28.6, Loss=0.00489]\n"
          ]
        },
        {
          "name": "stdout",
          "output_type": "stream",
          "text": [
            "Partition 65: training decoder\n",
            "Loaded best model from partition 64\n",
            "Epoch [1/50]\n"
          ]
        },
        {
          "name": "stderr",
          "output_type": "stream",
          "text": [
            "Train Epoch 1: 100%|██████████| 154/154 [00:53<00:00,  2.88it/s, WMAPE=2.61, DICE=0.07, DPEAKS=36.7, Loss=0.006]\n",
            "Validate Epoch 1: 100%|██████████| 39/39 [00:07<00:00,  5.05it/s, WMAPE=1.59, DICE=0.055, DPEAKS=29, Loss=0.00499]\n"
          ]
        },
        {
          "name": "stdout",
          "output_type": "stream",
          "text": [
            "Saving best model\n",
            "Epoch [2/50]\n"
          ]
        },
        {
          "name": "stderr",
          "output_type": "stream",
          "text": [
            "Train Epoch 2: 100%|██████████| 154/154 [00:45<00:00,  3.41it/s, WMAPE=4.48, DICE=0.0701, DPEAKS=36.7, Loss=0.00602]\n",
            "Validate Epoch 2: 100%|██████████| 39/39 [00:06<00:00,  6.01it/s, WMAPE=1.7, DICE=0.0546, DPEAKS=27.9, Loss=0.00507]\n"
          ]
        },
        {
          "name": "stdout",
          "output_type": "stream",
          "text": [
            "Epoch [3/50]\n"
          ]
        },
        {
          "name": "stderr",
          "output_type": "stream",
          "text": [
            "Train Epoch 3: 100%|██████████| 154/154 [00:45<00:00,  3.42it/s, WMAPE=2.56, DICE=0.0698, DPEAKS=36.8, Loss=0.00594]\n",
            "Validate Epoch 3: 100%|██████████| 39/39 [00:06<00:00,  6.06it/s, WMAPE=1.49, DICE=0.0549, DPEAKS=28.2, Loss=0.00498]\n"
          ]
        },
        {
          "name": "stdout",
          "output_type": "stream",
          "text": [
            "Saving best model\n",
            "Epoch [4/50]\n"
          ]
        },
        {
          "name": "stderr",
          "output_type": "stream",
          "text": [
            "Train Epoch 4: 100%|██████████| 154/154 [00:45<00:00,  3.40it/s, WMAPE=2.53, DICE=0.0698, DPEAKS=36, Loss=0.00596]\n",
            "Validate Epoch 4: 100%|██████████| 39/39 [00:06<00:00,  6.08it/s, WMAPE=2.01, DICE=0.0559, DPEAKS=30.7, Loss=0.00582]\n"
          ]
        },
        {
          "name": "stdout",
          "output_type": "stream",
          "text": [
            "Epoch [5/50]\n"
          ]
        },
        {
          "name": "stderr",
          "output_type": "stream",
          "text": [
            "Train Epoch 5: 100%|██████████| 154/154 [00:45<00:00,  3.38it/s, WMAPE=2.49, DICE=0.0698, DPEAKS=36.3, Loss=0.00589]\n",
            "Validate Epoch 5: 100%|██████████| 39/39 [00:06<00:00,  6.03it/s, WMAPE=1.58, DICE=0.055, DPEAKS=27.1, Loss=0.00484]\n"
          ]
        },
        {
          "name": "stdout",
          "output_type": "stream",
          "text": [
            "Saving best model\n",
            "Epoch [6/50]\n"
          ]
        },
        {
          "name": "stderr",
          "output_type": "stream",
          "text": [
            "Train Epoch 6: 100%|██████████| 154/154 [00:45<00:00,  3.39it/s, WMAPE=2.43, DICE=0.07, DPEAKS=35.6, Loss=0.00596]\n",
            "Validate Epoch 6: 100%|██████████| 39/39 [00:06<00:00,  6.04it/s, WMAPE=1.72, DICE=0.0553, DPEAKS=26.1, Loss=0.00507]\n"
          ]
        },
        {
          "name": "stdout",
          "output_type": "stream",
          "text": [
            "Epoch [7/50]\n"
          ]
        },
        {
          "name": "stderr",
          "output_type": "stream",
          "text": [
            "Train Epoch 7: 100%|██████████| 154/154 [00:45<00:00,  3.42it/s, WMAPE=2.83, DICE=0.0699, DPEAKS=35, Loss=0.00596]\n",
            "Validate Epoch 7: 100%|██████████| 39/39 [00:06<00:00,  6.08it/s, WMAPE=1.57, DICE=0.0551, DPEAKS=28.8, Loss=0.00494]\n"
          ]
        },
        {
          "name": "stdout",
          "output_type": "stream",
          "text": [
            "Epoch [8/50]\n"
          ]
        },
        {
          "name": "stderr",
          "output_type": "stream",
          "text": [
            "Train Epoch 8: 100%|██████████| 154/154 [00:45<00:00,  3.40it/s, WMAPE=2.72, DICE=0.0699, DPEAKS=36.2, Loss=0.00592]\n",
            "Validate Epoch 8: 100%|██████████| 39/39 [00:06<00:00,  6.09it/s, WMAPE=1.77, DICE=0.0551, DPEAKS=27, Loss=0.00566]\n"
          ]
        },
        {
          "name": "stdout",
          "output_type": "stream",
          "text": [
            "Epoch [9/50]\n"
          ]
        },
        {
          "name": "stderr",
          "output_type": "stream",
          "text": [
            "Train Epoch 9: 100%|██████████| 154/154 [00:45<00:00,  3.41it/s, WMAPE=3.01, DICE=0.0701, DPEAKS=35.4, Loss=0.00589]\n",
            "Validate Epoch 9: 100%|██████████| 39/39 [00:06<00:00,  6.04it/s, WMAPE=1.58, DICE=0.0558, DPEAKS=29.8, Loss=0.00491]\n"
          ]
        },
        {
          "name": "stdout",
          "output_type": "stream",
          "text": [
            "Epoch [10/50]\n"
          ]
        },
        {
          "name": "stderr",
          "output_type": "stream",
          "text": [
            "Train Epoch 10: 100%|██████████| 154/154 [00:45<00:00,  3.42it/s, WMAPE=3.23, DICE=0.0699, DPEAKS=37, Loss=0.00588]\n",
            "Validate Epoch 10: 100%|██████████| 39/39 [00:06<00:00,  6.07it/s, WMAPE=1.64, DICE=0.0552, DPEAKS=27.3, Loss=0.00523]\n"
          ]
        },
        {
          "name": "stdout",
          "output_type": "stream",
          "text": [
            "early stopping: 5 epochs without improvement\n",
            "Training complete.\n"
          ]
        },
        {
          "name": "stderr",
          "output_type": "stream",
          "text": [
            "Validate Epoch test: 100%|██████████| 971/971 [03:28<00:00,  4.65it/s, WMAPE=1.61, DICE=0.0549, DPEAKS=27.6, Loss=0.00483]\n"
          ]
        },
        {
          "name": "stdout",
          "output_type": "stream",
          "text": [
            "Partition 66: training decoder\n",
            "Loaded best model from partition 65\n",
            "Epoch [1/50]\n"
          ]
        },
        {
          "name": "stderr",
          "output_type": "stream",
          "text": [
            "Train Epoch 1: 100%|██████████| 154/154 [00:52<00:00,  2.95it/s, WMAPE=3.18, DICE=0.07, DPEAKS=35.2, Loss=0.00604]\n",
            "Validate Epoch 1: 100%|██████████| 39/39 [00:07<00:00,  5.03it/s, WMAPE=1.75, DICE=0.0559, DPEAKS=33.7, Loss=0.00516]\n"
          ]
        },
        {
          "name": "stdout",
          "output_type": "stream",
          "text": [
            "Saving best model\n",
            "Epoch [2/50]\n"
          ]
        },
        {
          "name": "stderr",
          "output_type": "stream",
          "text": [
            "Train Epoch 2: 100%|██████████| 154/154 [00:45<00:00,  3.40it/s, WMAPE=2.71, DICE=0.0699, DPEAKS=35.3, Loss=0.00595]\n",
            "Validate Epoch 2: 100%|██████████| 39/39 [00:06<00:00,  6.09it/s, WMAPE=1.56, DICE=0.0552, DPEAKS=33.9, Loss=0.00501]\n"
          ]
        },
        {
          "name": "stdout",
          "output_type": "stream",
          "text": [
            "Saving best model\n",
            "Epoch [3/50]\n"
          ]
        },
        {
          "name": "stderr",
          "output_type": "stream",
          "text": [
            "Train Epoch 3: 100%|██████████| 154/154 [00:45<00:00,  3.39it/s, WMAPE=2.41, DICE=0.07, DPEAKS=34.9, Loss=0.00599]\n",
            "Validate Epoch 3: 100%|██████████| 39/39 [00:06<00:00,  5.97it/s, WMAPE=1.64, DICE=0.0554, DPEAKS=34.9, Loss=0.00486]\n"
          ]
        },
        {
          "name": "stdout",
          "output_type": "stream",
          "text": [
            "Saving best model\n",
            "Epoch [4/50]\n"
          ]
        },
        {
          "name": "stderr",
          "output_type": "stream",
          "text": [
            "Train Epoch 4: 100%|██████████| 154/154 [00:44<00:00,  3.43it/s, WMAPE=4.48, DICE=0.0702, DPEAKS=35.5, Loss=0.006]\n",
            "Validate Epoch 4: 100%|██████████| 39/39 [00:06<00:00,  6.08it/s, WMAPE=1.92, DICE=0.0549, DPEAKS=31.3, Loss=0.00573]\n"
          ]
        },
        {
          "name": "stdout",
          "output_type": "stream",
          "text": [
            "Epoch [5/50]\n"
          ]
        },
        {
          "name": "stderr",
          "output_type": "stream",
          "text": [
            "Train Epoch 5: 100%|██████████| 154/154 [00:44<00:00,  3.42it/s, WMAPE=2.6, DICE=0.0701, DPEAKS=35.8, Loss=0.00603]\n",
            "Validate Epoch 5: 100%|██████████| 39/39 [00:06<00:00,  6.01it/s, WMAPE=1.64, DICE=0.0554, DPEAKS=30.3, Loss=0.00491]\n"
          ]
        },
        {
          "name": "stdout",
          "output_type": "stream",
          "text": [
            "Epoch [6/50]\n"
          ]
        },
        {
          "name": "stderr",
          "output_type": "stream",
          "text": [
            "Train Epoch 6: 100%|██████████| 154/154 [00:45<00:00,  3.38it/s, WMAPE=2.64, DICE=0.0701, DPEAKS=36.1, Loss=0.00597]\n",
            "Validate Epoch 6: 100%|██████████| 39/39 [00:06<00:00,  6.04it/s, WMAPE=1.54, DICE=0.0556, DPEAKS=32.3, Loss=0.0051]\n"
          ]
        },
        {
          "name": "stdout",
          "output_type": "stream",
          "text": [
            "Epoch [7/50]\n"
          ]
        },
        {
          "name": "stderr",
          "output_type": "stream",
          "text": [
            "Train Epoch 7: 100%|██████████| 154/154 [00:45<00:00,  3.39it/s, WMAPE=2.58, DICE=0.0702, DPEAKS=36.7, Loss=0.00601]\n",
            "Validate Epoch 7: 100%|██████████| 39/39 [00:06<00:00,  6.09it/s, WMAPE=1.69, DICE=0.0553, DPEAKS=32.3, Loss=0.00529]\n"
          ]
        },
        {
          "name": "stdout",
          "output_type": "stream",
          "text": [
            "Epoch [8/50]\n"
          ]
        },
        {
          "name": "stderr",
          "output_type": "stream",
          "text": [
            "Train Epoch 8: 100%|██████████| 154/154 [00:45<00:00,  3.42it/s, WMAPE=3.24, DICE=0.0702, DPEAKS=36.9, Loss=0.0061]\n",
            "Validate Epoch 8: 100%|██████████| 39/39 [00:06<00:00,  6.07it/s, WMAPE=1.68, DICE=0.0549, DPEAKS=32.2, Loss=0.00505]\n"
          ]
        },
        {
          "name": "stdout",
          "output_type": "stream",
          "text": [
            "early stopping: 5 epochs without improvement\n",
            "Training complete.\n"
          ]
        },
        {
          "name": "stderr",
          "output_type": "stream",
          "text": [
            "Validate Epoch test: 100%|██████████| 971/971 [03:28<00:00,  4.65it/s, WMAPE=1.67, DICE=0.0555, DPEAKS=29.1, Loss=0.00491]\n"
          ]
        },
        {
          "name": "stdout",
          "output_type": "stream",
          "text": [
            "Partition 67: training decoder\n",
            "Loaded best model from partition 66\n",
            "Epoch [1/50]\n"
          ]
        },
        {
          "name": "stderr",
          "output_type": "stream",
          "text": [
            "Train Epoch 1: 100%|██████████| 154/154 [00:52<00:00,  2.94it/s, WMAPE=3.2, DICE=0.0705, DPEAKS=37, Loss=0.0061]\n",
            "Validate Epoch 1: 100%|██████████| 39/39 [00:07<00:00,  5.02it/s, WMAPE=1.52, DICE=0.0554, DPEAKS=30.1, Loss=0.00505]\n"
          ]
        },
        {
          "name": "stdout",
          "output_type": "stream",
          "text": [
            "Saving best model\n",
            "Epoch [2/50]\n"
          ]
        },
        {
          "name": "stderr",
          "output_type": "stream",
          "text": [
            "Train Epoch 2: 100%|██████████| 154/154 [00:45<00:00,  3.39it/s, WMAPE=2.6, DICE=0.0701, DPEAKS=36.7, Loss=0.00602]\n",
            "Validate Epoch 2: 100%|██████████| 39/39 [00:06<00:00,  5.99it/s, WMAPE=1.75, DICE=0.0554, DPEAKS=30.2, Loss=0.00503]\n"
          ]
        },
        {
          "name": "stdout",
          "output_type": "stream",
          "text": [
            "Saving best model\n",
            "Epoch [3/50]\n"
          ]
        },
        {
          "name": "stderr",
          "output_type": "stream",
          "text": [
            "Train Epoch 3: 100%|██████████| 154/154 [00:45<00:00,  3.41it/s, WMAPE=4.4, DICE=0.0702, DPEAKS=37.3, Loss=0.00599]\n",
            "Validate Epoch 3: 100%|██████████| 39/39 [00:06<00:00,  6.12it/s, WMAPE=1.63, DICE=0.0557, DPEAKS=27.7, Loss=0.00483]\n"
          ]
        },
        {
          "name": "stdout",
          "output_type": "stream",
          "text": [
            "Saving best model\n",
            "Epoch [4/50]\n"
          ]
        },
        {
          "name": "stderr",
          "output_type": "stream",
          "text": [
            "Train Epoch 4: 100%|██████████| 154/154 [00:45<00:00,  3.40it/s, WMAPE=2.71, DICE=0.07, DPEAKS=38.3, Loss=0.0059]\n",
            "Validate Epoch 4: 100%|██████████| 39/39 [00:06<00:00,  5.96it/s, WMAPE=2.07, DICE=0.0558, DPEAKS=27.1, Loss=0.00664]\n"
          ]
        },
        {
          "name": "stdout",
          "output_type": "stream",
          "text": [
            "Epoch [5/50]\n"
          ]
        },
        {
          "name": "stderr",
          "output_type": "stream",
          "text": [
            "Train Epoch 5: 100%|██████████| 154/154 [00:45<00:00,  3.39it/s, WMAPE=3.12, DICE=0.0701, DPEAKS=38, Loss=0.00593]\n",
            "Validate Epoch 5: 100%|██████████| 39/39 [00:06<00:00,  5.94it/s, WMAPE=1.68, DICE=0.0552, DPEAKS=27.7, Loss=0.00538]\n"
          ]
        },
        {
          "name": "stdout",
          "output_type": "stream",
          "text": [
            "Epoch [6/50]\n"
          ]
        },
        {
          "name": "stderr",
          "output_type": "stream",
          "text": [
            "Train Epoch 6: 100%|██████████| 154/154 [00:45<00:00,  3.40it/s, WMAPE=2.56, DICE=0.07, DPEAKS=35.1, Loss=0.00593]\n",
            "Validate Epoch 6: 100%|██████████| 39/39 [00:06<00:00,  6.02it/s, WMAPE=1.52, DICE=0.0552, DPEAKS=28.1, Loss=0.00493]\n"
          ]
        },
        {
          "name": "stdout",
          "output_type": "stream",
          "text": [
            "Epoch [7/50]\n"
          ]
        },
        {
          "name": "stderr",
          "output_type": "stream",
          "text": [
            "Train Epoch 7: 100%|██████████| 154/154 [00:45<00:00,  3.39it/s, WMAPE=2.49, DICE=0.0702, DPEAKS=37.5, Loss=0.00596]\n",
            "Validate Epoch 7: 100%|██████████| 39/39 [00:06<00:00,  6.01it/s, WMAPE=1.87, DICE=0.0561, DPEAKS=29.4, Loss=0.00584]\n"
          ]
        },
        {
          "name": "stdout",
          "output_type": "stream",
          "text": [
            "Epoch [8/50]\n"
          ]
        },
        {
          "name": "stderr",
          "output_type": "stream",
          "text": [
            "Train Epoch 8: 100%|██████████| 154/154 [00:44<00:00,  3.42it/s, WMAPE=2.48, DICE=0.0701, DPEAKS=36, Loss=0.00596]\n",
            "Validate Epoch 8: 100%|██████████| 39/39 [00:06<00:00,  6.09it/s, WMAPE=1.61, DICE=0.0555, DPEAKS=28.8, Loss=0.00481]\n"
          ]
        },
        {
          "name": "stdout",
          "output_type": "stream",
          "text": [
            "Saving best model\n",
            "Epoch [9/50]\n"
          ]
        },
        {
          "name": "stderr",
          "output_type": "stream",
          "text": [
            "Train Epoch 9: 100%|██████████| 154/154 [00:45<00:00,  3.40it/s, WMAPE=2.59, DICE=0.0703, DPEAKS=36.8, Loss=0.00599]\n",
            "Validate Epoch 9: 100%|██████████| 39/39 [00:06<00:00,  6.01it/s, WMAPE=1.92, DICE=0.0551, DPEAKS=27.4, Loss=0.00555]\n"
          ]
        },
        {
          "name": "stdout",
          "output_type": "stream",
          "text": [
            "Epoch [10/50]\n"
          ]
        },
        {
          "name": "stderr",
          "output_type": "stream",
          "text": [
            "Train Epoch 10: 100%|██████████| 154/154 [00:45<00:00,  3.41it/s, WMAPE=2.38, DICE=0.0706, DPEAKS=37.4, Loss=0.00601]\n",
            "Validate Epoch 10: 100%|██████████| 39/39 [00:06<00:00,  5.90it/s, WMAPE=1.6, DICE=0.056, DPEAKS=26, Loss=0.00493]\n"
          ]
        },
        {
          "name": "stdout",
          "output_type": "stream",
          "text": [
            "Epoch [11/50]\n"
          ]
        },
        {
          "name": "stderr",
          "output_type": "stream",
          "text": [
            "Train Epoch 11: 100%|██████████| 154/154 [00:44<00:00,  3.43it/s, WMAPE=3.11, DICE=0.0702, DPEAKS=35.6, Loss=0.00598]\n",
            "Validate Epoch 11: 100%|██████████| 39/39 [00:06<00:00,  6.05it/s, WMAPE=1.81, DICE=0.0551, DPEAKS=26.1, Loss=0.00557]\n"
          ]
        },
        {
          "name": "stdout",
          "output_type": "stream",
          "text": [
            "Epoch [12/50]\n"
          ]
        },
        {
          "name": "stderr",
          "output_type": "stream",
          "text": [
            "Train Epoch 12: 100%|██████████| 154/154 [00:45<00:00,  3.41it/s, WMAPE=4.3, DICE=0.0701, DPEAKS=36.8, Loss=0.00595]\n",
            "Validate Epoch 12: 100%|██████████| 39/39 [00:06<00:00,  5.93it/s, WMAPE=1.71, DICE=0.0563, DPEAKS=28.8, Loss=0.00507]\n"
          ]
        },
        {
          "name": "stdout",
          "output_type": "stream",
          "text": [
            "Epoch [13/50]\n"
          ]
        },
        {
          "name": "stderr",
          "output_type": "stream",
          "text": [
            "Train Epoch 13: 100%|██████████| 154/154 [00:45<00:00,  3.42it/s, WMAPE=2.61, DICE=0.0702, DPEAKS=38.4, Loss=0.00597]\n",
            "Validate Epoch 13: 100%|██████████| 39/39 [00:06<00:00,  6.01it/s, WMAPE=1.69, DICE=0.056, DPEAKS=30.3, Loss=0.005]\n"
          ]
        },
        {
          "name": "stdout",
          "output_type": "stream",
          "text": [
            "early stopping: 5 epochs without improvement\n",
            "Training complete.\n"
          ]
        },
        {
          "name": "stderr",
          "output_type": "stream",
          "text": [
            "Validate Epoch test: 100%|██████████| 971/971 [03:28<00:00,  4.65it/s, WMAPE=1.61, DICE=0.0553, DPEAKS=28.6, Loss=0.00485]\n"
          ]
        },
        {
          "name": "stdout",
          "output_type": "stream",
          "text": [
            "Partition 68: training decoder\n",
            "Loaded best model from partition 67\n",
            "Epoch [1/50]\n"
          ]
        },
        {
          "name": "stderr",
          "output_type": "stream",
          "text": [
            "Train Epoch 1: 100%|██████████| 154/154 [00:51<00:00,  2.98it/s, WMAPE=2.92, DICE=0.0701, DPEAKS=35.8, Loss=0.0061]\n",
            "Validate Epoch 1: 100%|██████████| 39/39 [00:07<00:00,  5.00it/s, WMAPE=1.65, DICE=0.0553, DPEAKS=28.8, Loss=0.00536]\n"
          ]
        },
        {
          "name": "stdout",
          "output_type": "stream",
          "text": [
            "Saving best model\n",
            "Epoch [2/50]\n"
          ]
        },
        {
          "name": "stderr",
          "output_type": "stream",
          "text": [
            "Train Epoch 2: 100%|██████████| 154/154 [00:44<00:00,  3.43it/s, WMAPE=2.39, DICE=0.0698, DPEAKS=36.7, Loss=0.00591]\n",
            "Validate Epoch 2: 100%|██████████| 39/39 [00:06<00:00,  6.06it/s, WMAPE=1.89, DICE=0.0552, DPEAKS=28.9, Loss=0.00545]\n"
          ]
        },
        {
          "name": "stdout",
          "output_type": "stream",
          "text": [
            "Epoch [3/50]\n"
          ]
        },
        {
          "name": "stderr",
          "output_type": "stream",
          "text": [
            "Train Epoch 3: 100%|██████████| 154/154 [00:45<00:00,  3.41it/s, WMAPE=7.59, DICE=0.0701, DPEAKS=36.3, Loss=0.00598]\n",
            "Validate Epoch 3: 100%|██████████| 39/39 [00:06<00:00,  6.03it/s, WMAPE=1.85, DICE=0.0553, DPEAKS=29.4, Loss=0.00527]\n"
          ]
        },
        {
          "name": "stdout",
          "output_type": "stream",
          "text": [
            "Saving best model\n",
            "Epoch [4/50]\n"
          ]
        },
        {
          "name": "stderr",
          "output_type": "stream",
          "text": [
            "Train Epoch 4: 100%|██████████| 154/154 [00:45<00:00,  3.42it/s, WMAPE=2.42, DICE=0.0699, DPEAKS=35.3, Loss=0.00593]\n",
            "Validate Epoch 4: 100%|██████████| 39/39 [00:06<00:00,  6.05it/s, WMAPE=1.92, DICE=0.0558, DPEAKS=28.6, Loss=0.00536]\n"
          ]
        },
        {
          "name": "stdout",
          "output_type": "stream",
          "text": [
            "Epoch [5/50]\n"
          ]
        },
        {
          "name": "stderr",
          "output_type": "stream",
          "text": [
            "Train Epoch 5: 100%|██████████| 154/154 [00:45<00:00,  3.42it/s, WMAPE=2.98, DICE=0.0704, DPEAKS=36.7, Loss=0.00605]\n",
            "Validate Epoch 5: 100%|██████████| 39/39 [00:06<00:00,  6.08it/s, WMAPE=1.7, DICE=0.0552, DPEAKS=27.5, Loss=0.00492]\n"
          ]
        },
        {
          "name": "stdout",
          "output_type": "stream",
          "text": [
            "Saving best model\n",
            "Epoch [6/50]\n"
          ]
        },
        {
          "name": "stderr",
          "output_type": "stream",
          "text": [
            "Train Epoch 6: 100%|██████████| 154/154 [00:45<00:00,  3.42it/s, WMAPE=2.34, DICE=0.0698, DPEAKS=36.1, Loss=0.00593]\n",
            "Validate Epoch 6: 100%|██████████| 39/39 [00:06<00:00,  6.09it/s, WMAPE=1.83, DICE=0.0559, DPEAKS=31.9, Loss=0.00523]\n"
          ]
        },
        {
          "name": "stdout",
          "output_type": "stream",
          "text": [
            "Epoch [7/50]\n"
          ]
        },
        {
          "name": "stderr",
          "output_type": "stream",
          "text": [
            "Train Epoch 7: 100%|██████████| 154/154 [00:45<00:00,  3.38it/s, WMAPE=2.75, DICE=0.0699, DPEAKS=36.3, Loss=0.00595]\n",
            "Validate Epoch 7: 100%|██████████| 39/39 [00:06<00:00,  5.93it/s, WMAPE=1.64, DICE=0.0549, DPEAKS=30.3, Loss=0.00491]\n"
          ]
        },
        {
          "name": "stdout",
          "output_type": "stream",
          "text": [
            "Saving best model\n",
            "Epoch [8/50]\n"
          ]
        },
        {
          "name": "stderr",
          "output_type": "stream",
          "text": [
            "Train Epoch 8: 100%|██████████| 154/154 [00:45<00:00,  3.38it/s, WMAPE=3.21, DICE=0.0699, DPEAKS=36.3, Loss=0.00593]\n",
            "Validate Epoch 8: 100%|██████████| 39/39 [00:06<00:00,  6.01it/s, WMAPE=1.74, DICE=0.0564, DPEAKS=29.2, Loss=0.00507]\n"
          ]
        },
        {
          "name": "stdout",
          "output_type": "stream",
          "text": [
            "Epoch [9/50]\n"
          ]
        },
        {
          "name": "stderr",
          "output_type": "stream",
          "text": [
            "Train Epoch 9: 100%|██████████| 154/154 [00:45<00:00,  3.41it/s, WMAPE=2.68, DICE=0.07, DPEAKS=37.1, Loss=0.00599]\n",
            "Validate Epoch 9: 100%|██████████| 39/39 [00:06<00:00,  6.09it/s, WMAPE=2.78, DICE=0.0557, DPEAKS=30.7, Loss=0.00792]\n"
          ]
        },
        {
          "name": "stdout",
          "output_type": "stream",
          "text": [
            "Epoch [10/50]\n"
          ]
        },
        {
          "name": "stderr",
          "output_type": "stream",
          "text": [
            "Train Epoch 10: 100%|██████████| 154/154 [00:45<00:00,  3.41it/s, WMAPE=2.87, DICE=0.07, DPEAKS=35.1, Loss=0.00593]\n",
            "Validate Epoch 10: 100%|██████████| 39/39 [00:06<00:00,  6.08it/s, WMAPE=1.99, DICE=0.0556, DPEAKS=26.7, Loss=0.00577]\n"
          ]
        },
        {
          "name": "stdout",
          "output_type": "stream",
          "text": [
            "Epoch [11/50]\n"
          ]
        },
        {
          "name": "stderr",
          "output_type": "stream",
          "text": [
            "Train Epoch 11: 100%|██████████| 154/154 [00:45<00:00,  3.41it/s, WMAPE=2.37, DICE=0.0697, DPEAKS=38, Loss=0.00586]\n",
            "Validate Epoch 11: 100%|██████████| 39/39 [00:06<00:00,  5.91it/s, WMAPE=1.75, DICE=0.0551, DPEAKS=28.4, Loss=0.00512]\n"
          ]
        },
        {
          "name": "stdout",
          "output_type": "stream",
          "text": [
            "Epoch [12/50]\n"
          ]
        },
        {
          "name": "stderr",
          "output_type": "stream",
          "text": [
            "Train Epoch 12: 100%|██████████| 154/154 [00:45<00:00,  3.40it/s, WMAPE=2.62, DICE=0.0699, DPEAKS=36.9, Loss=0.00596]\n",
            "Validate Epoch 12: 100%|██████████| 39/39 [00:06<00:00,  6.04it/s, WMAPE=1.85, DICE=0.0548, DPEAKS=27.3, Loss=0.00529]\n"
          ]
        },
        {
          "name": "stdout",
          "output_type": "stream",
          "text": [
            "early stopping: 5 epochs without improvement\n",
            "Training complete.\n"
          ]
        },
        {
          "name": "stderr",
          "output_type": "stream",
          "text": [
            "Validate Epoch test: 100%|██████████| 971/971 [03:28<00:00,  4.66it/s, WMAPE=1.61, DICE=0.0548, DPEAKS=29.8, Loss=0.00489]\n"
          ]
        },
        {
          "name": "stdout",
          "output_type": "stream",
          "text": [
            "Partition 69: training decoder\n",
            "Loaded best model from partition 68\n",
            "Epoch [1/50]\n"
          ]
        },
        {
          "name": "stderr",
          "output_type": "stream",
          "text": [
            "Train Epoch 1: 100%|██████████| 154/154 [00:51<00:00,  2.98it/s, WMAPE=3.03, DICE=0.0699, DPEAKS=38, Loss=0.00604]\n",
            "Validate Epoch 1: 100%|██████████| 39/39 [00:07<00:00,  5.04it/s, WMAPE=1.63, DICE=0.0561, DPEAKS=34.1, Loss=0.0049]\n"
          ]
        },
        {
          "name": "stdout",
          "output_type": "stream",
          "text": [
            "Saving best model\n",
            "Epoch [2/50]\n"
          ]
        },
        {
          "name": "stderr",
          "output_type": "stream",
          "text": [
            "Train Epoch 2: 100%|██████████| 154/154 [00:45<00:00,  3.42it/s, WMAPE=2.76, DICE=0.0697, DPEAKS=37, Loss=0.00603]\n",
            "Validate Epoch 2: 100%|██████████| 39/39 [00:06<00:00,  6.05it/s, WMAPE=1.87, DICE=0.0553, DPEAKS=31, Loss=0.0055]\n"
          ]
        },
        {
          "name": "stdout",
          "output_type": "stream",
          "text": [
            "Epoch [3/50]\n"
          ]
        },
        {
          "name": "stderr",
          "output_type": "stream",
          "text": [
            "Train Epoch 3: 100%|██████████| 154/154 [00:45<00:00,  3.39it/s, WMAPE=2.98, DICE=0.0692, DPEAKS=36.6, Loss=0.00598]\n",
            "Validate Epoch 3: 100%|██████████| 39/39 [00:06<00:00,  5.63it/s, WMAPE=1.64, DICE=0.0556, DPEAKS=33.8, Loss=0.00491]\n"
          ]
        },
        {
          "name": "stdout",
          "output_type": "stream",
          "text": [
            "Epoch [4/50]\n"
          ]
        },
        {
          "name": "stderr",
          "output_type": "stream",
          "text": [
            "Train Epoch 4: 100%|██████████| 154/154 [00:46<00:00,  3.34it/s, WMAPE=3.09, DICE=0.0695, DPEAKS=37.2, Loss=0.006]\n",
            "Validate Epoch 4: 100%|██████████| 39/39 [00:06<00:00,  6.01it/s, WMAPE=1.8, DICE=0.055, DPEAKS=32.4, Loss=0.00531]\n"
          ]
        },
        {
          "name": "stdout",
          "output_type": "stream",
          "text": [
            "Epoch [5/50]\n"
          ]
        },
        {
          "name": "stderr",
          "output_type": "stream",
          "text": [
            "Train Epoch 5: 100%|██████████| 154/154 [00:45<00:00,  3.37it/s, WMAPE=2.41, DICE=0.0698, DPEAKS=38, Loss=0.00599]\n",
            "Validate Epoch 5: 100%|██████████| 39/39 [00:06<00:00,  6.06it/s, WMAPE=1.55, DICE=0.0552, DPEAKS=34, Loss=0.00486]\n"
          ]
        },
        {
          "name": "stdout",
          "output_type": "stream",
          "text": [
            "Saving best model\n",
            "Epoch [6/50]\n"
          ]
        },
        {
          "name": "stderr",
          "output_type": "stream",
          "text": [
            "Train Epoch 6: 100%|██████████| 154/154 [00:46<00:00,  3.30it/s, WMAPE=3.5, DICE=0.0701, DPEAKS=38.8, Loss=0.00601]\n",
            "Validate Epoch 6: 100%|██████████| 39/39 [00:06<00:00,  5.68it/s, WMAPE=1.65, DICE=0.0561, DPEAKS=33, Loss=0.00492]\n"
          ]
        },
        {
          "name": "stdout",
          "output_type": "stream",
          "text": [
            "Epoch [7/50]\n"
          ]
        },
        {
          "name": "stderr",
          "output_type": "stream",
          "text": [
            "Train Epoch 7: 100%|██████████| 154/154 [00:48<00:00,  3.19it/s, WMAPE=5.91, DICE=0.0698, DPEAKS=38.1, Loss=0.00592]\n",
            "Validate Epoch 7: 100%|██████████| 39/39 [00:06<00:00,  5.70it/s, WMAPE=1.61, DICE=0.0556, DPEAKS=33.8, Loss=0.00483]\n"
          ]
        },
        {
          "name": "stdout",
          "output_type": "stream",
          "text": [
            "Saving best model\n",
            "Epoch [8/50]\n"
          ]
        },
        {
          "name": "stderr",
          "output_type": "stream",
          "text": [
            "Train Epoch 8: 100%|██████████| 154/154 [00:48<00:00,  3.20it/s, WMAPE=2.54, DICE=0.07, DPEAKS=38.2, Loss=0.00611]\n",
            "Validate Epoch 8: 100%|██████████| 39/39 [00:06<00:00,  5.69it/s, WMAPE=1.67, DICE=0.0573, DPEAKS=36.7, Loss=0.00493]\n"
          ]
        },
        {
          "name": "stdout",
          "output_type": "stream",
          "text": [
            "Epoch [9/50]\n"
          ]
        },
        {
          "name": "stderr",
          "output_type": "stream",
          "text": [
            "Train Epoch 9: 100%|██████████| 154/154 [00:48<00:00,  3.20it/s, WMAPE=2.41, DICE=0.0696, DPEAKS=35.4, Loss=0.00596]\n",
            "Validate Epoch 9: 100%|██████████| 39/39 [00:06<00:00,  5.72it/s, WMAPE=1.88, DICE=0.0566, DPEAKS=31.7, Loss=0.00547]\n"
          ]
        },
        {
          "name": "stdout",
          "output_type": "stream",
          "text": [
            "Epoch [10/50]\n"
          ]
        },
        {
          "name": "stderr",
          "output_type": "stream",
          "text": [
            "Train Epoch 10: 100%|██████████| 154/154 [00:48<00:00,  3.20it/s, WMAPE=2.92, DICE=0.0698, DPEAKS=38.1, Loss=0.00599]\n",
            "Validate Epoch 10: 100%|██████████| 39/39 [00:06<00:00,  5.68it/s, WMAPE=1.62, DICE=0.0556, DPEAKS=35.3, Loss=0.0049]\n"
          ]
        },
        {
          "name": "stdout",
          "output_type": "stream",
          "text": [
            "Epoch [11/50]\n"
          ]
        },
        {
          "name": "stderr",
          "output_type": "stream",
          "text": [
            "Train Epoch 11: 100%|██████████| 154/154 [00:48<00:00,  3.21it/s, WMAPE=3.06, DICE=0.0696, DPEAKS=36.3, Loss=0.00595]\n",
            "Validate Epoch 11: 100%|██████████| 39/39 [00:06<00:00,  5.73it/s, WMAPE=1.66, DICE=0.0561, DPEAKS=31.8, Loss=0.00504]\n"
          ]
        },
        {
          "name": "stdout",
          "output_type": "stream",
          "text": [
            "Epoch [12/50]\n"
          ]
        },
        {
          "name": "stderr",
          "output_type": "stream",
          "text": [
            "Train Epoch 12: 100%|██████████| 154/154 [00:47<00:00,  3.22it/s, WMAPE=3.34, DICE=0.0698, DPEAKS=36.6, Loss=0.00607]\n",
            "Validate Epoch 12: 100%|██████████| 39/39 [00:06<00:00,  5.83it/s, WMAPE=1.73, DICE=0.0553, DPEAKS=32.9, Loss=0.00501]\n"
          ]
        },
        {
          "name": "stdout",
          "output_type": "stream",
          "text": [
            "early stopping: 5 epochs without improvement\n",
            "Training complete.\n"
          ]
        },
        {
          "name": "stderr",
          "output_type": "stream",
          "text": [
            "Validate Epoch test: 100%|██████████| 971/971 [03:40<00:00,  4.41it/s, WMAPE=1.64, DICE=0.0552, DPEAKS=28.5, Loss=0.00489]\n"
          ]
        },
        {
          "name": "stdout",
          "output_type": "stream",
          "text": [
            "Partition 70: training decoder\n",
            "Loaded best model from partition 69\n",
            "Epoch [1/50]\n"
          ]
        },
        {
          "name": "stderr",
          "output_type": "stream",
          "text": [
            "Train Epoch 1: 100%|██████████| 154/154 [00:53<00:00,  2.88it/s, WMAPE=3.32, DICE=0.0699, DPEAKS=37.2, Loss=0.00595]\n",
            "Validate Epoch 1: 100%|██████████| 39/39 [00:07<00:00,  5.07it/s, WMAPE=1.66, DICE=0.0562, DPEAKS=26.3, Loss=0.00505]\n"
          ]
        },
        {
          "name": "stdout",
          "output_type": "stream",
          "text": [
            "Saving best model\n",
            "Epoch [2/50]\n"
          ]
        },
        {
          "name": "stderr",
          "output_type": "stream",
          "text": [
            "Train Epoch 2: 100%|██████████| 154/154 [00:45<00:00,  3.40it/s, WMAPE=2.25, DICE=0.0699, DPEAKS=35.4, Loss=0.00588]\n",
            "Validate Epoch 2: 100%|██████████| 39/39 [00:06<00:00,  6.05it/s, WMAPE=2.37, DICE=0.0552, DPEAKS=26.3, Loss=0.00673]\n"
          ]
        },
        {
          "name": "stdout",
          "output_type": "stream",
          "text": [
            "Epoch [3/50]\n"
          ]
        },
        {
          "name": "stderr",
          "output_type": "stream",
          "text": [
            "Train Epoch 3: 100%|██████████| 154/154 [00:45<00:00,  3.39it/s, WMAPE=2.58, DICE=0.0698, DPEAKS=36, Loss=0.00597]\n",
            "Validate Epoch 3: 100%|██████████| 39/39 [00:06<00:00,  6.08it/s, WMAPE=1.89, DICE=0.0552, DPEAKS=25, Loss=0.00573]\n"
          ]
        },
        {
          "name": "stdout",
          "output_type": "stream",
          "text": [
            "Epoch [4/50]\n"
          ]
        },
        {
          "name": "stderr",
          "output_type": "stream",
          "text": [
            "Train Epoch 4: 100%|██████████| 154/154 [00:45<00:00,  3.38it/s, WMAPE=2.44, DICE=0.07, DPEAKS=36.1, Loss=0.00592]\n",
            "Validate Epoch 4: 100%|██████████| 39/39 [00:06<00:00,  5.78it/s, WMAPE=1.62, DICE=0.0554, DPEAKS=24.5, Loss=0.00503]\n"
          ]
        },
        {
          "name": "stdout",
          "output_type": "stream",
          "text": [
            "Saving best model\n",
            "Epoch [5/50]\n"
          ]
        },
        {
          "name": "stderr",
          "output_type": "stream",
          "text": [
            "Train Epoch 5: 100%|██████████| 154/154 [00:46<00:00,  3.31it/s, WMAPE=2.32, DICE=0.07, DPEAKS=35.4, Loss=0.00585]\n",
            "Validate Epoch 5: 100%|██████████| 39/39 [00:06<00:00,  6.07it/s, WMAPE=1.49, DICE=0.0554, DPEAKS=26.5, Loss=0.00486]\n"
          ]
        },
        {
          "name": "stdout",
          "output_type": "stream",
          "text": [
            "Saving best model\n",
            "Epoch [6/50]\n"
          ]
        },
        {
          "name": "stderr",
          "output_type": "stream",
          "text": [
            "Train Epoch 6: 100%|██████████| 154/154 [00:47<00:00,  3.22it/s, WMAPE=2.68, DICE=0.0697, DPEAKS=36.7, Loss=0.00593]\n",
            "Validate Epoch 6: 100%|██████████| 39/39 [00:06<00:00,  5.75it/s, WMAPE=1.72, DICE=0.0554, DPEAKS=25.7, Loss=0.00588]\n"
          ]
        },
        {
          "name": "stdout",
          "output_type": "stream",
          "text": [
            "Epoch [7/50]\n"
          ]
        },
        {
          "name": "stderr",
          "output_type": "stream",
          "text": [
            "Train Epoch 7: 100%|██████████| 154/154 [00:47<00:00,  3.21it/s, WMAPE=2.6, DICE=0.0701, DPEAKS=34.5, Loss=0.00589]\n",
            "Validate Epoch 7: 100%|██████████| 39/39 [00:06<00:00,  5.68it/s, WMAPE=1.92, DICE=0.0551, DPEAKS=28.6, Loss=0.00578]\n"
          ]
        },
        {
          "name": "stdout",
          "output_type": "stream",
          "text": [
            "Epoch [8/50]\n"
          ]
        },
        {
          "name": "stderr",
          "output_type": "stream",
          "text": [
            "Train Epoch 8: 100%|██████████| 154/154 [00:48<00:00,  3.21it/s, WMAPE=2.66, DICE=0.0696, DPEAKS=36.4, Loss=0.00587]\n",
            "Validate Epoch 8: 100%|██████████| 39/39 [00:06<00:00,  5.65it/s, WMAPE=1.61, DICE=0.0549, DPEAKS=27.1, Loss=0.00503]\n"
          ]
        },
        {
          "name": "stdout",
          "output_type": "stream",
          "text": [
            "Epoch [9/50]\n"
          ]
        },
        {
          "name": "stderr",
          "output_type": "stream",
          "text": [
            "Train Epoch 9: 100%|██████████| 154/154 [00:48<00:00,  3.19it/s, WMAPE=2.48, DICE=0.0701, DPEAKS=35, Loss=0.00587]\n",
            "Validate Epoch 9: 100%|██████████| 39/39 [00:06<00:00,  5.65it/s, WMAPE=1.53, DICE=0.0553, DPEAKS=25.1, Loss=0.00475]\n"
          ]
        },
        {
          "name": "stdout",
          "output_type": "stream",
          "text": [
            "Saving best model\n",
            "Epoch [10/50]\n"
          ]
        },
        {
          "name": "stderr",
          "output_type": "stream",
          "text": [
            "Train Epoch 10: 100%|██████████| 154/154 [00:48<00:00,  3.19it/s, WMAPE=2.38, DICE=0.07, DPEAKS=34.9, Loss=0.00586]\n",
            "Validate Epoch 10: 100%|██████████| 39/39 [00:06<00:00,  5.62it/s, WMAPE=1.56, DICE=0.0561, DPEAKS=27.1, Loss=0.00483]\n"
          ]
        },
        {
          "name": "stdout",
          "output_type": "stream",
          "text": [
            "Epoch [11/50]\n"
          ]
        },
        {
          "name": "stderr",
          "output_type": "stream",
          "text": [
            "Train Epoch 11: 100%|██████████| 154/154 [00:48<00:00,  3.20it/s, WMAPE=3.34, DICE=0.0702, DPEAKS=34.6, Loss=0.0059]\n",
            "Validate Epoch 11: 100%|██████████| 39/39 [00:06<00:00,  5.73it/s, WMAPE=1.49, DICE=0.0555, DPEAKS=27, Loss=0.00477]\n"
          ]
        },
        {
          "name": "stdout",
          "output_type": "stream",
          "text": [
            "Epoch [12/50]\n"
          ]
        },
        {
          "name": "stderr",
          "output_type": "stream",
          "text": [
            "Train Epoch 12: 100%|██████████| 154/154 [00:48<00:00,  3.20it/s, WMAPE=2.8, DICE=0.07, DPEAKS=37.2, Loss=0.00597]\n",
            "Validate Epoch 12: 100%|██████████| 39/39 [00:06<00:00,  5.72it/s, WMAPE=2.05, DICE=0.0562, DPEAKS=28.5, Loss=0.00615]\n"
          ]
        },
        {
          "name": "stdout",
          "output_type": "stream",
          "text": [
            "Epoch [13/50]\n"
          ]
        },
        {
          "name": "stderr",
          "output_type": "stream",
          "text": [
            "Train Epoch 13: 100%|██████████| 154/154 [00:48<00:00,  3.19it/s, WMAPE=3.46, DICE=0.0701, DPEAKS=34.7, Loss=0.00585]\n",
            "Validate Epoch 13: 100%|██████████| 39/39 [00:06<00:00,  5.69it/s, WMAPE=1.67, DICE=0.0551, DPEAKS=27.7, Loss=0.00499]\n"
          ]
        },
        {
          "name": "stdout",
          "output_type": "stream",
          "text": [
            "Epoch [14/50]\n"
          ]
        },
        {
          "name": "stderr",
          "output_type": "stream",
          "text": [
            "Train Epoch 14: 100%|██████████| 154/154 [00:48<00:00,  3.19it/s, WMAPE=2.58, DICE=0.0698, DPEAKS=36.2, Loss=0.00589]\n",
            "Validate Epoch 14: 100%|██████████| 39/39 [00:06<00:00,  5.70it/s, WMAPE=1.89, DICE=0.0567, DPEAKS=29.9, Loss=0.00585]\n"
          ]
        },
        {
          "name": "stdout",
          "output_type": "stream",
          "text": [
            "early stopping: 5 epochs without improvement\n",
            "Training complete.\n"
          ]
        },
        {
          "name": "stderr",
          "output_type": "stream",
          "text": [
            "Validate Epoch test: 100%|██████████| 971/971 [03:41<00:00,  4.38it/s, WMAPE=1.6, DICE=0.0551, DPEAKS=28.6, Loss=0.00481]\n"
          ]
        }
      ],
      "source": [
        "many_partitions_v2(51,71,model,criterion,transform=transform,full_frecuency=99)"
      ]
    },
    {
      "cell_type": "code",
      "execution_count": 15,
      "metadata": {},
      "outputs": [
        {
          "name": "stdout",
          "output_type": "stream",
          "text": [
            "Partition 71: training decoder\n",
            "Loaded best model from partition 70\n",
            "Epoch [1/50]\n"
          ]
        },
        {
          "name": "stderr",
          "output_type": "stream",
          "text": [
            "Train Epoch 1: 100%|██████████| 154/154 [00:55<00:00,  2.78it/s, WMAPE=2.29, DICE=0.07, DPEAKS=36.7, Loss=0.00597]\n",
            "Validate Epoch 1: 100%|██████████| 39/39 [00:08<00:00,  4.84it/s, WMAPE=1.76, DICE=0.0561, DPEAKS=29.4, Loss=0.00555]\n"
          ]
        },
        {
          "name": "stdout",
          "output_type": "stream",
          "text": [
            "Saving best model\n",
            "Epoch [2/50]\n"
          ]
        },
        {
          "name": "stderr",
          "output_type": "stream",
          "text": [
            "Train Epoch 2: 100%|██████████| 154/154 [00:47<00:00,  3.22it/s, WMAPE=2.51, DICE=0.07, DPEAKS=36.4, Loss=0.00597]\n",
            "Validate Epoch 2: 100%|██████████| 39/39 [00:06<00:00,  5.76it/s, WMAPE=1.72, DICE=0.0552, DPEAKS=28.2, Loss=0.00509]\n"
          ]
        },
        {
          "name": "stdout",
          "output_type": "stream",
          "text": [
            "Saving best model\n",
            "Epoch [3/50]\n"
          ]
        },
        {
          "name": "stderr",
          "output_type": "stream",
          "text": [
            "Train Epoch 3: 100%|██████████| 154/154 [00:47<00:00,  3.24it/s, WMAPE=2.57, DICE=0.07, DPEAKS=35.7, Loss=0.00603]\n",
            "Validate Epoch 3: 100%|██████████| 39/39 [00:06<00:00,  5.60it/s, WMAPE=1.66, DICE=0.0561, DPEAKS=27.9, Loss=0.00519]\n"
          ]
        },
        {
          "name": "stdout",
          "output_type": "stream",
          "text": [
            "Epoch [4/50]\n"
          ]
        },
        {
          "name": "stderr",
          "output_type": "stream",
          "text": [
            "Train Epoch 4: 100%|██████████| 154/154 [00:47<00:00,  3.22it/s, WMAPE=2.64, DICE=0.0697, DPEAKS=37.1, Loss=0.00594]\n",
            "Validate Epoch 4: 100%|██████████| 39/39 [00:06<00:00,  5.73it/s, WMAPE=1.54, DICE=0.0551, DPEAKS=29.6, Loss=0.00519]\n"
          ]
        },
        {
          "name": "stdout",
          "output_type": "stream",
          "text": [
            "Epoch [5/50]\n"
          ]
        },
        {
          "name": "stderr",
          "output_type": "stream",
          "text": [
            "Train Epoch 5: 100%|██████████| 154/154 [00:44<00:00,  3.45it/s, WMAPE=3.05, DICE=0.0699, DPEAKS=37.1, Loss=0.00596]\n",
            "Validate Epoch 5: 100%|██████████| 39/39 [00:06<00:00,  6.06it/s, WMAPE=1.71, DICE=0.0547, DPEAKS=27.9, Loss=0.00499]\n"
          ]
        },
        {
          "name": "stdout",
          "output_type": "stream",
          "text": [
            "Saving best model\n",
            "Epoch [6/50]\n"
          ]
        },
        {
          "name": "stderr",
          "output_type": "stream",
          "text": [
            "Train Epoch 6: 100%|██████████| 154/154 [00:44<00:00,  3.44it/s, WMAPE=3.13, DICE=0.0698, DPEAKS=37.6, Loss=0.0059]\n",
            "Validate Epoch 6: 100%|██████████| 39/39 [00:06<00:00,  6.12it/s, WMAPE=1.67, DICE=0.0553, DPEAKS=27.2, Loss=0.00497]\n"
          ]
        },
        {
          "name": "stdout",
          "output_type": "stream",
          "text": [
            "Saving best model\n",
            "Epoch [7/50]\n"
          ]
        },
        {
          "name": "stderr",
          "output_type": "stream",
          "text": [
            "Train Epoch 7: 100%|██████████| 154/154 [00:44<00:00,  3.45it/s, WMAPE=2.8, DICE=0.0699, DPEAKS=38, Loss=0.00587]\n",
            "Validate Epoch 7: 100%|██████████| 39/39 [00:06<00:00,  5.91it/s, WMAPE=1.7, DICE=0.0551, DPEAKS=28.4, Loss=0.00502]\n"
          ]
        },
        {
          "name": "stdout",
          "output_type": "stream",
          "text": [
            "Epoch [8/50]\n"
          ]
        },
        {
          "name": "stderr",
          "output_type": "stream",
          "text": [
            "Train Epoch 8: 100%|██████████| 154/154 [00:44<00:00,  3.46it/s, WMAPE=2.28, DICE=0.07, DPEAKS=36.5, Loss=0.00593]\n",
            "Validate Epoch 8: 100%|██████████| 39/39 [00:06<00:00,  6.11it/s, WMAPE=1.91, DICE=0.0561, DPEAKS=30.5, Loss=0.0055]\n"
          ]
        },
        {
          "name": "stdout",
          "output_type": "stream",
          "text": [
            "Epoch [9/50]\n"
          ]
        },
        {
          "name": "stderr",
          "output_type": "stream",
          "text": [
            "Train Epoch 9: 100%|██████████| 154/154 [00:44<00:00,  3.44it/s, WMAPE=2.52, DICE=0.07, DPEAKS=36.1, Loss=0.00592]\n",
            "Validate Epoch 9: 100%|██████████| 39/39 [00:06<00:00,  5.99it/s, WMAPE=1.79, DICE=0.0559, DPEAKS=29, Loss=0.00521]\n"
          ]
        },
        {
          "name": "stdout",
          "output_type": "stream",
          "text": [
            "Epoch [10/50]\n"
          ]
        },
        {
          "name": "stderr",
          "output_type": "stream",
          "text": [
            "Train Epoch 10: 100%|██████████| 154/154 [00:44<00:00,  3.46it/s, WMAPE=2.53, DICE=0.0703, DPEAKS=38.1, Loss=0.00601]\n",
            "Validate Epoch 10: 100%|██████████| 39/39 [00:06<00:00,  6.15it/s, WMAPE=1.76, DICE=0.0551, DPEAKS=27.6, Loss=0.00505]\n"
          ]
        },
        {
          "name": "stdout",
          "output_type": "stream",
          "text": [
            "Epoch [11/50]\n"
          ]
        },
        {
          "name": "stderr",
          "output_type": "stream",
          "text": [
            "Train Epoch 11: 100%|██████████| 154/154 [00:44<00:00,  3.46it/s, WMAPE=2.52, DICE=0.0701, DPEAKS=36.2, Loss=0.00593]\n",
            "Validate Epoch 11: 100%|██████████| 39/39 [00:06<00:00,  6.01it/s, WMAPE=1.71, DICE=0.0551, DPEAKS=29.3, Loss=0.00519]\n"
          ]
        },
        {
          "name": "stdout",
          "output_type": "stream",
          "text": [
            "early stopping: 5 epochs without improvement\n",
            "Training complete.\n"
          ]
        },
        {
          "name": "stderr",
          "output_type": "stream",
          "text": [
            "Validate Epoch test: 100%|██████████| 971/971 [03:28<00:00,  4.65it/s, WMAPE=1.61, DICE=0.055, DPEAKS=28.2, Loss=0.00486]\n"
          ]
        },
        {
          "name": "stdout",
          "output_type": "stream",
          "text": [
            "Partition 72: training decoder\n",
            "Loaded best model from partition 71\n",
            "Epoch [1/50]\n"
          ]
        },
        {
          "name": "stderr",
          "output_type": "stream",
          "text": [
            "Train Epoch 1:   9%|▉         | 14/154 [00:04<00:49,  2.82it/s, loss=0.00647]"
          ]
        },
        {
          "ename": "KeyboardInterrupt",
          "evalue": "",
          "output_type": "error",
          "traceback": [
            "\u001b[0;31m---------------------------------------------------------------------------\u001b[0m",
            "\u001b[0;31mKeyboardInterrupt\u001b[0m                         Traceback (most recent call last)",
            "Cell \u001b[0;32mIn[15], line 1\u001b[0m\n\u001b[0;32m----> 1\u001b[0m \u001b[43mmany_partitions_v2\u001b[49m\u001b[43m(\u001b[49m\u001b[38;5;241;43m71\u001b[39;49m\u001b[43m,\u001b[49m\u001b[38;5;241;43m91\u001b[39;49m\u001b[43m,\u001b[49m\u001b[43mmodel\u001b[49m\u001b[43m,\u001b[49m\u001b[43mcriterion\u001b[49m\u001b[43m,\u001b[49m\u001b[43mtransform\u001b[49m\u001b[38;5;241;43m=\u001b[39;49m\u001b[43mtransform\u001b[49m\u001b[43m,\u001b[49m\u001b[43mfull_frecuency\u001b[49m\u001b[38;5;241;43m=\u001b[39;49m\u001b[38;5;241;43m99\u001b[39;49m\u001b[43m)\u001b[49m\n",
            "Cell \u001b[0;32mIn[9], line 25\u001b[0m, in \u001b[0;36mmany_partitions_v2\u001b[0;34m(start, end, model, criterion, transform, full_frecuency)\u001b[0m\n\u001b[1;32m     21\u001b[0m last_checkpoint_path \u001b[38;5;241m=\u001b[39m os\u001b[38;5;241m.\u001b[39mpath\u001b[38;5;241m.\u001b[39mjoin(\n\u001b[1;32m     22\u001b[0m     \u001b[38;5;124m\"\u001b[39m\u001b[38;5;124mmodels\u001b[39m\u001b[38;5;124m\"\u001b[39m, \u001b[38;5;124mf\u001b[39m\u001b[38;5;124m\"\u001b[39m\u001b[38;5;124mlast_checkpoint_partition_\u001b[39m\u001b[38;5;132;01m{\u001b[39;00mcurrent_partition\u001b[38;5;132;01m}\u001b[39;00m\u001b[38;5;124m.pth\u001b[39m\u001b[38;5;124m\"\u001b[39m\n\u001b[1;32m     23\u001b[0m )\n\u001b[1;32m     24\u001b[0m optimizer \u001b[38;5;241m=\u001b[39m optim\u001b[38;5;241m.\u001b[39mAdamW(model\u001b[38;5;241m.\u001b[39mparameters())\n\u001b[0;32m---> 25\u001b[0m \u001b[43mtrain_model\u001b[49m\u001b[43m(\u001b[49m\n\u001b[1;32m     26\u001b[0m \u001b[43m    \u001b[49m\u001b[43mmodel\u001b[49m\u001b[43m,\u001b[49m\n\u001b[1;32m     27\u001b[0m \u001b[43m    \u001b[49m\u001b[43mtrain_loader\u001b[49m\u001b[43m,\u001b[49m\n\u001b[1;32m     28\u001b[0m \u001b[43m    \u001b[49m\u001b[43mval_loader\u001b[49m\u001b[43m,\u001b[49m\n\u001b[1;32m     29\u001b[0m \u001b[43m    \u001b[49m\u001b[43mbest_model_path\u001b[49m\u001b[43m,\u001b[49m\n\u001b[1;32m     30\u001b[0m \u001b[43m    \u001b[49m\u001b[43mlast_checkpoint_path\u001b[49m\u001b[43m,\u001b[49m\n\u001b[1;32m     31\u001b[0m \u001b[43m    \u001b[49m\u001b[43mcriterion\u001b[49m\u001b[43m,\u001b[49m\n\u001b[1;32m     32\u001b[0m \u001b[43m    \u001b[49m\u001b[43moptimizer\u001b[49m\u001b[43m,\u001b[49m\n\u001b[1;32m     33\u001b[0m \u001b[43m    \u001b[49m\u001b[43mnum_epochs\u001b[49m\u001b[38;5;241;43m=\u001b[39;49m\u001b[38;5;241;43m50\u001b[39;49m\u001b[43m,\u001b[49m\n\u001b[1;32m     34\u001b[0m \u001b[43m    \u001b[49m\u001b[43mdevice\u001b[49m\u001b[38;5;241;43m=\u001b[39;49m\u001b[43mDEVICE\u001b[49m\u001b[43m,\u001b[49m\n\u001b[1;32m     35\u001b[0m \u001b[43m    \u001b[49m\u001b[43mearly_stopping_patience\u001b[49m\u001b[38;5;241;43m=\u001b[39;49m\u001b[43mEARLY_STOPPING_PATIENCE\u001b[49m\u001b[43m,\u001b[49m\n\u001b[1;32m     36\u001b[0m \u001b[43m    \u001b[49m\u001b[43muse_autocast\u001b[49m\u001b[38;5;241;43m=\u001b[39;49m\u001b[43mUSE_AUTOCAST\u001b[49m\u001b[43m,\u001b[49m\n\u001b[1;32m     37\u001b[0m \u001b[43m    \u001b[49m\u001b[43mearly_stopping_grace_period\u001b[49m\u001b[38;5;241;43m=\u001b[39;49m\u001b[43mEARLY_STOPPING_GRACE_PERIOD\u001b[49m\u001b[43m,\u001b[49m\n\u001b[1;32m     38\u001b[0m \u001b[43m\u001b[49m\u001b[43m)\u001b[49m\n\u001b[1;32m     39\u001b[0m \u001b[38;5;28;01mif\u001b[39;00m os\u001b[38;5;241m.\u001b[39mpath\u001b[38;5;241m.\u001b[39mexists(best_model_path):\n\u001b[1;32m     40\u001b[0m     model\u001b[38;5;241m.\u001b[39mload_state_dict(torch\u001b[38;5;241m.\u001b[39mload(best_model_path,weights_only\u001b[38;5;241m=\u001b[39m\u001b[38;5;28;01mTrue\u001b[39;00m))\n",
            "File \u001b[0;32m~/Documents/dataton/common/purrfect/training.py:123\u001b[0m, in \u001b[0;36mtrain_model\u001b[0;34m(model, train_loader, val_loader, best_model_path, last_checkpoint_path, criterion, optimizer, num_epochs, device, early_stopping_patience, use_autocast, early_stopping_grace_period)\u001b[0m\n\u001b[1;32m    120\u001b[0m \u001b[38;5;28mprint\u001b[39m(\u001b[38;5;124mf\u001b[39m\u001b[38;5;124m\"\u001b[39m\u001b[38;5;124mEpoch [\u001b[39m\u001b[38;5;132;01m{\u001b[39;00mepoch\u001b[38;5;132;01m}\u001b[39;00m\u001b[38;5;124m/\u001b[39m\u001b[38;5;132;01m{\u001b[39;00mnum_epochs\u001b[38;5;132;01m}\u001b[39;00m\u001b[38;5;124m]\u001b[39m\u001b[38;5;124m\"\u001b[39m)\n\u001b[1;32m    122\u001b[0m \u001b[38;5;66;03m# Train the model\u001b[39;00m\n\u001b[0;32m--> 123\u001b[0m \u001b[43mtrain_validate\u001b[49m\u001b[43m(\u001b[49m\n\u001b[1;32m    124\u001b[0m \u001b[43m    \u001b[49m\u001b[43mmodel\u001b[49m\u001b[43m,\u001b[49m\u001b[43m \u001b[49m\u001b[43mtrain_loader\u001b[49m\u001b[43m,\u001b[49m\u001b[43m \u001b[49m\u001b[43mcriterion\u001b[49m\u001b[43m,\u001b[49m\u001b[43m \u001b[49m\u001b[43moptimizer\u001b[49m\u001b[43m,\u001b[49m\u001b[43m \u001b[49m\u001b[43mepoch\u001b[49m\u001b[43m,\u001b[49m\u001b[43m \u001b[49m\u001b[43mmetric_accumulator\u001b[49m\u001b[43m,\u001b[49m\u001b[43m \u001b[49m\u001b[43mdevice\u001b[49m\u001b[43m,\u001b[49m\u001b[43m \u001b[49m\u001b[43muse_autocast\u001b[49m\n\u001b[1;32m    125\u001b[0m \u001b[43m\u001b[49m\u001b[43m)\u001b[49m\n\u001b[1;32m    127\u001b[0m \u001b[38;5;66;03m# Validate the model\u001b[39;00m\n\u001b[1;32m    128\u001b[0m validate_loss \u001b[38;5;241m=\u001b[39m train_validate(\n\u001b[1;32m    129\u001b[0m     model,\n\u001b[1;32m    130\u001b[0m     val_loader,\n\u001b[0;32m   (...)\u001b[0m\n\u001b[1;32m    135\u001b[0m     use_autocast \u001b[38;5;241m=\u001b[39m use_autocast\n\u001b[1;32m    136\u001b[0m )\n",
            "File \u001b[0;32m~/Documents/dataton/common/purrfect/training.py:33\u001b[0m, in \u001b[0;36mtrain_validate\u001b[0;34m(model, loader, criterion, optimizer, epoch, metric_accumulator, device, use_autocast)\u001b[0m\n\u001b[1;32m     30\u001b[0m loop \u001b[38;5;241m=\u001b[39m tqdm(\u001b[38;5;28menumerate\u001b[39m(loader), desc\u001b[38;5;241m=\u001b[39m\u001b[38;5;124mf\u001b[39m\u001b[38;5;124m\"\u001b[39m\u001b[38;5;132;01m{\u001b[39;00mmode\u001b[38;5;132;01m}\u001b[39;00m\u001b[38;5;124m Epoch \u001b[39m\u001b[38;5;132;01m{\u001b[39;00mepoch\u001b[38;5;132;01m}\u001b[39;00m\u001b[38;5;124m\"\u001b[39m, leave\u001b[38;5;241m=\u001b[39m\u001b[38;5;28;01mTrue\u001b[39;00m, total\u001b[38;5;241m=\u001b[39m\u001b[38;5;28mlen\u001b[39m(loader))\n\u001b[1;32m     32\u001b[0m \u001b[38;5;28;01mwith\u001b[39;00m torch\u001b[38;5;241m.\u001b[39mset_grad_enabled(optimizer \u001b[38;5;129;01mis\u001b[39;00m \u001b[38;5;129;01mnot\u001b[39;00m \u001b[38;5;28;01mNone\u001b[39;00m):\n\u001b[0;32m---> 33\u001b[0m \u001b[43m    \u001b[49m\u001b[38;5;28;43;01mfor\u001b[39;49;00m\u001b[43m \u001b[49m\u001b[43minputs\u001b[49m\u001b[43m,\u001b[49m\u001b[43m \u001b[49m\u001b[43mtargets\u001b[49m\u001b[43m \u001b[49m\u001b[38;5;129;43;01min\u001b[39;49;00m\u001b[43m \u001b[49m\u001b[43mloader\u001b[49m\u001b[43m:\u001b[49m\n\u001b[1;32m     34\u001b[0m \u001b[43m        \u001b[49m\u001b[43minputs\u001b[49m\u001b[43m,\u001b[49m\u001b[43m \u001b[49m\u001b[43mtargets\u001b[49m\u001b[43m \u001b[49m\u001b[38;5;241;43m=\u001b[39;49m\u001b[43m \u001b[49m\u001b[43minputs\u001b[49m\u001b[38;5;241;43m.\u001b[39;49m\u001b[43mto\u001b[49m\u001b[43m(\u001b[49m\u001b[43mdevice\u001b[49m\u001b[43m)\u001b[49m\u001b[43m,\u001b[49m\u001b[43m \u001b[49m\u001b[43mtargets\u001b[49m\u001b[38;5;241;43m.\u001b[39;49m\u001b[43mto\u001b[49m\u001b[43m(\u001b[49m\u001b[43mdevice\u001b[49m\u001b[43m)\u001b[49m\n\u001b[1;32m     36\u001b[0m \u001b[43m        \u001b[49m\u001b[38;5;66;43;03m# Mixed precision forward pass\u001b[39;49;00m\n",
            "File \u001b[0;32m~/miniconda3/envs/dataton/lib/python3.12/site-packages/torch/utils/data/dataloader.py:630\u001b[0m, in \u001b[0;36m_BaseDataLoaderIter.__next__\u001b[0;34m(self)\u001b[0m\n\u001b[1;32m    627\u001b[0m \u001b[38;5;28;01mif\u001b[39;00m \u001b[38;5;28mself\u001b[39m\u001b[38;5;241m.\u001b[39m_sampler_iter \u001b[38;5;129;01mis\u001b[39;00m \u001b[38;5;28;01mNone\u001b[39;00m:\n\u001b[1;32m    628\u001b[0m     \u001b[38;5;66;03m# TODO(https://github.com/pytorch/pytorch/issues/76750)\u001b[39;00m\n\u001b[1;32m    629\u001b[0m     \u001b[38;5;28mself\u001b[39m\u001b[38;5;241m.\u001b[39m_reset()  \u001b[38;5;66;03m# type: ignore[call-arg]\u001b[39;00m\n\u001b[0;32m--> 630\u001b[0m data \u001b[38;5;241m=\u001b[39m \u001b[38;5;28;43mself\u001b[39;49m\u001b[38;5;241;43m.\u001b[39;49m\u001b[43m_next_data\u001b[49m\u001b[43m(\u001b[49m\u001b[43m)\u001b[49m\n\u001b[1;32m    631\u001b[0m \u001b[38;5;28mself\u001b[39m\u001b[38;5;241m.\u001b[39m_num_yielded \u001b[38;5;241m+\u001b[39m\u001b[38;5;241m=\u001b[39m \u001b[38;5;241m1\u001b[39m\n\u001b[1;32m    632\u001b[0m \u001b[38;5;28;01mif\u001b[39;00m \u001b[38;5;28mself\u001b[39m\u001b[38;5;241m.\u001b[39m_dataset_kind \u001b[38;5;241m==\u001b[39m _DatasetKind\u001b[38;5;241m.\u001b[39mIterable \u001b[38;5;129;01mand\u001b[39;00m \\\n\u001b[1;32m    633\u001b[0m         \u001b[38;5;28mself\u001b[39m\u001b[38;5;241m.\u001b[39m_IterableDataset_len_called \u001b[38;5;129;01mis\u001b[39;00m \u001b[38;5;129;01mnot\u001b[39;00m \u001b[38;5;28;01mNone\u001b[39;00m \u001b[38;5;129;01mand\u001b[39;00m \\\n\u001b[1;32m    634\u001b[0m         \u001b[38;5;28mself\u001b[39m\u001b[38;5;241m.\u001b[39m_num_yielded \u001b[38;5;241m>\u001b[39m \u001b[38;5;28mself\u001b[39m\u001b[38;5;241m.\u001b[39m_IterableDataset_len_called:\n",
            "File \u001b[0;32m~/miniconda3/envs/dataton/lib/python3.12/site-packages/torch/utils/data/dataloader.py:673\u001b[0m, in \u001b[0;36m_SingleProcessDataLoaderIter._next_data\u001b[0;34m(self)\u001b[0m\n\u001b[1;32m    671\u001b[0m \u001b[38;5;28;01mdef\u001b[39;00m \u001b[38;5;21m_next_data\u001b[39m(\u001b[38;5;28mself\u001b[39m):\n\u001b[1;32m    672\u001b[0m     index \u001b[38;5;241m=\u001b[39m \u001b[38;5;28mself\u001b[39m\u001b[38;5;241m.\u001b[39m_next_index()  \u001b[38;5;66;03m# may raise StopIteration\u001b[39;00m\n\u001b[0;32m--> 673\u001b[0m     data \u001b[38;5;241m=\u001b[39m \u001b[38;5;28;43mself\u001b[39;49m\u001b[38;5;241;43m.\u001b[39;49m\u001b[43m_dataset_fetcher\u001b[49m\u001b[38;5;241;43m.\u001b[39;49m\u001b[43mfetch\u001b[49m\u001b[43m(\u001b[49m\u001b[43mindex\u001b[49m\u001b[43m)\u001b[49m  \u001b[38;5;66;03m# may raise StopIteration\u001b[39;00m\n\u001b[1;32m    674\u001b[0m     \u001b[38;5;28;01mif\u001b[39;00m \u001b[38;5;28mself\u001b[39m\u001b[38;5;241m.\u001b[39m_pin_memory:\n\u001b[1;32m    675\u001b[0m         data \u001b[38;5;241m=\u001b[39m _utils\u001b[38;5;241m.\u001b[39mpin_memory\u001b[38;5;241m.\u001b[39mpin_memory(data, \u001b[38;5;28mself\u001b[39m\u001b[38;5;241m.\u001b[39m_pin_memory_device)\n",
            "File \u001b[0;32m~/miniconda3/envs/dataton/lib/python3.12/site-packages/torch/utils/data/_utils/fetch.py:52\u001b[0m, in \u001b[0;36m_MapDatasetFetcher.fetch\u001b[0;34m(self, possibly_batched_index)\u001b[0m\n\u001b[1;32m     50\u001b[0m         data \u001b[38;5;241m=\u001b[39m \u001b[38;5;28mself\u001b[39m\u001b[38;5;241m.\u001b[39mdataset\u001b[38;5;241m.\u001b[39m__getitems__(possibly_batched_index)\n\u001b[1;32m     51\u001b[0m     \u001b[38;5;28;01melse\u001b[39;00m:\n\u001b[0;32m---> 52\u001b[0m         data \u001b[38;5;241m=\u001b[39m [\u001b[38;5;28;43mself\u001b[39;49m\u001b[38;5;241;43m.\u001b[39;49m\u001b[43mdataset\u001b[49m\u001b[43m[\u001b[49m\u001b[43midx\u001b[49m\u001b[43m]\u001b[49m \u001b[38;5;28;01mfor\u001b[39;00m idx \u001b[38;5;129;01min\u001b[39;00m possibly_batched_index]\n\u001b[1;32m     53\u001b[0m \u001b[38;5;28;01melse\u001b[39;00m:\n\u001b[1;32m     54\u001b[0m     data \u001b[38;5;241m=\u001b[39m \u001b[38;5;28mself\u001b[39m\u001b[38;5;241m.\u001b[39mdataset[possibly_batched_index]\n",
            "File \u001b[0;32m~/Documents/dataton/common/purrfect/dataset.py:76\u001b[0m, in \u001b[0;36mEPKADataset.__getitem__\u001b[0;34m(self, idx)\u001b[0m\n\u001b[1;32m     74\u001b[0m EP_pth, KA_pth \u001b[38;5;241m=\u001b[39m \u001b[38;5;28mself\u001b[39m\u001b[38;5;241m.\u001b[39mdata_pairs[idx]\n\u001b[1;32m     75\u001b[0m EP \u001b[38;5;241m=\u001b[39m np\u001b[38;5;241m.\u001b[39mload(EP_pth)  \u001b[38;5;66;03m# Input\u001b[39;00m\n\u001b[0;32m---> 76\u001b[0m KA \u001b[38;5;241m=\u001b[39m \u001b[43mnp\u001b[49m\u001b[38;5;241;43m.\u001b[39;49m\u001b[43mload\u001b[49m\u001b[43m(\u001b[49m\u001b[43mKA_pth\u001b[49m\u001b[43m)\u001b[49m  \u001b[38;5;66;03m# Target\u001b[39;00m\n\u001b[1;32m     78\u001b[0m \u001b[38;5;66;03m# Convert numpy arrays to PyTorch tensors\u001b[39;00m\n\u001b[1;32m     79\u001b[0m EP \u001b[38;5;241m=\u001b[39m torch\u001b[38;5;241m.\u001b[39mfrom_numpy(EP)\u001b[38;5;241m.\u001b[39mfloat()  \u001b[38;5;66;03m# Convert to float tensor\u001b[39;00m\n",
            "File \u001b[0;32m~/miniconda3/envs/dataton/lib/python3.12/site-packages/numpy/lib/_npyio_impl.py:488\u001b[0m, in \u001b[0;36mload\u001b[0;34m(file, mmap_mode, allow_pickle, fix_imports, encoding, max_header_size)\u001b[0m\n\u001b[1;32m    485\u001b[0m         \u001b[38;5;28;01mreturn\u001b[39;00m \u001b[38;5;28mformat\u001b[39m\u001b[38;5;241m.\u001b[39mopen_memmap(file, mode\u001b[38;5;241m=\u001b[39mmmap_mode,\n\u001b[1;32m    486\u001b[0m                                   max_header_size\u001b[38;5;241m=\u001b[39mmax_header_size)\n\u001b[1;32m    487\u001b[0m     \u001b[38;5;28;01melse\u001b[39;00m:\n\u001b[0;32m--> 488\u001b[0m         \u001b[38;5;28;01mreturn\u001b[39;00m \u001b[38;5;28;43mformat\u001b[39;49m\u001b[38;5;241;43m.\u001b[39;49m\u001b[43mread_array\u001b[49m\u001b[43m(\u001b[49m\u001b[43mfid\u001b[49m\u001b[43m,\u001b[49m\u001b[43m \u001b[49m\u001b[43mallow_pickle\u001b[49m\u001b[38;5;241;43m=\u001b[39;49m\u001b[43mallow_pickle\u001b[49m\u001b[43m,\u001b[49m\n\u001b[1;32m    489\u001b[0m \u001b[43m                                 \u001b[49m\u001b[43mpickle_kwargs\u001b[49m\u001b[38;5;241;43m=\u001b[39;49m\u001b[43mpickle_kwargs\u001b[49m\u001b[43m,\u001b[49m\n\u001b[1;32m    490\u001b[0m \u001b[43m                                 \u001b[49m\u001b[43mmax_header_size\u001b[49m\u001b[38;5;241;43m=\u001b[39;49m\u001b[43mmax_header_size\u001b[49m\u001b[43m)\u001b[49m\n\u001b[1;32m    491\u001b[0m \u001b[38;5;28;01melse\u001b[39;00m:\n\u001b[1;32m    492\u001b[0m     \u001b[38;5;66;03m# Try a pickle\u001b[39;00m\n\u001b[1;32m    493\u001b[0m     \u001b[38;5;28;01mif\u001b[39;00m \u001b[38;5;129;01mnot\u001b[39;00m allow_pickle:\n",
            "File \u001b[0;32m~/miniconda3/envs/dataton/lib/python3.12/site-packages/numpy/lib/format.py:836\u001b[0m, in \u001b[0;36mread_array\u001b[0;34m(fp, allow_pickle, pickle_kwargs, max_header_size)\u001b[0m\n\u001b[1;32m    833\u001b[0m \u001b[38;5;28;01melse\u001b[39;00m:\n\u001b[1;32m    834\u001b[0m     \u001b[38;5;28;01mif\u001b[39;00m isfileobj(fp):\n\u001b[1;32m    835\u001b[0m         \u001b[38;5;66;03m# We can use the fast fromfile() function.\u001b[39;00m\n\u001b[0;32m--> 836\u001b[0m         array \u001b[38;5;241m=\u001b[39m \u001b[43mnumpy\u001b[49m\u001b[38;5;241;43m.\u001b[39;49m\u001b[43mfromfile\u001b[49m\u001b[43m(\u001b[49m\u001b[43mfp\u001b[49m\u001b[43m,\u001b[49m\u001b[43m \u001b[49m\u001b[43mdtype\u001b[49m\u001b[38;5;241;43m=\u001b[39;49m\u001b[43mdtype\u001b[49m\u001b[43m,\u001b[49m\u001b[43m \u001b[49m\u001b[43mcount\u001b[49m\u001b[38;5;241;43m=\u001b[39;49m\u001b[43mcount\u001b[49m\u001b[43m)\u001b[49m\n\u001b[1;32m    837\u001b[0m     \u001b[38;5;28;01melse\u001b[39;00m:\n\u001b[1;32m    838\u001b[0m         \u001b[38;5;66;03m# This is not a real file. We have to read it the\u001b[39;00m\n\u001b[1;32m    839\u001b[0m         \u001b[38;5;66;03m# memory-intensive way.\u001b[39;00m\n\u001b[0;32m   (...)\u001b[0m\n\u001b[1;32m    847\u001b[0m         \u001b[38;5;66;03m# not correctly instantiate zero-width string dtypes; see\u001b[39;00m\n\u001b[1;32m    848\u001b[0m         \u001b[38;5;66;03m# https://github.com/numpy/numpy/pull/6430\u001b[39;00m\n\u001b[1;32m    849\u001b[0m         array \u001b[38;5;241m=\u001b[39m numpy\u001b[38;5;241m.\u001b[39mndarray(count, dtype\u001b[38;5;241m=\u001b[39mdtype)\n",
            "\u001b[0;31mKeyboardInterrupt\u001b[0m: "
          ]
        }
      ],
      "source": [
        "many_partitions_v2(71,91,model,criterion,transform=transform,full_frecuency=99)"
      ]
    },
    {
      "cell_type": "code",
      "execution_count": null,
      "metadata": {},
      "outputs": [],
      "source": []
    }
  ],
  "metadata": {
    "accelerator": "GPU",
    "colab": {
      "gpuType": "T4",
      "provenance": []
    },
    "kernelspec": {
      "display_name": "Python 3",
      "name": "python3"
    },
    "language_info": {
      "codemirror_mode": {
        "name": "ipython",
        "version": 3
      },
      "file_extension": ".py",
      "mimetype": "text/x-python",
      "name": "python",
      "nbconvert_exporter": "python",
      "pygments_lexer": "ipython3",
      "version": "3.12.5"
    }
  },
  "nbformat": 4,
  "nbformat_minor": 0
}
