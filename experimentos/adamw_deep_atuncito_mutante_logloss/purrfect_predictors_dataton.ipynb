{
  "cells": [
    {
      "cell_type": "markdown",
      "metadata": {},
      "source": [
        "## Carga modulo comun"
      ]
    },
    {
      "cell_type": "code",
      "execution_count": 1,
      "metadata": {},
      "outputs": [],
      "source": [
        "import sys\n",
        "import os\n",
        "sys.path.append(os.path.abspath('../../common'))"
      ]
    },
    {
      "cell_type": "code",
      "execution_count": 2,
      "metadata": {},
      "outputs": [],
      "source": [
        "import torch\n",
        "import torch.nn as nn\n",
        "import torch.nn.functional as F\n",
        "\n",
        "from purrfect.dataset import load_partition,save_partition, create_train_valid_loaders, RandomTransform\n",
        "\n",
        "from purrfect.training import train_model\n",
        "import torch.optim as optim\n",
        "\n",
        "from purrfect.active_learning import create_new_partition, test_model\n",
        "\n",
        "from sklearn.model_selection import train_test_split\n",
        "#from purrfect.submission import create_submission"
      ]
    },
    {
      "cell_type": "code",
      "execution_count": 3,
      "metadata": {},
      "outputs": [],
      "source": [
        "DEVICE = torch.device('cuda' if torch.cuda.is_available() else 'cpu')\n",
        "BATCH_SIZE = 32*2\n",
        "USE_AUTOCAST = True\n",
        "EARLY_STOPPING_PATIENCE = 5\n",
        "EARLY_STOPPING_GRACE_PERIOD = 8"
      ]
    },
    {
      "cell_type": "markdown",
      "metadata": {},
      "source": [
        "## Definición modelo"
      ]
    },
    {
      "cell_type": "code",
      "execution_count": 4,
      "metadata": {},
      "outputs": [],
      "source": [
        "class GradientMagnitude(nn.Module):\n",
        "    def __init__(self):\n",
        "        super(GradientMagnitude, self).__init__()\n",
        "        # Define Sobel filters for computing gradients in x and y directions\n",
        "        sobel_x = torch.tensor([[-1, 0, 1], [-2, 0, 2], [-1, 0, 1]], dtype=torch.float32,device=DEVICE)\n",
        "        sobel_y = torch.tensor([[-1, -2, -1], [0, 0, 0], [1, 2, 1]], dtype=torch.float32,device=DEVICE)\n",
        "        \n",
        "        # Sobel filters need to be reshaped for convolution: (out_channels, in_channels, height, width)\n",
        "        # Apply the filters across all channels by expanding them to shape (C, 1, 3, 3)\n",
        "        self.sobel_x = sobel_x.view(1, 1, 3, 3)\n",
        "        self.sobel_y = sobel_y.view(1, 1, 3, 3)\n",
        "    \n",
        "    def forward(self, x):\n",
        "        B, C, W, H = x.shape\n",
        "        \n",
        "        # Apply Sobel filters to compute gradients in x and y directions for all channels\n",
        "        grad_x = F.conv2d(x, self.sobel_x.expand(C, 1, 3, 3), groups=C, padding=1)\n",
        "        grad_y = F.conv2d(x, self.sobel_y.expand(C, 1, 3, 3), groups=C, padding=1)\n",
        "        \n",
        "        # Compute gradient magnitude: sqrt(grad_x^2 + grad_y^2)\n",
        "        grad_mag = torch.sqrt(grad_x**2 + grad_y**2)\n",
        "        \n",
        "        return grad_mag\n",
        "def aggregate_similarity_cosine(tensor):\n",
        "    # tensor is of shape (B, 2, H, W)\n",
        "    #B, C, H, W = tensor.shape\n",
        "    #assert C == 2, \"The channel dimension must represent 2D vectors (x, y components)\"\n",
        "\n",
        "    # Define shifts for neighboring vectors (up, down, left, right) and stack them\n",
        "    shift_up = F.pad(tensor[:, :, 1:, :], (0, 0, 0, 1))  # Shift up\n",
        "    shift_down = F.pad(tensor[:, :, :-1, :], (0, 0, 1, 0))  # Shift down\n",
        "    shift_left = F.pad(tensor[:, :, :, 1:], (0, 1, 0, 0))  # Shift left\n",
        "    shift_right = F.pad(tensor[:, :, :, :-1], (1, 0, 0, 0))  # Shift right\n",
        "\n",
        "    # Stack shifted neighbors into a single tensor of shape (B, 2, H, W, 4)\n",
        "    neighbors = torch.stack((shift_up, shift_down, shift_left, shift_right), dim=4)  # (B, 2, H, W, 4)\n",
        "    # Calculate dot product for all neighbors\n",
        "    dot_product = (tensor.unsqueeze(4) * neighbors).sum(dim=1,keepdim=True)  # (B, 1, H, W, 4)\n",
        "    # Calculate mean, max, and min along the neighbor dimension (dim=4)\n",
        "    #mean_similarity = dot_product.mean(dim=4, keepdim=True)  # (B, 1, H, W, 1)\n",
        "    max_similarity = dot_product.max(dim=4, keepdim=True).values  # (B, 1, H, W, 1)\n",
        "    min_similarity = dot_product.min(dim=4, keepdim=True).values  # (B, 1, H, W, 1)\n",
        "\n",
        "    # Concatenate mean, max, and min similarities along the channel dimension\n",
        "    aggregate_similarity = torch.cat((max_similarity, min_similarity), dim=1)  # (B, 3, H, W,1)\n",
        "\n",
        "    return aggregate_similarity.squeeze(-1)  # (B, 3, H, W)\n",
        "class ChannelAdder(nn.Module):\n",
        "    def __init__(self):\n",
        "        super(ChannelAdder, self).__init__()\n",
        "        self.grad_magnitude = GradientMagnitude()\n",
        "\n",
        "    def forward(self, x):\n",
        "        \n",
        "        # Extract the first two channels (e1 and e2) and the third channel (delta) directly\n",
        "        e = x[:, :2, :, :]  # Shape (B, 2, H, W)\n",
        "        delta = x[:, 2:3, :, :]  # Shape (B, 1, H, W)\n",
        "\n",
        "        # Calculate the magnitude in one step (B, 1, H, W)\n",
        "        magnitude = torch.norm(e, dim=1, keepdim=True)  # Efficient norm calculation\n",
        "\n",
        "        # Calculate the angle using atan2 to avoid division by zero and handle quadrant\n",
        "        angle = 0.5 * torch.atan2(e[:, 0, :, :], e[:, 1, :, :]).unsqueeze(1)  # (B, 1, H, W)\n",
        "\n",
        "        # Compute the weighted components e1_weighted and e2_weighted\n",
        "        e_norm = e / magnitude  # Split along channel dimension\n",
        "\n",
        "        cross_product = e[:, 0:1, :, :] * e[:, 1:2, :, :]  # Efficient cross-product (B, 1, H, W)\n",
        "\n",
        "        simmilarity = aggregate_similarity_cosine(e_norm)\n",
        "        # Concatenate all the channels (original and new) into the output tensor\n",
        "        output = torch.cat([\n",
        "            e,\n",
        "            magnitude,\n",
        "            angle,\n",
        "            e_norm,\n",
        "            self.grad_magnitude(e),\n",
        "            #cross_product,\n",
        "            #delta,\n",
        "            simmilarity #min max and mean simmilarity\n",
        "        ], dim=1)\n",
        "        #output = torch.cat([output, self.grad_magnitude(output)], dim=1)\n",
        "\n",
        "        return output"
      ]
    },
    {
      "cell_type": "code",
      "execution_count": 5,
      "metadata": {},
      "outputs": [],
      "source": [
        "BN_MOMENTUM = 0.1\n",
        "def kaiming_init(module,\n",
        "                 a=0,\n",
        "                 mode='fan_out',\n",
        "                 nonlinearity='relu',\n",
        "                 bias=0,\n",
        "                 distribution='normal'):\n",
        "    assert distribution in ['uniform', 'normal']\n",
        "    if distribution == 'uniform':\n",
        "        nn.init.kaiming_uniform_(\n",
        "            module.weight, a=a, mode=mode, nonlinearity=nonlinearity)\n",
        "    else:\n",
        "        nn.init.kaiming_normal_(\n",
        "            module.weight, a=a, mode=mode, nonlinearity=nonlinearity)\n",
        "    if hasattr(module, 'bias') and module.bias is not None:\n",
        "        nn.init.constant_(module.bias, bias)\n",
        "class PA(nn.Module):\n",
        "    def __init__(self, inplanes, planes, kernel_size=1, stride=1):\n",
        "        super(PA, self).__init__()\n",
        "\n",
        "        self.inplanes = inplanes\n",
        "        self.inter_planes = planes // 2\n",
        "        self.planes = planes\n",
        "        self.kernel_size = kernel_size\n",
        "        self.stride = stride\n",
        "        self.padding = (kernel_size - 1) // 2\n",
        "        ratio = 4\n",
        "\n",
        "        self.conv_q_right = nn.Conv2d(self.inplanes, 1, kernel_size=1, stride=stride, padding=0, bias=False)\n",
        "        self.conv_v_right = nn.Conv2d(self.inplanes, self.inter_planes, kernel_size=1, stride=stride, padding=0,\n",
        "                                      bias=False)\n",
        "        # self.conv_up = nn.Conv2d(self.inter_planes, self.planes, kernel_size=1, stride=1, padding=0, bias=False)\n",
        "        self.conv_up = nn.Sequential(\n",
        "            nn.Conv2d(self.inter_planes, self.inter_planes // ratio, kernel_size=1),\n",
        "            nn.LayerNorm([self.inter_planes // ratio, 1, 1]),\n",
        "            nn.ReLU(inplace=True),\n",
        "            nn.Conv2d(self.inter_planes // ratio, self.planes, kernel_size=1)\n",
        "        )\n",
        "        self.softmax_right = nn.Softmax(dim=2)\n",
        "        self.sigmoid = nn.Sigmoid()\n",
        "\n",
        "        self.conv_q_left = nn.Conv2d(self.inplanes, self.inter_planes, kernel_size=1, stride=stride, padding=0,\n",
        "                                     bias=False)  # g\n",
        "        self.avg_pool = nn.AdaptiveAvgPool2d(1)\n",
        "        self.conv_v_left = nn.Conv2d(self.inplanes, self.inter_planes, kernel_size=1, stride=stride, padding=0,\n",
        "                                     bias=False)  # theta\n",
        "        self.softmax_left = nn.Softmax(dim=2)\n",
        "\n",
        "        self.reset_parameters()\n",
        "    def reset_parameters(self):\n",
        "        kaiming_init(self.conv_q_right, mode='fan_in')\n",
        "        kaiming_init(self.conv_v_right, mode='fan_in')\n",
        "        kaiming_init(self.conv_q_left, mode='fan_in')\n",
        "        kaiming_init(self.conv_v_left, mode='fan_in')\n",
        "\n",
        "        self.conv_q_right.inited = True\n",
        "        self.conv_v_right.inited = True\n",
        "        self.conv_q_left.inited = True\n",
        "        self.conv_v_left.inited = True\n",
        "\n",
        "    def spatial_pool_mask(self, x):\n",
        "        input_x = self.conv_v_right(x)\n",
        "\n",
        "        batch, channel, height, width = input_x.size()\n",
        "\n",
        "        # [N, IC, H*W]\n",
        "        input_x = input_x.view(batch, channel, height * width)\n",
        "\n",
        "        # [N, 1, H, W]\n",
        "        context_mask = self.conv_q_right(x)\n",
        "\n",
        "        # [N, 1, H*W]\n",
        "        context_mask = context_mask.view(batch, 1, height * width)\n",
        "\n",
        "        # [N, 1, H*W]\n",
        "        context_mask = self.softmax_right(context_mask)\n",
        "\n",
        "        # [N, IC, 1]\n",
        "        # context = torch.einsum('ndw,new->nde', input_x, context_mask)\n",
        "        context = torch.matmul(input_x, context_mask.transpose(1, 2))\n",
        "\n",
        "        # [N, IC, 1, 1]\n",
        "        context = context.unsqueeze(-1)\n",
        "\n",
        "        # [N, OC, 1, 1]\n",
        "        context = self.conv_up(context)\n",
        "\n",
        "        # [N, OC, 1, 1]\n",
        "        mask_ch = self.sigmoid(context)\n",
        "        return mask_ch\n",
        "\n",
        "    def channel_pool_mask(self, x):\n",
        "        # [N, IC, H, W]\n",
        "        g_x = self.conv_q_left(x)\n",
        "\n",
        "        batch, channel, height, width = g_x.size()\n",
        "\n",
        "        # [N, IC, 1, 1]\n",
        "        avg_x = self.avg_pool(g_x)\n",
        "\n",
        "        batch, channel, avg_x_h, avg_x_w = avg_x.size()\n",
        "\n",
        "        # [N, 1, IC]\n",
        "        avg_x = avg_x.view(batch, channel, avg_x_h * avg_x_w).permute(0, 2, 1)\n",
        "\n",
        "        # [N, IC, H*W]\n",
        "        theta_x = self.conv_v_left(x).view(batch, self.inter_planes, height * width)\n",
        "\n",
        "        # [N, IC, H*W]\n",
        "        theta_x = self.softmax_left(theta_x)\n",
        "\n",
        "        # [N, 1, H*W]\n",
        "        # context = torch.einsum('nde,new->ndw', avg_x, theta_x)\n",
        "        context = torch.matmul(avg_x, theta_x)\n",
        "\n",
        "        # [N, 1, H, W]\n",
        "        context = context.view(batch, 1, height, width)\n",
        "\n",
        "        # [N, 1, H, W]\n",
        "        mask_sp = self.sigmoid(context)\n",
        "        return mask_sp\n",
        "    def forward(self, x, y):\n",
        "        sp_mask = self.spatial_pool_mask(y)\n",
        "        ch_mask = self.channel_pool_mask(y)\n",
        "        return x * sp_mask * ch_mask\n",
        "    \n",
        "\n",
        "class PSA(nn.Module):\n",
        "    def __init__(self, inplanes, planes, kernel_size=1, stride=1):\n",
        "        super(PSA, self).__init__()\n",
        "        self.pa = PA(inplanes, planes, kernel_size, stride)\n",
        "\n",
        "    def forward(self, x):\n",
        "        return self.pa(x,x)\n",
        "\n",
        "class ConBnRelu(nn.Module):\n",
        "    def __init__(self, in_channels, out_channels, kernel_size, stride=1, padding=0, dilation=1,bias=True,use_bn=False,use_relu=True):\n",
        "        super(ConBnRelu, self).__init__()\n",
        "\n",
        "        self.conv = nn.Conv2d(in_channels, out_channels, kernel_size=kernel_size, stride=stride, padding=padding,\n",
        "                              dilation=dilation, bias=bias)\n",
        "        if use_bn and use_relu:\n",
        "            self.output = nn.Sequential(\n",
        "                nn.BatchNorm2d(out_channels, momentum=BN_MOMENTUM),\n",
        "                nn.ReLU(inplace=True)\n",
        "            )\n",
        "        elif use_bn:\n",
        "            self.output = nn.BatchNorm2d(out_channels, momentum=BN_MOMENTUM)\n",
        "        elif use_relu:\n",
        "            self.output = nn.ReLU(inplace=True)\n",
        "        else:\n",
        "            self.output = nn.Identity()\n",
        "        \n",
        "        \n",
        "    def forward(self, x):\n",
        "        return self.output(self.conv(x))\n",
        "class ResBlock(nn.Module):\n",
        "    expansion = 1\n",
        "\n",
        "    def __init__(self, in_channels, out_channels, use_attention=False):\n",
        "        super(ResBlock, self).__init__()\n",
        "        self.rescale = nn.Conv2d(in_channels, out_channels, kernel_size=1, stride=1, padding=0, bias=True)\n",
        "\n",
        "        if use_attention:\n",
        "            self.seq1 = nn.Sequential(\n",
        "                ConBnRelu(out_channels, out_channels, kernel_size=3, stride=1, padding=1, bias=True),\n",
        "                PSA(out_channels, out_channels),\n",
        "                #ConBnRelu(out_channels, out_channels, kernel_size=3, stride=1, padding=1, bias=True),\n",
        "                #PSA(out_channels, out_channels),\n",
        "                ConBnRelu(out_channels, out_channels, kernel_size=3, stride=1, padding=1, bias=True,use_relu=False),\n",
        "            )\n",
        "            self.seq2 = nn.Sequential(\n",
        "                ConBnRelu(out_channels, out_channels, kernel_size=3, stride=1, padding=1, bias=True),\n",
        "                PSA(out_channels, out_channels),\n",
        "                #ConBnRelu(out_channels, out_channels, kernel_size=3, stride=1, padding=1, bias=True),\n",
        "                #PSA(out_channels, out_channels),\n",
        "                ConBnRelu(out_channels, out_channels, kernel_size=3, stride=1, padding=1, bias=True,use_relu=False)\n",
        "            )\n",
        "        else:\n",
        "            self.seq1 = nn.Sequential(\n",
        "                ConBnRelu(out_channels, out_channels, kernel_size=3, stride=1, padding=1, bias=True),\n",
        "                #ConBnRelu(out_channels, out_channels, kernel_size=3, stride=1, padding=1, bias=True),\n",
        "                ConBnRelu(out_channels, out_channels, kernel_size=3, stride=1, padding=1, bias=True,use_relu=False)\n",
        "            )\n",
        "            self.seq2 = nn.Sequential(\n",
        "                ConBnRelu(out_channels, out_channels, kernel_size=3, stride=1, padding=1, bias=True),\n",
        "                #ConBnRelu(out_channels, out_channels, kernel_size=3, stride=1, padding=1, bias=True),\n",
        "                ConBnRelu(out_channels, out_channels, kernel_size=3, stride=1, padding=1, bias=True, use_relu=False)\n",
        "            )\n",
        "\n",
        "        \n",
        "\n",
        "    def forward(self, x):\n",
        "        x = self.rescale(x)\n",
        "        x = F.relu(self.seq1(x) + x, inplace=True)\n",
        "        x = F.relu(self.seq2(x) + x, inplace=True)\n",
        "        return x\n",
        "\n",
        "class UNetEncoder(nn.Module):\n",
        "    def __init__(self, i_ch=16):\n",
        "        super(UNetEncoder, self).__init__()\n",
        "        # Encoder\n",
        "        self.encoder1 = nn.Sequential(\n",
        "            nn.AvgPool2d(2),  # i_chx128x128 -> i_chx64x64\n",
        "            ResBlock(i_ch, i_ch * 2)  # i_chx64x64 -> (i_ch * 2)x64x64\n",
        "        )\n",
        "        self.encoder2 = nn.Sequential(\n",
        "            nn.AvgPool2d(2),  # (i_ch * 2)x64x64 -> (i_ch * 2)x32x32\n",
        "            ResBlock(i_ch * 2, i_ch * 4)  # (i_ch * 2)x32x32 -> (i_ch * 4)x32x32\n",
        "        )\n",
        "        self.encoder3 = nn.Sequential(\n",
        "            nn.AvgPool2d(2),  # (i_ch * 4)x32x32 -> (i_ch * 4)x16x16\n",
        "            ResBlock(i_ch * 4, i_ch * 8)  # (i_ch * 4)x16x16 -> (i_ch * 8)x16x16\n",
        "        )\n",
        "        self.encoder4 = nn.Sequential(\n",
        "            nn.AvgPool2d(2),  # (i_ch * 8)x16x16 -> (i_ch * 8)x8x8\n",
        "            ResBlock(i_ch * 8, i_ch * 16)  # (i_ch * 8)x8x8 -> (i_ch * 16)x8x8\n",
        "        )\n",
        "    def forward(self, x):\n",
        "        e1 = self.encoder1(x)\n",
        "        e2 = self.encoder2(e1)\n",
        "        e3 = self.encoder3(e2)\n",
        "        e4 = self.encoder4(e3)\n",
        "        return e1, e2, e3, e4\n",
        "class UNetDecoder(nn.Module):\n",
        "    def __init__(self, i_ch=16):\n",
        "        super(UNetDecoder, self).__init__()\n",
        "        # Decoder\n",
        "        self.attention4 = PA(i_ch * 16, i_ch * 16)\n",
        "        self.upconv4 = nn.ConvTranspose2d(i_ch * 16*2, i_ch * 16, kernel_size=2, stride=2)  # (i_ch * 16)x8x8 -> (i_ch * 8)x16x16\n",
        "        self.decoder4 = ResBlock(i_ch * 16, i_ch * 8)  # (i_ch * 16)x16x16 -> (i_ch * 8)x16x16\n",
        "\n",
        "        self.attention3 = PA(i_ch * 8, i_ch * 8)\n",
        "        self.upconv3 = nn.ConvTranspose2d(i_ch * 8*2, i_ch * 8, kernel_size=2, stride=2)  # (i_ch * 8)x16x16 -> (i_ch * 4)x32x32\n",
        "        self.decoder3 = ResBlock(i_ch * 8, i_ch * 4)  # (i_ch * 8)x32x32 -> (i_ch * 4)x32x32\n",
        "\n",
        "        self.attention2 = PA(i_ch * 4, i_ch * 4)\n",
        "        self.upconv2 = nn.ConvTranspose2d(i_ch * 4*2, i_ch * 4, kernel_size=2, stride=2)  # (i_ch * 4)x32x32 -> (i_ch * 2)x64x64\n",
        "        self.decoder2 = ResBlock(i_ch * 4, i_ch * 2)  # (i_ch * 4)x64x64 -> (i_ch * 2)x64x64\n",
        "\n",
        "        self.attention1 = PA(i_ch*2, i_ch*2)\n",
        "        self.upconv1 = nn.ConvTranspose2d(i_ch * 2*2, i_ch*2, kernel_size=2, stride=2)  # (i_ch * 2)x64x64 -> i_chx128x128\n",
        "        self.decoder1 = ResBlock(i_ch * 2, i_ch)  # (i_ch * 2)x128x128 -> i_chx128x128\n",
        "    def forward(self, x, e1, e2, e3, e4):\n",
        "        d4 = torch.cat((self.attention4(e4, x), x), dim=1)\n",
        "        d4 = self.upconv4(d4)\n",
        "        d4 = self.decoder4(d4)\n",
        "\n",
        "        d3 = torch.cat((self.attention3(e3, d4), d4), dim=1)\n",
        "        d3 = self.upconv3(d3)\n",
        "        d3 = self.decoder3(d3)\n",
        "\n",
        "        \n",
        "        d2 = torch.cat((self.attention2(e2, d3), d3), dim=1)\n",
        "        d2 = self.upconv2(d2)\n",
        "        d2 = self.decoder2(d2)\n",
        "\n",
        "        \n",
        "        d1 = torch.cat((self.attention1(e1, d2), d2), dim=1)\n",
        "        d1 = self.upconv1(d1)\n",
        "        d1 = self.decoder1(d1)\n",
        "        return d1\n",
        "class UNetBottleneck(nn.Module):\n",
        "    def __init__(self,input_ch=16):\n",
        "        super(UNetBottleneck, self).__init__()\n",
        "        self.bottleneck = nn.Sequential(\n",
        "            ResBlock(input_ch * 16, input_ch*16),\n",
        "            ResBlock(input_ch * 16, input_ch*16)\n",
        "        )\n",
        "    def forward(self, x):\n",
        "        return self.bottleneck(x)\n",
        "class MultiHeadUNet(nn.Module):\n",
        "    def __init__(self, in_channels, out_channels, i_ch=16):\n",
        "        super(MultiHeadUNet, self).__init__()\n",
        "        \n",
        "        self.embedder1 = nn.Sequential(\n",
        "            ResBlock(in_channels, i_ch),  # in_channelsx128x128 -> i_chx128x128\n",
        "            ResBlock(i_ch, i_ch),  # i_chx128x128 -> i_chx128x128\n",
        "        )\n",
        "        self.embedder2 = nn.Sequential(\n",
        "            ResBlock(in_channels, i_ch),  # in_channelsx128x128 -> i_chx128x128\n",
        "            ResBlock(i_ch, i_ch),  # i_chx128x128 -> i_chx128x128\n",
        "        )\n",
        "        self.embedder3 = nn.Sequential(\n",
        "            ResBlock(in_channels, i_ch),  # in_channelsx128x128 -> i_chx128x128\n",
        "            ResBlock(i_ch, i_ch),  # i_chx128x128 -> i_chx128x128\n",
        "        )\n",
        "\n",
        "        self.embedder4 = nn.Sequential(\n",
        "            ResBlock(in_channels, i_ch),  # in_channelsx128x128 -> i_chx128x128\n",
        "            ResBlock(i_ch, i_ch),  # i_chx128x128 -> i_chx128x128\n",
        "        )\n",
        "\n",
        "        self.embedder5 = nn.Sequential(\n",
        "            ResBlock(in_channels, i_ch),  # in_channelsx128x128 -> i_chx128x128\n",
        "            ResBlock(i_ch, i_ch),  # i_chx128x128 -> i_chx128x128\n",
        "        )\n",
        "        \n",
        "        self.encoder1 = UNetEncoder(i_ch)\n",
        "        self.encoder2 = UNetEncoder(i_ch)\n",
        "        self.encoder3 = UNetEncoder(i_ch)\n",
        "        self.encoder4 = UNetEncoder(i_ch)\n",
        "        self.encoder5 = UNetEncoder(i_ch)\n",
        "\n",
        "        self.compress_e1 = nn.Conv2d(i_ch * 2 * 5, i_ch * 2, kernel_size=1)\n",
        "        self.compress_e2 = nn.Conv2d(i_ch * 4 * 5, i_ch * 4, kernel_size=1)\n",
        "        self.compress_e3 = nn.Conv2d(i_ch * 8 * 5, i_ch * 8, kernel_size=1)\n",
        "        self.compress_e4 = nn.Conv2d(i_ch * 16 * 5, i_ch * 16, kernel_size=1)\n",
        "\n",
        "        self.bottleneck = UNetBottleneck(i_ch)\n",
        "        self.decoder = UNetDecoder(i_ch)\n",
        "        self.output = nn.Conv2d(i_ch, out_channels, kernel_size=1)\n",
        "    def freeze_encoder(self,freeze=True):\n",
        "        for param in self.encoder1.parameters():\n",
        "            param.requires_grad = not freeze\n",
        "        for param in self.encoder2.parameters():\n",
        "            param.requires_grad = not freeze\n",
        "        for param in self.encoder3.parameters():\n",
        "            param.requires_grad = not freeze\n",
        "        for param in self.encoder4.parameters():\n",
        "            param.requires_grad = not freeze\n",
        "        for param in self.encoder5.parameters():\n",
        "            param.requires_grad = not freeze\n",
        "    def forward(self, x1,x2,x3,x4,x5):\n",
        "        e1_1,e2_1,e3_1,e4_1 = self.encoder1(self.embedder1(x1))\n",
        "        e1_2,e2_2,e3_2,e4_2 = self.encoder2(self.embedder2(x2))\n",
        "        e1_3,e2_3,e3_3,e4_3 = self.encoder3(self.embedder3(x3))\n",
        "        e1_4,e2_4,e3_4,e4_4 = self.encoder4(self.embedder4(x4))\n",
        "        e1_5,e2_5,e3_5,e4_5 = self.encoder5(self.embedder5(x5))\n",
        "\n",
        "        e1 = torch.cat([e1_1,e1_2,e1_3,e1_4,e1_5],dim=1)\n",
        "        e2 = torch.cat([e2_1,e2_2,e2_3,e2_4,e2_5],dim=1)\n",
        "        e3 = torch.cat([e3_1,e3_2,e3_3,e3_4,e3_5],dim=1)\n",
        "        e4 = torch.cat([e4_1,e4_2,e4_3,e4_4,e4_5],dim=1)\n",
        "\n",
        "        e1 = self.compress_e1(e1)\n",
        "        e2 = self.compress_e2(e2)\n",
        "        e3 = self.compress_e3(e3)\n",
        "        e4 = self.compress_e4(e4)\n",
        "\n",
        "        b = self.bottleneck(e4)\n",
        "        d = self.decoder(b, e1, e2, e3, e4)\n",
        "        return self.output(d)\n",
        "\n",
        "class KappaPredictor(nn.Module):\n",
        "    def __init__(self):\n",
        "        super(KappaPredictor, self).__init__()\n",
        "        self.channel_adder = ChannelAdder()\n",
        "        self.bn = nn.BatchNorm2d(10)\n",
        "        self.unet = MultiHeadUNet(2, 1,i_ch=8)\n",
        "    def freeze_encoder(self,freeze=True):\n",
        "        if freeze:\n",
        "            for param in self.bn.parameters():\n",
        "                param.requires_grad = not freeze\n",
        "        self.unet.freeze_encoder(freeze)\n",
        "    def forward(self, x):\n",
        "        x = self.channel_adder(x)\n",
        "        x = self.bn(x)\n",
        "        x1,x2,x3,x4,x5 = torch.split(x, 2, dim=1)\n",
        "        out = self.unet(x1,x2,x3,x4,x5)\n",
        "        return out"
      ]
    },
    {
      "cell_type": "markdown",
      "metadata": {},
      "source": [
        "## Creación particion inicial"
      ]
    },
    {
      "cell_type": "code",
      "execution_count": 6,
      "metadata": {},
      "outputs": [],
      "source": [
        "def create_next_partitions(current_partition,k=1):#Creacion de particiones train y valid\n",
        "    init_partition = []\n",
        "    for i in range(k):\n",
        "        init_partition += load_partition(f\"partition_{k*current_partition+(i+1)}.json\")\n",
        "        #print(f\"partition_{k*current_partition+(i+1)}.json\")\n",
        "\n",
        "    train_partition, val_partition = train_test_split(init_partition, test_size=0.2, random_state=42)\n",
        "    save_partition(f\"partition_{current_partition+1}_train.json\",\"partitions\",train_partition)\n",
        "    save_partition(f\"partition_{current_partition+1}_val.json\",\"partitions\",val_partition)"
      ]
    },
    {
      "cell_type": "code",
      "execution_count": 7,
      "metadata": {},
      "outputs": [],
      "source": [
        "def load_best_model_so_far(model, last_saved_partition):\n",
        "    best_loss = float('inf')\n",
        "    best_partition = 0\n",
        "    for partition in range(1,last_saved_partition+1):\n",
        "        checkpoint = torch.load(f\"models/last_checkpoint_partition_{partition}.pth\",weights_only=False)\n",
        "        if checkpoint['best_loss'] < best_loss:\n",
        "            best_loss = checkpoint['best_loss']\n",
        "            best_partition = partition\n",
        "    model.load_state_dict(torch.load(f\"models/best_model_partition_{best_partition}.pth\",weights_only=True))\n",
        "    print(f\"Loaded best model from partition {best_partition} with loss {best_loss}\")\n",
        "def load_last_best_model(model, last_saved_partition):\n",
        "    #for from last_saved_partition to 1 looking if exists a best model file. if there is then load it and return\n",
        "    for partition in range(last_saved_partition,0,-1):\n",
        "        if os.path.exists(f\"models/best_model_partition_{partition}.pth\"):\n",
        "            model.load_state_dict(torch.load(f\"models/best_model_partition_{partition}.pth\",weights_only=True))\n",
        "            print(f\"Loaded best model from partition {partition}\")\n",
        "            return\n",
        "    print(f\"There is no best model saved\")"
      ]
    },
    {
      "cell_type": "code",
      "execution_count": 8,
      "metadata": {},
      "outputs": [],
      "source": [
        "create_next_partitions(0,1)"
      ]
    },
    {
      "cell_type": "code",
      "execution_count": 9,
      "metadata": {},
      "outputs": [],
      "source": [
        "def many_partitions_v2(start,end,model,criterion,transform=None,full_frecuency=5):\n",
        "    for current_partition in range(start,end):\n",
        "        if current_partition %full_frecuency==1:\n",
        "            print(f\"Partition {current_partition}: training full\")\n",
        "            model.freeze_encoder(False)\n",
        "        else:\n",
        "            print(f\"Partition {current_partition}: training decoder\")\n",
        "            model.freeze_encoder(True)\n",
        "        load_last_best_model(model,current_partition-1)\n",
        "        create_next_partitions(current_partition-1)\n",
        "        train_loader, val_loader = create_train_valid_loaders(\n",
        "            f\"partition_{current_partition}_train.json\",\n",
        "            f\"partition_{current_partition}_val.json\",\n",
        "            \"partitions\",\n",
        "            batch_size=BATCH_SIZE,\n",
        "            transform=transform,\n",
        "        )\n",
        "        best_model_path = os.path.join(\n",
        "            \"models\", f\"best_model_partition_{current_partition}.pth\"\n",
        "        )\n",
        "        last_checkpoint_path = os.path.join(\n",
        "            \"models\", f\"last_checkpoint_partition_{current_partition}.pth\"\n",
        "        )\n",
        "        optimizer = optim.AdamW(model.parameters())\n",
        "        train_model(\n",
        "            model,\n",
        "            train_loader,\n",
        "            val_loader,\n",
        "            best_model_path,\n",
        "            last_checkpoint_path,\n",
        "            criterion,\n",
        "            optimizer,\n",
        "            num_epochs=100,\n",
        "            device=DEVICE,\n",
        "            early_stopping_patience=EARLY_STOPPING_PATIENCE,\n",
        "            use_autocast=USE_AUTOCAST,\n",
        "            early_stopping_grace_period=EARLY_STOPPING_GRACE_PERIOD,\n",
        "        )\n",
        "        if os.path.exists(best_model_path):\n",
        "            model.load_state_dict(torch.load(best_model_path,weights_only=True))\n",
        "            test_model(model,criterion,device=DEVICE,batch_size=BATCH_SIZE,experiment_name=f\"adamw_atunet_freeze__{current_partition}\")\n",
        "        else:\n",
        "            print(\"No best model found in partition\",current_partition)\n",
        "        "
      ]
    },
    {
      "cell_type": "markdown",
      "metadata": {},
      "source": [
        "## Carga modelo"
      ]
    },
    {
      "cell_type": "markdown",
      "metadata": {},
      "source": []
    },
    {
      "cell_type": "code",
      "execution_count": 17,
      "metadata": {},
      "outputs": [],
      "source": [
        "class L2LogLoss(nn.Module):\n",
        "    def __init__(self):\n",
        "        super(L2LogLoss, self).__init__()\n",
        "    def rescale(self, x):\n",
        "        return x.sign()*(x.abs().log1p())\n",
        "    def forward(self, y_pred, y_true):\n",
        "        return F.mse_loss(self.rescale(y_pred),self.rescale(y_true))\n",
        "class L1LogLoss(nn.Module):\n",
        "    def __init__(self):\n",
        "        super(L1LogLoss, self).__init__()\n",
        "    def rescale(self, x):\n",
        "        return x.sign()*(x.abs().log1p())\n",
        "    def forward(self, y_pred, y_true):\n",
        "        return F.l1_loss(self.rescale(y_pred),self.rescale(y_true))"
      ]
    },
    {
      "cell_type": "code",
      "execution_count": 12,
      "metadata": {},
      "outputs": [],
      "source": [
        "#Define model\n",
        "model = KappaPredictor().to(DEVICE)\n",
        "# Define Loss\n",
        "criterion = L2LogLoss()\n",
        "transform = None#RandomTransform()"
      ]
    },
    {
      "cell_type": "code",
      "execution_count": 13,
      "metadata": {},
      "outputs": [
        {
          "data": {
            "text/plain": [
              "5742735"
            ]
          },
          "execution_count": 13,
          "metadata": {},
          "output_type": "execute_result"
        }
      ],
      "source": [
        "sum([p.numel() for p in model.parameters() if p.requires_grad])"
      ]
    },
    {
      "cell_type": "code",
      "execution_count": 14,
      "metadata": {},
      "outputs": [
        {
          "name": "stdout",
          "output_type": "stream",
          "text": [
            "Partition 1: training full\n",
            "There is no best model saved\n",
            "Epoch [1/100]\n"
          ]
        },
        {
          "name": "stderr",
          "output_type": "stream",
          "text": [
            "Train Epoch 1: 100%|██████████| 77/77 [01:15<00:00,  1.02it/s, WMAPE=2.29, DICE=0.571, DPEAKS=217, Loss=0.00128]\n",
            "Validate Epoch 1: 100%|██████████| 20/20 [00:10<00:00,  1.89it/s, WMAPE=1.55, DICE=0.556, DPEAKS=207, Loss=0.00119]\n"
          ]
        },
        {
          "name": "stdout",
          "output_type": "stream",
          "text": [
            "Saving best model\n",
            "Epoch [2/100]\n"
          ]
        },
        {
          "name": "stderr",
          "output_type": "stream",
          "text": [
            "Train Epoch 2: 100%|██████████| 77/77 [01:15<00:00,  1.02it/s, WMAPE=2.21, DICE=0.507, DPEAKS=208, Loss=0.00113]\n",
            "Validate Epoch 2: 100%|██████████| 20/20 [00:10<00:00,  1.88it/s, WMAPE=4.15, DICE=0.392, DPEAKS=198, Loss=0.000898]\n"
          ]
        },
        {
          "name": "stdout",
          "output_type": "stream",
          "text": [
            "Saving best model\n",
            "Epoch [3/100]\n"
          ]
        },
        {
          "name": "stderr",
          "output_type": "stream",
          "text": [
            "Train Epoch 3: 100%|██████████| 77/77 [01:16<00:00,  1.01it/s, WMAPE=4.34, DICE=0.342, DPEAKS=181, Loss=0.000806]\n",
            "Validate Epoch 3: 100%|██████████| 20/20 [00:10<00:00,  1.87it/s, WMAPE=4.05, DICE=0.295, DPEAKS=171, Loss=0.000677]\n"
          ]
        },
        {
          "name": "stdout",
          "output_type": "stream",
          "text": [
            "Saving best model\n",
            "Epoch [4/100]\n"
          ]
        },
        {
          "name": "stderr",
          "output_type": "stream",
          "text": [
            "Train Epoch 4: 100%|██████████| 77/77 [01:16<00:00,  1.00it/s, WMAPE=4.65, DICE=0.254, DPEAKS=158, Loss=0.000579]\n",
            "Validate Epoch 4: 100%|██████████| 20/20 [00:10<00:00,  1.88it/s, WMAPE=5.27, DICE=0.304, DPEAKS=159, Loss=0.000739]\n"
          ]
        },
        {
          "name": "stdout",
          "output_type": "stream",
          "text": [
            "Epoch [5/100]\n"
          ]
        },
        {
          "name": "stderr",
          "output_type": "stream",
          "text": [
            "Train Epoch 5: 100%|██████████| 77/77 [01:16<00:00,  1.00it/s, WMAPE=4.66, DICE=0.259, DPEAKS=157, Loss=0.000572]\n",
            "Validate Epoch 5: 100%|██████████| 20/20 [00:10<00:00,  1.89it/s, WMAPE=4.6, DICE=0.224, DPEAKS=149, Loss=0.000455]\n"
          ]
        },
        {
          "name": "stdout",
          "output_type": "stream",
          "text": [
            "Saving best model\n",
            "Epoch [6/100]\n"
          ]
        },
        {
          "name": "stderr",
          "output_type": "stream",
          "text": [
            "Train Epoch 6: 100%|██████████| 77/77 [01:17<00:00,  1.00s/it, WMAPE=4.52, DICE=0.235, DPEAKS=144, Loss=0.000496]\n",
            "Validate Epoch 6: 100%|██████████| 20/20 [00:10<00:00,  1.89it/s, WMAPE=4.39, DICE=0.222, DPEAKS=138, Loss=0.000426]\n"
          ]
        },
        {
          "name": "stdout",
          "output_type": "stream",
          "text": [
            "Saving best model\n",
            "Epoch [7/100]\n"
          ]
        },
        {
          "name": "stderr",
          "output_type": "stream",
          "text": [
            "Train Epoch 7: 100%|██████████| 77/77 [01:17<00:00,  1.00s/it, WMAPE=4.34, DICE=0.208, DPEAKS=129, Loss=0.0004]\n",
            "Validate Epoch 7: 100%|██████████| 20/20 [00:10<00:00,  1.87it/s, WMAPE=4.74, DICE=0.211, DPEAKS=133, Loss=0.000421]\n"
          ]
        },
        {
          "name": "stdout",
          "output_type": "stream",
          "text": [
            "Saving best model\n",
            "Epoch [8/100]\n"
          ]
        },
        {
          "name": "stderr",
          "output_type": "stream",
          "text": [
            "Train Epoch 8: 100%|██████████| 77/77 [01:17<00:00,  1.00s/it, WMAPE=4.18, DICE=0.2, DPEAKS=119, Loss=0.000356]\n",
            "Validate Epoch 8: 100%|██████████| 20/20 [00:10<00:00,  1.88it/s, WMAPE=4.32, DICE=0.185, DPEAKS=110, Loss=0.000341]\n"
          ]
        },
        {
          "name": "stdout",
          "output_type": "stream",
          "text": [
            "Saving best model\n",
            "Epoch [9/100]\n"
          ]
        },
        {
          "name": "stderr",
          "output_type": "stream",
          "text": [
            "Train Epoch 9: 100%|██████████| 77/77 [01:17<00:00,  1.00s/it, WMAPE=4.14, DICE=0.193, DPEAKS=110, Loss=0.000331]\n",
            "Validate Epoch 9: 100%|██████████| 20/20 [00:10<00:00,  1.87it/s, WMAPE=4.15, DICE=0.189, DPEAKS=106, Loss=0.000329]\n"
          ]
        },
        {
          "name": "stdout",
          "output_type": "stream",
          "text": [
            "Saving best model\n",
            "Epoch [10/100]\n"
          ]
        },
        {
          "name": "stderr",
          "output_type": "stream",
          "text": [
            "Train Epoch 10: 100%|██████████| 77/77 [01:17<00:00,  1.00s/it, WMAPE=4, DICE=0.18, DPEAKS=102, Loss=0.000293]\n",
            "Validate Epoch 10: 100%|██████████| 20/20 [00:10<00:00,  1.90it/s, WMAPE=4.24, DICE=0.177, DPEAKS=102, Loss=0.000325]\n"
          ]
        },
        {
          "name": "stdout",
          "output_type": "stream",
          "text": [
            "Saving best model\n",
            "Epoch [11/100]\n"
          ]
        },
        {
          "name": "stderr",
          "output_type": "stream",
          "text": [
            "Train Epoch 11: 100%|██████████| 77/77 [01:17<00:00,  1.00s/it, WMAPE=3.89, DICE=0.173, DPEAKS=98.6, Loss=0.000276]\n",
            "Validate Epoch 11: 100%|██████████| 20/20 [00:10<00:00,  1.87it/s, WMAPE=4.29, DICE=0.168, DPEAKS=94, Loss=0.000323]\n"
          ]
        },
        {
          "name": "stdout",
          "output_type": "stream",
          "text": [
            "Saving best model\n",
            "Epoch [12/100]\n"
          ]
        },
        {
          "name": "stderr",
          "output_type": "stream",
          "text": [
            "Train Epoch 12: 100%|██████████| 77/77 [01:16<00:00,  1.00it/s, WMAPE=3.74, DICE=0.167, DPEAKS=92.6, Loss=0.000247]\n",
            "Validate Epoch 12: 100%|██████████| 20/20 [00:10<00:00,  1.87it/s, WMAPE=4.12, DICE=0.164, DPEAKS=92, Loss=0.000288]\n"
          ]
        },
        {
          "name": "stdout",
          "output_type": "stream",
          "text": [
            "Saving best model\n",
            "Epoch [13/100]\n"
          ]
        },
        {
          "name": "stderr",
          "output_type": "stream",
          "text": [
            "Train Epoch 13: 100%|██████████| 77/77 [01:17<00:00,  1.00s/it, WMAPE=3.68, DICE=0.161, DPEAKS=89, Loss=0.000234]\n",
            "Validate Epoch 13: 100%|██████████| 20/20 [00:10<00:00,  1.89it/s, WMAPE=3.59, DICE=0.162, DPEAKS=91.6, Loss=0.000228]\n"
          ]
        },
        {
          "name": "stdout",
          "output_type": "stream",
          "text": [
            "Saving best model\n",
            "Epoch [14/100]\n"
          ]
        },
        {
          "name": "stderr",
          "output_type": "stream",
          "text": [
            "Train Epoch 14: 100%|██████████| 77/77 [01:17<00:00,  1.00s/it, WMAPE=3.63, DICE=0.158, DPEAKS=85.9, Loss=0.000225]\n",
            "Validate Epoch 14: 100%|██████████| 20/20 [00:10<00:00,  1.88it/s, WMAPE=3.18, DICE=0.153, DPEAKS=86.6, Loss=0.000197]\n"
          ]
        },
        {
          "name": "stdout",
          "output_type": "stream",
          "text": [
            "Saving best model\n",
            "Epoch [15/100]\n"
          ]
        },
        {
          "name": "stderr",
          "output_type": "stream",
          "text": [
            "Train Epoch 15: 100%|██████████| 77/77 [01:17<00:00,  1.00s/it, WMAPE=3.57, DICE=0.152, DPEAKS=83.4, Loss=0.000216]\n",
            "Validate Epoch 15: 100%|██████████| 20/20 [00:10<00:00,  1.86it/s, WMAPE=3.27, DICE=0.148, DPEAKS=80.7, Loss=0.000184]\n"
          ]
        },
        {
          "name": "stdout",
          "output_type": "stream",
          "text": [
            "Saving best model\n",
            "Epoch [16/100]\n"
          ]
        },
        {
          "name": "stderr",
          "output_type": "stream",
          "text": [
            "Train Epoch 16: 100%|██████████| 77/77 [01:17<00:00,  1.00s/it, WMAPE=3.37, DICE=0.14, DPEAKS=78.5, Loss=0.000186]\n",
            "Validate Epoch 16: 100%|██████████| 20/20 [00:10<00:00,  1.87it/s, WMAPE=3.8, DICE=0.134, DPEAKS=80.4, Loss=0.000218]\n"
          ]
        },
        {
          "name": "stdout",
          "output_type": "stream",
          "text": [
            "Epoch [17/100]\n"
          ]
        },
        {
          "name": "stderr",
          "output_type": "stream",
          "text": [
            "Train Epoch 17: 100%|██████████| 77/77 [01:13<00:00,  1.05it/s, WMAPE=3.33, DICE=0.133, DPEAKS=76.6, Loss=0.000184]\n",
            "Validate Epoch 17: 100%|██████████| 20/20 [00:09<00:00,  2.03it/s, WMAPE=3, DICE=0.127, DPEAKS=74.9, Loss=0.00015]\n"
          ]
        },
        {
          "name": "stdout",
          "output_type": "stream",
          "text": [
            "Saving best model\n",
            "Epoch [18/100]\n"
          ]
        },
        {
          "name": "stderr",
          "output_type": "stream",
          "text": [
            "Train Epoch 18: 100%|██████████| 77/77 [01:09<00:00,  1.10it/s, WMAPE=3.21, DICE=0.125, DPEAKS=71.9, Loss=0.000169]\n",
            "Validate Epoch 18: 100%|██████████| 20/20 [00:09<00:00,  2.05it/s, WMAPE=3.12, DICE=0.129, DPEAKS=76.7, Loss=0.000155]\n"
          ]
        },
        {
          "name": "stdout",
          "output_type": "stream",
          "text": [
            "Epoch [19/100]\n"
          ]
        },
        {
          "name": "stderr",
          "output_type": "stream",
          "text": [
            "Train Epoch 19: 100%|██████████| 77/77 [01:09<00:00,  1.10it/s, WMAPE=3.26, DICE=0.127, DPEAKS=76.5, Loss=0.000172]\n",
            "Validate Epoch 19: 100%|██████████| 20/20 [00:09<00:00,  2.04it/s, WMAPE=2.94, DICE=0.12, DPEAKS=72.9, Loss=0.000141]\n"
          ]
        },
        {
          "name": "stdout",
          "output_type": "stream",
          "text": [
            "Saving best model\n",
            "Epoch [20/100]\n"
          ]
        },
        {
          "name": "stderr",
          "output_type": "stream",
          "text": [
            "Train Epoch 20: 100%|██████████| 77/77 [01:09<00:00,  1.11it/s, WMAPE=3.14, DICE=0.119, DPEAKS=71.1, Loss=0.000159]\n",
            "Validate Epoch 20: 100%|██████████| 20/20 [00:09<00:00,  2.04it/s, WMAPE=3.05, DICE=0.12, DPEAKS=72.8, Loss=0.000138]\n"
          ]
        },
        {
          "name": "stdout",
          "output_type": "stream",
          "text": [
            "Saving best model\n",
            "Epoch [21/100]\n"
          ]
        },
        {
          "name": "stderr",
          "output_type": "stream",
          "text": [
            "Train Epoch 21: 100%|██████████| 77/77 [01:09<00:00,  1.11it/s, WMAPE=3.15, DICE=0.116, DPEAKS=68.3, Loss=0.000155]\n",
            "Validate Epoch 21: 100%|██████████| 20/20 [00:09<00:00,  2.05it/s, WMAPE=2.75, DICE=0.115, DPEAKS=67.6, Loss=0.000138]\n"
          ]
        },
        {
          "name": "stdout",
          "output_type": "stream",
          "text": [
            "Epoch [22/100]\n"
          ]
        },
        {
          "name": "stderr",
          "output_type": "stream",
          "text": [
            "Train Epoch 22: 100%|██████████| 77/77 [01:12<00:00,  1.07it/s, WMAPE=3.03, DICE=0.11, DPEAKS=63.8, Loss=0.000144]\n",
            "Validate Epoch 22: 100%|██████████| 20/20 [00:10<00:00,  1.88it/s, WMAPE=3.69, DICE=0.109, DPEAKS=66, Loss=0.000197]\n"
          ]
        },
        {
          "name": "stdout",
          "output_type": "stream",
          "text": [
            "Epoch [23/100]\n"
          ]
        },
        {
          "name": "stderr",
          "output_type": "stream",
          "text": [
            "Train Epoch 23: 100%|██████████| 77/77 [01:16<00:00,  1.01it/s, WMAPE=2.98, DICE=0.112, DPEAKS=66.8, Loss=0.00014]\n",
            "Validate Epoch 23: 100%|██████████| 20/20 [00:10<00:00,  1.88it/s, WMAPE=3.58, DICE=0.112, DPEAKS=68.6, Loss=0.000177]\n"
          ]
        },
        {
          "name": "stdout",
          "output_type": "stream",
          "text": [
            "Epoch [24/100]\n"
          ]
        },
        {
          "name": "stderr",
          "output_type": "stream",
          "text": [
            "Train Epoch 24: 100%|██████████| 77/77 [01:16<00:00,  1.00it/s, WMAPE=2.9, DICE=0.107, DPEAKS=62.4, Loss=0.000129]\n",
            "Validate Epoch 24: 100%|██████████| 20/20 [00:09<00:00,  2.06it/s, WMAPE=2.9, DICE=0.114, DPEAKS=66.8, Loss=0.000125]\n"
          ]
        },
        {
          "name": "stdout",
          "output_type": "stream",
          "text": [
            "Saving best model\n",
            "Epoch [25/100]\n"
          ]
        },
        {
          "name": "stderr",
          "output_type": "stream",
          "text": [
            "Train Epoch 25: 100%|██████████| 77/77 [01:12<00:00,  1.06it/s, WMAPE=2.94, DICE=0.108, DPEAKS=62.6, Loss=0.000132]\n",
            "Validate Epoch 25: 100%|██████████| 20/20 [00:09<00:00,  2.01it/s, WMAPE=2.99, DICE=0.105, DPEAKS=60.9, Loss=0.000136]\n"
          ]
        },
        {
          "name": "stdout",
          "output_type": "stream",
          "text": [
            "Epoch [26/100]\n"
          ]
        },
        {
          "name": "stderr",
          "output_type": "stream",
          "text": [
            "Train Epoch 26: 100%|██████████| 77/77 [01:13<00:00,  1.05it/s, WMAPE=2.98, DICE=0.105, DPEAKS=60.8, Loss=0.000139]\n",
            "Validate Epoch 26: 100%|██████████| 20/20 [00:10<00:00,  1.99it/s, WMAPE=2.76, DICE=0.106, DPEAKS=66.6, Loss=0.000118]\n"
          ]
        },
        {
          "name": "stdout",
          "output_type": "stream",
          "text": [
            "Saving best model\n",
            "Epoch [27/100]\n"
          ]
        },
        {
          "name": "stderr",
          "output_type": "stream",
          "text": [
            "Train Epoch 27: 100%|██████████| 77/77 [01:12<00:00,  1.06it/s, WMAPE=3.03, DICE=0.106, DPEAKS=61.3, Loss=0.000145]\n",
            "Validate Epoch 27: 100%|██████████| 20/20 [00:10<00:00,  1.88it/s, WMAPE=2.85, DICE=0.105, DPEAKS=62.5, Loss=0.000122]\n"
          ]
        },
        {
          "name": "stdout",
          "output_type": "stream",
          "text": [
            "Epoch [28/100]\n"
          ]
        },
        {
          "name": "stderr",
          "output_type": "stream",
          "text": [
            "Train Epoch 28: 100%|██████████| 77/77 [01:16<00:00,  1.00it/s, WMAPE=2.83, DICE=0.102, DPEAKS=59, Loss=0.000123]\n",
            "Validate Epoch 28: 100%|██████████| 20/20 [00:10<00:00,  1.89it/s, WMAPE=3.04, DICE=0.104, DPEAKS=61.9, Loss=0.000143]\n"
          ]
        },
        {
          "name": "stdout",
          "output_type": "stream",
          "text": [
            "Epoch [29/100]\n"
          ]
        },
        {
          "name": "stderr",
          "output_type": "stream",
          "text": [
            "Train Epoch 29: 100%|██████████| 77/77 [01:17<00:00,  1.00s/it, WMAPE=2.89, DICE=0.101, DPEAKS=60.2, Loss=0.000128]\n",
            "Validate Epoch 29: 100%|██████████| 20/20 [00:10<00:00,  1.88it/s, WMAPE=2.88, DICE=0.0987, DPEAKS=60.3, Loss=0.000119]\n"
          ]
        },
        {
          "name": "stdout",
          "output_type": "stream",
          "text": [
            "Epoch [30/100]\n"
          ]
        },
        {
          "name": "stderr",
          "output_type": "stream",
          "text": [
            "Train Epoch 30: 100%|██████████| 77/77 [01:13<00:00,  1.05it/s, WMAPE=2.76, DICE=0.0965, DPEAKS=55.9, Loss=0.000114]\n",
            "Validate Epoch 30: 100%|██████████| 20/20 [00:09<00:00,  2.04it/s, WMAPE=3.05, DICE=0.0982, DPEAKS=56.1, Loss=0.00014]\n"
          ]
        },
        {
          "name": "stdout",
          "output_type": "stream",
          "text": [
            "Epoch [31/100]\n"
          ]
        },
        {
          "name": "stderr",
          "output_type": "stream",
          "text": [
            "Train Epoch 31: 100%|██████████| 77/77 [01:13<00:00,  1.04it/s, WMAPE=2.8, DICE=0.1, DPEAKS=58.5, Loss=0.000124]\n",
            "Validate Epoch 31: 100%|██████████| 20/20 [00:09<00:00,  2.04it/s, WMAPE=2.71, DICE=0.0977, DPEAKS=57.2, Loss=0.000109]\n"
          ]
        },
        {
          "name": "stdout",
          "output_type": "stream",
          "text": [
            "Saving best model\n",
            "Epoch [32/100]\n"
          ]
        },
        {
          "name": "stderr",
          "output_type": "stream",
          "text": [
            "Train Epoch 32: 100%|██████████| 77/77 [01:13<00:00,  1.05it/s, WMAPE=2.71, DICE=0.0969, DPEAKS=56.5, Loss=0.000113]\n",
            "Validate Epoch 32: 100%|██████████| 20/20 [00:09<00:00,  2.01it/s, WMAPE=2.75, DICE=0.0973, DPEAKS=56.3, Loss=0.000107]\n"
          ]
        },
        {
          "name": "stdout",
          "output_type": "stream",
          "text": [
            "Saving best model\n",
            "Epoch [33/100]\n"
          ]
        },
        {
          "name": "stderr",
          "output_type": "stream",
          "text": [
            "Train Epoch 33: 100%|██████████| 77/77 [01:13<00:00,  1.05it/s, WMAPE=2.63, DICE=0.0937, DPEAKS=52, Loss=0.000105]\n",
            "Validate Epoch 33: 100%|██████████| 20/20 [00:10<00:00,  1.96it/s, WMAPE=2.67, DICE=0.0911, DPEAKS=51, Loss=0.000105]\n"
          ]
        },
        {
          "name": "stdout",
          "output_type": "stream",
          "text": [
            "Saving best model\n",
            "Epoch [34/100]\n"
          ]
        },
        {
          "name": "stderr",
          "output_type": "stream",
          "text": [
            "Train Epoch 34: 100%|██████████| 77/77 [01:15<00:00,  1.02it/s, WMAPE=2.62, DICE=0.0917, DPEAKS=51, Loss=0.000103]\n",
            "Validate Epoch 34: 100%|██████████| 20/20 [00:09<00:00,  2.03it/s, WMAPE=2.57, DICE=0.0919, DPEAKS=51.9, Loss=9.53e-5]\n"
          ]
        },
        {
          "name": "stdout",
          "output_type": "stream",
          "text": [
            "Saving best model\n",
            "Epoch [35/100]\n"
          ]
        },
        {
          "name": "stderr",
          "output_type": "stream",
          "text": [
            "Train Epoch 35: 100%|██████████| 77/77 [01:11<00:00,  1.07it/s, WMAPE=2.58, DICE=0.0913, DPEAKS=52, Loss=0.0001]\n",
            "Validate Epoch 35: 100%|██████████| 20/20 [00:09<00:00,  2.03it/s, WMAPE=2.46, DICE=0.0899, DPEAKS=51.6, Loss=8.94e-5]\n"
          ]
        },
        {
          "name": "stdout",
          "output_type": "stream",
          "text": [
            "Saving best model\n",
            "Epoch [36/100]\n"
          ]
        },
        {
          "name": "stderr",
          "output_type": "stream",
          "text": [
            "Train Epoch 36: 100%|██████████| 77/77 [01:11<00:00,  1.08it/s, WMAPE=2.63, DICE=0.0905, DPEAKS=50.6, Loss=0.000102]\n",
            "Validate Epoch 36: 100%|██████████| 20/20 [00:09<00:00,  2.04it/s, WMAPE=2.7, DICE=0.0905, DPEAKS=51.8, Loss=0.000109]\n"
          ]
        },
        {
          "name": "stdout",
          "output_type": "stream",
          "text": [
            "Epoch [37/100]\n"
          ]
        },
        {
          "name": "stderr",
          "output_type": "stream",
          "text": [
            "Train Epoch 37: 100%|██████████| 77/77 [01:11<00:00,  1.07it/s, WMAPE=2.46, DICE=0.0891, DPEAKS=49.9, Loss=8.99e-5]\n",
            "Validate Epoch 37: 100%|██████████| 20/20 [00:10<00:00,  1.99it/s, WMAPE=3.06, DICE=0.0887, DPEAKS=50.2, Loss=0.000135]\n"
          ]
        },
        {
          "name": "stdout",
          "output_type": "stream",
          "text": [
            "Epoch [38/100]\n"
          ]
        },
        {
          "name": "stderr",
          "output_type": "stream",
          "text": [
            "Train Epoch 38: 100%|██████████| 77/77 [01:10<00:00,  1.09it/s, WMAPE=2.47, DICE=0.088, DPEAKS=48, Loss=8.97e-5]\n",
            "Validate Epoch 38: 100%|██████████| 20/20 [00:09<00:00,  2.02it/s, WMAPE=2.66, DICE=0.0895, DPEAKS=50.7, Loss=0.000105]\n"
          ]
        },
        {
          "name": "stdout",
          "output_type": "stream",
          "text": [
            "Epoch [39/100]\n"
          ]
        },
        {
          "name": "stderr",
          "output_type": "stream",
          "text": [
            "Train Epoch 39: 100%|██████████| 77/77 [01:10<00:00,  1.10it/s, WMAPE=2.49, DICE=0.0888, DPEAKS=49.4, Loss=9.23e-5]\n",
            "Validate Epoch 39: 100%|██████████| 20/20 [00:09<00:00,  2.02it/s, WMAPE=3.41, DICE=0.0916, DPEAKS=54.6, Loss=0.000171]\n"
          ]
        },
        {
          "name": "stdout",
          "output_type": "stream",
          "text": [
            "Epoch [40/100]\n"
          ]
        },
        {
          "name": "stderr",
          "output_type": "stream",
          "text": [
            "Train Epoch 40: 100%|██████████| 77/77 [01:12<00:00,  1.07it/s, WMAPE=2.5, DICE=0.0899, DPEAKS=51.5, Loss=9.36e-5]\n",
            "Validate Epoch 40: 100%|██████████| 20/20 [00:09<00:00,  2.05it/s, WMAPE=2.53, DICE=0.0886, DPEAKS=51.1, Loss=8.85e-5]\n"
          ]
        },
        {
          "name": "stdout",
          "output_type": "stream",
          "text": [
            "Saving best model\n",
            "Epoch [41/100]\n"
          ]
        },
        {
          "name": "stderr",
          "output_type": "stream",
          "text": [
            "Train Epoch 41: 100%|██████████| 77/77 [01:10<00:00,  1.09it/s, WMAPE=2.27, DICE=0.0861, DPEAKS=47.8, Loss=7.84e-5]\n",
            "Validate Epoch 41: 100%|██████████| 20/20 [00:09<00:00,  2.03it/s, WMAPE=2.49, DICE=0.0851, DPEAKS=48.4, Loss=8.71e-5]\n"
          ]
        },
        {
          "name": "stdout",
          "output_type": "stream",
          "text": [
            "Saving best model\n",
            "Epoch [42/100]\n"
          ]
        },
        {
          "name": "stderr",
          "output_type": "stream",
          "text": [
            "Train Epoch 42: 100%|██████████| 77/77 [01:09<00:00,  1.10it/s, WMAPE=2.27, DICE=0.0846, DPEAKS=47.8, Loss=7.75e-5]\n",
            "Validate Epoch 42: 100%|██████████| 20/20 [00:09<00:00,  2.04it/s, WMAPE=2.5, DICE=0.0844, DPEAKS=48.6, Loss=8.6e-5]\n"
          ]
        },
        {
          "name": "stdout",
          "output_type": "stream",
          "text": [
            "Saving best model\n",
            "Epoch [43/100]\n"
          ]
        },
        {
          "name": "stderr",
          "output_type": "stream",
          "text": [
            "Train Epoch 43: 100%|██████████| 77/77 [01:09<00:00,  1.10it/s, WMAPE=2.29, DICE=0.0856, DPEAKS=48, Loss=7.92e-5]\n",
            "Validate Epoch 43: 100%|██████████| 20/20 [00:09<00:00,  2.02it/s, WMAPE=2.78, DICE=0.085, DPEAKS=48.1, Loss=0.000114]\n"
          ]
        },
        {
          "name": "stdout",
          "output_type": "stream",
          "text": [
            "Epoch [44/100]\n"
          ]
        },
        {
          "name": "stderr",
          "output_type": "stream",
          "text": [
            "Train Epoch 44: 100%|██████████| 77/77 [01:10<00:00,  1.10it/s, WMAPE=2.24, DICE=0.0831, DPEAKS=45.5, Loss=7.7e-5]\n",
            "Validate Epoch 44: 100%|██████████| 20/20 [00:09<00:00,  2.03it/s, WMAPE=2.4, DICE=0.0843, DPEAKS=48.7, Loss=8.62e-5]\n"
          ]
        },
        {
          "name": "stdout",
          "output_type": "stream",
          "text": [
            "Epoch [45/100]\n"
          ]
        },
        {
          "name": "stderr",
          "output_type": "stream",
          "text": [
            "Train Epoch 45: 100%|██████████| 77/77 [01:11<00:00,  1.08it/s, WMAPE=2.13, DICE=0.0809, DPEAKS=45.9, Loss=6.9e-5]\n",
            "Validate Epoch 45: 100%|██████████| 20/20 [00:09<00:00,  2.02it/s, WMAPE=2.96, DICE=0.0837, DPEAKS=50.4, Loss=0.000124]\n"
          ]
        },
        {
          "name": "stdout",
          "output_type": "stream",
          "text": [
            "Epoch [46/100]\n"
          ]
        },
        {
          "name": "stderr",
          "output_type": "stream",
          "text": [
            "Train Epoch 46: 100%|██████████| 77/77 [01:08<00:00,  1.12it/s, WMAPE=2.04, DICE=0.0791, DPEAKS=43.9, Loss=6.3e-5]\n",
            "Validate Epoch 46: 100%|██████████| 20/20 [00:09<00:00,  2.08it/s, WMAPE=2.46, DICE=0.08, DPEAKS=45, Loss=8.55e-5]\n"
          ]
        },
        {
          "name": "stdout",
          "output_type": "stream",
          "text": [
            "Saving best model\n",
            "Epoch [47/100]\n"
          ]
        },
        {
          "name": "stderr",
          "output_type": "stream",
          "text": [
            "Train Epoch 47: 100%|██████████| 77/77 [01:08<00:00,  1.12it/s, WMAPE=2.24, DICE=0.0814, DPEAKS=45.9, Loss=7.5e-5]\n",
            "Validate Epoch 47: 100%|██████████| 20/20 [00:09<00:00,  2.08it/s, WMAPE=2.43, DICE=0.0804, DPEAKS=49.3, Loss=8.44e-5]\n"
          ]
        },
        {
          "name": "stdout",
          "output_type": "stream",
          "text": [
            "Saving best model\n",
            "Epoch [48/100]\n"
          ]
        },
        {
          "name": "stderr",
          "output_type": "stream",
          "text": [
            "Train Epoch 48: 100%|██████████| 77/77 [01:08<00:00,  1.12it/s, WMAPE=1.98, DICE=0.0779, DPEAKS=43.2, Loss=5.96e-5]\n",
            "Validate Epoch 48: 100%|██████████| 20/20 [00:09<00:00,  2.11it/s, WMAPE=2.36, DICE=0.0776, DPEAKS=43.5, Loss=8.15e-5]\n"
          ]
        },
        {
          "name": "stdout",
          "output_type": "stream",
          "text": [
            "Saving best model\n",
            "Epoch [49/100]\n"
          ]
        },
        {
          "name": "stderr",
          "output_type": "stream",
          "text": [
            "Train Epoch 49: 100%|██████████| 77/77 [01:08<00:00,  1.13it/s, WMAPE=1.89, DICE=0.0755, DPEAKS=42.2, Loss=5.38e-5]\n",
            "Validate Epoch 49: 100%|██████████| 20/20 [00:09<00:00,  2.09it/s, WMAPE=2.32, DICE=0.0764, DPEAKS=40.4, Loss=7.87e-5]\n"
          ]
        },
        {
          "name": "stdout",
          "output_type": "stream",
          "text": [
            "Saving best model\n",
            "Epoch [50/100]\n"
          ]
        },
        {
          "name": "stderr",
          "output_type": "stream",
          "text": [
            "Train Epoch 50: 100%|██████████| 77/77 [01:08<00:00,  1.12it/s, WMAPE=1.99, DICE=0.0756, DPEAKS=42.2, Loss=6.06e-5]\n",
            "Validate Epoch 50: 100%|██████████| 20/20 [00:10<00:00,  1.90it/s, WMAPE=2.42, DICE=0.0761, DPEAKS=42.5, Loss=8.54e-5]\n"
          ]
        },
        {
          "name": "stdout",
          "output_type": "stream",
          "text": [
            "Epoch [51/100]\n"
          ]
        },
        {
          "name": "stderr",
          "output_type": "stream",
          "text": [
            "Train Epoch 51: 100%|██████████| 77/77 [01:14<00:00,  1.04it/s, WMAPE=1.93, DICE=0.0754, DPEAKS=41.5, Loss=5.67e-5]\n",
            "Validate Epoch 51: 100%|██████████| 20/20 [00:10<00:00,  1.88it/s, WMAPE=2.34, DICE=0.0745, DPEAKS=40.3, Loss=8.13e-5]\n"
          ]
        },
        {
          "name": "stdout",
          "output_type": "stream",
          "text": [
            "Epoch [52/100]\n"
          ]
        },
        {
          "name": "stderr",
          "output_type": "stream",
          "text": [
            "Train Epoch 52: 100%|██████████| 77/77 [01:15<00:00,  1.02it/s, WMAPE=1.88, DICE=0.0732, DPEAKS=39.8, Loss=5.31e-5]\n",
            "Validate Epoch 52: 100%|██████████| 20/20 [00:09<00:00,  2.07it/s, WMAPE=2.72, DICE=0.0746, DPEAKS=41.7, Loss=0.000111]\n"
          ]
        },
        {
          "name": "stdout",
          "output_type": "stream",
          "text": [
            "Epoch [53/100]\n"
          ]
        },
        {
          "name": "stderr",
          "output_type": "stream",
          "text": [
            "Train Epoch 53: 100%|██████████| 77/77 [01:09<00:00,  1.11it/s, WMAPE=1.87, DICE=0.0732, DPEAKS=40.6, Loss=5.32e-5]\n",
            "Validate Epoch 53: 100%|██████████| 20/20 [00:09<00:00,  2.00it/s, WMAPE=2.49, DICE=0.0733, DPEAKS=42.3, Loss=8.53e-5]\n"
          ]
        },
        {
          "name": "stdout",
          "output_type": "stream",
          "text": [
            "Epoch [54/100]\n"
          ]
        },
        {
          "name": "stderr",
          "output_type": "stream",
          "text": [
            "Train Epoch 54: 100%|██████████| 77/77 [01:12<00:00,  1.06it/s, WMAPE=1.76, DICE=0.0712, DPEAKS=38.6, Loss=4.8e-5]\n",
            "Validate Epoch 54: 100%|██████████| 20/20 [00:10<00:00,  1.96it/s, WMAPE=2.29, DICE=0.0718, DPEAKS=41, Loss=7.81e-5]\n"
          ]
        },
        {
          "name": "stdout",
          "output_type": "stream",
          "text": [
            "Saving best model\n",
            "Epoch [55/100]\n"
          ]
        },
        {
          "name": "stderr",
          "output_type": "stream",
          "text": [
            "Train Epoch 55: 100%|██████████| 77/77 [01:11<00:00,  1.07it/s, WMAPE=1.83, DICE=0.0722, DPEAKS=39.9, Loss=5.07e-5]\n",
            "Validate Epoch 55: 100%|██████████| 20/20 [00:09<00:00,  2.03it/s, WMAPE=2.38, DICE=0.0723, DPEAKS=41, Loss=8.06e-5]\n"
          ]
        },
        {
          "name": "stdout",
          "output_type": "stream",
          "text": [
            "Epoch [56/100]\n"
          ]
        },
        {
          "name": "stderr",
          "output_type": "stream",
          "text": [
            "Train Epoch 56: 100%|██████████| 77/77 [01:16<00:00,  1.01it/s, WMAPE=1.68, DICE=0.0697, DPEAKS=37.3, Loss=4.36e-5]\n",
            "Validate Epoch 56: 100%|██████████| 20/20 [00:10<00:00,  1.90it/s, WMAPE=2.28, DICE=0.0693, DPEAKS=40, Loss=7.65e-5]\n"
          ]
        },
        {
          "name": "stdout",
          "output_type": "stream",
          "text": [
            "Saving best model\n",
            "Epoch [57/100]\n"
          ]
        },
        {
          "name": "stderr",
          "output_type": "stream",
          "text": [
            "Train Epoch 57: 100%|██████████| 77/77 [01:16<00:00,  1.01it/s, WMAPE=1.73, DICE=0.0705, DPEAKS=38.3, Loss=4.7e-5]\n",
            "Validate Epoch 57: 100%|██████████| 20/20 [00:10<00:00,  1.97it/s, WMAPE=2.24, DICE=0.0694, DPEAKS=39.7, Loss=7.49e-5]\n"
          ]
        },
        {
          "name": "stdout",
          "output_type": "stream",
          "text": [
            "Saving best model\n",
            "Epoch [58/100]\n"
          ]
        },
        {
          "name": "stderr",
          "output_type": "stream",
          "text": [
            "Train Epoch 58: 100%|██████████| 77/77 [01:12<00:00,  1.07it/s, WMAPE=1.65, DICE=0.0676, DPEAKS=36.5, Loss=4.08e-5]\n",
            "Validate Epoch 58: 100%|██████████| 20/20 [00:09<00:00,  2.05it/s, WMAPE=2.38, DICE=0.0684, DPEAKS=38.1, Loss=8.23e-5]\n"
          ]
        },
        {
          "name": "stdout",
          "output_type": "stream",
          "text": [
            "Epoch [59/100]\n"
          ]
        },
        {
          "name": "stderr",
          "output_type": "stream",
          "text": [
            "Train Epoch 59: 100%|██████████| 77/77 [01:11<00:00,  1.07it/s, WMAPE=1.65, DICE=0.0675, DPEAKS=36.2, Loss=4.16e-5]\n",
            "Validate Epoch 59: 100%|██████████| 20/20 [00:10<00:00,  1.98it/s, WMAPE=2.33, DICE=0.0672, DPEAKS=38.4, Loss=7.67e-5]\n"
          ]
        },
        {
          "name": "stdout",
          "output_type": "stream",
          "text": [
            "Epoch [60/100]\n"
          ]
        },
        {
          "name": "stderr",
          "output_type": "stream",
          "text": [
            "Train Epoch 60: 100%|██████████| 77/77 [01:12<00:00,  1.06it/s, WMAPE=1.56, DICE=0.0654, DPEAKS=33.7, Loss=3.77e-5]\n",
            "Validate Epoch 60: 100%|██████████| 20/20 [00:10<00:00,  1.98it/s, WMAPE=2.28, DICE=0.0663, DPEAKS=37.5, Loss=7.73e-5]\n"
          ]
        },
        {
          "name": "stdout",
          "output_type": "stream",
          "text": [
            "Epoch [61/100]\n"
          ]
        },
        {
          "name": "stderr",
          "output_type": "stream",
          "text": [
            "Train Epoch 61: 100%|██████████| 77/77 [01:10<00:00,  1.10it/s, WMAPE=1.68, DICE=0.0673, DPEAKS=36.9, Loss=4.36e-5]\n",
            "Validate Epoch 61: 100%|██████████| 20/20 [00:10<00:00,  1.98it/s, WMAPE=2.24, DICE=0.0663, DPEAKS=38, Loss=7.3e-5]\n"
          ]
        },
        {
          "name": "stdout",
          "output_type": "stream",
          "text": [
            "Saving best model\n",
            "Epoch [62/100]\n"
          ]
        },
        {
          "name": "stderr",
          "output_type": "stream",
          "text": [
            "Train Epoch 62: 100%|██████████| 77/77 [01:10<00:00,  1.08it/s, WMAPE=1.57, DICE=0.0647, DPEAKS=34.5, Loss=3.78e-5]\n",
            "Validate Epoch 62: 100%|██████████| 20/20 [00:10<00:00,  1.99it/s, WMAPE=2.2, DICE=0.066, DPEAKS=35.5, Loss=7.34e-5]\n"
          ]
        },
        {
          "name": "stdout",
          "output_type": "stream",
          "text": [
            "Epoch [63/100]\n"
          ]
        },
        {
          "name": "stderr",
          "output_type": "stream",
          "text": [
            "Train Epoch 63: 100%|██████████| 77/77 [01:11<00:00,  1.08it/s, WMAPE=1.5, DICE=0.0638, DPEAKS=34.9, Loss=3.43e-5]\n",
            "Validate Epoch 63: 100%|██████████| 20/20 [00:09<00:00,  2.09it/s, WMAPE=2.24, DICE=0.064, DPEAKS=34.1, Loss=7.4e-5]\n"
          ]
        },
        {
          "name": "stdout",
          "output_type": "stream",
          "text": [
            "Epoch [64/100]\n"
          ]
        },
        {
          "name": "stderr",
          "output_type": "stream",
          "text": [
            "Train Epoch 64: 100%|██████████| 77/77 [01:10<00:00,  1.09it/s, WMAPE=1.48, DICE=0.063, DPEAKS=32.1, Loss=3.35e-5]\n",
            "Validate Epoch 64: 100%|██████████| 20/20 [00:09<00:00,  2.04it/s, WMAPE=2.13, DICE=0.0632, DPEAKS=35, Loss=6.83e-5]\n"
          ]
        },
        {
          "name": "stdout",
          "output_type": "stream",
          "text": [
            "Saving best model\n",
            "Epoch [65/100]\n"
          ]
        },
        {
          "name": "stderr",
          "output_type": "stream",
          "text": [
            "Train Epoch 65: 100%|██████████| 77/77 [01:11<00:00,  1.08it/s, WMAPE=1.55, DICE=0.0633, DPEAKS=33.4, Loss=3.7e-5]\n",
            "Validate Epoch 65: 100%|██████████| 20/20 [00:09<00:00,  2.01it/s, WMAPE=2.31, DICE=0.065, DPEAKS=36.5, Loss=7.95e-5]\n"
          ]
        },
        {
          "name": "stdout",
          "output_type": "stream",
          "text": [
            "Epoch [66/100]\n"
          ]
        },
        {
          "name": "stderr",
          "output_type": "stream",
          "text": [
            "Train Epoch 66: 100%|██████████| 77/77 [01:09<00:00,  1.11it/s, WMAPE=1.48, DICE=0.0626, DPEAKS=32.7, Loss=3.35e-5]\n",
            "Validate Epoch 66: 100%|██████████| 20/20 [00:09<00:00,  2.02it/s, WMAPE=2.13, DICE=0.0624, DPEAKS=32.6, Loss=6.97e-5]\n"
          ]
        },
        {
          "name": "stdout",
          "output_type": "stream",
          "text": [
            "Epoch [67/100]\n"
          ]
        },
        {
          "name": "stderr",
          "output_type": "stream",
          "text": [
            "Train Epoch 67: 100%|██████████| 77/77 [01:11<00:00,  1.08it/s, WMAPE=1.48, DICE=0.0617, DPEAKS=32.5, Loss=3.38e-5]\n",
            "Validate Epoch 67: 100%|██████████| 20/20 [00:09<00:00,  2.06it/s, WMAPE=2.25, DICE=0.0628, DPEAKS=36, Loss=7.5e-5]\n"
          ]
        },
        {
          "name": "stdout",
          "output_type": "stream",
          "text": [
            "Epoch [68/100]\n"
          ]
        },
        {
          "name": "stderr",
          "output_type": "stream",
          "text": [
            "Train Epoch 68: 100%|██████████| 77/77 [01:10<00:00,  1.09it/s, WMAPE=1.48, DICE=0.0618, DPEAKS=32.8, Loss=3.45e-5]\n",
            "Validate Epoch 68: 100%|██████████| 20/20 [00:09<00:00,  2.05it/s, WMAPE=2.23, DICE=0.0633, DPEAKS=33.4, Loss=7.18e-5]\n"
          ]
        },
        {
          "name": "stdout",
          "output_type": "stream",
          "text": [
            "Epoch [69/100]\n"
          ]
        },
        {
          "name": "stderr",
          "output_type": "stream",
          "text": [
            "Train Epoch 69: 100%|██████████| 77/77 [01:13<00:00,  1.05it/s, WMAPE=1.61, DICE=0.0638, DPEAKS=34.4, Loss=3.91e-5]\n",
            "Validate Epoch 69: 100%|██████████| 20/20 [00:09<00:00,  2.06it/s, WMAPE=2.33, DICE=0.0642, DPEAKS=35.8, Loss=7.57e-5]\n"
          ]
        },
        {
          "name": "stdout",
          "output_type": "stream",
          "text": [
            "early stopping: 5 epochs without improvement\n",
            "Training complete.\n"
          ]
        },
        {
          "name": "stderr",
          "output_type": "stream",
          "text": [
            "Validate Epoch test: 100%|██████████| 486/486 [02:58<00:00,  2.72it/s, WMAPE=2.24, DICE=0.0631, DPEAKS=32.6, Loss=7.25e-5]\n"
          ]
        },
        {
          "name": "stdout",
          "output_type": "stream",
          "text": [
            "Partition 2: training decoder\n",
            "Loaded best model from partition 1\n",
            "Epoch [1/100]\n"
          ]
        },
        {
          "name": "stderr",
          "output_type": "stream",
          "text": [
            "Train Epoch 1: 100%|██████████| 77/77 [01:10<00:00,  1.09it/s, WMAPE=2.67, DICE=0.0741, DPEAKS=43.6, Loss=0.000112]\n",
            "Validate Epoch 1: 100%|██████████| 20/20 [00:10<00:00,  1.89it/s, WMAPE=2.25, DICE=0.0652, DPEAKS=34.9, Loss=7.11e-5]\n"
          ]
        },
        {
          "name": "stdout",
          "output_type": "stream",
          "text": [
            "Saving best model\n",
            "Epoch [2/100]\n"
          ]
        },
        {
          "name": "stderr",
          "output_type": "stream",
          "text": [
            "Train Epoch 2: 100%|██████████| 77/77 [01:10<00:00,  1.09it/s, WMAPE=2.12, DICE=0.0641, DPEAKS=35.8, Loss=6.56e-5]\n",
            "Validate Epoch 2: 100%|██████████| 20/20 [00:10<00:00,  1.91it/s, WMAPE=2.49, DICE=0.0636, DPEAKS=35.4, Loss=8.83e-5]\n"
          ]
        },
        {
          "name": "stdout",
          "output_type": "stream",
          "text": [
            "Epoch [3/100]\n"
          ]
        },
        {
          "name": "stderr",
          "output_type": "stream",
          "text": [
            "Train Epoch 3: 100%|██████████| 77/77 [01:11<00:00,  1.07it/s, WMAPE=2.13, DICE=0.0632, DPEAKS=34.4, Loss=6.59e-5]\n",
            "Validate Epoch 3: 100%|██████████| 20/20 [00:10<00:00,  1.89it/s, WMAPE=2.08, DICE=0.0628, DPEAKS=33.1, Loss=5.99e-5]\n"
          ]
        },
        {
          "name": "stdout",
          "output_type": "stream",
          "text": [
            "Saving best model\n",
            "Epoch [4/100]\n"
          ]
        },
        {
          "name": "stderr",
          "output_type": "stream",
          "text": [
            "Train Epoch 4: 100%|██████████| 77/77 [01:12<00:00,  1.07it/s, WMAPE=2.04, DICE=0.0628, DPEAKS=33.5, Loss=6.09e-5]\n",
            "Validate Epoch 4: 100%|██████████| 20/20 [00:10<00:00,  1.89it/s, WMAPE=2.06, DICE=0.0636, DPEAKS=33.4, Loss=6.22e-5]\n"
          ]
        },
        {
          "name": "stdout",
          "output_type": "stream",
          "text": [
            "Epoch [5/100]\n"
          ]
        },
        {
          "name": "stderr",
          "output_type": "stream",
          "text": [
            "Train Epoch 5: 100%|██████████| 77/77 [01:12<00:00,  1.06it/s, WMAPE=2.15, DICE=0.0639, DPEAKS=34.6, Loss=6.58e-5]\n",
            "Validate Epoch 5: 100%|██████████| 20/20 [00:10<00:00,  1.91it/s, WMAPE=2.18, DICE=0.0626, DPEAKS=33.5, Loss=6.1e-5]\n"
          ]
        },
        {
          "name": "stdout",
          "output_type": "stream",
          "text": [
            "Epoch [6/100]\n"
          ]
        },
        {
          "name": "stderr",
          "output_type": "stream",
          "text": [
            "Train Epoch 6: 100%|██████████| 77/77 [01:12<00:00,  1.06it/s, WMAPE=2.04, DICE=0.0623, DPEAKS=34, Loss=6.01e-5]\n",
            "Validate Epoch 6: 100%|██████████| 20/20 [00:10<00:00,  1.90it/s, WMAPE=2.06, DICE=0.062, DPEAKS=33.4, Loss=5.97e-5]\n"
          ]
        },
        {
          "name": "stdout",
          "output_type": "stream",
          "text": [
            "Saving best model\n",
            "Epoch [7/100]\n"
          ]
        },
        {
          "name": "stderr",
          "output_type": "stream",
          "text": [
            "Train Epoch 7: 100%|██████████| 77/77 [01:12<00:00,  1.06it/s, WMAPE=2.08, DICE=0.0632, DPEAKS=34.5, Loss=6.25e-5]\n",
            "Validate Epoch 7: 100%|██████████| 20/20 [00:10<00:00,  1.88it/s, WMAPE=2.42, DICE=0.0654, DPEAKS=33.6, Loss=7.62e-5]\n"
          ]
        },
        {
          "name": "stdout",
          "output_type": "stream",
          "text": [
            "Epoch [8/100]\n"
          ]
        },
        {
          "name": "stderr",
          "output_type": "stream",
          "text": [
            "Train Epoch 8: 100%|██████████| 77/77 [01:12<00:00,  1.06it/s, WMAPE=2.04, DICE=0.0634, DPEAKS=34.9, Loss=6.08e-5]\n",
            "Validate Epoch 8: 100%|██████████| 20/20 [00:10<00:00,  1.88it/s, WMAPE=2.02, DICE=0.0619, DPEAKS=33.6, Loss=5.56e-5]\n"
          ]
        },
        {
          "name": "stdout",
          "output_type": "stream",
          "text": [
            "Saving best model\n",
            "Epoch [9/100]\n"
          ]
        },
        {
          "name": "stderr",
          "output_type": "stream",
          "text": [
            "Train Epoch 9: 100%|██████████| 77/77 [01:07<00:00,  1.14it/s, WMAPE=1.96, DICE=0.0619, DPEAKS=33.2, Loss=5.52e-5]\n",
            "Validate Epoch 9: 100%|██████████| 20/20 [00:09<00:00,  2.09it/s, WMAPE=2.02, DICE=0.0615, DPEAKS=32.7, Loss=5.54e-5]\n"
          ]
        },
        {
          "name": "stdout",
          "output_type": "stream",
          "text": [
            "Saving best model\n",
            "Epoch [10/100]\n"
          ]
        },
        {
          "name": "stderr",
          "output_type": "stream",
          "text": [
            "Train Epoch 10: 100%|██████████| 77/77 [01:08<00:00,  1.13it/s, WMAPE=1.93, DICE=0.0618, DPEAKS=33.3, Loss=5.46e-5]\n",
            "Validate Epoch 10: 100%|██████████| 20/20 [00:09<00:00,  2.03it/s, WMAPE=2.08, DICE=0.062, DPEAKS=33.6, Loss=5.79e-5]\n"
          ]
        },
        {
          "name": "stdout",
          "output_type": "stream",
          "text": [
            "Epoch [11/100]\n"
          ]
        },
        {
          "name": "stderr",
          "output_type": "stream",
          "text": [
            "Train Epoch 11: 100%|██████████| 77/77 [01:07<00:00,  1.15it/s, WMAPE=1.95, DICE=0.0619, DPEAKS=33.9, Loss=5.48e-5]\n",
            "Validate Epoch 11: 100%|██████████| 20/20 [00:09<00:00,  2.11it/s, WMAPE=2.03, DICE=0.0621, DPEAKS=32.8, Loss=5.8e-5]\n"
          ]
        },
        {
          "name": "stdout",
          "output_type": "stream",
          "text": [
            "Epoch [12/100]\n"
          ]
        },
        {
          "name": "stderr",
          "output_type": "stream",
          "text": [
            "Train Epoch 12: 100%|██████████| 77/77 [01:05<00:00,  1.17it/s, WMAPE=1.95, DICE=0.0621, DPEAKS=34.2, Loss=5.52e-5]\n",
            "Validate Epoch 12: 100%|██████████| 20/20 [00:09<00:00,  2.04it/s, WMAPE=2.02, DICE=0.0616, DPEAKS=31, Loss=5.79e-5]\n"
          ]
        },
        {
          "name": "stdout",
          "output_type": "stream",
          "text": [
            "Epoch [13/100]\n"
          ]
        },
        {
          "name": "stderr",
          "output_type": "stream",
          "text": [
            "Train Epoch 13: 100%|██████████| 77/77 [01:06<00:00,  1.16it/s, WMAPE=1.94, DICE=0.0615, DPEAKS=34.2, Loss=5.45e-5]\n",
            "Validate Epoch 13: 100%|██████████| 20/20 [00:09<00:00,  2.03it/s, WMAPE=2, DICE=0.0614, DPEAKS=33.6, Loss=5.74e-5]\n"
          ]
        },
        {
          "name": "stdout",
          "output_type": "stream",
          "text": [
            "Epoch [14/100]\n"
          ]
        },
        {
          "name": "stderr",
          "output_type": "stream",
          "text": [
            "Train Epoch 14: 100%|██████████| 77/77 [01:06<00:00,  1.16it/s, WMAPE=1.95, DICE=0.0614, DPEAKS=33.6, Loss=5.52e-5]\n",
            "Validate Epoch 14: 100%|██████████| 20/20 [00:09<00:00,  2.02it/s, WMAPE=2.03, DICE=0.0613, DPEAKS=33.2, Loss=5.7e-5]\n"
          ]
        },
        {
          "name": "stdout",
          "output_type": "stream",
          "text": [
            "early stopping: 5 epochs without improvement\n",
            "Training complete.\n"
          ]
        },
        {
          "name": "stderr",
          "output_type": "stream",
          "text": [
            "Validate Epoch test: 100%|██████████| 486/486 [03:02<00:00,  2.66it/s, WMAPE=1.98, DICE=0.0613, DPEAKS=32.8, Loss=5.49e-5]\n"
          ]
        },
        {
          "name": "stdout",
          "output_type": "stream",
          "text": [
            "Partition 3: training decoder\n",
            "Loaded best model from partition 2\n",
            "Epoch [1/100]\n"
          ]
        },
        {
          "name": "stderr",
          "output_type": "stream",
          "text": [
            "Train Epoch 1: 100%|██████████| 77/77 [01:10<00:00,  1.10it/s, WMAPE=2.76, DICE=0.0819, DPEAKS=49.7, Loss=0.000131]\n",
            "Validate Epoch 1: 100%|██████████| 20/20 [00:10<00:00,  1.83it/s, WMAPE=2.08, DICE=0.065, DPEAKS=36, Loss=6.36e-5]\n"
          ]
        },
        {
          "name": "stdout",
          "output_type": "stream",
          "text": [
            "Saving best model\n",
            "Epoch [2/100]\n"
          ]
        },
        {
          "name": "stderr",
          "output_type": "stream",
          "text": [
            "Train Epoch 2: 100%|██████████| 77/77 [01:05<00:00,  1.17it/s, WMAPE=2.06, DICE=0.0634, DPEAKS=34.2, Loss=6.02e-5]\n",
            "Validate Epoch 2: 100%|██████████| 20/20 [00:10<00:00,  1.99it/s, WMAPE=1.95, DICE=0.0623, DPEAKS=35.5, Loss=5.68e-5]\n"
          ]
        },
        {
          "name": "stdout",
          "output_type": "stream",
          "text": [
            "Saving best model\n",
            "Epoch [3/100]\n"
          ]
        },
        {
          "name": "stderr",
          "output_type": "stream",
          "text": [
            "Train Epoch 3: 100%|██████████| 77/77 [01:06<00:00,  1.16it/s, WMAPE=2.02, DICE=0.0622, DPEAKS=34.1, Loss=5.76e-5]\n",
            "Validate Epoch 3: 100%|██████████| 20/20 [00:09<00:00,  2.10it/s, WMAPE=2.06, DICE=0.0624, DPEAKS=35.5, Loss=6.09e-5]\n"
          ]
        },
        {
          "name": "stdout",
          "output_type": "stream",
          "text": [
            "Epoch [4/100]\n"
          ]
        },
        {
          "name": "stderr",
          "output_type": "stream",
          "text": [
            "Train Epoch 4: 100%|██████████| 77/77 [01:05<00:00,  1.18it/s, WMAPE=2.06, DICE=0.0627, DPEAKS=34.1, Loss=6.11e-5]\n",
            "Validate Epoch 4: 100%|██████████| 20/20 [00:09<00:00,  2.12it/s, WMAPE=1.95, DICE=0.0651, DPEAKS=39.7, Loss=5.84e-5]\n"
          ]
        },
        {
          "name": "stdout",
          "output_type": "stream",
          "text": [
            "Epoch [5/100]\n"
          ]
        },
        {
          "name": "stderr",
          "output_type": "stream",
          "text": [
            "Train Epoch 5: 100%|██████████| 77/77 [01:09<00:00,  1.11it/s, WMAPE=2.07, DICE=0.0622, DPEAKS=33.8, Loss=6.05e-5]\n",
            "Validate Epoch 5: 100%|██████████| 20/20 [00:10<00:00,  1.98it/s, WMAPE=1.94, DICE=0.0615, DPEAKS=34.5, Loss=5.61e-5]\n"
          ]
        },
        {
          "name": "stdout",
          "output_type": "stream",
          "text": [
            "Saving best model\n",
            "Epoch [6/100]\n"
          ]
        },
        {
          "name": "stderr",
          "output_type": "stream",
          "text": [
            "Train Epoch 6: 100%|██████████| 77/77 [01:12<00:00,  1.06it/s, WMAPE=1.96, DICE=0.0615, DPEAKS=32.7, Loss=5.46e-5]\n",
            "Validate Epoch 6: 100%|██████████| 20/20 [00:10<00:00,  1.85it/s, WMAPE=1.91, DICE=0.0611, DPEAKS=35.3, Loss=5.51e-5]\n"
          ]
        },
        {
          "name": "stdout",
          "output_type": "stream",
          "text": [
            "Saving best model\n",
            "Epoch [7/100]\n"
          ]
        },
        {
          "name": "stderr",
          "output_type": "stream",
          "text": [
            "Train Epoch 7: 100%|██████████| 77/77 [01:14<00:00,  1.03it/s, WMAPE=2.02, DICE=0.0617, DPEAKS=33, Loss=5.75e-5]\n",
            "Validate Epoch 7: 100%|██████████| 20/20 [00:10<00:00,  1.84it/s, WMAPE=1.9, DICE=0.0619, DPEAKS=34.5, Loss=5.55e-5]\n"
          ]
        },
        {
          "name": "stdout",
          "output_type": "stream",
          "text": [
            "Epoch [8/100]\n"
          ]
        },
        {
          "name": "stderr",
          "output_type": "stream",
          "text": [
            "Train Epoch 8: 100%|██████████| 77/77 [01:13<00:00,  1.04it/s, WMAPE=1.99, DICE=0.0614, DPEAKS=32, Loss=5.62e-5]\n",
            "Validate Epoch 8: 100%|██████████| 20/20 [00:10<00:00,  1.99it/s, WMAPE=1.92, DICE=0.0613, DPEAKS=34.6, Loss=5.58e-5]\n"
          ]
        },
        {
          "name": "stdout",
          "output_type": "stream",
          "text": [
            "Epoch [9/100]\n"
          ]
        },
        {
          "name": "stderr",
          "output_type": "stream",
          "text": [
            "Train Epoch 9: 100%|██████████| 77/77 [01:06<00:00,  1.17it/s, WMAPE=1.99, DICE=0.0617, DPEAKS=31.9, Loss=5.63e-5]\n",
            "Validate Epoch 9: 100%|██████████| 20/20 [00:09<00:00,  2.07it/s, WMAPE=1.95, DICE=0.0612, DPEAKS=35.3, Loss=5.93e-5]\n"
          ]
        },
        {
          "name": "stdout",
          "output_type": "stream",
          "text": [
            "Epoch [10/100]\n"
          ]
        },
        {
          "name": "stderr",
          "output_type": "stream",
          "text": [
            "Train Epoch 10: 100%|██████████| 77/77 [01:05<00:00,  1.17it/s, WMAPE=1.96, DICE=0.0612, DPEAKS=31.7, Loss=5.44e-5]\n",
            "Validate Epoch 10: 100%|██████████| 20/20 [00:09<00:00,  2.10it/s, WMAPE=1.91, DICE=0.0611, DPEAKS=33.7, Loss=5.56e-5]\n"
          ]
        },
        {
          "name": "stdout",
          "output_type": "stream",
          "text": [
            "Epoch [11/100]\n"
          ]
        },
        {
          "name": "stderr",
          "output_type": "stream",
          "text": [
            "Train Epoch 11: 100%|██████████| 77/77 [01:05<00:00,  1.18it/s, WMAPE=1.99, DICE=0.0618, DPEAKS=32.5, Loss=5.6e-5]\n",
            "Validate Epoch 11: 100%|██████████| 20/20 [00:09<00:00,  2.11it/s, WMAPE=2.12, DICE=0.0613, DPEAKS=35.7, Loss=6.25e-5]\n"
          ]
        },
        {
          "name": "stdout",
          "output_type": "stream",
          "text": [
            "early stopping: 5 epochs without improvement\n",
            "Training complete.\n"
          ]
        },
        {
          "name": "stderr",
          "output_type": "stream",
          "text": [
            "Validate Epoch test: 100%|██████████| 486/486 [02:59<00:00,  2.70it/s, WMAPE=1.93, DICE=0.061, DPEAKS=33, Loss=5.34e-5]\n"
          ]
        },
        {
          "name": "stdout",
          "output_type": "stream",
          "text": [
            "Partition 4: training decoder\n",
            "Loaded best model from partition 3\n",
            "Epoch [1/100]\n"
          ]
        },
        {
          "name": "stderr",
          "output_type": "stream",
          "text": [
            "Train Epoch 1: 100%|██████████| 77/77 [01:16<00:00,  1.01it/s, WMAPE=2.35, DICE=0.0724, DPEAKS=41.5, Loss=9.3e-5]\n",
            "Validate Epoch 1: 100%|██████████| 20/20 [00:12<00:00,  1.66it/s, WMAPE=2.16, DICE=0.0622, DPEAKS=36.1, Loss=6.56e-5]\n"
          ]
        },
        {
          "name": "stdout",
          "output_type": "stream",
          "text": [
            "Saving best model\n",
            "Epoch [2/100]\n"
          ]
        },
        {
          "name": "stderr",
          "output_type": "stream",
          "text": [
            "Train Epoch 2: 100%|██████████| 77/77 [01:11<00:00,  1.07it/s, WMAPE=2, DICE=0.0614, DPEAKS=33, Loss=5.62e-5]\n",
            "Validate Epoch 2: 100%|██████████| 20/20 [00:09<00:00,  2.08it/s, WMAPE=1.93, DICE=0.0611, DPEAKS=33.8, Loss=5.38e-5]\n"
          ]
        },
        {
          "name": "stdout",
          "output_type": "stream",
          "text": [
            "Saving best model\n",
            "Epoch [3/100]\n"
          ]
        },
        {
          "name": "stderr",
          "output_type": "stream",
          "text": [
            "Train Epoch 3: 100%|██████████| 77/77 [01:04<00:00,  1.19it/s, WMAPE=1.97, DICE=0.0608, DPEAKS=31.4, Loss=5.41e-5]\n",
            "Validate Epoch 3: 100%|██████████| 20/20 [00:09<00:00,  2.10it/s, WMAPE=2.03, DICE=0.0609, DPEAKS=33.4, Loss=5.57e-5]\n"
          ]
        },
        {
          "name": "stdout",
          "output_type": "stream",
          "text": [
            "Epoch [4/100]\n"
          ]
        },
        {
          "name": "stderr",
          "output_type": "stream",
          "text": [
            "Train Epoch 4: 100%|██████████| 77/77 [01:04<00:00,  1.19it/s, WMAPE=1.96, DICE=0.0607, DPEAKS=31.4, Loss=5.39e-5]\n",
            "Validate Epoch 4: 100%|██████████| 20/20 [00:09<00:00,  2.11it/s, WMAPE=1.98, DICE=0.0607, DPEAKS=32.9, Loss=5.54e-5]\n"
          ]
        },
        {
          "name": "stdout",
          "output_type": "stream",
          "text": [
            "Epoch [5/100]\n"
          ]
        },
        {
          "name": "stderr",
          "output_type": "stream",
          "text": [
            "Train Epoch 5: 100%|██████████| 77/77 [01:04<00:00,  1.19it/s, WMAPE=1.95, DICE=0.0604, DPEAKS=30.9, Loss=5.34e-5]\n",
            "Validate Epoch 5: 100%|██████████| 20/20 [00:09<00:00,  2.12it/s, WMAPE=2.03, DICE=0.0602, DPEAKS=34.2, Loss=5.82e-5]\n"
          ]
        },
        {
          "name": "stdout",
          "output_type": "stream",
          "text": [
            "Epoch [6/100]\n"
          ]
        },
        {
          "name": "stderr",
          "output_type": "stream",
          "text": [
            "Train Epoch 6: 100%|██████████| 77/77 [01:10<00:00,  1.10it/s, WMAPE=1.94, DICE=0.0605, DPEAKS=31.5, Loss=5.29e-5]\n",
            "Validate Epoch 6: 100%|██████████| 20/20 [00:10<00:00,  1.87it/s, WMAPE=1.9, DICE=0.061, DPEAKS=35.2, Loss=5.28e-5]\n"
          ]
        },
        {
          "name": "stdout",
          "output_type": "stream",
          "text": [
            "Saving best model\n",
            "Epoch [7/100]\n"
          ]
        },
        {
          "name": "stderr",
          "output_type": "stream",
          "text": [
            "Train Epoch 7: 100%|██████████| 77/77 [01:13<00:00,  1.05it/s, WMAPE=1.93, DICE=0.0604, DPEAKS=31.4, Loss=5.18e-5]\n",
            "Validate Epoch 7: 100%|██████████| 20/20 [00:10<00:00,  1.88it/s, WMAPE=1.95, DICE=0.0604, DPEAKS=34.6, Loss=5.55e-5]\n"
          ]
        },
        {
          "name": "stdout",
          "output_type": "stream",
          "text": [
            "Epoch [8/100]\n"
          ]
        },
        {
          "name": "stderr",
          "output_type": "stream",
          "text": [
            "Train Epoch 8: 100%|██████████| 77/77 [01:13<00:00,  1.05it/s, WMAPE=2.01, DICE=0.0609, DPEAKS=31.5, Loss=5.68e-5]\n",
            "Validate Epoch 8: 100%|██████████| 20/20 [00:10<00:00,  1.89it/s, WMAPE=2.33, DICE=0.0638, DPEAKS=36.4, Loss=7.72e-5]\n"
          ]
        },
        {
          "name": "stdout",
          "output_type": "stream",
          "text": [
            "Epoch [9/100]\n"
          ]
        },
        {
          "name": "stderr",
          "output_type": "stream",
          "text": [
            "Train Epoch 9: 100%|██████████| 77/77 [01:13<00:00,  1.05it/s, WMAPE=1.95, DICE=0.0611, DPEAKS=32.9, Loss=5.41e-5]\n",
            "Validate Epoch 9: 100%|██████████| 20/20 [00:10<00:00,  1.88it/s, WMAPE=1.98, DICE=0.0607, DPEAKS=36.7, Loss=5.55e-5]\n"
          ]
        },
        {
          "name": "stdout",
          "output_type": "stream",
          "text": [
            "Epoch [10/100]\n"
          ]
        },
        {
          "name": "stderr",
          "output_type": "stream",
          "text": [
            "Train Epoch 10: 100%|██████████| 77/77 [01:13<00:00,  1.05it/s, WMAPE=1.93, DICE=0.0603, DPEAKS=32.8, Loss=5.18e-5]\n",
            "Validate Epoch 10: 100%|██████████| 20/20 [00:10<00:00,  1.87it/s, WMAPE=1.97, DICE=0.0601, DPEAKS=32.8, Loss=5.53e-5]\n"
          ]
        },
        {
          "name": "stdout",
          "output_type": "stream",
          "text": [
            "Epoch [11/100]\n"
          ]
        },
        {
          "name": "stderr",
          "output_type": "stream",
          "text": [
            "Train Epoch 11: 100%|██████████| 77/77 [01:12<00:00,  1.06it/s, WMAPE=1.93, DICE=0.0603, DPEAKS=32.2, Loss=5.22e-5]\n",
            "Validate Epoch 11: 100%|██████████| 20/20 [00:10<00:00,  1.90it/s, WMAPE=2, DICE=0.0606, DPEAKS=33.6, Loss=5.65e-5]\n"
          ]
        },
        {
          "name": "stdout",
          "output_type": "stream",
          "text": [
            "early stopping: 5 epochs without improvement\n",
            "Training complete.\n"
          ]
        },
        {
          "name": "stderr",
          "output_type": "stream",
          "text": [
            "Validate Epoch test: 100%|██████████| 486/486 [03:07<00:00,  2.59it/s, WMAPE=1.9, DICE=0.0608, DPEAKS=33, Loss=5.25e-5]\n"
          ]
        },
        {
          "name": "stdout",
          "output_type": "stream",
          "text": [
            "Partition 5: training decoder\n",
            "Loaded best model from partition 4\n",
            "Epoch [1/100]\n"
          ]
        },
        {
          "name": "stderr",
          "output_type": "stream",
          "text": [
            "Train Epoch 1: 100%|██████████| 77/77 [01:17<00:00,  1.01s/it, WMAPE=2.65, DICE=0.0804, DPEAKS=49.5, Loss=0.000127]\n",
            "Validate Epoch 1: 100%|██████████| 20/20 [00:11<00:00,  1.69it/s, WMAPE=2.09, DICE=0.0634, DPEAKS=34, Loss=5.92e-5]\n"
          ]
        },
        {
          "name": "stdout",
          "output_type": "stream",
          "text": [
            "Saving best model\n",
            "Epoch [2/100]\n"
          ]
        },
        {
          "name": "stderr",
          "output_type": "stream",
          "text": [
            "Train Epoch 2: 100%|██████████| 77/77 [01:13<00:00,  1.05it/s, WMAPE=1.96, DICE=0.0618, DPEAKS=34.7, Loss=5.59e-5]\n",
            "Validate Epoch 2: 100%|██████████| 20/20 [00:10<00:00,  1.89it/s, WMAPE=2.03, DICE=0.0607, DPEAKS=29.6, Loss=5.65e-5]\n"
          ]
        },
        {
          "name": "stdout",
          "output_type": "stream",
          "text": [
            "Saving best model\n",
            "Epoch [3/100]\n"
          ]
        },
        {
          "name": "stderr",
          "output_type": "stream",
          "text": [
            "Train Epoch 3: 100%|██████████| 77/77 [01:12<00:00,  1.06it/s, WMAPE=1.94, DICE=0.0608, DPEAKS=32.6, Loss=5.45e-5]\n",
            "Validate Epoch 3: 100%|██████████| 20/20 [00:09<00:00,  2.05it/s, WMAPE=2.04, DICE=0.0602, DPEAKS=29.3, Loss=5.54e-5]\n"
          ]
        },
        {
          "name": "stdout",
          "output_type": "stream",
          "text": [
            "Saving best model\n",
            "Epoch [4/100]\n"
          ]
        },
        {
          "name": "stderr",
          "output_type": "stream",
          "text": [
            "Train Epoch 4: 100%|██████████| 77/77 [01:06<00:00,  1.17it/s, WMAPE=1.9, DICE=0.0603, DPEAKS=31.9, Loss=5.24e-5]\n",
            "Validate Epoch 4: 100%|██████████| 20/20 [00:09<00:00,  2.06it/s, WMAPE=2.14, DICE=0.06, DPEAKS=30.3, Loss=6e-5]\n"
          ]
        },
        {
          "name": "stdout",
          "output_type": "stream",
          "text": [
            "Epoch [5/100]\n"
          ]
        },
        {
          "name": "stderr",
          "output_type": "stream",
          "text": [
            "Train Epoch 5: 100%|██████████| 77/77 [01:05<00:00,  1.17it/s, WMAPE=1.92, DICE=0.0601, DPEAKS=32, Loss=5.3e-5]\n",
            "Validate Epoch 5: 100%|██████████| 20/20 [00:09<00:00,  2.08it/s, WMAPE=2.14, DICE=0.0601, DPEAKS=28.8, Loss=6.07e-5]\n"
          ]
        },
        {
          "name": "stdout",
          "output_type": "stream",
          "text": [
            "Epoch [6/100]\n"
          ]
        },
        {
          "name": "stderr",
          "output_type": "stream",
          "text": [
            "Train Epoch 6: 100%|██████████| 77/77 [01:05<00:00,  1.17it/s, WMAPE=1.89, DICE=0.0602, DPEAKS=32.6, Loss=5.19e-5]\n",
            "Validate Epoch 6: 100%|██████████| 20/20 [00:09<00:00,  2.07it/s, WMAPE=2.03, DICE=0.0599, DPEAKS=29.7, Loss=5.54e-5]\n"
          ]
        },
        {
          "name": "stdout",
          "output_type": "stream",
          "text": [
            "Epoch [7/100]\n"
          ]
        },
        {
          "name": "stderr",
          "output_type": "stream",
          "text": [
            "Train Epoch 7: 100%|██████████| 77/77 [01:05<00:00,  1.17it/s, WMAPE=1.89, DICE=0.0601, DPEAKS=31.8, Loss=5.25e-5]\n",
            "Validate Epoch 7: 100%|██████████| 20/20 [00:09<00:00,  2.06it/s, WMAPE=2, DICE=0.06, DPEAKS=29.6, Loss=5.43e-5]\n"
          ]
        },
        {
          "name": "stdout",
          "output_type": "stream",
          "text": [
            "Saving best model\n",
            "Epoch [8/100]\n"
          ]
        },
        {
          "name": "stderr",
          "output_type": "stream",
          "text": [
            "Train Epoch 8: 100%|██████████| 77/77 [01:05<00:00,  1.17it/s, WMAPE=1.87, DICE=0.0601, DPEAKS=32.5, Loss=5.02e-5]\n",
            "Validate Epoch 8: 100%|██████████| 20/20 [00:09<00:00,  2.07it/s, WMAPE=2, DICE=0.0599, DPEAKS=29.2, Loss=5.4e-5]\n"
          ]
        },
        {
          "name": "stdout",
          "output_type": "stream",
          "text": [
            "Saving best model\n",
            "Epoch [9/100]\n"
          ]
        },
        {
          "name": "stderr",
          "output_type": "stream",
          "text": [
            "Train Epoch 9: 100%|██████████| 77/77 [01:05<00:00,  1.17it/s, WMAPE=1.87, DICE=0.0602, DPEAKS=32.4, Loss=5.12e-5]\n",
            "Validate Epoch 9: 100%|██████████| 20/20 [00:09<00:00,  2.05it/s, WMAPE=2, DICE=0.0606, DPEAKS=31.4, Loss=5.47e-5]\n"
          ]
        },
        {
          "name": "stdout",
          "output_type": "stream",
          "text": [
            "Epoch [10/100]\n"
          ]
        },
        {
          "name": "stderr",
          "output_type": "stream",
          "text": [
            "Train Epoch 10: 100%|██████████| 77/77 [01:07<00:00,  1.13it/s, WMAPE=1.87, DICE=0.0604, DPEAKS=32.7, Loss=5.13e-5]\n",
            "Validate Epoch 10: 100%|██████████| 20/20 [00:11<00:00,  1.67it/s, WMAPE=2.02, DICE=0.0605, DPEAKS=28.9, Loss=5.45e-5]\n"
          ]
        },
        {
          "name": "stdout",
          "output_type": "stream",
          "text": [
            "Epoch [11/100]\n"
          ]
        },
        {
          "name": "stderr",
          "output_type": "stream",
          "text": [
            "Train Epoch 11: 100%|██████████| 77/77 [01:07<00:00,  1.14it/s, WMAPE=1.89, DICE=0.0603, DPEAKS=32.9, Loss=5.2e-5]\n",
            "Validate Epoch 11: 100%|██████████| 20/20 [00:09<00:00,  2.09it/s, WMAPE=2.11, DICE=0.0603, DPEAKS=27.3, Loss=6.1e-5]\n"
          ]
        },
        {
          "name": "stdout",
          "output_type": "stream",
          "text": [
            "Epoch [12/100]\n"
          ]
        },
        {
          "name": "stderr",
          "output_type": "stream",
          "text": [
            "Train Epoch 12: 100%|██████████| 77/77 [01:09<00:00,  1.12it/s, WMAPE=1.85, DICE=0.0609, DPEAKS=32.9, Loss=5.02e-5]\n",
            "Validate Epoch 12: 100%|██████████| 20/20 [00:10<00:00,  1.86it/s, WMAPE=2.02, DICE=0.0603, DPEAKS=30.7, Loss=5.49e-5]\n"
          ]
        },
        {
          "name": "stdout",
          "output_type": "stream",
          "text": [
            "Epoch [13/100]\n"
          ]
        },
        {
          "name": "stderr",
          "output_type": "stream",
          "text": [
            "Train Epoch 13: 100%|██████████| 77/77 [01:13<00:00,  1.05it/s, WMAPE=1.81, DICE=0.0598, DPEAKS=32.1, Loss=4.79e-5]\n",
            "Validate Epoch 13: 100%|██████████| 20/20 [00:10<00:00,  1.86it/s, WMAPE=1.98, DICE=0.0601, DPEAKS=30.2, Loss=5.46e-5]\n"
          ]
        },
        {
          "name": "stdout",
          "output_type": "stream",
          "text": [
            "early stopping: 5 epochs without improvement\n",
            "Training complete.\n"
          ]
        },
        {
          "name": "stderr",
          "output_type": "stream",
          "text": [
            "Validate Epoch test: 100%|██████████| 486/486 [03:02<00:00,  2.66it/s, WMAPE=1.9, DICE=0.0599, DPEAKS=32.4, Loss=5.11e-5]\n"
          ]
        },
        {
          "name": "stdout",
          "output_type": "stream",
          "text": [
            "Partition 6: training full\n",
            "Loaded best model from partition 5\n",
            "Epoch [1/100]\n"
          ]
        },
        {
          "name": "stderr",
          "output_type": "stream",
          "text": [
            "Train Epoch 1: 100%|██████████| 77/77 [01:17<00:00,  1.00s/it, WMAPE=3.24, DICE=0.101, DPEAKS=66.8, Loss=0.000217]\n",
            "Validate Epoch 1: 100%|██████████| 20/20 [00:11<00:00,  1.78it/s, WMAPE=2.42, DICE=0.0738, DPEAKS=43.6, Loss=7.83e-5]\n"
          ]
        },
        {
          "name": "stdout",
          "output_type": "stream",
          "text": [
            "Saving best model\n",
            "Epoch [2/100]\n"
          ]
        },
        {
          "name": "stderr",
          "output_type": "stream",
          "text": [
            "Train Epoch 2: 100%|██████████| 77/77 [01:11<00:00,  1.07it/s, WMAPE=2.2, DICE=0.0691, DPEAKS=39.8, Loss=7.11e-5]\n",
            "Validate Epoch 2: 100%|██████████| 20/20 [00:10<00:00,  1.99it/s, WMAPE=2.21, DICE=0.0672, DPEAKS=39.6, Loss=6.32e-5]\n"
          ]
        },
        {
          "name": "stdout",
          "output_type": "stream",
          "text": [
            "Saving best model\n",
            "Epoch [3/100]\n"
          ]
        },
        {
          "name": "stderr",
          "output_type": "stream",
          "text": [
            "Train Epoch 3: 100%|██████████| 77/77 [01:11<00:00,  1.07it/s, WMAPE=2.06, DICE=0.0649, DPEAKS=38.9, Loss=6.2e-5]\n",
            "Validate Epoch 3: 100%|██████████| 20/20 [00:09<00:00,  2.03it/s, WMAPE=2.25, DICE=0.0664, DPEAKS=41.8, Loss=6.84e-5]\n"
          ]
        },
        {
          "name": "stdout",
          "output_type": "stream",
          "text": [
            "Epoch [4/100]\n"
          ]
        },
        {
          "name": "stderr",
          "output_type": "stream",
          "text": [
            "Train Epoch 4: 100%|██████████| 77/77 [01:13<00:00,  1.05it/s, WMAPE=2.03, DICE=0.0635, DPEAKS=36, Loss=6.05e-5]\n",
            "Validate Epoch 4: 100%|██████████| 20/20 [00:10<00:00,  2.00it/s, WMAPE=2.08, DICE=0.0621, DPEAKS=38.8, Loss=5.49e-5]\n"
          ]
        },
        {
          "name": "stdout",
          "output_type": "stream",
          "text": [
            "Saving best model\n",
            "Epoch [5/100]\n"
          ]
        },
        {
          "name": "stderr",
          "output_type": "stream",
          "text": [
            "Train Epoch 5: 100%|██████████| 77/77 [01:11<00:00,  1.08it/s, WMAPE=1.9, DICE=0.0613, DPEAKS=33.8, Loss=5.34e-5]\n",
            "Validate Epoch 5: 100%|██████████| 20/20 [00:10<00:00,  2.00it/s, WMAPE=2.22, DICE=0.0624, DPEAKS=37.9, Loss=6.18e-5]\n"
          ]
        },
        {
          "name": "stdout",
          "output_type": "stream",
          "text": [
            "Epoch [6/100]\n"
          ]
        },
        {
          "name": "stderr",
          "output_type": "stream",
          "text": [
            "Train Epoch 6: 100%|██████████| 77/77 [01:12<00:00,  1.06it/s, WMAPE=1.9, DICE=0.0611, DPEAKS=34.3, Loss=5.3e-5]\n",
            "Validate Epoch 6: 100%|██████████| 20/20 [00:10<00:00,  1.99it/s, WMAPE=2.05, DICE=0.0618, DPEAKS=35.5, Loss=5.41e-5]\n"
          ]
        },
        {
          "name": "stdout",
          "output_type": "stream",
          "text": [
            "Saving best model\n",
            "Epoch [7/100]\n"
          ]
        },
        {
          "name": "stderr",
          "output_type": "stream",
          "text": [
            "Train Epoch 7: 100%|██████████| 77/77 [01:11<00:00,  1.08it/s, WMAPE=1.83, DICE=0.0607, DPEAKS=32.7, Loss=5e-5]\n",
            "Validate Epoch 7: 100%|██████████| 20/20 [00:09<00:00,  2.01it/s, WMAPE=2.04, DICE=0.061, DPEAKS=35.2, Loss=5.34e-5]\n"
          ]
        },
        {
          "name": "stdout",
          "output_type": "stream",
          "text": [
            "Saving best model\n",
            "Epoch [8/100]\n"
          ]
        },
        {
          "name": "stderr",
          "output_type": "stream",
          "text": [
            "Train Epoch 8: 100%|██████████| 77/77 [01:11<00:00,  1.08it/s, WMAPE=1.78, DICE=0.0604, DPEAKS=33.5, Loss=4.78e-5]\n",
            "Validate Epoch 8: 100%|██████████| 20/20 [00:09<00:00,  2.04it/s, WMAPE=2.07, DICE=0.0605, DPEAKS=35, Loss=5.46e-5]\n"
          ]
        },
        {
          "name": "stdout",
          "output_type": "stream",
          "text": [
            "Epoch [9/100]\n"
          ]
        },
        {
          "name": "stderr",
          "output_type": "stream",
          "text": [
            "Train Epoch 9: 100%|██████████| 77/77 [01:09<00:00,  1.10it/s, WMAPE=1.75, DICE=0.0601, DPEAKS=31.4, Loss=4.52e-5]\n",
            "Validate Epoch 9: 100%|██████████| 20/20 [00:10<00:00,  2.00it/s, WMAPE=2.15, DICE=0.06, DPEAKS=34.4, Loss=5.87e-5]\n"
          ]
        },
        {
          "name": "stdout",
          "output_type": "stream",
          "text": [
            "Epoch [10/100]\n"
          ]
        },
        {
          "name": "stderr",
          "output_type": "stream",
          "text": [
            "Train Epoch 10: 100%|██████████| 77/77 [01:09<00:00,  1.11it/s, WMAPE=1.72, DICE=0.0597, DPEAKS=30.9, Loss=4.53e-5]\n",
            "Validate Epoch 10: 100%|██████████| 20/20 [00:09<00:00,  2.09it/s, WMAPE=2.36, DICE=0.0643, DPEAKS=37.7, Loss=7.27e-5]\n"
          ]
        },
        {
          "name": "stdout",
          "output_type": "stream",
          "text": [
            "Epoch [11/100]\n"
          ]
        },
        {
          "name": "stderr",
          "output_type": "stream",
          "text": [
            "Train Epoch 11: 100%|██████████| 77/77 [01:08<00:00,  1.13it/s, WMAPE=1.83, DICE=0.0615, DPEAKS=32.3, Loss=4.98e-5]\n",
            "Validate Epoch 11: 100%|██████████| 20/20 [00:09<00:00,  2.08it/s, WMAPE=2.1, DICE=0.0596, DPEAKS=33.5, Loss=5.65e-5]\n"
          ]
        },
        {
          "name": "stdout",
          "output_type": "stream",
          "text": [
            "Epoch [12/100]\n"
          ]
        },
        {
          "name": "stderr",
          "output_type": "stream",
          "text": [
            "Train Epoch 12: 100%|██████████| 77/77 [01:10<00:00,  1.09it/s, WMAPE=1.58, DICE=0.059, DPEAKS=30.6, Loss=3.8e-5]\n",
            "Validate Epoch 12: 100%|██████████| 20/20 [00:09<00:00,  2.03it/s, WMAPE=2.46, DICE=0.0593, DPEAKS=36.6, Loss=7.31e-5]\n"
          ]
        },
        {
          "name": "stdout",
          "output_type": "stream",
          "text": [
            "early stopping: 5 epochs without improvement\n",
            "Training complete.\n"
          ]
        },
        {
          "name": "stderr",
          "output_type": "stream",
          "text": [
            "Validate Epoch test: 100%|██████████| 486/486 [02:57<00:00,  2.74it/s, WMAPE=1.9, DICE=0.0607, DPEAKS=32.7, Loss=5.17e-5]\n"
          ]
        },
        {
          "name": "stdout",
          "output_type": "stream",
          "text": [
            "Partition 7: training decoder\n",
            "Loaded best model from partition 6\n",
            "Epoch [1/100]\n"
          ]
        },
        {
          "name": "stderr",
          "output_type": "stream",
          "text": [
            "Train Epoch 1: 100%|██████████| 77/77 [01:12<00:00,  1.06it/s, WMAPE=2.53, DICE=0.0795, DPEAKS=47.7, Loss=0.000112]\n",
            "Validate Epoch 1: 100%|██████████| 20/20 [00:11<00:00,  1.79it/s, WMAPE=1.97, DICE=0.0624, DPEAKS=35, Loss=5.65e-5]\n"
          ]
        },
        {
          "name": "stdout",
          "output_type": "stream",
          "text": [
            "Saving best model\n",
            "Epoch [2/100]\n"
          ]
        },
        {
          "name": "stderr",
          "output_type": "stream",
          "text": [
            "Train Epoch 2: 100%|██████████| 77/77 [01:08<00:00,  1.12it/s, WMAPE=1.9, DICE=0.0609, DPEAKS=33.2, Loss=5.18e-5]\n",
            "Validate Epoch 2: 100%|██████████| 20/20 [00:10<00:00,  1.99it/s, WMAPE=1.86, DICE=0.0598, DPEAKS=30.4, Loss=5.28e-5]\n"
          ]
        },
        {
          "name": "stdout",
          "output_type": "stream",
          "text": [
            "Saving best model\n",
            "Epoch [3/100]\n"
          ]
        },
        {
          "name": "stderr",
          "output_type": "stream",
          "text": [
            "Train Epoch 3: 100%|██████████| 77/77 [01:09<00:00,  1.11it/s, WMAPE=1.86, DICE=0.0594, DPEAKS=31.9, Loss=5.01e-5]\n",
            "Validate Epoch 3: 100%|██████████| 20/20 [00:09<00:00,  2.04it/s, WMAPE=1.83, DICE=0.0589, DPEAKS=30.3, Loss=4.96e-5]\n"
          ]
        },
        {
          "name": "stdout",
          "output_type": "stream",
          "text": [
            "Saving best model\n",
            "Epoch [4/100]\n"
          ]
        },
        {
          "name": "stderr",
          "output_type": "stream",
          "text": [
            "Train Epoch 4: 100%|██████████| 77/77 [01:08<00:00,  1.12it/s, WMAPE=1.88, DICE=0.0593, DPEAKS=31.2, Loss=5.04e-5]\n",
            "Validate Epoch 4: 100%|██████████| 20/20 [00:10<00:00,  1.85it/s, WMAPE=1.95, DICE=0.0589, DPEAKS=32.2, Loss=5.29e-5]\n"
          ]
        },
        {
          "name": "stdout",
          "output_type": "stream",
          "text": [
            "Epoch [5/100]\n"
          ]
        },
        {
          "name": "stderr",
          "output_type": "stream",
          "text": [
            "Train Epoch 5: 100%|██████████| 77/77 [01:13<00:00,  1.05it/s, WMAPE=1.86, DICE=0.0591, DPEAKS=31, Loss=4.95e-5]\n",
            "Validate Epoch 5: 100%|██████████| 20/20 [00:10<00:00,  1.87it/s, WMAPE=1.89, DICE=0.0589, DPEAKS=31.6, Loss=5.26e-5]\n"
          ]
        },
        {
          "name": "stdout",
          "output_type": "stream",
          "text": [
            "Epoch [6/100]\n"
          ]
        },
        {
          "name": "stderr",
          "output_type": "stream",
          "text": [
            "Train Epoch 6: 100%|██████████| 77/77 [01:13<00:00,  1.05it/s, WMAPE=1.84, DICE=0.0588, DPEAKS=31, Loss=4.88e-5]\n",
            "Validate Epoch 6: 100%|██████████| 20/20 [00:10<00:00,  1.92it/s, WMAPE=1.88, DICE=0.0587, DPEAKS=31.6, Loss=4.95e-5]\n"
          ]
        },
        {
          "name": "stdout",
          "output_type": "stream",
          "text": [
            "Saving best model\n",
            "Epoch [7/100]\n"
          ]
        },
        {
          "name": "stderr",
          "output_type": "stream",
          "text": [
            "Train Epoch 7: 100%|██████████| 77/77 [01:08<00:00,  1.13it/s, WMAPE=1.82, DICE=0.0588, DPEAKS=30.8, Loss=4.76e-5]\n",
            "Validate Epoch 7: 100%|██████████| 20/20 [00:09<00:00,  2.01it/s, WMAPE=1.86, DICE=0.0583, DPEAKS=32.1, Loss=4.89e-5]\n"
          ]
        },
        {
          "name": "stdout",
          "output_type": "stream",
          "text": [
            "Saving best model\n",
            "Epoch [8/100]\n"
          ]
        },
        {
          "name": "stderr",
          "output_type": "stream",
          "text": [
            "Train Epoch 8: 100%|██████████| 77/77 [01:08<00:00,  1.13it/s, WMAPE=1.9, DICE=0.0597, DPEAKS=31.5, Loss=5.16e-5]\n",
            "Validate Epoch 8: 100%|██████████| 20/20 [00:09<00:00,  2.03it/s, WMAPE=1.95, DICE=0.0624, DPEAKS=33.7, Loss=5.56e-5]\n"
          ]
        },
        {
          "name": "stdout",
          "output_type": "stream",
          "text": [
            "Epoch [9/100]\n"
          ]
        },
        {
          "name": "stderr",
          "output_type": "stream",
          "text": [
            "Train Epoch 9: 100%|██████████| 77/77 [01:08<00:00,  1.13it/s, WMAPE=1.89, DICE=0.0597, DPEAKS=32.1, Loss=5.2e-5]\n",
            "Validate Epoch 9: 100%|██████████| 20/20 [00:09<00:00,  2.01it/s, WMAPE=1.85, DICE=0.0591, DPEAKS=33.1, Loss=5.05e-5]\n"
          ]
        },
        {
          "name": "stdout",
          "output_type": "stream",
          "text": [
            "Epoch [10/100]\n"
          ]
        },
        {
          "name": "stderr",
          "output_type": "stream",
          "text": [
            "Train Epoch 10: 100%|██████████| 77/77 [01:07<00:00,  1.13it/s, WMAPE=1.82, DICE=0.0591, DPEAKS=31.4, Loss=4.73e-5]\n",
            "Validate Epoch 10: 100%|██████████| 20/20 [00:09<00:00,  2.02it/s, WMAPE=2.12, DICE=0.0583, DPEAKS=29.2, Loss=6.04e-5]\n"
          ]
        },
        {
          "name": "stdout",
          "output_type": "stream",
          "text": [
            "Epoch [11/100]\n"
          ]
        },
        {
          "name": "stderr",
          "output_type": "stream",
          "text": [
            "Train Epoch 11: 100%|██████████| 77/77 [01:08<00:00,  1.13it/s, WMAPE=1.84, DICE=0.0587, DPEAKS=31.2, Loss=4.82e-5]\n",
            "Validate Epoch 11: 100%|██████████| 20/20 [00:10<00:00,  1.87it/s, WMAPE=1.84, DICE=0.0587, DPEAKS=30.1, Loss=4.98e-5]\n"
          ]
        },
        {
          "name": "stdout",
          "output_type": "stream",
          "text": [
            "Epoch [12/100]\n"
          ]
        },
        {
          "name": "stderr",
          "output_type": "stream",
          "text": [
            "Train Epoch 12: 100%|██████████| 77/77 [01:09<00:00,  1.11it/s, WMAPE=1.76, DICE=0.0584, DPEAKS=30.3, Loss=4.41e-5]\n",
            "Validate Epoch 12: 100%|██████████| 20/20 [00:09<00:00,  2.03it/s, WMAPE=1.83, DICE=0.058, DPEAKS=29.9, Loss=5.05e-5]\n"
          ]
        },
        {
          "name": "stdout",
          "output_type": "stream",
          "text": [
            "early stopping: 5 epochs without improvement\n",
            "Training complete.\n"
          ]
        },
        {
          "name": "stderr",
          "output_type": "stream",
          "text": [
            "Validate Epoch test: 100%|██████████| 486/486 [02:57<00:00,  2.73it/s, WMAPE=1.86, DICE=0.0583, DPEAKS=31.5, Loss=4.86e-5]\n"
          ]
        },
        {
          "name": "stdout",
          "output_type": "stream",
          "text": [
            "Partition 8: training decoder\n",
            "Loaded best model from partition 7\n",
            "Epoch [1/100]\n"
          ]
        },
        {
          "name": "stderr",
          "output_type": "stream",
          "text": [
            "Train Epoch 1: 100%|██████████| 77/77 [01:13<00:00,  1.04it/s, WMAPE=1.98, DICE=0.0628, DPEAKS=33.9, Loss=6.18e-5]\n",
            "Validate Epoch 1: 100%|██████████| 20/20 [00:11<00:00,  1.79it/s, WMAPE=1.87, DICE=0.0597, DPEAKS=33.5, Loss=5.25e-5]\n"
          ]
        },
        {
          "name": "stdout",
          "output_type": "stream",
          "text": [
            "Saving best model\n",
            "Epoch [2/100]\n"
          ]
        },
        {
          "name": "stderr",
          "output_type": "stream",
          "text": [
            "Train Epoch 2: 100%|██████████| 77/77 [01:06<00:00,  1.16it/s, WMAPE=1.86, DICE=0.0587, DPEAKS=30.3, Loss=5.18e-5]\n",
            "Validate Epoch 2: 100%|██████████| 20/20 [00:09<00:00,  2.09it/s, WMAPE=2.03, DICE=0.0584, DPEAKS=31.1, Loss=5.68e-5]\n"
          ]
        },
        {
          "name": "stdout",
          "output_type": "stream",
          "text": [
            "Epoch [3/100]\n"
          ]
        },
        {
          "name": "stderr",
          "output_type": "stream",
          "text": [
            "Train Epoch 3: 100%|██████████| 77/77 [01:05<00:00,  1.18it/s, WMAPE=1.85, DICE=0.0585, DPEAKS=29.8, Loss=5.13e-5]\n",
            "Validate Epoch 3: 100%|██████████| 20/20 [00:09<00:00,  2.05it/s, WMAPE=2.16, DICE=0.0585, DPEAKS=34.1, Loss=6.6e-5]\n"
          ]
        },
        {
          "name": "stdout",
          "output_type": "stream",
          "text": [
            "Epoch [4/100]\n"
          ]
        },
        {
          "name": "stderr",
          "output_type": "stream",
          "text": [
            "Train Epoch 4: 100%|██████████| 77/77 [01:12<00:00,  1.07it/s, WMAPE=1.84, DICE=0.0587, DPEAKS=31.3, Loss=5.08e-5]\n",
            "Validate Epoch 4: 100%|██████████| 20/20 [00:10<00:00,  1.88it/s, WMAPE=2.02, DICE=0.0589, DPEAKS=34.8, Loss=5.63e-5]\n"
          ]
        },
        {
          "name": "stdout",
          "output_type": "stream",
          "text": [
            "Epoch [5/100]\n"
          ]
        },
        {
          "name": "stderr",
          "output_type": "stream",
          "text": [
            "Train Epoch 5: 100%|██████████| 77/77 [01:12<00:00,  1.07it/s, WMAPE=1.84, DICE=0.0588, DPEAKS=30.5, Loss=5.1e-5]\n",
            "Validate Epoch 5: 100%|██████████| 20/20 [00:10<00:00,  1.95it/s, WMAPE=1.96, DICE=0.0585, DPEAKS=31.4, Loss=5.36e-5]\n"
          ]
        },
        {
          "name": "stdout",
          "output_type": "stream",
          "text": [
            "Epoch [6/100]\n"
          ]
        },
        {
          "name": "stderr",
          "output_type": "stream",
          "text": [
            "Train Epoch 6: 100%|██████████| 77/77 [01:06<00:00,  1.16it/s, WMAPE=1.79, DICE=0.0583, DPEAKS=29.1, Loss=4.76e-5]\n",
            "Validate Epoch 6: 100%|██████████| 20/20 [00:09<00:00,  2.01it/s, WMAPE=1.93, DICE=0.0584, DPEAKS=30.6, Loss=5.39e-5]\n"
          ]
        },
        {
          "name": "stdout",
          "output_type": "stream",
          "text": [
            "Epoch [7/100]\n"
          ]
        },
        {
          "name": "stderr",
          "output_type": "stream",
          "text": [
            "Train Epoch 7: 100%|██████████| 77/77 [01:09<00:00,  1.11it/s, WMAPE=1.81, DICE=0.0585, DPEAKS=30.4, Loss=4.85e-5]\n",
            "Validate Epoch 7: 100%|██████████| 20/20 [00:10<00:00,  1.97it/s, WMAPE=2.13, DICE=0.0596, DPEAKS=33.7, Loss=6.06e-5]\n"
          ]
        },
        {
          "name": "stdout",
          "output_type": "stream",
          "text": [
            "Epoch [8/100]\n"
          ]
        },
        {
          "name": "stderr",
          "output_type": "stream",
          "text": [
            "Train Epoch 8: 100%|██████████| 77/77 [01:13<00:00,  1.05it/s, WMAPE=1.85, DICE=0.0587, DPEAKS=30.1, Loss=5.06e-5]\n",
            "Validate Epoch 8: 100%|██████████| 20/20 [00:10<00:00,  1.84it/s, WMAPE=1.89, DICE=0.0582, DPEAKS=31.3, Loss=5.25e-5]\n"
          ]
        },
        {
          "name": "stdout",
          "output_type": "stream",
          "text": [
            "early stopping: 7 epochs without improvement\n",
            "Training complete.\n"
          ]
        },
        {
          "name": "stderr",
          "output_type": "stream",
          "text": [
            "Validate Epoch test: 100%|██████████| 486/486 [03:05<00:00,  2.61it/s, WMAPE=1.83, DICE=0.0598, DPEAKS=31.8, Loss=4.94e-5]\n"
          ]
        },
        {
          "name": "stdout",
          "output_type": "stream",
          "text": [
            "Partition 9: training decoder\n",
            "Loaded best model from partition 8\n",
            "Epoch [1/100]\n"
          ]
        },
        {
          "name": "stderr",
          "output_type": "stream",
          "text": [
            "Train Epoch 1: 100%|██████████| 77/77 [01:23<00:00,  1.09s/it, WMAPE=2.46, DICE=0.0755, DPEAKS=44.3, Loss=0.000101]\n",
            "Validate Epoch 1: 100%|██████████| 20/20 [00:12<00:00,  1.56it/s, WMAPE=1.91, DICE=0.06, DPEAKS=33.6, Loss=5.23e-5]\n"
          ]
        },
        {
          "name": "stdout",
          "output_type": "stream",
          "text": [
            "Saving best model\n",
            "Epoch [2/100]\n"
          ]
        },
        {
          "name": "stderr",
          "output_type": "stream",
          "text": [
            "Train Epoch 2: 100%|██████████| 77/77 [01:20<00:00,  1.04s/it, WMAPE=1.88, DICE=0.0591, DPEAKS=32.7, Loss=4.88e-5]\n",
            "Validate Epoch 2: 100%|██████████| 20/20 [00:11<00:00,  1.72it/s, WMAPE=2, DICE=0.0583, DPEAKS=33.8, Loss=5.49e-5]\n"
          ]
        },
        {
          "name": "stdout",
          "output_type": "stream",
          "text": [
            "Epoch [3/100]\n"
          ]
        },
        {
          "name": "stderr",
          "output_type": "stream",
          "text": [
            "Train Epoch 3: 100%|██████████| 77/77 [01:18<00:00,  1.02s/it, WMAPE=1.87, DICE=0.0583, DPEAKS=32.6, Loss=4.89e-5]\n",
            "Validate Epoch 3: 100%|██████████| 20/20 [00:12<00:00,  1.64it/s, WMAPE=1.83, DICE=0.058, DPEAKS=30.5, Loss=4.98e-5]\n"
          ]
        },
        {
          "name": "stdout",
          "output_type": "stream",
          "text": [
            "Saving best model\n",
            "Epoch [4/100]\n"
          ]
        },
        {
          "name": "stderr",
          "output_type": "stream",
          "text": [
            "Train Epoch 4: 100%|██████████| 77/77 [01:15<00:00,  1.02it/s, WMAPE=1.89, DICE=0.0583, DPEAKS=31.8, Loss=4.96e-5]\n",
            "Validate Epoch 4: 100%|██████████| 20/20 [00:11<00:00,  1.76it/s, WMAPE=1.82, DICE=0.0577, DPEAKS=32.6, Loss=4.74e-5]\n"
          ]
        },
        {
          "name": "stdout",
          "output_type": "stream",
          "text": [
            "Saving best model\n",
            "Epoch [5/100]\n"
          ]
        },
        {
          "name": "stderr",
          "output_type": "stream",
          "text": [
            "Train Epoch 5: 100%|██████████| 77/77 [01:14<00:00,  1.04it/s, WMAPE=1.91, DICE=0.0583, DPEAKS=31.7, Loss=5.07e-5]\n",
            "Validate Epoch 5: 100%|██████████| 20/20 [00:10<00:00,  1.98it/s, WMAPE=1.88, DICE=0.0575, DPEAKS=31.4, Loss=5.02e-5]\n"
          ]
        },
        {
          "name": "stdout",
          "output_type": "stream",
          "text": [
            "Epoch [6/100]\n"
          ]
        },
        {
          "name": "stderr",
          "output_type": "stream",
          "text": [
            "Train Epoch 6: 100%|██████████| 77/77 [01:09<00:00,  1.11it/s, WMAPE=1.83, DICE=0.058, DPEAKS=31.7, Loss=4.61e-5]\n",
            "Validate Epoch 6: 100%|██████████| 20/20 [00:10<00:00,  1.94it/s, WMAPE=1.84, DICE=0.0577, DPEAKS=30.8, Loss=4.81e-5]\n"
          ]
        },
        {
          "name": "stdout",
          "output_type": "stream",
          "text": [
            "Epoch [7/100]\n"
          ]
        },
        {
          "name": "stderr",
          "output_type": "stream",
          "text": [
            "Train Epoch 7: 100%|██████████| 77/77 [01:08<00:00,  1.12it/s, WMAPE=1.85, DICE=0.058, DPEAKS=31.5, Loss=4.7e-5]\n",
            "Validate Epoch 7: 100%|██████████| 20/20 [00:10<00:00,  1.85it/s, WMAPE=1.79, DICE=0.0581, DPEAKS=32.9, Loss=4.86e-5]\n"
          ]
        },
        {
          "name": "stdout",
          "output_type": "stream",
          "text": [
            "Epoch [8/100]\n"
          ]
        },
        {
          "name": "stderr",
          "output_type": "stream",
          "text": [
            "Train Epoch 8: 100%|██████████| 77/77 [01:13<00:00,  1.05it/s, WMAPE=1.86, DICE=0.0586, DPEAKS=32.7, Loss=4.8e-5]\n",
            "Validate Epoch 8: 100%|██████████| 20/20 [00:10<00:00,  1.88it/s, WMAPE=1.95, DICE=0.0576, DPEAKS=33.2, Loss=5.36e-5]\n"
          ]
        },
        {
          "name": "stdout",
          "output_type": "stream",
          "text": [
            "Epoch [9/100]\n"
          ]
        },
        {
          "name": "stderr",
          "output_type": "stream",
          "text": [
            "Train Epoch 9: 100%|██████████| 77/77 [01:11<00:00,  1.07it/s, WMAPE=1.85, DICE=0.0579, DPEAKS=31.2, Loss=4.74e-5]\n",
            "Validate Epoch 9: 100%|██████████| 20/20 [00:10<00:00,  1.87it/s, WMAPE=2.03, DICE=0.0583, DPEAKS=31.6, Loss=5.92e-5]\n"
          ]
        },
        {
          "name": "stdout",
          "output_type": "stream",
          "text": [
            "early stopping: 5 epochs without improvement\n",
            "Training complete.\n"
          ]
        },
        {
          "name": "stderr",
          "output_type": "stream",
          "text": [
            "Validate Epoch test: 100%|██████████| 486/486 [02:59<00:00,  2.71it/s, WMAPE=1.83, DICE=0.0581, DPEAKS=31, Loss=4.77e-5]\n"
          ]
        }
      ],
      "source": [
        "many_partitions_v2(1,10,model,criterion,transform=transform)"
      ]
    },
    {
      "cell_type": "code",
      "execution_count": 15,
      "metadata": {},
      "outputs": [
        {
          "name": "stdout",
          "output_type": "stream",
          "text": [
            "Partition 10: training decoder\n",
            "Loaded best model from partition 9\n",
            "Epoch [1/100]\n"
          ]
        },
        {
          "name": "stderr",
          "output_type": "stream",
          "text": [
            "Train Epoch 1: 100%|██████████| 77/77 [01:14<00:00,  1.03it/s, WMAPE=2.36, DICE=0.0675, DPEAKS=38.4, Loss=8.52e-5]\n",
            "Validate Epoch 1: 100%|██████████| 20/20 [00:10<00:00,  1.86it/s, WMAPE=1.79, DICE=0.0596, DPEAKS=32.9, Loss=4.94e-5]\n"
          ]
        },
        {
          "name": "stdout",
          "output_type": "stream",
          "text": [
            "Saving best model\n",
            "Epoch [2/100]\n"
          ]
        },
        {
          "name": "stderr",
          "output_type": "stream",
          "text": [
            "Train Epoch 2: 100%|██████████| 77/77 [01:09<00:00,  1.11it/s, WMAPE=1.9, DICE=0.0585, DPEAKS=30.6, Loss=4.94e-5]\n",
            "Validate Epoch 2: 100%|██████████| 20/20 [00:10<00:00,  1.88it/s, WMAPE=1.79, DICE=0.0585, DPEAKS=31.8, Loss=4.8e-5]\n"
          ]
        },
        {
          "name": "stdout",
          "output_type": "stream",
          "text": [
            "Saving best model\n",
            "Epoch [3/100]\n"
          ]
        },
        {
          "name": "stderr",
          "output_type": "stream",
          "text": [
            "Train Epoch 3: 100%|██████████| 77/77 [01:12<00:00,  1.06it/s, WMAPE=1.9, DICE=0.0587, DPEAKS=30.8, Loss=4.98e-5]\n",
            "Validate Epoch 3: 100%|██████████| 20/20 [00:10<00:00,  1.86it/s, WMAPE=1.82, DICE=0.0583, DPEAKS=31.7, Loss=4.78e-5]\n"
          ]
        },
        {
          "name": "stdout",
          "output_type": "stream",
          "text": [
            "Saving best model\n",
            "Epoch [4/100]\n"
          ]
        },
        {
          "name": "stderr",
          "output_type": "stream",
          "text": [
            "Train Epoch 4: 100%|██████████| 77/77 [01:14<00:00,  1.04it/s, WMAPE=1.87, DICE=0.0586, DPEAKS=30.1, Loss=4.88e-5]\n",
            "Validate Epoch 4: 100%|██████████| 20/20 [00:09<00:00,  2.01it/s, WMAPE=1.82, DICE=0.0581, DPEAKS=31, Loss=4.95e-5]\n"
          ]
        },
        {
          "name": "stdout",
          "output_type": "stream",
          "text": [
            "Epoch [5/100]\n"
          ]
        },
        {
          "name": "stderr",
          "output_type": "stream",
          "text": [
            "Train Epoch 5: 100%|██████████| 77/77 [01:11<00:00,  1.08it/s, WMAPE=1.94, DICE=0.059, DPEAKS=31.6, Loss=5.18e-5]\n",
            "Validate Epoch 5: 100%|██████████| 20/20 [00:10<00:00,  1.89it/s, WMAPE=1.77, DICE=0.0592, DPEAKS=32.3, Loss=4.84e-5]\n"
          ]
        },
        {
          "name": "stdout",
          "output_type": "stream",
          "text": [
            "Epoch [6/100]\n"
          ]
        },
        {
          "name": "stderr",
          "output_type": "stream",
          "text": [
            "Train Epoch 6: 100%|██████████| 77/77 [01:13<00:00,  1.05it/s, WMAPE=1.84, DICE=0.0583, DPEAKS=30.8, Loss=4.7e-5]\n",
            "Validate Epoch 6: 100%|██████████| 20/20 [00:11<00:00,  1.81it/s, WMAPE=1.74, DICE=0.0583, DPEAKS=30.5, Loss=4.81e-5]\n"
          ]
        },
        {
          "name": "stdout",
          "output_type": "stream",
          "text": [
            "Epoch [7/100]\n"
          ]
        },
        {
          "name": "stderr",
          "output_type": "stream",
          "text": [
            "Train Epoch 7: 100%|██████████| 77/77 [01:15<00:00,  1.01it/s, WMAPE=1.85, DICE=0.058, DPEAKS=31.4, Loss=4.74e-5]\n",
            "Validate Epoch 7: 100%|██████████| 20/20 [00:10<00:00,  1.82it/s, WMAPE=2.09, DICE=0.059, DPEAKS=32.3, Loss=6.43e-5]\n"
          ]
        },
        {
          "name": "stdout",
          "output_type": "stream",
          "text": [
            "Epoch [8/100]\n"
          ]
        },
        {
          "name": "stderr",
          "output_type": "stream",
          "text": [
            "Train Epoch 8: 100%|██████████| 77/77 [01:10<00:00,  1.10it/s, WMAPE=1.89, DICE=0.0583, DPEAKS=30.4, Loss=4.88e-5]\n",
            "Validate Epoch 8: 100%|██████████| 20/20 [00:09<00:00,  2.01it/s, WMAPE=1.8, DICE=0.0586, DPEAKS=32.7, Loss=4.86e-5]\n"
          ]
        },
        {
          "name": "stdout",
          "output_type": "stream",
          "text": [
            "early stopping: 5 epochs without improvement\n",
            "Training complete.\n"
          ]
        },
        {
          "name": "stderr",
          "output_type": "stream",
          "text": [
            "Validate Epoch test: 100%|██████████| 486/486 [03:02<00:00,  2.67it/s, WMAPE=1.87, DICE=0.058, DPEAKS=31.8, Loss=4.86e-5]\n"
          ]
        }
      ],
      "source": [
        "many_partitions_v2(10,11,model,criterion,transform=transform)"
      ]
    },
    {
      "cell_type": "code",
      "execution_count": 18,
      "metadata": {},
      "outputs": [
        {
          "name": "stdout",
          "output_type": "stream",
          "text": [
            "Partition 11: training full\n",
            "Loaded best model from partition 10\n",
            "Epoch [1/100]\n"
          ]
        },
        {
          "name": "stderr",
          "output_type": "stream",
          "text": [
            "Train Epoch 1: 100%|██████████| 77/77 [01:16<00:00,  1.01it/s, WMAPE=2.81, DICE=0.083, DPEAKS=56.1, Loss=0.00867]\n",
            "Validate Epoch 1: 100%|██████████| 20/20 [00:11<00:00,  1.81it/s, WMAPE=2.09, DICE=0.0673, DPEAKS=47.8, Loss=0.00631]\n"
          ]
        },
        {
          "name": "stdout",
          "output_type": "stream",
          "text": [
            "Saving best model\n",
            "Epoch [2/100]\n"
          ]
        },
        {
          "name": "stderr",
          "output_type": "stream",
          "text": [
            "Train Epoch 2: 100%|██████████| 77/77 [01:08<00:00,  1.12it/s, WMAPE=2.26, DICE=0.0655, DPEAKS=41, Loss=0.00671]\n",
            "Validate Epoch 2: 100%|██████████| 20/20 [00:09<00:00,  2.08it/s, WMAPE=1.91, DICE=0.0608, DPEAKS=38.4, Loss=0.00565]\n"
          ]
        },
        {
          "name": "stdout",
          "output_type": "stream",
          "text": [
            "Saving best model\n",
            "Epoch [3/100]\n"
          ]
        },
        {
          "name": "stderr",
          "output_type": "stream",
          "text": [
            "Train Epoch 3: 100%|██████████| 77/77 [01:09<00:00,  1.11it/s, WMAPE=2.01, DICE=0.0602, DPEAKS=35.2, Loss=0.00597]\n",
            "Validate Epoch 3: 100%|██████████| 20/20 [00:10<00:00,  1.88it/s, WMAPE=1.87, DICE=0.0615, DPEAKS=39.6, Loss=0.00572]\n"
          ]
        },
        {
          "name": "stdout",
          "output_type": "stream",
          "text": [
            "Epoch [4/100]\n"
          ]
        },
        {
          "name": "stderr",
          "output_type": "stream",
          "text": [
            "Train Epoch 4: 100%|██████████| 77/77 [01:14<00:00,  1.03it/s, WMAPE=1.99, DICE=0.0601, DPEAKS=33.8, Loss=0.00586]\n",
            "Validate Epoch 4: 100%|██████████| 20/20 [00:09<00:00,  2.02it/s, WMAPE=2.73, DICE=0.0591, DPEAKS=36.7, Loss=0.00787]\n"
          ]
        },
        {
          "name": "stdout",
          "output_type": "stream",
          "text": [
            "Epoch [5/100]\n"
          ]
        },
        {
          "name": "stderr",
          "output_type": "stream",
          "text": [
            "Train Epoch 5: 100%|██████████| 77/77 [01:09<00:00,  1.10it/s, WMAPE=2.03, DICE=0.0614, DPEAKS=35.9, Loss=0.00603]\n",
            "Validate Epoch 5: 100%|██████████| 20/20 [00:09<00:00,  2.10it/s, WMAPE=2.07, DICE=0.0593, DPEAKS=33.6, Loss=0.00624]\n"
          ]
        },
        {
          "name": "stdout",
          "output_type": "stream",
          "text": [
            "Epoch [6/100]\n"
          ]
        },
        {
          "name": "stderr",
          "output_type": "stream",
          "text": [
            "Train Epoch 6: 100%|██████████| 77/77 [01:08<00:00,  1.12it/s, WMAPE=2.05, DICE=0.0623, DPEAKS=36.1, Loss=0.00608]\n",
            "Validate Epoch 6: 100%|██████████| 20/20 [00:09<00:00,  2.06it/s, WMAPE=2, DICE=0.0586, DPEAKS=34, Loss=0.00594]\n"
          ]
        },
        {
          "name": "stdout",
          "output_type": "stream",
          "text": [
            "Epoch [7/100]\n"
          ]
        },
        {
          "name": "stderr",
          "output_type": "stream",
          "text": [
            "Train Epoch 7: 100%|██████████| 77/77 [01:09<00:00,  1.11it/s, WMAPE=1.8, DICE=0.06, DPEAKS=33.9, Loss=0.00537]\n",
            "Validate Epoch 7: 100%|██████████| 20/20 [00:10<00:00,  1.96it/s, WMAPE=1.9, DICE=0.0585, DPEAKS=34.5, Loss=0.00584]\n"
          ]
        },
        {
          "name": "stdout",
          "output_type": "stream",
          "text": [
            "Epoch [8/100]\n"
          ]
        },
        {
          "name": "stderr",
          "output_type": "stream",
          "text": [
            "Train Epoch 8: 100%|██████████| 77/77 [01:10<00:00,  1.09it/s, WMAPE=1.76, DICE=0.0588, DPEAKS=31.9, Loss=0.00527]\n",
            "Validate Epoch 8: 100%|██████████| 20/20 [00:10<00:00,  1.88it/s, WMAPE=1.99, DICE=0.0596, DPEAKS=34.6, Loss=0.00606]\n"
          ]
        },
        {
          "name": "stdout",
          "output_type": "stream",
          "text": [
            "early stopping: 6 epochs without improvement\n",
            "Training complete.\n"
          ]
        },
        {
          "name": "stderr",
          "output_type": "stream",
          "text": [
            "Validate Epoch test: 100%|██████████| 486/486 [03:04<00:00,  2.64it/s, WMAPE=1.93, DICE=0.0609, DPEAKS=34.8, Loss=0.00561]\n"
          ]
        },
        {
          "name": "stdout",
          "output_type": "stream",
          "text": [
            "Partition 12: training decoder\n",
            "Loaded best model from partition 11\n",
            "Epoch [1/100]\n"
          ]
        },
        {
          "name": "stderr",
          "output_type": "stream",
          "text": [
            "Train Epoch 1: 100%|██████████| 77/77 [01:17<00:00,  1.01s/it, WMAPE=2.32, DICE=0.0721, DPEAKS=41.5, Loss=0.00707]\n",
            "Validate Epoch 1: 100%|██████████| 20/20 [00:11<00:00,  1.77it/s, WMAPE=1.92, DICE=0.0604, DPEAKS=34.8, Loss=0.00552]\n"
          ]
        },
        {
          "name": "stdout",
          "output_type": "stream",
          "text": [
            "Saving best model\n",
            "Epoch [2/100]\n"
          ]
        },
        {
          "name": "stderr",
          "output_type": "stream",
          "text": [
            "Train Epoch 2: 100%|██████████| 77/77 [01:06<00:00,  1.17it/s, WMAPE=1.87, DICE=0.0595, DPEAKS=32.7, Loss=0.00551]\n",
            "Validate Epoch 2: 100%|██████████| 20/20 [00:10<00:00,  1.91it/s, WMAPE=1.88, DICE=0.0586, DPEAKS=30.6, Loss=0.00542]\n"
          ]
        },
        {
          "name": "stdout",
          "output_type": "stream",
          "text": [
            "Saving best model\n",
            "Epoch [3/100]\n"
          ]
        },
        {
          "name": "stderr",
          "output_type": "stream",
          "text": [
            "Train Epoch 3: 100%|██████████| 77/77 [01:09<00:00,  1.11it/s, WMAPE=1.89, DICE=0.059, DPEAKS=31.5, Loss=0.00557]\n",
            "Validate Epoch 3: 100%|██████████| 20/20 [00:10<00:00,  2.00it/s, WMAPE=2.02, DICE=0.0587, DPEAKS=29.9, Loss=0.00585]\n"
          ]
        },
        {
          "name": "stdout",
          "output_type": "stream",
          "text": [
            "Epoch [4/100]\n"
          ]
        },
        {
          "name": "stderr",
          "output_type": "stream",
          "text": [
            "Train Epoch 4: 100%|██████████| 77/77 [01:07<00:00,  1.14it/s, WMAPE=1.85, DICE=0.0586, DPEAKS=31.4, Loss=0.00545]\n",
            "Validate Epoch 4: 100%|██████████| 20/20 [00:09<00:00,  2.03it/s, WMAPE=1.83, DICE=0.059, DPEAKS=29.6, Loss=0.00539]\n"
          ]
        },
        {
          "name": "stdout",
          "output_type": "stream",
          "text": [
            "Saving best model\n",
            "Epoch [5/100]\n"
          ]
        },
        {
          "name": "stderr",
          "output_type": "stream",
          "text": [
            "Train Epoch 5: 100%|██████████| 77/77 [01:09<00:00,  1.11it/s, WMAPE=1.9, DICE=0.0588, DPEAKS=32.1, Loss=0.0056]\n",
            "Validate Epoch 5: 100%|██████████| 20/20 [00:09<00:00,  2.05it/s, WMAPE=2.02, DICE=0.0599, DPEAKS=33.2, Loss=0.00595]\n"
          ]
        },
        {
          "name": "stdout",
          "output_type": "stream",
          "text": [
            "Epoch [6/100]\n"
          ]
        },
        {
          "name": "stderr",
          "output_type": "stream",
          "text": [
            "Train Epoch 6: 100%|██████████| 77/77 [01:05<00:00,  1.18it/s, WMAPE=1.83, DICE=0.0584, DPEAKS=31.3, Loss=0.00539]\n",
            "Validate Epoch 6: 100%|██████████| 20/20 [00:09<00:00,  2.08it/s, WMAPE=1.82, DICE=0.0582, DPEAKS=30.7, Loss=0.0054]\n"
          ]
        },
        {
          "name": "stdout",
          "output_type": "stream",
          "text": [
            "Epoch [7/100]\n"
          ]
        },
        {
          "name": "stderr",
          "output_type": "stream",
          "text": [
            "Train Epoch 7: 100%|██████████| 77/77 [01:11<00:00,  1.08it/s, WMAPE=1.82, DICE=0.0582, DPEAKS=31.4, Loss=0.00536]\n",
            "Validate Epoch 7: 100%|██████████| 20/20 [00:09<00:00,  2.04it/s, WMAPE=1.89, DICE=0.0581, DPEAKS=30.8, Loss=0.00536]\n"
          ]
        },
        {
          "name": "stdout",
          "output_type": "stream",
          "text": [
            "Saving best model\n",
            "Epoch [8/100]\n"
          ]
        },
        {
          "name": "stderr",
          "output_type": "stream",
          "text": [
            "Train Epoch 8: 100%|██████████| 77/77 [01:09<00:00,  1.11it/s, WMAPE=1.8, DICE=0.0583, DPEAKS=32.7, Loss=0.00531]\n",
            "Validate Epoch 8: 100%|██████████| 20/20 [00:09<00:00,  2.01it/s, WMAPE=1.89, DICE=0.0585, DPEAKS=29.2, Loss=0.00548]\n"
          ]
        },
        {
          "name": "stdout",
          "output_type": "stream",
          "text": [
            "Epoch [9/100]\n"
          ]
        },
        {
          "name": "stderr",
          "output_type": "stream",
          "text": [
            "Train Epoch 9: 100%|██████████| 77/77 [01:06<00:00,  1.16it/s, WMAPE=1.79, DICE=0.0583, DPEAKS=31.9, Loss=0.00528]\n",
            "Validate Epoch 9: 100%|██████████| 20/20 [00:09<00:00,  2.11it/s, WMAPE=2.02, DICE=0.0584, DPEAKS=27.5, Loss=0.00582]\n"
          ]
        },
        {
          "name": "stdout",
          "output_type": "stream",
          "text": [
            "Epoch [10/100]\n"
          ]
        },
        {
          "name": "stderr",
          "output_type": "stream",
          "text": [
            "Train Epoch 10: 100%|██████████| 77/77 [01:05<00:00,  1.18it/s, WMAPE=1.79, DICE=0.058, DPEAKS=31.4, Loss=0.00524]\n",
            "Validate Epoch 10: 100%|██████████| 20/20 [00:09<00:00,  2.11it/s, WMAPE=1.89, DICE=0.0587, DPEAKS=28.1, Loss=0.00554]\n"
          ]
        },
        {
          "name": "stdout",
          "output_type": "stream",
          "text": [
            "Epoch [11/100]\n"
          ]
        },
        {
          "name": "stderr",
          "output_type": "stream",
          "text": [
            "Train Epoch 11: 100%|██████████| 77/77 [01:04<00:00,  1.19it/s, WMAPE=1.74, DICE=0.058, DPEAKS=30.9, Loss=0.00516]\n",
            "Validate Epoch 11: 100%|██████████| 20/20 [00:09<00:00,  2.05it/s, WMAPE=1.91, DICE=0.0584, DPEAKS=28.7, Loss=0.00545]\n"
          ]
        },
        {
          "name": "stdout",
          "output_type": "stream",
          "text": [
            "Epoch [12/100]\n"
          ]
        },
        {
          "name": "stderr",
          "output_type": "stream",
          "text": [
            "Train Epoch 12: 100%|██████████| 77/77 [01:04<00:00,  1.19it/s, WMAPE=1.76, DICE=0.0581, DPEAKS=31.7, Loss=0.00519]\n",
            "Validate Epoch 12: 100%|██████████| 20/20 [00:09<00:00,  2.07it/s, WMAPE=1.92, DICE=0.0585, DPEAKS=28.6, Loss=0.00552]\n"
          ]
        },
        {
          "name": "stdout",
          "output_type": "stream",
          "text": [
            "early stopping: 5 epochs without improvement\n",
            "Training complete.\n"
          ]
        },
        {
          "name": "stderr",
          "output_type": "stream",
          "text": [
            "Validate Epoch test: 100%|██████████| 486/486 [02:54<00:00,  2.78it/s, WMAPE=1.87, DICE=0.0581, DPEAKS=32.7, Loss=0.00541]\n"
          ]
        },
        {
          "name": "stdout",
          "output_type": "stream",
          "text": [
            "Partition 13: training decoder\n",
            "Loaded best model from partition 12\n",
            "Epoch [1/100]\n"
          ]
        },
        {
          "name": "stderr",
          "output_type": "stream",
          "text": [
            "Train Epoch 1: 100%|██████████| 77/77 [01:11<00:00,  1.08it/s, WMAPE=2.1, DICE=0.0627, DPEAKS=35.7, Loss=0.0062]\n",
            "Validate Epoch 1: 100%|██████████| 20/20 [00:10<00:00,  1.86it/s, WMAPE=1.8, DICE=0.0576, DPEAKS=31.2, Loss=0.00531]\n"
          ]
        },
        {
          "name": "stdout",
          "output_type": "stream",
          "text": [
            "Saving best model\n",
            "Epoch [2/100]\n"
          ]
        },
        {
          "name": "stderr",
          "output_type": "stream",
          "text": [
            "Train Epoch 2: 100%|██████████| 77/77 [01:06<00:00,  1.17it/s, WMAPE=1.84, DICE=0.0577, DPEAKS=31.5, Loss=0.00544]\n",
            "Validate Epoch 2: 100%|██████████| 20/20 [00:09<00:00,  2.06it/s, WMAPE=1.85, DICE=0.0577, DPEAKS=30.6, Loss=0.00532]\n"
          ]
        },
        {
          "name": "stdout",
          "output_type": "stream",
          "text": [
            "Epoch [3/100]\n"
          ]
        },
        {
          "name": "stderr",
          "output_type": "stream",
          "text": [
            "Train Epoch 3: 100%|██████████| 77/77 [01:07<00:00,  1.14it/s, WMAPE=1.88, DICE=0.0582, DPEAKS=32.7, Loss=0.00551]\n",
            "Validate Epoch 3: 100%|██████████| 20/20 [00:10<00:00,  1.99it/s, WMAPE=1.88, DICE=0.0587, DPEAKS=34.9, Loss=0.00554]\n"
          ]
        },
        {
          "name": "stdout",
          "output_type": "stream",
          "text": [
            "Epoch [4/100]\n"
          ]
        },
        {
          "name": "stderr",
          "output_type": "stream",
          "text": [
            "Train Epoch 4: 100%|██████████| 77/77 [01:06<00:00,  1.15it/s, WMAPE=1.84, DICE=0.0577, DPEAKS=32.2, Loss=0.00545]\n",
            "Validate Epoch 4: 100%|██████████| 20/20 [00:10<00:00,  2.00it/s, WMAPE=1.83, DICE=0.0573, DPEAKS=31.8, Loss=0.00534]\n"
          ]
        },
        {
          "name": "stdout",
          "output_type": "stream",
          "text": [
            "Epoch [5/100]\n"
          ]
        },
        {
          "name": "stderr",
          "output_type": "stream",
          "text": [
            "Train Epoch 5: 100%|██████████| 77/77 [01:06<00:00,  1.15it/s, WMAPE=1.78, DICE=0.0574, DPEAKS=31.1, Loss=0.00519]\n",
            "Validate Epoch 5: 100%|██████████| 20/20 [00:09<00:00,  2.03it/s, WMAPE=2.2, DICE=0.0572, DPEAKS=31.1, Loss=0.00608]\n"
          ]
        },
        {
          "name": "stdout",
          "output_type": "stream",
          "text": [
            "Epoch [6/100]\n"
          ]
        },
        {
          "name": "stderr",
          "output_type": "stream",
          "text": [
            "Train Epoch 6: 100%|██████████| 77/77 [01:07<00:00,  1.14it/s, WMAPE=1.8, DICE=0.0577, DPEAKS=31.5, Loss=0.00531]\n",
            "Validate Epoch 6: 100%|██████████| 20/20 [00:09<00:00,  2.05it/s, WMAPE=1.89, DICE=0.0581, DPEAKS=32.2, Loss=0.00547]\n"
          ]
        },
        {
          "name": "stdout",
          "output_type": "stream",
          "text": [
            "Epoch [7/100]\n"
          ]
        },
        {
          "name": "stderr",
          "output_type": "stream",
          "text": [
            "Train Epoch 7: 100%|██████████| 77/77 [01:06<00:00,  1.16it/s, WMAPE=1.74, DICE=0.0577, DPEAKS=32.4, Loss=0.00516]\n",
            "Validate Epoch 7: 100%|██████████| 20/20 [00:09<00:00,  2.05it/s, WMAPE=1.94, DICE=0.0577, DPEAKS=31.2, Loss=0.00547]\n"
          ]
        },
        {
          "name": "stdout",
          "output_type": "stream",
          "text": [
            "Epoch [8/100]\n"
          ]
        },
        {
          "name": "stderr",
          "output_type": "stream",
          "text": [
            "Train Epoch 8: 100%|██████████| 77/77 [01:10<00:00,  1.10it/s, WMAPE=1.73, DICE=0.0574, DPEAKS=32, Loss=0.00506]\n",
            "Validate Epoch 8: 100%|██████████| 20/20 [00:09<00:00,  2.02it/s, WMAPE=1.91, DICE=0.0573, DPEAKS=30.7, Loss=0.00557]\n"
          ]
        },
        {
          "name": "stdout",
          "output_type": "stream",
          "text": [
            "early stopping: 7 epochs without improvement\n",
            "Training complete.\n"
          ]
        },
        {
          "name": "stderr",
          "output_type": "stream",
          "text": [
            "Validate Epoch test: 100%|██████████| 486/486 [03:00<00:00,  2.69it/s, WMAPE=1.81, DICE=0.0577, DPEAKS=31.5, Loss=0.00542]\n"
          ]
        },
        {
          "name": "stdout",
          "output_type": "stream",
          "text": [
            "Partition 14: training decoder\n",
            "Loaded best model from partition 13\n",
            "Epoch [1/100]\n"
          ]
        },
        {
          "name": "stderr",
          "output_type": "stream",
          "text": [
            "Train Epoch 1: 100%|██████████| 77/77 [01:10<00:00,  1.09it/s, WMAPE=2.18, DICE=0.0638, DPEAKS=36.8, Loss=0.00639]\n",
            "Validate Epoch 1: 100%|██████████| 20/20 [00:10<00:00,  1.86it/s, WMAPE=1.85, DICE=0.0578, DPEAKS=29.4, Loss=0.00549]\n"
          ]
        },
        {
          "name": "stdout",
          "output_type": "stream",
          "text": [
            "Saving best model\n",
            "Epoch [2/100]\n"
          ]
        },
        {
          "name": "stderr",
          "output_type": "stream",
          "text": [
            "Train Epoch 2: 100%|██████████| 77/77 [01:07<00:00,  1.13it/s, WMAPE=1.89, DICE=0.0579, DPEAKS=32.2, Loss=0.00547]\n",
            "Validate Epoch 2: 100%|██████████| 20/20 [00:09<00:00,  2.01it/s, WMAPE=1.87, DICE=0.0576, DPEAKS=32, Loss=0.00548]\n"
          ]
        },
        {
          "name": "stdout",
          "output_type": "stream",
          "text": [
            "Saving best model\n",
            "Epoch [3/100]\n"
          ]
        },
        {
          "name": "stderr",
          "output_type": "stream",
          "text": [
            "Train Epoch 3: 100%|██████████| 77/77 [01:09<00:00,  1.11it/s, WMAPE=1.87, DICE=0.0576, DPEAKS=32.7, Loss=0.00548]\n",
            "Validate Epoch 3: 100%|██████████| 20/20 [00:09<00:00,  2.04it/s, WMAPE=2.01, DICE=0.0576, DPEAKS=30.6, Loss=0.00604]\n"
          ]
        },
        {
          "name": "stdout",
          "output_type": "stream",
          "text": [
            "Epoch [4/100]\n"
          ]
        },
        {
          "name": "stderr",
          "output_type": "stream",
          "text": [
            "Train Epoch 4: 100%|██████████| 77/77 [01:09<00:00,  1.11it/s, WMAPE=1.86, DICE=0.0581, DPEAKS=32.6, Loss=0.00543]\n",
            "Validate Epoch 4: 100%|██████████| 20/20 [00:10<00:00,  1.88it/s, WMAPE=1.93, DICE=0.0573, DPEAKS=31.8, Loss=0.00572]\n"
          ]
        },
        {
          "name": "stdout",
          "output_type": "stream",
          "text": [
            "Epoch [5/100]\n"
          ]
        },
        {
          "name": "stderr",
          "output_type": "stream",
          "text": [
            "Train Epoch 5: 100%|██████████| 77/77 [01:09<00:00,  1.11it/s, WMAPE=1.86, DICE=0.0577, DPEAKS=31.2, Loss=0.00537]\n",
            "Validate Epoch 5: 100%|██████████| 20/20 [00:10<00:00,  1.99it/s, WMAPE=1.9, DICE=0.0576, DPEAKS=30.4, Loss=0.00557]\n"
          ]
        },
        {
          "name": "stdout",
          "output_type": "stream",
          "text": [
            "Epoch [6/100]\n"
          ]
        },
        {
          "name": "stderr",
          "output_type": "stream",
          "text": [
            "Train Epoch 6: 100%|██████████| 77/77 [01:07<00:00,  1.14it/s, WMAPE=1.88, DICE=0.0585, DPEAKS=32.9, Loss=0.00544]\n",
            "Validate Epoch 6: 100%|██████████| 20/20 [00:09<00:00,  2.02it/s, WMAPE=1.91, DICE=0.0579, DPEAKS=30.8, Loss=0.00571]\n"
          ]
        },
        {
          "name": "stdout",
          "output_type": "stream",
          "text": [
            "Epoch [7/100]\n"
          ]
        },
        {
          "name": "stderr",
          "output_type": "stream",
          "text": [
            "Train Epoch 7: 100%|██████████| 77/77 [01:07<00:00,  1.14it/s, WMAPE=1.84, DICE=0.0579, DPEAKS=32.8, Loss=0.00531]\n",
            "Validate Epoch 7: 100%|██████████| 20/20 [00:10<00:00,  1.99it/s, WMAPE=2.12, DICE=0.058, DPEAKS=31.4, Loss=0.00614]\n"
          ]
        },
        {
          "name": "stdout",
          "output_type": "stream",
          "text": [
            "Epoch [8/100]\n"
          ]
        },
        {
          "name": "stderr",
          "output_type": "stream",
          "text": [
            "Train Epoch 8: 100%|██████████| 77/77 [01:07<00:00,  1.14it/s, WMAPE=1.78, DICE=0.0578, DPEAKS=32.3, Loss=0.00517]\n",
            "Validate Epoch 8: 100%|██████████| 20/20 [00:09<00:00,  2.04it/s, WMAPE=1.89, DICE=0.0575, DPEAKS=30.7, Loss=0.0056]\n"
          ]
        },
        {
          "name": "stdout",
          "output_type": "stream",
          "text": [
            "early stopping: 6 epochs without improvement\n",
            "Training complete.\n"
          ]
        },
        {
          "name": "stderr",
          "output_type": "stream",
          "text": [
            "Validate Epoch test: 100%|██████████| 486/486 [02:58<00:00,  2.72it/s, WMAPE=1.83, DICE=0.0576, DPEAKS=32.1, Loss=0.00536]\n"
          ]
        },
        {
          "name": "stdout",
          "output_type": "stream",
          "text": [
            "Partition 15: training decoder\n",
            "Loaded best model from partition 14\n",
            "Epoch [1/100]\n"
          ]
        },
        {
          "name": "stderr",
          "output_type": "stream",
          "text": [
            "Train Epoch 1: 100%|██████████| 77/77 [01:11<00:00,  1.07it/s, WMAPE=2.14, DICE=0.0649, DPEAKS=39.5, Loss=0.00643]\n",
            "Validate Epoch 1: 100%|██████████| 20/20 [00:10<00:00,  1.83it/s, WMAPE=1.83, DICE=0.0579, DPEAKS=30.1, Loss=0.00538]\n"
          ]
        },
        {
          "name": "stdout",
          "output_type": "stream",
          "text": [
            "Saving best model\n",
            "Epoch [2/100]\n"
          ]
        },
        {
          "name": "stderr",
          "output_type": "stream",
          "text": [
            "Train Epoch 2: 100%|██████████| 77/77 [01:06<00:00,  1.16it/s, WMAPE=1.85, DICE=0.0574, DPEAKS=31.6, Loss=0.00548]\n",
            "Validate Epoch 2: 100%|██████████| 20/20 [00:09<00:00,  2.03it/s, WMAPE=1.81, DICE=0.0573, DPEAKS=29.5, Loss=0.00525]\n"
          ]
        },
        {
          "name": "stdout",
          "output_type": "stream",
          "text": [
            "Saving best model\n",
            "Epoch [3/100]\n"
          ]
        },
        {
          "name": "stderr",
          "output_type": "stream",
          "text": [
            "Train Epoch 3: 100%|██████████| 77/77 [01:06<00:00,  1.16it/s, WMAPE=1.93, DICE=0.059, DPEAKS=32.6, Loss=0.00568]\n",
            "Validate Epoch 3: 100%|██████████| 20/20 [00:10<00:00,  2.00it/s, WMAPE=1.87, DICE=0.059, DPEAKS=31.1, Loss=0.00547]\n"
          ]
        },
        {
          "name": "stdout",
          "output_type": "stream",
          "text": [
            "Epoch [4/100]\n"
          ]
        },
        {
          "name": "stderr",
          "output_type": "stream",
          "text": [
            "Train Epoch 4: 100%|██████████| 77/77 [01:07<00:00,  1.14it/s, WMAPE=1.86, DICE=0.0576, DPEAKS=31.5, Loss=0.00548]\n",
            "Validate Epoch 4: 100%|██████████| 20/20 [00:09<00:00,  2.03it/s, WMAPE=1.84, DICE=0.0584, DPEAKS=31, Loss=0.00533]\n"
          ]
        },
        {
          "name": "stdout",
          "output_type": "stream",
          "text": [
            "Epoch [5/100]\n"
          ]
        },
        {
          "name": "stderr",
          "output_type": "stream",
          "text": [
            "Train Epoch 5: 100%|██████████| 77/77 [01:06<00:00,  1.16it/s, WMAPE=1.83, DICE=0.0576, DPEAKS=31.8, Loss=0.00542]\n",
            "Validate Epoch 5: 100%|██████████| 20/20 [00:09<00:00,  2.07it/s, WMAPE=1.88, DICE=0.0582, DPEAKS=30.7, Loss=0.00551]\n"
          ]
        },
        {
          "name": "stdout",
          "output_type": "stream",
          "text": [
            "Epoch [6/100]\n"
          ]
        },
        {
          "name": "stderr",
          "output_type": "stream",
          "text": [
            "Train Epoch 6: 100%|██████████| 77/77 [01:06<00:00,  1.16it/s, WMAPE=1.8, DICE=0.0573, DPEAKS=31.2, Loss=0.00534]\n",
            "Validate Epoch 6: 100%|██████████| 20/20 [00:09<00:00,  2.06it/s, WMAPE=1.92, DICE=0.0585, DPEAKS=30.6, Loss=0.00569]\n"
          ]
        },
        {
          "name": "stdout",
          "output_type": "stream",
          "text": [
            "Epoch [7/100]\n"
          ]
        },
        {
          "name": "stderr",
          "output_type": "stream",
          "text": [
            "Train Epoch 7: 100%|██████████| 77/77 [01:06<00:00,  1.16it/s, WMAPE=1.8, DICE=0.0574, DPEAKS=31.7, Loss=0.0053]\n",
            "Validate Epoch 7: 100%|██████████| 20/20 [00:09<00:00,  2.02it/s, WMAPE=1.85, DICE=0.0572, DPEAKS=29.8, Loss=0.00533]\n"
          ]
        },
        {
          "name": "stdout",
          "output_type": "stream",
          "text": [
            "Epoch [8/100]\n"
          ]
        },
        {
          "name": "stderr",
          "output_type": "stream",
          "text": [
            "Train Epoch 8: 100%|██████████| 77/77 [01:07<00:00,  1.14it/s, WMAPE=1.74, DICE=0.0574, DPEAKS=31.7, Loss=0.00516]\n",
            "Validate Epoch 8: 100%|██████████| 20/20 [00:10<00:00,  1.97it/s, WMAPE=1.86, DICE=0.0576, DPEAKS=31.5, Loss=0.00548]\n"
          ]
        },
        {
          "name": "stdout",
          "output_type": "stream",
          "text": [
            "early stopping: 6 epochs without improvement\n",
            "Training complete.\n"
          ]
        },
        {
          "name": "stderr",
          "output_type": "stream",
          "text": [
            "Validate Epoch test: 100%|██████████| 486/486 [02:55<00:00,  2.77it/s, WMAPE=1.82, DICE=0.0571, DPEAKS=31.2, Loss=0.00534]\n"
          ]
        },
        {
          "name": "stdout",
          "output_type": "stream",
          "text": [
            "Partition 16: training full\n",
            "Loaded best model from partition 15\n",
            "Epoch [1/100]\n"
          ]
        },
        {
          "name": "stderr",
          "output_type": "stream",
          "text": [
            "Train Epoch 1: 100%|██████████| 77/77 [01:14<00:00,  1.03it/s, WMAPE=2.85, DICE=0.0894, DPEAKS=61.6, Loss=0.0089]\n",
            "Validate Epoch 1: 100%|██████████| 20/20 [00:10<00:00,  1.85it/s, WMAPE=1.82, DICE=0.0629, DPEAKS=37.8, Loss=0.00592]\n"
          ]
        },
        {
          "name": "stdout",
          "output_type": "stream",
          "text": [
            "Saving best model\n",
            "Epoch [2/100]\n"
          ]
        },
        {
          "name": "stderr",
          "output_type": "stream",
          "text": [
            "Train Epoch 2: 100%|██████████| 77/77 [01:08<00:00,  1.12it/s, WMAPE=2.03, DICE=0.0607, DPEAKS=35.9, Loss=0.00602]\n",
            "Validate Epoch 2: 100%|██████████| 20/20 [00:09<00:00,  2.07it/s, WMAPE=1.86, DICE=0.0582, DPEAKS=34.3, Loss=0.00572]\n"
          ]
        },
        {
          "name": "stdout",
          "output_type": "stream",
          "text": [
            "Saving best model\n",
            "Epoch [3/100]\n"
          ]
        },
        {
          "name": "stderr",
          "output_type": "stream",
          "text": [
            "Train Epoch 3: 100%|██████████| 77/77 [01:09<00:00,  1.10it/s, WMAPE=1.99, DICE=0.0588, DPEAKS=33.5, Loss=0.00589]\n",
            "Validate Epoch 3: 100%|██████████| 20/20 [00:10<00:00,  1.99it/s, WMAPE=1.78, DICE=0.0585, DPEAKS=33.4, Loss=0.00543]\n"
          ]
        },
        {
          "name": "stdout",
          "output_type": "stream",
          "text": [
            "Saving best model\n",
            "Epoch [4/100]\n"
          ]
        },
        {
          "name": "stderr",
          "output_type": "stream",
          "text": [
            "Train Epoch 4: 100%|██████████| 77/77 [01:09<00:00,  1.11it/s, WMAPE=1.93, DICE=0.059, DPEAKS=35, Loss=0.00573]\n",
            "Validate Epoch 4: 100%|██████████| 20/20 [00:09<00:00,  2.05it/s, WMAPE=1.94, DICE=0.0633, DPEAKS=41.6, Loss=0.00613]\n"
          ]
        },
        {
          "name": "stdout",
          "output_type": "stream",
          "text": [
            "Epoch [5/100]\n"
          ]
        },
        {
          "name": "stderr",
          "output_type": "stream",
          "text": [
            "Train Epoch 5: 100%|██████████| 77/77 [01:09<00:00,  1.11it/s, WMAPE=1.89, DICE=0.0598, DPEAKS=36.1, Loss=0.0056]\n",
            "Validate Epoch 5: 100%|██████████| 20/20 [00:09<00:00,  2.06it/s, WMAPE=1.8, DICE=0.0592, DPEAKS=36.1, Loss=0.0054]\n"
          ]
        },
        {
          "name": "stdout",
          "output_type": "stream",
          "text": [
            "Saving best model\n",
            "Epoch [6/100]\n"
          ]
        },
        {
          "name": "stderr",
          "output_type": "stream",
          "text": [
            "Train Epoch 6: 100%|██████████| 77/77 [01:09<00:00,  1.11it/s, WMAPE=1.89, DICE=0.0596, DPEAKS=35, Loss=0.00559]\n",
            "Validate Epoch 6: 100%|██████████| 20/20 [00:09<00:00,  2.02it/s, WMAPE=1.69, DICE=0.0582, DPEAKS=35, Loss=0.00539]\n"
          ]
        },
        {
          "name": "stdout",
          "output_type": "stream",
          "text": [
            "Saving best model\n",
            "Epoch [7/100]\n"
          ]
        },
        {
          "name": "stderr",
          "output_type": "stream",
          "text": [
            "Train Epoch 7: 100%|██████████| 77/77 [01:10<00:00,  1.10it/s, WMAPE=1.76, DICE=0.0586, DPEAKS=34.3, Loss=0.00527]\n",
            "Validate Epoch 7: 100%|██████████| 20/20 [00:09<00:00,  2.05it/s, WMAPE=1.73, DICE=0.0575, DPEAKS=35, Loss=0.00536]\n"
          ]
        },
        {
          "name": "stdout",
          "output_type": "stream",
          "text": [
            "Saving best model\n",
            "Epoch [8/100]\n"
          ]
        },
        {
          "name": "stderr",
          "output_type": "stream",
          "text": [
            "Train Epoch 8: 100%|██████████| 77/77 [01:09<00:00,  1.11it/s, WMAPE=1.81, DICE=0.0595, DPEAKS=36.6, Loss=0.00545]\n",
            "Validate Epoch 8: 100%|██████████| 20/20 [00:10<00:00,  1.90it/s, WMAPE=1.74, DICE=0.058, DPEAKS=36.3, Loss=0.00534]\n"
          ]
        },
        {
          "name": "stdout",
          "output_type": "stream",
          "text": [
            "Saving best model\n",
            "Epoch [9/100]\n"
          ]
        },
        {
          "name": "stderr",
          "output_type": "stream",
          "text": [
            "Train Epoch 9: 100%|██████████| 77/77 [01:12<00:00,  1.06it/s, WMAPE=1.63, DICE=0.0573, DPEAKS=31.8, Loss=0.00488]\n",
            "Validate Epoch 9: 100%|██████████| 20/20 [00:09<00:00,  2.05it/s, WMAPE=1.9, DICE=0.0589, DPEAKS=34.8, Loss=0.00586]\n"
          ]
        },
        {
          "name": "stdout",
          "output_type": "stream",
          "text": [
            "Epoch [10/100]\n"
          ]
        },
        {
          "name": "stderr",
          "output_type": "stream",
          "text": [
            "Train Epoch 10: 100%|██████████| 77/77 [01:09<00:00,  1.11it/s, WMAPE=1.59, DICE=0.0575, DPEAKS=34.2, Loss=0.00478]\n",
            "Validate Epoch 10: 100%|██████████| 20/20 [00:09<00:00,  2.05it/s, WMAPE=1.86, DICE=0.0569, DPEAKS=31.9, Loss=0.00568]\n"
          ]
        },
        {
          "name": "stdout",
          "output_type": "stream",
          "text": [
            "Epoch [11/100]\n"
          ]
        },
        {
          "name": "stderr",
          "output_type": "stream",
          "text": [
            "Train Epoch 11: 100%|██████████| 77/77 [01:11<00:00,  1.07it/s, WMAPE=1.51, DICE=0.0563, DPEAKS=32, Loss=0.00456]\n",
            "Validate Epoch 11: 100%|██████████| 20/20 [00:09<00:00,  2.05it/s, WMAPE=1.78, DICE=0.0566, DPEAKS=32.3, Loss=0.00553]\n"
          ]
        },
        {
          "name": "stdout",
          "output_type": "stream",
          "text": [
            "Epoch [12/100]\n"
          ]
        },
        {
          "name": "stderr",
          "output_type": "stream",
          "text": [
            "Train Epoch 12: 100%|██████████| 77/77 [01:11<00:00,  1.08it/s, WMAPE=1.64, DICE=0.0573, DPEAKS=34, Loss=0.00494]\n",
            "Validate Epoch 12: 100%|██████████| 20/20 [00:09<00:00,  2.01it/s, WMAPE=1.82, DICE=0.0587, DPEAKS=34.2, Loss=0.00571]\n"
          ]
        },
        {
          "name": "stdout",
          "output_type": "stream",
          "text": [
            "Epoch [13/100]\n"
          ]
        },
        {
          "name": "stderr",
          "output_type": "stream",
          "text": [
            "Train Epoch 13: 100%|██████████| 77/77 [01:10<00:00,  1.09it/s, WMAPE=1.5, DICE=0.0564, DPEAKS=31.5, Loss=0.00453]\n",
            "Validate Epoch 13: 100%|██████████| 20/20 [00:10<00:00,  1.99it/s, WMAPE=1.82, DICE=0.0549, DPEAKS=30.6, Loss=0.00558]\n"
          ]
        },
        {
          "name": "stdout",
          "output_type": "stream",
          "text": [
            "early stopping: 5 epochs without improvement\n",
            "Training complete.\n"
          ]
        },
        {
          "name": "stderr",
          "output_type": "stream",
          "text": [
            "Validate Epoch test: 100%|██████████| 486/486 [03:01<00:00,  2.68it/s, WMAPE=1.9, DICE=0.0581, DPEAKS=33.4, Loss=0.00549]\n"
          ]
        },
        {
          "name": "stdout",
          "output_type": "stream",
          "text": [
            "Partition 17: training decoder\n",
            "Loaded best model from partition 16\n",
            "Epoch [1/100]\n"
          ]
        },
        {
          "name": "stderr",
          "output_type": "stream",
          "text": [
            "Train Epoch 1: 100%|██████████| 77/77 [01:12<00:00,  1.06it/s, WMAPE=2.22, DICE=0.0642, DPEAKS=35.6, Loss=0.0066]\n",
            "Validate Epoch 1: 100%|██████████| 20/20 [00:11<00:00,  1.77it/s, WMAPE=1.76, DICE=0.0566, DPEAKS=30.1, Loss=0.00541]\n"
          ]
        },
        {
          "name": "stdout",
          "output_type": "stream",
          "text": [
            "Saving best model\n",
            "Epoch [2/100]\n"
          ]
        },
        {
          "name": "stderr",
          "output_type": "stream",
          "text": [
            "Train Epoch 2: 100%|██████████| 77/77 [01:12<00:00,  1.06it/s, WMAPE=1.87, DICE=0.056, DPEAKS=29.8, Loss=0.0055]\n",
            "Validate Epoch 2: 100%|██████████| 20/20 [00:10<00:00,  1.92it/s, WMAPE=1.79, DICE=0.0567, DPEAKS=29.4, Loss=0.00536]\n"
          ]
        },
        {
          "name": "stdout",
          "output_type": "stream",
          "text": [
            "Saving best model\n",
            "Epoch [3/100]\n"
          ]
        },
        {
          "name": "stderr",
          "output_type": "stream",
          "text": [
            "Train Epoch 3: 100%|██████████| 77/77 [01:11<00:00,  1.07it/s, WMAPE=1.84, DICE=0.0561, DPEAKS=29.7, Loss=0.00541]\n",
            "Validate Epoch 3: 100%|██████████| 20/20 [00:10<00:00,  1.99it/s, WMAPE=1.71, DICE=0.0557, DPEAKS=29.9, Loss=0.00522]\n"
          ]
        },
        {
          "name": "stdout",
          "output_type": "stream",
          "text": [
            "Saving best model\n",
            "Epoch [4/100]\n"
          ]
        },
        {
          "name": "stderr",
          "output_type": "stream",
          "text": [
            "Train Epoch 4: 100%|██████████| 77/77 [01:08<00:00,  1.12it/s, WMAPE=1.9, DICE=0.0562, DPEAKS=29.8, Loss=0.0055]\n",
            "Validate Epoch 4: 100%|██████████| 20/20 [00:09<00:00,  2.05it/s, WMAPE=1.73, DICE=0.0565, DPEAKS=29.7, Loss=0.00527]\n"
          ]
        },
        {
          "name": "stdout",
          "output_type": "stream",
          "text": [
            "Epoch [5/100]\n"
          ]
        },
        {
          "name": "stderr",
          "output_type": "stream",
          "text": [
            "Train Epoch 5: 100%|██████████| 77/77 [01:06<00:00,  1.16it/s, WMAPE=1.75, DICE=0.0556, DPEAKS=30.1, Loss=0.00514]\n",
            "Validate Epoch 5: 100%|██████████| 20/20 [00:09<00:00,  2.02it/s, WMAPE=2.03, DICE=0.056, DPEAKS=30.4, Loss=0.006]\n"
          ]
        },
        {
          "name": "stdout",
          "output_type": "stream",
          "text": [
            "Epoch [6/100]\n"
          ]
        },
        {
          "name": "stderr",
          "output_type": "stream",
          "text": [
            "Train Epoch 6: 100%|██████████| 77/77 [01:08<00:00,  1.12it/s, WMAPE=1.81, DICE=0.0559, DPEAKS=29.8, Loss=0.00528]\n",
            "Validate Epoch 6: 100%|██████████| 20/20 [00:10<00:00,  1.98it/s, WMAPE=1.86, DICE=0.0561, DPEAKS=29.3, Loss=0.00566]\n"
          ]
        },
        {
          "name": "stdout",
          "output_type": "stream",
          "text": [
            "Epoch [7/100]\n"
          ]
        },
        {
          "name": "stderr",
          "output_type": "stream",
          "text": [
            "Train Epoch 7: 100%|██████████| 77/77 [01:10<00:00,  1.10it/s, WMAPE=1.77, DICE=0.0558, DPEAKS=30.9, Loss=0.00517]\n",
            "Validate Epoch 7: 100%|██████████| 20/20 [00:10<00:00,  1.97it/s, WMAPE=1.95, DICE=0.0569, DPEAKS=29.1, Loss=0.00603]\n"
          ]
        },
        {
          "name": "stdout",
          "output_type": "stream",
          "text": [
            "Epoch [8/100]\n"
          ]
        },
        {
          "name": "stderr",
          "output_type": "stream",
          "text": [
            "Train Epoch 8: 100%|██████████| 77/77 [01:11<00:00,  1.08it/s, WMAPE=1.73, DICE=0.0559, DPEAKS=30.8, Loss=0.00504]\n",
            "Validate Epoch 8: 100%|██████████| 20/20 [00:10<00:00,  1.94it/s, WMAPE=1.88, DICE=0.056, DPEAKS=29.7, Loss=0.00562]\n"
          ]
        },
        {
          "name": "stdout",
          "output_type": "stream",
          "text": [
            "early stopping: 5 epochs without improvement\n",
            "Training complete.\n"
          ]
        },
        {
          "name": "stderr",
          "output_type": "stream",
          "text": [
            "Validate Epoch test: 100%|██████████| 486/486 [03:04<00:00,  2.63it/s, WMAPE=1.79, DICE=0.0555, DPEAKS=31, Loss=0.00525]\n"
          ]
        },
        {
          "name": "stdout",
          "output_type": "stream",
          "text": [
            "Partition 18: training decoder\n",
            "Loaded best model from partition 17\n",
            "Epoch [1/100]\n"
          ]
        },
        {
          "name": "stderr",
          "output_type": "stream",
          "text": [
            "Train Epoch 1: 100%|██████████| 77/77 [01:17<00:00,  1.01s/it, WMAPE=2.08, DICE=0.0617, DPEAKS=33.8, Loss=0.00631]\n",
            "Validate Epoch 1: 100%|██████████| 20/20 [00:11<00:00,  1.75it/s, WMAPE=1.86, DICE=0.0555, DPEAKS=31.7, Loss=0.00545]\n"
          ]
        },
        {
          "name": "stdout",
          "output_type": "stream",
          "text": [
            "Saving best model\n",
            "Epoch [2/100]\n"
          ]
        },
        {
          "name": "stderr",
          "output_type": "stream",
          "text": [
            "Train Epoch 2: 100%|██████████| 77/77 [01:13<00:00,  1.05it/s, WMAPE=1.89, DICE=0.0572, DPEAKS=29.8, Loss=0.00566]\n",
            "Validate Epoch 2: 100%|██████████| 20/20 [00:10<00:00,  1.85it/s, WMAPE=2.08, DICE=0.0559, DPEAKS=34.5, Loss=0.00593]\n"
          ]
        },
        {
          "name": "stdout",
          "output_type": "stream",
          "text": [
            "Epoch [3/100]\n"
          ]
        },
        {
          "name": "stderr",
          "output_type": "stream",
          "text": [
            "Train Epoch 3: 100%|██████████| 77/77 [01:14<00:00,  1.04it/s, WMAPE=1.79, DICE=0.0556, DPEAKS=30.4, Loss=0.00536]\n",
            "Validate Epoch 3: 100%|██████████| 20/20 [00:10<00:00,  1.84it/s, WMAPE=1.86, DICE=0.055, DPEAKS=31.5, Loss=0.00539]\n"
          ]
        },
        {
          "name": "stdout",
          "output_type": "stream",
          "text": [
            "Saving best model\n",
            "Epoch [4/100]\n"
          ]
        },
        {
          "name": "stderr",
          "output_type": "stream",
          "text": [
            "Train Epoch 4: 100%|██████████| 77/77 [01:12<00:00,  1.06it/s, WMAPE=1.78, DICE=0.0555, DPEAKS=28.7, Loss=0.00529]\n",
            "Validate Epoch 4: 100%|██████████| 20/20 [00:10<00:00,  1.90it/s, WMAPE=1.89, DICE=0.0551, DPEAKS=31.6, Loss=0.00569]\n"
          ]
        },
        {
          "name": "stdout",
          "output_type": "stream",
          "text": [
            "Epoch [5/100]\n"
          ]
        },
        {
          "name": "stderr",
          "output_type": "stream",
          "text": [
            "Train Epoch 5: 100%|██████████| 77/77 [01:12<00:00,  1.06it/s, WMAPE=1.75, DICE=0.0555, DPEAKS=28.8, Loss=0.00527]\n",
            "Validate Epoch 5: 100%|██████████| 20/20 [00:10<00:00,  1.88it/s, WMAPE=1.83, DICE=0.0549, DPEAKS=31.9, Loss=0.00542]\n"
          ]
        },
        {
          "name": "stdout",
          "output_type": "stream",
          "text": [
            "Epoch [6/100]\n"
          ]
        },
        {
          "name": "stderr",
          "output_type": "stream",
          "text": [
            "Train Epoch 6: 100%|██████████| 77/77 [01:11<00:00,  1.08it/s, WMAPE=1.72, DICE=0.0555, DPEAKS=29.3, Loss=0.00515]\n",
            "Validate Epoch 6: 100%|██████████| 20/20 [00:10<00:00,  1.91it/s, WMAPE=1.79, DICE=0.055, DPEAKS=33.3, Loss=0.0054]\n"
          ]
        },
        {
          "name": "stdout",
          "output_type": "stream",
          "text": [
            "Epoch [7/100]\n"
          ]
        },
        {
          "name": "stderr",
          "output_type": "stream",
          "text": [
            "Train Epoch 7: 100%|██████████| 77/77 [01:11<00:00,  1.08it/s, WMAPE=1.72, DICE=0.056, DPEAKS=30.3, Loss=0.00517]\n",
            "Validate Epoch 7: 100%|██████████| 20/20 [00:10<00:00,  1.98it/s, WMAPE=1.98, DICE=0.0568, DPEAKS=35.5, Loss=0.006]\n"
          ]
        },
        {
          "name": "stdout",
          "output_type": "stream",
          "text": [
            "Epoch [8/100]\n"
          ]
        },
        {
          "name": "stderr",
          "output_type": "stream",
          "text": [
            "Train Epoch 8: 100%|██████████| 77/77 [01:09<00:00,  1.10it/s, WMAPE=1.7, DICE=0.0558, DPEAKS=29.6, Loss=0.00511]\n",
            "Validate Epoch 8: 100%|██████████| 20/20 [00:10<00:00,  1.98it/s, WMAPE=1.88, DICE=0.0553, DPEAKS=32.2, Loss=0.00552]\n"
          ]
        },
        {
          "name": "stdout",
          "output_type": "stream",
          "text": [
            "early stopping: 5 epochs without improvement\n",
            "Training complete.\n"
          ]
        },
        {
          "name": "stderr",
          "output_type": "stream",
          "text": [
            "Validate Epoch test: 100%|██████████| 486/486 [02:58<00:00,  2.72it/s, WMAPE=1.83, DICE=0.0552, DPEAKS=31.1, Loss=0.00531]\n"
          ]
        },
        {
          "name": "stdout",
          "output_type": "stream",
          "text": [
            "Partition 19: training decoder\n",
            "Loaded best model from partition 18\n",
            "Epoch [1/100]\n"
          ]
        },
        {
          "name": "stderr",
          "output_type": "stream",
          "text": [
            "Train Epoch 1: 100%|██████████| 77/77 [01:13<00:00,  1.05it/s, WMAPE=2.19, DICE=0.0616, DPEAKS=35.2, Loss=0.00661]\n",
            "Validate Epoch 1: 100%|██████████| 20/20 [00:11<00:00,  1.77it/s, WMAPE=1.7, DICE=0.0557, DPEAKS=31.3, Loss=0.00519]\n"
          ]
        },
        {
          "name": "stdout",
          "output_type": "stream",
          "text": [
            "Saving best model\n",
            "Epoch [2/100]\n"
          ]
        },
        {
          "name": "stderr",
          "output_type": "stream",
          "text": [
            "Train Epoch 2: 100%|██████████| 77/77 [01:09<00:00,  1.11it/s, WMAPE=1.83, DICE=0.0555, DPEAKS=30, Loss=0.0054]\n",
            "Validate Epoch 2: 100%|██████████| 20/20 [00:10<00:00,  1.98it/s, WMAPE=1.74, DICE=0.055, DPEAKS=30.5, Loss=0.00541]\n"
          ]
        },
        {
          "name": "stdout",
          "output_type": "stream",
          "text": [
            "Epoch [3/100]\n"
          ]
        },
        {
          "name": "stderr",
          "output_type": "stream",
          "text": [
            "Train Epoch 3: 100%|██████████| 77/77 [01:10<00:00,  1.09it/s, WMAPE=1.81, DICE=0.055, DPEAKS=27.9, Loss=0.00533]\n",
            "Validate Epoch 3: 100%|██████████| 20/20 [00:10<00:00,  1.98it/s, WMAPE=1.89, DICE=0.0554, DPEAKS=31.5, Loss=0.00558]\n"
          ]
        },
        {
          "name": "stdout",
          "output_type": "stream",
          "text": [
            "Epoch [4/100]\n"
          ]
        },
        {
          "name": "stderr",
          "output_type": "stream",
          "text": [
            "Train Epoch 4: 100%|██████████| 77/77 [01:08<00:00,  1.12it/s, WMAPE=1.77, DICE=0.0552, DPEAKS=29.3, Loss=0.00523]\n",
            "Validate Epoch 4: 100%|██████████| 20/20 [00:09<00:00,  2.06it/s, WMAPE=1.68, DICE=0.0554, DPEAKS=32.7, Loss=0.00513]\n"
          ]
        },
        {
          "name": "stdout",
          "output_type": "stream",
          "text": [
            "Saving best model\n",
            "Epoch [5/100]\n"
          ]
        },
        {
          "name": "stderr",
          "output_type": "stream",
          "text": [
            "Train Epoch 5: 100%|██████████| 77/77 [01:05<00:00,  1.18it/s, WMAPE=1.77, DICE=0.0554, DPEAKS=28.5, Loss=0.00521]\n",
            "Validate Epoch 5: 100%|██████████| 20/20 [00:09<00:00,  2.13it/s, WMAPE=1.7, DICE=0.0562, DPEAKS=31.7, Loss=0.00518]\n"
          ]
        },
        {
          "name": "stdout",
          "output_type": "stream",
          "text": [
            "Epoch [6/100]\n"
          ]
        },
        {
          "name": "stderr",
          "output_type": "stream",
          "text": [
            "Train Epoch 6: 100%|██████████| 77/77 [01:03<00:00,  1.20it/s, WMAPE=1.73, DICE=0.0551, DPEAKS=30.1, Loss=0.00509]\n",
            "Validate Epoch 6: 100%|██████████| 20/20 [00:09<00:00,  2.13it/s, WMAPE=1.83, DICE=0.0556, DPEAKS=31.9, Loss=0.00534]\n"
          ]
        },
        {
          "name": "stdout",
          "output_type": "stream",
          "text": [
            "Epoch [7/100]\n"
          ]
        },
        {
          "name": "stderr",
          "output_type": "stream",
          "text": [
            "Train Epoch 7: 100%|██████████| 77/77 [01:03<00:00,  1.21it/s, WMAPE=1.81, DICE=0.0563, DPEAKS=31, Loss=0.00534]\n",
            "Validate Epoch 7: 100%|██████████| 20/20 [00:09<00:00,  2.14it/s, WMAPE=1.87, DICE=0.0573, DPEAKS=31.4, Loss=0.00588]\n"
          ]
        },
        {
          "name": "stdout",
          "output_type": "stream",
          "text": [
            "Epoch [8/100]\n"
          ]
        },
        {
          "name": "stderr",
          "output_type": "stream",
          "text": [
            "Train Epoch 8: 100%|██████████| 77/77 [01:06<00:00,  1.16it/s, WMAPE=1.69, DICE=0.0553, DPEAKS=28.6, Loss=0.00502]\n",
            "Validate Epoch 8: 100%|██████████| 20/20 [00:10<00:00,  1.91it/s, WMAPE=1.73, DICE=0.0549, DPEAKS=32.1, Loss=0.00524]\n"
          ]
        },
        {
          "name": "stdout",
          "output_type": "stream",
          "text": [
            "Epoch [9/100]\n"
          ]
        },
        {
          "name": "stderr",
          "output_type": "stream",
          "text": [
            "Train Epoch 9: 100%|██████████| 77/77 [01:08<00:00,  1.12it/s, WMAPE=1.65, DICE=0.0551, DPEAKS=28, Loss=0.00487]\n",
            "Validate Epoch 9: 100%|██████████| 20/20 [00:09<00:00,  2.02it/s, WMAPE=1.81, DICE=0.0555, DPEAKS=30.3, Loss=0.00542]\n"
          ]
        },
        {
          "name": "stdout",
          "output_type": "stream",
          "text": [
            "early stopping: 5 epochs without improvement\n",
            "Training complete.\n"
          ]
        },
        {
          "name": "stderr",
          "output_type": "stream",
          "text": [
            "Validate Epoch test: 100%|██████████| 486/486 [02:55<00:00,  2.77it/s, WMAPE=1.76, DICE=0.0552, DPEAKS=31.3, Loss=0.00521]\n"
          ]
        },
        {
          "name": "stdout",
          "output_type": "stream",
          "text": [
            "Partition 20: training decoder\n",
            "Loaded best model from partition 19\n",
            "Epoch [1/100]\n"
          ]
        },
        {
          "name": "stderr",
          "output_type": "stream",
          "text": [
            "Train Epoch 1: 100%|██████████| 77/77 [01:11<00:00,  1.08it/s, WMAPE=2.19, DICE=0.0644, DPEAKS=38.1, Loss=0.00667]\n",
            "Validate Epoch 1: 100%|██████████| 20/20 [00:11<00:00,  1.81it/s, WMAPE=1.77, DICE=0.0551, DPEAKS=34.1, Loss=0.00522]\n"
          ]
        },
        {
          "name": "stdout",
          "output_type": "stream",
          "text": [
            "Saving best model\n",
            "Epoch [2/100]\n"
          ]
        },
        {
          "name": "stderr",
          "output_type": "stream",
          "text": [
            "Train Epoch 2: 100%|██████████| 77/77 [01:08<00:00,  1.13it/s, WMAPE=1.79, DICE=0.0549, DPEAKS=31.5, Loss=0.0054]\n",
            "Validate Epoch 2: 100%|██████████| 20/20 [00:09<00:00,  2.07it/s, WMAPE=1.78, DICE=0.055, DPEAKS=31.4, Loss=0.00518]\n"
          ]
        },
        {
          "name": "stdout",
          "output_type": "stream",
          "text": [
            "Saving best model\n",
            "Epoch [3/100]\n"
          ]
        },
        {
          "name": "stderr",
          "output_type": "stream",
          "text": [
            "Train Epoch 3: 100%|██████████| 77/77 [01:04<00:00,  1.19it/s, WMAPE=1.79, DICE=0.0549, DPEAKS=31.9, Loss=0.00539]\n",
            "Validate Epoch 3: 100%|██████████| 20/20 [00:09<00:00,  2.12it/s, WMAPE=1.85, DICE=0.0546, DPEAKS=31.2, Loss=0.00537]\n"
          ]
        },
        {
          "name": "stdout",
          "output_type": "stream",
          "text": [
            "Epoch [4/100]\n"
          ]
        },
        {
          "name": "stderr",
          "output_type": "stream",
          "text": [
            "Train Epoch 4: 100%|██████████| 77/77 [01:03<00:00,  1.21it/s, WMAPE=1.78, DICE=0.0554, DPEAKS=31.6, Loss=0.00535]\n",
            "Validate Epoch 4: 100%|██████████| 20/20 [00:09<00:00,  2.14it/s, WMAPE=1.84, DICE=0.056, DPEAKS=33.2, Loss=0.00534]\n"
          ]
        },
        {
          "name": "stdout",
          "output_type": "stream",
          "text": [
            "Epoch [5/100]\n"
          ]
        },
        {
          "name": "stderr",
          "output_type": "stream",
          "text": [
            "Train Epoch 5: 100%|██████████| 77/77 [01:03<00:00,  1.21it/s, WMAPE=1.73, DICE=0.0548, DPEAKS=31.6, Loss=0.0052]\n",
            "Validate Epoch 5: 100%|██████████| 20/20 [00:09<00:00,  2.03it/s, WMAPE=1.78, DICE=0.0549, DPEAKS=32.5, Loss=0.00518]\n"
          ]
        },
        {
          "name": "stdout",
          "output_type": "stream",
          "text": [
            "Epoch [6/100]\n"
          ]
        },
        {
          "name": "stderr",
          "output_type": "stream",
          "text": [
            "Train Epoch 6: 100%|██████████| 77/77 [01:07<00:00,  1.14it/s, WMAPE=1.74, DICE=0.0549, DPEAKS=31.8, Loss=0.00523]\n",
            "Validate Epoch 6: 100%|██████████| 20/20 [00:09<00:00,  2.06it/s, WMAPE=1.91, DICE=0.0557, DPEAKS=33.7, Loss=0.00547]\n"
          ]
        },
        {
          "name": "stdout",
          "output_type": "stream",
          "text": [
            "Epoch [7/100]\n"
          ]
        },
        {
          "name": "stderr",
          "output_type": "stream",
          "text": [
            "Train Epoch 7: 100%|██████████| 77/77 [01:06<00:00,  1.17it/s, WMAPE=1.74, DICE=0.0554, DPEAKS=31.7, Loss=0.00525]\n",
            "Validate Epoch 7: 100%|██████████| 20/20 [00:09<00:00,  2.02it/s, WMAPE=1.83, DICE=0.0551, DPEAKS=32.9, Loss=0.00529]\n"
          ]
        },
        {
          "name": "stdout",
          "output_type": "stream",
          "text": [
            "Epoch [8/100]\n"
          ]
        },
        {
          "name": "stderr",
          "output_type": "stream",
          "text": [
            "Train Epoch 8: 100%|██████████| 77/77 [01:05<00:00,  1.18it/s, WMAPE=1.68, DICE=0.0551, DPEAKS=32.3, Loss=0.00505]\n",
            "Validate Epoch 8: 100%|██████████| 20/20 [00:09<00:00,  2.10it/s, WMAPE=1.81, DICE=0.0553, DPEAKS=32.5, Loss=0.00525]\n"
          ]
        },
        {
          "name": "stdout",
          "output_type": "stream",
          "text": [
            "early stopping: 6 epochs without improvement\n",
            "Training complete.\n"
          ]
        },
        {
          "name": "stderr",
          "output_type": "stream",
          "text": [
            "Validate Epoch test: 100%|██████████| 486/486 [02:52<00:00,  2.81it/s, WMAPE=1.78, DICE=0.055, DPEAKS=30.4, Loss=0.00521]\n"
          ]
        }
      ],
      "source": [
        "criterion = L1LogLoss()\n",
        "many_partitions_v2(11,21,model,criterion,transform=transform)"
      ]
    },
    {
      "cell_type": "code",
      "execution_count": null,
      "metadata": {},
      "outputs": [],
      "source": []
    }
  ],
  "metadata": {
    "accelerator": "GPU",
    "colab": {
      "gpuType": "T4",
      "provenance": []
    },
    "kernelspec": {
      "display_name": "Python 3",
      "name": "python3"
    },
    "language_info": {
      "codemirror_mode": {
        "name": "ipython",
        "version": 3
      },
      "file_extension": ".py",
      "mimetype": "text/x-python",
      "name": "python",
      "nbconvert_exporter": "python",
      "pygments_lexer": "ipython3",
      "version": "3.12.5"
    }
  },
  "nbformat": 4,
  "nbformat_minor": 0
}
