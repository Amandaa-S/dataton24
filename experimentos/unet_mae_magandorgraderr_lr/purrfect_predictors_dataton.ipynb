{
  "cells": [
    {
      "cell_type": "markdown",
      "metadata": {},
      "source": [
        "## Carga modulo comun"
      ]
    },
    {
      "cell_type": "code",
      "execution_count": 1,
      "metadata": {},
      "outputs": [],
      "source": [
        "import sys\n",
        "import os\n",
        "sys.path.append(os.path.abspath('../../common'))"
      ]
    },
    {
      "cell_type": "code",
      "execution_count": 2,
      "metadata": {},
      "outputs": [],
      "source": [
        "import torch\n",
        "import torch.nn as nn\n",
        "import torch.nn.functional as F\n",
        "\n",
        "from purrfect.dataset import EPKADataset, load_partition,save_partition, create_train_valid_loaders\n",
        "from torch.utils.data import DataLoader\n",
        "\n",
        "from purrfect.training import train_model,train_validate\n",
        "import torch.optim as optim\n",
        "\n",
        "from purrfect.metrics import MetricAccumulator\n",
        "from purrfect.active_learning import create_new_partition,create_next_partitions, test_model\n",
        "\n",
        "from sklearn.model_selection import train_test_split\n",
        "from purrfect.submission import create_submission"
      ]
    },
    {
      "cell_type": "code",
      "execution_count": 3,
      "metadata": {},
      "outputs": [],
      "source": [
        "DEVICE = torch.device('cuda' if torch.cuda.is_available() else 'cpu')"
      ]
    },
    {
      "cell_type": "markdown",
      "metadata": {},
      "source": [
        "## Definición modelo"
      ]
    },
    {
      "cell_type": "code",
      "execution_count": 4,
      "metadata": {},
      "outputs": [],
      "source": [
        "# Define the double convolution block\n",
        "class DoubleConv(nn.Module):\n",
        "    def __init__(self, in_channels, out_channels):\n",
        "        super(DoubleConv, self).__init__()\n",
        "        self.conv = nn.Sequential(\n",
        "            nn.Conv2d(in_channels, out_channels, kernel_size=3, padding=1),\n",
        "            nn.BatchNorm2d(out_channels),\n",
        "            nn.ReLU(inplace=True),\n",
        "            nn.Conv2d(out_channels, out_channels, kernel_size=3, padding=1),\n",
        "            nn.BatchNorm2d(out_channels),\n",
        "            nn.ReLU(inplace=True)\n",
        "        )\n",
        "\n",
        "    def forward(self, x):\n",
        "        return self.conv(x)\n",
        "\n",
        "class ChannelAdder(nn.Module):\n",
        "    def __init__(self):\n",
        "        super(ChannelAdder, self).__init__()\n",
        "        # Define Sobel and Laplacian kernels as tensors\n",
        "        self.sobel_x = torch.tensor([[-1., 0., 1.],\n",
        "                                     [-2., 0., 2.],\n",
        "                                     [-1., 0., 1.]], dtype=torch.float32,device=DEVICE).unsqueeze(0).unsqueeze(0)\n",
        "        \n",
        "        self.sobel_y = torch.tensor([[-1., -2., -1.],\n",
        "                                     [ 0.,  0.,  0.],\n",
        "                                     [ 1.,  2.,  1.]], dtype=torch.float32,device=DEVICE).unsqueeze(0).unsqueeze(0)\n",
        "        \n",
        "        self.laplacian_kernel = torch.tensor([[0.,  1., 0.],\n",
        "                                              [1., -4., 1.],\n",
        "                                              [0.,  1., 0.]], dtype=torch.float32,device=DEVICE).unsqueeze(0).unsqueeze(0)\n",
        "\n",
        "    def forward(self, x):\n",
        "        epsilon = 1e-8\n",
        "\n",
        "        # Extract the first, second, and third channels\n",
        "        first_channel = x[:, 0, :, :].unsqueeze(1)  # e1 (first channel)\n",
        "        second_channel = x[:, 1, :, :].unsqueeze(1)  # e2 (second channel)\n",
        "        third_channel = x[:, 2, :, :].unsqueeze(1)  # error (third channel)\n",
        "\n",
        "        # 1. Compute the first new channel: sqrt(first_channel^2 + second_channel^2)\n",
        "        new_channel1 = torch.sqrt(first_channel**2 + second_channel**2)\n",
        "\n",
        "        # 2. Compute the second new channel: 1/2 * arctan(channel2 / channel1)\n",
        "        new_channel2 = 0.5 * torch.atan(second_channel / (first_channel + epsilon))\n",
        "\n",
        "        # 3. Compute Sobel gradients and Laplacians for e1 (first_channel)\n",
        "        grad_e1_x = F.conv2d(first_channel, self.sobel_x, padding=1)\n",
        "        grad_e1_y = F.conv2d(first_channel, self.sobel_y, padding=1)\n",
        "        grad_e1_magnitude = torch.sqrt(grad_e1_x**2 + grad_e1_y**2)\n",
        "        #laplacian_e1 = F.conv2d(first_channel, self.laplacian_kernel, padding=1)\n",
        "\n",
        "        # 4. Compute Sobel gradients and Laplacians for e2 (second_channel)\n",
        "        grad_e2_x = F.conv2d(second_channel, self.sobel_x, padding=1)\n",
        "        grad_e2_y = F.conv2d(second_channel, self.sobel_y, padding=1)\n",
        "        grad_e2_magnitude = torch.sqrt(grad_e2_x**2 + grad_e2_y**2)\n",
        "        #laplacian_e2 = F.conv2d(second_channel, self.laplacian_kernel, padding=1)\n",
        "\n",
        "        # 5. Compute weighted ellipticity channels (e1_weighted, e2_weighted)\n",
        "        e1_weighted = first_channel / (third_channel + epsilon)\n",
        "        e2_weighted = second_channel / (third_channel + epsilon)\n",
        "\n",
        "        # Concatenate all the channels (original and new) into the output tensor\n",
        "        output = torch.cat([\n",
        "            x,                 # Original 3 channels\n",
        "            new_channel1,      # sqrt(channel1^2 + channel2^2)\n",
        "            new_channel2,      # 1/2 * arctan(channel2 / channel1)\n",
        "            #grad_e1_x,         # Gradient X of channel1\n",
        "            #grad_e1_y,         # Gradient Y of channel1\n",
        "            #grad_e2_x,         # Gradient X of channel2\n",
        "            #grad_e2_y,         # Gradient Y of channel2\n",
        "            grad_e1_magnitude, # Gradient magnitude of channel1\n",
        "            grad_e2_magnitude, # Gradient magnitude of channel2\n",
        "            #laplacian_e1,      # Laplacian of channel1\n",
        "            #laplacian_e2,      # Laplacian of channel2\n",
        "            e1_weighted,       # e1_weighted\n",
        "            e2_weighted        # e2_weighted\n",
        "        ], dim=1)\n",
        "\n",
        "        return output\n",
        "\n",
        "# Define the U-Net model\n",
        "class UNet(nn.Module):\n",
        "    def __init__(self, in_channels, out_channels):\n",
        "        super(UNet, self).__init__()\n",
        "        # Channel Adder\n",
        "        self.channel_adder = ChannelAdder()\n",
        "        # Encoder\n",
        "        self.encoder1 = DoubleConv(in_channels+6, 64)\n",
        "        self.encoder2 = DoubleConv(64, 128)\n",
        "        self.encoder3 = DoubleConv(128, 256)\n",
        "        self.encoder4 = DoubleConv(256, 512)\n",
        "\n",
        "        # Bottleneck\n",
        "        self.bottleneck = DoubleConv(512, 1024)\n",
        "\n",
        "        # Decoder\n",
        "        self.upconv4 = nn.ConvTranspose2d(1024, 512, kernel_size=2, stride=2)\n",
        "        self.decoder4 = DoubleConv(1024, 512)\n",
        "        self.upconv3 = nn.ConvTranspose2d(512, 256, kernel_size=2, stride=2)\n",
        "        self.decoder3 = DoubleConv(512, 256)\n",
        "        self.upconv2 = nn.ConvTranspose2d(256, 128, kernel_size=2, stride=2)\n",
        "        self.decoder2 = DoubleConv(256, 128)\n",
        "        self.upconv1 = nn.ConvTranspose2d(128, 64, kernel_size=2, stride=2)\n",
        "        self.decoder1 = DoubleConv(128, 64)\n",
        "\n",
        "        # Final output layer\n",
        "        self.final_conv = nn.Conv2d(64, out_channels, kernel_size=1)\n",
        "\n",
        "    def forward(self, x):\n",
        "        # Agregar features\n",
        "        x = self.channel_adder(x)\n",
        "        \n",
        "        # Encoder\n",
        "        e1 = self.encoder1(x)\n",
        "        e2 = self.encoder2(F.max_pool2d(e1, 2))\n",
        "        e3 = self.encoder3(F.max_pool2d(e2, 2))\n",
        "        e4 = self.encoder4(F.max_pool2d(e3, 2))\n",
        "\n",
        "        # Bottleneck\n",
        "        b = self.bottleneck(F.max_pool2d(e4, 2))\n",
        "\n",
        "        # Decoder with skip connections\n",
        "        d4 = self.upconv4(b)\n",
        "        d4 = torch.cat((e4, d4), dim=1)\n",
        "        d4 = self.decoder4(d4)\n",
        "\n",
        "        d3 = self.upconv3(d4)\n",
        "        d3 = torch.cat((e3, d3), dim=1)\n",
        "        d3 = self.decoder3(d3)\n",
        "\n",
        "        d2 = self.upconv2(d3)\n",
        "        d2 = torch.cat((e2, d2), dim=1)\n",
        "        d2 = self.decoder2(d2)\n",
        "\n",
        "        d1 = self.upconv1(d2)\n",
        "        d1 = torch.cat((e1, d1), dim=1)\n",
        "        d1 = self.decoder1(d1)\n",
        "\n",
        "        # Final output\n",
        "        out = self.final_conv(d1)\n",
        "        return out"
      ]
    },
    {
      "cell_type": "markdown",
      "metadata": {},
      "source": [
        "## Creación particion inicial"
      ]
    },
    {
      "cell_type": "code",
      "execution_count": 5,
      "metadata": {},
      "outputs": [],
      "source": [
        "#Creacion de particiones train y valid\n",
        "init_partition = load_partition(\"partition_1.json\")\n",
        "train_partition, val_partition = train_test_split(init_partition, test_size=0.2, random_state=42)\n",
        "save_partition(\"partition_1_train.json\",\"partitions\",train_partition)\n",
        "save_partition(\"partition_1_val.json\",\"partitions\",val_partition)"
      ]
    },
    {
      "cell_type": "markdown",
      "metadata": {},
      "source": [
        "## Carga modelo"
      ]
    },
    {
      "cell_type": "code",
      "execution_count": 8,
      "metadata": {},
      "outputs": [],
      "source": [
        "#Define model\n",
        "model = UNet( 3, 1)\n",
        "model = model.to(DEVICE)\n",
        "# Define Loss\n",
        "criterion = torch.nn.L1Loss()"
      ]
    },
    {
      "cell_type": "code",
      "execution_count": 14,
      "metadata": {
        "id": "rYf70y6AJmLe"
      },
      "outputs": [],
      "source": [
        "current_partition = 1"
      ]
    },
    {
      "cell_type": "code",
      "execution_count": 8,
      "metadata": {},
      "outputs": [
        {
          "name": "stdout",
          "output_type": "stream",
          "text": [
            "Epoch [1/50]\n"
          ]
        },
        {
          "name": "stderr",
          "output_type": "stream",
          "text": [
            "Train Epoch 1: 100%|██████████| 307/307 [02:09<00:00,  2.38it/s, WMAPE=5.39, DICE=0.24, DPEAKS=135, Loss=0.021]\n",
            "Validate Epoch 1: 100%|██████████| 77/77 [00:11<00:00,  6.53it/s, WMAPE=4.17, DICE=0.131, DPEAKS=94.6, Loss=0.013]\n"
          ]
        },
        {
          "name": "stdout",
          "output_type": "stream",
          "text": [
            "Saving best model\n",
            "Epoch [2/50]\n"
          ]
        },
        {
          "name": "stderr",
          "output_type": "stream",
          "text": [
            "Train Epoch 2: 100%|██████████| 307/307 [02:08<00:00,  2.40it/s, WMAPE=2.85, DICE=0.11, DPEAKS=86.9, Loss=0.00949]\n",
            "Validate Epoch 2: 100%|██████████| 77/77 [00:11<00:00,  6.55it/s, WMAPE=2.37, DICE=0.103, DPEAKS=87.9, Loss=0.00815]\n"
          ]
        },
        {
          "name": "stdout",
          "output_type": "stream",
          "text": [
            "Saving best model\n",
            "Epoch [3/50]\n"
          ]
        },
        {
          "name": "stderr",
          "output_type": "stream",
          "text": [
            "Train Epoch 3: 100%|██████████| 307/307 [02:09<00:00,  2.38it/s, WMAPE=2.5, DICE=0.0905, DPEAKS=75.2, Loss=0.00817]\n",
            "Validate Epoch 3: 100%|██████████| 77/77 [00:11<00:00,  6.56it/s, WMAPE=2.61, DICE=0.133, DPEAKS=83.4, Loss=0.0111]\n"
          ]
        },
        {
          "name": "stdout",
          "output_type": "stream",
          "text": [
            "Epoch [4/50]\n"
          ]
        },
        {
          "name": "stderr",
          "output_type": "stream",
          "text": [
            "Train Epoch 4: 100%|██████████| 307/307 [02:08<00:00,  2.39it/s, WMAPE=2.37, DICE=0.0851, DPEAKS=73, Loss=0.00791]\n",
            "Validate Epoch 4: 100%|██████████| 77/77 [00:11<00:00,  6.58it/s, WMAPE=1.82, DICE=0.0741, DPEAKS=61.6, Loss=0.00673]\n"
          ]
        },
        {
          "name": "stdout",
          "output_type": "stream",
          "text": [
            "Saving best model\n",
            "Epoch [5/50]\n"
          ]
        },
        {
          "name": "stderr",
          "output_type": "stream",
          "text": [
            "Train Epoch 5: 100%|██████████| 307/307 [02:08<00:00,  2.38it/s, WMAPE=2.24, DICE=0.0724, DPEAKS=61.4, Loss=0.00725]\n",
            "Validate Epoch 5: 100%|██████████| 77/77 [00:11<00:00,  6.60it/s, WMAPE=2.72, DICE=0.0708, DPEAKS=65.7, Loss=0.00828]\n"
          ]
        },
        {
          "name": "stdout",
          "output_type": "stream",
          "text": [
            "Epoch [6/50]\n"
          ]
        },
        {
          "name": "stderr",
          "output_type": "stream",
          "text": [
            "Train Epoch 6: 100%|██████████| 307/307 [02:09<00:00,  2.38it/s, WMAPE=2.28, DICE=0.0777, DPEAKS=65.6, Loss=0.00746]\n",
            "Validate Epoch 6: 100%|██████████| 77/77 [00:11<00:00,  6.57it/s, WMAPE=5.81, DICE=0.215, DPEAKS=144, Loss=0.022]\n"
          ]
        },
        {
          "name": "stdout",
          "output_type": "stream",
          "text": [
            "Epoch [7/50]\n"
          ]
        },
        {
          "name": "stderr",
          "output_type": "stream",
          "text": [
            "Train Epoch 7: 100%|██████████| 307/307 [02:07<00:00,  2.40it/s, WMAPE=2.34, DICE=0.0781, DPEAKS=67.3, Loss=0.0075]\n",
            "Validate Epoch 7: 100%|██████████| 77/77 [00:10<00:00,  7.06it/s, WMAPE=3.11, DICE=0.074, DPEAKS=61.3, Loss=0.00956]\n"
          ]
        },
        {
          "name": "stdout",
          "output_type": "stream",
          "text": [
            "early stopping: 3 epochs without improvement\n",
            "Training complete.\n"
          ]
        }
      ],
      "source": [
        "train_loader, val_loader = create_train_valid_loaders(\n",
        "    f\"partition_{current_partition}_train.json\",\n",
        "    f\"partition_{current_partition}_val.json\",\n",
        "    \"partitions\",\n",
        "    batch_size=16,\n",
        ")\n",
        "best_model_path = os.path.join(\n",
        "    \"models\", f\"best_model_partition_{current_partition}.pth\"\n",
        ")\n",
        "last_checkpoint_path = os.path.join(\n",
        "    \"models\", f\"last_checkpoint_partition_{current_partition}.pth\"\n",
        ")\n",
        "optimizer = optim.Adam(model.parameters())\n",
        "train_model(\n",
        "    model,\n",
        "    train_loader,\n",
        "    val_loader,\n",
        "    best_model_path,\n",
        "    last_checkpoint_path,\n",
        "    criterion,\n",
        "    optimizer,\n",
        "    num_epochs=50,\n",
        "    device=DEVICE,\n",
        "    early_stopping_patience=3,\n",
        ")"
      ]
    },
    {
      "cell_type": "code",
      "execution_count": 9,
      "metadata": {},
      "outputs": [
        {
          "name": "stderr",
          "output_type": "stream",
          "text": [
            "Validate Epoch test: 100%|██████████| 1941/1941 [04:42<00:00,  6.87it/s, WMAPE=1.91, DICE=0.0763, DPEAKS=59.1, Loss=0.00697]\n"
          ]
        }
      ],
      "source": [
        "#Cargar mejor modelo de la particion actual\n",
        "model.load_state_dict(torch.load(best_model_path,weights_only=True))\n",
        "test_model(model,criterion,device=DEVICE,batch_size=16)"
      ]
    },
    {
      "cell_type": "code",
      "execution_count": 10,
      "metadata": {},
      "outputs": [
        {
          "name": "stderr",
          "output_type": "stream",
          "text": [
            "Validate Epoch partition_2_train: 100%|██████████| 307/307 [00:47<00:00,  6.51it/s, WMAPE=1.92, DICE=0.0762, DPEAKS=58.4, Loss=0.00694]\n",
            "Validate Epoch partition_2_val: 100%|██████████| 77/77 [00:11<00:00,  6.71it/s, WMAPE=1.97, DICE=0.0756, DPEAKS=58.4, Loss=0.00698]\n"
          ]
        }
      ],
      "source": [
        "create_next_partitions(current_partition,model,criterion,device=DEVICE)"
      ]
    },
    {
      "cell_type": "code",
      "execution_count": 15,
      "metadata": {},
      "outputs": [],
      "source": [
        "best_model_path = os.path.join(\n",
        "    \"models\", f\"best_model_partition_{current_partition}.pth\"\n",
        ")\n",
        "model.load_state_dict(torch.load(best_model_path,weights_only=True))\n",
        "current_partition=2"
      ]
    },
    {
      "cell_type": "code",
      "execution_count": 16,
      "metadata": {},
      "outputs": [
        {
          "name": "stdout",
          "output_type": "stream",
          "text": [
            "Epoch [1/50]\n"
          ]
        },
        {
          "name": "stderr",
          "output_type": "stream",
          "text": [
            "Train Epoch 1: 100%|██████████| 307/307 [01:44<00:00,  2.93it/s, WMAPE=2.68, DICE=0.0871, DPEAKS=80.3, Loss=0.00849]\n",
            "Validate Epoch 1: 100%|██████████| 77/77 [00:10<00:00,  7.16it/s, WMAPE=18.2, DICE=0.365, DPEAKS=183, Loss=0.0738]\n"
          ]
        },
        {
          "name": "stdout",
          "output_type": "stream",
          "text": [
            "Saving best model\n",
            "Epoch [2/50]\n"
          ]
        },
        {
          "name": "stderr",
          "output_type": "stream",
          "text": [
            "Train Epoch 2: 100%|██████████| 307/307 [01:40<00:00,  3.05it/s, WMAPE=2.42, DICE=0.0726, DPEAKS=68.5, Loss=0.00739]\n",
            "Validate Epoch 2: 100%|██████████| 77/77 [00:10<00:00,  7.45it/s, WMAPE=3.16, DICE=0.0997, DPEAKS=87, Loss=0.00904]\n"
          ]
        },
        {
          "name": "stdout",
          "output_type": "stream",
          "text": [
            "Saving best model\n",
            "Epoch [3/50]\n"
          ]
        },
        {
          "name": "stderr",
          "output_type": "stream",
          "text": [
            "Train Epoch 3: 100%|██████████| 307/307 [01:41<00:00,  3.02it/s, WMAPE=2.32, DICE=0.066, DPEAKS=62.8, Loss=0.00712]\n",
            "Validate Epoch 3: 100%|██████████| 77/77 [00:10<00:00,  7.55it/s, WMAPE=3.74, DICE=0.0725, DPEAKS=73.7, Loss=0.0112]\n"
          ]
        },
        {
          "name": "stdout",
          "output_type": "stream",
          "text": [
            "Epoch [4/50]\n"
          ]
        },
        {
          "name": "stderr",
          "output_type": "stream",
          "text": [
            "Train Epoch 4: 100%|██████████| 307/307 [01:41<00:00,  3.04it/s, WMAPE=2.18, DICE=0.0626, DPEAKS=60, Loss=0.00682]\n",
            "Validate Epoch 4: 100%|██████████| 77/77 [00:10<00:00,  7.63it/s, WMAPE=3.65, DICE=0.0875, DPEAKS=78.7, Loss=0.0102]\n"
          ]
        },
        {
          "name": "stdout",
          "output_type": "stream",
          "text": [
            "Epoch [5/50]\n"
          ]
        },
        {
          "name": "stderr",
          "output_type": "stream",
          "text": [
            "Train Epoch 5: 100%|██████████| 307/307 [01:40<00:00,  3.05it/s, WMAPE=2.16, DICE=0.0593, DPEAKS=58.1, Loss=0.00659]\n",
            "Validate Epoch 5: 100%|██████████| 77/77 [00:10<00:00,  7.61it/s, WMAPE=4.84, DICE=0.0787, DPEAKS=76.3, Loss=0.0125]\n"
          ]
        },
        {
          "name": "stdout",
          "output_type": "stream",
          "text": [
            "early stopping: 3 epochs without improvement\n",
            "Training complete.\n"
          ]
        }
      ],
      "source": [
        "train_loader, val_loader = create_train_valid_loaders(\n",
        "    f\"partition_{current_partition}_train.json\",\n",
        "    f\"partition_{current_partition}_val.json\",\n",
        "    \"partitions\",\n",
        "    batch_size=16,\n",
        ")\n",
        "best_model_path = os.path.join(\n",
        "    \"models\", f\"best_model_partition_{current_partition}.pth\"\n",
        ")\n",
        "last_checkpoint_path = os.path.join(\n",
        "    \"models\", f\"last_checkpoint_partition_{current_partition}.pth\"\n",
        ")\n",
        "optimizer = optim.Adam(model.parameters())\n",
        "train_model(\n",
        "    model,\n",
        "    train_loader,\n",
        "    val_loader,\n",
        "    best_model_path,\n",
        "    last_checkpoint_path,\n",
        "    criterion,\n",
        "    optimizer,\n",
        "    num_epochs=50,\n",
        "    device=DEVICE,\n",
        "    early_stopping_patience=3,\n",
        ")"
      ]
    },
    {
      "cell_type": "code",
      "execution_count": 17,
      "metadata": {},
      "outputs": [
        {
          "name": "stderr",
          "output_type": "stream",
          "text": [
            "Validate Epoch test: 100%|██████████| 1941/1941 [04:37<00:00,  6.99it/s, WMAPE=2.96, DICE=0.101, DPEAKS=79.1, Loss=0.00894]\n",
            "Validate Epoch partition_3_train: 100%|██████████| 307/307 [00:43<00:00,  7.12it/s, WMAPE=2.95, DICE=0.101, DPEAKS=78.3, Loss=0.00893]\n",
            "Validate Epoch partition_3_val: 100%|██████████| 77/77 [00:11<00:00,  6.84it/s, WMAPE=2.93, DICE=0.0991, DPEAKS=74.3, Loss=0.0087]\n"
          ]
        }
      ],
      "source": [
        "#Cargar mejor modelo de la particion actual\n",
        "model.load_state_dict(torch.load(best_model_path,weights_only=True))\n",
        "test_model(model,criterion,device=DEVICE,batch_size=16)\n",
        "create_next_partitions(current_partition,model,criterion,device=DEVICE)"
      ]
    },
    {
      "cell_type": "code",
      "execution_count": 18,
      "metadata": {},
      "outputs": [],
      "source": [
        "current_partition=3\n",
        "best_model_path = os.path.join(\n",
        "    \"models\", f\"best_model_partition_{current_partition}.pth\"\n",
        ")\n",
        "last_checkpoint_path = os.path.join(\n",
        "    \"models\", f\"last_checkpoint_partition_{current_partition}.pth\"\n",
        ")"
      ]
    },
    {
      "cell_type": "code",
      "execution_count": 19,
      "metadata": {},
      "outputs": [
        {
          "name": "stdout",
          "output_type": "stream",
          "text": [
            "Epoch [1/50]\n"
          ]
        },
        {
          "name": "stderr",
          "output_type": "stream",
          "text": [
            "Train Epoch 1: 100%|██████████| 307/307 [01:40<00:00,  3.05it/s, WMAPE=2.57, DICE=0.0761, DPEAKS=71.2, Loss=0.00774]\n",
            "Validate Epoch 1: 100%|██████████| 77/77 [00:09<00:00,  8.18it/s, WMAPE=2.41, DICE=0.0843, DPEAKS=82.4, Loss=0.00723]\n"
          ]
        },
        {
          "name": "stdout",
          "output_type": "stream",
          "text": [
            "Saving best model\n",
            "Epoch [2/50]\n"
          ]
        },
        {
          "name": "stderr",
          "output_type": "stream",
          "text": [
            "Train Epoch 2: 100%|██████████| 307/307 [01:38<00:00,  3.12it/s, WMAPE=2.45, DICE=0.0637, DPEAKS=60.8, Loss=0.00704]\n",
            "Validate Epoch 2: 100%|██████████| 77/77 [00:09<00:00,  8.11it/s, WMAPE=2.17, DICE=0.0709, DPEAKS=68.3, Loss=0.00632]\n"
          ]
        },
        {
          "name": "stdout",
          "output_type": "stream",
          "text": [
            "Saving best model\n",
            "Epoch [3/50]\n"
          ]
        },
        {
          "name": "stderr",
          "output_type": "stream",
          "text": [
            "Train Epoch 3: 100%|██████████| 307/307 [01:40<00:00,  3.07it/s, WMAPE=2.28, DICE=0.0573, DPEAKS=54.7, Loss=0.00649]\n",
            "Validate Epoch 3: 100%|██████████| 77/77 [00:09<00:00,  7.97it/s, WMAPE=2.8, DICE=0.0613, DPEAKS=64.4, Loss=0.00786]\n"
          ]
        },
        {
          "name": "stdout",
          "output_type": "stream",
          "text": [
            "Epoch [4/50]\n"
          ]
        },
        {
          "name": "stderr",
          "output_type": "stream",
          "text": [
            "Train Epoch 4: 100%|██████████| 307/307 [01:42<00:00,  3.00it/s, WMAPE=2.15, DICE=0.0548, DPEAKS=50.2, Loss=0.00623]\n",
            "Validate Epoch 4: 100%|██████████| 77/77 [00:09<00:00,  7.73it/s, WMAPE=3.06, DICE=0.118, DPEAKS=97.3, Loss=0.00865]\n"
          ]
        },
        {
          "name": "stdout",
          "output_type": "stream",
          "text": [
            "Epoch [5/50]\n"
          ]
        },
        {
          "name": "stderr",
          "output_type": "stream",
          "text": [
            "Train Epoch 5: 100%|██████████| 307/307 [01:46<00:00,  2.88it/s, WMAPE=2.11, DICE=0.0538, DPEAKS=51.9, Loss=0.00621]\n",
            "Validate Epoch 5: 100%|██████████| 77/77 [00:09<00:00,  7.72it/s, WMAPE=15.7, DICE=0.233, DPEAKS=130, Loss=0.0429]\n"
          ]
        },
        {
          "name": "stdout",
          "output_type": "stream",
          "text": [
            "early stopping: 3 epochs without improvement\n",
            "Training complete.\n"
          ]
        }
      ],
      "source": [
        "train_loader, val_loader = create_train_valid_loaders(\n",
        "    f\"partition_{current_partition}_train.json\",\n",
        "    f\"partition_{current_partition}_val.json\",\n",
        "    \"partitions\",\n",
        "    batch_size=16,\n",
        ")\n",
        "optimizer = optim.Adam(model.parameters())\n",
        "train_model(\n",
        "    model,\n",
        "    train_loader,\n",
        "    val_loader,\n",
        "    best_model_path,\n",
        "    last_checkpoint_path,\n",
        "    criterion,\n",
        "    optimizer,\n",
        "    num_epochs=50,\n",
        "    device=DEVICE,\n",
        "    early_stopping_patience=3,\n",
        ")"
      ]
    },
    {
      "cell_type": "code",
      "execution_count": 20,
      "metadata": {},
      "outputs": [
        {
          "name": "stderr",
          "output_type": "stream",
          "text": [
            "Validate Epoch test: 100%|██████████| 1941/1941 [04:01<00:00,  8.03it/s, WMAPE=1.97, DICE=0.0697, DPEAKS=56.6, Loss=0.00606]\n",
            "Validate Epoch partition_4_train: 100%|██████████| 307/307 [00:42<00:00,  7.22it/s, WMAPE=1.99, DICE=0.07, DPEAKS=57.4, Loss=0.00607]\n",
            "Validate Epoch partition_4_val: 100%|██████████| 77/77 [00:10<00:00,  7.34it/s, WMAPE=1.96, DICE=0.0701, DPEAKS=58, Loss=0.00606]\n"
          ]
        }
      ],
      "source": [
        "#Cargar mejor modelo de la particion actual\n",
        "model.load_state_dict(torch.load(best_model_path,weights_only=True))\n",
        "test_model(model,criterion,device=DEVICE,batch_size=16)\n",
        "create_next_partitions(current_partition,model,criterion,device=DEVICE)"
      ]
    },
    {
      "cell_type": "code",
      "execution_count": 21,
      "metadata": {},
      "outputs": [],
      "source": [
        "current_partition=4"
      ]
    },
    {
      "cell_type": "code",
      "execution_count": 22,
      "metadata": {},
      "outputs": [
        {
          "name": "stdout",
          "output_type": "stream",
          "text": [
            "Epoch [1/50]\n"
          ]
        },
        {
          "name": "stderr",
          "output_type": "stream",
          "text": [
            "Train Epoch 1: 100%|██████████| 307/307 [01:42<00:00,  3.01it/s, WMAPE=2.09, DICE=0.0507, DPEAKS=51.9, Loss=0.00588]\n",
            "Validate Epoch 1: 100%|██████████| 77/77 [00:10<00:00,  7.70it/s, WMAPE=1.97, DICE=0.0474, DPEAKS=47.5, Loss=0.00528]\n"
          ]
        },
        {
          "name": "stdout",
          "output_type": "stream",
          "text": [
            "Saving best model\n",
            "Epoch [2/50]\n"
          ]
        },
        {
          "name": "stderr",
          "output_type": "stream",
          "text": [
            "Train Epoch 2: 100%|██████████| 307/307 [01:39<00:00,  3.08it/s, WMAPE=2.09, DICE=0.0486, DPEAKS=47, Loss=0.00573]\n",
            "Validate Epoch 2: 100%|██████████| 77/77 [00:09<00:00,  8.07it/s, WMAPE=1.91, DICE=0.0468, DPEAKS=46, Loss=0.00514]\n"
          ]
        },
        {
          "name": "stdout",
          "output_type": "stream",
          "text": [
            "Saving best model\n",
            "Epoch [3/50]\n"
          ]
        },
        {
          "name": "stderr",
          "output_type": "stream",
          "text": [
            "Train Epoch 3: 100%|██████████| 307/307 [01:40<00:00,  3.06it/s, WMAPE=2.07, DICE=0.0479, DPEAKS=46.1, Loss=0.00572]\n",
            "Validate Epoch 3: 100%|██████████| 77/77 [00:09<00:00,  8.12it/s, WMAPE=1.93, DICE=0.0468, DPEAKS=45, Loss=0.00514]\n"
          ]
        },
        {
          "name": "stdout",
          "output_type": "stream",
          "text": [
            "Epoch [4/50]\n"
          ]
        },
        {
          "name": "stderr",
          "output_type": "stream",
          "text": [
            "Train Epoch 4: 100%|██████████| 307/307 [01:43<00:00,  2.97it/s, WMAPE=2.07, DICE=0.0477, DPEAKS=44.8, Loss=0.00568]\n",
            "Validate Epoch 4: 100%|██████████| 77/77 [00:09<00:00,  7.72it/s, WMAPE=2.33, DICE=0.0459, DPEAKS=40.8, Loss=0.00627]\n"
          ]
        },
        {
          "name": "stdout",
          "output_type": "stream",
          "text": [
            "Epoch [5/50]\n"
          ]
        },
        {
          "name": "stderr",
          "output_type": "stream",
          "text": [
            "Train Epoch 5: 100%|██████████| 307/307 [01:41<00:00,  3.03it/s, WMAPE=2.04, DICE=0.0473, DPEAKS=44.5, Loss=0.00559]\n",
            "Validate Epoch 5: 100%|██████████| 77/77 [00:10<00:00,  7.70it/s, WMAPE=1.84, DICE=0.0455, DPEAKS=40.9, Loss=0.00503]\n"
          ]
        },
        {
          "name": "stdout",
          "output_type": "stream",
          "text": [
            "Saving best model\n",
            "Epoch [6/50]\n"
          ]
        },
        {
          "name": "stderr",
          "output_type": "stream",
          "text": [
            "Train Epoch 6: 100%|██████████| 307/307 [01:41<00:00,  3.02it/s, WMAPE=2.01, DICE=0.0471, DPEAKS=43.6, Loss=0.00552]\n",
            "Validate Epoch 6: 100%|██████████| 77/77 [00:10<00:00,  7.70it/s, WMAPE=1.86, DICE=0.0455, DPEAKS=41.7, Loss=0.00504]\n"
          ]
        },
        {
          "name": "stdout",
          "output_type": "stream",
          "text": [
            "Epoch [7/50]\n"
          ]
        },
        {
          "name": "stderr",
          "output_type": "stream",
          "text": [
            "Train Epoch 7: 100%|██████████| 307/307 [01:41<00:00,  3.02it/s, WMAPE=2.04, DICE=0.0471, DPEAKS=42.6, Loss=0.00566]\n",
            "Validate Epoch 7: 100%|██████████| 77/77 [00:09<00:00,  8.11it/s, WMAPE=1.85, DICE=0.045, DPEAKS=41.3, Loss=0.00504]\n"
          ]
        },
        {
          "name": "stdout",
          "output_type": "stream",
          "text": [
            "Epoch [8/50]\n"
          ]
        },
        {
          "name": "stderr",
          "output_type": "stream",
          "text": [
            "Train Epoch 8: 100%|██████████| 307/307 [01:38<00:00,  3.12it/s, WMAPE=2.02, DICE=0.0468, DPEAKS=42.9, Loss=0.00558]\n",
            "Validate Epoch 8: 100%|██████████| 77/77 [00:09<00:00,  8.12it/s, WMAPE=1.82, DICE=0.045, DPEAKS=40.2, Loss=0.00499]\n"
          ]
        },
        {
          "name": "stdout",
          "output_type": "stream",
          "text": [
            "Saving best model\n",
            "Epoch [9/50]\n"
          ]
        },
        {
          "name": "stderr",
          "output_type": "stream",
          "text": [
            "Train Epoch 9: 100%|██████████| 307/307 [01:38<00:00,  3.12it/s, WMAPE=2.02, DICE=0.0467, DPEAKS=43.2, Loss=0.0055]\n",
            "Validate Epoch 9: 100%|██████████| 77/77 [00:09<00:00,  8.08it/s, WMAPE=1.84, DICE=0.0448, DPEAKS=39.4, Loss=0.00505]\n"
          ]
        },
        {
          "name": "stdout",
          "output_type": "stream",
          "text": [
            "Epoch [10/50]\n"
          ]
        },
        {
          "name": "stderr",
          "output_type": "stream",
          "text": [
            "Train Epoch 10: 100%|██████████| 307/307 [01:38<00:00,  3.12it/s, WMAPE=2, DICE=0.0468, DPEAKS=43.5, Loss=0.00551]\n",
            "Validate Epoch 10: 100%|██████████| 77/77 [00:09<00:00,  8.07it/s, WMAPE=1.89, DICE=0.0455, DPEAKS=41.8, Loss=0.00506]\n"
          ]
        },
        {
          "name": "stdout",
          "output_type": "stream",
          "text": [
            "Epoch [11/50]\n"
          ]
        },
        {
          "name": "stderr",
          "output_type": "stream",
          "text": [
            "Train Epoch 11: 100%|██████████| 307/307 [01:38<00:00,  3.11it/s, WMAPE=1.99, DICE=0.0464, DPEAKS=41.9, Loss=0.00549]\n",
            "Validate Epoch 11: 100%|██████████| 77/77 [00:09<00:00,  8.05it/s, WMAPE=1.84, DICE=0.0445, DPEAKS=40, Loss=0.00499]\n"
          ]
        },
        {
          "name": "stdout",
          "output_type": "stream",
          "text": [
            "Saving best model\n",
            "Epoch [12/50]\n"
          ]
        },
        {
          "name": "stderr",
          "output_type": "stream",
          "text": [
            "Train Epoch 12: 100%|██████████| 307/307 [01:38<00:00,  3.11it/s, WMAPE=2.04, DICE=0.0463, DPEAKS=40.7, Loss=0.00559]\n",
            "Validate Epoch 12: 100%|██████████| 77/77 [00:09<00:00,  8.14it/s, WMAPE=1.81, DICE=0.0442, DPEAKS=39, Loss=0.00497]\n"
          ]
        },
        {
          "name": "stdout",
          "output_type": "stream",
          "text": [
            "Saving best model\n",
            "Epoch [13/50]\n"
          ]
        },
        {
          "name": "stderr",
          "output_type": "stream",
          "text": [
            "Train Epoch 13: 100%|██████████| 307/307 [01:39<00:00,  3.07it/s, WMAPE=2.03, DICE=0.0461, DPEAKS=42.1, Loss=0.00552]\n",
            "Validate Epoch 13: 100%|██████████| 77/77 [00:10<00:00,  7.60it/s, WMAPE=1.86, DICE=0.0444, DPEAKS=38.7, Loss=0.00504]\n"
          ]
        },
        {
          "name": "stdout",
          "output_type": "stream",
          "text": [
            "Epoch [14/50]\n"
          ]
        },
        {
          "name": "stderr",
          "output_type": "stream",
          "text": [
            "Train Epoch 14: 100%|██████████| 307/307 [01:42<00:00,  2.98it/s, WMAPE=1.99, DICE=0.0458, DPEAKS=40.9, Loss=0.00544]\n",
            "Validate Epoch 14: 100%|██████████| 77/77 [00:10<00:00,  7.46it/s, WMAPE=1.82, DICE=0.0441, DPEAKS=37.2, Loss=0.00493]\n"
          ]
        },
        {
          "name": "stdout",
          "output_type": "stream",
          "text": [
            "Saving best model\n",
            "Epoch [15/50]\n"
          ]
        },
        {
          "name": "stderr",
          "output_type": "stream",
          "text": [
            "Train Epoch 15: 100%|██████████| 307/307 [01:39<00:00,  3.08it/s, WMAPE=2.03, DICE=0.046, DPEAKS=41, Loss=0.00553]\n",
            "Validate Epoch 15: 100%|██████████| 77/77 [00:09<00:00,  7.89it/s, WMAPE=1.86, DICE=0.0442, DPEAKS=39.1, Loss=0.00507]\n"
          ]
        },
        {
          "name": "stdout",
          "output_type": "stream",
          "text": [
            "Epoch [16/50]\n"
          ]
        },
        {
          "name": "stderr",
          "output_type": "stream",
          "text": [
            "Train Epoch 16: 100%|██████████| 307/307 [01:43<00:00,  2.97it/s, WMAPE=2.01, DICE=0.0457, DPEAKS=40.8, Loss=0.00553]\n",
            "Validate Epoch 16: 100%|██████████| 77/77 [00:09<00:00,  8.04it/s, WMAPE=1.84, DICE=0.0444, DPEAKS=37.6, Loss=0.00502]\n"
          ]
        },
        {
          "name": "stdout",
          "output_type": "stream",
          "text": [
            "Epoch [17/50]\n"
          ]
        },
        {
          "name": "stderr",
          "output_type": "stream",
          "text": [
            "Train Epoch 17: 100%|██████████| 307/307 [01:44<00:00,  2.93it/s, WMAPE=1.98, DICE=0.0458, DPEAKS=40.4, Loss=0.00546]\n",
            "Validate Epoch 17: 100%|██████████| 77/77 [00:09<00:00,  7.77it/s, WMAPE=1.92, DICE=0.0439, DPEAKS=38.2, Loss=0.00525]\n"
          ]
        },
        {
          "name": "stdout",
          "output_type": "stream",
          "text": [
            "early stopping: 3 epochs without improvement\n",
            "Training complete.\n"
          ]
        }
      ],
      "source": [
        "train_loader, val_loader = create_train_valid_loaders(\n",
        "    f\"partition_{current_partition}_train.json\",\n",
        "    f\"partition_{current_partition}_val.json\",\n",
        "    \"partitions\",\n",
        "    batch_size=16,\n",
        ")\n",
        "best_model_path = os.path.join(\n",
        "    \"models\", f\"best_model_partition_{current_partition}.pth\"\n",
        ")\n",
        "last_checkpoint_path = os.path.join(\n",
        "    \"models\", f\"last_checkpoint_partition_{current_partition}.pth\"\n",
        ")\n",
        "optimizer = optim.Adam(model.parameters(), lr=0.00001)\n",
        "train_model(\n",
        "    model,\n",
        "    train_loader,\n",
        "    val_loader,\n",
        "    best_model_path,\n",
        "    last_checkpoint_path,\n",
        "    criterion,\n",
        "    optimizer,\n",
        "    num_epochs=50,\n",
        "    device=DEVICE,\n",
        "    early_stopping_patience=3,\n",
        ")"
      ]
    },
    {
      "cell_type": "code",
      "execution_count": 23,
      "metadata": {},
      "outputs": [
        {
          "name": "stderr",
          "output_type": "stream",
          "text": [
            "Validate Epoch test: 100%|██████████| 1941/1941 [04:19<00:00,  7.47it/s, WMAPE=1.55, DICE=0.0433, DPEAKS=33.5, Loss=0.00459]\n",
            "Validate Epoch partition_5_train: 100%|██████████| 307/307 [00:43<00:00,  7.07it/s, WMAPE=1.55, DICE=0.0433, DPEAKS=33.8, Loss=0.00461]\n",
            "Validate Epoch partition_5_val: 100%|██████████| 77/77 [00:10<00:00,  7.21it/s, WMAPE=1.66, DICE=0.0433, DPEAKS=33.3, Loss=0.0047]\n"
          ]
        }
      ],
      "source": [
        "#Cargar mejor modelo de la particion actual\n",
        "model.load_state_dict(torch.load(best_model_path,weights_only=True))\n",
        "test_model(model,criterion,device=DEVICE,batch_size=16)\n",
        "create_next_partitions(current_partition,model,criterion,device=DEVICE)"
      ]
    }
  ],
  "metadata": {
    "accelerator": "GPU",
    "colab": {
      "gpuType": "T4",
      "provenance": []
    },
    "kernelspec": {
      "display_name": "Python 3",
      "name": "python3"
    },
    "language_info": {
      "codemirror_mode": {
        "name": "ipython",
        "version": 3
      },
      "file_extension": ".py",
      "mimetype": "text/x-python",
      "name": "python",
      "nbconvert_exporter": "python",
      "pygments_lexer": "ipython3",
      "version": "3.12.5"
    }
  },
  "nbformat": 4,
  "nbformat_minor": 0
}
