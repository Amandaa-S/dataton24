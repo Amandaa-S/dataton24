{
  "cells": [
    {
      "cell_type": "markdown",
      "metadata": {},
      "source": [
        "## Carga modulo comun"
      ]
    },
    {
      "cell_type": "code",
      "execution_count": 1,
      "metadata": {},
      "outputs": [],
      "source": [
        "import sys\n",
        "import os\n",
        "sys.path.append(os.path.abspath('../../common'))"
      ]
    },
    {
      "cell_type": "code",
      "execution_count": 2,
      "metadata": {},
      "outputs": [],
      "source": [
        "import torch\n",
        "import torch.nn as nn\n",
        "import torch.nn.functional as F\n",
        "\n",
        "from purrfect.dataset import EPKADataset, load_partition,save_partition, create_train_valid_loaders\n",
        "from torch.utils.data import DataLoader\n",
        "\n",
        "from purrfect.training import train_model,train_validate\n",
        "import torch.optim as optim\n",
        "\n",
        "from purrfect.metrics import MetricAccumulator\n",
        "from purrfect.active_learning import create_new_partition,create_next_partitions, test_model\n",
        "\n",
        "from sklearn.model_selection import train_test_split\n",
        "from purrfect.submission import create_submission"
      ]
    },
    {
      "cell_type": "code",
      "execution_count": 3,
      "metadata": {},
      "outputs": [],
      "source": [
        "DEVICE = torch.device('cuda' if torch.cuda.is_available() else 'cpu')"
      ]
    },
    {
      "cell_type": "markdown",
      "metadata": {},
      "source": [
        "## Definición modelo"
      ]
    },
    {
      "cell_type": "code",
      "execution_count": 4,
      "metadata": {},
      "outputs": [],
      "source": [
        "# Define the double convolution block\n",
        "class DoubleConv(nn.Module):\n",
        "    def __init__(self, in_channels, out_channels):\n",
        "        super(DoubleConv, self).__init__()\n",
        "        self.conv = nn.Sequential(\n",
        "            nn.Conv2d(in_channels, out_channels, kernel_size=3, padding=1),\n",
        "            nn.BatchNorm2d(out_channels),\n",
        "            nn.ReLU(inplace=True),\n",
        "            nn.Conv2d(out_channels, out_channels, kernel_size=3, padding=1),\n",
        "            nn.BatchNorm2d(out_channels),\n",
        "            nn.ReLU(inplace=True)\n",
        "        )\n",
        "\n",
        "    def forward(self, x):\n",
        "        return self.conv(x)\n",
        "\n",
        "class ChannelAdder(nn.Module):\n",
        "    def __init__(self):\n",
        "        super(ChannelAdder, self).__init__()\n",
        "        # Define Sobel and Laplacian kernels as tensors\n",
        "        self.sobel_x = torch.tensor([[-1., 0., 1.],\n",
        "                                     [-2., 0., 2.],\n",
        "                                     [-1., 0., 1.]], dtype=torch.float32,device=DEVICE).unsqueeze(0).unsqueeze(0)\n",
        "        \n",
        "        self.sobel_y = torch.tensor([[-1., -2., -1.],\n",
        "                                     [ 0.,  0.,  0.],\n",
        "                                     [ 1.,  2.,  1.]], dtype=torch.float32,device=DEVICE).unsqueeze(0).unsqueeze(0)\n",
        "        \n",
        "        self.laplacian_kernel = torch.tensor([[0.,  1., 0.],\n",
        "                                              [1., -4., 1.],\n",
        "                                              [0.,  1., 0.]], dtype=torch.float32,device=DEVICE).unsqueeze(0).unsqueeze(0)\n",
        "\n",
        "    def forward(self, x):\n",
        "        epsilon = 1e-8\n",
        "\n",
        "        # Extract the first, second, and third channels\n",
        "        first_channel = x[:, 0, :, :].unsqueeze(1)  # e1 (first channel)\n",
        "        second_channel = x[:, 1, :, :].unsqueeze(1)  # e2 (second channel)\n",
        "        third_channel = x[:, 2, :, :].unsqueeze(1)  # error (third channel)\n",
        "\n",
        "        # 1. Compute the first new channel: sqrt(first_channel^2 + second_channel^2)\n",
        "        new_channel1 = torch.sqrt(first_channel**2 + second_channel**2)\n",
        "\n",
        "        # 2. Compute the second new channel: 1/2 * arctan(channel2 / channel1)\n",
        "        new_channel2 = 0.5 * torch.atan(second_channel / (first_channel + epsilon))\n",
        "\n",
        "        # 3. Compute Sobel gradients and Laplacians for e1 (first_channel)\n",
        "        grad_e1_x = F.conv2d(first_channel, self.sobel_x, padding=1)\n",
        "        grad_e1_y = F.conv2d(first_channel, self.sobel_y, padding=1)\n",
        "        grad_e1_magnitude = torch.sqrt(grad_e1_x**2 + grad_e1_y**2)\n",
        "        #laplacian_e1 = F.conv2d(first_channel, self.laplacian_kernel, padding=1)\n",
        "\n",
        "        # 4. Compute Sobel gradients and Laplacians for e2 (second_channel)\n",
        "        grad_e2_x = F.conv2d(second_channel, self.sobel_x, padding=1)\n",
        "        grad_e2_y = F.conv2d(second_channel, self.sobel_y, padding=1)\n",
        "        grad_e2_magnitude = torch.sqrt(grad_e2_x**2 + grad_e2_y**2)\n",
        "        #laplacian_e2 = F.conv2d(second_channel, self.laplacian_kernel, padding=1)\n",
        "\n",
        "        # 5. Compute weighted ellipticity channels (e1_weighted, e2_weighted)\n",
        "        e1_weighted = first_channel / (third_channel + epsilon)\n",
        "        e2_weighted = second_channel / (third_channel + epsilon)\n",
        "\n",
        "        # Concatenate all the channels (original and new) into the output tensor\n",
        "        output = torch.cat([\n",
        "            x,                 # Original 3 channels\n",
        "            new_channel1,      # sqrt(channel1^2 + channel2^2)\n",
        "            new_channel2,      # 1/2 * arctan(channel2 / channel1)\n",
        "            #grad_e1_x,         # Gradient X of channel1\n",
        "            #grad_e1_y,         # Gradient Y of channel1\n",
        "            #grad_e2_x,         # Gradient X of channel2\n",
        "            #grad_e2_y,         # Gradient Y of channel2\n",
        "            grad_e1_magnitude, # Gradient magnitude of channel1\n",
        "            grad_e2_magnitude, # Gradient magnitude of channel2\n",
        "            #laplacian_e1,      # Laplacian of channel1\n",
        "            #laplacian_e2,      # Laplacian of channel2\n",
        "            e1_weighted,       # e1_weighted\n",
        "            e2_weighted        # e2_weighted\n",
        "        ], dim=1)\n",
        "\n",
        "        return output\n",
        "\n",
        "# Attention Block\n",
        "class AttentionBlock(nn.Module):\n",
        "    def __init__(self, F_g, F_l, F_int):\n",
        "        super(AttentionBlock, self).__init__()\n",
        "        \n",
        "        # W_g: for gating signal, i.e., feature map from decoder\n",
        "        self.W_g = nn.Sequential(\n",
        "            nn.Conv2d(F_g, F_int, kernel_size=1, stride=1, padding=0, bias=True),\n",
        "            nn.BatchNorm2d(F_int)\n",
        "        )\n",
        "\n",
        "        # W_x: for the skip connection, i.e., feature map from encoder\n",
        "        self.W_x = nn.Sequential(\n",
        "            nn.Conv2d(F_l, F_int, kernel_size=1, stride=1, padding=0, bias=True),\n",
        "            nn.BatchNorm2d(F_int)\n",
        "        )\n",
        "\n",
        "        # Psi: attention map\n",
        "        self.psi = nn.Sequential(\n",
        "            nn.Conv2d(F_int, 1, kernel_size=1, stride=1, padding=0, bias=True),\n",
        "            nn.BatchNorm2d(1),\n",
        "            nn.Sigmoid()\n",
        "        )\n",
        "\n",
        "        # ReLU for non-linearity\n",
        "        self.relu = nn.ReLU(inplace=True)\n",
        "\n",
        "    def forward(self, g, x):\n",
        "        g1 = self.W_g(g)  # Apply gating to the decoder signal\n",
        "        x1 = self.W_x(x)  # Apply gating to the encoder signal\n",
        "\n",
        "        psi = self.relu(g1 + x1)  # Combine and apply non-linearity\n",
        "        psi = self.psi(psi)  # Generate the attention map\n",
        "\n",
        "        return x * psi  # Multiply attention map with skip connection\n",
        "\n",
        "# U-Net Model with Attention\n",
        "class UNet(nn.Module):\n",
        "    def __init__(self, in_channels, out_channels):\n",
        "        super(UNet, self).__init__()\n",
        "        # Channel Adder\n",
        "        self.channel_adder = ChannelAdder()\n",
        "        \n",
        "        # Encoder\n",
        "        self.encoder1 = DoubleConv(in_channels + 6, 64)\n",
        "        self.encoder2 = DoubleConv(64, 128)\n",
        "        self.encoder3 = DoubleConv(128, 256)\n",
        "        self.encoder4 = DoubleConv(256, 512)\n",
        "\n",
        "        # Bottleneck\n",
        "        self.bottleneck = DoubleConv(512, 1024)\n",
        "\n",
        "        # Decoder\n",
        "        self.upconv4 = nn.ConvTranspose2d(1024, 512, kernel_size=2, stride=2)\n",
        "        self.attention4 = AttentionBlock(F_g=512, F_l=512, F_int=256)\n",
        "        self.decoder4 = DoubleConv(1024, 512)\n",
        "\n",
        "        self.upconv3 = nn.ConvTranspose2d(512, 256, kernel_size=2, stride=2)\n",
        "        self.attention3 = AttentionBlock(F_g=256, F_l=256, F_int=128)\n",
        "        self.decoder3 = DoubleConv(512, 256)\n",
        "\n",
        "        self.upconv2 = nn.ConvTranspose2d(256, 128, kernel_size=2, stride=2)\n",
        "        self.attention2 = AttentionBlock(F_g=128, F_l=128, F_int=64)\n",
        "        self.decoder2 = DoubleConv(256, 128)\n",
        "\n",
        "        self.upconv1 = nn.ConvTranspose2d(128, 64, kernel_size=2, stride=2)\n",
        "        self.attention1 = AttentionBlock(F_g=64, F_l=64, F_int=32)\n",
        "        self.decoder1 = DoubleConv(128, 64)\n",
        "\n",
        "        # Final output layer\n",
        "        self.final_conv = nn.Conv2d(64, out_channels, kernel_size=1)\n",
        "\n",
        "    def forward(self, x):\n",
        "        # Add features\n",
        "        x = self.channel_adder(x)\n",
        "        \n",
        "        # Encoder\n",
        "        e1 = self.encoder1(x)\n",
        "        e2 = self.encoder2(F.max_pool2d(e1, 2))\n",
        "        e3 = self.encoder3(F.max_pool2d(e2, 2))\n",
        "        e4 = self.encoder4(F.max_pool2d(e3, 2))\n",
        "\n",
        "        # Bottleneck\n",
        "        b = self.bottleneck(F.max_pool2d(e4, 2))\n",
        "\n",
        "        # Decoder with attention and skip connections\n",
        "        d4 = self.upconv4(b)\n",
        "        e4 = self.attention4(g=d4, x=e4)  # Apply attention to the skip connection\n",
        "        d4 = torch.cat((e4, d4), dim=1)\n",
        "        d4 = self.decoder4(d4)\n",
        "\n",
        "        d3 = self.upconv3(d4)\n",
        "        e3 = self.attention3(g=d3, x=e3)  # Apply attention to the skip connection\n",
        "        d3 = torch.cat((e3, d3), dim=1)\n",
        "        d3 = self.decoder3(d3)\n",
        "\n",
        "        d2 = self.upconv2(d3)\n",
        "        e2 = self.attention2(g=d2, x=e2)  # Apply attention to the skip connection\n",
        "        d2 = torch.cat((e2, d2), dim=1)\n",
        "        d2 = self.decoder2(d2)\n",
        "\n",
        "        d1 = self.upconv1(d2)\n",
        "        e1 = self.attention1(g=d1, x=e1)  # Apply attention to the skip connection\n",
        "        d1 = torch.cat((e1, d1), dim=1)\n",
        "        d1 = self.decoder1(d1)\n",
        "\n",
        "        # Final output\n",
        "        out = self.final_conv(d1)\n",
        "        return out\n"
      ]
    },
    {
      "cell_type": "markdown",
      "metadata": {},
      "source": [
        "## Creación particion inicial"
      ]
    },
    {
      "cell_type": "code",
      "execution_count": 5,
      "metadata": {},
      "outputs": [],
      "source": [
        "#Creacion de particiones train y valid\n",
        "init_partition = load_partition(\"partition_1.json\")\n",
        "train_partition, val_partition = train_test_split(init_partition, test_size=0.2, random_state=42)\n",
        "save_partition(\"partition_1_train.json\",\"partitions\",train_partition)\n",
        "save_partition(\"partition_1_val.json\",\"partitions\",val_partition)"
      ]
    },
    {
      "cell_type": "markdown",
      "metadata": {},
      "source": [
        "## Carga modelo"
      ]
    },
    {
      "cell_type": "code",
      "execution_count": 6,
      "metadata": {},
      "outputs": [],
      "source": [
        "#Define model\n",
        "model = UNet( 3, 1)\n",
        "model = model.to(DEVICE)"
      ]
    },
    {
      "cell_type": "code",
      "execution_count": 7,
      "metadata": {
        "id": "rYf70y6AJmLe"
      },
      "outputs": [],
      "source": [
        "\n",
        "# Define Loss\n",
        "criterion = torch.nn.L1Loss()\n",
        "current_partition = 1"
      ]
    },
    {
      "cell_type": "code",
      "execution_count": 8,
      "metadata": {},
      "outputs": [
        {
          "name": "stdout",
          "output_type": "stream",
          "text": [
            "Epoch [1/50]\n"
          ]
        },
        {
          "name": "stderr",
          "output_type": "stream",
          "text": [
            "Train Epoch 1: 100%|██████████| 307/307 [02:18<00:00,  2.21it/s, WMAPE=5.29, DICE=0.214, DPEAKS=128, Loss=0.0192]\n",
            "Validate Epoch 1: 100%|██████████| 77/77 [00:12<00:00,  6.19it/s, WMAPE=3.74, DICE=0.128, DPEAKS=102, Loss=0.0123]\n"
          ]
        },
        {
          "name": "stdout",
          "output_type": "stream",
          "text": [
            "Saving best model\n",
            "Epoch [2/50]\n"
          ]
        },
        {
          "name": "stderr",
          "output_type": "stream",
          "text": [
            "Train Epoch 2: 100%|██████████| 307/307 [02:18<00:00,  2.21it/s, WMAPE=2.94, DICE=0.118, DPEAKS=93.5, Loss=0.0098]\n",
            "Validate Epoch 2: 100%|██████████| 77/77 [00:12<00:00,  6.14it/s, WMAPE=2.45, DICE=0.101, DPEAKS=81.3, Loss=0.0079]\n"
          ]
        },
        {
          "name": "stdout",
          "output_type": "stream",
          "text": [
            "Saving best model\n",
            "Epoch [3/50]\n"
          ]
        },
        {
          "name": "stderr",
          "output_type": "stream",
          "text": [
            "Train Epoch 3: 100%|██████████| 307/307 [02:19<00:00,  2.21it/s, WMAPE=2.59, DICE=0.0934, DPEAKS=81, Loss=0.00844]\n",
            "Validate Epoch 3: 100%|██████████| 77/77 [00:12<00:00,  6.20it/s, WMAPE=3.14, DICE=0.0975, DPEAKS=79.7, Loss=0.00938]\n"
          ]
        },
        {
          "name": "stdout",
          "output_type": "stream",
          "text": [
            "Epoch [4/50]\n"
          ]
        },
        {
          "name": "stderr",
          "output_type": "stream",
          "text": [
            "Train Epoch 4: 100%|██████████| 307/307 [02:19<00:00,  2.20it/s, WMAPE=2.33, DICE=0.0796, DPEAKS=69.4, Loss=0.00754]\n",
            "Validate Epoch 4: 100%|██████████| 77/77 [00:12<00:00,  6.16it/s, WMAPE=2.15, DICE=0.0733, DPEAKS=56.3, Loss=0.00692]\n"
          ]
        },
        {
          "name": "stdout",
          "output_type": "stream",
          "text": [
            "Saving best model\n",
            "Epoch [5/50]\n"
          ]
        },
        {
          "name": "stderr",
          "output_type": "stream",
          "text": [
            "Train Epoch 5: 100%|██████████| 307/307 [02:16<00:00,  2.24it/s, WMAPE=2.39, DICE=0.0803, DPEAKS=70.2, Loss=0.00787]\n",
            "Validate Epoch 5: 100%|██████████| 77/77 [00:12<00:00,  6.16it/s, WMAPE=2.28, DICE=0.0853, DPEAKS=88.1, Loss=0.00843]\n"
          ]
        },
        {
          "name": "stdout",
          "output_type": "stream",
          "text": [
            "Epoch [6/50]\n"
          ]
        },
        {
          "name": "stderr",
          "output_type": "stream",
          "text": [
            "Train Epoch 6: 100%|██████████| 307/307 [02:20<00:00,  2.19it/s, WMAPE=2.24, DICE=0.0711, DPEAKS=65.9, Loss=0.0072]\n",
            "Validate Epoch 6: 100%|██████████| 77/77 [00:12<00:00,  6.12it/s, WMAPE=2.5, DICE=0.11, DPEAKS=112, Loss=0.00821]\n"
          ]
        },
        {
          "name": "stdout",
          "output_type": "stream",
          "text": [
            "Epoch [7/50]\n"
          ]
        },
        {
          "name": "stderr",
          "output_type": "stream",
          "text": [
            "Train Epoch 7: 100%|██████████| 307/307 [02:19<00:00,  2.19it/s, WMAPE=2.12, DICE=0.0637, DPEAKS=56.8, Loss=0.0068]\n",
            "Validate Epoch 7: 100%|██████████| 77/77 [00:12<00:00,  6.20it/s, WMAPE=4.86, DICE=0.182, DPEAKS=142, Loss=0.0179]\n"
          ]
        },
        {
          "name": "stdout",
          "output_type": "stream",
          "text": [
            "early stopping: 3 epochs without improvement\n",
            "Training complete.\n"
          ]
        }
      ],
      "source": [
        "train_loader, val_loader = create_train_valid_loaders(\n",
        "    f\"partition_{current_partition}_train.json\",\n",
        "    f\"partition_{current_partition}_val.json\",\n",
        "    \"partitions\",\n",
        "    batch_size=16,\n",
        ")\n",
        "best_model_path = os.path.join(\n",
        "    \"models\", f\"best_model_partition_{current_partition}.pth\"\n",
        ")\n",
        "last_checkpoint_path = os.path.join(\n",
        "    \"models\", f\"last_checkpoint_partition_{current_partition}.pth\"\n",
        ")\n",
        "optimizer = optim.Adam(model.parameters())\n",
        "train_model(\n",
        "    model,\n",
        "    train_loader,\n",
        "    val_loader,\n",
        "    best_model_path,\n",
        "    last_checkpoint_path,\n",
        "    criterion,\n",
        "    optimizer,\n",
        "    num_epochs=50,\n",
        "    device=DEVICE,\n",
        "    early_stopping_patience=3,\n",
        ")"
      ]
    },
    {
      "cell_type": "code",
      "execution_count": 9,
      "metadata": {},
      "outputs": [
        {
          "name": "stderr",
          "output_type": "stream",
          "text": [
            "Validate Epoch test: 100%|██████████| 1941/1941 [05:17<00:00,  6.11it/s, WMAPE=2.24, DICE=0.0737, DPEAKS=54.3, Loss=0.00709]\n"
          ]
        }
      ],
      "source": [
        "#Cargar mejor modelo de la particion actual\n",
        "model.load_state_dict(torch.load(best_model_path,weights_only=True))\n",
        "test_model(model,criterion,device=DEVICE,batch_size=16)"
      ]
    },
    {
      "cell_type": "code",
      "execution_count": 10,
      "metadata": {},
      "outputs": [
        {
          "name": "stderr",
          "output_type": "stream",
          "text": [
            "Validate Epoch partition_2_train: 100%|██████████| 307/307 [00:49<00:00,  6.17it/s, WMAPE=2.22, DICE=0.0736, DPEAKS=54.5, Loss=0.00705]\n",
            "Validate Epoch partition_2_val: 100%|██████████| 77/77 [00:12<00:00,  6.11it/s, WMAPE=2.27, DICE=0.0737, DPEAKS=56.6, Loss=0.00702]\n"
          ]
        }
      ],
      "source": [
        "create_next_partitions(current_partition,model,criterion,device=DEVICE)"
      ]
    },
    {
      "cell_type": "code",
      "execution_count": 11,
      "metadata": {},
      "outputs": [],
      "source": [
        "current_partition=2"
      ]
    },
    {
      "cell_type": "code",
      "execution_count": 12,
      "metadata": {},
      "outputs": [
        {
          "name": "stdout",
          "output_type": "stream",
          "text": [
            "Epoch [1/50]\n"
          ]
        },
        {
          "name": "stderr",
          "output_type": "stream",
          "text": [
            "Train Epoch 1: 100%|██████████| 307/307 [02:19<00:00,  2.21it/s, WMAPE=2.59, DICE=0.0843, DPEAKS=76.2, Loss=0.00816]\n",
            "Validate Epoch 1: 100%|██████████| 77/77 [00:12<00:00,  6.14it/s, WMAPE=13.2, DICE=0.342, DPEAKS=143, Loss=0.044]\n"
          ]
        },
        {
          "name": "stdout",
          "output_type": "stream",
          "text": [
            "Saving best model\n",
            "Epoch [2/50]\n"
          ]
        },
        {
          "name": "stderr",
          "output_type": "stream",
          "text": [
            "Train Epoch 2: 100%|██████████| 307/307 [02:19<00:00,  2.20it/s, WMAPE=2.65, DICE=0.0872, DPEAKS=83.4, Loss=0.00832]\n",
            "Validate Epoch 2: 100%|██████████| 77/77 [00:12<00:00,  6.10it/s, WMAPE=2.71, DICE=0.093, DPEAKS=79.5, Loss=0.00917]\n"
          ]
        },
        {
          "name": "stdout",
          "output_type": "stream",
          "text": [
            "Saving best model\n",
            "Epoch [3/50]\n"
          ]
        },
        {
          "name": "stderr",
          "output_type": "stream",
          "text": [
            "Train Epoch 3: 100%|██████████| 307/307 [02:19<00:00,  2.19it/s, WMAPE=2.33, DICE=0.0676, DPEAKS=68.3, Loss=0.00722]\n",
            "Validate Epoch 3: 100%|██████████| 77/77 [00:12<00:00,  6.15it/s, WMAPE=2.36, DICE=0.0713, DPEAKS=64.8, Loss=0.00669]\n"
          ]
        },
        {
          "name": "stdout",
          "output_type": "stream",
          "text": [
            "Saving best model\n",
            "Epoch [4/50]\n"
          ]
        },
        {
          "name": "stderr",
          "output_type": "stream",
          "text": [
            "Train Epoch 4: 100%|██████████| 307/307 [02:19<00:00,  2.19it/s, WMAPE=2.22, DICE=0.0695, DPEAKS=62, Loss=0.00706]\n",
            "Validate Epoch 4: 100%|██████████| 77/77 [00:12<00:00,  6.18it/s, WMAPE=17.4, DICE=0.405, DPEAKS=173, Loss=0.0599]\n"
          ]
        },
        {
          "name": "stdout",
          "output_type": "stream",
          "text": [
            "Epoch [5/50]\n"
          ]
        },
        {
          "name": "stderr",
          "output_type": "stream",
          "text": [
            "Train Epoch 5: 100%|██████████| 307/307 [02:18<00:00,  2.22it/s, WMAPE=2.66, DICE=0.0915, DPEAKS=79.5, Loss=0.00834]\n",
            "Validate Epoch 5: 100%|██████████| 77/77 [00:12<00:00,  6.18it/s, WMAPE=2.54, DICE=0.0838, DPEAKS=78.5, Loss=0.00742]\n"
          ]
        },
        {
          "name": "stdout",
          "output_type": "stream",
          "text": [
            "Epoch [6/50]\n"
          ]
        },
        {
          "name": "stderr",
          "output_type": "stream",
          "text": [
            "Train Epoch 6: 100%|██████████| 307/307 [02:18<00:00,  2.22it/s, WMAPE=2.25, DICE=0.0639, DPEAKS=62.3, Loss=0.00684]\n",
            "Validate Epoch 6: 100%|██████████| 77/77 [00:12<00:00,  6.19it/s, WMAPE=2.68, DICE=0.0702, DPEAKS=67.4, Loss=0.00784]\n"
          ]
        },
        {
          "name": "stdout",
          "output_type": "stream",
          "text": [
            "early stopping: 3 epochs without improvement\n",
            "Training complete.\n"
          ]
        }
      ],
      "source": [
        "train_loader, val_loader = create_train_valid_loaders(\n",
        "    f\"partition_{current_partition}_train.json\",\n",
        "    f\"partition_{current_partition}_val.json\",\n",
        "    \"partitions\",\n",
        "    batch_size=16,\n",
        ")\n",
        "best_model_path = os.path.join(\n",
        "    \"models\", f\"best_model_partition_{current_partition}.pth\"\n",
        ")\n",
        "last_checkpoint_path = os.path.join(\n",
        "    \"models\", f\"last_checkpoint_partition_{current_partition}.pth\"\n",
        ")\n",
        "optimizer = optim.Adam(model.parameters())\n",
        "train_model(\n",
        "    model,\n",
        "    train_loader,\n",
        "    val_loader,\n",
        "    best_model_path,\n",
        "    last_checkpoint_path,\n",
        "    criterion,\n",
        "    optimizer,\n",
        "    num_epochs=50,\n",
        "    device=DEVICE,\n",
        "    early_stopping_patience=3,\n",
        ")"
      ]
    },
    {
      "cell_type": "code",
      "execution_count": 13,
      "metadata": {},
      "outputs": [
        {
          "name": "stderr",
          "output_type": "stream",
          "text": [
            "Validate Epoch test: 100%|██████████| 1941/1941 [05:16<00:00,  6.13it/s, WMAPE=2.07, DICE=0.0699, DPEAKS=58, Loss=0.00627]\n",
            "Validate Epoch partition_3_train: 100%|██████████| 307/307 [00:52<00:00,  5.83it/s, WMAPE=2.08, DICE=0.07, DPEAKS=58.4, Loss=0.00634]\n",
            "Validate Epoch partition_3_val: 100%|██████████| 77/77 [00:12<00:00,  5.97it/s, WMAPE=2.03, DICE=0.0705, DPEAKS=61.2, Loss=0.00627]\n"
          ]
        }
      ],
      "source": [
        "#Cargar mejor modelo de la particion actual\n",
        "model.load_state_dict(torch.load(best_model_path,weights_only=True))\n",
        "test_model(model,criterion,device=DEVICE,batch_size=16)\n",
        "create_next_partitions(current_partition,model,criterion,device=DEVICE)"
      ]
    },
    {
      "cell_type": "code",
      "execution_count": 14,
      "metadata": {},
      "outputs": [
        {
          "name": "stdout",
          "output_type": "stream",
          "text": [
            "Epoch [1/50]\n"
          ]
        },
        {
          "name": "stderr",
          "output_type": "stream",
          "text": [
            "Train Epoch 1: 100%|██████████| 307/307 [02:17<00:00,  2.22it/s, WMAPE=2.41, DICE=0.0668, DPEAKS=69.8, Loss=0.0073]\n",
            "Validate Epoch 1: 100%|██████████| 77/77 [00:12<00:00,  6.24it/s, WMAPE=2.54, DICE=0.0752, DPEAKS=70.8, Loss=0.00749]\n"
          ]
        },
        {
          "name": "stdout",
          "output_type": "stream",
          "text": [
            "Saving best model\n",
            "Epoch [2/50]\n"
          ]
        },
        {
          "name": "stderr",
          "output_type": "stream",
          "text": [
            "Train Epoch 2: 100%|██████████| 307/307 [02:17<00:00,  2.23it/s, WMAPE=2.28, DICE=0.0623, DPEAKS=64.4, Loss=0.00689]\n",
            "Validate Epoch 2: 100%|██████████| 77/77 [00:12<00:00,  6.21it/s, WMAPE=2.26, DICE=0.054, DPEAKS=55.4, Loss=0.00687]\n"
          ]
        },
        {
          "name": "stdout",
          "output_type": "stream",
          "text": [
            "Saving best model\n",
            "Epoch [3/50]\n"
          ]
        },
        {
          "name": "stderr",
          "output_type": "stream",
          "text": [
            "Train Epoch 3: 100%|██████████| 307/307 [02:17<00:00,  2.23it/s, WMAPE=2.15, DICE=0.0552, DPEAKS=55.7, Loss=0.00637]\n",
            "Validate Epoch 3: 100%|██████████| 77/77 [00:12<00:00,  6.23it/s, WMAPE=2.22, DICE=0.0716, DPEAKS=76.2, Loss=0.00714]\n"
          ]
        },
        {
          "name": "stdout",
          "output_type": "stream",
          "text": [
            "Epoch [4/50]\n"
          ]
        },
        {
          "name": "stderr",
          "output_type": "stream",
          "text": [
            "Train Epoch 4: 100%|██████████| 307/307 [02:17<00:00,  2.23it/s, WMAPE=2.17, DICE=0.0555, DPEAKS=56.5, Loss=0.00633]\n",
            "Validate Epoch 4: 100%|██████████| 77/77 [00:12<00:00,  6.21it/s, WMAPE=2.14, DICE=0.0607, DPEAKS=62.9, Loss=0.006]\n"
          ]
        },
        {
          "name": "stdout",
          "output_type": "stream",
          "text": [
            "Saving best model\n",
            "Epoch [5/50]\n"
          ]
        },
        {
          "name": "stderr",
          "output_type": "stream",
          "text": [
            "Train Epoch 5: 100%|██████████| 307/307 [02:17<00:00,  2.23it/s, WMAPE=2.07, DICE=0.052, DPEAKS=50.8, Loss=0.00622]\n",
            "Validate Epoch 5: 100%|██████████| 77/77 [00:12<00:00,  6.22it/s, WMAPE=1.82, DICE=0.0791, DPEAKS=73.9, Loss=0.00787]\n"
          ]
        },
        {
          "name": "stdout",
          "output_type": "stream",
          "text": [
            "Epoch [6/50]\n"
          ]
        },
        {
          "name": "stderr",
          "output_type": "stream",
          "text": [
            "Train Epoch 6: 100%|██████████| 307/307 [02:17<00:00,  2.24it/s, WMAPE=2.06, DICE=0.0533, DPEAKS=55, Loss=0.00614]\n",
            "Validate Epoch 6: 100%|██████████| 77/77 [00:11<00:00,  6.73it/s, WMAPE=2.94, DICE=0.072, DPEAKS=68.1, Loss=0.00836]\n"
          ]
        },
        {
          "name": "stdout",
          "output_type": "stream",
          "text": [
            "Epoch [7/50]\n"
          ]
        },
        {
          "name": "stderr",
          "output_type": "stream",
          "text": [
            "Train Epoch 7: 100%|██████████| 307/307 [02:06<00:00,  2.42it/s, WMAPE=2.01, DICE=0.0494, DPEAKS=47.8, Loss=0.00594]\n",
            "Validate Epoch 7: 100%|██████████| 77/77 [00:11<00:00,  6.72it/s, WMAPE=4.66, DICE=0.106, DPEAKS=82.4, Loss=0.0131]\n"
          ]
        },
        {
          "name": "stdout",
          "output_type": "stream",
          "text": [
            "early stopping: 3 epochs without improvement\n",
            "Training complete.\n"
          ]
        },
        {
          "name": "stderr",
          "output_type": "stream",
          "text": [
            "Validate Epoch test: 100%|██████████| 1941/1941 [04:49<00:00,  6.70it/s, WMAPE=1.96, DICE=0.0595, DPEAKS=51.8, Loss=0.00603]\n",
            "Validate Epoch partition_4_train: 100%|██████████| 307/307 [00:48<00:00,  6.32it/s, WMAPE=1.95, DICE=0.0592, DPEAKS=51.5, Loss=0.00604]\n",
            "Validate Epoch partition_4_val: 100%|██████████| 77/77 [00:12<00:00,  6.39it/s, WMAPE=1.96, DICE=0.0596, DPEAKS=49.9, Loss=0.00609]\n"
          ]
        },
        {
          "name": "stdout",
          "output_type": "stream",
          "text": [
            "Epoch [1/50]\n"
          ]
        },
        {
          "name": "stderr",
          "output_type": "stream",
          "text": [
            "Train Epoch 1: 100%|██████████| 307/307 [02:06<00:00,  2.43it/s, WMAPE=2.25, DICE=0.0547, DPEAKS=59, Loss=0.0065]\n",
            "Validate Epoch 1: 100%|██████████| 77/77 [00:11<00:00,  6.73it/s, WMAPE=5.36, DICE=0.15, DPEAKS=105, Loss=0.0154]\n"
          ]
        },
        {
          "name": "stdout",
          "output_type": "stream",
          "text": [
            "Saving best model\n",
            "Epoch [2/50]\n"
          ]
        },
        {
          "name": "stderr",
          "output_type": "stream",
          "text": [
            "Train Epoch 2: 100%|██████████| 307/307 [02:06<00:00,  2.43it/s, WMAPE=2.13, DICE=0.0522, DPEAKS=51.8, Loss=0.00608]\n",
            "Validate Epoch 2: 100%|██████████| 77/77 [00:11<00:00,  6.72it/s, WMAPE=5.9, DICE=0.0692, DPEAKS=71.3, Loss=0.0154]\n"
          ]
        },
        {
          "name": "stdout",
          "output_type": "stream",
          "text": [
            "Saving best model\n",
            "Epoch [3/50]\n"
          ]
        },
        {
          "name": "stderr",
          "output_type": "stream",
          "text": [
            "Train Epoch 3: 100%|██████████| 307/307 [02:06<00:00,  2.43it/s, WMAPE=2.15, DICE=0.0494, DPEAKS=49.5, Loss=0.00604]\n",
            "Validate Epoch 3: 100%|██████████| 77/77 [00:11<00:00,  6.68it/s, WMAPE=3.5, DICE=0.0559, DPEAKS=56.5, Loss=0.00918]\n"
          ]
        },
        {
          "name": "stdout",
          "output_type": "stream",
          "text": [
            "Saving best model\n",
            "Epoch [4/50]\n"
          ]
        },
        {
          "name": "stderr",
          "output_type": "stream",
          "text": [
            "Train Epoch 4: 100%|██████████| 307/307 [02:06<00:00,  2.43it/s, WMAPE=2.08, DICE=0.0488, DPEAKS=47.3, Loss=0.00587]\n",
            "Validate Epoch 4: 100%|██████████| 77/77 [00:11<00:00,  6.78it/s, WMAPE=5.53, DICE=0.0856, DPEAKS=72.7, Loss=0.0146]\n"
          ]
        },
        {
          "name": "stdout",
          "output_type": "stream",
          "text": [
            "Epoch [5/50]\n"
          ]
        },
        {
          "name": "stderr",
          "output_type": "stream",
          "text": [
            "Train Epoch 5: 100%|██████████| 307/307 [02:06<00:00,  2.43it/s, WMAPE=1.94, DICE=0.0472, DPEAKS=46, Loss=0.00556]\n",
            "Validate Epoch 5: 100%|██████████| 77/77 [00:11<00:00,  6.77it/s, WMAPE=4.2, DICE=0.169, DPEAKS=121, Loss=0.0134]\n"
          ]
        },
        {
          "name": "stdout",
          "output_type": "stream",
          "text": [
            "Epoch [6/50]\n"
          ]
        },
        {
          "name": "stderr",
          "output_type": "stream",
          "text": [
            "Train Epoch 6: 100%|██████████| 307/307 [02:06<00:00,  2.43it/s, WMAPE=1.99, DICE=0.0492, DPEAKS=48.3, Loss=0.00572]\n",
            "Validate Epoch 6: 100%|██████████| 77/77 [00:11<00:00,  6.76it/s, WMAPE=2.17, DICE=0.0653, DPEAKS=65.1, Loss=0.00734]\n"
          ]
        },
        {
          "name": "stdout",
          "output_type": "stream",
          "text": [
            "Saving best model\n",
            "Epoch [7/50]\n"
          ]
        },
        {
          "name": "stderr",
          "output_type": "stream",
          "text": [
            "Train Epoch 7: 100%|██████████| 307/307 [02:06<00:00,  2.43it/s, WMAPE=1.91, DICE=0.0464, DPEAKS=46.6, Loss=0.00581]\n",
            "Validate Epoch 7: 100%|██████████| 77/77 [00:11<00:00,  6.73it/s, WMAPE=1.65, DICE=0.0677, DPEAKS=57.1, Loss=0.00784]\n"
          ]
        },
        {
          "name": "stdout",
          "output_type": "stream",
          "text": [
            "Epoch [8/50]\n"
          ]
        },
        {
          "name": "stderr",
          "output_type": "stream",
          "text": [
            "Train Epoch 8: 100%|██████████| 307/307 [02:06<00:00,  2.43it/s, WMAPE=2.28, DICE=0.0641, DPEAKS=65.5, Loss=0.00664]\n",
            "Validate Epoch 8: 100%|██████████| 77/77 [00:11<00:00,  6.75it/s, WMAPE=3.53, DICE=0.0612, DPEAKS=66.9, Loss=0.00979]\n"
          ]
        },
        {
          "name": "stdout",
          "output_type": "stream",
          "text": [
            "Epoch [9/50]\n"
          ]
        },
        {
          "name": "stderr",
          "output_type": "stream",
          "text": [
            "Train Epoch 9: 100%|██████████| 307/307 [02:06<00:00,  2.43it/s, WMAPE=1.97, DICE=0.0466, DPEAKS=47.9, Loss=0.00567]\n",
            "Validate Epoch 9: 100%|██████████| 77/77 [00:11<00:00,  6.75it/s, WMAPE=1.83, DICE=0.0499, DPEAKS=45.9, Loss=0.00529]\n"
          ]
        },
        {
          "name": "stdout",
          "output_type": "stream",
          "text": [
            "Saving best model\n",
            "Epoch [10/50]\n"
          ]
        },
        {
          "name": "stderr",
          "output_type": "stream",
          "text": [
            "Train Epoch 10: 100%|██████████| 307/307 [02:06<00:00,  2.42it/s, WMAPE=1.91, DICE=0.0445, DPEAKS=46.2, Loss=0.00549]\n",
            "Validate Epoch 10: 100%|██████████| 77/77 [00:11<00:00,  6.79it/s, WMAPE=3.1, DICE=0.0637, DPEAKS=57.7, Loss=0.00892]\n"
          ]
        },
        {
          "name": "stdout",
          "output_type": "stream",
          "text": [
            "Epoch [11/50]\n"
          ]
        },
        {
          "name": "stderr",
          "output_type": "stream",
          "text": [
            "Train Epoch 11: 100%|██████████| 307/307 [02:06<00:00,  2.43it/s, WMAPE=1.81, DICE=0.0432, DPEAKS=44.2, Loss=0.00512]\n",
            "Validate Epoch 11: 100%|██████████| 77/77 [00:11<00:00,  6.79it/s, WMAPE=4.19, DICE=0.118, DPEAKS=119, Loss=0.0126]\n"
          ]
        },
        {
          "name": "stdout",
          "output_type": "stream",
          "text": [
            "Epoch [12/50]\n"
          ]
        },
        {
          "name": "stderr",
          "output_type": "stream",
          "text": [
            "Train Epoch 12: 100%|██████████| 307/307 [02:16<00:00,  2.25it/s, WMAPE=2.07, DICE=0.0542, DPEAKS=54.1, Loss=0.00586]\n",
            "Validate Epoch 12: 100%|██████████| 77/77 [00:12<00:00,  6.21it/s, WMAPE=1.84, DICE=0.0477, DPEAKS=48, Loss=0.00522]\n"
          ]
        },
        {
          "name": "stdout",
          "output_type": "stream",
          "text": [
            "Saving best model\n",
            "Epoch [13/50]\n"
          ]
        },
        {
          "name": "stderr",
          "output_type": "stream",
          "text": [
            "Train Epoch 13: 100%|██████████| 307/307 [02:16<00:00,  2.25it/s, WMAPE=1.73, DICE=0.0429, DPEAKS=47.1, Loss=0.00499]\n",
            "Validate Epoch 13: 100%|██████████| 77/77 [00:12<00:00,  6.22it/s, WMAPE=2.59, DICE=0.0494, DPEAKS=46.1, Loss=0.00748]\n"
          ]
        },
        {
          "name": "stdout",
          "output_type": "stream",
          "text": [
            "Epoch [14/50]\n"
          ]
        },
        {
          "name": "stderr",
          "output_type": "stream",
          "text": [
            "Train Epoch 14: 100%|██████████| 307/307 [02:18<00:00,  2.22it/s, WMAPE=1.76, DICE=0.0419, DPEAKS=44.2, Loss=0.00504]\n",
            "Validate Epoch 14: 100%|██████████| 77/77 [00:12<00:00,  6.22it/s, WMAPE=3.13, DICE=0.0418, DPEAKS=43.3, Loss=0.00842]\n"
          ]
        },
        {
          "name": "stdout",
          "output_type": "stream",
          "text": [
            "Epoch [15/50]\n"
          ]
        },
        {
          "name": "stderr",
          "output_type": "stream",
          "text": [
            "Train Epoch 15: 100%|██████████| 307/307 [02:18<00:00,  2.22it/s, WMAPE=1.69, DICE=0.0414, DPEAKS=43.7, Loss=0.0049]\n",
            "Validate Epoch 15: 100%|██████████| 77/77 [00:12<00:00,  6.18it/s, WMAPE=2.59, DICE=0.0544, DPEAKS=49.1, Loss=0.00685]\n"
          ]
        },
        {
          "name": "stdout",
          "output_type": "stream",
          "text": [
            "early stopping: 3 epochs without improvement\n",
            "Training complete.\n"
          ]
        },
        {
          "name": "stderr",
          "output_type": "stream",
          "text": [
            "Validate Epoch test: 100%|██████████| 1941/1941 [05:17<00:00,  6.11it/s, WMAPE=1.61, DICE=0.0479, DPEAKS=45.8, Loss=0.00502]\n",
            "Validate Epoch partition_5_train: 100%|██████████| 307/307 [00:50<00:00,  6.09it/s, WMAPE=1.6, DICE=0.0481, DPEAKS=46.4, Loss=0.00501]\n",
            "Validate Epoch partition_5_val: 100%|██████████| 77/77 [00:12<00:00,  6.14it/s, WMAPE=1.71, DICE=0.0484, DPEAKS=46.4, Loss=0.00508]\n"
          ]
        },
        {
          "name": "stdout",
          "output_type": "stream",
          "text": [
            "Epoch [1/50]\n"
          ]
        },
        {
          "name": "stderr",
          "output_type": "stream",
          "text": [
            "Train Epoch 1: 100%|██████████| 307/307 [02:17<00:00,  2.24it/s, WMAPE=2, DICE=0.0463, DPEAKS=48.9, Loss=0.00557]\n",
            "Validate Epoch 1: 100%|██████████| 77/77 [00:12<00:00,  6.13it/s, WMAPE=2.29, DICE=0.0493, DPEAKS=54.2, Loss=0.00604]\n"
          ]
        },
        {
          "name": "stdout",
          "output_type": "stream",
          "text": [
            "Saving best model\n",
            "Epoch [2/50]\n"
          ]
        },
        {
          "name": "stderr",
          "output_type": "stream",
          "text": [
            "Train Epoch 2: 100%|██████████| 307/307 [02:18<00:00,  2.21it/s, WMAPE=1.95, DICE=0.0467, DPEAKS=51.6, Loss=0.00567]\n",
            "Validate Epoch 2: 100%|██████████| 77/77 [00:12<00:00,  6.14it/s, WMAPE=3.17, DICE=0.0462, DPEAKS=43.8, Loss=0.00825]\n"
          ]
        },
        {
          "name": "stdout",
          "output_type": "stream",
          "text": [
            "Epoch [3/50]\n"
          ]
        },
        {
          "name": "stderr",
          "output_type": "stream",
          "text": [
            "Train Epoch 3: 100%|██████████| 307/307 [02:18<00:00,  2.21it/s, WMAPE=1.88, DICE=0.0423, DPEAKS=47.2, Loss=0.00533]\n",
            "Validate Epoch 3: 100%|██████████| 77/77 [00:12<00:00,  6.20it/s, WMAPE=2.53, DICE=0.0435, DPEAKS=36.9, Loss=0.00711]\n"
          ]
        },
        {
          "name": "stdout",
          "output_type": "stream",
          "text": [
            "Epoch [4/50]\n"
          ]
        },
        {
          "name": "stderr",
          "output_type": "stream",
          "text": [
            "Train Epoch 4: 100%|██████████| 307/307 [02:18<00:00,  2.22it/s, WMAPE=1.68, DICE=0.0408, DPEAKS=44, Loss=0.00493]\n",
            "Validate Epoch 4: 100%|██████████| 77/77 [00:12<00:00,  6.16it/s, WMAPE=2.8, DICE=0.0969, DPEAKS=90.5, Loss=0.00748]\n"
          ]
        },
        {
          "name": "stdout",
          "output_type": "stream",
          "text": [
            "early stopping: 3 epochs without improvement\n",
            "Training complete.\n"
          ]
        },
        {
          "name": "stderr",
          "output_type": "stream",
          "text": [
            "Validate Epoch test: 100%|██████████| 1941/1941 [05:15<00:00,  6.15it/s, WMAPE=1.86, DICE=0.0475, DPEAKS=42.7, Loss=0.00547]\n",
            "Validate Epoch partition_6_train: 100%|██████████| 307/307 [00:52<00:00,  5.81it/s, WMAPE=1.86, DICE=0.0476, DPEAKS=41.1, Loss=0.00553]\n",
            "Validate Epoch partition_6_val: 100%|██████████| 77/77 [00:13<00:00,  5.83it/s, WMAPE=1.96, DICE=0.0476, DPEAKS=41.1, Loss=0.00563]\n"
          ]
        }
      ],
      "source": [
        "for current_partition in range(3,6):\n",
        "    best_model_path = os.path.join(\n",
        "        \"models\", f\"best_model_partition_{current_partition}.pth\"\n",
        "    )\n",
        "    last_checkpoint_path = os.path.join(\n",
        "        \"models\", f\"last_checkpoint_partition_{current_partition}.pth\"\n",
        "    )\n",
        "    train_loader, val_loader = create_train_valid_loaders(\n",
        "        f\"partition_{current_partition}_train.json\",\n",
        "        f\"partition_{current_partition}_val.json\",\n",
        "        \"partitions\",\n",
        "        batch_size=16,\n",
        "    )\n",
        "    optimizer = optim.Adam(model.parameters())\n",
        "    train_model(\n",
        "        model,\n",
        "        train_loader,\n",
        "        val_loader,\n",
        "        best_model_path,\n",
        "        last_checkpoint_path,\n",
        "        criterion,\n",
        "        optimizer,\n",
        "        num_epochs=50,\n",
        "        device=DEVICE,\n",
        "        early_stopping_patience=3,\n",
        "    )\n",
        "    #Cargar mejor modelo de la particion actual\n",
        "    model.load_state_dict(torch.load(best_model_path,weights_only=True))\n",
        "    test_model(model,criterion,device=DEVICE,batch_size=16)\n",
        "    create_next_partitions(current_partition,model,criterion,device=DEVICE)"
      ]
    },
    {
      "cell_type": "code",
      "execution_count": 14,
      "metadata": {},
      "outputs": [],
      "source": [
        "current_partition=3\n",
        "best_model_path = os.path.join(\n",
        "    \"models\", f\"best_model_partition_{current_partition}.pth\"\n",
        ")\n",
        "last_checkpoint_path = os.path.join(\n",
        "    \"models\", f\"last_checkpoint_partition_{current_partition}.pth\"\n",
        ")"
      ]
    },
    {
      "cell_type": "code",
      "execution_count": 15,
      "metadata": {},
      "outputs": [
        {
          "name": "stdout",
          "output_type": "stream",
          "text": [
            "Epoch [1/50]\n"
          ]
        },
        {
          "name": "stderr",
          "output_type": "stream",
          "text": [
            "Train Epoch 1: 100%|██████████| 307/307 [02:08<00:00,  2.38it/s, WMAPE=2.05, DICE=0.0571, DPEAKS=49.1, Loss=0.00587]\n",
            "Validate Epoch 1: 100%|██████████| 77/77 [00:11<00:00,  6.60it/s, WMAPE=2.08, DICE=0.0622, DPEAKS=54.3, Loss=0.00575]\n"
          ]
        },
        {
          "name": "stdout",
          "output_type": "stream",
          "text": [
            "Saving best model\n",
            "Epoch [2/50]\n"
          ]
        },
        {
          "name": "stderr",
          "output_type": "stream",
          "text": [
            "Train Epoch 2: 100%|██████████| 307/307 [02:08<00:00,  2.38it/s, WMAPE=2.02, DICE=0.0591, DPEAKS=51.2, Loss=0.00577]\n",
            "Validate Epoch 2: 100%|██████████| 77/77 [00:11<00:00,  6.64it/s, WMAPE=5.84, DICE=0.0619, DPEAKS=53, Loss=0.0147]\n"
          ]
        },
        {
          "name": "stdout",
          "output_type": "stream",
          "text": [
            "Epoch [3/50]\n"
          ]
        },
        {
          "name": "stderr",
          "output_type": "stream",
          "text": [
            "Train Epoch 3: 100%|██████████| 307/307 [02:08<00:00,  2.38it/s, WMAPE=1.84, DICE=0.0536, DPEAKS=44.1, Loss=0.0053]\n",
            "Validate Epoch 3: 100%|██████████| 77/77 [00:11<00:00,  6.59it/s, WMAPE=2.04, DICE=0.0609, DPEAKS=56.6, Loss=0.00597]\n"
          ]
        },
        {
          "name": "stdout",
          "output_type": "stream",
          "text": [
            "Epoch [4/50]\n"
          ]
        },
        {
          "name": "stderr",
          "output_type": "stream",
          "text": [
            "Train Epoch 4: 100%|██████████| 307/307 [02:08<00:00,  2.39it/s, WMAPE=1.8, DICE=0.0536, DPEAKS=49.5, Loss=0.00529]\n",
            "Validate Epoch 4: 100%|██████████| 77/77 [00:11<00:00,  6.59it/s, WMAPE=2.05, DICE=0.0499, DPEAKS=40.8, Loss=0.00534]\n"
          ]
        },
        {
          "name": "stdout",
          "output_type": "stream",
          "text": [
            "Saving best model\n",
            "Epoch [5/50]\n"
          ]
        },
        {
          "name": "stderr",
          "output_type": "stream",
          "text": [
            "Train Epoch 5: 100%|██████████| 307/307 [02:08<00:00,  2.39it/s, WMAPE=1.71, DICE=0.0497, DPEAKS=42.5, Loss=0.00498]\n",
            "Validate Epoch 5: 100%|██████████| 77/77 [00:11<00:00,  6.63it/s, WMAPE=3.62, DICE=0.0495, DPEAKS=43.5, Loss=0.00953]\n"
          ]
        },
        {
          "name": "stdout",
          "output_type": "stream",
          "text": [
            "Epoch [6/50]\n"
          ]
        },
        {
          "name": "stderr",
          "output_type": "stream",
          "text": [
            "Train Epoch 6: 100%|██████████| 307/307 [02:08<00:00,  2.40it/s, WMAPE=1.68, DICE=0.0493, DPEAKS=42.1, Loss=0.00488]\n",
            "Validate Epoch 6: 100%|██████████| 77/77 [00:11<00:00,  6.63it/s, WMAPE=2.08, DICE=0.0511, DPEAKS=46.3, Loss=0.0058]\n"
          ]
        },
        {
          "name": "stdout",
          "output_type": "stream",
          "text": [
            "Epoch [7/50]\n"
          ]
        },
        {
          "name": "stderr",
          "output_type": "stream",
          "text": [
            "Train Epoch 7: 100%|██████████| 307/307 [02:08<00:00,  2.39it/s, WMAPE=1.59, DICE=0.0473, DPEAKS=38.3, Loss=0.00458]\n",
            "Validate Epoch 7: 100%|██████████| 77/77 [00:11<00:00,  6.59it/s, WMAPE=2.2, DICE=0.0616, DPEAKS=55.9, Loss=0.00639]\n"
          ]
        },
        {
          "name": "stdout",
          "output_type": "stream",
          "text": [
            "early stopping: 3 epochs without improvement\n",
            "Training complete.\n"
          ]
        }
      ],
      "source": [
        "train_loader, val_loader = create_train_valid_loaders(\n",
        "    f\"partition_{current_partition}_train.json\",\n",
        "    f\"partition_{current_partition}_val.json\",\n",
        "    \"partitions\",\n",
        "    batch_size=16,\n",
        ")\n",
        "optimizer = optim.Adam(model.parameters())\n",
        "train_model(\n",
        "    model,\n",
        "    train_loader,\n",
        "    val_loader,\n",
        "    best_model_path,\n",
        "    last_checkpoint_path,\n",
        "    criterion,\n",
        "    optimizer,\n",
        "    num_epochs=50,\n",
        "    device=DEVICE,\n",
        "    early_stopping_patience=3,\n",
        ")"
      ]
    },
    {
      "cell_type": "code",
      "execution_count": 16,
      "metadata": {},
      "outputs": [
        {
          "name": "stderr",
          "output_type": "stream",
          "text": [
            "Validate Epoch test: 100%|██████████| 1941/1941 [04:56<00:00,  6.55it/s, WMAPE=1.85, DICE=0.0492, DPEAKS=34.6, Loss=0.00542]\n",
            "Validate Epoch partition_4_train: 100%|██████████| 307/307 [00:49<00:00,  6.22it/s, WMAPE=1.82, DICE=0.0491, DPEAKS=35.7, Loss=0.00536]\n",
            "Validate Epoch partition_4_val: 100%|██████████| 77/77 [00:12<00:00,  6.26it/s, WMAPE=1.87, DICE=0.0494, DPEAKS=32.6, Loss=0.00539]\n"
          ]
        }
      ],
      "source": [
        "#Cargar mejor modelo de la particion actual\n",
        "model.load_state_dict(torch.load(best_model_path,weights_only=True))\n",
        "test_model(model,criterion,device=DEVICE,batch_size=16)\n",
        "create_next_partitions(current_partition,model,criterion,device=DEVICE)"
      ]
    },
    {
      "cell_type": "code",
      "execution_count": 8,
      "metadata": {},
      "outputs": [],
      "source": [
        "current_partition=4"
      ]
    },
    {
      "cell_type": "code",
      "execution_count": 9,
      "metadata": {},
      "outputs": [
        {
          "name": "stdout",
          "output_type": "stream",
          "text": [
            "Epoch [1/50]\n"
          ]
        },
        {
          "name": "stderr",
          "output_type": "stream",
          "text": [
            "Train Epoch 1: 100%|██████████| 307/307 [02:07<00:00,  2.41it/s, loss=0.0474]\n",
            "Validate Epoch 1: 100%|██████████| 77/77 [00:11<00:00,  6.47it/s, loss=0.0462]\n"
          ]
        },
        {
          "name": "stdout",
          "output_type": "stream",
          "text": [
            "Saving best model\n",
            "Epoch [2/50]\n"
          ]
        },
        {
          "name": "stderr",
          "output_type": "stream",
          "text": [
            "Train Epoch 2: 100%|██████████| 307/307 [02:03<00:00,  2.49it/s, loss=0.032] \n",
            "Validate Epoch 2: 100%|██████████| 77/77 [00:11<00:00,  7.00it/s, loss=0.0335]\n"
          ]
        },
        {
          "name": "stdout",
          "output_type": "stream",
          "text": [
            "Saving best model\n",
            "Epoch [3/50]\n"
          ]
        },
        {
          "name": "stderr",
          "output_type": "stream",
          "text": [
            "Train Epoch 3: 100%|██████████| 307/307 [02:02<00:00,  2.51it/s, loss=0.0287]\n",
            "Validate Epoch 3: 100%|██████████| 77/77 [00:11<00:00,  6.50it/s, loss=0.0297]\n"
          ]
        },
        {
          "name": "stdout",
          "output_type": "stream",
          "text": [
            "Saving best model\n",
            "Epoch [4/50]\n"
          ]
        },
        {
          "name": "stderr",
          "output_type": "stream",
          "text": [
            "Train Epoch 4: 100%|██████████| 307/307 [02:02<00:00,  2.50it/s, loss=0.0232]\n",
            "Validate Epoch 4: 100%|██████████| 77/77 [00:10<00:00,  7.19it/s, loss=0.0239]\n"
          ]
        },
        {
          "name": "stdout",
          "output_type": "stream",
          "text": [
            "Saving best model\n",
            "Epoch [5/50]\n"
          ]
        },
        {
          "name": "stderr",
          "output_type": "stream",
          "text": [
            "Train Epoch 5: 100%|██████████| 307/307 [01:58<00:00,  2.59it/s, loss=0.0244]\n",
            "Validate Epoch 5: 100%|██████████| 77/77 [00:10<00:00,  7.18it/s, loss=0.0213]\n"
          ]
        },
        {
          "name": "stdout",
          "output_type": "stream",
          "text": [
            "Saving best model\n",
            "Epoch [6/50]\n"
          ]
        },
        {
          "name": "stderr",
          "output_type": "stream",
          "text": [
            "Train Epoch 6: 100%|██████████| 307/307 [01:58<00:00,  2.59it/s, loss=0.021] \n",
            "Validate Epoch 6: 100%|██████████| 77/77 [00:10<00:00,  7.18it/s, loss=0.0199]\n"
          ]
        },
        {
          "name": "stdout",
          "output_type": "stream",
          "text": [
            "Saving best model\n",
            "Epoch [7/50]\n"
          ]
        },
        {
          "name": "stderr",
          "output_type": "stream",
          "text": [
            "Train Epoch 7: 100%|██████████| 307/307 [01:58<00:00,  2.58it/s, loss=0.0179]\n",
            "Validate Epoch 7: 100%|██████████| 77/77 [00:10<00:00,  7.15it/s, loss=0.0195]\n"
          ]
        },
        {
          "name": "stdout",
          "output_type": "stream",
          "text": [
            "Saving best model\n",
            "Epoch [8/50]\n"
          ]
        },
        {
          "name": "stderr",
          "output_type": "stream",
          "text": [
            "Train Epoch 8: 100%|██████████| 307/307 [01:58<00:00,  2.59it/s, loss=0.0173]\n",
            "Validate Epoch 8: 100%|██████████| 77/77 [00:10<00:00,  7.11it/s, loss=0.0225]\n"
          ]
        },
        {
          "name": "stdout",
          "output_type": "stream",
          "text": [
            "Epoch [9/50]\n"
          ]
        },
        {
          "name": "stderr",
          "output_type": "stream",
          "text": [
            "Train Epoch 9: 100%|██████████| 307/307 [02:05<00:00,  2.44it/s, loss=0.017] \n",
            "Validate Epoch 9: 100%|██████████| 77/77 [00:11<00:00,  6.55it/s, loss=0.0204]\n"
          ]
        },
        {
          "name": "stdout",
          "output_type": "stream",
          "text": [
            "Epoch [10/50]\n"
          ]
        },
        {
          "name": "stderr",
          "output_type": "stream",
          "text": [
            "Train Epoch 10: 100%|██████████| 307/307 [02:09<00:00,  2.36it/s, loss=0.022] \n",
            "Validate Epoch 10: 100%|██████████| 77/77 [00:11<00:00,  6.56it/s, loss=0.0185]\n"
          ]
        },
        {
          "name": "stdout",
          "output_type": "stream",
          "text": [
            "Saving best model\n",
            "Epoch [11/50]\n"
          ]
        },
        {
          "name": "stderr",
          "output_type": "stream",
          "text": [
            "Train Epoch 11: 100%|██████████| 307/307 [02:10<00:00,  2.36it/s, loss=0.0159]\n",
            "Validate Epoch 11: 100%|██████████| 77/77 [00:11<00:00,  6.53it/s, loss=0.0174]\n"
          ]
        },
        {
          "name": "stdout",
          "output_type": "stream",
          "text": [
            "Saving best model\n",
            "Epoch [12/50]\n"
          ]
        },
        {
          "name": "stderr",
          "output_type": "stream",
          "text": [
            "Train Epoch 12: 100%|██████████| 307/307 [02:10<00:00,  2.35it/s, loss=0.0169]\n",
            "Validate Epoch 12: 100%|██████████| 77/77 [00:11<00:00,  6.52it/s, loss=0.0179]\n"
          ]
        },
        {
          "name": "stdout",
          "output_type": "stream",
          "text": [
            "Saving best model\n",
            "Epoch [13/50]\n"
          ]
        },
        {
          "name": "stderr",
          "output_type": "stream",
          "text": [
            "Train Epoch 13: 100%|██████████| 307/307 [02:11<00:00,  2.34it/s, loss=0.0475]\n",
            "Validate Epoch 13: 100%|██████████| 77/77 [00:11<00:00,  6.51it/s, loss=0.0503]\n"
          ]
        },
        {
          "name": "stdout",
          "output_type": "stream",
          "text": [
            "Epoch [14/50]\n"
          ]
        },
        {
          "name": "stderr",
          "output_type": "stream",
          "text": [
            "Train Epoch 14: 100%|██████████| 307/307 [02:11<00:00,  2.33it/s, loss=0.0154]\n",
            "Validate Epoch 14: 100%|██████████| 77/77 [00:11<00:00,  6.44it/s, loss=0.0178]\n"
          ]
        },
        {
          "name": "stdout",
          "output_type": "stream",
          "text": [
            "Saving best model\n",
            "Epoch [15/50]\n"
          ]
        },
        {
          "name": "stderr",
          "output_type": "stream",
          "text": [
            "Train Epoch 15: 100%|██████████| 307/307 [02:10<00:00,  2.35it/s, loss=0.0152]\n",
            "Validate Epoch 15: 100%|██████████| 77/77 [00:10<00:00,  7.04it/s, loss=0.018] \n"
          ]
        },
        {
          "name": "stdout",
          "output_type": "stream",
          "text": [
            "Epoch [16/50]\n"
          ]
        },
        {
          "name": "stderr",
          "output_type": "stream",
          "text": [
            "Train Epoch 16: 100%|██████████| 307/307 [02:00<00:00,  2.54it/s, loss=0.0164]\n",
            "Validate Epoch 16: 100%|██████████| 77/77 [00:10<00:00,  7.06it/s, loss=0.018] \n"
          ]
        },
        {
          "name": "stdout",
          "output_type": "stream",
          "text": [
            "Epoch [17/50]\n"
          ]
        },
        {
          "name": "stderr",
          "output_type": "stream",
          "text": [
            "Train Epoch 17: 100%|██████████| 307/307 [02:00<00:00,  2.54it/s, loss=0.0139]\n",
            "Validate Epoch 17: 100%|██████████| 77/77 [00:10<00:00,  7.05it/s, loss=0.0181]\n"
          ]
        },
        {
          "name": "stdout",
          "output_type": "stream",
          "text": [
            "early stopping: 3 epochs without improvement\n",
            "Training complete.\n"
          ]
        }
      ],
      "source": [
        "train_loader, val_loader = create_train_valid_loaders(\n",
        "    f\"partition_{current_partition}_train.json\",\n",
        "    f\"partition_{current_partition}_val.json\",\n",
        "    \"partitions\",\n",
        "    batch_size=16,\n",
        ")\n",
        "best_model_path = os.path.join(\n",
        "    \"models\", f\"best_model_partition_{current_partition}.pth\"\n",
        ")\n",
        "last_checkpoint_path = os.path.join(\n",
        "    \"models\", f\"last_checkpoint_partition_{current_partition}.pth\"\n",
        ")\n",
        "optimizer = optim.Adam(model.parameters(), lr=0.00001)\n",
        "train_model(\n",
        "    model,\n",
        "    train_loader,\n",
        "    val_loader,\n",
        "    best_model_path,\n",
        "    last_checkpoint_path,\n",
        "    criterion,\n",
        "    optimizer,\n",
        "    num_epochs=50,\n",
        "    device=DEVICE,\n",
        "    early_stopping_patience=3,\n",
        ")"
      ]
    },
    {
      "cell_type": "code",
      "execution_count": 10,
      "metadata": {},
      "outputs": [
        {
          "name": "stderr",
          "output_type": "stream",
          "text": [
            "Validate Epoch test: 100%|██████████| 1941/1941 [04:53<00:00,  6.62it/s, loss=0.0201]\n",
            "Validate Epoch partition_5_train: 100%|██████████| 307/307 [00:50<00:00,  6.05it/s, loss=0.0164]\n",
            "Validate Epoch partition_5_val: 100%|██████████| 77/77 [00:12<00:00,  6.09it/s, loss=0.0192]\n"
          ]
        }
      ],
      "source": [
        "#Cargar mejor modelo de la particion actual\n",
        "model.load_state_dict(torch.load(best_model_path,weights_only=True))\n",
        "test_model(model,criterion,device=DEVICE,batch_size=16)\n",
        "create_next_partitions(current_partition,model,criterion,device=DEVICE)"
      ]
    },
    {
      "cell_type": "code",
      "execution_count": 7,
      "metadata": {},
      "outputs": [],
      "source": [
        "current_partition=5"
      ]
    },
    {
      "cell_type": "code",
      "execution_count": 8,
      "metadata": {},
      "outputs": [
        {
          "name": "stdout",
          "output_type": "stream",
          "text": [
            "Epoch [8/50]\n"
          ]
        },
        {
          "name": "stderr",
          "output_type": "stream",
          "text": [
            "Train Epoch 8: 100%|██████████| 307/307 [02:08<00:00,  2.40it/s, WMAPE=4.54, DICE=0.228, DPEAKS=124, Loss=0.013]\n",
            "Validate Epoch 8: 100%|██████████| 77/77 [00:11<00:00,  6.61it/s, WMAPE=5.91, DICE=0.289, DPEAKS=146, Loss=0.0178]\n"
          ]
        },
        {
          "name": "stdout",
          "output_type": "stream",
          "text": [
            "Epoch [9/50]\n"
          ]
        },
        {
          "name": "stderr",
          "output_type": "stream",
          "text": [
            "Train Epoch 9: 100%|██████████| 307/307 [02:07<00:00,  2.41it/s, WMAPE=4.5, DICE=0.224, DPEAKS=123, Loss=0.0128]\n",
            "Validate Epoch 9: 100%|██████████| 77/77 [00:11<00:00,  6.56it/s, WMAPE=5.66, DICE=0.289, DPEAKS=150, Loss=0.0196]\n"
          ]
        },
        {
          "name": "stdout",
          "output_type": "stream",
          "text": [
            "early stopping: 3 epochs without improvement\n",
            "Training complete.\n"
          ]
        }
      ],
      "source": [
        "train_loader, val_loader = create_train_valid_loaders(\n",
        "    f\"partition_{current_partition}_train.json\",\n",
        "    f\"partition_{current_partition}_val.json\",\n",
        "    \"partitions\",\n",
        "    batch_size=16,\n",
        ")\n",
        "best_model_path = os.path.join(\n",
        "    \"models\", f\"best_model_partition_{current_partition}.pth\"\n",
        ")\n",
        "last_checkpoint_path = os.path.join(\n",
        "    \"models\", f\"last_checkpoint_partition_{current_partition}.pth\"\n",
        ")\n",
        "optimizer = optim.Adam(model.parameters(), lr=0.00001)\n",
        "train_model(\n",
        "    model,\n",
        "    train_loader,\n",
        "    val_loader,\n",
        "    best_model_path,\n",
        "    last_checkpoint_path,\n",
        "    criterion,\n",
        "    optimizer,\n",
        "    num_epochs=50,\n",
        "    device=DEVICE,\n",
        "    early_stopping_patience=3,\n",
        ")"
      ]
    },
    {
      "cell_type": "code",
      "execution_count": 9,
      "metadata": {},
      "outputs": [
        {
          "name": "stderr",
          "output_type": "stream",
          "text": [
            "Validate Epoch test: 100%|██████████| 1941/1941 [04:56<00:00,  6.54it/s, WMAPE=4.41, DICE=0.272, DPEAKS=125, Loss=0.0174]\n",
            "Validate Epoch partition_6_train: 100%|██████████| 307/307 [00:51<00:00,  5.97it/s, WMAPE=4.37, DICE=0.271, DPEAKS=123, Loss=0.0175]\n",
            "Validate Epoch partition_6_val: 100%|██████████| 77/77 [00:12<00:00,  6.01it/s, WMAPE=4.67, DICE=0.272, DPEAKS=128, Loss=0.0176]\n"
          ]
        }
      ],
      "source": [
        "#Cargar mejor modelo de la particion actual\n",
        "model.load_state_dict(torch.load(best_model_path,weights_only=True))\n",
        "test_model(model,criterion,device=DEVICE,batch_size=16)\n",
        "create_next_partitions(current_partition,model,criterion,device=DEVICE)"
      ]
    },
    {
      "cell_type": "code",
      "execution_count": 7,
      "metadata": {},
      "outputs": [
        {
          "name": "stderr",
          "output_type": "stream",
          "text": [
            "                                                                                        \r"
          ]
        }
      ],
      "source": [
        "current_partition=3\n",
        "best_model_path = os.path.join(\n",
        "    \"models\", f\"best_model_partition_{current_partition}.pth\"\n",
        ")\n",
        "model.load_state_dict(torch.load(best_model_path,weights_only=True))\n",
        "create_submission(model, \"partition_3\",submission_path=\"submissions\",device=DEVICE)"
      ]
    },
    {
      "cell_type": "code",
      "execution_count": null,
      "metadata": {},
      "outputs": [],
      "source": []
    }
  ],
  "metadata": {
    "accelerator": "GPU",
    "colab": {
      "gpuType": "T4",
      "provenance": []
    },
    "kernelspec": {
      "display_name": "Python 3",
      "name": "python3"
    },
    "language_info": {
      "codemirror_mode": {
        "name": "ipython",
        "version": 3
      },
      "file_extension": ".py",
      "mimetype": "text/x-python",
      "name": "python",
      "nbconvert_exporter": "python",
      "pygments_lexer": "ipython3",
      "version": "3.12.5"
    }
  },
  "nbformat": 4,
  "nbformat_minor": 0
}
