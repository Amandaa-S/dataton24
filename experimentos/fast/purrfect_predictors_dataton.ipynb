{
  "cells": [
    {
      "cell_type": "markdown",
      "metadata": {},
      "source": [
        "## Carga modulo comun"
      ]
    },
    {
      "cell_type": "code",
      "execution_count": 1,
      "metadata": {},
      "outputs": [],
      "source": [
        "import sys\n",
        "import os\n",
        "sys.path.append(os.path.abspath('../../common'))"
      ]
    },
    {
      "cell_type": "code",
      "execution_count": 2,
      "metadata": {},
      "outputs": [],
      "source": [
        "import torch\n",
        "import torch.nn as nn\n",
        "import torch.nn.functional as F\n",
        "\n",
        "from purrfect.dataset import load_partition,save_partition, create_train_valid_loaders, RandomTransform\n",
        "\n",
        "from purrfect.training import train_model\n",
        "import torch.optim as optim\n",
        "\n",
        "from purrfect.active_learning import create_new_partition, test_model\n",
        "\n",
        "from sklearn.model_selection import train_test_split\n",
        "#from purrfect.submission import create_submission"
      ]
    },
    {
      "cell_type": "code",
      "execution_count": 3,
      "metadata": {},
      "outputs": [],
      "source": [
        "DEVICE = torch.device('cuda' if torch.cuda.is_available() else 'cpu')\n",
        "BATCH_SIZE = 32*2\n",
        "USE_AUTOCAST = True\n",
        "EARLY_STOPPING_PATIENCE = 5\n",
        "EARLY_STOPPING_GRACE_PERIOD = 8"
      ]
    },
    {
      "cell_type": "markdown",
      "metadata": {},
      "source": [
        "## Definición modelo"
      ]
    },
    {
      "cell_type": "code",
      "execution_count": 4,
      "metadata": {},
      "outputs": [],
      "source": [
        "class GradientMagnitude(nn.Module):\n",
        "    def __init__(self):\n",
        "        super(GradientMagnitude, self).__init__()\n",
        "        # Define Sobel filters for computing gradients in x and y directions\n",
        "        sobel_x = torch.tensor([[-1, 0, 1], [-2, 0, 2], [-1, 0, 1]], dtype=torch.float32,device=DEVICE)\n",
        "        sobel_y = torch.tensor([[-1, -2, -1], [0, 0, 0], [1, 2, 1]], dtype=torch.float32,device=DEVICE)\n",
        "        \n",
        "        # Sobel filters need to be reshaped for convolution: (out_channels, in_channels, height, width)\n",
        "        # Apply the filters across all channels by expanding them to shape (C, 1, 3, 3)\n",
        "        self.sobel_x = sobel_x.view(1, 1, 3, 3)\n",
        "        self.sobel_y = sobel_y.view(1, 1, 3, 3)\n",
        "    \n",
        "    def forward(self, x):\n",
        "        B, C, W, H = x.shape\n",
        "        \n",
        "        # Apply Sobel filters to compute gradients in x and y directions for all channels\n",
        "        grad_x = F.conv2d(x, self.sobel_x.expand(C, 1, 3, 3), groups=C, padding=1)\n",
        "        grad_y = F.conv2d(x, self.sobel_y.expand(C, 1, 3, 3), groups=C, padding=1)\n",
        "        \n",
        "        # Compute gradient magnitude: sqrt(grad_x^2 + grad_y^2)\n",
        "        grad_mag = torch.sqrt(grad_x**2 + grad_y**2)\n",
        "        \n",
        "        return grad_mag\n",
        "def aggregate_similarity_cosine(tensor):\n",
        "    # tensor is of shape (B, 2, H, W)\n",
        "    #B, C, H, W = tensor.shape\n",
        "    #assert C == 2, \"The channel dimension must represent 2D vectors (x, y components)\"\n",
        "\n",
        "    # Define shifts for neighboring vectors (up, down, left, right) and stack them\n",
        "    shift_up = F.pad(tensor[:, :, 1:, :], (0, 0, 0, 1))  # Shift up\n",
        "    shift_down = F.pad(tensor[:, :, :-1, :], (0, 0, 1, 0))  # Shift down\n",
        "    shift_left = F.pad(tensor[:, :, :, 1:], (0, 1, 0, 0))  # Shift left\n",
        "    shift_right = F.pad(tensor[:, :, :, :-1], (1, 0, 0, 0))  # Shift right\n",
        "\n",
        "    # Stack shifted neighbors into a single tensor of shape (B, 2, H, W, 4)\n",
        "    neighbors = torch.stack((shift_up, shift_down, shift_left, shift_right), dim=4)  # (B, 2, H, W, 4)\n",
        "    # Calculate dot product for all neighbors\n",
        "    dot_product = (tensor.unsqueeze(4) * neighbors).sum(dim=1,keepdim=True)  # (B, 1, H, W, 4)\n",
        "    # Calculate mean, max, and min along the neighbor dimension (dim=4)\n",
        "    #mean_similarity = dot_product.mean(dim=4, keepdim=True)  # (B, 1, H, W, 1)\n",
        "    max_similarity = dot_product.max(dim=4, keepdim=True).values  # (B, 1, H, W, 1)\n",
        "    min_similarity = dot_product.min(dim=4, keepdim=True).values  # (B, 1, H, W, 1)\n",
        "\n",
        "    # Concatenate mean, max, and min similarities along the channel dimension\n",
        "    aggregate_similarity = torch.cat((max_similarity, min_similarity), dim=1)  # (B, 3, H, W,1)\n",
        "\n",
        "    return aggregate_similarity.squeeze(-1)  # (B, 3, H, W)\n",
        "class ChannelAdder(nn.Module):\n",
        "    def __init__(self):\n",
        "        super(ChannelAdder, self).__init__()\n",
        "        self.grad_magnitude = GradientMagnitude()\n",
        "\n",
        "    def forward(self, x):\n",
        "        \n",
        "        # Extract the first two channels (e1 and e2) and the third channel (delta) directly\n",
        "        e = x[:, :2, :, :]  # Shape (B, 2, H, W)\n",
        "        delta = x[:, 2:3, :, :]  # Shape (B, 1, H, W)\n",
        "\n",
        "        # Calculate the magnitude in one step (B, 1, H, W)\n",
        "        magnitude = torch.norm(e, dim=1, keepdim=True)  # Efficient norm calculation\n",
        "\n",
        "        # Calculate the angle using atan2 to avoid division by zero and handle quadrant\n",
        "        angle = 0.5 * torch.atan2(e[:, 0, :, :], e[:, 1, :, :]).unsqueeze(1)  # (B, 1, H, W)\n",
        "\n",
        "        # Compute the weighted components e1_weighted and e2_weighted\n",
        "        e_norm = e / magnitude  # Split along channel dimension\n",
        "\n",
        "        cross_product = e[:, 0:1, :, :] * e[:, 1:2, :, :]  # Efficient cross-product (B, 1, H, W)\n",
        "\n",
        "        simmilarity = aggregate_similarity_cosine(e_norm)\n",
        "        # Concatenate all the channels (original and new) into the output tensor\n",
        "        output = torch.cat([\n",
        "            e,\n",
        "            magnitude,\n",
        "            angle,\n",
        "            e_norm,\n",
        "            self.grad_magnitude(e),\n",
        "            #cross_product,\n",
        "            #delta,\n",
        "            simmilarity #min max and mean simmilarity\n",
        "        ], dim=1)\n",
        "        #output = torch.cat([output, self.grad_magnitude(output)], dim=1)\n",
        "\n",
        "        return output"
      ]
    },
    {
      "cell_type": "code",
      "execution_count": 5,
      "metadata": {},
      "outputs": [],
      "source": [
        "BN_MOMENTUM = 0.1\n",
        "def kaiming_init(module,\n",
        "                 a=0,\n",
        "                 mode='fan_out',\n",
        "                 nonlinearity='relu',\n",
        "                 bias=0,\n",
        "                 distribution='normal'):\n",
        "    assert distribution in ['uniform', 'normal']\n",
        "    if distribution == 'uniform':\n",
        "        nn.init.kaiming_uniform_(\n",
        "            module.weight, a=a, mode=mode, nonlinearity=nonlinearity)\n",
        "    else:\n",
        "        nn.init.kaiming_normal_(\n",
        "            module.weight, a=a, mode=mode, nonlinearity=nonlinearity)\n",
        "    if hasattr(module, 'bias') and module.bias is not None:\n",
        "        nn.init.constant_(module.bias, bias)\n",
        "class PA(nn.Module):\n",
        "    def __init__(self, inplanes, planes, kernel_size=1, stride=1):\n",
        "        super(PA, self).__init__()\n",
        "\n",
        "        self.inplanes = inplanes\n",
        "        self.inter_planes = planes // 2\n",
        "        self.planes = planes\n",
        "        self.kernel_size = kernel_size\n",
        "        self.stride = stride\n",
        "        self.padding = (kernel_size - 1) // 2\n",
        "        ratio = 4\n",
        "\n",
        "        self.conv_q_right = nn.Conv2d(self.inplanes, 1, kernel_size=1, stride=stride, padding=0, bias=False)\n",
        "        self.conv_v_right = nn.Conv2d(self.inplanes, self.inter_planes, kernel_size=1, stride=stride, padding=0,\n",
        "                                      bias=False)\n",
        "        # self.conv_up = nn.Conv2d(self.inter_planes, self.planes, kernel_size=1, stride=1, padding=0, bias=False)\n",
        "        self.conv_up = nn.Sequential(\n",
        "            nn.Conv2d(self.inter_planes, self.inter_planes // ratio, kernel_size=1),\n",
        "            nn.LayerNorm([self.inter_planes // ratio, 1, 1]),\n",
        "            nn.ReLU(inplace=True),\n",
        "            nn.Conv2d(self.inter_planes // ratio, self.planes, kernel_size=1)\n",
        "        )\n",
        "        self.softmax_right = nn.Softmax(dim=2)\n",
        "        self.sigmoid = nn.Sigmoid()\n",
        "\n",
        "        self.conv_q_left = nn.Conv2d(self.inplanes, self.inter_planes, kernel_size=1, stride=stride, padding=0,\n",
        "                                     bias=False)  # g\n",
        "        self.avg_pool = nn.AdaptiveAvgPool2d(1)\n",
        "        self.conv_v_left = nn.Conv2d(self.inplanes, self.inter_planes, kernel_size=1, stride=stride, padding=0,\n",
        "                                     bias=False)  # theta\n",
        "        self.softmax_left = nn.Softmax(dim=2)\n",
        "\n",
        "        self.reset_parameters()\n",
        "    def reset_parameters(self):\n",
        "        kaiming_init(self.conv_q_right, mode='fan_in')\n",
        "        kaiming_init(self.conv_v_right, mode='fan_in')\n",
        "        kaiming_init(self.conv_q_left, mode='fan_in')\n",
        "        kaiming_init(self.conv_v_left, mode='fan_in')\n",
        "\n",
        "        self.conv_q_right.inited = True\n",
        "        self.conv_v_right.inited = True\n",
        "        self.conv_q_left.inited = True\n",
        "        self.conv_v_left.inited = True\n",
        "\n",
        "    def spatial_pool_mask(self, x):\n",
        "        input_x = self.conv_v_right(x)\n",
        "\n",
        "        batch, channel, height, width = input_x.size()\n",
        "\n",
        "        # [N, IC, H*W]\n",
        "        input_x = input_x.view(batch, channel, height * width)\n",
        "\n",
        "        # [N, 1, H, W]\n",
        "        context_mask = self.conv_q_right(x)\n",
        "\n",
        "        # [N, 1, H*W]\n",
        "        context_mask = context_mask.view(batch, 1, height * width)\n",
        "\n",
        "        # [N, 1, H*W]\n",
        "        context_mask = self.softmax_right(context_mask)\n",
        "\n",
        "        # [N, IC, 1]\n",
        "        # context = torch.einsum('ndw,new->nde', input_x, context_mask)\n",
        "        context = torch.matmul(input_x, context_mask.transpose(1, 2))\n",
        "\n",
        "        # [N, IC, 1, 1]\n",
        "        context = context.unsqueeze(-1)\n",
        "\n",
        "        # [N, OC, 1, 1]\n",
        "        context = self.conv_up(context)\n",
        "\n",
        "        # [N, OC, 1, 1]\n",
        "        mask_ch = self.sigmoid(context)\n",
        "        return mask_ch\n",
        "\n",
        "    def channel_pool_mask(self, x):\n",
        "        # [N, IC, H, W]\n",
        "        g_x = self.conv_q_left(x)\n",
        "\n",
        "        batch, channel, height, width = g_x.size()\n",
        "\n",
        "        # [N, IC, 1, 1]\n",
        "        avg_x = self.avg_pool(g_x)\n",
        "\n",
        "        batch, channel, avg_x_h, avg_x_w = avg_x.size()\n",
        "\n",
        "        # [N, 1, IC]\n",
        "        avg_x = avg_x.view(batch, channel, avg_x_h * avg_x_w).permute(0, 2, 1)\n",
        "\n",
        "        # [N, IC, H*W]\n",
        "        theta_x = self.conv_v_left(x).view(batch, self.inter_planes, height * width)\n",
        "\n",
        "        # [N, IC, H*W]\n",
        "        theta_x = self.softmax_left(theta_x)\n",
        "\n",
        "        # [N, 1, H*W]\n",
        "        # context = torch.einsum('nde,new->ndw', avg_x, theta_x)\n",
        "        context = torch.matmul(avg_x, theta_x)\n",
        "\n",
        "        # [N, 1, H, W]\n",
        "        context = context.view(batch, 1, height, width)\n",
        "\n",
        "        # [N, 1, H, W]\n",
        "        mask_sp = self.sigmoid(context)\n",
        "        return mask_sp\n",
        "    def forward(self, x, y):\n",
        "        sp_mask = self.spatial_pool_mask(y)\n",
        "        ch_mask = self.channel_pool_mask(y)\n",
        "        return x * sp_mask * ch_mask\n",
        "    \n",
        "\n",
        "class PSA(nn.Module):\n",
        "    def __init__(self, inplanes, planes, kernel_size=1, stride=1):\n",
        "        super(PSA, self).__init__()\n",
        "        self.pa = PA(inplanes, planes, kernel_size, stride)\n",
        "\n",
        "    def forward(self, x):\n",
        "        return self.pa(x,x)\n",
        "\n",
        "class ConBnRelu(nn.Module):\n",
        "    def __init__(self, in_channels, out_channels, kernel_size, stride=1, padding=0, dilation=1,bias=True,use_bn=False,use_relu=True):\n",
        "        super(ConBnRelu, self).__init__()\n",
        "\n",
        "        self.conv = nn.Conv2d(in_channels, out_channels, kernel_size=kernel_size, stride=stride, padding=padding,\n",
        "                              dilation=dilation, bias=bias)\n",
        "        if use_bn and use_relu:\n",
        "            self.output = nn.Sequential(\n",
        "                nn.BatchNorm2d(out_channels, momentum=BN_MOMENTUM),\n",
        "                nn.ReLU(inplace=True)\n",
        "            )\n",
        "        elif use_bn:\n",
        "            self.output = nn.BatchNorm2d(out_channels, momentum=BN_MOMENTUM)\n",
        "        elif use_relu:\n",
        "            self.output = nn.ReLU(inplace=True)\n",
        "        else:\n",
        "            self.output = nn.Identity()\n",
        "        \n",
        "        \n",
        "    def forward(self, x):\n",
        "        return self.output(self.conv(x))\n",
        "class ResBlock(nn.Module):\n",
        "    expansion = 1\n",
        "\n",
        "    def __init__(self, in_channels, out_channels, use_attention=False):\n",
        "        super(ResBlock, self).__init__()\n",
        "        self.rescale = nn.Conv2d(in_channels, out_channels, kernel_size=1, stride=1, padding=0, bias=True)\n",
        "\n",
        "        if use_attention:\n",
        "            self.seq1 = nn.Sequential(\n",
        "                ConBnRelu(out_channels, out_channels, kernel_size=3, stride=1, padding=1, bias=True),\n",
        "                PSA(out_channels, out_channels),\n",
        "                #ConBnRelu(out_channels, out_channels, kernel_size=3, stride=1, padding=1, bias=True),\n",
        "                #PSA(out_channels, out_channels),\n",
        "                ConBnRelu(out_channels, out_channels, kernel_size=3, stride=1, padding=1, bias=True,use_relu=False),\n",
        "            )\n",
        "            self.seq2 = nn.Sequential(\n",
        "                ConBnRelu(out_channels, out_channels, kernel_size=3, stride=1, padding=1, bias=True),\n",
        "                PSA(out_channels, out_channels),\n",
        "                #ConBnRelu(out_channels, out_channels, kernel_size=3, stride=1, padding=1, bias=True),\n",
        "                #PSA(out_channels, out_channels),\n",
        "                ConBnRelu(out_channels, out_channels, kernel_size=3, stride=1, padding=1, bias=True,use_relu=False)\n",
        "            )\n",
        "        else:\n",
        "            self.seq1 = nn.Sequential(\n",
        "                ConBnRelu(out_channels, out_channels, kernel_size=3, stride=1, padding=1, bias=True),\n",
        "                #ConBnRelu(out_channels, out_channels, kernel_size=3, stride=1, padding=1, bias=True),\n",
        "                ConBnRelu(out_channels, out_channels, kernel_size=3, stride=1, padding=1, bias=True,use_relu=False)\n",
        "            )\n",
        "            self.seq2 = nn.Sequential(\n",
        "                ConBnRelu(out_channels, out_channels, kernel_size=3, stride=1, padding=1, bias=True),\n",
        "                #ConBnRelu(out_channels, out_channels, kernel_size=3, stride=1, padding=1, bias=True),\n",
        "                ConBnRelu(out_channels, out_channels, kernel_size=3, stride=1, padding=1, bias=True, use_relu=False)\n",
        "            )\n",
        "\n",
        "        \n",
        "\n",
        "    def forward(self, x):\n",
        "        x = self.rescale(x)\n",
        "        x = F.relu(self.seq1(x) + x, inplace=True)\n",
        "        x = F.relu(self.seq2(x) + x, inplace=True)\n",
        "        return x\n",
        "\n",
        "class UNetEncoder(nn.Module):\n",
        "    def __init__(self, i_ch=16):\n",
        "        super(UNetEncoder, self).__init__()\n",
        "        # Encoder\n",
        "        self.encoder1 = nn.Sequential(\n",
        "            nn.AvgPool2d(2),  # i_chx128x128 -> i_chx64x64\n",
        "            ResBlock(i_ch, i_ch * 2)  # i_chx64x64 -> (i_ch * 2)x64x64\n",
        "        )\n",
        "        self.encoder2 = nn.Sequential(\n",
        "            nn.AvgPool2d(2),  # (i_ch * 2)x64x64 -> (i_ch * 2)x32x32\n",
        "            ResBlock(i_ch * 2, i_ch * 4)  # (i_ch * 2)x32x32 -> (i_ch * 4)x32x32\n",
        "        )\n",
        "        self.encoder3 = nn.Sequential(\n",
        "            nn.AvgPool2d(2),  # (i_ch * 4)x32x32 -> (i_ch * 4)x16x16\n",
        "            ResBlock(i_ch * 4, i_ch * 8)  # (i_ch * 4)x16x16 -> (i_ch * 8)x16x16\n",
        "        )\n",
        "        self.encoder4 = nn.Sequential(\n",
        "            nn.AvgPool2d(2),  # (i_ch * 8)x16x16 -> (i_ch * 8)x8x8\n",
        "            ResBlock(i_ch * 8, i_ch * 16)  # (i_ch * 8)x8x8 -> (i_ch * 16)x8x8\n",
        "        )\n",
        "    def forward(self, x):\n",
        "        e1 = self.encoder1(x)\n",
        "        e2 = self.encoder2(e1)\n",
        "        e3 = self.encoder3(e2)\n",
        "        e4 = self.encoder4(e3)\n",
        "        return e1, e2, e3, e4\n",
        "class UNetDecoder(nn.Module):\n",
        "    def __init__(self, i_ch=16):\n",
        "        super(UNetDecoder, self).__init__()\n",
        "        # Decoder\n",
        "        self.attention4 = PA(i_ch * 16, i_ch * 16)\n",
        "        self.upconv4 = nn.ConvTranspose2d(i_ch * 16*2, i_ch * 16, kernel_size=2, stride=2)  # (i_ch * 16)x8x8 -> (i_ch * 8)x16x16\n",
        "        self.decoder4 = ResBlock(i_ch * 16, i_ch * 8)  # (i_ch * 16)x16x16 -> (i_ch * 8)x16x16\n",
        "\n",
        "        self.attention3 = PA(i_ch * 8, i_ch * 8)\n",
        "        self.upconv3 = nn.ConvTranspose2d(i_ch * 8*2, i_ch * 8, kernel_size=2, stride=2)  # (i_ch * 8)x16x16 -> (i_ch * 4)x32x32\n",
        "        self.decoder3 = ResBlock(i_ch * 8, i_ch * 4)  # (i_ch * 8)x32x32 -> (i_ch * 4)x32x32\n",
        "\n",
        "        self.attention2 = PA(i_ch * 4, i_ch * 4)\n",
        "        self.upconv2 = nn.ConvTranspose2d(i_ch * 4*2, i_ch * 4, kernel_size=2, stride=2)  # (i_ch * 4)x32x32 -> (i_ch * 2)x64x64\n",
        "        self.decoder2 = ResBlock(i_ch * 4, i_ch * 2)  # (i_ch * 4)x64x64 -> (i_ch * 2)x64x64\n",
        "\n",
        "        self.attention1 = PA(i_ch*2, i_ch*2)\n",
        "        self.upconv1 = nn.ConvTranspose2d(i_ch * 2*2, i_ch*2, kernel_size=2, stride=2)  # (i_ch * 2)x64x64 -> i_chx128x128\n",
        "        self.decoder1 = ResBlock(i_ch * 2, i_ch)  # (i_ch * 2)x128x128 -> i_chx128x128\n",
        "    def forward(self, x, e1, e2, e3, e4):\n",
        "        d4 = torch.cat((self.attention4(e4, x), x), dim=1)\n",
        "        d4 = self.upconv4(d4)\n",
        "        d4 = self.decoder4(d4)\n",
        "\n",
        "        d3 = torch.cat((self.attention3(e3, d4), d4), dim=1)\n",
        "        d3 = self.upconv3(d3)\n",
        "        d3 = self.decoder3(d3)\n",
        "\n",
        "        \n",
        "        d2 = torch.cat((self.attention2(e2, d3), d3), dim=1)\n",
        "        d2 = self.upconv2(d2)\n",
        "        d2 = self.decoder2(d2)\n",
        "\n",
        "        \n",
        "        d1 = torch.cat((self.attention1(e1, d2), d2), dim=1)\n",
        "        d1 = self.upconv1(d1)\n",
        "        d1 = self.decoder1(d1)\n",
        "        return d1\n",
        "class UNetBottleneck(nn.Module):\n",
        "    def __init__(self,input_ch=16):\n",
        "        super(UNetBottleneck, self).__init__()\n",
        "        self.bottleneck = nn.Sequential(\n",
        "            ResBlock(input_ch * 16, input_ch*16),\n",
        "            ResBlock(input_ch * 16, input_ch*16)\n",
        "        )\n",
        "    def forward(self, x):\n",
        "        return self.bottleneck(x)\n",
        "class MultiHeadUNet(nn.Module):\n",
        "    def __init__(self, in_channels, out_channels, i_ch=16):\n",
        "        super(MultiHeadUNet, self).__init__()\n",
        "        \n",
        "        self.embedder1 = nn.Sequential(\n",
        "            ResBlock(in_channels, i_ch),  # in_channelsx128x128 -> i_chx128x128\n",
        "            ResBlock(i_ch, i_ch),  # i_chx128x128 -> i_chx128x128\n",
        "        )\n",
        "        self.embedder2 = nn.Sequential(\n",
        "            ResBlock(in_channels, i_ch),  # in_channelsx128x128 -> i_chx128x128\n",
        "            ResBlock(i_ch, i_ch),  # i_chx128x128 -> i_chx128x128\n",
        "        )\n",
        "        self.embedder3 = nn.Sequential(\n",
        "            ResBlock(in_channels, i_ch),  # in_channelsx128x128 -> i_chx128x128\n",
        "            ResBlock(i_ch, i_ch),  # i_chx128x128 -> i_chx128x128\n",
        "        )\n",
        "\n",
        "        self.embedder4 = nn.Sequential(\n",
        "            ResBlock(in_channels, i_ch),  # in_channelsx128x128 -> i_chx128x128\n",
        "            ResBlock(i_ch, i_ch),  # i_chx128x128 -> i_chx128x128\n",
        "        )\n",
        "\n",
        "        self.embedder5 = nn.Sequential(\n",
        "            ResBlock(in_channels, i_ch),  # in_channelsx128x128 -> i_chx128x128\n",
        "            ResBlock(i_ch, i_ch),  # i_chx128x128 -> i_chx128x128\n",
        "        )\n",
        "        \n",
        "        self.encoder1 = UNetEncoder(i_ch)\n",
        "        self.encoder2 = UNetEncoder(i_ch)\n",
        "        self.encoder3 = UNetEncoder(i_ch)\n",
        "        self.encoder4 = UNetEncoder(i_ch)\n",
        "        self.encoder5 = UNetEncoder(i_ch)\n",
        "\n",
        "        self.compress_e1 = nn.Conv2d(i_ch * 2 * 5, i_ch * 2, kernel_size=1)\n",
        "        self.compress_e2 = nn.Conv2d(i_ch * 4 * 5, i_ch * 4, kernel_size=1)\n",
        "        self.compress_e3 = nn.Conv2d(i_ch * 8 * 5, i_ch * 8, kernel_size=1)\n",
        "        self.compress_e4 = nn.Conv2d(i_ch * 16 * 5, i_ch * 16, kernel_size=1)\n",
        "\n",
        "        self.bottleneck = UNetBottleneck(i_ch)\n",
        "        self.decoder = UNetDecoder(i_ch)\n",
        "        self.output = nn.Conv2d(i_ch, out_channels, kernel_size=1)\n",
        "    def freeze_encoder(self,freeze=True):\n",
        "        for param in self.encoder1.parameters():\n",
        "            param.requires_grad = not freeze\n",
        "        for param in self.encoder2.parameters():\n",
        "            param.requires_grad = not freeze\n",
        "        for param in self.encoder3.parameters():\n",
        "            param.requires_grad = not freeze\n",
        "        for param in self.encoder4.parameters():\n",
        "            param.requires_grad = not freeze\n",
        "        for param in self.encoder5.parameters():\n",
        "            param.requires_grad = not freeze\n",
        "    def forward(self, x1,x2,x3,x4,x5):\n",
        "        e1_1,e2_1,e3_1,e4_1 = self.encoder1(self.embedder1(x1))\n",
        "        e1_2,e2_2,e3_2,e4_2 = self.encoder2(self.embedder2(x2))\n",
        "        e1_3,e2_3,e3_3,e4_3 = self.encoder3(self.embedder3(x3))\n",
        "        e1_4,e2_4,e3_4,e4_4 = self.encoder4(self.embedder4(x4))\n",
        "        e1_5,e2_5,e3_5,e4_5 = self.encoder5(self.embedder5(x5))\n",
        "\n",
        "        e1 = torch.cat([e1_1,e1_2,e1_3,e1_4,e1_5],dim=1)\n",
        "        e2 = torch.cat([e2_1,e2_2,e2_3,e2_4,e2_5],dim=1)\n",
        "        e3 = torch.cat([e3_1,e3_2,e3_3,e3_4,e3_5],dim=1)\n",
        "        e4 = torch.cat([e4_1,e4_2,e4_3,e4_4,e4_5],dim=1)\n",
        "\n",
        "        e1 = self.compress_e1(e1)\n",
        "        e2 = self.compress_e2(e2)\n",
        "        e3 = self.compress_e3(e3)\n",
        "        e4 = self.compress_e4(e4)\n",
        "\n",
        "        b = self.bottleneck(e4)\n",
        "        d = self.decoder(b, e1, e2, e3, e4)\n",
        "        return self.output(d)\n",
        "\n",
        "class KappaPredictor(nn.Module):\n",
        "    def __init__(self):\n",
        "        super(KappaPredictor, self).__init__()\n",
        "        self.channel_adder = ChannelAdder()\n",
        "        self.bn = nn.BatchNorm2d(10)\n",
        "        self.unet = MultiHeadUNet(2, 1,i_ch=8)\n",
        "    def freeze_encoder(self,freeze=True):\n",
        "        if freeze:\n",
        "            for param in self.bn.parameters():\n",
        "                param.requires_grad = not freeze\n",
        "        self.unet.freeze_encoder(freeze)\n",
        "    def forward(self, x):\n",
        "        x = self.channel_adder(x)\n",
        "        x = self.bn(x)\n",
        "        x1,x2,x3,x4,x5 = torch.split(x, 2, dim=1)\n",
        "        out = self.unet(x1,x2,x3,x4,x5)\n",
        "        return out"
      ]
    },
    {
      "cell_type": "markdown",
      "metadata": {},
      "source": [
        "## Creación particion inicial"
      ]
    },
    {
      "cell_type": "code",
      "execution_count": 6,
      "metadata": {},
      "outputs": [],
      "source": [
        "def create_next_partitions(current_partition,k=1):#Creacion de particiones train y valid\n",
        "    init_partition = []\n",
        "    for i in range(k):\n",
        "        init_partition += load_partition(f\"partition_{k*current_partition+(i+1)}.json\")\n",
        "        #print(f\"partition_{k*current_partition+(i+1)}.json\")\n",
        "\n",
        "    train_partition, val_partition = train_test_split(init_partition, test_size=0.2, random_state=42)\n",
        "    save_partition(f\"partition_{current_partition+1}_train.json\",\"partitions\",train_partition)\n",
        "    save_partition(f\"partition_{current_partition+1}_val.json\",\"partitions\",val_partition)"
      ]
    },
    {
      "cell_type": "code",
      "execution_count": 7,
      "metadata": {},
      "outputs": [],
      "source": [
        "def load_best_model_so_far(model, last_saved_partition):\n",
        "    best_loss = float('inf')\n",
        "    best_partition = 0\n",
        "    for partition in range(1,last_saved_partition+1):\n",
        "        checkpoint = torch.load(f\"models/last_checkpoint_partition_{partition}.pth\",weights_only=False)\n",
        "        if checkpoint['best_loss'] < best_loss:\n",
        "            best_loss = checkpoint['best_loss']\n",
        "            best_partition = partition\n",
        "    model.load_state_dict(torch.load(f\"models/best_model_partition_{best_partition}.pth\",weights_only=True))\n",
        "    print(f\"Loaded best model from partition {best_partition} with loss {best_loss}\")\n",
        "def load_last_best_model(model, last_saved_partition):\n",
        "    #for from last_saved_partition to 1 looking if exists a best model file. if there is then load it and return\n",
        "    for partition in range(last_saved_partition,0,-1):\n",
        "        if os.path.exists(f\"models/best_model_partition_{partition}.pth\"):\n",
        "            model.load_state_dict(torch.load(f\"models/best_model_partition_{partition}.pth\",weights_only=True))\n",
        "            print(f\"Loaded best model from partition {partition}\")\n",
        "            return\n",
        "    print(f\"There is no best model saved\")"
      ]
    },
    {
      "cell_type": "code",
      "execution_count": 8,
      "metadata": {},
      "outputs": [],
      "source": [
        "create_next_partitions(0,1)"
      ]
    },
    {
      "cell_type": "code",
      "execution_count": 9,
      "metadata": {},
      "outputs": [],
      "source": [
        "def many_partitions_v2(start,end,model,criterion,transform=None,full_frecuency=5):\n",
        "    for current_partition in range(start,end):\n",
        "        if current_partition %full_frecuency==1:\n",
        "            print(f\"Partition {current_partition}: training full\")\n",
        "            model.freeze_encoder(False)\n",
        "        else:\n",
        "            print(f\"Partition {current_partition}: training decoder\")\n",
        "            model.freeze_encoder(True)\n",
        "        load_last_best_model(model,current_partition-1)\n",
        "        create_next_partitions(current_partition-1)\n",
        "        train_loader, val_loader = create_train_valid_loaders(\n",
        "            f\"partition_{current_partition}_train.json\",\n",
        "            f\"partition_{current_partition}_val.json\",\n",
        "            \"partitions\",\n",
        "            batch_size=BATCH_SIZE,\n",
        "            transform=transform,\n",
        "        )\n",
        "        best_model_path = os.path.join(\n",
        "            \"models\", f\"best_model_partition_{current_partition}.pth\"\n",
        "        )\n",
        "        last_checkpoint_path = os.path.join(\n",
        "            \"models\", f\"last_checkpoint_partition_{current_partition}.pth\"\n",
        "        )\n",
        "        optimizer = optim.SGD(model.parameters(), lr=0.01, momentum=0.9, weight_decay=0.0001)\n",
        "        #optim.AdamW(model.parameters())\n",
        "        train_model(\n",
        "            model,\n",
        "            train_loader,\n",
        "            val_loader,\n",
        "            best_model_path,\n",
        "            last_checkpoint_path,\n",
        "            criterion,\n",
        "            optimizer,\n",
        "            num_epochs=100,\n",
        "            device=DEVICE,\n",
        "            early_stopping_patience=EARLY_STOPPING_PATIENCE,\n",
        "            use_autocast=USE_AUTOCAST,\n",
        "            early_stopping_grace_period=EARLY_STOPPING_GRACE_PERIOD,\n",
        "        )\n",
        "        if os.path.exists(best_model_path):\n",
        "            model.load_state_dict(torch.load(best_model_path,weights_only=True))\n",
        "            test_model(model,criterion,device=DEVICE,batch_size=BATCH_SIZE,experiment_name=f\"adamw_atunet_freeze__{current_partition}\")\n",
        "        else:\n",
        "            print(\"No best model found in partition\",current_partition)\n",
        "        "
      ]
    },
    {
      "cell_type": "markdown",
      "metadata": {},
      "source": [
        "## Carga modelo"
      ]
    },
    {
      "cell_type": "markdown",
      "metadata": {},
      "source": []
    },
    {
      "cell_type": "code",
      "execution_count": 10,
      "metadata": {},
      "outputs": [],
      "source": [
        "class L2LogLoss(nn.Module):\n",
        "    def __init__(self):\n",
        "        super(L2LogLoss, self).__init__()\n",
        "    def rescale(self, x):\n",
        "        return x.sign()*(x.abs().log1p())\n",
        "    def forward(self, y_pred, y_true):\n",
        "        return F.mse_loss(self.rescale(y_pred),self.rescale(y_true))\n",
        "class L1LogLoss(nn.Module):\n",
        "    def __init__(self):\n",
        "        super(L1LogLoss, self).__init__()\n",
        "    def rescale(self, x):\n",
        "        return x.sign()*(x.abs().log1p())\n",
        "    def forward(self, y_pred, y_true):\n",
        "        return F.l1_loss(self.rescale(y_pred),self.rescale(y_true))"
      ]
    },
    {
      "cell_type": "code",
      "execution_count": 11,
      "metadata": {},
      "outputs": [],
      "source": [
        "#Define model\n",
        "model = KappaPredictor().to(DEVICE)\n",
        "# Define Loss\n",
        "criterion = L1LogLoss()\n",
        "transform = None#RandomTransform()"
      ]
    },
    {
      "cell_type": "code",
      "execution_count": 12,
      "metadata": {},
      "outputs": [
        {
          "data": {
            "text/plain": [
              "5742735"
            ]
          },
          "execution_count": 12,
          "metadata": {},
          "output_type": "execute_result"
        }
      ],
      "source": [
        "sum([p.numel() for p in model.parameters() if p.requires_grad])"
      ]
    },
    {
      "cell_type": "code",
      "execution_count": 13,
      "metadata": {},
      "outputs": [
        {
          "name": "stdout",
          "output_type": "stream",
          "text": [
            "Partition 1: training full\n",
            "There is no best model saved\n",
            "Epoch [1/100]\n"
          ]
        },
        {
          "name": "stderr",
          "output_type": "stream",
          "text": [
            "Train Epoch 1: 100%|██████████| 77/77 [01:10<00:00,  1.09it/s, WMAPE=9.75, DICE=0.606, DPEAKS=224, Loss=0.04]\n",
            "Validate Epoch 1: 100%|██████████| 20/20 [00:09<00:00,  2.12it/s, WMAPE=3.77, DICE=0.547, DPEAKS=227, Loss=0.0252]\n"
          ]
        },
        {
          "name": "stdout",
          "output_type": "stream",
          "text": [
            "Saving best model\n",
            "Epoch [2/100]\n"
          ]
        },
        {
          "name": "stderr",
          "output_type": "stream",
          "text": [
            "Train Epoch 2: 100%|██████████| 77/77 [01:08<00:00,  1.12it/s, WMAPE=2.74, DICE=0.541, DPEAKS=225, Loss=0.0254]\n",
            "Validate Epoch 2: 100%|██████████| 20/20 [00:09<00:00,  2.13it/s, WMAPE=2.29, DICE=0.528, DPEAKS=229, Loss=0.0251]\n"
          ]
        },
        {
          "name": "stdout",
          "output_type": "stream",
          "text": [
            "Saving best model\n",
            "Epoch [3/100]\n"
          ]
        },
        {
          "name": "stderr",
          "output_type": "stream",
          "text": [
            "Train Epoch 3: 100%|██████████| 77/77 [01:08<00:00,  1.13it/s, WMAPE=2.65, DICE=0.523, DPEAKS=225, Loss=0.0254]\n",
            "Validate Epoch 3: 100%|██████████| 20/20 [00:10<00:00,  1.99it/s, WMAPE=3.32, DICE=0.512, DPEAKS=229, Loss=0.0251]\n"
          ]
        },
        {
          "name": "stdout",
          "output_type": "stream",
          "text": [
            "Saving best model\n",
            "Epoch [4/100]\n"
          ]
        },
        {
          "name": "stderr",
          "output_type": "stream",
          "text": [
            "Train Epoch 4: 100%|██████████| 77/77 [01:09<00:00,  1.10it/s, WMAPE=2.67, DICE=0.508, DPEAKS=224, Loss=0.0253]\n",
            "Validate Epoch 4: 100%|██████████| 20/20 [00:09<00:00,  2.07it/s, WMAPE=3.02, DICE=0.498, DPEAKS=230, Loss=0.025]\n"
          ]
        },
        {
          "name": "stdout",
          "output_type": "stream",
          "text": [
            "Saving best model\n",
            "Epoch [5/100]\n"
          ]
        },
        {
          "name": "stderr",
          "output_type": "stream",
          "text": [
            "Train Epoch 5: 100%|██████████| 77/77 [01:09<00:00,  1.11it/s, WMAPE=2.71, DICE=0.503, DPEAKS=224, Loss=0.0254]\n",
            "Validate Epoch 5: 100%|██████████| 20/20 [00:09<00:00,  2.01it/s, WMAPE=2.29, DICE=0.502, DPEAKS=227, Loss=0.025]\n"
          ]
        },
        {
          "name": "stdout",
          "output_type": "stream",
          "text": [
            "Epoch [6/100]\n"
          ]
        },
        {
          "name": "stderr",
          "output_type": "stream",
          "text": [
            "Train Epoch 6: 100%|██████████| 77/77 [01:08<00:00,  1.12it/s, WMAPE=2.71, DICE=0.506, DPEAKS=224, Loss=0.0253]\n",
            "Validate Epoch 6: 100%|██████████| 20/20 [00:09<00:00,  2.09it/s, WMAPE=1.92, DICE=0.509, DPEAKS=229, Loss=0.0251]\n"
          ]
        },
        {
          "name": "stdout",
          "output_type": "stream",
          "text": [
            "Epoch [7/100]\n"
          ]
        },
        {
          "name": "stderr",
          "output_type": "stream",
          "text": [
            "Train Epoch 7: 100%|██████████| 77/77 [01:09<00:00,  1.12it/s, WMAPE=2.64, DICE=0.51, DPEAKS=224, Loss=0.0253]\n",
            "Validate Epoch 7: 100%|██████████| 20/20 [00:09<00:00,  2.07it/s, WMAPE=2.73, DICE=0.505, DPEAKS=227, Loss=0.025]\n"
          ]
        },
        {
          "name": "stdout",
          "output_type": "stream",
          "text": [
            "Saving best model\n",
            "Epoch [8/100]\n"
          ]
        },
        {
          "name": "stderr",
          "output_type": "stream",
          "text": [
            "Train Epoch 8: 100%|██████████| 77/77 [01:09<00:00,  1.11it/s, WMAPE=2.68, DICE=0.51, DPEAKS=225, Loss=0.0253]\n",
            "Validate Epoch 8: 100%|██████████| 20/20 [00:10<00:00,  1.99it/s, WMAPE=2.15, DICE=0.511, DPEAKS=228, Loss=0.0251]\n"
          ]
        },
        {
          "name": "stdout",
          "output_type": "stream",
          "text": [
            "Epoch [9/100]\n"
          ]
        },
        {
          "name": "stderr",
          "output_type": "stream",
          "text": [
            "Train Epoch 9: 100%|██████████| 77/77 [01:12<00:00,  1.06it/s, WMAPE=2.65, DICE=0.511, DPEAKS=224, Loss=0.0253]\n",
            "Validate Epoch 9: 100%|██████████| 20/20 [00:09<00:00,  2.03it/s, WMAPE=3.59, DICE=0.503, DPEAKS=228, Loss=0.0251]\n"
          ]
        },
        {
          "name": "stdout",
          "output_type": "stream",
          "text": [
            "Epoch [10/100]\n"
          ]
        },
        {
          "name": "stderr",
          "output_type": "stream",
          "text": [
            "Train Epoch 10: 100%|██████████| 77/77 [01:13<00:00,  1.05it/s, WMAPE=2.68, DICE=0.513, DPEAKS=224, Loss=0.0253]\n",
            "Validate Epoch 10: 100%|██████████| 20/20 [00:10<00:00,  1.95it/s, WMAPE=2.99, DICE=0.506, DPEAKS=229, Loss=0.025]\n"
          ]
        },
        {
          "name": "stdout",
          "output_type": "stream",
          "text": [
            "Epoch [11/100]\n"
          ]
        },
        {
          "name": "stderr",
          "output_type": "stream",
          "text": [
            "Train Epoch 11: 100%|██████████| 77/77 [01:10<00:00,  1.10it/s, WMAPE=2.7, DICE=0.513, DPEAKS=224, Loss=0.0253]\n",
            "Validate Epoch 11: 100%|██████████| 20/20 [00:09<00:00,  2.08it/s, WMAPE=2, DICE=0.514, DPEAKS=230, Loss=0.0251]\n"
          ]
        },
        {
          "name": "stdout",
          "output_type": "stream",
          "text": [
            "Epoch [12/100]\n"
          ]
        },
        {
          "name": "stderr",
          "output_type": "stream",
          "text": [
            "Train Epoch 12: 100%|██████████| 77/77 [01:10<00:00,  1.10it/s, WMAPE=2.65, DICE=0.513, DPEAKS=224, Loss=0.0253]\n",
            "Validate Epoch 12: 100%|██████████| 20/20 [00:09<00:00,  2.03it/s, WMAPE=2.44, DICE=0.503, DPEAKS=230, Loss=0.025]\n"
          ]
        },
        {
          "name": "stdout",
          "output_type": "stream",
          "text": [
            "early stopping: 5 epochs without improvement\n",
            "Training complete.\n"
          ]
        },
        {
          "name": "stderr",
          "output_type": "stream",
          "text": [
            "Validate Epoch test: 100%|██████████| 486/486 [02:55<00:00,  2.78it/s, WMAPE=2.77, DICE=0.508, DPEAKS=225, Loss=0.0251]\n"
          ]
        },
        {
          "name": "stdout",
          "output_type": "stream",
          "text": [
            "Partition 2: training decoder\n",
            "Loaded best model from partition 1\n",
            "Epoch [1/100]\n"
          ]
        },
        {
          "name": "stderr",
          "output_type": "stream",
          "text": [
            "Train Epoch 1: 100%|██████████| 77/77 [01:09<00:00,  1.10it/s, WMAPE=2.78, DICE=0.51, DPEAKS=224, Loss=0.0251]\n",
            "Validate Epoch 1: 100%|██████████| 20/20 [00:10<00:00,  1.84it/s, WMAPE=2.63, DICE=0.511, DPEAKS=223, Loss=0.025]\n"
          ]
        },
        {
          "name": "stdout",
          "output_type": "stream",
          "text": [
            "Saving best model\n",
            "Epoch [2/100]\n"
          ]
        },
        {
          "name": "stderr",
          "output_type": "stream",
          "text": [
            "Train Epoch 2: 100%|██████████| 77/77 [01:05<00:00,  1.18it/s, WMAPE=2.8, DICE=0.512, DPEAKS=224, Loss=0.0251]\n",
            "Validate Epoch 2: 100%|██████████| 20/20 [00:09<00:00,  2.02it/s, WMAPE=3.45, DICE=0.506, DPEAKS=223, Loss=0.025]\n"
          ]
        },
        {
          "name": "stdout",
          "output_type": "stream",
          "text": [
            "Epoch [3/100]\n"
          ]
        },
        {
          "name": "stderr",
          "output_type": "stream",
          "text": [
            "Train Epoch 3: 100%|██████████| 77/77 [01:06<00:00,  1.16it/s, WMAPE=2.8, DICE=0.512, DPEAKS=225, Loss=0.0251]\n",
            "Validate Epoch 3: 100%|██████████| 20/20 [00:09<00:00,  2.06it/s, WMAPE=3.06, DICE=0.505, DPEAKS=223, Loss=0.025]\n"
          ]
        },
        {
          "name": "stdout",
          "output_type": "stream",
          "text": [
            "Saving best model\n",
            "Epoch [4/100]\n"
          ]
        },
        {
          "name": "stderr",
          "output_type": "stream",
          "text": [
            "Train Epoch 4: 100%|██████████| 77/77 [01:07<00:00,  1.15it/s, WMAPE=2.8, DICE=0.513, DPEAKS=225, Loss=0.0252]\n",
            "Validate Epoch 4: 100%|██████████| 20/20 [00:09<00:00,  2.04it/s, WMAPE=2.81, DICE=0.513, DPEAKS=223, Loss=0.025]\n"
          ]
        },
        {
          "name": "stdout",
          "output_type": "stream",
          "text": [
            "Epoch [5/100]\n"
          ]
        },
        {
          "name": "stderr",
          "output_type": "stream",
          "text": [
            "Train Epoch 5: 100%|██████████| 77/77 [01:07<00:00,  1.15it/s, WMAPE=2.76, DICE=0.513, DPEAKS=225, Loss=0.0252]\n",
            "Validate Epoch 5: 100%|██████████| 20/20 [00:09<00:00,  2.01it/s, WMAPE=4.3, DICE=0.507, DPEAKS=223, Loss=0.0252]\n"
          ]
        },
        {
          "name": "stdout",
          "output_type": "stream",
          "text": [
            "Epoch [6/100]\n"
          ]
        },
        {
          "name": "stderr",
          "output_type": "stream",
          "text": [
            "Train Epoch 6: 100%|██████████| 77/77 [01:07<00:00,  1.13it/s, WMAPE=2.83, DICE=0.512, DPEAKS=224, Loss=0.0252]\n",
            "Validate Epoch 6: 100%|██████████| 20/20 [00:09<00:00,  2.00it/s, WMAPE=2.9, DICE=0.518, DPEAKS=223, Loss=0.025]\n"
          ]
        },
        {
          "name": "stdout",
          "output_type": "stream",
          "text": [
            "Saving best model\n",
            "Epoch [7/100]\n"
          ]
        },
        {
          "name": "stderr",
          "output_type": "stream",
          "text": [
            "Train Epoch 7: 100%|██████████| 77/77 [01:08<00:00,  1.12it/s, WMAPE=2.8, DICE=0.514, DPEAKS=224, Loss=0.0252]\n",
            "Validate Epoch 7: 100%|██████████| 20/20 [00:10<00:00,  1.99it/s, WMAPE=2.42, DICE=0.503, DPEAKS=223, Loss=0.025]\n"
          ]
        },
        {
          "name": "stdout",
          "output_type": "stream",
          "text": [
            "Epoch [8/100]\n"
          ]
        },
        {
          "name": "stderr",
          "output_type": "stream",
          "text": [
            "Train Epoch 8: 100%|██████████| 77/77 [01:09<00:00,  1.11it/s, WMAPE=2.8, DICE=0.513, DPEAKS=225, Loss=0.0252]\n",
            "Validate Epoch 8: 100%|██████████| 20/20 [00:10<00:00,  1.97it/s, WMAPE=4.02, DICE=0.517, DPEAKS=224, Loss=0.0251]\n"
          ]
        },
        {
          "name": "stdout",
          "output_type": "stream",
          "text": [
            "Epoch [9/100]\n"
          ]
        },
        {
          "name": "stderr",
          "output_type": "stream",
          "text": [
            "Train Epoch 9: 100%|██████████| 77/77 [01:09<00:00,  1.11it/s, WMAPE=2.79, DICE=0.512, DPEAKS=224, Loss=0.0252]\n",
            "Validate Epoch 9: 100%|██████████| 20/20 [00:10<00:00,  1.95it/s, WMAPE=2.66, DICE=0.521, DPEAKS=226, Loss=0.025]\n"
          ]
        },
        {
          "name": "stdout",
          "output_type": "stream",
          "text": [
            "Epoch [10/100]\n"
          ]
        },
        {
          "name": "stderr",
          "output_type": "stream",
          "text": [
            "Train Epoch 10: 100%|██████████| 77/77 [01:09<00:00,  1.10it/s, WMAPE=2.79, DICE=0.512, DPEAKS=224, Loss=0.0252]\n",
            "Validate Epoch 10: 100%|██████████| 20/20 [00:10<00:00,  1.97it/s, WMAPE=1.39, DICE=0.513, DPEAKS=223, Loss=0.0254]\n"
          ]
        },
        {
          "name": "stdout",
          "output_type": "stream",
          "text": [
            "Epoch [11/100]\n"
          ]
        },
        {
          "name": "stderr",
          "output_type": "stream",
          "text": [
            "Train Epoch 11: 100%|██████████| 77/77 [01:10<00:00,  1.09it/s, WMAPE=2.81, DICE=0.512, DPEAKS=225, Loss=0.0252]\n",
            "Validate Epoch 11: 100%|██████████| 20/20 [00:10<00:00,  1.95it/s, WMAPE=1.89, DICE=0.505, DPEAKS=225, Loss=0.0252]\n"
          ]
        },
        {
          "name": "stdout",
          "output_type": "stream",
          "text": [
            "early stopping: 5 epochs without improvement\n",
            "Training complete.\n"
          ]
        },
        {
          "name": "stderr",
          "output_type": "stream",
          "text": [
            "Validate Epoch test: 100%|██████████| 486/486 [03:06<00:00,  2.61it/s, WMAPE=2.87, DICE=0.512, DPEAKS=225, Loss=0.0251]\n"
          ]
        },
        {
          "name": "stdout",
          "output_type": "stream",
          "text": [
            "Partition 3: training decoder\n",
            "Loaded best model from partition 2\n",
            "Epoch [1/100]\n"
          ]
        },
        {
          "name": "stderr",
          "output_type": "stream",
          "text": [
            "Train Epoch 1: 100%|██████████| 77/77 [01:17<00:00,  1.01s/it, WMAPE=2.66, DICE=0.513, DPEAKS=223, Loss=0.0252]\n",
            "Validate Epoch 1: 100%|██████████| 20/20 [00:12<00:00,  1.61it/s, WMAPE=1.35, DICE=0.506, DPEAKS=224, Loss=0.0255]\n"
          ]
        },
        {
          "name": "stdout",
          "output_type": "stream",
          "text": [
            "Saving best model\n",
            "Epoch [2/100]\n"
          ]
        },
        {
          "name": "stderr",
          "output_type": "stream",
          "text": [
            "Train Epoch 2: 100%|██████████| 77/77 [01:14<00:00,  1.04it/s, WMAPE=2.62, DICE=0.512, DPEAKS=225, Loss=0.0252]\n",
            "Validate Epoch 2: 100%|██████████| 20/20 [00:10<00:00,  1.86it/s, WMAPE=1.8, DICE=0.504, DPEAKS=223, Loss=0.0253]\n"
          ]
        },
        {
          "name": "stdout",
          "output_type": "stream",
          "text": [
            "Saving best model\n",
            "Epoch [3/100]\n"
          ]
        },
        {
          "name": "stderr",
          "output_type": "stream",
          "text": [
            "Train Epoch 3: 100%|██████████| 77/77 [01:13<00:00,  1.05it/s, WMAPE=2.61, DICE=0.511, DPEAKS=225, Loss=0.0251]\n",
            "Validate Epoch 3: 100%|██████████| 20/20 [00:10<00:00,  1.88it/s, WMAPE=3, DICE=0.52, DPEAKS=223, Loss=0.0252]\n"
          ]
        },
        {
          "name": "stdout",
          "output_type": "stream",
          "text": [
            "Saving best model\n",
            "Epoch [4/100]\n"
          ]
        },
        {
          "name": "stderr",
          "output_type": "stream",
          "text": [
            "Train Epoch 4: 100%|██████████| 77/77 [01:12<00:00,  1.06it/s, WMAPE=2.67, DICE=0.511, DPEAKS=224, Loss=0.0252]\n",
            "Validate Epoch 4: 100%|██████████| 20/20 [00:10<00:00,  1.87it/s, WMAPE=3.27, DICE=0.522, DPEAKS=223, Loss=0.0253]\n"
          ]
        },
        {
          "name": "stdout",
          "output_type": "stream",
          "text": [
            "Epoch [5/100]\n"
          ]
        },
        {
          "name": "stderr",
          "output_type": "stream",
          "text": [
            "Train Epoch 5: 100%|██████████| 77/77 [01:12<00:00,  1.06it/s, WMAPE=2.64, DICE=0.511, DPEAKS=225, Loss=0.0252]\n",
            "Validate Epoch 5: 100%|██████████| 20/20 [00:10<00:00,  1.86it/s, WMAPE=1.53, DICE=0.514, DPEAKS=223, Loss=0.0254]\n"
          ]
        },
        {
          "name": "stdout",
          "output_type": "stream",
          "text": [
            "Epoch [6/100]\n"
          ]
        },
        {
          "name": "stderr",
          "output_type": "stream",
          "text": [
            "Train Epoch 6: 100%|██████████| 77/77 [01:12<00:00,  1.06it/s, WMAPE=2.63, DICE=0.51, DPEAKS=225, Loss=0.0252]\n",
            "Validate Epoch 6: 100%|██████████| 20/20 [00:10<00:00,  1.86it/s, WMAPE=2.76, DICE=0.51, DPEAKS=222, Loss=0.0252]\n"
          ]
        },
        {
          "name": "stdout",
          "output_type": "stream",
          "text": [
            "Saving best model\n",
            "Epoch [7/100]\n"
          ]
        },
        {
          "name": "stderr",
          "output_type": "stream",
          "text": [
            "Train Epoch 7: 100%|██████████| 77/77 [01:12<00:00,  1.06it/s, WMAPE=2.61, DICE=0.51, DPEAKS=225, Loss=0.0252]\n",
            "Validate Epoch 7: 100%|██████████| 20/20 [00:10<00:00,  1.87it/s, WMAPE=2.55, DICE=0.513, DPEAKS=224, Loss=0.0252]\n"
          ]
        },
        {
          "name": "stdout",
          "output_type": "stream",
          "text": [
            "Saving best model\n",
            "Epoch [8/100]\n"
          ]
        },
        {
          "name": "stderr",
          "output_type": "stream",
          "text": [
            "Train Epoch 8: 100%|██████████| 77/77 [01:12<00:00,  1.07it/s, WMAPE=2.65, DICE=0.511, DPEAKS=225, Loss=0.0252]\n",
            "Validate Epoch 8: 100%|██████████| 20/20 [00:10<00:00,  1.87it/s, WMAPE=2.25, DICE=0.511, DPEAKS=225, Loss=0.0252]\n"
          ]
        },
        {
          "name": "stdout",
          "output_type": "stream",
          "text": [
            "Epoch [9/100]\n"
          ]
        },
        {
          "name": "stderr",
          "output_type": "stream",
          "text": [
            "Train Epoch 9: 100%|██████████| 77/77 [01:12<00:00,  1.07it/s, WMAPE=2.61, DICE=0.509, DPEAKS=225, Loss=0.0252]\n",
            "Validate Epoch 9: 100%|██████████| 20/20 [00:10<00:00,  1.87it/s, WMAPE=4, DICE=0.503, DPEAKS=223, Loss=0.0255]\n"
          ]
        },
        {
          "name": "stdout",
          "output_type": "stream",
          "text": [
            "Epoch [10/100]\n"
          ]
        },
        {
          "name": "stderr",
          "output_type": "stream",
          "text": [
            "Train Epoch 10: 100%|██████████| 77/77 [01:11<00:00,  1.08it/s, WMAPE=2.64, DICE=0.51, DPEAKS=224, Loss=0.0252]\n",
            "Validate Epoch 10: 100%|██████████| 20/20 [00:10<00:00,  1.88it/s, WMAPE=2.65, DICE=0.509, DPEAKS=225, Loss=0.0252]\n"
          ]
        },
        {
          "name": "stdout",
          "output_type": "stream",
          "text": [
            "Saving best model\n",
            "Epoch [11/100]\n"
          ]
        },
        {
          "name": "stderr",
          "output_type": "stream",
          "text": [
            "Train Epoch 11: 100%|██████████| 77/77 [01:11<00:00,  1.07it/s, WMAPE=2.63, DICE=0.509, DPEAKS=225, Loss=0.0252]\n",
            "Validate Epoch 11: 100%|██████████| 20/20 [00:10<00:00,  1.89it/s, WMAPE=2.73, DICE=0.517, DPEAKS=224, Loss=0.0252]\n"
          ]
        },
        {
          "name": "stdout",
          "output_type": "stream",
          "text": [
            "Epoch [12/100]\n"
          ]
        },
        {
          "name": "stderr",
          "output_type": "stream",
          "text": [
            "Train Epoch 12: 100%|██████████| 77/77 [01:10<00:00,  1.09it/s, WMAPE=2.65, DICE=0.51, DPEAKS=225, Loss=0.0252]\n",
            "Validate Epoch 12: 100%|██████████| 20/20 [00:10<00:00,  1.92it/s, WMAPE=3.13, DICE=0.517, DPEAKS=224, Loss=0.0252]\n"
          ]
        },
        {
          "name": "stdout",
          "output_type": "stream",
          "text": [
            "Epoch [13/100]\n"
          ]
        },
        {
          "name": "stderr",
          "output_type": "stream",
          "text": [
            "Train Epoch 13: 100%|██████████| 77/77 [01:09<00:00,  1.10it/s, WMAPE=2.64, DICE=0.509, DPEAKS=225, Loss=0.0252]\n",
            "Validate Epoch 13: 100%|██████████| 20/20 [00:10<00:00,  1.93it/s, WMAPE=2.78, DICE=0.521, DPEAKS=223, Loss=0.0252]\n"
          ]
        },
        {
          "name": "stdout",
          "output_type": "stream",
          "text": [
            "Epoch [14/100]\n"
          ]
        },
        {
          "name": "stderr",
          "output_type": "stream",
          "text": [
            "Train Epoch 14: 100%|██████████| 77/77 [01:10<00:00,  1.10it/s, WMAPE=2.62, DICE=0.509, DPEAKS=224, Loss=0.0252]\n",
            "Validate Epoch 14: 100%|██████████| 20/20 [00:10<00:00,  1.92it/s, WMAPE=3.35, DICE=0.518, DPEAKS=225, Loss=0.0253]\n"
          ]
        },
        {
          "name": "stdout",
          "output_type": "stream",
          "text": [
            "Epoch [15/100]\n"
          ]
        },
        {
          "name": "stderr",
          "output_type": "stream",
          "text": [
            "Train Epoch 15: 100%|██████████| 77/77 [01:09<00:00,  1.10it/s, WMAPE=2.64, DICE=0.509, DPEAKS=224, Loss=0.0252]\n",
            "Validate Epoch 15: 100%|██████████| 20/20 [00:10<00:00,  1.95it/s, WMAPE=2.82, DICE=0.52, DPEAKS=224, Loss=0.0252]\n"
          ]
        },
        {
          "name": "stdout",
          "output_type": "stream",
          "text": [
            "early stopping: 5 epochs without improvement\n",
            "Training complete.\n"
          ]
        },
        {
          "name": "stderr",
          "output_type": "stream",
          "text": [
            "Validate Epoch test: 100%|██████████| 486/486 [03:01<00:00,  2.67it/s, WMAPE=2.66, DICE=0.508, DPEAKS=225, Loss=0.0251]\n"
          ]
        },
        {
          "name": "stdout",
          "output_type": "stream",
          "text": [
            "Partition 4: training decoder\n",
            "Loaded best model from partition 3\n",
            "Epoch [1/100]\n"
          ]
        },
        {
          "name": "stderr",
          "output_type": "stream",
          "text": [
            "Train Epoch 1: 100%|██████████| 77/77 [01:14<00:00,  1.03it/s, WMAPE=2.72, DICE=0.511, DPEAKS=226, Loss=0.0252]\n",
            "Validate Epoch 1: 100%|██████████| 20/20 [00:11<00:00,  1.75it/s, WMAPE=2.62, DICE=0.521, DPEAKS=225, Loss=0.025]\n"
          ]
        },
        {
          "name": "stdout",
          "output_type": "stream",
          "text": [
            "Saving best model\n",
            "Epoch [2/100]\n"
          ]
        },
        {
          "name": "stderr",
          "output_type": "stream",
          "text": [
            "Train Epoch 2: 100%|██████████| 77/77 [01:11<00:00,  1.08it/s, WMAPE=2.76, DICE=0.511, DPEAKS=225, Loss=0.0251]\n",
            "Validate Epoch 2: 100%|██████████| 20/20 [00:10<00:00,  1.94it/s, WMAPE=1.96, DICE=0.506, DPEAKS=225, Loss=0.0251]\n"
          ]
        },
        {
          "name": "stdout",
          "output_type": "stream",
          "text": [
            "Epoch [3/100]\n"
          ]
        },
        {
          "name": "stderr",
          "output_type": "stream",
          "text": [
            "Train Epoch 3: 100%|██████████| 77/77 [01:09<00:00,  1.11it/s, WMAPE=2.74, DICE=0.512, DPEAKS=225, Loss=0.0252]\n",
            "Validate Epoch 3: 100%|██████████| 20/20 [00:10<00:00,  1.90it/s, WMAPE=3.78, DICE=0.523, DPEAKS=225, Loss=0.0251]\n"
          ]
        },
        {
          "name": "stdout",
          "output_type": "stream",
          "text": [
            "Epoch [4/100]\n"
          ]
        },
        {
          "name": "stderr",
          "output_type": "stream",
          "text": [
            "Train Epoch 4: 100%|██████████| 77/77 [01:10<00:00,  1.10it/s, WMAPE=2.71, DICE=0.509, DPEAKS=225, Loss=0.0252]\n",
            "Validate Epoch 4: 100%|██████████| 20/20 [00:09<00:00,  2.05it/s, WMAPE=3.39, DICE=0.523, DPEAKS=225, Loss=0.025]\n"
          ]
        },
        {
          "name": "stdout",
          "output_type": "stream",
          "text": [
            "Epoch [5/100]\n"
          ]
        },
        {
          "name": "stderr",
          "output_type": "stream",
          "text": [
            "Train Epoch 5: 100%|██████████| 77/77 [01:06<00:00,  1.16it/s, WMAPE=2.75, DICE=0.51, DPEAKS=224, Loss=0.0251]\n",
            "Validate Epoch 5: 100%|██████████| 20/20 [00:09<00:00,  2.06it/s, WMAPE=3.03, DICE=0.517, DPEAKS=225, Loss=0.025]\n"
          ]
        },
        {
          "name": "stdout",
          "output_type": "stream",
          "text": [
            "Saving best model\n",
            "Epoch [6/100]\n"
          ]
        },
        {
          "name": "stderr",
          "output_type": "stream",
          "text": [
            "Train Epoch 6: 100%|██████████| 77/77 [01:09<00:00,  1.10it/s, WMAPE=2.74, DICE=0.512, DPEAKS=224, Loss=0.0252]\n",
            "Validate Epoch 6: 100%|██████████| 20/20 [00:10<00:00,  1.91it/s, WMAPE=2.82, DICE=0.5, DPEAKS=226, Loss=0.025]\n"
          ]
        },
        {
          "name": "stdout",
          "output_type": "stream",
          "text": [
            "Saving best model\n",
            "Epoch [7/100]\n"
          ]
        },
        {
          "name": "stderr",
          "output_type": "stream",
          "text": [
            "Train Epoch 7:  86%|████████▌ | 66/77 [01:00<00:10,  1.06it/s, loss=0.026] "
          ]
        }
      ],
      "source": [
        "many_partitions_v2(1,11,model,criterion,transform=transform)"
      ]
    },
    {
      "cell_type": "code",
      "execution_count": 15,
      "metadata": {},
      "outputs": [
        {
          "name": "stdout",
          "output_type": "stream",
          "text": [
            "Partition 10: training decoder\n",
            "Loaded best model from partition 9\n",
            "Epoch [1/100]\n"
          ]
        },
        {
          "name": "stderr",
          "output_type": "stream",
          "text": [
            "Train Epoch 1: 100%|██████████| 77/77 [01:14<00:00,  1.03it/s, WMAPE=2.36, DICE=0.0675, DPEAKS=38.4, Loss=8.52e-5]\n",
            "Validate Epoch 1: 100%|██████████| 20/20 [00:10<00:00,  1.86it/s, WMAPE=1.79, DICE=0.0596, DPEAKS=32.9, Loss=4.94e-5]\n"
          ]
        },
        {
          "name": "stdout",
          "output_type": "stream",
          "text": [
            "Saving best model\n",
            "Epoch [2/100]\n"
          ]
        },
        {
          "name": "stderr",
          "output_type": "stream",
          "text": [
            "Train Epoch 2: 100%|██████████| 77/77 [01:09<00:00,  1.11it/s, WMAPE=1.9, DICE=0.0585, DPEAKS=30.6, Loss=4.94e-5]\n",
            "Validate Epoch 2: 100%|██████████| 20/20 [00:10<00:00,  1.88it/s, WMAPE=1.79, DICE=0.0585, DPEAKS=31.8, Loss=4.8e-5]\n"
          ]
        },
        {
          "name": "stdout",
          "output_type": "stream",
          "text": [
            "Saving best model\n",
            "Epoch [3/100]\n"
          ]
        },
        {
          "name": "stderr",
          "output_type": "stream",
          "text": [
            "Train Epoch 3: 100%|██████████| 77/77 [01:12<00:00,  1.06it/s, WMAPE=1.9, DICE=0.0587, DPEAKS=30.8, Loss=4.98e-5]\n",
            "Validate Epoch 3: 100%|██████████| 20/20 [00:10<00:00,  1.86it/s, WMAPE=1.82, DICE=0.0583, DPEAKS=31.7, Loss=4.78e-5]\n"
          ]
        },
        {
          "name": "stdout",
          "output_type": "stream",
          "text": [
            "Saving best model\n",
            "Epoch [4/100]\n"
          ]
        },
        {
          "name": "stderr",
          "output_type": "stream",
          "text": [
            "Train Epoch 4: 100%|██████████| 77/77 [01:14<00:00,  1.04it/s, WMAPE=1.87, DICE=0.0586, DPEAKS=30.1, Loss=4.88e-5]\n",
            "Validate Epoch 4: 100%|██████████| 20/20 [00:09<00:00,  2.01it/s, WMAPE=1.82, DICE=0.0581, DPEAKS=31, Loss=4.95e-5]\n"
          ]
        },
        {
          "name": "stdout",
          "output_type": "stream",
          "text": [
            "Epoch [5/100]\n"
          ]
        },
        {
          "name": "stderr",
          "output_type": "stream",
          "text": [
            "Train Epoch 5: 100%|██████████| 77/77 [01:11<00:00,  1.08it/s, WMAPE=1.94, DICE=0.059, DPEAKS=31.6, Loss=5.18e-5]\n",
            "Validate Epoch 5: 100%|██████████| 20/20 [00:10<00:00,  1.89it/s, WMAPE=1.77, DICE=0.0592, DPEAKS=32.3, Loss=4.84e-5]\n"
          ]
        },
        {
          "name": "stdout",
          "output_type": "stream",
          "text": [
            "Epoch [6/100]\n"
          ]
        },
        {
          "name": "stderr",
          "output_type": "stream",
          "text": [
            "Train Epoch 6: 100%|██████████| 77/77 [01:13<00:00,  1.05it/s, WMAPE=1.84, DICE=0.0583, DPEAKS=30.8, Loss=4.7e-5]\n",
            "Validate Epoch 6: 100%|██████████| 20/20 [00:11<00:00,  1.81it/s, WMAPE=1.74, DICE=0.0583, DPEAKS=30.5, Loss=4.81e-5]\n"
          ]
        },
        {
          "name": "stdout",
          "output_type": "stream",
          "text": [
            "Epoch [7/100]\n"
          ]
        },
        {
          "name": "stderr",
          "output_type": "stream",
          "text": [
            "Train Epoch 7: 100%|██████████| 77/77 [01:15<00:00,  1.01it/s, WMAPE=1.85, DICE=0.058, DPEAKS=31.4, Loss=4.74e-5]\n",
            "Validate Epoch 7: 100%|██████████| 20/20 [00:10<00:00,  1.82it/s, WMAPE=2.09, DICE=0.059, DPEAKS=32.3, Loss=6.43e-5]\n"
          ]
        },
        {
          "name": "stdout",
          "output_type": "stream",
          "text": [
            "Epoch [8/100]\n"
          ]
        },
        {
          "name": "stderr",
          "output_type": "stream",
          "text": [
            "Train Epoch 8: 100%|██████████| 77/77 [01:10<00:00,  1.10it/s, WMAPE=1.89, DICE=0.0583, DPEAKS=30.4, Loss=4.88e-5]\n",
            "Validate Epoch 8: 100%|██████████| 20/20 [00:09<00:00,  2.01it/s, WMAPE=1.8, DICE=0.0586, DPEAKS=32.7, Loss=4.86e-5]\n"
          ]
        },
        {
          "name": "stdout",
          "output_type": "stream",
          "text": [
            "early stopping: 5 epochs without improvement\n",
            "Training complete.\n"
          ]
        },
        {
          "name": "stderr",
          "output_type": "stream",
          "text": [
            "Validate Epoch test: 100%|██████████| 486/486 [03:02<00:00,  2.67it/s, WMAPE=1.87, DICE=0.058, DPEAKS=31.8, Loss=4.86e-5]\n"
          ]
        }
      ],
      "source": [
        "many_partitions_v2(10,11,model,criterion,transform=transform)"
      ]
    },
    {
      "cell_type": "code",
      "execution_count": 18,
      "metadata": {},
      "outputs": [
        {
          "name": "stdout",
          "output_type": "stream",
          "text": [
            "Partition 11: training full\n",
            "Loaded best model from partition 10\n",
            "Epoch [1/100]\n"
          ]
        },
        {
          "name": "stderr",
          "output_type": "stream",
          "text": [
            "Train Epoch 1: 100%|██████████| 77/77 [01:16<00:00,  1.01it/s, WMAPE=2.81, DICE=0.083, DPEAKS=56.1, Loss=0.00867]\n",
            "Validate Epoch 1: 100%|██████████| 20/20 [00:11<00:00,  1.81it/s, WMAPE=2.09, DICE=0.0673, DPEAKS=47.8, Loss=0.00631]\n"
          ]
        },
        {
          "name": "stdout",
          "output_type": "stream",
          "text": [
            "Saving best model\n",
            "Epoch [2/100]\n"
          ]
        },
        {
          "name": "stderr",
          "output_type": "stream",
          "text": [
            "Train Epoch 2: 100%|██████████| 77/77 [01:08<00:00,  1.12it/s, WMAPE=2.26, DICE=0.0655, DPEAKS=41, Loss=0.00671]\n",
            "Validate Epoch 2: 100%|██████████| 20/20 [00:09<00:00,  2.08it/s, WMAPE=1.91, DICE=0.0608, DPEAKS=38.4, Loss=0.00565]\n"
          ]
        },
        {
          "name": "stdout",
          "output_type": "stream",
          "text": [
            "Saving best model\n",
            "Epoch [3/100]\n"
          ]
        },
        {
          "name": "stderr",
          "output_type": "stream",
          "text": [
            "Train Epoch 3: 100%|██████████| 77/77 [01:09<00:00,  1.11it/s, WMAPE=2.01, DICE=0.0602, DPEAKS=35.2, Loss=0.00597]\n",
            "Validate Epoch 3: 100%|██████████| 20/20 [00:10<00:00,  1.88it/s, WMAPE=1.87, DICE=0.0615, DPEAKS=39.6, Loss=0.00572]\n"
          ]
        },
        {
          "name": "stdout",
          "output_type": "stream",
          "text": [
            "Epoch [4/100]\n"
          ]
        },
        {
          "name": "stderr",
          "output_type": "stream",
          "text": [
            "Train Epoch 4: 100%|██████████| 77/77 [01:14<00:00,  1.03it/s, WMAPE=1.99, DICE=0.0601, DPEAKS=33.8, Loss=0.00586]\n",
            "Validate Epoch 4: 100%|██████████| 20/20 [00:09<00:00,  2.02it/s, WMAPE=2.73, DICE=0.0591, DPEAKS=36.7, Loss=0.00787]\n"
          ]
        },
        {
          "name": "stdout",
          "output_type": "stream",
          "text": [
            "Epoch [5/100]\n"
          ]
        },
        {
          "name": "stderr",
          "output_type": "stream",
          "text": [
            "Train Epoch 5: 100%|██████████| 77/77 [01:09<00:00,  1.10it/s, WMAPE=2.03, DICE=0.0614, DPEAKS=35.9, Loss=0.00603]\n",
            "Validate Epoch 5: 100%|██████████| 20/20 [00:09<00:00,  2.10it/s, WMAPE=2.07, DICE=0.0593, DPEAKS=33.6, Loss=0.00624]\n"
          ]
        },
        {
          "name": "stdout",
          "output_type": "stream",
          "text": [
            "Epoch [6/100]\n"
          ]
        },
        {
          "name": "stderr",
          "output_type": "stream",
          "text": [
            "Train Epoch 6: 100%|██████████| 77/77 [01:08<00:00,  1.12it/s, WMAPE=2.05, DICE=0.0623, DPEAKS=36.1, Loss=0.00608]\n",
            "Validate Epoch 6: 100%|██████████| 20/20 [00:09<00:00,  2.06it/s, WMAPE=2, DICE=0.0586, DPEAKS=34, Loss=0.00594]\n"
          ]
        },
        {
          "name": "stdout",
          "output_type": "stream",
          "text": [
            "Epoch [7/100]\n"
          ]
        },
        {
          "name": "stderr",
          "output_type": "stream",
          "text": [
            "Train Epoch 7: 100%|██████████| 77/77 [01:09<00:00,  1.11it/s, WMAPE=1.8, DICE=0.06, DPEAKS=33.9, Loss=0.00537]\n",
            "Validate Epoch 7: 100%|██████████| 20/20 [00:10<00:00,  1.96it/s, WMAPE=1.9, DICE=0.0585, DPEAKS=34.5, Loss=0.00584]\n"
          ]
        },
        {
          "name": "stdout",
          "output_type": "stream",
          "text": [
            "Epoch [8/100]\n"
          ]
        },
        {
          "name": "stderr",
          "output_type": "stream",
          "text": [
            "Train Epoch 8: 100%|██████████| 77/77 [01:10<00:00,  1.09it/s, WMAPE=1.76, DICE=0.0588, DPEAKS=31.9, Loss=0.00527]\n",
            "Validate Epoch 8: 100%|██████████| 20/20 [00:10<00:00,  1.88it/s, WMAPE=1.99, DICE=0.0596, DPEAKS=34.6, Loss=0.00606]\n"
          ]
        },
        {
          "name": "stdout",
          "output_type": "stream",
          "text": [
            "early stopping: 6 epochs without improvement\n",
            "Training complete.\n"
          ]
        },
        {
          "name": "stderr",
          "output_type": "stream",
          "text": [
            "Validate Epoch test: 100%|██████████| 486/486 [03:04<00:00,  2.64it/s, WMAPE=1.93, DICE=0.0609, DPEAKS=34.8, Loss=0.00561]\n"
          ]
        },
        {
          "name": "stdout",
          "output_type": "stream",
          "text": [
            "Partition 12: training decoder\n",
            "Loaded best model from partition 11\n",
            "Epoch [1/100]\n"
          ]
        },
        {
          "name": "stderr",
          "output_type": "stream",
          "text": [
            "Train Epoch 1: 100%|██████████| 77/77 [01:17<00:00,  1.01s/it, WMAPE=2.32, DICE=0.0721, DPEAKS=41.5, Loss=0.00707]\n",
            "Validate Epoch 1: 100%|██████████| 20/20 [00:11<00:00,  1.77it/s, WMAPE=1.92, DICE=0.0604, DPEAKS=34.8, Loss=0.00552]\n"
          ]
        },
        {
          "name": "stdout",
          "output_type": "stream",
          "text": [
            "Saving best model\n",
            "Epoch [2/100]\n"
          ]
        },
        {
          "name": "stderr",
          "output_type": "stream",
          "text": [
            "Train Epoch 2: 100%|██████████| 77/77 [01:06<00:00,  1.17it/s, WMAPE=1.87, DICE=0.0595, DPEAKS=32.7, Loss=0.00551]\n",
            "Validate Epoch 2: 100%|██████████| 20/20 [00:10<00:00,  1.91it/s, WMAPE=1.88, DICE=0.0586, DPEAKS=30.6, Loss=0.00542]\n"
          ]
        },
        {
          "name": "stdout",
          "output_type": "stream",
          "text": [
            "Saving best model\n",
            "Epoch [3/100]\n"
          ]
        },
        {
          "name": "stderr",
          "output_type": "stream",
          "text": [
            "Train Epoch 3: 100%|██████████| 77/77 [01:09<00:00,  1.11it/s, WMAPE=1.89, DICE=0.059, DPEAKS=31.5, Loss=0.00557]\n",
            "Validate Epoch 3: 100%|██████████| 20/20 [00:10<00:00,  2.00it/s, WMAPE=2.02, DICE=0.0587, DPEAKS=29.9, Loss=0.00585]\n"
          ]
        },
        {
          "name": "stdout",
          "output_type": "stream",
          "text": [
            "Epoch [4/100]\n"
          ]
        },
        {
          "name": "stderr",
          "output_type": "stream",
          "text": [
            "Train Epoch 4: 100%|██████████| 77/77 [01:07<00:00,  1.14it/s, WMAPE=1.85, DICE=0.0586, DPEAKS=31.4, Loss=0.00545]\n",
            "Validate Epoch 4: 100%|██████████| 20/20 [00:09<00:00,  2.03it/s, WMAPE=1.83, DICE=0.059, DPEAKS=29.6, Loss=0.00539]\n"
          ]
        },
        {
          "name": "stdout",
          "output_type": "stream",
          "text": [
            "Saving best model\n",
            "Epoch [5/100]\n"
          ]
        },
        {
          "name": "stderr",
          "output_type": "stream",
          "text": [
            "Train Epoch 5: 100%|██████████| 77/77 [01:09<00:00,  1.11it/s, WMAPE=1.9, DICE=0.0588, DPEAKS=32.1, Loss=0.0056]\n",
            "Validate Epoch 5: 100%|██████████| 20/20 [00:09<00:00,  2.05it/s, WMAPE=2.02, DICE=0.0599, DPEAKS=33.2, Loss=0.00595]\n"
          ]
        },
        {
          "name": "stdout",
          "output_type": "stream",
          "text": [
            "Epoch [6/100]\n"
          ]
        },
        {
          "name": "stderr",
          "output_type": "stream",
          "text": [
            "Train Epoch 6: 100%|██████████| 77/77 [01:05<00:00,  1.18it/s, WMAPE=1.83, DICE=0.0584, DPEAKS=31.3, Loss=0.00539]\n",
            "Validate Epoch 6: 100%|██████████| 20/20 [00:09<00:00,  2.08it/s, WMAPE=1.82, DICE=0.0582, DPEAKS=30.7, Loss=0.0054]\n"
          ]
        },
        {
          "name": "stdout",
          "output_type": "stream",
          "text": [
            "Epoch [7/100]\n"
          ]
        },
        {
          "name": "stderr",
          "output_type": "stream",
          "text": [
            "Train Epoch 7: 100%|██████████| 77/77 [01:11<00:00,  1.08it/s, WMAPE=1.82, DICE=0.0582, DPEAKS=31.4, Loss=0.00536]\n",
            "Validate Epoch 7: 100%|██████████| 20/20 [00:09<00:00,  2.04it/s, WMAPE=1.89, DICE=0.0581, DPEAKS=30.8, Loss=0.00536]\n"
          ]
        },
        {
          "name": "stdout",
          "output_type": "stream",
          "text": [
            "Saving best model\n",
            "Epoch [8/100]\n"
          ]
        },
        {
          "name": "stderr",
          "output_type": "stream",
          "text": [
            "Train Epoch 8: 100%|██████████| 77/77 [01:09<00:00,  1.11it/s, WMAPE=1.8, DICE=0.0583, DPEAKS=32.7, Loss=0.00531]\n",
            "Validate Epoch 8: 100%|██████████| 20/20 [00:09<00:00,  2.01it/s, WMAPE=1.89, DICE=0.0585, DPEAKS=29.2, Loss=0.00548]\n"
          ]
        },
        {
          "name": "stdout",
          "output_type": "stream",
          "text": [
            "Epoch [9/100]\n"
          ]
        },
        {
          "name": "stderr",
          "output_type": "stream",
          "text": [
            "Train Epoch 9: 100%|██████████| 77/77 [01:06<00:00,  1.16it/s, WMAPE=1.79, DICE=0.0583, DPEAKS=31.9, Loss=0.00528]\n",
            "Validate Epoch 9: 100%|██████████| 20/20 [00:09<00:00,  2.11it/s, WMAPE=2.02, DICE=0.0584, DPEAKS=27.5, Loss=0.00582]\n"
          ]
        },
        {
          "name": "stdout",
          "output_type": "stream",
          "text": [
            "Epoch [10/100]\n"
          ]
        },
        {
          "name": "stderr",
          "output_type": "stream",
          "text": [
            "Train Epoch 10: 100%|██████████| 77/77 [01:05<00:00,  1.18it/s, WMAPE=1.79, DICE=0.058, DPEAKS=31.4, Loss=0.00524]\n",
            "Validate Epoch 10: 100%|██████████| 20/20 [00:09<00:00,  2.11it/s, WMAPE=1.89, DICE=0.0587, DPEAKS=28.1, Loss=0.00554]\n"
          ]
        },
        {
          "name": "stdout",
          "output_type": "stream",
          "text": [
            "Epoch [11/100]\n"
          ]
        },
        {
          "name": "stderr",
          "output_type": "stream",
          "text": [
            "Train Epoch 11: 100%|██████████| 77/77 [01:04<00:00,  1.19it/s, WMAPE=1.74, DICE=0.058, DPEAKS=30.9, Loss=0.00516]\n",
            "Validate Epoch 11: 100%|██████████| 20/20 [00:09<00:00,  2.05it/s, WMAPE=1.91, DICE=0.0584, DPEAKS=28.7, Loss=0.00545]\n"
          ]
        },
        {
          "name": "stdout",
          "output_type": "stream",
          "text": [
            "Epoch [12/100]\n"
          ]
        },
        {
          "name": "stderr",
          "output_type": "stream",
          "text": [
            "Train Epoch 12: 100%|██████████| 77/77 [01:04<00:00,  1.19it/s, WMAPE=1.76, DICE=0.0581, DPEAKS=31.7, Loss=0.00519]\n",
            "Validate Epoch 12: 100%|██████████| 20/20 [00:09<00:00,  2.07it/s, WMAPE=1.92, DICE=0.0585, DPEAKS=28.6, Loss=0.00552]\n"
          ]
        },
        {
          "name": "stdout",
          "output_type": "stream",
          "text": [
            "early stopping: 5 epochs without improvement\n",
            "Training complete.\n"
          ]
        },
        {
          "name": "stderr",
          "output_type": "stream",
          "text": [
            "Validate Epoch test: 100%|██████████| 486/486 [02:54<00:00,  2.78it/s, WMAPE=1.87, DICE=0.0581, DPEAKS=32.7, Loss=0.00541]\n"
          ]
        },
        {
          "name": "stdout",
          "output_type": "stream",
          "text": [
            "Partition 13: training decoder\n",
            "Loaded best model from partition 12\n",
            "Epoch [1/100]\n"
          ]
        },
        {
          "name": "stderr",
          "output_type": "stream",
          "text": [
            "Train Epoch 1: 100%|██████████| 77/77 [01:11<00:00,  1.08it/s, WMAPE=2.1, DICE=0.0627, DPEAKS=35.7, Loss=0.0062]\n",
            "Validate Epoch 1: 100%|██████████| 20/20 [00:10<00:00,  1.86it/s, WMAPE=1.8, DICE=0.0576, DPEAKS=31.2, Loss=0.00531]\n"
          ]
        },
        {
          "name": "stdout",
          "output_type": "stream",
          "text": [
            "Saving best model\n",
            "Epoch [2/100]\n"
          ]
        },
        {
          "name": "stderr",
          "output_type": "stream",
          "text": [
            "Train Epoch 2: 100%|██████████| 77/77 [01:06<00:00,  1.17it/s, WMAPE=1.84, DICE=0.0577, DPEAKS=31.5, Loss=0.00544]\n",
            "Validate Epoch 2: 100%|██████████| 20/20 [00:09<00:00,  2.06it/s, WMAPE=1.85, DICE=0.0577, DPEAKS=30.6, Loss=0.00532]\n"
          ]
        },
        {
          "name": "stdout",
          "output_type": "stream",
          "text": [
            "Epoch [3/100]\n"
          ]
        },
        {
          "name": "stderr",
          "output_type": "stream",
          "text": [
            "Train Epoch 3: 100%|██████████| 77/77 [01:07<00:00,  1.14it/s, WMAPE=1.88, DICE=0.0582, DPEAKS=32.7, Loss=0.00551]\n",
            "Validate Epoch 3: 100%|██████████| 20/20 [00:10<00:00,  1.99it/s, WMAPE=1.88, DICE=0.0587, DPEAKS=34.9, Loss=0.00554]\n"
          ]
        },
        {
          "name": "stdout",
          "output_type": "stream",
          "text": [
            "Epoch [4/100]\n"
          ]
        },
        {
          "name": "stderr",
          "output_type": "stream",
          "text": [
            "Train Epoch 4: 100%|██████████| 77/77 [01:06<00:00,  1.15it/s, WMAPE=1.84, DICE=0.0577, DPEAKS=32.2, Loss=0.00545]\n",
            "Validate Epoch 4: 100%|██████████| 20/20 [00:10<00:00,  2.00it/s, WMAPE=1.83, DICE=0.0573, DPEAKS=31.8, Loss=0.00534]\n"
          ]
        },
        {
          "name": "stdout",
          "output_type": "stream",
          "text": [
            "Epoch [5/100]\n"
          ]
        },
        {
          "name": "stderr",
          "output_type": "stream",
          "text": [
            "Train Epoch 5: 100%|██████████| 77/77 [01:06<00:00,  1.15it/s, WMAPE=1.78, DICE=0.0574, DPEAKS=31.1, Loss=0.00519]\n",
            "Validate Epoch 5: 100%|██████████| 20/20 [00:09<00:00,  2.03it/s, WMAPE=2.2, DICE=0.0572, DPEAKS=31.1, Loss=0.00608]\n"
          ]
        },
        {
          "name": "stdout",
          "output_type": "stream",
          "text": [
            "Epoch [6/100]\n"
          ]
        },
        {
          "name": "stderr",
          "output_type": "stream",
          "text": [
            "Train Epoch 6: 100%|██████████| 77/77 [01:07<00:00,  1.14it/s, WMAPE=1.8, DICE=0.0577, DPEAKS=31.5, Loss=0.00531]\n",
            "Validate Epoch 6: 100%|██████████| 20/20 [00:09<00:00,  2.05it/s, WMAPE=1.89, DICE=0.0581, DPEAKS=32.2, Loss=0.00547]\n"
          ]
        },
        {
          "name": "stdout",
          "output_type": "stream",
          "text": [
            "Epoch [7/100]\n"
          ]
        },
        {
          "name": "stderr",
          "output_type": "stream",
          "text": [
            "Train Epoch 7: 100%|██████████| 77/77 [01:06<00:00,  1.16it/s, WMAPE=1.74, DICE=0.0577, DPEAKS=32.4, Loss=0.00516]\n",
            "Validate Epoch 7: 100%|██████████| 20/20 [00:09<00:00,  2.05it/s, WMAPE=1.94, DICE=0.0577, DPEAKS=31.2, Loss=0.00547]\n"
          ]
        },
        {
          "name": "stdout",
          "output_type": "stream",
          "text": [
            "Epoch [8/100]\n"
          ]
        },
        {
          "name": "stderr",
          "output_type": "stream",
          "text": [
            "Train Epoch 8: 100%|██████████| 77/77 [01:10<00:00,  1.10it/s, WMAPE=1.73, DICE=0.0574, DPEAKS=32, Loss=0.00506]\n",
            "Validate Epoch 8: 100%|██████████| 20/20 [00:09<00:00,  2.02it/s, WMAPE=1.91, DICE=0.0573, DPEAKS=30.7, Loss=0.00557]\n"
          ]
        },
        {
          "name": "stdout",
          "output_type": "stream",
          "text": [
            "early stopping: 7 epochs without improvement\n",
            "Training complete.\n"
          ]
        },
        {
          "name": "stderr",
          "output_type": "stream",
          "text": [
            "Validate Epoch test: 100%|██████████| 486/486 [03:00<00:00,  2.69it/s, WMAPE=1.81, DICE=0.0577, DPEAKS=31.5, Loss=0.00542]\n"
          ]
        },
        {
          "name": "stdout",
          "output_type": "stream",
          "text": [
            "Partition 14: training decoder\n",
            "Loaded best model from partition 13\n",
            "Epoch [1/100]\n"
          ]
        },
        {
          "name": "stderr",
          "output_type": "stream",
          "text": [
            "Train Epoch 1: 100%|██████████| 77/77 [01:10<00:00,  1.09it/s, WMAPE=2.18, DICE=0.0638, DPEAKS=36.8, Loss=0.00639]\n",
            "Validate Epoch 1: 100%|██████████| 20/20 [00:10<00:00,  1.86it/s, WMAPE=1.85, DICE=0.0578, DPEAKS=29.4, Loss=0.00549]\n"
          ]
        },
        {
          "name": "stdout",
          "output_type": "stream",
          "text": [
            "Saving best model\n",
            "Epoch [2/100]\n"
          ]
        },
        {
          "name": "stderr",
          "output_type": "stream",
          "text": [
            "Train Epoch 2: 100%|██████████| 77/77 [01:07<00:00,  1.13it/s, WMAPE=1.89, DICE=0.0579, DPEAKS=32.2, Loss=0.00547]\n",
            "Validate Epoch 2: 100%|██████████| 20/20 [00:09<00:00,  2.01it/s, WMAPE=1.87, DICE=0.0576, DPEAKS=32, Loss=0.00548]\n"
          ]
        },
        {
          "name": "stdout",
          "output_type": "stream",
          "text": [
            "Saving best model\n",
            "Epoch [3/100]\n"
          ]
        },
        {
          "name": "stderr",
          "output_type": "stream",
          "text": [
            "Train Epoch 3: 100%|██████████| 77/77 [01:09<00:00,  1.11it/s, WMAPE=1.87, DICE=0.0576, DPEAKS=32.7, Loss=0.00548]\n",
            "Validate Epoch 3: 100%|██████████| 20/20 [00:09<00:00,  2.04it/s, WMAPE=2.01, DICE=0.0576, DPEAKS=30.6, Loss=0.00604]\n"
          ]
        },
        {
          "name": "stdout",
          "output_type": "stream",
          "text": [
            "Epoch [4/100]\n"
          ]
        },
        {
          "name": "stderr",
          "output_type": "stream",
          "text": [
            "Train Epoch 4: 100%|██████████| 77/77 [01:09<00:00,  1.11it/s, WMAPE=1.86, DICE=0.0581, DPEAKS=32.6, Loss=0.00543]\n",
            "Validate Epoch 4: 100%|██████████| 20/20 [00:10<00:00,  1.88it/s, WMAPE=1.93, DICE=0.0573, DPEAKS=31.8, Loss=0.00572]\n"
          ]
        },
        {
          "name": "stdout",
          "output_type": "stream",
          "text": [
            "Epoch [5/100]\n"
          ]
        },
        {
          "name": "stderr",
          "output_type": "stream",
          "text": [
            "Train Epoch 5: 100%|██████████| 77/77 [01:09<00:00,  1.11it/s, WMAPE=1.86, DICE=0.0577, DPEAKS=31.2, Loss=0.00537]\n",
            "Validate Epoch 5: 100%|██████████| 20/20 [00:10<00:00,  1.99it/s, WMAPE=1.9, DICE=0.0576, DPEAKS=30.4, Loss=0.00557]\n"
          ]
        },
        {
          "name": "stdout",
          "output_type": "stream",
          "text": [
            "Epoch [6/100]\n"
          ]
        },
        {
          "name": "stderr",
          "output_type": "stream",
          "text": [
            "Train Epoch 6: 100%|██████████| 77/77 [01:07<00:00,  1.14it/s, WMAPE=1.88, DICE=0.0585, DPEAKS=32.9, Loss=0.00544]\n",
            "Validate Epoch 6: 100%|██████████| 20/20 [00:09<00:00,  2.02it/s, WMAPE=1.91, DICE=0.0579, DPEAKS=30.8, Loss=0.00571]\n"
          ]
        },
        {
          "name": "stdout",
          "output_type": "stream",
          "text": [
            "Epoch [7/100]\n"
          ]
        },
        {
          "name": "stderr",
          "output_type": "stream",
          "text": [
            "Train Epoch 7: 100%|██████████| 77/77 [01:07<00:00,  1.14it/s, WMAPE=1.84, DICE=0.0579, DPEAKS=32.8, Loss=0.00531]\n",
            "Validate Epoch 7: 100%|██████████| 20/20 [00:10<00:00,  1.99it/s, WMAPE=2.12, DICE=0.058, DPEAKS=31.4, Loss=0.00614]\n"
          ]
        },
        {
          "name": "stdout",
          "output_type": "stream",
          "text": [
            "Epoch [8/100]\n"
          ]
        },
        {
          "name": "stderr",
          "output_type": "stream",
          "text": [
            "Train Epoch 8: 100%|██████████| 77/77 [01:07<00:00,  1.14it/s, WMAPE=1.78, DICE=0.0578, DPEAKS=32.3, Loss=0.00517]\n",
            "Validate Epoch 8: 100%|██████████| 20/20 [00:09<00:00,  2.04it/s, WMAPE=1.89, DICE=0.0575, DPEAKS=30.7, Loss=0.0056]\n"
          ]
        },
        {
          "name": "stdout",
          "output_type": "stream",
          "text": [
            "early stopping: 6 epochs without improvement\n",
            "Training complete.\n"
          ]
        },
        {
          "name": "stderr",
          "output_type": "stream",
          "text": [
            "Validate Epoch test: 100%|██████████| 486/486 [02:58<00:00,  2.72it/s, WMAPE=1.83, DICE=0.0576, DPEAKS=32.1, Loss=0.00536]\n"
          ]
        },
        {
          "name": "stdout",
          "output_type": "stream",
          "text": [
            "Partition 15: training decoder\n",
            "Loaded best model from partition 14\n",
            "Epoch [1/100]\n"
          ]
        },
        {
          "name": "stderr",
          "output_type": "stream",
          "text": [
            "Train Epoch 1: 100%|██████████| 77/77 [01:11<00:00,  1.07it/s, WMAPE=2.14, DICE=0.0649, DPEAKS=39.5, Loss=0.00643]\n",
            "Validate Epoch 1: 100%|██████████| 20/20 [00:10<00:00,  1.83it/s, WMAPE=1.83, DICE=0.0579, DPEAKS=30.1, Loss=0.00538]\n"
          ]
        },
        {
          "name": "stdout",
          "output_type": "stream",
          "text": [
            "Saving best model\n",
            "Epoch [2/100]\n"
          ]
        },
        {
          "name": "stderr",
          "output_type": "stream",
          "text": [
            "Train Epoch 2: 100%|██████████| 77/77 [01:06<00:00,  1.16it/s, WMAPE=1.85, DICE=0.0574, DPEAKS=31.6, Loss=0.00548]\n",
            "Validate Epoch 2: 100%|██████████| 20/20 [00:09<00:00,  2.03it/s, WMAPE=1.81, DICE=0.0573, DPEAKS=29.5, Loss=0.00525]\n"
          ]
        },
        {
          "name": "stdout",
          "output_type": "stream",
          "text": [
            "Saving best model\n",
            "Epoch [3/100]\n"
          ]
        },
        {
          "name": "stderr",
          "output_type": "stream",
          "text": [
            "Train Epoch 3: 100%|██████████| 77/77 [01:06<00:00,  1.16it/s, WMAPE=1.93, DICE=0.059, DPEAKS=32.6, Loss=0.00568]\n",
            "Validate Epoch 3: 100%|██████████| 20/20 [00:10<00:00,  2.00it/s, WMAPE=1.87, DICE=0.059, DPEAKS=31.1, Loss=0.00547]\n"
          ]
        },
        {
          "name": "stdout",
          "output_type": "stream",
          "text": [
            "Epoch [4/100]\n"
          ]
        },
        {
          "name": "stderr",
          "output_type": "stream",
          "text": [
            "Train Epoch 4: 100%|██████████| 77/77 [01:07<00:00,  1.14it/s, WMAPE=1.86, DICE=0.0576, DPEAKS=31.5, Loss=0.00548]\n",
            "Validate Epoch 4: 100%|██████████| 20/20 [00:09<00:00,  2.03it/s, WMAPE=1.84, DICE=0.0584, DPEAKS=31, Loss=0.00533]\n"
          ]
        },
        {
          "name": "stdout",
          "output_type": "stream",
          "text": [
            "Epoch [5/100]\n"
          ]
        },
        {
          "name": "stderr",
          "output_type": "stream",
          "text": [
            "Train Epoch 5: 100%|██████████| 77/77 [01:06<00:00,  1.16it/s, WMAPE=1.83, DICE=0.0576, DPEAKS=31.8, Loss=0.00542]\n",
            "Validate Epoch 5: 100%|██████████| 20/20 [00:09<00:00,  2.07it/s, WMAPE=1.88, DICE=0.0582, DPEAKS=30.7, Loss=0.00551]\n"
          ]
        },
        {
          "name": "stdout",
          "output_type": "stream",
          "text": [
            "Epoch [6/100]\n"
          ]
        },
        {
          "name": "stderr",
          "output_type": "stream",
          "text": [
            "Train Epoch 6: 100%|██████████| 77/77 [01:06<00:00,  1.16it/s, WMAPE=1.8, DICE=0.0573, DPEAKS=31.2, Loss=0.00534]\n",
            "Validate Epoch 6: 100%|██████████| 20/20 [00:09<00:00,  2.06it/s, WMAPE=1.92, DICE=0.0585, DPEAKS=30.6, Loss=0.00569]\n"
          ]
        },
        {
          "name": "stdout",
          "output_type": "stream",
          "text": [
            "Epoch [7/100]\n"
          ]
        },
        {
          "name": "stderr",
          "output_type": "stream",
          "text": [
            "Train Epoch 7: 100%|██████████| 77/77 [01:06<00:00,  1.16it/s, WMAPE=1.8, DICE=0.0574, DPEAKS=31.7, Loss=0.0053]\n",
            "Validate Epoch 7: 100%|██████████| 20/20 [00:09<00:00,  2.02it/s, WMAPE=1.85, DICE=0.0572, DPEAKS=29.8, Loss=0.00533]\n"
          ]
        },
        {
          "name": "stdout",
          "output_type": "stream",
          "text": [
            "Epoch [8/100]\n"
          ]
        },
        {
          "name": "stderr",
          "output_type": "stream",
          "text": [
            "Train Epoch 8: 100%|██████████| 77/77 [01:07<00:00,  1.14it/s, WMAPE=1.74, DICE=0.0574, DPEAKS=31.7, Loss=0.00516]\n",
            "Validate Epoch 8: 100%|██████████| 20/20 [00:10<00:00,  1.97it/s, WMAPE=1.86, DICE=0.0576, DPEAKS=31.5, Loss=0.00548]\n"
          ]
        },
        {
          "name": "stdout",
          "output_type": "stream",
          "text": [
            "early stopping: 6 epochs without improvement\n",
            "Training complete.\n"
          ]
        },
        {
          "name": "stderr",
          "output_type": "stream",
          "text": [
            "Validate Epoch test: 100%|██████████| 486/486 [02:55<00:00,  2.77it/s, WMAPE=1.82, DICE=0.0571, DPEAKS=31.2, Loss=0.00534]\n"
          ]
        },
        {
          "name": "stdout",
          "output_type": "stream",
          "text": [
            "Partition 16: training full\n",
            "Loaded best model from partition 15\n",
            "Epoch [1/100]\n"
          ]
        },
        {
          "name": "stderr",
          "output_type": "stream",
          "text": [
            "Train Epoch 1: 100%|██████████| 77/77 [01:14<00:00,  1.03it/s, WMAPE=2.85, DICE=0.0894, DPEAKS=61.6, Loss=0.0089]\n",
            "Validate Epoch 1: 100%|██████████| 20/20 [00:10<00:00,  1.85it/s, WMAPE=1.82, DICE=0.0629, DPEAKS=37.8, Loss=0.00592]\n"
          ]
        },
        {
          "name": "stdout",
          "output_type": "stream",
          "text": [
            "Saving best model\n",
            "Epoch [2/100]\n"
          ]
        },
        {
          "name": "stderr",
          "output_type": "stream",
          "text": [
            "Train Epoch 2: 100%|██████████| 77/77 [01:08<00:00,  1.12it/s, WMAPE=2.03, DICE=0.0607, DPEAKS=35.9, Loss=0.00602]\n",
            "Validate Epoch 2: 100%|██████████| 20/20 [00:09<00:00,  2.07it/s, WMAPE=1.86, DICE=0.0582, DPEAKS=34.3, Loss=0.00572]\n"
          ]
        },
        {
          "name": "stdout",
          "output_type": "stream",
          "text": [
            "Saving best model\n",
            "Epoch [3/100]\n"
          ]
        },
        {
          "name": "stderr",
          "output_type": "stream",
          "text": [
            "Train Epoch 3: 100%|██████████| 77/77 [01:09<00:00,  1.10it/s, WMAPE=1.99, DICE=0.0588, DPEAKS=33.5, Loss=0.00589]\n",
            "Validate Epoch 3: 100%|██████████| 20/20 [00:10<00:00,  1.99it/s, WMAPE=1.78, DICE=0.0585, DPEAKS=33.4, Loss=0.00543]\n"
          ]
        },
        {
          "name": "stdout",
          "output_type": "stream",
          "text": [
            "Saving best model\n",
            "Epoch [4/100]\n"
          ]
        },
        {
          "name": "stderr",
          "output_type": "stream",
          "text": [
            "Train Epoch 4: 100%|██████████| 77/77 [01:09<00:00,  1.11it/s, WMAPE=1.93, DICE=0.059, DPEAKS=35, Loss=0.00573]\n",
            "Validate Epoch 4: 100%|██████████| 20/20 [00:09<00:00,  2.05it/s, WMAPE=1.94, DICE=0.0633, DPEAKS=41.6, Loss=0.00613]\n"
          ]
        },
        {
          "name": "stdout",
          "output_type": "stream",
          "text": [
            "Epoch [5/100]\n"
          ]
        },
        {
          "name": "stderr",
          "output_type": "stream",
          "text": [
            "Train Epoch 5: 100%|██████████| 77/77 [01:09<00:00,  1.11it/s, WMAPE=1.89, DICE=0.0598, DPEAKS=36.1, Loss=0.0056]\n",
            "Validate Epoch 5: 100%|██████████| 20/20 [00:09<00:00,  2.06it/s, WMAPE=1.8, DICE=0.0592, DPEAKS=36.1, Loss=0.0054]\n"
          ]
        },
        {
          "name": "stdout",
          "output_type": "stream",
          "text": [
            "Saving best model\n",
            "Epoch [6/100]\n"
          ]
        },
        {
          "name": "stderr",
          "output_type": "stream",
          "text": [
            "Train Epoch 6: 100%|██████████| 77/77 [01:09<00:00,  1.11it/s, WMAPE=1.89, DICE=0.0596, DPEAKS=35, Loss=0.00559]\n",
            "Validate Epoch 6: 100%|██████████| 20/20 [00:09<00:00,  2.02it/s, WMAPE=1.69, DICE=0.0582, DPEAKS=35, Loss=0.00539]\n"
          ]
        },
        {
          "name": "stdout",
          "output_type": "stream",
          "text": [
            "Saving best model\n",
            "Epoch [7/100]\n"
          ]
        },
        {
          "name": "stderr",
          "output_type": "stream",
          "text": [
            "Train Epoch 7: 100%|██████████| 77/77 [01:10<00:00,  1.10it/s, WMAPE=1.76, DICE=0.0586, DPEAKS=34.3, Loss=0.00527]\n",
            "Validate Epoch 7: 100%|██████████| 20/20 [00:09<00:00,  2.05it/s, WMAPE=1.73, DICE=0.0575, DPEAKS=35, Loss=0.00536]\n"
          ]
        },
        {
          "name": "stdout",
          "output_type": "stream",
          "text": [
            "Saving best model\n",
            "Epoch [8/100]\n"
          ]
        },
        {
          "name": "stderr",
          "output_type": "stream",
          "text": [
            "Train Epoch 8: 100%|██████████| 77/77 [01:09<00:00,  1.11it/s, WMAPE=1.81, DICE=0.0595, DPEAKS=36.6, Loss=0.00545]\n",
            "Validate Epoch 8: 100%|██████████| 20/20 [00:10<00:00,  1.90it/s, WMAPE=1.74, DICE=0.058, DPEAKS=36.3, Loss=0.00534]\n"
          ]
        },
        {
          "name": "stdout",
          "output_type": "stream",
          "text": [
            "Saving best model\n",
            "Epoch [9/100]\n"
          ]
        },
        {
          "name": "stderr",
          "output_type": "stream",
          "text": [
            "Train Epoch 9: 100%|██████████| 77/77 [01:12<00:00,  1.06it/s, WMAPE=1.63, DICE=0.0573, DPEAKS=31.8, Loss=0.00488]\n",
            "Validate Epoch 9: 100%|██████████| 20/20 [00:09<00:00,  2.05it/s, WMAPE=1.9, DICE=0.0589, DPEAKS=34.8, Loss=0.00586]\n"
          ]
        },
        {
          "name": "stdout",
          "output_type": "stream",
          "text": [
            "Epoch [10/100]\n"
          ]
        },
        {
          "name": "stderr",
          "output_type": "stream",
          "text": [
            "Train Epoch 10: 100%|██████████| 77/77 [01:09<00:00,  1.11it/s, WMAPE=1.59, DICE=0.0575, DPEAKS=34.2, Loss=0.00478]\n",
            "Validate Epoch 10: 100%|██████████| 20/20 [00:09<00:00,  2.05it/s, WMAPE=1.86, DICE=0.0569, DPEAKS=31.9, Loss=0.00568]\n"
          ]
        },
        {
          "name": "stdout",
          "output_type": "stream",
          "text": [
            "Epoch [11/100]\n"
          ]
        },
        {
          "name": "stderr",
          "output_type": "stream",
          "text": [
            "Train Epoch 11: 100%|██████████| 77/77 [01:11<00:00,  1.07it/s, WMAPE=1.51, DICE=0.0563, DPEAKS=32, Loss=0.00456]\n",
            "Validate Epoch 11: 100%|██████████| 20/20 [00:09<00:00,  2.05it/s, WMAPE=1.78, DICE=0.0566, DPEAKS=32.3, Loss=0.00553]\n"
          ]
        },
        {
          "name": "stdout",
          "output_type": "stream",
          "text": [
            "Epoch [12/100]\n"
          ]
        },
        {
          "name": "stderr",
          "output_type": "stream",
          "text": [
            "Train Epoch 12: 100%|██████████| 77/77 [01:11<00:00,  1.08it/s, WMAPE=1.64, DICE=0.0573, DPEAKS=34, Loss=0.00494]\n",
            "Validate Epoch 12: 100%|██████████| 20/20 [00:09<00:00,  2.01it/s, WMAPE=1.82, DICE=0.0587, DPEAKS=34.2, Loss=0.00571]\n"
          ]
        },
        {
          "name": "stdout",
          "output_type": "stream",
          "text": [
            "Epoch [13/100]\n"
          ]
        },
        {
          "name": "stderr",
          "output_type": "stream",
          "text": [
            "Train Epoch 13: 100%|██████████| 77/77 [01:10<00:00,  1.09it/s, WMAPE=1.5, DICE=0.0564, DPEAKS=31.5, Loss=0.00453]\n",
            "Validate Epoch 13: 100%|██████████| 20/20 [00:10<00:00,  1.99it/s, WMAPE=1.82, DICE=0.0549, DPEAKS=30.6, Loss=0.00558]\n"
          ]
        },
        {
          "name": "stdout",
          "output_type": "stream",
          "text": [
            "early stopping: 5 epochs without improvement\n",
            "Training complete.\n"
          ]
        },
        {
          "name": "stderr",
          "output_type": "stream",
          "text": [
            "Validate Epoch test: 100%|██████████| 486/486 [03:01<00:00,  2.68it/s, WMAPE=1.9, DICE=0.0581, DPEAKS=33.4, Loss=0.00549]\n"
          ]
        },
        {
          "name": "stdout",
          "output_type": "stream",
          "text": [
            "Partition 17: training decoder\n",
            "Loaded best model from partition 16\n",
            "Epoch [1/100]\n"
          ]
        },
        {
          "name": "stderr",
          "output_type": "stream",
          "text": [
            "Train Epoch 1: 100%|██████████| 77/77 [01:12<00:00,  1.06it/s, WMAPE=2.22, DICE=0.0642, DPEAKS=35.6, Loss=0.0066]\n",
            "Validate Epoch 1: 100%|██████████| 20/20 [00:11<00:00,  1.77it/s, WMAPE=1.76, DICE=0.0566, DPEAKS=30.1, Loss=0.00541]\n"
          ]
        },
        {
          "name": "stdout",
          "output_type": "stream",
          "text": [
            "Saving best model\n",
            "Epoch [2/100]\n"
          ]
        },
        {
          "name": "stderr",
          "output_type": "stream",
          "text": [
            "Train Epoch 2: 100%|██████████| 77/77 [01:12<00:00,  1.06it/s, WMAPE=1.87, DICE=0.056, DPEAKS=29.8, Loss=0.0055]\n",
            "Validate Epoch 2: 100%|██████████| 20/20 [00:10<00:00,  1.92it/s, WMAPE=1.79, DICE=0.0567, DPEAKS=29.4, Loss=0.00536]\n"
          ]
        },
        {
          "name": "stdout",
          "output_type": "stream",
          "text": [
            "Saving best model\n",
            "Epoch [3/100]\n"
          ]
        },
        {
          "name": "stderr",
          "output_type": "stream",
          "text": [
            "Train Epoch 3: 100%|██████████| 77/77 [01:11<00:00,  1.07it/s, WMAPE=1.84, DICE=0.0561, DPEAKS=29.7, Loss=0.00541]\n",
            "Validate Epoch 3: 100%|██████████| 20/20 [00:10<00:00,  1.99it/s, WMAPE=1.71, DICE=0.0557, DPEAKS=29.9, Loss=0.00522]\n"
          ]
        },
        {
          "name": "stdout",
          "output_type": "stream",
          "text": [
            "Saving best model\n",
            "Epoch [4/100]\n"
          ]
        },
        {
          "name": "stderr",
          "output_type": "stream",
          "text": [
            "Train Epoch 4: 100%|██████████| 77/77 [01:08<00:00,  1.12it/s, WMAPE=1.9, DICE=0.0562, DPEAKS=29.8, Loss=0.0055]\n",
            "Validate Epoch 4: 100%|██████████| 20/20 [00:09<00:00,  2.05it/s, WMAPE=1.73, DICE=0.0565, DPEAKS=29.7, Loss=0.00527]\n"
          ]
        },
        {
          "name": "stdout",
          "output_type": "stream",
          "text": [
            "Epoch [5/100]\n"
          ]
        },
        {
          "name": "stderr",
          "output_type": "stream",
          "text": [
            "Train Epoch 5: 100%|██████████| 77/77 [01:06<00:00,  1.16it/s, WMAPE=1.75, DICE=0.0556, DPEAKS=30.1, Loss=0.00514]\n",
            "Validate Epoch 5: 100%|██████████| 20/20 [00:09<00:00,  2.02it/s, WMAPE=2.03, DICE=0.056, DPEAKS=30.4, Loss=0.006]\n"
          ]
        },
        {
          "name": "stdout",
          "output_type": "stream",
          "text": [
            "Epoch [6/100]\n"
          ]
        },
        {
          "name": "stderr",
          "output_type": "stream",
          "text": [
            "Train Epoch 6: 100%|██████████| 77/77 [01:08<00:00,  1.12it/s, WMAPE=1.81, DICE=0.0559, DPEAKS=29.8, Loss=0.00528]\n",
            "Validate Epoch 6: 100%|██████████| 20/20 [00:10<00:00,  1.98it/s, WMAPE=1.86, DICE=0.0561, DPEAKS=29.3, Loss=0.00566]\n"
          ]
        },
        {
          "name": "stdout",
          "output_type": "stream",
          "text": [
            "Epoch [7/100]\n"
          ]
        },
        {
          "name": "stderr",
          "output_type": "stream",
          "text": [
            "Train Epoch 7: 100%|██████████| 77/77 [01:10<00:00,  1.10it/s, WMAPE=1.77, DICE=0.0558, DPEAKS=30.9, Loss=0.00517]\n",
            "Validate Epoch 7: 100%|██████████| 20/20 [00:10<00:00,  1.97it/s, WMAPE=1.95, DICE=0.0569, DPEAKS=29.1, Loss=0.00603]\n"
          ]
        },
        {
          "name": "stdout",
          "output_type": "stream",
          "text": [
            "Epoch [8/100]\n"
          ]
        },
        {
          "name": "stderr",
          "output_type": "stream",
          "text": [
            "Train Epoch 8: 100%|██████████| 77/77 [01:11<00:00,  1.08it/s, WMAPE=1.73, DICE=0.0559, DPEAKS=30.8, Loss=0.00504]\n",
            "Validate Epoch 8: 100%|██████████| 20/20 [00:10<00:00,  1.94it/s, WMAPE=1.88, DICE=0.056, DPEAKS=29.7, Loss=0.00562]\n"
          ]
        },
        {
          "name": "stdout",
          "output_type": "stream",
          "text": [
            "early stopping: 5 epochs without improvement\n",
            "Training complete.\n"
          ]
        },
        {
          "name": "stderr",
          "output_type": "stream",
          "text": [
            "Validate Epoch test: 100%|██████████| 486/486 [03:04<00:00,  2.63it/s, WMAPE=1.79, DICE=0.0555, DPEAKS=31, Loss=0.00525]\n"
          ]
        },
        {
          "name": "stdout",
          "output_type": "stream",
          "text": [
            "Partition 18: training decoder\n",
            "Loaded best model from partition 17\n",
            "Epoch [1/100]\n"
          ]
        },
        {
          "name": "stderr",
          "output_type": "stream",
          "text": [
            "Train Epoch 1: 100%|██████████| 77/77 [01:17<00:00,  1.01s/it, WMAPE=2.08, DICE=0.0617, DPEAKS=33.8, Loss=0.00631]\n",
            "Validate Epoch 1: 100%|██████████| 20/20 [00:11<00:00,  1.75it/s, WMAPE=1.86, DICE=0.0555, DPEAKS=31.7, Loss=0.00545]\n"
          ]
        },
        {
          "name": "stdout",
          "output_type": "stream",
          "text": [
            "Saving best model\n",
            "Epoch [2/100]\n"
          ]
        },
        {
          "name": "stderr",
          "output_type": "stream",
          "text": [
            "Train Epoch 2: 100%|██████████| 77/77 [01:13<00:00,  1.05it/s, WMAPE=1.89, DICE=0.0572, DPEAKS=29.8, Loss=0.00566]\n",
            "Validate Epoch 2: 100%|██████████| 20/20 [00:10<00:00,  1.85it/s, WMAPE=2.08, DICE=0.0559, DPEAKS=34.5, Loss=0.00593]\n"
          ]
        },
        {
          "name": "stdout",
          "output_type": "stream",
          "text": [
            "Epoch [3/100]\n"
          ]
        },
        {
          "name": "stderr",
          "output_type": "stream",
          "text": [
            "Train Epoch 3: 100%|██████████| 77/77 [01:14<00:00,  1.04it/s, WMAPE=1.79, DICE=0.0556, DPEAKS=30.4, Loss=0.00536]\n",
            "Validate Epoch 3: 100%|██████████| 20/20 [00:10<00:00,  1.84it/s, WMAPE=1.86, DICE=0.055, DPEAKS=31.5, Loss=0.00539]\n"
          ]
        },
        {
          "name": "stdout",
          "output_type": "stream",
          "text": [
            "Saving best model\n",
            "Epoch [4/100]\n"
          ]
        },
        {
          "name": "stderr",
          "output_type": "stream",
          "text": [
            "Train Epoch 4: 100%|██████████| 77/77 [01:12<00:00,  1.06it/s, WMAPE=1.78, DICE=0.0555, DPEAKS=28.7, Loss=0.00529]\n",
            "Validate Epoch 4: 100%|██████████| 20/20 [00:10<00:00,  1.90it/s, WMAPE=1.89, DICE=0.0551, DPEAKS=31.6, Loss=0.00569]\n"
          ]
        },
        {
          "name": "stdout",
          "output_type": "stream",
          "text": [
            "Epoch [5/100]\n"
          ]
        },
        {
          "name": "stderr",
          "output_type": "stream",
          "text": [
            "Train Epoch 5: 100%|██████████| 77/77 [01:12<00:00,  1.06it/s, WMAPE=1.75, DICE=0.0555, DPEAKS=28.8, Loss=0.00527]\n",
            "Validate Epoch 5: 100%|██████████| 20/20 [00:10<00:00,  1.88it/s, WMAPE=1.83, DICE=0.0549, DPEAKS=31.9, Loss=0.00542]\n"
          ]
        },
        {
          "name": "stdout",
          "output_type": "stream",
          "text": [
            "Epoch [6/100]\n"
          ]
        },
        {
          "name": "stderr",
          "output_type": "stream",
          "text": [
            "Train Epoch 6: 100%|██████████| 77/77 [01:11<00:00,  1.08it/s, WMAPE=1.72, DICE=0.0555, DPEAKS=29.3, Loss=0.00515]\n",
            "Validate Epoch 6: 100%|██████████| 20/20 [00:10<00:00,  1.91it/s, WMAPE=1.79, DICE=0.055, DPEAKS=33.3, Loss=0.0054]\n"
          ]
        },
        {
          "name": "stdout",
          "output_type": "stream",
          "text": [
            "Epoch [7/100]\n"
          ]
        },
        {
          "name": "stderr",
          "output_type": "stream",
          "text": [
            "Train Epoch 7: 100%|██████████| 77/77 [01:11<00:00,  1.08it/s, WMAPE=1.72, DICE=0.056, DPEAKS=30.3, Loss=0.00517]\n",
            "Validate Epoch 7: 100%|██████████| 20/20 [00:10<00:00,  1.98it/s, WMAPE=1.98, DICE=0.0568, DPEAKS=35.5, Loss=0.006]\n"
          ]
        },
        {
          "name": "stdout",
          "output_type": "stream",
          "text": [
            "Epoch [8/100]\n"
          ]
        },
        {
          "name": "stderr",
          "output_type": "stream",
          "text": [
            "Train Epoch 8: 100%|██████████| 77/77 [01:09<00:00,  1.10it/s, WMAPE=1.7, DICE=0.0558, DPEAKS=29.6, Loss=0.00511]\n",
            "Validate Epoch 8: 100%|██████████| 20/20 [00:10<00:00,  1.98it/s, WMAPE=1.88, DICE=0.0553, DPEAKS=32.2, Loss=0.00552]\n"
          ]
        },
        {
          "name": "stdout",
          "output_type": "stream",
          "text": [
            "early stopping: 5 epochs without improvement\n",
            "Training complete.\n"
          ]
        },
        {
          "name": "stderr",
          "output_type": "stream",
          "text": [
            "Validate Epoch test: 100%|██████████| 486/486 [02:58<00:00,  2.72it/s, WMAPE=1.83, DICE=0.0552, DPEAKS=31.1, Loss=0.00531]\n"
          ]
        },
        {
          "name": "stdout",
          "output_type": "stream",
          "text": [
            "Partition 19: training decoder\n",
            "Loaded best model from partition 18\n",
            "Epoch [1/100]\n"
          ]
        },
        {
          "name": "stderr",
          "output_type": "stream",
          "text": [
            "Train Epoch 1: 100%|██████████| 77/77 [01:13<00:00,  1.05it/s, WMAPE=2.19, DICE=0.0616, DPEAKS=35.2, Loss=0.00661]\n",
            "Validate Epoch 1: 100%|██████████| 20/20 [00:11<00:00,  1.77it/s, WMAPE=1.7, DICE=0.0557, DPEAKS=31.3, Loss=0.00519]\n"
          ]
        },
        {
          "name": "stdout",
          "output_type": "stream",
          "text": [
            "Saving best model\n",
            "Epoch [2/100]\n"
          ]
        },
        {
          "name": "stderr",
          "output_type": "stream",
          "text": [
            "Train Epoch 2: 100%|██████████| 77/77 [01:09<00:00,  1.11it/s, WMAPE=1.83, DICE=0.0555, DPEAKS=30, Loss=0.0054]\n",
            "Validate Epoch 2: 100%|██████████| 20/20 [00:10<00:00,  1.98it/s, WMAPE=1.74, DICE=0.055, DPEAKS=30.5, Loss=0.00541]\n"
          ]
        },
        {
          "name": "stdout",
          "output_type": "stream",
          "text": [
            "Epoch [3/100]\n"
          ]
        },
        {
          "name": "stderr",
          "output_type": "stream",
          "text": [
            "Train Epoch 3: 100%|██████████| 77/77 [01:10<00:00,  1.09it/s, WMAPE=1.81, DICE=0.055, DPEAKS=27.9, Loss=0.00533]\n",
            "Validate Epoch 3: 100%|██████████| 20/20 [00:10<00:00,  1.98it/s, WMAPE=1.89, DICE=0.0554, DPEAKS=31.5, Loss=0.00558]\n"
          ]
        },
        {
          "name": "stdout",
          "output_type": "stream",
          "text": [
            "Epoch [4/100]\n"
          ]
        },
        {
          "name": "stderr",
          "output_type": "stream",
          "text": [
            "Train Epoch 4: 100%|██████████| 77/77 [01:08<00:00,  1.12it/s, WMAPE=1.77, DICE=0.0552, DPEAKS=29.3, Loss=0.00523]\n",
            "Validate Epoch 4: 100%|██████████| 20/20 [00:09<00:00,  2.06it/s, WMAPE=1.68, DICE=0.0554, DPEAKS=32.7, Loss=0.00513]\n"
          ]
        },
        {
          "name": "stdout",
          "output_type": "stream",
          "text": [
            "Saving best model\n",
            "Epoch [5/100]\n"
          ]
        },
        {
          "name": "stderr",
          "output_type": "stream",
          "text": [
            "Train Epoch 5: 100%|██████████| 77/77 [01:05<00:00,  1.18it/s, WMAPE=1.77, DICE=0.0554, DPEAKS=28.5, Loss=0.00521]\n",
            "Validate Epoch 5: 100%|██████████| 20/20 [00:09<00:00,  2.13it/s, WMAPE=1.7, DICE=0.0562, DPEAKS=31.7, Loss=0.00518]\n"
          ]
        },
        {
          "name": "stdout",
          "output_type": "stream",
          "text": [
            "Epoch [6/100]\n"
          ]
        },
        {
          "name": "stderr",
          "output_type": "stream",
          "text": [
            "Train Epoch 6: 100%|██████████| 77/77 [01:03<00:00,  1.20it/s, WMAPE=1.73, DICE=0.0551, DPEAKS=30.1, Loss=0.00509]\n",
            "Validate Epoch 6: 100%|██████████| 20/20 [00:09<00:00,  2.13it/s, WMAPE=1.83, DICE=0.0556, DPEAKS=31.9, Loss=0.00534]\n"
          ]
        },
        {
          "name": "stdout",
          "output_type": "stream",
          "text": [
            "Epoch [7/100]\n"
          ]
        },
        {
          "name": "stderr",
          "output_type": "stream",
          "text": [
            "Train Epoch 7: 100%|██████████| 77/77 [01:03<00:00,  1.21it/s, WMAPE=1.81, DICE=0.0563, DPEAKS=31, Loss=0.00534]\n",
            "Validate Epoch 7: 100%|██████████| 20/20 [00:09<00:00,  2.14it/s, WMAPE=1.87, DICE=0.0573, DPEAKS=31.4, Loss=0.00588]\n"
          ]
        },
        {
          "name": "stdout",
          "output_type": "stream",
          "text": [
            "Epoch [8/100]\n"
          ]
        },
        {
          "name": "stderr",
          "output_type": "stream",
          "text": [
            "Train Epoch 8: 100%|██████████| 77/77 [01:06<00:00,  1.16it/s, WMAPE=1.69, DICE=0.0553, DPEAKS=28.6, Loss=0.00502]\n",
            "Validate Epoch 8: 100%|██████████| 20/20 [00:10<00:00,  1.91it/s, WMAPE=1.73, DICE=0.0549, DPEAKS=32.1, Loss=0.00524]\n"
          ]
        },
        {
          "name": "stdout",
          "output_type": "stream",
          "text": [
            "Epoch [9/100]\n"
          ]
        },
        {
          "name": "stderr",
          "output_type": "stream",
          "text": [
            "Train Epoch 9: 100%|██████████| 77/77 [01:08<00:00,  1.12it/s, WMAPE=1.65, DICE=0.0551, DPEAKS=28, Loss=0.00487]\n",
            "Validate Epoch 9: 100%|██████████| 20/20 [00:09<00:00,  2.02it/s, WMAPE=1.81, DICE=0.0555, DPEAKS=30.3, Loss=0.00542]\n"
          ]
        },
        {
          "name": "stdout",
          "output_type": "stream",
          "text": [
            "early stopping: 5 epochs without improvement\n",
            "Training complete.\n"
          ]
        },
        {
          "name": "stderr",
          "output_type": "stream",
          "text": [
            "Validate Epoch test: 100%|██████████| 486/486 [02:55<00:00,  2.77it/s, WMAPE=1.76, DICE=0.0552, DPEAKS=31.3, Loss=0.00521]\n"
          ]
        },
        {
          "name": "stdout",
          "output_type": "stream",
          "text": [
            "Partition 20: training decoder\n",
            "Loaded best model from partition 19\n",
            "Epoch [1/100]\n"
          ]
        },
        {
          "name": "stderr",
          "output_type": "stream",
          "text": [
            "Train Epoch 1: 100%|██████████| 77/77 [01:11<00:00,  1.08it/s, WMAPE=2.19, DICE=0.0644, DPEAKS=38.1, Loss=0.00667]\n",
            "Validate Epoch 1: 100%|██████████| 20/20 [00:11<00:00,  1.81it/s, WMAPE=1.77, DICE=0.0551, DPEAKS=34.1, Loss=0.00522]\n"
          ]
        },
        {
          "name": "stdout",
          "output_type": "stream",
          "text": [
            "Saving best model\n",
            "Epoch [2/100]\n"
          ]
        },
        {
          "name": "stderr",
          "output_type": "stream",
          "text": [
            "Train Epoch 2: 100%|██████████| 77/77 [01:08<00:00,  1.13it/s, WMAPE=1.79, DICE=0.0549, DPEAKS=31.5, Loss=0.0054]\n",
            "Validate Epoch 2: 100%|██████████| 20/20 [00:09<00:00,  2.07it/s, WMAPE=1.78, DICE=0.055, DPEAKS=31.4, Loss=0.00518]\n"
          ]
        },
        {
          "name": "stdout",
          "output_type": "stream",
          "text": [
            "Saving best model\n",
            "Epoch [3/100]\n"
          ]
        },
        {
          "name": "stderr",
          "output_type": "stream",
          "text": [
            "Train Epoch 3: 100%|██████████| 77/77 [01:04<00:00,  1.19it/s, WMAPE=1.79, DICE=0.0549, DPEAKS=31.9, Loss=0.00539]\n",
            "Validate Epoch 3: 100%|██████████| 20/20 [00:09<00:00,  2.12it/s, WMAPE=1.85, DICE=0.0546, DPEAKS=31.2, Loss=0.00537]\n"
          ]
        },
        {
          "name": "stdout",
          "output_type": "stream",
          "text": [
            "Epoch [4/100]\n"
          ]
        },
        {
          "name": "stderr",
          "output_type": "stream",
          "text": [
            "Train Epoch 4: 100%|██████████| 77/77 [01:03<00:00,  1.21it/s, WMAPE=1.78, DICE=0.0554, DPEAKS=31.6, Loss=0.00535]\n",
            "Validate Epoch 4: 100%|██████████| 20/20 [00:09<00:00,  2.14it/s, WMAPE=1.84, DICE=0.056, DPEAKS=33.2, Loss=0.00534]\n"
          ]
        },
        {
          "name": "stdout",
          "output_type": "stream",
          "text": [
            "Epoch [5/100]\n"
          ]
        },
        {
          "name": "stderr",
          "output_type": "stream",
          "text": [
            "Train Epoch 5: 100%|██████████| 77/77 [01:03<00:00,  1.21it/s, WMAPE=1.73, DICE=0.0548, DPEAKS=31.6, Loss=0.0052]\n",
            "Validate Epoch 5: 100%|██████████| 20/20 [00:09<00:00,  2.03it/s, WMAPE=1.78, DICE=0.0549, DPEAKS=32.5, Loss=0.00518]\n"
          ]
        },
        {
          "name": "stdout",
          "output_type": "stream",
          "text": [
            "Epoch [6/100]\n"
          ]
        },
        {
          "name": "stderr",
          "output_type": "stream",
          "text": [
            "Train Epoch 6: 100%|██████████| 77/77 [01:07<00:00,  1.14it/s, WMAPE=1.74, DICE=0.0549, DPEAKS=31.8, Loss=0.00523]\n",
            "Validate Epoch 6: 100%|██████████| 20/20 [00:09<00:00,  2.06it/s, WMAPE=1.91, DICE=0.0557, DPEAKS=33.7, Loss=0.00547]\n"
          ]
        },
        {
          "name": "stdout",
          "output_type": "stream",
          "text": [
            "Epoch [7/100]\n"
          ]
        },
        {
          "name": "stderr",
          "output_type": "stream",
          "text": [
            "Train Epoch 7: 100%|██████████| 77/77 [01:06<00:00,  1.17it/s, WMAPE=1.74, DICE=0.0554, DPEAKS=31.7, Loss=0.00525]\n",
            "Validate Epoch 7: 100%|██████████| 20/20 [00:09<00:00,  2.02it/s, WMAPE=1.83, DICE=0.0551, DPEAKS=32.9, Loss=0.00529]\n"
          ]
        },
        {
          "name": "stdout",
          "output_type": "stream",
          "text": [
            "Epoch [8/100]\n"
          ]
        },
        {
          "name": "stderr",
          "output_type": "stream",
          "text": [
            "Train Epoch 8: 100%|██████████| 77/77 [01:05<00:00,  1.18it/s, WMAPE=1.68, DICE=0.0551, DPEAKS=32.3, Loss=0.00505]\n",
            "Validate Epoch 8: 100%|██████████| 20/20 [00:09<00:00,  2.10it/s, WMAPE=1.81, DICE=0.0553, DPEAKS=32.5, Loss=0.00525]\n"
          ]
        },
        {
          "name": "stdout",
          "output_type": "stream",
          "text": [
            "early stopping: 6 epochs without improvement\n",
            "Training complete.\n"
          ]
        },
        {
          "name": "stderr",
          "output_type": "stream",
          "text": [
            "Validate Epoch test: 100%|██████████| 486/486 [02:52<00:00,  2.81it/s, WMAPE=1.78, DICE=0.055, DPEAKS=30.4, Loss=0.00521]\n"
          ]
        }
      ],
      "source": [
        "criterion = L1LogLoss()\n",
        "many_partitions_v2(11,21,model,criterion,transform=transform)"
      ]
    },
    {
      "cell_type": "code",
      "execution_count": null,
      "metadata": {},
      "outputs": [],
      "source": []
    }
  ],
  "metadata": {
    "accelerator": "GPU",
    "colab": {
      "gpuType": "T4",
      "provenance": []
    },
    "kernelspec": {
      "display_name": "Python 3",
      "name": "python3"
    },
    "language_info": {
      "codemirror_mode": {
        "name": "ipython",
        "version": 3
      },
      "file_extension": ".py",
      "mimetype": "text/x-python",
      "name": "python",
      "nbconvert_exporter": "python",
      "pygments_lexer": "ipython3",
      "version": "3.12.5"
    }
  },
  "nbformat": 4,
  "nbformat_minor": 0
}
