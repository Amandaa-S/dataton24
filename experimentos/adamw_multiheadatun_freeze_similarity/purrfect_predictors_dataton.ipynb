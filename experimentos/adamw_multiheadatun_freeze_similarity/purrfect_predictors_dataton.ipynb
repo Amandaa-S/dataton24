{
  "cells": [
    {
      "cell_type": "markdown",
      "metadata": {},
      "source": [
        "## Carga modulo comun"
      ]
    },
    {
      "cell_type": "code",
      "execution_count": 1,
      "metadata": {},
      "outputs": [],
      "source": [
        "import sys\n",
        "import os\n",
        "sys.path.append(os.path.abspath('../../common'))"
      ]
    },
    {
      "cell_type": "code",
      "execution_count": 2,
      "metadata": {},
      "outputs": [],
      "source": [
        "import torch\n",
        "import torch.nn as nn\n",
        "import torch.nn.functional as F\n",
        "\n",
        "from purrfect.dataset import load_partition,save_partition, create_train_valid_loaders, RandomTransform\n",
        "\n",
        "from purrfect.training import train_model\n",
        "import torch.optim as optim\n",
        "\n",
        "from purrfect.active_learning import create_new_partition, test_model\n",
        "\n",
        "from sklearn.model_selection import train_test_split\n",
        "#from purrfect.submission import create_submission"
      ]
    },
    {
      "cell_type": "code",
      "execution_count": 3,
      "metadata": {},
      "outputs": [],
      "source": [
        "DEVICE = torch.device('cuda' if torch.cuda.is_available() else 'cpu')\n",
        "BATCH_SIZE = 32*2\n",
        "USE_AUTOCAST = True\n",
        "EARLY_STOPPING_PATIENCE = 5\n",
        "EARLY_STOPPING_GRACE_PERIOD = 8"
      ]
    },
    {
      "cell_type": "markdown",
      "metadata": {},
      "source": [
        "## Definición modelo"
      ]
    },
    {
      "cell_type": "code",
      "execution_count": 4,
      "metadata": {},
      "outputs": [],
      "source": [
        "class GradientMagnitude(nn.Module):\n",
        "    def __init__(self):\n",
        "        super(GradientMagnitude, self).__init__()\n",
        "        # Define Sobel filters for computing gradients in x and y directions\n",
        "        sobel_x = torch.tensor([[-1, 0, 1], [-2, 0, 2], [-1, 0, 1]], dtype=torch.float32,device=DEVICE)\n",
        "        sobel_y = torch.tensor([[-1, -2, -1], [0, 0, 0], [1, 2, 1]], dtype=torch.float32,device=DEVICE)\n",
        "        \n",
        "        # Sobel filters need to be reshaped for convolution: (out_channels, in_channels, height, width)\n",
        "        # Apply the filters across all channels by expanding them to shape (C, 1, 3, 3)\n",
        "        self.sobel_x = sobel_x.view(1, 1, 3, 3)\n",
        "        self.sobel_y = sobel_y.view(1, 1, 3, 3)\n",
        "    \n",
        "    def forward(self, x):\n",
        "        B, C, W, H = x.shape\n",
        "        \n",
        "        # Apply Sobel filters to compute gradients in x and y directions for all channels\n",
        "        grad_x = F.conv2d(x, self.sobel_x.expand(C, 1, 3, 3), groups=C, padding=1)\n",
        "        grad_y = F.conv2d(x, self.sobel_y.expand(C, 1, 3, 3), groups=C, padding=1)\n",
        "        \n",
        "        # Compute gradient magnitude: sqrt(grad_x^2 + grad_y^2)\n",
        "        grad_mag = torch.sqrt(grad_x**2 + grad_y**2)\n",
        "        \n",
        "        return grad_mag\n",
        "def aggregate_similarity_cosine(tensor):\n",
        "    # tensor is of shape (B, 2, H, W)\n",
        "    #B, C, H, W = tensor.shape\n",
        "    #assert C == 2, \"The channel dimension must represent 2D vectors (x, y components)\"\n",
        "\n",
        "    # Define shifts for neighboring vectors (up, down, left, right) and stack them\n",
        "    shift_up = F.pad(tensor[:, :, 1:, :], (0, 0, 0, 1))  # Shift up\n",
        "    shift_down = F.pad(tensor[:, :, :-1, :], (0, 0, 1, 0))  # Shift down\n",
        "    shift_left = F.pad(tensor[:, :, :, 1:], (0, 1, 0, 0))  # Shift left\n",
        "    shift_right = F.pad(tensor[:, :, :, :-1], (1, 0, 0, 0))  # Shift right\n",
        "\n",
        "    # Stack shifted neighbors into a single tensor of shape (B, 2, H, W, 4)\n",
        "    neighbors = torch.stack((shift_up, shift_down, shift_left, shift_right), dim=4)  # (B, 2, H, W, 4)\n",
        "    # Calculate dot product for all neighbors\n",
        "    dot_product = (tensor.unsqueeze(4) * neighbors).sum(dim=1,keepdim=True)  # (B, 1, H, W, 4)\n",
        "    # Calculate mean, max, and min along the neighbor dimension (dim=4)\n",
        "    #mean_similarity = dot_product.mean(dim=4, keepdim=True)  # (B, 1, H, W, 1)\n",
        "    max_similarity = dot_product.max(dim=4, keepdim=True).values  # (B, 1, H, W, 1)\n",
        "    min_similarity = dot_product.min(dim=4, keepdim=True).values  # (B, 1, H, W, 1)\n",
        "\n",
        "    # Concatenate mean, max, and min similarities along the channel dimension\n",
        "    aggregate_similarity = torch.cat((max_similarity, min_similarity), dim=1)  # (B, 3, H, W,1)\n",
        "\n",
        "    return aggregate_similarity.squeeze(-1)  # (B, 3, H, W)\n",
        "class ChannelAdder(nn.Module):\n",
        "    def __init__(self):\n",
        "        super(ChannelAdder, self).__init__()\n",
        "        self.grad_magnitude = GradientMagnitude()\n",
        "\n",
        "    def forward(self, x):\n",
        "        \n",
        "        # Extract the first two channels (e1 and e2) and the third channel (delta) directly\n",
        "        e = x[:, :2, :, :]  # Shape (B, 2, H, W)\n",
        "        delta = x[:, 2:3, :, :]  # Shape (B, 1, H, W)\n",
        "\n",
        "        # Calculate the magnitude in one step (B, 1, H, W)\n",
        "        magnitude = torch.norm(e, dim=1, keepdim=True)  # Efficient norm calculation\n",
        "\n",
        "        # Calculate the angle using atan2 to avoid division by zero and handle quadrant\n",
        "        angle = 0.5 * torch.atan2(e[:, 0, :, :], e[:, 1, :, :]).unsqueeze(1)  # (B, 1, H, W)\n",
        "\n",
        "        # Compute the weighted components e1_weighted and e2_weighted\n",
        "        e_norm = e / magnitude  # Split along channel dimension\n",
        "\n",
        "        # Compute the cross product\n",
        "        e = x[:, :2, :, :]  # Shape (B, 2, H, W)\n",
        "        cross_product = e[:, 0:1, :, :] * e[:, 1:2, :, :]  # Efficient cross-product (B, 1, H, W)\n",
        "\n",
        "        simmilarity = aggregate_similarity_cosine(e_norm)\n",
        "        # Concatenate all the channels (original and new) into the output tensor\n",
        "        output = torch.cat([\n",
        "            e,\n",
        "            magnitude,\n",
        "            angle,\n",
        "            e_norm,\n",
        "            self.grad_magnitude(e),\n",
        "            #cross_product,\n",
        "            #delta,\n",
        "            simmilarity #min max and mean simmilarity\n",
        "        ], dim=1)\n",
        "        #output = torch.cat([output, self.grad_magnitude(output)], dim=1)\n",
        "\n",
        "        return output"
      ]
    },
    {
      "cell_type": "code",
      "execution_count": 5,
      "metadata": {},
      "outputs": [],
      "source": [
        "BN_MOMENTUM = 0.1\n",
        "def kaiming_init(module,\n",
        "                 a=0,\n",
        "                 mode='fan_out',\n",
        "                 nonlinearity='relu',\n",
        "                 bias=0,\n",
        "                 distribution='normal'):\n",
        "    assert distribution in ['uniform', 'normal']\n",
        "    if distribution == 'uniform':\n",
        "        nn.init.kaiming_uniform_(\n",
        "            module.weight, a=a, mode=mode, nonlinearity=nonlinearity)\n",
        "    else:\n",
        "        nn.init.kaiming_normal_(\n",
        "            module.weight, a=a, mode=mode, nonlinearity=nonlinearity)\n",
        "    if hasattr(module, 'bias') and module.bias is not None:\n",
        "        nn.init.constant_(module.bias, bias)\n",
        "class PA(nn.Module):\n",
        "    def __init__(self, inplanes, planes, kernel_size=1, stride=1):\n",
        "        super(PA, self).__init__()\n",
        "\n",
        "        self.inplanes = inplanes\n",
        "        self.inter_planes = planes // 2\n",
        "        self.planes = planes\n",
        "        self.kernel_size = kernel_size\n",
        "        self.stride = stride\n",
        "        self.padding = (kernel_size - 1) // 2\n",
        "        ratio = 4\n",
        "\n",
        "        self.conv_q_right = nn.Conv2d(self.inplanes, 1, kernel_size=1, stride=stride, padding=0, bias=False)\n",
        "        self.conv_v_right = nn.Conv2d(self.inplanes, self.inter_planes, kernel_size=1, stride=stride, padding=0,\n",
        "                                      bias=False)\n",
        "        # self.conv_up = nn.Conv2d(self.inter_planes, self.planes, kernel_size=1, stride=1, padding=0, bias=False)\n",
        "        self.conv_up = nn.Sequential(\n",
        "            nn.Conv2d(self.inter_planes, self.inter_planes // ratio, kernel_size=1),\n",
        "            nn.LayerNorm([self.inter_planes // ratio, 1, 1]),\n",
        "            nn.ReLU(inplace=True),\n",
        "            nn.Conv2d(self.inter_planes // ratio, self.planes, kernel_size=1)\n",
        "        )\n",
        "        self.softmax_right = nn.Softmax(dim=2)\n",
        "        self.sigmoid = nn.Sigmoid()\n",
        "\n",
        "        self.conv_q_left = nn.Conv2d(self.inplanes, self.inter_planes, kernel_size=1, stride=stride, padding=0,\n",
        "                                     bias=False)  # g\n",
        "        self.avg_pool = nn.AdaptiveAvgPool2d(1)\n",
        "        self.conv_v_left = nn.Conv2d(self.inplanes, self.inter_planes, kernel_size=1, stride=stride, padding=0,\n",
        "                                     bias=False)  # theta\n",
        "        self.softmax_left = nn.Softmax(dim=2)\n",
        "\n",
        "        self.reset_parameters()\n",
        "    def reset_parameters(self):\n",
        "        kaiming_init(self.conv_q_right, mode='fan_in')\n",
        "        kaiming_init(self.conv_v_right, mode='fan_in')\n",
        "        kaiming_init(self.conv_q_left, mode='fan_in')\n",
        "        kaiming_init(self.conv_v_left, mode='fan_in')\n",
        "\n",
        "        self.conv_q_right.inited = True\n",
        "        self.conv_v_right.inited = True\n",
        "        self.conv_q_left.inited = True\n",
        "        self.conv_v_left.inited = True\n",
        "\n",
        "    def spatial_pool_mask(self, x):\n",
        "        input_x = self.conv_v_right(x)\n",
        "\n",
        "        batch, channel, height, width = input_x.size()\n",
        "\n",
        "        # [N, IC, H*W]\n",
        "        input_x = input_x.view(batch, channel, height * width)\n",
        "\n",
        "        # [N, 1, H, W]\n",
        "        context_mask = self.conv_q_right(x)\n",
        "\n",
        "        # [N, 1, H*W]\n",
        "        context_mask = context_mask.view(batch, 1, height * width)\n",
        "\n",
        "        # [N, 1, H*W]\n",
        "        context_mask = self.softmax_right(context_mask)\n",
        "\n",
        "        # [N, IC, 1]\n",
        "        # context = torch.einsum('ndw,new->nde', input_x, context_mask)\n",
        "        context = torch.matmul(input_x, context_mask.transpose(1, 2))\n",
        "\n",
        "        # [N, IC, 1, 1]\n",
        "        context = context.unsqueeze(-1)\n",
        "\n",
        "        # [N, OC, 1, 1]\n",
        "        context = self.conv_up(context)\n",
        "\n",
        "        # [N, OC, 1, 1]\n",
        "        mask_ch = self.sigmoid(context)\n",
        "        return mask_ch\n",
        "\n",
        "    def channel_pool_mask(self, x):\n",
        "        # [N, IC, H, W]\n",
        "        g_x = self.conv_q_left(x)\n",
        "\n",
        "        batch, channel, height, width = g_x.size()\n",
        "\n",
        "        # [N, IC, 1, 1]\n",
        "        avg_x = self.avg_pool(g_x)\n",
        "\n",
        "        batch, channel, avg_x_h, avg_x_w = avg_x.size()\n",
        "\n",
        "        # [N, 1, IC]\n",
        "        avg_x = avg_x.view(batch, channel, avg_x_h * avg_x_w).permute(0, 2, 1)\n",
        "\n",
        "        # [N, IC, H*W]\n",
        "        theta_x = self.conv_v_left(x).view(batch, self.inter_planes, height * width)\n",
        "\n",
        "        # [N, IC, H*W]\n",
        "        theta_x = self.softmax_left(theta_x)\n",
        "\n",
        "        # [N, 1, H*W]\n",
        "        # context = torch.einsum('nde,new->ndw', avg_x, theta_x)\n",
        "        context = torch.matmul(avg_x, theta_x)\n",
        "\n",
        "        # [N, 1, H, W]\n",
        "        context = context.view(batch, 1, height, width)\n",
        "\n",
        "        # [N, 1, H, W]\n",
        "        mask_sp = self.sigmoid(context)\n",
        "        return mask_sp\n",
        "    def forward(self, x, y):\n",
        "        sp_mask = self.spatial_pool_mask(y)\n",
        "        ch_mask = self.channel_pool_mask(y)\n",
        "        return x * sp_mask * ch_mask\n",
        "    \n",
        "\n",
        "class PSA(nn.Module):\n",
        "    def __init__(self, inplanes, planes, kernel_size=1, stride=1):\n",
        "        super(PSA, self).__init__()\n",
        "        self.pa = PA(inplanes, planes, kernel_size, stride)\n",
        "\n",
        "    def forward(self, x):\n",
        "        return self.pa(x,x)\n",
        "\n",
        "class ConBnRelu(nn.Module):\n",
        "    def __init__(self, in_channels, out_channels, kernel_size, stride=1, padding=0, dilation=1,bias=True):\n",
        "        super(ConBnRelu, self).__init__()\n",
        "        self.conv = nn.Conv2d(in_channels, out_channels, kernel_size=kernel_size, stride=stride, padding=padding,\n",
        "                              dilation=dilation, bias=bias)\n",
        "        self.bn = nn.BatchNorm2d(out_channels, momentum=BN_MOMENTUM)\n",
        "        self.relu = nn.ReLU(inplace=True)\n",
        "    def forward(self, x):\n",
        "        out = self.conv(x)\n",
        "        out = self.bn(out)\n",
        "        out = self.relu(out)\n",
        "        return out\n",
        "class DoubleConv(nn.Module):\n",
        "    expansion = 1\n",
        "\n",
        "    def __init__(self, in_channels, out_channels, use_attention=True):\n",
        "        super(DoubleConv, self).__init__()\n",
        "        if use_attention:\n",
        "            self.seq = nn.Sequential(\n",
        "                ConBnRelu(in_channels, out_channels, kernel_size=3, stride=1, padding=1, bias=True),\n",
        "                PSA(out_channels, out_channels),\n",
        "                ConBnRelu(out_channels, out_channels, kernel_size=3, stride=1, padding=1, bias=True)\n",
        "            )\n",
        "        else:\n",
        "            self.seq = nn.Sequential(\n",
        "                ConBnRelu(in_channels, out_channels, kernel_size=3, stride=1, padding=1, bias=True),\n",
        "                ConBnRelu(out_channels, out_channels, kernel_size=3, stride=1, padding=1, bias=True)\n",
        "            )\n",
        "\n",
        "        self.rescale = nn.Conv2d(in_channels, out_channels, kernel_size=1, stride=1, padding=0, bias=True)\n",
        "\n",
        "    def forward(self, x):\n",
        "        return self.seq(x) + self.rescale(x)\n",
        "\n",
        "class UNetEncoder(nn.Module):\n",
        "    def __init__(self, i_ch=16):\n",
        "        super(UNetEncoder, self).__init__()\n",
        "        # Encoder\n",
        "        self.encoder1 = nn.Sequential(\n",
        "            nn.AvgPool2d(2),  # i_chx128x128 -> i_chx64x64\n",
        "            DoubleConv(i_ch, i_ch * 2)  # i_chx64x64 -> (i_ch * 2)x64x64\n",
        "        )\n",
        "        self.encoder2 = nn.Sequential(\n",
        "            nn.AvgPool2d(2),  # (i_ch * 2)x64x64 -> (i_ch * 2)x32x32\n",
        "            DoubleConv(i_ch * 2, i_ch * 4)  # (i_ch * 2)x32x32 -> (i_ch * 4)x32x32\n",
        "        )\n",
        "        self.encoder3 = nn.Sequential(\n",
        "            nn.AvgPool2d(2),  # (i_ch * 4)x32x32 -> (i_ch * 4)x16x16\n",
        "            DoubleConv(i_ch * 4, i_ch * 8)  # (i_ch * 4)x16x16 -> (i_ch * 8)x16x16\n",
        "        )\n",
        "        self.encoder4 = nn.Sequential(\n",
        "            nn.AvgPool2d(2),  # (i_ch * 8)x16x16 -> (i_ch * 8)x8x8\n",
        "            DoubleConv(i_ch * 8, i_ch * 16)  # (i_ch * 8)x8x8 -> (i_ch * 16)x8x8\n",
        "        )\n",
        "    def forward(self, x):\n",
        "        e1 = self.encoder1(x)\n",
        "        e2 = self.encoder2(e1)\n",
        "        e3 = self.encoder3(e2)\n",
        "        e4 = self.encoder4(e3)\n",
        "        return e1, e2, e3, e4\n",
        "class UNetDecoder(nn.Module):\n",
        "    def __init__(self, i_ch=16):\n",
        "        super(UNetDecoder, self).__init__()\n",
        "        # Decoder\n",
        "        self.attention4 = PA(i_ch * 16, i_ch * 16)\n",
        "        self.upconv4 = nn.ConvTranspose2d(i_ch * 16*2, i_ch * 16, kernel_size=2, stride=2)  # (i_ch * 16)x8x8 -> (i_ch * 8)x16x16\n",
        "        self.decoder4 = DoubleConv(i_ch * 16, i_ch * 8)  # (i_ch * 16)x16x16 -> (i_ch * 8)x16x16\n",
        "\n",
        "        self.attention3 = PA(i_ch * 8, i_ch * 8)\n",
        "        self.upconv3 = nn.ConvTranspose2d(i_ch * 8*2, i_ch * 8, kernel_size=2, stride=2)  # (i_ch * 8)x16x16 -> (i_ch * 4)x32x32\n",
        "        self.decoder3 = DoubleConv(i_ch * 8, i_ch * 4)  # (i_ch * 8)x32x32 -> (i_ch * 4)x32x32\n",
        "\n",
        "        self.attention2 = PA(i_ch * 4, i_ch * 4)\n",
        "        self.upconv2 = nn.ConvTranspose2d(i_ch * 4*2, i_ch * 4, kernel_size=2, stride=2)  # (i_ch * 4)x32x32 -> (i_ch * 2)x64x64\n",
        "        self.decoder2 = DoubleConv(i_ch * 4, i_ch * 2)  # (i_ch * 4)x64x64 -> (i_ch * 2)x64x64\n",
        "\n",
        "        self.attention1 = PA(i_ch*2, i_ch*2)\n",
        "        self.upconv1 = nn.ConvTranspose2d(i_ch * 2*2, i_ch*2, kernel_size=2, stride=2)  # (i_ch * 2)x64x64 -> i_chx128x128\n",
        "        self.decoder1 = DoubleConv(i_ch * 2, i_ch)  # (i_ch * 2)x128x128 -> i_chx128x128\n",
        "    def forward(self, x, e1, e2, e3, e4):\n",
        "        d4 = torch.cat((self.attention4(e4, x), x), dim=1)\n",
        "        d4 = self.upconv4(d4)\n",
        "        d4 = self.decoder4(d4)\n",
        "\n",
        "        d3 = torch.cat((self.attention3(e3, d4), d4), dim=1)\n",
        "        d3 = self.upconv3(d3)\n",
        "        d3 = self.decoder3(d3)\n",
        "\n",
        "        \n",
        "        d2 = torch.cat((self.attention2(e2, d3), d3), dim=1)\n",
        "        d2 = self.upconv2(d2)\n",
        "        d2 = self.decoder2(d2)\n",
        "\n",
        "        \n",
        "        d1 = torch.cat((self.attention1(e1, d2), d2), dim=1)\n",
        "        d1 = self.upconv1(d1)\n",
        "        d1 = self.decoder1(d1)\n",
        "        return d1\n",
        "class UNetBottleneck(nn.Module):\n",
        "    def __init__(self,input_ch=16):\n",
        "        super(UNetBottleneck, self).__init__()\n",
        "        self.bottleneck = nn.Sequential(\n",
        "            DoubleConv(input_ch * 16, input_ch*16),\n",
        "            DoubleConv(input_ch * 16, input_ch*16)\n",
        "        )\n",
        "    def forward(self, x):\n",
        "        return self.bottleneck(x)\n",
        "class MultiHeadUNet(nn.Module):\n",
        "    def __init__(self, in_channels, out_channels, i_ch=16):\n",
        "        super(MultiHeadUNet, self).__init__()\n",
        "        \n",
        "        self.embedder1 = nn.Sequential(\n",
        "            DoubleConv(in_channels, i_ch),  # in_channelsx128x128 -> i_chx128x128\n",
        "            DoubleConv(i_ch, i_ch),  # i_chx128x128 -> i_chx128x128\n",
        "        )\n",
        "        self.embedder2 = nn.Sequential(\n",
        "            DoubleConv(in_channels, i_ch),  # in_channelsx128x128 -> i_chx128x128\n",
        "            DoubleConv(i_ch, i_ch),  # i_chx128x128 -> i_chx128x128\n",
        "        )\n",
        "        self.embedder3 = nn.Sequential(\n",
        "            DoubleConv(in_channels, i_ch),  # in_channelsx128x128 -> i_chx128x128\n",
        "            DoubleConv(i_ch, i_ch),  # i_chx128x128 -> i_chx128x128\n",
        "        )\n",
        "\n",
        "        self.embedder4 = nn.Sequential(\n",
        "            DoubleConv(in_channels, i_ch),  # in_channelsx128x128 -> i_chx128x128\n",
        "            DoubleConv(i_ch, i_ch),  # i_chx128x128 -> i_chx128x128\n",
        "        )\n",
        "\n",
        "        self.embedder5 = nn.Sequential(\n",
        "            DoubleConv(in_channels, i_ch),  # in_channelsx128x128 -> i_chx128x128\n",
        "            DoubleConv(i_ch, i_ch),  # i_chx128x128 -> i_chx128x128\n",
        "        )\n",
        "        \n",
        "        self.encoder1 = UNetEncoder(i_ch)\n",
        "        self.encoder2 = UNetEncoder(i_ch)\n",
        "        self.encoder3 = UNetEncoder(i_ch)\n",
        "        self.encoder4 = UNetEncoder(i_ch)\n",
        "        self.encoder5 = UNetEncoder(i_ch)\n",
        "\n",
        "        self.compress_e1 = nn.Conv2d(i_ch * 2 * 5, i_ch * 2, kernel_size=1)\n",
        "        self.compress_e2 = nn.Conv2d(i_ch * 4 * 5, i_ch * 4, kernel_size=1)\n",
        "        self.compress_e3 = nn.Conv2d(i_ch * 8 * 5, i_ch * 8, kernel_size=1)\n",
        "        self.compress_e4 = nn.Conv2d(i_ch * 16 * 5, i_ch * 16, kernel_size=1)\n",
        "\n",
        "        self.bottleneck = UNetBottleneck(i_ch)\n",
        "        self.decoder = UNetDecoder(i_ch)\n",
        "        self.output = nn.Conv2d(i_ch, out_channels, kernel_size=1)\n",
        "    def freeze_encoder(self,freeze=True):\n",
        "        for param in self.encoder1.parameters():\n",
        "            param.requires_grad = not freeze\n",
        "        for param in self.encoder2.parameters():\n",
        "            param.requires_grad = not freeze\n",
        "        for param in self.encoder3.parameters():\n",
        "            param.requires_grad = not freeze\n",
        "        for param in self.encoder4.parameters():\n",
        "            param.requires_grad = not freeze\n",
        "        for param in self.encoder5.parameters():\n",
        "            param.requires_grad = not freeze\n",
        "    def forward(self, x1,x2,x3,x4,x5):\n",
        "        e1_1,e2_1,e3_1,e4_1 = self.encoder1(self.embedder1(x1))\n",
        "        e1_2,e2_2,e3_2,e4_2 = self.encoder2(self.embedder2(x2))\n",
        "        e1_3,e2_3,e3_3,e4_3 = self.encoder3(self.embedder3(x3))\n",
        "        e1_4,e2_4,e3_4,e4_4 = self.encoder4(self.embedder4(x4))\n",
        "        e1_5,e2_5,e3_5,e4_5 = self.encoder5(self.embedder5(x5))\n",
        "\n",
        "        e1 = torch.cat([e1_1,e1_2,e1_3,e1_4,e1_5],dim=1)\n",
        "        e2 = torch.cat([e2_1,e2_2,e2_3,e2_4,e2_5],dim=1)\n",
        "        e3 = torch.cat([e3_1,e3_2,e3_3,e3_4,e3_5],dim=1)\n",
        "        e4 = torch.cat([e4_1,e4_2,e4_3,e4_4,e4_5],dim=1)\n",
        "\n",
        "        e1 = self.compress_e1(e1)\n",
        "        e2 = self.compress_e2(e2)\n",
        "        e3 = self.compress_e3(e3)\n",
        "        e4 = self.compress_e4(e4)\n",
        "\n",
        "        b = self.bottleneck(e4)\n",
        "        d = self.decoder(b, e1, e2, e3, e4)\n",
        "        return self.output(d)\n",
        "\n",
        "class KappaPredictor(nn.Module):\n",
        "    def __init__(self):\n",
        "        super(KappaPredictor, self).__init__()\n",
        "        self.channel_adder = ChannelAdder()\n",
        "        self.bn = nn.BatchNorm2d(10)\n",
        "        self.unet = MultiHeadUNet(2, 1,i_ch=8)\n",
        "    def freeze_encoder(self,freeze=True):\n",
        "        if freeze:\n",
        "            for param in self.bn.parameters():\n",
        "                param.requires_grad = not freeze\n",
        "        self.unet.freeze_encoder(freeze)\n",
        "    def forward(self, x):\n",
        "        x = self.channel_adder(x)\n",
        "        x = self.bn(x)\n",
        "        x1,x2,x3,x4,x5 = torch.split(x, 2, dim=1)\n",
        "        out = self.unet(x1,x2,x3,x4,x5)\n",
        "        return out"
      ]
    },
    {
      "cell_type": "markdown",
      "metadata": {},
      "source": [
        "## Creación particion inicial"
      ]
    },
    {
      "cell_type": "code",
      "execution_count": 6,
      "metadata": {},
      "outputs": [],
      "source": [
        "def create_next_partitions(current_partition,k=1):#Creacion de particiones train y valid\n",
        "    init_partition = []\n",
        "    for i in range(k):\n",
        "        init_partition += load_partition(f\"partition_{k*current_partition+(i+1)}.json\")\n",
        "        #print(f\"partition_{k*current_partition+(i+1)}.json\")\n",
        "\n",
        "    train_partition, val_partition = train_test_split(init_partition, test_size=0.2, random_state=42)\n",
        "    save_partition(f\"partition_{current_partition+1}_train.json\",\"partitions\",train_partition)\n",
        "    save_partition(f\"partition_{current_partition+1}_val.json\",\"partitions\",val_partition)"
      ]
    },
    {
      "cell_type": "code",
      "execution_count": 7,
      "metadata": {},
      "outputs": [],
      "source": [
        "def load_best_model_so_far(model, last_saved_partition):\n",
        "    best_loss = float('inf')\n",
        "    best_partition = 0\n",
        "    for partition in range(1,last_saved_partition+1):\n",
        "        checkpoint = torch.load(f\"models/last_checkpoint_partition_{partition}.pth\",weights_only=False)\n",
        "        if checkpoint['best_loss'] < best_loss:\n",
        "            best_loss = checkpoint['best_loss']\n",
        "            best_partition = partition\n",
        "    model.load_state_dict(torch.load(f\"models/best_model_partition_{best_partition}.pth\",weights_only=True))\n",
        "    print(f\"Loaded best model from partition {best_partition} with loss {best_loss}\")\n",
        "def load_last_best_model(model, last_saved_partition):\n",
        "    #for from last_saved_partition to 1 looking if exists a best model file. if there is then load it and return\n",
        "    for partition in range(last_saved_partition,0,-1):\n",
        "        if os.path.exists(f\"models/best_model_partition_{partition}.pth\"):\n",
        "            model.load_state_dict(torch.load(f\"models/best_model_partition_{partition}.pth\",weights_only=True))\n",
        "            print(f\"Loaded best model from partition {partition}\")\n",
        "            return\n",
        "    print(f\"There is no best model saved\")"
      ]
    },
    {
      "cell_type": "code",
      "execution_count": 8,
      "metadata": {},
      "outputs": [],
      "source": [
        "create_next_partitions(0,1)"
      ]
    },
    {
      "cell_type": "code",
      "execution_count": 9,
      "metadata": {},
      "outputs": [],
      "source": [
        "def many_partitions_v2(start,end,model,criterion,transform=None,full_frecuency=5):\n",
        "    for current_partition in range(start,end):\n",
        "        if current_partition %full_frecuency==1:\n",
        "            print(f\"Partition {current_partition}: training full\")\n",
        "            model.freeze_encoder(False)\n",
        "        else:\n",
        "            print(f\"Partition {current_partition}: training decoder\")\n",
        "            model.freeze_encoder(True)\n",
        "        load_last_best_model(model,current_partition-1)\n",
        "        create_next_partitions(current_partition-1)\n",
        "        train_loader, val_loader = create_train_valid_loaders(\n",
        "            f\"partition_{current_partition}_train.json\",\n",
        "            f\"partition_{current_partition}_val.json\",\n",
        "            \"partitions\",\n",
        "            batch_size=BATCH_SIZE,\n",
        "            transform=transform,\n",
        "        )\n",
        "        best_model_path = os.path.join(\n",
        "            \"models\", f\"best_model_partition_{current_partition}.pth\"\n",
        "        )\n",
        "        last_checkpoint_path = os.path.join(\n",
        "            \"models\", f\"last_checkpoint_partition_{current_partition}.pth\"\n",
        "        )\n",
        "        optimizer = optim.AdamW(model.parameters())\n",
        "        train_model(\n",
        "            model,\n",
        "            train_loader,\n",
        "            val_loader,\n",
        "            best_model_path,\n",
        "            last_checkpoint_path,\n",
        "            criterion,\n",
        "            optimizer,\n",
        "            num_epochs=50,\n",
        "            device=DEVICE,\n",
        "            early_stopping_patience=EARLY_STOPPING_PATIENCE,\n",
        "            use_autocast=USE_AUTOCAST,\n",
        "            early_stopping_grace_period=EARLY_STOPPING_GRACE_PERIOD,\n",
        "        )\n",
        "        if os.path.exists(best_model_path):\n",
        "            model.load_state_dict(torch.load(best_model_path,weights_only=True))\n",
        "            test_model(model,criterion,device=DEVICE,batch_size=BATCH_SIZE,experiment_name=f\"adamw_atunet_freeze__{current_partition}\")\n",
        "        else:\n",
        "            print(\"No best model found in partition\",current_partition)\n",
        "        "
      ]
    },
    {
      "cell_type": "markdown",
      "metadata": {},
      "source": [
        "## Carga modelo"
      ]
    },
    {
      "cell_type": "markdown",
      "metadata": {},
      "source": []
    },
    {
      "cell_type": "code",
      "execution_count": 10,
      "metadata": {},
      "outputs": [],
      "source": [
        "#Define model\n",
        "model = KappaPredictor().to(DEVICE)\n",
        "# Define Loss\n",
        "criterion = nn.L1Loss()\n",
        "transform = None#RandomTransform()"
      ]
    },
    {
      "cell_type": "code",
      "execution_count": 11,
      "metadata": {},
      "outputs": [
        {
          "data": {
            "text/plain": [
              "2898672"
            ]
          },
          "execution_count": 11,
          "metadata": {},
          "output_type": "execute_result"
        }
      ],
      "source": [
        "sum([p.numel() for p in model.parameters() if p.requires_grad])"
      ]
    },
    {
      "cell_type": "code",
      "execution_count": 12,
      "metadata": {},
      "outputs": [
        {
          "name": "stdout",
          "output_type": "stream",
          "text": [
            "Partition 1: training full\n",
            "There is no best model saved\n",
            "Epoch [1/50]\n"
          ]
        },
        {
          "name": "stderr",
          "output_type": "stream",
          "text": [
            "Train Epoch 1: 100%|██████████| 77/77 [01:02<00:00,  1.24it/s, WMAPE=7.66, DICE=0.387, DPEAKS=170, Loss=0.0311]\n",
            "Validate Epoch 1: 100%|██████████| 20/20 [00:07<00:00,  2.80it/s, WMAPE=6.72, DICE=0.261, DPEAKS=141, Loss=0.0233]\n"
          ]
        },
        {
          "name": "stdout",
          "output_type": "stream",
          "text": [
            "Saving best model\n",
            "Epoch [2/50]\n"
          ]
        },
        {
          "name": "stderr",
          "output_type": "stream",
          "text": [
            "Train Epoch 2: 100%|██████████| 77/77 [01:00<00:00,  1.28it/s, WMAPE=4.44, DICE=0.199, DPEAKS=122, Loss=0.0148]\n",
            "Validate Epoch 2: 100%|██████████| 20/20 [00:07<00:00,  2.83it/s, WMAPE=3.83, DICE=0.174, DPEAKS=121, Loss=0.0128]\n"
          ]
        },
        {
          "name": "stdout",
          "output_type": "stream",
          "text": [
            "Saving best model\n",
            "Epoch [3/50]\n"
          ]
        },
        {
          "name": "stderr",
          "output_type": "stream",
          "text": [
            "Train Epoch 3: 100%|██████████| 77/77 [01:00<00:00,  1.28it/s, WMAPE=3.63, DICE=0.164, DPEAKS=109, Loss=0.0122]\n",
            "Validate Epoch 3: 100%|██████████| 20/20 [00:07<00:00,  2.81it/s, WMAPE=3.44, DICE=0.158, DPEAKS=105, Loss=0.0118]\n"
          ]
        },
        {
          "name": "stdout",
          "output_type": "stream",
          "text": [
            "Saving best model\n",
            "Epoch [4/50]\n"
          ]
        },
        {
          "name": "stderr",
          "output_type": "stream",
          "text": [
            "Train Epoch 4: 100%|██████████| 77/77 [01:00<00:00,  1.28it/s, WMAPE=3.49, DICE=0.153, DPEAKS=104, Loss=0.0114]\n",
            "Validate Epoch 4: 100%|██████████| 20/20 [00:07<00:00,  2.81it/s, WMAPE=3.74, DICE=0.149, DPEAKS=102, Loss=0.012]\n"
          ]
        },
        {
          "name": "stdout",
          "output_type": "stream",
          "text": [
            "Epoch [5/50]\n"
          ]
        },
        {
          "name": "stderr",
          "output_type": "stream",
          "text": [
            "Train Epoch 5: 100%|██████████| 77/77 [00:59<00:00,  1.28it/s, WMAPE=3.2, DICE=0.142, DPEAKS=92.8, Loss=0.0105]\n",
            "Validate Epoch 5: 100%|██████████| 20/20 [00:07<00:00,  2.82it/s, WMAPE=5.01, DICE=0.143, DPEAKS=92, Loss=0.0143]\n"
          ]
        },
        {
          "name": "stdout",
          "output_type": "stream",
          "text": [
            "Epoch [6/50]\n"
          ]
        },
        {
          "name": "stderr",
          "output_type": "stream",
          "text": [
            "Train Epoch 6: 100%|██████████| 77/77 [00:59<00:00,  1.28it/s, WMAPE=3.14, DICE=0.137, DPEAKS=89.3, Loss=0.0102]\n",
            "Validate Epoch 6: 100%|██████████| 20/20 [00:07<00:00,  2.81it/s, WMAPE=3.88, DICE=0.166, DPEAKS=123, Loss=0.0124]\n"
          ]
        },
        {
          "name": "stdout",
          "output_type": "stream",
          "text": [
            "Epoch [7/50]\n"
          ]
        },
        {
          "name": "stderr",
          "output_type": "stream",
          "text": [
            "Train Epoch 7: 100%|██████████| 77/77 [01:00<00:00,  1.28it/s, WMAPE=3.12, DICE=0.138, DPEAKS=89.4, Loss=0.0101]\n",
            "Validate Epoch 7: 100%|██████████| 20/20 [00:07<00:00,  2.83it/s, WMAPE=3.68, DICE=0.142, DPEAKS=90.3, Loss=0.0124]\n"
          ]
        },
        {
          "name": "stdout",
          "output_type": "stream",
          "text": [
            "Epoch [8/50]\n"
          ]
        },
        {
          "name": "stderr",
          "output_type": "stream",
          "text": [
            "Train Epoch 8: 100%|██████████| 77/77 [01:00<00:00,  1.28it/s, WMAPE=3.03, DICE=0.132, DPEAKS=85.1, Loss=0.00981]\n",
            "Validate Epoch 8: 100%|██████████| 20/20 [00:07<00:00,  2.84it/s, WMAPE=4.03, DICE=0.13, DPEAKS=88.6, Loss=0.0119]\n"
          ]
        },
        {
          "name": "stdout",
          "output_type": "stream",
          "text": [
            "early stopping: 5 epochs without improvement\n",
            "Training complete.\n"
          ]
        },
        {
          "name": "stderr",
          "output_type": "stream",
          "text": [
            "Validate Epoch test: 100%|██████████| 486/486 [02:39<00:00,  3.05it/s, WMAPE=3.53, DICE=0.159, DPEAKS=102, Loss=0.0119]\n"
          ]
        },
        {
          "name": "stdout",
          "output_type": "stream",
          "text": [
            "Partition 2: training decoder\n",
            "Loaded best model from partition 1\n",
            "Epoch [1/50]\n"
          ]
        },
        {
          "name": "stderr",
          "output_type": "stream",
          "text": [
            "Train Epoch 1: 100%|██████████| 77/77 [00:55<00:00,  1.40it/s, WMAPE=3.66, DICE=0.158, DPEAKS=107, Loss=0.0119]\n",
            "Validate Epoch 1: 100%|██████████| 20/20 [00:06<00:00,  2.90it/s, WMAPE=5.8, DICE=0.158, DPEAKS=97.6, Loss=0.0163]\n"
          ]
        },
        {
          "name": "stdout",
          "output_type": "stream",
          "text": [
            "Saving best model\n",
            "Epoch [2/50]\n"
          ]
        },
        {
          "name": "stderr",
          "output_type": "stream",
          "text": [
            "Train Epoch 2: 100%|██████████| 77/77 [00:55<00:00,  1.40it/s, WMAPE=3.38, DICE=0.146, DPEAKS=99.3, Loss=0.0109]\n",
            "Validate Epoch 2: 100%|██████████| 20/20 [00:06<00:00,  2.87it/s, WMAPE=3.55, DICE=0.147, DPEAKS=101, Loss=0.0108]\n"
          ]
        },
        {
          "name": "stdout",
          "output_type": "stream",
          "text": [
            "Saving best model\n",
            "Epoch [3/50]\n"
          ]
        },
        {
          "name": "stderr",
          "output_type": "stream",
          "text": [
            "Train Epoch 3: 100%|██████████| 77/77 [00:55<00:00,  1.40it/s, WMAPE=3.36, DICE=0.143, DPEAKS=93.5, Loss=0.0107]\n",
            "Validate Epoch 3: 100%|██████████| 20/20 [00:06<00:00,  2.86it/s, WMAPE=3.17, DICE=0.14, DPEAKS=88, Loss=0.0104]\n"
          ]
        },
        {
          "name": "stdout",
          "output_type": "stream",
          "text": [
            "Saving best model\n",
            "Epoch [4/50]\n"
          ]
        },
        {
          "name": "stderr",
          "output_type": "stream",
          "text": [
            "Train Epoch 4: 100%|██████████| 77/77 [00:55<00:00,  1.39it/s, WMAPE=3.26, DICE=0.14, DPEAKS=91.8, Loss=0.0106]\n",
            "Validate Epoch 4: 100%|██████████| 20/20 [00:06<00:00,  2.90it/s, WMAPE=4.7, DICE=0.15, DPEAKS=98.8, Loss=0.0139]\n"
          ]
        },
        {
          "name": "stdout",
          "output_type": "stream",
          "text": [
            "Epoch [5/50]\n"
          ]
        },
        {
          "name": "stderr",
          "output_type": "stream",
          "text": [
            "Train Epoch 5: 100%|██████████| 77/77 [00:55<00:00,  1.40it/s, WMAPE=3.25, DICE=0.139, DPEAKS=91.9, Loss=0.0105]\n",
            "Validate Epoch 5: 100%|██████████| 20/20 [00:06<00:00,  2.90it/s, WMAPE=4.34, DICE=0.142, DPEAKS=85.9, Loss=0.0125]\n"
          ]
        },
        {
          "name": "stdout",
          "output_type": "stream",
          "text": [
            "Epoch [6/50]\n"
          ]
        },
        {
          "name": "stderr",
          "output_type": "stream",
          "text": [
            "Train Epoch 6: 100%|██████████| 77/77 [00:55<00:00,  1.40it/s, WMAPE=3.13, DICE=0.136, DPEAKS=88, Loss=0.0101]\n",
            "Validate Epoch 6: 100%|██████████| 20/20 [00:06<00:00,  2.91it/s, WMAPE=3.42, DICE=0.143, DPEAKS=89.3, Loss=0.0111]\n"
          ]
        },
        {
          "name": "stdout",
          "output_type": "stream",
          "text": [
            "Epoch [7/50]\n"
          ]
        },
        {
          "name": "stderr",
          "output_type": "stream",
          "text": [
            "Train Epoch 7: 100%|██████████| 77/77 [00:54<00:00,  1.42it/s, WMAPE=3.12, DICE=0.133, DPEAKS=85.6, Loss=0.01]\n",
            "Validate Epoch 7: 100%|██████████| 20/20 [00:06<00:00,  3.07it/s, WMAPE=3.28, DICE=0.138, DPEAKS=83, Loss=0.0102]\n"
          ]
        },
        {
          "name": "stdout",
          "output_type": "stream",
          "text": [
            "Saving best model\n",
            "Epoch [8/50]\n"
          ]
        },
        {
          "name": "stderr",
          "output_type": "stream",
          "text": [
            "Train Epoch 8: 100%|██████████| 77/77 [00:51<00:00,  1.50it/s, WMAPE=3.14, DICE=0.131, DPEAKS=83.9, Loss=0.00998]\n",
            "Validate Epoch 8: 100%|██████████| 20/20 [00:06<00:00,  3.06it/s, WMAPE=6.15, DICE=0.147, DPEAKS=95.9, Loss=0.0193]\n"
          ]
        },
        {
          "name": "stdout",
          "output_type": "stream",
          "text": [
            "Epoch [9/50]\n"
          ]
        },
        {
          "name": "stderr",
          "output_type": "stream",
          "text": [
            "Train Epoch 9: 100%|██████████| 77/77 [00:51<00:00,  1.50it/s, WMAPE=3.29, DICE=0.143, DPEAKS=93.7, Loss=0.0106]\n",
            "Validate Epoch 9: 100%|██████████| 20/20 [00:06<00:00,  3.07it/s, WMAPE=3.46, DICE=0.151, DPEAKS=107, Loss=0.0113]\n"
          ]
        },
        {
          "name": "stdout",
          "output_type": "stream",
          "text": [
            "Epoch [10/50]\n"
          ]
        },
        {
          "name": "stderr",
          "output_type": "stream",
          "text": [
            "Train Epoch 10: 100%|██████████| 77/77 [00:51<00:00,  1.50it/s, WMAPE=3.09, DICE=0.134, DPEAKS=85.9, Loss=0.00994]\n",
            "Validate Epoch 10: 100%|██████████| 20/20 [00:06<00:00,  3.05it/s, WMAPE=3.46, DICE=0.135, DPEAKS=82.1, Loss=0.0103]\n"
          ]
        },
        {
          "name": "stdout",
          "output_type": "stream",
          "text": [
            "Epoch [11/50]\n"
          ]
        },
        {
          "name": "stderr",
          "output_type": "stream",
          "text": [
            "Train Epoch 11: 100%|██████████| 77/77 [00:51<00:00,  1.50it/s, WMAPE=3.02, DICE=0.129, DPEAKS=80.6, Loss=0.0096]\n",
            "Validate Epoch 11: 100%|██████████| 20/20 [00:06<00:00,  3.07it/s, WMAPE=3.68, DICE=0.13, DPEAKS=77.7, Loss=0.0106]\n"
          ]
        },
        {
          "name": "stdout",
          "output_type": "stream",
          "text": [
            "Epoch [12/50]\n"
          ]
        },
        {
          "name": "stderr",
          "output_type": "stream",
          "text": [
            "Train Epoch 12: 100%|██████████| 77/77 [00:51<00:00,  1.50it/s, WMAPE=2.93, DICE=0.126, DPEAKS=77.8, Loss=0.0093]\n",
            "Validate Epoch 12: 100%|██████████| 20/20 [00:06<00:00,  3.05it/s, WMAPE=4, DICE=0.128, DPEAKS=78.1, Loss=0.0125]\n"
          ]
        },
        {
          "name": "stdout",
          "output_type": "stream",
          "text": [
            "early stopping: 5 epochs without improvement\n",
            "Training complete.\n"
          ]
        },
        {
          "name": "stderr",
          "output_type": "stream",
          "text": [
            "Validate Epoch test: 100%|██████████| 486/486 [02:30<00:00,  3.23it/s, WMAPE=3.23, DICE=0.137, DPEAKS=84.3, Loss=0.0101]\n"
          ]
        },
        {
          "name": "stdout",
          "output_type": "stream",
          "text": [
            "Partition 3: training decoder\n",
            "Loaded best model from partition 2\n",
            "Epoch [1/50]\n"
          ]
        },
        {
          "name": "stderr",
          "output_type": "stream",
          "text": [
            "Train Epoch 1: 100%|██████████| 77/77 [00:51<00:00,  1.50it/s, WMAPE=3.2, DICE=0.133, DPEAKS=84, Loss=0.0102]\n",
            "Validate Epoch 1: 100%|██████████| 20/20 [00:06<00:00,  3.08it/s, WMAPE=4.59, DICE=0.133, DPEAKS=81.6, Loss=0.0137]\n"
          ]
        },
        {
          "name": "stdout",
          "output_type": "stream",
          "text": [
            "Saving best model\n",
            "Epoch [2/50]\n"
          ]
        },
        {
          "name": "stderr",
          "output_type": "stream",
          "text": [
            "Train Epoch 2: 100%|██████████| 77/77 [00:51<00:00,  1.50it/s, WMAPE=3.09, DICE=0.131, DPEAKS=82.8, Loss=0.00994]\n",
            "Validate Epoch 2: 100%|██████████| 20/20 [00:06<00:00,  3.06it/s, WMAPE=2.94, DICE=0.132, DPEAKS=82.7, Loss=0.0107]\n"
          ]
        },
        {
          "name": "stdout",
          "output_type": "stream",
          "text": [
            "Saving best model\n",
            "Epoch [3/50]\n"
          ]
        },
        {
          "name": "stderr",
          "output_type": "stream",
          "text": [
            "Train Epoch 3: 100%|██████████| 77/77 [00:51<00:00,  1.50it/s, WMAPE=3.05, DICE=0.127, DPEAKS=78.5, Loss=0.00967]\n",
            "Validate Epoch 3: 100%|██████████| 20/20 [00:06<00:00,  3.04it/s, WMAPE=3.82, DICE=0.128, DPEAKS=84.8, Loss=0.0131]\n"
          ]
        },
        {
          "name": "stdout",
          "output_type": "stream",
          "text": [
            "Epoch [4/50]\n"
          ]
        },
        {
          "name": "stderr",
          "output_type": "stream",
          "text": [
            "Train Epoch 4: 100%|██████████| 77/77 [00:51<00:00,  1.50it/s, WMAPE=2.96, DICE=0.125, DPEAKS=74.9, Loss=0.00943]\n",
            "Validate Epoch 4: 100%|██████████| 20/20 [00:06<00:00,  3.05it/s, WMAPE=3.02, DICE=0.126, DPEAKS=74.2, Loss=0.0101]\n"
          ]
        },
        {
          "name": "stdout",
          "output_type": "stream",
          "text": [
            "Saving best model\n",
            "Epoch [5/50]\n"
          ]
        },
        {
          "name": "stderr",
          "output_type": "stream",
          "text": [
            "Train Epoch 5: 100%|██████████| 77/77 [00:51<00:00,  1.50it/s, WMAPE=2.97, DICE=0.124, DPEAKS=75.7, Loss=0.00947]\n",
            "Validate Epoch 5: 100%|██████████| 20/20 [00:06<00:00,  3.06it/s, WMAPE=3.64, DICE=0.124, DPEAKS=71.1, Loss=0.0108]\n"
          ]
        },
        {
          "name": "stdout",
          "output_type": "stream",
          "text": [
            "Epoch [6/50]\n"
          ]
        },
        {
          "name": "stderr",
          "output_type": "stream",
          "text": [
            "Train Epoch 6: 100%|██████████| 77/77 [00:51<00:00,  1.51it/s, WMAPE=2.86, DICE=0.121, DPEAKS=71.6, Loss=0.00905]\n",
            "Validate Epoch 6: 100%|██████████| 20/20 [00:06<00:00,  3.05it/s, WMAPE=7.57, DICE=0.128, DPEAKS=75.2, Loss=0.0214]\n"
          ]
        },
        {
          "name": "stdout",
          "output_type": "stream",
          "text": [
            "Epoch [7/50]\n"
          ]
        },
        {
          "name": "stderr",
          "output_type": "stream",
          "text": [
            "Train Epoch 7: 100%|██████████| 77/77 [00:51<00:00,  1.50it/s, WMAPE=2.88, DICE=0.12, DPEAKS=72.6, Loss=0.00916]\n",
            "Validate Epoch 7: 100%|██████████| 20/20 [00:06<00:00,  3.05it/s, WMAPE=4.56, DICE=0.12, DPEAKS=73.2, Loss=0.0129]\n"
          ]
        },
        {
          "name": "stdout",
          "output_type": "stream",
          "text": [
            "Epoch [8/50]\n"
          ]
        },
        {
          "name": "stderr",
          "output_type": "stream",
          "text": [
            "Train Epoch 8: 100%|██████████| 77/77 [00:51<00:00,  1.51it/s, WMAPE=2.83, DICE=0.118, DPEAKS=70.7, Loss=0.00894]\n",
            "Validate Epoch 8: 100%|██████████| 20/20 [00:06<00:00,  3.08it/s, WMAPE=4.7, DICE=0.133, DPEAKS=85, Loss=0.0147]\n"
          ]
        },
        {
          "name": "stdout",
          "output_type": "stream",
          "text": [
            "Epoch [9/50]\n"
          ]
        },
        {
          "name": "stderr",
          "output_type": "stream",
          "text": [
            "Train Epoch 9: 100%|██████████| 77/77 [00:51<00:00,  1.49it/s, WMAPE=2.81, DICE=0.118, DPEAKS=70.1, Loss=0.00882]\n",
            "Validate Epoch 9: 100%|██████████| 20/20 [00:06<00:00,  3.06it/s, WMAPE=9.87, DICE=0.14, DPEAKS=82.3, Loss=0.0273]\n"
          ]
        },
        {
          "name": "stdout",
          "output_type": "stream",
          "text": [
            "early stopping: 5 epochs without improvement\n",
            "Training complete.\n"
          ]
        },
        {
          "name": "stderr",
          "output_type": "stream",
          "text": [
            "Validate Epoch test: 100%|██████████| 486/486 [02:30<00:00,  3.24it/s, WMAPE=3.14, DICE=0.125, DPEAKS=75.7, Loss=0.0102]\n"
          ]
        },
        {
          "name": "stdout",
          "output_type": "stream",
          "text": [
            "Partition 4: training decoder\n",
            "Loaded best model from partition 3\n",
            "Epoch [1/50]\n"
          ]
        },
        {
          "name": "stderr",
          "output_type": "stream",
          "text": [
            "Train Epoch 1: 100%|██████████| 77/77 [00:51<00:00,  1.50it/s, WMAPE=3.07, DICE=0.124, DPEAKS=73.9, Loss=0.00962]\n",
            "Validate Epoch 1: 100%|██████████| 20/20 [00:06<00:00,  3.07it/s, WMAPE=3.66, DICE=0.123, DPEAKS=69.9, Loss=0.0107]\n"
          ]
        },
        {
          "name": "stdout",
          "output_type": "stream",
          "text": [
            "Saving best model\n",
            "Epoch [2/50]\n"
          ]
        },
        {
          "name": "stderr",
          "output_type": "stream",
          "text": [
            "Train Epoch 2: 100%|██████████| 77/77 [00:51<00:00,  1.50it/s, WMAPE=2.96, DICE=0.12, DPEAKS=71, Loss=0.00928]\n",
            "Validate Epoch 2: 100%|██████████| 20/20 [00:06<00:00,  3.05it/s, WMAPE=4.62, DICE=0.128, DPEAKS=76.6, Loss=0.0131]\n"
          ]
        },
        {
          "name": "stdout",
          "output_type": "stream",
          "text": [
            "Epoch [3/50]\n"
          ]
        },
        {
          "name": "stderr",
          "output_type": "stream",
          "text": [
            "Train Epoch 3: 100%|██████████| 77/77 [00:51<00:00,  1.50it/s, WMAPE=2.87, DICE=0.117, DPEAKS=67.2, Loss=0.00896]\n",
            "Validate Epoch 3: 100%|██████████| 20/20 [00:06<00:00,  3.05it/s, WMAPE=4.45, DICE=0.12, DPEAKS=70.1, Loss=0.0125]\n"
          ]
        },
        {
          "name": "stdout",
          "output_type": "stream",
          "text": [
            "Epoch [4/50]\n"
          ]
        },
        {
          "name": "stderr",
          "output_type": "stream",
          "text": [
            "Train Epoch 4: 100%|██████████| 77/77 [00:51<00:00,  1.50it/s, WMAPE=2.87, DICE=0.119, DPEAKS=70, Loss=0.00903]\n",
            "Validate Epoch 4: 100%|██████████| 20/20 [00:06<00:00,  3.07it/s, WMAPE=3.03, DICE=0.119, DPEAKS=70.5, Loss=0.00926]\n"
          ]
        },
        {
          "name": "stdout",
          "output_type": "stream",
          "text": [
            "Saving best model\n",
            "Epoch [5/50]\n"
          ]
        },
        {
          "name": "stderr",
          "output_type": "stream",
          "text": [
            "Train Epoch 5: 100%|██████████| 77/77 [00:51<00:00,  1.50it/s, WMAPE=2.8, DICE=0.115, DPEAKS=67.7, Loss=0.00873]\n",
            "Validate Epoch 5: 100%|██████████| 20/20 [00:06<00:00,  3.05it/s, WMAPE=4.03, DICE=0.117, DPEAKS=68, Loss=0.0123]\n"
          ]
        },
        {
          "name": "stdout",
          "output_type": "stream",
          "text": [
            "Epoch [6/50]\n"
          ]
        },
        {
          "name": "stderr",
          "output_type": "stream",
          "text": [
            "Train Epoch 6: 100%|██████████| 77/77 [00:51<00:00,  1.50it/s, WMAPE=2.76, DICE=0.112, DPEAKS=65, Loss=0.00851]\n",
            "Validate Epoch 6: 100%|██████████| 20/20 [00:06<00:00,  3.05it/s, WMAPE=2.85, DICE=0.113, DPEAKS=65, Loss=0.0088]\n"
          ]
        },
        {
          "name": "stdout",
          "output_type": "stream",
          "text": [
            "Saving best model\n",
            "Epoch [7/50]\n"
          ]
        },
        {
          "name": "stderr",
          "output_type": "stream",
          "text": [
            "Train Epoch 7: 100%|██████████| 77/77 [00:51<00:00,  1.51it/s, WMAPE=2.7, DICE=0.11, DPEAKS=62.4, Loss=0.00841]\n",
            "Validate Epoch 7: 100%|██████████| 20/20 [00:06<00:00,  3.07it/s, WMAPE=3.21, DICE=0.112, DPEAKS=64.2, Loss=0.00997]\n"
          ]
        },
        {
          "name": "stdout",
          "output_type": "stream",
          "text": [
            "Epoch [8/50]\n"
          ]
        },
        {
          "name": "stderr",
          "output_type": "stream",
          "text": [
            "Train Epoch 8: 100%|██████████| 77/77 [00:51<00:00,  1.50it/s, WMAPE=2.73, DICE=0.11, DPEAKS=65.2, Loss=0.00852]\n",
            "Validate Epoch 8: 100%|██████████| 20/20 [00:06<00:00,  3.05it/s, WMAPE=3.87, DICE=0.117, DPEAKS=71, Loss=0.0124]\n"
          ]
        },
        {
          "name": "stdout",
          "output_type": "stream",
          "text": [
            "Epoch [9/50]\n"
          ]
        },
        {
          "name": "stderr",
          "output_type": "stream",
          "text": [
            "Train Epoch 9: 100%|██████████| 77/77 [00:51<00:00,  1.50it/s, WMAPE=2.59, DICE=0.107, DPEAKS=62.1, Loss=0.00804]\n",
            "Validate Epoch 9: 100%|██████████| 20/20 [00:06<00:00,  3.03it/s, WMAPE=4.11, DICE=0.109, DPEAKS=62.9, Loss=0.0112]\n"
          ]
        },
        {
          "name": "stdout",
          "output_type": "stream",
          "text": [
            "Epoch [10/50]\n"
          ]
        },
        {
          "name": "stderr",
          "output_type": "stream",
          "text": [
            "Train Epoch 10: 100%|██████████| 77/77 [00:51<00:00,  1.50it/s, WMAPE=2.62, DICE=0.106, DPEAKS=58.4, Loss=0.00812]\n",
            "Validate Epoch 10: 100%|██████████| 20/20 [00:06<00:00,  3.05it/s, WMAPE=6.74, DICE=0.115, DPEAKS=68.8, Loss=0.0183]\n"
          ]
        },
        {
          "name": "stdout",
          "output_type": "stream",
          "text": [
            "Epoch [11/50]\n"
          ]
        },
        {
          "name": "stderr",
          "output_type": "stream",
          "text": [
            "Train Epoch 11: 100%|██████████| 77/77 [00:51<00:00,  1.50it/s, WMAPE=2.67, DICE=0.108, DPEAKS=64.1, Loss=0.00829]\n",
            "Validate Epoch 11: 100%|██████████| 20/20 [00:06<00:00,  3.06it/s, WMAPE=5.53, DICE=0.114, DPEAKS=72.8, Loss=0.0175]\n"
          ]
        },
        {
          "name": "stdout",
          "output_type": "stream",
          "text": [
            "early stopping: 5 epochs without improvement\n",
            "Training complete.\n"
          ]
        },
        {
          "name": "stderr",
          "output_type": "stream",
          "text": [
            "Validate Epoch test: 100%|██████████| 486/486 [02:29<00:00,  3.24it/s, WMAPE=2.81, DICE=0.113, DPEAKS=65.9, Loss=0.00887]\n"
          ]
        },
        {
          "name": "stdout",
          "output_type": "stream",
          "text": [
            "Partition 5: training decoder\n",
            "Loaded best model from partition 4\n",
            "Epoch [1/50]\n"
          ]
        },
        {
          "name": "stderr",
          "output_type": "stream",
          "text": [
            "Train Epoch 1: 100%|██████████| 77/77 [00:51<00:00,  1.50it/s, WMAPE=2.83, DICE=0.113, DPEAKS=65.4, Loss=0.00889]\n",
            "Validate Epoch 1: 100%|██████████| 20/20 [00:06<00:00,  3.04it/s, WMAPE=5.22, DICE=0.117, DPEAKS=64.1, Loss=0.0149]\n"
          ]
        },
        {
          "name": "stdout",
          "output_type": "stream",
          "text": [
            "Saving best model\n",
            "Epoch [2/50]\n"
          ]
        },
        {
          "name": "stderr",
          "output_type": "stream",
          "text": [
            "Train Epoch 2: 100%|██████████| 77/77 [00:51<00:00,  1.50it/s, WMAPE=2.78, DICE=0.111, DPEAKS=62.5, Loss=0.00872]\n",
            "Validate Epoch 2: 100%|██████████| 20/20 [00:06<00:00,  3.08it/s, WMAPE=3.97, DICE=0.113, DPEAKS=60.6, Loss=0.0112]\n"
          ]
        },
        {
          "name": "stdout",
          "output_type": "stream",
          "text": [
            "Saving best model\n",
            "Epoch [3/50]\n"
          ]
        },
        {
          "name": "stderr",
          "output_type": "stream",
          "text": [
            "Train Epoch 3: 100%|██████████| 77/77 [00:51<00:00,  1.51it/s, WMAPE=2.69, DICE=0.109, DPEAKS=61.9, Loss=0.00842]\n",
            "Validate Epoch 3: 100%|██████████| 20/20 [00:06<00:00,  3.09it/s, WMAPE=3.09, DICE=0.108, DPEAKS=59.9, Loss=0.00894]\n"
          ]
        },
        {
          "name": "stdout",
          "output_type": "stream",
          "text": [
            "Saving best model\n",
            "Epoch [4/50]\n"
          ]
        },
        {
          "name": "stderr",
          "output_type": "stream",
          "text": [
            "Train Epoch 4: 100%|██████████| 77/77 [00:51<00:00,  1.51it/s, WMAPE=2.67, DICE=0.106, DPEAKS=59.8, Loss=0.00832]\n",
            "Validate Epoch 4: 100%|██████████| 20/20 [00:06<00:00,  3.08it/s, WMAPE=2.82, DICE=0.106, DPEAKS=58.2, Loss=0.0084]\n"
          ]
        },
        {
          "name": "stdout",
          "output_type": "stream",
          "text": [
            "Saving best model\n",
            "Epoch [5/50]\n"
          ]
        },
        {
          "name": "stderr",
          "output_type": "stream",
          "text": [
            "Train Epoch 5: 100%|██████████| 77/77 [00:51<00:00,  1.50it/s, WMAPE=2.58, DICE=0.104, DPEAKS=59.1, Loss=0.00805]\n",
            "Validate Epoch 5: 100%|██████████| 20/20 [00:06<00:00,  3.09it/s, WMAPE=5.42, DICE=0.111, DPEAKS=57.9, Loss=0.0148]\n"
          ]
        },
        {
          "name": "stdout",
          "output_type": "stream",
          "text": [
            "Epoch [6/50]\n"
          ]
        },
        {
          "name": "stderr",
          "output_type": "stream",
          "text": [
            "Train Epoch 6: 100%|██████████| 77/77 [00:51<00:00,  1.50it/s, WMAPE=2.55, DICE=0.103, DPEAKS=58.1, Loss=0.00792]\n",
            "Validate Epoch 6: 100%|██████████| 20/20 [00:06<00:00,  3.05it/s, WMAPE=2.91, DICE=0.105, DPEAKS=57.4, Loss=0.00843]\n"
          ]
        },
        {
          "name": "stdout",
          "output_type": "stream",
          "text": [
            "Epoch [7/50]\n"
          ]
        },
        {
          "name": "stderr",
          "output_type": "stream",
          "text": [
            "Train Epoch 7: 100%|██████████| 77/77 [00:51<00:00,  1.50it/s, WMAPE=2.57, DICE=0.104, DPEAKS=58.7, Loss=0.00797]\n",
            "Validate Epoch 7: 100%|██████████| 20/20 [00:06<00:00,  3.07it/s, WMAPE=9.76, DICE=0.129, DPEAKS=72.5, Loss=0.0269]\n"
          ]
        },
        {
          "name": "stdout",
          "output_type": "stream",
          "text": [
            "Epoch [8/50]\n"
          ]
        },
        {
          "name": "stderr",
          "output_type": "stream",
          "text": [
            "Train Epoch 8: 100%|██████████| 77/77 [00:51<00:00,  1.51it/s, WMAPE=2.62, DICE=0.105, DPEAKS=60.4, Loss=0.0082]\n",
            "Validate Epoch 8: 100%|██████████| 20/20 [00:06<00:00,  3.07it/s, WMAPE=4.06, DICE=0.104, DPEAKS=59, Loss=0.0119]\n"
          ]
        },
        {
          "name": "stdout",
          "output_type": "stream",
          "text": [
            "Epoch [9/50]\n"
          ]
        },
        {
          "name": "stderr",
          "output_type": "stream",
          "text": [
            "Train Epoch 9: 100%|██████████| 77/77 [00:51<00:00,  1.50it/s, WMAPE=2.51, DICE=0.101, DPEAKS=56.9, Loss=0.00778]\n",
            "Validate Epoch 9: 100%|██████████| 20/20 [00:06<00:00,  3.07it/s, WMAPE=3.42, DICE=0.106, DPEAKS=53.1, Loss=0.00948]\n"
          ]
        },
        {
          "name": "stdout",
          "output_type": "stream",
          "text": [
            "early stopping: 5 epochs without improvement\n",
            "Training complete.\n"
          ]
        },
        {
          "name": "stderr",
          "output_type": "stream",
          "text": [
            "Validate Epoch test: 100%|██████████| 486/486 [02:29<00:00,  3.25it/s, WMAPE=2.68, DICE=0.106, DPEAKS=59.9, Loss=0.00832]\n"
          ]
        },
        {
          "name": "stdout",
          "output_type": "stream",
          "text": [
            "Partition 6: training full\n",
            "Loaded best model from partition 5\n",
            "Epoch [1/50]\n"
          ]
        },
        {
          "name": "stderr",
          "output_type": "stream",
          "text": [
            "Train Epoch 1: 100%|██████████| 77/77 [00:53<00:00,  1.44it/s, WMAPE=2.81, DICE=0.11, DPEAKS=64.7, Loss=0.009]\n",
            "Validate Epoch 1: 100%|██████████| 20/20 [00:06<00:00,  3.08it/s, WMAPE=7.58, DICE=0.109, DPEAKS=65.1, Loss=0.0207]\n"
          ]
        },
        {
          "name": "stdout",
          "output_type": "stream",
          "text": [
            "Saving best model\n",
            "Epoch [2/50]\n"
          ]
        },
        {
          "name": "stderr",
          "output_type": "stream",
          "text": [
            "Train Epoch 2: 100%|██████████| 77/77 [00:53<00:00,  1.44it/s, WMAPE=2.59, DICE=0.0998, DPEAKS=59.5, Loss=0.00821]\n",
            "Validate Epoch 2: 100%|██████████| 20/20 [00:06<00:00,  3.09it/s, WMAPE=3.91, DICE=0.0994, DPEAKS=61.2, Loss=0.0109]\n"
          ]
        },
        {
          "name": "stdout",
          "output_type": "stream",
          "text": [
            "Saving best model\n",
            "Epoch [3/50]\n"
          ]
        },
        {
          "name": "stderr",
          "output_type": "stream",
          "text": [
            "Train Epoch 3: 100%|██████████| 77/77 [00:53<00:00,  1.45it/s, WMAPE=2.39, DICE=0.093, DPEAKS=51, Loss=0.00751]\n",
            "Validate Epoch 3: 100%|██████████| 20/20 [00:06<00:00,  3.05it/s, WMAPE=3.58, DICE=0.0954, DPEAKS=58.6, Loss=0.0095]\n"
          ]
        },
        {
          "name": "stdout",
          "output_type": "stream",
          "text": [
            "Saving best model\n",
            "Epoch [4/50]\n"
          ]
        },
        {
          "name": "stderr",
          "output_type": "stream",
          "text": [
            "Train Epoch 4: 100%|██████████| 77/77 [00:53<00:00,  1.44it/s, WMAPE=2.27, DICE=0.0881, DPEAKS=49.1, Loss=0.0072]\n",
            "Validate Epoch 4: 100%|██████████| 20/20 [00:06<00:00,  3.10it/s, WMAPE=4.34, DICE=0.0904, DPEAKS=52.4, Loss=0.0118]\n"
          ]
        },
        {
          "name": "stdout",
          "output_type": "stream",
          "text": [
            "Epoch [5/50]\n"
          ]
        },
        {
          "name": "stderr",
          "output_type": "stream",
          "text": [
            "Train Epoch 5: 100%|██████████| 77/77 [00:53<00:00,  1.44it/s, WMAPE=2.26, DICE=0.0893, DPEAKS=50.1, Loss=0.00712]\n",
            "Validate Epoch 5: 100%|██████████| 20/20 [00:06<00:00,  3.09it/s, WMAPE=15.3, DICE=0.219, DPEAKS=158, Loss=0.0391]\n"
          ]
        },
        {
          "name": "stdout",
          "output_type": "stream",
          "text": [
            "Epoch [6/50]\n"
          ]
        },
        {
          "name": "stderr",
          "output_type": "stream",
          "text": [
            "Train Epoch 6: 100%|██████████| 77/77 [00:53<00:00,  1.44it/s, WMAPE=2.22, DICE=0.0855, DPEAKS=48.5, Loss=0.00695]\n",
            "Validate Epoch 6: 100%|██████████| 20/20 [00:06<00:00,  3.08it/s, WMAPE=4.99, DICE=0.109, DPEAKS=70, Loss=0.0137]\n"
          ]
        },
        {
          "name": "stdout",
          "output_type": "stream",
          "text": [
            "Epoch [7/50]\n"
          ]
        },
        {
          "name": "stderr",
          "output_type": "stream",
          "text": [
            "Train Epoch 7: 100%|██████████| 77/77 [00:53<00:00,  1.45it/s, WMAPE=2.18, DICE=0.0852, DPEAKS=48.9, Loss=0.00677]\n",
            "Validate Epoch 7: 100%|██████████| 20/20 [00:06<00:00,  3.10it/s, WMAPE=3.35, DICE=0.0855, DPEAKS=49.9, Loss=0.00992]\n"
          ]
        },
        {
          "name": "stdout",
          "output_type": "stream",
          "text": [
            "Epoch [8/50]\n"
          ]
        },
        {
          "name": "stderr",
          "output_type": "stream",
          "text": [
            "Train Epoch 8: 100%|██████████| 77/77 [00:53<00:00,  1.44it/s, WMAPE=1.98, DICE=0.0784, DPEAKS=41.9, Loss=0.00619]\n",
            "Validate Epoch 8: 100%|██████████| 20/20 [00:06<00:00,  3.08it/s, WMAPE=3.2, DICE=0.0861, DPEAKS=55, Loss=0.00964]\n"
          ]
        },
        {
          "name": "stdout",
          "output_type": "stream",
          "text": [
            "early stopping: 5 epochs without improvement\n",
            "Training complete.\n"
          ]
        },
        {
          "name": "stderr",
          "output_type": "stream",
          "text": [
            "Validate Epoch test: 100%|██████████| 486/486 [02:29<00:00,  3.25it/s, WMAPE=3.36, DICE=0.095, DPEAKS=54.6, Loss=0.00942]\n"
          ]
        },
        {
          "name": "stdout",
          "output_type": "stream",
          "text": [
            "Partition 7: training decoder\n",
            "Loaded best model from partition 6\n",
            "Epoch [1/50]\n"
          ]
        },
        {
          "name": "stderr",
          "output_type": "stream",
          "text": [
            "Train Epoch 1: 100%|██████████| 77/77 [00:51<00:00,  1.51it/s, WMAPE=2.38, DICE=0.089, DPEAKS=51.8, Loss=0.00751]\n",
            "Validate Epoch 1: 100%|██████████| 20/20 [00:06<00:00,  3.08it/s, WMAPE=3.78, DICE=0.0901, DPEAKS=49.4, Loss=0.011]\n"
          ]
        },
        {
          "name": "stdout",
          "output_type": "stream",
          "text": [
            "Saving best model\n",
            "Epoch [2/50]\n"
          ]
        },
        {
          "name": "stderr",
          "output_type": "stream",
          "text": [
            "Train Epoch 2: 100%|██████████| 77/77 [00:51<00:00,  1.51it/s, WMAPE=2.29, DICE=0.0858, DPEAKS=48.5, Loss=0.00718]\n",
            "Validate Epoch 2: 100%|██████████| 20/20 [00:06<00:00,  3.08it/s, WMAPE=2.43, DICE=0.0863, DPEAKS=43.4, Loss=0.00732]\n"
          ]
        },
        {
          "name": "stdout",
          "output_type": "stream",
          "text": [
            "Saving best model\n",
            "Epoch [3/50]\n"
          ]
        },
        {
          "name": "stderr",
          "output_type": "stream",
          "text": [
            "Train Epoch 3: 100%|██████████| 77/77 [00:51<00:00,  1.50it/s, WMAPE=2.28, DICE=0.0842, DPEAKS=48.7, Loss=0.00709]\n",
            "Validate Epoch 3: 100%|██████████| 20/20 [00:06<00:00,  3.06it/s, WMAPE=2.44, DICE=0.085, DPEAKS=45.5, Loss=0.00738]\n"
          ]
        },
        {
          "name": "stdout",
          "output_type": "stream",
          "text": [
            "Epoch [4/50]\n"
          ]
        },
        {
          "name": "stderr",
          "output_type": "stream",
          "text": [
            "Train Epoch 4: 100%|██████████| 77/77 [00:51<00:00,  1.51it/s, WMAPE=2.24, DICE=0.0826, DPEAKS=48.9, Loss=0.00698]\n",
            "Validate Epoch 4: 100%|██████████| 20/20 [00:06<00:00,  3.06it/s, WMAPE=2.29, DICE=0.085, DPEAKS=42.8, Loss=0.0074]\n"
          ]
        },
        {
          "name": "stdout",
          "output_type": "stream",
          "text": [
            "Epoch [5/50]\n"
          ]
        },
        {
          "name": "stderr",
          "output_type": "stream",
          "text": [
            "Train Epoch 5: 100%|██████████| 77/77 [00:51<00:00,  1.51it/s, WMAPE=2.24, DICE=0.082, DPEAKS=48, Loss=0.00695]\n",
            "Validate Epoch 5: 100%|██████████| 20/20 [00:06<00:00,  3.01it/s, WMAPE=3.66, DICE=0.0816, DPEAKS=41.6, Loss=0.0107]\n"
          ]
        },
        {
          "name": "stdout",
          "output_type": "stream",
          "text": [
            "Epoch [6/50]\n"
          ]
        },
        {
          "name": "stderr",
          "output_type": "stream",
          "text": [
            "Train Epoch 6: 100%|██████████| 77/77 [00:51<00:00,  1.51it/s, WMAPE=2.19, DICE=0.0809, DPEAKS=47.1, Loss=0.00683]\n",
            "Validate Epoch 6: 100%|██████████| 20/20 [00:06<00:00,  3.09it/s, WMAPE=3.06, DICE=0.0823, DPEAKS=42.6, Loss=0.00894]\n"
          ]
        },
        {
          "name": "stdout",
          "output_type": "stream",
          "text": [
            "Epoch [7/50]\n"
          ]
        },
        {
          "name": "stderr",
          "output_type": "stream",
          "text": [
            "Train Epoch 7: 100%|██████████| 77/77 [00:51<00:00,  1.51it/s, WMAPE=2.12, DICE=0.0793, DPEAKS=45.5, Loss=0.00659]\n",
            "Validate Epoch 7: 100%|██████████| 20/20 [00:06<00:00,  3.06it/s, WMAPE=2.97, DICE=0.0808, DPEAKS=45.4, Loss=0.00874]\n"
          ]
        },
        {
          "name": "stdout",
          "output_type": "stream",
          "text": [
            "Epoch [8/50]\n"
          ]
        },
        {
          "name": "stderr",
          "output_type": "stream",
          "text": [
            "Train Epoch 8: 100%|██████████| 77/77 [00:51<00:00,  1.51it/s, WMAPE=2.18, DICE=0.0791, DPEAKS=45.5, Loss=0.00668]\n",
            "Validate Epoch 8: 100%|██████████| 20/20 [00:06<00:00,  3.07it/s, WMAPE=2.65, DICE=0.0828, DPEAKS=56.3, Loss=0.00854]\n"
          ]
        },
        {
          "name": "stdout",
          "output_type": "stream",
          "text": [
            "early stopping: 6 epochs without improvement\n",
            "Training complete.\n"
          ]
        },
        {
          "name": "stderr",
          "output_type": "stream",
          "text": [
            "Validate Epoch test: 100%|██████████| 486/486 [02:29<00:00,  3.25it/s, WMAPE=2.42, DICE=0.0861, DPEAKS=46.3, Loss=0.0073]\n"
          ]
        },
        {
          "name": "stdout",
          "output_type": "stream",
          "text": [
            "Partition 8: training decoder\n",
            "Loaded best model from partition 7\n",
            "Epoch [1/50]\n"
          ]
        },
        {
          "name": "stderr",
          "output_type": "stream",
          "text": [
            "Train Epoch 1: 100%|██████████| 77/77 [00:51<00:00,  1.51it/s, WMAPE=2.42, DICE=0.0897, DPEAKS=51.2, Loss=0.0076]\n",
            "Validate Epoch 1: 100%|██████████| 20/20 [00:06<00:00,  3.06it/s, WMAPE=2.55, DICE=0.087, DPEAKS=50.1, Loss=0.00741]\n"
          ]
        },
        {
          "name": "stdout",
          "output_type": "stream",
          "text": [
            "Saving best model\n",
            "Epoch [2/50]\n"
          ]
        },
        {
          "name": "stderr",
          "output_type": "stream",
          "text": [
            "Train Epoch 2: 100%|██████████| 77/77 [00:51<00:00,  1.51it/s, WMAPE=2.25, DICE=0.0843, DPEAKS=45.9, Loss=0.00713]\n",
            "Validate Epoch 2: 100%|██████████| 20/20 [00:06<00:00,  3.07it/s, WMAPE=2.37, DICE=0.0831, DPEAKS=47.1, Loss=0.00706]\n"
          ]
        },
        {
          "name": "stdout",
          "output_type": "stream",
          "text": [
            "Saving best model\n",
            "Epoch [3/50]\n"
          ]
        },
        {
          "name": "stderr",
          "output_type": "stream",
          "text": [
            "Train Epoch 3: 100%|██████████| 77/77 [00:51<00:00,  1.51it/s, WMAPE=2.22, DICE=0.0821, DPEAKS=44.3, Loss=0.00698]\n",
            "Validate Epoch 3: 100%|██████████| 20/20 [00:06<00:00,  3.05it/s, WMAPE=5.1, DICE=0.0876, DPEAKS=46, Loss=0.0137]\n"
          ]
        },
        {
          "name": "stdout",
          "output_type": "stream",
          "text": [
            "Epoch [4/50]\n"
          ]
        },
        {
          "name": "stderr",
          "output_type": "stream",
          "text": [
            "Train Epoch 4: 100%|██████████| 77/77 [00:51<00:00,  1.51it/s, WMAPE=2.16, DICE=0.0814, DPEAKS=43.9, Loss=0.00687]\n",
            "Validate Epoch 4: 100%|██████████| 20/20 [00:06<00:00,  3.09it/s, WMAPE=2.96, DICE=0.0838, DPEAKS=47.8, Loss=0.0091]\n"
          ]
        },
        {
          "name": "stdout",
          "output_type": "stream",
          "text": [
            "Epoch [5/50]\n"
          ]
        },
        {
          "name": "stderr",
          "output_type": "stream",
          "text": [
            "Train Epoch 5: 100%|██████████| 77/77 [00:51<00:00,  1.51it/s, WMAPE=2.2, DICE=0.081, DPEAKS=44.7, Loss=0.00691]\n",
            "Validate Epoch 5: 100%|██████████| 20/20 [00:06<00:00,  3.08it/s, WMAPE=2.76, DICE=0.0859, DPEAKS=55.9, Loss=0.00848]\n"
          ]
        },
        {
          "name": "stdout",
          "output_type": "stream",
          "text": [
            "Epoch [6/50]\n"
          ]
        },
        {
          "name": "stderr",
          "output_type": "stream",
          "text": [
            "Train Epoch 6: 100%|██████████| 77/77 [00:51<00:00,  1.51it/s, WMAPE=2.2, DICE=0.0812, DPEAKS=46.2, Loss=0.00693]\n",
            "Validate Epoch 6: 100%|██████████| 20/20 [00:06<00:00,  3.09it/s, WMAPE=2.32, DICE=0.08, DPEAKS=46.9, Loss=0.00693]\n"
          ]
        },
        {
          "name": "stdout",
          "output_type": "stream",
          "text": [
            "Saving best model\n",
            "Epoch [7/50]\n"
          ]
        },
        {
          "name": "stderr",
          "output_type": "stream",
          "text": [
            "Train Epoch 7: 100%|██████████| 77/77 [00:51<00:00,  1.51it/s, WMAPE=2.2, DICE=0.0805, DPEAKS=44.1, Loss=0.00689]\n",
            "Validate Epoch 7: 100%|██████████| 20/20 [00:06<00:00,  3.11it/s, WMAPE=2.51, DICE=0.0813, DPEAKS=49.5, Loss=0.00716]\n"
          ]
        },
        {
          "name": "stdout",
          "output_type": "stream",
          "text": [
            "Epoch [8/50]\n"
          ]
        },
        {
          "name": "stderr",
          "output_type": "stream",
          "text": [
            "Train Epoch 8: 100%|██████████| 77/77 [00:51<00:00,  1.51it/s, WMAPE=2.15, DICE=0.0788, DPEAKS=42.7, Loss=0.00677]\n",
            "Validate Epoch 8: 100%|██████████| 20/20 [00:06<00:00,  3.08it/s, WMAPE=3.72, DICE=0.0814, DPEAKS=47.7, Loss=0.0102]\n"
          ]
        },
        {
          "name": "stdout",
          "output_type": "stream",
          "text": [
            "Epoch [9/50]\n"
          ]
        },
        {
          "name": "stderr",
          "output_type": "stream",
          "text": [
            "Train Epoch 9: 100%|██████████| 77/77 [00:51<00:00,  1.50it/s, WMAPE=2.08, DICE=0.0779, DPEAKS=42.7, Loss=0.00655]\n",
            "Validate Epoch 9: 100%|██████████| 20/20 [00:06<00:00,  3.07it/s, WMAPE=4.04, DICE=0.0801, DPEAKS=44.8, Loss=0.0122]\n"
          ]
        },
        {
          "name": "stdout",
          "output_type": "stream",
          "text": [
            "Epoch [10/50]\n"
          ]
        },
        {
          "name": "stderr",
          "output_type": "stream",
          "text": [
            "Train Epoch 10: 100%|██████████| 77/77 [00:51<00:00,  1.51it/s, WMAPE=2.12, DICE=0.0781, DPEAKS=43.5, Loss=0.00668]\n",
            "Validate Epoch 10: 100%|██████████| 20/20 [00:06<00:00,  3.05it/s, WMAPE=2.24, DICE=0.0779, DPEAKS=47.3, Loss=0.00684]\n"
          ]
        },
        {
          "name": "stdout",
          "output_type": "stream",
          "text": [
            "Saving best model\n",
            "Epoch [11/50]\n"
          ]
        },
        {
          "name": "stderr",
          "output_type": "stream",
          "text": [
            "Train Epoch 11: 100%|██████████| 77/77 [00:51<00:00,  1.51it/s, WMAPE=2.04, DICE=0.077, DPEAKS=42.7, Loss=0.00645]\n",
            "Validate Epoch 11: 100%|██████████| 20/20 [00:06<00:00,  3.09it/s, WMAPE=4.88, DICE=0.0945, DPEAKS=71.6, Loss=0.0144]\n"
          ]
        },
        {
          "name": "stdout",
          "output_type": "stream",
          "text": [
            "Epoch [12/50]\n"
          ]
        },
        {
          "name": "stderr",
          "output_type": "stream",
          "text": [
            "Train Epoch 12: 100%|██████████| 77/77 [00:51<00:00,  1.51it/s, WMAPE=2.15, DICE=0.0806, DPEAKS=45.9, Loss=0.00683]\n",
            "Validate Epoch 12: 100%|██████████| 20/20 [00:06<00:00,  3.10it/s, WMAPE=2.26, DICE=0.0773, DPEAKS=44.5, Loss=0.00695]\n"
          ]
        },
        {
          "name": "stdout",
          "output_type": "stream",
          "text": [
            "Epoch [13/50]\n"
          ]
        },
        {
          "name": "stderr",
          "output_type": "stream",
          "text": [
            "Train Epoch 13: 100%|██████████| 77/77 [00:50<00:00,  1.51it/s, WMAPE=2.05, DICE=0.0766, DPEAKS=42.6, Loss=0.00649]\n",
            "Validate Epoch 13: 100%|██████████| 20/20 [00:06<00:00,  3.08it/s, WMAPE=6.52, DICE=0.0778, DPEAKS=45.8, Loss=0.0189]\n"
          ]
        },
        {
          "name": "stdout",
          "output_type": "stream",
          "text": [
            "Epoch [14/50]\n"
          ]
        },
        {
          "name": "stderr",
          "output_type": "stream",
          "text": [
            "Train Epoch 14: 100%|██████████| 77/77 [00:51<00:00,  1.51it/s, WMAPE=2, DICE=0.0761, DPEAKS=42.7, Loss=0.00636]\n",
            "Validate Epoch 14: 100%|██████████| 20/20 [00:06<00:00,  3.07it/s, WMAPE=2.45, DICE=0.0797, DPEAKS=46.2, Loss=0.00726]\n"
          ]
        },
        {
          "name": "stdout",
          "output_type": "stream",
          "text": [
            "Epoch [15/50]\n"
          ]
        },
        {
          "name": "stderr",
          "output_type": "stream",
          "text": [
            "Train Epoch 15: 100%|██████████| 77/77 [00:51<00:00,  1.51it/s, WMAPE=1.94, DICE=0.0756, DPEAKS=42.1, Loss=0.00623]\n",
            "Validate Epoch 15: 100%|██████████| 20/20 [00:06<00:00,  3.10it/s, WMAPE=2.49, DICE=0.0763, DPEAKS=44, Loss=0.0072]\n"
          ]
        },
        {
          "name": "stdout",
          "output_type": "stream",
          "text": [
            "early stopping: 5 epochs without improvement\n",
            "Training complete.\n"
          ]
        },
        {
          "name": "stderr",
          "output_type": "stream",
          "text": [
            "Validate Epoch test: 100%|██████████| 486/486 [02:29<00:00,  3.24it/s, WMAPE=2.18, DICE=0.0777, DPEAKS=43.4, Loss=0.00664]\n"
          ]
        },
        {
          "name": "stdout",
          "output_type": "stream",
          "text": [
            "Partition 9: training decoder\n",
            "Loaded best model from partition 8\n",
            "Epoch [1/50]\n"
          ]
        },
        {
          "name": "stderr",
          "output_type": "stream",
          "text": [
            "Train Epoch 1: 100%|██████████| 77/77 [00:51<00:00,  1.51it/s, WMAPE=2.28, DICE=0.0795, DPEAKS=47.2, Loss=0.00704]\n",
            "Validate Epoch 1: 100%|██████████| 20/20 [00:06<00:00,  3.10it/s, WMAPE=2.72, DICE=0.0783, DPEAKS=41.7, Loss=0.00814]\n"
          ]
        },
        {
          "name": "stdout",
          "output_type": "stream",
          "text": [
            "Saving best model\n",
            "Epoch [2/50]\n"
          ]
        },
        {
          "name": "stderr",
          "output_type": "stream",
          "text": [
            "Train Epoch 2: 100%|██████████| 77/77 [00:51<00:00,  1.50it/s, WMAPE=2.12, DICE=0.0765, DPEAKS=41.6, Loss=0.00659]\n",
            "Validate Epoch 2: 100%|██████████| 20/20 [00:06<00:00,  3.08it/s, WMAPE=3.79, DICE=0.0793, DPEAKS=45, Loss=0.011]\n"
          ]
        },
        {
          "name": "stdout",
          "output_type": "stream",
          "text": [
            "Epoch [3/50]\n"
          ]
        },
        {
          "name": "stderr",
          "output_type": "stream",
          "text": [
            "Train Epoch 3: 100%|██████████| 77/77 [00:51<00:00,  1.51it/s, WMAPE=2.12, DICE=0.0757, DPEAKS=42.7, Loss=0.00652]\n",
            "Validate Epoch 3: 100%|██████████| 20/20 [00:06<00:00,  3.08it/s, WMAPE=2.06, DICE=0.076, DPEAKS=44.4, Loss=0.0065]\n"
          ]
        },
        {
          "name": "stdout",
          "output_type": "stream",
          "text": [
            "Saving best model\n",
            "Epoch [4/50]\n"
          ]
        },
        {
          "name": "stderr",
          "output_type": "stream",
          "text": [
            "Train Epoch 4: 100%|██████████| 77/77 [00:51<00:00,  1.51it/s, WMAPE=2.07, DICE=0.075, DPEAKS=41.2, Loss=0.00637]\n",
            "Validate Epoch 4: 100%|██████████| 20/20 [00:06<00:00,  3.08it/s, WMAPE=2.02, DICE=0.0756, DPEAKS=43, Loss=0.00673]\n"
          ]
        },
        {
          "name": "stdout",
          "output_type": "stream",
          "text": [
            "Epoch [5/50]\n"
          ]
        },
        {
          "name": "stderr",
          "output_type": "stream",
          "text": [
            "Train Epoch 5: 100%|██████████| 77/77 [00:50<00:00,  1.51it/s, WMAPE=2.08, DICE=0.0748, DPEAKS=42.1, Loss=0.00643]\n",
            "Validate Epoch 5: 100%|██████████| 20/20 [00:06<00:00,  3.07it/s, WMAPE=4.2, DICE=0.0852, DPEAKS=50.2, Loss=0.0121]\n"
          ]
        },
        {
          "name": "stdout",
          "output_type": "stream",
          "text": [
            "Epoch [6/50]\n"
          ]
        },
        {
          "name": "stderr",
          "output_type": "stream",
          "text": [
            "Train Epoch 6: 100%|██████████| 77/77 [00:51<00:00,  1.50it/s, WMAPE=2.07, DICE=0.0743, DPEAKS=41.4, Loss=0.00637]\n",
            "Validate Epoch 6: 100%|██████████| 20/20 [00:06<00:00,  3.07it/s, WMAPE=2.87, DICE=0.0744, DPEAKS=42.7, Loss=0.00854]\n"
          ]
        },
        {
          "name": "stdout",
          "output_type": "stream",
          "text": [
            "Epoch [7/50]\n"
          ]
        },
        {
          "name": "stderr",
          "output_type": "stream",
          "text": [
            "Train Epoch 7: 100%|██████████| 77/77 [00:50<00:00,  1.51it/s, WMAPE=2, DICE=0.0736, DPEAKS=41.1, Loss=0.00616]\n",
            "Validate Epoch 7: 100%|██████████| 20/20 [00:06<00:00,  3.09it/s, WMAPE=2.63, DICE=0.0774, DPEAKS=40.9, Loss=0.00865]\n"
          ]
        },
        {
          "name": "stdout",
          "output_type": "stream",
          "text": [
            "Epoch [8/50]\n"
          ]
        },
        {
          "name": "stderr",
          "output_type": "stream",
          "text": [
            "Train Epoch 8: 100%|██████████| 77/77 [00:51<00:00,  1.51it/s, WMAPE=2.09, DICE=0.078, DPEAKS=43.6, Loss=0.00651]\n",
            "Validate Epoch 8: 100%|██████████| 20/20 [00:06<00:00,  3.07it/s, WMAPE=4.81, DICE=0.12, DPEAKS=78.4, Loss=0.0136]\n"
          ]
        },
        {
          "name": "stdout",
          "output_type": "stream",
          "text": [
            "early stopping: 5 epochs without improvement\n",
            "Training complete.\n"
          ]
        },
        {
          "name": "stderr",
          "output_type": "stream",
          "text": [
            "Validate Epoch test: 100%|██████████| 486/486 [02:29<00:00,  3.25it/s, WMAPE=2.06, DICE=0.0763, DPEAKS=43.9, Loss=0.00649]\n"
          ]
        },
        {
          "name": "stdout",
          "output_type": "stream",
          "text": [
            "Partition 10: training decoder\n",
            "Loaded best model from partition 9\n",
            "Epoch [1/50]\n"
          ]
        },
        {
          "name": "stderr",
          "output_type": "stream",
          "text": [
            "Train Epoch 1: 100%|██████████| 77/77 [00:56<00:00,  1.37it/s, WMAPE=2.26, DICE=0.077, DPEAKS=44.8, Loss=0.00687]\n",
            "Validate Epoch 1: 100%|██████████| 20/20 [00:07<00:00,  2.60it/s, WMAPE=2.44, DICE=0.0785, DPEAKS=41.7, Loss=0.0076]\n"
          ]
        },
        {
          "name": "stdout",
          "output_type": "stream",
          "text": [
            "Saving best model\n",
            "Epoch [2/50]\n"
          ]
        },
        {
          "name": "stderr",
          "output_type": "stream",
          "text": [
            "Train Epoch 2: 100%|██████████| 77/77 [00:51<00:00,  1.51it/s, WMAPE=2.2, DICE=0.0748, DPEAKS=42.6, Loss=0.00671]\n",
            "Validate Epoch 2: 100%|██████████| 20/20 [00:06<00:00,  3.08it/s, WMAPE=2.51, DICE=0.0754, DPEAKS=47.6, Loss=0.00774]\n"
          ]
        },
        {
          "name": "stdout",
          "output_type": "stream",
          "text": [
            "Epoch [3/50]\n"
          ]
        },
        {
          "name": "stderr",
          "output_type": "stream",
          "text": [
            "Train Epoch 3: 100%|██████████| 77/77 [00:51<00:00,  1.51it/s, WMAPE=2.16, DICE=0.0749, DPEAKS=42.1, Loss=0.00658]\n",
            "Validate Epoch 3: 100%|██████████| 20/20 [00:06<00:00,  3.10it/s, WMAPE=2.06, DICE=0.0747, DPEAKS=46.6, Loss=0.00645]\n"
          ]
        },
        {
          "name": "stdout",
          "output_type": "stream",
          "text": [
            "Saving best model\n",
            "Epoch [4/50]\n"
          ]
        },
        {
          "name": "stderr",
          "output_type": "stream",
          "text": [
            "Train Epoch 4: 100%|██████████| 77/77 [00:51<00:00,  1.51it/s, WMAPE=2.16, DICE=0.0742, DPEAKS=40.6, Loss=0.00656]\n",
            "Validate Epoch 4: 100%|██████████| 20/20 [00:06<00:00,  3.08it/s, WMAPE=3.36, DICE=0.0764, DPEAKS=44.6, Loss=0.00972]\n"
          ]
        },
        {
          "name": "stdout",
          "output_type": "stream",
          "text": [
            "Epoch [5/50]\n"
          ]
        },
        {
          "name": "stderr",
          "output_type": "stream",
          "text": [
            "Train Epoch 5: 100%|██████████| 77/77 [00:50<00:00,  1.51it/s, WMAPE=2.1, DICE=0.0737, DPEAKS=42.9, Loss=0.00645]\n",
            "Validate Epoch 5: 100%|██████████| 20/20 [00:06<00:00,  3.10it/s, WMAPE=3.69, DICE=0.0741, DPEAKS=45.3, Loss=0.0115]\n"
          ]
        },
        {
          "name": "stdout",
          "output_type": "stream",
          "text": [
            "Epoch [6/50]\n"
          ]
        },
        {
          "name": "stderr",
          "output_type": "stream",
          "text": [
            "Train Epoch 6: 100%|██████████| 77/77 [00:51<00:00,  1.51it/s, WMAPE=2.03, DICE=0.0726, DPEAKS=40.9, Loss=0.00626]\n",
            "Validate Epoch 6: 100%|██████████| 20/20 [00:06<00:00,  3.02it/s, WMAPE=3.17, DICE=0.0791, DPEAKS=46.2, Loss=0.00871]\n"
          ]
        },
        {
          "name": "stdout",
          "output_type": "stream",
          "text": [
            "Epoch [7/50]\n"
          ]
        },
        {
          "name": "stderr",
          "output_type": "stream",
          "text": [
            "Train Epoch 7: 100%|██████████| 77/77 [00:50<00:00,  1.51it/s, WMAPE=2.02, DICE=0.072, DPEAKS=41.3, Loss=0.00613]\n",
            "Validate Epoch 7: 100%|██████████| 20/20 [00:06<00:00,  3.10it/s, WMAPE=1.99, DICE=0.0726, DPEAKS=42.2, Loss=0.00638]\n"
          ]
        },
        {
          "name": "stdout",
          "output_type": "stream",
          "text": [
            "Saving best model\n",
            "Epoch [8/50]\n"
          ]
        },
        {
          "name": "stderr",
          "output_type": "stream",
          "text": [
            "Train Epoch 8: 100%|██████████| 77/77 [00:50<00:00,  1.51it/s, WMAPE=1.97, DICE=0.0715, DPEAKS=40.5, Loss=0.00601]\n",
            "Validate Epoch 8: 100%|██████████| 20/20 [00:06<00:00,  3.08it/s, WMAPE=2.15, DICE=0.0727, DPEAKS=44, Loss=0.00674]\n"
          ]
        },
        {
          "name": "stdout",
          "output_type": "stream",
          "text": [
            "Epoch [9/50]\n"
          ]
        },
        {
          "name": "stderr",
          "output_type": "stream",
          "text": [
            "Train Epoch 9: 100%|██████████| 77/77 [00:51<00:00,  1.51it/s, WMAPE=1.98, DICE=0.0714, DPEAKS=40, Loss=0.00606]\n",
            "Validate Epoch 9: 100%|██████████| 20/20 [00:06<00:00,  3.09it/s, WMAPE=7.04, DICE=0.0721, DPEAKS=42.9, Loss=0.0214]\n"
          ]
        },
        {
          "name": "stdout",
          "output_type": "stream",
          "text": [
            "Epoch [10/50]\n"
          ]
        },
        {
          "name": "stderr",
          "output_type": "stream",
          "text": [
            "Train Epoch 10: 100%|██████████| 77/77 [00:51<00:00,  1.51it/s, WMAPE=1.97, DICE=0.0715, DPEAKS=40.9, Loss=0.00598]\n",
            "Validate Epoch 10: 100%|██████████| 20/20 [00:06<00:00,  3.09it/s, WMAPE=3.09, DICE=0.073, DPEAKS=42.9, Loss=0.00975]\n"
          ]
        },
        {
          "name": "stdout",
          "output_type": "stream",
          "text": [
            "Epoch [11/50]\n"
          ]
        },
        {
          "name": "stderr",
          "output_type": "stream",
          "text": [
            "Train Epoch 11: 100%|██████████| 77/77 [00:51<00:00,  1.51it/s, WMAPE=2, DICE=0.0714, DPEAKS=40.7, Loss=0.00608]\n",
            "Validate Epoch 11: 100%|██████████| 20/20 [00:06<00:00,  3.09it/s, WMAPE=2.66, DICE=0.0745, DPEAKS=42.7, Loss=0.00743]\n"
          ]
        },
        {
          "name": "stdout",
          "output_type": "stream",
          "text": [
            "Epoch [12/50]\n"
          ]
        },
        {
          "name": "stderr",
          "output_type": "stream",
          "text": [
            "Train Epoch 12: 100%|██████████| 77/77 [00:51<00:00,  1.51it/s, WMAPE=1.91, DICE=0.0705, DPEAKS=39.2, Loss=0.00584]\n",
            "Validate Epoch 12: 100%|██████████| 20/20 [00:06<00:00,  3.05it/s, WMAPE=2.04, DICE=0.0705, DPEAKS=41.4, Loss=0.00646]\n"
          ]
        },
        {
          "name": "stdout",
          "output_type": "stream",
          "text": [
            "early stopping: 5 epochs without improvement\n",
            "Training complete.\n"
          ]
        },
        {
          "name": "stderr",
          "output_type": "stream",
          "text": [
            "Validate Epoch test: 100%|██████████| 486/486 [02:29<00:00,  3.25it/s, WMAPE=2.08, DICE=0.0725, DPEAKS=40.5, Loss=0.00659]\n"
          ]
        },
        {
          "name": "stdout",
          "output_type": "stream",
          "text": [
            "Partition 11: training full\n",
            "Loaded best model from partition 10\n",
            "Epoch [1/50]\n"
          ]
        },
        {
          "name": "stderr",
          "output_type": "stream",
          "text": [
            "Train Epoch 1: 100%|██████████| 77/77 [00:58<00:00,  1.31it/s, WMAPE=2.33, DICE=0.0799, DPEAKS=52, Loss=0.0073]\n",
            "Validate Epoch 1: 100%|██████████| 20/20 [00:07<00:00,  2.56it/s, WMAPE=2.22, DICE=0.0756, DPEAKS=44.9, Loss=0.00725]\n"
          ]
        },
        {
          "name": "stdout",
          "output_type": "stream",
          "text": [
            "Saving best model\n",
            "Epoch [2/50]\n"
          ]
        },
        {
          "name": "stderr",
          "output_type": "stream",
          "text": [
            "Train Epoch 2: 100%|██████████| 77/77 [00:53<00:00,  1.44it/s, WMAPE=2.11, DICE=0.0722, DPEAKS=43.6, Loss=0.00655]\n",
            "Validate Epoch 2: 100%|██████████| 20/20 [00:06<00:00,  3.10it/s, WMAPE=2.39, DICE=0.0754, DPEAKS=47.5, Loss=0.00756]\n"
          ]
        },
        {
          "name": "stdout",
          "output_type": "stream",
          "text": [
            "Epoch [3/50]\n"
          ]
        },
        {
          "name": "stderr",
          "output_type": "stream",
          "text": [
            "Train Epoch 3: 100%|██████████| 77/77 [00:53<00:00,  1.44it/s, WMAPE=2.02, DICE=0.0711, DPEAKS=42, Loss=0.00628]\n",
            "Validate Epoch 3: 100%|██████████| 20/20 [00:06<00:00,  3.09it/s, WMAPE=2.17, DICE=0.0731, DPEAKS=44.4, Loss=0.0066]\n"
          ]
        },
        {
          "name": "stdout",
          "output_type": "stream",
          "text": [
            "Saving best model\n",
            "Epoch [4/50]\n"
          ]
        },
        {
          "name": "stderr",
          "output_type": "stream",
          "text": [
            "Train Epoch 4: 100%|██████████| 77/77 [00:53<00:00,  1.44it/s, WMAPE=2, DICE=0.0693, DPEAKS=39.9, Loss=0.00617]\n",
            "Validate Epoch 4: 100%|██████████| 20/20 [00:06<00:00,  3.07it/s, WMAPE=2.66, DICE=0.0704, DPEAKS=42.4, Loss=0.00818]\n"
          ]
        },
        {
          "name": "stdout",
          "output_type": "stream",
          "text": [
            "Epoch [5/50]\n"
          ]
        },
        {
          "name": "stderr",
          "output_type": "stream",
          "text": [
            "Train Epoch 5: 100%|██████████| 77/77 [00:53<00:00,  1.44it/s, WMAPE=1.82, DICE=0.0673, DPEAKS=40, Loss=0.00567]\n",
            "Validate Epoch 5: 100%|██████████| 20/20 [00:06<00:00,  3.09it/s, WMAPE=2.42, DICE=0.0711, DPEAKS=42.6, Loss=0.0079]\n"
          ]
        },
        {
          "name": "stdout",
          "output_type": "stream",
          "text": [
            "Epoch [6/50]\n"
          ]
        },
        {
          "name": "stderr",
          "output_type": "stream",
          "text": [
            "Train Epoch 6: 100%|██████████| 77/77 [00:53<00:00,  1.44it/s, WMAPE=1.8, DICE=0.0663, DPEAKS=39, Loss=0.00557]\n",
            "Validate Epoch 6: 100%|██████████| 20/20 [00:06<00:00,  3.08it/s, WMAPE=2.73, DICE=0.0673, DPEAKS=39.2, Loss=0.00817]\n"
          ]
        },
        {
          "name": "stdout",
          "output_type": "stream",
          "text": [
            "Epoch [7/50]\n"
          ]
        },
        {
          "name": "stderr",
          "output_type": "stream",
          "text": [
            "Train Epoch 7: 100%|██████████| 77/77 [00:53<00:00,  1.44it/s, WMAPE=1.74, DICE=0.0672, DPEAKS=40.3, Loss=0.00544]\n",
            "Validate Epoch 7: 100%|██████████| 20/20 [00:06<00:00,  3.10it/s, WMAPE=2.29, DICE=0.0733, DPEAKS=42.5, Loss=0.00705]\n"
          ]
        },
        {
          "name": "stdout",
          "output_type": "stream",
          "text": [
            "Epoch [8/50]\n"
          ]
        },
        {
          "name": "stderr",
          "output_type": "stream",
          "text": [
            "Train Epoch 8: 100%|██████████| 77/77 [00:53<00:00,  1.44it/s, WMAPE=1.7, DICE=0.0658, DPEAKS=40.4, Loss=0.00536]\n",
            "Validate Epoch 8: 100%|██████████| 20/20 [00:06<00:00,  3.08it/s, WMAPE=2.25, DICE=0.0715, DPEAKS=46.2, Loss=0.00698]\n"
          ]
        },
        {
          "name": "stdout",
          "output_type": "stream",
          "text": [
            "early stopping: 5 epochs without improvement\n",
            "Training complete.\n"
          ]
        },
        {
          "name": "stderr",
          "output_type": "stream",
          "text": [
            "Validate Epoch test: 100%|██████████| 486/486 [02:29<00:00,  3.25it/s, WMAPE=2.2, DICE=0.0731, DPEAKS=43.5, Loss=0.00652]\n"
          ]
        },
        {
          "name": "stdout",
          "output_type": "stream",
          "text": [
            "Partition 12: training decoder\n",
            "Loaded best model from partition 11\n",
            "Epoch [1/50]\n"
          ]
        },
        {
          "name": "stderr",
          "output_type": "stream",
          "text": [
            "Train Epoch 1: 100%|██████████| 77/77 [00:56<00:00,  1.36it/s, WMAPE=2.09, DICE=0.0686, DPEAKS=38.3, Loss=0.00646]\n",
            "Validate Epoch 1: 100%|██████████| 20/20 [00:07<00:00,  2.60it/s, WMAPE=2.03, DICE=0.0695, DPEAKS=35.4, Loss=0.00621]\n"
          ]
        },
        {
          "name": "stdout",
          "output_type": "stream",
          "text": [
            "Saving best model\n",
            "Epoch [2/50]\n"
          ]
        },
        {
          "name": "stderr",
          "output_type": "stream",
          "text": [
            "Train Epoch 2: 100%|██████████| 77/77 [00:51<00:00,  1.50it/s, WMAPE=2.03, DICE=0.067, DPEAKS=37.4, Loss=0.00625]\n",
            "Validate Epoch 2: 100%|██████████| 20/20 [00:06<00:00,  3.06it/s, WMAPE=4.15, DICE=0.0704, DPEAKS=39, Loss=0.0116]\n"
          ]
        },
        {
          "name": "stdout",
          "output_type": "stream",
          "text": [
            "Epoch [3/50]\n"
          ]
        },
        {
          "name": "stderr",
          "output_type": "stream",
          "text": [
            "Train Epoch 3: 100%|██████████| 77/77 [00:51<00:00,  1.51it/s, WMAPE=1.99, DICE=0.0669, DPEAKS=37.3, Loss=0.00615]\n",
            "Validate Epoch 3: 100%|██████████| 20/20 [00:06<00:00,  3.08it/s, WMAPE=1.96, DICE=0.0703, DPEAKS=50, Loss=0.0064]\n"
          ]
        },
        {
          "name": "stdout",
          "output_type": "stream",
          "text": [
            "Epoch [4/50]\n"
          ]
        },
        {
          "name": "stderr",
          "output_type": "stream",
          "text": [
            "Train Epoch 4: 100%|██████████| 77/77 [00:51<00:00,  1.51it/s, WMAPE=1.97, DICE=0.0666, DPEAKS=37.6, Loss=0.00617]\n",
            "Validate Epoch 4: 100%|██████████| 20/20 [00:06<00:00,  3.08it/s, WMAPE=2.21, DICE=0.0705, DPEAKS=43.7, Loss=0.00628]\n"
          ]
        },
        {
          "name": "stdout",
          "output_type": "stream",
          "text": [
            "Epoch [5/50]\n"
          ]
        },
        {
          "name": "stderr",
          "output_type": "stream",
          "text": [
            "Train Epoch 5: 100%|██████████| 77/77 [00:51<00:00,  1.51it/s, WMAPE=1.93, DICE=0.0658, DPEAKS=36.6, Loss=0.00591]\n",
            "Validate Epoch 5: 100%|██████████| 20/20 [00:06<00:00,  3.06it/s, WMAPE=1.99, DICE=0.0652, DPEAKS=35.4, Loss=0.00592]\n"
          ]
        },
        {
          "name": "stdout",
          "output_type": "stream",
          "text": [
            "Saving best model\n",
            "Epoch [6/50]\n"
          ]
        },
        {
          "name": "stderr",
          "output_type": "stream",
          "text": [
            "Train Epoch 6: 100%|██████████| 77/77 [00:51<00:00,  1.51it/s, WMAPE=1.97, DICE=0.0684, DPEAKS=39.7, Loss=0.00608]\n",
            "Validate Epoch 6: 100%|██████████| 20/20 [00:06<00:00,  3.09it/s, WMAPE=4.3, DICE=0.0721, DPEAKS=43.1, Loss=0.0121]\n"
          ]
        },
        {
          "name": "stdout",
          "output_type": "stream",
          "text": [
            "Epoch [7/50]\n"
          ]
        },
        {
          "name": "stderr",
          "output_type": "stream",
          "text": [
            "Train Epoch 7: 100%|██████████| 77/77 [00:51<00:00,  1.51it/s, WMAPE=1.88, DICE=0.0662, DPEAKS=36.9, Loss=0.00581]\n",
            "Validate Epoch 7: 100%|██████████| 20/20 [00:06<00:00,  3.04it/s, WMAPE=4.55, DICE=0.0716, DPEAKS=41.9, Loss=0.0124]\n"
          ]
        },
        {
          "name": "stdout",
          "output_type": "stream",
          "text": [
            "Epoch [8/50]\n"
          ]
        },
        {
          "name": "stderr",
          "output_type": "stream",
          "text": [
            "Train Epoch 8: 100%|██████████| 77/77 [00:51<00:00,  1.51it/s, WMAPE=1.83, DICE=0.065, DPEAKS=34.7, Loss=0.00562]\n",
            "Validate Epoch 8: 100%|██████████| 20/20 [00:06<00:00,  3.09it/s, WMAPE=3.84, DICE=0.0656, DPEAKS=35.2, Loss=0.012]\n"
          ]
        },
        {
          "name": "stdout",
          "output_type": "stream",
          "text": [
            "Epoch [9/50]\n"
          ]
        },
        {
          "name": "stderr",
          "output_type": "stream",
          "text": [
            "Train Epoch 9: 100%|██████████| 77/77 [00:51<00:00,  1.51it/s, WMAPE=1.8, DICE=0.0647, DPEAKS=35.5, Loss=0.00554]\n",
            "Validate Epoch 9: 100%|██████████| 20/20 [00:06<00:00,  3.08it/s, WMAPE=2.31, DICE=0.0662, DPEAKS=37.2, Loss=0.00715]\n"
          ]
        },
        {
          "name": "stdout",
          "output_type": "stream",
          "text": [
            "Epoch [10/50]\n"
          ]
        },
        {
          "name": "stderr",
          "output_type": "stream",
          "text": [
            "Train Epoch 10: 100%|██████████| 77/77 [00:51<00:00,  1.50it/s, WMAPE=1.81, DICE=0.0646, DPEAKS=34.8, Loss=0.00555]\n",
            "Validate Epoch 10: 100%|██████████| 20/20 [00:06<00:00,  3.10it/s, WMAPE=1.99, DICE=0.0644, DPEAKS=33.5, Loss=0.00609]\n"
          ]
        },
        {
          "name": "stdout",
          "output_type": "stream",
          "text": [
            "early stopping: 5 epochs without improvement\n",
            "Training complete.\n"
          ]
        },
        {
          "name": "stderr",
          "output_type": "stream",
          "text": [
            "Validate Epoch test: 100%|██████████| 486/486 [02:29<00:00,  3.25it/s, WMAPE=1.96, DICE=0.0653, DPEAKS=38.3, Loss=0.00594]\n"
          ]
        },
        {
          "name": "stdout",
          "output_type": "stream",
          "text": [
            "Partition 13: training decoder\n",
            "Loaded best model from partition 12\n",
            "Epoch [1/50]\n"
          ]
        },
        {
          "name": "stderr",
          "output_type": "stream",
          "text": [
            "Train Epoch 1: 100%|██████████| 77/77 [00:56<00:00,  1.36it/s, WMAPE=2.05, DICE=0.0673, DPEAKS=38.6, Loss=0.00634]\n",
            "Validate Epoch 1: 100%|██████████| 20/20 [00:07<00:00,  2.52it/s, WMAPE=3.41, DICE=0.072, DPEAKS=42.5, Loss=0.0101]\n"
          ]
        },
        {
          "name": "stdout",
          "output_type": "stream",
          "text": [
            "Saving best model\n",
            "Epoch [2/50]\n"
          ]
        },
        {
          "name": "stderr",
          "output_type": "stream",
          "text": [
            "Train Epoch 2: 100%|██████████| 77/77 [00:51<00:00,  1.50it/s, WMAPE=1.93, DICE=0.0647, DPEAKS=35.8, Loss=0.00592]\n",
            "Validate Epoch 2: 100%|██████████| 20/20 [00:06<00:00,  3.08it/s, WMAPE=2.23, DICE=0.065, DPEAKS=37.2, Loss=0.00662]\n"
          ]
        },
        {
          "name": "stdout",
          "output_type": "stream",
          "text": [
            "Saving best model\n",
            "Epoch [3/50]\n"
          ]
        },
        {
          "name": "stderr",
          "output_type": "stream",
          "text": [
            "Train Epoch 3: 100%|██████████| 77/77 [00:51<00:00,  1.51it/s, WMAPE=1.94, DICE=0.0647, DPEAKS=34.6, Loss=0.00598]\n",
            "Validate Epoch 3: 100%|██████████| 20/20 [00:06<00:00,  3.09it/s, WMAPE=2.5, DICE=0.0676, DPEAKS=36.1, Loss=0.00712]\n"
          ]
        },
        {
          "name": "stdout",
          "output_type": "stream",
          "text": [
            "Epoch [4/50]\n"
          ]
        },
        {
          "name": "stderr",
          "output_type": "stream",
          "text": [
            "Train Epoch 4: 100%|██████████| 77/77 [00:51<00:00,  1.50it/s, WMAPE=1.97, DICE=0.0652, DPEAKS=37.3, Loss=0.00603]\n",
            "Validate Epoch 4: 100%|██████████| 20/20 [00:06<00:00,  3.08it/s, WMAPE=2.86, DICE=0.0645, DPEAKS=36.2, Loss=0.00835]\n"
          ]
        },
        {
          "name": "stdout",
          "output_type": "stream",
          "text": [
            "Epoch [5/50]\n"
          ]
        },
        {
          "name": "stderr",
          "output_type": "stream",
          "text": [
            "Train Epoch 5: 100%|██████████| 77/77 [00:50<00:00,  1.51it/s, WMAPE=1.91, DICE=0.0643, DPEAKS=35.4, Loss=0.00588]\n",
            "Validate Epoch 5: 100%|██████████| 20/20 [00:06<00:00,  3.10it/s, WMAPE=3.01, DICE=0.0638, DPEAKS=33, Loss=0.00845]\n"
          ]
        },
        {
          "name": "stdout",
          "output_type": "stream",
          "text": [
            "Epoch [6/50]\n"
          ]
        },
        {
          "name": "stderr",
          "output_type": "stream",
          "text": [
            "Train Epoch 6: 100%|██████████| 77/77 [00:51<00:00,  1.50it/s, WMAPE=1.84, DICE=0.0638, DPEAKS=35.5, Loss=0.00565]\n",
            "Validate Epoch 6: 100%|██████████| 20/20 [00:06<00:00,  3.09it/s, WMAPE=5.52, DICE=0.0763, DPEAKS=42.7, Loss=0.0152]\n"
          ]
        },
        {
          "name": "stdout",
          "output_type": "stream",
          "text": [
            "Epoch [7/50]\n"
          ]
        },
        {
          "name": "stderr",
          "output_type": "stream",
          "text": [
            "Train Epoch 7: 100%|██████████| 77/77 [00:51<00:00,  1.50it/s, WMAPE=1.87, DICE=0.065, DPEAKS=37.4, Loss=0.00575]\n",
            "Validate Epoch 7: 100%|██████████| 20/20 [00:06<00:00,  3.07it/s, WMAPE=3.87, DICE=0.0658, DPEAKS=35.6, Loss=0.0107]\n"
          ]
        },
        {
          "name": "stdout",
          "output_type": "stream",
          "text": [
            "Epoch [8/50]\n"
          ]
        },
        {
          "name": "stderr",
          "output_type": "stream",
          "text": [
            "Train Epoch 8: 100%|██████████| 77/77 [00:51<00:00,  1.51it/s, WMAPE=1.8, DICE=0.0636, DPEAKS=34.2, Loss=0.00557]\n",
            "Validate Epoch 8: 100%|██████████| 20/20 [00:06<00:00,  3.09it/s, WMAPE=5.16, DICE=0.0671, DPEAKS=36.1, Loss=0.014]\n"
          ]
        },
        {
          "name": "stdout",
          "output_type": "stream",
          "text": [
            "early stopping: 6 epochs without improvement\n",
            "Training complete.\n"
          ]
        },
        {
          "name": "stderr",
          "output_type": "stream",
          "text": [
            "Validate Epoch test: 100%|██████████| 486/486 [02:29<00:00,  3.26it/s, WMAPE=2.2, DICE=0.065, DPEAKS=36.1, Loss=0.00671]\n"
          ]
        },
        {
          "name": "stdout",
          "output_type": "stream",
          "text": [
            "Partition 14: training decoder\n",
            "Loaded best model from partition 13\n",
            "Epoch [1/50]\n"
          ]
        },
        {
          "name": "stderr",
          "output_type": "stream",
          "text": [
            "Train Epoch 1: 100%|██████████| 77/77 [00:56<00:00,  1.37it/s, WMAPE=2.06, DICE=0.0658, DPEAKS=38.6, Loss=0.00629]\n",
            "Validate Epoch 1: 100%|██████████| 20/20 [00:07<00:00,  2.54it/s, WMAPE=2.27, DICE=0.0652, DPEAKS=34.8, Loss=0.00663]\n"
          ]
        },
        {
          "name": "stdout",
          "output_type": "stream",
          "text": [
            "Saving best model\n",
            "Epoch [2/50]\n"
          ]
        },
        {
          "name": "stderr",
          "output_type": "stream",
          "text": [
            "Train Epoch 2: 100%|██████████| 77/77 [00:50<00:00,  1.51it/s, WMAPE=1.97, DICE=0.0645, DPEAKS=36.7, Loss=0.00594]\n",
            "Validate Epoch 2: 100%|██████████| 20/20 [00:06<00:00,  3.10it/s, WMAPE=2.27, DICE=0.0653, DPEAKS=33.5, Loss=0.00746]\n"
          ]
        },
        {
          "name": "stdout",
          "output_type": "stream",
          "text": [
            "Epoch [3/50]\n"
          ]
        },
        {
          "name": "stderr",
          "output_type": "stream",
          "text": [
            "Train Epoch 3: 100%|██████████| 77/77 [00:51<00:00,  1.51it/s, WMAPE=1.97, DICE=0.0651, DPEAKS=39.5, Loss=0.00603]\n",
            "Validate Epoch 3: 100%|██████████| 20/20 [00:06<00:00,  3.10it/s, WMAPE=2.81, DICE=0.0652, DPEAKS=34.4, Loss=0.00845]\n"
          ]
        },
        {
          "name": "stdout",
          "output_type": "stream",
          "text": [
            "Epoch [4/50]\n"
          ]
        },
        {
          "name": "stderr",
          "output_type": "stream",
          "text": [
            "Train Epoch 4: 100%|██████████| 77/77 [00:51<00:00,  1.51it/s, WMAPE=1.98, DICE=0.0648, DPEAKS=39.4, Loss=0.00605]\n",
            "Validate Epoch 4: 100%|██████████| 20/20 [00:06<00:00,  3.11it/s, WMAPE=2.04, DICE=0.0636, DPEAKS=34.9, Loss=0.00609]\n"
          ]
        },
        {
          "name": "stdout",
          "output_type": "stream",
          "text": [
            "Saving best model\n",
            "Epoch [5/50]\n"
          ]
        },
        {
          "name": "stderr",
          "output_type": "stream",
          "text": [
            "Train Epoch 5: 100%|██████████| 77/77 [00:50<00:00,  1.51it/s, WMAPE=1.88, DICE=0.0639, DPEAKS=36.7, Loss=0.00573]\n",
            "Validate Epoch 5: 100%|██████████| 20/20 [00:06<00:00,  3.04it/s, WMAPE=2.02, DICE=0.0665, DPEAKS=34, Loss=0.00606]\n"
          ]
        },
        {
          "name": "stdout",
          "output_type": "stream",
          "text": [
            "Saving best model\n",
            "Epoch [6/50]\n"
          ]
        },
        {
          "name": "stderr",
          "output_type": "stream",
          "text": [
            "Train Epoch 6: 100%|██████████| 77/77 [00:50<00:00,  1.51it/s, WMAPE=1.87, DICE=0.0637, DPEAKS=38.1, Loss=0.00569]\n",
            "Validate Epoch 6: 100%|██████████| 20/20 [00:06<00:00,  3.06it/s, WMAPE=2.1, DICE=0.0655, DPEAKS=34.9, Loss=0.00625]\n"
          ]
        },
        {
          "name": "stdout",
          "output_type": "stream",
          "text": [
            "Epoch [7/50]\n"
          ]
        },
        {
          "name": "stderr",
          "output_type": "stream",
          "text": [
            "Train Epoch 7: 100%|██████████| 77/77 [00:51<00:00,  1.51it/s, WMAPE=1.83, DICE=0.0638, DPEAKS=36.4, Loss=0.00567]\n",
            "Validate Epoch 7: 100%|██████████| 20/20 [00:06<00:00,  3.10it/s, WMAPE=2, DICE=0.0652, DPEAKS=35.5, Loss=0.00617]\n"
          ]
        },
        {
          "name": "stdout",
          "output_type": "stream",
          "text": [
            "Epoch [8/50]\n"
          ]
        },
        {
          "name": "stderr",
          "output_type": "stream",
          "text": [
            "Train Epoch 8: 100%|██████████| 77/77 [00:51<00:00,  1.51it/s, WMAPE=1.82, DICE=0.063, DPEAKS=36.7, Loss=0.00554]\n",
            "Validate Epoch 8: 100%|██████████| 20/20 [00:06<00:00,  3.07it/s, WMAPE=2.3, DICE=0.0642, DPEAKS=32.8, Loss=0.00673]\n"
          ]
        },
        {
          "name": "stdout",
          "output_type": "stream",
          "text": [
            "Epoch [9/50]\n"
          ]
        },
        {
          "name": "stderr",
          "output_type": "stream",
          "text": [
            "Train Epoch 9: 100%|██████████| 77/77 [00:51<00:00,  1.50it/s, WMAPE=1.8, DICE=0.0627, DPEAKS=36, Loss=0.00546]\n",
            "Validate Epoch 9: 100%|██████████| 20/20 [00:06<00:00,  3.07it/s, WMAPE=2.68, DICE=0.0635, DPEAKS=38.5, Loss=0.00839]\n"
          ]
        },
        {
          "name": "stdout",
          "output_type": "stream",
          "text": [
            "Epoch [10/50]\n"
          ]
        },
        {
          "name": "stderr",
          "output_type": "stream",
          "text": [
            "Train Epoch 10: 100%|██████████| 77/77 [00:50<00:00,  1.51it/s, WMAPE=1.75, DICE=0.0627, DPEAKS=35.3, Loss=0.00534]\n",
            "Validate Epoch 10: 100%|██████████| 20/20 [00:06<00:00,  3.07it/s, WMAPE=2.84, DICE=0.0634, DPEAKS=32.4, Loss=0.00817]\n"
          ]
        },
        {
          "name": "stdout",
          "output_type": "stream",
          "text": [
            "early stopping: 5 epochs without improvement\n",
            "Training complete.\n"
          ]
        },
        {
          "name": "stderr",
          "output_type": "stream",
          "text": [
            "Validate Epoch test: 100%|██████████| 486/486 [02:29<00:00,  3.25it/s, WMAPE=1.96, DICE=0.0666, DPEAKS=35.5, Loss=0.00591]\n"
          ]
        },
        {
          "name": "stdout",
          "output_type": "stream",
          "text": [
            "Partition 15: training decoder\n",
            "Loaded best model from partition 14\n",
            "Epoch [1/50]\n"
          ]
        },
        {
          "name": "stderr",
          "output_type": "stream",
          "text": [
            "Train Epoch 1: 100%|██████████| 77/77 [00:56<00:00,  1.37it/s, WMAPE=1.99, DICE=0.0642, DPEAKS=36.4, Loss=0.00607]\n",
            "Validate Epoch 1: 100%|██████████| 20/20 [00:07<00:00,  2.59it/s, WMAPE=2.75, DICE=0.064, DPEAKS=33.7, Loss=0.00838]\n"
          ]
        },
        {
          "name": "stdout",
          "output_type": "stream",
          "text": [
            "Saving best model\n",
            "Epoch [2/50]\n"
          ]
        },
        {
          "name": "stderr",
          "output_type": "stream",
          "text": [
            "Train Epoch 2: 100%|██████████| 77/77 [00:51<00:00,  1.50it/s, WMAPE=1.95, DICE=0.0632, DPEAKS=34.7, Loss=0.0059]\n",
            "Validate Epoch 2: 100%|██████████| 20/20 [00:06<00:00,  3.09it/s, WMAPE=2.05, DICE=0.0642, DPEAKS=33, Loss=0.00595]\n"
          ]
        },
        {
          "name": "stdout",
          "output_type": "stream",
          "text": [
            "Saving best model\n",
            "Epoch [3/50]\n"
          ]
        },
        {
          "name": "stderr",
          "output_type": "stream",
          "text": [
            "Train Epoch 3: 100%|██████████| 77/77 [00:51<00:00,  1.51it/s, WMAPE=1.91, DICE=0.0631, DPEAKS=36.6, Loss=0.00586]\n",
            "Validate Epoch 3: 100%|██████████| 20/20 [00:06<00:00,  3.09it/s, WMAPE=3.23, DICE=0.0645, DPEAKS=33.6, Loss=0.0101]\n"
          ]
        },
        {
          "name": "stdout",
          "output_type": "stream",
          "text": [
            "Epoch [4/50]\n"
          ]
        },
        {
          "name": "stderr",
          "output_type": "stream",
          "text": [
            "Train Epoch 4: 100%|██████████| 77/77 [00:51<00:00,  1.51it/s, WMAPE=1.89, DICE=0.0631, DPEAKS=34.9, Loss=0.00582]\n",
            "Validate Epoch 4: 100%|██████████| 20/20 [00:06<00:00,  3.09it/s, WMAPE=3.83, DICE=0.0638, DPEAKS=36.5, Loss=0.0115]\n"
          ]
        },
        {
          "name": "stdout",
          "output_type": "stream",
          "text": [
            "Epoch [5/50]\n"
          ]
        },
        {
          "name": "stderr",
          "output_type": "stream",
          "text": [
            "Train Epoch 5: 100%|██████████| 77/77 [00:50<00:00,  1.51it/s, WMAPE=1.89, DICE=0.063, DPEAKS=34.9, Loss=0.00579]\n",
            "Validate Epoch 5: 100%|██████████| 20/20 [00:06<00:00,  3.08it/s, WMAPE=1.92, DICE=0.063, DPEAKS=37.6, Loss=0.0058]\n"
          ]
        },
        {
          "name": "stdout",
          "output_type": "stream",
          "text": [
            "Saving best model\n",
            "Epoch [6/50]\n"
          ]
        },
        {
          "name": "stderr",
          "output_type": "stream",
          "text": [
            "Train Epoch 6: 100%|██████████| 77/77 [00:51<00:00,  1.51it/s, WMAPE=1.79, DICE=0.0624, DPEAKS=35.3, Loss=0.00553]\n",
            "Validate Epoch 6: 100%|██████████| 20/20 [00:06<00:00,  3.09it/s, WMAPE=4.42, DICE=0.0675, DPEAKS=36.5, Loss=0.0119]\n"
          ]
        },
        {
          "name": "stdout",
          "output_type": "stream",
          "text": [
            "Epoch [7/50]\n"
          ]
        },
        {
          "name": "stderr",
          "output_type": "stream",
          "text": [
            "Train Epoch 7: 100%|██████████| 77/77 [00:51<00:00,  1.50it/s, WMAPE=1.88, DICE=0.0659, DPEAKS=38, Loss=0.00583]\n",
            "Validate Epoch 7: 100%|██████████| 20/20 [00:06<00:00,  3.07it/s, WMAPE=2.01, DICE=0.0665, DPEAKS=39.1, Loss=0.00612]\n"
          ]
        },
        {
          "name": "stdout",
          "output_type": "stream",
          "text": [
            "Epoch [8/50]\n"
          ]
        },
        {
          "name": "stderr",
          "output_type": "stream",
          "text": [
            "Train Epoch 8: 100%|██████████| 77/77 [00:51<00:00,  1.51it/s, WMAPE=1.82, DICE=0.0642, DPEAKS=36.9, Loss=0.00562]\n",
            "Validate Epoch 8: 100%|██████████| 20/20 [00:06<00:00,  3.10it/s, WMAPE=2.21, DICE=0.0648, DPEAKS=37.6, Loss=0.00633]\n"
          ]
        },
        {
          "name": "stdout",
          "output_type": "stream",
          "text": [
            "Epoch [9/50]\n"
          ]
        },
        {
          "name": "stderr",
          "output_type": "stream",
          "text": [
            "Train Epoch 9: 100%|██████████| 77/77 [00:51<00:00,  1.51it/s, WMAPE=1.86, DICE=0.0635, DPEAKS=37.5, Loss=0.00572]\n",
            "Validate Epoch 9: 100%|██████████| 20/20 [00:06<00:00,  3.03it/s, WMAPE=7.25, DICE=0.0667, DPEAKS=37.4, Loss=0.0216]\n"
          ]
        },
        {
          "name": "stdout",
          "output_type": "stream",
          "text": [
            "Epoch [10/50]\n"
          ]
        },
        {
          "name": "stderr",
          "output_type": "stream",
          "text": [
            "Train Epoch 10: 100%|██████████| 77/77 [00:50<00:00,  1.51it/s, WMAPE=1.76, DICE=0.0624, DPEAKS=35.6, Loss=0.00538]\n",
            "Validate Epoch 10: 100%|██████████| 20/20 [00:06<00:00,  3.10it/s, WMAPE=2.7, DICE=0.0635, DPEAKS=33.3, Loss=0.00762]\n"
          ]
        },
        {
          "name": "stdout",
          "output_type": "stream",
          "text": [
            "early stopping: 5 epochs without improvement\n",
            "Training complete.\n"
          ]
        },
        {
          "name": "stderr",
          "output_type": "stream",
          "text": [
            "Validate Epoch test: 100%|██████████| 486/486 [02:29<00:00,  3.25it/s, WMAPE=1.96, DICE=0.0629, DPEAKS=38.2, Loss=0.00589]\n"
          ]
        },
        {
          "name": "stdout",
          "output_type": "stream",
          "text": [
            "Partition 16: training full\n",
            "Loaded best model from partition 15\n",
            "Epoch [1/50]\n"
          ]
        },
        {
          "name": "stderr",
          "output_type": "stream",
          "text": [
            "Train Epoch 1: 100%|██████████| 77/77 [00:58<00:00,  1.31it/s, WMAPE=2.09, DICE=0.0699, DPEAKS=42.6, Loss=0.0065]\n",
            "Validate Epoch 1: 100%|██████████| 20/20 [00:07<00:00,  2.56it/s, WMAPE=2.12, DICE=0.0708, DPEAKS=44.5, Loss=0.00639]\n"
          ]
        },
        {
          "name": "stdout",
          "output_type": "stream",
          "text": [
            "Saving best model\n",
            "Epoch [2/50]\n"
          ]
        },
        {
          "name": "stderr",
          "output_type": "stream",
          "text": [
            "Train Epoch 2: 100%|██████████| 77/77 [00:53<00:00,  1.44it/s, WMAPE=1.95, DICE=0.064, DPEAKS=37.6, Loss=0.00599]\n",
            "Validate Epoch 2: 100%|██████████| 20/20 [00:06<00:00,  3.07it/s, WMAPE=1.98, DICE=0.0683, DPEAKS=41.5, Loss=0.00621]\n"
          ]
        },
        {
          "name": "stdout",
          "output_type": "stream",
          "text": [
            "Saving best model\n",
            "Epoch [3/50]\n"
          ]
        },
        {
          "name": "stderr",
          "output_type": "stream",
          "text": [
            "Train Epoch 3: 100%|██████████| 77/77 [00:53<00:00,  1.44it/s, WMAPE=1.93, DICE=0.0678, DPEAKS=41.7, Loss=0.00606]\n",
            "Validate Epoch 3: 100%|██████████| 20/20 [00:06<00:00,  3.07it/s, WMAPE=2.04, DICE=0.0661, DPEAKS=38.2, Loss=0.00634]\n"
          ]
        },
        {
          "name": "stdout",
          "output_type": "stream",
          "text": [
            "Epoch [4/50]\n"
          ]
        },
        {
          "name": "stderr",
          "output_type": "stream",
          "text": [
            "Train Epoch 4: 100%|██████████| 77/77 [00:53<00:00,  1.44it/s, WMAPE=1.81, DICE=0.0628, DPEAKS=37.1, Loss=0.00567]\n",
            "Validate Epoch 4: 100%|██████████| 20/20 [00:06<00:00,  3.09it/s, WMAPE=5.28, DICE=0.0624, DPEAKS=40.1, Loss=0.0162]\n"
          ]
        },
        {
          "name": "stdout",
          "output_type": "stream",
          "text": [
            "Epoch [5/50]\n"
          ]
        },
        {
          "name": "stderr",
          "output_type": "stream",
          "text": [
            "Train Epoch 5: 100%|██████████| 77/77 [00:53<00:00,  1.45it/s, WMAPE=1.72, DICE=0.0609, DPEAKS=33.6, Loss=0.00539]\n",
            "Validate Epoch 5: 100%|██████████| 20/20 [00:06<00:00,  3.09it/s, WMAPE=2.35, DICE=0.0672, DPEAKS=44.6, Loss=0.00742]\n"
          ]
        },
        {
          "name": "stdout",
          "output_type": "stream",
          "text": [
            "Epoch [6/50]\n"
          ]
        },
        {
          "name": "stderr",
          "output_type": "stream",
          "text": [
            "Train Epoch 6: 100%|██████████| 77/77 [00:53<00:00,  1.44it/s, WMAPE=1.72, DICE=0.0608, DPEAKS=35.7, Loss=0.00538]\n",
            "Validate Epoch 6: 100%|██████████| 20/20 [00:06<00:00,  3.09it/s, WMAPE=2.11, DICE=0.0603, DPEAKS=35.3, Loss=0.00666]\n"
          ]
        },
        {
          "name": "stdout",
          "output_type": "stream",
          "text": [
            "Epoch [7/50]\n"
          ]
        },
        {
          "name": "stderr",
          "output_type": "stream",
          "text": [
            "Train Epoch 7: 100%|██████████| 77/77 [00:53<00:00,  1.44it/s, WMAPE=1.57, DICE=0.0591, DPEAKS=33.3, Loss=0.0049]\n",
            "Validate Epoch 7: 100%|██████████| 20/20 [00:06<00:00,  3.08it/s, WMAPE=4.65, DICE=0.0647, DPEAKS=42.9, Loss=0.0139]\n"
          ]
        },
        {
          "name": "stdout",
          "output_type": "stream",
          "text": [
            "Epoch [8/50]\n"
          ]
        },
        {
          "name": "stderr",
          "output_type": "stream",
          "text": [
            "Train Epoch 8: 100%|██████████| 77/77 [00:53<00:00,  1.44it/s, WMAPE=1.54, DICE=0.0583, DPEAKS=33.6, Loss=0.00489]\n",
            "Validate Epoch 8: 100%|██████████| 20/20 [00:06<00:00,  3.06it/s, WMAPE=6.32, DICE=0.0623, DPEAKS=38.7, Loss=0.0187]\n"
          ]
        },
        {
          "name": "stdout",
          "output_type": "stream",
          "text": [
            "early stopping: 6 epochs without improvement\n",
            "Training complete.\n"
          ]
        },
        {
          "name": "stderr",
          "output_type": "stream",
          "text": [
            "Validate Epoch test: 100%|██████████| 486/486 [02:29<00:00,  3.24it/s, WMAPE=2.09, DICE=0.0684, DPEAKS=39.7, Loss=0.00634]\n"
          ]
        },
        {
          "name": "stdout",
          "output_type": "stream",
          "text": [
            "Partition 17: training decoder\n",
            "Loaded best model from partition 16\n",
            "Epoch [1/50]\n"
          ]
        },
        {
          "name": "stderr",
          "output_type": "stream",
          "text": [
            "Train Epoch 1: 100%|██████████| 77/77 [00:56<00:00,  1.36it/s, WMAPE=2.01, DICE=0.0628, DPEAKS=37.2, Loss=0.00613]\n",
            "Validate Epoch 1: 100%|██████████| 20/20 [00:07<00:00,  2.57it/s, WMAPE=3.08, DICE=0.0613, DPEAKS=30.8, Loss=0.00905]\n"
          ]
        },
        {
          "name": "stdout",
          "output_type": "stream",
          "text": [
            "Saving best model\n",
            "Epoch [2/50]\n"
          ]
        },
        {
          "name": "stderr",
          "output_type": "stream",
          "text": [
            "Train Epoch 2: 100%|██████████| 77/77 [00:50<00:00,  1.51it/s, WMAPE=1.93, DICE=0.0621, DPEAKS=35.1, Loss=0.00595]\n",
            "Validate Epoch 2: 100%|██████████| 20/20 [00:06<00:00,  3.10it/s, WMAPE=1.82, DICE=0.0619, DPEAKS=31, Loss=0.00573]\n"
          ]
        },
        {
          "name": "stdout",
          "output_type": "stream",
          "text": [
            "Saving best model\n",
            "Epoch [3/50]\n"
          ]
        },
        {
          "name": "stderr",
          "output_type": "stream",
          "text": [
            "Train Epoch 3: 100%|██████████| 77/77 [00:50<00:00,  1.51it/s, WMAPE=1.97, DICE=0.0638, DPEAKS=38.6, Loss=0.00608]\n",
            "Validate Epoch 3: 100%|██████████| 20/20 [00:06<00:00,  3.11it/s, WMAPE=1.8, DICE=0.0645, DPEAKS=34.2, Loss=0.00584]\n"
          ]
        },
        {
          "name": "stdout",
          "output_type": "stream",
          "text": [
            "Epoch [4/50]\n"
          ]
        },
        {
          "name": "stderr",
          "output_type": "stream",
          "text": [
            "Train Epoch 4: 100%|██████████| 77/77 [00:51<00:00,  1.51it/s, WMAPE=1.95, DICE=0.0624, DPEAKS=36.8, Loss=0.00597]\n",
            "Validate Epoch 4: 100%|██████████| 20/20 [00:06<00:00,  3.07it/s, WMAPE=5.03, DICE=0.0629, DPEAKS=32.4, Loss=0.0154]\n"
          ]
        },
        {
          "name": "stdout",
          "output_type": "stream",
          "text": [
            "Epoch [5/50]\n"
          ]
        },
        {
          "name": "stderr",
          "output_type": "stream",
          "text": [
            "Train Epoch 5: 100%|██████████| 77/77 [00:50<00:00,  1.51it/s, WMAPE=1.85, DICE=0.061, DPEAKS=33.6, Loss=0.00564]\n",
            "Validate Epoch 5: 100%|██████████| 20/20 [00:06<00:00,  3.10it/s, WMAPE=3.96, DICE=0.0614, DPEAKS=33.8, Loss=0.0122]\n"
          ]
        },
        {
          "name": "stdout",
          "output_type": "stream",
          "text": [
            "Epoch [6/50]\n"
          ]
        },
        {
          "name": "stderr",
          "output_type": "stream",
          "text": [
            "Train Epoch 6: 100%|██████████| 77/77 [00:50<00:00,  1.51it/s, WMAPE=1.81, DICE=0.0607, DPEAKS=34.5, Loss=0.00556]\n",
            "Validate Epoch 6: 100%|██████████| 20/20 [00:06<00:00,  3.04it/s, WMAPE=2.45, DICE=0.0612, DPEAKS=29.7, Loss=0.00785]\n"
          ]
        },
        {
          "name": "stdout",
          "output_type": "stream",
          "text": [
            "Epoch [7/50]\n"
          ]
        },
        {
          "name": "stderr",
          "output_type": "stream",
          "text": [
            "Train Epoch 7: 100%|██████████| 77/77 [00:51<00:00,  1.51it/s, WMAPE=2.19, DICE=0.0812, DPEAKS=53.8, Loss=0.00686]\n",
            "Validate Epoch 7: 100%|██████████| 20/20 [00:06<00:00,  3.08it/s, WMAPE=2.26, DICE=0.0704, DPEAKS=42.3, Loss=0.00736]\n"
          ]
        },
        {
          "name": "stdout",
          "output_type": "stream",
          "text": [
            "Epoch [8/50]\n"
          ]
        },
        {
          "name": "stderr",
          "output_type": "stream",
          "text": [
            "Train Epoch 8: 100%|██████████| 77/77 [00:50<00:00,  1.51it/s, WMAPE=1.89, DICE=0.0656, DPEAKS=37.7, Loss=0.00582]\n",
            "Validate Epoch 8: 100%|██████████| 20/20 [00:06<00:00,  3.09it/s, WMAPE=3.01, DICE=0.0649, DPEAKS=35.4, Loss=0.0086]\n"
          ]
        },
        {
          "name": "stdout",
          "output_type": "stream",
          "text": [
            "early stopping: 6 epochs without improvement\n",
            "Training complete.\n"
          ]
        },
        {
          "name": "stderr",
          "output_type": "stream",
          "text": [
            "Validate Epoch test: 100%|██████████| 486/486 [02:29<00:00,  3.25it/s, WMAPE=1.85, DICE=0.0618, DPEAKS=34.2, Loss=0.0057]\n"
          ]
        },
        {
          "name": "stdout",
          "output_type": "stream",
          "text": [
            "Partition 18: training decoder\n",
            "Loaded best model from partition 17\n",
            "Epoch [1/50]\n"
          ]
        },
        {
          "name": "stderr",
          "output_type": "stream",
          "text": [
            "Train Epoch 1: 100%|██████████| 77/77 [00:56<00:00,  1.37it/s, WMAPE=2.03, DICE=0.0627, DPEAKS=35.4, Loss=0.00622]\n",
            "Validate Epoch 1: 100%|██████████| 20/20 [00:07<00:00,  2.59it/s, WMAPE=2.64, DICE=0.0624, DPEAKS=39.9, Loss=0.00736]\n"
          ]
        },
        {
          "name": "stdout",
          "output_type": "stream",
          "text": [
            "Saving best model\n",
            "Epoch [2/50]\n"
          ]
        },
        {
          "name": "stderr",
          "output_type": "stream",
          "text": [
            "Train Epoch 2: 100%|██████████| 77/77 [00:50<00:00,  1.51it/s, WMAPE=1.95, DICE=0.0613, DPEAKS=35, Loss=0.0059]\n",
            "Validate Epoch 2: 100%|██████████| 20/20 [00:06<00:00,  3.09it/s, WMAPE=2.24, DICE=0.0613, DPEAKS=40.9, Loss=0.00664]\n"
          ]
        },
        {
          "name": "stdout",
          "output_type": "stream",
          "text": [
            "Saving best model\n",
            "Epoch [3/50]\n"
          ]
        },
        {
          "name": "stderr",
          "output_type": "stream",
          "text": [
            "Train Epoch 3: 100%|██████████| 77/77 [00:50<00:00,  1.51it/s, WMAPE=1.87, DICE=0.0608, DPEAKS=33.2, Loss=0.00583]\n",
            "Validate Epoch 3: 100%|██████████| 20/20 [00:06<00:00,  3.10it/s, WMAPE=2.11, DICE=0.0615, DPEAKS=42.5, Loss=0.00614]\n"
          ]
        },
        {
          "name": "stdout",
          "output_type": "stream",
          "text": [
            "Saving best model\n",
            "Epoch [4/50]\n"
          ]
        },
        {
          "name": "stderr",
          "output_type": "stream",
          "text": [
            "Train Epoch 4: 100%|██████████| 77/77 [00:51<00:00,  1.50it/s, WMAPE=1.87, DICE=0.0611, DPEAKS=34.9, Loss=0.00576]\n",
            "Validate Epoch 4: 100%|██████████| 20/20 [00:06<00:00,  3.08it/s, WMAPE=2.56, DICE=0.0633, DPEAKS=35, Loss=0.00704]\n"
          ]
        },
        {
          "name": "stdout",
          "output_type": "stream",
          "text": [
            "Epoch [5/50]\n"
          ]
        },
        {
          "name": "stderr",
          "output_type": "stream",
          "text": [
            "Train Epoch 5: 100%|██████████| 77/77 [00:51<00:00,  1.51it/s, WMAPE=1.84, DICE=0.0606, DPEAKS=33.9, Loss=0.00565]\n",
            "Validate Epoch 5: 100%|██████████| 20/20 [00:06<00:00,  3.09it/s, WMAPE=4.76, DICE=0.064, DPEAKS=41.5, Loss=0.0146]\n"
          ]
        },
        {
          "name": "stdout",
          "output_type": "stream",
          "text": [
            "Epoch [6/50]\n"
          ]
        },
        {
          "name": "stderr",
          "output_type": "stream",
          "text": [
            "Train Epoch 6: 100%|██████████| 77/77 [00:51<00:00,  1.51it/s, WMAPE=2.02, DICE=0.0706, DPEAKS=41.9, Loss=0.0063]\n",
            "Validate Epoch 6: 100%|██████████| 20/20 [00:06<00:00,  3.05it/s, WMAPE=3.19, DICE=0.064, DPEAKS=39.2, Loss=0.00975]\n"
          ]
        },
        {
          "name": "stdout",
          "output_type": "stream",
          "text": [
            "Epoch [7/50]\n"
          ]
        },
        {
          "name": "stderr",
          "output_type": "stream",
          "text": [
            "Train Epoch 7: 100%|██████████| 77/77 [00:51<00:00,  1.50it/s, WMAPE=1.81, DICE=0.0615, DPEAKS=34.2, Loss=0.00569]\n",
            "Validate Epoch 7: 100%|██████████| 20/20 [00:06<00:00,  3.08it/s, WMAPE=2.82, DICE=0.0609, DPEAKS=36.8, Loss=0.00873]\n"
          ]
        },
        {
          "name": "stdout",
          "output_type": "stream",
          "text": [
            "Epoch [8/50]\n"
          ]
        },
        {
          "name": "stderr",
          "output_type": "stream",
          "text": [
            "Train Epoch 8: 100%|██████████| 77/77 [00:51<00:00,  1.51it/s, WMAPE=1.75, DICE=0.0608, DPEAKS=33.3, Loss=0.00544]\n",
            "Validate Epoch 8: 100%|██████████| 20/20 [00:06<00:00,  3.10it/s, WMAPE=4.14, DICE=0.0635, DPEAKS=39, Loss=0.0123]\n"
          ]
        },
        {
          "name": "stdout",
          "output_type": "stream",
          "text": [
            "early stopping: 5 epochs without improvement\n",
            "Training complete.\n"
          ]
        },
        {
          "name": "stderr",
          "output_type": "stream",
          "text": [
            "Validate Epoch test: 100%|██████████| 486/486 [02:29<00:00,  3.25it/s, WMAPE=2.03, DICE=0.0619, DPEAKS=39.8, Loss=0.00601]\n"
          ]
        },
        {
          "name": "stdout",
          "output_type": "stream",
          "text": [
            "Partition 19: training decoder\n",
            "Loaded best model from partition 18\n",
            "Epoch [1/50]\n"
          ]
        },
        {
          "name": "stderr",
          "output_type": "stream",
          "text": [
            "Train Epoch 1: 100%|██████████| 77/77 [00:56<00:00,  1.36it/s, WMAPE=1.91, DICE=0.0613, DPEAKS=34.1, Loss=0.00592]\n",
            "Validate Epoch 1: 100%|██████████| 20/20 [00:07<00:00,  2.57it/s, WMAPE=1.96, DICE=0.062, DPEAKS=31.6, Loss=0.00593]\n"
          ]
        },
        {
          "name": "stdout",
          "output_type": "stream",
          "text": [
            "Saving best model\n",
            "Epoch [2/50]\n"
          ]
        },
        {
          "name": "stderr",
          "output_type": "stream",
          "text": [
            "Train Epoch 2: 100%|██████████| 77/77 [00:51<00:00,  1.51it/s, WMAPE=1.82, DICE=0.0605, DPEAKS=31.3, Loss=0.00566]\n",
            "Validate Epoch 2: 100%|██████████| 20/20 [00:06<00:00,  3.09it/s, WMAPE=1.94, DICE=0.0615, DPEAKS=35.3, Loss=0.0059]\n"
          ]
        },
        {
          "name": "stdout",
          "output_type": "stream",
          "text": [
            "Saving best model\n",
            "Epoch [3/50]\n"
          ]
        },
        {
          "name": "stderr",
          "output_type": "stream",
          "text": [
            "Train Epoch 3: 100%|██████████| 77/77 [00:51<00:00,  1.51it/s, WMAPE=1.9, DICE=0.0611, DPEAKS=33.8, Loss=0.00583]\n",
            "Validate Epoch 3: 100%|██████████| 20/20 [00:06<00:00,  3.09it/s, WMAPE=5.44, DICE=0.0652, DPEAKS=38.4, Loss=0.0159]\n"
          ]
        },
        {
          "name": "stdout",
          "output_type": "stream",
          "text": [
            "Epoch [4/50]\n"
          ]
        },
        {
          "name": "stderr",
          "output_type": "stream",
          "text": [
            "Train Epoch 4: 100%|██████████| 77/77 [00:51<00:00,  1.51it/s, WMAPE=1.79, DICE=0.0602, DPEAKS=33.2, Loss=0.00559]\n",
            "Validate Epoch 4: 100%|██████████| 20/20 [00:06<00:00,  3.09it/s, WMAPE=2.38, DICE=0.0641, DPEAKS=33.6, Loss=0.00714]\n"
          ]
        },
        {
          "name": "stdout",
          "output_type": "stream",
          "text": [
            "Epoch [5/50]\n"
          ]
        },
        {
          "name": "stderr",
          "output_type": "stream",
          "text": [
            "Train Epoch 5: 100%|██████████| 77/77 [00:51<00:00,  1.51it/s, WMAPE=1.79, DICE=0.0603, DPEAKS=32.5, Loss=0.00561]\n",
            "Validate Epoch 5: 100%|██████████| 20/20 [00:06<00:00,  3.07it/s, WMAPE=2.57, DICE=0.0615, DPEAKS=30.4, Loss=0.00763]\n"
          ]
        },
        {
          "name": "stdout",
          "output_type": "stream",
          "text": [
            "Epoch [6/50]\n"
          ]
        },
        {
          "name": "stderr",
          "output_type": "stream",
          "text": [
            "Train Epoch 6: 100%|██████████| 77/77 [00:51<00:00,  1.51it/s, WMAPE=1.78, DICE=0.06, DPEAKS=33.8, Loss=0.0055]\n",
            "Validate Epoch 6: 100%|██████████| 20/20 [00:06<00:00,  3.10it/s, WMAPE=6.01, DICE=0.0646, DPEAKS=31.2, Loss=0.0184]\n"
          ]
        },
        {
          "name": "stdout",
          "output_type": "stream",
          "text": [
            "Epoch [7/50]\n"
          ]
        },
        {
          "name": "stderr",
          "output_type": "stream",
          "text": [
            "Train Epoch 7: 100%|██████████| 77/77 [00:51<00:00,  1.51it/s, WMAPE=1.74, DICE=0.0597, DPEAKS=32, Loss=0.00538]\n",
            "Validate Epoch 7: 100%|██████████| 20/20 [00:06<00:00,  3.09it/s, WMAPE=2.85, DICE=0.061, DPEAKS=34.6, Loss=0.00819]\n"
          ]
        },
        {
          "name": "stdout",
          "output_type": "stream",
          "text": [
            "Epoch [8/50]\n"
          ]
        },
        {
          "name": "stderr",
          "output_type": "stream",
          "text": [
            "Train Epoch 8: 100%|██████████| 77/77 [00:51<00:00,  1.51it/s, WMAPE=1.73, DICE=0.0601, DPEAKS=32, Loss=0.00542]\n",
            "Validate Epoch 8: 100%|██████████| 20/20 [00:06<00:00,  3.08it/s, WMAPE=4.17, DICE=0.0621, DPEAKS=38.5, Loss=0.0128]\n"
          ]
        },
        {
          "name": "stdout",
          "output_type": "stream",
          "text": [
            "early stopping: 6 epochs without improvement\n",
            "Training complete.\n"
          ]
        },
        {
          "name": "stderr",
          "output_type": "stream",
          "text": [
            "Validate Epoch test: 100%|██████████| 486/486 [02:29<00:00,  3.25it/s, WMAPE=2.05, DICE=0.0615, DPEAKS=34.4, Loss=0.00612]\n"
          ]
        }
      ],
      "source": [
        "many_partitions_v2(1,20,model,criterion,transform=transform)"
      ]
    },
    {
      "cell_type": "code",
      "execution_count": 13,
      "metadata": {},
      "outputs": [
        {
          "name": "stdout",
          "output_type": "stream",
          "text": [
            "Partition 20: training decoder\n",
            "Loaded best model from partition 19\n",
            "Epoch [1/50]\n"
          ]
        },
        {
          "name": "stderr",
          "output_type": "stream",
          "text": [
            "Train Epoch 1: 100%|██████████| 77/77 [00:56<00:00,  1.37it/s, WMAPE=1.94, DICE=0.062, DPEAKS=36.2, Loss=0.00605]\n",
            "Validate Epoch 1: 100%|██████████| 20/20 [00:07<00:00,  2.59it/s, WMAPE=2, DICE=0.0674, DPEAKS=47.2, Loss=0.00611]\n"
          ]
        },
        {
          "name": "stdout",
          "output_type": "stream",
          "text": [
            "Saving best model\n",
            "Epoch [2/50]\n"
          ]
        },
        {
          "name": "stderr",
          "output_type": "stream",
          "text": [
            "Train Epoch 2: 100%|██████████| 77/77 [00:50<00:00,  1.51it/s, WMAPE=1.9, DICE=0.0629, DPEAKS=35.9, Loss=0.006]\n",
            "Validate Epoch 2: 100%|██████████| 20/20 [00:06<00:00,  3.07it/s, WMAPE=3.82, DICE=0.0614, DPEAKS=36.8, Loss=0.0108]\n"
          ]
        },
        {
          "name": "stdout",
          "output_type": "stream",
          "text": [
            "Epoch [3/50]\n"
          ]
        },
        {
          "name": "stderr",
          "output_type": "stream",
          "text": [
            "Train Epoch 3: 100%|██████████| 77/77 [00:51<00:00,  1.51it/s, WMAPE=1.84, DICE=0.0602, DPEAKS=34.6, Loss=0.00576]\n",
            "Validate Epoch 3: 100%|██████████| 20/20 [00:06<00:00,  3.08it/s, WMAPE=2.19, DICE=0.0606, DPEAKS=34.7, Loss=0.00646]\n"
          ]
        },
        {
          "name": "stdout",
          "output_type": "stream",
          "text": [
            "Epoch [4/50]\n"
          ]
        },
        {
          "name": "stderr",
          "output_type": "stream",
          "text": [
            "Train Epoch 4: 100%|██████████| 77/77 [00:50<00:00,  1.51it/s, WMAPE=1.79, DICE=0.0597, DPEAKS=32.8, Loss=0.00554]\n",
            "Validate Epoch 4: 100%|██████████| 20/20 [00:06<00:00,  3.07it/s, WMAPE=2.81, DICE=0.0612, DPEAKS=33.8, Loss=0.00856]\n"
          ]
        },
        {
          "name": "stdout",
          "output_type": "stream",
          "text": [
            "Epoch [5/50]\n"
          ]
        },
        {
          "name": "stderr",
          "output_type": "stream",
          "text": [
            "Train Epoch 5: 100%|██████████| 77/77 [00:50<00:00,  1.51it/s, WMAPE=1.8, DICE=0.0595, DPEAKS=32.2, Loss=0.00561]\n",
            "Validate Epoch 5: 100%|██████████| 20/20 [00:06<00:00,  3.06it/s, WMAPE=1.94, DICE=0.0614, DPEAKS=35.5, Loss=0.00576]\n"
          ]
        },
        {
          "name": "stdout",
          "output_type": "stream",
          "text": [
            "Saving best model\n",
            "Epoch [6/50]\n"
          ]
        },
        {
          "name": "stderr",
          "output_type": "stream",
          "text": [
            "Train Epoch 6: 100%|██████████| 77/77 [00:51<00:00,  1.50it/s, WMAPE=1.88, DICE=0.0636, DPEAKS=38.1, Loss=0.00582]\n",
            "Validate Epoch 6: 100%|██████████| 20/20 [00:06<00:00,  3.11it/s, WMAPE=2.01, DICE=0.0639, DPEAKS=38, Loss=0.00619]\n"
          ]
        },
        {
          "name": "stdout",
          "output_type": "stream",
          "text": [
            "Epoch [7/50]\n"
          ]
        },
        {
          "name": "stderr",
          "output_type": "stream",
          "text": [
            "Train Epoch 7: 100%|██████████| 77/77 [00:51<00:00,  1.51it/s, WMAPE=1.79, DICE=0.0606, DPEAKS=35.6, Loss=0.00556]\n",
            "Validate Epoch 7: 100%|██████████| 20/20 [00:06<00:00,  3.07it/s, WMAPE=4, DICE=0.0656, DPEAKS=49.6, Loss=0.0112]\n"
          ]
        },
        {
          "name": "stdout",
          "output_type": "stream",
          "text": [
            "Epoch [8/50]\n"
          ]
        },
        {
          "name": "stderr",
          "output_type": "stream",
          "text": [
            "Train Epoch 8: 100%|██████████| 77/77 [00:50<00:00,  1.51it/s, WMAPE=1.78, DICE=0.0611, DPEAKS=38.1, Loss=0.00561]\n",
            "Validate Epoch 8: 100%|██████████| 20/20 [00:06<00:00,  3.03it/s, WMAPE=2.29, DICE=0.0618, DPEAKS=39.3, Loss=0.00688]\n"
          ]
        },
        {
          "name": "stdout",
          "output_type": "stream",
          "text": [
            "Epoch [9/50]\n"
          ]
        },
        {
          "name": "stderr",
          "output_type": "stream",
          "text": [
            "Train Epoch 9: 100%|██████████| 77/77 [00:50<00:00,  1.51it/s, WMAPE=1.75, DICE=0.0601, DPEAKS=34.8, Loss=0.00549]\n",
            "Validate Epoch 9: 100%|██████████| 20/20 [00:06<00:00,  3.09it/s, WMAPE=3.61, DICE=0.0626, DPEAKS=37.3, Loss=0.0101]\n"
          ]
        },
        {
          "name": "stdout",
          "output_type": "stream",
          "text": [
            "Epoch [10/50]\n"
          ]
        },
        {
          "name": "stderr",
          "output_type": "stream",
          "text": [
            "Train Epoch 10: 100%|██████████| 77/77 [00:50<00:00,  1.51it/s, WMAPE=1.73, DICE=0.0597, DPEAKS=33.2, Loss=0.00537]\n",
            "Validate Epoch 10: 100%|██████████| 20/20 [00:06<00:00,  3.10it/s, WMAPE=3.34, DICE=0.0598, DPEAKS=34.3, Loss=0.00961]\n"
          ]
        },
        {
          "name": "stdout",
          "output_type": "stream",
          "text": [
            "early stopping: 5 epochs without improvement\n",
            "Training complete.\n"
          ]
        },
        {
          "name": "stderr",
          "output_type": "stream",
          "text": [
            "Validate Epoch test: 100%|██████████| 486/486 [02:29<00:00,  3.26it/s, WMAPE=1.88, DICE=0.0613, DPEAKS=35, Loss=0.00568]\n"
          ]
        },
        {
          "name": "stdout",
          "output_type": "stream",
          "text": [
            "Partition 21: training full\n",
            "Loaded best model from partition 20\n",
            "Epoch [1/50]\n"
          ]
        },
        {
          "name": "stderr",
          "output_type": "stream",
          "text": [
            "Train Epoch 1: 100%|██████████| 77/77 [00:58<00:00,  1.32it/s, WMAPE=2, DICE=0.0645, DPEAKS=40.1, Loss=0.00619]\n",
            "Validate Epoch 1: 100%|██████████| 20/20 [00:07<00:00,  2.58it/s, WMAPE=2.11, DICE=0.0627, DPEAKS=36.3, Loss=0.00611]\n"
          ]
        },
        {
          "name": "stdout",
          "output_type": "stream",
          "text": [
            "Saving best model\n",
            "Epoch [2/50]\n"
          ]
        },
        {
          "name": "stderr",
          "output_type": "stream",
          "text": [
            "Train Epoch 2: 100%|██████████| 77/77 [00:53<00:00,  1.44it/s, WMAPE=1.84, DICE=0.061, DPEAKS=37.9, Loss=0.00572]\n",
            "Validate Epoch 2: 100%|██████████| 20/20 [00:06<00:00,  3.09it/s, WMAPE=6.51, DICE=0.0673, DPEAKS=39.3, Loss=0.0179]\n"
          ]
        },
        {
          "name": "stdout",
          "output_type": "stream",
          "text": [
            "Epoch [3/50]\n"
          ]
        },
        {
          "name": "stderr",
          "output_type": "stream",
          "text": [
            "Train Epoch 3: 100%|██████████| 77/77 [00:53<00:00,  1.44it/s, WMAPE=1.83, DICE=0.0629, DPEAKS=39.4, Loss=0.00571]\n",
            "Validate Epoch 3: 100%|██████████| 20/20 [00:06<00:00,  3.07it/s, WMAPE=2.63, DICE=0.0774, DPEAKS=58.9, Loss=0.00776]\n"
          ]
        },
        {
          "name": "stdout",
          "output_type": "stream",
          "text": [
            "Epoch [4/50]\n"
          ]
        },
        {
          "name": "stderr",
          "output_type": "stream",
          "text": [
            "Train Epoch 4: 100%|██████████| 77/77 [00:53<00:00,  1.44it/s, WMAPE=1.74, DICE=0.0616, DPEAKS=38, Loss=0.00547]\n",
            "Validate Epoch 4: 100%|██████████| 20/20 [00:06<00:00,  3.04it/s, WMAPE=2.99, DICE=0.0629, DPEAKS=45.2, Loss=0.00913]\n"
          ]
        },
        {
          "name": "stdout",
          "output_type": "stream",
          "text": [
            "Epoch [5/50]\n"
          ]
        },
        {
          "name": "stderr",
          "output_type": "stream",
          "text": [
            "Train Epoch 5: 100%|██████████| 77/77 [00:53<00:00,  1.44it/s, WMAPE=1.65, DICE=0.0591, DPEAKS=36.5, Loss=0.00524]\n",
            "Validate Epoch 5: 100%|██████████| 20/20 [00:06<00:00,  3.09it/s, WMAPE=7.56, DICE=0.0656, DPEAKS=40, Loss=0.0205]\n"
          ]
        },
        {
          "name": "stdout",
          "output_type": "stream",
          "text": [
            "Epoch [6/50]\n"
          ]
        },
        {
          "name": "stderr",
          "output_type": "stream",
          "text": [
            "Train Epoch 6: 100%|██████████| 77/77 [00:53<00:00,  1.44it/s, WMAPE=1.56, DICE=0.0594, DPEAKS=36.7, Loss=0.00493]\n",
            "Validate Epoch 6: 100%|██████████| 20/20 [00:06<00:00,  3.05it/s, WMAPE=6.26, DICE=0.0738, DPEAKS=47.3, Loss=0.0168]\n"
          ]
        },
        {
          "name": "stdout",
          "output_type": "stream",
          "text": [
            "Epoch [7/50]\n"
          ]
        },
        {
          "name": "stderr",
          "output_type": "stream",
          "text": [
            "Train Epoch 7: 100%|██████████| 77/77 [00:53<00:00,  1.44it/s, WMAPE=1.59, DICE=0.0594, DPEAKS=36.7, Loss=0.00496]\n",
            "Validate Epoch 7: 100%|██████████| 20/20 [00:06<00:00,  3.09it/s, WMAPE=2.55, DICE=0.0584, DPEAKS=38, Loss=0.00724]\n"
          ]
        },
        {
          "name": "stdout",
          "output_type": "stream",
          "text": [
            "Epoch [8/50]\n"
          ]
        },
        {
          "name": "stderr",
          "output_type": "stream",
          "text": [
            "Train Epoch 8: 100%|██████████| 77/77 [00:53<00:00,  1.45it/s, WMAPE=1.48, DICE=0.0577, DPEAKS=33.8, Loss=0.00465]\n",
            "Validate Epoch 8: 100%|██████████| 20/20 [00:06<00:00,  3.09it/s, WMAPE=8.96, DICE=0.0721, DPEAKS=50, Loss=0.0259]\n"
          ]
        },
        {
          "name": "stdout",
          "output_type": "stream",
          "text": [
            "early stopping: 7 epochs without improvement\n",
            "Training complete.\n"
          ]
        },
        {
          "name": "stderr",
          "output_type": "stream",
          "text": [
            "Validate Epoch test: 100%|██████████| 486/486 [02:29<00:00,  3.25it/s, WMAPE=2.11, DICE=0.063, DPEAKS=37.3, Loss=0.00618]\n"
          ]
        },
        {
          "name": "stdout",
          "output_type": "stream",
          "text": [
            "Partition 22: training decoder\n",
            "Loaded best model from partition 21\n",
            "Epoch [1/50]\n"
          ]
        },
        {
          "name": "stderr",
          "output_type": "stream",
          "text": [
            "Train Epoch 1: 100%|██████████| 77/77 [00:56<00:00,  1.37it/s, WMAPE=1.94, DICE=0.0601, DPEAKS=33.7, Loss=0.00585]\n",
            "Validate Epoch 1: 100%|██████████| 20/20 [00:07<00:00,  2.59it/s, WMAPE=4.26, DICE=0.0612, DPEAKS=32.2, Loss=0.0123]\n"
          ]
        },
        {
          "name": "stdout",
          "output_type": "stream",
          "text": [
            "Saving best model\n",
            "Epoch [2/50]\n"
          ]
        },
        {
          "name": "stderr",
          "output_type": "stream",
          "text": [
            "Train Epoch 2: 100%|██████████| 77/77 [00:50<00:00,  1.51it/s, WMAPE=1.86, DICE=0.0592, DPEAKS=31.6, Loss=0.00573]\n",
            "Validate Epoch 2: 100%|██████████| 20/20 [00:06<00:00,  3.11it/s, WMAPE=2.42, DICE=0.0587, DPEAKS=32.1, Loss=0.0073]\n"
          ]
        },
        {
          "name": "stdout",
          "output_type": "stream",
          "text": [
            "Saving best model\n",
            "Epoch [3/50]\n"
          ]
        },
        {
          "name": "stderr",
          "output_type": "stream",
          "text": [
            "Train Epoch 3: 100%|██████████| 77/77 [00:51<00:00,  1.51it/s, WMAPE=1.87, DICE=0.0587, DPEAKS=30.7, Loss=0.00567]\n",
            "Validate Epoch 3: 100%|██████████| 20/20 [00:06<00:00,  3.07it/s, WMAPE=2.02, DICE=0.0591, DPEAKS=31.3, Loss=0.00612]\n"
          ]
        },
        {
          "name": "stdout",
          "output_type": "stream",
          "text": [
            "Saving best model\n",
            "Epoch [4/50]\n"
          ]
        },
        {
          "name": "stderr",
          "output_type": "stream",
          "text": [
            "Train Epoch 4: 100%|██████████| 77/77 [00:51<00:00,  1.51it/s, WMAPE=1.82, DICE=0.0591, DPEAKS=31.4, Loss=0.00555]\n",
            "Validate Epoch 4: 100%|██████████| 20/20 [00:06<00:00,  3.07it/s, WMAPE=2.75, DICE=0.0635, DPEAKS=34.4, Loss=0.00806]\n"
          ]
        },
        {
          "name": "stdout",
          "output_type": "stream",
          "text": [
            "Epoch [5/50]\n"
          ]
        },
        {
          "name": "stderr",
          "output_type": "stream",
          "text": [
            "Train Epoch 5: 100%|██████████| 77/77 [00:51<00:00,  1.51it/s, WMAPE=1.77, DICE=0.0588, DPEAKS=31.7, Loss=0.00542]\n",
            "Validate Epoch 5: 100%|██████████| 20/20 [00:06<00:00,  3.08it/s, WMAPE=1.9, DICE=0.0624, DPEAKS=35.1, Loss=0.00572]\n"
          ]
        },
        {
          "name": "stdout",
          "output_type": "stream",
          "text": [
            "Saving best model\n",
            "Epoch [6/50]\n"
          ]
        },
        {
          "name": "stderr",
          "output_type": "stream",
          "text": [
            "Train Epoch 6: 100%|██████████| 77/77 [00:51<00:00,  1.51it/s, WMAPE=1.8, DICE=0.0592, DPEAKS=31.9, Loss=0.00551]\n",
            "Validate Epoch 6: 100%|██████████| 20/20 [00:06<00:00,  3.09it/s, WMAPE=3.16, DICE=0.061, DPEAKS=31.9, Loss=0.00897]\n"
          ]
        },
        {
          "name": "stdout",
          "output_type": "stream",
          "text": [
            "Epoch [7/50]\n"
          ]
        },
        {
          "name": "stderr",
          "output_type": "stream",
          "text": [
            "Train Epoch 7: 100%|██████████| 77/77 [00:51<00:00,  1.51it/s, WMAPE=1.7, DICE=0.0586, DPEAKS=32.1, Loss=0.00527]\n",
            "Validate Epoch 7: 100%|██████████| 20/20 [00:06<00:00,  3.10it/s, WMAPE=2.32, DICE=0.0602, DPEAKS=35.7, Loss=0.00673]\n"
          ]
        },
        {
          "name": "stdout",
          "output_type": "stream",
          "text": [
            "Epoch [8/50]\n"
          ]
        },
        {
          "name": "stderr",
          "output_type": "stream",
          "text": [
            "Train Epoch 8: 100%|██████████| 77/77 [00:50<00:00,  1.51it/s, WMAPE=1.72, DICE=0.0587, DPEAKS=31.1, Loss=0.00522]\n",
            "Validate Epoch 8: 100%|██████████| 20/20 [00:06<00:00,  3.05it/s, WMAPE=2.66, DICE=0.0627, DPEAKS=35.8, Loss=0.00789]\n"
          ]
        },
        {
          "name": "stdout",
          "output_type": "stream",
          "text": [
            "Epoch [9/50]\n"
          ]
        },
        {
          "name": "stderr",
          "output_type": "stream",
          "text": [
            "Train Epoch 9: 100%|██████████| 77/77 [00:51<00:00,  1.51it/s, WMAPE=1.67, DICE=0.0585, DPEAKS=32.3, Loss=0.00513]\n",
            "Validate Epoch 9: 100%|██████████| 20/20 [00:06<00:00,  3.09it/s, WMAPE=1.91, DICE=0.0604, DPEAKS=32.6, Loss=0.00586]\n"
          ]
        },
        {
          "name": "stdout",
          "output_type": "stream",
          "text": [
            "Epoch [10/50]\n"
          ]
        },
        {
          "name": "stderr",
          "output_type": "stream",
          "text": [
            "Train Epoch 10: 100%|██████████| 77/77 [00:50<00:00,  1.51it/s, WMAPE=1.71, DICE=0.0589, DPEAKS=32.6, Loss=0.00524]\n",
            "Validate Epoch 10: 100%|██████████| 20/20 [00:06<00:00,  3.09it/s, WMAPE=2.03, DICE=0.0594, DPEAKS=33.2, Loss=0.00611]\n"
          ]
        },
        {
          "name": "stdout",
          "output_type": "stream",
          "text": [
            "early stopping: 5 epochs without improvement\n",
            "Training complete.\n"
          ]
        },
        {
          "name": "stderr",
          "output_type": "stream",
          "text": [
            "Validate Epoch test: 100%|██████████| 486/486 [02:29<00:00,  3.25it/s, WMAPE=1.87, DICE=0.0623, DPEAKS=35.1, Loss=0.00564]\n"
          ]
        },
        {
          "name": "stdout",
          "output_type": "stream",
          "text": [
            "Partition 23: training decoder\n",
            "Loaded best model from partition 22\n",
            "Epoch [1/50]\n"
          ]
        },
        {
          "name": "stderr",
          "output_type": "stream",
          "text": [
            "Train Epoch 1: 100%|██████████| 77/77 [00:56<00:00,  1.37it/s, WMAPE=1.92, DICE=0.0598, DPEAKS=34.9, Loss=0.0059]\n",
            "Validate Epoch 1: 100%|██████████| 20/20 [00:07<00:00,  2.59it/s, WMAPE=1.83, DICE=0.0593, DPEAKS=33.9, Loss=0.0055]\n"
          ]
        },
        {
          "name": "stdout",
          "output_type": "stream",
          "text": [
            "Saving best model\n",
            "Epoch [2/50]\n"
          ]
        },
        {
          "name": "stderr",
          "output_type": "stream",
          "text": [
            "Train Epoch 2: 100%|██████████| 77/77 [00:50<00:00,  1.51it/s, WMAPE=1.82, DICE=0.0587, DPEAKS=33.5, Loss=0.00566]\n",
            "Validate Epoch 2: 100%|██████████| 20/20 [00:06<00:00,  3.08it/s, WMAPE=2.12, DICE=0.0589, DPEAKS=33.1, Loss=0.00613]\n"
          ]
        },
        {
          "name": "stdout",
          "output_type": "stream",
          "text": [
            "Epoch [3/50]\n"
          ]
        },
        {
          "name": "stderr",
          "output_type": "stream",
          "text": [
            "Train Epoch 3: 100%|██████████| 77/77 [00:51<00:00,  1.51it/s, WMAPE=1.8, DICE=0.0583, DPEAKS=32.5, Loss=0.00559]\n",
            "Validate Epoch 3: 100%|██████████| 20/20 [00:06<00:00,  3.08it/s, WMAPE=2.74, DICE=0.0597, DPEAKS=35.1, Loss=0.00847]\n"
          ]
        },
        {
          "name": "stdout",
          "output_type": "stream",
          "text": [
            "Epoch [4/50]\n"
          ]
        },
        {
          "name": "stderr",
          "output_type": "stream",
          "text": [
            "Train Epoch 4: 100%|██████████| 77/77 [00:51<00:00,  1.51it/s, WMAPE=1.78, DICE=0.0582, DPEAKS=32.4, Loss=0.00549]\n",
            "Validate Epoch 4: 100%|██████████| 20/20 [00:06<00:00,  3.09it/s, WMAPE=3.87, DICE=0.0605, DPEAKS=34.6, Loss=0.0106]\n"
          ]
        },
        {
          "name": "stdout",
          "output_type": "stream",
          "text": [
            "Epoch [5/50]\n"
          ]
        },
        {
          "name": "stderr",
          "output_type": "stream",
          "text": [
            "Train Epoch 5: 100%|██████████| 77/77 [00:51<00:00,  1.51it/s, WMAPE=1.83, DICE=0.0587, DPEAKS=33.1, Loss=0.00565]\n",
            "Validate Epoch 5: 100%|██████████| 20/20 [00:06<00:00,  3.07it/s, WMAPE=4.52, DICE=0.0626, DPEAKS=38.6, Loss=0.0121]\n"
          ]
        },
        {
          "name": "stdout",
          "output_type": "stream",
          "text": [
            "Epoch [6/50]\n"
          ]
        },
        {
          "name": "stderr",
          "output_type": "stream",
          "text": [
            "Train Epoch 6: 100%|██████████| 77/77 [00:51<00:00,  1.50it/s, WMAPE=1.75, DICE=0.0588, DPEAKS=32.4, Loss=0.00541]\n",
            "Validate Epoch 6: 100%|██████████| 20/20 [00:06<00:00,  3.11it/s, WMAPE=2.01, DICE=0.0603, DPEAKS=33.1, Loss=0.00586]\n"
          ]
        },
        {
          "name": "stdout",
          "output_type": "stream",
          "text": [
            "Epoch [7/50]\n"
          ]
        },
        {
          "name": "stderr",
          "output_type": "stream",
          "text": [
            "Train Epoch 7: 100%|██████████| 77/77 [00:51<00:00,  1.50it/s, WMAPE=1.87, DICE=0.0602, DPEAKS=35.8, Loss=0.00578]\n",
            "Validate Epoch 7: 100%|██████████| 20/20 [00:06<00:00,  3.07it/s, WMAPE=6.68, DICE=0.0618, DPEAKS=37.4, Loss=0.0178]\n"
          ]
        },
        {
          "name": "stdout",
          "output_type": "stream",
          "text": [
            "Epoch [8/50]\n"
          ]
        },
        {
          "name": "stderr",
          "output_type": "stream",
          "text": [
            "Train Epoch 8: 100%|██████████| 77/77 [00:50<00:00,  1.51it/s, WMAPE=1.75, DICE=0.0596, DPEAKS=33.9, Loss=0.00543]\n",
            "Validate Epoch 8: 100%|██████████| 20/20 [00:06<00:00,  3.07it/s, WMAPE=2.24, DICE=0.0592, DPEAKS=33.3, Loss=0.00621]\n"
          ]
        },
        {
          "name": "stdout",
          "output_type": "stream",
          "text": [
            "early stopping: 7 epochs without improvement\n",
            "Training complete.\n"
          ]
        },
        {
          "name": "stderr",
          "output_type": "stream",
          "text": [
            "Validate Epoch test: 100%|██████████| 486/486 [02:29<00:00,  3.25it/s, WMAPE=1.81, DICE=0.0592, DPEAKS=33, Loss=0.00554]\n"
          ]
        },
        {
          "name": "stdout",
          "output_type": "stream",
          "text": [
            "Partition 24: training decoder\n",
            "Loaded best model from partition 23\n",
            "Epoch [1/50]\n"
          ]
        },
        {
          "name": "stderr",
          "output_type": "stream",
          "text": [
            "Train Epoch 1: 100%|██████████| 77/77 [00:56<00:00,  1.36it/s, WMAPE=1.92, DICE=0.0595, DPEAKS=33.9, Loss=0.00592]\n",
            "Validate Epoch 1: 100%|██████████| 20/20 [00:07<00:00,  2.51it/s, WMAPE=2.77, DICE=0.0603, DPEAKS=32.2, Loss=0.00799]\n"
          ]
        },
        {
          "name": "stdout",
          "output_type": "stream",
          "text": [
            "Saving best model\n",
            "Epoch [2/50]\n"
          ]
        },
        {
          "name": "stderr",
          "output_type": "stream",
          "text": [
            "Train Epoch 2: 100%|██████████| 77/77 [00:51<00:00,  1.51it/s, WMAPE=1.95, DICE=0.065, DPEAKS=38.3, Loss=0.00602]\n",
            "Validate Epoch 2: 100%|██████████| 20/20 [00:06<00:00,  3.08it/s, WMAPE=6.42, DICE=0.0761, DPEAKS=49.9, Loss=0.0175]\n"
          ]
        },
        {
          "name": "stdout",
          "output_type": "stream",
          "text": [
            "Epoch [3/50]\n"
          ]
        },
        {
          "name": "stderr",
          "output_type": "stream",
          "text": [
            "Train Epoch 3: 100%|██████████| 77/77 [00:50<00:00,  1.51it/s, WMAPE=1.88, DICE=0.0603, DPEAKS=33.9, Loss=0.00579]\n",
            "Validate Epoch 3: 100%|██████████| 20/20 [00:06<00:00,  3.03it/s, WMAPE=2.02, DICE=0.0609, DPEAKS=36.3, Loss=0.00644]\n"
          ]
        },
        {
          "name": "stdout",
          "output_type": "stream",
          "text": [
            "Saving best model\n",
            "Epoch [4/50]\n"
          ]
        },
        {
          "name": "stderr",
          "output_type": "stream",
          "text": [
            "Train Epoch 4: 100%|██████████| 77/77 [00:51<00:00,  1.51it/s, WMAPE=1.8, DICE=0.0583, DPEAKS=31.5, Loss=0.00555]\n",
            "Validate Epoch 4: 100%|██████████| 20/20 [00:06<00:00,  3.09it/s, WMAPE=2.13, DICE=0.0586, DPEAKS=31.4, Loss=0.00616]\n"
          ]
        },
        {
          "name": "stdout",
          "output_type": "stream",
          "text": [
            "Saving best model\n",
            "Epoch [5/50]\n"
          ]
        },
        {
          "name": "stderr",
          "output_type": "stream",
          "text": [
            "Train Epoch 5: 100%|██████████| 77/77 [00:51<00:00,  1.51it/s, WMAPE=1.84, DICE=0.0588, DPEAKS=33, Loss=0.00565]\n",
            "Validate Epoch 5: 100%|██████████| 20/20 [00:06<00:00,  3.07it/s, WMAPE=1.85, DICE=0.062, DPEAKS=38.7, Loss=0.00581]\n"
          ]
        },
        {
          "name": "stdout",
          "output_type": "stream",
          "text": [
            "Saving best model\n",
            "Epoch [6/50]\n"
          ]
        },
        {
          "name": "stderr",
          "output_type": "stream",
          "text": [
            "Train Epoch 6: 100%|██████████| 77/77 [00:51<00:00,  1.51it/s, WMAPE=1.78, DICE=0.0584, DPEAKS=33, Loss=0.00548]\n",
            "Validate Epoch 6: 100%|██████████| 20/20 [00:06<00:00,  3.10it/s, WMAPE=1.85, DICE=0.0588, DPEAKS=35.4, Loss=0.00572]\n"
          ]
        },
        {
          "name": "stdout",
          "output_type": "stream",
          "text": [
            "Saving best model\n",
            "Epoch [7/50]\n"
          ]
        },
        {
          "name": "stderr",
          "output_type": "stream",
          "text": [
            "Train Epoch 7: 100%|██████████| 77/77 [00:50<00:00,  1.51it/s, WMAPE=1.74, DICE=0.0581, DPEAKS=32.2, Loss=0.00537]\n",
            "Validate Epoch 7: 100%|██████████| 20/20 [00:06<00:00,  3.05it/s, WMAPE=2.57, DICE=0.059, DPEAKS=36.4, Loss=0.00713]\n"
          ]
        },
        {
          "name": "stdout",
          "output_type": "stream",
          "text": [
            "Epoch [8/50]\n"
          ]
        },
        {
          "name": "stderr",
          "output_type": "stream",
          "text": [
            "Train Epoch 8: 100%|██████████| 77/77 [00:51<00:00,  1.50it/s, WMAPE=1.72, DICE=0.0582, DPEAKS=32.2, Loss=0.00534]\n",
            "Validate Epoch 8: 100%|██████████| 20/20 [00:06<00:00,  3.10it/s, WMAPE=4.02, DICE=0.061, DPEAKS=32.6, Loss=0.0111]\n"
          ]
        },
        {
          "name": "stdout",
          "output_type": "stream",
          "text": [
            "Epoch [9/50]\n"
          ]
        },
        {
          "name": "stderr",
          "output_type": "stream",
          "text": [
            "Train Epoch 9: 100%|██████████| 77/77 [00:51<00:00,  1.51it/s, WMAPE=1.72, DICE=0.0585, DPEAKS=31.1, Loss=0.0053]\n",
            "Validate Epoch 9: 100%|██████████| 20/20 [00:06<00:00,  3.07it/s, WMAPE=2.36, DICE=0.0587, DPEAKS=34.7, Loss=0.00699]\n"
          ]
        },
        {
          "name": "stdout",
          "output_type": "stream",
          "text": [
            "Epoch [10/50]\n"
          ]
        },
        {
          "name": "stderr",
          "output_type": "stream",
          "text": [
            "Train Epoch 10: 100%|██████████| 77/77 [00:50<00:00,  1.51it/s, WMAPE=1.69, DICE=0.0582, DPEAKS=31.5, Loss=0.0052]\n",
            "Validate Epoch 10: 100%|██████████| 20/20 [00:06<00:00,  3.08it/s, WMAPE=4.29, DICE=0.0594, DPEAKS=38.4, Loss=0.0127]\n"
          ]
        },
        {
          "name": "stdout",
          "output_type": "stream",
          "text": [
            "Epoch [11/50]\n"
          ]
        },
        {
          "name": "stderr",
          "output_type": "stream",
          "text": [
            "Train Epoch 11: 100%|██████████| 77/77 [00:51<00:00,  1.50it/s, WMAPE=1.68, DICE=0.0577, DPEAKS=31.5, Loss=0.00513]\n",
            "Validate Epoch 11: 100%|██████████| 20/20 [00:06<00:00,  3.08it/s, WMAPE=2.32, DICE=0.0589, DPEAKS=31.7, Loss=0.00665]\n"
          ]
        },
        {
          "name": "stdout",
          "output_type": "stream",
          "text": [
            "early stopping: 5 epochs without improvement\n",
            "Training complete.\n"
          ]
        },
        {
          "name": "stderr",
          "output_type": "stream",
          "text": [
            "Validate Epoch test: 100%|██████████| 486/486 [02:29<00:00,  3.25it/s, WMAPE=1.9, DICE=0.0587, DPEAKS=33.1, Loss=0.00578]\n"
          ]
        },
        {
          "name": "stdout",
          "output_type": "stream",
          "text": [
            "Partition 25: training decoder\n",
            "Loaded best model from partition 24\n",
            "Epoch [1/50]\n"
          ]
        },
        {
          "name": "stderr",
          "output_type": "stream",
          "text": [
            "Train Epoch 1: 100%|██████████| 77/77 [00:56<00:00,  1.36it/s, WMAPE=1.93, DICE=0.0599, DPEAKS=32.5, Loss=0.00588]\n",
            "Validate Epoch 1: 100%|██████████| 20/20 [00:07<00:00,  2.55it/s, WMAPE=1.83, DICE=0.0583, DPEAKS=35.8, Loss=0.00561]\n"
          ]
        },
        {
          "name": "stdout",
          "output_type": "stream",
          "text": [
            "Saving best model\n",
            "Epoch [2/50]\n"
          ]
        },
        {
          "name": "stderr",
          "output_type": "stream",
          "text": [
            "Train Epoch 2: 100%|██████████| 77/77 [00:51<00:00,  1.50it/s, WMAPE=1.84, DICE=0.0582, DPEAKS=30.9, Loss=0.00557]\n",
            "Validate Epoch 2: 100%|██████████| 20/20 [00:06<00:00,  3.09it/s, WMAPE=2.34, DICE=0.0605, DPEAKS=35.2, Loss=0.00664]\n"
          ]
        },
        {
          "name": "stdout",
          "output_type": "stream",
          "text": [
            "Epoch [3/50]\n"
          ]
        },
        {
          "name": "stderr",
          "output_type": "stream",
          "text": [
            "Train Epoch 3: 100%|██████████| 77/77 [00:51<00:00,  1.51it/s, WMAPE=1.84, DICE=0.0585, DPEAKS=31.4, Loss=0.00559]\n",
            "Validate Epoch 3: 100%|██████████| 20/20 [00:06<00:00,  3.09it/s, WMAPE=2.04, DICE=0.0597, DPEAKS=39, Loss=0.00654]\n"
          ]
        },
        {
          "name": "stdout",
          "output_type": "stream",
          "text": [
            "Epoch [4/50]\n"
          ]
        },
        {
          "name": "stderr",
          "output_type": "stream",
          "text": [
            "Train Epoch 4: 100%|██████████| 77/77 [00:51<00:00,  1.51it/s, WMAPE=1.76, DICE=0.0582, DPEAKS=31.2, Loss=0.00538]\n",
            "Validate Epoch 4: 100%|██████████| 20/20 [00:06<00:00,  3.10it/s, WMAPE=1.87, DICE=0.0607, DPEAKS=38.2, Loss=0.00558]\n"
          ]
        },
        {
          "name": "stdout",
          "output_type": "stream",
          "text": [
            "Saving best model\n",
            "Epoch [5/50]\n"
          ]
        },
        {
          "name": "stderr",
          "output_type": "stream",
          "text": [
            "Train Epoch 5: 100%|██████████| 77/77 [00:51<00:00,  1.51it/s, WMAPE=1.74, DICE=0.0584, DPEAKS=32.1, Loss=0.00533]\n",
            "Validate Epoch 5: 100%|██████████| 20/20 [00:06<00:00,  3.11it/s, WMAPE=1.95, DICE=0.0588, DPEAKS=37.2, Loss=0.00606]\n"
          ]
        },
        {
          "name": "stdout",
          "output_type": "stream",
          "text": [
            "Epoch [6/50]\n"
          ]
        },
        {
          "name": "stderr",
          "output_type": "stream",
          "text": [
            "Train Epoch 6: 100%|██████████| 77/77 [00:51<00:00,  1.51it/s, WMAPE=1.74, DICE=0.0583, DPEAKS=31.4, Loss=0.00528]\n",
            "Validate Epoch 6: 100%|██████████| 20/20 [00:06<00:00,  3.07it/s, WMAPE=1.91, DICE=0.0619, DPEAKS=41.3, Loss=0.00586]\n"
          ]
        },
        {
          "name": "stdout",
          "output_type": "stream",
          "text": [
            "Epoch [7/50]\n"
          ]
        },
        {
          "name": "stderr",
          "output_type": "stream",
          "text": [
            "Train Epoch 7: 100%|██████████| 77/77 [00:51<00:00,  1.50it/s, WMAPE=1.78, DICE=0.0593, DPEAKS=33.5, Loss=0.00544]\n",
            "Validate Epoch 7: 100%|██████████| 20/20 [00:06<00:00,  3.09it/s, WMAPE=6.24, DICE=0.0613, DPEAKS=40.1, Loss=0.0174]\n"
          ]
        },
        {
          "name": "stdout",
          "output_type": "stream",
          "text": [
            "Epoch [8/50]\n"
          ]
        },
        {
          "name": "stderr",
          "output_type": "stream",
          "text": [
            "Train Epoch 8: 100%|██████████| 77/77 [00:50<00:00,  1.51it/s, WMAPE=1.69, DICE=0.0582, DPEAKS=31.2, Loss=0.00518]\n",
            "Validate Epoch 8: 100%|██████████| 20/20 [00:06<00:00,  3.08it/s, WMAPE=2.37, DICE=0.06, DPEAKS=40.2, Loss=0.00674]\n"
          ]
        },
        {
          "name": "stdout",
          "output_type": "stream",
          "text": [
            "Epoch [9/50]\n"
          ]
        },
        {
          "name": "stderr",
          "output_type": "stream",
          "text": [
            "Train Epoch 9: 100%|██████████| 77/77 [00:51<00:00,  1.51it/s, WMAPE=1.61, DICE=0.0579, DPEAKS=31.7, Loss=0.005]\n",
            "Validate Epoch 9: 100%|██████████| 20/20 [00:06<00:00,  3.09it/s, WMAPE=2.97, DICE=0.0599, DPEAKS=39.1, Loss=0.0084]\n"
          ]
        },
        {
          "name": "stdout",
          "output_type": "stream",
          "text": [
            "early stopping: 5 epochs without improvement\n",
            "Training complete.\n"
          ]
        },
        {
          "name": "stderr",
          "output_type": "stream",
          "text": [
            "Validate Epoch test: 100%|██████████| 486/486 [02:29<00:00,  3.26it/s, WMAPE=1.87, DICE=0.0605, DPEAKS=34.2, Loss=0.00556]\n"
          ]
        },
        {
          "name": "stdout",
          "output_type": "stream",
          "text": [
            "Partition 26: training full\n",
            "Loaded best model from partition 25\n",
            "Epoch [1/50]\n"
          ]
        },
        {
          "name": "stderr",
          "output_type": "stream",
          "text": [
            "Train Epoch 1: 100%|██████████| 77/77 [00:58<00:00,  1.32it/s, WMAPE=1.9, DICE=0.0625, DPEAKS=39, Loss=0.00593]\n",
            "Validate Epoch 1: 100%|██████████| 20/20 [00:07<00:00,  2.51it/s, WMAPE=2.76, DICE=0.0961, DPEAKS=67.8, Loss=0.00807]\n"
          ]
        },
        {
          "name": "stdout",
          "output_type": "stream",
          "text": [
            "Saving best model\n",
            "Epoch [2/50]\n"
          ]
        },
        {
          "name": "stderr",
          "output_type": "stream",
          "text": [
            "Train Epoch 2: 100%|██████████| 77/77 [00:53<00:00,  1.44it/s, WMAPE=1.85, DICE=0.0605, DPEAKS=36.1, Loss=0.00567]\n",
            "Validate Epoch 2: 100%|██████████| 20/20 [00:06<00:00,  3.08it/s, WMAPE=4.57, DICE=0.0697, DPEAKS=46.9, Loss=0.0141]\n"
          ]
        },
        {
          "name": "stdout",
          "output_type": "stream",
          "text": [
            "Epoch [3/50]\n"
          ]
        },
        {
          "name": "stderr",
          "output_type": "stream",
          "text": [
            "Train Epoch 3: 100%|██████████| 77/77 [00:53<00:00,  1.44it/s, WMAPE=2.22, DICE=0.082, DPEAKS=56.4, Loss=0.00697]\n",
            "Validate Epoch 3: 100%|██████████| 20/20 [00:06<00:00,  3.09it/s, WMAPE=2.82, DICE=0.0705, DPEAKS=43.4, Loss=0.00789]\n"
          ]
        },
        {
          "name": "stdout",
          "output_type": "stream",
          "text": [
            "Saving best model\n",
            "Epoch [4/50]\n"
          ]
        },
        {
          "name": "stderr",
          "output_type": "stream",
          "text": [
            "Train Epoch 4: 100%|██████████| 77/77 [00:53<00:00,  1.45it/s, WMAPE=1.79, DICE=0.0614, DPEAKS=36.9, Loss=0.00559]\n",
            "Validate Epoch 4: 100%|██████████| 20/20 [00:06<00:00,  3.09it/s, WMAPE=2.23, DICE=0.0602, DPEAKS=32.3, Loss=0.00637]\n"
          ]
        },
        {
          "name": "stdout",
          "output_type": "stream",
          "text": [
            "Saving best model\n",
            "Epoch [5/50]\n"
          ]
        },
        {
          "name": "stderr",
          "output_type": "stream",
          "text": [
            "Train Epoch 5: 100%|██████████| 77/77 [00:53<00:00,  1.44it/s, WMAPE=1.69, DICE=0.0588, DPEAKS=33.9, Loss=0.00532]\n",
            "Validate Epoch 5: 100%|██████████| 20/20 [00:06<00:00,  3.07it/s, WMAPE=7.52, DICE=0.0604, DPEAKS=32.4, Loss=0.021]\n"
          ]
        },
        {
          "name": "stdout",
          "output_type": "stream",
          "text": [
            "Epoch [6/50]\n"
          ]
        },
        {
          "name": "stderr",
          "output_type": "stream",
          "text": [
            "Train Epoch 6: 100%|██████████| 77/77 [00:53<00:00,  1.44it/s, WMAPE=1.57, DICE=0.0572, DPEAKS=32, Loss=0.00497]\n",
            "Validate Epoch 6: 100%|██████████| 20/20 [00:06<00:00,  3.11it/s, WMAPE=2.51, DICE=0.0601, DPEAKS=34.1, Loss=0.00707]\n"
          ]
        },
        {
          "name": "stdout",
          "output_type": "stream",
          "text": [
            "Epoch [7/50]\n"
          ]
        },
        {
          "name": "stderr",
          "output_type": "stream",
          "text": [
            "Train Epoch 7: 100%|██████████| 77/77 [00:53<00:00,  1.45it/s, WMAPE=1.53, DICE=0.0574, DPEAKS=33.2, Loss=0.00488]\n",
            "Validate Epoch 7: 100%|██████████| 20/20 [00:06<00:00,  3.04it/s, WMAPE=6.9, DICE=0.0594, DPEAKS=33.3, Loss=0.0204]\n"
          ]
        },
        {
          "name": "stdout",
          "output_type": "stream",
          "text": [
            "Epoch [8/50]\n"
          ]
        },
        {
          "name": "stderr",
          "output_type": "stream",
          "text": [
            "Train Epoch 8: 100%|██████████| 77/77 [00:53<00:00,  1.45it/s, WMAPE=1.47, DICE=0.0562, DPEAKS=30.5, Loss=0.00461]\n",
            "Validate Epoch 8: 100%|██████████| 20/20 [00:06<00:00,  3.08it/s, WMAPE=3.46, DICE=0.0566, DPEAKS=36, Loss=0.0104]\n"
          ]
        },
        {
          "name": "stdout",
          "output_type": "stream",
          "text": [
            "Epoch [9/50]\n"
          ]
        },
        {
          "name": "stderr",
          "output_type": "stream",
          "text": [
            "Train Epoch 9: 100%|██████████| 77/77 [00:53<00:00,  1.44it/s, WMAPE=1.42, DICE=0.0562, DPEAKS=30.9, Loss=0.00447]\n",
            "Validate Epoch 9: 100%|██████████| 20/20 [00:06<00:00,  3.10it/s, WMAPE=2.58, DICE=0.0822, DPEAKS=60.6, Loss=0.00773]\n"
          ]
        },
        {
          "name": "stdout",
          "output_type": "stream",
          "text": [
            "early stopping: 5 epochs without improvement\n",
            "Training complete.\n"
          ]
        },
        {
          "name": "stderr",
          "output_type": "stream",
          "text": [
            "Validate Epoch test: 100%|██████████| 486/486 [02:29<00:00,  3.25it/s, WMAPE=2.21, DICE=0.0602, DPEAKS=34.8, Loss=0.0063]\n"
          ]
        },
        {
          "name": "stdout",
          "output_type": "stream",
          "text": [
            "Partition 27: training decoder\n",
            "Loaded best model from partition 26\n",
            "Epoch [1/50]\n"
          ]
        },
        {
          "name": "stderr",
          "output_type": "stream",
          "text": [
            "Train Epoch 1: 100%|██████████| 77/77 [00:56<00:00,  1.37it/s, WMAPE=1.9, DICE=0.0597, DPEAKS=35.7, Loss=0.00585]\n",
            "Validate Epoch 1: 100%|██████████| 20/20 [00:07<00:00,  2.59it/s, WMAPE=1.91, DICE=0.0608, DPEAKS=39.6, Loss=0.00579]\n"
          ]
        },
        {
          "name": "stdout",
          "output_type": "stream",
          "text": [
            "Saving best model\n",
            "Epoch [2/50]\n"
          ]
        },
        {
          "name": "stderr",
          "output_type": "stream",
          "text": [
            "Train Epoch 2: 100%|██████████| 77/77 [00:50<00:00,  1.51it/s, WMAPE=1.81, DICE=0.0579, DPEAKS=34.6, Loss=0.00561]\n",
            "Validate Epoch 2: 100%|██████████| 20/20 [00:06<00:00,  3.08it/s, WMAPE=1.85, DICE=0.0601, DPEAKS=31.8, Loss=0.00589]\n"
          ]
        },
        {
          "name": "stdout",
          "output_type": "stream",
          "text": [
            "Epoch [3/50]\n"
          ]
        },
        {
          "name": "stderr",
          "output_type": "stream",
          "text": [
            "Train Epoch 3: 100%|██████████| 77/77 [00:51<00:00,  1.50it/s, WMAPE=1.71, DICE=0.0574, DPEAKS=32.3, Loss=0.00529]\n",
            "Validate Epoch 3: 100%|██████████| 20/20 [00:06<00:00,  3.10it/s, WMAPE=3.21, DICE=0.0595, DPEAKS=30.3, Loss=0.00968]\n"
          ]
        },
        {
          "name": "stdout",
          "output_type": "stream",
          "text": [
            "Epoch [4/50]\n"
          ]
        },
        {
          "name": "stderr",
          "output_type": "stream",
          "text": [
            "Train Epoch 4: 100%|██████████| 77/77 [00:51<00:00,  1.51it/s, WMAPE=1.77, DICE=0.058, DPEAKS=32.5, Loss=0.00549]\n",
            "Validate Epoch 4: 100%|██████████| 20/20 [00:06<00:00,  3.10it/s, WMAPE=2.34, DICE=0.0583, DPEAKS=32.3, Loss=0.00732]\n"
          ]
        },
        {
          "name": "stdout",
          "output_type": "stream",
          "text": [
            "Epoch [5/50]\n"
          ]
        },
        {
          "name": "stderr",
          "output_type": "stream",
          "text": [
            "Train Epoch 5: 100%|██████████| 77/77 [00:51<00:00,  1.51it/s, WMAPE=1.7, DICE=0.0576, DPEAKS=32.4, Loss=0.00533]\n",
            "Validate Epoch 5: 100%|██████████| 20/20 [00:06<00:00,  3.05it/s, WMAPE=1.74, DICE=0.0581, DPEAKS=33.7, Loss=0.00559]\n"
          ]
        },
        {
          "name": "stdout",
          "output_type": "stream",
          "text": [
            "Saving best model\n",
            "Epoch [6/50]\n"
          ]
        },
        {
          "name": "stderr",
          "output_type": "stream",
          "text": [
            "Train Epoch 6: 100%|██████████| 77/77 [00:51<00:00,  1.51it/s, WMAPE=1.74, DICE=0.0603, DPEAKS=36.2, Loss=0.00543]\n",
            "Validate Epoch 6: 100%|██████████| 20/20 [00:06<00:00,  3.09it/s, WMAPE=2.32, DICE=0.0608, DPEAKS=34, Loss=0.00723]\n"
          ]
        },
        {
          "name": "stdout",
          "output_type": "stream",
          "text": [
            "Epoch [7/50]\n"
          ]
        },
        {
          "name": "stderr",
          "output_type": "stream",
          "text": [
            "Train Epoch 7: 100%|██████████| 77/77 [00:51<00:00,  1.51it/s, WMAPE=1.71, DICE=0.0584, DPEAKS=34.3, Loss=0.00537]\n",
            "Validate Epoch 7: 100%|██████████| 20/20 [00:06<00:00,  3.08it/s, WMAPE=1.93, DICE=0.0594, DPEAKS=32.5, Loss=0.00606]\n"
          ]
        },
        {
          "name": "stdout",
          "output_type": "stream",
          "text": [
            "Epoch [8/50]\n"
          ]
        },
        {
          "name": "stderr",
          "output_type": "stream",
          "text": [
            "Train Epoch 8: 100%|██████████| 77/77 [00:51<00:00,  1.51it/s, WMAPE=1.63, DICE=0.0569, DPEAKS=31.5, Loss=0.0051]\n",
            "Validate Epoch 8: 100%|██████████| 20/20 [00:06<00:00,  3.09it/s, WMAPE=2.99, DICE=0.0572, DPEAKS=32.4, Loss=0.00901]\n"
          ]
        },
        {
          "name": "stdout",
          "output_type": "stream",
          "text": [
            "Epoch [9/50]\n"
          ]
        },
        {
          "name": "stderr",
          "output_type": "stream",
          "text": [
            "Train Epoch 9: 100%|██████████| 77/77 [00:51<00:00,  1.51it/s, WMAPE=1.62, DICE=0.0571, DPEAKS=31.1, Loss=0.00505]\n",
            "Validate Epoch 9: 100%|██████████| 20/20 [00:06<00:00,  3.10it/s, WMAPE=2.77, DICE=0.0583, DPEAKS=33.6, Loss=0.00809]\n"
          ]
        },
        {
          "name": "stdout",
          "output_type": "stream",
          "text": [
            "Epoch [10/50]\n"
          ]
        },
        {
          "name": "stderr",
          "output_type": "stream",
          "text": [
            "Train Epoch 10: 100%|██████████| 77/77 [00:51<00:00,  1.51it/s, WMAPE=1.6, DICE=0.0571, DPEAKS=31.3, Loss=0.005]\n",
            "Validate Epoch 10: 100%|██████████| 20/20 [00:06<00:00,  3.07it/s, WMAPE=3.87, DICE=0.0588, DPEAKS=35.4, Loss=0.0118]\n"
          ]
        },
        {
          "name": "stdout",
          "output_type": "stream",
          "text": [
            "early stopping: 5 epochs without improvement\n",
            "Training complete.\n"
          ]
        },
        {
          "name": "stderr",
          "output_type": "stream",
          "text": [
            "Validate Epoch test: 100%|██████████| 486/486 [02:29<00:00,  3.25it/s, WMAPE=1.76, DICE=0.058, DPEAKS=34.3, Loss=0.00554]\n"
          ]
        },
        {
          "name": "stdout",
          "output_type": "stream",
          "text": [
            "Partition 28: training decoder\n",
            "Loaded best model from partition 27\n",
            "Epoch [1/50]\n"
          ]
        },
        {
          "name": "stderr",
          "output_type": "stream",
          "text": [
            "Train Epoch 1: 100%|██████████| 77/77 [00:56<00:00,  1.36it/s, WMAPE=1.82, DICE=0.0585, DPEAKS=34.2, Loss=0.0056]\n",
            "Validate Epoch 1: 100%|██████████| 20/20 [00:07<00:00,  2.55it/s, WMAPE=2.48, DICE=0.0568, DPEAKS=32.4, Loss=0.00691]\n"
          ]
        },
        {
          "name": "stdout",
          "output_type": "stream",
          "text": [
            "Saving best model\n",
            "Epoch [2/50]\n"
          ]
        },
        {
          "name": "stderr",
          "output_type": "stream",
          "text": [
            "Train Epoch 2: 100%|██████████| 77/77 [00:50<00:00,  1.51it/s, WMAPE=1.82, DICE=0.0573, DPEAKS=33.7, Loss=0.00558]\n",
            "Validate Epoch 2: 100%|██████████| 20/20 [00:06<00:00,  3.06it/s, WMAPE=1.93, DICE=0.0571, DPEAKS=31.9, Loss=0.00571]\n"
          ]
        },
        {
          "name": "stdout",
          "output_type": "stream",
          "text": [
            "Saving best model\n",
            "Epoch [3/50]\n"
          ]
        },
        {
          "name": "stderr",
          "output_type": "stream",
          "text": [
            "Train Epoch 3: 100%|██████████| 77/77 [00:50<00:00,  1.51it/s, WMAPE=1.78, DICE=0.0585, DPEAKS=34.1, Loss=0.00549]\n",
            "Validate Epoch 3: 100%|██████████| 20/20 [00:06<00:00,  3.07it/s, WMAPE=2.96, DICE=0.0612, DPEAKS=37.5, Loss=0.00849]\n"
          ]
        },
        {
          "name": "stdout",
          "output_type": "stream",
          "text": [
            "Epoch [4/50]\n"
          ]
        },
        {
          "name": "stderr",
          "output_type": "stream",
          "text": [
            "Train Epoch 4: 100%|██████████| 77/77 [00:51<00:00,  1.51it/s, WMAPE=1.73, DICE=0.0572, DPEAKS=33.2, Loss=0.00536]\n",
            "Validate Epoch 4: 100%|██████████| 20/20 [00:06<00:00,  3.11it/s, WMAPE=3.6, DICE=0.0579, DPEAKS=33, Loss=0.00968]\n"
          ]
        },
        {
          "name": "stdout",
          "output_type": "stream",
          "text": [
            "Epoch [5/50]\n"
          ]
        },
        {
          "name": "stderr",
          "output_type": "stream",
          "text": [
            "Train Epoch 5: 100%|██████████| 77/77 [00:51<00:00,  1.51it/s, WMAPE=1.69, DICE=0.0565, DPEAKS=33, Loss=0.00523]\n",
            "Validate Epoch 5: 100%|██████████| 20/20 [00:06<00:00,  3.08it/s, WMAPE=2.18, DICE=0.0576, DPEAKS=33.8, Loss=0.00643]\n"
          ]
        },
        {
          "name": "stdout",
          "output_type": "stream",
          "text": [
            "Epoch [6/50]\n"
          ]
        },
        {
          "name": "stderr",
          "output_type": "stream",
          "text": [
            "Train Epoch 6: 100%|██████████| 77/77 [00:51<00:00,  1.51it/s, WMAPE=1.68, DICE=0.0565, DPEAKS=33.2, Loss=0.00518]\n",
            "Validate Epoch 6: 100%|██████████| 20/20 [00:06<00:00,  3.09it/s, WMAPE=3.3, DICE=0.0605, DPEAKS=34.7, Loss=0.00871]\n"
          ]
        },
        {
          "name": "stdout",
          "output_type": "stream",
          "text": [
            "Epoch [7/50]\n"
          ]
        },
        {
          "name": "stderr",
          "output_type": "stream",
          "text": [
            "Train Epoch 7: 100%|██████████| 77/77 [00:50<00:00,  1.51it/s, WMAPE=1.69, DICE=0.0585, DPEAKS=36.3, Loss=0.00523]\n",
            "Validate Epoch 7: 100%|██████████| 20/20 [00:06<00:00,  3.09it/s, WMAPE=2.17, DICE=0.0582, DPEAKS=36.8, Loss=0.00661]\n"
          ]
        },
        {
          "name": "stdout",
          "output_type": "stream",
          "text": [
            "Epoch [8/50]\n"
          ]
        },
        {
          "name": "stderr",
          "output_type": "stream",
          "text": [
            "Train Epoch 8: 100%|██████████| 77/77 [00:51<00:00,  1.50it/s, WMAPE=1.7, DICE=0.0574, DPEAKS=34, Loss=0.00522]\n",
            "Validate Epoch 8: 100%|██████████| 20/20 [00:06<00:00,  3.06it/s, WMAPE=3.59, DICE=0.0571, DPEAKS=33.3, Loss=0.00971]\n"
          ]
        },
        {
          "name": "stdout",
          "output_type": "stream",
          "text": [
            "early stopping: 6 epochs without improvement\n",
            "Training complete.\n"
          ]
        },
        {
          "name": "stderr",
          "output_type": "stream",
          "text": [
            "Validate Epoch test: 100%|██████████| 486/486 [02:29<00:00,  3.26it/s, WMAPE=1.84, DICE=0.057, DPEAKS=31.1, Loss=0.00562]\n"
          ]
        },
        {
          "name": "stdout",
          "output_type": "stream",
          "text": [
            "Partition 29: training decoder\n",
            "Loaded best model from partition 28\n",
            "Epoch [1/50]\n"
          ]
        },
        {
          "name": "stderr",
          "output_type": "stream",
          "text": [
            "Train Epoch 1: 100%|██████████| 77/77 [00:56<00:00,  1.37it/s, WMAPE=1.78, DICE=0.0576, DPEAKS=33, Loss=0.0056]\n",
            "Validate Epoch 1: 100%|██████████| 20/20 [00:07<00:00,  2.55it/s, WMAPE=2.21, DICE=0.0584, DPEAKS=36.8, Loss=0.00622]\n"
          ]
        },
        {
          "name": "stdout",
          "output_type": "stream",
          "text": [
            "Saving best model\n",
            "Epoch [2/50]\n"
          ]
        },
        {
          "name": "stderr",
          "output_type": "stream",
          "text": [
            "Train Epoch 2: 100%|██████████| 77/77 [00:50<00:00,  1.51it/s, WMAPE=1.75, DICE=0.0566, DPEAKS=33.1, Loss=0.00544]\n",
            "Validate Epoch 2: 100%|██████████| 20/20 [00:06<00:00,  3.09it/s, WMAPE=2.6, DICE=0.0585, DPEAKS=31.2, Loss=0.00751]\n"
          ]
        },
        {
          "name": "stdout",
          "output_type": "stream",
          "text": [
            "Epoch [3/50]\n"
          ]
        },
        {
          "name": "stderr",
          "output_type": "stream",
          "text": [
            "Train Epoch 3: 100%|██████████| 77/77 [00:51<00:00,  1.51it/s, WMAPE=1.74, DICE=0.0575, DPEAKS=31.3, Loss=0.00547]\n",
            "Validate Epoch 3: 100%|██████████| 20/20 [00:06<00:00,  3.07it/s, WMAPE=1.99, DICE=0.0581, DPEAKS=35.6, Loss=0.00569]\n"
          ]
        },
        {
          "name": "stdout",
          "output_type": "stream",
          "text": [
            "Saving best model\n",
            "Epoch [4/50]\n"
          ]
        },
        {
          "name": "stderr",
          "output_type": "stream",
          "text": [
            "Train Epoch 4: 100%|██████████| 77/77 [00:50<00:00,  1.51it/s, WMAPE=1.73, DICE=0.0568, DPEAKS=32.2, Loss=0.00544]\n",
            "Validate Epoch 4: 100%|██████████| 20/20 [00:06<00:00,  3.09it/s, WMAPE=1.97, DICE=0.059, DPEAKS=33.7, Loss=0.00593]\n"
          ]
        },
        {
          "name": "stdout",
          "output_type": "stream",
          "text": [
            "Epoch [5/50]\n"
          ]
        },
        {
          "name": "stderr",
          "output_type": "stream",
          "text": [
            "Train Epoch 5: 100%|██████████| 77/77 [00:51<00:00,  1.51it/s, WMAPE=1.64, DICE=0.0566, DPEAKS=31.6, Loss=0.00513]\n",
            "Validate Epoch 5: 100%|██████████| 20/20 [00:06<00:00,  3.06it/s, WMAPE=1.81, DICE=0.057, DPEAKS=31.7, Loss=0.00543]\n"
          ]
        },
        {
          "name": "stdout",
          "output_type": "stream",
          "text": [
            "Saving best model\n",
            "Epoch [6/50]\n"
          ]
        },
        {
          "name": "stderr",
          "output_type": "stream",
          "text": [
            "Train Epoch 6: 100%|██████████| 77/77 [00:50<00:00,  1.51it/s, WMAPE=1.62, DICE=0.0561, DPEAKS=31.4, Loss=0.00505]\n",
            "Validate Epoch 6: 100%|██████████| 20/20 [00:06<00:00,  3.05it/s, WMAPE=2.02, DICE=0.059, DPEAKS=32, Loss=0.00585]\n"
          ]
        },
        {
          "name": "stdout",
          "output_type": "stream",
          "text": [
            "Epoch [7/50]\n"
          ]
        },
        {
          "name": "stderr",
          "output_type": "stream",
          "text": [
            "Train Epoch 7: 100%|██████████| 77/77 [00:50<00:00,  1.51it/s, WMAPE=1.66, DICE=0.0589, DPEAKS=35.4, Loss=0.00526]\n",
            "Validate Epoch 7: 100%|██████████| 20/20 [00:06<00:00,  3.08it/s, WMAPE=3.07, DICE=0.0578, DPEAKS=33.1, Loss=0.00946]\n"
          ]
        },
        {
          "name": "stdout",
          "output_type": "stream",
          "text": [
            "Epoch [8/50]\n"
          ]
        },
        {
          "name": "stderr",
          "output_type": "stream",
          "text": [
            "Train Epoch 8: 100%|██████████| 77/77 [00:50<00:00,  1.51it/s, WMAPE=1.62, DICE=0.0566, DPEAKS=30.4, Loss=0.00509]\n",
            "Validate Epoch 8: 100%|██████████| 20/20 [00:06<00:00,  3.08it/s, WMAPE=8.45, DICE=0.0586, DPEAKS=33, Loss=0.0247]\n"
          ]
        },
        {
          "name": "stdout",
          "output_type": "stream",
          "text": [
            "Epoch [9/50]\n"
          ]
        },
        {
          "name": "stderr",
          "output_type": "stream",
          "text": [
            "Train Epoch 9: 100%|██████████| 77/77 [00:50<00:00,  1.51it/s, WMAPE=1.62, DICE=0.0563, DPEAKS=30.1, Loss=0.00503]\n",
            "Validate Epoch 9: 100%|██████████| 20/20 [00:06<00:00,  3.10it/s, WMAPE=2.36, DICE=0.0573, DPEAKS=34.1, Loss=0.00666]\n"
          ]
        },
        {
          "name": "stdout",
          "output_type": "stream",
          "text": [
            "Epoch [10/50]\n"
          ]
        },
        {
          "name": "stderr",
          "output_type": "stream",
          "text": [
            "Train Epoch 10: 100%|██████████| 77/77 [00:50<00:00,  1.51it/s, WMAPE=1.56, DICE=0.0561, DPEAKS=30.3, Loss=0.00489]\n",
            "Validate Epoch 10: 100%|██████████| 20/20 [00:06<00:00,  3.09it/s, WMAPE=1.98, DICE=0.0588, DPEAKS=35.4, Loss=0.00606]\n"
          ]
        },
        {
          "name": "stdout",
          "output_type": "stream",
          "text": [
            "early stopping: 5 epochs without improvement\n",
            "Training complete.\n"
          ]
        },
        {
          "name": "stderr",
          "output_type": "stream",
          "text": [
            "Validate Epoch test: 100%|██████████| 486/486 [02:29<00:00,  3.26it/s, WMAPE=1.8, DICE=0.0569, DPEAKS=32.8, Loss=0.00543]\n"
          ]
        },
        {
          "name": "stdout",
          "output_type": "stream",
          "text": [
            "Partition 30: training decoder\n",
            "Loaded best model from partition 29\n",
            "Epoch [1/50]\n"
          ]
        },
        {
          "name": "stderr",
          "output_type": "stream",
          "text": [
            "Train Epoch 1: 100%|██████████| 77/77 [00:56<00:00,  1.37it/s, WMAPE=1.77, DICE=0.0569, DPEAKS=30.9, Loss=0.00557]\n",
            "Validate Epoch 1: 100%|██████████| 20/20 [00:07<00:00,  2.57it/s, WMAPE=2.89, DICE=0.0568, DPEAKS=32.7, Loss=0.00821]\n"
          ]
        },
        {
          "name": "stdout",
          "output_type": "stream",
          "text": [
            "Saving best model\n",
            "Epoch [2/50]\n"
          ]
        },
        {
          "name": "stderr",
          "output_type": "stream",
          "text": [
            "Train Epoch 2: 100%|██████████| 77/77 [00:50<00:00,  1.51it/s, WMAPE=1.78, DICE=0.0581, DPEAKS=33.3, Loss=0.00555]\n",
            "Validate Epoch 2: 100%|██████████| 20/20 [00:06<00:00,  3.06it/s, WMAPE=3.28, DICE=0.0693, DPEAKS=56, Loss=0.00968]\n"
          ]
        },
        {
          "name": "stdout",
          "output_type": "stream",
          "text": [
            "Epoch [3/50]\n"
          ]
        },
        {
          "name": "stderr",
          "output_type": "stream",
          "text": [
            "Train Epoch 3: 100%|██████████| 77/77 [00:51<00:00,  1.50it/s, WMAPE=1.76, DICE=0.0589, DPEAKS=33.3, Loss=0.00558]\n",
            "Validate Epoch 3: 100%|██████████| 20/20 [00:06<00:00,  3.07it/s, WMAPE=3.96, DICE=0.0604, DPEAKS=38.9, Loss=0.0114]\n"
          ]
        },
        {
          "name": "stdout",
          "output_type": "stream",
          "text": [
            "Epoch [4/50]\n"
          ]
        },
        {
          "name": "stderr",
          "output_type": "stream",
          "text": [
            "Train Epoch 4: 100%|██████████| 77/77 [00:51<00:00,  1.51it/s, WMAPE=1.65, DICE=0.0568, DPEAKS=31.1, Loss=0.00524]\n",
            "Validate Epoch 4: 100%|██████████| 20/20 [00:06<00:00,  3.10it/s, WMAPE=4.05, DICE=0.0605, DPEAKS=44.8, Loss=0.0123]\n"
          ]
        },
        {
          "name": "stdout",
          "output_type": "stream",
          "text": [
            "Epoch [5/50]\n"
          ]
        },
        {
          "name": "stderr",
          "output_type": "stream",
          "text": [
            "Train Epoch 5: 100%|██████████| 77/77 [00:50<00:00,  1.51it/s, WMAPE=1.72, DICE=0.0576, DPEAKS=32.1, Loss=0.00546]\n",
            "Validate Epoch 5: 100%|██████████| 20/20 [00:06<00:00,  3.09it/s, WMAPE=2.89, DICE=0.0575, DPEAKS=35.3, Loss=0.00908]\n"
          ]
        },
        {
          "name": "stdout",
          "output_type": "stream",
          "text": [
            "Epoch [6/50]\n"
          ]
        },
        {
          "name": "stderr",
          "output_type": "stream",
          "text": [
            "Train Epoch 6: 100%|██████████| 77/77 [00:51<00:00,  1.50it/s, WMAPE=1.65, DICE=0.057, DPEAKS=32.6, Loss=0.00524]\n",
            "Validate Epoch 6: 100%|██████████| 20/20 [00:06<00:00,  3.07it/s, WMAPE=6.16, DICE=0.058, DPEAKS=36.5, Loss=0.0183]\n"
          ]
        },
        {
          "name": "stdout",
          "output_type": "stream",
          "text": [
            "Epoch [7/50]\n"
          ]
        },
        {
          "name": "stderr",
          "output_type": "stream",
          "text": [
            "Train Epoch 7: 100%|██████████| 77/77 [00:51<00:00,  1.51it/s, WMAPE=1.62, DICE=0.0563, DPEAKS=31.2, Loss=0.00511]\n",
            "Validate Epoch 7: 100%|██████████| 20/20 [00:06<00:00,  3.04it/s, WMAPE=2.7, DICE=0.0586, DPEAKS=35.4, Loss=0.00776]\n"
          ]
        },
        {
          "name": "stdout",
          "output_type": "stream",
          "text": [
            "Saving best model\n",
            "Epoch [8/50]\n"
          ]
        },
        {
          "name": "stderr",
          "output_type": "stream",
          "text": [
            "Train Epoch 8: 100%|██████████| 77/77 [00:50<00:00,  1.51it/s, WMAPE=1.59, DICE=0.0561, DPEAKS=29.7, Loss=0.00505]\n",
            "Validate Epoch 8: 100%|██████████| 20/20 [00:06<00:00,  3.08it/s, WMAPE=2.05, DICE=0.0587, DPEAKS=33.4, Loss=0.00633]\n"
          ]
        },
        {
          "name": "stdout",
          "output_type": "stream",
          "text": [
            "Saving best model\n",
            "Epoch [9/50]\n"
          ]
        },
        {
          "name": "stderr",
          "output_type": "stream",
          "text": [
            "Train Epoch 9: 100%|██████████| 77/77 [00:51<00:00,  1.50it/s, WMAPE=1.58, DICE=0.0562, DPEAKS=31.2, Loss=0.00502]\n",
            "Validate Epoch 9: 100%|██████████| 20/20 [00:06<00:00,  3.09it/s, WMAPE=1.82, DICE=0.0558, DPEAKS=31.3, Loss=0.00568]\n"
          ]
        },
        {
          "name": "stdout",
          "output_type": "stream",
          "text": [
            "Saving best model\n",
            "Epoch [10/50]\n"
          ]
        },
        {
          "name": "stderr",
          "output_type": "stream",
          "text": [
            "Train Epoch 10: 100%|██████████| 77/77 [00:51<00:00,  1.51it/s, WMAPE=1.53, DICE=0.0553, DPEAKS=30.1, Loss=0.00478]\n",
            "Validate Epoch 10: 100%|██████████| 20/20 [00:06<00:00,  3.08it/s, WMAPE=3.97, DICE=0.0577, DPEAKS=35.7, Loss=0.0114]\n"
          ]
        },
        {
          "name": "stdout",
          "output_type": "stream",
          "text": [
            "Epoch [11/50]\n"
          ]
        },
        {
          "name": "stderr",
          "output_type": "stream",
          "text": [
            "Train Epoch 11: 100%|██████████| 77/77 [00:51<00:00,  1.50it/s, WMAPE=1.48, DICE=0.0554, DPEAKS=29, Loss=0.00464]\n",
            "Validate Epoch 11: 100%|██████████| 20/20 [00:06<00:00,  3.11it/s, WMAPE=1.86, DICE=0.0563, DPEAKS=32.6, Loss=0.00585]\n"
          ]
        },
        {
          "name": "stdout",
          "output_type": "stream",
          "text": [
            "Epoch [12/50]\n"
          ]
        },
        {
          "name": "stderr",
          "output_type": "stream",
          "text": [
            "Train Epoch 12: 100%|██████████| 77/77 [00:50<00:00,  1.51it/s, WMAPE=1.53, DICE=0.0558, DPEAKS=31.9, Loss=0.00482]\n",
            "Validate Epoch 12: 100%|██████████| 20/20 [00:06<00:00,  3.05it/s, WMAPE=2.75, DICE=0.0573, DPEAKS=33.7, Loss=0.00765]\n"
          ]
        },
        {
          "name": "stdout",
          "output_type": "stream",
          "text": [
            "Epoch [13/50]\n"
          ]
        },
        {
          "name": "stderr",
          "output_type": "stream",
          "text": [
            "Train Epoch 13: 100%|██████████| 77/77 [00:51<00:00,  1.51it/s, WMAPE=1.46, DICE=0.0556, DPEAKS=30.9, Loss=0.00467]\n",
            "Validate Epoch 13: 100%|██████████| 20/20 [00:06<00:00,  3.08it/s, WMAPE=2.2, DICE=0.0561, DPEAKS=31.9, Loss=0.00671]\n"
          ]
        },
        {
          "name": "stdout",
          "output_type": "stream",
          "text": [
            "Epoch [14/50]\n"
          ]
        },
        {
          "name": "stderr",
          "output_type": "stream",
          "text": [
            "Train Epoch 14: 100%|██████████| 77/77 [00:51<00:00,  1.51it/s, WMAPE=1.4, DICE=0.0552, DPEAKS=29.9, Loss=0.00447]\n",
            "Validate Epoch 14: 100%|██████████| 20/20 [00:06<00:00,  3.09it/s, WMAPE=3.63, DICE=0.0577, DPEAKS=32.7, Loss=0.0105]\n"
          ]
        },
        {
          "name": "stdout",
          "output_type": "stream",
          "text": [
            "early stopping: 5 epochs without improvement\n",
            "Training complete.\n"
          ]
        },
        {
          "name": "stderr",
          "output_type": "stream",
          "text": [
            "Validate Epoch test: 100%|██████████| 486/486 [02:29<00:00,  3.25it/s, WMAPE=1.88, DICE=0.0558, DPEAKS=30.6, Loss=0.00581]\n"
          ]
        },
        {
          "name": "stdout",
          "output_type": "stream",
          "text": [
            "Partition 31: training full\n",
            "Loaded best model from partition 30\n",
            "Epoch [1/50]\n"
          ]
        },
        {
          "name": "stderr",
          "output_type": "stream",
          "text": [
            "Train Epoch 1: 100%|██████████| 77/77 [00:58<00:00,  1.31it/s, WMAPE=2.07, DICE=0.0666, DPEAKS=43.6, Loss=0.00643]\n",
            "Validate Epoch 1: 100%|██████████| 20/20 [00:07<00:00,  2.58it/s, WMAPE=3.8, DICE=0.0647, DPEAKS=40.4, Loss=0.012]\n"
          ]
        },
        {
          "name": "stdout",
          "output_type": "stream",
          "text": [
            "Saving best model\n",
            "Epoch [2/50]\n"
          ]
        },
        {
          "name": "stderr",
          "output_type": "stream",
          "text": [
            "Train Epoch 2: 100%|██████████| 77/77 [00:53<00:00,  1.44it/s, WMAPE=1.8, DICE=0.0588, DPEAKS=34.5, Loss=0.00552]\n",
            "Validate Epoch 2: 100%|██████████| 20/20 [00:06<00:00,  3.09it/s, WMAPE=2.31, DICE=0.0583, DPEAKS=30.5, Loss=0.00753]\n"
          ]
        },
        {
          "name": "stdout",
          "output_type": "stream",
          "text": [
            "Saving best model\n",
            "Epoch [3/50]\n"
          ]
        },
        {
          "name": "stderr",
          "output_type": "stream",
          "text": [
            "Train Epoch 3: 100%|██████████| 77/77 [00:53<00:00,  1.44it/s, WMAPE=1.72, DICE=0.0564, DPEAKS=33.3, Loss=0.00529]\n",
            "Validate Epoch 3: 100%|██████████| 20/20 [00:06<00:00,  3.10it/s, WMAPE=3.48, DICE=0.0585, DPEAKS=30.6, Loss=0.0108]\n"
          ]
        },
        {
          "name": "stdout",
          "output_type": "stream",
          "text": [
            "Epoch [4/50]\n"
          ]
        },
        {
          "name": "stderr",
          "output_type": "stream",
          "text": [
            "Train Epoch 4: 100%|██████████| 77/77 [00:53<00:00,  1.44it/s, WMAPE=1.7, DICE=0.0564, DPEAKS=32.4, Loss=0.00523]\n",
            "Validate Epoch 4: 100%|██████████| 20/20 [00:06<00:00,  3.10it/s, WMAPE=5.45, DICE=0.0583, DPEAKS=35.7, Loss=0.0167]\n"
          ]
        },
        {
          "name": "stdout",
          "output_type": "stream",
          "text": [
            "Epoch [5/50]\n"
          ]
        },
        {
          "name": "stderr",
          "output_type": "stream",
          "text": [
            "Train Epoch 5: 100%|██████████| 77/77 [00:53<00:00,  1.44it/s, WMAPE=1.57, DICE=0.0556, DPEAKS=33.1, Loss=0.00492]\n",
            "Validate Epoch 5: 100%|██████████| 20/20 [00:06<00:00,  3.08it/s, WMAPE=1.74, DICE=0.0576, DPEAKS=29.6, Loss=0.0054]\n"
          ]
        },
        {
          "name": "stdout",
          "output_type": "stream",
          "text": [
            "Saving best model\n",
            "Epoch [6/50]\n"
          ]
        },
        {
          "name": "stderr",
          "output_type": "stream",
          "text": [
            "Train Epoch 6: 100%|██████████| 77/77 [00:53<00:00,  1.44it/s, WMAPE=1.52, DICE=0.0548, DPEAKS=32.2, Loss=0.00473]\n",
            "Validate Epoch 6: 100%|██████████| 20/20 [00:06<00:00,  3.05it/s, WMAPE=2.08, DICE=0.0579, DPEAKS=34.4, Loss=0.00663]\n"
          ]
        },
        {
          "name": "stdout",
          "output_type": "stream",
          "text": [
            "Epoch [7/50]\n"
          ]
        },
        {
          "name": "stderr",
          "output_type": "stream",
          "text": [
            "Train Epoch 7: 100%|██████████| 77/77 [00:53<00:00,  1.44it/s, WMAPE=1.42, DICE=0.0543, DPEAKS=31.6, Loss=0.00444]\n",
            "Validate Epoch 7: 100%|██████████| 20/20 [00:06<00:00,  3.07it/s, WMAPE=5.18, DICE=0.0569, DPEAKS=27.2, Loss=0.0148]\n"
          ]
        },
        {
          "name": "stdout",
          "output_type": "stream",
          "text": [
            "Epoch [8/50]\n"
          ]
        },
        {
          "name": "stderr",
          "output_type": "stream",
          "text": [
            "Train Epoch 8: 100%|██████████| 77/77 [00:53<00:00,  1.45it/s, WMAPE=1.36, DICE=0.0533, DPEAKS=29.3, Loss=0.0043]\n",
            "Validate Epoch 8: 100%|██████████| 20/20 [00:06<00:00,  3.05it/s, WMAPE=1.69, DICE=0.0533, DPEAKS=24.8, Loss=0.00531]\n"
          ]
        },
        {
          "name": "stdout",
          "output_type": "stream",
          "text": [
            "Saving best model\n",
            "Epoch [9/50]\n"
          ]
        },
        {
          "name": "stderr",
          "output_type": "stream",
          "text": [
            "Train Epoch 9: 100%|██████████| 77/77 [00:53<00:00,  1.44it/s, WMAPE=1.38, DICE=0.0543, DPEAKS=31.3, Loss=0.00428]\n",
            "Validate Epoch 9: 100%|██████████| 20/20 [00:06<00:00,  3.06it/s, WMAPE=2.26, DICE=0.0596, DPEAKS=35.7, Loss=0.00713]\n"
          ]
        },
        {
          "name": "stdout",
          "output_type": "stream",
          "text": [
            "Epoch [10/50]\n"
          ]
        },
        {
          "name": "stderr",
          "output_type": "stream",
          "text": [
            "Train Epoch 10: 100%|██████████| 77/77 [00:53<00:00,  1.44it/s, WMAPE=1.36, DICE=0.0532, DPEAKS=30.1, Loss=0.00422]\n",
            "Validate Epoch 10: 100%|██████████| 20/20 [00:06<00:00,  3.07it/s, WMAPE=4.89, DICE=0.0534, DPEAKS=26.8, Loss=0.0141]\n"
          ]
        },
        {
          "name": "stdout",
          "output_type": "stream",
          "text": [
            "Epoch [11/50]\n"
          ]
        },
        {
          "name": "stderr",
          "output_type": "stream",
          "text": [
            "Train Epoch 11: 100%|██████████| 77/77 [00:53<00:00,  1.44it/s, WMAPE=1.36, DICE=0.0529, DPEAKS=29.6, Loss=0.00427]\n",
            "Validate Epoch 11: 100%|██████████| 20/20 [00:06<00:00,  3.07it/s, WMAPE=2.04, DICE=0.0528, DPEAKS=26.2, Loss=0.00636]\n"
          ]
        },
        {
          "name": "stdout",
          "output_type": "stream",
          "text": [
            "Epoch [12/50]\n"
          ]
        },
        {
          "name": "stderr",
          "output_type": "stream",
          "text": [
            "Train Epoch 12: 100%|██████████| 77/77 [00:53<00:00,  1.44it/s, WMAPE=1.32, DICE=0.0518, DPEAKS=27.7, Loss=0.00411]\n",
            "Validate Epoch 12: 100%|██████████| 20/20 [00:06<00:00,  3.05it/s, WMAPE=1.78, DICE=0.0542, DPEAKS=34, Loss=0.00603]\n"
          ]
        },
        {
          "name": "stdout",
          "output_type": "stream",
          "text": [
            "Epoch [13/50]\n"
          ]
        },
        {
          "name": "stderr",
          "output_type": "stream",
          "text": [
            "Train Epoch 13: 100%|██████████| 77/77 [00:53<00:00,  1.44it/s, WMAPE=1.29, DICE=0.0513, DPEAKS=28.1, Loss=0.00406]\n",
            "Validate Epoch 13: 100%|██████████| 20/20 [00:06<00:00,  3.09it/s, WMAPE=3.19, DICE=0.0528, DPEAKS=31.8, Loss=0.0101]\n"
          ]
        },
        {
          "name": "stdout",
          "output_type": "stream",
          "text": [
            "early stopping: 5 epochs without improvement\n",
            "Training complete.\n"
          ]
        },
        {
          "name": "stderr",
          "output_type": "stream",
          "text": [
            "Validate Epoch test: 100%|██████████| 486/486 [02:29<00:00,  3.24it/s, WMAPE=1.74, DICE=0.0531, DPEAKS=29, Loss=0.00541]\n"
          ]
        },
        {
          "name": "stdout",
          "output_type": "stream",
          "text": [
            "Partition 32: training decoder\n",
            "Loaded best model from partition 31\n",
            "Epoch [1/50]\n"
          ]
        },
        {
          "name": "stderr",
          "output_type": "stream",
          "text": [
            "Train Epoch 1: 100%|██████████| 77/77 [00:56<00:00,  1.37it/s, WMAPE=1.81, DICE=0.054, DPEAKS=29.8, Loss=0.00553]\n",
            "Validate Epoch 1: 100%|██████████| 20/20 [00:08<00:00,  2.50it/s, WMAPE=2.03, DICE=0.0565, DPEAKS=37.6, Loss=0.00666]\n"
          ]
        },
        {
          "name": "stdout",
          "output_type": "stream",
          "text": [
            "Saving best model\n",
            "Epoch [2/50]\n"
          ]
        },
        {
          "name": "stderr",
          "output_type": "stream",
          "text": [
            "Train Epoch 2: 100%|██████████| 77/77 [00:51<00:00,  1.51it/s, WMAPE=1.84, DICE=0.0593, DPEAKS=35.3, Loss=0.00558]\n",
            "Validate Epoch 2: 100%|██████████| 20/20 [00:06<00:00,  3.08it/s, WMAPE=1.68, DICE=0.0536, DPEAKS=30.9, Loss=0.00519]\n"
          ]
        },
        {
          "name": "stdout",
          "output_type": "stream",
          "text": [
            "Saving best model\n",
            "Epoch [3/50]\n"
          ]
        },
        {
          "name": "stderr",
          "output_type": "stream",
          "text": [
            "Train Epoch 3: 100%|██████████| 77/77 [00:50<00:00,  1.51it/s, WMAPE=1.68, DICE=0.053, DPEAKS=28.4, Loss=0.00513]\n",
            "Validate Epoch 3: 100%|██████████| 20/20 [00:06<00:00,  3.10it/s, WMAPE=2.03, DICE=0.0539, DPEAKS=32.6, Loss=0.00667]\n"
          ]
        },
        {
          "name": "stdout",
          "output_type": "stream",
          "text": [
            "Epoch [4/50]\n"
          ]
        },
        {
          "name": "stderr",
          "output_type": "stream",
          "text": [
            "Train Epoch 4: 100%|██████████| 77/77 [00:51<00:00,  1.50it/s, WMAPE=1.71, DICE=0.0529, DPEAKS=28.2, Loss=0.00519]\n",
            "Validate Epoch 4: 100%|██████████| 20/20 [00:06<00:00,  3.08it/s, WMAPE=2.1, DICE=0.0531, DPEAKS=29.7, Loss=0.00637]\n"
          ]
        },
        {
          "name": "stdout",
          "output_type": "stream",
          "text": [
            "Epoch [5/50]\n"
          ]
        },
        {
          "name": "stderr",
          "output_type": "stream",
          "text": [
            "Train Epoch 5: 100%|██████████| 77/77 [00:50<00:00,  1.51it/s, WMAPE=1.69, DICE=0.0531, DPEAKS=28.5, Loss=0.00513]\n",
            "Validate Epoch 5: 100%|██████████| 20/20 [00:06<00:00,  3.08it/s, WMAPE=2.81, DICE=0.0536, DPEAKS=27.2, Loss=0.00833]\n"
          ]
        },
        {
          "name": "stdout",
          "output_type": "stream",
          "text": [
            "Epoch [6/50]\n"
          ]
        },
        {
          "name": "stderr",
          "output_type": "stream",
          "text": [
            "Train Epoch 6: 100%|██████████| 77/77 [00:50<00:00,  1.51it/s, WMAPE=1.63, DICE=0.0531, DPEAKS=29.9, Loss=0.00503]\n",
            "Validate Epoch 6: 100%|██████████| 20/20 [00:06<00:00,  3.06it/s, WMAPE=1.96, DICE=0.0524, DPEAKS=29, Loss=0.00599]\n"
          ]
        },
        {
          "name": "stdout",
          "output_type": "stream",
          "text": [
            "Epoch [7/50]\n"
          ]
        },
        {
          "name": "stderr",
          "output_type": "stream",
          "text": [
            "Train Epoch 7: 100%|██████████| 77/77 [00:51<00:00,  1.50it/s, WMAPE=1.6, DICE=0.0532, DPEAKS=28.2, Loss=0.0049]\n",
            "Validate Epoch 7: 100%|██████████| 20/20 [00:06<00:00,  3.09it/s, WMAPE=3.25, DICE=0.0542, DPEAKS=30.9, Loss=0.00983]\n"
          ]
        },
        {
          "name": "stdout",
          "output_type": "stream",
          "text": [
            "Epoch [8/50]\n"
          ]
        },
        {
          "name": "stderr",
          "output_type": "stream",
          "text": [
            "Train Epoch 8: 100%|██████████| 77/77 [00:51<00:00,  1.51it/s, WMAPE=1.58, DICE=0.0528, DPEAKS=29.1, Loss=0.00483]\n",
            "Validate Epoch 8: 100%|██████████| 20/20 [00:06<00:00,  3.07it/s, WMAPE=2.16, DICE=0.054, DPEAKS=32.2, Loss=0.00646]\n"
          ]
        },
        {
          "name": "stdout",
          "output_type": "stream",
          "text": [
            "early stopping: 6 epochs without improvement\n",
            "Training complete.\n"
          ]
        },
        {
          "name": "stderr",
          "output_type": "stream",
          "text": [
            "Validate Epoch test: 100%|██████████| 486/486 [02:29<00:00,  3.26it/s, WMAPE=1.73, DICE=0.0536, DPEAKS=28.8, Loss=0.00517]\n"
          ]
        },
        {
          "name": "stdout",
          "output_type": "stream",
          "text": [
            "Partition 33: training decoder\n",
            "Loaded best model from partition 32\n",
            "Epoch [1/50]\n"
          ]
        },
        {
          "name": "stderr",
          "output_type": "stream",
          "text": [
            "Train Epoch 1: 100%|██████████| 77/77 [00:56<00:00,  1.37it/s, WMAPE=1.74, DICE=0.0545, DPEAKS=30.5, Loss=0.0054]\n",
            "Validate Epoch 1: 100%|██████████| 20/20 [00:07<00:00,  2.58it/s, WMAPE=1.67, DICE=0.056, DPEAKS=30.5, Loss=0.00519]\n"
          ]
        },
        {
          "name": "stdout",
          "output_type": "stream",
          "text": [
            "Saving best model\n",
            "Epoch [2/50]\n"
          ]
        },
        {
          "name": "stderr",
          "output_type": "stream",
          "text": [
            "Train Epoch 2: 100%|██████████| 77/77 [00:51<00:00,  1.51it/s, WMAPE=1.69, DICE=0.0539, DPEAKS=29.9, Loss=0.00529]\n",
            "Validate Epoch 2: 100%|██████████| 20/20 [00:06<00:00,  3.07it/s, WMAPE=2, DICE=0.0535, DPEAKS=32.4, Loss=0.00619]\n"
          ]
        },
        {
          "name": "stdout",
          "output_type": "stream",
          "text": [
            "Epoch [3/50]\n"
          ]
        },
        {
          "name": "stderr",
          "output_type": "stream",
          "text": [
            "Train Epoch 3: 100%|██████████| 77/77 [00:50<00:00,  1.51it/s, WMAPE=1.68, DICE=0.0534, DPEAKS=28.9, Loss=0.0052]\n",
            "Validate Epoch 3: 100%|██████████| 20/20 [00:06<00:00,  3.12it/s, WMAPE=1.82, DICE=0.0558, DPEAKS=34.6, Loss=0.00544]\n"
          ]
        },
        {
          "name": "stdout",
          "output_type": "stream",
          "text": [
            "Epoch [4/50]\n"
          ]
        },
        {
          "name": "stderr",
          "output_type": "stream",
          "text": [
            "Train Epoch 4: 100%|██████████| 77/77 [00:51<00:00,  1.50it/s, WMAPE=1.62, DICE=0.0535, DPEAKS=29.6, Loss=0.00498]\n",
            "Validate Epoch 4: 100%|██████████| 20/20 [00:06<00:00,  3.12it/s, WMAPE=2.07, DICE=0.0535, DPEAKS=33.2, Loss=0.00607]\n"
          ]
        },
        {
          "name": "stdout",
          "output_type": "stream",
          "text": [
            "Epoch [5/50]\n"
          ]
        },
        {
          "name": "stderr",
          "output_type": "stream",
          "text": [
            "Train Epoch 5: 100%|██████████| 77/77 [00:51<00:00,  1.51it/s, WMAPE=1.62, DICE=0.054, DPEAKS=28.9, Loss=0.00498]\n",
            "Validate Epoch 5: 100%|██████████| 20/20 [00:06<00:00,  3.10it/s, WMAPE=1.76, DICE=0.0585, DPEAKS=41.2, Loss=0.00558]\n"
          ]
        },
        {
          "name": "stdout",
          "output_type": "stream",
          "text": [
            "Epoch [6/50]\n"
          ]
        },
        {
          "name": "stderr",
          "output_type": "stream",
          "text": [
            "Train Epoch 6: 100%|██████████| 77/77 [00:50<00:00,  1.51it/s, WMAPE=1.67, DICE=0.0566, DPEAKS=33.6, Loss=0.0052]\n",
            "Validate Epoch 6: 100%|██████████| 20/20 [00:06<00:00,  3.06it/s, WMAPE=2.34, DICE=0.0538, DPEAKS=28.4, Loss=0.00679]\n"
          ]
        },
        {
          "name": "stdout",
          "output_type": "stream",
          "text": [
            "Epoch [7/50]\n"
          ]
        },
        {
          "name": "stderr",
          "output_type": "stream",
          "text": [
            "Train Epoch 7: 100%|██████████| 77/77 [00:51<00:00,  1.51it/s, WMAPE=1.63, DICE=0.0536, DPEAKS=29.9, Loss=0.00504]\n",
            "Validate Epoch 7: 100%|██████████| 20/20 [00:06<00:00,  3.07it/s, WMAPE=1.72, DICE=0.0547, DPEAKS=33.8, Loss=0.00543]\n"
          ]
        },
        {
          "name": "stdout",
          "output_type": "stream",
          "text": [
            "Epoch [8/50]\n"
          ]
        },
        {
          "name": "stderr",
          "output_type": "stream",
          "text": [
            "Train Epoch 8: 100%|██████████| 77/77 [00:51<00:00,  1.50it/s, WMAPE=1.58, DICE=0.054, DPEAKS=30.5, Loss=0.00492]\n",
            "Validate Epoch 8: 100%|██████████| 20/20 [00:06<00:00,  3.05it/s, WMAPE=2.04, DICE=0.0583, DPEAKS=32, Loss=0.00622]\n"
          ]
        },
        {
          "name": "stdout",
          "output_type": "stream",
          "text": [
            "early stopping: 7 epochs without improvement\n",
            "Training complete.\n"
          ]
        },
        {
          "name": "stderr",
          "output_type": "stream",
          "text": [
            "Validate Epoch test: 100%|██████████| 486/486 [02:29<00:00,  3.26it/s, WMAPE=1.66, DICE=0.0559, DPEAKS=30, Loss=0.00516]\n"
          ]
        },
        {
          "name": "stdout",
          "output_type": "stream",
          "text": [
            "Partition 34: training decoder\n",
            "Loaded best model from partition 33\n",
            "Epoch [1/50]\n"
          ]
        },
        {
          "name": "stderr",
          "output_type": "stream",
          "text": [
            "Train Epoch 1: 100%|██████████| 77/77 [00:56<00:00,  1.36it/s, WMAPE=1.74, DICE=0.0542, DPEAKS=28.9, Loss=0.0054]\n",
            "Validate Epoch 1: 100%|██████████| 20/20 [00:07<00:00,  2.52it/s, WMAPE=3.08, DICE=0.0547, DPEAKS=29.5, Loss=0.00932]\n"
          ]
        },
        {
          "name": "stdout",
          "output_type": "stream",
          "text": [
            "Saving best model\n",
            "Epoch [2/50]\n"
          ]
        },
        {
          "name": "stderr",
          "output_type": "stream",
          "text": [
            "Train Epoch 2: 100%|██████████| 77/77 [00:51<00:00,  1.51it/s, WMAPE=1.7, DICE=0.054, DPEAKS=28.1, Loss=0.0052]\n",
            "Validate Epoch 2: 100%|██████████| 20/20 [00:06<00:00,  3.10it/s, WMAPE=1.69, DICE=0.0566, DPEAKS=32.9, Loss=0.00532]\n"
          ]
        },
        {
          "name": "stdout",
          "output_type": "stream",
          "text": [
            "Saving best model\n",
            "Epoch [3/50]\n"
          ]
        },
        {
          "name": "stderr",
          "output_type": "stream",
          "text": [
            "Train Epoch 3: 100%|██████████| 77/77 [00:51<00:00,  1.51it/s, WMAPE=1.69, DICE=0.0554, DPEAKS=31.2, Loss=0.00527]\n",
            "Validate Epoch 3: 100%|██████████| 20/20 [00:06<00:00,  3.07it/s, WMAPE=1.65, DICE=0.0545, DPEAKS=33.4, Loss=0.00506]\n"
          ]
        },
        {
          "name": "stdout",
          "output_type": "stream",
          "text": [
            "Saving best model\n",
            "Epoch [4/50]\n"
          ]
        },
        {
          "name": "stderr",
          "output_type": "stream",
          "text": [
            "Train Epoch 4: 100%|██████████| 77/77 [00:51<00:00,  1.51it/s, WMAPE=1.63, DICE=0.0532, DPEAKS=25.5, Loss=0.00503]\n",
            "Validate Epoch 4: 100%|██████████| 20/20 [00:06<00:00,  3.10it/s, WMAPE=1.7, DICE=0.0558, DPEAKS=31.9, Loss=0.00537]\n"
          ]
        },
        {
          "name": "stdout",
          "output_type": "stream",
          "text": [
            "Epoch [5/50]\n"
          ]
        },
        {
          "name": "stderr",
          "output_type": "stream",
          "text": [
            "Train Epoch 5: 100%|██████████| 77/77 [00:50<00:00,  1.51it/s, WMAPE=1.62, DICE=0.0532, DPEAKS=27.2, Loss=0.005]\n",
            "Validate Epoch 5: 100%|██████████| 20/20 [00:06<00:00,  3.10it/s, WMAPE=3.69, DICE=0.0535, DPEAKS=31.4, Loss=0.0105]\n"
          ]
        },
        {
          "name": "stdout",
          "output_type": "stream",
          "text": [
            "Epoch [6/50]\n"
          ]
        },
        {
          "name": "stderr",
          "output_type": "stream",
          "text": [
            "Train Epoch 6: 100%|██████████| 77/77 [00:51<00:00,  1.51it/s, WMAPE=1.67, DICE=0.054, DPEAKS=27.5, Loss=0.00516]\n",
            "Validate Epoch 6: 100%|██████████| 20/20 [00:06<00:00,  3.10it/s, WMAPE=1.95, DICE=0.0542, DPEAKS=34, Loss=0.00639]\n"
          ]
        },
        {
          "name": "stdout",
          "output_type": "stream",
          "text": [
            "Epoch [7/50]\n"
          ]
        },
        {
          "name": "stderr",
          "output_type": "stream",
          "text": [
            "Train Epoch 7: 100%|██████████| 77/77 [00:51<00:00,  1.51it/s, WMAPE=1.57, DICE=0.0534, DPEAKS=28.2, Loss=0.00483]\n",
            "Validate Epoch 7: 100%|██████████| 20/20 [00:06<00:00,  3.10it/s, WMAPE=2.12, DICE=0.0554, DPEAKS=30.2, Loss=0.00659]\n"
          ]
        },
        {
          "name": "stdout",
          "output_type": "stream",
          "text": [
            "Epoch [8/50]\n"
          ]
        },
        {
          "name": "stderr",
          "output_type": "stream",
          "text": [
            "Train Epoch 8: 100%|██████████| 77/77 [00:50<00:00,  1.51it/s, WMAPE=1.54, DICE=0.0532, DPEAKS=26.2, Loss=0.00479]\n",
            "Validate Epoch 8: 100%|██████████| 20/20 [00:06<00:00,  3.10it/s, WMAPE=2.32, DICE=0.0539, DPEAKS=30.3, Loss=0.00729]\n"
          ]
        },
        {
          "name": "stdout",
          "output_type": "stream",
          "text": [
            "early stopping: 5 epochs without improvement\n",
            "Training complete.\n"
          ]
        },
        {
          "name": "stderr",
          "output_type": "stream",
          "text": [
            "Validate Epoch test: 100%|██████████| 486/486 [02:29<00:00,  3.25it/s, WMAPE=1.67, DICE=0.0545, DPEAKS=30.5, Loss=0.00508]\n"
          ]
        },
        {
          "name": "stdout",
          "output_type": "stream",
          "text": [
            "Partition 35: training decoder\n",
            "Loaded best model from partition 34\n",
            "Epoch [1/50]\n"
          ]
        },
        {
          "name": "stderr",
          "output_type": "stream",
          "text": [
            "Train Epoch 1: 100%|██████████| 77/77 [00:56<00:00,  1.37it/s, WMAPE=1.75, DICE=0.0546, DPEAKS=31.7, Loss=0.0054]\n",
            "Validate Epoch 1: 100%|██████████| 20/20 [00:07<00:00,  2.59it/s, WMAPE=1.67, DICE=0.0559, DPEAKS=31.3, Loss=0.00543]\n"
          ]
        },
        {
          "name": "stdout",
          "output_type": "stream",
          "text": [
            "Saving best model\n",
            "Epoch [2/50]\n"
          ]
        },
        {
          "name": "stderr",
          "output_type": "stream",
          "text": [
            "Train Epoch 2: 100%|██████████| 77/77 [00:51<00:00,  1.51it/s, WMAPE=1.68, DICE=0.0534, DPEAKS=31.4, Loss=0.00517]\n",
            "Validate Epoch 2: 100%|██████████| 20/20 [00:06<00:00,  3.05it/s, WMAPE=1.71, DICE=0.053, DPEAKS=27.8, Loss=0.00555]\n"
          ]
        },
        {
          "name": "stdout",
          "output_type": "stream",
          "text": [
            "Epoch [3/50]\n"
          ]
        },
        {
          "name": "stderr",
          "output_type": "stream",
          "text": [
            "Train Epoch 3: 100%|██████████| 77/77 [00:51<00:00,  1.50it/s, WMAPE=1.73, DICE=0.0534, DPEAKS=31.6, Loss=0.00532]\n",
            "Validate Epoch 3: 100%|██████████| 20/20 [00:06<00:00,  3.11it/s, WMAPE=2.95, DICE=0.0543, DPEAKS=28.1, Loss=0.00843]\n"
          ]
        },
        {
          "name": "stdout",
          "output_type": "stream",
          "text": [
            "Epoch [4/50]\n"
          ]
        },
        {
          "name": "stderr",
          "output_type": "stream",
          "text": [
            "Train Epoch 4: 100%|██████████| 77/77 [00:50<00:00,  1.51it/s, WMAPE=1.68, DICE=0.0537, DPEAKS=30.6, Loss=0.00518]\n",
            "Validate Epoch 4: 100%|██████████| 20/20 [00:06<00:00,  3.05it/s, WMAPE=1.63, DICE=0.0532, DPEAKS=28.9, Loss=0.00512]\n"
          ]
        },
        {
          "name": "stdout",
          "output_type": "stream",
          "text": [
            "Saving best model\n",
            "Epoch [5/50]\n"
          ]
        },
        {
          "name": "stderr",
          "output_type": "stream",
          "text": [
            "Train Epoch 5: 100%|██████████| 77/77 [00:51<00:00,  1.51it/s, WMAPE=1.67, DICE=0.0546, DPEAKS=31.9, Loss=0.00512]\n",
            "Validate Epoch 5: 100%|██████████| 20/20 [00:06<00:00,  3.08it/s, WMAPE=2.94, DICE=0.0544, DPEAKS=30.2, Loss=0.00877]\n"
          ]
        },
        {
          "name": "stdout",
          "output_type": "stream",
          "text": [
            "Epoch [6/50]\n"
          ]
        },
        {
          "name": "stderr",
          "output_type": "stream",
          "text": [
            "Train Epoch 6: 100%|██████████| 77/77 [00:51<00:00,  1.51it/s, WMAPE=1.64, DICE=0.0538, DPEAKS=31.6, Loss=0.00502]\n",
            "Validate Epoch 6: 100%|██████████| 20/20 [00:06<00:00,  3.10it/s, WMAPE=1.79, DICE=0.0528, DPEAKS=28.4, Loss=0.00545]\n"
          ]
        },
        {
          "name": "stdout",
          "output_type": "stream",
          "text": [
            "Epoch [7/50]\n"
          ]
        },
        {
          "name": "stderr",
          "output_type": "stream",
          "text": [
            "Train Epoch 7: 100%|██████████| 77/77 [00:51<00:00,  1.51it/s, WMAPE=1.57, DICE=0.0529, DPEAKS=29.6, Loss=0.00484]\n",
            "Validate Epoch 7: 100%|██████████| 20/20 [00:06<00:00,  3.05it/s, WMAPE=3.78, DICE=0.0545, DPEAKS=31, Loss=0.0115]\n"
          ]
        },
        {
          "name": "stdout",
          "output_type": "stream",
          "text": [
            "Epoch [8/50]\n"
          ]
        },
        {
          "name": "stderr",
          "output_type": "stream",
          "text": [
            "Train Epoch 8: 100%|██████████| 77/77 [00:50<00:00,  1.51it/s, WMAPE=1.59, DICE=0.053, DPEAKS=29.8, Loss=0.00493]\n",
            "Validate Epoch 8: 100%|██████████| 20/20 [00:06<00:00,  3.07it/s, WMAPE=2.36, DICE=0.0567, DPEAKS=32.9, Loss=0.00694]\n"
          ]
        },
        {
          "name": "stdout",
          "output_type": "stream",
          "text": [
            "Epoch [9/50]\n"
          ]
        },
        {
          "name": "stderr",
          "output_type": "stream",
          "text": [
            "Train Epoch 9: 100%|██████████| 77/77 [00:51<00:00,  1.51it/s, WMAPE=1.57, DICE=0.0551, DPEAKS=35.2, Loss=0.00491]\n",
            "Validate Epoch 9: 100%|██████████| 20/20 [00:06<00:00,  3.11it/s, WMAPE=6.37, DICE=0.0567, DPEAKS=29.5, Loss=0.0191]\n"
          ]
        },
        {
          "name": "stdout",
          "output_type": "stream",
          "text": [
            "early stopping: 5 epochs without improvement\n",
            "Training complete.\n"
          ]
        },
        {
          "name": "stderr",
          "output_type": "stream",
          "text": [
            "Validate Epoch test: 100%|██████████| 486/486 [02:30<00:00,  3.24it/s, WMAPE=1.66, DICE=0.0533, DPEAKS=30.4, Loss=0.0051]\n"
          ]
        },
        {
          "name": "stdout",
          "output_type": "stream",
          "text": [
            "Partition 36: training full\n",
            "Loaded best model from partition 35\n",
            "Epoch [1/50]\n"
          ]
        },
        {
          "name": "stderr",
          "output_type": "stream",
          "text": [
            "Train Epoch 1: 100%|██████████| 77/77 [00:58<00:00,  1.31it/s, WMAPE=1.8, DICE=0.0558, DPEAKS=31.8, Loss=0.00549]\n",
            "Validate Epoch 1: 100%|██████████| 20/20 [00:07<00:00,  2.58it/s, WMAPE=5.16, DICE=0.0572, DPEAKS=37.4, Loss=0.0157]\n"
          ]
        },
        {
          "name": "stdout",
          "output_type": "stream",
          "text": [
            "Saving best model\n",
            "Epoch [2/50]\n"
          ]
        },
        {
          "name": "stderr",
          "output_type": "stream",
          "text": [
            "Train Epoch 2: 100%|██████████| 77/77 [00:53<00:00,  1.45it/s, WMAPE=1.76, DICE=0.0552, DPEAKS=32.1, Loss=0.00537]\n",
            "Validate Epoch 2: 100%|██████████| 20/20 [00:06<00:00,  3.09it/s, WMAPE=4.87, DICE=0.0562, DPEAKS=34.3, Loss=0.0148]\n"
          ]
        },
        {
          "name": "stdout",
          "output_type": "stream",
          "text": [
            "Saving best model\n",
            "Epoch [3/50]\n"
          ]
        },
        {
          "name": "stderr",
          "output_type": "stream",
          "text": [
            "Train Epoch 3: 100%|██████████| 77/77 [00:53<00:00,  1.45it/s, WMAPE=1.74, DICE=0.0612, DPEAKS=37.8, Loss=0.00535]\n",
            "Validate Epoch 3: 100%|██████████| 20/20 [00:06<00:00,  3.09it/s, WMAPE=6.1, DICE=0.0603, DPEAKS=36.9, Loss=0.0176]\n"
          ]
        },
        {
          "name": "stdout",
          "output_type": "stream",
          "text": [
            "Epoch [4/50]\n"
          ]
        },
        {
          "name": "stderr",
          "output_type": "stream",
          "text": [
            "Train Epoch 4: 100%|██████████| 77/77 [00:53<00:00,  1.43it/s, WMAPE=1.64, DICE=0.0552, DPEAKS=32.4, Loss=0.00494]\n",
            "Validate Epoch 4: 100%|██████████| 20/20 [00:06<00:00,  3.08it/s, WMAPE=1.79, DICE=0.059, DPEAKS=35.4, Loss=0.00548]\n"
          ]
        },
        {
          "name": "stdout",
          "output_type": "stream",
          "text": [
            "Saving best model\n",
            "Epoch [5/50]\n"
          ]
        },
        {
          "name": "stderr",
          "output_type": "stream",
          "text": [
            "Train Epoch 5: 100%|██████████| 77/77 [00:53<00:00,  1.44it/s, WMAPE=1.52, DICE=0.0538, DPEAKS=30.8, Loss=0.00464]\n",
            "Validate Epoch 5: 100%|██████████| 20/20 [00:06<00:00,  3.10it/s, WMAPE=2.14, DICE=0.0543, DPEAKS=31.4, Loss=0.00634]\n"
          ]
        },
        {
          "name": "stdout",
          "output_type": "stream",
          "text": [
            "Epoch [6/50]\n"
          ]
        },
        {
          "name": "stderr",
          "output_type": "stream",
          "text": [
            "Train Epoch 6: 100%|██████████| 77/77 [00:53<00:00,  1.44it/s, WMAPE=1.43, DICE=0.0528, DPEAKS=29.7, Loss=0.00444]\n",
            "Validate Epoch 6: 100%|██████████| 20/20 [00:06<00:00,  3.08it/s, WMAPE=1.94, DICE=0.0535, DPEAKS=32.8, Loss=0.00585]\n"
          ]
        },
        {
          "name": "stdout",
          "output_type": "stream",
          "text": [
            "Epoch [7/50]\n"
          ]
        },
        {
          "name": "stderr",
          "output_type": "stream",
          "text": [
            "Train Epoch 7: 100%|██████████| 77/77 [00:53<00:00,  1.44it/s, WMAPE=1.56, DICE=0.0619, DPEAKS=36.5, Loss=0.00485]\n",
            "Validate Epoch 7: 100%|██████████| 20/20 [00:06<00:00,  3.10it/s, WMAPE=4.15, DICE=0.119, DPEAKS=80, Loss=0.0139]\n"
          ]
        },
        {
          "name": "stdout",
          "output_type": "stream",
          "text": [
            "Epoch [8/50]\n"
          ]
        },
        {
          "name": "stderr",
          "output_type": "stream",
          "text": [
            "Train Epoch 8: 100%|██████████| 77/77 [00:53<00:00,  1.45it/s, WMAPE=1.83, DICE=0.0692, DPEAKS=46.5, Loss=0.00571]\n",
            "Validate Epoch 8: 100%|██████████| 20/20 [00:06<00:00,  3.08it/s, WMAPE=2.08, DICE=0.0622, DPEAKS=42.6, Loss=0.00649]\n"
          ]
        },
        {
          "name": "stdout",
          "output_type": "stream",
          "text": [
            "Epoch [9/50]\n"
          ]
        },
        {
          "name": "stderr",
          "output_type": "stream",
          "text": [
            "Train Epoch 9: 100%|██████████| 77/77 [00:53<00:00,  1.44it/s, WMAPE=1.49, DICE=0.0559, DPEAKS=33.2, Loss=0.00462]\n",
            "Validate Epoch 9: 100%|██████████| 20/20 [00:06<00:00,  3.08it/s, WMAPE=2.83, DICE=0.0551, DPEAKS=35.9, Loss=0.00877]\n"
          ]
        },
        {
          "name": "stdout",
          "output_type": "stream",
          "text": [
            "early stopping: 5 epochs without improvement\n",
            "Training complete.\n"
          ]
        },
        {
          "name": "stderr",
          "output_type": "stream",
          "text": [
            "Validate Epoch test: 100%|██████████| 486/486 [02:29<00:00,  3.26it/s, WMAPE=1.76, DICE=0.0589, DPEAKS=36.2, Loss=0.00548]\n"
          ]
        },
        {
          "name": "stdout",
          "output_type": "stream",
          "text": [
            "Partition 37: training decoder\n",
            "Loaded best model from partition 36\n",
            "Epoch [1/50]\n"
          ]
        },
        {
          "name": "stderr",
          "output_type": "stream",
          "text": [
            "Train Epoch 1: 100%|██████████| 77/77 [00:56<00:00,  1.36it/s, WMAPE=1.81, DICE=0.055, DPEAKS=31.2, Loss=0.00547]\n",
            "Validate Epoch 1: 100%|██████████| 20/20 [00:07<00:00,  2.56it/s, WMAPE=1.73, DICE=0.0541, DPEAKS=28.7, Loss=0.00506]\n"
          ]
        },
        {
          "name": "stdout",
          "output_type": "stream",
          "text": [
            "Saving best model\n",
            "Epoch [2/50]\n"
          ]
        },
        {
          "name": "stderr",
          "output_type": "stream",
          "text": [
            "Train Epoch 2: 100%|██████████| 77/77 [00:51<00:00,  1.51it/s, WMAPE=1.73, DICE=0.0532, DPEAKS=28.7, Loss=0.00524]\n",
            "Validate Epoch 2: 100%|██████████| 20/20 [00:06<00:00,  3.10it/s, WMAPE=2.01, DICE=0.0549, DPEAKS=29, Loss=0.00579]\n"
          ]
        },
        {
          "name": "stdout",
          "output_type": "stream",
          "text": [
            "Epoch [3/50]\n"
          ]
        },
        {
          "name": "stderr",
          "output_type": "stream",
          "text": [
            "Train Epoch 3: 100%|██████████| 77/77 [00:51<00:00,  1.51it/s, WMAPE=1.75, DICE=0.054, DPEAKS=30.3, Loss=0.00528]\n",
            "Validate Epoch 3: 100%|██████████| 20/20 [00:06<00:00,  3.10it/s, WMAPE=3.49, DICE=0.057, DPEAKS=29.9, Loss=0.00939]\n"
          ]
        },
        {
          "name": "stdout",
          "output_type": "stream",
          "text": [
            "Epoch [4/50]\n"
          ]
        },
        {
          "name": "stderr",
          "output_type": "stream",
          "text": [
            "Train Epoch 4: 100%|██████████| 77/77 [00:51<00:00,  1.51it/s, WMAPE=1.74, DICE=0.0569, DPEAKS=34.4, Loss=0.0053]\n",
            "Validate Epoch 4: 100%|██████████| 20/20 [00:06<00:00,  3.06it/s, WMAPE=3.29, DICE=0.0609, DPEAKS=36.9, Loss=0.00912]\n"
          ]
        },
        {
          "name": "stdout",
          "output_type": "stream",
          "text": [
            "Epoch [5/50]\n"
          ]
        },
        {
          "name": "stderr",
          "output_type": "stream",
          "text": [
            "Train Epoch 5: 100%|██████████| 77/77 [00:51<00:00,  1.51it/s, WMAPE=1.71, DICE=0.0549, DPEAKS=31.9, Loss=0.00517]\n",
            "Validate Epoch 5: 100%|██████████| 20/20 [00:06<00:00,  3.06it/s, WMAPE=3.49, DICE=0.0556, DPEAKS=30.7, Loss=0.0103]\n"
          ]
        },
        {
          "name": "stdout",
          "output_type": "stream",
          "text": [
            "Epoch [6/50]\n"
          ]
        },
        {
          "name": "stderr",
          "output_type": "stream",
          "text": [
            "Train Epoch 6: 100%|██████████| 77/77 [00:50<00:00,  1.51it/s, WMAPE=1.65, DICE=0.0533, DPEAKS=28.9, Loss=0.00498]\n",
            "Validate Epoch 6: 100%|██████████| 20/20 [00:06<00:00,  3.07it/s, WMAPE=2.01, DICE=0.0539, DPEAKS=27.1, Loss=0.00584]\n"
          ]
        },
        {
          "name": "stdout",
          "output_type": "stream",
          "text": [
            "Epoch [7/50]\n"
          ]
        },
        {
          "name": "stderr",
          "output_type": "stream",
          "text": [
            "Train Epoch 7: 100%|██████████| 77/77 [00:51<00:00,  1.51it/s, WMAPE=1.6, DICE=0.0528, DPEAKS=28.7, Loss=0.00485]\n",
            "Validate Epoch 7: 100%|██████████| 20/20 [00:06<00:00,  3.09it/s, WMAPE=2.22, DICE=0.0542, DPEAKS=31.7, Loss=0.00644]\n"
          ]
        },
        {
          "name": "stdout",
          "output_type": "stream",
          "text": [
            "Epoch [8/50]\n"
          ]
        },
        {
          "name": "stderr",
          "output_type": "stream",
          "text": [
            "Train Epoch 8: 100%|██████████| 77/77 [00:51<00:00,  1.51it/s, WMAPE=1.55, DICE=0.0525, DPEAKS=27.9, Loss=0.0047]\n",
            "Validate Epoch 8: 100%|██████████| 20/20 [00:06<00:00,  3.09it/s, WMAPE=2.4, DICE=0.0529, DPEAKS=27, Loss=0.00695]\n"
          ]
        },
        {
          "name": "stdout",
          "output_type": "stream",
          "text": [
            "early stopping: 7 epochs without improvement\n",
            "Training complete.\n"
          ]
        },
        {
          "name": "stderr",
          "output_type": "stream",
          "text": [
            "Validate Epoch test: 100%|██████████| 486/486 [02:29<00:00,  3.25it/s, WMAPE=1.71, DICE=0.0542, DPEAKS=30.7, Loss=0.00511]\n"
          ]
        },
        {
          "name": "stdout",
          "output_type": "stream",
          "text": [
            "Partition 38: training decoder\n",
            "Loaded best model from partition 37\n",
            "Epoch [1/50]\n"
          ]
        },
        {
          "name": "stderr",
          "output_type": "stream",
          "text": [
            "Train Epoch 1: 100%|██████████| 77/77 [00:56<00:00,  1.37it/s, WMAPE=1.68, DICE=0.0539, DPEAKS=29.6, Loss=0.00525]\n",
            "Validate Epoch 1: 100%|██████████| 20/20 [00:07<00:00,  2.57it/s, WMAPE=1.89, DICE=0.0531, DPEAKS=31.2, Loss=0.00598]\n"
          ]
        },
        {
          "name": "stdout",
          "output_type": "stream",
          "text": [
            "Saving best model\n",
            "Epoch [2/50]\n"
          ]
        },
        {
          "name": "stderr",
          "output_type": "stream",
          "text": [
            "Train Epoch 2: 100%|██████████| 77/77 [00:50<00:00,  1.51it/s, WMAPE=1.67, DICE=0.0539, DPEAKS=29.5, Loss=0.00519]\n",
            "Validate Epoch 2: 100%|██████████| 20/20 [00:06<00:00,  3.05it/s, WMAPE=1.91, DICE=0.0542, DPEAKS=30, Loss=0.00568]\n"
          ]
        },
        {
          "name": "stdout",
          "output_type": "stream",
          "text": [
            "Saving best model\n",
            "Epoch [3/50]\n"
          ]
        },
        {
          "name": "stderr",
          "output_type": "stream",
          "text": [
            "Train Epoch 3: 100%|██████████| 77/77 [00:51<00:00,  1.51it/s, WMAPE=1.78, DICE=0.057, DPEAKS=33.7, Loss=0.00549]\n",
            "Validate Epoch 3: 100%|██████████| 20/20 [00:06<00:00,  3.07it/s, WMAPE=1.94, DICE=0.0601, DPEAKS=38.1, Loss=0.006]\n"
          ]
        },
        {
          "name": "stdout",
          "output_type": "stream",
          "text": [
            "Epoch [4/50]\n"
          ]
        },
        {
          "name": "stderr",
          "output_type": "stream",
          "text": [
            "Train Epoch 4: 100%|██████████| 77/77 [00:51<00:00,  1.51it/s, WMAPE=1.7, DICE=0.0553, DPEAKS=32.3, Loss=0.0053]\n",
            "Validate Epoch 4: 100%|██████████| 20/20 [00:06<00:00,  3.08it/s, WMAPE=1.73, DICE=0.0536, DPEAKS=30.2, Loss=0.00518]\n"
          ]
        },
        {
          "name": "stdout",
          "output_type": "stream",
          "text": [
            "Saving best model\n",
            "Epoch [5/50]\n"
          ]
        },
        {
          "name": "stderr",
          "output_type": "stream",
          "text": [
            "Train Epoch 5: 100%|██████████| 77/77 [00:51<00:00,  1.51it/s, WMAPE=1.6, DICE=0.0532, DPEAKS=28.1, Loss=0.00494]\n",
            "Validate Epoch 5: 100%|██████████| 20/20 [00:06<00:00,  3.07it/s, WMAPE=1.72, DICE=0.0543, DPEAKS=30.6, Loss=0.00528]\n"
          ]
        },
        {
          "name": "stdout",
          "output_type": "stream",
          "text": [
            "Epoch [6/50]\n"
          ]
        },
        {
          "name": "stderr",
          "output_type": "stream",
          "text": [
            "Train Epoch 6: 100%|██████████| 77/77 [00:51<00:00,  1.51it/s, WMAPE=1.6, DICE=0.0531, DPEAKS=29.3, Loss=0.00495]\n",
            "Validate Epoch 6: 100%|██████████| 20/20 [00:06<00:00,  3.05it/s, WMAPE=1.78, DICE=0.0534, DPEAKS=30.4, Loss=0.00556]\n"
          ]
        },
        {
          "name": "stdout",
          "output_type": "stream",
          "text": [
            "Epoch [7/50]\n"
          ]
        },
        {
          "name": "stderr",
          "output_type": "stream",
          "text": [
            "Train Epoch 7: 100%|██████████| 77/77 [00:51<00:00,  1.51it/s, WMAPE=1.61, DICE=0.0533, DPEAKS=27.8, Loss=0.00498]\n",
            "Validate Epoch 7: 100%|██████████| 20/20 [00:06<00:00,  3.08it/s, WMAPE=6.41, DICE=0.0541, DPEAKS=35.2, Loss=0.019]\n"
          ]
        },
        {
          "name": "stdout",
          "output_type": "stream",
          "text": [
            "Epoch [8/50]\n"
          ]
        },
        {
          "name": "stderr",
          "output_type": "stream",
          "text": [
            "Train Epoch 8: 100%|██████████| 77/77 [00:51<00:00,  1.51it/s, WMAPE=1.58, DICE=0.0532, DPEAKS=28.8, Loss=0.00491]\n",
            "Validate Epoch 8: 100%|██████████| 20/20 [00:06<00:00,  3.11it/s, WMAPE=3.93, DICE=0.0564, DPEAKS=33.2, Loss=0.0111]\n"
          ]
        },
        {
          "name": "stdout",
          "output_type": "stream",
          "text": [
            "Epoch [9/50]\n"
          ]
        },
        {
          "name": "stderr",
          "output_type": "stream",
          "text": [
            "Train Epoch 9: 100%|██████████| 77/77 [00:51<00:00,  1.50it/s, WMAPE=1.57, DICE=0.054, DPEAKS=30.9, Loss=0.00484]\n",
            "Validate Epoch 9: 100%|██████████| 20/20 [00:06<00:00,  3.09it/s, WMAPE=1.93, DICE=0.0562, DPEAKS=32.1, Loss=0.00588]\n"
          ]
        },
        {
          "name": "stdout",
          "output_type": "stream",
          "text": [
            "early stopping: 5 epochs without improvement\n",
            "Training complete.\n"
          ]
        },
        {
          "name": "stderr",
          "output_type": "stream",
          "text": [
            "Validate Epoch test: 100%|██████████| 486/486 [02:29<00:00,  3.26it/s, WMAPE=1.74, DICE=0.0538, DPEAKS=31.1, Loss=0.00524]\n"
          ]
        },
        {
          "name": "stdout",
          "output_type": "stream",
          "text": [
            "Partition 39: training decoder\n",
            "Loaded best model from partition 38\n",
            "Epoch [1/50]\n"
          ]
        },
        {
          "name": "stderr",
          "output_type": "stream",
          "text": [
            "Train Epoch 1: 100%|██████████| 77/77 [00:56<00:00,  1.37it/s, WMAPE=1.74, DICE=0.0545, DPEAKS=32.7, Loss=0.00548]\n",
            "Validate Epoch 1: 100%|██████████| 20/20 [00:07<00:00,  2.57it/s, WMAPE=2.24, DICE=0.0552, DPEAKS=31.3, Loss=0.00651]\n"
          ]
        },
        {
          "name": "stdout",
          "output_type": "stream",
          "text": [
            "Saving best model\n",
            "Epoch [2/50]\n"
          ]
        },
        {
          "name": "stderr",
          "output_type": "stream",
          "text": [
            "Train Epoch 2: 100%|██████████| 77/77 [00:51<00:00,  1.50it/s, WMAPE=1.66, DICE=0.0535, DPEAKS=28.3, Loss=0.00519]\n",
            "Validate Epoch 2: 100%|██████████| 20/20 [00:06<00:00,  3.07it/s, WMAPE=1.79, DICE=0.0543, DPEAKS=32.7, Loss=0.00542]\n"
          ]
        },
        {
          "name": "stdout",
          "output_type": "stream",
          "text": [
            "Saving best model\n",
            "Epoch [3/50]\n"
          ]
        },
        {
          "name": "stderr",
          "output_type": "stream",
          "text": [
            "Train Epoch 3: 100%|██████████| 77/77 [00:51<00:00,  1.50it/s, WMAPE=1.66, DICE=0.0536, DPEAKS=31.3, Loss=0.00514]\n",
            "Validate Epoch 3: 100%|██████████| 20/20 [00:06<00:00,  3.10it/s, WMAPE=1.77, DICE=0.0539, DPEAKS=29.7, Loss=0.00536]\n"
          ]
        },
        {
          "name": "stdout",
          "output_type": "stream",
          "text": [
            "Saving best model\n",
            "Epoch [4/50]\n"
          ]
        },
        {
          "name": "stderr",
          "output_type": "stream",
          "text": [
            "Train Epoch 4: 100%|██████████| 77/77 [00:50<00:00,  1.51it/s, WMAPE=1.61, DICE=0.0528, DPEAKS=29, Loss=0.00499]\n",
            "Validate Epoch 4: 100%|██████████| 20/20 [00:06<00:00,  3.06it/s, WMAPE=3.07, DICE=0.0543, DPEAKS=30.1, Loss=0.00873]\n"
          ]
        },
        {
          "name": "stdout",
          "output_type": "stream",
          "text": [
            "Epoch [5/50]\n"
          ]
        },
        {
          "name": "stderr",
          "output_type": "stream",
          "text": [
            "Train Epoch 5: 100%|██████████| 77/77 [00:51<00:00,  1.51it/s, WMAPE=1.65, DICE=0.0556, DPEAKS=32, Loss=0.00519]\n",
            "Validate Epoch 5: 100%|██████████| 20/20 [00:06<00:00,  3.09it/s, WMAPE=2.67, DICE=0.0917, DPEAKS=70.1, Loss=0.00831]\n"
          ]
        },
        {
          "name": "stdout",
          "output_type": "stream",
          "text": [
            "Epoch [6/50]\n"
          ]
        },
        {
          "name": "stderr",
          "output_type": "stream",
          "text": [
            "Train Epoch 6: 100%|██████████| 77/77 [00:51<00:00,  1.51it/s, WMAPE=1.78, DICE=0.0616, DPEAKS=37.3, Loss=0.00557]\n",
            "Validate Epoch 6: 100%|██████████| 20/20 [00:06<00:00,  3.09it/s, WMAPE=1.98, DICE=0.0564, DPEAKS=35.4, Loss=0.00586]\n"
          ]
        },
        {
          "name": "stdout",
          "output_type": "stream",
          "text": [
            "Epoch [7/50]\n"
          ]
        },
        {
          "name": "stderr",
          "output_type": "stream",
          "text": [
            "Train Epoch 7: 100%|██████████| 77/77 [00:51<00:00,  1.51it/s, WMAPE=1.65, DICE=0.0545, DPEAKS=30.1, Loss=0.00515]\n",
            "Validate Epoch 7: 100%|██████████| 20/20 [00:06<00:00,  3.08it/s, WMAPE=1.91, DICE=0.0544, DPEAKS=32.1, Loss=0.00561]\n"
          ]
        },
        {
          "name": "stdout",
          "output_type": "stream",
          "text": [
            "Epoch [8/50]\n"
          ]
        },
        {
          "name": "stderr",
          "output_type": "stream",
          "text": [
            "Train Epoch 8: 100%|██████████| 77/77 [00:51<00:00,  1.51it/s, WMAPE=1.59, DICE=0.0534, DPEAKS=28.9, Loss=0.00491]\n",
            "Validate Epoch 8: 100%|██████████| 20/20 [00:06<00:00,  3.08it/s, WMAPE=1.8, DICE=0.0539, DPEAKS=32.3, Loss=0.00537]\n"
          ]
        },
        {
          "name": "stdout",
          "output_type": "stream",
          "text": [
            "early stopping: 5 epochs without improvement\n",
            "Training complete.\n"
          ]
        },
        {
          "name": "stderr",
          "output_type": "stream",
          "text": [
            "Validate Epoch test: 100%|██████████| 486/486 [02:29<00:00,  3.24it/s, WMAPE=1.76, DICE=0.0539, DPEAKS=29.6, Loss=0.00526]\n"
          ]
        }
      ],
      "source": [
        "many_partitions_v2(20,40,model,criterion,transform=transform)"
      ]
    },
    {
      "cell_type": "code",
      "execution_count": 14,
      "metadata": {},
      "outputs": [
        {
          "name": "stdout",
          "output_type": "stream",
          "text": [
            "Partition 40: training decoder\n",
            "Loaded best model from partition 39\n",
            "Epoch [1/50]\n"
          ]
        },
        {
          "name": "stderr",
          "output_type": "stream",
          "text": [
            "Train Epoch 1: 100%|██████████| 77/77 [00:56<00:00,  1.37it/s, WMAPE=1.69, DICE=0.0539, DPEAKS=31.1, Loss=0.00537]\n",
            "Validate Epoch 1: 100%|██████████| 20/20 [00:07<00:00,  2.53it/s, WMAPE=1.92, DICE=0.0547, DPEAKS=33, Loss=0.00583]\n"
          ]
        },
        {
          "name": "stdout",
          "output_type": "stream",
          "text": [
            "Saving best model\n",
            "Epoch [2/50]\n"
          ]
        },
        {
          "name": "stderr",
          "output_type": "stream",
          "text": [
            "Train Epoch 2: 100%|██████████| 77/77 [00:50<00:00,  1.51it/s, WMAPE=1.65, DICE=0.0532, DPEAKS=30, Loss=0.00517]\n",
            "Validate Epoch 2: 100%|██████████| 20/20 [00:06<00:00,  3.08it/s, WMAPE=1.67, DICE=0.054, DPEAKS=33.7, Loss=0.00534]\n"
          ]
        },
        {
          "name": "stdout",
          "output_type": "stream",
          "text": [
            "Saving best model\n",
            "Epoch [3/50]\n"
          ]
        },
        {
          "name": "stderr",
          "output_type": "stream",
          "text": [
            "Train Epoch 3: 100%|██████████| 77/77 [00:50<00:00,  1.51it/s, WMAPE=1.69, DICE=0.0572, DPEAKS=33.7, Loss=0.00531]\n",
            "Validate Epoch 3: 100%|██████████| 20/20 [00:06<00:00,  3.05it/s, WMAPE=2.08, DICE=0.0587, DPEAKS=35.3, Loss=0.00629]\n"
          ]
        },
        {
          "name": "stdout",
          "output_type": "stream",
          "text": [
            "Epoch [4/50]\n"
          ]
        },
        {
          "name": "stderr",
          "output_type": "stream",
          "text": [
            "Train Epoch 4: 100%|██████████| 77/77 [00:50<00:00,  1.51it/s, WMAPE=1.62, DICE=0.0538, DPEAKS=30.5, Loss=0.00508]\n",
            "Validate Epoch 4: 100%|██████████| 20/20 [00:06<00:00,  3.04it/s, WMAPE=1.87, DICE=0.0534, DPEAKS=30.7, Loss=0.0056]\n"
          ]
        },
        {
          "name": "stdout",
          "output_type": "stream",
          "text": [
            "Epoch [5/50]\n"
          ]
        },
        {
          "name": "stderr",
          "output_type": "stream",
          "text": [
            "Train Epoch 5: 100%|██████████| 77/77 [00:50<00:00,  1.51it/s, WMAPE=1.6, DICE=0.0527, DPEAKS=29.6, Loss=0.00501]\n",
            "Validate Epoch 5: 100%|██████████| 20/20 [00:06<00:00,  3.10it/s, WMAPE=1.98, DICE=0.0536, DPEAKS=29.3, Loss=0.00595]\n"
          ]
        },
        {
          "name": "stdout",
          "output_type": "stream",
          "text": [
            "Epoch [6/50]\n"
          ]
        },
        {
          "name": "stderr",
          "output_type": "stream",
          "text": [
            "Train Epoch 6: 100%|██████████| 77/77 [00:51<00:00,  1.51it/s, WMAPE=1.59, DICE=0.0526, DPEAKS=28.9, Loss=0.005]\n",
            "Validate Epoch 6: 100%|██████████| 20/20 [00:06<00:00,  3.07it/s, WMAPE=1.89, DICE=0.0533, DPEAKS=30, Loss=0.00595]\n"
          ]
        },
        {
          "name": "stdout",
          "output_type": "stream",
          "text": [
            "Epoch [7/50]\n"
          ]
        },
        {
          "name": "stderr",
          "output_type": "stream",
          "text": [
            "Train Epoch 7: 100%|██████████| 77/77 [00:51<00:00,  1.50it/s, WMAPE=1.56, DICE=0.0528, DPEAKS=29.3, Loss=0.0049]\n",
            "Validate Epoch 7: 100%|██████████| 20/20 [00:06<00:00,  3.06it/s, WMAPE=1.68, DICE=0.0527, DPEAKS=30.8, Loss=0.00525]\n"
          ]
        },
        {
          "name": "stdout",
          "output_type": "stream",
          "text": [
            "Saving best model\n",
            "Epoch [8/50]\n"
          ]
        },
        {
          "name": "stderr",
          "output_type": "stream",
          "text": [
            "Train Epoch 8: 100%|██████████| 77/77 [00:50<00:00,  1.51it/s, WMAPE=1.52, DICE=0.0522, DPEAKS=29.3, Loss=0.00475]\n",
            "Validate Epoch 8: 100%|██████████| 20/20 [00:06<00:00,  3.09it/s, WMAPE=3.57, DICE=0.0525, DPEAKS=31.3, Loss=0.0108]\n"
          ]
        },
        {
          "name": "stdout",
          "output_type": "stream",
          "text": [
            "Epoch [9/50]\n"
          ]
        },
        {
          "name": "stderr",
          "output_type": "stream",
          "text": [
            "Train Epoch 9: 100%|██████████| 77/77 [00:51<00:00,  1.51it/s, WMAPE=1.47, DICE=0.0524, DPEAKS=28.4, Loss=0.00463]\n",
            "Validate Epoch 9: 100%|██████████| 20/20 [00:06<00:00,  3.10it/s, WMAPE=1.67, DICE=0.0537, DPEAKS=30.2, Loss=0.00524]\n"
          ]
        },
        {
          "name": "stdout",
          "output_type": "stream",
          "text": [
            "Saving best model\n",
            "Epoch [10/50]\n"
          ]
        },
        {
          "name": "stderr",
          "output_type": "stream",
          "text": [
            "Train Epoch 10: 100%|██████████| 77/77 [00:51<00:00,  1.51it/s, WMAPE=1.53, DICE=0.0528, DPEAKS=30.4, Loss=0.00476]\n",
            "Validate Epoch 10: 100%|██████████| 20/20 [00:06<00:00,  3.11it/s, WMAPE=7.74, DICE=0.0613, DPEAKS=40.9, Loss=0.0228]\n"
          ]
        },
        {
          "name": "stdout",
          "output_type": "stream",
          "text": [
            "Epoch [11/50]\n"
          ]
        },
        {
          "name": "stderr",
          "output_type": "stream",
          "text": [
            "Train Epoch 11: 100%|██████████| 77/77 [00:51<00:00,  1.51it/s, WMAPE=1.84, DICE=0.0633, DPEAKS=38.4, Loss=0.00571]\n",
            "Validate Epoch 11: 100%|██████████| 20/20 [00:06<00:00,  3.07it/s, WMAPE=1.77, DICE=0.0551, DPEAKS=33.9, Loss=0.0056]\n"
          ]
        },
        {
          "name": "stdout",
          "output_type": "stream",
          "text": [
            "Epoch [12/50]\n"
          ]
        },
        {
          "name": "stderr",
          "output_type": "stream",
          "text": [
            "Train Epoch 12: 100%|██████████| 77/77 [00:51<00:00,  1.51it/s, WMAPE=1.55, DICE=0.0538, DPEAKS=29.6, Loss=0.00489]\n",
            "Validate Epoch 12: 100%|██████████| 20/20 [00:06<00:00,  3.12it/s, WMAPE=1.97, DICE=0.0531, DPEAKS=29.7, Loss=0.00613]\n"
          ]
        },
        {
          "name": "stdout",
          "output_type": "stream",
          "text": [
            "Epoch [13/50]\n"
          ]
        },
        {
          "name": "stderr",
          "output_type": "stream",
          "text": [
            "Train Epoch 13: 100%|██████████| 77/77 [00:50<00:00,  1.51it/s, WMAPE=1.54, DICE=0.0534, DPEAKS=29.3, Loss=0.00482]\n",
            "Validate Epoch 13: 100%|██████████| 20/20 [00:06<00:00,  3.07it/s, WMAPE=2.71, DICE=0.0566, DPEAKS=32.9, Loss=0.00844]\n"
          ]
        },
        {
          "name": "stdout",
          "output_type": "stream",
          "text": [
            "Epoch [14/50]\n"
          ]
        },
        {
          "name": "stderr",
          "output_type": "stream",
          "text": [
            "Train Epoch 14: 100%|██████████| 77/77 [00:50<00:00,  1.51it/s, WMAPE=1.48, DICE=0.0532, DPEAKS=29.9, Loss=0.00463]\n",
            "Validate Epoch 14: 100%|██████████| 20/20 [00:06<00:00,  3.11it/s, WMAPE=3.03, DICE=0.0528, DPEAKS=28.5, Loss=0.00956]\n"
          ]
        },
        {
          "name": "stdout",
          "output_type": "stream",
          "text": [
            "early stopping: 5 epochs without improvement\n",
            "Training complete.\n"
          ]
        },
        {
          "name": "stderr",
          "output_type": "stream",
          "text": [
            "Validate Epoch test: 100%|██████████| 486/486 [02:29<00:00,  3.25it/s, WMAPE=1.69, DICE=0.0537, DPEAKS=29.6, Loss=0.00507]\n"
          ]
        },
        {
          "name": "stdout",
          "output_type": "stream",
          "text": [
            "Partition 41: training full\n",
            "Loaded best model from partition 40\n",
            "Epoch [1/50]\n"
          ]
        },
        {
          "name": "stderr",
          "output_type": "stream",
          "text": [
            "Train Epoch 1: 100%|██████████| 77/77 [00:58<00:00,  1.31it/s, WMAPE=1.87, DICE=0.0579, DPEAKS=33.3, Loss=0.0058]\n",
            "Validate Epoch 1: 100%|██████████| 20/20 [00:07<00:00,  2.58it/s, WMAPE=1.94, DICE=0.0572, DPEAKS=31.3, Loss=0.00574]\n"
          ]
        },
        {
          "name": "stdout",
          "output_type": "stream",
          "text": [
            "Saving best model\n",
            "Epoch [2/50]\n"
          ]
        },
        {
          "name": "stderr",
          "output_type": "stream",
          "text": [
            "Train Epoch 2: 100%|██████████| 77/77 [00:53<00:00,  1.44it/s, WMAPE=1.66, DICE=0.0533, DPEAKS=28.7, Loss=0.00515]\n",
            "Validate Epoch 2: 100%|██████████| 20/20 [00:06<00:00,  3.07it/s, WMAPE=2.61, DICE=0.0563, DPEAKS=30, Loss=0.00804]\n"
          ]
        },
        {
          "name": "stdout",
          "output_type": "stream",
          "text": [
            "Epoch [3/50]\n"
          ]
        },
        {
          "name": "stderr",
          "output_type": "stream",
          "text": [
            "Train Epoch 3: 100%|██████████| 77/77 [00:53<00:00,  1.45it/s, WMAPE=1.66, DICE=0.0569, DPEAKS=32.7, Loss=0.00521]\n",
            "Validate Epoch 3: 100%|██████████| 20/20 [00:06<00:00,  3.08it/s, WMAPE=4.07, DICE=0.108, DPEAKS=74.1, Loss=0.0114]\n"
          ]
        },
        {
          "name": "stdout",
          "output_type": "stream",
          "text": [
            "Epoch [4/50]\n"
          ]
        },
        {
          "name": "stderr",
          "output_type": "stream",
          "text": [
            "Train Epoch 4: 100%|██████████| 77/77 [00:53<00:00,  1.44it/s, WMAPE=1.77, DICE=0.0627, DPEAKS=37.8, Loss=0.00555]\n",
            "Validate Epoch 4: 100%|██████████| 20/20 [00:06<00:00,  3.10it/s, WMAPE=2.58, DICE=0.0586, DPEAKS=36.7, Loss=0.00769]\n"
          ]
        },
        {
          "name": "stdout",
          "output_type": "stream",
          "text": [
            "Epoch [5/50]\n"
          ]
        },
        {
          "name": "stderr",
          "output_type": "stream",
          "text": [
            "Train Epoch 5: 100%|██████████| 77/77 [00:53<00:00,  1.44it/s, WMAPE=1.51, DICE=0.0541, DPEAKS=29.9, Loss=0.0048]\n",
            "Validate Epoch 5: 100%|██████████| 20/20 [00:06<00:00,  3.09it/s, WMAPE=5.11, DICE=0.0539, DPEAKS=30.8, Loss=0.0151]\n"
          ]
        },
        {
          "name": "stdout",
          "output_type": "stream",
          "text": [
            "Epoch [6/50]\n"
          ]
        },
        {
          "name": "stderr",
          "output_type": "stream",
          "text": [
            "Train Epoch 6: 100%|██████████| 77/77 [00:53<00:00,  1.44it/s, WMAPE=1.37, DICE=0.0521, DPEAKS=27.7, Loss=0.00433]\n",
            "Validate Epoch 6: 100%|██████████| 20/20 [00:06<00:00,  3.09it/s, WMAPE=2.5, DICE=0.0572, DPEAKS=36, Loss=0.0081]\n"
          ]
        },
        {
          "name": "stdout",
          "output_type": "stream",
          "text": [
            "Epoch [7/50]\n"
          ]
        },
        {
          "name": "stderr",
          "output_type": "stream",
          "text": [
            "Train Epoch 7: 100%|██████████| 77/77 [00:53<00:00,  1.44it/s, WMAPE=1.34, DICE=0.0516, DPEAKS=27.3, Loss=0.00418]\n",
            "Validate Epoch 7: 100%|██████████| 20/20 [00:06<00:00,  3.09it/s, WMAPE=3.21, DICE=0.0517, DPEAKS=29.7, Loss=0.00954]\n"
          ]
        },
        {
          "name": "stdout",
          "output_type": "stream",
          "text": [
            "Epoch [8/50]\n"
          ]
        },
        {
          "name": "stderr",
          "output_type": "stream",
          "text": [
            "Train Epoch 8: 100%|██████████| 77/77 [00:53<00:00,  1.44it/s, WMAPE=1.31, DICE=0.0509, DPEAKS=27.2, Loss=0.00415]\n",
            "Validate Epoch 8: 100%|██████████| 20/20 [00:06<00:00,  3.09it/s, WMAPE=2.01, DICE=0.0598, DPEAKS=42.3, Loss=0.0064]\n"
          ]
        },
        {
          "name": "stdout",
          "output_type": "stream",
          "text": [
            "early stopping: 7 epochs without improvement\n",
            "Training complete.\n"
          ]
        },
        {
          "name": "stderr",
          "output_type": "stream",
          "text": [
            "Validate Epoch test: 100%|██████████| 486/486 [02:29<00:00,  3.25it/s, WMAPE=1.93, DICE=0.0571, DPEAKS=35, Loss=0.00574]\n"
          ]
        },
        {
          "name": "stdout",
          "output_type": "stream",
          "text": [
            "Partition 42: training decoder\n",
            "Loaded best model from partition 41\n",
            "Epoch [1/50]\n"
          ]
        },
        {
          "name": "stderr",
          "output_type": "stream",
          "text": [
            "Train Epoch 1: 100%|██████████| 77/77 [00:56<00:00,  1.36it/s, WMAPE=1.75, DICE=0.0533, DPEAKS=29.2, Loss=0.00535]\n",
            "Validate Epoch 1: 100%|██████████| 20/20 [00:07<00:00,  2.59it/s, WMAPE=2.07, DICE=0.0547, DPEAKS=31.9, Loss=0.00606]\n"
          ]
        },
        {
          "name": "stdout",
          "output_type": "stream",
          "text": [
            "Saving best model\n",
            "Epoch [2/50]\n"
          ]
        },
        {
          "name": "stderr",
          "output_type": "stream",
          "text": [
            "Train Epoch 2: 100%|██████████| 77/77 [00:51<00:00,  1.51it/s, WMAPE=1.63, DICE=0.0531, DPEAKS=28.6, Loss=0.00499]\n",
            "Validate Epoch 2: 100%|██████████| 20/20 [00:06<00:00,  3.09it/s, WMAPE=1.58, DICE=0.0526, DPEAKS=30.5, Loss=0.00492]\n"
          ]
        },
        {
          "name": "stdout",
          "output_type": "stream",
          "text": [
            "Saving best model\n",
            "Epoch [3/50]\n"
          ]
        },
        {
          "name": "stderr",
          "output_type": "stream",
          "text": [
            "Train Epoch 3: 100%|██████████| 77/77 [00:51<00:00,  1.51it/s, WMAPE=1.6, DICE=0.053, DPEAKS=28.9, Loss=0.00494]\n",
            "Validate Epoch 3: 100%|██████████| 20/20 [00:06<00:00,  3.09it/s, WMAPE=1.72, DICE=0.0537, DPEAKS=30.2, Loss=0.00521]\n"
          ]
        },
        {
          "name": "stdout",
          "output_type": "stream",
          "text": [
            "Epoch [4/50]\n"
          ]
        },
        {
          "name": "stderr",
          "output_type": "stream",
          "text": [
            "Train Epoch 4: 100%|██████████| 77/77 [00:51<00:00,  1.51it/s, WMAPE=1.68, DICE=0.0575, DPEAKS=33.6, Loss=0.00525]\n",
            "Validate Epoch 4: 100%|██████████| 20/20 [00:06<00:00,  3.08it/s, WMAPE=5.12, DICE=0.108, DPEAKS=86.6, Loss=0.0159]\n"
          ]
        },
        {
          "name": "stdout",
          "output_type": "stream",
          "text": [
            "Epoch [5/50]\n"
          ]
        },
        {
          "name": "stderr",
          "output_type": "stream",
          "text": [
            "Train Epoch 5: 100%|██████████| 77/77 [00:50<00:00,  1.51it/s, WMAPE=1.99, DICE=0.0731, DPEAKS=46.2, Loss=0.00614]\n",
            "Validate Epoch 5: 100%|██████████| 20/20 [00:06<00:00,  3.08it/s, WMAPE=1.97, DICE=0.0598, DPEAKS=38.9, Loss=0.00576]\n"
          ]
        },
        {
          "name": "stdout",
          "output_type": "stream",
          "text": [
            "Epoch [6/50]\n"
          ]
        },
        {
          "name": "stderr",
          "output_type": "stream",
          "text": [
            "Train Epoch 6: 100%|██████████| 77/77 [00:51<00:00,  1.51it/s, WMAPE=1.65, DICE=0.0568, DPEAKS=32, Loss=0.00508]\n",
            "Validate Epoch 6: 100%|██████████| 20/20 [00:06<00:00,  3.11it/s, WMAPE=1.64, DICE=0.0548, DPEAKS=34.4, Loss=0.00516]\n"
          ]
        },
        {
          "name": "stdout",
          "output_type": "stream",
          "text": [
            "Epoch [7/50]\n"
          ]
        },
        {
          "name": "stderr",
          "output_type": "stream",
          "text": [
            "Train Epoch 7: 100%|██████████| 77/77 [00:51<00:00,  1.51it/s, WMAPE=1.66, DICE=0.0543, DPEAKS=29.2, Loss=0.00508]\n",
            "Validate Epoch 7: 100%|██████████| 20/20 [00:06<00:00,  3.07it/s, WMAPE=2.02, DICE=0.0539, DPEAKS=33.2, Loss=0.0063]\n"
          ]
        },
        {
          "name": "stdout",
          "output_type": "stream",
          "text": [
            "Epoch [8/50]\n"
          ]
        },
        {
          "name": "stderr",
          "output_type": "stream",
          "text": [
            "Train Epoch 8: 100%|██████████| 77/77 [00:51<00:00,  1.51it/s, WMAPE=1.6, DICE=0.0532, DPEAKS=28, Loss=0.00494]\n",
            "Validate Epoch 8: 100%|██████████| 20/20 [00:06<00:00,  3.07it/s, WMAPE=1.98, DICE=0.0526, DPEAKS=32.5, Loss=0.0062]\n"
          ]
        },
        {
          "name": "stdout",
          "output_type": "stream",
          "text": [
            "early stopping: 6 epochs without improvement\n",
            "Training complete.\n"
          ]
        },
        {
          "name": "stderr",
          "output_type": "stream",
          "text": [
            "Validate Epoch test: 100%|██████████| 486/486 [02:29<00:00,  3.25it/s, WMAPE=1.62, DICE=0.0525, DPEAKS=29.2, Loss=0.00487]\n"
          ]
        },
        {
          "name": "stdout",
          "output_type": "stream",
          "text": [
            "Partition 43: training decoder\n",
            "Loaded best model from partition 42\n",
            "Epoch [1/50]\n"
          ]
        },
        {
          "name": "stderr",
          "output_type": "stream",
          "text": [
            "Train Epoch 1: 100%|██████████| 77/77 [00:56<00:00,  1.36it/s, WMAPE=1.69, DICE=0.0533, DPEAKS=30.9, Loss=0.0053]\n",
            "Validate Epoch 1: 100%|██████████| 20/20 [00:07<00:00,  2.52it/s, WMAPE=1.61, DICE=0.053, DPEAKS=30.1, Loss=0.00496]\n"
          ]
        },
        {
          "name": "stdout",
          "output_type": "stream",
          "text": [
            "Saving best model\n",
            "Epoch [2/50]\n"
          ]
        },
        {
          "name": "stderr",
          "output_type": "stream",
          "text": [
            "Train Epoch 2: 100%|██████████| 77/77 [00:51<00:00,  1.51it/s, WMAPE=1.64, DICE=0.0521, DPEAKS=29.3, Loss=0.00514]\n",
            "Validate Epoch 2: 100%|██████████| 20/20 [00:06<00:00,  3.08it/s, WMAPE=1.65, DICE=0.0522, DPEAKS=33.5, Loss=0.00499]\n"
          ]
        },
        {
          "name": "stdout",
          "output_type": "stream",
          "text": [
            "Epoch [3/50]\n"
          ]
        },
        {
          "name": "stderr",
          "output_type": "stream",
          "text": [
            "Train Epoch 3: 100%|██████████| 77/77 [00:51<00:00,  1.50it/s, WMAPE=1.6, DICE=0.0519, DPEAKS=28.5, Loss=0.00503]\n",
            "Validate Epoch 3: 100%|██████████| 20/20 [00:06<00:00,  3.07it/s, WMAPE=1.98, DICE=0.0529, DPEAKS=30.1, Loss=0.00634]\n"
          ]
        },
        {
          "name": "stdout",
          "output_type": "stream",
          "text": [
            "Epoch [4/50]\n"
          ]
        },
        {
          "name": "stderr",
          "output_type": "stream",
          "text": [
            "Train Epoch 4: 100%|██████████| 77/77 [00:50<00:00,  1.51it/s, WMAPE=1.63, DICE=0.0527, DPEAKS=29.2, Loss=0.0051]\n",
            "Validate Epoch 4: 100%|██████████| 20/20 [00:06<00:00,  3.08it/s, WMAPE=2.2, DICE=0.0642, DPEAKS=44.2, Loss=0.00664]\n"
          ]
        },
        {
          "name": "stdout",
          "output_type": "stream",
          "text": [
            "Epoch [5/50]\n"
          ]
        },
        {
          "name": "stderr",
          "output_type": "stream",
          "text": [
            "Train Epoch 5: 100%|██████████| 77/77 [00:51<00:00,  1.51it/s, WMAPE=1.88, DICE=0.0676, DPEAKS=45.7, Loss=0.00588]\n",
            "Validate Epoch 5: 100%|██████████| 20/20 [00:06<00:00,  3.08it/s, WMAPE=1.65, DICE=0.056, DPEAKS=34.9, Loss=0.00525]\n"
          ]
        },
        {
          "name": "stdout",
          "output_type": "stream",
          "text": [
            "Epoch [6/50]\n"
          ]
        },
        {
          "name": "stderr",
          "output_type": "stream",
          "text": [
            "Train Epoch 6: 100%|██████████| 77/77 [00:51<00:00,  1.51it/s, WMAPE=1.65, DICE=0.0538, DPEAKS=30.2, Loss=0.00512]\n",
            "Validate Epoch 6: 100%|██████████| 20/20 [00:06<00:00,  3.08it/s, WMAPE=2.59, DICE=0.054, DPEAKS=30.5, Loss=0.00805]\n"
          ]
        },
        {
          "name": "stdout",
          "output_type": "stream",
          "text": [
            "Epoch [7/50]\n"
          ]
        },
        {
          "name": "stderr",
          "output_type": "stream",
          "text": [
            "Train Epoch 7: 100%|██████████| 77/77 [00:51<00:00,  1.51it/s, WMAPE=1.58, DICE=0.0526, DPEAKS=29.4, Loss=0.00494]\n",
            "Validate Epoch 7: 100%|██████████| 20/20 [00:06<00:00,  3.08it/s, WMAPE=1.67, DICE=0.0519, DPEAKS=28.4, Loss=0.00513]\n"
          ]
        },
        {
          "name": "stdout",
          "output_type": "stream",
          "text": [
            "Epoch [8/50]\n"
          ]
        },
        {
          "name": "stderr",
          "output_type": "stream",
          "text": [
            "Train Epoch 8: 100%|██████████| 77/77 [00:51<00:00,  1.51it/s, WMAPE=1.55, DICE=0.052, DPEAKS=28.5, Loss=0.00485]\n",
            "Validate Epoch 8: 100%|██████████| 20/20 [00:06<00:00,  3.07it/s, WMAPE=2.14, DICE=0.0523, DPEAKS=28.7, Loss=0.00687]\n"
          ]
        },
        {
          "name": "stdout",
          "output_type": "stream",
          "text": [
            "early stopping: 7 epochs without improvement\n",
            "Training complete.\n"
          ]
        },
        {
          "name": "stderr",
          "output_type": "stream",
          "text": [
            "Validate Epoch test: 100%|██████████| 486/486 [02:29<00:00,  3.25it/s, WMAPE=1.64, DICE=0.0528, DPEAKS=29.6, Loss=0.00493]\n"
          ]
        },
        {
          "name": "stdout",
          "output_type": "stream",
          "text": [
            "Partition 44: training decoder\n",
            "Loaded best model from partition 43\n",
            "Epoch [1/50]\n"
          ]
        },
        {
          "name": "stderr",
          "output_type": "stream",
          "text": [
            "Train Epoch 1: 100%|██████████| 77/77 [00:56<00:00,  1.37it/s, WMAPE=1.68, DICE=0.0534, DPEAKS=32.6, Loss=0.00518]\n",
            "Validate Epoch 1: 100%|██████████| 20/20 [00:07<00:00,  2.59it/s, WMAPE=1.59, DICE=0.0536, DPEAKS=26.6, Loss=0.00491]\n"
          ]
        },
        {
          "name": "stdout",
          "output_type": "stream",
          "text": [
            "Saving best model\n",
            "Epoch [2/50]\n"
          ]
        },
        {
          "name": "stderr",
          "output_type": "stream",
          "text": [
            "Train Epoch 2: 100%|██████████| 77/77 [00:50<00:00,  1.51it/s, WMAPE=1.63, DICE=0.052, DPEAKS=28.9, Loss=0.00497]\n",
            "Validate Epoch 2: 100%|██████████| 20/20 [00:06<00:00,  3.10it/s, WMAPE=3.92, DICE=0.0525, DPEAKS=24.2, Loss=0.0117]\n"
          ]
        },
        {
          "name": "stdout",
          "output_type": "stream",
          "text": [
            "Epoch [3/50]\n"
          ]
        },
        {
          "name": "stderr",
          "output_type": "stream",
          "text": [
            "Train Epoch 3: 100%|██████████| 77/77 [00:51<00:00,  1.51it/s, WMAPE=1.66, DICE=0.0521, DPEAKS=29.4, Loss=0.0051]\n",
            "Validate Epoch 3: 100%|██████████| 20/20 [00:06<00:00,  3.05it/s, WMAPE=2.18, DICE=0.052, DPEAKS=23.5, Loss=0.00659]\n"
          ]
        },
        {
          "name": "stdout",
          "output_type": "stream",
          "text": [
            "Epoch [4/50]\n"
          ]
        },
        {
          "name": "stderr",
          "output_type": "stream",
          "text": [
            "Train Epoch 4: 100%|██████████| 77/77 [00:51<00:00,  1.51it/s, WMAPE=1.66, DICE=0.0552, DPEAKS=34.5, Loss=0.00522]\n",
            "Validate Epoch 4: 100%|██████████| 20/20 [00:06<00:00,  3.10it/s, WMAPE=1.73, DICE=0.0534, DPEAKS=23.7, Loss=0.00539]\n"
          ]
        },
        {
          "name": "stdout",
          "output_type": "stream",
          "text": [
            "Epoch [5/50]\n"
          ]
        },
        {
          "name": "stderr",
          "output_type": "stream",
          "text": [
            "Train Epoch 5: 100%|██████████| 77/77 [00:51<00:00,  1.51it/s, WMAPE=1.61, DICE=0.0524, DPEAKS=30.3, Loss=0.00497]\n",
            "Validate Epoch 5: 100%|██████████| 20/20 [00:06<00:00,  3.10it/s, WMAPE=2.61, DICE=0.0519, DPEAKS=25.2, Loss=0.00758]\n"
          ]
        },
        {
          "name": "stdout",
          "output_type": "stream",
          "text": [
            "Epoch [6/50]\n"
          ]
        },
        {
          "name": "stderr",
          "output_type": "stream",
          "text": [
            "Train Epoch 6: 100%|██████████| 77/77 [00:51<00:00,  1.51it/s, WMAPE=1.6, DICE=0.0525, DPEAKS=31.2, Loss=0.00496]\n",
            "Validate Epoch 6: 100%|██████████| 20/20 [00:06<00:00,  3.08it/s, WMAPE=1.56, DICE=0.0531, DPEAKS=26.6, Loss=0.00502]\n"
          ]
        },
        {
          "name": "stdout",
          "output_type": "stream",
          "text": [
            "Epoch [7/50]\n"
          ]
        },
        {
          "name": "stderr",
          "output_type": "stream",
          "text": [
            "Train Epoch 7: 100%|██████████| 77/77 [00:51<00:00,  1.51it/s, WMAPE=1.54, DICE=0.0522, DPEAKS=29.1, Loss=0.00477]\n",
            "Validate Epoch 7: 100%|██████████| 20/20 [00:06<00:00,  3.07it/s, WMAPE=4.5, DICE=0.0536, DPEAKS=24.5, Loss=0.0129]\n"
          ]
        },
        {
          "name": "stdout",
          "output_type": "stream",
          "text": [
            "Epoch [8/50]\n"
          ]
        },
        {
          "name": "stderr",
          "output_type": "stream",
          "text": [
            "Train Epoch 8: 100%|██████████| 77/77 [00:51<00:00,  1.51it/s, WMAPE=1.52, DICE=0.0523, DPEAKS=30.2, Loss=0.00475]\n",
            "Validate Epoch 8: 100%|██████████| 20/20 [00:06<00:00,  3.08it/s, WMAPE=1.61, DICE=0.0521, DPEAKS=25.7, Loss=0.00505]\n"
          ]
        },
        {
          "name": "stdout",
          "output_type": "stream",
          "text": [
            "early stopping: 7 epochs without improvement\n",
            "Training complete.\n"
          ]
        },
        {
          "name": "stderr",
          "output_type": "stream",
          "text": [
            "Validate Epoch test: 100%|██████████| 486/486 [02:29<00:00,  3.25it/s, WMAPE=1.61, DICE=0.0536, DPEAKS=31.4, Loss=0.0049]\n"
          ]
        },
        {
          "name": "stdout",
          "output_type": "stream",
          "text": [
            "Partition 45: training decoder\n",
            "Loaded best model from partition 44\n",
            "Epoch [1/50]\n"
          ]
        },
        {
          "name": "stderr",
          "output_type": "stream",
          "text": [
            "Train Epoch 1: 100%|██████████| 77/77 [00:56<00:00,  1.37it/s, WMAPE=1.79, DICE=0.0553, DPEAKS=33.7, Loss=0.00557]\n",
            "Validate Epoch 1: 100%|██████████| 20/20 [00:07<00:00,  2.53it/s, WMAPE=1.62, DICE=0.0544, DPEAKS=33.6, Loss=0.00523]\n"
          ]
        },
        {
          "name": "stdout",
          "output_type": "stream",
          "text": [
            "Saving best model\n",
            "Epoch [2/50]\n"
          ]
        },
        {
          "name": "stderr",
          "output_type": "stream",
          "text": [
            "Train Epoch 2: 100%|██████████| 77/77 [00:50<00:00,  1.51it/s, WMAPE=1.65, DICE=0.0526, DPEAKS=29.6, Loss=0.00515]\n",
            "Validate Epoch 2: 100%|██████████| 20/20 [00:06<00:00,  3.07it/s, WMAPE=1.59, DICE=0.053, DPEAKS=31.6, Loss=0.00487]\n"
          ]
        },
        {
          "name": "stdout",
          "output_type": "stream",
          "text": [
            "Saving best model\n",
            "Epoch [3/50]\n"
          ]
        },
        {
          "name": "stderr",
          "output_type": "stream",
          "text": [
            "Train Epoch 3: 100%|██████████| 77/77 [00:53<00:00,  1.45it/s, WMAPE=1.65, DICE=0.0522, DPEAKS=29.1, Loss=0.00519]\n",
            "Validate Epoch 3: 100%|██████████| 20/20 [00:07<00:00,  2.79it/s, WMAPE=4.04, DICE=0.0547, DPEAKS=34.4, Loss=0.0121]\n"
          ]
        },
        {
          "name": "stdout",
          "output_type": "stream",
          "text": [
            "Epoch [4/50]\n"
          ]
        },
        {
          "name": "stderr",
          "output_type": "stream",
          "text": [
            "Train Epoch 4: 100%|██████████| 77/77 [00:56<00:00,  1.36it/s, WMAPE=1.64, DICE=0.0532, DPEAKS=31.2, Loss=0.00512]\n",
            "Validate Epoch 4: 100%|██████████| 20/20 [00:07<00:00,  2.82it/s, WMAPE=1.99, DICE=0.0527, DPEAKS=29.5, Loss=0.00605]\n"
          ]
        },
        {
          "name": "stdout",
          "output_type": "stream",
          "text": [
            "Epoch [5/50]\n"
          ]
        },
        {
          "name": "stderr",
          "output_type": "stream",
          "text": [
            "Train Epoch 5: 100%|██████████| 77/77 [00:56<00:00,  1.37it/s, WMAPE=1.62, DICE=0.0523, DPEAKS=29, Loss=0.00505]\n",
            "Validate Epoch 5: 100%|██████████| 20/20 [00:06<00:00,  2.86it/s, WMAPE=3.59, DICE=0.0537, DPEAKS=31.1, Loss=0.00977]\n"
          ]
        },
        {
          "name": "stdout",
          "output_type": "stream",
          "text": [
            "Epoch [6/50]\n"
          ]
        },
        {
          "name": "stderr",
          "output_type": "stream",
          "text": [
            "Train Epoch 6: 100%|██████████| 77/77 [00:55<00:00,  1.38it/s, WMAPE=1.66, DICE=0.0523, DPEAKS=29.1, Loss=0.00515]\n",
            "Validate Epoch 6: 100%|██████████| 20/20 [00:06<00:00,  2.87it/s, WMAPE=1.84, DICE=0.0521, DPEAKS=29, Loss=0.00554]\n"
          ]
        },
        {
          "name": "stdout",
          "output_type": "stream",
          "text": [
            "Epoch [7/50]\n"
          ]
        },
        {
          "name": "stderr",
          "output_type": "stream",
          "text": [
            "Train Epoch 7: 100%|██████████| 77/77 [00:56<00:00,  1.37it/s, WMAPE=1.56, DICE=0.0521, DPEAKS=28.6, Loss=0.00482]\n",
            "Validate Epoch 7: 100%|██████████| 20/20 [00:06<00:00,  2.86it/s, WMAPE=1.67, DICE=0.0534, DPEAKS=29.6, Loss=0.005]\n"
          ]
        },
        {
          "name": "stdout",
          "output_type": "stream",
          "text": [
            "Epoch [8/50]\n"
          ]
        },
        {
          "name": "stderr",
          "output_type": "stream",
          "text": [
            "Train Epoch 8: 100%|██████████| 77/77 [00:55<00:00,  1.38it/s, WMAPE=1.56, DICE=0.0522, DPEAKS=28.9, Loss=0.00485]\n",
            "Validate Epoch 8: 100%|██████████| 20/20 [00:07<00:00,  2.85it/s, WMAPE=1.76, DICE=0.0527, DPEAKS=28.7, Loss=0.00555]\n"
          ]
        },
        {
          "name": "stdout",
          "output_type": "stream",
          "text": [
            "early stopping: 6 epochs without improvement\n",
            "Training complete.\n"
          ]
        },
        {
          "name": "stderr",
          "output_type": "stream",
          "text": [
            "Validate Epoch test: 100%|██████████| 486/486 [02:40<00:00,  3.03it/s, WMAPE=1.57, DICE=0.0528, DPEAKS=29.3, Loss=0.00483]\n"
          ]
        },
        {
          "name": "stdout",
          "output_type": "stream",
          "text": [
            "Partition 46: training full\n",
            "Loaded best model from partition 45\n",
            "Epoch [1/50]\n"
          ]
        },
        {
          "name": "stderr",
          "output_type": "stream",
          "text": [
            "Train Epoch 1: 100%|██████████| 77/77 [01:03<00:00,  1.21it/s, WMAPE=1.74, DICE=0.0562, DPEAKS=34.5, Loss=0.00536]\n",
            "Validate Epoch 1: 100%|██████████| 20/20 [00:08<00:00,  2.41it/s, WMAPE=1.82, DICE=0.0547, DPEAKS=29.8, Loss=0.00532]\n"
          ]
        },
        {
          "name": "stdout",
          "output_type": "stream",
          "text": [
            "Saving best model\n",
            "Epoch [2/50]\n"
          ]
        },
        {
          "name": "stderr",
          "output_type": "stream",
          "text": [
            "Train Epoch 2: 100%|██████████| 77/77 [00:58<00:00,  1.31it/s, WMAPE=1.67, DICE=0.0538, DPEAKS=31.6, Loss=0.00512]\n",
            "Validate Epoch 2: 100%|██████████| 20/20 [00:07<00:00,  2.81it/s, WMAPE=2.45, DICE=0.0551, DPEAKS=33.6, Loss=0.00747]\n"
          ]
        },
        {
          "name": "stdout",
          "output_type": "stream",
          "text": [
            "Epoch [3/50]\n"
          ]
        },
        {
          "name": "stderr",
          "output_type": "stream",
          "text": [
            "Train Epoch 3: 100%|██████████| 77/77 [00:58<00:00,  1.32it/s, WMAPE=1.6, DICE=0.0529, DPEAKS=31.1, Loss=0.00494]\n",
            "Validate Epoch 3: 100%|██████████| 20/20 [00:06<00:00,  2.86it/s, WMAPE=1.74, DICE=0.0548, DPEAKS=32.8, Loss=0.00551]\n"
          ]
        },
        {
          "name": "stdout",
          "output_type": "stream",
          "text": [
            "Epoch [4/50]\n"
          ]
        },
        {
          "name": "stderr",
          "output_type": "stream",
          "text": [
            "Train Epoch 4: 100%|██████████| 77/77 [00:58<00:00,  1.31it/s, WMAPE=1.67, DICE=0.0589, DPEAKS=36.3, Loss=0.00521]\n",
            "Validate Epoch 4: 100%|██████████| 20/20 [00:07<00:00,  2.85it/s, WMAPE=2.11, DICE=0.0634, DPEAKS=42.9, Loss=0.00628]\n"
          ]
        },
        {
          "name": "stdout",
          "output_type": "stream",
          "text": [
            "Epoch [5/50]\n"
          ]
        },
        {
          "name": "stderr",
          "output_type": "stream",
          "text": [
            "Train Epoch 5: 100%|██████████| 77/77 [00:58<00:00,  1.32it/s, WMAPE=1.46, DICE=0.0527, DPEAKS=30.8, Loss=0.0046]\n",
            "Validate Epoch 5: 100%|██████████| 20/20 [00:07<00:00,  2.84it/s, WMAPE=6.44, DICE=0.0533, DPEAKS=34.3, Loss=0.0191]\n"
          ]
        },
        {
          "name": "stdout",
          "output_type": "stream",
          "text": [
            "Epoch [6/50]\n"
          ]
        },
        {
          "name": "stderr",
          "output_type": "stream",
          "text": [
            "Train Epoch 6: 100%|██████████| 77/77 [00:58<00:00,  1.31it/s, WMAPE=1.42, DICE=0.0512, DPEAKS=28.6, Loss=0.00445]\n",
            "Validate Epoch 6: 100%|██████████| 20/20 [00:06<00:00,  2.86it/s, WMAPE=1.84, DICE=0.0577, DPEAKS=39.2, Loss=0.00549]\n"
          ]
        },
        {
          "name": "stdout",
          "output_type": "stream",
          "text": [
            "Epoch [7/50]\n"
          ]
        },
        {
          "name": "stderr",
          "output_type": "stream",
          "text": [
            "Train Epoch 7: 100%|██████████| 77/77 [00:58<00:00,  1.31it/s, WMAPE=1.31, DICE=0.0506, DPEAKS=26.2, Loss=0.00414]\n",
            "Validate Epoch 7: 100%|██████████| 20/20 [00:07<00:00,  2.84it/s, WMAPE=1.65, DICE=0.0508, DPEAKS=28.4, Loss=0.00514]\n"
          ]
        },
        {
          "name": "stdout",
          "output_type": "stream",
          "text": [
            "Saving best model\n",
            "Epoch [8/50]\n"
          ]
        },
        {
          "name": "stderr",
          "output_type": "stream",
          "text": [
            "Train Epoch 8: 100%|██████████| 77/77 [00:57<00:00,  1.33it/s, WMAPE=1.36, DICE=0.0514, DPEAKS=27.8, Loss=0.00428]\n",
            "Validate Epoch 8: 100%|██████████| 20/20 [00:06<00:00,  3.07it/s, WMAPE=2.36, DICE=0.0513, DPEAKS=31.5, Loss=0.0074]\n"
          ]
        },
        {
          "name": "stdout",
          "output_type": "stream",
          "text": [
            "Epoch [9/50]\n"
          ]
        },
        {
          "name": "stderr",
          "output_type": "stream",
          "text": [
            "Train Epoch 9: 100%|██████████| 77/77 [00:53<00:00,  1.43it/s, WMAPE=1.29, DICE=0.0505, DPEAKS=28.7, Loss=0.00403]\n",
            "Validate Epoch 9: 100%|██████████| 20/20 [00:06<00:00,  3.06it/s, WMAPE=6.32, DICE=0.0529, DPEAKS=32.9, Loss=0.0185]\n"
          ]
        },
        {
          "name": "stdout",
          "output_type": "stream",
          "text": [
            "Epoch [10/50]\n"
          ]
        },
        {
          "name": "stderr",
          "output_type": "stream",
          "text": [
            "Train Epoch 10: 100%|██████████| 77/77 [00:53<00:00,  1.44it/s, WMAPE=1.28, DICE=0.0495, DPEAKS=26, Loss=0.004]\n",
            "Validate Epoch 10: 100%|██████████| 20/20 [00:06<00:00,  3.06it/s, WMAPE=2.53, DICE=0.0496, DPEAKS=27.4, Loss=0.00721]\n"
          ]
        },
        {
          "name": "stdout",
          "output_type": "stream",
          "text": [
            "Epoch [11/50]\n"
          ]
        },
        {
          "name": "stderr",
          "output_type": "stream",
          "text": [
            "Train Epoch 11: 100%|██████████| 77/77 [00:53<00:00,  1.44it/s, WMAPE=1.31, DICE=0.0506, DPEAKS=26.6, Loss=0.0041]\n",
            "Validate Epoch 11: 100%|██████████| 20/20 [00:06<00:00,  3.03it/s, WMAPE=2.73, DICE=0.0504, DPEAKS=30.5, Loss=0.00779]\n"
          ]
        },
        {
          "name": "stdout",
          "output_type": "stream",
          "text": [
            "Epoch [12/50]\n"
          ]
        },
        {
          "name": "stderr",
          "output_type": "stream",
          "text": [
            "Train Epoch 12: 100%|██████████| 77/77 [00:53<00:00,  1.44it/s, WMAPE=1.28, DICE=0.0518, DPEAKS=29.8, Loss=0.004]\n",
            "Validate Epoch 12: 100%|██████████| 20/20 [00:06<00:00,  3.06it/s, WMAPE=5.59, DICE=0.056, DPEAKS=38, Loss=0.0159]\n"
          ]
        },
        {
          "name": "stdout",
          "output_type": "stream",
          "text": [
            "early stopping: 5 epochs without improvement\n",
            "Training complete.\n"
          ]
        },
        {
          "name": "stderr",
          "output_type": "stream",
          "text": [
            "Validate Epoch test: 100%|██████████| 486/486 [02:29<00:00,  3.24it/s, WMAPE=1.66, DICE=0.0505, DPEAKS=28.3, Loss=0.00509]\n"
          ]
        },
        {
          "name": "stdout",
          "output_type": "stream",
          "text": [
            "Partition 47: training decoder\n",
            "Loaded best model from partition 46\n",
            "Epoch [1/50]\n"
          ]
        },
        {
          "name": "stderr",
          "output_type": "stream",
          "text": [
            "Train Epoch 1: 100%|██████████| 77/77 [00:57<00:00,  1.35it/s, WMAPE=1.65, DICE=0.0509, DPEAKS=28.9, Loss=0.00514]\n",
            "Validate Epoch 1: 100%|██████████| 20/20 [00:07<00:00,  2.55it/s, WMAPE=1.84, DICE=0.0503, DPEAKS=31.3, Loss=0.00572]\n"
          ]
        },
        {
          "name": "stdout",
          "output_type": "stream",
          "text": [
            "Saving best model\n",
            "Epoch [2/50]\n"
          ]
        },
        {
          "name": "stderr",
          "output_type": "stream",
          "text": [
            "Train Epoch 2: 100%|██████████| 77/77 [00:51<00:00,  1.50it/s, WMAPE=1.6, DICE=0.0508, DPEAKS=28.9, Loss=0.00499]\n",
            "Validate Epoch 2: 100%|██████████| 20/20 [00:06<00:00,  3.06it/s, WMAPE=1.68, DICE=0.0521, DPEAKS=30.5, Loss=0.00525]\n"
          ]
        },
        {
          "name": "stdout",
          "output_type": "stream",
          "text": [
            "Saving best model\n",
            "Epoch [3/50]\n"
          ]
        },
        {
          "name": "stderr",
          "output_type": "stream",
          "text": [
            "Train Epoch 3: 100%|██████████| 77/77 [00:52<00:00,  1.46it/s, WMAPE=1.6, DICE=0.0508, DPEAKS=29.6, Loss=0.00496]\n",
            "Validate Epoch 3: 100%|██████████| 20/20 [00:06<00:00,  3.08it/s, WMAPE=3.63, DICE=0.0515, DPEAKS=32.5, Loss=0.00999]\n"
          ]
        },
        {
          "name": "stdout",
          "output_type": "stream",
          "text": [
            "Epoch [4/50]\n"
          ]
        },
        {
          "name": "stderr",
          "output_type": "stream",
          "text": [
            "Train Epoch 4: 100%|██████████| 77/77 [00:51<00:00,  1.48it/s, WMAPE=1.6, DICE=0.0509, DPEAKS=28.6, Loss=0.00497]\n",
            "Validate Epoch 4: 100%|██████████| 20/20 [00:06<00:00,  3.05it/s, WMAPE=2.42, DICE=0.0518, DPEAKS=31.2, Loss=0.00681]\n"
          ]
        },
        {
          "name": "stdout",
          "output_type": "stream",
          "text": [
            "Epoch [5/50]\n"
          ]
        },
        {
          "name": "stderr",
          "output_type": "stream",
          "text": [
            "Train Epoch 5: 100%|██████████| 77/77 [00:51<00:00,  1.51it/s, WMAPE=1.52, DICE=0.051, DPEAKS=28.1, Loss=0.00472]\n",
            "Validate Epoch 5: 100%|██████████| 20/20 [00:06<00:00,  3.04it/s, WMAPE=5.02, DICE=0.0539, DPEAKS=31.3, Loss=0.0137]\n"
          ]
        },
        {
          "name": "stdout",
          "output_type": "stream",
          "text": [
            "Epoch [6/50]\n"
          ]
        },
        {
          "name": "stderr",
          "output_type": "stream",
          "text": [
            "Train Epoch 6: 100%|██████████| 77/77 [00:51<00:00,  1.50it/s, WMAPE=1.49, DICE=0.0504, DPEAKS=28.4, Loss=0.00467]\n",
            "Validate Epoch 6: 100%|██████████| 20/20 [00:06<00:00,  3.08it/s, WMAPE=2.03, DICE=0.0515, DPEAKS=30.4, Loss=0.00597]\n"
          ]
        },
        {
          "name": "stdout",
          "output_type": "stream",
          "text": [
            "Epoch [7/50]\n"
          ]
        },
        {
          "name": "stderr",
          "output_type": "stream",
          "text": [
            "Train Epoch 7: 100%|██████████| 77/77 [00:51<00:00,  1.50it/s, WMAPE=1.49, DICE=0.0503, DPEAKS=28.5, Loss=0.00467]\n",
            "Validate Epoch 7: 100%|██████████| 20/20 [00:06<00:00,  3.05it/s, WMAPE=1.74, DICE=0.0508, DPEAKS=29.5, Loss=0.00524]\n"
          ]
        },
        {
          "name": "stdout",
          "output_type": "stream",
          "text": [
            "Saving best model\n",
            "Epoch [8/50]\n"
          ]
        },
        {
          "name": "stderr",
          "output_type": "stream",
          "text": [
            "Train Epoch 8: 100%|██████████| 77/77 [00:51<00:00,  1.50it/s, WMAPE=1.44, DICE=0.0505, DPEAKS=27.9, Loss=0.00451]\n",
            "Validate Epoch 8: 100%|██████████| 20/20 [00:06<00:00,  3.06it/s, WMAPE=2.93, DICE=0.0511, DPEAKS=29.3, Loss=0.00807]\n"
          ]
        },
        {
          "name": "stdout",
          "output_type": "stream",
          "text": [
            "Epoch [9/50]\n"
          ]
        },
        {
          "name": "stderr",
          "output_type": "stream",
          "text": [
            "Train Epoch 9: 100%|██████████| 77/77 [00:51<00:00,  1.50it/s, WMAPE=1.41, DICE=0.0504, DPEAKS=27.5, Loss=0.00446]\n",
            "Validate Epoch 9: 100%|██████████| 20/20 [00:06<00:00,  3.08it/s, WMAPE=1.9, DICE=0.051, DPEAKS=28, Loss=0.0059]\n"
          ]
        },
        {
          "name": "stdout",
          "output_type": "stream",
          "text": [
            "Epoch [10/50]\n"
          ]
        },
        {
          "name": "stderr",
          "output_type": "stream",
          "text": [
            "Train Epoch 10: 100%|██████████| 77/77 [00:51<00:00,  1.51it/s, WMAPE=1.39, DICE=0.0501, DPEAKS=28, Loss=0.00436]\n",
            "Validate Epoch 10: 100%|██████████| 20/20 [00:06<00:00,  3.06it/s, WMAPE=3.13, DICE=0.0504, DPEAKS=27.1, Loss=0.00938]\n"
          ]
        },
        {
          "name": "stdout",
          "output_type": "stream",
          "text": [
            "Epoch [11/50]\n"
          ]
        },
        {
          "name": "stderr",
          "output_type": "stream",
          "text": [
            "Train Epoch 11: 100%|██████████| 77/77 [00:51<00:00,  1.50it/s, WMAPE=1.37, DICE=0.0502, DPEAKS=28.3, Loss=0.00429]\n",
            "Validate Epoch 11: 100%|██████████| 20/20 [00:06<00:00,  3.06it/s, WMAPE=1.73, DICE=0.0517, DPEAKS=30.6, Loss=0.00514]\n"
          ]
        },
        {
          "name": "stdout",
          "output_type": "stream",
          "text": [
            "Saving best model\n",
            "Epoch [12/50]\n"
          ]
        },
        {
          "name": "stderr",
          "output_type": "stream",
          "text": [
            "Train Epoch 12: 100%|██████████| 77/77 [00:51<00:00,  1.50it/s, WMAPE=1.34, DICE=0.0498, DPEAKS=27.7, Loss=0.00421]\n",
            "Validate Epoch 12: 100%|██████████| 20/20 [00:06<00:00,  3.07it/s, WMAPE=2.16, DICE=0.0497, DPEAKS=28.8, Loss=0.00663]\n"
          ]
        },
        {
          "name": "stdout",
          "output_type": "stream",
          "text": [
            "Epoch [13/50]\n"
          ]
        },
        {
          "name": "stderr",
          "output_type": "stream",
          "text": [
            "Train Epoch 13: 100%|██████████| 77/77 [00:51<00:00,  1.50it/s, WMAPE=1.3, DICE=0.0494, DPEAKS=26.8, Loss=0.00411]\n",
            "Validate Epoch 13: 100%|██████████| 20/20 [00:06<00:00,  3.03it/s, WMAPE=1.78, DICE=0.0492, DPEAKS=28, Loss=0.00543]\n"
          ]
        },
        {
          "name": "stdout",
          "output_type": "stream",
          "text": [
            "Epoch [14/50]\n"
          ]
        },
        {
          "name": "stderr",
          "output_type": "stream",
          "text": [
            "Train Epoch 14: 100%|██████████| 77/77 [00:51<00:00,  1.50it/s, WMAPE=1.28, DICE=0.0496, DPEAKS=26.6, Loss=0.00407]\n",
            "Validate Epoch 14: 100%|██████████| 20/20 [00:06<00:00,  3.06it/s, WMAPE=1.68, DICE=0.0511, DPEAKS=32, Loss=0.00512]\n"
          ]
        },
        {
          "name": "stdout",
          "output_type": "stream",
          "text": [
            "Saving best model\n",
            "Epoch [15/50]\n"
          ]
        },
        {
          "name": "stderr",
          "output_type": "stream",
          "text": [
            "Train Epoch 15: 100%|██████████| 77/77 [00:51<00:00,  1.50it/s, WMAPE=1.29, DICE=0.0493, DPEAKS=28, Loss=0.00403]\n",
            "Validate Epoch 15: 100%|██████████| 20/20 [00:06<00:00,  3.05it/s, WMAPE=1.84, DICE=0.0499, DPEAKS=28.9, Loss=0.00541]\n"
          ]
        },
        {
          "name": "stdout",
          "output_type": "stream",
          "text": [
            "Epoch [16/50]\n"
          ]
        },
        {
          "name": "stderr",
          "output_type": "stream",
          "text": [
            "Train Epoch 16: 100%|██████████| 77/77 [00:51<00:00,  1.50it/s, WMAPE=1.34, DICE=0.0502, DPEAKS=28.1, Loss=0.00417]\n",
            "Validate Epoch 16: 100%|██████████| 20/20 [00:06<00:00,  3.07it/s, WMAPE=1.72, DICE=0.05, DPEAKS=29.5, Loss=0.00502]\n"
          ]
        },
        {
          "name": "stdout",
          "output_type": "stream",
          "text": [
            "Saving best model\n",
            "Epoch [17/50]\n"
          ]
        },
        {
          "name": "stderr",
          "output_type": "stream",
          "text": [
            "Train Epoch 17: 100%|██████████| 77/77 [00:51<00:00,  1.50it/s, WMAPE=1.32, DICE=0.0504, DPEAKS=29.1, Loss=0.00414]\n",
            "Validate Epoch 17: 100%|██████████| 20/20 [00:06<00:00,  3.07it/s, WMAPE=2.9, DICE=0.0515, DPEAKS=27.5, Loss=0.00868]\n"
          ]
        },
        {
          "name": "stdout",
          "output_type": "stream",
          "text": [
            "Epoch [18/50]\n"
          ]
        },
        {
          "name": "stderr",
          "output_type": "stream",
          "text": [
            "Train Epoch 18: 100%|██████████| 77/77 [00:51<00:00,  1.50it/s, WMAPE=1.28, DICE=0.0494, DPEAKS=28.3, Loss=0.00405]\n",
            "Validate Epoch 18: 100%|██████████| 20/20 [00:06<00:00,  3.07it/s, WMAPE=1.88, DICE=0.0495, DPEAKS=30.2, Loss=0.00542]\n"
          ]
        },
        {
          "name": "stdout",
          "output_type": "stream",
          "text": [
            "Epoch [19/50]\n"
          ]
        },
        {
          "name": "stderr",
          "output_type": "stream",
          "text": [
            "Train Epoch 19: 100%|██████████| 77/77 [00:51<00:00,  1.50it/s, WMAPE=1.22, DICE=0.0492, DPEAKS=26.9, Loss=0.00387]\n",
            "Validate Epoch 19: 100%|██████████| 20/20 [00:06<00:00,  3.08it/s, WMAPE=1.65, DICE=0.0501, DPEAKS=30.4, Loss=0.00496]\n"
          ]
        },
        {
          "name": "stdout",
          "output_type": "stream",
          "text": [
            "Saving best model\n",
            "Epoch [20/50]\n"
          ]
        },
        {
          "name": "stderr",
          "output_type": "stream",
          "text": [
            "Train Epoch 20: 100%|██████████| 77/77 [00:51<00:00,  1.50it/s, WMAPE=1.26, DICE=0.0494, DPEAKS=29.3, Loss=0.004]\n",
            "Validate Epoch 20: 100%|██████████| 20/20 [00:06<00:00,  3.05it/s, WMAPE=2.11, DICE=0.0489, DPEAKS=28.4, Loss=0.00615]\n"
          ]
        },
        {
          "name": "stdout",
          "output_type": "stream",
          "text": [
            "Epoch [21/50]\n"
          ]
        },
        {
          "name": "stderr",
          "output_type": "stream",
          "text": [
            "Train Epoch 21: 100%|██████████| 77/77 [00:51<00:00,  1.50it/s, WMAPE=1.25, DICE=0.0492, DPEAKS=27.1, Loss=0.00394]\n",
            "Validate Epoch 21: 100%|██████████| 20/20 [00:06<00:00,  3.08it/s, WMAPE=3.52, DICE=0.0551, DPEAKS=33.4, Loss=0.00953]\n"
          ]
        },
        {
          "name": "stdout",
          "output_type": "stream",
          "text": [
            "Epoch [22/50]\n"
          ]
        },
        {
          "name": "stderr",
          "output_type": "stream",
          "text": [
            "Train Epoch 22: 100%|██████████| 77/77 [00:51<00:00,  1.50it/s, WMAPE=1.3, DICE=0.0501, DPEAKS=28.5, Loss=0.0041]\n",
            "Validate Epoch 22: 100%|██████████| 20/20 [00:06<00:00,  3.08it/s, WMAPE=3.05, DICE=0.0505, DPEAKS=27.5, Loss=0.00847]\n"
          ]
        },
        {
          "name": "stdout",
          "output_type": "stream",
          "text": [
            "Epoch [23/50]\n"
          ]
        },
        {
          "name": "stderr",
          "output_type": "stream",
          "text": [
            "Train Epoch 23: 100%|██████████| 77/77 [00:51<00:00,  1.50it/s, WMAPE=1.26, DICE=0.0491, DPEAKS=26.9, Loss=0.00398]\n",
            "Validate Epoch 23: 100%|██████████| 20/20 [00:06<00:00,  3.06it/s, WMAPE=2.47, DICE=0.0518, DPEAKS=32.2, Loss=0.0069]\n"
          ]
        },
        {
          "name": "stdout",
          "output_type": "stream",
          "text": [
            "Epoch [24/50]\n"
          ]
        },
        {
          "name": "stderr",
          "output_type": "stream",
          "text": [
            "Train Epoch 24: 100%|██████████| 77/77 [00:51<00:00,  1.50it/s, WMAPE=1.23, DICE=0.0489, DPEAKS=28.1, Loss=0.00389]\n",
            "Validate Epoch 24: 100%|██████████| 20/20 [00:06<00:00,  3.09it/s, WMAPE=3.9, DICE=0.0507, DPEAKS=29.1, Loss=0.0104]\n"
          ]
        },
        {
          "name": "stdout",
          "output_type": "stream",
          "text": [
            "early stopping: 5 epochs without improvement\n",
            "Training complete.\n"
          ]
        },
        {
          "name": "stderr",
          "output_type": "stream",
          "text": [
            "Validate Epoch test: 100%|██████████| 486/486 [02:29<00:00,  3.24it/s, WMAPE=1.65, DICE=0.05, DPEAKS=26.7, Loss=0.00512]\n"
          ]
        },
        {
          "name": "stdout",
          "output_type": "stream",
          "text": [
            "Partition 48: training decoder\n",
            "Loaded best model from partition 47\n",
            "Epoch [1/50]\n"
          ]
        },
        {
          "name": "stderr",
          "output_type": "stream",
          "text": [
            "Train Epoch 1: 100%|██████████| 77/77 [00:56<00:00,  1.35it/s, WMAPE=1.68, DICE=0.0503, DPEAKS=28.6, Loss=0.00513]\n",
            "Validate Epoch 1: 100%|██████████| 20/20 [00:07<00:00,  2.54it/s, WMAPE=1.91, DICE=0.0504, DPEAKS=26.5, Loss=0.00588]\n"
          ]
        },
        {
          "name": "stdout",
          "output_type": "stream",
          "text": [
            "Saving best model\n",
            "Epoch [2/50]\n"
          ]
        },
        {
          "name": "stderr",
          "output_type": "stream",
          "text": [
            "Train Epoch 2: 100%|██████████| 77/77 [00:51<00:00,  1.50it/s, WMAPE=1.61, DICE=0.0499, DPEAKS=28.3, Loss=0.00496]\n",
            "Validate Epoch 2: 100%|██████████| 20/20 [00:06<00:00,  3.08it/s, WMAPE=2.39, DICE=0.0503, DPEAKS=28, Loss=0.0068]\n"
          ]
        },
        {
          "name": "stdout",
          "output_type": "stream",
          "text": [
            "Epoch [3/50]\n"
          ]
        },
        {
          "name": "stderr",
          "output_type": "stream",
          "text": [
            "Train Epoch 3: 100%|██████████| 77/77 [00:51<00:00,  1.51it/s, WMAPE=1.56, DICE=0.0499, DPEAKS=27.8, Loss=0.0048]\n",
            "Validate Epoch 3: 100%|██████████| 20/20 [00:06<00:00,  3.08it/s, WMAPE=2.18, DICE=0.0508, DPEAKS=29, Loss=0.00673]\n"
          ]
        },
        {
          "name": "stdout",
          "output_type": "stream",
          "text": [
            "Epoch [4/50]\n"
          ]
        },
        {
          "name": "stderr",
          "output_type": "stream",
          "text": [
            "Train Epoch 4: 100%|██████████| 77/77 [00:51<00:00,  1.50it/s, WMAPE=1.56, DICE=0.0501, DPEAKS=28.3, Loss=0.00477]\n",
            "Validate Epoch 4: 100%|██████████| 20/20 [00:06<00:00,  3.07it/s, WMAPE=2.22, DICE=0.0522, DPEAKS=31.4, Loss=0.00651]\n"
          ]
        },
        {
          "name": "stdout",
          "output_type": "stream",
          "text": [
            "Epoch [5/50]\n"
          ]
        },
        {
          "name": "stderr",
          "output_type": "stream",
          "text": [
            "Train Epoch 5: 100%|██████████| 77/77 [00:51<00:00,  1.50it/s, WMAPE=1.5, DICE=0.0503, DPEAKS=29.7, Loss=0.00457]\n",
            "Validate Epoch 5: 100%|██████████| 20/20 [00:06<00:00,  3.05it/s, WMAPE=2.49, DICE=0.0531, DPEAKS=26.9, Loss=0.00691]\n"
          ]
        },
        {
          "name": "stdout",
          "output_type": "stream",
          "text": [
            "Epoch [6/50]\n"
          ]
        },
        {
          "name": "stderr",
          "output_type": "stream",
          "text": [
            "Train Epoch 6: 100%|██████████| 77/77 [00:51<00:00,  1.50it/s, WMAPE=1.45, DICE=0.0502, DPEAKS=28.6, Loss=0.00446]\n",
            "Validate Epoch 6: 100%|██████████| 20/20 [00:06<00:00,  3.05it/s, WMAPE=2.09, DICE=0.0499, DPEAKS=25.7, Loss=0.00606]\n"
          ]
        },
        {
          "name": "stdout",
          "output_type": "stream",
          "text": [
            "Epoch [7/50]\n"
          ]
        },
        {
          "name": "stderr",
          "output_type": "stream",
          "text": [
            "Train Epoch 7: 100%|██████████| 77/77 [00:51<00:00,  1.50it/s, WMAPE=1.41, DICE=0.0498, DPEAKS=28, Loss=0.00432]\n",
            "Validate Epoch 7: 100%|██████████| 20/20 [00:06<00:00,  3.08it/s, WMAPE=2.44, DICE=0.0507, DPEAKS=28.5, Loss=0.00704]\n"
          ]
        },
        {
          "name": "stdout",
          "output_type": "stream",
          "text": [
            "Epoch [8/50]\n"
          ]
        },
        {
          "name": "stderr",
          "output_type": "stream",
          "text": [
            "Train Epoch 8: 100%|██████████| 77/77 [00:51<00:00,  1.50it/s, WMAPE=1.46, DICE=0.0537, DPEAKS=31.5, Loss=0.0045]\n",
            "Validate Epoch 8: 100%|██████████| 20/20 [00:06<00:00,  3.07it/s, WMAPE=9.5, DICE=0.0848, DPEAKS=50.5, Loss=0.0271]\n"
          ]
        },
        {
          "name": "stdout",
          "output_type": "stream",
          "text": [
            "early stopping: 7 epochs without improvement\n",
            "Training complete.\n"
          ]
        },
        {
          "name": "stderr",
          "output_type": "stream",
          "text": [
            "Validate Epoch test: 100%|██████████| 486/486 [02:30<00:00,  3.24it/s, WMAPE=1.82, DICE=0.05, DPEAKS=26.6, Loss=0.00581]\n"
          ]
        },
        {
          "name": "stdout",
          "output_type": "stream",
          "text": [
            "Partition 49: training decoder\n",
            "Loaded best model from partition 48\n",
            "Epoch [1/50]\n"
          ]
        },
        {
          "name": "stderr",
          "output_type": "stream",
          "text": [
            "Train Epoch 1: 100%|██████████| 77/77 [00:56<00:00,  1.37it/s, WMAPE=1.66, DICE=0.0501, DPEAKS=27.6, Loss=0.00508]\n",
            "Validate Epoch 1: 100%|██████████| 20/20 [00:07<00:00,  2.52it/s, WMAPE=2.17, DICE=0.0505, DPEAKS=29.7, Loss=0.00696]\n"
          ]
        },
        {
          "name": "stdout",
          "output_type": "stream",
          "text": [
            "Saving best model\n",
            "Epoch [2/50]\n"
          ]
        },
        {
          "name": "stderr",
          "output_type": "stream",
          "text": [
            "Train Epoch 2: 100%|██████████| 77/77 [00:51<00:00,  1.51it/s, WMAPE=1.61, DICE=0.0499, DPEAKS=27.6, Loss=0.00493]\n",
            "Validate Epoch 2: 100%|██████████| 20/20 [00:06<00:00,  3.08it/s, WMAPE=1.63, DICE=0.0513, DPEAKS=27.4, Loss=0.00489]\n"
          ]
        },
        {
          "name": "stdout",
          "output_type": "stream",
          "text": [
            "Saving best model\n",
            "Epoch [3/50]\n"
          ]
        },
        {
          "name": "stderr",
          "output_type": "stream",
          "text": [
            "Train Epoch 3: 100%|██████████| 77/77 [00:51<00:00,  1.51it/s, WMAPE=1.55, DICE=0.0498, DPEAKS=26.5, Loss=0.00472]\n",
            "Validate Epoch 3: 100%|██████████| 20/20 [00:06<00:00,  3.06it/s, WMAPE=1.69, DICE=0.0497, DPEAKS=26.7, Loss=0.00547]\n"
          ]
        },
        {
          "name": "stdout",
          "output_type": "stream",
          "text": [
            "Epoch [4/50]\n"
          ]
        },
        {
          "name": "stderr",
          "output_type": "stream",
          "text": [
            "Train Epoch 4: 100%|██████████| 77/77 [00:51<00:00,  1.50it/s, WMAPE=1.53, DICE=0.0497, DPEAKS=26.5, Loss=0.00473]\n",
            "Validate Epoch 4: 100%|██████████| 20/20 [00:06<00:00,  3.01it/s, WMAPE=1.67, DICE=0.0511, DPEAKS=27.8, Loss=0.00546]\n"
          ]
        },
        {
          "name": "stdout",
          "output_type": "stream",
          "text": [
            "Epoch [5/50]\n"
          ]
        },
        {
          "name": "stderr",
          "output_type": "stream",
          "text": [
            "Train Epoch 5: 100%|██████████| 77/77 [00:51<00:00,  1.50it/s, WMAPE=1.67, DICE=0.0574, DPEAKS=34.5, Loss=0.00516]\n",
            "Validate Epoch 5: 100%|██████████| 20/20 [00:06<00:00,  3.06it/s, WMAPE=1.7, DICE=0.0521, DPEAKS=29.3, Loss=0.00512]\n"
          ]
        },
        {
          "name": "stdout",
          "output_type": "stream",
          "text": [
            "Epoch [6/50]\n"
          ]
        },
        {
          "name": "stderr",
          "output_type": "stream",
          "text": [
            "Train Epoch 6: 100%|██████████| 77/77 [00:51<00:00,  1.50it/s, WMAPE=1.55, DICE=0.0507, DPEAKS=27, Loss=0.00474]\n",
            "Validate Epoch 6: 100%|██████████| 20/20 [00:06<00:00,  3.08it/s, WMAPE=3.03, DICE=0.0518, DPEAKS=29.5, Loss=0.00959]\n"
          ]
        },
        {
          "name": "stdout",
          "output_type": "stream",
          "text": [
            "Epoch [7/50]\n"
          ]
        },
        {
          "name": "stderr",
          "output_type": "stream",
          "text": [
            "Train Epoch 7: 100%|██████████| 77/77 [00:51<00:00,  1.50it/s, WMAPE=1.46, DICE=0.0498, DPEAKS=27, Loss=0.00448]\n",
            "Validate Epoch 7: 100%|██████████| 20/20 [00:06<00:00,  3.03it/s, WMAPE=2.14, DICE=0.051, DPEAKS=28, Loss=0.00722]\n"
          ]
        },
        {
          "name": "stdout",
          "output_type": "stream",
          "text": [
            "Epoch [8/50]\n"
          ]
        },
        {
          "name": "stderr",
          "output_type": "stream",
          "text": [
            "Train Epoch 8: 100%|██████████| 77/77 [00:51<00:00,  1.50it/s, WMAPE=1.43, DICE=0.0497, DPEAKS=26.9, Loss=0.00442]\n",
            "Validate Epoch 8: 100%|██████████| 20/20 [00:06<00:00,  3.07it/s, WMAPE=2.51, DICE=0.0492, DPEAKS=28.1, Loss=0.00797]\n"
          ]
        },
        {
          "name": "stdout",
          "output_type": "stream",
          "text": [
            "early stopping: 6 epochs without improvement\n",
            "Training complete.\n"
          ]
        },
        {
          "name": "stderr",
          "output_type": "stream",
          "text": [
            "Validate Epoch test: 100%|██████████| 486/486 [02:30<00:00,  3.23it/s, WMAPE=1.72, DICE=0.0513, DPEAKS=29.1, Loss=0.00507]\n"
          ]
        },
        {
          "name": "stdout",
          "output_type": "stream",
          "text": [
            "Partition 50: training decoder\n",
            "Loaded best model from partition 49\n",
            "Epoch [1/50]\n"
          ]
        },
        {
          "name": "stderr",
          "output_type": "stream",
          "text": [
            "Train Epoch 1: 100%|██████████| 77/77 [00:56<00:00,  1.35it/s, WMAPE=1.68, DICE=0.0509, DPEAKS=27.9, Loss=0.00519]\n",
            "Validate Epoch 1: 100%|██████████| 20/20 [00:07<00:00,  2.54it/s, WMAPE=2.06, DICE=0.0505, DPEAKS=28.1, Loss=0.00621]\n"
          ]
        },
        {
          "name": "stdout",
          "output_type": "stream",
          "text": [
            "Saving best model\n",
            "Epoch [2/50]\n"
          ]
        },
        {
          "name": "stderr",
          "output_type": "stream",
          "text": [
            "Train Epoch 2: 100%|██████████| 77/77 [00:51<00:00,  1.50it/s, WMAPE=1.64, DICE=0.0505, DPEAKS=27.7, Loss=0.00503]\n",
            "Validate Epoch 2: 100%|██████████| 20/20 [00:06<00:00,  3.06it/s, WMAPE=1.92, DICE=0.0523, DPEAKS=30.5, Loss=0.00573]\n"
          ]
        },
        {
          "name": "stdout",
          "output_type": "stream",
          "text": [
            "Saving best model\n",
            "Epoch [3/50]\n"
          ]
        },
        {
          "name": "stderr",
          "output_type": "stream",
          "text": [
            "Train Epoch 3: 100%|██████████| 77/77 [00:51<00:00,  1.50it/s, WMAPE=1.57, DICE=0.0498, DPEAKS=26.5, Loss=0.00483]\n",
            "Validate Epoch 3: 100%|██████████| 20/20 [00:06<00:00,  3.09it/s, WMAPE=1.77, DICE=0.0515, DPEAKS=29.1, Loss=0.00536]\n"
          ]
        },
        {
          "name": "stdout",
          "output_type": "stream",
          "text": [
            "Saving best model\n",
            "Epoch [4/50]\n"
          ]
        },
        {
          "name": "stderr",
          "output_type": "stream",
          "text": [
            "Train Epoch 4: 100%|██████████| 77/77 [00:51<00:00,  1.50it/s, WMAPE=1.56, DICE=0.0502, DPEAKS=26.4, Loss=0.00482]\n",
            "Validate Epoch 4: 100%|██████████| 20/20 [00:06<00:00,  3.07it/s, WMAPE=1.87, DICE=0.0521, DPEAKS=31.9, Loss=0.00568]\n"
          ]
        },
        {
          "name": "stdout",
          "output_type": "stream",
          "text": [
            "Epoch [5/50]\n"
          ]
        },
        {
          "name": "stderr",
          "output_type": "stream",
          "text": [
            "Train Epoch 5: 100%|██████████| 77/77 [00:51<00:00,  1.50it/s, WMAPE=1.55, DICE=0.0506, DPEAKS=27.6, Loss=0.00477]\n",
            "Validate Epoch 5: 100%|██████████| 20/20 [00:06<00:00,  3.02it/s, WMAPE=1.79, DICE=0.0532, DPEAKS=34.9, Loss=0.00542]\n"
          ]
        },
        {
          "name": "stdout",
          "output_type": "stream",
          "text": [
            "Epoch [6/50]\n"
          ]
        },
        {
          "name": "stderr",
          "output_type": "stream",
          "text": [
            "Train Epoch 6: 100%|██████████| 77/77 [00:51<00:00,  1.50it/s, WMAPE=1.55, DICE=0.0507, DPEAKS=27.1, Loss=0.00475]\n",
            "Validate Epoch 6: 100%|██████████| 20/20 [00:06<00:00,  3.05it/s, WMAPE=2.33, DICE=0.0526, DPEAKS=31.6, Loss=0.00743]\n"
          ]
        },
        {
          "name": "stdout",
          "output_type": "stream",
          "text": [
            "Epoch [7/50]\n"
          ]
        },
        {
          "name": "stderr",
          "output_type": "stream",
          "text": [
            "Train Epoch 7: 100%|██████████| 77/77 [00:51<00:00,  1.50it/s, WMAPE=1.46, DICE=0.05, DPEAKS=26.1, Loss=0.00448]\n",
            "Validate Epoch 7: 100%|██████████| 20/20 [00:06<00:00,  3.06it/s, WMAPE=4.4, DICE=0.0506, DPEAKS=30.2, Loss=0.0132]\n"
          ]
        },
        {
          "name": "stdout",
          "output_type": "stream",
          "text": [
            "Epoch [8/50]\n"
          ]
        },
        {
          "name": "stderr",
          "output_type": "stream",
          "text": [
            "Train Epoch 8: 100%|██████████| 77/77 [00:51<00:00,  1.50it/s, WMAPE=1.41, DICE=0.0498, DPEAKS=26.8, Loss=0.00436]\n",
            "Validate Epoch 8: 100%|██████████| 20/20 [00:06<00:00,  3.04it/s, WMAPE=1.78, DICE=0.051, DPEAKS=32.2, Loss=0.00546]\n"
          ]
        },
        {
          "name": "stdout",
          "output_type": "stream",
          "text": [
            "early stopping: 5 epochs without improvement\n",
            "Training complete.\n"
          ]
        },
        {
          "name": "stderr",
          "output_type": "stream",
          "text": [
            "Validate Epoch test: 100%|██████████| 486/486 [02:29<00:00,  3.24it/s, WMAPE=1.75, DICE=0.0516, DPEAKS=28.6, Loss=0.0052]\n"
          ]
        },
        {
          "name": "stdout",
          "output_type": "stream",
          "text": [
            "Partition 51: training full\n",
            "Loaded best model from partition 50\n",
            "Epoch [1/50]\n"
          ]
        },
        {
          "name": "stderr",
          "output_type": "stream",
          "text": [
            "Train Epoch 1: 100%|██████████| 77/77 [00:59<00:00,  1.30it/s, WMAPE=1.67, DICE=0.0522, DPEAKS=31.7, Loss=0.00523]\n",
            "Validate Epoch 1: 100%|██████████| 20/20 [00:07<00:00,  2.57it/s, WMAPE=2.23, DICE=0.0619, DPEAKS=45, Loss=0.00704]\n"
          ]
        },
        {
          "name": "stdout",
          "output_type": "stream",
          "text": [
            "Saving best model\n",
            "Epoch [2/50]\n"
          ]
        },
        {
          "name": "stderr",
          "output_type": "stream",
          "text": [
            "Train Epoch 2: 100%|██████████| 77/77 [00:53<00:00,  1.44it/s, WMAPE=1.55, DICE=0.0509, DPEAKS=30.2, Loss=0.00482]\n",
            "Validate Epoch 2: 100%|██████████| 20/20 [00:06<00:00,  3.07it/s, WMAPE=2.51, DICE=0.0528, DPEAKS=31.1, Loss=0.0079]\n"
          ]
        },
        {
          "name": "stdout",
          "output_type": "stream",
          "text": [
            "Epoch [3/50]\n"
          ]
        },
        {
          "name": "stderr",
          "output_type": "stream",
          "text": [
            "Train Epoch 3: 100%|██████████| 77/77 [00:53<00:00,  1.44it/s, WMAPE=1.5, DICE=0.0517, DPEAKS=30.5, Loss=0.00469]\n",
            "Validate Epoch 3: 100%|██████████| 20/20 [00:06<00:00,  3.07it/s, WMAPE=1.66, DICE=0.0528, DPEAKS=30.7, Loss=0.00512]\n"
          ]
        },
        {
          "name": "stdout",
          "output_type": "stream",
          "text": [
            "Saving best model\n",
            "Epoch [4/50]\n"
          ]
        },
        {
          "name": "stderr",
          "output_type": "stream",
          "text": [
            "Train Epoch 4: 100%|██████████| 77/77 [00:53<00:00,  1.44it/s, WMAPE=1.47, DICE=0.0527, DPEAKS=32.3, Loss=0.00464]\n",
            "Validate Epoch 4: 100%|██████████| 20/20 [00:06<00:00,  3.09it/s, WMAPE=5.26, DICE=0.0532, DPEAKS=29.9, Loss=0.0148]\n"
          ]
        },
        {
          "name": "stdout",
          "output_type": "stream",
          "text": [
            "Epoch [5/50]\n"
          ]
        },
        {
          "name": "stderr",
          "output_type": "stream",
          "text": [
            "Train Epoch 5: 100%|██████████| 77/77 [00:53<00:00,  1.44it/s, WMAPE=1.37, DICE=0.0533, DPEAKS=32.8, Loss=0.00435]\n",
            "Validate Epoch 5: 100%|██████████| 20/20 [00:06<00:00,  3.07it/s, WMAPE=1.93, DICE=0.0662, DPEAKS=51.1, Loss=0.00622]\n"
          ]
        },
        {
          "name": "stdout",
          "output_type": "stream",
          "text": [
            "Epoch [6/50]\n"
          ]
        },
        {
          "name": "stderr",
          "output_type": "stream",
          "text": [
            "Train Epoch 6: 100%|██████████| 77/77 [00:53<00:00,  1.44it/s, WMAPE=1.35, DICE=0.051, DPEAKS=31.3, Loss=0.00432]\n",
            "Validate Epoch 6: 100%|██████████| 20/20 [00:06<00:00,  3.07it/s, WMAPE=2.46, DICE=0.0602, DPEAKS=41.6, Loss=0.00784]\n"
          ]
        },
        {
          "name": "stdout",
          "output_type": "stream",
          "text": [
            "Epoch [7/50]\n"
          ]
        },
        {
          "name": "stderr",
          "output_type": "stream",
          "text": [
            "Train Epoch 7: 100%|██████████| 77/77 [00:53<00:00,  1.44it/s, WMAPE=1.23, DICE=0.0492, DPEAKS=27.4, Loss=0.00385]\n",
            "Validate Epoch 7: 100%|██████████| 20/20 [00:06<00:00,  3.09it/s, WMAPE=3.79, DICE=0.0493, DPEAKS=28.1, Loss=0.0116]\n"
          ]
        },
        {
          "name": "stdout",
          "output_type": "stream",
          "text": [
            "Epoch [8/50]\n"
          ]
        },
        {
          "name": "stderr",
          "output_type": "stream",
          "text": [
            "Train Epoch 8: 100%|██████████| 77/77 [00:53<00:00,  1.44it/s, WMAPE=1.22, DICE=0.0481, DPEAKS=26.2, Loss=0.00387]\n",
            "Validate Epoch 8: 100%|██████████| 20/20 [00:06<00:00,  3.06it/s, WMAPE=1.63, DICE=0.0508, DPEAKS=32.6, Loss=0.00507]\n"
          ]
        },
        {
          "name": "stdout",
          "output_type": "stream",
          "text": [
            "Saving best model\n",
            "Epoch [9/50]\n"
          ]
        },
        {
          "name": "stderr",
          "output_type": "stream",
          "text": [
            "Train Epoch 9: 100%|██████████| 77/77 [00:53<00:00,  1.44it/s, WMAPE=1.19, DICE=0.0479, DPEAKS=27.3, Loss=0.00375]\n",
            "Validate Epoch 9: 100%|██████████| 20/20 [00:06<00:00,  3.08it/s, WMAPE=2.76, DICE=0.0525, DPEAKS=33.9, Loss=0.00786]\n"
          ]
        },
        {
          "name": "stdout",
          "output_type": "stream",
          "text": [
            "Epoch [10/50]\n"
          ]
        },
        {
          "name": "stderr",
          "output_type": "stream",
          "text": [
            "Train Epoch 10: 100%|██████████| 77/77 [00:53<00:00,  1.43it/s, WMAPE=1.16, DICE=0.0477, DPEAKS=26.5, Loss=0.00368]\n",
            "Validate Epoch 10: 100%|██████████| 20/20 [00:06<00:00,  3.08it/s, WMAPE=2.4, DICE=0.0471, DPEAKS=28.2, Loss=0.00769]\n"
          ]
        },
        {
          "name": "stdout",
          "output_type": "stream",
          "text": [
            "Epoch [11/50]\n"
          ]
        },
        {
          "name": "stderr",
          "output_type": "stream",
          "text": [
            "Train Epoch 11: 100%|██████████| 77/77 [00:53<00:00,  1.43it/s, WMAPE=1.19, DICE=0.0475, DPEAKS=26.2, Loss=0.00378]\n",
            "Validate Epoch 11: 100%|██████████| 20/20 [00:06<00:00,  3.05it/s, WMAPE=2.33, DICE=0.0492, DPEAKS=31.7, Loss=0.00721]\n"
          ]
        },
        {
          "name": "stdout",
          "output_type": "stream",
          "text": [
            "Epoch [12/50]\n"
          ]
        },
        {
          "name": "stderr",
          "output_type": "stream",
          "text": [
            "Train Epoch 12: 100%|██████████| 77/77 [00:53<00:00,  1.44it/s, WMAPE=1.19, DICE=0.0475, DPEAKS=26.2, Loss=0.0038]\n",
            "Validate Epoch 12: 100%|██████████| 20/20 [00:06<00:00,  3.08it/s, WMAPE=1.56, DICE=0.0496, DPEAKS=26.5, Loss=0.00492]\n"
          ]
        },
        {
          "name": "stdout",
          "output_type": "stream",
          "text": [
            "Saving best model\n",
            "Epoch [13/50]\n"
          ]
        },
        {
          "name": "stderr",
          "output_type": "stream",
          "text": [
            "Train Epoch 13: 100%|██████████| 77/77 [00:53<00:00,  1.44it/s, WMAPE=1.26, DICE=0.0481, DPEAKS=27.4, Loss=0.00392]\n",
            "Validate Epoch 13: 100%|██████████| 20/20 [00:06<00:00,  3.04it/s, WMAPE=1.7, DICE=0.0496, DPEAKS=29.8, Loss=0.00533]\n"
          ]
        },
        {
          "name": "stdout",
          "output_type": "stream",
          "text": [
            "Epoch [14/50]\n"
          ]
        },
        {
          "name": "stderr",
          "output_type": "stream",
          "text": [
            "Train Epoch 14: 100%|██████████| 77/77 [00:53<00:00,  1.43it/s, WMAPE=1.17, DICE=0.0471, DPEAKS=25.2, Loss=0.00369]\n",
            "Validate Epoch 14: 100%|██████████| 20/20 [00:06<00:00,  3.06it/s, WMAPE=2.95, DICE=0.0482, DPEAKS=30.9, Loss=0.00921]\n"
          ]
        },
        {
          "name": "stdout",
          "output_type": "stream",
          "text": [
            "Epoch [15/50]\n"
          ]
        },
        {
          "name": "stderr",
          "output_type": "stream",
          "text": [
            "Train Epoch 15: 100%|██████████| 77/77 [00:53<00:00,  1.44it/s, WMAPE=1.18, DICE=0.0471, DPEAKS=25.4, Loss=0.00377]\n",
            "Validate Epoch 15: 100%|██████████| 20/20 [00:06<00:00,  3.07it/s, WMAPE=1.75, DICE=0.0495, DPEAKS=30.7, Loss=0.0055]\n"
          ]
        },
        {
          "name": "stdout",
          "output_type": "stream",
          "text": [
            "Epoch [16/50]\n"
          ]
        },
        {
          "name": "stderr",
          "output_type": "stream",
          "text": [
            "Train Epoch 16: 100%|██████████| 77/77 [00:53<00:00,  1.44it/s, WMAPE=1.18, DICE=0.0462, DPEAKS=25, Loss=0.00376]\n",
            "Validate Epoch 16: 100%|██████████| 20/20 [00:06<00:00,  3.08it/s, WMAPE=1.56, DICE=0.0472, DPEAKS=27.6, Loss=0.00482]\n"
          ]
        },
        {
          "name": "stdout",
          "output_type": "stream",
          "text": [
            "Saving best model\n",
            "Epoch [17/50]\n"
          ]
        },
        {
          "name": "stderr",
          "output_type": "stream",
          "text": [
            "Train Epoch 17: 100%|██████████| 77/77 [00:53<00:00,  1.44it/s, WMAPE=1.17, DICE=0.0465, DPEAKS=24.7, Loss=0.00376]\n",
            "Validate Epoch 17: 100%|██████████| 20/20 [00:06<00:00,  3.04it/s, WMAPE=1.79, DICE=0.0473, DPEAKS=27.9, Loss=0.0054]\n"
          ]
        },
        {
          "name": "stdout",
          "output_type": "stream",
          "text": [
            "Epoch [18/50]\n"
          ]
        },
        {
          "name": "stderr",
          "output_type": "stream",
          "text": [
            "Train Epoch 18: 100%|██████████| 77/77 [00:53<00:00,  1.44it/s, WMAPE=1.17, DICE=0.0459, DPEAKS=25.4, Loss=0.00369]\n",
            "Validate Epoch 18: 100%|██████████| 20/20 [00:06<00:00,  3.07it/s, WMAPE=1.55, DICE=0.0467, DPEAKS=25.2, Loss=0.00484]\n"
          ]
        },
        {
          "name": "stdout",
          "output_type": "stream",
          "text": [
            "Epoch [19/50]\n"
          ]
        },
        {
          "name": "stderr",
          "output_type": "stream",
          "text": [
            "Train Epoch 19: 100%|██████████| 77/77 [00:53<00:00,  1.44it/s, WMAPE=1.18, DICE=0.0459, DPEAKS=25.2, Loss=0.00377]\n",
            "Validate Epoch 19: 100%|██████████| 20/20 [00:06<00:00,  3.07it/s, WMAPE=1.71, DICE=0.0482, DPEAKS=33, Loss=0.00591]\n"
          ]
        },
        {
          "name": "stdout",
          "output_type": "stream",
          "text": [
            "Epoch [20/50]\n"
          ]
        },
        {
          "name": "stderr",
          "output_type": "stream",
          "text": [
            "Train Epoch 20: 100%|██████████| 77/77 [00:53<00:00,  1.44it/s, WMAPE=1.12, DICE=0.0458, DPEAKS=26.2, Loss=0.00357]\n",
            "Validate Epoch 20: 100%|██████████| 20/20 [00:06<00:00,  3.08it/s, WMAPE=1.63, DICE=0.0477, DPEAKS=24.5, Loss=0.00551]\n"
          ]
        },
        {
          "name": "stdout",
          "output_type": "stream",
          "text": [
            "Epoch [21/50]\n"
          ]
        },
        {
          "name": "stderr",
          "output_type": "stream",
          "text": [
            "Train Epoch 21: 100%|██████████| 77/77 [00:53<00:00,  1.43it/s, WMAPE=1.15, DICE=0.0454, DPEAKS=24.2, Loss=0.00365]\n",
            "Validate Epoch 21: 100%|██████████| 20/20 [00:06<00:00,  3.07it/s, WMAPE=3.3, DICE=0.0491, DPEAKS=28.8, Loss=0.00979]\n"
          ]
        },
        {
          "name": "stdout",
          "output_type": "stream",
          "text": [
            "early stopping: 5 epochs without improvement\n",
            "Training complete.\n"
          ]
        },
        {
          "name": "stderr",
          "output_type": "stream",
          "text": [
            "Validate Epoch test: 100%|██████████| 486/486 [02:30<00:00,  3.24it/s, WMAPE=1.61, DICE=0.0471, DPEAKS=26.7, Loss=0.00486]\n"
          ]
        },
        {
          "name": "stdout",
          "output_type": "stream",
          "text": [
            "Partition 52: training decoder\n",
            "Loaded best model from partition 51\n",
            "Epoch [1/50]\n"
          ]
        },
        {
          "name": "stderr",
          "output_type": "stream",
          "text": [
            "Train Epoch 1: 100%|██████████| 77/77 [00:56<00:00,  1.36it/s, WMAPE=1.63, DICE=0.0472, DPEAKS=27.1, Loss=0.00508]\n",
            "Validate Epoch 1: 100%|██████████| 20/20 [00:08<00:00,  2.50it/s, WMAPE=1.98, DICE=0.0485, DPEAKS=27.7, Loss=0.00592]\n"
          ]
        },
        {
          "name": "stdout",
          "output_type": "stream",
          "text": [
            "Saving best model\n",
            "Epoch [2/50]\n"
          ]
        },
        {
          "name": "stderr",
          "output_type": "stream",
          "text": [
            "Train Epoch 2: 100%|██████████| 77/77 [00:51<00:00,  1.50it/s, WMAPE=1.56, DICE=0.0471, DPEAKS=25.5, Loss=0.00486]\n",
            "Validate Epoch 2: 100%|██████████| 20/20 [00:06<00:00,  3.08it/s, WMAPE=3.26, DICE=0.0487, DPEAKS=26.1, Loss=0.00963]\n"
          ]
        },
        {
          "name": "stdout",
          "output_type": "stream",
          "text": [
            "Epoch [3/50]\n"
          ]
        },
        {
          "name": "stderr",
          "output_type": "stream",
          "text": [
            "Train Epoch 3: 100%|██████████| 77/77 [00:51<00:00,  1.50it/s, WMAPE=1.54, DICE=0.049, DPEAKS=29.1, Loss=0.00482]\n",
            "Validate Epoch 3: 100%|██████████| 20/20 [00:06<00:00,  3.06it/s, WMAPE=2.26, DICE=0.062, DPEAKS=44.5, Loss=0.00665]\n"
          ]
        },
        {
          "name": "stdout",
          "output_type": "stream",
          "text": [
            "Epoch [4/50]\n"
          ]
        },
        {
          "name": "stderr",
          "output_type": "stream",
          "text": [
            "Train Epoch 4: 100%|██████████| 77/77 [00:51<00:00,  1.50it/s, WMAPE=1.56, DICE=0.0492, DPEAKS=29.1, Loss=0.00486]\n",
            "Validate Epoch 4: 100%|██████████| 20/20 [00:06<00:00,  3.06it/s, WMAPE=1.55, DICE=0.0483, DPEAKS=28.6, Loss=0.00507]\n"
          ]
        },
        {
          "name": "stdout",
          "output_type": "stream",
          "text": [
            "Saving best model\n",
            "Epoch [5/50]\n"
          ]
        },
        {
          "name": "stderr",
          "output_type": "stream",
          "text": [
            "Train Epoch 5: 100%|██████████| 77/77 [00:51<00:00,  1.50it/s, WMAPE=1.46, DICE=0.0475, DPEAKS=25.3, Loss=0.00461]\n",
            "Validate Epoch 5: 100%|██████████| 20/20 [00:06<00:00,  3.06it/s, WMAPE=1.7, DICE=0.0488, DPEAKS=26.4, Loss=0.0054]\n"
          ]
        },
        {
          "name": "stdout",
          "output_type": "stream",
          "text": [
            "Epoch [6/50]\n"
          ]
        },
        {
          "name": "stderr",
          "output_type": "stream",
          "text": [
            "Train Epoch 6: 100%|██████████| 77/77 [00:51<00:00,  1.50it/s, WMAPE=1.45, DICE=0.0474, DPEAKS=25.5, Loss=0.00456]\n",
            "Validate Epoch 6: 100%|██████████| 20/20 [00:06<00:00,  3.01it/s, WMAPE=2.92, DICE=0.0475, DPEAKS=27.5, Loss=0.00838]\n"
          ]
        },
        {
          "name": "stdout",
          "output_type": "stream",
          "text": [
            "Epoch [7/50]\n"
          ]
        },
        {
          "name": "stderr",
          "output_type": "stream",
          "text": [
            "Train Epoch 7: 100%|██████████| 77/77 [00:51<00:00,  1.51it/s, WMAPE=1.37, DICE=0.047, DPEAKS=24.9, Loss=0.00429]\n",
            "Validate Epoch 7: 100%|██████████| 20/20 [00:06<00:00,  3.07it/s, WMAPE=1.8, DICE=0.0479, DPEAKS=24.9, Loss=0.00573]\n"
          ]
        },
        {
          "name": "stdout",
          "output_type": "stream",
          "text": [
            "Epoch [8/50]\n"
          ]
        },
        {
          "name": "stderr",
          "output_type": "stream",
          "text": [
            "Train Epoch 8: 100%|██████████| 77/77 [00:51<00:00,  1.51it/s, WMAPE=1.39, DICE=0.0473, DPEAKS=25.8, Loss=0.00433]\n",
            "Validate Epoch 8: 100%|██████████| 20/20 [00:06<00:00,  3.07it/s, WMAPE=2.6, DICE=0.047, DPEAKS=27, Loss=0.00814]\n"
          ]
        },
        {
          "name": "stdout",
          "output_type": "stream",
          "text": [
            "Epoch [9/50]\n"
          ]
        },
        {
          "name": "stderr",
          "output_type": "stream",
          "text": [
            "Train Epoch 9: 100%|██████████| 77/77 [00:51<00:00,  1.49it/s, WMAPE=1.28, DICE=0.0469, DPEAKS=25, Loss=0.00404]\n",
            "Validate Epoch 9: 100%|██████████| 20/20 [00:06<00:00,  3.09it/s, WMAPE=3.23, DICE=0.0472, DPEAKS=25.3, Loss=0.00968]\n"
          ]
        },
        {
          "name": "stdout",
          "output_type": "stream",
          "text": [
            "early stopping: 5 epochs without improvement\n",
            "Training complete.\n"
          ]
        },
        {
          "name": "stderr",
          "output_type": "stream",
          "text": [
            "Validate Epoch test: 100%|██████████| 486/486 [02:30<00:00,  3.23it/s, WMAPE=1.55, DICE=0.0484, DPEAKS=27.2, Loss=0.00502]\n"
          ]
        },
        {
          "name": "stdout",
          "output_type": "stream",
          "text": [
            "Partition 53: training decoder\n",
            "Loaded best model from partition 52\n",
            "Epoch [1/50]\n"
          ]
        },
        {
          "name": "stderr",
          "output_type": "stream",
          "text": [
            "Train Epoch 1: 100%|██████████| 77/77 [00:56<00:00,  1.36it/s, WMAPE=1.58, DICE=0.0482, DPEAKS=25.4, Loss=0.00499]\n",
            "Validate Epoch 1: 100%|██████████| 20/20 [00:07<00:00,  2.52it/s, WMAPE=1.49, DICE=0.048, DPEAKS=23.8, Loss=0.00472]\n"
          ]
        },
        {
          "name": "stdout",
          "output_type": "stream",
          "text": [
            "Saving best model\n",
            "Epoch [2/50]\n"
          ]
        },
        {
          "name": "stderr",
          "output_type": "stream",
          "text": [
            "Train Epoch 2: 100%|██████████| 77/77 [00:51<00:00,  1.50it/s, WMAPE=1.49, DICE=0.0472, DPEAKS=23.2, Loss=0.00465]\n",
            "Validate Epoch 2: 100%|██████████| 20/20 [00:06<00:00,  3.08it/s, WMAPE=2.32, DICE=0.0493, DPEAKS=28.8, Loss=0.00695]\n"
          ]
        },
        {
          "name": "stdout",
          "output_type": "stream",
          "text": [
            "Epoch [3/50]\n"
          ]
        },
        {
          "name": "stderr",
          "output_type": "stream",
          "text": [
            "Train Epoch 3: 100%|██████████| 77/77 [00:51<00:00,  1.50it/s, WMAPE=1.48, DICE=0.047, DPEAKS=23.9, Loss=0.00466]\n",
            "Validate Epoch 3: 100%|██████████| 20/20 [00:06<00:00,  3.05it/s, WMAPE=1.6, DICE=0.0469, DPEAKS=23.8, Loss=0.00472]\n"
          ]
        },
        {
          "name": "stdout",
          "output_type": "stream",
          "text": [
            "Saving best model\n",
            "Epoch [4/50]\n"
          ]
        },
        {
          "name": "stderr",
          "output_type": "stream",
          "text": [
            "Train Epoch 4: 100%|██████████| 77/77 [00:51<00:00,  1.48it/s, WMAPE=1.47, DICE=0.0475, DPEAKS=24, Loss=0.00461]\n",
            "Validate Epoch 4: 100%|██████████| 20/20 [00:07<00:00,  2.79it/s, WMAPE=1.64, DICE=0.0489, DPEAKS=26.6, Loss=0.00477]\n"
          ]
        },
        {
          "name": "stdout",
          "output_type": "stream",
          "text": [
            "Epoch [5/50]\n"
          ]
        },
        {
          "name": "stderr",
          "output_type": "stream",
          "text": [
            "Train Epoch 5: 100%|██████████| 77/77 [00:54<00:00,  1.41it/s, WMAPE=1.39, DICE=0.0472, DPEAKS=23.5, Loss=0.0044]\n",
            "Validate Epoch 5: 100%|██████████| 20/20 [00:07<00:00,  2.83it/s, WMAPE=1.65, DICE=0.0475, DPEAKS=25.7, Loss=0.00496]\n"
          ]
        },
        {
          "name": "stdout",
          "output_type": "stream",
          "text": [
            "Epoch [6/50]\n"
          ]
        },
        {
          "name": "stderr",
          "output_type": "stream",
          "text": [
            "Train Epoch 6: 100%|██████████| 77/77 [00:55<00:00,  1.38it/s, WMAPE=1.4, DICE=0.048, DPEAKS=25.9, Loss=0.00447]\n",
            "Validate Epoch 6: 100%|██████████| 20/20 [00:06<00:00,  2.97it/s, WMAPE=2.1, DICE=0.0494, DPEAKS=30.4, Loss=0.00598]\n"
          ]
        },
        {
          "name": "stdout",
          "output_type": "stream",
          "text": [
            "Epoch [7/50]\n"
          ]
        },
        {
          "name": "stderr",
          "output_type": "stream",
          "text": [
            "Train Epoch 7: 100%|██████████| 77/77 [00:54<00:00,  1.41it/s, WMAPE=1.35, DICE=0.0472, DPEAKS=23.9, Loss=0.00426]\n",
            "Validate Epoch 7: 100%|██████████| 20/20 [00:07<00:00,  2.79it/s, WMAPE=2.04, DICE=0.0474, DPEAKS=25.5, Loss=0.0059]\n"
          ]
        },
        {
          "name": "stdout",
          "output_type": "stream",
          "text": [
            "Epoch [8/50]\n"
          ]
        },
        {
          "name": "stderr",
          "output_type": "stream",
          "text": [
            "Train Epoch 8: 100%|██████████| 77/77 [00:52<00:00,  1.46it/s, WMAPE=1.27, DICE=0.0466, DPEAKS=23.3, Loss=0.004]\n",
            "Validate Epoch 8: 100%|██████████| 20/20 [00:06<00:00,  2.86it/s, WMAPE=2.78, DICE=0.0479, DPEAKS=24.4, Loss=0.0081]\n"
          ]
        },
        {
          "name": "stdout",
          "output_type": "stream",
          "text": [
            "early stopping: 5 epochs without improvement\n",
            "Training complete.\n"
          ]
        },
        {
          "name": "stderr",
          "output_type": "stream",
          "text": [
            "Validate Epoch test: 100%|██████████| 486/486 [02:39<00:00,  3.04it/s, WMAPE=1.55, DICE=0.0468, DPEAKS=25, Loss=0.00468]\n"
          ]
        },
        {
          "name": "stdout",
          "output_type": "stream",
          "text": [
            "Partition 54: training decoder\n",
            "Loaded best model from partition 53\n",
            "Epoch [1/50]\n"
          ]
        },
        {
          "name": "stderr",
          "output_type": "stream",
          "text": [
            "Train Epoch 1: 100%|██████████| 77/77 [00:59<00:00,  1.29it/s, WMAPE=1.65, DICE=0.0486, DPEAKS=28.3, Loss=0.0051]\n",
            "Validate Epoch 1: 100%|██████████| 20/20 [00:08<00:00,  2.49it/s, WMAPE=3.44, DICE=0.0483, DPEAKS=25.1, Loss=0.00985]\n"
          ]
        },
        {
          "name": "stdout",
          "output_type": "stream",
          "text": [
            "Saving best model\n",
            "Epoch [2/50]\n"
          ]
        },
        {
          "name": "stderr",
          "output_type": "stream",
          "text": [
            "Train Epoch 2: 100%|██████████| 77/77 [00:52<00:00,  1.46it/s, WMAPE=1.56, DICE=0.0471, DPEAKS=24, Loss=0.00482]\n",
            "Validate Epoch 2: 100%|██████████| 20/20 [00:06<00:00,  3.00it/s, WMAPE=4.11, DICE=0.0491, DPEAKS=27.6, Loss=0.0117]\n"
          ]
        },
        {
          "name": "stdout",
          "output_type": "stream",
          "text": [
            "Epoch [3/50]\n"
          ]
        },
        {
          "name": "stderr",
          "output_type": "stream",
          "text": [
            "Train Epoch 3: 100%|██████████| 77/77 [00:52<00:00,  1.46it/s, WMAPE=1.51, DICE=0.0471, DPEAKS=24.2, Loss=0.00466]\n",
            "Validate Epoch 3: 100%|██████████| 20/20 [00:07<00:00,  2.81it/s, WMAPE=1.8, DICE=0.0493, DPEAKS=26.5, Loss=0.00501]\n"
          ]
        },
        {
          "name": "stdout",
          "output_type": "stream",
          "text": [
            "Saving best model\n",
            "Epoch [4/50]\n"
          ]
        },
        {
          "name": "stderr",
          "output_type": "stream",
          "text": [
            "Train Epoch 4: 100%|██████████| 77/77 [00:52<00:00,  1.45it/s, WMAPE=1.51, DICE=0.0474, DPEAKS=26.1, Loss=0.00465]\n",
            "Validate Epoch 4: 100%|██████████| 20/20 [00:06<00:00,  3.03it/s, WMAPE=1.63, DICE=0.0485, DPEAKS=24.5, Loss=0.00481]\n"
          ]
        },
        {
          "name": "stdout",
          "output_type": "stream",
          "text": [
            "Saving best model\n",
            "Epoch [5/50]\n"
          ]
        },
        {
          "name": "stderr",
          "output_type": "stream",
          "text": [
            "Train Epoch 5: 100%|██████████| 77/77 [00:52<00:00,  1.46it/s, WMAPE=1.44, DICE=0.0473, DPEAKS=25.9, Loss=0.00445]\n",
            "Validate Epoch 5: 100%|██████████| 20/20 [00:06<00:00,  2.97it/s, WMAPE=2.23, DICE=0.0494, DPEAKS=29.3, Loss=0.00639]\n"
          ]
        },
        {
          "name": "stdout",
          "output_type": "stream",
          "text": [
            "Epoch [6/50]\n"
          ]
        },
        {
          "name": "stderr",
          "output_type": "stream",
          "text": [
            "Train Epoch 6: 100%|██████████| 77/77 [00:53<00:00,  1.45it/s, WMAPE=1.43, DICE=0.0474, DPEAKS=25.7, Loss=0.00447]\n",
            "Validate Epoch 6: 100%|██████████| 20/20 [00:06<00:00,  2.98it/s, WMAPE=1.85, DICE=0.0488, DPEAKS=26.4, Loss=0.0051]\n"
          ]
        },
        {
          "name": "stdout",
          "output_type": "stream",
          "text": [
            "Epoch [7/50]\n"
          ]
        },
        {
          "name": "stderr",
          "output_type": "stream",
          "text": [
            "Train Epoch 7: 100%|██████████| 77/77 [00:52<00:00,  1.48it/s, WMAPE=1.4, DICE=0.0472, DPEAKS=25.6, Loss=0.0043]\n",
            "Validate Epoch 7: 100%|██████████| 20/20 [00:06<00:00,  2.92it/s, WMAPE=2.43, DICE=0.0512, DPEAKS=30, Loss=0.00665]\n"
          ]
        },
        {
          "name": "stdout",
          "output_type": "stream",
          "text": [
            "Epoch [8/50]\n"
          ]
        },
        {
          "name": "stderr",
          "output_type": "stream",
          "text": [
            "Train Epoch 8: 100%|██████████| 77/77 [00:52<00:00,  1.45it/s, WMAPE=1.31, DICE=0.0473, DPEAKS=25.2, Loss=0.00414]\n",
            "Validate Epoch 8: 100%|██████████| 20/20 [00:07<00:00,  2.85it/s, WMAPE=1.95, DICE=0.0482, DPEAKS=26.9, Loss=0.00579]\n"
          ]
        },
        {
          "name": "stdout",
          "output_type": "stream",
          "text": [
            "Epoch [9/50]\n"
          ]
        },
        {
          "name": "stderr",
          "output_type": "stream",
          "text": [
            "Train Epoch 9: 100%|██████████| 77/77 [00:56<00:00,  1.37it/s, WMAPE=1.34, DICE=0.0479, DPEAKS=26.5, Loss=0.00423]\n",
            "Validate Epoch 9: 100%|██████████| 20/20 [00:07<00:00,  2.84it/s, WMAPE=2.1, DICE=0.0474, DPEAKS=25.3, Loss=0.0063]\n"
          ]
        },
        {
          "name": "stdout",
          "output_type": "stream",
          "text": [
            "early stopping: 5 epochs without improvement\n",
            "Training complete.\n"
          ]
        },
        {
          "name": "stderr",
          "output_type": "stream",
          "text": [
            "Validate Epoch test: 100%|██████████| 486/486 [02:44<00:00,  2.96it/s, WMAPE=1.5, DICE=0.0483, DPEAKS=27.3, Loss=0.0048]\n"
          ]
        },
        {
          "name": "stdout",
          "output_type": "stream",
          "text": [
            "Partition 55: training decoder\n",
            "Loaded best model from partition 54\n",
            "Epoch [1/50]\n"
          ]
        },
        {
          "name": "stderr",
          "output_type": "stream",
          "text": [
            "Train Epoch 1: 100%|██████████| 77/77 [00:58<00:00,  1.32it/s, WMAPE=1.63, DICE=0.0477, DPEAKS=24.8, Loss=0.00497]\n",
            "Validate Epoch 1: 100%|██████████| 20/20 [00:08<00:00,  2.47it/s, WMAPE=1.69, DICE=0.0478, DPEAKS=21.6, Loss=0.00524]\n"
          ]
        },
        {
          "name": "stdout",
          "output_type": "stream",
          "text": [
            "Saving best model\n",
            "Epoch [2/50]\n"
          ]
        },
        {
          "name": "stderr",
          "output_type": "stream",
          "text": [
            "Train Epoch 2: 100%|██████████| 77/77 [00:54<00:00,  1.40it/s, WMAPE=1.54, DICE=0.0476, DPEAKS=25, Loss=0.00472]\n",
            "Validate Epoch 2: 100%|██████████| 20/20 [00:07<00:00,  2.76it/s, WMAPE=2.69, DICE=0.0481, DPEAKS=24.5, Loss=0.00795]\n"
          ]
        },
        {
          "name": "stdout",
          "output_type": "stream",
          "text": [
            "Epoch [3/50]\n"
          ]
        },
        {
          "name": "stderr",
          "output_type": "stream",
          "text": [
            "Train Epoch 3: 100%|██████████| 77/77 [00:57<00:00,  1.34it/s, WMAPE=1.51, DICE=0.0471, DPEAKS=24.3, Loss=0.00461]\n",
            "Validate Epoch 3: 100%|██████████| 20/20 [00:07<00:00,  2.72it/s, WMAPE=1.49, DICE=0.0484, DPEAKS=23.9, Loss=0.00482]\n"
          ]
        },
        {
          "name": "stdout",
          "output_type": "stream",
          "text": [
            "Saving best model\n",
            "Epoch [4/50]\n"
          ]
        },
        {
          "name": "stderr",
          "output_type": "stream",
          "text": [
            "Train Epoch 4: 100%|██████████| 77/77 [00:57<00:00,  1.35it/s, WMAPE=1.45, DICE=0.0475, DPEAKS=25.6, Loss=0.00448]\n",
            "Validate Epoch 4: 100%|██████████| 20/20 [00:07<00:00,  2.76it/s, WMAPE=3.23, DICE=0.0491, DPEAKS=23.1, Loss=0.00935]\n"
          ]
        },
        {
          "name": "stdout",
          "output_type": "stream",
          "text": [
            "Epoch [5/50]\n"
          ]
        },
        {
          "name": "stderr",
          "output_type": "stream",
          "text": [
            "Train Epoch 5: 100%|██████████| 77/77 [00:57<00:00,  1.34it/s, WMAPE=1.47, DICE=0.0473, DPEAKS=25.8, Loss=0.0045]\n",
            "Validate Epoch 5: 100%|██████████| 20/20 [00:07<00:00,  2.85it/s, WMAPE=2.64, DICE=0.0478, DPEAKS=23.2, Loss=0.00788]\n"
          ]
        },
        {
          "name": "stdout",
          "output_type": "stream",
          "text": [
            "Epoch [6/50]\n"
          ]
        },
        {
          "name": "stderr",
          "output_type": "stream",
          "text": [
            "Train Epoch 6: 100%|██████████| 77/77 [00:54<00:00,  1.41it/s, WMAPE=1.44, DICE=0.0479, DPEAKS=25.8, Loss=0.00443]\n",
            "Validate Epoch 6: 100%|██████████| 20/20 [00:07<00:00,  2.76it/s, WMAPE=1.93, DICE=0.0492, DPEAKS=24.7, Loss=0.0058]\n"
          ]
        },
        {
          "name": "stdout",
          "output_type": "stream",
          "text": [
            "Epoch [7/50]\n"
          ]
        },
        {
          "name": "stderr",
          "output_type": "stream",
          "text": [
            "Train Epoch 7: 100%|██████████| 77/77 [00:57<00:00,  1.34it/s, WMAPE=1.32, DICE=0.0474, DPEAKS=24.8, Loss=0.00411]\n",
            "Validate Epoch 7: 100%|██████████| 20/20 [00:07<00:00,  2.76it/s, WMAPE=4.38, DICE=0.0486, DPEAKS=24.7, Loss=0.0128]\n"
          ]
        },
        {
          "name": "stdout",
          "output_type": "stream",
          "text": [
            "Epoch [8/50]\n"
          ]
        },
        {
          "name": "stderr",
          "output_type": "stream",
          "text": [
            "Train Epoch 8: 100%|██████████| 77/77 [00:57<00:00,  1.35it/s, WMAPE=1.35, DICE=0.0478, DPEAKS=26.5, Loss=0.00419]\n",
            "Validate Epoch 8: 100%|██████████| 20/20 [00:07<00:00,  2.79it/s, WMAPE=1.6, DICE=0.0488, DPEAKS=23.9, Loss=0.00506]\n"
          ]
        },
        {
          "name": "stdout",
          "output_type": "stream",
          "text": [
            "early stopping: 5 epochs without improvement\n",
            "Training complete.\n"
          ]
        },
        {
          "name": "stderr",
          "output_type": "stream",
          "text": [
            "Validate Epoch test: 100%|██████████| 486/486 [02:39<00:00,  3.05it/s, WMAPE=1.52, DICE=0.0481, DPEAKS=27.7, Loss=0.00487]\n"
          ]
        },
        {
          "name": "stdout",
          "output_type": "stream",
          "text": [
            "Partition 56: training full\n",
            "Loaded best model from partition 55\n",
            "Epoch [1/50]\n"
          ]
        },
        {
          "name": "stderr",
          "output_type": "stream",
          "text": [
            "Train Epoch 1: 100%|██████████| 77/77 [01:04<00:00,  1.19it/s, WMAPE=1.67, DICE=0.0516, DPEAKS=32.1, Loss=0.00517]\n",
            "Validate Epoch 1: 100%|██████████| 20/20 [00:08<00:00,  2.34it/s, WMAPE=1.94, DICE=0.0585, DPEAKS=37.7, Loss=0.00622]\n"
          ]
        },
        {
          "name": "stdout",
          "output_type": "stream",
          "text": [
            "Saving best model\n",
            "Epoch [2/50]\n"
          ]
        },
        {
          "name": "stderr",
          "output_type": "stream",
          "text": [
            "Train Epoch 2: 100%|██████████| 77/77 [00:58<00:00,  1.32it/s, WMAPE=1.56, DICE=0.049, DPEAKS=28.5, Loss=0.00483]\n",
            "Validate Epoch 2: 100%|██████████| 20/20 [00:07<00:00,  2.77it/s, WMAPE=1.58, DICE=0.0478, DPEAKS=28.9, Loss=0.00498]\n"
          ]
        },
        {
          "name": "stdout",
          "output_type": "stream",
          "text": [
            "Saving best model\n",
            "Epoch [3/50]\n"
          ]
        },
        {
          "name": "stderr",
          "output_type": "stream",
          "text": [
            "Train Epoch 3: 100%|██████████| 77/77 [00:59<00:00,  1.29it/s, WMAPE=1.44, DICE=0.0478, DPEAKS=26.4, Loss=0.00447]\n",
            "Validate Epoch 3: 100%|██████████| 20/20 [00:07<00:00,  2.83it/s, WMAPE=2.39, DICE=0.0507, DPEAKS=32.6, Loss=0.00671]\n"
          ]
        },
        {
          "name": "stdout",
          "output_type": "stream",
          "text": [
            "Epoch [4/50]\n"
          ]
        },
        {
          "name": "stderr",
          "output_type": "stream",
          "text": [
            "Train Epoch 4: 100%|██████████| 77/77 [00:57<00:00,  1.35it/s, WMAPE=1.37, DICE=0.048, DPEAKS=27.8, Loss=0.00426]\n",
            "Validate Epoch 4: 100%|██████████| 20/20 [00:07<00:00,  2.77it/s, WMAPE=1.64, DICE=0.0501, DPEAKS=27.5, Loss=0.00509]\n"
          ]
        },
        {
          "name": "stdout",
          "output_type": "stream",
          "text": [
            "Epoch [5/50]\n"
          ]
        },
        {
          "name": "stderr",
          "output_type": "stream",
          "text": [
            "Train Epoch 5: 100%|██████████| 77/77 [00:59<00:00,  1.29it/s, WMAPE=1.3, DICE=0.0473, DPEAKS=26.7, Loss=0.0041]\n",
            "Validate Epoch 5: 100%|██████████| 20/20 [00:07<00:00,  2.77it/s, WMAPE=1.84, DICE=0.0486, DPEAKS=26, Loss=0.00521]\n"
          ]
        },
        {
          "name": "stdout",
          "output_type": "stream",
          "text": [
            "Epoch [6/50]\n"
          ]
        },
        {
          "name": "stderr",
          "output_type": "stream",
          "text": [
            "Train Epoch 6: 100%|██████████| 77/77 [01:00<00:00,  1.28it/s, WMAPE=1.22, DICE=0.0464, DPEAKS=25.1, Loss=0.00386]\n",
            "Validate Epoch 6: 100%|██████████| 20/20 [00:07<00:00,  2.77it/s, WMAPE=4.11, DICE=0.0465, DPEAKS=25.5, Loss=0.0111]\n"
          ]
        },
        {
          "name": "stdout",
          "output_type": "stream",
          "text": [
            "Epoch [7/50]\n"
          ]
        },
        {
          "name": "stderr",
          "output_type": "stream",
          "text": [
            "Train Epoch 7: 100%|██████████| 77/77 [00:57<00:00,  1.33it/s, WMAPE=1.15, DICE=0.0462, DPEAKS=24.5, Loss=0.00366]\n",
            "Validate Epoch 7: 100%|██████████| 20/20 [00:06<00:00,  3.02it/s, WMAPE=2.89, DICE=0.0476, DPEAKS=27, Loss=0.00887]\n"
          ]
        },
        {
          "name": "stdout",
          "output_type": "stream",
          "text": [
            "Epoch [8/50]\n"
          ]
        },
        {
          "name": "stderr",
          "output_type": "stream",
          "text": [
            "Train Epoch 8: 100%|██████████| 77/77 [00:53<00:00,  1.43it/s, WMAPE=1.15, DICE=0.0457, DPEAKS=24.2, Loss=0.00363]\n",
            "Validate Epoch 8: 100%|██████████| 20/20 [00:06<00:00,  3.05it/s, WMAPE=2.24, DICE=0.0474, DPEAKS=24.5, Loss=0.00601]\n"
          ]
        },
        {
          "name": "stdout",
          "output_type": "stream",
          "text": [
            "early stopping: 6 epochs without improvement\n",
            "Training complete.\n"
          ]
        },
        {
          "name": "stderr",
          "output_type": "stream",
          "text": [
            "Validate Epoch test: 100%|██████████| 486/486 [02:33<00:00,  3.16it/s, WMAPE=1.56, DICE=0.0479, DPEAKS=27.1, Loss=0.00501]\n"
          ]
        },
        {
          "name": "stdout",
          "output_type": "stream",
          "text": [
            "Partition 57: training decoder\n",
            "Loaded best model from partition 56\n",
            "Epoch [1/50]\n"
          ]
        },
        {
          "name": "stderr",
          "output_type": "stream",
          "text": [
            "Train Epoch 1: 100%|██████████| 77/77 [01:00<00:00,  1.27it/s, WMAPE=1.63, DICE=0.0486, DPEAKS=26.6, Loss=0.00508]\n",
            "Validate Epoch 1: 100%|██████████| 20/20 [00:08<00:00,  2.31it/s, WMAPE=1.95, DICE=0.0489, DPEAKS=27.4, Loss=0.00538]\n"
          ]
        },
        {
          "name": "stdout",
          "output_type": "stream",
          "text": [
            "Saving best model\n",
            "Epoch [2/50]\n"
          ]
        },
        {
          "name": "stderr",
          "output_type": "stream",
          "text": [
            "Train Epoch 2:  87%|████████▋ | 67/77 [00:49<00:07,  1.33it/s, loss=0.0047] "
          ]
        },
        {
          "ename": "KeyboardInterrupt",
          "evalue": "",
          "output_type": "error",
          "traceback": [
            "\u001b[0;31m---------------------------------------------------------------------------\u001b[0m",
            "\u001b[0;31mKeyboardInterrupt\u001b[0m                         Traceback (most recent call last)",
            "Cell \u001b[0;32mIn[14], line 1\u001b[0m\n\u001b[0;32m----> 1\u001b[0m \u001b[43mmany_partitions_v2\u001b[49m\u001b[43m(\u001b[49m\u001b[38;5;241;43m40\u001b[39;49m\u001b[43m,\u001b[49m\u001b[38;5;241;43m60\u001b[39;49m\u001b[43m,\u001b[49m\u001b[43mmodel\u001b[49m\u001b[43m,\u001b[49m\u001b[43mcriterion\u001b[49m\u001b[43m,\u001b[49m\u001b[43mtransform\u001b[49m\u001b[38;5;241;43m=\u001b[39;49m\u001b[43mtransform\u001b[49m\u001b[43m)\u001b[49m\n",
            "Cell \u001b[0;32mIn[9], line 25\u001b[0m, in \u001b[0;36mmany_partitions_v2\u001b[0;34m(start, end, model, criterion, transform, full_frecuency)\u001b[0m\n\u001b[1;32m     21\u001b[0m last_checkpoint_path \u001b[38;5;241m=\u001b[39m os\u001b[38;5;241m.\u001b[39mpath\u001b[38;5;241m.\u001b[39mjoin(\n\u001b[1;32m     22\u001b[0m     \u001b[38;5;124m\"\u001b[39m\u001b[38;5;124mmodels\u001b[39m\u001b[38;5;124m\"\u001b[39m, \u001b[38;5;124mf\u001b[39m\u001b[38;5;124m\"\u001b[39m\u001b[38;5;124mlast_checkpoint_partition_\u001b[39m\u001b[38;5;132;01m{\u001b[39;00mcurrent_partition\u001b[38;5;132;01m}\u001b[39;00m\u001b[38;5;124m.pth\u001b[39m\u001b[38;5;124m\"\u001b[39m\n\u001b[1;32m     23\u001b[0m )\n\u001b[1;32m     24\u001b[0m optimizer \u001b[38;5;241m=\u001b[39m optim\u001b[38;5;241m.\u001b[39mAdamW(model\u001b[38;5;241m.\u001b[39mparameters())\n\u001b[0;32m---> 25\u001b[0m \u001b[43mtrain_model\u001b[49m\u001b[43m(\u001b[49m\n\u001b[1;32m     26\u001b[0m \u001b[43m    \u001b[49m\u001b[43mmodel\u001b[49m\u001b[43m,\u001b[49m\n\u001b[1;32m     27\u001b[0m \u001b[43m    \u001b[49m\u001b[43mtrain_loader\u001b[49m\u001b[43m,\u001b[49m\n\u001b[1;32m     28\u001b[0m \u001b[43m    \u001b[49m\u001b[43mval_loader\u001b[49m\u001b[43m,\u001b[49m\n\u001b[1;32m     29\u001b[0m \u001b[43m    \u001b[49m\u001b[43mbest_model_path\u001b[49m\u001b[43m,\u001b[49m\n\u001b[1;32m     30\u001b[0m \u001b[43m    \u001b[49m\u001b[43mlast_checkpoint_path\u001b[49m\u001b[43m,\u001b[49m\n\u001b[1;32m     31\u001b[0m \u001b[43m    \u001b[49m\u001b[43mcriterion\u001b[49m\u001b[43m,\u001b[49m\n\u001b[1;32m     32\u001b[0m \u001b[43m    \u001b[49m\u001b[43moptimizer\u001b[49m\u001b[43m,\u001b[49m\n\u001b[1;32m     33\u001b[0m \u001b[43m    \u001b[49m\u001b[43mnum_epochs\u001b[49m\u001b[38;5;241;43m=\u001b[39;49m\u001b[38;5;241;43m50\u001b[39;49m\u001b[43m,\u001b[49m\n\u001b[1;32m     34\u001b[0m \u001b[43m    \u001b[49m\u001b[43mdevice\u001b[49m\u001b[38;5;241;43m=\u001b[39;49m\u001b[43mDEVICE\u001b[49m\u001b[43m,\u001b[49m\n\u001b[1;32m     35\u001b[0m \u001b[43m    \u001b[49m\u001b[43mearly_stopping_patience\u001b[49m\u001b[38;5;241;43m=\u001b[39;49m\u001b[43mEARLY_STOPPING_PATIENCE\u001b[49m\u001b[43m,\u001b[49m\n\u001b[1;32m     36\u001b[0m \u001b[43m    \u001b[49m\u001b[43muse_autocast\u001b[49m\u001b[38;5;241;43m=\u001b[39;49m\u001b[43mUSE_AUTOCAST\u001b[49m\u001b[43m,\u001b[49m\n\u001b[1;32m     37\u001b[0m \u001b[43m    \u001b[49m\u001b[43mearly_stopping_grace_period\u001b[49m\u001b[38;5;241;43m=\u001b[39;49m\u001b[43mEARLY_STOPPING_GRACE_PERIOD\u001b[49m\u001b[43m,\u001b[49m\n\u001b[1;32m     38\u001b[0m \u001b[43m\u001b[49m\u001b[43m)\u001b[49m\n\u001b[1;32m     39\u001b[0m \u001b[38;5;28;01mif\u001b[39;00m os\u001b[38;5;241m.\u001b[39mpath\u001b[38;5;241m.\u001b[39mexists(best_model_path):\n\u001b[1;32m     40\u001b[0m     model\u001b[38;5;241m.\u001b[39mload_state_dict(torch\u001b[38;5;241m.\u001b[39mload(best_model_path,weights_only\u001b[38;5;241m=\u001b[39m\u001b[38;5;28;01mTrue\u001b[39;00m))\n",
            "File \u001b[0;32m~/Documents/dataton/common/purrfect/training.py:123\u001b[0m, in \u001b[0;36mtrain_model\u001b[0;34m(model, train_loader, val_loader, best_model_path, last_checkpoint_path, criterion, optimizer, num_epochs, device, early_stopping_patience, use_autocast, early_stopping_grace_period)\u001b[0m\n\u001b[1;32m    120\u001b[0m \u001b[38;5;28mprint\u001b[39m(\u001b[38;5;124mf\u001b[39m\u001b[38;5;124m\"\u001b[39m\u001b[38;5;124mEpoch [\u001b[39m\u001b[38;5;132;01m{\u001b[39;00mepoch\u001b[38;5;132;01m}\u001b[39;00m\u001b[38;5;124m/\u001b[39m\u001b[38;5;132;01m{\u001b[39;00mnum_epochs\u001b[38;5;132;01m}\u001b[39;00m\u001b[38;5;124m]\u001b[39m\u001b[38;5;124m\"\u001b[39m)\n\u001b[1;32m    122\u001b[0m \u001b[38;5;66;03m# Train the model\u001b[39;00m\n\u001b[0;32m--> 123\u001b[0m \u001b[43mtrain_validate\u001b[49m\u001b[43m(\u001b[49m\n\u001b[1;32m    124\u001b[0m \u001b[43m    \u001b[49m\u001b[43mmodel\u001b[49m\u001b[43m,\u001b[49m\u001b[43m \u001b[49m\u001b[43mtrain_loader\u001b[49m\u001b[43m,\u001b[49m\u001b[43m \u001b[49m\u001b[43mcriterion\u001b[49m\u001b[43m,\u001b[49m\u001b[43m \u001b[49m\u001b[43moptimizer\u001b[49m\u001b[43m,\u001b[49m\u001b[43m \u001b[49m\u001b[43mepoch\u001b[49m\u001b[43m,\u001b[49m\u001b[43m \u001b[49m\u001b[43mmetric_accumulator\u001b[49m\u001b[43m,\u001b[49m\u001b[43m \u001b[49m\u001b[43mdevice\u001b[49m\u001b[43m,\u001b[49m\u001b[43m \u001b[49m\u001b[43muse_autocast\u001b[49m\n\u001b[1;32m    125\u001b[0m \u001b[43m\u001b[49m\u001b[43m)\u001b[49m\n\u001b[1;32m    127\u001b[0m \u001b[38;5;66;03m# Validate the model\u001b[39;00m\n\u001b[1;32m    128\u001b[0m validate_loss \u001b[38;5;241m=\u001b[39m train_validate(\n\u001b[1;32m    129\u001b[0m     model,\n\u001b[1;32m    130\u001b[0m     val_loader,\n\u001b[0;32m   (...)\u001b[0m\n\u001b[1;32m    135\u001b[0m     use_autocast \u001b[38;5;241m=\u001b[39m use_autocast\n\u001b[1;32m    136\u001b[0m )\n",
            "File \u001b[0;32m~/Documents/dataton/common/purrfect/training.py:52\u001b[0m, in \u001b[0;36mtrain_validate\u001b[0;34m(model, loader, criterion, optimizer, epoch, metric_accumulator, device, use_autocast)\u001b[0m\n\u001b[1;32m     50\u001b[0m     \u001b[38;5;66;03m# Scale the loss before backpropagation for mixed precision\u001b[39;00m\n\u001b[1;32m     51\u001b[0m     scaler\u001b[38;5;241m.\u001b[39mscale(loss)\u001b[38;5;241m.\u001b[39mbackward()\n\u001b[0;32m---> 52\u001b[0m     \u001b[43mscaler\u001b[49m\u001b[38;5;241;43m.\u001b[39;49m\u001b[43mstep\u001b[49m\u001b[43m(\u001b[49m\u001b[43moptimizer\u001b[49m\u001b[43m)\u001b[49m\n\u001b[1;32m     53\u001b[0m     scaler\u001b[38;5;241m.\u001b[39mupdate()\n\u001b[1;32m     55\u001b[0m total_loss \u001b[38;5;241m+\u001b[39m\u001b[38;5;241m=\u001b[39m loss\u001b[38;5;241m.\u001b[39mitem()\n",
            "File \u001b[0;32m~/miniconda3/envs/dataton/lib/python3.12/site-packages/torch/amp/grad_scaler.py:454\u001b[0m, in \u001b[0;36mGradScaler.step\u001b[0;34m(self, optimizer, *args, **kwargs)\u001b[0m\n\u001b[1;32m    448\u001b[0m     \u001b[38;5;28mself\u001b[39m\u001b[38;5;241m.\u001b[39munscale_(optimizer)\n\u001b[1;32m    450\u001b[0m \u001b[38;5;28;01massert\u001b[39;00m (\n\u001b[1;32m    451\u001b[0m     \u001b[38;5;28mlen\u001b[39m(optimizer_state[\u001b[38;5;124m\"\u001b[39m\u001b[38;5;124mfound_inf_per_device\u001b[39m\u001b[38;5;124m\"\u001b[39m]) \u001b[38;5;241m>\u001b[39m \u001b[38;5;241m0\u001b[39m\n\u001b[1;32m    452\u001b[0m ), \u001b[38;5;124m\"\u001b[39m\u001b[38;5;124mNo inf checks were recorded for this optimizer.\u001b[39m\u001b[38;5;124m\"\u001b[39m\n\u001b[0;32m--> 454\u001b[0m retval \u001b[38;5;241m=\u001b[39m \u001b[38;5;28;43mself\u001b[39;49m\u001b[38;5;241;43m.\u001b[39;49m\u001b[43m_maybe_opt_step\u001b[49m\u001b[43m(\u001b[49m\u001b[43moptimizer\u001b[49m\u001b[43m,\u001b[49m\u001b[43m \u001b[49m\u001b[43moptimizer_state\u001b[49m\u001b[43m,\u001b[49m\u001b[43m \u001b[49m\u001b[38;5;241;43m*\u001b[39;49m\u001b[43margs\u001b[49m\u001b[43m,\u001b[49m\u001b[43m \u001b[49m\u001b[38;5;241;43m*\u001b[39;49m\u001b[38;5;241;43m*\u001b[39;49m\u001b[43mkwargs\u001b[49m\u001b[43m)\u001b[49m\n\u001b[1;32m    456\u001b[0m optimizer_state[\u001b[38;5;124m\"\u001b[39m\u001b[38;5;124mstage\u001b[39m\u001b[38;5;124m\"\u001b[39m] \u001b[38;5;241m=\u001b[39m OptState\u001b[38;5;241m.\u001b[39mSTEPPED\n\u001b[1;32m    458\u001b[0m \u001b[38;5;28;01mreturn\u001b[39;00m retval\n",
            "File \u001b[0;32m~/miniconda3/envs/dataton/lib/python3.12/site-packages/torch/amp/grad_scaler.py:351\u001b[0m, in \u001b[0;36mGradScaler._maybe_opt_step\u001b[0;34m(self, optimizer, optimizer_state, *args, **kwargs)\u001b[0m\n\u001b[1;32m    343\u001b[0m \u001b[38;5;28;01mdef\u001b[39;00m \u001b[38;5;21m_maybe_opt_step\u001b[39m(\n\u001b[1;32m    344\u001b[0m     \u001b[38;5;28mself\u001b[39m,\n\u001b[1;32m    345\u001b[0m     optimizer: torch\u001b[38;5;241m.\u001b[39moptim\u001b[38;5;241m.\u001b[39mOptimizer,\n\u001b[0;32m   (...)\u001b[0m\n\u001b[1;32m    348\u001b[0m     \u001b[38;5;241m*\u001b[39m\u001b[38;5;241m*\u001b[39mkwargs: Any,\n\u001b[1;32m    349\u001b[0m ) \u001b[38;5;241m-\u001b[39m\u001b[38;5;241m>\u001b[39m Optional[\u001b[38;5;28mfloat\u001b[39m]:\n\u001b[1;32m    350\u001b[0m     retval: Optional[\u001b[38;5;28mfloat\u001b[39m] \u001b[38;5;241m=\u001b[39m \u001b[38;5;28;01mNone\u001b[39;00m\n\u001b[0;32m--> 351\u001b[0m     \u001b[38;5;28;01mif\u001b[39;00m \u001b[38;5;129;01mnot\u001b[39;00m \u001b[38;5;28;43msum\u001b[39;49m\u001b[43m(\u001b[49m\u001b[43mv\u001b[49m\u001b[38;5;241;43m.\u001b[39;49m\u001b[43mitem\u001b[49m\u001b[43m(\u001b[49m\u001b[43m)\u001b[49m\u001b[43m \u001b[49m\u001b[38;5;28;43;01mfor\u001b[39;49;00m\u001b[43m \u001b[49m\u001b[43mv\u001b[49m\u001b[43m \u001b[49m\u001b[38;5;129;43;01min\u001b[39;49;00m\u001b[43m \u001b[49m\u001b[43moptimizer_state\u001b[49m\u001b[43m[\u001b[49m\u001b[38;5;124;43m\"\u001b[39;49m\u001b[38;5;124;43mfound_inf_per_device\u001b[39;49m\u001b[38;5;124;43m\"\u001b[39;49m\u001b[43m]\u001b[49m\u001b[38;5;241;43m.\u001b[39;49m\u001b[43mvalues\u001b[49m\u001b[43m(\u001b[49m\u001b[43m)\u001b[49m\u001b[43m)\u001b[49m:\n\u001b[1;32m    352\u001b[0m         retval \u001b[38;5;241m=\u001b[39m optimizer\u001b[38;5;241m.\u001b[39mstep(\u001b[38;5;241m*\u001b[39margs, \u001b[38;5;241m*\u001b[39m\u001b[38;5;241m*\u001b[39mkwargs)\n\u001b[1;32m    353\u001b[0m     \u001b[38;5;28;01mreturn\u001b[39;00m retval\n",
            "File \u001b[0;32m~/miniconda3/envs/dataton/lib/python3.12/site-packages/torch/amp/grad_scaler.py:351\u001b[0m, in \u001b[0;36m<genexpr>\u001b[0;34m(.0)\u001b[0m\n\u001b[1;32m    343\u001b[0m \u001b[38;5;28;01mdef\u001b[39;00m \u001b[38;5;21m_maybe_opt_step\u001b[39m(\n\u001b[1;32m    344\u001b[0m     \u001b[38;5;28mself\u001b[39m,\n\u001b[1;32m    345\u001b[0m     optimizer: torch\u001b[38;5;241m.\u001b[39moptim\u001b[38;5;241m.\u001b[39mOptimizer,\n\u001b[0;32m   (...)\u001b[0m\n\u001b[1;32m    348\u001b[0m     \u001b[38;5;241m*\u001b[39m\u001b[38;5;241m*\u001b[39mkwargs: Any,\n\u001b[1;32m    349\u001b[0m ) \u001b[38;5;241m-\u001b[39m\u001b[38;5;241m>\u001b[39m Optional[\u001b[38;5;28mfloat\u001b[39m]:\n\u001b[1;32m    350\u001b[0m     retval: Optional[\u001b[38;5;28mfloat\u001b[39m] \u001b[38;5;241m=\u001b[39m \u001b[38;5;28;01mNone\u001b[39;00m\n\u001b[0;32m--> 351\u001b[0m     \u001b[38;5;28;01mif\u001b[39;00m \u001b[38;5;129;01mnot\u001b[39;00m \u001b[38;5;28msum\u001b[39m(\u001b[43mv\u001b[49m\u001b[38;5;241;43m.\u001b[39;49m\u001b[43mitem\u001b[49m\u001b[43m(\u001b[49m\u001b[43m)\u001b[49m \u001b[38;5;28;01mfor\u001b[39;00m v \u001b[38;5;129;01min\u001b[39;00m optimizer_state[\u001b[38;5;124m\"\u001b[39m\u001b[38;5;124mfound_inf_per_device\u001b[39m\u001b[38;5;124m\"\u001b[39m]\u001b[38;5;241m.\u001b[39mvalues()):\n\u001b[1;32m    352\u001b[0m         retval \u001b[38;5;241m=\u001b[39m optimizer\u001b[38;5;241m.\u001b[39mstep(\u001b[38;5;241m*\u001b[39margs, \u001b[38;5;241m*\u001b[39m\u001b[38;5;241m*\u001b[39mkwargs)\n\u001b[1;32m    353\u001b[0m     \u001b[38;5;28;01mreturn\u001b[39;00m retval\n",
            "\u001b[0;31mKeyboardInterrupt\u001b[0m: "
          ]
        }
      ],
      "source": [
        "many_partitions_v2(40,60,model,criterion,transform=transform)"
      ]
    },
    {
      "cell_type": "code",
      "execution_count": null,
      "metadata": {},
      "outputs": [],
      "source": []
    }
  ],
  "metadata": {
    "accelerator": "GPU",
    "colab": {
      "gpuType": "T4",
      "provenance": []
    },
    "kernelspec": {
      "display_name": "Python 3",
      "name": "python3"
    },
    "language_info": {
      "codemirror_mode": {
        "name": "ipython",
        "version": 3
      },
      "file_extension": ".py",
      "mimetype": "text/x-python",
      "name": "python",
      "nbconvert_exporter": "python",
      "pygments_lexer": "ipython3",
      "version": "3.12.5"
    }
  },
  "nbformat": 4,
  "nbformat_minor": 0
}
